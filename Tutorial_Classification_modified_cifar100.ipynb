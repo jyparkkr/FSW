{
 "cells": [
  {
   "cell_type": "code",
   "execution_count": 1,
   "id": "b0c3b92f",
   "metadata": {},
   "outputs": [
    {
     "name": "stdout",
     "output_type": "stream",
     "text": [
      "output_dir=./outputs/demo/dataset=CIFAR100/seed=10_epoch=100_lr=0.1_alpha=0.001_tau=10\n"
     ]
    }
   ],
   "source": [
    "import numpy as np\n",
    "import random\n",
    "\n",
    "import torch\n",
    "import torch.nn.functional as F\n",
    "import cl_gym as cl\n",
    "\n",
    "import sys\n",
    "import os\n",
    "\n",
    "seed = 10\n",
    "\n",
    "np.random.seed(seed)\n",
    "torch.manual_seed(seed)\n",
    "np.random.seed(seed)\n",
    "random.seed(seed)\n",
    "torch.cuda.manual_seed_all(seed)\n",
    "torch.manual_seed(seed)\n",
    "torch.backends.cudnn.deterministic = True\n",
    "torch.backends.cudnn.benchmark = True\n",
    "torch.backends.cudnn.enabled = False\n",
    "torch.backends.cudnn.benchmark = False\n",
    "torch.set_num_threads(8)\n",
    "\n",
    "def make_params() -> dict:\n",
    "    import os\n",
    "    from pathlib import Path\n",
    "    import uuid\n",
    "\n",
    "    params = {\n",
    "            # dataset\n",
    "            'dataset': \"CIFAR100\",\n",
    "            'random_class_idx': False,\n",
    "\n",
    "            # benchmark\n",
    "            'seed': seed,\n",
    "            'num_tasks': 10,\n",
    "            'epochs_per_task': 100,\n",
    "            # 'per_task_examples': np.inf,\n",
    "            'per_task_examples': 10000,\n",
    "            'per_task_memory_examples': 32,\n",
    "            'batch_size_train': 256,\n",
    "            'batch_size_memory': 64,\n",
    "            'batch_size_validation': 256,\n",
    "            'tau': 10,\n",
    "            # 'tau': 0.0,\n",
    "\n",
    "            # algorithm\n",
    "            'optimizer': 'sgd',\n",
    "            'learning_rate': 0.1,\n",
    "            'learning_rate_decay_epoch': [30, 50, 70, 90],\n",
    "            'momentum': 0.9,\n",
    "            'learning_rate_decay': 1.0,\n",
    "            'criterion': torch.nn.CrossEntropyLoss(),\n",
    "            'device': torch.device('cuda:7' if torch.cuda.is_available() else 'cpu'),\n",
    "             \n",
    "            # sample selection\n",
    "            'alpha':0.001,\n",
    "            'lambda': .01,\n",
    "            'lambda_old': 0.0,\n",
    "              }\n",
    "\n",
    "#     trial_id = str(uuid.uuid4())\n",
    "    trial_id = f\"demo/dataset={params['dataset']}/seed={params['seed']}_epoch={params['epochs_per_task']}_lr={params['learning_rate']}_alpha={params['alpha']}_tau={params['tau']}\"\n",
    "    params['trial_id'] = trial_id\n",
    "    params['output_dir'] = os.path.join(\"./outputs/{}\".format(trial_id))\n",
    "    print(f\"output_dir={params['output_dir']}\")\n",
    "    Path(params['output_dir']).mkdir(parents=True, exist_ok=True)\n",
    "\n",
    "    return params\n",
    "\n",
    "params = make_params()"
   ]
  },
  {
   "cell_type": "code",
   "execution_count": 2,
   "id": "93b43ace",
   "metadata": {},
   "outputs": [
    {
     "name": "stdout",
     "output_type": "stream",
     "text": [
      "[ 0  1  2  3  4  5  6  7  8  9 10 11 12 13 14 15 16 17 18 19 20 21 22 23\n",
      " 24 25 26 27 28 29 30 31 32 33 34 35 36 37 38 39 40 41 42 43 44 45 46 47\n",
      " 48 49 50 51 52 53 54 55 56 57 58 59 60 61 62 63 64 65 66 67 68 69 70 71\n",
      " 72 73 74 75 76 77 78 79 80 81 82 83 84 85 86 87 88 89 90 91 92 93 94 95\n",
      " 96 97 98 99]\n",
      "Files already downloaded and verified\n",
      "Files already downloaded and verified\n"
     ]
    }
   ],
   "source": [
    "from datasets import MNIST\n",
    "from datasets import FashionMNIST\n",
    "from datasets import CIFAR10, CIFAR100\n",
    "\n",
    "if params['dataset'] == 'MNIST':\n",
    "    benchmark = MNIST(num_tasks=params['num_tasks'],\n",
    "                    per_task_memory_examples=params['per_task_memory_examples'],\n",
    "                    per_task_examples = params['per_task_examples'],\n",
    "                    random_class_idx = params['random_class_idx'])\n",
    "    input_dim = (28, 28)\n",
    "elif params['dataset'] == 'FashionMNIST':\n",
    "    benchmark = FashionMNIST(num_tasks=params['num_tasks'],\n",
    "                            per_task_memory_examples=params['per_task_memory_examples'],\n",
    "                            per_task_examples = params['per_task_examples'],\n",
    "                            random_class_idx = params['random_class_idx'])\n",
    "    input_dim = (28, 28)\n",
    "elif params['dataset'] == 'CIFAR10':\n",
    "    benchmark = CIFAR10(num_tasks=params['num_tasks'],\n",
    "                        per_task_memory_examples=params['per_task_memory_examples'],\n",
    "                        per_task_examples = params['per_task_examples'],\n",
    "                        random_class_idx = params['random_class_idx'])\n",
    "    input_dim = (3, 32, 32)\n",
    "elif params['dataset'] == 'CIFAR100':        \n",
    "    benchmark = CIFAR100(num_tasks=params['num_tasks'],\n",
    "                        per_task_memory_examples=params['per_task_memory_examples'],\n",
    "                        per_task_examples = params['per_task_examples'],\n",
    "                        random_class_idx = params['random_class_idx'])\n",
    "    input_dim = (3, 32, 32)\n",
    "else:\n",
    "    raise NotImplementedError\n",
    "class_idx = benchmark.class_idx\n",
    "num_classes = len(class_idx)\n",
    "\n"
   ]
  },
  {
   "cell_type": "code",
   "execution_count": 3,
   "id": "771c0885",
   "metadata": {},
   "outputs": [
    {
     "data": {
      "text/plain": [
       "8"
      ]
     },
     "execution_count": 3,
     "metadata": {},
     "output_type": "execute_result"
    }
   ],
   "source": [
    "torch.get_num_threads()"
   ]
  },
  {
   "cell_type": "code",
   "execution_count": 4,
   "id": "1ff7e6d8",
   "metadata": {},
   "outputs": [
    {
     "data": {
      "text/plain": [
       "100"
      ]
     },
     "execution_count": 4,
     "metadata": {},
     "output_type": "execute_result"
    }
   ],
   "source": [
    "num_classes"
   ]
  },
  {
   "cell_type": "code",
   "execution_count": 5,
   "id": "20c7b886",
   "metadata": {},
   "outputs": [],
   "source": [
    "from algorithms.imbalance import Heuristic2\n",
    "from metrics import MetricCollector2\n",
    "from backbones import MLP2Layers2\n",
    "\n",
    "from backbones import ResNet18Small2\n",
    "backbone = ResNet18Small2(\n",
    "    input_dim=input_dim, \n",
    "    output_dim=num_classes,\n",
    "    class_idx=class_idx,\n",
    "    config=params\n",
    "    ).to(params['device'])\n",
    "algorithm = Heuristic2(backbone, benchmark, params, requires_memory=True)\n",
    "metric_manager_callback = MetricCollector2(num_tasks=params['num_tasks'],\n",
    "                                                        eval_interval='epoch',\n",
    "                                                        epochs_per_task=params['epochs_per_task'])"
   ]
  },
  {
   "cell_type": "code",
   "execution_count": 6,
   "id": "d8efa3ad",
   "metadata": {},
   "outputs": [],
   "source": [
    "from trainers import ContinualTrainer\n",
    "\n",
    "trainer = ContinualTrainer(algorithm, params, callbacks=[metric_manager_callback])\n"
   ]
  },
  {
   "cell_type": "code",
   "execution_count": 7,
   "id": "c315bf5d",
   "metadata": {},
   "outputs": [
    {
     "name": "stdout",
     "output_type": "stream",
     "text": [
      "---------------------------- Task 1 -----------------------\n",
      "[1] Eval metrics for task 1 >> {'accuracy': 0.35900000000000004, 'loss': 0.00730016565322876, 'std': 0.2651961538182634, 'EER': -1}\n",
      "[2] Eval metrics for task 1 >> {'accuracy': 0.434, 'loss': 0.006261192560195923, 'std': 0.19022092419079453, 'EER': -1}\n",
      "[3] Eval metrics for task 1 >> {'accuracy': 0.491, 'loss': 0.005781925439834594, 'std': 0.2241628872048181, 'EER': -1}\n",
      "[4] Eval metrics for task 1 >> {'accuracy': 0.5429999999999999, 'loss': 0.005510348200798034, 'std': 0.16745447142432474, 'EER': -1}\n",
      "[5] Eval metrics for task 1 >> {'accuracy': 0.557, 'loss': 0.005111460208892822, 'std': 0.11419719786404568, 'EER': -1}\n",
      "[6] Eval metrics for task 1 >> {'accuracy': 0.5509999999999999, 'loss': 0.005304158449172974, 'std': 0.16676030702778163, 'EER': -1}\n",
      "[7] Eval metrics for task 1 >> {'accuracy': 0.575, 'loss': 0.0049851593971252444, 'std': 0.14108508071373102, 'EER': -1}\n",
      "[8] Eval metrics for task 1 >> {'accuracy': 0.623, 'loss': 0.0045438454151153565, 'std': 0.12402015965156632, 'EER': -1}\n",
      "[9] Eval metrics for task 1 >> {'accuracy': 0.5780000000000001, 'loss': 0.004642650842666626, 'std': 0.17594317264389656, 'EER': -1}\n",
      "[10] Eval metrics for task 1 >> {'accuracy': 0.6420000000000001, 'loss': 0.00427999746799469, 'std': 0.09162968951164246, 'EER': -1}\n",
      "[11] Eval metrics for task 1 >> {'accuracy': 0.645, 'loss': 0.004219364523887634, 'std': 0.10883473710171766, 'EER': -1}\n",
      "[12] Eval metrics for task 1 >> {'accuracy': 0.642, 'loss': 0.00404050874710083, 'std': 0.145657131648265, 'EER': -1}\n",
      "[13] Eval metrics for task 1 >> {'accuracy': 0.659, 'loss': 0.0038653534650802614, 'std': 0.12397177098033245, 'EER': -1}\n",
      "[14] Eval metrics for task 1 >> {'accuracy': 0.666, 'loss': 0.0038165082931518554, 'std': 0.13380582946942182, 'EER': -1}\n",
      "[15] Eval metrics for task 1 >> {'accuracy': 0.7, 'loss': 0.0036706926226615904, 'std': 0.10516653460107926, 'EER': -1}\n",
      "[16] Eval metrics for task 1 >> {'accuracy': 0.696, 'loss': 0.0034313280582427977, 'std': 0.10489995233554686, 'EER': -1}\n",
      "[17] Eval metrics for task 1 >> {'accuracy': 0.708, 'loss': 0.0033668620586395264, 'std': 0.1063766891757776, 'EER': -1}\n",
      "[18] Eval metrics for task 1 >> {'accuracy': 0.721, 'loss': 0.003376534104347229, 'std': 0.08757282683572573, 'EER': -1}\n",
      "[19] Eval metrics for task 1 >> {'accuracy': 0.717, 'loss': 0.0034311593174934387, 'std': 0.14057382402140164, 'EER': -1}\n",
      "[20] Eval metrics for task 1 >> {'accuracy': 0.737, 'loss': 0.0033209407925605776, 'std': 0.08967162315916892, 'EER': -1}\n",
      "[21] Eval metrics for task 1 >> {'accuracy': 0.7249999999999999, 'loss': 0.00317961448431015, 'std': 0.14444722219551331, 'EER': -1}\n",
      "[22] Eval metrics for task 1 >> {'accuracy': 0.7459999999999999, 'loss': 0.0030982073545455934, 'std': 0.08685620300243387, 'EER': -1}\n",
      "[23] Eval metrics for task 1 >> {'accuracy': 0.736, 'loss': 0.0032157325148582457, 'std': 0.0656048778674269, 'EER': -1}\n",
      "[24] Eval metrics for task 1 >> {'accuracy': 0.77, 'loss': 0.0028540197610855103, 'std': 0.08921883209278185, 'EER': -1}\n",
      "[25] Eval metrics for task 1 >> {'accuracy': 0.75, 'loss': 0.002969267249107361, 'std': 0.09602083107326244, 'EER': -1}\n",
      "[26] Eval metrics for task 1 >> {'accuracy': 0.768, 'loss': 0.0028837559819221495, 'std': 0.056000000000000015, 'EER': -1}\n",
      "[27] Eval metrics for task 1 >> {'accuracy': 0.773, 'loss': 0.002990961015224457, 'std': 0.08866228059327147, 'EER': -1}\n",
      "[28] Eval metrics for task 1 >> {'accuracy': 0.78, 'loss': 0.0027873292565345764, 'std': 0.08306623862918074, 'EER': -1}\n",
      "[29] Eval metrics for task 1 >> {'accuracy': 0.783, 'loss': 0.0028313812017440798, 'std': 0.10982258419833327, 'EER': -1}\n",
      "[30] Eval metrics for task 1 >> {'accuracy': 0.783, 'loss': 0.0027971888184547423, 'std': 0.11713667231059623, 'EER': -1}\n",
      "[31] Eval metrics for task 1 >> {'accuracy': 0.779, 'loss': 0.0028143527507781983, 'std': 0.1053992409839843, 'EER': -1}\n",
      "[32] Eval metrics for task 1 >> {'accuracy': 0.782, 'loss': 0.002817550837993622, 'std': 0.11232096865679177, 'EER': -1}\n",
      "[33] Eval metrics for task 1 >> {'accuracy': 0.78, 'loss': 0.0028028798103332518, 'std': 0.10835128056465229, 'EER': -1}\n",
      "[34] Eval metrics for task 1 >> {'accuracy': 0.783, 'loss': 0.002821457326412201, 'std': 0.10412012293500233, 'EER': -1}\n",
      "[35] Eval metrics for task 1 >> {'accuracy': 0.773, 'loss': 0.002880452036857605, 'std': 0.11445959985951375, 'EER': -1}\n",
      "[36] Eval metrics for task 1 >> {'accuracy': 0.781, 'loss': 0.00283163982629776, 'std': 0.10662551289442879, 'EER': -1}\n",
      "[37] Eval metrics for task 1 >> {'accuracy': 0.782, 'loss': 0.0028474203944206236, 'std': 0.11133732527773424, 'EER': -1}\n",
      "[38] Eval metrics for task 1 >> {'accuracy': 0.7849999999999999, 'loss': 0.002877303898334503, 'std': 0.10594810050208545, 'EER': -1}\n",
      "[39] Eval metrics for task 1 >> {'accuracy': 0.79, 'loss': 0.002793386161327362, 'std': 0.10667708282475669, 'EER': -1}\n",
      "[40] Eval metrics for task 1 >> {'accuracy': 0.789, 'loss': 0.0027970008850097656, 'std': 0.10830050784737807, 'EER': -1}\n",
      "[41] Eval metrics for task 1 >> {'accuracy': 0.7750000000000001, 'loss': 0.002796199023723602, 'std': 0.11646887996370532, 'EER': -1}\n",
      "[42] Eval metrics for task 1 >> {'accuracy': 0.7849999999999999, 'loss': 0.0028218069672584535, 'std': 0.115, 'EER': -1}\n",
      "[43] Eval metrics for task 1 >> {'accuracy': 0.78, 'loss': 0.002834616541862488, 'std': 0.1010940156488009, 'EER': -1}\n",
      "[44] Eval metrics for task 1 >> {'accuracy': 0.78, 'loss': 0.002811719298362732, 'std': 0.09979979959899718, 'EER': -1}\n",
      "[45] Eval metrics for task 1 >> {'accuracy': 0.781, 'loss': 0.002805426299571991, 'std': 0.10482843125793688, 'EER': -1}\n",
      "[46] Eval metrics for task 1 >> {'accuracy': 0.7849999999999999, 'loss': 0.0028166651129722595, 'std': 0.10651291001564081, 'EER': -1}\n",
      "[47] Eval metrics for task 1 >> {'accuracy': 0.769, 'loss': 0.0028435510993003845, 'std': 0.10501904589168574, 'EER': -1}\n",
      "[48] Eval metrics for task 1 >> {'accuracy': 0.776, 'loss': 0.00284691721200943, 'std': 0.10170545708072895, 'EER': -1}\n",
      "[49] Eval metrics for task 1 >> {'accuracy': 0.776, 'loss': 0.002834806263446808, 'std': 0.1040384544291196, 'EER': -1}\n",
      "[50] Eval metrics for task 1 >> {'accuracy': 0.78, 'loss': 0.0028715724349021913, 'std': 0.11018166816671457, 'EER': -1}\n",
      "[51] Eval metrics for task 1 >> {'accuracy': 0.775, 'loss': 0.002894251525402069, 'std': 0.1118257573191436, 'EER': -1}\n",
      "[52] Eval metrics for task 1 >> {'accuracy': 0.782, 'loss': 0.0028625456094741823, 'std': 0.10684568311354464, 'EER': -1}\n",
      "[53] Eval metrics for task 1 >> {'accuracy': 0.7790000000000001, 'loss': 0.002833752691745758, 'std': 0.10949429208867464, 'EER': -1}\n",
      "[54] Eval metrics for task 1 >> {'accuracy': 0.776, 'loss': 0.0028235507607460024, 'std': 0.1177454882362802, 'EER': -1}\n",
      "[55] Eval metrics for task 1 >> {'accuracy': 0.7749999999999999, 'loss': 0.002848036050796509, 'std': 0.11473883387938018, 'EER': -1}\n",
      "[56] Eval metrics for task 1 >> {'accuracy': 0.78, 'loss': 0.002851987600326538, 'std': 0.10611314715905847, 'EER': -1}\n",
      "[57] Eval metrics for task 1 >> {'accuracy': 0.7769999999999999, 'loss': 0.0028861889839172363, 'std': 0.10334892355511012, 'EER': -1}\n",
      "[58] Eval metrics for task 1 >> {'accuracy': 0.7849999999999999, 'loss': 0.0028270660042762756, 'std': 0.10327148686835103, 'EER': -1}\n",
      "[59] Eval metrics for task 1 >> {'accuracy': 0.7779999999999999, 'loss': 0.002818912148475647, 'std': 0.11249888888340186, 'EER': -1}\n",
      "[60] Eval metrics for task 1 >> {'accuracy': 0.782, 'loss': 0.0028011277318000793, 'std': 0.11187493016757596, 'EER': -1}\n",
      "[61] Eval metrics for task 1 >> {'accuracy': 0.78, 'loss': 0.002845154583454132, 'std': 0.11349008767288885, 'EER': -1}\n",
      "[62] Eval metrics for task 1 >> {'accuracy': 0.786, 'loss': 0.002814854860305786, 'std': 0.10901376059929313, 'EER': -1}\n",
      "[63] Eval metrics for task 1 >> {'accuracy': 0.789, 'loss': 0.0028307706117630003, 'std': 0.10222035022440491, 'EER': -1}\n",
      "[64] Eval metrics for task 1 >> {'accuracy': 0.778, 'loss': 0.0028124799132347106, 'std': 0.1092520022699813, 'EER': -1}\n",
      "[65] Eval metrics for task 1 >> {'accuracy': 0.779, 'loss': 0.002861662030220032, 'std': 0.10976793703081059, 'EER': -1}\n",
      "[66] Eval metrics for task 1 >> {'accuracy': 0.779, 'loss': 0.0028943689465522767, 'std': 0.10299999999999998, 'EER': -1}\n",
      "[67] Eval metrics for task 1 >> {'accuracy': 0.78, 'loss': 0.0028827962875366212, 'std': 0.10972693379476162, 'EER': -1}\n",
      "[68] Eval metrics for task 1 >> {'accuracy': 0.7830000000000001, 'loss': 0.0027983480095863343, 'std': 0.1093663568013491, 'EER': -1}\n",
      "[69] Eval metrics for task 1 >> {'accuracy': 0.777, 'loss': 0.0028446894288063048, 'std': 0.11036756769993619, 'EER': -1}\n",
      "[70] Eval metrics for task 1 >> {'accuracy': 0.785, 'loss': 0.0027983487844467163, 'std': 0.10892658077806354, 'EER': -1}\n",
      "[71] Eval metrics for task 1 >> {'accuracy': 0.7889999999999999, 'loss': 0.002827907919883728, 'std': 0.10133607452432723, 'EER': -1}\n",
      "[72] Eval metrics for task 1 >> {'accuracy': 0.7869999999999999, 'loss': 0.0028268590569496153, 'std': 0.10440785411069418, 'EER': -1}\n",
      "[73] Eval metrics for task 1 >> {'accuracy': 0.774, 'loss': 0.00282679945230484, 'std': 0.11262326580240868, 'EER': -1}\n",
      "[74] Eval metrics for task 1 >> {'accuracy': 0.78, 'loss': 0.002846873581409454, 'std': 0.11251666543228163, 'EER': -1}\n",
      "[75] Eval metrics for task 1 >> {'accuracy': 0.773, 'loss': 0.00285198038816452, 'std': 0.10630616162763097, 'EER': -1}\n",
      "[76] Eval metrics for task 1 >> {'accuracy': 0.776, 'loss': 0.0028303802013397218, 'std': 0.10956276739841869, 'EER': -1}\n",
      "[77] Eval metrics for task 1 >> {'accuracy': 0.785, 'loss': 0.0028226324915885926, 'std': 0.11002272492535349, 'EER': -1}\n",
      "[78] Eval metrics for task 1 >> {'accuracy': 0.782, 'loss': 0.002809806764125824, 'std': 0.10156771140475696, 'EER': -1}\n",
      "[79] Eval metrics for task 1 >> {'accuracy': 0.779, 'loss': 0.0028291426301002504, 'std': 0.11405700329221348, 'EER': -1}\n",
      "[80] Eval metrics for task 1 >> {'accuracy': 0.78, 'loss': 0.0028404454588890076, 'std': 0.10788883167408941, 'EER': -1}\n",
      "[81] Eval metrics for task 1 >> {'accuracy': 0.769, 'loss': 0.002868912696838379, 'std': 0.11431972708154967, 'EER': -1}\n",
      "[82] Eval metrics for task 1 >> {'accuracy': 0.782, 'loss': 0.0028553157448768618, 'std': 0.10077698149875296, 'EER': -1}\n",
      "[83] Eval metrics for task 1 >> {'accuracy': 0.7769999999999999, 'loss': 0.0028096980452537537, 'std': 0.11331813623599708, 'EER': -1}\n",
      "[84] Eval metrics for task 1 >> {'accuracy': 0.783, 'loss': 0.0028880392909049987, 'std': 0.10315522284402279, 'EER': -1}\n",
      "[85] Eval metrics for task 1 >> {'accuracy': 0.786, 'loss': 0.0028089513778686522, 'std': 0.11306635220082056, 'EER': -1}\n",
      "[86] Eval metrics for task 1 >> {'accuracy': 0.7769999999999999, 'loss': 0.002882934927940369, 'std': 0.10402403568406678, 'EER': -1}\n",
      "[87] Eval metrics for task 1 >> {'accuracy': 0.784, 'loss': 0.0027980065941810607, 'std': 0.10818502669038818, 'EER': -1}\n",
      "[88] Eval metrics for task 1 >> {'accuracy': 0.7779999999999999, 'loss': 0.002880126714706421, 'std': 0.10721940122944167, 'EER': -1}\n",
      "[89] Eval metrics for task 1 >> {'accuracy': 0.788, 'loss': 0.0028303512334823607, 'std': 0.09703607576566566, 'EER': -1}\n",
      "[90] Eval metrics for task 1 >> {'accuracy': 0.789, 'loss': 0.002821118235588074, 'std': 0.10192644406629713, 'EER': -1}\n",
      "[91] Eval metrics for task 1 >> {'accuracy': 0.786, 'loss': 0.0028008174300193788, 'std': 0.10229369482035536, 'EER': -1}\n",
      "[92] Eval metrics for task 1 >> {'accuracy': 0.783, 'loss': 0.0027823445796966552, 'std': 0.10109896141899778, 'EER': -1}\n",
      "[93] Eval metrics for task 1 >> {'accuracy': 0.7829999999999999, 'loss': 0.0028348289132118223, 'std': 0.1097314904665019, 'EER': -1}\n",
      "[94] Eval metrics for task 1 >> {'accuracy': 0.775, 'loss': 0.0028601418733596802, 'std': 0.11333578428722324, 'EER': -1}\n",
      "[95] Eval metrics for task 1 >> {'accuracy': 0.784, 'loss': 0.0028566969633102416, 'std': 0.10470912090166738, 'EER': -1}\n",
      "[96] Eval metrics for task 1 >> {'accuracy': 0.7859999999999999, 'loss': 0.002801544368267059, 'std': 0.11208925015361641, 'EER': -1}\n",
      "[97] Eval metrics for task 1 >> {'accuracy': 0.785, 'loss': 0.002786781072616577, 'std': 0.10965856099730653, 'EER': -1}\n",
      "[98] Eval metrics for task 1 >> {'accuracy': 0.7870000000000001, 'loss': 0.002855905294418335, 'std': 0.09980480950335008, 'EER': -1}\n",
      "[99] Eval metrics for task 1 >> {'accuracy': 0.783, 'loss': 0.0028077043294906616, 'std': 0.10780074211247341, 'EER': -1}\n",
      "[100] Eval metrics for task 1 >> {'accuracy': 0.776, 'loss': 0.002806110680103302, 'std': 0.10394229168149025, 'EER': -1}\n",
      "training_task_end\n",
      "---------------------------- Task 2 -----------------------\n",
      "losses=tensor([[1.0556e+00, 3.1325e-01, 5.3625e-01, 9.4167e-01, 1.2473e-02, 7.5158e-01,\n",
      "         7.0430e-02, 1.3800e+00, 4.3877e-03, 3.2163e-01, 2.2364e+01, 2.4788e+01,\n",
      "         2.2511e+01, 2.1191e+01, 2.3211e+01, 2.1009e+01, 2.6156e+01, 2.1140e+01,\n",
      "         2.0676e+01, 2.0727e+01]])\n",
      "### Cplex absolute_and_nonabsolute_minsum LP solver ###\n",
      "Elapsed time:9.542\n",
      "Fairness:[ 0.50944996  0.54535562  0.53251932  0.51709337  0.55182463  0.51578967\n",
      "  0.54661968  0.49097056  0.55253538  0.54092664 -0.5307352  -0.65343325\n",
      " -0.53716872 -0.47018239 -0.57158895 -0.46005206 -0.72070985 -0.46800324\n",
      " -0.44446168 -0.4467496 ]\n",
      "Current class expected loss:[ 0.          0.          0.          0.          0.          0.\n",
      "  0.          0.          0.          0.         -0.0217598  -0.02421376\n",
      " -0.02188847 -0.02054874 -0.02257687 -0.02034614 -0.02555929 -0.02050516\n",
      " -0.02003433 -0.02008009]\n",
      "len(updated_seq_indices)=4998\n",
      "[101] Eval metrics for task 1 >> {'accuracy': 0.16399999999999998, 'loss': 0.014936739444732667, 'std': 0.20684293558156633, 'EER': -1}\n",
      "[101] Eval metrics for task 2 >> {'accuracy': 0.004, 'loss': 0.020334609508514404, 'std': 0.012, 'EER': -1}\n",
      "losses=tensor([[1.4899, 1.3653, 2.3503, 2.6381, 1.4898, 1.6474, 1.8376, 1.8175, 0.9027,\n",
      "         0.3516, 5.2656, 4.4185, 5.4466, 5.0004, 4.7417, 5.2918, 5.3599, 5.0771,\n",
      "         4.8457, 4.9807]])\n",
      "### Cplex absolute_and_nonabsolute_minsum LP solver ###\n",
      "Elapsed time:9.522\n",
      "Fairness:[ 0.0912751   0.07850296  0.03447276  0.02199926  0.06468795  0.06314559\n",
      "  0.0542338   0.07019185  0.12352331  0.09020575 -0.08318847 -0.04186197\n",
      " -0.08732781 -0.0668511  -0.05916251 -0.07980331 -0.08360448 -0.06666547\n",
      " -0.05746106 -0.06631235]\n",
      "Current class expected loss:[ 0.          0.          0.          0.          0.          0.\n",
      "  0.          0.          0.          0.         -0.00458976 -0.00376323\n",
      " -0.00467255 -0.00426302 -0.00410924 -0.00452206 -0.00459808 -0.0042593\n",
      " -0.00407521 -0.00425224]\n",
      "len(updated_seq_indices)=4989\n",
      "[102] Eval metrics for task 1 >> {'accuracy': 0.16899999999999998, 'loss': 0.023851346015930176, 'std': 0.08203048213926334, 'EER': -1}\n",
      "[102] Eval metrics for task 2 >> {'accuracy': 0.002, 'loss': 0.019030514240264893, 'std': 0.004, 'EER': -1}\n",
      "losses=tensor([[0.7492, 0.3209, 1.1745, 0.4365, 1.0138, 0.9501, 1.0125, 0.6137, 0.4674,\n",
      "         0.2048, 5.2394, 4.6800, 4.4082, 4.6108, 4.8942, 4.6951, 5.1927, 4.3990,\n",
      "         4.7818, 4.4870]])\n",
      "### Cplex absolute_and_nonabsolute_minsum LP solver ###\n",
      "Elapsed time:9.236\n",
      "Fairness:[ 0.09136194  0.09564229  0.05722048  0.09670399  0.0690716   0.07453239\n",
      "  0.07462537  0.08496109  0.10554115  0.10302546 -0.11164199 -0.08411465\n",
      " -0.06864232 -0.0776334  -0.09334359 -0.08272113 -0.10791078 -0.06625427\n",
      " -0.08830279 -0.07212086]\n",
      "Current class expected loss:[ 0.          0.          0.          0.          0.          0.\n",
      "  0.          0.          0.          0.         -0.00469226 -0.00414172\n",
      " -0.00383227 -0.00401209 -0.0043263  -0.00411385 -0.00461764 -0.00378451\n",
      " -0.00422548 -0.00390184]\n",
      "len(updated_seq_indices)=4991\n",
      "[103] Eval metrics for task 1 >> {'accuracy': 0.16300000000000003, 'loss': 0.03395537281036377, 'std': 0.08820997676000147, 'EER': -1}\n",
      "[103] Eval metrics for task 2 >> {'accuracy': 0.028000000000000004, 'loss': 0.01903735589981079, 'std': 0.03944616584663204, 'EER': -1}\n",
      "losses=tensor([[3.6082e-03, 1.5879e+00, 8.0375e-02, 1.1757e-02, 1.6366e-01, 9.5073e-02,\n",
      "         2.6650e-01, 1.1437e+00, 6.9011e-02, 2.8217e-01, 5.0647e+00, 4.9250e+00,\n",
      "         4.0384e+00, 4.6356e+00, 3.9501e+00, 5.1676e+00, 5.6163e+00, 4.1597e+00,\n",
      "         4.8410e+00, 4.1371e+00]])\n",
      "### Cplex absolute_and_nonabsolute_minsum LP solver ###\n",
      "Elapsed time:9.44\n",
      "Fairness:[ 0.10136795  0.04272829  0.10130123  0.09904345  0.09987572  0.10659482\n",
      "  0.10504558  0.06349614  0.11796419  0.1051579  -0.11451864 -0.10688599\n",
      " -0.06584163 -0.09242381 -0.06178094 -0.1186726  -0.14034622 -0.07071727\n",
      " -0.10278076 -0.06860729]\n",
      "Current class expected loss:[ 0.          0.          0.          0.          0.          0.\n",
      "  0.          0.          0.          0.         -0.00458669 -0.00443404\n",
      " -0.00361315 -0.00414479 -0.00353193 -0.00466977 -0.00510324 -0.00371066\n",
      " -0.00435193 -0.00366846]\n",
      "len(updated_seq_indices)=4971\n",
      "[104] Eval metrics for task 1 >> {'accuracy': 0.183, 'loss': 0.03152106666564941, 'std': 0.08718371407550839, 'EER': -1}\n",
      "[104] Eval metrics for task 2 >> {'accuracy': 0.06799999999999999, 'loss': 0.014057796716690064, 'std': 0.06808817812219681, 'EER': -1}\n",
      "losses=tensor([[0.0070, 0.0494, 0.1757, 0.0449, 0.3522, 0.7075, 0.0446, 1.5144, 0.0105,\n",
      "         0.0119, 3.9440, 2.8958, 3.1787, 2.8670, 3.0854, 3.8422, 4.7966, 3.2855,\n",
      "         3.7409, 3.3236]])\n",
      "### Cplex absolute_and_nonabsolute_minsum LP solver ###\n",
      "Elapsed time:9.564\n",
      "Fairness:[ 0.07121507  0.07758298  0.0768087   0.07426489  0.07496159  0.05899004\n",
      "  0.08186401  0.01546884  0.08670892  0.07737438 -0.09141047 -0.04551263\n",
      " -0.05243601 -0.04180847 -0.05054141 -0.08575996 -0.13023581 -0.05730293\n",
      " -0.07810205 -0.06212962]\n",
      "Current class expected loss:[ 0.          0.          0.          0.          0.          0.\n",
      "  0.          0.          0.          0.         -0.00365213 -0.00273417\n",
      " -0.00287264 -0.00266009 -0.00283474 -0.00353912 -0.00442863 -0.00296998\n",
      " -0.00338596 -0.00306651]\n",
      "len(updated_seq_indices)=4947\n",
      "[105] Eval metrics for task 1 >> {'accuracy': 0.11699999999999999, 'loss': 0.039014849662780765, 'std': 0.079, 'EER': -1}\n",
      "[105] Eval metrics for task 2 >> {'accuracy': 0.15500000000000003, 'loss': 0.011521677017211913, 'std': 0.14773286702694158, 'EER': -1}\n",
      "losses=tensor([[6.5217e-02, 9.1772e-02, 2.9180e-02, 4.7915e-02, 7.0631e-03, 3.3958e-02,\n",
      "         2.8419e-03, 6.6819e-02, 2.3616e-02, 4.6809e-01, 3.1320e+00, 2.9485e+00,\n",
      "         2.9044e+00, 3.0201e+00, 2.3035e+00, 3.4038e+00, 3.1885e+00, 2.4974e+00,\n",
      "         2.6064e+00, 3.0271e+00]])\n",
      "### Cplex absolute_and_nonabsolute_minsum LP solver ###\n",
      "Elapsed time:9.372\n",
      "Fairness:[ 0.06054561  0.06413645  0.06593588  0.06827045  0.06572262  0.06188233\n",
      "  0.06406691  0.05587634  0.06577274  0.06098695 -0.07748117 -0.06402892\n",
      " -0.05863297 -0.06657266 -0.03339373 -0.08405119 -0.07539526 -0.04323289\n",
      " -0.06198768 -0.06841977]\n",
      "Current class expected loss:[ 0.          0.          0.          0.          0.          0.\n",
      "  0.          0.          0.          0.         -0.00301791 -0.00274887\n",
      " -0.00264095 -0.00279974 -0.00213616 -0.00314931 -0.00297619 -0.00233295\n",
      " -0.00270804 -0.00283669]\n",
      "len(updated_seq_indices)=4519\n",
      "[106] Eval metrics for task 1 >> {'accuracy': 0.06100000000000001, 'loss': 0.04906751918792725, 'std': 0.07555792479945436, 'EER': -1}\n",
      "[106] Eval metrics for task 2 >> {'accuracy': 0.21200000000000002, 'loss': 0.009346378564834595, 'std': 0.16992939710362065, 'EER': -1}\n",
      "losses=tensor([[7.6277e-03, 3.0883e-02, 1.1766e-03, 4.2165e-03, 2.6851e-03, 1.7208e-02,\n",
      "         4.7636e-02, 1.9734e-02, 4.3644e-02, 3.2672e-03, 2.6090e+00, 1.8299e+00,\n",
      "         1.8976e+00, 2.6346e+00, 1.9474e+00, 2.4652e+00, 2.5996e+00, 1.9247e+00,\n",
      "         2.3522e+00, 2.4979e+00]])\n",
      "### Cplex absolute_and_nonabsolute_minsum LP solver ###\n",
      "Elapsed time:9.375\n",
      "Fairness:[ 0.0522835   0.05188192  0.05357115  0.06059659  0.05691709  0.0547242\n",
      "  0.05551441  0.04869641  0.05230008  0.05328233 -0.06607333 -0.04240681\n",
      " -0.04224669 -0.0619966  -0.05153848 -0.06238827 -0.06292815 -0.03278119\n",
      " -0.04905869 -0.06834943]\n",
      "Current class expected loss:[ 0.          0.          0.          0.          0.          0.\n",
      "  0.          0.          0.          0.         -0.00247131 -0.00199797\n",
      " -0.00199477 -0.00238977 -0.00218061 -0.0023976  -0.0024084  -0.00180546\n",
      " -0.00213101 -0.00251683]\n",
      "len(updated_seq_indices)=3455\n",
      "[107] Eval metrics for task 1 >> {'accuracy': 0.08600000000000001, 'loss': 0.04539657783508301, 'std': 0.07472616676907762, 'EER': -1}\n",
      "[107] Eval metrics for task 2 >> {'accuracy': 0.22799999999999998, 'loss': 0.010093971967697143, 'std': 0.2155365398256175, 'EER': -1}\n",
      "losses=tensor([[2.0589e-03, 3.1976e-03, 2.0577e-03, 3.7917e-02, 1.7293e-02, 1.1444e-02,\n",
      "         1.4851e-02, 5.4367e-02, 1.9291e-02, 6.4151e-03, 2.2965e+00, 2.6924e+00,\n",
      "         2.2548e+00, 2.1802e+00, 5.9541e+00, 2.1293e+00, 2.0198e+00, 1.6121e+00,\n",
      "         1.9258e+00, 2.5176e+00]])\n",
      "### Cplex absolute_and_nonabsolute_minsum LP solver ###\n",
      "Elapsed time:9.453\n",
      "Fairness:[ 0.06024454  0.05699383  0.06323015  0.06484951  0.0624184   0.05958587\n",
      "  0.06317896  0.05687303  0.05971595  0.06002318 -0.04612534 -0.05933378\n",
      " -0.03893328 -0.03906022 -0.21484517 -0.0476385  -0.04287894 -0.01794221\n",
      " -0.04203608 -0.05831997]\n",
      "Current class expected loss:[ 0.          0.          0.          0.          0.          0.\n",
      "  0.          0.          0.          0.         -0.0021884  -0.00245257\n",
      " -0.00204456 -0.0020471  -0.0055628  -0.00221866 -0.00212347 -0.00162474\n",
      " -0.00210662 -0.00243229]\n",
      "len(updated_seq_indices)=3893\n",
      "[108] Eval metrics for task 1 >> {'accuracy': 0.06200000000000001, 'loss': 0.04726604080200195, 'std': 0.0464327470649756, 'EER': -1}\n",
      "[108] Eval metrics for task 2 >> {'accuracy': 0.20299999999999999, 'loss': 0.011916378736495972, 'std': 0.14886571129712844, 'EER': -1}\n",
      "losses=tensor([[3.0101e-02, 2.8610e-01, 9.0932e-03, 1.0822e-03, 3.3854e-02, 3.7214e-02,\n",
      "         9.3316e-04, 4.9106e-03, 1.8231e-02, 2.2665e-04, 3.2036e+00, 3.0801e+00,\n",
      "         1.9602e+00, 2.1580e+00, 3.2903e+00, 2.8882e+00, 2.9952e+00, 1.4232e+00,\n",
      "         5.1069e+00, 2.5932e+00]])\n",
      "### Cplex absolute_and_nonabsolute_minsum LP solver ###\n",
      "Elapsed time:9.279\n",
      "Fairness:[ 0.06778715  0.05780547  0.06883832  0.07162821  0.07013321  0.06805033\n",
      "  0.07095448  0.06447187  0.06715545  0.06769282 -0.08416473 -0.07219894\n",
      " -0.0153018  -0.04513412 -0.07853988 -0.06377036 -0.06932511 -0.00893197\n",
      " -0.16686685 -0.0702836 ]\n",
      "Current class expected loss:[ 0.          0.          0.          0.          0.          0.\n",
      "  0.          0.          0.          0.         -0.00310863 -0.00286931\n",
      " -0.00173137 -0.00232802 -0.00299613 -0.00270074 -0.00281184 -0.00160398\n",
      " -0.00476267 -0.00283101]\n",
      "len(updated_seq_indices)=3847\n",
      "[109] Eval metrics for task 1 >> {'accuracy': 0.05, 'loss': 0.04692322635650635, 'std': 0.047958315233127206, 'EER': -1}\n",
      "[109] Eval metrics for task 2 >> {'accuracy': 0.25, 'loss': 0.00962416696548462, 'std': 0.2517935662402834, 'EER': -1}\n",
      "losses=tensor([[4.4623e-02, 8.4184e-03, 1.1840e-01, 4.7155e-03, 6.3512e-03, 1.0158e-02,\n",
      "         2.8693e-01, 6.3889e-02, 1.4032e-02, 3.4360e-03, 2.4655e+00, 1.6616e+00,\n",
      "         1.8691e+00, 3.2464e+00, 1.8149e+00, 2.0974e+00, 1.7747e+00, 2.6784e+00,\n",
      "         1.5620e+00, 4.6253e+00]])\n",
      "### Cplex absolute_and_nonabsolute_minsum LP solver ###\n",
      "Elapsed time:9.34\n",
      "Fairness:[ 0.05811595  0.05754518  0.05504595  0.06113713  0.05930561  0.05546762\n",
      "  0.0469412   0.051967    0.05567965  0.05513051 -0.05669862 -0.0349129\n",
      " -0.02670111 -0.08920929 -0.026819   -0.04550977 -0.02958312 -0.06242952\n",
      " -0.03095424 -0.15351824]\n",
      "Current class expected loss:[ 0.          0.          0.          0.          0.          0.\n",
      "  0.          0.          0.          0.         -0.00230014 -0.00186442\n",
      " -0.00170019 -0.00295035 -0.00170255 -0.00207636 -0.00175783 -0.00241476\n",
      " -0.00178525 -0.00423653]\n",
      "len(updated_seq_indices)=3688\n",
      "[110] Eval metrics for task 1 >> {'accuracy': 0.037000000000000005, 'loss': 0.045133431434631346, 'std': 0.05348831648126533, 'EER': -1}\n",
      "[110] Eval metrics for task 2 >> {'accuracy': 0.231, 'loss': 0.011144514083862305, 'std': 0.20987853630135692, 'EER': -1}\n",
      "losses=tensor([[2.4617e-03, 2.5234e-03, 1.1418e-03, 9.7202e-04, 4.4004e-03, 2.6447e-02,\n",
      "         1.2627e-04, 2.2850e-02, 3.7873e-04, 2.7296e-03, 2.0907e+00, 4.0683e+00,\n",
      "         1.2501e+00, 2.1429e+00, 2.0313e+00, 2.5077e+00, 1.8924e+00, 1.4118e+00,\n",
      "         6.7091e+00, 2.7408e+00]])\n",
      "### Cplex absolute_and_nonabsolute_minsum LP solver ###\n",
      "Elapsed time:9.436\n",
      "Fairness:[ 0.06795192  0.0626965   0.06391849  0.06506762  0.06325267  0.06216379\n",
      "  0.06442121  0.06215561  0.06792485  0.06522661 -0.04407095 -0.12002186\n",
      " -0.01234218 -0.02796885 -0.04245908 -0.04819656 -0.04239017  0.\n",
      " -0.25078413 -0.05654547]\n",
      "Current class expected loss:[ 0.          0.          0.          0.          0.          0.\n",
      "  0.          0.          0.          0.         -0.00215859 -0.00367761\n",
      " -0.00152402 -0.00183655 -0.00212635 -0.0022411  -0.00212498 -0.00127717\n",
      " -0.00629285 -0.00240808]\n",
      "len(updated_seq_indices)=3305\n",
      "[111] Eval metrics for task 1 >> {'accuracy': 0.08900000000000001, 'loss': 0.040453495979309084, 'std': 0.09822932352408827, 'EER': -1}\n",
      "[111] Eval metrics for task 2 >> {'accuracy': 0.173, 'loss': 0.013575519323349, 'std': 0.15678328992593565, 'EER': -1}\n",
      "losses=tensor([[3.5941e-03, 5.8554e-04, 5.2881e-03, 3.6994e-05, 4.2915e-06, 3.2787e-02,\n",
      "         2.6351e-04, 2.9084e-04, 4.7252e-04, 1.0156e-03, 3.9245e+00, 1.8669e+00,\n",
      "         4.3669e+00, 1.9494e+00, 5.3995e+00, 2.2037e+00, 5.5160e+00, 2.0087e+00,\n",
      "         2.8665e+00, 2.1152e+00]])\n",
      "### Cplex absolute_and_nonabsolute_minsum LP solver ###\n",
      "Elapsed time:9.285\n",
      "Fairness:[ 0.08120834  0.07577493  0.07932643  0.06884222  0.07118365  0.07410871\n",
      "  0.07536738  0.07924897  0.07304506  0.07609067 -0.10240367 -0.00720145\n",
      " -0.12440901 -0.02329681 -0.17137344 -0.03178775 -0.17910125 -0.00749616\n",
      " -0.07036549 -0.0367612 ]\n",
      "Current class expected loss:[ 0.          0.          0.          0.          0.          0.\n",
      "  0.          0.          0.          0.         -0.00355212 -0.00164807\n",
      " -0.00399222 -0.00196998 -0.00493151 -0.0021398  -0.00508607 -0.00165397\n",
      " -0.00291135 -0.00223927]\n",
      "len(updated_seq_indices)=4106\n",
      "[112] Eval metrics for task 1 >> {'accuracy': 0.041, 'loss': 0.03980090522766113, 'std': 0.04011234224026316, 'EER': -1}\n",
      "[112] Eval metrics for task 2 >> {'accuracy': 0.253, 'loss': 0.009259433031082153, 'std': 0.20649697334343667, 'EER': -1}\n"
     ]
    },
    {
     "ename": "KeyboardInterrupt",
     "evalue": "",
     "output_type": "error",
     "traceback": [
      "\u001b[0;31m---------------------------------------------------------------------------\u001b[0m",
      "\u001b[0;31mKeyboardInterrupt\u001b[0m                         Traceback (most recent call last)",
      "Cell \u001b[0;32mIn[7], line 1\u001b[0m\n\u001b[0;32m----> 1\u001b[0m \u001b[43mtrainer\u001b[49m\u001b[38;5;241;43m.\u001b[39;49m\u001b[43mrun\u001b[49m\u001b[43m(\u001b[49m\u001b[43m)\u001b[49m\n\u001b[1;32m      2\u001b[0m \u001b[38;5;28mprint\u001b[39m(\u001b[38;5;124m\"\u001b[39m\u001b[38;5;124mfinal avg-acc\u001b[39m\u001b[38;5;124m\"\u001b[39m, metric_manager_callback\u001b[38;5;241m.\u001b[39mmeters[\u001b[38;5;124m'\u001b[39m\u001b[38;5;124maccuracy\u001b[39m\u001b[38;5;124m'\u001b[39m]\u001b[38;5;241m.\u001b[39mcompute_final())\n\u001b[1;32m      3\u001b[0m \u001b[38;5;28mprint\u001b[39m(\u001b[38;5;124m\"\u001b[39m\u001b[38;5;124mfinal avg-forget\u001b[39m\u001b[38;5;124m\"\u001b[39m, metric_manager_callback\u001b[38;5;241m.\u001b[39mmeters[\u001b[38;5;124m'\u001b[39m\u001b[38;5;124mforgetting\u001b[39m\u001b[38;5;124m'\u001b[39m]\u001b[38;5;241m.\u001b[39mcompute_final())\n",
      "File \u001b[0;32m~/anaconda3/envs/cil/lib/python3.9/site-packages/cl_gym/trainer/base.py:105\u001b[0m, in \u001b[0;36mContinualTrainer.run\u001b[0;34m(self)\u001b[0m\n\u001b[1;32m    103\u001b[0m \u001b[38;5;28mself\u001b[39m\u001b[38;5;241m.\u001b[39m_run_setup()\n\u001b[1;32m    104\u001b[0m \u001b[38;5;66;03m# fit: main training loop\u001b[39;00m\n\u001b[0;32m--> 105\u001b[0m \u001b[38;5;28;43mself\u001b[39;49m\u001b[38;5;241;43m.\u001b[39;49m\u001b[43m_run_fit\u001b[49m\u001b[43m(\u001b[49m\u001b[43m)\u001b[49m\n\u001b[1;32m    106\u001b[0m \u001b[38;5;66;03m# teardown\u001b[39;00m\n\u001b[1;32m    107\u001b[0m \u001b[38;5;28mself\u001b[39m\u001b[38;5;241m.\u001b[39m_run_teardown()\n",
      "File \u001b[0;32m~/anaconda3/envs/cil/lib/python3.9/site-packages/cl_gym/trainer/base.py:93\u001b[0m, in \u001b[0;36mContinualTrainer._run_fit\u001b[0;34m(self)\u001b[0m\n\u001b[1;32m     91\u001b[0m \u001b[38;5;28;01mdef\u001b[39;00m \u001b[38;5;21m_run_fit\u001b[39m(\u001b[38;5;28mself\u001b[39m):\n\u001b[1;32m     92\u001b[0m     \u001b[38;5;28mself\u001b[39m\u001b[38;5;241m.\u001b[39mon_before_fit()\n\u001b[0;32m---> 93\u001b[0m     \u001b[38;5;28;43mself\u001b[39;49m\u001b[38;5;241;43m.\u001b[39;49m\u001b[43mfit\u001b[49m\u001b[43m(\u001b[49m\u001b[43m)\u001b[49m\n\u001b[1;32m     94\u001b[0m     \u001b[38;5;28mself\u001b[39m\u001b[38;5;241m.\u001b[39mon_after_fit()\n",
      "File \u001b[0;32m~/anaconda3/envs/cil/lib/python3.9/site-packages/cl_gym/trainer/base.py:83\u001b[0m, in \u001b[0;36mContinualTrainer.fit\u001b[0;34m(self)\u001b[0m\n\u001b[1;32m     81\u001b[0m \u001b[38;5;28mself\u001b[39m\u001b[38;5;241m.\u001b[39mon_before_training_task()\n\u001b[1;32m     82\u001b[0m \u001b[38;5;28mself\u001b[39m\u001b[38;5;241m.\u001b[39mtick(\u001b[38;5;124m'\u001b[39m\u001b[38;5;124mtask\u001b[39m\u001b[38;5;124m'\u001b[39m)\n\u001b[0;32m---> 83\u001b[0m \u001b[38;5;28;43mself\u001b[39;49m\u001b[38;5;241;43m.\u001b[39;49m\u001b[43mtrain_algorithm_on_task\u001b[49m\u001b[43m(\u001b[49m\u001b[43mtask\u001b[49m\u001b[43m)\u001b[49m\n\u001b[1;32m     84\u001b[0m \u001b[38;5;28mself\u001b[39m\u001b[38;5;241m.\u001b[39mon_after_training_task()\n",
      "File \u001b[0;32m/mnt/shared/jaeyoung/FSSCIL/trainers/base.py:108\u001b[0m, in \u001b[0;36mContinualTrainer2.train_algorithm_on_task\u001b[0;34m(self, task)\u001b[0m\n\u001b[1;32m    106\u001b[0m \u001b[38;5;28mself\u001b[39m\u001b[38;5;241m.\u001b[39mon_before_training_epoch()\n\u001b[1;32m    107\u001b[0m \u001b[38;5;28mself\u001b[39m\u001b[38;5;241m.\u001b[39mtick(\u001b[38;5;124m'\u001b[39m\u001b[38;5;124mepoch\u001b[39m\u001b[38;5;124m'\u001b[39m)\n\u001b[0;32m--> 108\u001b[0m train_loader \u001b[38;5;241m=\u001b[39m \u001b[38;5;28;43mself\u001b[39;49m\u001b[38;5;241;43m.\u001b[39;49m\u001b[43malgorithm\u001b[49m\u001b[38;5;241;43m.\u001b[39;49m\u001b[43mprepare_train_loader\u001b[49m\u001b[43m(\u001b[49m\u001b[43mtask\u001b[49m\u001b[43m,\u001b[49m\u001b[43m \u001b[49m\u001b[43mepoch\u001b[49m\u001b[38;5;241;43m=\u001b[39;49m\u001b[43mepoch\u001b[49m\u001b[43m)\u001b[49m \u001b[38;5;66;03m# modified\u001b[39;00m\n\u001b[1;32m    109\u001b[0m \u001b[38;5;28mself\u001b[39m\u001b[38;5;241m.\u001b[39malgorithm\u001b[38;5;241m.\u001b[39mbackbone\u001b[38;5;241m.\u001b[39mtrain()\n\u001b[1;32m    110\u001b[0m \u001b[38;5;28mself\u001b[39m\u001b[38;5;241m.\u001b[39malgorithm\u001b[38;5;241m.\u001b[39mbackbone \u001b[38;5;241m=\u001b[39m \u001b[38;5;28mself\u001b[39m\u001b[38;5;241m.\u001b[39malgorithm\u001b[38;5;241m.\u001b[39mbackbone\u001b[38;5;241m.\u001b[39mto(device)\n",
      "File \u001b[0;32m/mnt/shared/jaeyoung/FSSCIL/algorithms/imbalance.py:181\u001b[0m, in \u001b[0;36mHeuristic2.prepare_train_loader\u001b[0;34m(self, task_id, epoch)\u001b[0m\n\u001b[1;32m    177\u001b[0m     \u001b[38;5;28;01mraise\u001b[39;00m \u001b[38;5;167;01mNotImplementedError\u001b[39;00m\n\u001b[1;32m    179\u001b[0m \u001b[38;5;66;03m# print(f\"{solver=}\")\u001b[39;00m\n\u001b[1;32m    180\u001b[0m \u001b[38;5;66;03m# print(f\"{self.converter=}\")\u001b[39;00m\n\u001b[0;32m--> 181\u001b[0m \u001b[38;5;28;01mreturn\u001b[39;00m \u001b[38;5;28;43msuper\u001b[39;49m\u001b[43m(\u001b[49m\u001b[43m)\u001b[49m\u001b[38;5;241;43m.\u001b[39;49m\u001b[43mprepare_train_loader\u001b[49m\u001b[43m(\u001b[49m\u001b[43mtask_id\u001b[49m\u001b[43m,\u001b[49m\u001b[43m \u001b[49m\u001b[43msolver\u001b[49m\u001b[38;5;241;43m=\u001b[39;49m\u001b[43msolver\u001b[49m\u001b[43m,\u001b[49m\u001b[43m \u001b[49m\u001b[43mepoch\u001b[49m\u001b[38;5;241;43m=\u001b[39;49m\u001b[43mepoch\u001b[49m\u001b[43m)\u001b[49m\n",
      "File \u001b[0;32m/mnt/shared/jaeyoung/FSSCIL/algorithms/base.py:111\u001b[0m, in \u001b[0;36mHeuristic.prepare_train_loader\u001b[0;34m(self, task_id, solver, epoch)\u001b[0m\n\u001b[1;32m    108\u001b[0m     \u001b[38;5;28mself\u001b[39m\u001b[38;5;241m.\u001b[39mbenchmark\u001b[38;5;241m.\u001b[39mseq_indices_train[task_id] \u001b[38;5;241m=\u001b[39m copy\u001b[38;5;241m.\u001b[39mdeepcopy(\u001b[38;5;28mself\u001b[39m\u001b[38;5;241m.\u001b[39moriginal_seq_indices_train)\n\u001b[1;32m    109\u001b[0m \u001b[38;5;28mself\u001b[39m\u001b[38;5;241m.\u001b[39mnon_select_indexes \u001b[38;5;241m=\u001b[39m \u001b[38;5;28mlist\u001b[39m(\u001b[38;5;28mrange\u001b[39m(\u001b[38;5;28mlen\u001b[39m(\u001b[38;5;28mself\u001b[39m\u001b[38;5;241m.\u001b[39mbenchmark\u001b[38;5;241m.\u001b[39mseq_indices_train[task_id])))\n\u001b[0;32m--> 111\u001b[0m losses, n_grads_all, n_r_new_grads, new_batch \u001b[38;5;241m=\u001b[39m \u001b[38;5;28;43mself\u001b[39;49m\u001b[38;5;241;43m.\u001b[39;49m\u001b[43mget_loss_grad_all\u001b[49m\u001b[43m(\u001b[49m\u001b[43mtask_id\u001b[49m\u001b[43m)\u001b[49m \n\u001b[1;32m    112\u001b[0m \u001b[38;5;66;03m# n_grads_all: (class_num) * (weight&bias 차원수)\u001b[39;00m\n\u001b[1;32m    113\u001b[0m \u001b[38;5;66;03m# n_r_new_grads: (current step data 후보수) * (weight&bias 차원수)\u001b[39;00m\n\u001b[1;32m    115\u001b[0m \u001b[38;5;28mprint\u001b[39m(\u001b[38;5;124mf\u001b[39m\u001b[38;5;124m\"\u001b[39m\u001b[38;5;132;01m{\u001b[39;00mlosses\u001b[38;5;132;01m=}\u001b[39;00m\u001b[38;5;124m\"\u001b[39m)\n",
      "File \u001b[0;32m/mnt/shared/jaeyoung/FSSCIL/algorithms/imbalance.py:82\u001b[0m, in \u001b[0;36mHeuristic2.get_loss_grad_all\u001b[0;34m(self, task_id)\u001b[0m\n\u001b[1;32m     79\u001b[0m \u001b[38;5;66;03m# loss_ = torch.stack(v).mean(dim=0).view(1, -1).detach().clone()\u001b[39;00m\n\u001b[1;32m     80\u001b[0m \u001b[38;5;66;03m# grads_ = torch.stack(v3).mean(dim=0).view(1, -1).detach().clone()\u001b[39;00m\n\u001b[1;32m     81\u001b[0m loss_ \u001b[38;5;241m=\u001b[39m torch\u001b[38;5;241m.\u001b[39mstack(v)\u001b[38;5;241m.\u001b[39mmean(dim\u001b[38;5;241m=\u001b[39m\u001b[38;5;241m0\u001b[39m)\u001b[38;5;241m.\u001b[39mview(\u001b[38;5;241m1\u001b[39m, \u001b[38;5;241m-\u001b[39m\u001b[38;5;241m1\u001b[39m)\n\u001b[0;32m---> 82\u001b[0m grads_ \u001b[38;5;241m=\u001b[39m \u001b[43mtorch\u001b[49m\u001b[38;5;241;43m.\u001b[39;49m\u001b[43mstack\u001b[49m\u001b[43m(\u001b[49m\u001b[43mv3\u001b[49m\u001b[43m)\u001b[49m\u001b[38;5;241m.\u001b[39mmean(dim\u001b[38;5;241m=\u001b[39m\u001b[38;5;241m0\u001b[39m)\u001b[38;5;241m.\u001b[39mview(\u001b[38;5;241m1\u001b[39m, \u001b[38;5;241m-\u001b[39m\u001b[38;5;241m1\u001b[39m)\n\u001b[1;32m     83\u001b[0m losses\u001b[38;5;241m.\u001b[39mappend(loss_)\n\u001b[1;32m     84\u001b[0m grads\u001b[38;5;241m.\u001b[39mappend(grads_)\n",
      "\u001b[0;31mKeyboardInterrupt\u001b[0m: "
     ]
    },
    {
     "data": {
      "text/plain": [
       "<Figure size 640x480 with 0 Axes>"
      ]
     },
     "metadata": {},
     "output_type": "display_data"
    }
   ],
   "source": [
    "trainer.run()\n",
    "print(\"final avg-acc\", metric_manager_callback.meters['accuracy'].compute_final())\n",
    "print(\"final avg-forget\", metric_manager_callback.meters['forgetting'].compute_final())"
   ]
  },
  {
   "cell_type": "code",
   "execution_count": null,
   "id": "868d0141",
   "metadata": {},
   "outputs": [],
   "source": []
  },
  {
   "cell_type": "code",
   "execution_count": null,
   "id": "c2a967a4",
   "metadata": {},
   "outputs": [],
   "source": []
  },
  {
   "cell_type": "code",
   "execution_count": null,
   "id": "32a11f5e",
   "metadata": {},
   "outputs": [],
   "source": []
  },
  {
   "cell_type": "code",
   "execution_count": 8,
   "id": "2ebfb58a",
   "metadata": {},
   "outputs": [
    {
     "data": {
      "text/plain": [
       "[0.0, 0.1865, 0.38422222222222224, 0.315125, 0.23364000000000001]"
      ]
     },
     "execution_count": 8,
     "metadata": {},
     "output_type": "execute_result"
    }
   ],
   "source": [
    "metric_manager_callback.meters['EER'].get_eer()"
   ]
  },
  {
   "cell_type": "code",
   "execution_count": 9,
   "id": "06af72df",
   "metadata": {},
   "outputs": [
    {
     "data": {
      "text/plain": [
       "[0.009000000000000008,\n",
       " 0.2092146027408221,\n",
       " 0.4080785940096453,\n",
       " 0.36503381692659653,\n",
       " 0.30184141531605635]"
      ]
     },
     "execution_count": 9,
     "metadata": {},
     "output_type": "execute_result"
    }
   ],
   "source": [
    "metric_manager_callback.meters['std'].get_std()"
   ]
  },
  {
   "cell_type": "code",
   "execution_count": 10,
   "id": "7039ed8b",
   "metadata": {},
   "outputs": [
    {
     "data": {
      "text/plain": [
       "array([[0.977, 0.   , 0.   , 0.   , 0.   ],\n",
       "       [0.259, 0.632, 0.   , 0.   , 0.   ],\n",
       "       [0.003, 0.005, 0.868, 0.   , 0.   ],\n",
       "       [0.004, 0.036, 0.01 , 0.857, 0.   ],\n",
       "       [0.032, 0.203, 0.026, 0.173, 0.838]])"
      ]
     },
     "execution_count": 10,
     "metadata": {},
     "output_type": "execute_result"
    }
   ],
   "source": [
    "metric_manager_callback.meters['accuracy'].get_data()"
   ]
  },
  {
   "cell_type": "code",
   "execution_count": 11,
   "id": "173c4765",
   "metadata": {},
   "outputs": [
    {
     "data": {
      "text/plain": [
       "0.4391633333333333"
      ]
     },
     "execution_count": 11,
     "metadata": {},
     "output_type": "execute_result"
    }
   ],
   "source": [
    "metric_manager_callback.meters['accuracy'].compute_overall()"
   ]
  },
  {
   "cell_type": "code",
   "execution_count": 12,
   "id": "706ad34c",
   "metadata": {},
   "outputs": [
    {
     "name": "stdout",
     "output_type": "stream",
     "text": [
      "accuracy:0.4391633333333333\n",
      "EER:0.22389744444444445\n",
      "std:0.25863368579862406\n"
     ]
    }
   ],
   "source": [
    "print(f\"accuracy:{np.mean(metric_manager_callback.meters['accuracy'].compute_overall())}\")\n",
    "print(f\"EER:{np.mean(metric_manager_callback.meters['EER'].compute_overall())}\")\n",
    "print(f\"std:{np.mean(metric_manager_callback.meters['std'].compute_overall())}\")\n"
   ]
  },
  {
   "cell_type": "code",
   "execution_count": null,
   "id": "2b848e47",
   "metadata": {},
   "outputs": [],
   "source": []
  }
 ],
 "metadata": {
  "kernelspec": {
   "display_name": "cil",
   "language": "python",
   "name": "python3"
  },
  "language_info": {
   "codemirror_mode": {
    "name": "ipython",
    "version": 3
   },
   "file_extension": ".py",
   "mimetype": "text/x-python",
   "name": "python",
   "nbconvert_exporter": "python",
   "pygments_lexer": "ipython3",
   "version": "3.9.18"
  }
 },
 "nbformat": 4,
 "nbformat_minor": 5
}
