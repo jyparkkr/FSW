{
 "cells": [
  {
   "cell_type": "code",
   "execution_count": 1,
   "id": "b0c3b92f",
   "metadata": {},
   "outputs": [
    {
     "name": "stdout",
     "output_type": "stream",
     "text": [
      "output_dir=./outputs/dataset=MNIST/seed=1_epoch=1_lr=0.001_alpha=0.0_tau=10\n"
     ]
    }
   ],
   "source": [
    "from torchvision.datasets import MNIST, FashionMNIST, CIFAR10\n",
    "import torchvision\n",
    "import numpy as np\n",
    "import random\n",
    "\n",
    "import torch\n",
    "import torch.nn.functional as F\n",
    "import cl_gym as cl\n",
    "\n",
    "import sys\n",
    "import os\n",
    "\n",
    "seed = 1\n",
    "\n",
    "np.random.seed(seed)\n",
    "torch.manual_seed(seed)\n",
    "np.random.seed(seed)\n",
    "random.seed(seed)\n",
    "torch.cuda.manual_seed_all(seed)\n",
    "torch.manual_seed(seed)\n",
    "torch.backends.cudnn.deterministic = True\n",
    "torch.backends.cudnn.benchmark = True\n",
    "# torch.backends.cudnn.enabled = False\n",
    "\n",
    "def make_params() -> dict:\n",
    "    import os\n",
    "    from pathlib import Path\n",
    "    import uuid\n",
    "\n",
    "    params = {\n",
    "            # dataset\n",
    "            'dataset': \"MNIST\",\n",
    "            # 'dataset': \"FMNIST\",\n",
    "\n",
    "            # benchmark\n",
    "            'seed': seed,\n",
    "            'num_tasks': 5,\n",
    "            'epochs_per_task': 1,\n",
    "            # 'per_task_examples': np.inf,\n",
    "            'per_task_examples': 10000,\n",
    "            'per_task_memory_examples': 32,\n",
    "            'batch_size_train': 20,\n",
    "            'batch_size_memory': 20,\n",
    "            'batch_size_validation': 256,\n",
    "            'tau': 10,\n",
    "            # 'tau': 0.0,\n",
    "\n",
    "            # algorithm\n",
    "            'optimizer': 'sgd',\n",
    "            'learning_rate': 0.001,\n",
    "            'momentum': 0.9,\n",
    "            'learning_rate_decay': 1.0,\n",
    "            'criterion': torch.nn.CrossEntropyLoss(),\n",
    "            'device': torch.device('cuda:7' if torch.cuda.is_available() else 'cpu'),\n",
    "             \n",
    "            # sample selection\n",
    "            'alpha':0.00\n",
    "              }\n",
    "\n",
    "#     trial_id = str(uuid.uuid4())\n",
    "    trial_id = f\"demo/dataset={params['dataset']}/seed={params['seed']}_epoch={params['epochs_per_task']}_lr={params['learning_rate']}_alpha={params['alpha']}_tau={params['tau']}\"\n",
    "    params['trial_id'] = trial_id\n",
    "    params['output_dir'] = os.path.join(\"./outputs/{}\".format(trial_id))\n",
    "    print(f\"output_dir={params['output_dir']}\")\n",
    "    Path(params['output_dir']).mkdir(parents=True, exist_ok=True)\n",
    "\n",
    "    return params\n",
    "\n",
    "params = make_params()"
   ]
  },
  {
   "cell_type": "code",
   "execution_count": 2,
   "id": "93b43ace",
   "metadata": {},
   "outputs": [
    {
     "name": "stdout",
     "output_type": "stream",
     "text": [
      "[0 1 2 3 4 5 6 7 8 9]\n"
     ]
    }
   ],
   "source": [
    "from datasets import MNIST\n",
    "from datasets import FashionMNIST\n",
    "from datasets import CIFAR10, CIFAR100\n",
    "\n",
    "if params['dataset'] == 'MNIST':\n",
    "    benchmark = MNIST(num_tasks=params['num_tasks'],\n",
    "                      per_task_memory_examples=params['per_task_memory_examples'],\n",
    "                      per_task_examples = params['per_task_examples'],\n",
    "                      random_class_idx = False)\n",
    "    label_li = ['0', '1', '2', '3', '4', '5', '6', '7', '8', '9']\n",
    "    n_feature = 28*28\n",
    "\n",
    "elif params['dataset'] == 'FMNIST':\n",
    "    benchmark = FashionMNIST(num_tasks=params['num_tasks'],\n",
    "                             per_task_memory_examples=params['per_task_memory_examples'],\n",
    "                             per_task_examples = params['per_task_examples'],\n",
    "                             random_class_idx = False)\n",
    "\n",
    "    label_li = ['T-shirt/top', 'Trouser', 'Pullover', 'Dress', 'Coat', 'Sandal', 'Shirt', 'Sneaker', 'Bag', \n",
    "                  'Ankel boot']\n",
    "    n_feature = 28*28\n",
    "    \n",
    "elif params['dataset'] == 'CIFAR10':\n",
    "    label_li = ['airplane', 'automobile', 'bird', 'cat', 'deer', 'dog', 'frog', 'horse', 'ship', 'truck']\n",
    "    benchmark = CIFAR10(num_tasks=params['num_tasks'],\n",
    "                        per_task_memory_examples=params['per_task_memory_examples'],\n",
    "                        per_task_examples = params['per_task_examples'],\n",
    "                        random_class_idx = False)\n",
    "    n_feature = 32*32*3\n",
    "\n",
    "elif params['dataset'] == 'CIFAR100':\n",
    "    label_li = ['airplane', 'automobile', 'bird', 'cat', 'deer', 'dog', 'frog', 'horse', 'ship', 'truck']\n",
    "    benchmark = CIFAR100(num_tasks=params['num_tasks'],\n",
    "                        per_task_memory_examples=params['per_task_memory_examples'],\n",
    "                        per_task_examples = params['per_task_examples'],\n",
    "                        random_class_idx = False)\n",
    "    n_feature = 32*32*3"
   ]
  },
  {
   "cell_type": "code",
   "execution_count": 3,
   "id": "20c7b886",
   "metadata": {},
   "outputs": [],
   "source": [
    "from algorithms.gss import GSSGreedy\n",
    "from metrics import MetricCollector2\n",
    "\n",
    "backbone = cl.backbones.MLP2Layers(input_dim=784, hidden_dim_1=256, hidden_dim_2=256, output_dim=10).to(params['device'])\n",
    "algorithm = GSSGreedy(backbone, benchmark, params, requires_memory=True)\n",
    "metric_manager_callback = MetricCollector2(num_tasks=params['num_tasks'],\n",
    "                                                        eval_interval='epoch',\n",
    "                                                        epochs_per_task=params['epochs_per_task'])"
   ]
  },
  {
   "cell_type": "code",
   "execution_count": 4,
   "id": "7c1bb4fe",
   "metadata": {},
   "outputs": [
    {
     "name": "stdout",
     "output_type": "stream",
     "text": [
      "---------------------------- Task 1 -----------------------\n",
      "[1] Eval metrics for task 1 >> {'accuracy': 99.89795918367346, 'loss': 2.267684800722075e-05, 'std': 0.10204081632653184}\n",
      "---------------------------- Task 2 -----------------------\n",
      "[2] Eval metrics for task 1 >> {'accuracy': 93.51411489706014, 'loss': 0.00116691486491661, 'std': 0.7590128562438181}\n",
      "[2] Eval metrics for task 2 >> {'accuracy': 97.30994320362268, 'loss': 0.000292949172340691, 'std': 0.3138191726149375}\n",
      "---------------------------- Task 3 -----------------------\n",
      "[3] Eval metrics for task 1 >> {'accuracy': 91.08356558482424, 'loss': 0.0012448886396191645, 'std': 4.24683089094669}\n",
      "[3] Eval metrics for task 2 >> {'accuracy': 54.92775731061479, 'loss': 0.008067858674500527, 'std': 25.56729219433571}\n",
      "[3] Eval metrics for task 3 >> {'accuracy': 98.34920953850931, 'loss': 0.00019870428000691098, 'std': 1.0397924981505657}\n",
      "---------------------------- Task 4 -----------------------\n",
      "[4] Eval metrics for task 1 >> {'accuracy': 88.83170008091342, 'loss': 0.001585446125508482, 'std': 6.586802121729751}\n",
      "[4] Eval metrics for task 2 >> {'accuracy': 50.380881111366946, 'loss': 0.010562360228333954, 'std': 30.80723770051424}\n",
      "[4] Eval metrics for task 3 >> {'accuracy': 77.81467765062607, 'loss': 0.003181138440664448, 'std': 5.2810453636305486}\n",
      "[4] Eval metrics for task 4 >> {'accuracy': 98.35584835462986, 'loss': 0.00018512975745285746, 'std': 0.49592617564153674}\n",
      "---------------------------- Task 5 -----------------------\n",
      "[5] Eval metrics for task 1 >> {'accuracy': 83.06257304683989, 'loss': 0.0030978350492797562, 'std': 5.307471006023556}\n",
      "[5] Eval metrics for task 2 >> {'accuracy': 43.92950341545782, 'loss': 0.013100598748120225, 'std': 27.45663519840356}\n",
      "[5] Eval metrics for task 3 >> {'accuracy': 63.81743581781484, 'loss': 0.007134611285992341, 'std': 4.512503082388831}\n",
      "[5] Eval metrics for task 4 >> {'accuracy': 83.01371615638938, 'loss': 0.0026270133881170343, 'std': 10.932004094132559}\n",
      "[5] Eval metrics for task 5 >> {'accuracy': 96.26177543789672, 'loss': 0.00043718029138600654, 'std': 0.3685516185948645}\n",
      "final avg-acc 74.01700077487973\n",
      "final avg-forget 30.022432960983345\n"
     ]
    }
   ],
   "source": [
    "from trainers.baselines import BaseMemoryContinualTrainer\n",
    "\n",
    "trainer = BaseMemoryContinualTrainer(algorithm, params, callbacks=[metric_manager_callback])\n",
    "trainer.run()\n",
    "print(\"final avg-acc\", metric_manager_callback.meters['accuracy'].compute_final())\n",
    "print(\"final avg-forget\", metric_manager_callback.meters['forgetting'].compute_final())"
   ]
  },
  {
   "cell_type": "code",
   "execution_count": null,
   "id": "523c774b",
   "metadata": {},
   "outputs": [],
   "source": []
  },
  {
   "cell_type": "code",
   "execution_count": 13,
   "id": "0ef699db",
   "metadata": {},
   "outputs": [
    {
     "data": {
      "text/plain": [
       "tensor([3, 3, 3, 3, 3, 3, 2, 3, 3, 3, 3, 3, 3, 3, 3, 3, 3, 3, 3, 3, 3, 3, 3, 3,\n",
       "        3, 3, 2, 2, 3, 3, 3, 3])"
      ]
     },
     "execution_count": 13,
     "metadata": {},
     "output_type": "execute_result"
    }
   ],
   "source": [
    "tid = 2\n",
    "loader = torch.utils.data.DataLoader(torch.utils.data.Subset(benchmark.trains[tid], benchmark.memory_indices_train[tid]), batch_size=32)\n",
    "for items in loader:\n",
    "    img, target, task_id, index, sample_weight = items\n",
    "    break\n",
    "\n",
    "target\n"
   ]
  },
  {
   "cell_type": "code",
   "execution_count": null,
   "id": "d0e61b29",
   "metadata": {},
   "outputs": [],
   "source": []
  },
  {
   "cell_type": "code",
   "execution_count": 6,
   "id": "c076b062",
   "metadata": {},
   "outputs": [
    {
     "data": {
      "text/plain": [
       "[0.10204081632653184,\n",
       " 1.9847845292996977,\n",
       " 24.184163967404114,\n",
       " 24.043098010088496,\n",
       " 22.754890378265582]"
      ]
     },
     "execution_count": 6,
     "metadata": {},
     "output_type": "execute_result"
    }
   ],
   "source": [
    "metric_manager_callback.meters['std'].get_std()"
   ]
  },
  {
   "cell_type": "code",
   "execution_count": 7,
   "id": "076dc8ca",
   "metadata": {},
   "outputs": [
    {
     "data": {
      "text/plain": [
       "array([ 0.102,  1.985, 24.184, 24.043, 22.755])"
      ]
     },
     "execution_count": 7,
     "metadata": {},
     "output_type": "execute_result"
    }
   ],
   "source": [
    "metric_manager_callback.meters['std'].get_data()"
   ]
  },
  {
   "cell_type": "code",
   "execution_count": 14,
   "id": "7039ed8b",
   "metadata": {},
   "outputs": [
    {
     "data": {
      "text/plain": [
       "array([[99.898,  0.   ,  0.   ,  0.   ,  0.   ],\n",
       "       [93.514, 97.31 ,  0.   ,  0.   ,  0.   ],\n",
       "       [91.084, 54.928, 98.349,  0.   ,  0.   ],\n",
       "       [88.832, 50.381, 77.815, 98.356,  0.   ],\n",
       "       [83.063, 43.93 , 63.817, 83.014, 96.262]])"
      ]
     },
     "execution_count": 14,
     "metadata": {},
     "output_type": "execute_result"
    }
   ],
   "source": [
    "metric_manager_callback.meters['accuracy'].get_data()"
   ]
  },
  {
   "cell_type": "code",
   "execution_count": 9,
   "id": "173c4765",
   "metadata": {},
   "outputs": [
    {
     "data": {
      "text/plain": [
       "85.92525532391896"
      ]
     },
     "execution_count": 9,
     "metadata": {},
     "output_type": "execute_result"
    }
   ],
   "source": [
    "metric_manager_callback.meters['accuracy'].compute_overall()"
   ]
  },
  {
   "cell_type": "code",
   "execution_count": 10,
   "id": "706ad34c",
   "metadata": {},
   "outputs": [
    {
     "name": "stdout",
     "output_type": "stream",
     "text": [
      "accuracy:85.92525532391896\n",
      "fairness:14.613795540276886\n"
     ]
    }
   ],
   "source": [
    "print(f\"accuracy:{np.mean(metric_manager_callback.meters['accuracy'].compute_overall())}\")\n",
    "print(f\"fairness:{np.mean(metric_manager_callback.meters['std'].compute_overall())}\")\n"
   ]
  },
  {
   "cell_type": "code",
   "execution_count": 11,
   "id": "354dc9b2",
   "metadata": {},
   "outputs": [
    {
     "data": {
      "text/plain": [
       "14.613795540276886"
      ]
     },
     "execution_count": 11,
     "metadata": {},
     "output_type": "execute_result"
    }
   ],
   "source": [
    "metric_manager_callback.meters['std'].compute_overall()"
   ]
  },
  {
   "cell_type": "code",
   "execution_count": 15,
   "id": "2b848e47",
   "metadata": {},
   "outputs": [
    {
     "data": {
      "text/plain": [
       "<metrics.metric_manager.PerformanceMetric2 at 0x7f1e801ba3d0>"
      ]
     },
     "execution_count": 15,
     "metadata": {},
     "output_type": "execute_result"
    }
   ],
   "source": [
    "metric_manager_callback.meters['accuracy']"
   ]
  },
  {
   "cell_type": "code",
   "execution_count": null,
   "id": "feef73c9",
   "metadata": {},
   "outputs": [],
   "source": []
  }
 ],
 "metadata": {
  "kernelspec": {
   "display_name": "cil",
   "language": "python",
   "name": "python3"
  },
  "language_info": {
   "codemirror_mode": {
    "name": "ipython",
    "version": 3
   },
   "file_extension": ".py",
   "mimetype": "text/x-python",
   "name": "python",
   "nbconvert_exporter": "python",
   "pygments_lexer": "ipython3",
   "version": "3.9.18"
  }
 },
 "nbformat": 4,
 "nbformat_minor": 5
}
