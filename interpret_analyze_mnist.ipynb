{
 "cells": [
  {
   "cell_type": "code",
   "execution_count": 2,
   "metadata": {},
   "outputs": [],
   "source": [
    "import torch\n",
    "import numpy as np\n",
    "\n",
    "import random\n",
    "import copy\n",
    "import os\n",
    "import pickle\n",
    "\n",
    "import cl_gym as cl\n",
    "from metrics import MetricCollector2, FairMetricCollector\n",
    "from configs import make_params\n",
    "\n",
    "EER_dataset = [\"MNIST\", \"FashionMNIST\", \"CIFAR10\", \"CIFAR100\"]"
   ]
  },
  {
   "cell_type": "code",
   "execution_count": 3,
   "metadata": {},
   "outputs": [],
   "source": [
    "LOG_PATH = f\"scripts_output\"\n",
    "OUT_PATH = f\"outputs\"\n",
    "\n",
    "def is_number(value):\n",
    "    flag=True\n",
    "    try:\n",
    "        num=float(value)\n",
    "        flag = num == num\n",
    "    except ValueError:\n",
    "        flag=False\n",
    "    return flag\n",
    "\n",
    "\n",
    "def load(dataset, seed, epoch, lr, tau, alpha, lmbd, method, fair_metric, randinx = False, verbose=2):\n",
    "    path = f\"dataset={dataset}\"\n",
    "    if randinx:\n",
    "        path+=\"_randidx\"\n",
    "    # if method != \"FSW\":\n",
    "    #     fair_metric = \"no_metrics\"\n",
    "    path = os.path.join(path, method)\n",
    "    path = os.path.join(path, fair_metric)\n",
    "\n",
    "    # Get log_path\n",
    "    runs = list()\n",
    "    for d in os.listdir(os.path.join(LOG_PATH, path)):\n",
    "        info_dict = dict()\n",
    "        info_dict['path'] = d\n",
    "        # print(f\"{d=}\")\n",
    "        for elem in d.split(\"_\"):\n",
    "            k, v = elem.split(\"=\")\n",
    "            info_dict[k] = int(v) if v.isdigit() else float(v) if is_number(v) else v\n",
    "            info_dict['path'] = d\n",
    "        runs.append(info_dict)\n",
    "    avails = list()\n",
    "    for run in runs:\n",
    "        seed_flag = seed == run.get(\"seed\", None)\n",
    "        epoch_flag = epoch == run.get(\"epoch\", None)\n",
    "        lr_flag = lr == run.get(\"lr\", None)\n",
    "        tau_flag = tau == run.get(\"tau\", 0)\n",
    "        alpha_flag = alpha == run.get(\"alpha\", 0)\n",
    "        lmbd_flag = lmbd == run.get(\"lmbd\", 0)\n",
    "        flag = seed_flag & epoch_flag & lr_flag & tau_flag & alpha_flag & lmbd_flag\n",
    "        if flag:\n",
    "            avails.append(run)\n",
    "    \n",
    "    if len(avails) == 0:\n",
    "        if verbose > 2:\n",
    "            print(runs)\n",
    "        return False\n",
    "    target = avails[0]\n",
    "    \n",
    "    log_path = os.path.join(path, target['path'])\n",
    "\n",
    "    out = os.path.join(os.path.join(LOG_PATH, log_path), \"log.out\")\n",
    "    err = os.path.join(os.path.join(LOG_PATH, log_path), \"log.err\")\n",
    "    if os.path.exists(err):\n",
    "        with open(err, \"r\") as f:\n",
    "            lines = f.readlines()\n",
    "        if len(lines):\n",
    "            if verbose:\n",
    "                print(f\"Error in {err} - error during running\")\n",
    "                for line in lines:\n",
    "                    print(line)\n",
    "            return False\n",
    "    else:\n",
    "        if verbose:\n",
    "            print(f\"error in {os.path.join(LOG_PATH, path)} - not exists\")\n",
    "        return False\n",
    "    if os.path.exists(out):\n",
    "        with open(out, \"r\") as f:\n",
    "            lines = f.readlines()\n",
    "        if len(lines) == 0:\n",
    "            if verbose:\n",
    "                print(f\"{os.path.join(LOG_PATH, path)} - currently running\")\n",
    "            return False\n",
    "        \n",
    "    # Get out_path\n",
    "    runs = list()\n",
    "    for d in os.listdir(os.path.join(OUT_PATH, path)):\n",
    "        info_dict = dict()\n",
    "        info_dict['path'] = d\n",
    "        # print(f\"{d=}\")\n",
    "        for elem in d.split(\"_\"):\n",
    "            k, v = elem.split(\"=\")\n",
    "            info_dict[k] = int(v) if v.isdigit() else float(v) if is_number(v) else v\n",
    "            info_dict['path'] = d\n",
    "        runs.append(info_dict)\n",
    "\n",
    "    avails = list()\n",
    "    for run in runs:\n",
    "        seed_flag = seed == run.get(\"seed\", None)\n",
    "        epoch_flag = epoch == run.get(\"epoch\", None)\n",
    "        lr_flag = lr == run.get(\"lr\", None)\n",
    "        tau_flag = tau == run.get(\"tau\", 0)\n",
    "        alpha_flag = alpha == run.get(\"alpha\", 0)\n",
    "        lmbd_flag = lmbd == run.get(\"lmbd\", 0)\n",
    "        flag = seed_flag & epoch_flag & lr_flag & tau_flag & alpha_flag & lmbd_flag\n",
    "        if flag:\n",
    "            avails.append(run)\n",
    "    if len(avails) == 0:\n",
    "        if verbose > 2:\n",
    "            print(runs)\n",
    "        return False\n",
    "    target = avails[0]\n",
    "    out_path = os.path.join(path, target['path'])\n",
    "    return out_path\n",
    "\n",
    "def print_log(path, option='err'):\n",
    "    out = os.path.join(os.path.join(LOG_PATH, path), \"log.out\")\n",
    "    err = os.path.join(os.path.join(LOG_PATH, path), \"log.err\")    \n",
    "    if option == \"err\":\n",
    "        if os.path.exists(err):\n",
    "            with open(out, \"r\") as f:\n",
    "                lines = f.readlines()\n",
    "                print(lines)\n",
    "    elif option == \"out\":\n",
    "        if os.path.exists(out):\n",
    "            with open(out, \"r\") as f:\n",
    "                lines = f.readlines()\n",
    "                print(lines)\n",
    "\n",
    "def load_metrics(path, verbose=0):\n",
    "    metrics_dir = os.path.join(os.path.join(OUT_PATH, path), \"metrics/metrics.pickle\")\n",
    "    try:\n",
    "        with open(metrics_dir, \"rb\") as f:\n",
    "            metric_manager_callback = pickle.load(f)\n",
    "    except:\n",
    "        print(f\"{path} still running\")\n",
    "        return -1\n",
    "\n",
    "    if verbose>0:\n",
    "        print(f\"{metric_manager_callback.meters.keys()}\")\n",
    "    return metric_manager_callback"
   ]
  },
  {
   "cell_type": "code",
   "execution_count": null,
   "metadata": {},
   "outputs": [],
   "source": []
  },
  {
   "cell_type": "code",
   "execution_count": 4,
   "metadata": {},
   "outputs": [],
   "source": [
    "def get_best(dataset, seed_range, epoch, lr_range, tau_range, alpha_range, lambda_range, \\\n",
    "             method, randinx = False, verbose=1, metric=None):\n",
    "    randinx = False\n",
    "    acc_list = list()\n",
    "    fair_list = list()\n",
    "    info_list = list()\n",
    "    if dataset in EER_dataset:\n",
    "        disp_metric = \"EER\"\n",
    "        disp_metric2 = \"EER\"\n",
    "        metric = \"EER\"\n",
    "    else:\n",
    "        if metric is None or metric == \"no_metrics\":\n",
    "            disp_metric = \"EO\"\n",
    "            disp_metric2 = \"DP\"\n",
    "        else:\n",
    "            if metric == \"EO\":\n",
    "                disp_metric = \"EO\"\n",
    "                disp_metric2 = \"DP\"\n",
    "            elif metric == \"DP\":\n",
    "                disp_metric = \"DP\"\n",
    "                disp_metric2 = \"EO\"\n",
    "\n",
    "    # MNIST\n",
    "    # if method in ['joint', 'vanilla', 'finetune']:\n",
    "    if method in ['joint', 'vanilla', 'finetune', 'AGEM', \"GSS\", \"iCaRL\", \"WA\", \"OCS\", \"FaIRL\"]:\n",
    "        metric = \"no_metrics\"\n",
    "    for tau in tau_range:\n",
    "        for lr in lr_range:\n",
    "            for alpha in alpha_range:\n",
    "                for lmbd in lambda_range:\n",
    "                    cnt = 0\n",
    "                    acc_temp = list()\n",
    "                    acc_std_temp = list()\n",
    "                    fair_temp = list()\n",
    "                    fair_2_temp = list()\n",
    "                    \n",
    "                    fair_std_temp = list()\n",
    "                    # print(f\"{info=}\")\n",
    "                    avail_seed = copy.deepcopy(seed_range)\n",
    "                    for seed in seed_range:\n",
    "                        path = load(dataset, seed, epoch, lr, tau, alpha, lmbd, method, metric, randinx=randinx)\n",
    "                        if not path:\n",
    "                            if verbose>1:\n",
    "                                print(\"Remove\")\n",
    "                                print(f\"{dataset=}, {randinx=}, {method=}, {metric=}\")\n",
    "                                print(f\"{seed=}, {epoch=}, {lr=}, {tau=}, {alpha=}, {lmbd=}\")\n",
    "                            avail_seed.remove(seed)\n",
    "                            # print(seed)\n",
    "                            # print(target_dir)\n",
    "                            continue\n",
    "                        mmc = load_metrics(path, verbose=verbose-1)\n",
    "                        if mmc == -1:\n",
    "                            continue\n",
    "                        acc_temp.append(np.mean(mmc.meters['accuracy'].compute_overall()))\n",
    "                        fair_temp.append(np.mean(mmc.meters[disp_metric].compute_overall()))\n",
    "                        fair_2_temp.append(np.mean(mmc.meters[disp_metric2].compute_overall()))\n",
    "                        cnt+=1\n",
    "                    info = f\"lr={lr}_tau={tau}_alpha_{alpha}_lmbd_{lmbd}({cnt=}, {avail_seed})\"\n",
    "                    if cnt == 0:\n",
    "                        print(f\"{info=}: check if boom?\")\n",
    "                        continue\n",
    "                    else:\n",
    "                        acc_mean = np.mean(acc_temp)\n",
    "                        acc_std = np.std(acc_temp)\n",
    "                        fair_mean = np.mean(fair_temp)\n",
    "                        fair_std = np.std(fair_temp)\n",
    "                        fair_2_mean = np.mean(fair_2_temp)\n",
    "                        fair_2_std = np.std(fair_2_temp)\n",
    "                        info_list.append(info)\n",
    "                        acc_list.append(acc_mean)\n",
    "                        fair_list.append(fair_mean)\n",
    "                        out = f\"{info}\\nacc:{acc_mean}±{acc_std}\\nfair:{fair_mean}±{fair_std}\"\n",
    "                        if dataset not in EER_dataset:\n",
    "                            out+=f\"\\nfair2:{fair_2_mean}±{fair_2_std}\"\n",
    "                        if verbose:\n",
    "                            print(out)\n",
    "    if verbose:\n",
    "        print()\n",
    "\n",
    "    # 대충 정한 measure\n",
    "    # integrated_score = [e - 2*fair_list[i] for i, e in enumerate(acc_list)]\n",
    "    # print(f\"{acc_list=}\")\n",
    "    # idx = integrated_score.index(max(integrated_score))\n",
    "    # print(f\"{info_list[idx]}\")\n",
    "    # accuracy = acc_list[idx]\n",
    "    # fairness = fair_list[idx]\n",
    "\n",
    "    # if accuracy > 1:\n",
    "    #     accuracy /= 100\n",
    "    # print(f\"acc:{accuracy}\")\n",
    "    # print(f\"fair:{fairness}\")\n",
    "    return info_list, acc_list, fair_list\n"
   ]
  },
  {
   "cell_type": "code",
   "execution_count": 5,
   "metadata": {},
   "outputs": [],
   "source": [
    "import matplotlib.pyplot as plt\n",
    "\n",
    "def plot(acc_list, fair_list, marker = \"o\"):\n",
    "    plt.scatter(acc_list, fair_list, marker=marker, s = 10)\n",
    "    plt.xlabel('acc')\n",
    "    plt.ylabel('fairness')"
   ]
  },
  {
   "cell_type": "code",
   "execution_count": null,
   "metadata": {},
   "outputs": [],
   "source": []
  },
  {
   "cell_type": "code",
   "execution_count": null,
   "metadata": {},
   "outputs": [],
   "source": []
  },
  {
   "cell_type": "code",
   "execution_count": 12,
   "metadata": {},
   "outputs": [
    {
     "name": "stdout",
     "output_type": "stream",
     "text": [
      "dict_keys(['accuracy', 'EER', 'std', 'forgetting', 'loss'])\n",
      "dict_keys(['accuracy', 'EER', 'std', 'forgetting', 'loss'])\n"
     ]
    }
   ],
   "source": [
    "seed = 0\n",
    "\n",
    "num_task = 5\n",
    "per_task_classes = 2\n",
    "verbose = 2\n",
    "dataset = \"MNIST\"\n",
    "epoch = 5\n",
    "lr = 0.001\n",
    "tau = 10.0\n",
    "alpha = 0.0\n",
    "lmbd = 0.0\n",
    "method = \"vanilla\"\n",
    "metric = \"no_metrics\"\n",
    "\n",
    "vanilla_path = load(dataset, seed, epoch, lr, tau, alpha, lmbd, method, metric, randinx=False)\n",
    "vanilla_mmc = load_metrics(vanilla_path, verbose=verbose-1)\n",
    "\n",
    "lr = 0.001\n",
    "tau = 5.0\n",
    "alpha = 0.001\n",
    "lmbd = 1.0\n",
    "method = \"FSW\"\n",
    "metric = \"EER\"\n",
    "\n",
    "FSW_path = load(dataset, seed, epoch, lr, tau, alpha, lmbd, method, metric, randinx=False)\n",
    "FSW_mmc = load_metrics(FSW_path, verbose=verbose-1)\n"
   ]
  },
  {
   "cell_type": "code",
   "execution_count": null,
   "metadata": {},
   "outputs": [],
   "source": []
  },
  {
   "cell_type": "code",
   "execution_count": 13,
   "metadata": {},
   "outputs": [],
   "source": [
    "vanilla_acc_array = np.zeros(epoch*num_task)\n",
    "vanilla_eer_array = np.zeros(epoch*num_task)\n",
    "for k in range(epoch):\n",
    "    mean_data = vanilla_mmc.meters['EER'].acc_metric.data[1:,1:,k]\n",
    "    for i, e in enumerate(mean_data):\n",
    "        task_mean = np.mean(e[:i+1])\n",
    "        abs_diff = list()\n",
    "        for j in range(i+1):\n",
    "            abs_diff.append(np.abs(mean_data[i, j] - task_mean))\n",
    "        task_eer = np.mean(abs_diff)\n",
    "        vanilla_acc_array[i*epoch+k] = task_mean\n",
    "        vanilla_eer_array[i*epoch+k] = task_eer\n",
    "        # print(task_mean)\n"
   ]
  },
  {
   "cell_type": "code",
   "execution_count": 14,
   "metadata": {},
   "outputs": [],
   "source": [
    "FSW_acc_array = np.zeros(epoch*num_task)\n",
    "FSW_eer_array = np.zeros(epoch*num_task)\n",
    "for k in range(epoch):\n",
    "    eer_data = FSW_mmc.meters['EER'].data[1:,1:,k]\n",
    "    mean_data = FSW_mmc.meters['EER'].acc_metric.data[1:,1:,k]\n",
    "    for i, e in enumerate(mean_data):\n",
    "        task_mean = np.mean(e[:i+1])\n",
    "        abs_diff = list()\n",
    "        for j in range(i+1):\n",
    "            abs_diff.append(np.abs(mean_data[i, j] - task_mean))\n",
    "        task_eer = np.mean(abs_diff)\n",
    "        FSW_acc_array[i*epoch+k] = task_mean\n",
    "        FSW_eer_array[i*epoch+k] = task_eer\n",
    "        # print(task_mean)\n"
   ]
  },
  {
   "cell_type": "code",
   "execution_count": 15,
   "metadata": {},
   "outputs": [
    {
     "data": {
      "image/png": "[encoded data removed]",
      "text/plain": [
       "<Figure size 640x480 with 1 Axes>"
      ]
     },
     "metadata": {},
     "output_type": "display_data"
    }
   ],
   "source": [
    "x = np.arange(1, epoch*num_task+1)\n",
    "\n",
    "plt.plot(x, vanilla_acc_array, label = \"vanilla\")\n",
    "plt.plot(x, FSW_acc_array, label = \"FSW\")\n",
    "\n",
    "plt.legend()\n",
    "plt.xlabel('epochs')\n",
    "plt.ylabel('accuracy')\n",
    "\n",
    "plt.show()"
   ]
  },
  {
   "cell_type": "code",
   "execution_count": 16,
   "metadata": {},
   "outputs": [
    {
     "data": {
      "image/png": "[encoded data removed]",
      "text/plain": [
       "<Figure size 640x480 with 1 Axes>"
      ]
     },
     "metadata": {},
     "output_type": "display_data"
    }
   ],
   "source": [
    "x = np.arange(1, epoch*num_task+1)\n",
    "\n",
    "plt.plot(x, vanilla_eer_array, label = \"vanilla\")\n",
    "plt.plot(x, FSW_eer_array, label = \"FSW\")\n",
    "\n",
    "plt.legend()\n",
    "plt.xlabel('epochs')\n",
    "plt.ylabel('EER')\n",
    "\n",
    "plt.show()"
   ]
  },
  {
   "cell_type": "code",
   "execution_count": 17,
   "metadata": {},
   "outputs": [
    {
     "data": {
      "text/plain": [
       "0.026373171763858293"
      ]
     },
     "execution_count": 17,
     "metadata": {},
     "output_type": "execute_result"
    }
   ],
   "source": [
    "np.mean(FSW_eer_array)"
   ]
  },
  {
   "cell_type": "code",
   "execution_count": 18,
   "metadata": {},
   "outputs": [
    {
     "data": {
      "text/plain": [
       "0.03861224411178519"
      ]
     },
     "execution_count": 18,
     "metadata": {},
     "output_type": "execute_result"
    }
   ],
   "source": [
    "np.mean(vanilla_eer_array)"
   ]
  },
  {
   "cell_type": "code",
   "execution_count": null,
   "metadata": {},
   "outputs": [],
   "source": []
  }
 ],
 "metadata": {
  "kernelspec": {
   "display_name": "cil",
   "language": "python",
   "name": "python3"
  },
  "language_info": {
   "codemirror_mode": {
    "name": "ipython",
    "version": 3
   },
   "file_extension": ".py",
   "mimetype": "text/x-python",
   "name": "python",
   "nbconvert_exporter": "python",
   "pygments_lexer": "ipython3",
   "version": "3.9.18"
  }
 },
 "nbformat": 4,
 "nbformat_minor": 2
}
