{
 "cells": [
  {
   "cell_type": "code",
   "execution_count": 1,
   "id": "b0c3b92f",
   "metadata": {},
   "outputs": [
    {
     "name": "stdout",
     "output_type": "stream",
     "text": [
      "output_dir=./outputs/demo/dataset=MNIST/seed=0_epoch=5_lr=0.001_alpha=0.001_tau=10.0\n"
     ]
    }
   ],
   "source": [
    "import numpy as np\n",
    "import random\n",
    "\n",
    "import torch\n",
    "import torch.nn.functional as F\n",
    "import cl_gym as cl\n",
    "\n",
    "import sys\n",
    "import os\n",
    "\n",
    "seed = 0\n",
    "\n",
    "np.random.seed(seed)\n",
    "torch.manual_seed(seed)\n",
    "np.random.seed(seed)\n",
    "random.seed(seed)\n",
    "torch.cuda.manual_seed_all(seed)\n",
    "torch.manual_seed(seed)\n",
    "torch.backends.cudnn.deterministic = True\n",
    "torch.backends.cudnn.benchmark = False\n",
    "torch.backends.cudnn.enabled = False\n",
    "torch.set_num_threads(8)\n",
    "\n",
    "\n",
    "def make_params() -> dict:\n",
    "    import os\n",
    "    from pathlib import Path\n",
    "    import uuid\n",
    "\n",
    "    params = {\n",
    "            # dataset\n",
    "            'dataset': \"MNIST\",\n",
    "            # 'dataset': \"FashionMNIST\",\n",
    "            'random_class_idx': False,\n",
    "\n",
    "            # benchmark\n",
    "            'seed': seed,\n",
    "            'num_tasks': 5,\n",
    "            'epochs_per_task': 5,\n",
    "            'per_task_examples': np.inf,\n",
    "            # 'per_task_examples': 10000,\n",
    "            'per_task_memory_examples': 64,\n",
    "            'batch_size_train': 64,\n",
    "            'batch_size_memory': 64,\n",
    "            'batch_size_validation': 256,\n",
    "            'tau': 10.,\n",
    "            # 'tau': 0.0,\n",
    "\n",
    "            # algorithm\n",
    "            'optimizer': 'sgd',\n",
    "            'learning_rate': 0.001,\n",
    "            'momentum': 0.9,\n",
    "            'learning_rate_decay': 1.0,\n",
    "            'criterion': torch.nn.CrossEntropyLoss(),\n",
    "            'device': torch.device('cuda:6' if torch.cuda.is_available() else 'cpu'),\n",
    "             \n",
    "            # sample selection\n",
    "            'alpha':0.001,\n",
    "            'lambda': 1.,\n",
    "            'lambda_old': 0.0,\n",
    "              }\n",
    "\n",
    "#     trial_id = str(uuid.uuid4())\n",
    "    trial_id = f\"demo/dataset={params['dataset']}/seed={params['seed']}_epoch={params['epochs_per_task']}_lr={params['learning_rate']}_alpha={params['alpha']}_tau={params['tau']}\"\n",
    "    params['trial_id'] = trial_id\n",
    "    params['output_dir'] = os.path.join(\"./outputs/{}\".format(trial_id))\n",
    "    print(f\"output_dir={params['output_dir']}\")\n",
    "    Path(params['output_dir']).mkdir(parents=True, exist_ok=True)\n",
    "\n",
    "    return params\n",
    "\n",
    "params = make_params()"
   ]
  },
  {
   "cell_type": "code",
   "execution_count": 2,
   "id": "93b43ace",
   "metadata": {},
   "outputs": [
    {
     "name": "stdout",
     "output_type": "stream",
     "text": [
      "[0 1 2 3 4 5 6 7 8 9]\n"
     ]
    }
   ],
   "source": [
    "from datasets import MNIST\n",
    "from datasets import FashionMNIST\n",
    "from datasets import CIFAR10, CIFAR100\n",
    "\n",
    "if params['dataset'] == 'MNIST':\n",
    "    benchmark = MNIST(num_tasks=params['num_tasks'],\n",
    "                    per_task_memory_examples=params['per_task_memory_examples'],\n",
    "                    per_task_examples = params['per_task_examples'],\n",
    "                    random_class_idx = params['random_class_idx'])\n",
    "    input_dim = (28, 28)\n",
    "elif params['dataset'] == 'FashionMNIST':\n",
    "    benchmark = FashionMNIST(num_tasks=params['num_tasks'],\n",
    "                            per_task_memory_examples=params['per_task_memory_examples'],\n",
    "                            per_task_examples = params['per_task_examples'],\n",
    "                            random_class_idx = params['random_class_idx'])\n",
    "    input_dim = (28, 28)\n",
    "elif params['dataset'] == 'CIFAR10':\n",
    "    benchmark = CIFAR10(num_tasks=params['num_tasks'],\n",
    "                        per_task_memory_examples=params['per_task_memory_examples'],\n",
    "                        per_task_examples = params['per_task_examples'],\n",
    "                        random_class_idx = params['random_class_idx'])\n",
    "    input_dim = (3, 32, 32)\n",
    "elif params['dataset'] == 'CIFAR100':        \n",
    "    benchmark = CIFAR100(num_tasks=params['num_tasks'],\n",
    "                        per_task_memory_examples=params['per_task_memory_examples'],\n",
    "                        per_task_examples = params['per_task_examples'],\n",
    "                        random_class_idx = params['random_class_idx'])\n",
    "    input_dim = (3, 32, 32)\n",
    "else:\n",
    "    raise NotImplementedError\n",
    "class_idx = benchmark.class_idx\n",
    "num_classes = len(class_idx)\n",
    "\n"
   ]
  },
  {
   "cell_type": "code",
   "execution_count": 3,
   "id": "20c7b886",
   "metadata": {},
   "outputs": [],
   "source": [
    "from algorithms.imbalance import Heuristic2\n",
    "from metrics import MetricCollector2\n",
    "from backbones import MLP2Layers2\n",
    "\n",
    "backbone = MLP2Layers2(\n",
    "    input_dim=input_dim, \n",
    "    hidden_dim_1=256, \n",
    "    hidden_dim_2=256, \n",
    "    output_dim=num_classes,\n",
    "    class_idx=class_idx,\n",
    "    config=params\n",
    "    ).to(params['device'])\n",
    "algorithm = Heuristic2(backbone, benchmark, params, requires_memory=True)\n",
    "metric_manager_callback = MetricCollector2(num_tasks=params['num_tasks'],\n",
    "                                                        eval_interval='epoch',\n",
    "                                                        epochs_per_task=params['epochs_per_task'])"
   ]
  },
  {
   "cell_type": "code",
   "execution_count": 4,
   "id": "d8efa3ad",
   "metadata": {},
   "outputs": [],
   "source": [
    "# from trainers import ContinualTrainer\n",
    "# from trainers.fair_trainer import FairContinualTrainer2 as ContinualTrainer\n",
    "from trainers.imbalance_trainer import ImbalanceContinualTrainer1 as ContinualTrainer\n",
    "\n",
    "trainer = ContinualTrainer(algorithm, params, callbacks=[metric_manager_callback])\n"
   ]
  },
  {
   "cell_type": "code",
   "execution_count": 5,
   "id": "7c1bb4fe",
   "metadata": {},
   "outputs": [
    {
     "name": "stdout",
     "output_type": "stream",
     "text": [
      "---------------------------- Task 1 -----------------------\n",
      "[1] Eval metrics for task 1 >> {'accuracy': 0.9980288591207408, 'loss': 5.089056526198455e-05, 'std': 0.0010900836105367517, 'EER': -1}\n",
      "[2] Eval metrics for task 1 >> {'accuracy': 0.9980288591207408, 'loss': 2.8602779351932217e-05, 'std': 0.0010900836105367517, 'EER': -1}\n",
      "[3] Eval metrics for task 1 >> {'accuracy': 0.9989795918367347, 'loss': 2.204360546055415e-05, 'std': 0.0010204081632653184, 'EER': -1}\n",
      "[4] Eval metrics for task 1 >> {'accuracy': 0.9989795918367347, 'loss': 1.8415540615294843e-05, 'std': 0.0010204081632653184, 'EER': -1}\n",
      "[5] Eval metrics for task 1 >> {'accuracy': 0.9989795918367347, 'loss': 1.5980566369620622e-05, 'std': 0.0010204081632653184, 'EER': -1}\n",
      "training_task_end\n",
      "---------------------------- Task 2 -----------------------\n",
      "losses=tensor([[7.3229e-03, 2.1844e-03, 9.2363e+00, 8.9315e+00]])\n",
      "Elapsed time(grad):4.536\n",
      "### Cplex absolute_and_nonabsolute_minsum LP solver ###\n",
      "Elapsed time(optim):11.035\n",
      "Fairness:[ 0.05234528  0.19941343 -0.18956611 -0.06219225]\n",
      "Current class expected loss:tensor([[1.2612, 0.6730, 2.2289, 1.7194]])\n",
      "len(updated_seq_indices)=12089\n",
      "Elapsed time(etc):0.563\n",
      "temporal training...\n",
      "temporal training done\n",
      "[6] Eval metrics for task 1 >> {'accuracy': 0.9702036321136385, 'loss': 0.0004701816866583858, 'std': 0.006326980131259596, 'EER': -1}\n",
      "[6] Eval metrics for task 2 >> {'accuracy': 0.9531506639035996, 'loss': 0.00048379878806320624, 'std': 0.01516616777956864, 'EER': -1}\n",
      "losses=tensor([[0.0016, 0.0030, 0.1587, 0.1360]])\n",
      "Elapsed time(grad):4.973\n",
      "### Cplex absolute_and_nonabsolute_minsum LP solver ###\n",
      "Elapsed time(optim):11.13\n",
      "Fairness:[-6.48899115e-08  0.00000000e+00  0.00000000e+00  0.00000000e+00]\n",
      "Current class expected loss:tensor([[0.0762, 0.0762, 0.0762, 0.0762]])\n",
      "len(updated_seq_indices)=4928\n",
      "Elapsed time(etc):0.44\n",
      "temporal training...\n",
      "temporal training done\n",
      "[7] Eval metrics for task 1 >> {'accuracy': 0.989009260091702, 'loss': 0.00020563519487144254, 'std': 0.004868290928706276, 'EER': -1}\n",
      "[7] Eval metrics for task 2 >> {'accuracy': 0.9365089415918335, 'loss': 0.0006767255742099212, 'std': 0.015966305932918867, 'EER': -1}\n",
      "losses=tensor([[1.8261e-04, 2.3104e-04, 2.4688e-01, 1.8569e-01]])\n",
      "Elapsed time(grad):4.36\n",
      "### Cplex absolute_and_nonabsolute_minsum LP solver ###\n",
      "Elapsed time(optim):10.895\n",
      "Fairness:[-0.02320038  0.          0.          0.02320034]\n",
      "Current class expected loss:tensor([[0.1934, 0.1006, 0.1006, 0.0078]])\n",
      "len(updated_seq_indices)=3008\n",
      "Elapsed time(etc):0.408\n",
      "temporal training...\n",
      "temporal training done\n",
      "[8] Eval metrics for task 1 >> {'accuracy': 0.9849276274386407, 'loss': 0.0002535235471407009, 'std': 0.000786658275645058, 'EER': -1}\n",
      "[8] Eval metrics for task 2 >> {'accuracy': 0.9398054340317752, 'loss': 0.0006267158907494279, 'std': 0.00375892240386827, 'EER': -1}\n",
      "losses=tensor([[0.0006, 0.0004, 0.2030, 0.1991]])\n",
      "Elapsed time(grad):4.226\n",
      "### Cplex absolute_and_nonabsolute_minsum LP solver ###\n",
      "Elapsed time(optim):11.364\n",
      "Fairness:[-0.00131975 -0.018576    0.0083317   0.011564  ]\n",
      "Current class expected loss:tensor([[ 5.1535e-02,  1.2056e-01,  1.2929e-02, -1.4901e-07]])\n",
      "len(updated_seq_indices)=3520\n",
      "Elapsed time(etc):0.566\n",
      "temporal training...\n",
      "temporal training done\n",
      "[9] Eval metrics for task 1 >> {'accuracy': 0.9788523779555875, 'loss': 0.0003362452721412582, 'std': 0.0017598669423716795, 'EER': -1}\n",
      "[9] Eval metrics for task 2 >> {'accuracy': 0.945451492823701, 'loss': 0.0005966866795743481, 'std': 0.027815833908972302, 'EER': -1}\n",
      "losses=tensor([[0.0005, 0.0007, 0.2508, 0.1218]])\n",
      "Elapsed time(grad):5.081\n",
      "### Cplex absolute_and_nonabsolute_minsum LP solver ###\n",
      "Elapsed time(optim):11.255\n",
      "Fairness:[-0.00011075 -0.00466563  0.00477636  0.        ]\n",
      "Current class expected loss:tensor([[0.0462, 0.0645, 0.0267, 0.0458]])\n",
      "len(updated_seq_indices)=3584\n",
      "Elapsed time(etc):0.461\n",
      "temporal training...\n",
      "temporal training done\n",
      "[10] Eval metrics for task 1 >> {'accuracy': 0.9740987143756181, 'loss': 0.00039410803194023475, 'std': 0.0014114897060145681, 'EER': -1}\n",
      "[10] Eval metrics for task 2 >> {'accuracy': 0.9495692301788319, 'loss': 0.0005004572901914915, 'std': 0.0009258193261186265, 'EER': -1}\n",
      "training_task_end\n"
     ]
    },
    {
     "data": {
      "image/png": "[encoded data removed]",
      "text/plain": [
       "<Figure size 640x480 with 1 Axes>"
      ]
     },
     "metadata": {},
     "output_type": "display_data"
    },
    {
     "name": "stdout",
     "output_type": "stream",
     "text": [
      "---------------------------- Task 3 -----------------------\n",
      "losses=tensor([[9.8964e-04, 8.6376e-04, 3.8155e-02, 1.6840e-01, 9.8856e+00, 1.1466e+01]])\n",
      "Elapsed time(grad):4.234\n",
      "### Cplex absolute_and_nonabsolute_minsum LP solver ###\n",
      "Elapsed time(optim):12.743\n",
      "Fairness:[ 0.35497097  0.49397229  0.25491894 -0.00568913 -0.39092303 -0.7072503 ]\n",
      "Current class expected loss:tensor([[-0.5773, -1.4113,  0.0230,  1.5867,  3.8981,  5.7960]])\n",
      "len(updated_seq_indices)=11263\n",
      "Elapsed time(etc):0.482\n",
      "temporal training...\n",
      "temporal training done\n",
      "[11] Eval metrics for task 1 >> {'accuracy': 0.9242627888159669, 'loss': 0.0011413364122945366, 'std': 0.03344646228535464, 'EER': -1}\n",
      "[11] Eval metrics for task 2 >> {'accuracy': 0.8420082124491519, 'loss': 0.002029879086164723, 'std': 0.028146826310538053, 'EER': -1}\n",
      "[11] Eval metrics for task 3 >> {'accuracy': 0.947879088160887, 'loss': 0.0006711858631834277, 'std': 0.02971765318330849, 'EER': -1}\n",
      "losses=tensor([[0.0052, 0.0025, 0.0043, 0.0066, 0.1106, 0.2340]])\n",
      "Elapsed time(grad):4.452\n",
      "### Cplex absolute_and_nonabsolute_minsum LP solver ###\n",
      "Elapsed time(optim):13.154\n",
      "Fairness:[-0.01000278  0.00451376 -0.0041679  -0.02183889  0.01574791  0.0157479 ]\n",
      "Current class expected loss:tensor([[ 1.5450e-01,  6.7405e-02,  1.1949e-01,  2.2552e-01, -7.4506e-09,\n",
      "          1.4901e-08]])\n",
      "len(updated_seq_indices)=2560\n",
      "Elapsed time(etc):0.383\n",
      "temporal training...\n",
      "temporal training done\n",
      "[12] Eval metrics for task 1 >> {'accuracy': 0.943048188438371, 'loss': 0.0009570761141202128, 'std': 0.009374719050615876, 'EER': -1}\n",
      "[12] Eval metrics for task 2 >> {'accuracy': 0.8705311228797299, 'loss': 0.0017561303938754508, 'std': 0.01706577634507639, 'EER': -1}\n",
      "[12] Eval metrics for task 3 >> {'accuracy': 0.926330906998621, 'loss': 0.0009575175437499772, 'std': 0.03395422538427112, 'EER': -1}\n",
      "losses=tensor([[0.0009, 0.0033, 0.0013, 0.0031, 0.1635, 0.3014]])\n",
      "Elapsed time(grad):4.809\n",
      "### Cplex absolute_and_nonabsolute_minsum LP solver ###\n",
      "Elapsed time(optim):13.242\n",
      "Fairness:[-0.00648875  0.00099847  0.         -0.03209878  0.01879453  0.01879453]\n",
      "Current class expected loss:tensor([[1.5170e-01, 1.0678e-01, 1.1277e-01, 3.0536e-01, 0.0000e+00, 5.9605e-08]])\n",
      "len(updated_seq_indices)=1920\n",
      "Elapsed time(etc):0.445\n",
      "temporal training...\n",
      "temporal training done\n",
      "[13] Eval metrics for task 1 >> {'accuracy': 0.941286073900926, 'loss': 0.0010017675429089413, 'std': 0.0076126045131709175, 'EER': -1}\n",
      "[13] Eval metrics for task 2 >> {'accuracy': 0.8591238775040295, 'loss': 0.0019704615305032834, 'std': 0.030411006216900793, 'EER': -1}\n",
      "[13] Eval metrics for task 3 >> {'accuracy': 0.9341784406309079, 'loss': 0.0008814871835988512, 'std': 0.026106691751984157, 'EER': -1}\n",
      "losses=tensor([[0.0008, 0.0036, 0.0012, 0.0037, 0.1564, 0.2530]])\n",
      "Elapsed time(grad):4.463\n",
      "### Cplex absolute_and_nonabsolute_minsum LP solver ###\n",
      "Elapsed time(optim):12.84\n",
      "Fairness:[-0.00893256  0.          0.         -0.02461418  0.01677336  0.01677337]\n",
      "Current class expected loss:tensor([[1.5424e-01, 1.0064e-01, 1.0064e-01, 2.4833e-01, 0.0000e+00, 2.9802e-08]])\n",
      "len(updated_seq_indices)=1856\n",
      "Elapsed time(etc):0.394\n",
      "temporal training...\n",
      "temporal training done\n",
      "[14] Eval metrics for task 1 >> {'accuracy': 0.9367414366627709, 'loss': 0.001124356436954886, 'std': 0.005108783601546374, 'EER': -1}\n",
      "[14] Eval metrics for task 2 >> {'accuracy': 0.8596294803898994, 'loss': 0.0019859833155743173, 'std': 0.028936411082968794, 'EER': -1}\n",
      "[14] Eval metrics for task 3 >> {'accuracy': 0.9340802608385924, 'loss': 0.0009201397540856833, 'std': 0.017039902094197812, 'EER': -1}\n",
      "losses=tensor([[0.0008, 0.0047, 0.0009, 0.0029, 0.1955, 0.2324]])\n",
      "Elapsed time(grad):4.801\n",
      "### Cplex absolute_and_nonabsolute_minsum LP solver ###\n",
      "Elapsed time(optim):13.501\n",
      "Fairness:[-0.00638066  0.          0.         -0.02498243  0.01568154  0.01568154]\n",
      "Current class expected loss:tensor([[1.3237e-01, 9.4089e-02, 9.4089e-02, 2.4398e-01, 0.0000e+00, 1.4901e-08]])\n",
      "len(updated_seq_indices)=1728\n",
      "Elapsed time(etc):0.444\n",
      "temporal training...\n",
      "temporal training done\n",
      "[15] Eval metrics for task 1 >> {'accuracy': 0.9398948125505708, 'loss': 0.0010729652488203477, 'std': 0.007241751326081125, 'EER': -1}\n",
      "[15] Eval metrics for task 2 >> {'accuracy': 0.8694882569652314, 'loss': 0.0019019564994985747, 'std': 0.0229536034998849, 'EER': -1}\n",
      "[15] Eval metrics for task 3 >> {'accuracy': 0.9308197784333245, 'loss': 0.0009829343446672535, 'std': 0.01826372462166531, 'EER': -1}\n",
      "training_task_end\n"
     ]
    },
    {
     "data": {
      "image/png": "[encoded data removed]",
      "text/plain": [
       "<Figure size 640x480 with 1 Axes>"
      ]
     },
     "metadata": {},
     "output_type": "display_data"
    },
    {
     "name": "stdout",
     "output_type": "stream",
     "text": [
      "---------------------------- Task 4 -----------------------\n",
      "losses=tensor([[6.5213e-04, 3.3721e-03, 7.2038e-04, 1.9774e-03, 1.2095e-01, 3.4950e-01,\n",
      "         1.2310e+01, 9.9604e+00]])\n",
      "Elapsed time(grad):4.814\n",
      "### Cplex absolute_and_nonabsolute_minsum LP solver ###\n",
      "Elapsed time(optim):18.698\n",
      "Fairness:[ 0.23576155  0.28251966  0.08143818  0.23629296  0.09626414  0.10098284\n",
      " -0.67910617 -0.35415338]\n",
      "Current class expected loss:tensor([[-0.5501, -0.9242,  0.6845, -0.5544,  0.5659,  0.5281,  6.7688,  4.1692]])\n",
      "len(updated_seq_indices)=12183\n",
      "Elapsed time(etc):0.645\n",
      "temporal training...\n",
      "temporal training done\n",
      "[16] Eval metrics for task 1 >> {'accuracy': 0.8755618987683179, 'loss': 0.0017901446379668324, 'std': 0.07862312325811383, 'EER': -1}\n",
      "[16] Eval metrics for task 2 >> {'accuracy': 0.8153609256274464, 'loss': 0.00303176419041416, 'std': 0.0014995394888326352, 'EER': -1}\n",
      "[16] Eval metrics for task 3 >> {'accuracy': 0.8871628779922004, 'loss': 0.001470924266628929, 'std': 0.027297407140182472, 'EER': -1}\n",
      "[16] Eval metrics for task 4 >> {'accuracy': 0.9536536477583812, 'loss': 0.00060093692107143, 'std': 0.0006265078836421578, 'EER': -1}\n",
      "losses=tensor([[0.0041, 0.0022, 0.0047, 0.0056, 0.0100, 0.0107, 0.1168, 0.1335]])\n",
      "Elapsed time(grad):4.746\n",
      "### Cplex absolute_and_nonabsolute_minsum LP solver ###\n",
      "Elapsed time(optim):19.472\n",
      "Fairness:[ 0.00000000e+00  0.00000000e+00 -1.81515294e-03  4.33680869e-19\n",
      " -4.26704772e-03 -9.38449829e-03  7.73334943e-03  7.73334841e-03]\n",
      "Current class expected loss:tensor([[ 6.1867e-02,  6.1867e-02,  7.6388e-02,  6.1867e-02,  9.6003e-02,\n",
      "          1.3694e-01,  0.0000e+00, -2.9802e-08]])\n",
      "len(updated_seq_indices)=384\n",
      "Elapsed time(etc):0.447\n",
      "temporal training...\n",
      "temporal training done\n",
      "[17] Eval metrics for task 1 >> {'accuracy': 0.8729187269621506, 'loss': 0.0019355624984623975, 'std': 0.07597995145194641, 'EER': -1}\n",
      "[17] Eval metrics for task 2 >> {'accuracy': 0.8158243149896385, 'loss': 0.0030349464713067664, 'std': 0.0039431268708265965, 'EER': -1}\n",
      "[17] Eval metrics for task 3 >> {'accuracy': 0.8923059008338432, 'loss': 0.00147008414806653, 'std': 0.03131935374864142, 'EER': -1}\n",
      "[17] Eval metrics for task 4 >> {'accuracy': 0.9516725831214512, 'loss': 0.0006205463202338204, 'std': 0.0003107154171710369, 'EER': -1}\n",
      "losses=tensor([[0.0039, 0.0030, 0.0042, 0.0052, 0.0073, 0.0093, 0.1195, 0.1388]])\n",
      "Elapsed time(grad):4.76\n",
      "### Cplex absolute_and_nonabsolute_minsum LP solver ###\n",
      "Elapsed time(optim):19.412\n",
      "Fairness:[ 0.00000000e+00  0.00000000e+00 -1.82419813e-03  4.33680869e-19\n",
      " -4.36326351e-03 -9.26912567e-03  7.72829376e-03  7.72829348e-03]\n",
      "Current class expected loss:tensor([[ 6.1826e-02,  6.1826e-02,  7.6420e-02,  6.1826e-02,  9.6732e-02,\n",
      "          1.3598e-01,  7.4506e-09, -2.9802e-08]])\n",
      "len(updated_seq_indices)=384\n",
      "Elapsed time(etc):0.425\n",
      "temporal training...\n",
      "temporal training done\n",
      "[18] Eval metrics for task 1 >> {'accuracy': 0.8737076328328688, 'loss': 0.001929417907768953, 'std': 0.07166681650633822, 'EER': -1}\n",
      "[18] Eval metrics for task 2 >> {'accuracy': 0.816824967380459, 'loss': 0.0030430225795910243, 'std': 0.001973482231944157, 'EER': -1}\n",
      "[18] Eval metrics for task 3 >> {'accuracy': 0.9013213173444878, 'loss': 0.0013626977610486295, 'std': 0.03248723662699898, 'EER': -1}\n",
      "[18] Eval metrics for task 4 >> {'accuracy': 0.9456227711753572, 'loss': 0.000664764285567784, 'std': 9.747934656345603e-05, 'EER': -1}\n",
      "losses=tensor([[0.0030, 0.0053, 0.0035, 0.0045, 0.0050, 0.0071, 0.1285, 0.1546]])\n",
      "Elapsed time(grad):4.845\n",
      "### Cplex absolute_and_nonabsolute_minsum LP solver ###\n",
      "Elapsed time(optim):19.44\n",
      "Fairness:[ 0.          0.         -0.00161234  0.         -0.00321895 -0.01093038\n",
      "  0.00788084  0.00788084]\n",
      "Current class expected loss:tensor([[ 6.3047e-02,  6.3047e-02,  7.5945e-02,  6.3047e-02,  8.8798e-02,\n",
      "          1.5049e-01,  2.9802e-08, -2.9802e-08]])\n",
      "len(updated_seq_indices)=384\n",
      "Elapsed time(etc):0.409\n",
      "temporal training...\n",
      "temporal training done\n",
      "[19] Eval metrics for task 1 >> {'accuracy': 0.8714128382630586, 'loss': 0.0019616112500499606, 'std': 0.06426998112020138, 'EER': -1}\n",
      "[19] Eval metrics for task 2 >> {'accuracy': 0.819247448000614, 'loss': 0.003016103668381021, 'std': 0.0043959628520992, 'EER': -1}\n",
      "[19] Eval metrics for task 3 >> {'accuracy': 0.9076881627135981, 'loss': 0.0012781314050884104, 'std': 0.03324870083019005, 'EER': -1}\n",
      "[19] Eval metrics for task 4 >> {'accuracy': 0.9396440379194658, 'loss': 0.0007152638369036346, 'std': 0.001900847257987226, 'EER': -1}\n",
      "losses=tensor([[0.0024, 0.0101, 0.0029, 0.0039, 0.0037, 0.0057, 0.1396, 0.1700]])\n",
      "Elapsed time(grad):4.725\n",
      "### Cplex absolute_and_nonabsolute_minsum LP solver ###\n",
      "Elapsed time(optim):18.644\n",
      "Fairness:[ 0.          0.         -0.00173607  0.         -0.00283511 -0.01172501\n",
      "  0.00814809  0.00814809]\n",
      "Current class expected loss:tensor([[ 6.5185e-02,  6.5185e-02,  7.9073e-02,  6.5185e-02,  8.7866e-02,\n",
      "          1.5898e-01,  1.4901e-08, -1.4901e-08]])\n",
      "len(updated_seq_indices)=384\n",
      "Elapsed time(etc):0.465\n",
      "temporal training...\n",
      "temporal training done\n",
      "[20] Eval metrics for task 1 >> {'accuracy': 0.8703924300997932, 'loss': 0.002072906437776895, 'std': 0.0652903892834667, 'EER': -1}\n",
      "[20] Eval metrics for task 2 >> {'accuracy': 0.8241135160027631, 'loss': 0.0028928942416487197, 'std': 0.007281832834446278, 'EER': -1}\n",
      "[20] Eval metrics for task 3 >> {'accuracy': 0.9087064926524984, 'loss': 0.0012071870243536625, 'std': 0.03426703076909027, 'EER': -1}\n",
      "[20] Eval metrics for task 4 >> {'accuracy': 0.9342583040218354, 'loss': 0.0007710431900329341, 'std': 0.006242739819500742, 'EER': -1}\n",
      "training_task_end\n"
     ]
    },
    {
     "data": {
      "image/png": "[encoded data removed]",
      "text/plain": [
       "<Figure size 640x480 with 1 Axes>"
      ]
     },
     "metadata": {},
     "output_type": "display_data"
    },
    {
     "name": "stdout",
     "output_type": "stream",
     "text": [
      "---------------------------- Task 5 -----------------------\n",
      "losses=tensor([[2.5700e-03, 1.0208e-02, 2.1838e-03, 3.0332e-03, 2.7988e-03, 5.3246e-03,\n",
      "         5.6573e-02, 9.2024e-02, 1.1582e+01, 1.1557e+01]])\n",
      "Elapsed time(grad):4.662\n",
      "### Cplex absolute_and_nonabsolute_minsum LP solver ###\n",
      "Elapsed time(optim):21.04\n",
      "Fairness:[ 0.17864551  0.21987538  0.16801026  0.15767609  0.04029749  0.0990343\n",
      "  0.13496989  0.06078256 -0.55150374 -0.50778792]\n",
      "Current class expected loss:tensor([[-0.7255, -1.1378, -0.6191, -0.5158,  0.6580,  0.0706, -0.2887,  0.4531,\n",
      "          6.5760,  6.1388]])\n",
      "len(updated_seq_indices)=11800\n",
      "Elapsed time(etc):0.474\n",
      "temporal training...\n",
      "temporal training done\n",
      "[21] Eval metrics for task 1 >> {'accuracy': 0.8783938685606401, 'loss': 0.0018664381957786867, 'std': 0.05288366447900744, 'EER': -1}\n",
      "[21] Eval metrics for task 2 >> {'accuracy': 0.731846266021951, 'loss': 0.004760238291817945, 'std': 0.025905671962545118, 'EER': -1}\n",
      "[21] Eval metrics for task 3 >> {'accuracy': 0.8068837733919063, 'loss': 0.0027283393522464098, 'std': 0.03222009626186151, 'EER': -1}\n",
      "[21] Eval metrics for task 4 >> {'accuracy': 0.9002715205965737, 'loss': 0.001514048659789478, 'std': 0.0277034272113596, 'EER': -1}\n",
      "[21] Eval metrics for task 5 >> {'accuracy': 0.9184582087699411, 'loss': 0.0009957231840459733, 'std': 0.00864651402266664, 'EER': -1}\n",
      "losses=tensor([[0.0021, 0.0048, 0.0070, 0.0137, 0.0176, 0.0095, 0.0078, 0.0200, 0.1912,\n",
      "         0.2929]])\n",
      "Elapsed time(grad):4.613\n",
      "### Cplex absolute_and_nonabsolute_minsum LP solver ###\n",
      "Elapsed time(optim):21.112\n",
      "Fairness:[ 0.00896454  0.          0.         -0.000135   -0.00285695  0.\n",
      "  0.         -0.03590272  0.01496506  0.01496506]\n",
      "Current class expected loss:tensor([[ 6.0005e-02,  1.4965e-01,  1.4965e-01,  1.5100e-01,  1.7822e-01,\n",
      "          1.4965e-01,  1.4965e-01,  5.0868e-01, -1.4901e-08,  2.9802e-08]])\n",
      "len(updated_seq_indices)=1472\n",
      "Elapsed time(etc):0.406\n",
      "temporal training...\n",
      "temporal training done\n",
      "[22] Eval metrics for task 1 >> {'accuracy': 0.8441157960981749, 'loss': 0.0026146215468151913, 'std': 0.10125865324103206, 'EER': -1}\n",
      "[22] Eval metrics for task 2 >> {'accuracy': 0.8002571187351293, 'loss': 0.003583132782832416, 'std': 0.0056834753242766545, 'EER': -1}\n",
      "[22] Eval metrics for task 3 >> {'accuracy': 0.8495554510333994, 'loss': 0.002335400597899039, 'std': 0.06592316403788373, 'EER': -1}\n",
      "[22] Eval metrics for task 4 >> {'accuracy': 0.8934977214202741, 'loss': 0.0016857313305469678, 'std': 0.035521067723776056, 'EER': -1}\n",
      "[22] Eval metrics for task 5 >> {'accuracy': 0.8720168381893554, 'loss': 0.0015019129095688289, 'std': 0.03455400369976169, 'EER': -1}\n",
      "losses=tensor([[0.0083, 0.0022, 0.0023, 0.0022, 0.0030, 0.0068, 0.0059, 0.0220, 0.2489,\n",
      "         0.4749]])\n",
      "Elapsed time(grad):4.563\n",
      "### Cplex absolute_and_nonabsolute_minsum LP solver ###\n",
      "Elapsed time(optim):21.013\n",
      "Fairness:[ 1.10775039e-02  8.67361738e-19  0.00000000e+00 -1.42992091e-03\n",
      " -3.86372014e-02  8.67361738e-19  8.67361738e-19 -8.24601241e-03\n",
      "  1.86178056e-02  1.86178065e-02]\n",
      "Current class expected loss:tensor([[ 7.5403e-02,  1.8618e-01,  1.8618e-01,  2.0048e-01,  5.7255e-01,\n",
      "          1.8618e-01,  1.8618e-01,  2.6864e-01, -1.4901e-08, -8.9407e-08]])\n",
      "len(updated_seq_indices)=2176\n",
      "Elapsed time(etc):0.504\n",
      "temporal training...\n",
      "temporal training done\n",
      "[23] Eval metrics for task 1 >> {'accuracy': 0.8556661871797178, 'loss': 0.002446993051127621, 'std': 0.07913557493481976, 'EER': -1}\n",
      "[23] Eval metrics for task 2 >> {'accuracy': 0.7917462967226956, 'loss': 0.0038320657146782644, 'std': 0.011548276920715306, 'EER': -1}\n",
      "[23] Eval metrics for task 3 >> {'accuracy': 0.8230320659768204, 'loss': 0.0026426469885297873, 'std': 0.029310092882650074, 'EER': -1}\n",
      "[23] Eval metrics for task 4 >> {'accuracy': 0.9180188541302812, 'loss': 0.0013088015511196786, 'std': 0.002649204324833676, 'EER': -1}\n",
      "[23] Eval metrics for task 5 >> {'accuracy': 0.8880313319752617, 'loss': 0.0013261238132771132, 'std': 0.0009676769444608158, 'EER': -1}\n",
      "losses=tensor([[0.0037, 0.0036, 0.0019, 0.0024, 0.0089, 0.0047, 0.0068, 0.0037, 0.2920,\n",
      "         0.3812]])\n",
      "Elapsed time(grad):4.639\n",
      "### Cplex absolute_and_nonabsolute_minsum LP solver ###\n",
      "Elapsed time(optim):21.775\n",
      "Fairness:[ 0.00673885  0.          0.          0.         -0.00249221 -0.0009781\n",
      "  0.         -0.03277626  0.01475386  0.01475386]\n",
      "Current class expected loss:tensor([[8.0150e-02, 1.4754e-01, 1.4754e-01, 1.4754e-01, 1.7246e-01, 1.5732e-01,\n",
      "         1.4754e-01, 4.7530e-01, 2.9802e-08, 2.9802e-08]])\n",
      "len(updated_seq_indices)=1408\n",
      "Elapsed time(etc):0.486\n",
      "temporal training...\n",
      "temporal training done\n",
      "[24] Eval metrics for task 1 >> {'accuracy': 0.843702238604693, 'loss': 0.0027571170324411235, 'std': 0.06819203452306033, 'EER': -1}\n",
      "[24] Eval metrics for task 2 >> {'accuracy': 0.7438003684089338, 'loss': 0.004948133294425912, 'std': 0.05271125949804284, 'EER': -1}\n",
      "[24] Eval metrics for task 3 >> {'accuracy': 0.8573561780205128, 'loss': 0.0022903194326982937, 'std': 0.04793913766176833, 'EER': -1}\n",
      "[24] Eval metrics for task 4 >> {'accuracy': 0.8958585493448576, 'loss': 0.001644219351559127, 'std': 0.031072557126958722, 'EER': -1}\n",
      "[24] Eval metrics for task 5 >> {'accuracy': 0.9034317426528797, 'loss': 0.0011850452624483055, 'std': 0.014432733733157233, 'EER': -1}\n",
      "losses=tensor([[0.0035, 0.0088, 0.0022, 0.0119, 0.0027, 0.0050, 0.0041, 0.0117, 0.2211,\n",
      "         0.3352]])\n",
      "Elapsed time(grad):4.637\n",
      "### Cplex absolute_and_nonabsolute_minsum LP solver ###\n",
      "Elapsed time(optim):21.382\n",
      "Fairness:[ 0.00648191  0.         -0.00086462  0.         -0.03147075  0.\n",
      "  0.         -0.00391017  0.01488181  0.01488181]\n",
      "Current class expected loss:tensor([[ 8.3999e-02,  1.4882e-01,  1.5746e-01,  1.4882e-01,  4.6353e-01,\n",
      "          1.4882e-01,  1.4882e-01,  1.8792e-01,  1.4901e-08, -2.9802e-08]])\n",
      "len(updated_seq_indices)=1728\n",
      "Elapsed time(etc):0.462\n",
      "temporal training...\n",
      "temporal training done\n",
      "[25] Eval metrics for task 1 >> {'accuracy': 0.8630854985165872, 'loss': 0.002433414549410484, 'std': 0.0875752944349546, 'EER': -1}\n",
      "[25] Eval metrics for task 2 >> {'accuracy': 0.8000143909739812, 'loss': 0.003730591901018851, 'std': 0.01684607414229794, 'EER': -1}\n",
      "[25] Eval metrics for task 3 >> {'accuracy': 0.8199257030129781, 'loss': 0.002761568655453726, 'std': 0.027324806151991454, 'EER': -1}\n",
      "[25] Eval metrics for task 4 >> {'accuracy': 0.9116847274233771, 'loss': 0.0014194309381319796, 'std': 0.005630447673899086, 'EER': -1}\n",
      "[25] Eval metrics for task 5 >> {'accuracy': 0.8852361599811145, 'loss': 0.0013692704523926244, 'std': 0.012094435501431688, 'EER': -1}\n",
      "training_task_end\n"
     ]
    },
    {
     "data": {
      "image/png": "[encoded data removed]",
      "text/plain": [
       "<Figure size 640x480 with 1 Axes>"
      ]
     },
     "metadata": {},
     "output_type": "display_data"
    },
    {
     "name": "stdout",
     "output_type": "stream",
     "text": [
      "final avg-acc 0.8559892959816076\n",
      "final avg-forget 0.10472914613595072\n"
     ]
    }
   ],
   "source": [
    "trainer.run()\n",
    "print(\"final avg-acc\", metric_manager_callback.meters['accuracy'].compute_final())\n",
    "print(\"final avg-forget\", metric_manager_callback.meters['forgetting'].compute_final())"
   ]
  },
  {
   "cell_type": "code",
   "execution_count": 6,
   "id": "3e0e84fe",
   "metadata": {},
   "outputs": [],
   "source": [
    "# losses, *_ = algorithm.get_loss_grad_all(params['num_tasks']) \n",
    "# algorithm.true_loss[params['num_tasks']][params['epochs_per_task']] = losses\n",
    "\n",
    "# num_epochs = params['epochs_per_task']\n",
    "# for task in range(2, params['num_tasks']):\n",
    "#     algorithm.true_loss[task][num_epochs] = algorithm.true_loss[task+1][0]\n"
   ]
  },
  {
   "cell_type": "code",
   "execution_count": 7,
   "id": "1c519c52",
   "metadata": {},
   "outputs": [],
   "source": [
    "num_class_per_task = 2\n",
    "num_epochs = params['epochs_per_task']\n",
    "\n",
    "t = algorithm.true_loss\n",
    "e = algorithm.expected_loss\n",
    "\n",
    "groupwise_true_loss = dict()\n",
    "groupwise_expected_loss = dict()\n",
    "\n",
    "for i in range(num_classes):\n",
    "    groupwise_true_loss[i] = dict()\n",
    "    groupwise_expected_loss[i] = dict()\n",
    "\n",
    "for task in range(2, params['num_tasks']+1):\n",
    "    for epoch in range(1, num_epochs+1):\n",
    "        true_loss = np.round(t[task][epoch].cpu().detach().numpy().astype(\"float64\"), 4).reshape(-1)\n",
    "        excepted_loss = np.round(e[task][epoch].cpu().detach().numpy().astype(\"float64\"), 4).reshape(-1)\n",
    "        for i, (tl, el) in enumerate(zip(true_loss, excepted_loss)):\n",
    "            groupwise_true_loss[i][(task-1)*num_epochs+epoch] = tl\n",
    "            groupwise_expected_loss[i][(task-1)*num_epochs+epoch] = el\n",
    "            \n",
    "    #     num_class_per_task\n",
    "    #     print(np.round(t[task][epoch].cpu().detach().numpy().astype(\"float64\"), 4).reshape(-1), end=\"\\t\")\n",
    "    #     print(np.round(e[task][epoch].cpu().detach().numpy().astype(\"float64\"), 4).reshape(-1), end=\"\\t\")\n",
    "    #     print()\n",
    "    # print()\n"
   ]
  },
  {
   "cell_type": "code",
   "execution_count": 8,
   "id": "c470730a",
   "metadata": {},
   "outputs": [
    {
     "name": "stdout",
     "output_type": "stream",
     "text": [
      "1.0028\t0.0016\t0.0002\t0.0005\t0.0005\t0.201\t0.0068\t0.001\t0.0008\t0.0008\t0.1805\t0.0042\t0.004\t0.0031\t0.0027\t0.0035\t0.0043\t0.0115\t0.0049\t0.0054\t\n",
      "0.4958\t0.0031\t0.0002\t0.0005\t0.0008\t0.0054\t0.0059\t0.0063\t0.0057\t0.0066\t0.0225\t0.0026\t0.0036\t0.0065\t0.0112\t0.1294\t0.0067\t0.0038\t0.0109\t0.0137\t\n",
      "0.7546\t0.1507\t0.2161\t0.2252\t0.1459\t1.3987\t0.0053\t0.0016\t0.0013\t0.001\t0.6724\t0.0049\t0.0043\t0.0037\t0.0029\t0.112\t0.009\t0.0027\t0.0029\t0.0027\t\n",
      "0.6593\t0.1406\t0.1933\t0.1375\t0.1583\t2.7289\t0.0124\t0.0049\t0.0048\t0.0034\t0.2296\t0.0058\t0.0053\t0.0047\t0.004\t0.783\t0.0155\t0.0023\t0.0067\t0.013\t\n",
      "\t\t\t\t\t0.6848\t0.1373\t0.1631\t0.1609\t0.194\t2.5877\t0.0103\t0.0075\t0.0052\t0.0038\t1.3329\t0.0188\t0.0146\t0.0095\t0.0094\t\n",
      "\t\t\t\t\t0.6262\t0.158\t0.2493\t0.2269\t0.2192\t1.9599\t0.011\t0.0095\t0.0073\t0.006\t0.6002\t0.0135\t0.0086\t0.0069\t0.0064\t\n",
      "\t\t\t\t\t\t\t\t\t\t0.3455\t0.1137\t0.1164\t0.1262\t0.1347\t0.6806\t0.0106\t0.0092\t0.0085\t0.0088\t\n",
      "\t\t\t\t\t\t\t\t\t\t0.4248\t0.1306\t0.1361\t0.1503\t0.1677\t1.9476\t0.0499\t0.0262\t0.0111\t0.0115\t\n",
      "\t\t\t\t\t\t\t\t\t\t\t\t\t\t\t0.2843\t0.1612\t0.258\t0.1965\t0.1644\t\n",
      "\t\t\t\t\t\t\t\t\t\t\t\t\t\t\t0.3516\t0.2501\t0.2633\t0.2776\t0.2768\t\n"
     ]
    }
   ],
   "source": [
    "for c in range(num_classes):\n",
    "    for t in range(2, params['num_tasks']+1):\n",
    "        for e in range(1, num_epochs+1):\n",
    "            ce = (t-1)*num_epochs+e # current epoch\n",
    "            if c//num_class_per_task >= t:\n",
    "                print(f\"\\t\", end='')\n",
    "                continue\n",
    "            print(groupwise_true_loss[c][ce], end='\\t')\n",
    "    print()\n"
   ]
  },
  {
   "cell_type": "code",
   "execution_count": 9,
   "id": "538a8fda",
   "metadata": {},
   "outputs": [
    {
     "data": {
      "text/plain": [
       "{0: {6: 1.0028,\n",
       "  7: 0.0016,\n",
       "  8: 0.0002,\n",
       "  9: 0.0005,\n",
       "  10: 0.0005,\n",
       "  11: 0.201,\n",
       "  12: 0.0068,\n",
       "  13: 0.001,\n",
       "  14: 0.0008,\n",
       "  15: 0.0008,\n",
       "  16: 0.1805,\n",
       "  17: 0.0042,\n",
       "  18: 0.004,\n",
       "  19: 0.0031,\n",
       "  20: 0.0027,\n",
       "  21: 0.0035,\n",
       "  22: 0.0043,\n",
       "  23: 0.0115,\n",
       "  24: 0.0049,\n",
       "  25: 0.0054},\n",
       " 1: {6: 0.4958,\n",
       "  7: 0.0031,\n",
       "  8: 0.0002,\n",
       "  9: 0.0005,\n",
       "  10: 0.0008,\n",
       "  11: 0.0054,\n",
       "  12: 0.0059,\n",
       "  13: 0.0063,\n",
       "  14: 0.0057,\n",
       "  15: 0.0066,\n",
       "  16: 0.0225,\n",
       "  17: 0.0026,\n",
       "  18: 0.0036,\n",
       "  19: 0.0065,\n",
       "  20: 0.0112,\n",
       "  21: 0.1294,\n",
       "  22: 0.0067,\n",
       "  23: 0.0038,\n",
       "  24: 0.0109,\n",
       "  25: 0.0137},\n",
       " 2: {6: 0.7546,\n",
       "  7: 0.1507,\n",
       "  8: 0.2161,\n",
       "  9: 0.2252,\n",
       "  10: 0.1459,\n",
       "  11: 1.3987,\n",
       "  12: 0.0053,\n",
       "  13: 0.0016,\n",
       "  14: 0.0013,\n",
       "  15: 0.001,\n",
       "  16: 0.6724,\n",
       "  17: 0.0049,\n",
       "  18: 0.0043,\n",
       "  19: 0.0037,\n",
       "  20: 0.0029,\n",
       "  21: 0.112,\n",
       "  22: 0.009,\n",
       "  23: 0.0027,\n",
       "  24: 0.0029,\n",
       "  25: 0.0027},\n",
       " 3: {6: 0.6593,\n",
       "  7: 0.1406,\n",
       "  8: 0.1933,\n",
       "  9: 0.1375,\n",
       "  10: 0.1583,\n",
       "  11: 2.7289,\n",
       "  12: 0.0124,\n",
       "  13: 0.0049,\n",
       "  14: 0.0048,\n",
       "  15: 0.0034,\n",
       "  16: 0.2296,\n",
       "  17: 0.0058,\n",
       "  18: 0.0053,\n",
       "  19: 0.0047,\n",
       "  20: 0.004,\n",
       "  21: 0.783,\n",
       "  22: 0.0155,\n",
       "  23: 0.0023,\n",
       "  24: 0.0067,\n",
       "  25: 0.013},\n",
       " 4: {11: 0.6848,\n",
       "  12: 0.1373,\n",
       "  13: 0.1631,\n",
       "  14: 0.1609,\n",
       "  15: 0.194,\n",
       "  16: 2.5877,\n",
       "  17: 0.0103,\n",
       "  18: 0.0075,\n",
       "  19: 0.0052,\n",
       "  20: 0.0038,\n",
       "  21: 1.3329,\n",
       "  22: 0.0188,\n",
       "  23: 0.0146,\n",
       "  24: 0.0095,\n",
       "  25: 0.0094},\n",
       " 5: {11: 0.6262,\n",
       "  12: 0.158,\n",
       "  13: 0.2493,\n",
       "  14: 0.2269,\n",
       "  15: 0.2192,\n",
       "  16: 1.9599,\n",
       "  17: 0.011,\n",
       "  18: 0.0095,\n",
       "  19: 0.0073,\n",
       "  20: 0.006,\n",
       "  21: 0.6002,\n",
       "  22: 0.0135,\n",
       "  23: 0.0086,\n",
       "  24: 0.0069,\n",
       "  25: 0.0064},\n",
       " 6: {16: 0.3455,\n",
       "  17: 0.1137,\n",
       "  18: 0.1164,\n",
       "  19: 0.1262,\n",
       "  20: 0.1347,\n",
       "  21: 0.6806,\n",
       "  22: 0.0106,\n",
       "  23: 0.0092,\n",
       "  24: 0.0085,\n",
       "  25: 0.0088},\n",
       " 7: {16: 0.4248,\n",
       "  17: 0.1306,\n",
       "  18: 0.1361,\n",
       "  19: 0.1503,\n",
       "  20: 0.1677,\n",
       "  21: 1.9476,\n",
       "  22: 0.0499,\n",
       "  23: 0.0262,\n",
       "  24: 0.0111,\n",
       "  25: 0.0115},\n",
       " 8: {21: 0.2843, 22: 0.1612, 23: 0.258, 24: 0.1965, 25: 0.1644},\n",
       " 9: {21: 0.3516, 22: 0.2501, 23: 0.2633, 24: 0.2776, 25: 0.2768}}"
      ]
     },
     "execution_count": 9,
     "metadata": {},
     "output_type": "execute_result"
    }
   ],
   "source": [
    "groupwise_true_loss"
   ]
  },
  {
   "cell_type": "code",
   "execution_count": 10,
   "id": "1564d042",
   "metadata": {},
   "outputs": [
    {
     "name": "stdout",
     "output_type": "stream",
     "text": [
      "task=2\n",
      "[1.0028 0.4958 0.7546 0.6593]\t[1.2612 0.673  2.2289 1.7194]\t\n",
      "[0.0016 0.0031 0.1507 0.1406]\t[0.0762 0.0762 0.0762 0.0762]\t\n",
      "[2.000e-04 2.000e-04 2.161e-01 1.933e-01]\t[0.1934 0.1006 0.1006 0.0078]\t\n",
      "[0.0005 0.0005 0.2252 0.1375]\t[ 0.0515  0.1206  0.0129 -0.    ]\t\n",
      "[0.0005 0.0008 0.1459 0.1583]\t[0.0462 0.0645 0.0267 0.0458]\t\n",
      "\n",
      "task=3\n",
      "[0.201  0.0054 1.3987 2.7289 0.6848 0.6262]\t[-0.5773 -1.4113  0.023   1.5867  3.8981  5.796 ]\t\n",
      "[0.0068 0.0059 0.0053 0.0124 0.1373 0.158 ]\t[ 0.1545  0.0674  0.1195  0.2255 -0.      0.    ]\t\n",
      "[0.001  0.0063 0.0016 0.0049 0.1631 0.2493]\t[0.1517 0.1068 0.1128 0.3054 0.     0.    ]\t\n",
      "[0.0008 0.0057 0.0013 0.0048 0.1609 0.2269]\t[0.1542 0.1006 0.1006 0.2483 0.     0.    ]\t\n",
      "[0.0008 0.0066 0.001  0.0034 0.194  0.2192]\t[0.1324 0.0941 0.0941 0.244  0.     0.    ]\t\n",
      "\n",
      "task=4\n",
      "[0.1805 0.0225 0.6724 0.2296 2.5877 1.9599 0.3455 0.4248]\t[-0.5501 -0.9242  0.6845 -0.5544  0.5659  0.5281  6.7688  4.1692]\t\n",
      "[0.0042 0.0026 0.0049 0.0058 0.0103 0.011  0.1137 0.1306]\t[ 0.0619  0.0619  0.0764  0.0619  0.096   0.1369  0.     -0.    ]\t\n",
      "[0.004  0.0036 0.0043 0.0053 0.0075 0.0095 0.1164 0.1361]\t[ 0.0618  0.0618  0.0764  0.0618  0.0967  0.136   0.     -0.    ]\t\n",
      "[0.0031 0.0065 0.0037 0.0047 0.0052 0.0073 0.1262 0.1503]\t[ 0.063   0.063   0.0759  0.063   0.0888  0.1505  0.     -0.    ]\t\n",
      "[0.0027 0.0112 0.0029 0.004  0.0038 0.006  0.1347 0.1677]\t[ 0.0652  0.0652  0.0791  0.0652  0.0879  0.159   0.     -0.    ]\t\n",
      "\n",
      "task=5\n",
      "[0.0035 0.1294 0.112  0.783  1.3329 0.6002 0.6806 1.9476 0.2843 0.3516]\t[-0.7255 -1.1378 -0.6191 -0.5158  0.658   0.0706 -0.2887  0.4531  6.576\n",
      "  6.1388]\t\n",
      "[0.0043 0.0067 0.009  0.0155 0.0188 0.0135 0.0106 0.0499 0.1612 0.2501]\t[ 0.06    0.1497  0.1497  0.151   0.1782  0.1497  0.1497  0.5087 -0.\n",
      "  0.    ]\t\n",
      "[0.0115 0.0038 0.0027 0.0023 0.0146 0.0086 0.0092 0.0262 0.258  0.2633]\t[ 0.0754  0.1862  0.1862  0.2005  0.5725  0.1862  0.1862  0.2686 -0.\n",
      " -0.    ]\t\n",
      "[0.0049 0.0109 0.0029 0.0067 0.0095 0.0069 0.0085 0.0111 0.1965 0.2776]\t[0.0802 0.1475 0.1475 0.1475 0.1725 0.1573 0.1475 0.4753 0.     0.    ]\t\n",
      "[0.0054 0.0137 0.0027 0.013  0.0094 0.0064 0.0088 0.0115 0.1644 0.2768]\t[ 0.084   0.1488  0.1575  0.1488  0.4635  0.1488  0.1488  0.1879  0.\n",
      " -0.    ]\t\n",
      "\n"
     ]
    }
   ],
   "source": [
    "t = algorithm.true_loss\n",
    "e = algorithm.expected_loss\n",
    "# algorithm.true_loss[5][num_epochs] = algorithm.true_loss[5][num_epochs-1]\n",
    "\n",
    "num_epochs = params['epochs_per_task']\n",
    "for task in range(2, params['num_tasks']+1):\n",
    "    print(f\"{task=}\")\n",
    "    for epoch in range(1, num_epochs+1):\n",
    "        print(np.round(t[task][epoch].cpu().detach().numpy().astype(\"float64\"), 4).reshape(-1), end=\"\\t\")\n",
    "        print(np.round(e[task][epoch].cpu().detach().numpy().astype(\"float64\"), 4).reshape(-1), end=\"\\t\")\n",
    "        print()\n",
    "    print()\n"
   ]
  },
  {
   "cell_type": "code",
   "execution_count": null,
   "id": "3bd7d565",
   "metadata": {},
   "outputs": [],
   "source": []
  },
  {
   "cell_type": "code",
   "execution_count": null,
   "id": "2b5faad0",
   "metadata": {},
   "outputs": [],
   "source": []
  },
  {
   "cell_type": "code",
   "execution_count": null,
   "id": "6a473833",
   "metadata": {},
   "outputs": [],
   "source": []
  },
  {
   "cell_type": "code",
   "execution_count": 11,
   "id": "a91a62b8",
   "metadata": {},
   "outputs": [
    {
     "name": "stdout",
     "output_type": "stream",
     "text": [
      "task:2\n",
      "task:3\n",
      "task:4\n",
      "task:5\n"
     ]
    }
   ],
   "source": [
    "import copy\n",
    "task_weight = copy.deepcopy(algorithm.weight_all)\n",
    "\n",
    "num_bin = 20\n",
    "np.arange(0+1/num_bin, 1+1/num_bin, 1/num_bin)\n",
    "\n",
    "def bin(w: np.array, num_bin=20):\n",
    "    out = dict()\n",
    "    for r in np.arange(0+1/num_bin, 1+1/num_bin, 1/num_bin):\n",
    "        r = np.round(r, 2)\n",
    "        out[r] = np.sum(np.logical_and(w<=r, r-1/num_bin<w))\n",
    "    out[1/num_bin] += np.sum(w==0)\n",
    "    kk = list(out.keys())\n",
    "    for k in kk:\n",
    "        if out[k] == 0:\n",
    "            del(out[k])\n",
    "    return out\n",
    "\n",
    "\n",
    "binned_weight = dict()\n",
    "for i, wt in enumerate(task_weight):\n",
    "    if i==0:\n",
    "        continue\n",
    "    print(f\"task:{i+1}\")\n",
    "    binned_weight[i+1] = list()\n",
    "    for we in wt:\n",
    "        binned_weight[i+1].append({k: bin(we[k]) for k in we})\n",
    "\n",
    "\n"
   ]
  },
  {
   "cell_type": "code",
   "execution_count": 12,
   "id": "02ca511f",
   "metadata": {},
   "outputs": [
    {
     "data": {
      "text/plain": [
       "array([0.05, 0.1 , 0.15, 0.2 , 0.25, 0.3 , 0.35, 0.4 , 0.45, 0.5 , 0.55,\n",
       "       0.6 , 0.65, 0.7 , 0.75, 0.8 , 0.85, 0.9 , 0.95, 1.  ])"
      ]
     },
     "execution_count": 12,
     "metadata": {},
     "output_type": "execute_result"
    }
   ],
   "source": [
    "num_bin = 20\n",
    "np.arange(0+1/num_bin, 1+1/num_bin, 1/num_bin)"
   ]
  },
  {
   "cell_type": "code",
   "execution_count": 13,
   "id": "a56ea1dd",
   "metadata": {},
   "outputs": [],
   "source": [
    "def bin(w: np.array, num_bin=20):\n",
    "    out = dict()\n",
    "    for r in np.arange(0+1/num_bin, 1+1/num_bin, 1/num_bin):\n",
    "        r = np.round(r, 2)\n",
    "        out[r] = np.sum(np.logical_and(w<=r, r-1/num_bin<w))\n",
    "    out[1/num_bin] += np.sum(w==0)\n",
    "    kk = list(out.keys())\n",
    "    for k in kk:\n",
    "        if out[k] == 0:\n",
    "            del(out[k])\n",
    "    return out"
   ]
  },
  {
   "cell_type": "code",
   "execution_count": 14,
   "id": "a09bc275",
   "metadata": {},
   "outputs": [
    {
     "name": "stdout",
     "output_type": "stream",
     "text": [
      "task:2\n",
      "task:3\n",
      "task:4\n",
      "task:5\n"
     ]
    }
   ],
   "source": [
    "binned_weight = dict()\n",
    "for i, wt in enumerate(task_weight):\n",
    "    if i==0:\n",
    "        continue\n",
    "    print(f\"task:{i+1}\")\n",
    "    binned_weight[i+1] = list()\n",
    "    for we in wt:\n",
    "        binned_weight[i+1].append({k: bin(we[k]) for k in we})"
   ]
  },
  {
   "cell_type": "code",
   "execution_count": 15,
   "id": "44a7daf7",
   "metadata": {},
   "outputs": [
    {
     "data": {
      "text/plain": [
       "{2: [{2: {1.0: 5958}, 3: {1.0: 6131}},\n",
       "  {2: {0.05: 3519, 0.8: 1, 0.9: 1, 1.0: 2437},\n",
       "   3: {0.05: 3682, 0.7: 1, 1.0: 2448}},\n",
       "  {2: {0.05: 4490, 1.0: 1468}, 3: {0.05: 4602, 0.1: 1, 1.0: 1528}},\n",
       "  {2: {0.05: 4230, 1.0: 1728}, 3: {0.05: 4398, 0.65: 1, 1.0: 1732}},\n",
       "  {2: {0.05: 4161, 1.0: 1797}, 3: {0.05: 4381, 1.0: 1750}}],\n",
       " 3: [{4: {1.0: 5842}, 5: {1.0: 5421}},\n",
       "  {4: {0.05: 4616, 0.65: 1, 1.0: 1225}, 5: {0.05: 4122, 1.0: 1299}},\n",
       "  {4: {0.05: 4969, 1.0: 873}, 5: {0.05: 4427, 0.1: 1, 0.3: 1, 1.0: 992}},\n",
       "  {4: {0.05: 4973, 0.7: 1, 0.9: 1, 1.0: 867},\n",
       "   5: {0.05: 4472, 0.25: 1, 0.65: 1, 1.0: 947}},\n",
       "  {4: {0.05: 5018, 0.3: 1, 1.0: 823},\n",
       "   5: {0.05: 4554, 0.35: 1, 0.7: 1, 0.95: 1, 1.0: 864}}],\n",
       " 4: [{6: {1.0: 5918}, 7: {1.0: 6265}},\n",
       "  {6: {0.05: 5771, 0.3: 1, 0.75: 1, 1.0: 145},\n",
       "   7: {0.05: 6065, 0.25: 1, 0.5: 1, 1.0: 198}},\n",
       "  {6: {0.05: 5770, 0.35: 1, 0.45: 1, 0.55: 1, 1.0: 145},\n",
       "   7: {0.05: 6067, 0.2: 1, 0.5: 1, 1.0: 196}},\n",
       "  {6: {0.05: 5766, 0.3: 1, 0.65: 1, 1.0: 150},\n",
       "   7: {0.05: 6061, 0.4: 1, 0.45: 1, 0.6: 1, 1.0: 201}},\n",
       "  {6: {0.05: 5756, 0.3: 1, 1.0: 161},\n",
       "   7: {0.05: 6051, 0.6: 1, 0.65: 1, 0.75: 1, 0.85: 1, 1.0: 210}}],\n",
       " 5: [{8: {1.0: 5851}, 9: {1.0: 5949}},\n",
       "  {8: {0.05: 5251, 0.1: 1, 0.45: 1, 0.5: 1, 0.7: 1, 1.0: 596},\n",
       "   9: {0.05: 5127, 0.4: 1, 0.75: 1, 1.0: 820}},\n",
       "  {8: {0.05: 4874, 0.15: 1, 0.75: 1, 0.9: 1, 1.0: 974},\n",
       "   9: {0.05: 4799, 0.25: 1, 0.55: 1, 1.0: 1148}},\n",
       "  {8: {0.05: 5216, 0.45: 1, 0.75: 1, 0.8: 1, 0.9: 1, 1.0: 631},\n",
       "   9: {0.05: 5181, 0.65: 1, 0.8: 1, 1.0: 766}},\n",
       "  {8: {0.05: 5077, 0.15: 1, 0.4: 1, 0.5: 1, 1.0: 771},\n",
       "   9: {0.05: 5023, 0.15: 1, 0.4: 1, 1.0: 924}}]}"
      ]
     },
     "execution_count": 15,
     "metadata": {},
     "output_type": "execute_result"
    }
   ],
   "source": [
    "binned_weight"
   ]
  },
  {
   "cell_type": "code",
   "execution_count": 16,
   "id": "beaf952b",
   "metadata": {},
   "outputs": [
    {
     "data": {
      "text/plain": [
       "array([[0.999, 0.   , 0.   , 0.   , 0.   ],\n",
       "       [0.974, 0.95 , 0.   , 0.   , 0.   ],\n",
       "       [0.94 , 0.869, 0.931, 0.   , 0.   ],\n",
       "       [0.87 , 0.824, 0.909, 0.934, 0.   ],\n",
       "       [0.863, 0.8  , 0.82 , 0.912, 0.885]])"
      ]
     },
     "execution_count": 16,
     "metadata": {},
     "output_type": "execute_result"
    }
   ],
   "source": [
    "metric_manager_callback.meters['accuracy'].get_data()"
   ]
  },
  {
   "cell_type": "code",
   "execution_count": 17,
   "id": "26972f73",
   "metadata": {},
   "outputs": [
    {
     "data": {
      "text/plain": [
       "0.9229142990212331"
      ]
     },
     "execution_count": 17,
     "metadata": {},
     "output_type": "execute_result"
    }
   ],
   "source": [
    "np.mean(metric_manager_callback.meters['accuracy'].compute_overall())"
   ]
  },
  {
   "cell_type": "code",
   "execution_count": 18,
   "id": "e950fb61",
   "metadata": {},
   "outputs": [
    {
     "data": {
      "text/plain": [
       "[0.0, 0.012, 0.029, 0.037, 0.037]"
      ]
     },
     "execution_count": 18,
     "metadata": {},
     "output_type": "execute_result"
    }
   ],
   "source": [
    "[np.round(x, 3) for x in metric_manager_callback.meters['EER'].compute_overall()]"
   ]
  },
  {
   "cell_type": "code",
   "execution_count": 19,
   "id": "2ebfb58a",
   "metadata": {},
   "outputs": [
    {
     "data": {
      "text/plain": [
       "0.023093996433187207"
      ]
     },
     "execution_count": 19,
     "metadata": {},
     "output_type": "execute_result"
    }
   ],
   "source": [
    "np.mean(metric_manager_callback.meters['EER'].compute_overall())"
   ]
  },
  {
   "cell_type": "code",
   "execution_count": 20,
   "id": "06af72df",
   "metadata": {},
   "outputs": [
    {
     "data": {
      "text/plain": [
       "[0.001, 0.012, 0.036, 0.056, 0.059]"
      ]
     },
     "execution_count": 20,
     "metadata": {},
     "output_type": "execute_result"
    }
   ],
   "source": [
    "[np.round(x, 3) for x in metric_manager_callback.meters['std'].compute_overall()]"
   ]
  },
  {
   "cell_type": "code",
   "execution_count": 21,
   "id": "7039ed8b",
   "metadata": {},
   "outputs": [
    {
     "data": {
      "text/plain": [
       "0.03275290578806825"
      ]
     },
     "execution_count": 21,
     "metadata": {},
     "output_type": "execute_result"
    }
   ],
   "source": [
    "np.mean(metric_manager_callback.meters['std'].compute_overall())"
   ]
  },
  {
   "cell_type": "code",
   "execution_count": 22,
   "id": "706ad34c",
   "metadata": {},
   "outputs": [
    {
     "name": "stdout",
     "output_type": "stream",
     "text": [
      "accuracy:0.9229142990212331\n",
      "EER:0.023093996433187207\n",
      "std:0.03275290578806825\n"
     ]
    }
   ],
   "source": [
    "print(f\"accuracy:{np.mean(metric_manager_callback.meters['accuracy'].compute_overall())}\")\n",
    "print(f\"EER:{np.mean(metric_manager_callback.meters['EER'].compute_overall())}\")\n",
    "print(f\"std:{np.mean(metric_manager_callback.meters['std'].compute_overall())}\")\n"
   ]
  },
  {
   "cell_type": "code",
   "execution_count": null,
   "id": "2b848e47",
   "metadata": {},
   "outputs": [],
   "source": []
  }
 ],
 "metadata": {
  "kernelspec": {
   "display_name": "cil",
   "language": "python",
   "name": "python3"
  },
  "language_info": {
   "codemirror_mode": {
    "name": "ipython",
    "version": 3
   },
   "file_extension": ".py",
   "mimetype": "text/x-python",
   "name": "python",
   "nbconvert_exporter": "python",
   "pygments_lexer": "ipython3",
   "version": "3.9.18"
  }
 },
 "nbformat": 4,
 "nbformat_minor": 5
}
