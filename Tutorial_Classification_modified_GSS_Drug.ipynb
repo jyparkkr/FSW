{
 "cells": [
  {
   "cell_type": "code",
   "execution_count": 1,
   "id": "b0c3b92f",
   "metadata": {},
   "outputs": [
    {
     "name": "stdout",
     "output_type": "stream",
     "text": [
      "output_dir=./outputs/demo/dataset=Drug/seed=10_epoch=25_lr=0.001_alpha=0.0_tau=10.0\n"
     ]
    }
   ],
   "source": [
    "from torchvision.datasets import MNIST, FashionMNIST, CIFAR10\n",
    "import torchvision\n",
    "import numpy as np\n",
    "import random\n",
    "\n",
    "import torch\n",
    "import torch.nn.functional as F\n",
    "import cl_gym as cl\n",
    "\n",
    "import sys\n",
    "import os\n",
    "\n",
    "seed = 10\n",
    "\n",
    "np.random.seed(seed)\n",
    "torch.manual_seed(seed)\n",
    "np.random.seed(seed)\n",
    "random.seed(seed)\n",
    "torch.cuda.manual_seed_all(seed)\n",
    "torch.manual_seed(seed)\n",
    "torch.backends.cudnn.deterministic = True\n",
    "torch.backends.cudnn.benchmark = True\n",
    "torch.set_num_threads(6)\n",
    "\n",
    "def make_params() -> dict:\n",
    "    import os\n",
    "    from pathlib import Path\n",
    "    import uuid\n",
    "\n",
    "    params = {\n",
    "            # dataset\n",
    "            'dataset': \"Drug\",\n",
    "            'fairness_agg': 'mean',\n",
    "            'random_class_idx': False,\n",
    "            'method': \"GSS\",\n",
    "\n",
    "            # benchmark\n",
    "            'seed': seed,\n",
    "            'num_tasks': 3,\n",
    "            'epochs_per_task': 25,\n",
    "            'per_task_examples': np.inf,\n",
    "            'per_task_memory_examples': 64,\n",
    "            'batch_size_train': 10,\n",
    "            'batch_size_memory': 64,\n",
    "            'batch_size_validation': 256,\n",
    "            'tau': 10.0,\n",
    "            # 'tau': 0.0,\n",
    "\n",
    "            # algorithm\n",
    "            'optimizer': 'sgd',\n",
    "            'learning_rate': 0.001,\n",
    "            'momentum': 0.9,\n",
    "            'learning_rate_decay': 1.0,\n",
    "            'criterion': torch.nn.CrossEntropyLoss(),\n",
    "            'device': torch.device('cuda:7' if torch.cuda.is_available() else 'cpu'),\n",
    "             \n",
    "            # sample selection\n",
    "            'alpha':0.00,\n",
    "            'lambda': .0,\n",
    "            'lambda_old': 0.0,\n",
    "              }\n",
    "\n",
    "#     trial_id = str(uuid.uuid4())\n",
    "    trial_id = f\"demo/dataset={params['dataset']}/seed={params['seed']}_epoch={params['epochs_per_task']}_lr={params['learning_rate']}_alpha={params['alpha']}_tau={params['tau']}\"\n",
    "    params['trial_id'] = trial_id\n",
    "    params['output_dir'] = os.path.join(\"./outputs/{}\".format(trial_id))\n",
    "    print(f\"output_dir={params['output_dir']}\")\n",
    "    Path(params['output_dir']).mkdir(parents=True, exist_ok=True)\n",
    "\n",
    "    return params\n",
    "\n",
    "params = make_params()"
   ]
  },
  {
   "cell_type": "code",
   "execution_count": 2,
   "id": "93b43ace",
   "metadata": {},
   "outputs": [],
   "source": [
    "from datasets import MNIST\n",
    "from datasets import FashionMNIST\n",
    "from datasets import BiasedMNIST\n",
    "from datasets import CIFAR10, CIFAR100, Drug\n",
    "\n",
    "if params['dataset'] == 'MNIST':\n",
    "    benchmark = MNIST(num_tasks=params['num_tasks'],\n",
    "                    per_task_memory_examples=params['per_task_memory_examples'],\n",
    "                    per_task_examples = params['per_task_examples'],\n",
    "                    random_class_idx = params['random_class_idx'])\n",
    "    input_dim = (28, 28)\n",
    "elif params['dataset'] == 'FashionMNIST':\n",
    "    benchmark = FashionMNIST(num_tasks=params['num_tasks'],\n",
    "                            per_task_memory_examples=params['per_task_memory_examples'],\n",
    "                            per_task_examples = params['per_task_examples'],\n",
    "                            random_class_idx = params['random_class_idx'])\n",
    "    input_dim = (28, 28)\n",
    "elif params['dataset'] == 'CIFAR10':\n",
    "    benchmark = CIFAR10(num_tasks=params['num_tasks'],\n",
    "                        per_task_memory_examples=params['per_task_memory_examples'],\n",
    "                        per_task_examples = params['per_task_examples'],\n",
    "                        random_class_idx = params['random_class_idx'])\n",
    "    input_dim = (3, 32, 32)\n",
    "elif params['dataset'] == 'CIFAR100':        \n",
    "    benchmark = CIFAR100(num_tasks=params['num_tasks'],\n",
    "                        per_task_memory_examples=params['per_task_memory_examples'],\n",
    "                        per_task_examples = params['per_task_examples'],\n",
    "                        random_class_idx = params['random_class_idx'])\n",
    "    input_dim = (3, 32, 32)\n",
    "elif params['dataset'] in [\"BiasedMNIST\"]:\n",
    "    benchmark = BiasedMNIST(num_tasks=params['num_tasks'],\n",
    "                            per_task_memory_examples=params['per_task_memory_examples'],\n",
    "                            per_task_examples = params['per_task_examples'],\n",
    "                            joint = (params['method'] == \"joint\"),\n",
    "                            random_class_idx = params['random_class_idx'])\n",
    "    input_dim = (3, 28, 28)\n",
    "elif params['dataset'] == 'Drug':        \n",
    "    benchmark = Drug(num_tasks=params['num_tasks'],\n",
    "                        per_task_memory_examples=params['per_task_memory_examples'],\n",
    "                        per_task_examples = params['per_task_examples'],\n",
    "                        joint = params['random_class_idx'],\n",
    "                        random_class_idx = params['random_class_idx'])\n",
    "    input_dim = (12)\n",
    "else:\n",
    "    raise NotImplementedError\n",
    "class_idx = benchmark.class_idx\n",
    "num_classes = len(class_idx)\n",
    "\n"
   ]
  },
  {
   "cell_type": "code",
   "execution_count": 3,
   "id": "20c7b886",
   "metadata": {},
   "outputs": [
    {
     "name": "stdout",
     "output_type": "stream",
     "text": [
      "GSSGreedy\n"
     ]
    }
   ],
   "source": [
    "from algorithms.gss import GSSGreedy as Algorithm\n",
    "from metrics import MetricCollector2\n",
    "from metrics import FairMetricCollector as MetricCollector\n",
    "from backbones import MLP2Layers2\n",
    "\n",
    "backbone = MLP2Layers2(\n",
    "    input_dim=input_dim, \n",
    "    hidden_dim_1=256, \n",
    "    hidden_dim_2=256, \n",
    "    output_dim=num_classes,\n",
    "    class_idx=class_idx,\n",
    "    config=params\n",
    "    ).to(params['device'])\n",
    "algorithm = Algorithm(backbone, benchmark, params, requires_memory=True)\n",
    "metric_manager_callback = MetricCollector(num_tasks=params['num_tasks'],\n",
    "                                                        eval_interval='epoch',\n",
    "                                                        epochs_per_task=params['epochs_per_task'])"
   ]
  },
  {
   "cell_type": "code",
   "execution_count": 4,
   "id": "d8efa3ad",
   "metadata": {},
   "outputs": [],
   "source": [
    "from trainers.baselines import BaseMemoryContinualTrainer as ContinualTrainer\n",
    "trainer = ContinualTrainer(algorithm, params, callbacks=[metric_manager_callback])\n"
   ]
  },
  {
   "cell_type": "code",
   "execution_count": 5,
   "id": "f5260cef",
   "metadata": {},
   "outputs": [
    {
     "name": "stdout",
     "output_type": "stream",
     "text": [
      "---------------------------- Task 1 -----------------------\n",
      "[1] Eval metrics for task 1 >> {'accuracy': 0.5, 'loss': 0.005764091144437375, 'std': 0.5, 'EER': -1, 'EO': [0.0, 0.0], 'DP': -1, 'accuracy_s0': 0.5, 'accuracy_s1': 0.5, 'classwise_accuracy': {0: array([128, 128]), 1: array([ 0, 56])}, 'DP_ingredients': {'class_pred_count_s0': {0: 56}, 'class_pred_count_s1': {0: 128}, 'class_pred_count': {0: 184}, 'count_s0': 56, 'count_s1': 128, 'count': 184}}\n",
      "[2] Eval metrics for task 1 >> {'accuracy': 0.5, 'loss': 0.004093839746454488, 'std': 0.5, 'EER': -1, 'EO': [0.0, 0.0], 'DP': -1, 'accuracy_s0': 0.5, 'accuracy_s1': 0.5, 'classwise_accuracy': {0: array([128, 128]), 1: array([ 0, 56])}, 'DP_ingredients': {'class_pred_count_s0': {0: 56}, 'class_pred_count_s1': {0: 128}, 'class_pred_count': {0: 184}, 'count_s0': 56, 'count_s1': 128, 'count': 184}}\n",
      "[3] Eval metrics for task 1 >> {'accuracy': 0.5, 'loss': 0.0036779535205467887, 'std': 0.5, 'EER': -1, 'EO': [0.0, 0.0], 'DP': -1, 'accuracy_s0': 0.5, 'accuracy_s1': 0.5, 'classwise_accuracy': {0: array([128, 128]), 1: array([ 0, 56])}, 'DP_ingredients': {'class_pred_count_s0': {0: 56}, 'class_pred_count_s1': {0: 128}, 'class_pred_count': {0: 184}, 'count_s0': 56, 'count_s1': 128, 'count': 184}}\n",
      "[4] Eval metrics for task 1 >> {'accuracy': 0.5, 'loss': 0.003513703851596169, 'std': 0.5, 'EER': -1, 'EO': [0.0, 0.0], 'DP': -1, 'accuracy_s0': 0.5, 'accuracy_s1': 0.5, 'classwise_accuracy': {0: array([128, 128]), 1: array([ 0, 56])}, 'DP_ingredients': {'class_pred_count_s0': {0: 56}, 'class_pred_count_s1': {0: 128}, 'class_pred_count': {0: 184}, 'count_s0': 56, 'count_s1': 128, 'count': 184}}\n",
      "[5] Eval metrics for task 1 >> {'accuracy': 0.5, 'loss': 0.0034103425948516183, 'std': 0.5, 'EER': -1, 'EO': [0.0, 0.0], 'DP': -1, 'accuracy_s0': 0.5, 'accuracy_s1': 0.5, 'classwise_accuracy': {0: array([128, 128]), 1: array([ 0, 56])}, 'DP_ingredients': {'class_pred_count_s0': {0: 56}, 'class_pred_count_s1': {0: 128}, 'class_pred_count': {0: 184}, 'count_s0': 56, 'count_s1': 128, 'count': 184}}\n",
      "[6] Eval metrics for task 1 >> {'accuracy': 0.5, 'loss': 0.0033530962208042974, 'std': 0.5, 'EER': -1, 'EO': [0.0, 0.0], 'DP': -1, 'accuracy_s0': 0.5, 'accuracy_s1': 0.5, 'classwise_accuracy': {1: array([ 0, 56]), 0: array([128, 128])}, 'DP_ingredients': {'class_pred_count_s0': {0: 56}, 'class_pred_count_s1': {0: 128}, 'class_pred_count': {0: 184}, 'count_s0': 56, 'count_s1': 128, 'count': 184}}\n",
      "[7] Eval metrics for task 1 >> {'accuracy': 0.5, 'loss': 0.003317137451275535, 'std': 0.5, 'EER': -1, 'EO': [0.0, 0.0], 'DP': -1, 'accuracy_s0': 0.5, 'accuracy_s1': 0.5, 'classwise_accuracy': {0: array([128, 128]), 1: array([ 0, 56])}, 'DP_ingredients': {'class_pred_count_s0': {0: 56}, 'class_pred_count_s1': {0: 128}, 'class_pred_count': {0: 184}, 'count_s0': 56, 'count_s1': 128, 'count': 184}}\n",
      "[8] Eval metrics for task 1 >> {'accuracy': 0.5050223214285714, 'loss': 0.0032812324555023856, 'std': 0.48716517857142855, 'EER': -1, 'EO': [0.038461538461538464, 0.033333333333333326], 'DP': -1, 'accuracy_s0': 0.5025641025641026, 'accuracy_s1': 0.5, 'classwise_accuracy': {1: array([ 1, 56]), 0: array([127, 128])}, 'DP_ingredients': {'class_pred_count_s0': {0: 54, 1: 2}, 'class_pred_count_s1': {0: 128}, 'class_pred_count': {0: 182, 1: 2}, 'count_s0': 56, 'count_s1': 128, 'count': 184}}\n",
      "[9] Eval metrics for task 1 >> {'accuracy': 0.5050223214285714, 'loss': 0.00324723059716432, 'std': 0.48716517857142855, 'EER': -1, 'EO': [0.033333333333333326, 0.038461538461538464], 'DP': -1, 'accuracy_s0': 0.5025641025641026, 'accuracy_s1': 0.5, 'classwise_accuracy': {0: array([127, 128]), 1: array([ 1, 56])}, 'DP_ingredients': {'class_pred_count_s0': {0: 54, 1: 2}, 'class_pred_count_s1': {0: 128}, 'class_pred_count': {0: 182, 1: 2}, 'count_s0': 56, 'count_s1': 128, 'count': 184}}\n",
      "[10] Eval metrics for task 1 >> {'accuracy': 0.5139508928571429, 'loss': 0.0032246414086093073, 'std': 0.47823660714285715, 'EER': -1, 'EO': [0.033333333333333326, 0.005128205128205131], 'DP': -1, 'accuracy_s0': 0.5025641025641026, 'accuracy_s1': 0.5166666666666667, 'classwise_accuracy': {0: array([127, 128]), 1: array([ 2, 56])}, 'DP_ingredients': {'class_pred_count_s0': {0: 54, 1: 2}, 'class_pred_count_s1': {0: 127, 1: 1}, 'class_pred_count': {0: 181, 1: 3}, 'count_s0': 56, 'count_s1': 128, 'count': 184}}\n",
      "[11] Eval metrics for task 1 >> {'accuracy': 0.5234375, 'loss': 0.0032434052099352298, 'std': 0.3984375, 'EER': -1, 'EO': [0.12564102564102564, 0.07210884353741498], 'DP': -1, 'accuracy_s0': 0.5294871794871795, 'accuracy_s1': 0.5027210884353742, 'classwise_accuracy': {1: array([ 7, 56]), 0: array([118, 128])}, 'DP_ingredients': {'class_pred_count_s0': {0: 47, 1: 9}, 'class_pred_count_s1': {0: 120, 1: 8}, 'class_pred_count': {0: 167, 1: 17}, 'count_s0': 56, 'count_s1': 128, 'count': 184}}\n",
      "[12] Eval metrics for task 1 >> {'accuracy': 0.5290178571428571, 'loss': 0.003185595831145411, 'std': 0.43973214285714285, 'EER': -1, 'EO': [0.0897959183673469, 0.12051282051282053], 'DP': -1, 'accuracy_s0': 0.5269230769230769, 'accuracy_s1': 0.5115646258503401, 'classwise_accuracy': {0: array([124, 128]), 1: array([ 5, 56])}, 'DP_ingredients': {'class_pred_count_s0': {0: 49, 1: 7}, 'class_pred_count_s1': {0: 126, 1: 2}, 'class_pred_count': {0: 175, 1: 9}, 'count_s0': 56, 'count_s1': 128, 'count': 184}}\n",
      "[13] Eval metrics for task 1 >> {'accuracy': 0.5323660714285714, 'loss': 0.0031947085390920224, 'std': 0.38950892857142855, 'EER': -1, 'EO': [0.07210884353741498, 0.16410256410256413], 'DP': -1, 'accuracy_s0': 0.5487179487179488, 'accuracy_s1': 0.5027210884353742, 'classwise_accuracy': {0: array([118, 128]), 1: array([ 8, 56])}, 'DP_ingredients': {'class_pred_count_s0': {0: 46, 1: 10}, 'class_pred_count_s1': {0: 120, 1: 8}, 'class_pred_count': {0: 166, 1: 18}, 'count_s0': 56, 'count_s1': 128, 'count': 184}}\n",
      "[14] Eval metrics for task 1 >> {'accuracy': 0.5212053571428571, 'loss': 0.0031546441757160683, 'std': 0.43191964285714285, 'EER': -1, 'EO': [0.06938775510204076, 0.12051282051282053], 'DP': -1, 'accuracy_s0': 0.5269230769230769, 'accuracy_s1': 0.501360544217687, 'classwise_accuracy': {0: array([122, 128]), 1: array([ 5, 56])}, 'DP_ingredients': {'class_pred_count_s0': {1: 7, 0: 49}, 'class_pred_count_s1': {0: 124, 1: 4}, 'class_pred_count': {0: 173, 1: 11}, 'count_s0': 56, 'count_s1': 128, 'count': 184}}\n",
      "[15] Eval metrics for task 1 >> {'accuracy': 0.5223214285714286, 'loss': 0.0031486999081528706, 'std': 0.41517857142857145, 'EER': -1, 'EO': [0.048979591836734726, 0.158974358974359], 'DP': -1, 'accuracy_s0': 0.5461538461538462, 'accuracy_s1': 0.49115646258503404, 'classwise_accuracy': {0: array([120, 128]), 1: array([ 6, 56])}, 'DP_ingredients': {'class_pred_count_s0': {0: 48, 1: 8}, 'class_pred_count_s1': {0: 122, 1: 6}, 'class_pred_count': {0: 170, 1: 14}, 'count_s0': 56, 'count_s1': 128, 'count': 184}}\n",
      "[16] Eval metrics for task 1 >> {'accuracy': 0.5212053571428571, 'loss': 0.003135446944962377, 'std': 0.43191964285714285, 'EER': -1, 'EO': [0.12051282051282053, 0.06938775510204076], 'DP': -1, 'accuracy_s0': 0.5269230769230769, 'accuracy_s1': 0.501360544217687, 'classwise_accuracy': {1: array([ 5, 56]), 0: array([122, 128])}, 'DP_ingredients': {'class_pred_count_s0': {0: 49, 1: 7}, 'class_pred_count_s1': {0: 124, 1: 4}, 'class_pred_count': {0: 173, 1: 11}, 'count_s0': 56, 'count_s1': 128, 'count': 184}}\n",
      "[17] Eval metrics for task 1 >> {'accuracy': 0.53125, 'loss': 0.003130142455515654, 'std': 0.40625, 'EER': -1, 'EO': [0.048979591836734726, 0.19743589743589746], 'DP': -1, 'accuracy_s0': 0.5653846153846154, 'accuracy_s1': 0.49115646258503404, 'classwise_accuracy': {0: array([120, 128]), 1: array([ 7, 56])}, 'DP_ingredients': {'class_pred_count_s0': {0: 47, 1: 9}, 'class_pred_count_s1': {0: 122, 1: 6}, 'class_pred_count': {0: 169, 1: 15}, 'count_s0': 56, 'count_s1': 128, 'count': 184}}\n",
      "[18] Eval metrics for task 1 >> {'accuracy': 0.53125, 'loss': 0.003118771573771601, 'std': 0.40625, 'EER': -1, 'EO': [0.048979591836734726, 0.19743589743589746], 'DP': -1, 'accuracy_s0': 0.5653846153846154, 'accuracy_s1': 0.49115646258503404, 'classwise_accuracy': {0: array([120, 128]), 1: array([ 7, 56])}, 'DP_ingredients': {'class_pred_count_s0': {0: 47, 1: 9}, 'class_pred_count_s1': {0: 122, 1: 6}, 'class_pred_count': {0: 169, 1: 15}, 'count_s0': 56, 'count_s1': 128, 'count': 184}}\n",
      "[19] Eval metrics for task 1 >> {'accuracy': 0.5652901785714286, 'loss': 0.003129985345446545, 'std': 0.33314732142857145, 'EER': -1, 'EO': [0.08503401360544216, 0.14102564102564105], 'DP': -1, 'accuracy_s0': 0.5705128205128205, 'accuracy_s1': 0.5425170068027211, 'classwise_accuracy': {0: array([115, 128]), 1: array([13, 56])}, 'DP_ingredients': {'class_pred_count_s0': {0: 43, 1: 13}, 'class_pred_count_s1': {0: 115, 1: 13}, 'class_pred_count': {0: 158, 1: 26}, 'count_s0': 56, 'count_s1': 128, 'count': 184}}\n",
      "[20] Eval metrics for task 1 >> {'accuracy': 0.5619419642857143, 'loss': 0.003195689100286235, 'std': 0.25837053571428575, 'EER': -1, 'EO': [0.11360544217687085, 0.22307692307692306], 'DP': -1, 'accuracy_s0': 0.5782051282051281, 'accuracy_s1': 0.5234693877551021, 'classwise_accuracy': {0: array([105, 128]), 1: array([17, 56])}, 'DP_ingredients': {'class_pred_count_s0': {0: 37, 1: 19}, 'class_pred_count_s1': {0: 107, 1: 21}, 'class_pred_count': {0: 144, 1: 40}, 'count_s0': 56, 'count_s1': 128, 'count': 184}}\n",
      "[21] Eval metrics for task 1 >> {'accuracy': 0.5597098214285714, 'loss': 0.0031532288893409395, 'std': 0.2918526785714286, 'EER': -1, 'EO': [0.15442176870748303, 0.21794871794871798], 'DP': -1, 'accuracy_s0': 0.558974358974359, 'accuracy_s1': 0.5272108843537415, 'classwise_accuracy': {0: array([109, 128]), 1: array([15, 56])}, 'DP_ingredients': {'class_pred_count_s0': {1: 18, 0: 38}, 'class_pred_count_s1': {0: 112, 1: 16}, 'class_pred_count': {1: 34, 0: 150}, 'count_s0': 56, 'count_s1': 128, 'count': 184}}\n",
      "[22] Eval metrics for task 1 >> {'accuracy': 0.5251116071428571, 'loss': 0.003120503347852956, 'std': 0.43582589285714285, 'EER': -1, 'EO': [0.12051282051282053, 0.036054421768707434], 'DP': -1, 'accuracy_s0': 0.5435897435897437, 'accuracy_s1': 0.501360544217687, 'classwise_accuracy': {1: array([ 5, 56]), 0: array([123, 128])}, 'DP_ingredients': {'class_pred_count_s0': {0: 50, 1: 6}, 'class_pred_count_s1': {0: 124, 1: 4}, 'class_pred_count': {0: 174, 1: 10}, 'count_s0': 56, 'count_s1': 128, 'count': 184}}\n",
      "[23] Eval metrics for task 1 >> {'accuracy': 0.55078125, 'loss': 0.0031325985556063447, 'std': 0.30078125, 'EER': -1, 'EO': [0.1794871794871795, 0.15442176870748303], 'DP': -1, 'accuracy_s0': 0.5397435897435897, 'accuracy_s1': 0.5272108843537415, 'classwise_accuracy': {1: array([14, 56]), 0: array([109, 128])}, 'DP_ingredients': {'class_pred_count_s0': {1: 17, 0: 39}, 'class_pred_count_s1': {0: 112, 1: 16}, 'class_pred_count': {0: 151, 1: 33}, 'count_s0': 56, 'count_s1': 128, 'count': 184}}\n",
      "[24] Eval metrics for task 1 >> {'accuracy': 0.5597098214285714, 'loss': 0.0031337407620056815, 'std': 0.2918526785714286, 'EER': -1, 'EO': [0.15442176870748303, 0.21794871794871798], 'DP': -1, 'accuracy_s0': 0.558974358974359, 'accuracy_s1': 0.5272108843537415, 'classwise_accuracy': {0: array([109, 128]), 1: array([15, 56])}, 'DP_ingredients': {'class_pred_count_s0': {1: 18, 0: 38}, 'class_pred_count_s1': {0: 112, 1: 16}, 'class_pred_count': {0: 150, 1: 34}, 'count_s0': 56, 'count_s1': 128, 'count': 184}}\n",
      "[25] Eval metrics for task 1 >> {'accuracy': 0.546875, 'loss': 0.0031352179205935936, 'std': 0.296875, 'EER': -1, 'EO': [0.14421768707482996, 0.1794871794871795], 'DP': -1, 'accuracy_s0': 0.5397435897435897, 'accuracy_s1': 0.5221088435374149, 'classwise_accuracy': {0: array([108, 128]), 1: array([14, 56])}, 'DP_ingredients': {'class_pred_count_s0': {0: 39, 1: 17}, 'class_pred_count_s1': {0: 111, 1: 17}, 'class_pred_count': {0: 150, 1: 34}, 'count_s0': 56, 'count_s1': 128, 'count': 184}}\n",
      "training_task_end\n",
      "---------------------------- Task 2 -----------------------\n",
      "[26] Eval metrics for task 1 >> {'accuracy': 0.5212053571428572, 'loss': 0.0047822367885838385, 'std': 0.18191964285714285, 'EER': -1, 'EO': [0.01282051282051283, 0.13469387755102047], 'DP': -1, 'accuracy_s0': 0.47307692307692306, 'accuracy_s1': 0.5340136054421769, 'classwise_accuracy': {1: array([19, 56]), 0: array([ 90, 128])}, 'DP_ingredients': {'class_pred_count_s0': {0: 35, 1: 21}, 'class_pred_count_s1': {0: 92, 1: 36}, 'class_pred_count': {0: 127, 1: 57}, 'count_s0': 56, 'count_s1': 128, 'count': 184}}\n",
      "[26] Eval metrics for task 2 >> {'accuracy': 0.0, 'loss': 0.01638854444026947, 'std': 0.0, 'EER': -1, 'EO': [0.0, 0.0], 'DP': -1, 'accuracy_s0': 0.0, 'accuracy_s1': 0.0, 'classwise_accuracy': {2: array([ 0, 82]), 3: array([ 0, 78])}, 'DP_ingredients': {'class_pred_count_s0': {0: 16, 1: 54}, 'class_pred_count_s1': {0: 49, 1: 41}, 'class_pred_count': {0: 65, 1: 95}, 'count_s0': 70, 'count_s1': 90, 'count': 160}}\n",
      "[27] Eval metrics for task 1 >> {'accuracy': 0.52734375, 'loss': 0.005290203120397485, 'std': 0.15234375, 'EER': -1, 'EO': [0.017948717948717996, 0.19115646258503405], 'DP': -1, 'accuracy_s0': 0.458974358974359, 'accuracy_s1': 0.545578231292517, 'classwise_accuracy': {1: array([21, 56]), 0: array([ 87, 128])}, 'DP_ingredients': {'class_pred_count_s0': {0: 32, 1: 24}, 'class_pred_count_s1': {1: 38, 0: 90}, 'class_pred_count': {1: 62, 0: 122}, 'count_s0': 56, 'count_s1': 128, 'count': 184}}\n",
      "[27] Eval metrics for task 2 >> {'accuracy': 0.0, 'loss': 0.017186447978019714, 'std': 0.0, 'EER': -1, 'EO': [0.0, 0.0], 'DP': -1, 'accuracy_s0': 0.0, 'accuracy_s1': 0.0, 'classwise_accuracy': {2: array([ 0, 82]), 3: array([ 0, 78])}, 'DP_ingredients': {'class_pred_count_s0': {1: 46, 0: 24}, 'class_pred_count_s1': {0: 50, 1: 40}, 'class_pred_count': {0: 74, 1: 86}, 'count_s0': 70, 'count_s1': 90, 'count': 160}}\n",
      "[28] Eval metrics for task 1 >> {'accuracy': 0.5412946428571428, 'loss': 0.006025328584339308, 'std': 0.13058035714285715, 'EER': -1, 'EO': [0.22448979591836737, 0.04871794871794871], 'DP': -1, 'accuracy_s0': 0.4423076923076923, 'accuracy_s1': 0.5789115646258504, 'classwise_accuracy': {0: array([ 86, 128]), 1: array([23, 56])}, 'DP_ingredients': {'class_pred_count_s0': {1: 25, 0: 31}, 'class_pred_count_s1': {0: 88, 1: 40}, 'class_pred_count': {0: 119, 1: 65}, 'count_s0': 56, 'count_s1': 128, 'count': 184}}\n",
      "[28] Eval metrics for task 2 >> {'accuracy': 0.057379612257661035, 'loss': 0.015631693601608276, 'std': 0.04518449030644152, 'EER': -1, 'EO': [0.017857142857142856, 0.07754010695187165], 'DP': -1, 'accuracy_s0': 0.06818181818181818, 'accuracy_s1': 0.038340336134453784, 'classwise_accuracy': {2: array([ 1, 82]), 3: array([ 8, 78])}, 'DP_ingredients': {'class_pred_count_s0': {3: 6, 0: 27, 1: 37}, 'class_pred_count_s1': {1: 38, 0: 48, 3: 2, 2: 2}, 'class_pred_count': {1: 75, 3: 8, 0: 75, 2: 2}, 'count_s0': 70, 'count_s1': 90, 'count': 160}}\n",
      "[29] Eval metrics for task 1 >> {'accuracy': 0.5066964285714286, 'loss': 0.006794625002404918, 'std': 0.14955357142857142, 'EER': -1, 'EO': [0.20408163265306123, 0.09230769230769231], 'DP': -1, 'accuracy_s0': 0.40384615384615385, 'accuracy_s1': 0.5520408163265307, 'classwise_accuracy': {0: array([ 84, 128]), 1: array([20, 56])}, 'DP_ingredients': {'class_pred_count_s0': {0: 32, 1: 22, 3: 2}, 'class_pred_count_s1': {0: 86, 1: 40, 3: 1, 2: 1}, 'class_pred_count': {0: 118, 1: 62, 3: 3, 2: 1}, 'count_s0': 56, 'count_s1': 128, 'count': 184}}\n",
      "[29] Eval metrics for task 2 >> {'accuracy': 0.12757973733583491, 'loss': 0.014658169448375702, 'std': 0.10318949343339588, 'EER': -1, 'EO': [0.20053475935828877, 0.03571428571428571], 'DP': -1, 'accuracy_s0': 0.1590909090909091, 'accuracy_s1': 0.07668067226890757, 'classwise_accuracy': {3: array([18, 78]), 2: array([ 2, 82])}, 'DP_ingredients': {'class_pred_count_s0': {1: 25, 0: 30, 3: 15}, 'class_pred_count_s1': {1: 36, 0: 47, 3: 5, 2: 2}, 'class_pred_count': {1: 61, 0: 77, 3: 20, 2: 2}, 'count_s0': 70, 'count_s1': 90, 'count': 160}}\n",
      "[30] Eval metrics for task 1 >> {'accuracy': 0.4849330357142857, 'loss': 0.007646359827207482, 'std': 0.16350446428571427, 'EER': -1, 'EO': [0.19387755102040816, 0.16923076923076924], 'DP': -1, 'accuracy_s0': 0.3653846153846154, 'accuracy_s1': 0.5469387755102041, 'classwise_accuracy': {0: array([ 83, 128]), 1: array([18, 56])}, 'DP_ingredients': {'class_pred_count_s0': {0: 33, 1: 20, 3: 2, 2: 1}, 'class_pred_count_s1': {0: 85, 1: 39, 2: 3, 3: 1}, 'class_pred_count': {0: 118, 1: 59, 2: 4, 3: 3}, 'count_s0': 56, 'count_s1': 128, 'count': 184}}\n",
      "[30] Eval metrics for task 2 >> {'accuracy': 0.14681050656660413, 'loss': 0.014052294194698334, 'std': 0.1224202626641651, 'EER': -1, 'EO': [0.03571428571428571, 0.2687165775401069], 'DP': -1, 'accuracy_s0': 0.19318181818181818, 'accuracy_s1': 0.07668067226890757, 'classwise_accuracy': {2: array([ 2, 82]), 3: array([21, 78])}, 'DP_ingredients': {'class_pred_count_s0': {1: 21, 0: 30, 3: 19}, 'class_pred_count_s1': {0: 48, 1: 35, 3: 5, 2: 2}, 'class_pred_count': {0: 78, 1: 56, 3: 24, 2: 2}, 'count_s0': 70, 'count_s1': 90, 'count': 160}}\n",
      "[31] Eval metrics for task 1 >> {'accuracy': 0.4693080357142857, 'loss': 0.008304625101711439, 'std': 0.14787946428571427, 'EER': -1, 'EO': [0.24013605442176866, 0.16923076923076924], 'DP': -1, 'accuracy_s0': 0.3320512820512821, 'accuracy_s1': 0.536734693877551, 'classwise_accuracy': {0: array([ 79, 128]), 1: array([18, 56])}, 'DP_ingredients': {'class_pred_count_s0': {1: 22, 0: 31, 2: 1, 3: 2}, 'class_pred_count_s1': {0: 83, 2: 3, 1: 38, 3: 4}, 'class_pred_count': {0: 114, 2: 4, 1: 60, 3: 6}, 'count_s0': 56, 'count_s1': 128, 'count': 184}}\n",
      "[31] Eval metrics for task 2 >> {'accuracy': 0.17823639774859287, 'loss': 0.013487258553504944, 'std': 0.12945590994371484, 'EER': -1, 'EO': [0.232620320855615, 0.015109890109890105], 'DP': -1, 'accuracy_s0': 0.2237762237762238, 'accuracy_s1': 0.11502100840336135, 'classwise_accuracy': {3: array([24, 78]), 2: array([ 4, 82])}, 'DP_ingredients': {'class_pred_count_s0': {0: 27, 2: 1, 1: 21, 3: 21}, 'class_pred_count_s1': {1: 33, 0: 45, 3: 9, 2: 3}, 'class_pred_count': {1: 54, 0: 72, 2: 4, 3: 30}, 'count_s0': 70, 'count_s1': 90, 'count': 160}}\n",
      "[32] Eval metrics for task 1 >> {'accuracy': 0.4676339285714286, 'loss': 0.00915500327296879, 'std': 0.11049107142857142, 'EER': -1, 'EO': [0.1891156462585034, 0.09230769230769231], 'DP': -1, 'accuracy_s0': 0.37051282051282053, 'accuracy_s1': 0.5112244897959184, 'classwise_accuracy': {0: array([ 74, 128]), 1: array([20, 56])}, 'DP_ingredients': {'class_pred_count_s0': {1: 24, 0: 28, 2: 2, 3: 2}, 'class_pred_count_s1': {2: 9, 0: 78, 1: 40, 3: 1}, 'class_pred_count': {2: 11, 0: 106, 1: 64, 3: 3}, 'count_s0': 56, 'count_s1': 128, 'count': 184}}\n",
      "[32] Eval metrics for task 2 >> {'accuracy': 0.183083176985616, 'loss': 0.01308538019657135, 'std': 0.0733270794246404, 'EER': -1, 'EO': [0.06456043956043957, 0.2981283422459893], 'DP': -1, 'accuracy_s0': 0.2701048951048951, 'accuracy_s1': 0.08876050420168068, 'classwise_accuracy': {2: array([ 9, 82]), 3: array([20, 78])}, 'DP_ingredients': {'class_pred_count_s0': {3: 19, 1: 20, 0: 24, 2: 7}, 'class_pred_count_s1': {0: 40, 2: 10, 1: 36, 3: 4}, 'class_pred_count': {3: 23, 0: 64, 2: 17, 1: 56}, 'count_s0': 70, 'count_s1': 90, 'count': 160}}\n",
      "[33] Eval metrics for task 1 >> {'accuracy': 0.46261160714285715, 'loss': 0.009601239924845488, 'std': 0.12332589285714285, 'EER': -1, 'EO': [0.19931972789115648, 0.1307692307692308], 'DP': -1, 'accuracy_s0': 0.35128205128205126, 'accuracy_s1': 0.5163265306122449, 'classwise_accuracy': {0: array([ 75, 128]), 1: array([19, 56])}, 'DP_ingredients': {'class_pred_count_s0': {0: 29, 1: 19, 2: 4, 3: 4}, 'class_pred_count_s1': {0: 79, 1: 39, 3: 5, 2: 5}, 'class_pred_count': {0: 108, 1: 58, 2: 9, 3: 9}, 'count_s0': 56, 'count_s1': 128, 'count': 184}}\n",
      "[33] Eval metrics for task 2 >> {'accuracy': 0.21607254534083803, 'loss': 0.012355824559926986, 'std': 0.14290181363352095, 'EER': -1, 'EO': [0.005494505494505503, 0.27139037433155083], 'DP': -1, 'accuracy_s0': 0.2770979020979021, 'accuracy_s1': 0.13865546218487396, 'classwise_accuracy': {2: array([ 6, 82]), 3: array([28, 78])}, 'DP_ingredients': {'class_pred_count_s0': {0: 22, 3: 26, 1: 18, 2: 4}, 'class_pred_count_s1': {0: 42, 3: 10, 1: 31, 2: 7}, 'class_pred_count': {0: 64, 3: 36, 1: 49, 2: 11}, 'count_s0': 70, 'count_s1': 90, 'count': 160}}\n",
      "[34] Eval metrics for task 1 >> {'accuracy': 0.4408482142857143, 'loss': 0.01006153096323428, 'std': 0.13727678571428573, 'EER': -1, 'EO': [0.1891156462585034, 0.13589743589743586], 'DP': -1, 'accuracy_s0': 0.3320512820512821, 'accuracy_s1': 0.4945578231292517, 'classwise_accuracy': {0: array([ 74, 128]), 1: array([17, 56])}, 'DP_ingredients': {'class_pred_count_s0': {1: 15, 0: 30, 2: 7, 3: 4}, 'class_pred_count_s1': {1: 36, 0: 78, 2: 9, 3: 5}, 'class_pred_count': {1: 51, 0: 108, 2: 16, 3: 9}, 'count_s0': 56, 'count_s1': 128, 'count': 184}}\n",
      "[34] Eval metrics for task 2 >> {'accuracy': 0.24749843652282677, 'loss': 0.011886819452047347, 'std': 0.14993746091307067, 'EER': -1, 'EO': [0.23529411764705882, 0.026098901098901103], 'DP': -1, 'accuracy_s0': 0.3076923076923077, 'accuracy_s1': 0.17699579831932774, 'classwise_accuracy': {3: array([31, 78]), 2: array([ 8, 82])}, 'DP_ingredients': {'class_pred_count_s0': {0: 22, 3: 27, 1: 15, 2: 6}, 'class_pred_count_s1': {2: 8, 1: 26, 0: 42, 3: 14}, 'class_pred_count': {2: 14, 1: 41, 0: 64, 3: 41}, 'count_s0': 70, 'count_s1': 90, 'count': 160}}\n",
      "[35] Eval metrics for task 1 >> {'accuracy': 0.44698660714285715, 'loss': 0.010653797051180964, 'std': 0.10770089285714285, 'EER': -1, 'EO': [0.1585034013605442, 0.05897435897435893], 'DP': -1, 'accuracy_s0': 0.37051282051282053, 'accuracy_s1': 0.4792517006802721, 'classwise_accuracy': {0: array([ 71, 128]), 1: array([19, 56])}, 'DP_ingredients': {'class_pred_count_s0': {3: 4, 2: 8, 0: 27, 1: 17}, 'class_pred_count_s1': {0: 75, 1: 38, 2: 7, 3: 8}, 'class_pred_count': {0: 102, 3: 12, 1: 55, 2: 15}, 'count_s0': 56, 'count_s1': 128, 'count': 184}}\n",
      "[35] Eval metrics for task 2 >> {'accuracy': 0.2661038148843027, 'loss': 0.011363150179386139, 'std': 0.14415259537210756, 'EER': -1, 'EO': [0.20588235294117646, 0.04670329670329672], 'DP': -1, 'accuracy_s0': 0.3269230769230769, 'accuracy_s1': 0.20063025210084034, 'classwise_accuracy': {3: array([32, 78]), 2: array([10, 82])}, 'DP_ingredients': {'class_pred_count_s0': {3: 27, 0: 19, 1: 15, 2: 9}, 'class_pred_count_s1': {1: 27, 0: 39, 3: 15, 2: 9}, 'class_pred_count': {1: 42, 3: 42, 0: 58, 2: 18}, 'count_s0': 70, 'count_s1': 90, 'count': 160}}\n",
      "[36] Eval metrics for task 1 >> {'accuracy': 0.4341517857142857, 'loss': 0.011140985333401224, 'std': 0.11272321428571427, 'EER': -1, 'EO': [0.14829931972789112, 0.09743589743589742], 'DP': -1, 'accuracy_s0': 0.35128205128205126, 'accuracy_s1': 0.4741496598639455, 'classwise_accuracy': {0: array([ 70, 128]), 1: array([18, 56])}, 'DP_ingredients': {'class_pred_count_s0': {0: 27, 1: 16, 2: 9, 3: 4}, 'class_pred_count_s1': {0: 74, 2: 7, 1: 38, 3: 9}, 'class_pred_count': {0: 101, 2: 16, 1: 54, 3: 13}, 'count_s0': 56, 'count_s1': 128, 'count': 184}}\n",
      "[36] Eval metrics for task 2 >> {'accuracy': 0.2795497185741088, 'loss': 0.011023014783859253, 'std': 0.18198874296435275, 'EER': -1, 'EO': [0.08241758241758243, 0.19251336898395716], 'DP': -1, 'accuracy_s0': 0.34965034965034963, 'accuracy_s1': 0.21218487394957986, 'classwise_accuracy': {2: array([ 8, 82]), 3: array([36, 78])}, 'DP_ingredients': {'class_pred_count_s0': {2: 8, 0: 18, 1: 14, 3: 30}, 'class_pred_count_s1': {0: 39, 3: 19, 1: 26, 2: 6}, 'class_pred_count': {0: 57, 2: 14, 3: 49, 1: 40}, 'count_s0': 70, 'count_s1': 90, 'count': 160}}\n",
      "[37] Eval metrics for task 1 >> {'accuracy': 0.4341517857142857, 'loss': 0.011661507513212122, 'std': 0.11272321428571427, 'EER': -1, 'EO': [0.14829931972789112, 0.16923076923076924], 'DP': -1, 'accuracy_s0': 0.3320512820512821, 'accuracy_s1': 0.49081632653061225, 'classwise_accuracy': {0: array([ 70, 128]), 1: array([18, 56])}, 'DP_ingredients': {'class_pred_count_s0': {0: 28, 1: 15, 3: 2, 2: 11}, 'class_pred_count_s1': {1: 38, 0: 73, 2: 16, 3: 1}, 'class_pred_count': {1: 53, 0: 101, 2: 27, 3: 3}, 'count_s0': 56, 'count_s1': 128, 'count': 184}}\n",
      "[37] Eval metrics for task 2 >> {'accuracy': 0.31879299562226393, 'loss': 0.010426764190196992, 'std': 0.0017198248905566094, 'EER': -1, 'EO': [0.09890109890109894, 0.35962566844919786], 'DP': -1, 'accuracy_s0': 0.43094405594405594, 'accuracy_s1': 0.20168067226890757, 'classwise_accuracy': {2: array([26, 82]), 3: array([25, 78])}, 'DP_ingredients': {'class_pred_count_s0': {1: 11, 3: 25, 2: 19, 0: 15}, 'class_pred_count_s1': {0: 37, 2: 25, 3: 7, 1: 21}, 'class_pred_count': {0: 52, 2: 44, 1: 32, 3: 32}, 'count_s0': 70, 'count_s1': 90, 'count': 160}}\n",
      "[38] Eval metrics for task 1 >> {'accuracy': 0.4302455357142857, 'loss': 0.012032682481019394, 'std': 0.10881696428571427, 'EER': -1, 'EO': [0.13809523809523805, 0.09743589743589742], 'DP': -1, 'accuracy_s0': 0.35128205128205126, 'accuracy_s1': 0.46904761904761905, 'classwise_accuracy': {0: array([ 69, 128]), 1: array([18, 56])}, 'DP_ingredients': {'class_pred_count_s0': {2: 10, 1: 16, 0: 27, 3: 3}, 'class_pred_count_s1': {3: 6, 0: 73, 1: 38, 2: 11}, 'class_pred_count': {3: 9, 0: 100, 2: 21, 1: 54}, 'count_s0': 56, 'count_s1': 128, 'count': 184}}\n",
      "[38] Eval metrics for task 2 >> {'accuracy': 0.32645403377110693, 'loss': 0.010247866809368133, 'std': 0.058161350844277676, 'EER': -1, 'EO': [0.22664835164835165, 0.2125668449197861], 'DP': -1, 'accuracy_s0': 0.4501748251748252, 'accuracy_s1': 0.23056722689075632, 'classwise_accuracy': {2: array([22, 82]), 3: array([30, 78])}, 'DP_ingredients': {'class_pred_count_s0': {0: 15, 3: 27, 2: 19, 1: 9}, 'class_pred_count_s1': {1: 22, 2: 16, 0: 35, 3: 17}, 'class_pred_count': {1: 31, 2: 35, 0: 50, 3: 44}, 'count_s0': 70, 'count_s1': 90, 'count': 160}}\n",
      "[39] Eval metrics for task 1 >> {'accuracy': 0.4380580357142857, 'loss': 0.012573570013046265, 'std': 0.11662946428571427, 'EER': -1, 'EO': [0.1585034013605442, 0.16923076923076924], 'DP': -1, 'accuracy_s0': 0.3320512820512821, 'accuracy_s1': 0.4959183673469388, 'classwise_accuracy': {0: array([ 71, 128]), 1: array([18, 56])}, 'DP_ingredients': {'class_pred_count_s0': {1: 15, 0: 28, 2: 10, 3: 3}, 'class_pred_count_s1': {2: 13, 0: 74, 1: 36, 3: 5}, 'class_pred_count': {2: 23, 1: 51, 0: 102, 3: 8}, 'count_s0': 56, 'count_s1': 128, 'count': 184}}\n",
      "[39] Eval metrics for task 2 >> {'accuracy': 0.34505941213258284, 'loss': 0.010093723237514497, 'std': 0.05237648530331457, 'EER': -1, 'EO': [0.23529411764705882, 0.19093406593406592], 'DP': -1, 'accuracy_s0': 0.46153846153846156, 'accuracy_s1': 0.24842436974789917, 'classwise_accuracy': {3: array([31, 78]), 2: array([24, 82])}, 'DP_ingredients': {'class_pred_count_s0': {3: 28, 2: 19, 0: 14, 1: 9}, 'class_pred_count_s1': {2: 18, 3: 18, 0: 33, 1: 21}, 'class_pred_count': {3: 46, 2: 37, 0: 47, 1: 30}, 'count_s0': 70, 'count_s1': 90, 'count': 160}}\n",
      "[40] Eval metrics for task 1 >> {'accuracy': 0.4146205357142857, 'loss': 0.013359939274580582, 'std': 0.09319196428571427, 'EER': -1, 'EO': [0.227891156462585, 0.16923076923076924], 'DP': -1, 'accuracy_s0': 0.28205128205128205, 'accuracy_s1': 0.4806122448979592, 'classwise_accuracy': {0: array([ 65, 128]), 1: array([18, 56])}, 'DP_ingredients': {'class_pred_count_s0': {0: 24, 1: 15, 2: 15, 3: 2}, 'class_pred_count_s1': {0: 71, 1: 38, 2: 18, 3: 1}, 'class_pred_count': {0: 95, 1: 53, 2: 33, 3: 3}, 'count_s0': 56, 'count_s1': 128, 'count': 184}}\n",
      "[40] Eval metrics for task 2 >> {'accuracy': 0.3441213258286429, 'loss': 0.009479136765003204, 'std': 0.014853033145716066, 'EER': -1, 'EO': [0.3756684491978609, 0.13736263736263737], 'DP': -1, 'accuracy_s0': 0.4729020979020979, 'accuracy_s1': 0.21638655462184875, 'classwise_accuracy': {3: array([28, 78]), 2: array([27, 82])}, 'DP_ingredients': {'class_pred_count_s0': {3: 29, 0: 12, 1: 9, 2: 20}, 'class_pred_count_s1': {3: 11, 1: 20, 0: 33, 2: 26}, 'class_pred_count': {3: 40, 0: 45, 1: 29, 2: 46}, 'count_s0': 70, 'count_s1': 90, 'count': 160}}\n",
      "[41] Eval metrics for task 1 >> {'accuracy': 0.41964285714285715, 'loss': 0.013660598060359125, 'std': 0.08035714285714285, 'EER': -1, 'EO': [0.21768707482993194, 0.1307692307692308], 'DP': -1, 'accuracy_s0': 0.30128205128205127, 'accuracy_s1': 0.47551020408163264, 'classwise_accuracy': {0: array([ 64, 128]), 1: array([19, 56])}, 'DP_ingredients': {'class_pred_count_s0': {0: 23, 2: 14, 1: 16, 3: 3}, 'class_pred_count_s1': {0: 70, 1: 39, 2: 17, 3: 2}, 'class_pred_count': {0: 93, 2: 31, 1: 55, 3: 5}, 'count_s0': 56, 'count_s1': 128, 'count': 184}}\n",
      "[41] Eval metrics for task 2 >> {'accuracy': 0.34380863039399623, 'loss': 0.009384511411190033, 'std': 0.002345215759849889, 'EER': -1, 'EO': [0.3529411764705882, 0.11950549450549453], 'DP': -1, 'accuracy_s0': 0.46153846153846156, 'accuracy_s1': 0.22531512605042014, 'classwise_accuracy': {3: array([27, 78]), 2: array([28, 82])}, 'DP_ingredients': {'class_pred_count_s0': {1: 9, 2: 20, 3: 28, 0: 13}, 'class_pred_count_s1': {2: 28, 1: 18, 3: 11, 0: 33}, 'class_pred_count': {1: 27, 2: 48, 3: 39, 0: 46}, 'count_s0': 70, 'count_s1': 90, 'count': 160}}\n",
      "[42] Eval metrics for task 1 >> {'accuracy': 0.42578125, 'loss': 0.014392423888911371, 'std': 0.05078125, 'EER': -1, 'EO': [0.18707482993197283, 0.12564102564102564], 'DP': -1, 'accuracy_s0': 0.3205128205128205, 'accuracy_s1': 0.47687074829931975, 'classwise_accuracy': {0: array([ 61, 128]), 1: array([21, 56])}, 'DP_ingredients': {'class_pred_count_s0': {0: 21, 2: 15, 1: 17, 3: 3}, 'class_pred_count_s1': {3: 6, 1: 40, 0: 66, 2: 16}, 'class_pred_count': {3: 9, 1: 57, 0: 87, 2: 31}, 'count_s0': 56, 'count_s1': 128, 'count': 184}}\n",
      "[42] Eval metrics for task 2 >> {'accuracy': 0.38320825515947465, 'loss': 0.009030250459909439, 'std': 0.07833020637898688, 'EER': -1, 'EO': [0.24465240641711233, 0.17307692307692307], 'DP': -1, 'accuracy_s0': 0.4956293706293706, 'accuracy_s1': 0.2867647058823529, 'classwise_accuracy': {3: array([36, 78]), 2: array([25, 82])}, 'DP_ingredients': {'class_pred_count_s0': {3: 32, 2: 18, 0: 11, 1: 9}, 'class_pred_count_s1': {0: 31, 3: 20, 1: 19, 2: 20}, 'class_pred_count': {3: 52, 0: 42, 1: 28, 2: 38}, 'count_s0': 70, 'count_s1': 90, 'count': 160}}\n",
      "[43] Eval metrics for task 1 >> {'accuracy': 0.41183035714285715, 'loss': 0.014456498882044916, 'std': 0.07254464285714285, 'EER': -1, 'EO': [0.1972789115646259, 0.1307692307692308], 'DP': -1, 'accuracy_s0': 0.30128205128205127, 'accuracy_s1': 0.4653061224489796, 'classwise_accuracy': {0: array([ 62, 128]), 1: array([19, 56])}, 'DP_ingredients': {'class_pred_count_s0': {2: 14, 0: 23, 1: 16, 3: 3}, 'class_pred_count_s1': {2: 18, 0: 68, 1: 38, 3: 4}, 'class_pred_count': {2: 32, 0: 91, 1: 54, 3: 7}, 'count_s0': 56, 'count_s1': 128, 'count': 184}}\n",
      "[43] Eval metrics for task 2 >> {'accuracy': 0.36366479049405875, 'loss': 0.009345637261867523, 'std': 0.04659161976235146, 'EER': -1, 'EO': [0.3101604278074866, 0.21153846153846156], 'DP': -1, 'accuracy_s0': 0.5034965034965035, 'accuracy_s1': 0.2426470588235294, 'classwise_accuracy': {3: array([32, 78]), 2: array([26, 82])}, 'DP_ingredients': {'class_pred_count_s0': {2: 20, 3: 30, 1: 9, 0: 11}, 'class_pred_count_s1': {0: 32, 3: 17, 2: 22, 1: 19}, 'class_pred_count': {2: 42, 3: 47, 0: 43, 1: 28}, 'count_s0': 70, 'count_s1': 90, 'count': 160}}\n",
      "[44] Eval metrics for task 1 >> {'accuracy': 0.4090401785714286, 'loss': 0.015009890431943148, 'std': 0.051897321428571425, 'EER': -1, 'EO': [0.16410256410256413, 0.16666666666666669], 'DP': -1, 'accuracy_s0': 0.30128205128205127, 'accuracy_s1': 0.4666666666666667, 'classwise_accuracy': {1: array([20, 56]), 0: array([ 59, 128])}, 'DP_ingredients': {'class_pred_count_s0': {0: 23, 2: 12, 1: 16, 3: 5}, 'class_pred_count_s1': {1: 37, 2: 20, 0: 64, 3: 7}, 'class_pred_count': {1: 53, 2: 32, 0: 87, 3: 12}, 'count_s0': 56, 'count_s1': 128, 'count': 184}}\n",
      "[44] Eval metrics for task 2 >> {'accuracy': 0.3710131332082552, 'loss': 0.008806468546390533, 'std': 0.09052532833020638, 'EER': -1, 'EO': [0.2087912087912088, 0.24465240641711233], 'DP': -1, 'accuracy_s0': 0.4956293706293706, 'accuracy_s1': 0.2689075630252101, 'classwise_accuracy': {2: array([23, 82]), 3: array([36, 78])}, 'DP_ingredients': {'class_pred_count_s0': {0: 10, 3: 32, 2: 19, 1: 9}, 'class_pred_count_s1': {0: 30, 1: 18, 2: 20, 3: 22}, 'class_pred_count': {0: 40, 3: 54, 1: 27, 2: 39}, 'count_s0': 70, 'count_s1': 90, 'count': 160}}\n",
      "[45] Eval metrics for task 1 >> {'accuracy': 0.39620535714285715, 'loss': 0.015744068052457726, 'std': 0.05691964285714285, 'EER': -1, 'EO': [0.1564625850340136, 0.1307692307692308], 'DP': -1, 'accuracy_s0': 0.30128205128205127, 'accuracy_s1': 0.4448979591836735, 'classwise_accuracy': {0: array([ 58, 128]), 1: array([19, 56])}, 'DP_ingredients': {'class_pred_count_s0': {2: 16, 0: 21, 1: 16, 3: 3}, 'class_pred_count_s1': {2: 27, 1: 32, 0: 64, 3: 5}, 'class_pred_count': {2: 43, 1: 48, 0: 85, 3: 8}, 'count_s0': 56, 'count_s1': 128, 'count': 184}}\n",
      "[45] Eval metrics for task 2 >> {'accuracy': 0.4194809255784866, 'loss': 0.00845014899969101, 'std': 0.029237023139462165, 'EER': -1, 'EO': [0.2740641711229947, 0.1607142857142857], 'DP': -1, 'accuracy_s0': 0.5340909090909092, 'accuracy_s1': 0.3167016806722689, 'classwise_accuracy': {3: array([35, 78]), 2: array([32, 82])}, 'DP_ingredients': {'class_pred_count_s0': {2: 23, 3: 32, 0: 8, 1: 7}, 'class_pred_count_s1': {3: 19, 2: 30, 1: 15, 0: 26}, 'class_pred_count': {2: 53, 3: 51, 1: 22, 0: 34}, 'count_s0': 70, 'count_s1': 90, 'count': 160}}\n",
      "[46] Eval metrics for task 1 >> {'accuracy': 0.3973214285714286, 'loss': 0.016296055005944294, 'std': 0.040178571428571425, 'EER': -1, 'EO': [0.16410256410256413, 0.13605442176870752], 'DP': -1, 'accuracy_s0': 0.30128205128205127, 'accuracy_s1': 0.4513605442176871, 'classwise_accuracy': {1: array([20, 56]), 0: array([ 56, 128])}, 'DP_ingredients': {'class_pred_count_s0': {1: 16, 0: 18, 2: 19, 3: 3}, 'class_pred_count_s1': {1: 33, 0: 61, 3: 5, 2: 29}, 'class_pred_count': {1: 49, 0: 79, 3: 8, 2: 48}, 'count_s0': 56, 'count_s1': 128, 'count': 184}}\n",
      "[46] Eval metrics for task 2 >> {'accuracy': 0.4262038774233896, 'loss': 0.008209433406591415, 'std': 0.04815509693558473, 'EER': -1, 'EO': [0.3195187165775401, 0.17857142857142855], 'DP': -1, 'accuracy_s0': 0.5568181818181819, 'accuracy_s1': 0.3077731092436975, 'classwise_accuracy': {3: array([37, 78]), 2: array([31, 82])}, 'DP_ingredients': {'class_pred_count_s0': {1: 7, 3: 34, 2: 23, 0: 6}, 'class_pred_count_s1': {3: 21, 2: 29, 1: 16, 0: 24}, 'class_pred_count': {1: 23, 3: 55, 2: 52, 0: 30}, 'count_s0': 70, 'count_s1': 90, 'count': 160}}\n",
      "[47] Eval metrics for task 1 >> {'accuracy': 0.36941964285714285, 'loss': 0.016391927781312363, 'std': 0.08370535714285715, 'EER': -1, 'EO': [0.1564625850340136, 0.31794871794871793], 'DP': -1, 'accuracy_s0': 0.22435897435897434, 'accuracy_s1': 0.46156462585034014, 'classwise_accuracy': {0: array([ 58, 128]), 1: array([16, 56])}, 'DP_ingredients': {'class_pred_count_s0': {2: 19, 3: 3, 0: 23, 1: 11}, 'class_pred_count_s1': {2: 28, 0: 62, 3: 5, 1: 33}, 'class_pred_count': {2: 47, 0: 85, 3: 8, 1: 44}, 'count_s0': 56, 'count_s1': 128, 'count': 184}}\n",
      "[47] Eval metrics for task 2 >> {'accuracy': 0.424953095684803, 'loss': 0.008328410983085632, 'std': 0.0018761726078799223, 'EER': -1, 'EO': [0.21978021978021972, 0.3328877005347594], 'DP': -1, 'accuracy_s0': 0.5725524475524475, 'accuracy_s1': 0.296218487394958, 'classwise_accuracy': {2: array([35, 82]), 3: array([33, 78])}, 'DP_ingredients': {'class_pred_count_s0': {1: 6, 2: 25, 3: 31, 0: 8}, 'class_pred_count_s1': {3: 17, 0: 26, 1: 14, 2: 33}, 'class_pred_count': {3: 48, 0: 34, 1: 20, 2: 58}, 'count_s0': 70, 'count_s1': 90, 'count': 160}}\n",
      "[48] Eval metrics for task 1 >> {'accuracy': 0.3934151785714286, 'loss': 0.017301107230393784, 'std': 0.036272321428571425, 'EER': -1, 'EO': [0.12585034013605445, 0.16410256410256413], 'DP': -1, 'accuracy_s0': 0.30128205128205127, 'accuracy_s1': 0.44625850340136053, 'classwise_accuracy': {0: array([ 55, 128]), 1: array([20, 56])}, 'DP_ingredients': {'class_pred_count_s0': {1: 15, 0: 19, 2: 19, 3: 3}, 'class_pred_count_s1': {2: 32, 0: 58, 1: 33, 3: 5}, 'class_pred_count': {2: 51, 1: 48, 0: 77, 3: 8}, 'count_s0': 56, 'count_s1': 128, 'count': 184}}\n",
      "[48] Eval metrics for task 2 >> {'accuracy': 0.4444965603502189, 'loss': 0.007915744930505753, 'std': 0.029862414008755472, 'EER': -1, 'EO': [0.3195187165775401, 0.125], 'DP': -1, 'accuracy_s0': 0.5568181818181819, 'accuracy_s1': 0.3345588235294118, 'classwise_accuracy': {3: array([37, 78]), 2: array([34, 82])}, 'DP_ingredients': {'class_pred_count_s0': {0: 6, 3: 34, 2: 23, 1: 7}, 'class_pred_count_s1': {3: 20, 2: 33, 1: 14, 0: 23}, 'class_pred_count': {3: 54, 2: 56, 0: 29, 1: 21}, 'count_s0': 70, 'count_s1': 90, 'count': 160}}\n",
      "[49] Eval metrics for task 1 >> {'accuracy': 0.38448660714285715, 'loss': 0.017268986805625584, 'std': 0.04520089285714285, 'EER': -1, 'EO': [0.12585034013605445, 0.1307692307692308], 'DP': -1, 'accuracy_s0': 0.30128205128205127, 'accuracy_s1': 0.4295918367346939, 'classwise_accuracy': {0: array([ 55, 128]), 1: array([19, 56])}, 'DP_ingredients': {'class_pred_count_s0': {0: 18, 2: 21, 1: 14, 3: 3}, 'class_pred_count_s1': {2: 30, 1: 32, 0: 61, 3: 5}, 'class_pred_count': {0: 79, 2: 51, 1: 46, 3: 8}, 'count_s0': 56, 'count_s1': 128, 'count': 184}}\n",
      "[49] Eval metrics for task 2 >> {'accuracy': 0.4438711694809256, 'loss': 0.008200739324092866, 'std': 0.004846779237023147, 'EER': -1, 'EO': [0.20192307692307687, 0.3783422459893048], 'DP': -1, 'accuracy_s0': 0.5952797202797202, 'accuracy_s1': 0.30514705882352944, 'classwise_accuracy': {2: array([36, 82]), 3: array([35, 78])}, 'DP_ingredients': {'class_pred_count_s0': {3: 34, 0: 6, 2: 25, 1: 5}, 'class_pred_count_s1': {2: 34, 3: 18, 0: 24, 1: 14}, 'class_pred_count': {2: 59, 3: 52, 0: 30, 1: 19}, 'count_s0': 70, 'count_s1': 90, 'count': 160}}\n",
      "[50] Eval metrics for task 1 >> {'accuracy': 0.3705357142857143, 'loss': 0.017536777517069942, 'std': 0.06696428571428573, 'EER': -1, 'EO': [0.13605442176870752, 0.2076923076923077], 'DP': -1, 'accuracy_s0': 0.26282051282051283, 'accuracy_s1': 0.4346938775510204, 'classwise_accuracy': {0: array([ 56, 128]), 1: array([17, 56])}, 'DP_ingredients': {'class_pred_count_s0': {0: 19, 2: 21, 1: 13, 3: 3}, 'class_pred_count_s1': {0: 60, 1: 32, 2: 31, 3: 5}, 'class_pred_count': {0: 79, 1: 45, 2: 52, 3: 8}, 'count_s0': 56, 'count_s1': 128, 'count': 184}}\n",
      "[50] Eval metrics for task 2 >> {'accuracy': 0.4563789868667918, 'loss': 0.00811612606048584, 'std': 0.0051594746716698, 'EER': -1, 'EO': [0.18406593406593402, 0.34893048128342247], 'DP': -1, 'accuracy_s0': 0.5952797202797202, 'accuracy_s1': 0.328781512605042, 'classwise_accuracy': {2: array([37, 82]), 3: array([36, 78])}, 'DP_ingredients': {'class_pred_count_s0': {3: 34, 2: 26, 1: 5, 0: 5}, 'class_pred_count_s1': {3: 19, 2: 34, 0: 24, 1: 13}, 'class_pred_count': {3: 53, 2: 60, 0: 29, 1: 18}, 'count_s0': 70, 'count_s1': 90, 'count': 160}}\n",
      "training_task_end\n",
      "---------------------------- Task 3 -----------------------\n",
      "[51] Eval metrics for task 1 >> {'accuracy': 0.27120535714285715, 'loss': 0.019041508436203003, 'std': 0.05691964285714286, 'EER': -1, 'EO': [0.08027210884353742, 0.2564102564102564], 'DP': -1, 'accuracy_s0': 0.1717948717948718, 'accuracy_s1': 0.3401360544217687, 'classwise_accuracy': {0: array([ 42, 128]), 1: array([12, 56])}, 'DP_ingredients': {'class_pred_count_s0': {3: 10, 2: 22, 1: 8, 0: 16}, 'class_pred_count_s1': {2: 41, 1: 27, 0: 45, 3: 15}, 'class_pred_count': {3: 25, 2: 63, 1: 35, 0: 61}, 'count_s0': 56, 'count_s1': 128, 'count': 184}}\n",
      "[51] Eval metrics for task 2 >> {'accuracy': 0.4099437148217636, 'loss': 0.008104269206523896, 'std': 0.1022514071294559, 'EER': -1, 'EO': [0.038461538461538436, 0.2847593582887701], 'DP': -1, 'accuracy_s0': 0.4851398601398601, 'accuracy_s1': 0.3235294117647059, 'classwise_accuracy': {2: array([42, 82]), 3: array([24, 78])}, 'DP_ingredients': {'class_pred_count_s0': {3: 27, 2: 37, 0: 2, 1: 4}, 'class_pred_count_s1': {0: 10, 2: 50, 3: 19, 1: 11}, 'class_pred_count': {3: 46, 2: 87, 0: 12, 1: 15}, 'count_s0': 70, 'count_s1': 90, 'count': 160}}\n",
      "[51] Eval metrics for task 3 >> {'accuracy': 0.0, 'loss': 0.010591975203505508, 'std': 0.0, 'EER': -1, 'EO': [0.0, 0.0], 'DP': -1, 'accuracy_s0': 0.0, 'accuracy_s1': 0.0, 'classwise_accuracy': {5: array([  0, 133]), 4: array([ 0, 89])}, 'DP_ingredients': {'class_pred_count_s0': {2: 63, 3: 80, 1: 4, 0: 4}, 'class_pred_count_s1': {3: 38, 2: 22, 1: 4, 0: 7}, 'class_pred_count': {2: 85, 3: 118, 1: 8, 0: 11}, 'count_s0': 151, 'count_s1': 71, 'count': 222}}\n",
      "[52] Eval metrics for task 1 >> {'accuracy': 0.30691964285714285, 'loss': 0.02074052587799404, 'std': 0.02120535714285715, 'EER': -1, 'EO': [0.08027210884353742, 0.24615384615384617], 'DP': -1, 'accuracy_s0': 0.21025641025641026, 'accuracy_s1': 0.3734693877551021, 'classwise_accuracy': {0: array([ 42, 128]), 1: array([16, 56])}, 'DP_ingredients': {'class_pred_count_s0': {2: 20, 1: 11, 0: 17, 3: 8}, 'class_pred_count_s1': {2: 37, 0: 45, 1: 30, 3: 15, 5: 1}, 'class_pred_count': {2: 57, 1: 41, 0: 62, 3: 23, 5: 1}, 'count_s0': 56, 'count_s1': 128, 'count': 184}}\n",
      "[52] Eval metrics for task 2 >> {'accuracy': 0.3788305190744215, 'loss': 0.009509191662073136, 'std': 0.09677923702313945, 'EER': -1, 'EO': [0.23930481283422458, 0.0357142857142857], 'DP': -1, 'accuracy_s0': 0.4431818181818182, 'accuracy_s1': 0.30567226890756305, 'classwise_accuracy': {3: array([22, 78]), 2: array([39, 82])}, 'DP_ingredients': {'class_pred_count_s0': {2: 31, 3: 26, 5: 8, 1: 3, 0: 2}, 'class_pred_count_s1': {2: 49, 1: 10, 3: 22, 5: 1, 0: 8}, 'class_pred_count': {2: 80, 3: 48, 5: 9, 1: 13, 0: 10}, 'count_s0': 70, 'count_s1': 90, 'count': 160}}\n",
      "[52] Eval metrics for task 3 >> {'accuracy': 0.10902255639097744, 'loss': 0.009422134708713841, 'std': 0.10902255639097744, 'EER': -1, 'EO': [0.22395301327885597, 0.0], 'DP': -1, 'accuracy_s0': 0.14606741573033707, 'accuracy_s1': 0.03409090909090909, 'classwise_accuracy': {5: array([ 29, 133]), 4: array([ 0, 89])}, 'DP_ingredients': {'class_pred_count_s0': {3: 49, 2: 53, 0: 5, 5: 39, 1: 5}, 'class_pred_count_s1': {5: 8, 3: 35, 2: 20, 0: 5, 1: 3}, 'class_pred_count': {3: 84, 5: 47, 2: 73, 0: 10, 1: 8}, 'count_s0': 151, 'count_s1': 71, 'count': 222}}\n",
      "[53] Eval metrics for task 1 >> {'accuracy': 0.27511160714285715, 'loss': 0.0220288608385169, 'std': 0.06082589285714286, 'EER': -1, 'EO': [0.04693877551020409, 0.1846153846153846], 'DP': -1, 'accuracy_s0': 0.20769230769230768, 'accuracy_s1': 0.32346938775510203, 'classwise_accuracy': {0: array([ 43, 128]), 1: array([12, 56])}, 'DP_ingredients': {'class_pred_count_s0': {3: 9, 1: 10, 2: 19, 0: 18}, 'class_pred_count_s1': {2: 37, 0: 46, 3: 19, 1: 25, 5: 1}, 'class_pred_count': {2: 56, 3: 28, 0: 64, 1: 35, 5: 1}, 'count_s0': 56, 'count_s1': 128, 'count': 184}}\n",
      "[53] Eval metrics for task 2 >> {'accuracy': 0.36632270168855535, 'loss': 0.010626332461833954, 'std': 0.09709193245778613, 'EER': -1, 'EO': [0.21657754010695188, 0.0027472527472527375], 'DP': -1, 'accuracy_s0': 0.4125874125874126, 'accuracy_s1': 0.30567226890756305, 'classwise_accuracy': {3: array([21, 78]), 2: array([38, 82])}, 'DP_ingredients': {'class_pred_count_s0': {2: 28, 3: 25, 5: 10, 1: 3, 0: 4}, 'class_pred_count_s1': {1: 10, 3: 20, 2: 49, 5: 3, 0: 8}, 'class_pred_count': {2: 77, 1: 13, 3: 45, 5: 13, 0: 12}, 'count_s0': 70, 'count_s1': 90, 'count': 160}}\n",
      "[53] Eval metrics for task 3 >> {'accuracy': 0.15413533834586465, 'loss': 0.00907548053844555, 'std': 0.15413533834586465, 'EER': -1, 'EO': [0.0, 0.2568947906026558], 'DP': -1, 'accuracy_s0': 0.19662921348314608, 'accuracy_s1': 0.06818181818181818, 'classwise_accuracy': {4: array([ 0, 89]), 5: array([ 41, 133])}, 'DP_ingredients': {'class_pred_count_s0': {5: 56, 3: 36, 2: 47, 0: 7, 1: 5}, 'class_pred_count_s1': {5: 12, 3: 31, 2: 20, 0: 5, 1: 3}, 'class_pred_count': {5: 68, 3: 67, 2: 67, 0: 12, 1: 8}, 'count_s0': 151, 'count_s1': 71, 'count': 222}}\n",
      "[54] Eval metrics for task 1 >> {'accuracy': 0.2801339285714286, 'loss': 0.02342791920122893, 'std': 0.047991071428571425, 'EER': -1, 'EO': [0.21794871794871792, 0.006802721088435382], 'DP': -1, 'accuracy_s0': 0.22435897435897434, 'accuracy_s1': 0.3299319727891156, 'classwise_accuracy': {1: array([13, 56]), 0: array([ 42, 128])}, 'DP_ingredients': {'class_pred_count_s0': {2: 18, 3: 8, 0: 19, 1: 10, 5: 1}, 'class_pred_count_s1': {2: 35, 3: 23, 1: 25, 0: 44, 5: 1}, 'class_pred_count': {2: 53, 3: 31, 1: 35, 0: 63, 5: 2}, 'count_s0': 56, 'count_s1': 128, 'count': 184}}\n",
      "[54] Eval metrics for task 2 >> {'accuracy': 0.3477173233270794, 'loss': 0.011738141626119613, 'std': 0.09130706691682303, 'EER': -1, 'EO': [0.14171122994652405, 0.032967032967033016], 'DP': -1, 'accuracy_s0': 0.3898601398601399, 'accuracy_s1': 0.3025210084033613, 'classwise_accuracy': {3: array([20, 78]), 2: array([36, 82])}, 'DP_ingredients': {'class_pred_count_s0': {5: 15, 3: 23, 2: 26, 1: 3, 0: 3}, 'class_pred_count_s1': {2: 44, 3: 22, 1: 10, 5: 6, 0: 8}, 'class_pred_count': {2: 70, 5: 21, 3: 45, 1: 13, 0: 11}, 'count_s0': 70, 'count_s1': 90, 'count': 160}}\n",
      "[54] Eval metrics for task 3 >> {'accuracy': 0.20300751879699247, 'loss': 0.00876494463499602, 'std': 0.20300751879699247, 'EER': -1, 'EO': [0.0, 0.23314606741573035], 'DP': -1, 'accuracy_s0': 0.24157303370786518, 'accuracy_s1': 0.125, 'classwise_accuracy': {4: array([ 0, 89]), 5: array([ 54, 133])}, 'DP_ingredients': {'class_pred_count_s0': {5: 66, 3: 33, 2: 41, 1: 5, 0: 6}, 'class_pred_count_s1': {3: 28, 2: 19, 0: 4, 1: 3, 5: 17}, 'class_pred_count': {5: 83, 3: 61, 2: 60, 1: 8, 0: 10}, 'count_s0': 151, 'count_s1': 71, 'count': 222}}\n",
      "[55] Eval metrics for task 1 >> {'accuracy': 0.28515625, 'loss': 0.024519119573676067, 'std': 0.03515625, 'EER': -1, 'EO': [0.026530612244897944, 0.17948717948717946], 'DP': -1, 'accuracy_s0': 0.22692307692307692, 'accuracy_s1': 0.3299319727891156, 'classwise_accuracy': {0: array([ 41, 128]), 1: array([14, 56])}, 'DP_ingredients': {'class_pred_count_s0': {3: 9, 2: 17, 0: 18, 1: 11, 5: 1}, 'class_pred_count_s1': {0: 43, 1: 25, 5: 3, 3: 22, 2: 35}, 'class_pred_count': {0: 61, 1: 36, 5: 4, 3: 31, 2: 52}, 'count_s0': 56, 'count_s1': 128, 'count': 184}}\n",
      "[55] Eval metrics for task 2 >> {'accuracy': 0.315978736710444, 'loss': 0.013155888020992278, 'std': 0.1108505315822389, 'EER': -1, 'EO': [0.10294117647058823, 0.10714285714285715], 'DP': -1, 'accuracy_s0': 0.375, 'accuracy_s1': 0.2699579831932773, 'classwise_accuracy': {3: array([16, 78]), 2: array([35, 82])}, 'DP_ingredients': {'class_pred_count_s0': {2: 23, 5: 23, 0: 4, 3: 17, 1: 3}, 'class_pred_count_s1': {3: 22, 2: 42, 1: 10, 5: 8, 0: 8}, 'class_pred_count': {2: 65, 5: 31, 0: 12, 3: 39, 1: 13}, 'count_s0': 70, 'count_s1': 90, 'count': 160}}\n",
      "[55] Eval metrics for task 3 >> {'accuracy': 0.2593984962406015, 'loss': 0.008242677997898412, 'std': 0.2593984962406015, 'EER': -1, 'EO': [0.19790602655771194, 0.0], 'DP': -1, 'accuracy_s0': 0.29213483146067415, 'accuracy_s1': 0.19318181818181818, 'classwise_accuracy': {5: array([ 69, 133]), 4: array([ 0, 89])}, 'DP_ingredients': {'class_pred_count_s0': {5: 83, 0: 6, 3: 19, 2: 39, 1: 4}, 'class_pred_count_s1': {2: 16, 5: 26, 3: 22, 0: 4, 1: 3}, 'class_pred_count': {5: 109, 0: 10, 2: 55, 3: 41, 1: 7}, 'count_s0': 151, 'count_s1': 71, 'count': 222}}\n",
      "[56] Eval metrics for task 1 >> {'accuracy': 0.27120535714285715, 'loss': 0.025251551814701245, 'std': 0.05691964285714286, 'EER': -1, 'EO': [0.03673469387755102, 0.1846153846153846], 'DP': -1, 'accuracy_s0': 0.20769230769230768, 'accuracy_s1': 0.3183673469387755, 'classwise_accuracy': {0: array([ 42, 128]), 1: array([12, 56])}, 'DP_ingredients': {'class_pred_count_s0': {3: 8, 5: 3, 2: 17, 0: 18, 1: 10}, 'class_pred_count_s1': {0: 45, 1: 25, 2: 34, 3: 20, 4: 1, 5: 3}, 'class_pred_count': {0: 63, 3: 28, 1: 35, 5: 6, 2: 51, 4: 1}, 'count_s0': 56, 'count_s1': 128, 'count': 184}}\n",
      "[56] Eval metrics for task 2 >> {'accuracy': 0.3278611632270169, 'loss': 0.01450413316488266, 'std': 0.13555347091932457, 'EER': -1, 'EO': [0.0802139037433155, 0.10989010989010989], 'DP': -1, 'accuracy_s0': 0.38286713286713286, 'accuracy_s1': 0.28781512605042014, 'classwise_accuracy': {3: array([15, 78]), 2: array([38, 82])}, 'DP_ingredients': {'class_pred_count_s0': {2: 24, 5: 24, 3: 16, 0: 4, 1: 1, 4: 1}, 'class_pred_count_s1': {2: 42, 3: 18, 0: 9, 5: 10, 1: 10, 4: 1}, 'class_pred_count': {2: 66, 5: 34, 3: 34, 0: 13, 1: 11, 4: 2}, 'count_s0': 70, 'count_s1': 90, 'count': 160}}\n",
      "[56] Eval metrics for task 3 >> {'accuracy': 0.2593984962406015, 'loss': 0.008040046906686044, 'std': 0.2593984962406015, 'EER': -1, 'EO': [0.16394279877425938, 0.0], 'DP': -1, 'accuracy_s0': 0.28651685393258425, 'accuracy_s1': 0.20454545454545456, 'classwise_accuracy': {5: array([ 69, 133]), 4: array([ 0, 89])}, 'DP_ingredients': {'class_pred_count_s0': {2: 40, 5: 82, 0: 7, 1: 4, 3: 18}, 'class_pred_count_s1': {3: 18, 2: 17, 5: 28, 4: 1, 1: 3, 0: 4}, 'class_pred_count': {2: 57, 3: 36, 5: 110, 0: 11, 1: 7, 4: 1}, 'count_s0': 151, 'count_s1': 71, 'count': 222}}\n",
      "[57] Eval metrics for task 1 >> {'accuracy': 0.27120535714285715, 'loss': 0.02645531944606615, 'std': 0.05691964285714286, 'EER': -1, 'EO': [0.03673469387755102, 0.1846153846153846], 'DP': -1, 'accuracy_s0': 0.20769230769230768, 'accuracy_s1': 0.3183673469387755, 'classwise_accuracy': {0: array([ 42, 128]), 1: array([12, 56])}, 'DP_ingredients': {'class_pred_count_s0': {1: 10, 2: 14, 3: 9, 0: 18, 4: 3, 5: 2}, 'class_pred_count_s1': {1: 24, 0: 45, 2: 33, 3: 22, 4: 4}, 'class_pred_count': {1: 34, 0: 63, 2: 47, 3: 31, 4: 7, 5: 2}, 'count_s0': 56, 'count_s1': 128, 'count': 184}}\n",
      "[57] Eval metrics for task 2 >> {'accuracy': 0.315978736710444, 'loss': 0.01544078290462494, 'std': 0.1108505315822389, 'EER': -1, 'EO': [0.10714285714285715, 0.10294117647058823], 'DP': -1, 'accuracy_s0': 0.375, 'accuracy_s1': 0.2699579831932773, 'classwise_accuracy': {2: array([35, 82]), 3: array([16, 78])}, 'DP_ingredients': {'class_pred_count_s0': {3: 17, 2: 24, 0: 3, 5: 16, 4: 9, 1: 1}, 'class_pred_count_s1': {4: 8, 0: 9, 2: 39, 3: 20, 1: 10, 5: 4}, 'class_pred_count': {3: 37, 4: 17, 0: 12, 2: 63, 1: 11, 5: 20}, 'count_s0': 70, 'count_s1': 90, 'count': 160}}\n",
      "[57] Eval metrics for task 3 >> {'accuracy': 0.27029652783644503, 'loss': 0.007807813249192796, 'std': 0.06804933682520908, 'EER': -1, 'EO': [0.33580183861082735, 0.13500597371565112], 'DP': -1, 'accuracy_s0': 0.30536426241391806, 'accuracy_s1': 0.20496632996632996, 'classwise_accuracy': {5: array([ 45, 133]), 4: array([18, 89])}, 'DP_ingredients': {'class_pred_count_s0': {2: 35, 4: 21, 0: 6, 3: 21, 5: 64, 1: 4}, 'class_pred_count_s1': {4: 25, 1: 3, 2: 16, 3: 17, 5: 7, 0: 3}, 'class_pred_count': {4: 46, 1: 7, 2: 51, 0: 9, 3: 38, 5: 71}, 'count_s0': 151, 'count_s1': 71, 'count': 222}}\n",
      "[58] Eval metrics for task 1 >> {'accuracy': 0.2533482142857143, 'loss': 0.02736136705979057, 'std': 0.07477678571428571, 'EER': -1, 'EO': [0.03673469387755102, 0.18974358974358974], 'DP': -1, 'accuracy_s0': 0.18846153846153846, 'accuracy_s1': 0.30170068027210883, 'classwise_accuracy': {0: array([ 42, 128]), 1: array([10, 56])}, 'DP_ingredients': {'class_pred_count_s0': {2: 12, 0: 18, 1: 9, 3: 10, 5: 7}, 'class_pred_count_s1': {3: 22, 0: 46, 2: 32, 1: 24, 5: 4}, 'class_pred_count': {3: 32, 2: 44, 0: 64, 1: 33, 5: 11}, 'count_s0': 56, 'count_s1': 128, 'count': 184}}\n",
      "[58] Eval metrics for task 2 >> {'accuracy': 0.2967479674796748, 'loss': 0.01698770821094513, 'std': 0.13008130081300812, 'EER': -1, 'EO': [0.01737967914438504, 0.050824175824175866], 'DP': -1, 'accuracy_s0': 0.3103146853146853, 'accuracy_s1': 0.2935924369747899, 'classwise_accuracy': {3: array([13, 78]), 2: array([35, 82])}, 'DP_ingredients': {'class_pred_count_s0': {5: 34, 0: 3, 2: 19, 3: 12, 1: 1, 4: 1}, 'class_pred_count_s1': {3: 19, 2: 39, 5: 12, 4: 1, 1: 10, 0: 9}, 'class_pred_count': {3: 31, 5: 46, 2: 58, 0: 12, 4: 2, 1: 11}, 'count_s0': 70, 'count_s1': 90, 'count': 160}}\n",
      "[58] Eval metrics for task 3 >> {'accuracy': 0.30451127819548873, 'loss': 0.007347539201513067, 'std': 0.30451127819548873, 'EER': -1, 'EO': [0.0, 0.1968845760980592], 'DP': -1, 'accuracy_s0': 0.33707865168539325, 'accuracy_s1': 0.23863636363636365, 'classwise_accuracy': {4: array([ 0, 89]), 5: array([ 81, 133])}, 'DP_ingredients': {'class_pred_count_s0': {5: 96, 2: 30, 3: 16, 1: 3, 0: 6}, 'class_pred_count_s1': {5: 31, 3: 19, 2: 15, 0: 3, 1: 3}, 'class_pred_count': {5: 127, 2: 45, 3: 35, 0: 9, 1: 6}, 'count_s0': 151, 'count_s1': 71, 'count': 222}}\n",
      "[59] Eval metrics for task 1 >> {'accuracy': 0.2533482142857143, 'loss': 0.027926737847535507, 'std': 0.07477678571428571, 'EER': -1, 'EO': [0.03673469387755102, 0.18974358974358974], 'DP': -1, 'accuracy_s0': 0.18846153846153846, 'accuracy_s1': 0.30170068027210883, 'classwise_accuracy': {0: array([ 42, 128]), 1: array([10, 56])}, 'DP_ingredients': {'class_pred_count_s0': {4: 3, 5: 6, 2: 12, 1: 9, 3: 9, 0: 17}, 'class_pred_count_s1': {1: 24, 2: 30, 0: 46, 3: 22, 4: 1, 5: 5}, 'class_pred_count': {4: 4, 1: 33, 2: 42, 0: 63, 5: 11, 3: 31}, 'count_s0': 56, 'count_s1': 128, 'count': 184}}\n",
      "[59] Eval metrics for task 2 >> {'accuracy': 0.28392745465916197, 'loss': 0.01834837198257446, 'std': 0.14290181363352095, 'EER': -1, 'EO': [0.050824175824175866, 0.010695187165775416], 'DP': -1, 'accuracy_s0': 0.29895104895104896, 'accuracy_s1': 0.27888655462184875, 'classwise_accuracy': {2: array([35, 82]), 3: array([11, 78])}, 'DP_ingredients': {'class_pred_count_s0': {5: 33, 2: 18, 3: 11, 0: 4, 1: 1, 4: 3}, 'class_pred_count_s1': {3: 16, 1: 10, 2: 39, 0: 8, 5: 11, 4: 6}, 'class_pred_count': {3: 27, 5: 44, 1: 11, 2: 57, 0: 12, 4: 9}, 'count_s0': 70, 'count_s1': 90, 'count': 160}}\n",
      "[59] Eval metrics for task 3 >> {'accuracy': 0.287572864746135, 'loss': 0.007001306022609676, 'std': 0.2763369096899552, 'EER': -1, 'EO': [0.016129032258064516, 0.29928498467824305], 'DP': -1, 'accuracy_s0': 0.3395251902863356, 'accuracy_s1': 0.18181818181818182, 'classwise_accuracy': {4: array([ 1, 89]), 5: array([ 75, 133])}, 'DP_ingredients': {'class_pred_count_s0': {5: 96, 2: 30, 3: 14, 4: 2, 0: 6, 1: 3}, 'class_pred_count_s1': {2: 15, 3: 16, 5: 27, 4: 5, 1: 4, 0: 4}, 'class_pred_count': {5: 123, 2: 45, 3: 30, 4: 7, 0: 10, 1: 7}, 'count_s0': 151, 'count_s1': 71, 'count': 222}}\n",
      "[60] Eval metrics for task 1 >> {'accuracy': 0.24441964285714285, 'loss': 0.02872652592866317, 'std': 0.08370535714285714, 'EER': -1, 'EO': [0.03673469387755102, 0.2282051282051282], 'DP': -1, 'accuracy_s0': 0.16923076923076924, 'accuracy_s1': 0.30170068027210883, 'classwise_accuracy': {0: array([ 42, 128]), 1: array([ 9, 56])}, 'DP_ingredients': {'class_pred_count_s0': {2: 11, 5: 7, 4: 4, 0: 17, 1: 7, 3: 10}, 'class_pred_count_s1': {0: 46, 1: 23, 3: 20, 2: 30, 4: 2, 5: 7}, 'class_pred_count': {0: 63, 2: 41, 1: 30, 3: 30, 5: 14, 4: 6}, 'count_s0': 56, 'count_s1': 128, 'count': 184}}\n",
      "[60] Eval metrics for task 2 >> {'accuracy': 0.26469668542839275, 'loss': 0.01977495402097702, 'std': 0.1621325828642902, 'EER': -1, 'EO': [0.0267379679144385, 0.050824175824175866], 'DP': -1, 'accuracy_s0': 0.27622377622377625, 'accuracy_s1': 0.26418067226890757, 'classwise_accuracy': {3: array([ 8, 78]), 2: array([35, 82])}, 'DP_ingredients': {'class_pred_count_s0': {5: 34, 2: 17, 3: 9, 1: 2, 0: 4, 4: 4}, 'class_pred_count_s1': {4: 7, 3: 15, 0: 8, 2: 39, 1: 10, 5: 11}, 'class_pred_count': {4: 11, 5: 45, 3: 24, 2: 56, 0: 12, 1: 12}, 'count_s0': 70, 'count_s1': 90, 'count': 160}}\n",
      "[60] Eval metrics for task 3 >> {'accuracy': 0.31380417335473515, 'loss': 0.006590827091320141, 'std': 0.2576243980738363, 'EER': -1, 'EO': [0.27655771195097034, 0.08064516129032258], 'DP': -1, 'accuracy_s0': 0.37178325480246466, 'accuracy_s1': 0.19318181818181818, 'classwise_accuracy': {5: array([ 76, 133]), 4: array([ 5, 89])}, 'DP_ingredients': {'class_pred_count_s0': {5: 96, 2: 28, 1: 3, 0: 6, 3: 11, 4: 7}, 'class_pred_count_s1': {0: 3, 5: 29, 4: 10, 2: 14, 3: 11, 1: 4}, 'class_pred_count': {0: 9, 5: 125, 4: 17, 2: 42, 1: 7, 3: 22}, 'count_s0': 151, 'count_s1': 71, 'count': 222}}\n",
      "[61] Eval metrics for task 1 >> {'accuracy': 0.23660714285714285, 'loss': 0.029699120832526165, 'std': 0.07589285714285714, 'EER': -1, 'EO': [0.2282051282051282, 0.05986394557823127], 'DP': -1, 'accuracy_s0': 0.15256410256410258, 'accuracy_s1': 0.2965986394557823, 'classwise_accuracy': {1: array([ 9, 56]), 0: array([ 40, 128])}, 'DP_ingredients': {'class_pred_count_s0': {0: 16, 3: 11, 5: 12, 1: 6, 4: 1, 2: 10}, 'class_pred_count_s1': {1: 23, 2: 30, 3: 20, 5: 8, 4: 2, 0: 45}, 'class_pred_count': {1: 29, 2: 40, 0: 61, 3: 31, 5: 20, 4: 3}, 'count_s0': 56, 'count_s1': 128, 'count': 184}}\n",
      "[61] Eval metrics for task 2 >> {'accuracy': 0.2650093808630394, 'loss': 0.020279379189014436, 'std': 0.14962476547842402, 'EER': -1, 'EO': [0.05614973262032086, 0.012362637362637374], 'DP': -1, 'accuracy_s0': 0.256993006993007, 'accuracy_s1': 0.27888655462184875, 'classwise_accuracy': {3: array([ 9, 78]), 2: array([34, 82])}, 'DP_ingredients': {'class_pred_count_s0': {5: 35, 3: 10, 2: 17, 0: 4, 4: 3, 1: 1}, 'class_pred_count_s1': {5: 12, 3: 16, 2: 38, 0: 9, 1: 10, 4: 5}, 'class_pred_count': {5: 47, 3: 26, 2: 55, 0: 13, 1: 11, 4: 8}, 'count_s0': 70, 'count_s1': 90, 'count': 160}}\n",
      "[61] Eval metrics for task 3 >> {'accuracy': 0.31760581228351775, 'loss': 0.00665118780222025, 'std': 0.28389794711497846, 'EER': -1, 'EO': [0.04838709677419355, 0.2535750766087845], 'DP': -1, 'accuracy_s0': 0.3668901776005799, 'accuracy_s1': 0.2159090909090909, 'classwise_accuracy': {4: array([ 3, 89]), 5: array([ 80, 133])}, 'DP_ingredients': {'class_pred_count_s0': {5: 100, 2: 27, 4: 4, 0: 6, 3: 11, 1: 3}, 'class_pred_count_s1': {4: 8, 5: 30, 2: 14, 3: 13, 1: 3, 0: 3}, 'class_pred_count': {5: 130, 2: 41, 4: 12, 3: 24, 1: 6, 0: 9}, 'count_s0': 151, 'count_s1': 71, 'count': 222}}\n",
      "[62] Eval metrics for task 1 >> {'accuracy': 0.24720982142857142, 'loss': 0.02950019940086033, 'std': 0.10435267857142858, 'EER': -1, 'EO': [0.19487179487179487, 0.019727891156462563], 'DP': -1, 'accuracy_s0': 0.20256410256410257, 'accuracy_s1': 0.2901360544217687, 'classwise_accuracy': {1: array([ 8, 56]), 0: array([ 45, 128])}, 'DP_ingredients': {'class_pred_count_s0': {3: 7, 2: 9, 0: 19, 1: 8, 5: 12, 4: 1}, 'class_pred_count_s1': {0: 48, 1: 22, 2: 30, 3: 18, 4: 2, 5: 8}, 'class_pred_count': {3: 25, 2: 39, 0: 67, 1: 30, 5: 20, 4: 3}, 'count_s0': 56, 'count_s1': 128, 'count': 184}}\n",
      "[62] Eval metrics for task 2 >> {'accuracy': 0.27048155096935583, 'loss': 0.021970805525779725, 'std': 0.1807379612257661, 'EER': -1, 'EO': [0.002673796791443847, 0.07142857142857145], 'DP': -1, 'accuracy_s0': 0.29545454545454547, 'accuracy_s1': 0.2584033613445378, 'classwise_accuracy': {3: array([ 7, 78]), 2: array([37, 82])}, 'DP_ingredients': {'class_pred_count_s0': {5: 34, 2: 19, 3: 7, 4: 5, 1: 1, 0: 4}, 'class_pred_count_s1': {2: 39, 4: 6, 1: 11, 0: 9, 5: 12, 3: 13}, 'class_pred_count': {5: 46, 2: 58, 4: 11, 1: 12, 0: 13, 3: 20}, 'count_s0': 70, 'count_s1': 90, 'count': 160}}\n",
      "[62] Eval metrics for task 3 >> {'accuracy': 0.30070963926670613, 'loss': 0.006704597859769254, 'std': 0.2782377291543465, 'EER': -1, 'EO': [0.2538304392236976, 0.03225806451612903], 'DP': -1, 'accuracy_s0': 0.34758970641536785, 'accuracy_s1': 0.20454545454545456, 'classwise_accuracy': {5: array([ 77, 133]), 4: array([ 2, 89])}, 'DP_ingredients': {'class_pred_count_s0': {5: 98, 3: 11, 2: 29, 4: 5, 0: 5, 1: 3}, 'class_pred_count_s1': {3: 10, 5: 30, 2: 15, 4: 9, 1: 4, 0: 3}, 'class_pred_count': {5: 128, 3: 21, 2: 44, 4: 14, 1: 7, 0: 8}, 'count_s0': 151, 'count_s1': 71, 'count': 222}}\n",
      "[63] Eval metrics for task 1 >> {'accuracy': 0.24441964285714285, 'loss': 0.030624879443127175, 'std': 0.08370535714285714, 'EER': -1, 'EO': [0.006802721088435382, 0.2282051282051282], 'DP': -1, 'accuracy_s0': 0.1858974358974359, 'accuracy_s1': 0.2965986394557823, 'classwise_accuracy': {0: array([ 42, 128]), 1: array([ 9, 56])}, 'DP_ingredients': {'class_pred_count_s0': {3: 10, 5: 9, 4: 5, 2: 7, 0: 18, 1: 7}, 'class_pred_count_s1': {1: 23, 5: 9, 3: 19, 2: 29, 0: 45, 4: 3}, 'class_pred_count': {3: 29, 1: 30, 5: 18, 4: 8, 2: 36, 0: 63}, 'count_s0': 56, 'count_s1': 128, 'count': 184}}\n",
      "[63] Eval metrics for task 2 >> {'accuracy': 0.23999374609130708, 'loss': 0.02264964282512665, 'std': 0.15025015634771732, 'EER': -1, 'EO': [0.002673796791443847, 0.008241758241758212], 'DP': -1, 'accuracy_s0': 0.23776223776223776, 'accuracy_s1': 0.24054621848739496, 'classwise_accuracy': {3: array([ 7, 78]), 2: array([32, 82])}, 'DP_ingredients': {'class_pred_count_s0': {5: 33, 3: 8, 0: 4, 2: 15, 1: 2, 4: 8}, 'class_pred_count_s1': {2: 36, 1: 11, 5: 11, 0: 9, 3: 14, 4: 9}, 'class_pred_count': {5: 44, 3: 22, 2: 51, 0: 13, 1: 13, 4: 17}, 'count_s0': 70, 'count_s1': 90, 'count': 160}}\n",
      "[63] Eval metrics for task 3 >> {'accuracy': 0.3156627523865845, 'loss': 0.006538243981095048, 'std': 0.2482470220495058, 'EER': -1, 'EO': [0.0967741935483871, 0.29928498467824305], 'DP': -1, 'accuracy_s0': 0.3798477709314969, 'accuracy_s1': 0.18181818181818182, 'classwise_accuracy': {4: array([ 6, 89]), 5: array([ 75, 133])}, 'DP_ingredients': {'class_pred_count_s0': {5: 96, 4: 10, 2: 26, 3: 11, 0: 5, 1: 3}, 'class_pred_count_s1': {1: 4, 5: 28, 4: 11, 2: 14, 3: 11, 0: 3}, 'class_pred_count': {1: 7, 5: 124, 4: 21, 2: 40, 3: 22, 0: 8}, 'count_s0': 151, 'count_s1': 71, 'count': 222}}\n",
      "[64] Eval metrics for task 1 >> {'accuracy': 0.24051339285714285, 'loss': 0.031412850255551544, 'std': 0.07979910714285714, 'EER': -1, 'EO': [0.026530612244897944, 0.2282051282051282], 'DP': -1, 'accuracy_s0': 0.16923076923076924, 'accuracy_s1': 0.2965986394557823, 'classwise_accuracy': {0: array([ 41, 128]), 1: array([ 9, 56])}, 'DP_ingredients': {'class_pred_count_s0': {0: 16, 1: 7, 5: 11, 2: 9, 3: 9, 4: 4}, 'class_pred_count_s1': {0: 45, 3: 18, 1: 23, 2: 30, 5: 9, 4: 3}, 'class_pred_count': {0: 61, 3: 27, 1: 30, 2: 39, 5: 20, 4: 7}, 'count_s0': 56, 'count_s1': 128, 'count': 184}}\n",
      "[64] Eval metrics for task 2 >> {'accuracy': 0.25218886804252655, 'loss': 0.02324928790330887, 'std': 0.16244527829893682, 'EER': -1, 'EO': [0.002673796791443847, 0.012362637362637374], 'DP': -1, 'accuracy_s0': 0.256993006993007, 'accuracy_s1': 0.2494747899159664, 'classwise_accuracy': {3: array([ 7, 78]), 2: array([34, 82])}, 'DP_ingredients': {'class_pred_count_s0': {5: 36, 4: 5, 2: 16, 1: 2, 3: 7, 0: 4}, 'class_pred_count_s1': {2: 37, 3: 12, 0: 9, 5: 12, 1: 11, 4: 9}, 'class_pred_count': {2: 53, 5: 48, 3: 19, 0: 13, 4: 14, 1: 13}, 'count_s0': 70, 'count_s1': 90, 'count': 160}}\n",
      "[64] Eval metrics for task 3 >> {'accuracy': 0.32512460927599895, 'loss': 0.00644117647463137, 'std': 0.29141674410745966, 'EER': -1, 'EO': [0.27604698672114397, 0.04838709677419355], 'DP': -1, 'accuracy_s0': 0.37812613265675965, 'accuracy_s1': 0.2159090909090909, 'classwise_accuracy': {5: array([ 82, 133]), 4: array([ 3, 89])}, 'DP_ingredients': {'class_pred_count_s0': {2: 25, 5: 103, 3: 10, 0: 5, 4: 5, 1: 3}, 'class_pred_count_s1': {2: 15, 1: 4, 5: 32, 3: 9, 4: 9, 0: 2}, 'class_pred_count': {2: 40, 5: 135, 1: 7, 3: 19, 0: 7, 4: 14}, 'count_s0': 151, 'count_s1': 71, 'count': 222}}\n",
      "[65] Eval metrics for task 1 >> {'accuracy': 0.23270089285714285, 'loss': 0.03247060205625451, 'std': 0.07198660714285714, 'EER': -1, 'EO': [0.04965986394557825, 0.2282051282051282], 'DP': -1, 'accuracy_s0': 0.15256410256410258, 'accuracy_s1': 0.29149659863945576, 'classwise_accuracy': {0: array([ 39, 128]), 1: array([ 9, 56])}, 'DP_ingredients': {'class_pred_count_s0': {4: 4, 1: 8, 0: 15, 2: 9, 5: 12, 3: 8}, 'class_pred_count_s1': {3: 19, 2: 29, 0: 43, 1: 23, 5: 13, 4: 1}, 'class_pred_count': {3: 27, 4: 5, 2: 38, 0: 58, 1: 31, 5: 25}, 'count_s0': 56, 'count_s1': 128, 'count': 184}}\n",
      "[65] Eval metrics for task 2 >> {'accuracy': 0.24609130706691684, 'loss': 0.024389274418354034, 'std': 0.15634771732332708, 'EER': -1, 'EO': [0.002673796791443847, 0.030219780219780223], 'DP': -1, 'accuracy_s0': 0.256993006993007, 'accuracy_s1': 0.24054621848739496, 'classwise_accuracy': {3: array([ 7, 78]), 2: array([33, 82])}, 'DP_ingredients': {'class_pred_count_s0': {5: 34, 3: 7, 0: 3, 2: 17, 4: 7, 1: 2}, 'class_pred_count_s1': {5: 13, 0: 9, 2: 36, 1: 11, 4: 7, 3: 14}, 'class_pred_count': {5: 47, 3: 21, 0: 12, 2: 53, 4: 14, 1: 13}, 'count_s0': 70, 'count_s1': 90, 'count': 160}}\n",
      "[65] Eval metrics for task 3 >> {'accuracy': 0.3288840077722396, 'loss': 0.006477605115185987, 'std': 0.2951761426037003, 'EER': -1, 'EO': [0.2193564862104188, 0.04838709677419355], 'DP': -1, 'accuracy_s0': 0.3725081551286698, 'accuracy_s1': 0.23863636363636365, 'classwise_accuracy': {5: array([ 83, 133]), 4: array([ 3, 89])}, 'DP_ingredients': {'class_pred_count_s0': {5: 103, 2: 25, 1: 3, 3: 8, 4: 7, 0: 5}, 'class_pred_count_s1': {3: 9, 5: 34, 1: 4, 2: 15, 4: 7, 0: 2}, 'class_pred_count': {3: 17, 5: 137, 2: 40, 1: 7, 4: 14, 0: 7}, 'count_s0': 151, 'count_s1': 71, 'count': 222}}\n",
      "[66] Eval metrics for task 1 >> {'accuracy': 0.23158482142857142, 'loss': 0.03236765187719594, 'std': 0.08872767857142858, 'EER': -1, 'EO': [0.026530612244897944, 0.19487179487179487], 'DP': -1, 'accuracy_s0': 0.16923076923076924, 'accuracy_s1': 0.27993197278911564, 'classwise_accuracy': {0: array([ 41, 128]), 1: array([ 8, 56])}, 'DP_ingredients': {'class_pred_count_s0': {0: 16, 5: 19, 1: 6, 3: 9, 2: 6}, 'class_pred_count_s1': {1: 21, 0: 45, 3: 16, 5: 16, 2: 30}, 'class_pred_count': {1: 27, 0: 61, 5: 35, 3: 25, 2: 36}, 'count_s0': 56, 'count_s1': 128, 'count': 184}}\n",
      "[66] Eval metrics for task 2 >> {'accuracy': 0.23295809881175733, 'loss': 0.02619035542011261, 'std': 0.18167604752970606, 'EER': -1, 'EO': [0.04395604395604391, 0.06550802139037434], 'DP': -1, 'accuracy_s0': 0.20367132867132867, 'accuracy_s1': 0.2584033613445378, 'classwise_accuracy': {2: array([34, 82]), 3: array([ 4, 78])}, 'DP_ingredients': {'class_pred_count_s0': {2: 15, 5: 47, 0: 4, 1: 1, 4: 1, 3: 2}, 'class_pred_count_s1': {2: 37, 5: 19, 1: 10, 0: 9, 3: 11, 4: 4}, 'class_pred_count': {2: 52, 5: 66, 1: 11, 0: 13, 3: 13, 4: 5}, 'count_s0': 70, 'count_s1': 90, 'count': 160}}\n",
      "[66] Eval metrics for task 3 >> {'accuracy': 0.3852749852158486, 'loss': 0.005999727292103811, 'std': 0.3515671200473093, 'EER': -1, 'EO': [0.08222676200204293, 0.04838709677419355], 'DP': -1, 'accuracy_s0': 0.4062160202972091, 'accuracy_s1': 0.3409090909090909, 'classwise_accuracy': {5: array([ 98, 133]), 4: array([ 3, 89])}, 'DP_ingredients': {'class_pred_count_s0': {5: 110, 3: 6, 0: 5, 4: 5, 2: 22, 1: 3}, 'class_pred_count_s1': {2: 13, 5: 43, 3: 8, 0: 2, 4: 1, 1: 4}, 'class_pred_count': {2: 35, 5: 153, 3: 14, 0: 7, 4: 6, 1: 7}, 'count_s0': 151, 'count_s1': 71, 'count': 222}}\n",
      "[67] Eval metrics for task 1 >> {'accuracy': 0.22767857142857142, 'loss': 0.032757217469422714, 'std': 0.08482142857142858, 'EER': -1, 'EO': [0.016326530612244927, 0.19487179487179487], 'DP': -1, 'accuracy_s0': 0.16923076923076924, 'accuracy_s1': 0.27482993197278915, 'classwise_accuracy': {0: array([ 40, 128]), 1: array([ 8, 56])}, 'DP_ingredients': {'class_pred_count_s0': {3: 10, 0: 17, 4: 5, 5: 14, 1: 7, 2: 3}, 'class_pred_count_s1': {1: 22, 0: 44, 2: 29, 3: 17, 4: 5, 5: 11}, 'class_pred_count': {1: 29, 0: 61, 2: 32, 3: 27, 4: 10, 5: 25}, 'count_s0': 56, 'count_s1': 128, 'count': 184}}\n",
      "[67] Eval metrics for task 2 >> {'accuracy': 0.233270794246404, 'loss': 0.026964348554611207, 'std': 0.16916823014383991, 'EER': -1, 'EO': [0.04278074866310161, 0.030219780219780223], 'DP': -1, 'accuracy_s0': 0.23426573426573427, 'accuracy_s1': 0.24054621848739496, 'classwise_accuracy': {3: array([ 5, 78]), 2: array([33, 82])}, 'DP_ingredients': {'class_pred_count_s0': {0: 4, 5: 32, 3: 5, 4: 12, 1: 1, 2: 16}, 'class_pred_count_s1': {2: 35, 3: 13, 4: 9, 5: 14, 1: 10, 0: 9}, 'class_pred_count': {2: 51, 0: 13, 5: 46, 3: 18, 4: 21, 1: 11}, 'count_s0': 70, 'count_s1': 90, 'count': 160}}\n",
      "[67] Eval metrics for task 3 >> {'accuracy': 0.3362760834670947, 'loss': 0.006033135427011026, 'std': 0.23515248796147672, 'EER': -1, 'EO': [0.27655771195097034, 0.03882915173237754], 'DP': -1, 'accuracy_s0': 0.38791228706052916, 'accuracy_s1': 0.2302188552188552, 'classwise_accuracy': {5: array([ 76, 133]), 4: array([ 9, 89])}, 'DP_ingredients': {'class_pred_count_s0': {5: 97, 2: 23, 0: 5, 3: 6, 1: 3, 4: 17}, 'class_pred_count_s1': {2: 12, 4: 16, 3: 8, 5: 29, 1: 4, 0: 2}, 'class_pred_count': {5: 126, 2: 35, 4: 33, 0: 7, 3: 14, 1: 7}, 'count_s0': 151, 'count_s1': 71, 'count': 222}}\n",
      "[68] Eval metrics for task 1 >> {'accuracy': 0.22767857142857142, 'loss': 0.03321007282837578, 'std': 0.08482142857142858, 'EER': -1, 'EO': [0.016326530612244927, 0.19487179487179487], 'DP': -1, 'accuracy_s0': 0.16923076923076924, 'accuracy_s1': 0.27482993197278915, 'classwise_accuracy': {0: array([ 40, 128]), 1: array([ 8, 56])}, 'DP_ingredients': {'class_pred_count_s0': {5: 16, 3: 10, 0: 16, 1: 6, 4: 4, 2: 4}, 'class_pred_count_s1': {3: 17, 0: 44, 1: 22, 2: 29, 4: 2, 5: 14}, 'class_pred_count': {3: 27, 0: 60, 1: 28, 2: 33, 5: 30, 4: 6}, 'count_s0': 56, 'count_s1': 128, 'count': 184}}\n",
      "[68] Eval metrics for task 2 >> {'accuracy': 0.21466541588492807, 'loss': 0.027905523777008057, 'std': 0.1633833646028768, 'EER': -1, 'EO': [0.046703296703296704, 0.06550802139037434], 'DP': -1, 'accuracy_s0': 0.18444055944055943, 'accuracy_s1': 0.24054621848739496, 'classwise_accuracy': {2: array([31, 82]), 3: array([ 4, 78])}, 'DP_ingredients': {'class_pred_count_s0': {4: 9, 2: 14, 5: 39, 1: 1, 0: 5, 3: 2}, 'class_pred_count_s1': {3: 12, 1: 10, 5: 18, 4: 7, 2: 34, 0: 9}, 'class_pred_count': {3: 14, 1: 11, 4: 16, 5: 57, 2: 48, 0: 14}, 'count_s0': 70, 'count_s1': 90, 'count': 160}}\n",
      "[68] Eval metrics for task 3 >> {'accuracy': 0.3570583762777731, 'loss': 0.0057990620802114675, 'std': 0.312114556053054, 'EER': -1, 'EO': [0.011350059737156512, 0.18488253319714], 'DP': -1, 'accuracy_s0': 0.38936208771293945, 'accuracy_s1': 0.2912457912457912, 'classwise_accuracy': {4: array([ 4, 89]), 5: array([ 89, 133])}, 'DP_ingredients': {'class_pred_count_s0': {4: 9, 5: 109, 2: 19, 1: 3, 3: 6, 0: 5}, 'class_pred_count_s1': {1: 4, 5: 37, 3: 9, 2: 11, 4: 9, 0: 1}, 'class_pred_count': {4: 18, 5: 146, 1: 7, 3: 15, 2: 30, 0: 6}, 'count_s0': 151, 'count_s1': 71, 'count': 222}}\n",
      "[69] Eval metrics for task 1 >> {'accuracy': 0.22767857142857142, 'loss': 0.0337954915088156, 'std': 0.08482142857142858, 'EER': -1, 'EO': [0.19487179487179487, 0.016326530612244927], 'DP': -1, 'accuracy_s0': 0.16923076923076924, 'accuracy_s1': 0.27482993197278915, 'classwise_accuracy': {1: array([ 8, 56]), 0: array([ 40, 128])}, 'DP_ingredients': {'class_pred_count_s0': {0: 16, 1: 6, 3: 8, 5: 19, 2: 6, 4: 1}, 'class_pred_count_s1': {2: 30, 1: 21, 3: 16, 0: 43, 5: 17, 4: 1}, 'class_pred_count': {2: 36, 1: 27, 0: 59, 3: 24, 5: 36, 4: 2}, 'count_s0': 56, 'count_s1': 128, 'count': 184}}\n",
      "[69] Eval metrics for task 2 >> {'accuracy': 0.2268605378361476, 'loss': 0.02881489396095276, 'std': 0.1755784865540963, 'EER': -1, 'EO': [0.06550802139037434, 0.02609890109890106], 'DP': -1, 'accuracy_s0': 0.20367132867132867, 'accuracy_s1': 0.2494747899159664, 'classwise_accuracy': {3: array([ 4, 78]), 2: array([33, 82])}, 'DP_ingredients': {'class_pred_count_s0': {2: 15, 5: 47, 1: 1, 0: 4, 4: 1, 3: 2}, 'class_pred_count_s1': {1: 10, 2: 35, 3: 11, 5: 20, 0: 9, 4: 5}, 'class_pred_count': {2: 50, 5: 67, 1: 11, 0: 13, 3: 13, 4: 6}, 'count_s0': 70, 'count_s1': 90, 'count': 160}}\n",
      "[69] Eval metrics for task 3 >> {'accuracy': 0.36833657176649487, 'loss': 0.005959748684822976, 'std': 0.32339275154177577, 'EER': -1, 'EO': [0.011350059737156512, 0.18462717058222666], 'DP': -1, 'accuracy_s0': 0.4005980427691192, 'accuracy_s1': 0.30260942760942766, 'classwise_accuracy': {4: array([ 4, 89]), 5: array([ 92, 133])}, 'DP_ingredients': {'class_pred_count_s0': {5: 109, 2: 23, 3: 6, 0: 5, 1: 3, 4: 5}, 'class_pred_count_s1': {3: 7, 5: 38, 2: 12, 1: 4, 4: 8, 0: 2}, 'class_pred_count': {3: 13, 5: 147, 2: 35, 1: 7, 4: 13, 0: 7}, 'count_s0': 151, 'count_s1': 71, 'count': 222}}\n",
      "[70] Eval metrics for task 1 >> {'accuracy': 0.22767857142857142, 'loss': 0.03427555250084918, 'std': 0.08482142857142858, 'EER': -1, 'EO': [0.016326530612244927, 0.19487179487179487], 'DP': -1, 'accuracy_s0': 0.16923076923076924, 'accuracy_s1': 0.27482993197278915, 'classwise_accuracy': {0: array([ 40, 128]), 1: array([ 8, 56])}, 'DP_ingredients': {'class_pred_count_s0': {5: 15, 1: 6, 3: 10, 0: 16, 4: 5, 2: 4}, 'class_pred_count_s1': {0: 44, 2: 28, 1: 22, 5: 13, 3: 17, 4: 4}, 'class_pred_count': {0: 60, 5: 28, 1: 28, 2: 32, 3: 27, 4: 9}, 'count_s0': 56, 'count_s1': 128, 'count': 184}}\n",
      "[70] Eval metrics for task 2 >> {'accuracy': 0.19637273295809882, 'loss': 0.029549449682235718, 'std': 0.14509068167604755, 'EER': -1, 'EO': [0.04945054945054944, 0.06550802139037434], 'DP': -1, 'accuracy_s0': 0.1652097902097902, 'accuracy_s1': 0.22268907563025211, 'classwise_accuracy': {2: array([28, 82]), 3: array([ 4, 78])}, 'DP_ingredients': {'class_pred_count_s0': {4: 14, 5: 35, 2: 13, 1: 1, 0: 5, 3: 2}, 'class_pred_count_s1': {2: 31, 5: 16, 3: 13, 4: 11, 0: 9, 1: 10}, 'class_pred_count': {2: 44, 4: 25, 5: 51, 3: 15, 0: 14, 1: 11}, 'count_s0': 70, 'count_s1': 90, 'count': 160}}\n",
      "[70] Eval metrics for task 3 >> {'accuracy': 0.356931654980147, 'loss': 0.005591603549751076, 'std': 0.24457210441834923, 'EER': -1, 'EO': [0.21961184882533197, 0.054958183990442055], 'DP': -1, 'accuracy_s0': 0.4015947807176513, 'accuracy_s1': 0.2643097643097643, 'classwise_accuracy': {5: array([ 80, 133]), 4: array([10, 89])}, 'DP_ingredients': {'class_pred_count_s0': {4: 20, 5: 100, 1: 3, 2: 18, 0: 4, 3: 6}, 'class_pred_count_s1': {3: 10, 5: 33, 4: 15, 2: 8, 0: 1, 1: 4}, 'class_pred_count': {4: 35, 5: 133, 3: 16, 1: 7, 2: 26, 0: 5}, 'count_s0': 151, 'count_s1': 71, 'count': 222}}\n",
      "[71] Eval metrics for task 1 >> {'accuracy': 0.23549107142857142, 'loss': 0.03421639100365017, 'std': 0.09263392857142858, 'EER': -1, 'EO': [0.006802721088435382, 0.19487179487179487], 'DP': -1, 'accuracy_s0': 0.1858974358974359, 'accuracy_s1': 0.27993197278911564, 'classwise_accuracy': {0: array([ 42, 128]), 1: array([ 8, 56])}, 'DP_ingredients': {'class_pred_count_s0': {0: 17, 5: 14, 3: 9, 1: 6, 2: 6, 4: 4}, 'class_pred_count_s1': {3: 15, 5: 13, 2: 31, 1: 21, 0: 45, 4: 3}, 'class_pred_count': {3: 24, 0: 62, 5: 27, 2: 37, 1: 27, 4: 7}, 'count_s0': 56, 'count_s1': 128, 'count': 184}}\n",
      "[71] Eval metrics for task 2 >> {'accuracy': 0.21466541588492807, 'loss': 0.02958163619041443, 'std': 0.1633833646028768, 'EER': -1, 'EO': [0.06550802139037434, 0.10302197802197799], 'DP': -1, 'accuracy_s0': 0.1652097902097902, 'accuracy_s1': 0.2494747899159664, 'classwise_accuracy': {3: array([ 4, 78]), 2: array([31, 82])}, 'DP_ingredients': {'class_pred_count_s0': {5: 42, 0: 6, 4: 6, 2: 13, 1: 1, 3: 2}, 'class_pred_count_s1': {5: 19, 0: 9, 2: 35, 1: 10, 3: 11, 4: 6}, 'class_pred_count': {5: 61, 0: 15, 2: 48, 1: 11, 3: 13, 4: 12}, 'count_s0': 70, 'count_s1': 90, 'count': 160}}\n",
      "[71] Eval metrics for task 3 >> {'accuracy': 0.3645771732702543, 'loss': 0.00599868394233085, 'std': 0.3196333530455352, 'EER': -1, 'EO': [0.06451612903225806, 0.20735444330949948], 'DP': -1, 'accuracy_s0': 0.4086625588981515, 'accuracy_s1': 0.2727272727272727, 'classwise_accuracy': {4: array([ 4, 89]), 5: array([ 91, 133])}, 'DP_ingredients': {'class_pred_count_s0': {5: 110, 2: 19, 4: 9, 3: 6, 0: 4, 1: 3}, 'class_pred_count_s1': {2: 10, 5: 38, 3: 9, 4: 8, 1: 4, 0: 2}, 'class_pred_count': {2: 29, 5: 148, 3: 15, 4: 17, 0: 6, 1: 7}, 'count_s0': 151, 'count_s1': 71, 'count': 222}}\n",
      "[72] Eval metrics for task 1 >> {'accuracy': 0.23158482142857142, 'loss': 0.03467153725416764, 'std': 0.08872767857142858, 'EER': -1, 'EO': [0.026530612244897944, 0.19487179487179487], 'DP': -1, 'accuracy_s0': 0.16923076923076924, 'accuracy_s1': 0.27993197278911564, 'classwise_accuracy': {0: array([ 41, 128]), 1: array([ 8, 56])}, 'DP_ingredients': {'class_pred_count_s0': {1: 6, 0: 16, 5: 20, 3: 8, 2: 5, 4: 1}, 'class_pred_count_s1': {0: 45, 2: 31, 3: 15, 1: 21, 5: 16}, 'class_pred_count': {0: 61, 1: 27, 2: 36, 3: 23, 5: 36, 4: 1}, 'count_s0': 56, 'count_s1': 128, 'count': 184}}\n",
      "[72] Eval metrics for task 2 >> {'accuracy': 0.20247029393370855, 'loss': 0.03092745244503021, 'std': 0.15118824265165728, 'EER': -1, 'EO': [0.06730769230769229, 0.06550802139037434], 'DP': -1, 'accuracy_s0': 0.1652097902097902, 'accuracy_s1': 0.23161764705882354, 'classwise_accuracy': {2: array([29, 82]), 3: array([ 4, 78])}, 'DP_ingredients': {'class_pred_count_s0': {1: 1, 5: 40, 2: 13, 0: 6, 4: 8, 3: 2}, 'class_pred_count_s1': {4: 6, 2: 33, 5: 19, 0: 9, 1: 10, 3: 13}, 'class_pred_count': {1: 11, 5: 59, 4: 14, 2: 46, 0: 15, 3: 15}, 'count_s0': 70, 'count_s1': 90, 'count': 160}}\n",
      "[72] Eval metrics for task 3 >> {'accuracy': 0.381473346287066, 'loss': 0.0057091562597601266, 'std': 0.32529357100616707, 'EER': -1, 'EO': [0.07124616956077634, 0.025686977299880523], 'DP': -1, 'accuracy_s0': 0.38936208771293945, 'accuracy_s1': 0.36658249158249157, 'classwise_accuracy': {5: array([ 94, 133]), 4: array([ 5, 89])}, 'DP_ingredients': {'class_pred_count_s0': {0: 4, 5: 110, 1: 3, 2: 18, 4: 10, 3: 6}, 'class_pred_count_s1': {5: 43, 2: 8, 1: 4, 3: 8, 4: 7, 0: 1}, 'class_pred_count': {5: 153, 0: 5, 1: 7, 2: 26, 4: 17, 3: 14}, 'count_s0': 151, 'count_s1': 71, 'count': 222}}\n",
      "[73] Eval metrics for task 1 >> {'accuracy': 0.23549107142857142, 'loss': 0.035109553648077926, 'std': 0.09263392857142858, 'EER': -1, 'EO': [0.19487179487179487, 0.006802721088435382], 'DP': -1, 'accuracy_s0': 0.1858974358974359, 'accuracy_s1': 0.27993197278911564, 'classwise_accuracy': {1: array([ 8, 56]), 0: array([ 42, 128])}, 'DP_ingredients': {'class_pred_count_s0': {5: 15, 0: 17, 4: 4, 1: 6, 3: 9, 2: 5}, 'class_pred_count_s1': {5: 15, 0: 45, 2: 31, 3: 15, 1: 21, 4: 1}, 'class_pred_count': {5: 30, 0: 62, 4: 5, 2: 36, 3: 24, 1: 27}, 'count_s0': 56, 'count_s1': 128, 'count': 184}}\n",
      "[73] Eval metrics for task 2 >> {'accuracy': 0.2085678549093183, 'loss': 0.031182119250297548, 'std': 0.15728580362726705, 'EER': -1, 'EO': [0.06550802139037434, 0.08516483516483514], 'DP': -1, 'accuracy_s0': 0.1652097902097902, 'accuracy_s1': 0.24054621848739496, 'classwise_accuracy': {3: array([ 4, 78]), 2: array([30, 82])}, 'DP_ingredients': {'class_pred_count_s0': {4: 7, 2: 13, 5: 41, 0: 6, 3: 2, 1: 1}, 'class_pred_count_s1': {2: 34, 5: 20, 3: 12, 0: 9, 4: 5, 1: 10}, 'class_pred_count': {4: 12, 2: 47, 5: 61, 3: 14, 0: 15, 1: 11}, 'count_s0': 70, 'count_s1': 90, 'count': 160}}\n",
      "[73] Eval metrics for task 3 >> {'accuracy': 0.36833657176649487, 'loss': 0.005669752756754558, 'std': 0.32339275154177577, 'EER': -1, 'EO': [0.011350059737156512, 0.11670071501532175], 'DP': -1, 'accuracy_s0': 0.38936208771293945, 'accuracy_s1': 0.32533670033670037, 'classwise_accuracy': {4: array([ 4, 89]), 5: array([ 92, 133])}, 'DP_ingredients': {'class_pred_count_s0': {5: 110, 0: 4, 4: 11, 2: 17, 3: 6, 1: 3}, 'class_pred_count_s1': {5: 41, 2: 8, 3: 9, 4: 8, 1: 4, 0: 1}, 'class_pred_count': {5: 151, 2: 25, 0: 5, 3: 15, 4: 19, 1: 7}, 'count_s0': 151, 'count_s1': 71, 'count': 222}}\n",
      "[74] Eval metrics for task 1 >> {'accuracy': 0.22767857142857142, 'loss': 0.036277954993040665, 'std': 0.08482142857142858, 'EER': -1, 'EO': [0.016326530612244927, 0.19487179487179487], 'DP': -1, 'accuracy_s0': 0.16923076923076924, 'accuracy_s1': 0.27482993197278915, 'classwise_accuracy': {0: array([ 40, 128]), 1: array([ 8, 56])}, 'DP_ingredients': {'class_pred_count_s0': {0: 16, 1: 7, 4: 6, 5: 16, 3: 7, 2: 4}, 'class_pred_count_s1': {0: 43, 5: 11, 1: 21, 2: 31, 3: 14, 4: 8}, 'class_pred_count': {0: 59, 5: 27, 1: 28, 2: 35, 4: 14, 3: 21}, 'count_s0': 56, 'count_s1': 128, 'count': 184}}\n",
      "[74] Eval metrics for task 2 >> {'accuracy': 0.2085678549093183, 'loss': 0.03258723020553589, 'std': 0.15728580362726705, 'EER': -1, 'EO': [0.06550802139037434, 0.028846153846153855], 'DP': -1, 'accuracy_s0': 0.18444055944055943, 'accuracy_s1': 0.23161764705882354, 'classwise_accuracy': {3: array([ 4, 78]), 2: array([30, 82])}, 'DP_ingredients': {'class_pred_count_s0': {5: 35, 4: 17, 2: 14, 1: 1, 0: 2, 3: 1}, 'class_pred_count_s1': {4: 8, 0: 9, 3: 12, 2: 33, 1: 10, 5: 18}, 'class_pred_count': {5: 53, 4: 25, 2: 47, 0: 11, 3: 13, 1: 11}, 'count_s0': 70, 'count_s1': 90, 'count': 160}}\n",
      "[74] Eval metrics for task 3 >> {'accuracy': 0.36069105347638764, 'loss': 0.0056002854226945755, 'std': 0.24833150291458986, 'EER': -1, 'EO': [0.1968845760980592, 0.1045400238948626], 'DP': -1, 'accuracy_s0': 0.37740123233055456, 'accuracy_s1': 0.3312289562289562, 'classwise_accuracy': {5: array([ 81, 133]), 4: array([10, 89])}, 'DP_ingredients': {'class_pred_count_s0': {5: 102, 2: 20, 1: 3, 4: 17, 3: 6, 0: 3}, 'class_pred_count_s1': {5: 32, 2: 8, 4: 18, 3: 8, 1: 4, 0: 1}, 'class_pred_count': {5: 134, 2: 28, 1: 7, 4: 35, 3: 14, 0: 4}, 'count_s0': 151, 'count_s1': 71, 'count': 222}}\n",
      "[75] Eval metrics for task 1 >> {'accuracy': 0.21986607142857142, 'loss': 0.036327512367911964, 'std': 0.07700892857142858, 'EER': -1, 'EO': [0.03945578231292518, 0.19487179487179487], 'DP': -1, 'accuracy_s0': 0.15256410256410258, 'accuracy_s1': 0.26972789115646256, 'classwise_accuracy': {0: array([ 38, 128]), 1: array([ 8, 56])}, 'DP_ingredients': {'class_pred_count_s0': {5: 20, 0: 15, 3: 8, 2: 5, 1: 6, 4: 2}, 'class_pred_count_s1': {3: 15, 1: 22, 5: 17, 2: 30, 0: 43, 4: 1}, 'class_pred_count': {3: 23, 1: 28, 5: 37, 0: 58, 2: 35, 4: 3}, 'count_s0': 56, 'count_s1': 128, 'count': 184}}\n",
      "[75] Eval metrics for task 2 >> {'accuracy': 0.2085678549093183, 'loss': 0.033121660351753235, 'std': 0.15728580362726705, 'EER': -1, 'EO': [0.028846153846153855, 0.06550802139037434], 'DP': -1, 'accuracy_s0': 0.18444055944055943, 'accuracy_s1': 0.23161764705882354, 'classwise_accuracy': {2: array([30, 82]), 3: array([ 4, 78])}, 'DP_ingredients': {'class_pred_count_s0': {5: 45, 2: 14, 1: 1, 4: 5, 0: 3, 3: 2}, 'class_pred_count_s1': {2: 32, 5: 21, 1: 11, 0: 8, 4: 5, 3: 13}, 'class_pred_count': {2: 46, 5: 66, 1: 12, 0: 11, 4: 10, 3: 15}, 'count_s0': 70, 'count_s1': 90, 'count': 160}}\n",
      "[75] Eval metrics for task 3 >> {'accuracy': 0.3908929627439385, 'loss': 0.0055457181758708785, 'std': 0.3459491425192194, 'EER': -1, 'EO': [0.18411644535240035, 0.011350059737156512], 'DP': -1, 'accuracy_s0': 0.42306995288147875, 'accuracy_s1': 0.32533670033670037, 'classwise_accuracy': {5: array([ 98, 133]), 4: array([ 4, 89])}, 'DP_ingredients': {'class_pred_count_s0': {1: 3, 0: 4, 5: 116, 2: 17, 4: 5, 3: 6}, 'class_pred_count_s1': {5: 42, 3: 8, 1: 4, 4: 8, 2: 8, 0: 1}, 'class_pred_count': {1: 7, 5: 158, 3: 14, 0: 5, 2: 25, 4: 13}, 'count_s0': 151, 'count_s1': 71, 'count': 222}}\n",
      "training_task_end\n",
      "final avg-acc 0.27310896302727605\n",
      "final avg-forget 0.28741003026445106\n"
     ]
    }
   ],
   "source": [
    "trainer.run()\n",
    "print(\"final avg-acc\", metric_manager_callback.meters['accuracy'].compute_final())\n",
    "print(\"final avg-forget\", metric_manager_callback.meters['forgetting'].compute_final())"
   ]
  },
  {
   "cell_type": "code",
   "execution_count": 6,
   "id": "8c2c3b1a",
   "metadata": {},
   "outputs": [
    {
     "data": {
      "text/plain": [
       "array([[0.547, 0.   , 0.   ],\n",
       "       [0.371, 0.456, 0.   ],\n",
       "       [0.22 , 0.209, 0.391]])"
      ]
     },
     "execution_count": 6,
     "metadata": {},
     "output_type": "execute_result"
    }
   ],
   "source": [
    "metric_manager_callback.meters['accuracy'].get_data()"
   ]
  },
  {
   "cell_type": "code",
   "execution_count": 7,
   "id": "2ebfb58a",
   "metadata": {},
   "outputs": [
    {
     "data": {
      "text/plain": [
       "0.4111471045345097"
      ]
     },
     "execution_count": 7,
     "metadata": {},
     "output_type": "execute_result"
    }
   ],
   "source": [
    "np.mean(metric_manager_callback.meters['accuracy'].compute_overall())"
   ]
  },
  {
   "cell_type": "code",
   "execution_count": 8,
   "id": "7039ed8b",
   "metadata": {},
   "outputs": [
    {
     "data": {
      "text/plain": [
       "[0.162, 0.219, 0.087]"
      ]
     },
     "execution_count": 8,
     "metadata": {},
     "output_type": "execute_result"
    }
   ],
   "source": [
    "[np.round(x, 3) for x in metric_manager_callback.meters['EO'].compute_overall()]"
   ]
  },
  {
   "cell_type": "code",
   "execution_count": 9,
   "id": "706ad34c",
   "metadata": {},
   "outputs": [
    {
     "data": {
      "text/plain": [
       "0.15613208746735507"
      ]
     },
     "execution_count": 9,
     "metadata": {},
     "output_type": "execute_result"
    }
   ],
   "source": [
    "np.mean(metric_manager_callback.meters['EO'].compute_overall())"
   ]
  },
  {
   "cell_type": "code",
   "execution_count": 10,
   "id": "2b848e47",
   "metadata": {},
   "outputs": [
    {
     "data": {
      "text/plain": [
       "[0.085, 0.065, 0.063]"
      ]
     },
     "execution_count": 10,
     "metadata": {},
     "output_type": "execute_result"
    }
   ],
   "source": [
    "[np.round(x, 3) for x in metric_manager_callback.meters['DP'].compute_overall()]"
   ]
  },
  {
   "cell_type": "code",
   "execution_count": 11,
   "id": "c09acdc3",
   "metadata": {},
   "outputs": [
    {
     "data": {
      "text/plain": [
       "0.07091691436138418"
      ]
     },
     "execution_count": 11,
     "metadata": {},
     "output_type": "execute_result"
    }
   ],
   "source": [
    "np.mean(metric_manager_callback.meters['DP'].compute_overall())"
   ]
  }
 ],
 "metadata": {
  "kernelspec": {
   "display_name": "cil",
   "language": "python",
   "name": "python3"
  },
  "language_info": {
   "codemirror_mode": {
    "name": "ipython",
    "version": 3
   },
   "file_extension": ".py",
   "mimetype": "text/x-python",
   "name": "python",
   "nbconvert_exporter": "python",
   "pygments_lexer": "ipython3",
   "version": "3.9.18"
  }
 },
 "nbformat": 4,
 "nbformat_minor": 5
}
