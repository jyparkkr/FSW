{
 "cells": [
  {
   "cell_type": "code",
   "execution_count": 1,
   "id": "b0c3b92f",
   "metadata": {},
   "outputs": [
    {
     "name": "stdout",
     "output_type": "stream",
     "text": [
      "output_dir=./outputs/demo/dataset=Drug/methods=WA/seed=10_epoch=25_lr=0.01_alpha=0.0_tau=1.0\n"
     ]
    }
   ],
   "source": [
    "import numpy as np\n",
    "import random\n",
    "\n",
    "import torch\n",
    "import torch.nn.functional as F\n",
    "import cl_gym as cl\n",
    "\n",
    "import sys\n",
    "import os\n",
    "\n",
    "seed = 10\n",
    "\n",
    "np.random.seed(seed)\n",
    "torch.manual_seed(seed)\n",
    "np.random.seed(seed)\n",
    "random.seed(seed)\n",
    "torch.cuda.manual_seed_all(seed)\n",
    "torch.manual_seed(seed)\n",
    "torch.backends.cudnn.deterministic = True\n",
    "torch.backends.cudnn.benchmark = False\n",
    "torch.backends.cudnn.enabled = False\n",
    "torch.set_num_threads(8)\n",
    "\n",
    "\n",
    "def make_params() -> dict:\n",
    "    import os\n",
    "    from pathlib import Path\n",
    "    import uuid\n",
    "\n",
    "    params = {\n",
    "            # dataset\n",
    "            'dataset': \"Drug\",\n",
    "            'fairness_agg': 'mean',\n",
    "            'random_class_idx': False,\n",
    "            'method': \"WA\",\n",
    "\n",
    "            # benchmark\n",
    "            'seed': seed,\n",
    "            'num_tasks': 3,\n",
    "            'epochs_per_task': 25,\n",
    "            'per_task_examples': np.inf,\n",
    "            'per_task_memory_examples': 64,\n",
    "            'batch_size_train': 64,\n",
    "            'batch_size_memory': 64,\n",
    "            'batch_size_validation': 256,\n",
    "            'tau': 1.0,\n",
    "\n",
    "            # 'tau': 0.0,\n",
    "\n",
    "            # algorithm\n",
    "            'optimizer': 'sgd',\n",
    "            'learning_rate': 0.01,\n",
    "            'momentum': 0.9,\n",
    "            'learning_rate_decay': 1.0,\n",
    "            'criterion': torch.nn.CrossEntropyLoss(),\n",
    "            'device': torch.device('cuda:7' if torch.cuda.is_available() else 'cpu'),\n",
    "             \n",
    "            # sample selection\n",
    "            'alpha':0.00,\n",
    "            'lambda': .0,\n",
    "            'lambda_old': 0.0,\n",
    "              }\n",
    "\n",
    "#     trial_id = str(uuid.uuid4())\n",
    "    trial_id = f\"demo/dataset={params['dataset']}/methods={params['method']}/seed={params['seed']}_epoch={params['epochs_per_task']}_lr={params['learning_rate']}_alpha={params['alpha']}_tau={params['tau']}\"\n",
    "    params['trial_id'] = trial_id\n",
    "    params['output_dir'] = os.path.join(\"./outputs/{}\".format(trial_id))\n",
    "    print(f\"output_dir={params['output_dir']}\")\n",
    "    Path(params['output_dir']).mkdir(parents=True, exist_ok=True)\n",
    "\n",
    "    return params\n",
    "\n",
    "params = make_params()"
   ]
  },
  {
   "cell_type": "code",
   "execution_count": 2,
   "id": "93b43ace",
   "metadata": {},
   "outputs": [],
   "source": [
    "from datasets import MNIST\n",
    "from datasets import FashionMNIST\n",
    "from datasets import BiasedMNIST\n",
    "from datasets import CIFAR10, CIFAR100, Drug\n",
    "\n",
    "if params['dataset'] == 'MNIST':\n",
    "    benchmark = MNIST(num_tasks=params['num_tasks'],\n",
    "                    per_task_memory_examples=params['per_task_memory_examples'],\n",
    "                    per_task_examples = params['per_task_examples'],\n",
    "                    random_class_idx = params['random_class_idx'])\n",
    "    input_dim = (28, 28)\n",
    "elif params['dataset'] == 'FashionMNIST':\n",
    "    benchmark = FashionMNIST(num_tasks=params['num_tasks'],\n",
    "                            per_task_memory_examples=params['per_task_memory_examples'],\n",
    "                            per_task_examples = params['per_task_examples'],\n",
    "                            random_class_idx = params['random_class_idx'])\n",
    "    input_dim = (28, 28)\n",
    "elif params['dataset'] == 'CIFAR10':\n",
    "    benchmark = CIFAR10(num_tasks=params['num_tasks'],\n",
    "                        per_task_memory_examples=params['per_task_memory_examples'],\n",
    "                        per_task_examples = params['per_task_examples'],\n",
    "                        random_class_idx = params['random_class_idx'])\n",
    "    input_dim = (3, 32, 32)\n",
    "elif params['dataset'] == 'CIFAR100':        \n",
    "    benchmark = CIFAR100(num_tasks=params['num_tasks'],\n",
    "                        per_task_memory_examples=params['per_task_memory_examples'],\n",
    "                        per_task_examples = params['per_task_examples'],\n",
    "                        random_class_idx = params['random_class_idx'])\n",
    "    input_dim = (3, 32, 32)\n",
    "elif params['dataset'] in [\"BiasedMNIST\"]:\n",
    "    benchmark = BiasedMNIST(num_tasks=params['num_tasks'],\n",
    "                            per_task_memory_examples=params['per_task_memory_examples'],\n",
    "                            per_task_examples = params['per_task_examples'],\n",
    "                            joint = (params['method'] == \"joint\"),\n",
    "                            random_class_idx = params['random_class_idx'])\n",
    "    input_dim = (3, 28, 28)\n",
    "elif params['dataset'] == 'Drug':        \n",
    "    benchmark = Drug(num_tasks=params['num_tasks'],\n",
    "                        per_task_memory_examples=params['per_task_memory_examples'],\n",
    "                        per_task_examples = params['per_task_examples'],\n",
    "                        joint = params['random_class_idx'],\n",
    "                        random_class_idx = params['random_class_idx'])\n",
    "    input_dim = (12)\n",
    "else:\n",
    "    raise NotImplementedError\n",
    "class_idx = benchmark.class_idx\n",
    "num_classes = len(class_idx)\n",
    "\n"
   ]
  },
  {
   "cell_type": "code",
   "execution_count": 3,
   "id": "20c7b886",
   "metadata": {},
   "outputs": [
    {
     "name": "stdout",
     "output_type": "stream",
     "text": [
      "Weight Aligning\n"
     ]
    }
   ],
   "source": [
    "from algorithms.wa import WA\n",
    "from metrics import MetricCollector2\n",
    "from metrics import FairMetricCollector as MetricCollector\n",
    "from backbones import MLP2Layers2\n",
    "\n",
    "backbone = MLP2Layers2(\n",
    "    input_dim=input_dim, \n",
    "    hidden_dim_1=256, \n",
    "    hidden_dim_2=256, \n",
    "    output_dim=num_classes,\n",
    "    class_idx=class_idx,\n",
    "    config=params\n",
    "    ).to(params['device'])\n",
    "algorithm = WA(backbone, benchmark, params, requires_memory=True)\n",
    "metric_manager_callback = MetricCollector(num_tasks=params['num_tasks'],\n",
    "                                                        eval_interval='epoch',\n",
    "                                                        epochs_per_task=params['epochs_per_task'])"
   ]
  },
  {
   "cell_type": "code",
   "execution_count": 4,
   "id": "d8efa3ad",
   "metadata": {},
   "outputs": [],
   "source": [
    "# from trainers import ContinualTrainer\n",
    "# from trainers.fair_trainer import FairContinualTrainer2 as ContinualTrainer\n",
    "from trainers.baselines import BaseContinualTrainer as ContinualTrainer\n",
    "trainer = ContinualTrainer(algorithm, params, callbacks=[metric_manager_callback])\n"
   ]
  },
  {
   "cell_type": "code",
   "execution_count": 5,
   "id": "7c1bb4fe",
   "metadata": {},
   "outputs": [
    {
     "name": "stdout",
     "output_type": "stream",
     "text": [
      "---------------------------- Task 1 -----------------------\n",
      "[1] Eval metrics for task 1 >> {'accuracy': 0.5, 'loss': 0.006853951708130215, 'std': 0.5, 'EER': -1, 'EO': [0.0, 0.0], 'DP': -1, 'accuracy_s0': 0.5, 'accuracy_s1': 0.5, 'classwise_accuracy': {0: array([128, 128]), 1: array([ 0, 56])}, 'DP_ingredients': {'class_pred_count_s0': {0: 56}, 'class_pred_count_s1': {0: 128}, 'class_pred_count': {0: 184}, 'count_s0': 56, 'count_s1': 128, 'count': 184}}\n",
      "[2] Eval metrics for task 1 >> {'accuracy': 0.5, 'loss': 0.004195051996604256, 'std': 0.5, 'EER': -1, 'EO': [0.0, 0.0], 'DP': -1, 'accuracy_s0': 0.5, 'accuracy_s1': 0.5, 'classwise_accuracy': {0: array([128, 128]), 1: array([ 0, 56])}, 'DP_ingredients': {'class_pred_count_s0': {0: 56}, 'class_pred_count_s1': {0: 128}, 'class_pred_count': {0: 184}, 'count_s0': 56, 'count_s1': 128, 'count': 184}}\n",
      "[3] Eval metrics for task 1 >> {'accuracy': 0.5, 'loss': 0.0034643771207850914, 'std': 0.5, 'EER': -1, 'EO': [0.0, 0.0], 'DP': -1, 'accuracy_s0': 0.5, 'accuracy_s1': 0.5, 'classwise_accuracy': {1: array([ 0, 56]), 0: array([128, 128])}, 'DP_ingredients': {'class_pred_count_s0': {0: 56}, 'class_pred_count_s1': {0: 128}, 'class_pred_count': {0: 184}, 'count_s0': 56, 'count_s1': 128, 'count': 184}}\n",
      "[4] Eval metrics for task 1 >> {'accuracy': 0.5, 'loss': 0.003440964805043262, 'std': 0.5, 'EER': -1, 'EO': [0.0, 0.0], 'DP': -1, 'accuracy_s0': 0.5, 'accuracy_s1': 0.5, 'classwise_accuracy': {0: array([128, 128]), 1: array([ 0, 56])}, 'DP_ingredients': {'class_pred_count_s0': {0: 56}, 'class_pred_count_s1': {0: 128}, 'class_pred_count': {0: 184}, 'count_s0': 56, 'count_s1': 128, 'count': 184}}\n",
      "[5] Eval metrics for task 1 >> {'accuracy': 0.5, 'loss': 0.003302409273126851, 'std': 0.5, 'EER': -1, 'EO': [0.0, 0.0], 'DP': -1, 'accuracy_s0': 0.5, 'accuracy_s1': 0.5, 'classwise_accuracy': {1: array([ 0, 56]), 0: array([128, 128])}, 'DP_ingredients': {'class_pred_count_s0': {0: 56}, 'class_pred_count_s1': {0: 128}, 'class_pred_count': {0: 184}, 'count_s0': 56, 'count_s1': 128, 'count': 184}}\n",
      "[6] Eval metrics for task 1 >> {'accuracy': 0.5111607142857143, 'loss': 0.0032774161385453267, 'std': 0.45758928571428575, 'EER': -1, 'EO': [0.043589743589743594, 0.0897959183673469], 'DP': -1, 'accuracy_s0': 0.4884615384615385, 'accuracy_s1': 0.5115646258503401, 'classwise_accuracy': {1: array([ 3, 56]), 0: array([124, 128])}, 'DP_ingredients': {'class_pred_count_s0': {0: 51, 1: 5}, 'class_pred_count_s1': {0: 126, 1: 2}, 'class_pred_count': {0: 177, 1: 7}, 'count_s0': 56, 'count_s1': 128, 'count': 184}}\n",
      "[7] Eval metrics for task 1 >> {'accuracy': 0.5239955357142857, 'loss': 0.0032290864897810893, 'std': 0.4525669642857143, 'EER': -1, 'EO': [0.05646258503401358, 0.08205128205128207], 'DP': -1, 'accuracy_s0': 0.5243589743589744, 'accuracy_s1': 0.5115646258503401, 'classwise_accuracy': {0: array([125, 128]), 1: array([ 4, 56])}, 'DP_ingredients': {'class_pred_count_s0': {0: 51, 1: 5}, 'class_pred_count_s1': {0: 126, 1: 2}, 'class_pred_count': {0: 177, 1: 7}, 'count_s0': 56, 'count_s1': 128, 'count': 184}}\n",
      "[8] Eval metrics for task 1 >> {'accuracy': 0.5150669642857143, 'loss': 0.0031932589152584906, 'std': 0.46149553571428575, 'EER': -1, 'EO': [0.05646258503401358, 0.043589743589743594], 'DP': -1, 'accuracy_s0': 0.5051282051282051, 'accuracy_s1': 0.5115646258503401, 'classwise_accuracy': {0: array([125, 128]), 1: array([ 3, 56])}, 'DP_ingredients': {'class_pred_count_s0': {0: 52, 1: 4}, 'class_pred_count_s1': {0: 126, 1: 2}, 'class_pred_count': {0: 178, 1: 6}, 'count_s0': 56, 'count_s1': 128, 'count': 184}}\n",
      "[9] Eval metrics for task 1 >> {'accuracy': 0.5234375, 'loss': 0.003196179218914198, 'std': 0.3984375, 'EER': -1, 'EO': [0.11564625850340138, 0.19743589743589746], 'DP': -1, 'accuracy_s0': 0.532051282051282, 'accuracy_s1': 0.49115646258503404, 'classwise_accuracy': {0: array([118, 128]), 1: array([ 7, 56])}, 'DP_ingredients': {'class_pred_count_s0': {0: 45, 1: 11}, 'class_pred_count_s1': {1: 6, 0: 122}, 'class_pred_count': {0: 167, 1: 17}, 'count_s0': 56, 'count_s1': 128, 'count': 184}}\n",
      "[10] Eval metrics for task 1 >> {'accuracy': 0.5290178571428571, 'loss': 0.0031482635632805204, 'std': 0.43973214285714285, 'EER': -1, 'EO': [0.0897959183673469, 0.12051282051282053], 'DP': -1, 'accuracy_s0': 0.5269230769230769, 'accuracy_s1': 0.5115646258503401, 'classwise_accuracy': {0: array([124, 128]), 1: array([ 5, 56])}, 'DP_ingredients': {'class_pred_count_s0': {0: 49, 1: 7}, 'class_pred_count_s1': {0: 126, 1: 2}, 'class_pred_count': {0: 175, 1: 9}, 'count_s0': 56, 'count_s1': 128, 'count': 184}}\n",
      "[11] Eval metrics for task 1 >> {'accuracy': 0.5424107142857143, 'loss': 0.003137512699417446, 'std': 0.3638392857142857, 'EER': -1, 'EO': [0.09523809523809523, 0.1692307692307692], 'DP': -1, 'accuracy_s0': 0.5512820512820513, 'accuracy_s1': 0.5142857142857143, 'classwise_accuracy': {0: array([116, 128]), 1: array([10, 56])}, 'DP_ingredients': {'class_pred_count_s0': {0: 44, 1: 12}, 'class_pred_count_s1': {0: 118, 1: 10}, 'class_pred_count': {0: 162, 1: 22}, 'count_s0': 56, 'count_s1': 128, 'count': 184}}\n",
      "[12] Eval metrics for task 1 >> {'accuracy': 0.5262276785714286, 'loss': 0.003112988951413528, 'std': 0.4190848214285714, 'EER': -1, 'EO': [0.05918367346938769, 0.158974358974359], 'DP': -1, 'accuracy_s0': 0.5461538461538462, 'accuracy_s1': 0.4962585034013605, 'classwise_accuracy': {0: array([121, 128]), 1: array([ 6, 56])}, 'DP_ingredients': {'class_pred_count_s0': {0: 48, 1: 8}, 'class_pred_count_s1': {0: 123, 1: 5}, 'class_pred_count': {0: 171, 1: 13}, 'count_s0': 56, 'count_s1': 128, 'count': 184}}\n",
      "[13] Eval metrics for task 1 >> {'accuracy': 0.5373883928571429, 'loss': 0.0031062085991320405, 'std': 0.37667410714285715, 'EER': -1, 'EO': [0.06190476190476191, 0.20256410256410257], 'DP': -1, 'accuracy_s0': 0.5679487179487179, 'accuracy_s1': 0.4976190476190476, 'classwise_accuracy': {0: array([117, 128]), 1: array([ 9, 56])}, 'DP_ingredients': {'class_pred_count_s0': {1: 11, 0: 45}, 'class_pred_count_s1': {0: 119, 1: 9}, 'class_pred_count': {0: 164, 1: 20}, 'count_s0': 56, 'count_s1': 128, 'count': 184}}\n",
      "[14] Eval metrics for task 1 >> {'accuracy': 0.5574776785714286, 'loss': 0.0031142720709676328, 'std': 0.32533482142857145, 'EER': -1, 'EO': [0.14102564102564105, 0.10816326530612241], 'DP': -1, 'accuracy_s0': 0.5538461538461539, 'accuracy_s1': 0.5374149659863946, 'classwise_accuracy': {1: array([13, 56]), 0: array([113, 128])}, 'DP_ingredients': {'class_pred_count_s0': {0: 42, 1: 14}, 'class_pred_count_s1': {0: 114, 1: 14}, 'class_pred_count': {0: 156, 1: 28}, 'count_s0': 56, 'count_s1': 128, 'count': 184}}\n",
      "[15] Eval metrics for task 1 >> {'accuracy': 0.5502232142857143, 'loss': 0.0030947489582973976, 'std': 0.3716517857142857, 'EER': -1, 'EO': [0.07210884353741498, 0.1692307692307692], 'DP': -1, 'accuracy_s0': 0.5679487179487179, 'accuracy_s1': 0.5193877551020408, 'classwise_accuracy': {0: array([118, 128]), 1: array([10, 56])}, 'DP_ingredients': {'class_pred_count_s0': {0: 45, 1: 11}, 'class_pred_count_s1': {0: 119, 1: 9}, 'class_pred_count': {0: 164, 1: 20}, 'count_s0': 56, 'count_s1': 128, 'count': 184}}\n",
      "[16] Eval metrics for task 1 >> {'accuracy': 0.5613839285714286, 'loss': 0.0031022821431574616, 'std': 0.32924107142857145, 'EER': -1, 'EO': [0.14102564102564105, 0.07482993197278909], 'DP': -1, 'accuracy_s0': 0.5705128205128205, 'accuracy_s1': 0.5374149659863946, 'classwise_accuracy': {1: array([13, 56]), 0: array([114, 128])}, 'DP_ingredients': {'class_pred_count_s0': {1: 13, 0: 43}, 'class_pred_count_s1': {0: 114, 1: 14}, 'class_pred_count': {0: 157, 1: 27}, 'count_s0': 56, 'count_s1': 128, 'count': 184}}\n",
      "[17] Eval metrics for task 1 >> {'accuracy': 0.54296875, 'loss': 0.003096336903779403, 'std': 0.41796875, 'EER': -1, 'EO': [0.036054421768707434, 0.12564102564102564], 'DP': -1, 'accuracy_s0': 0.5628205128205128, 'accuracy_s1': 0.5180272108843538, 'classwise_accuracy': {0: array([123, 128]), 1: array([ 7, 56])}, 'DP_ingredients': {'class_pred_count_s0': {0: 49, 1: 7}, 'class_pred_count_s1': {0: 123, 1: 5}, 'class_pred_count': {0: 172, 1: 12}, 'count_s0': 56, 'count_s1': 128, 'count': 184}}\n",
      "[18] Eval metrics for task 1 >> {'accuracy': 0.5546875, 'loss': 0.00311955777199372, 'std': 0.3046875, 'EER': -1, 'EO': [0.1210884353741496, 0.1794871794871795], 'DP': -1, 'accuracy_s0': 0.5564102564102564, 'accuracy_s1': 0.5272108843537415, 'classwise_accuracy': {0: array([110, 128]), 1: array([14, 56])}, 'DP_ingredients': {'class_pred_count_s0': {0: 40, 1: 16}, 'class_pred_count_s1': {0: 112, 1: 16}, 'class_pred_count': {0: 152, 1: 32}, 'count_s0': 56, 'count_s1': 128, 'count': 184}}\n",
      "[19] Eval metrics for task 1 >> {'accuracy': 0.5619419642857143, 'loss': 0.0030958079125570216, 'std': 0.3833705357142857, 'EER': -1, 'EO': [0.0156462585034014, 0.1692307692307692], 'DP': -1, 'accuracy_s0': 0.6012820512820513, 'accuracy_s1': 0.5244897959183674, 'classwise_accuracy': {0: array([121, 128]), 1: array([10, 56])}, 'DP_ingredients': {'class_pred_count_s0': {1: 9, 0: 47}, 'class_pred_count_s1': {0: 120, 1: 8}, 'class_pred_count': {0: 167, 1: 17}, 'count_s0': 56, 'count_s1': 128, 'count': 184}}\n",
      "[20] Eval metrics for task 1 >> {'accuracy': 0.5546875, 'loss': 0.0031169390548830447, 'std': 0.3046875, 'EER': -1, 'EO': [0.1794871794871795, 0.1210884353741496], 'DP': -1, 'accuracy_s0': 0.5564102564102564, 'accuracy_s1': 0.5272108843537415, 'classwise_accuracy': {1: array([14, 56]), 0: array([110, 128])}, 'DP_ingredients': {'class_pred_count_s0': {0: 40, 1: 16}, 'class_pred_count_s1': {0: 112, 1: 16}, 'class_pred_count': {0: 152, 1: 32}, 'count_s0': 56, 'count_s1': 128, 'count': 184}}\n",
      "[21] Eval metrics for task 1 >> {'accuracy': 0.5552455357142857, 'loss': 0.0030999569141346474, 'std': 0.3588169642857143, 'EER': -1, 'EO': [0.06190476190476191, 0.1358974358974359], 'DP': -1, 'accuracy_s0': 0.5679487179487179, 'accuracy_s1': 0.530952380952381, 'classwise_accuracy': {0: array([117, 128]), 1: array([11, 56])}, 'DP_ingredients': {'class_pred_count_s0': {0: 45, 1: 11}, 'class_pred_count_s1': {0: 117, 1: 11}, 'class_pred_count': {0: 162, 1: 22}, 'count_s0': 56, 'count_s1': 128, 'count': 184}}\n",
      "[22] Eval metrics for task 1 >> {'accuracy': 0.5518973214285714, 'loss': 0.0031438965512358623, 'std': 0.2840401785714286, 'EER': -1, 'EO': [0.1340136054421769, 0.21794871794871798], 'DP': -1, 'accuracy_s0': 0.558974358974359, 'accuracy_s1': 0.5170068027210885, 'classwise_accuracy': {0: array([107, 128]), 1: array([15, 56])}, 'DP_ingredients': {'class_pred_count_s0': {0: 38, 1: 18}, 'class_pred_count_s1': {0: 110, 1: 18}, 'class_pred_count': {0: 148, 1: 36}, 'count_s0': 56, 'count_s1': 128, 'count': 184}}\n",
      "[23] Eval metrics for task 1 >> {'accuracy': 0.5591517857142857, 'loss': 0.0031168629293856416, 'std': 0.3627232142857143, 'EER': -1, 'EO': [0.1358974358974359, 0.07210884353741498], 'DP': -1, 'accuracy_s0': 0.5679487179487179, 'accuracy_s1': 0.5360544217687075, 'classwise_accuracy': {1: array([11, 56]), 0: array([118, 128])}, 'DP_ingredients': {'class_pred_count_s0': {1: 11, 0: 45}, 'class_pred_count_s1': {0: 118, 1: 10}, 'class_pred_count': {1: 21, 0: 163}, 'count_s0': 56, 'count_s1': 128, 'count': 184}}\n",
      "[24] Eval metrics for task 1 >> {'accuracy': 0.5608258928571428, 'loss': 0.0031585777583329573, 'std': 0.27511160714285715, 'EER': -1, 'EO': [0.1340136054421769, 0.18461538461538463], 'DP': -1, 'accuracy_s0': 0.558974358974359, 'accuracy_s1': 0.5336734693877551, 'classwise_accuracy': {0: array([107, 128]), 1: array([16, 56])}, 'DP_ingredients': {'class_pred_count_s0': {1: 18, 0: 38}, 'class_pred_count_s1': {0: 109, 1: 19}, 'class_pred_count': {1: 37, 0: 147}, 'count_s0': 56, 'count_s1': 128, 'count': 184}}\n",
      "[25] Eval metrics for task 1 >> {'accuracy': 0.5440848214285714, 'loss': 0.0031305201675580897, 'std': 0.4012276785714286, 'EER': -1, 'EO': [0.0156462585034014, 0.09230769230769231], 'DP': -1, 'accuracy_s0': 0.5628205128205128, 'accuracy_s1': 0.5244897959183674, 'classwise_accuracy': {0: array([121, 128]), 1: array([ 8, 56])}, 'DP_ingredients': {'class_pred_count_s0': {1: 7, 0: 49}, 'class_pred_count_s1': {0: 120, 1: 8}, 'class_pred_count': {0: 169, 1: 15}, 'count_s0': 56, 'count_s1': 128, 'count': 184}}\n",
      "training_task_end\n",
      "---------------------------- Task 2 -----------------------\n",
      "[26] Eval metrics for task 1 >> {'accuracy': 0.5970982142857143, 'loss': 0.0032720581992812777, 'std': 0.16852678571428573, 'EER': -1, 'EO': [0.21632653061224494, 0.20512820512820512], 'DP': -1, 'accuracy_s0': 0.5692307692307692, 'accuracy_s1': 0.5748299319727891, 'classwise_accuracy': {0: array([ 98, 128]), 1: array([24, 56])}, 'DP_ingredients': {'class_pred_count_s0': {0: 30, 1: 26}, 'class_pred_count_s1': {1: 28, 0: 100}, 'class_pred_count': {1: 54, 0: 130}, 'count_s0': 56, 'count_s1': 128, 'count': 184}}\n",
      "[26] Eval metrics for task 2 >> {'accuracy': 0.0, 'loss': 0.03663408160209656, 'std': 0.0, 'EER': -1, 'EO': [0.0, 0.0], 'DP': -1, 'accuracy_s0': 0.0, 'accuracy_s1': 0.0, 'classwise_accuracy': {3: array([ 0, 78]), 2: array([ 0, 82])}, 'DP_ingredients': {'class_pred_count_s0': {1: 39, 0: 31}, 'class_pred_count_s1': {1: 18, 0: 72}, 'class_pred_count': {1: 57, 0: 103}, 'count_s0': 70, 'count_s1': 90, 'count': 160}}\n",
      "[27] Eval metrics for task 1 >> {'accuracy': 0.6322544642857143, 'loss': 0.003826521337032318, 'std': 0.0463169642857143, 'EER': -1, 'EO': [0.24102564102564106, 0.19931972789115648], 'DP': -1, 'accuracy_s0': 0.6205128205128205, 'accuracy_s1': 0.5996598639455782, 'classwise_accuracy': {1: array([38, 56]), 0: array([ 75, 128])}, 'DP_ingredients': {'class_pred_count_s0': {1: 38, 0: 18}, 'class_pred_count_s1': {0: 75, 1: 53}, 'class_pred_count': {0: 93, 1: 91}, 'count_s0': 56, 'count_s1': 128, 'count': 184}}\n",
      "[27] Eval metrics for task 2 >> {'accuracy': 0.0, 'loss': 0.0227681964635849, 'std': 0.0, 'EER': -1, 'EO': [0.0, 0.0], 'DP': -1, 'accuracy_s0': 0.0, 'accuracy_s1': 0.0, 'classwise_accuracy': {2: array([ 0, 82]), 3: array([ 0, 78])}, 'DP_ingredients': {'class_pred_count_s0': {0: 21, 1: 49}, 'class_pred_count_s1': {0: 57, 1: 33}, 'class_pred_count': {0: 78, 1: 82}, 'count_s0': 70, 'count_s1': 90, 'count': 160}}\n",
      "[28] Eval metrics for task 1 >> {'accuracy': 0.6316964285714286, 'loss': 0.004732439375442007, 'std': 0.024553571428571452, 'EER': -1, 'EO': [0.20408163265306123, 0.0871794871794872], 'DP': -1, 'accuracy_s0': 0.5769230769230769, 'accuracy_s1': 0.6353741496598639, 'classwise_accuracy': {0: array([ 84, 128]), 1: array([34, 56])}, 'DP_ingredients': {'class_pred_count_s0': {0: 24, 1: 32}, 'class_pred_count_s1': {0: 82, 1: 46}, 'class_pred_count': {0: 106, 1: 78}, 'count_s0': 56, 'count_s1': 128, 'count': 184}}\n",
      "[28] Eval metrics for task 2 >> {'accuracy': 0.0, 'loss': 0.014414501190185548, 'std': 0.0, 'EER': -1, 'EO': [0.0, 0.0], 'DP': -1, 'accuracy_s0': 0.0, 'accuracy_s1': 0.0, 'classwise_accuracy': {2: array([ 0, 82]), 3: array([ 0, 78])}, 'DP_ingredients': {'class_pred_count_s0': {0: 29, 1: 41}, 'class_pred_count_s1': {0: 64, 1: 26}, 'class_pred_count': {0: 93, 1: 67}, 'count_s0': 70, 'count_s1': 90, 'count': 160}}\n",
      "[29] Eval metrics for task 1 >> {'accuracy': 0.6138392857142857, 'loss': 0.005940180757771368, 'std': 0.16741071428571427, 'EER': -1, 'EO': [0.19319727891156468, 0.1717948717948718], 'DP': -1, 'accuracy_s0': 0.5858974358974358, 'accuracy_s1': 0.5965986394557823, 'classwise_accuracy': {0: array([100, 128]), 1: array([25, 56])}, 'DP_ingredients': {'class_pred_count_s0': {0: 31, 1: 25}, 'class_pred_count_s1': {0: 100, 1: 28}, 'class_pred_count': {0: 131, 1: 53}, 'count_s0': 56, 'count_s1': 128, 'count': 184}}\n",
      "[29] Eval metrics for task 2 >> {'accuracy': 0.0, 'loss': 0.011456771939992904, 'std': 0.0, 'EER': -1, 'EO': [0.0, 0.0], 'DP': -1, 'accuracy_s0': 0.0, 'accuracy_s1': 0.0, 'classwise_accuracy': {2: array([ 0, 82]), 3: array([ 0, 78])}, 'DP_ingredients': {'class_pred_count_s0': {0: 35, 1: 35}, 'class_pred_count_s1': {0: 75, 1: 15}, 'class_pred_count': {0: 110, 1: 50}, 'count_s0': 70, 'count_s1': 90, 'count': 160}}\n",
      "[30] Eval metrics for task 1 >> {'accuracy': 0.5608258928571428, 'loss': 0.006694104360497516, 'std': 0.27511160714285715, 'EER': -1, 'EO': [0.18461538461538463, 0.04693877551020409], 'DP': -1, 'accuracy_s0': 0.5923076923076923, 'accuracy_s1': 0.5234693877551021, 'classwise_accuracy': {1: array([16, 56]), 0: array([107, 128])}, 'DP_ingredients': {'class_pred_count_s0': {0: 40, 1: 16}, 'class_pred_count_s1': {0: 107, 1: 20, 2: 1}, 'class_pred_count': {0: 147, 1: 36, 2: 1}, 'count_s0': 56, 'count_s1': 128, 'count': 184}}\n",
      "[30] Eval metrics for task 2 >> {'accuracy': 0.006097560975609756, 'loss': 0.010337822139263153, 'std': 0.006097560975609756, 'EER': -1, 'EO': [0.017857142857142856, 0.0], 'DP': -1, 'accuracy_s0': 0.0, 'accuracy_s1': 0.008928571428571428, 'classwise_accuracy': {2: array([ 1, 82]), 3: array([ 0, 78])}, 'DP_ingredients': {'class_pred_count_s0': {1: 30, 0: 38, 2: 2}, 'class_pred_count_s1': {0: 73, 1: 13, 2: 4}, 'class_pred_count': {0: 111, 1: 43, 2: 6}, 'count_s0': 70, 'count_s1': 90, 'count': 160}}\n",
      "[31] Eval metrics for task 1 >> {'accuracy': 0.4916294642857143, 'loss': 0.007070832278417504, 'std': 0.3130580357142857, 'EER': -1, 'EO': [0.09319727891156471, 0.02564102564102566], 'DP': -1, 'accuracy_s0': 0.4628205128205128, 'accuracy_s1': 0.4965986394557823, 'classwise_accuracy': {0: array([103, 128]), 1: array([10, 56])}, 'DP_ingredients': {'class_pred_count_s0': {0: 39, 2: 10, 1: 7}, 'class_pred_count_s1': {0: 101, 2: 14, 1: 13}, 'class_pred_count': {0: 140, 2: 24, 1: 20}, 'count_s0': 56, 'count_s1': 128, 'count': 184}}\n",
      "[31] Eval metrics for task 2 >> {'accuracy': 0.07348342714196374, 'loss': 0.009676201641559601, 'std': 0.06066291432145091, 'EER': -1, 'EO': [0.022727272727272728, 0.028846153846153855], 'DP': -1, 'accuracy_s0': 0.0882867132867133, 'accuracy_s1': 0.0625, 'classwise_accuracy': {3: array([ 1, 78]), 2: array([11, 82])}, 'DP_ingredients': {'class_pred_count_s0': {1: 22, 2: 24, 0: 23, 3: 1}, 'class_pred_count_s1': {0: 63, 2: 18, 1: 9}, 'class_pred_count': {0: 86, 1: 31, 2: 42, 3: 1}, 'count_s0': 70, 'count_s1': 90, 'count': 160}}\n",
      "[32] Eval metrics for task 1 >> {'accuracy': 0.4308035714285714, 'loss': 0.007254065378852512, 'std': 0.28794642857142855, 'EER': -1, 'EO': [0.1986394557823129, 0.020512820512820523], 'DP': -1, 'accuracy_s0': 0.36025641025641025, 'accuracy_s1': 0.44931972789115643, 'classwise_accuracy': {0: array([ 92, 128]), 1: array([ 8, 56])}, 'DP_ingredients': {'class_pred_count_s0': {0: 30, 2: 22, 1: 4}, 'class_pred_count_s1': {0: 91, 1: 7, 2: 30}, 'class_pred_count': {0: 121, 1: 11, 2: 52}, 'count_s0': 56, 'count_s1': 128, 'count': 184}}\n",
      "[32] Eval metrics for task 2 >> {'accuracy': 0.16494684177611008, 'loss': 0.009175705164670945, 'std': 0.15212632895559725, 'EER': -1, 'EO': [0.09890109890109894, 0.022727272727272728], 'DP': -1, 'accuracy_s0': 0.20367132867132867, 'accuracy_s1': 0.14285714285714285, 'classwise_accuracy': {2: array([26, 82]), 3: array([ 1, 78])}, 'DP_ingredients': {'class_pred_count_s0': {2: 37, 1: 18, 0: 14, 3: 1}, 'class_pred_count_s1': {2: 33, 0: 53, 1: 4}, 'class_pred_count': {2: 70, 0: 67, 1: 22, 3: 1}, 'count_s0': 70, 'count_s1': 90, 'count': 160}}\n",
      "[33] Eval metrics for task 1 >> {'accuracy': 0.3917410714285714, 'loss': 0.007330369042313617, 'std': 0.24888392857142858, 'EER': -1, 'EO': [0.020512820512820523, 0.18367346938775508], 'DP': -1, 'accuracy_s0': 0.3269230769230769, 'accuracy_s1': 0.4085034013605442, 'classwise_accuracy': {1: array([ 8, 56]), 0: array([ 82, 128])}, 'DP_ingredients': {'class_pred_count_s0': {0: 23, 2: 29, 1: 4}, 'class_pred_count_s1': {0: 77, 2: 47, 1: 4}, 'class_pred_count': {0: 100, 2: 76, 1: 8}, 'count_s0': 56, 'count_s1': 128, 'count': 184}}\n",
      "[33] Eval metrics for task 2 >> {'accuracy': 0.2564102564102564, 'loss': 0.00878673642873764, 'std': 0.24358974358974358, 'EER': -1, 'EO': [0.11263736263736257, 0.022727272727272728], 'DP': -1, 'accuracy_s0': 0.2998251748251748, 'accuracy_s1': 0.23214285714285715, 'classwise_accuracy': {2: array([41, 82]), 3: array([ 1, 78])}, 'DP_ingredients': {'class_pred_count_s0': {1: 13, 2: 46, 0: 10, 3: 1}, 'class_pred_count_s1': {2: 47, 0: 39, 1: 4}, 'class_pred_count': {2: 93, 1: 17, 0: 49, 3: 1}, 'count_s0': 70, 'count_s1': 90, 'count': 160}}\n",
      "[34] Eval metrics for task 1 >> {'accuracy': 0.3643973214285714, 'loss': 0.007326051592826843, 'std': 0.22154017857142858, 'EER': -1, 'EO': [0.11224489795918369, 0.020512820512820523], 'DP': -1, 'accuracy_s0': 0.3269230769230769, 'accuracy_s1': 0.3727891156462585, 'classwise_accuracy': {0: array([ 75, 128]), 1: array([ 8, 56])}, 'DP_ingredients': {'class_pred_count_s0': {0: 22, 2: 30, 1: 4}, 'class_pred_count_s1': {0: 70, 2: 53, 1: 5}, 'class_pred_count': {0: 92, 2: 83, 1: 9}, 'count_s0': 56, 'count_s1': 128, 'count': 184}}\n",
      "[34] Eval metrics for task 2 >> {'accuracy': 0.28080050031269543, 'loss': 0.008504364639520645, 'std': 0.2679799874921826, 'EER': -1, 'EO': [0.09752747252747251, 0.022727272727272728], 'DP': -1, 'accuracy_s0': 0.31905594405594406, 'accuracy_s1': 0.25892857142857145, 'classwise_accuracy': {2: array([45, 82]), 3: array([ 1, 78])}, 'DP_ingredients': {'class_pred_count_s0': {2: 48, 1: 14, 0: 7, 3: 1}, 'class_pred_count_s1': {2: 54, 0: 32, 1: 4}, 'class_pred_count': {2: 102, 0: 39, 1: 18, 3: 1}, 'count_s0': 70, 'count_s1': 90, 'count': 160}}\n",
      "[35] Eval metrics for task 1 >> {'accuracy': 0.3783482142857143, 'loss': 0.00724325620609781, 'std': 0.19977678571428573, 'EER': -1, 'EO': [0.10204081632653061, 0.09743589743589745], 'DP': -1, 'accuracy_s0': 0.3653846153846154, 'accuracy_s1': 0.36768707482993196, 'classwise_accuracy': {0: array([ 74, 128]), 1: array([10, 56])}, 'DP_ingredients': {'class_pred_count_s0': {0: 22, 2: 28, 1: 6}, 'class_pred_count_s1': {2: 51, 0: 69, 1: 8}, 'class_pred_count': {2: 79, 0: 91, 1: 14}, 'count_s0': 56, 'count_s1': 128, 'count': 184}}\n",
      "[35] Eval metrics for task 2 >> {'accuracy': 0.29393370856785495, 'loss': 0.008327741175889969, 'std': 0.24265165728580365, 'EER': -1, 'EO': [0.09090909090909091, 0.0027472527472527375], 'DP': -1, 'accuracy_s0': 0.3146853146853147, 'accuracy_s1': 0.26785714285714285, 'classwise_accuracy': {3: array([ 4, 78]), 2: array([44, 82])}, 'DP_ingredients': {'class_pred_count_s0': {2: 43, 1: 16, 3: 4, 0: 7}, 'class_pred_count_s1': {2: 56, 0: 29, 1: 5}, 'class_pred_count': {2: 99, 1: 21, 0: 36, 3: 4}, 'count_s0': 70, 'count_s1': 90, 'count': 160}}\n",
      "[36] Eval metrics for task 1 >> {'accuracy': 0.3872767857142857, 'loss': 0.0070949617935263595, 'std': 0.1908482142857143, 'EER': -1, 'EO': [0.10204081632653061, 0.06410256410256412], 'DP': -1, 'accuracy_s0': 0.3653846153846154, 'accuracy_s1': 0.3843537414965986, 'classwise_accuracy': {0: array([ 74, 128]), 1: array([11, 56])}, 'DP_ingredients': {'class_pred_count_s0': {0: 23, 2: 27, 1: 6}, 'class_pred_count_s1': {2: 45, 0: 70, 1: 13}, 'class_pred_count': {2: 72, 0: 93, 1: 19}, 'count_s0': 56, 'count_s1': 128, 'count': 184}}\n",
      "[36] Eval metrics for task 2 >> {'accuracy': 0.30096935584740464, 'loss': 0.008242170512676238, 'std': 0.21122576610381488, 'EER': -1, 'EO': [0.1590909090909091, 0.07417582417582413], 'DP': -1, 'accuracy_s0': 0.3103146853146853, 'accuracy_s1': 0.26785714285714285, 'classwise_accuracy': {3: array([ 7, 78]), 2: array([42, 82])}, 'DP_ingredients': {'class_pred_count_s0': {2: 39, 1: 19, 0: 5, 3: 7}, 'class_pred_count_s1': {2: 56, 0: 29, 1: 5}, 'class_pred_count': {2: 95, 1: 24, 0: 34, 3: 7}, 'count_s0': 70, 'count_s1': 90, 'count': 160}}\n",
      "[37] Eval metrics for task 1 >> {'accuracy': 0.3950892857142857, 'loss': 0.006894089605497277, 'std': 0.1986607142857143, 'EER': -1, 'EO': [0.07891156462585036, 0.06410256410256412], 'DP': -1, 'accuracy_s0': 0.382051282051282, 'accuracy_s1': 0.38945578231292516, 'classwise_accuracy': {0: array([ 76, 128]), 1: array([11, 56])}, 'DP_ingredients': {'class_pred_count_s0': {0: 27, 1: 8, 2: 21}, 'class_pred_count_s1': {0: 73, 2: 39, 1: 16}, 'class_pred_count': {0: 100, 1: 24, 2: 60}, 'count_s0': 56, 'count_s1': 128, 'count': 184}}\n",
      "[37] Eval metrics for task 2 >> {'accuracy': 0.29002501563477173, 'loss': 0.008222503215074539, 'std': 0.1489993746091307, 'EER': -1, 'EO': [0.032967032967033016, 0.25], 'DP': -1, 'accuracy_s0': 0.3557692307692308, 'accuracy_s1': 0.21428571428571427, 'classwise_accuracy': {2: array([36, 82]), 3: array([11, 78])}, 'DP_ingredients': {'class_pred_count_s0': {1: 20, 3: 11, 2: 34, 0: 5}, 'class_pred_count_s1': {2: 48, 0: 32, 1: 9, 3: 1}, 'class_pred_count': {2: 82, 1: 29, 0: 37, 3: 12}, 'count_s0': 70, 'count_s1': 90, 'count': 160}}\n",
      "[38] Eval metrics for task 1 >> {'accuracy': 0.44363839285714285, 'loss': 0.006696134157802748, 'std': 0.15792410714285715, 'EER': -1, 'EO': [0.03076923076923077, 0.08911564625850343], 'DP': -1, 'accuracy_s0': 0.4012820512820513, 'accuracy_s1': 0.46122448979591835, 'classwise_accuracy': {1: array([16, 56]), 0: array([ 77, 128])}, 'DP_ingredients': {'class_pred_count_s0': {2: 16, 0: 28, 1: 10, 3: 2}, 'class_pred_count_s1': {0: 74, 2: 32, 1: 22}, 'class_pred_count': {2: 48, 0: 102, 1: 32, 3: 2}, 'count_s0': 56, 'count_s1': 128, 'count': 184}}\n",
      "[38] Eval metrics for task 2 >> {'accuracy': 0.2790806754221388, 'loss': 0.008227338641881942, 'std': 0.08677298311444652, 'EER': -1, 'EO': [0.027472527472527486, 0.2887700534759358], 'DP': -1, 'accuracy_s0': 0.3513986013986014, 'accuracy_s1': 0.19327731092436976, 'classwise_accuracy': {2: array([30, 82]), 3: array([15, 78])}, 'DP_ingredients': {'class_pred_count_s0': {2: 29, 3: 16, 1: 19, 0: 6}, 'class_pred_count_s1': {1: 11, 0: 34, 2: 43, 3: 2}, 'class_pred_count': {1: 30, 2: 72, 0: 40, 3: 18}, 'count_s0': 70, 'count_s1': 90, 'count': 160}}\n",
      "[39] Eval metrics for task 1 >> {'accuracy': 0.4720982142857143, 'loss': 0.006542647662370101, 'std': 0.16852678571428573, 'EER': -1, 'EO': [0.05306122448979589, 0.0641025641025641], 'DP': -1, 'accuracy_s0': 0.4346153846153846, 'accuracy_s1': 0.4931972789115646, 'classwise_accuracy': {0: array([ 82, 128]), 1: array([17, 56])}, 'DP_ingredients': {'class_pred_count_s0': {0: 30, 1: 11, 2: 13, 3: 2}, 'class_pred_count_s1': {0: 79, 1: 23, 2: 26}, 'class_pred_count': {0: 109, 1: 34, 2: 39, 3: 2}, 'count_s0': 56, 'count_s1': 128, 'count': 184}}\n",
      "[39] Eval metrics for task 2 >> {'accuracy': 0.27329580988117574, 'loss': 0.008217287063598634, 'std': 0.06816760475297062, 'EER': -1, 'EO': [0.3114973262032085, 0.006868131868131844], 'DP': -1, 'accuracy_s0': 0.34353146853146854, 'accuracy_s1': 0.18434873949579833, 'classwise_accuracy': {3: array([16, 78]), 2: array([28, 82])}, 'DP_ingredients': {'class_pred_count_s0': {2: 27, 1: 19, 0: 6, 3: 18}, 'class_pred_count_s1': {0: 36, 2: 40, 1: 12, 3: 2}, 'class_pred_count': {2: 67, 1: 31, 0: 42, 3: 20}, 'count_s0': 70, 'count_s1': 90, 'count': 160}}\n",
      "[40] Eval metrics for task 1 >> {'accuracy': 0.4888392857142857, 'loss': 0.006448737305143605, 'std': 0.16741071428571427, 'EER': -1, 'EO': [0.029931972789115635, 0.025641025641025605], 'DP': -1, 'accuracy_s0': 0.4705128205128205, 'accuracy_s1': 0.4982993197278911, 'classwise_accuracy': {0: array([ 84, 128]), 1: array([18, 56])}, 'DP_ingredients': {'class_pred_count_s0': {0: 30, 1: 11, 3: 3, 2: 12}, 'class_pred_count_s1': {2: 24, 0: 80, 1: 24}, 'class_pred_count': {2: 36, 0: 110, 1: 35, 3: 3}, 'count_s0': 56, 'count_s1': 128, 'count': 184}}\n",
      "[40] Eval metrics for task 2 >> {'accuracy': 0.2806441525953721, 'loss': 0.008172137290239334, 'std': 0.02423389618511571, 'EER': -1, 'EO': [0.3502673796791444, 0.004120879120879162], 'DP': -1, 'accuracy_s0': 0.35839160839160844, 'accuracy_s1': 0.18119747899159663, 'classwise_accuracy': {3: array([20, 78]), 2: array([25, 82])}, 'DP_ingredients': {'class_pred_count_s0': {0: 6, 1: 18, 3: 22, 2: 24}, 'class_pred_count_s1': {2: 37, 0: 37, 1: 12, 3: 4}, 'class_pred_count': {2: 61, 0: 43, 1: 30, 3: 26}, 'count_s0': 70, 'count_s1': 90, 'count': 160}}\n",
      "[41] Eval metrics for task 1 >> {'accuracy': 0.4888392857142857, 'loss': 0.006420765234076459, 'std': 0.16741071428571427, 'EER': -1, 'EO': [0.029931972789115635, 0.025641025641025605], 'DP': -1, 'accuracy_s0': 0.4705128205128205, 'accuracy_s1': 0.4982993197278911, 'classwise_accuracy': {0: array([ 84, 128]), 1: array([18, 56])}, 'DP_ingredients': {'class_pred_count_s0': {0: 32, 2: 10, 1: 11, 3: 3}, 'class_pred_count_s1': {2: 24, 0: 80, 1: 24}, 'class_pred_count': {2: 34, 0: 112, 1: 35, 3: 3}, 'count_s0': 56, 'count_s1': 128, 'count': 184}}\n",
      "[41] Eval metrics for task 2 >> {'accuracy': 0.300187617260788, 'loss': 0.008078713715076447, 'std': 0.007504690431519717, 'EER': -1, 'EO': [0.02197802197802201, 0.4411764705882353], 'DP': -1, 'accuracy_s0': 0.40384615384615385, 'accuracy_s1': 0.1722689075630252, 'classwise_accuracy': {2: array([24, 82]), 3: array([24, 78])}, 'DP_ingredients': {'class_pred_count_s0': {3: 26, 2: 20, 0: 6, 1: 18}, 'class_pred_count_s1': {0: 37, 2: 36, 1: 12, 3: 5}, 'class_pred_count': {0: 43, 3: 31, 2: 56, 1: 30}, 'count_s0': 70, 'count_s1': 90, 'count': 160}}\n",
      "[42] Eval metrics for task 1 >> {'accuracy': 0.49386160714285715, 'loss': 0.006465354043504466, 'std': 0.15457589285714285, 'EER': -1, 'EO': [0.05897435897435893, 0.019727891156462563], 'DP': -1, 'accuracy_s0': 0.4705128205128205, 'accuracy_s1': 0.5098639455782312, 'classwise_accuracy': {1: array([19, 56]), 0: array([ 83, 128])}, 'DP_ingredients': {'class_pred_count_s0': {2: 11, 3: 3, 0: 31, 1: 11}, 'class_pred_count_s1': {1: 25, 0: 78, 2: 25}, 'class_pred_count': {2: 36, 1: 36, 0: 109, 3: 3}, 'count_s0': 56, 'count_s1': 128, 'count': 184}}\n",
      "[42] Eval metrics for task 2 >> {'accuracy': 0.3319262038774234, 'loss': 0.007939463108778, 'std': 0.02704815509693559, 'EER': -1, 'EO': [0.004120879120879162, 0.427807486631016], 'DP': -1, 'accuracy_s0': 0.42657342657342656, 'accuracy_s1': 0.21060924369747897, 'classwise_accuracy': {2: array([25, 82]), 3: array([28, 78])}, 'DP_ingredients': {'class_pred_count_s0': {1: 18, 3: 28, 2: 18, 0: 6}, 'class_pred_count_s1': {2: 35, 0: 36, 3: 7, 1: 12}, 'class_pred_count': {1: 30, 3: 35, 2: 53, 0: 42}, 'count_s0': 70, 'count_s1': 90, 'count': 160}}\n",
      "[43] Eval metrics for task 1 >> {'accuracy': 0.4693080357142857, 'loss': 0.006507304051648016, 'std': 0.14787946428571427, 'EER': -1, 'EO': [0.022448979591836782, 0.025641025641025605], 'DP': -1, 'accuracy_s0': 0.45384615384615384, 'accuracy_s1': 0.47789115646258506, 'classwise_accuracy': {0: array([ 79, 128]), 1: array([18, 56])}, 'DP_ingredients': {'class_pred_count_s0': {1: 10, 0: 30, 3: 3, 2: 13}, 'class_pred_count_s1': {1: 23, 0: 76, 2: 27, 3: 2}, 'class_pred_count': {1: 33, 0: 106, 2: 40, 3: 5}, 'count_s0': 56, 'count_s1': 128, 'count': 184}}\n",
      "[43] Eval metrics for task 2 >> {'accuracy': 0.3319262038774234, 'loss': 0.007808125764131546, 'std': 0.02704815509693559, 'EER': -1, 'EO': [0.06043956043956045, 0.427807486631016], 'DP': -1, 'accuracy_s0': 0.4458041958041958, 'accuracy_s1': 0.20168067226890757, 'classwise_accuracy': {2: array([25, 82]), 3: array([28, 78])}, 'DP_ingredients': {'class_pred_count_s0': {1: 18, 3: 28, 2: 19, 0: 5}, 'class_pred_count_s1': {2: 34, 0: 36, 3: 8, 1: 12}, 'class_pred_count': {1: 30, 2: 53, 0: 41, 3: 36}, 'count_s0': 70, 'count_s1': 90, 'count': 160}}\n",
      "[44] Eval metrics for task 1 >> {'accuracy': 0.47042410714285715, 'loss': 0.006577104330062866, 'std': 0.13113839285714285, 'EER': -1, 'EO': [0.01282051282051283, 0.045578231292517035], 'DP': -1, 'accuracy_s0': 0.4564102564102564, 'accuracy_s1': 0.4727891156462585, 'classwise_accuracy': {1: array([19, 56]), 0: array([ 77, 128])}, 'DP_ingredients': {'class_pred_count_s0': {0: 27, 2: 15, 3: 3, 1: 11}, 'class_pred_count_s1': {1: 22, 0: 75, 2: 29, 3: 2}, 'class_pred_count': {0: 102, 2: 44, 1: 33, 3: 5}, 'count_s0': 56, 'count_s1': 128, 'count': 184}}\n",
      "[44] Eval metrics for task 2 >> {'accuracy': 0.35053158223889935, 'loss': 0.007673102617263794, 'std': 0.02126328955597248, 'EER': -1, 'EO': [0.4505347593582888, 0.08104395604395609], 'DP': -1, 'accuracy_s0': 0.47639860139860146, 'accuracy_s1': 0.21060924369747897, 'classwise_accuracy': {3: array([29, 78]), 2: array([27, 82])}, 'DP_ingredients': {'class_pred_count_s0': {1: 16, 2: 21, 3: 29, 0: 4}, 'class_pred_count_s1': {2: 36, 0: 35, 3: 8, 1: 11}, 'class_pred_count': {2: 57, 1: 27, 0: 39, 3: 37}, 'count_s0': 70, 'count_s1': 90, 'count': 160}}\n",
      "[45] Eval metrics for task 1 >> {'accuracy': 0.4754464285714286, 'loss': 0.006630549612252608, 'std': 0.11830357142857142, 'EER': -1, 'EO': [0.07891156462585036, 0.020512820512820495], 'DP': -1, 'accuracy_s0': 0.43974358974358974, 'accuracy_s1': 0.4894557823129252, 'classwise_accuracy': {0: array([ 76, 128]), 1: array([20, 56])}, 'DP_ingredients': {'class_pred_count_s0': {0: 26, 1: 11, 2: 16, 3: 3}, 'class_pred_count_s1': {0: 74, 1: 23, 3: 3, 2: 28}, 'class_pred_count': {0: 100, 1: 34, 3: 6, 2: 44}, 'count_s0': 56, 'count_s1': 128, 'count': 184}}\n",
      "[45] Eval metrics for task 2 >> {'accuracy': 0.35694183864915574, 'loss': 0.007557757198810577, 'std': 0.027673545966228896, 'EER': -1, 'EO': [0.42112299465240643, 0.024725274725274693], 'DP': -1, 'accuracy_s0': 0.4571678321678322, 'accuracy_s1': 0.2342436974789916, 'classwise_accuracy': {3: array([30, 78]), 2: array([27, 82])}, 'DP_ingredients': {'class_pred_count_s0': {1: 15, 3: 31, 2: 20, 0: 4}, 'class_pred_count_s1': {0: 34, 3: 9, 2: 36, 1: 11}, 'class_pred_count': {1: 26, 0: 38, 3: 40, 2: 56}, 'count_s0': 70, 'count_s1': 90, 'count': 160}}\n",
      "[46] Eval metrics for task 1 >> {'accuracy': 0.4536830357142857, 'loss': 0.006649618563444718, 'std': 0.13225446428571427, 'EER': -1, 'EO': [0.06870748299319729, 0.046153846153846156], 'DP': -1, 'accuracy_s0': 0.43974358974358974, 'accuracy_s1': 0.4510204081632653, 'classwise_accuracy': {0: array([ 75, 128]), 1: array([18, 56])}, 'DP_ingredients': {'class_pred_count_s0': {2: 16, 0: 26, 1: 11, 3: 3}, 'class_pred_count_s1': {2: 29, 0: 74, 1: 21, 3: 4}, 'class_pred_count': {2: 45, 0: 100, 1: 32, 3: 7}, 'count_s0': 56, 'count_s1': 128, 'count': 184}}\n",
      "[46] Eval metrics for task 2 >> {'accuracy': 0.3697623514696685, 'loss': 0.007482735812664032, 'std': 0.0404940587867417, 'EER': -1, 'EO': [0.4144385026737968, 0.024725274725274693], 'DP': -1, 'accuracy_s0': 0.46853146853146854, 'accuracy_s1': 0.24894957983193278, 'classwise_accuracy': {3: array([32, 78]), 2: array([27, 82])}, 'DP_ingredients': {'class_pred_count_s0': {2: 19, 3: 32, 1: 15, 0: 4}, 'class_pred_count_s1': {0: 33, 1: 10, 2: 35, 3: 12}, 'class_pred_count': {2: 54, 0: 37, 1: 25, 3: 44}, 'count_s0': 70, 'count_s1': 90, 'count': 160}}\n",
      "[47] Eval metrics for task 1 >> {'accuracy': 0.45479910714285715, 'loss': 0.00668473217798316, 'std': 0.11551339285714285, 'EER': -1, 'EO': [0.01282051282051283, 0.048299319727891143], 'DP': -1, 'accuracy_s0': 0.43974358974358974, 'accuracy_s1': 0.4574829931972789, 'classwise_accuracy': {1: array([19, 56]), 0: array([ 73, 128])}, 'DP_ingredients': {'class_pred_count_s0': {1: 11, 2: 16, 0: 26, 3: 3}, 'class_pred_count_s1': {0: 71, 1: 22, 2: 31, 3: 4}, 'class_pred_count': {1: 33, 0: 97, 2: 47, 3: 7}, 'count_s0': 56, 'count_s1': 128, 'count': 184}}\n",
      "[47] Eval metrics for task 2 >> {'accuracy': 0.3999374609130707, 'loss': 0.0074263356626033785, 'std': 0.0025015634771732576, 'EER': -1, 'EO': [0.44385026737967914, 0.08653846153846156], 'DP': -1, 'accuracy_s0': 0.5262237762237763, 'accuracy_s1': 0.2610294117647059, 'classwise_accuracy': {3: array([31, 78]), 2: array([33, 82])}, 'DP_ingredients': {'class_pred_count_s0': {3: 31, 1: 14, 2: 22, 0: 3}, 'class_pred_count_s1': {2: 40, 0: 29, 1: 10, 3: 11}, 'class_pred_count': {2: 62, 0: 32, 3: 42, 1: 24}, 'count_s0': 70, 'count_s1': 90, 'count': 160}}\n",
      "[48] Eval metrics for task 1 >> {'accuracy': 0.45479910714285715, 'loss': 0.006678279975186224, 'std': 0.11551339285714285, 'EER': -1, 'EO': [0.048299319727891143, 0.01282051282051283], 'DP': -1, 'accuracy_s0': 0.43974358974358974, 'accuracy_s1': 0.4574829931972789, 'classwise_accuracy': {0: array([ 73, 128]), 1: array([19, 56])}, 'DP_ingredients': {'class_pred_count_s0': {0: 27, 1: 11, 3: 3, 2: 15}, 'class_pred_count_s1': {0: 71, 3: 4, 1: 22, 2: 31}, 'class_pred_count': {0: 98, 3: 7, 1: 33, 2: 46}, 'count_s0': 56, 'count_s1': 128, 'count': 184}}\n",
      "[48] Eval metrics for task 2 >> {'accuracy': 0.39383989993746094, 'loss': 0.007410256564617157, 'std': 0.003595997498436504, 'EER': -1, 'EO': [0.04807692307692307, 0.44385026737967914], 'DP': -1, 'accuracy_s0': 0.506993006993007, 'accuracy_s1': 0.2610294117647059, 'classwise_accuracy': {2: array([32, 82]), 3: array([31, 78])}, 'DP_ingredients': {'class_pred_count_s0': {3: 31, 2: 21, 1: 15, 0: 3}, 'class_pred_count_s1': {2: 40, 0: 29, 3: 11, 1: 10}, 'class_pred_count': {2: 61, 3: 42, 0: 32, 1: 25}, 'count_s0': 70, 'count_s1': 90, 'count': 160}}\n",
      "[49] Eval metrics for task 1 >> {'accuracy': 0.4419642857142857, 'loss': 0.006696920679963153, 'std': 0.12053571428571427, 'EER': -1, 'EO': [0.03809523809523807, 0.025641025641025605], 'DP': -1, 'accuracy_s0': 0.4205128205128205, 'accuracy_s1': 0.45238095238095233, 'classwise_accuracy': {0: array([ 72, 128]), 1: array([18, 56])}, 'DP_ingredients': {'class_pred_count_s0': {0: 28, 2: 15, 1: 10, 3: 3}, 'class_pred_count_s1': {0: 70, 1: 22, 2: 32, 3: 4}, 'class_pred_count': {0: 98, 1: 32, 2: 47, 3: 7}, 'count_s0': 56, 'count_s1': 128, 'count': 184}}\n",
      "[49] Eval metrics for task 2 >> {'accuracy': 0.3944652908067542, 'loss': 0.007371800392866135, 'std': 0.028611632270168857, 'EER': -1, 'EO': [0.3850267379679145, 0.028846153846153855], 'DP': -1, 'accuracy_s0': 0.46853146853146854, 'accuracy_s1': 0.2904411764705882, 'classwise_accuracy': {3: array([33, 78]), 2: array([30, 82])}, 'DP_ingredients': {'class_pred_count_s0': {3: 32, 1: 16, 2: 19, 0: 3}, 'class_pred_count_s1': {3: 13, 0: 29, 2: 38, 1: 10}, 'class_pred_count': {3: 45, 1: 26, 0: 32, 2: 57}, 'count_s0': 70, 'count_s1': 90, 'count': 160}}\n",
      "[50] Eval metrics for task 1 >> {'accuracy': 0.42410714285714285, 'loss': 0.00668125243290611, 'std': 0.13839285714285715, 'EER': -1, 'EO': [0.03809523809523807, 0.041025641025641046], 'DP': -1, 'accuracy_s0': 0.4205128205128205, 'accuracy_s1': 0.419047619047619, 'classwise_accuracy': {0: array([ 72, 128]), 1: array([16, 56])}, 'DP_ingredients': {'class_pred_count_s0': {0: 29, 3: 3, 1: 10, 2: 14}, 'class_pred_count_s1': {0: 72, 2: 31, 1: 20, 3: 5}, 'class_pred_count': {0: 101, 2: 45, 3: 8, 1: 30}, 'count_s0': 56, 'count_s1': 128, 'count': 184}}\n",
      "[50] Eval metrics for task 2 >> {'accuracy': 0.40087554721701063, 'loss': 0.007354135811328888, 'std': 0.03502188868042527, 'EER': -1, 'EO': [0.08516483516483514, 0.3556149732620321], 'DP': -1, 'accuracy_s0': 0.4493006993006993, 'accuracy_s1': 0.31407563025210083, 'classwise_accuracy': {2: array([30, 82]), 3: array([34, 78])}, 'DP_ingredients': {'class_pred_count_s0': {2: 18, 3: 32, 1: 16, 0: 4}, 'class_pred_count_s1': {1: 10, 2: 38, 0: 28, 3: 14}, 'class_pred_count': {2: 56, 1: 26, 0: 32, 3: 46}, 'count_s0': 70, 'count_s1': 90, 'count': 160}}\n",
      "training_task_end\n",
      "mean_old/mean_new=1.376273882190628\n",
      "---------------------------- Task 3 -----------------------\n",
      "[51] Eval metrics for task 1 >> {'accuracy': 0.4464285714285714, 'loss': 0.00681422586026399, 'std': 0.053571428571428575, 'EER': -1, 'EO': [0.015384615384615385, 0.0435374149659864], 'DP': -1, 'accuracy_s0': 0.4256410256410257, 'accuracy_s1': 0.45510204081632655, 'classwise_accuracy': {1: array([22, 56]), 0: array([ 64, 128])}, 'DP_ingredients': {'class_pred_count_s0': {0: 23, 1: 13, 2: 17, 3: 3}, 'class_pred_count_s1': {2: 31, 3: 6, 1: 28, 0: 63}, 'class_pred_count': {0: 86, 2: 48, 3: 9, 1: 41}, 'count_s0': 56, 'count_s1': 128, 'count': 184}}\n",
      "[51] Eval metrics for task 2 >> {'accuracy': 0.4313633520950594, 'loss': 0.007471902668476105, 'std': 0.004534083802376493, 'EER': -1, 'EO': [0.17445054945054944, 0.3556149732620321], 'DP': -1, 'accuracy_s0': 0.4493006993006993, 'accuracy_s1': 0.358718487394958, 'classwise_accuracy': {2: array([35, 82]), 3: array([34, 78])}, 'DP_ingredients': {'class_pred_count_s0': {3: 31, 2: 18, 1: 18, 0: 3}, 'class_pred_count_s1': {2: 47, 1: 11, 0: 18, 3: 14}, 'class_pred_count': {3: 45, 2: 65, 1: 29, 0: 21}, 'count_s0': 70, 'count_s1': 90, 'count': 160}}\n",
      "[51] Eval metrics for task 3 >> {'accuracy': 0.0, 'loss': 0.018870435319505295, 'std': 0.0, 'EER': -1, 'EO': [0.0, 0.0], 'DP': -1, 'accuracy_s0': 0.0, 'accuracy_s1': 0.0, 'classwise_accuracy': {5: array([  0, 133]), 4: array([ 0, 89])}, 'DP_ingredients': {'class_pred_count_s0': {3: 109, 1: 11, 2: 25, 0: 6}, 'class_pred_count_s1': {3: 38, 2: 20, 1: 8, 0: 5}, 'class_pred_count': {3: 147, 2: 45, 1: 19, 0: 11}, 'count_s0': 151, 'count_s1': 71, 'count': 222}}\n",
      "[52] Eval metrics for task 1 >> {'accuracy': 0.5011160714285714, 'loss': 0.006317737309829048, 'std': 0.10825892857142858, 'EER': -1, 'EO': [0.01224489795918371, 0.0871794871794872], 'DP': -1, 'accuracy_s0': 0.47307692307692306, 'accuracy_s1': 0.5227891156462585, 'classwise_accuracy': {0: array([ 78, 128]), 1: array([22, 56])}, 'DP_ingredients': {'class_pred_count_s0': {1: 13, 2: 9, 0: 32, 3: 2}, 'class_pred_count_s1': {0: 72, 1: 29, 2: 20, 3: 7}, 'class_pred_count': {0: 104, 1: 42, 2: 29, 3: 9}, 'count_s0': 56, 'count_s1': 128, 'count': 184}}\n",
      "[52] Eval metrics for task 2 >> {'accuracy': 0.33989993746091307, 'loss': 0.00892321988940239, 'std': 0.09599749843652283, 'EER': -1, 'EO': [0.13186813186813184, 0.30347593582887705], 'DP': -1, 'accuracy_s0': 0.36101398601398604, 'accuracy_s1': 0.27521008403361347, 'classwise_accuracy': {2: array([20, 82]), 3: array([34, 78])}, 'DP_ingredients': {'class_pred_count_s0': {3: 30, 2: 13, 1: 22, 0: 5}, 'class_pred_count_s1': {3: 15, 2: 27, 0: 31, 1: 17}, 'class_pred_count': {3: 45, 2: 40, 0: 36, 1: 39}, 'count_s0': 70, 'count_s1': 90, 'count': 160}}\n",
      "[52] Eval metrics for task 3 >> {'accuracy': 0.0, 'loss': 0.012226145546715538, 'std': 0.0, 'EER': -1, 'EO': [0.0, 0.0], 'DP': -1, 'accuracy_s0': 0.0, 'accuracy_s1': 0.0, 'classwise_accuracy': {5: array([  0, 133]), 4: array([ 0, 89])}, 'DP_ingredients': {'class_pred_count_s0': {3: 110, 1: 18, 0: 11, 2: 12}, 'class_pred_count_s1': {0: 6, 3: 37, 2: 12, 1: 16}, 'class_pred_count': {3: 147, 0: 17, 2: 24, 1: 34}, 'count_s0': 151, 'count_s1': 71, 'count': 222}}\n",
      "[53] Eval metrics for task 1 >> {'accuracy': 0.47433035714285715, 'loss': 0.006777186108672101, 'std': 0.13504464285714285, 'EER': -1, 'EO': [0.03129251700680269, 0.05897435897435893], 'DP': -1, 'accuracy_s0': 0.4705128205128205, 'accuracy_s1': 0.4843537414965986, 'classwise_accuracy': {0: array([ 78, 128]), 1: array([19, 56])}, 'DP_ingredients': {'class_pred_count_s0': {2: 9, 0: 34, 1: 10, 3: 3}, 'class_pred_count_s1': {0: 73, 2: 20, 1: 27, 3: 8}, 'class_pred_count': {0: 107, 2: 29, 1: 37, 3: 11}, 'count_s0': 56, 'count_s1': 128, 'count': 184}}\n",
      "[53] Eval metrics for task 2 >> {'accuracy': 0.36522826766729205, 'loss': 0.009381552040576936, 'std': 0.10913070669168229, 'EER': -1, 'EO': [0.20604395604395606, 0.26737967914438504], 'DP': -1, 'accuracy_s0': 0.3531468531468532, 'accuracy_s1': 0.3224789915966387, 'classwise_accuracy': {2: array([21, 82]), 3: array([37, 78])}, 'DP_ingredients': {'class_pred_count_s0': {0: 6, 3: 31, 1: 21, 2: 12}, 'class_pred_count_s1': {0: 29, 3: 17, 2: 27, 1: 17}, 'class_pred_count': {0: 35, 3: 48, 2: 39, 1: 38}, 'count_s0': 70, 'count_s1': 90, 'count': 160}}\n",
      "[53] Eval metrics for task 3 >> {'accuracy': 0.0, 'loss': 0.009824382292257773, 'std': 0.0, 'EER': -1, 'EO': [0.0, 0.0], 'DP': -1, 'accuracy_s0': 0.0, 'accuracy_s1': 0.0, 'classwise_accuracy': {5: array([  0, 133]), 4: array([ 0, 89])}, 'DP_ingredients': {'class_pred_count_s0': {1: 16, 3: 113, 0: 12, 2: 10}, 'class_pred_count_s1': {3: 40, 2: 9, 1: 15, 0: 7}, 'class_pred_count': {3: 153, 1: 31, 0: 19, 2: 19}, 'count_s0': 151, 'count_s1': 71, 'count': 222}}\n",
      "[54] Eval metrics for task 1 >> {'accuracy': 0.4419642857142857, 'loss': 0.007476466505423836, 'std': 0.12053571428571427, 'EER': -1, 'EO': [0.025641025641025605, 0.048979591836734726], 'DP': -1, 'accuracy_s0': 0.45384615384615384, 'accuracy_s1': 0.44217687074829926, 'classwise_accuracy': {1: array([18, 56]), 0: array([ 72, 128])}, 'DP_ingredients': {'class_pred_count_s0': {1: 10, 0: 29, 2: 12, 3: 5}, 'class_pred_count_s1': {0: 67, 2: 26, 1: 25, 3: 10}, 'class_pred_count': {1: 35, 0: 96, 2: 38, 3: 15}, 'count_s0': 56, 'count_s1': 128, 'count': 184}}\n",
      "[54] Eval metrics for task 2 >> {'accuracy': 0.44058786741713574, 'loss': 0.009311918169260025, 'std': 0.12351469668542839, 'EER': -1, 'EO': [0.21791443850267378, 0.07005494505494508], 'DP': -1, 'accuracy_s0': 0.46416083916083917, 'accuracy_s1': 0.3902310924369748, 'classwise_accuracy': {3: array([44, 78]), 2: array([26, 82])}, 'DP_ingredients': {'class_pred_count_s0': {3: 37, 1: 17, 2: 13, 0: 3}, 'class_pred_count_s1': {1: 10, 2: 31, 3: 28, 0: 21}, 'class_pred_count': {3: 65, 1: 27, 2: 44, 0: 24}, 'count_s0': 70, 'count_s1': 90, 'count': 160}}\n",
      "[54] Eval metrics for task 3 >> {'accuracy': 0.0, 'loss': 0.008771822796211587, 'std': 0.0, 'EER': -1, 'EO': [0.0, 0.0], 'DP': -1, 'accuracy_s0': 0.0, 'accuracy_s1': 0.0, 'classwise_accuracy': {5: array([  0, 133]), 4: array([ 0, 89])}, 'DP_ingredients': {'class_pred_count_s0': {3: 121, 0: 9, 1: 11, 2: 10}, 'class_pred_count_s1': {1: 8, 2: 13, 3: 46, 0: 4}, 'class_pred_count': {3: 167, 1: 19, 2: 23, 0: 13}, 'count_s0': 151, 'count_s1': 71, 'count': 222}}\n",
      "[55] Eval metrics for task 1 >> {'accuracy': 0.3671875, 'loss': 0.008135061549103779, 'std': 0.1171875, 'EER': -1, 'EO': [0.020408163265306145, 0.1076923076923077], 'DP': -1, 'accuracy_s0': 0.40384615384615385, 'accuracy_s1': 0.3397959183673469, 'classwise_accuracy': {0: array([ 62, 128]), 1: array([14, 56])}, 'DP_ingredients': {'class_pred_count_s0': {0: 26, 1: 9, 2: 14, 3: 7}, 'class_pred_count_s1': {0: 57, 1: 18, 2: 38, 3: 15}, 'class_pred_count': {0: 83, 1: 27, 2: 52, 3: 22}, 'count_s0': 56, 'count_s1': 128, 'count': 184}}\n",
      "[55] Eval metrics for task 2 >> {'accuracy': 0.4903064415259537, 'loss': 0.009173119813203812, 'std': 0.11225766103814883, 'EER': -1, 'EO': [0.23395721925133695, 0.10302197802197799], 'DP': -1, 'accuracy_s0': 0.5061188811188811, 'accuracy_s1': 0.44065126050420167, 'classwise_accuracy': {3: array([47, 78]), 2: array([31, 82])}, 'DP_ingredients': {'class_pred_count_s0': {3: 41, 0: 3, 2: 13, 1: 12, 5: 1}, 'class_pred_count_s1': {0: 16, 2: 36, 3: 30, 1: 8}, 'class_pred_count': {0: 19, 2: 49, 3: 71, 1: 20, 5: 1}, 'count_s0': 70, 'count_s1': 90, 'count': 160}}\n",
      "[55] Eval metrics for task 3 >> {'accuracy': 0.007518796992481203, 'loss': 0.008035095962318214, 'std': 0.007518796992481203, 'EER': -1, 'EO': [0.011491317671092953, 0.0], 'DP': -1, 'accuracy_s0': 0.0056179775280898875, 'accuracy_s1': 0.011363636363636364, 'classwise_accuracy': {5: array([  2, 133]), 4: array([ 0, 89])}, 'DP_ingredients': {'class_pred_count_s0': {3: 126, 2: 13, 0: 4, 5: 2, 1: 6}, 'class_pred_count_s1': {2: 10, 3: 52, 0: 4, 1: 4, 5: 1}, 'class_pred_count': {3: 178, 2: 23, 0: 8, 5: 3, 1: 10}, 'count_s0': 151, 'count_s1': 71, 'count': 222}}\n",
      "[56] Eval metrics for task 1 >> {'accuracy': 0.3231026785714286, 'loss': 0.008636334668035093, 'std': 0.09095982142857142, 'EER': -1, 'EO': [0.01836734693877551, 0.0692307692307692], 'DP': -1, 'accuracy_s0': 0.33461538461538465, 'accuracy_s1': 0.3091836734693878, 'classwise_accuracy': {0: array([ 53, 128]), 1: array([13, 56])}, 'DP_ingredients': {'class_pred_count_s0': {0: 20, 1: 9, 5: 6, 3: 2, 2: 19}, 'class_pred_count_s1': {0: 51, 2: 44, 1: 17, 3: 10, 5: 6}, 'class_pred_count': {0: 71, 2: 63, 1: 26, 5: 12, 3: 12}, 'count_s0': 56, 'count_s1': 128, 'count': 184}}\n",
      "[56] Eval metrics for task 2 >> {'accuracy': 0.46919949968730457, 'loss': 0.00921882688999176, 'std': 0.017979987492182603, 'EER': -1, 'EO': [0.15384615384615385, 0.18582887700534767], 'DP': -1, 'accuracy_s0': 0.4571678321678322, 'accuracy_s1': 0.4411764705882353, 'classwise_accuracy': {2: array([37, 82]), 3: array([38, 78])}, 'DP_ingredients': {'class_pred_count_s0': {5: 14, 1: 9, 3: 32, 2: 14, 0: 1}, 'class_pred_count_s1': {2: 42, 3: 23, 5: 7, 0: 11, 1: 7}, 'class_pred_count': {2: 56, 5: 21, 3: 55, 1: 16, 0: 12}, 'count_s0': 70, 'count_s1': 90, 'count': 160}}\n",
      "[56] Eval metrics for task 3 >> {'accuracy': 0.15037593984962405, 'loss': 0.0073441245534398535, 'std': 0.15037593984962405, 'EER': -1, 'EO': [0.0, 0.17773237997957098], 'DP': -1, 'accuracy_s0': 0.1797752808988764, 'accuracy_s1': 0.09090909090909091, 'classwise_accuracy': {4: array([ 0, 89]), 5: array([ 40, 133])}, 'DP_ingredients': {'class_pred_count_s0': {3: 82, 5: 52, 2: 10, 1: 4, 0: 3}, 'class_pred_count_s1': {5: 16, 3: 39, 2: 8, 1: 4, 0: 4}, 'class_pred_count': {3: 121, 5: 68, 2: 18, 1: 8, 0: 7}, 'count_s0': 151, 'count_s1': 71, 'count': 222}}\n",
      "[57] Eval metrics for task 1 >> {'accuracy': 0.3231026785714286, 'loss': 0.00893359987632088, 'std': 0.09095982142857142, 'EER': -1, 'EO': [0.01836734693877551, 0.0692307692307692], 'DP': -1, 'accuracy_s0': 0.33461538461538465, 'accuracy_s1': 0.3091836734693878, 'classwise_accuracy': {0: array([ 53, 128]), 1: array([13, 56])}, 'DP_ingredients': {'class_pred_count_s0': {0: 20, 2: 18, 5: 9, 1: 9}, 'class_pred_count_s1': {2: 40, 1: 17, 0: 51, 5: 18, 3: 2}, 'class_pred_count': {2: 58, 0: 71, 1: 26, 5: 27, 3: 2}, 'count_s0': 56, 'count_s1': 128, 'count': 184}}\n",
      "[57] Eval metrics for task 2 >> {'accuracy': 0.2903377110694184, 'loss': 0.009512082487344743, 'std': 0.13649155722326453, 'EER': -1, 'EO': [0.040106951871657776, 0.17445054945054944], 'DP': -1, 'accuracy_s0': 0.22202797202797203, 'accuracy_s1': 0.3293067226890756, 'classwise_accuracy': {3: array([12, 78]), 2: array([35, 82])}, 'DP_ingredients': {'class_pred_count_s0': {3: 7, 2: 12, 5: 43, 0: 1, 1: 7}, 'class_pred_count_s1': {2: 41, 0: 11, 3: 11, 5: 21, 1: 6}, 'class_pred_count': {3: 18, 2: 53, 5: 64, 0: 12, 1: 13}, 'count_s0': 70, 'count_s1': 90, 'count': 160}}\n",
      "[57] Eval metrics for task 3 >> {'accuracy': 0.38345864661654133, 'loss': 0.006674955557058523, 'std': 0.38345864661654133, 'EER': -1, 'EO': [0.0, 0.12717058222676203], 'DP': -1, 'accuracy_s0': 0.4044943820224719, 'accuracy_s1': 0.3409090909090909, 'classwise_accuracy': {4: array([ 0, 89]), 5: array([102, 133])}, 'DP_ingredients': {'class_pred_count_s0': {5: 121, 2: 8, 3: 16, 1: 3, 0: 3}, 'class_pred_count_s1': {3: 12, 2: 6, 5: 46, 1: 4, 0: 3}, 'class_pred_count': {5: 167, 3: 28, 2: 14, 1: 7, 0: 6}, 'count_s0': 151, 'count_s1': 71, 'count': 222}}\n",
      "[58] Eval metrics for task 1 >> {'accuracy': 0.3387276785714286, 'loss': 0.009040603819100754, 'std': 0.10658482142857142, 'EER': -1, 'EO': [0.05918367346938774, 0.0692307692307692], 'DP': -1, 'accuracy_s0': 0.33461538461538465, 'accuracy_s1': 0.3295918367346939, 'classwise_accuracy': {0: array([ 57, 128]), 1: array([13, 56])}, 'DP_ingredients': {'class_pred_count_s0': {2: 15, 1: 9, 0: 20, 5: 12}, 'class_pred_count_s1': {5: 22, 2: 34, 0: 55, 1: 17}, 'class_pred_count': {5: 34, 2: 49, 1: 26, 0: 75}, 'count_s0': 56, 'count_s1': 128, 'count': 184}}\n",
      "[58] Eval metrics for task 2 >> {'accuracy': 0.2137273295809881, 'loss': 0.010005179792642593, 'std': 0.20090681676047528, 'EER': -1, 'EO': [0.029411764705882353, 0.21291208791208793], 'DP': -1, 'accuracy_s0': 0.1346153846153846, 'accuracy_s1': 0.2557773109243697, 'classwise_accuracy': {3: array([ 1, 78]), 2: array([34, 82])}, 'DP_ingredients': {'class_pred_count_s0': {5: 51, 1: 7, 2: 10, 0: 2}, 'class_pred_count_s1': {2: 38, 0: 11, 5: 33, 3: 2, 1: 6}, 'class_pred_count': {5: 84, 2: 48, 0: 13, 1: 13, 3: 2}, 'count_s0': 70, 'count_s1': 90, 'count': 160}}\n",
      "[58] Eval metrics for task 3 >> {'accuracy': 0.45112781954887216, 'loss': 0.0060892443399171575, 'std': 0.45112781954887216, 'EER': -1, 'EO': [0.09167517875383036, 0.0], 'DP': -1, 'accuracy_s0': 0.46629213483146065, 'accuracy_s1': 0.42045454545454547, 'classwise_accuracy': {5: array([120, 133]), 4: array([ 0, 89])}, 'DP_ingredients': {'class_pred_count_s0': {5: 141, 2: 4, 1: 3, 0: 3}, 'class_pred_count_s1': {1: 3, 5: 59, 2: 4, 3: 2, 0: 3}, 'class_pred_count': {5: 200, 1: 6, 2: 8, 3: 2, 0: 6}, 'count_s0': 151, 'count_s1': 71, 'count': 222}}\n",
      "[59] Eval metrics for task 1 >> {'accuracy': 0.3515625, 'loss': 0.009053089048551477, 'std': 0.1015625, 'EER': -1, 'EO': [0.06938775510204082, 0.1076923076923077], 'DP': -1, 'accuracy_s0': 0.35384615384615387, 'accuracy_s1': 0.3346938775510204, 'classwise_accuracy': {0: array([ 58, 128]), 1: array([14, 56])}, 'DP_ingredients': {'class_pred_count_s0': {2: 14, 1: 10, 0: 19, 5: 13}, 'class_pred_count_s1': {5: 22, 0: 56, 2: 33, 1: 17}, 'class_pred_count': {5: 35, 2: 47, 0: 75, 1: 27}, 'count_s0': 56, 'count_s1': 128, 'count': 184}}\n",
      "[59] Eval metrics for task 2 >> {'accuracy': 0.18902439024390244, 'loss': 0.01049511656165123, 'std': 0.18902439024390244, 'EER': -1, 'EO': [0.15934065934065933, 0.0], 'DP': -1, 'accuracy_s0': 0.1346153846153846, 'accuracy_s1': 0.21428571428571427, 'classwise_accuracy': {2: array([31, 82]), 3: array([ 0, 78])}, 'DP_ingredients': {'class_pred_count_s0': {2: 9, 5: 52, 0: 2, 1: 7}, 'class_pred_count_s1': {5: 37, 2: 35, 1: 6, 0: 12}, 'class_pred_count': {5: 89, 2: 44, 0: 14, 1: 13}, 'count_s0': 70, 'count_s1': 90, 'count': 160}}\n",
      "[59] Eval metrics for task 3 >> {'accuracy': 0.45864661654135336, 'loss': 0.005668381312945942, 'std': 0.45864661654135336, 'EER': -1, 'EO': [0.04622063329928494, 0.0], 'DP': -1, 'accuracy_s0': 0.46629213483146065, 'accuracy_s1': 0.4431818181818182, 'classwise_accuracy': {5: array([122, 133]), 4: array([ 0, 89])}, 'DP_ingredients': {'class_pred_count_s0': {5: 141, 2: 4, 0: 3, 1: 3}, 'class_pred_count_s1': {5: 61, 2: 4, 0: 3, 1: 2, 3: 1}, 'class_pred_count': {5: 202, 2: 8, 0: 6, 1: 5, 3: 1}, 'count_s0': 151, 'count_s1': 71, 'count': 222}}\n",
      "[60] Eval metrics for task 1 >> {'accuracy': 0.3515625, 'loss': 0.009035228387169216, 'std': 0.1015625, 'EER': -1, 'EO': [0.1076923076923077, 0.06938775510204082], 'DP': -1, 'accuracy_s0': 0.35384615384615387, 'accuracy_s1': 0.3346938775510204, 'classwise_accuracy': {1: array([14, 56]), 0: array([ 58, 128])}, 'DP_ingredients': {'class_pred_count_s0': {5: 13, 0: 20, 1: 10, 2: 13}, 'class_pred_count_s1': {0: 56, 2: 32, 1: 19, 5: 21}, 'class_pred_count': {5: 34, 0: 76, 1: 29, 2: 45}, 'count_s0': 56, 'count_s1': 128, 'count': 184}}\n",
      "[60] Eval metrics for task 2 >> {'accuracy': 0.17682926829268292, 'loss': 0.010843000560998916, 'std': 0.17682926829268292, 'EER': -1, 'EO': [0.12362637362637363, 0.0], 'DP': -1, 'accuracy_s0': 0.1346153846153846, 'accuracy_s1': 0.19642857142857142, 'classwise_accuracy': {2: array([29, 82]), 3: array([ 0, 78])}, 'DP_ingredients': {'class_pred_count_s0': {5: 52, 1: 7, 0: 2, 2: 9}, 'class_pred_count_s1': {2: 33, 0: 13, 5: 38, 1: 6}, 'class_pred_count': {2: 42, 0: 15, 5: 90, 1: 13}, 'count_s0': 70, 'count_s1': 90, 'count': 160}}\n",
      "[60] Eval metrics for task 3 >> {'accuracy': 0.462406015037594, 'loss': 0.005404175401807905, 'std': 0.462406015037594, 'EER': -1, 'EO': [0.023493360572012234, 0.0], 'DP': -1, 'accuracy_s0': 0.46629213483146065, 'accuracy_s1': 0.45454545454545453, 'classwise_accuracy': {5: array([123, 133]), 4: array([ 0, 89])}, 'DP_ingredients': {'class_pred_count_s0': {5: 141, 1: 3, 2: 4, 0: 3}, 'class_pred_count_s1': {5: 62, 2: 4, 1: 2, 0: 3}, 'class_pred_count': {5: 203, 2: 8, 1: 5, 0: 6}, 'count_s0': 151, 'count_s1': 71, 'count': 222}}\n",
      "[61] Eval metrics for task 1 >> {'accuracy': 0.3671875, 'loss': 0.009008119287698166, 'std': 0.1171875, 'EER': -1, 'EO': [0.1076923076923077, 0.11020408163265305], 'DP': -1, 'accuracy_s0': 0.35384615384615387, 'accuracy_s1': 0.35510204081632657, 'classwise_accuracy': {1: array([14, 56]), 0: array([ 62, 128])}, 'DP_ingredients': {'class_pred_count_s0': {5: 12, 2: 14, 1: 10, 0: 20}, 'class_pred_count_s1': {0: 60, 1: 18, 2: 29, 5: 21}, 'class_pred_count': {0: 80, 1: 28, 5: 33, 2: 43}, 'count_s0': 56, 'count_s1': 128, 'count': 184}}\n",
      "[61] Eval metrics for task 2 >> {'accuracy': 0.17682926829268292, 'loss': 0.011052441596984864, 'std': 0.17682926829268292, 'EER': -1, 'EO': [0.0, 0.12362637362637363], 'DP': -1, 'accuracy_s0': 0.1346153846153846, 'accuracy_s1': 0.19642857142857142, 'classwise_accuracy': {3: array([ 0, 78]), 2: array([29, 82])}, 'DP_ingredients': {'class_pred_count_s0': {5: 52, 1: 7, 2: 9, 0: 2}, 'class_pred_count_s1': {2: 33, 0: 13, 5: 38, 1: 6}, 'class_pred_count': {5: 90, 2: 42, 0: 15, 1: 13}, 'count_s0': 70, 'count_s1': 90, 'count': 160}}\n",
      "[61] Eval metrics for task 3 >> {'accuracy': 0.462406015037594, 'loss': 0.00525559122497971, 'std': 0.462406015037594, 'EER': -1, 'EO': [0.0, 0.023493360572012234], 'DP': -1, 'accuracy_s0': 0.46629213483146065, 'accuracy_s1': 0.45454545454545453, 'classwise_accuracy': {4: array([ 0, 89]), 5: array([123, 133])}, 'DP_ingredients': {'class_pred_count_s0': {5: 141, 2: 4, 0: 3, 1: 3}, 'class_pred_count_s1': {5: 62, 1: 2, 2: 4, 0: 3}, 'class_pred_count': {5: 203, 2: 8, 1: 5, 0: 6}, 'count_s0': 151, 'count_s1': 71, 'count': 222}}\n",
      "[62] Eval metrics for task 1 >> {'accuracy': 0.3671875, 'loss': 0.009004397236782572, 'std': 0.1171875, 'EER': -1, 'EO': [0.11020408163265305, 0.1076923076923077], 'DP': -1, 'accuracy_s0': 0.35384615384615387, 'accuracy_s1': 0.35510204081632657, 'classwise_accuracy': {0: array([ 62, 128]), 1: array([14, 56])}, 'DP_ingredients': {'class_pred_count_s0': {0: 20, 5: 11, 2: 15, 1: 10}, 'class_pred_count_s1': {1: 18, 0: 60, 2: 30, 5: 20}, 'class_pred_count': {1: 28, 0: 80, 5: 31, 2: 45}, 'count_s0': 56, 'count_s1': 128, 'count': 184}}\n",
      "[62] Eval metrics for task 2 >> {'accuracy': 0.18292682926829268, 'loss': 0.011127319186925888, 'std': 0.18292682926829268, 'EER': -1, 'EO': [0.0, 0.14148351648351648], 'DP': -1, 'accuracy_s0': 0.1346153846153846, 'accuracy_s1': 0.20535714285714285, 'classwise_accuracy': {3: array([ 0, 78]), 2: array([30, 82])}, 'DP_ingredients': {'class_pred_count_s0': {5: 52, 1: 7, 2: 9, 0: 2}, 'class_pred_count_s1': {0: 14, 2: 34, 5: 36, 1: 6}, 'class_pred_count': {5: 88, 0: 16, 2: 43, 1: 13}, 'count_s0': 70, 'count_s1': 90, 'count': 160}}\n",
      "[62] Eval metrics for task 3 >> {'accuracy': 0.45864661654135336, 'loss': 0.00519106624362705, 'std': 0.45864661654135336, 'EER': -1, 'EO': [0.0, 0.012257405515832542], 'DP': -1, 'accuracy_s0': 0.4606741573033708, 'accuracy_s1': 0.45454545454545453, 'classwise_accuracy': {4: array([ 0, 89]), 5: array([122, 133])}, 'DP_ingredients': {'class_pred_count_s0': {5: 139, 2: 6, 1: 3, 0: 3}, 'class_pred_count_s1': {5: 62, 2: 4, 1: 2, 0: 3}, 'class_pred_count': {5: 201, 2: 10, 1: 5, 0: 6}, 'count_s0': 151, 'count_s1': 71, 'count': 222}}\n",
      "[63] Eval metrics for task 1 >> {'accuracy': 0.3722098214285714, 'loss': 0.009039212828097136, 'std': 0.10435267857142858, 'EER': -1, 'EO': [0.09999999999999998, 0.07435897435897437], 'DP': -1, 'accuracy_s0': 0.35384615384615387, 'accuracy_s1': 0.3666666666666667, 'classwise_accuracy': {0: array([ 61, 128]), 1: array([15, 56])}, 'DP_ingredients': {'class_pred_count_s0': {2: 16, 5: 10, 0: 20, 1: 10}, 'class_pred_count_s1': {0: 58, 2: 31, 5: 20, 1: 19}, 'class_pred_count': {0: 78, 2: 47, 5: 30, 1: 29}, 'count_s0': 56, 'count_s1': 128, 'count': 184}}\n",
      "[63] Eval metrics for task 2 >> {'accuracy': 0.17682926829268292, 'loss': 0.011147475242614746, 'std': 0.17682926829268292, 'EER': -1, 'EO': [0.0, 0.12362637362637363], 'DP': -1, 'accuracy_s0': 0.1346153846153846, 'accuracy_s1': 0.19642857142857142, 'classwise_accuracy': {3: array([ 0, 78]), 2: array([29, 82])}, 'DP_ingredients': {'class_pred_count_s0': {2: 9, 5: 52, 1: 7, 0: 2}, 'class_pred_count_s1': {2: 34, 0: 15, 5: 35, 1: 6}, 'class_pred_count': {2: 43, 0: 17, 5: 87, 1: 13}, 'count_s0': 70, 'count_s1': 90, 'count': 160}}\n",
      "[63] Eval metrics for task 3 >> {'accuracy': 0.45112781954887216, 'loss': 0.0051521975714881145, 'std': 0.45112781954887216, 'EER': -1, 'EO': [0.0, 0.023748723186925447], 'DP': -1, 'accuracy_s0': 0.4550561797752809, 'accuracy_s1': 0.4431818181818182, 'classwise_accuracy': {4: array([ 0, 89]), 5: array([120, 133])}, 'DP_ingredients': {'class_pred_count_s0': {5: 138, 1: 3, 2: 7, 0: 3}, 'class_pred_count_s1': {0: 3, 5: 61, 2: 4, 3: 1, 1: 2}, 'class_pred_count': {5: 199, 0: 6, 1: 5, 2: 11, 3: 1}, 'count_s0': 151, 'count_s1': 71, 'count': 222}}\n",
      "[64] Eval metrics for task 1 >> {'accuracy': 0.38113839285714285, 'loss': 0.009066284350726915, 'std': 0.09542410714285715, 'EER': -1, 'EO': [0.11282051282051281, 0.09999999999999998], 'DP': -1, 'accuracy_s0': 0.3730769230769231, 'accuracy_s1': 0.3666666666666667, 'classwise_accuracy': {1: array([16, 56]), 0: array([ 61, 128])}, 'DP_ingredients': {'class_pred_count_s0': {1: 11, 0: 19, 2: 16, 5: 10}, 'class_pred_count_s1': {1: 19, 0: 58, 2: 31, 5: 20}, 'class_pred_count': {1: 30, 0: 77, 2: 47, 5: 30}, 'count_s0': 56, 'count_s1': 128, 'count': 184}}\n",
      "[64] Eval metrics for task 2 >> {'accuracy': 0.17073170731707318, 'loss': 0.0111607626080513, 'std': 0.17073170731707318, 'EER': -1, 'EO': [0.10576923076923078, 0.0], 'DP': -1, 'accuracy_s0': 0.1346153846153846, 'accuracy_s1': 0.1875, 'classwise_accuracy': {2: array([28, 82]), 3: array([ 0, 78])}, 'DP_ingredients': {'class_pred_count_s0': {1: 7, 2: 10, 5: 51, 0: 2}, 'class_pred_count_s1': {0: 15, 2: 33, 1: 6, 5: 36}, 'class_pred_count': {1: 13, 2: 43, 5: 87, 0: 17}, 'count_s0': 70, 'count_s1': 90, 'count': 160}}\n",
      "[64] Eval metrics for task 3 >> {'accuracy': 0.44360902255639095, 'loss': 0.005129602041330423, 'std': 0.44360902255639095, 'EER': -1, 'EO': [0.03524004085801835, 0.0], 'DP': -1, 'accuracy_s0': 0.449438202247191, 'accuracy_s1': 0.4318181818181818, 'classwise_accuracy': {5: array([118, 133]), 4: array([ 0, 89])}, 'DP_ingredients': {'class_pred_count_s0': {5: 137, 2: 8, 1: 3, 0: 3}, 'class_pred_count_s1': {5: 59, 2: 6, 0: 3, 3: 1, 1: 2}, 'class_pred_count': {5: 196, 2: 14, 0: 6, 3: 1, 1: 5}, 'count_s0': 151, 'count_s1': 71, 'count': 222}}\n",
      "[65] Eval metrics for task 1 >> {'accuracy': 0.38113839285714285, 'loss': 0.009060531854629517, 'std': 0.09542410714285715, 'EER': -1, 'EO': [0.09999999999999998, 0.11282051282051281], 'DP': -1, 'accuracy_s0': 0.3730769230769231, 'accuracy_s1': 0.3666666666666667, 'classwise_accuracy': {0: array([ 61, 128]), 1: array([16, 56])}, 'DP_ingredients': {'class_pred_count_s0': {2: 15, 0: 20, 1: 11, 5: 10}, 'class_pred_count_s1': {0: 57, 1: 19, 2: 32, 5: 20}, 'class_pred_count': {0: 77, 1: 30, 2: 47, 5: 30}, 'count_s0': 56, 'count_s1': 128, 'count': 184}}\n",
      "[65] Eval metrics for task 2 >> {'accuracy': 0.16463414634146342, 'loss': 0.011199257522821426, 'std': 0.16463414634146342, 'EER': -1, 'EO': [0.0, 0.08791208791208793], 'DP': -1, 'accuracy_s0': 0.1346153846153846, 'accuracy_s1': 0.17857142857142858, 'classwise_accuracy': {3: array([ 0, 78]), 2: array([27, 82])}, 'DP_ingredients': {'class_pred_count_s0': {2: 10, 5: 51, 1: 7, 0: 2}, 'class_pred_count_s1': {2: 32, 5: 36, 0: 16, 1: 6}, 'class_pred_count': {2: 42, 5: 87, 1: 13, 0: 18}, 'count_s0': 70, 'count_s1': 90, 'count': 160}}\n",
      "[65] Eval metrics for task 3 >> {'accuracy': 0.44360902255639095, 'loss': 0.005110265435399236, 'std': 0.44360902255639095, 'EER': -1, 'EO': [0.03524004085801835, 0.0], 'DP': -1, 'accuracy_s0': 0.449438202247191, 'accuracy_s1': 0.4318181818181818, 'classwise_accuracy': {5: array([118, 133]), 4: array([ 0, 89])}, 'DP_ingredients': {'class_pred_count_s0': {5: 137, 2: 8, 1: 3, 0: 3}, 'class_pred_count_s1': {5: 59, 2: 6, 1: 2, 0: 3, 3: 1}, 'class_pred_count': {5: 196, 2: 14, 1: 5, 0: 6, 3: 1}, 'count_s0': 151, 'count_s1': 71, 'count': 222}}\n",
      "[66] Eval metrics for task 1 >> {'accuracy': 0.38113839285714285, 'loss': 0.009014371944510418, 'std': 0.09542410714285715, 'EER': -1, 'EO': [0.09999999999999998, 0.11282051282051281], 'DP': -1, 'accuracy_s0': 0.3730769230769231, 'accuracy_s1': 0.3666666666666667, 'classwise_accuracy': {0: array([ 61, 128]), 1: array([16, 56])}, 'DP_ingredients': {'class_pred_count_s0': {1: 11, 0: 20, 2: 15, 5: 10}, 'class_pred_count_s1': {0: 58, 2: 31, 1: 19, 5: 20}, 'class_pred_count': {0: 78, 1: 30, 2: 46, 5: 30}, 'count_s0': 56, 'count_s1': 128, 'count': 184}}\n",
      "[66] Eval metrics for task 2 >> {'accuracy': 0.15853658536585366, 'loss': 0.01121753230690956, 'std': 0.15853658536585366, 'EER': -1, 'EO': [0.0, 0.12637362637362637], 'DP': -1, 'accuracy_s0': 0.11538461538461539, 'accuracy_s1': 0.17857142857142858, 'classwise_accuracy': {3: array([ 0, 78]), 2: array([26, 82])}, 'DP_ingredients': {'class_pred_count_s0': {5: 49, 2: 11, 1: 8, 0: 2}, 'class_pred_count_s1': {5: 34, 0: 17, 2: 33, 1: 6}, 'class_pred_count': {5: 83, 0: 19, 2: 44, 1: 14}, 'count_s0': 70, 'count_s1': 90, 'count': 160}}\n",
      "[66] Eval metrics for task 3 >> {'accuracy': 0.44360902255639095, 'loss': 0.005111734609346132, 'std': 0.44360902255639095, 'EER': -1, 'EO': [0.03524004085801835, 0.0], 'DP': -1, 'accuracy_s0': 0.449438202247191, 'accuracy_s1': 0.4318181818181818, 'classwise_accuracy': {5: array([118, 133]), 4: array([ 0, 89])}, 'DP_ingredients': {'class_pred_count_s0': {5: 137, 2: 8, 0: 3, 1: 3}, 'class_pred_count_s1': {5: 59, 0: 3, 2: 6, 1: 2, 3: 1}, 'class_pred_count': {5: 196, 2: 14, 0: 6, 1: 5, 3: 1}, 'count_s0': 151, 'count_s1': 71, 'count': 222}}\n",
      "[67] Eval metrics for task 1 >> {'accuracy': 0.38113839285714285, 'loss': 0.009000208714733953, 'std': 0.09542410714285715, 'EER': -1, 'EO': [0.09999999999999998, 0.11282051282051281], 'DP': -1, 'accuracy_s0': 0.3730769230769231, 'accuracy_s1': 0.3666666666666667, 'classwise_accuracy': {0: array([ 61, 128]), 1: array([16, 56])}, 'DP_ingredients': {'class_pred_count_s0': {0: 20, 2: 15, 1: 11, 5: 10}, 'class_pred_count_s1': {0: 57, 2: 32, 5: 20, 1: 19}, 'class_pred_count': {0: 77, 2: 47, 5: 30, 1: 30}, 'count_s0': 56, 'count_s1': 128, 'count': 184}}\n",
      "[67] Eval metrics for task 2 >> {'accuracy': 0.1771419637273296, 'loss': 0.01122504323720932, 'std': 0.16432145090681677, 'EER': -1, 'EO': [0.16208791208791207, 0.029411764705882353], 'DP': -1, 'accuracy_s0': 0.11538461538461539, 'accuracy_s1': 0.2111344537815126, 'classwise_accuracy': {2: array([28, 82]), 3: array([ 1, 78])}, 'DP_ingredients': {'class_pred_count_s0': {1: 8, 5: 49, 2: 11, 0: 2}, 'class_pred_count_s1': {0: 17, 5: 30, 1: 7, 2: 35, 3: 1}, 'class_pred_count': {0: 19, 1: 15, 5: 79, 2: 46, 3: 1}, 'count_s0': 70, 'count_s1': 90, 'count': 160}}\n",
      "[67] Eval metrics for task 3 >> {'accuracy': 0.4398496240601504, 'loss': 0.00511040719779762, 'std': 0.4398496240601504, 'EER': -1, 'EO': [0.05796731358529106, 0.0], 'DP': -1, 'accuracy_s0': 0.449438202247191, 'accuracy_s1': 0.42045454545454547, 'classwise_accuracy': {5: array([117, 133]), 4: array([ 0, 89])}, 'DP_ingredients': {'class_pred_count_s0': {5: 136, 1: 3, 2: 9, 0: 3}, 'class_pred_count_s1': {5: 58, 3: 1, 2: 7, 0: 3, 1: 2}, 'class_pred_count': {5: 194, 1: 5, 2: 16, 3: 1, 0: 6}, 'count_s0': 151, 'count_s1': 71, 'count': 222}}\n",
      "[68] Eval metrics for task 1 >> {'accuracy': 0.3761160714285714, 'loss': 0.00901903924734696, 'std': 0.10825892857142858, 'EER': -1, 'EO': [0.07435897435897437, 0.11020408163265305], 'DP': -1, 'accuracy_s0': 0.35384615384615387, 'accuracy_s1': 0.3717687074829932, 'classwise_accuracy': {1: array([15, 56]), 0: array([ 62, 128])}, 'DP_ingredients': {'class_pred_count_s0': {2: 17, 1: 10, 0: 20, 5: 9}, 'class_pred_count_s1': {0: 58, 2: 31, 1: 19, 5: 20}, 'class_pred_count': {0: 78, 2: 48, 1: 29, 5: 29}, 'count_s0': 56, 'count_s1': 128, 'count': 184}}\n",
      "[68] Eval metrics for task 2 >> {'accuracy': 0.18355222013758601, 'loss': 0.011237876117229461, 'std': 0.15791119449656038, 'EER': -1, 'EO': [0.006684491978609625, 0.16208791208791207], 'DP': -1, 'accuracy_s0': 0.12674825174825174, 'accuracy_s1': 0.2111344537815126, 'classwise_accuracy': {3: array([ 2, 78]), 2: array([28, 82])}, 'DP_ingredients': {'class_pred_count_s0': {5: 49, 2: 10, 1: 8, 3: 1, 0: 2}, 'class_pred_count_s1': {2: 35, 0: 17, 5: 30, 3: 1, 1: 7}, 'class_pred_count': {2: 45, 5: 79, 0: 19, 1: 15, 3: 2}, 'count_s0': 70, 'count_s1': 90, 'count': 160}}\n",
      "[68] Eval metrics for task 3 >> {'accuracy': 0.4473684210526316, 'loss': 0.005100969258729402, 'std': 0.4473684210526316, 'EER': -1, 'EO': [0.046475995914198154, 0.0], 'DP': -1, 'accuracy_s0': 0.4550561797752809, 'accuracy_s1': 0.4318181818181818, 'classwise_accuracy': {5: array([119, 133]), 4: array([ 0, 89])}, 'DP_ingredients': {'class_pred_count_s0': {5: 137, 1: 3, 2: 9, 0: 2}, 'class_pred_count_s1': {5: 59, 0: 3, 2: 6, 1: 2, 3: 1}, 'class_pred_count': {5: 196, 1: 5, 0: 5, 2: 15, 3: 1}, 'count_s0': 151, 'count_s1': 71, 'count': 222}}\n",
      "[69] Eval metrics for task 1 >> {'accuracy': 0.3722098214285714, 'loss': 0.009042702939199366, 'std': 0.10435267857142858, 'EER': -1, 'EO': [0.09999999999999998, 0.07435897435897437], 'DP': -1, 'accuracy_s0': 0.35384615384615387, 'accuracy_s1': 0.3666666666666667, 'classwise_accuracy': {0: array([ 61, 128]), 1: array([15, 56])}, 'DP_ingredients': {'class_pred_count_s0': {0: 20, 2: 17, 5: 9, 1: 10}, 'class_pred_count_s1': {5: 20, 0: 57, 2: 31, 1: 20}, 'class_pred_count': {5: 29, 0: 77, 2: 48, 1: 30}, 'count_s0': 56, 'count_s1': 128, 'count': 184}}\n",
      "[69] Eval metrics for task 2 >> {'accuracy': 0.18355222013758601, 'loss': 0.011280540376901627, 'std': 0.15791119449656038, 'EER': -1, 'EO': [0.006684491978609625, 0.16208791208791207], 'DP': -1, 'accuracy_s0': 0.12674825174825174, 'accuracy_s1': 0.2111344537815126, 'classwise_accuracy': {3: array([ 2, 78]), 2: array([28, 82])}, 'DP_ingredients': {'class_pred_count_s0': {5: 50, 2: 9, 1: 8, 0: 2, 3: 1}, 'class_pred_count_s1': {2: 35, 1: 7, 0: 17, 5: 30, 3: 1}, 'class_pred_count': {5: 80, 2: 44, 1: 15, 0: 19, 3: 2}, 'count_s0': 70, 'count_s1': 90, 'count': 160}}\n",
      "[69] Eval metrics for task 3 >> {'accuracy': 0.4473684210526316, 'loss': 0.005077977975209554, 'std': 0.4473684210526316, 'EER': -1, 'EO': [0.0, 0.046475995914198154], 'DP': -1, 'accuracy_s0': 0.4550561797752809, 'accuracy_s1': 0.4318181818181818, 'classwise_accuracy': {4: array([ 0, 89]), 5: array([119, 133])}, 'DP_ingredients': {'class_pred_count_s0': {5: 137, 1: 3, 2: 9, 0: 2}, 'class_pred_count_s1': {5: 59, 1: 2, 2: 6, 0: 3, 3: 1}, 'class_pred_count': {5: 196, 1: 5, 2: 15, 0: 5, 3: 1}, 'count_s0': 151, 'count_s1': 71, 'count': 222}}\n",
      "[70] Eval metrics for task 1 >> {'accuracy': 0.3722098214285714, 'loss': 0.009022869493650354, 'std': 0.10435267857142858, 'EER': -1, 'EO': [0.09999999999999998, 0.07435897435897437], 'DP': -1, 'accuracy_s0': 0.35384615384615387, 'accuracy_s1': 0.3666666666666667, 'classwise_accuracy': {0: array([ 61, 128]), 1: array([15, 56])}, 'DP_ingredients': {'class_pred_count_s0': {0: 20, 1: 10, 2: 17, 5: 9}, 'class_pred_count_s1': {2: 31, 5: 20, 1: 20, 0: 57}, 'class_pred_count': {2: 48, 0: 77, 5: 29, 1: 30}, 'count_s0': 56, 'count_s1': 128, 'count': 184}}\n",
      "[70] Eval metrics for task 2 >> {'accuracy': 0.17745465916197625, 'loss': 0.011306412518024445, 'std': 0.1518136335209506, 'EER': -1, 'EO': [0.14423076923076922, 0.006684491978609625], 'DP': -1, 'accuracy_s0': 0.12674825174825174, 'accuracy_s1': 0.20220588235294118, 'classwise_accuracy': {2: array([27, 82]), 3: array([ 2, 78])}, 'DP_ingredients': {'class_pred_count_s0': {2: 9, 5: 50, 1: 8, 0: 2, 3: 1}, 'class_pred_count_s1': {2: 34, 5: 30, 1: 7, 0: 18, 3: 1}, 'class_pred_count': {2: 43, 5: 80, 1: 15, 0: 20, 3: 2}, 'count_s0': 70, 'count_s1': 90, 'count': 160}}\n",
      "[70] Eval metrics for task 3 >> {'accuracy': 0.4473684210526316, 'loss': 0.005080471704672049, 'std': 0.4473684210526316, 'EER': -1, 'EO': [0.0, 0.046475995914198154], 'DP': -1, 'accuracy_s0': 0.4550561797752809, 'accuracy_s1': 0.4318181818181818, 'classwise_accuracy': {4: array([ 0, 89]), 5: array([119, 133])}, 'DP_ingredients': {'class_pred_count_s0': {5: 137, 2: 8, 3: 1, 1: 3, 0: 2}, 'class_pred_count_s1': {5: 59, 2: 6, 0: 3, 3: 1, 1: 2}, 'class_pred_count': {5: 196, 2: 14, 3: 2, 1: 5, 0: 5}, 'count_s0': 151, 'count_s1': 71, 'count': 222}}\n",
      "[71] Eval metrics for task 1 >> {'accuracy': 0.3761160714285714, 'loss': 0.009026868187862894, 'std': 0.10825892857142858, 'EER': -1, 'EO': [0.07435897435897437, 0.11020408163265305], 'DP': -1, 'accuracy_s0': 0.35384615384615387, 'accuracy_s1': 0.3717687074829932, 'classwise_accuracy': {1: array([15, 56]), 0: array([ 62, 128])}, 'DP_ingredients': {'class_pred_count_s0': {2: 17, 5: 9, 0: 20, 1: 10}, 'class_pred_count_s1': {1: 19, 2: 31, 0: 58, 5: 20}, 'class_pred_count': {1: 29, 2: 48, 5: 29, 0: 78}, 'count_s0': 56, 'count_s1': 128, 'count': 184}}\n",
      "[71] Eval metrics for task 2 >> {'accuracy': 0.18964978111319575, 'loss': 0.011308073997497559, 'std': 0.1640087554721701, 'EER': -1, 'EO': [0.12362637362637363, 0.006684491978609625], 'DP': -1, 'accuracy_s0': 0.14597902097902096, 'accuracy_s1': 0.2111344537815126, 'classwise_accuracy': {2: array([29, 82]), 3: array([ 2, 78])}, 'DP_ingredients': {'class_pred_count_s0': {5: 47, 1: 8, 2: 12, 0: 2, 3: 1}, 'class_pred_count_s1': {0: 18, 2: 35, 5: 28, 3: 2, 1: 7}, 'class_pred_count': {0: 20, 2: 47, 5: 75, 3: 3, 1: 15}, 'count_s0': 70, 'count_s1': 90, 'count': 160}}\n",
      "[71] Eval metrics for task 3 >> {'accuracy': 0.4473684210526316, 'loss': 0.005078743169973562, 'std': 0.4473684210526316, 'EER': -1, 'EO': [0.046475995914198154, 0.0], 'DP': -1, 'accuracy_s0': 0.4550561797752809, 'accuracy_s1': 0.4318181818181818, 'classwise_accuracy': {5: array([119, 133]), 4: array([ 0, 89])}, 'DP_ingredients': {'class_pred_count_s0': {5: 137, 2: 8, 1: 3, 0: 2, 3: 1}, 'class_pred_count_s1': {1: 2, 2: 6, 5: 59, 3: 1, 0: 3}, 'class_pred_count': {5: 196, 1: 5, 2: 14, 3: 2, 0: 5}, 'count_s0': 151, 'count_s1': 71, 'count': 222}}\n",
      "[72] Eval metrics for task 1 >> {'accuracy': 0.3800223214285714, 'loss': 0.009036421775817871, 'std': 0.11216517857142858, 'EER': -1, 'EO': [0.12040816326530612, 0.07435897435897437], 'DP': -1, 'accuracy_s0': 0.35384615384615387, 'accuracy_s1': 0.37687074829931977, 'classwise_accuracy': {0: array([ 63, 128]), 1: array([15, 56])}, 'DP_ingredients': {'class_pred_count_s0': {0: 20, 1: 10, 2: 17, 5: 9}, 'class_pred_count_s1': {0: 59, 2: 31, 5: 18, 1: 19, 3: 1}, 'class_pred_count': {0: 79, 2: 48, 1: 29, 5: 27, 3: 1}, 'count_s0': 56, 'count_s1': 128, 'count': 184}}\n",
      "[72] Eval metrics for task 2 >> {'accuracy': 0.18964978111319575, 'loss': 0.011314982175827026, 'std': 0.1640087554721701, 'EER': -1, 'EO': [0.006684491978609625, 0.12362637362637363], 'DP': -1, 'accuracy_s0': 0.14597902097902096, 'accuracy_s1': 0.2111344537815126, 'classwise_accuracy': {3: array([ 2, 78]), 2: array([29, 82])}, 'DP_ingredients': {'class_pred_count_s0': {0: 2, 5: 47, 2: 12, 1: 8, 3: 1}, 'class_pred_count_s1': {1: 7, 5: 26, 2: 35, 3: 2, 0: 18, 4: 2}, 'class_pred_count': {1: 15, 0: 20, 5: 73, 2: 47, 3: 3, 4: 2}, 'count_s0': 70, 'count_s1': 90, 'count': 160}}\n",
      "[72] Eval metrics for task 3 >> {'accuracy': 0.4398496240601504, 'loss': 0.0050759879318443505, 'std': 0.4398496240601504, 'EER': -1, 'EO': [0.05796731358529106, 0.0], 'DP': -1, 'accuracy_s0': 0.449438202247191, 'accuracy_s1': 0.42045454545454547, 'classwise_accuracy': {5: array([117, 133]), 4: array([ 0, 89])}, 'DP_ingredients': {'class_pred_count_s0': {5: 135, 2: 9, 0: 2, 1: 3, 3: 2}, 'class_pred_count_s1': {5: 58, 1: 2, 3: 1, 2: 7, 0: 3}, 'class_pred_count': {5: 193, 1: 5, 2: 16, 3: 3, 0: 5}, 'count_s0': 151, 'count_s1': 71, 'count': 222}}\n",
      "[73] Eval metrics for task 1 >> {'accuracy': 0.3761160714285714, 'loss': 0.009050008395443792, 'std': 0.10825892857142858, 'EER': -1, 'EO': [0.11020408163265305, 0.07435897435897437], 'DP': -1, 'accuracy_s0': 0.35384615384615387, 'accuracy_s1': 0.3717687074829932, 'classwise_accuracy': {0: array([ 62, 128]), 1: array([15, 56])}, 'DP_ingredients': {'class_pred_count_s0': {0: 20, 1: 10, 2: 17, 5: 9}, 'class_pred_count_s1': {5: 17, 2: 32, 0: 58, 1: 20, 3: 1}, 'class_pred_count': {0: 78, 1: 30, 5: 26, 2: 49, 3: 1}, 'count_s0': 56, 'count_s1': 128, 'count': 184}}\n",
      "[73] Eval metrics for task 2 >> {'accuracy': 0.18964978111319575, 'loss': 0.01134013906121254, 'std': 0.1640087554721701, 'EER': -1, 'EO': [0.006684491978609625, 0.12362637362637363], 'DP': -1, 'accuracy_s0': 0.14597902097902096, 'accuracy_s1': 0.2111344537815126, 'classwise_accuracy': {3: array([ 2, 78]), 2: array([29, 82])}, 'DP_ingredients': {'class_pred_count_s0': {1: 8, 5: 47, 2: 12, 0: 2, 3: 1}, 'class_pred_count_s1': {5: 26, 2: 35, 1: 7, 4: 2, 3: 2, 0: 18}, 'class_pred_count': {5: 73, 2: 47, 1: 15, 4: 2, 3: 3, 0: 20}, 'count_s0': 70, 'count_s1': 90, 'count': 160}}\n",
      "[73] Eval metrics for task 3 >> {'accuracy': 0.4398496240601504, 'loss': 0.005068774158890183, 'std': 0.4398496240601504, 'EER': -1, 'EO': [0.05796731358529106, 0.0], 'DP': -1, 'accuracy_s0': 0.449438202247191, 'accuracy_s1': 0.42045454545454547, 'classwise_accuracy': {5: array([117, 133]), 4: array([ 0, 89])}, 'DP_ingredients': {'class_pred_count_s0': {5: 135, 1: 3, 3: 2, 2: 9, 0: 2}, 'class_pred_count_s1': {5: 58, 2: 7, 3: 1, 0: 3, 1: 2}, 'class_pred_count': {5: 193, 1: 5, 2: 16, 3: 3, 0: 5}, 'count_s0': 151, 'count_s1': 71, 'count': 222}}\n",
      "[74] Eval metrics for task 1 >> {'accuracy': 0.3761160714285714, 'loss': 0.00906509096207826, 'std': 0.10825892857142858, 'EER': -1, 'EO': [0.11020408163265305, 0.07435897435897437], 'DP': -1, 'accuracy_s0': 0.35384615384615387, 'accuracy_s1': 0.3717687074829932, 'classwise_accuracy': {0: array([ 62, 128]), 1: array([15, 56])}, 'DP_ingredients': {'class_pred_count_s0': {0: 20, 1: 10, 2: 17, 5: 9}, 'class_pred_count_s1': {0: 58, 2: 31, 5: 18, 1: 20, 3: 1}, 'class_pred_count': {0: 78, 2: 48, 5: 27, 1: 30, 3: 1}, 'count_s0': 56, 'count_s1': 128, 'count': 184}}\n",
      "[74] Eval metrics for task 2 >> {'accuracy': 0.18964978111319575, 'loss': 0.011379315704107284, 'std': 0.1640087554721701, 'EER': -1, 'EO': [0.12362637362637363, 0.006684491978609625], 'DP': -1, 'accuracy_s0': 0.14597902097902096, 'accuracy_s1': 0.2111344537815126, 'classwise_accuracy': {2: array([29, 82]), 3: array([ 2, 78])}, 'DP_ingredients': {'class_pred_count_s0': {5: 47, 2: 12, 1: 8, 0: 2, 3: 1}, 'class_pred_count_s1': {2: 35, 3: 3, 4: 1, 0: 18, 1: 7, 5: 26}, 'class_pred_count': {2: 47, 5: 73, 3: 4, 4: 1, 0: 20, 1: 15}, 'count_s0': 70, 'count_s1': 90, 'count': 160}}\n",
      "[74] Eval metrics for task 3 >> {'accuracy': 0.44360902255639095, 'loss': 0.0050560681669561715, 'std': 0.44360902255639095, 'EER': -1, 'EO': [0.0, 0.06920326864147086], 'DP': -1, 'accuracy_s0': 0.4550561797752809, 'accuracy_s1': 0.42045454545454547, 'classwise_accuracy': {4: array([ 0, 89]), 5: array([118, 133])}, 'DP_ingredients': {'class_pred_count_s0': {5: 136, 0: 2, 3: 1, 1: 3, 2: 9}, 'class_pred_count_s1': {2: 7, 5: 58, 0: 2, 1: 3, 3: 1}, 'class_pred_count': {5: 194, 2: 16, 0: 4, 3: 2, 1: 6}, 'count_s0': 151, 'count_s1': 71, 'count': 222}}\n",
      "[75] Eval metrics for task 1 >> {'accuracy': 0.3761160714285714, 'loss': 0.009052276611328125, 'std': 0.10825892857142858, 'EER': -1, 'EO': [0.11020408163265305, 0.07435897435897437], 'DP': -1, 'accuracy_s0': 0.35384615384615387, 'accuracy_s1': 0.3717687074829932, 'classwise_accuracy': {0: array([ 62, 128]), 1: array([15, 56])}, 'DP_ingredients': {'class_pred_count_s0': {2: 17, 5: 9, 1: 10, 0: 20}, 'class_pred_count_s1': {0: 58, 2: 32, 1: 20, 5: 17, 3: 1}, 'class_pred_count': {0: 78, 2: 49, 1: 30, 5: 26, 3: 1}, 'count_s0': 56, 'count_s1': 128, 'count': 184}}\n",
      "[75] Eval metrics for task 2 >> {'accuracy': 0.18964978111319575, 'loss': 0.011405283212661743, 'std': 0.1640087554721701, 'EER': -1, 'EO': [0.006684491978609625, 0.12362637362637363], 'DP': -1, 'accuracy_s0': 0.14597902097902096, 'accuracy_s1': 0.2111344537815126, 'classwise_accuracy': {3: array([ 2, 78]), 2: array([29, 82])}, 'DP_ingredients': {'class_pred_count_s0': {5: 47, 1: 8, 2: 12, 0: 2, 3: 1}, 'class_pred_count_s1': {5: 26, 0: 18, 2: 35, 1: 7, 3: 3, 4: 1}, 'class_pred_count': {5: 73, 0: 20, 2: 47, 1: 15, 3: 4, 4: 1}, 'count_s0': 70, 'count_s1': 90, 'count': 160}}\n",
      "[75] Eval metrics for task 3 >> {'accuracy': 0.44360902255639095, 'loss': 0.005054675243996285, 'std': 0.44360902255639095, 'EER': -1, 'EO': [0.0, 0.06920326864147086], 'DP': -1, 'accuracy_s0': 0.4550561797752809, 'accuracy_s1': 0.42045454545454547, 'classwise_accuracy': {4: array([ 0, 89]), 5: array([118, 133])}, 'DP_ingredients': {'class_pred_count_s0': {2: 9, 5: 136, 3: 1, 0: 2, 1: 3}, 'class_pred_count_s1': {5: 58, 2: 7, 0: 2, 1: 3, 3: 1}, 'class_pred_count': {2: 16, 5: 194, 0: 4, 3: 2, 1: 6}, 'count_s0': 151, 'count_s1': 71, 'count': 222}}\n",
      "training_task_end\n",
      "mean_old/mean_new=1.3212469919131455\n",
      "final avg-acc 0.33645829169938607\n",
      "final avg-forget 0.18959725805190744\n"
     ]
    }
   ],
   "source": [
    "trainer.run()\n",
    "print(\"final avg-acc\", metric_manager_callback.meters['accuracy'].compute_final())\n",
    "print(\"final avg-forget\", metric_manager_callback.meters['forgetting'].compute_final())"
   ]
  },
  {
   "cell_type": "code",
   "execution_count": 6,
   "id": "beaf952b",
   "metadata": {},
   "outputs": [
    {
     "data": {
      "text/plain": [
       "array([[0.544, 0.   , 0.   ],\n",
       "       [0.424, 0.401, 0.   ],\n",
       "       [0.376, 0.19 , 0.444]])"
      ]
     },
     "execution_count": 6,
     "metadata": {},
     "output_type": "execute_result"
    }
   ],
   "source": [
    "metric_manager_callback.meters['accuracy'].get_data()"
   ]
  },
  {
   "cell_type": "code",
   "execution_count": 7,
   "id": "26972f73",
   "metadata": {},
   "outputs": [
    {
     "data": {
      "text/plain": [
       "0.4310114860550114"
      ]
     },
     "execution_count": 7,
     "metadata": {},
     "output_type": "execute_result"
    }
   ],
   "source": [
    "np.mean(metric_manager_callback.meters['accuracy'].compute_overall())"
   ]
  },
  {
   "cell_type": "code",
   "execution_count": 8,
   "id": "e950fb61",
   "metadata": {},
   "outputs": [
    {
     "data": {
      "text/plain": [
       "[0.054, 0.13, 0.064]"
      ]
     },
     "execution_count": 8,
     "metadata": {},
     "output_type": "execute_result"
    }
   ],
   "source": [
    "[np.round(x, 3) for x in metric_manager_callback.meters['EO'].compute_overall()]"
   ]
  },
  {
   "cell_type": "code",
   "execution_count": 9,
   "id": "2ebfb58a",
   "metadata": {},
   "outputs": [
    {
     "data": {
      "text/plain": [
       "0.08265500411072123"
      ]
     },
     "execution_count": 9,
     "metadata": {},
     "output_type": "execute_result"
    }
   ],
   "source": [
    "np.mean(metric_manager_callback.meters['EO'].compute_overall())"
   ]
  },
  {
   "cell_type": "code",
   "execution_count": 10,
   "id": "06af72df",
   "metadata": {},
   "outputs": [
    {
     "data": {
      "text/plain": [
       "[0.031, 0.065, 0.057]"
      ]
     },
     "execution_count": 10,
     "metadata": {},
     "output_type": "execute_result"
    }
   ],
   "source": [
    "[np.round(x, 3) for x in metric_manager_callback.meters['DP'].compute_overall()]"
   ]
  },
  {
   "cell_type": "code",
   "execution_count": 11,
   "id": "7039ed8b",
   "metadata": {},
   "outputs": [
    {
     "data": {
      "text/plain": [
       "0.0511219076807455"
      ]
     },
     "execution_count": 11,
     "metadata": {},
     "output_type": "execute_result"
    }
   ],
   "source": [
    "np.mean(metric_manager_callback.meters['DP'].compute_overall())"
   ]
  },
  {
   "cell_type": "code",
   "execution_count": null,
   "id": "2b848e47",
   "metadata": {},
   "outputs": [],
   "source": []
  }
 ],
 "metadata": {
  "kernelspec": {
   "display_name": "cil",
   "language": "python",
   "name": "python3"
  },
  "language_info": {
   "codemirror_mode": {
    "name": "ipython",
    "version": 3
   },
   "file_extension": ".py",
   "mimetype": "text/x-python",
   "name": "python",
   "nbconvert_exporter": "python",
   "pygments_lexer": "ipython3",
   "version": "3.9.18"
  }
 },
 "nbformat": 4,
 "nbformat_minor": 5
}
