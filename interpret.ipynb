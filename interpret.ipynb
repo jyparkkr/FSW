{
 "cells": [
  {
   "cell_type": "code",
   "execution_count": 1,
   "metadata": {},
   "outputs": [],
   "source": [
    "import torch\n",
    "import numpy as np\n",
    "\n",
    "import random\n",
    "import copy\n",
    "import os\n",
    "import pickle\n",
    "\n",
    "import cl_gym as cl\n",
    "from metrics import MetricCollector2, FairMetricCollector\n",
    "from configs import make_params\n",
    "\n",
    "std_datasets = [\"MNIST\", \"FashionMNIST\", \"CIFAR10\", \"CIFAR100\"]"
   ]
  },
  {
   "cell_type": "code",
   "execution_count": 14,
   "metadata": {},
   "outputs": [],
   "source": [
    "def load(dataset, seed, epoch, lr, tau, alpha, lmbd, joint=False, finetune=False, verbose=0):\n",
    "    log_dir = f\"scripts_output/dataset={dataset}\"\n",
    "    target_dir = f\"seed={seed}_epoch={epoch}_lr={lr}\"\n",
    "    if joint:\n",
    "        log_dir = os.path.join(log_dir, \"joint\")\n",
    "    elif finetune:\n",
    "        log_dir = os.path.join(log_dir, \"finetune\")\n",
    "    else:\n",
    "        target_dir+=f\"_tau={tau}_alpha={alpha}\"\n",
    "        if alpha != 0 and dataset not in std_datasets:\n",
    "            target_dir+=f\"_lmbd={lmbd}_lmbdold={0.0}\"\n",
    "\n",
    "    if not target_dir in os.listdir(log_dir):\n",
    "        for dir in os.listdir(log_dir):\n",
    "            if target_dir in dir:\n",
    "                target_dir = dir\n",
    "                break\n",
    "\n",
    "    # print(f\"{target_dir=}\")\n",
    "    log_dir = os.path.join(log_dir, target_dir)\n",
    "    # print(f\"{log_dir=}\")\n",
    "    out = os.path.join(log_dir, \"log.out\")\n",
    "    err = os.path.join(log_dir, \"log.err\")\n",
    "    if os.path.exists(err):\n",
    "        with open(err, \"r\") as f:\n",
    "            lines = f.readlines()\n",
    "        if len(lines):\n",
    "            if verbose:\n",
    "                print(f\"Error in {target_dir} - error during running\")\n",
    "                for line in lines:\n",
    "                    print(line)\n",
    "            return False\n",
    "    else:\n",
    "        if verbose:\n",
    "            print(f\"error in {target_dir} - not exists\")\n",
    "        return False\n",
    "    return target_dir\n",
    "\n",
    "def check_running(dataset, target_dir, joint=False, finetune=False):\n",
    "    log_dir = f\"scripts_output/dataset={dataset}\"\n",
    "    if joint:\n",
    "        log_dir = os.path.join(log_dir, \"joint\")\n",
    "    elif finetune:\n",
    "        log_dir = os.path.join(log_dir, \"finetune\")\n",
    "    log_dir = os.path.join(log_dir, target_dir)        \n",
    "    out = os.path.join(log_dir, \"log.out\")\n",
    "    if os.path.exists(out):\n",
    "        with open(out, \"r\") as f:\n",
    "            lines = f.readlines()\n",
    "    if len(lines) == 0:\n",
    "        return True\n",
    "    else:\n",
    "        return False\n",
    "\n",
    "\n",
    "def load_log(dataset, target_dir, joint=False, finetune=False):\n",
    "    log_dir = f\"scripts_output/dataset={dataset}\"\n",
    "    if joint:\n",
    "        log_dir = os.path.join(log_dir, \"joint\")\n",
    "    elif finetune:\n",
    "        log_dir = os.path.join(log_dir, \"finetune\")\n",
    "    log_dir = os.path.join(log_dir, target_dir)      \n",
    "    # print(f\"load_log_log_{log_dir=}\")  \n",
    "    out = os.path.join(log_dir, \"log.out\")\n",
    "    acc, fairness = 0, 0\n",
    "    if os.path.exists(out):\n",
    "        with open(out, \"r\") as f:\n",
    "            lines = f.readlines()\n",
    "        if \"accuracy\" in lines[-2]:\n",
    "            acc = float(lines[-2].strip().split(\":\")[-1])\n",
    "        elif \"accuracy\" in lines[-3]:\n",
    "            acc = float(lines[-3].strip().split(\":\")[-1])\n",
    "        if \"fairness\" in lines[-1]:\n",
    "            fairness = float(lines[-1].strip().split(\":\")[-1])\n",
    "        elif \"fairness\" in lines[-2]:\n",
    "            fairness = float(lines[-2].strip().split(\":\")[-1])\n",
    "    else:\n",
    "        print(f\"{out=} not exists\")\n",
    "    if acc * fairness == 0:\n",
    "        print(f\"{out=} : wrong output\")\n",
    "    return acc, fairness\n",
    "\n",
    "def load_metrics(dataset, target_dir, joint=False, finetune=False, validation=False):\n",
    "    metrics_dir = f\"outputs/dataset={dataset}\"\n",
    "    if joint:\n",
    "        metrics_dir = os.path.join(metrics_dir, \"joint\")\n",
    "    elif finetune:\n",
    "        metrics_dir = os.path.join(metrics_dir, \"finetune\")\n",
    "\n",
    "    metrics_dir = os.path.join(metrics_dir, target_dir)\n",
    "    if not os.path.exists(metrics_dir):\n",
    "        metrics_dir = metrics_dir.replace(\"lmbd=\", \"lmbd_\")\n",
    "        metrics_dir = metrics_dir.replace(\"lmbdold=\", \"lmbdold_\")\n",
    "    out = os.path.join(metrics_dir, \"plots/output.txt\")\n",
    "\n",
    "    if validation:\n",
    "        if os.path.exists(out):\n",
    "            with open(out, \"r\") as f:\n",
    "                lines = f.readlines()\n",
    "            for i, line in enumerate(lines):\n",
    "                if i == 0:\n",
    "                    continue\n",
    "                if \"acc\" in line:\n",
    "                    acc = float(lines[i+1].strip())\n",
    "        else:\n",
    "            print(f\"{out=} not exists\")\n",
    "        if acc != load_log(dataset, target_dir, joint=joint, finetune=finetune)[0]:\n",
    "            print(acc)\n",
    "            print(load_log(dataset, target_dir, joint=joint, finetune=finetune)[0])\n",
    "            raise ValueError\n",
    "    \n",
    "    metrics_dir = os.path.join(metrics_dir, \"metrics/metrics.pickle\")\n",
    "    with open(metrics_dir, \"rb\") as f:\n",
    "        metric_manager_callback = pickle.load(f)\n",
    "    return metric_manager_callback"
   ]
  },
  {
   "cell_type": "code",
   "execution_count": 13,
   "metadata": {},
   "outputs": [],
   "source": [
    "def get_best(dataset, seed_range, epoch, lr_range, tau_range, alpha_range, lambda_range, \\\n",
    "             joint=False, finetune = False, verbose=0):\n",
    "    acc_list = list()\n",
    "    fair_list = list()\n",
    "    info_list = list()\n",
    "    fair_metric = \"multiclass_eo\"\n",
    "    if dataset in std_datasets:\n",
    "        lambda_range = [0]\n",
    "        fair_metric = \"std\"\n",
    "    # MNIST\n",
    "    for tau in tau_range:\n",
    "        for lr in lr_range:\n",
    "            for alpha in alpha_range:\n",
    "                for lmbd in lambda_range:\n",
    "                    cnt = 0\n",
    "                    acc_sum = 0\n",
    "                    fair_sum = 0\n",
    "                    info = f\"tau={tau}/lr_{lr}/alpha_{alpha}\"\n",
    "                    # print(f\"{info=}\")\n",
    "                    avail_seed = copy.deepcopy(seed_range)\n",
    "                    for seed in seed_range:\n",
    "                        target_dir = load(dataset, seed, epoch, lr, tau, alpha, lmbd, joint=joint, finetune=finetune)\n",
    "                        # print(f\"{target_dir=}\")\n",
    "                        if not target_dir or check_running(dataset, target_dir, joint=joint, finetune=finetune):\n",
    "                            avail_seed.remove(seed)\n",
    "                            # print(seed)\n",
    "                            # print(target_dir)\n",
    "                            continue\n",
    "                        acc, fair = load_log(dataset, target_dir, joint=joint, finetune=finetune)\n",
    "                        if acc*fair == 0:\n",
    "                            avail_seed.remove(seed)\n",
    "                            # print(seed)\n",
    "                            # print(target_dir)\n",
    "                            continue\n",
    "                        mmc = load_metrics(dataset, target_dir, joint=joint, finetune=finetune)\n",
    "                        \n",
    "                        acc = np.mean(mmc.meters['accuracy'].compute_overall())\n",
    "                        fair = np.mean(mmc.meters[fair_metric].compute_overall())\n",
    "                        acc_sum+=acc\n",
    "                        fair_sum+=fair\n",
    "                        cnt+=1\n",
    "                    info = f\"tau={tau}/lr_{lr}/alpha_{alpha}({cnt=}, {avail_seed})\"\n",
    "                    if cnt == 0:\n",
    "                        print(f\"{info=}: check if boom?\")\n",
    "                        continue\n",
    "\n",
    "                    info_list.append(info)\n",
    "                    acc_list.append(acc_sum/cnt)\n",
    "                    fair_list.append(fair_sum/cnt)\n",
    "                    out = f\"{info}\\n{acc_sum/cnt}\\n{fair_sum/cnt}\"\n",
    "                    if verbose:\n",
    "                        print(out)\n",
    "    if verbose:\n",
    "        print()\n",
    "    \n",
    "    integrated_score = [e - 2*fair_list[i] for i, e in enumerate(acc_list)]\n",
    "    idx = integrated_score.index(max(integrated_score))\n",
    "    print(f\"{info_list[idx]}\")\n",
    "    accuracy = acc_list[idx]\n",
    "    fairness = fair_list[idx]\n",
    "\n",
    "    if accuracy > 1:\n",
    "        accuracy /= 100\n",
    "    print(f\"acc:{accuracy}\")\n",
    "    print(f\"fair:{fairness}\")\n",
    "    return info_list, acc_list, fair_list\n"
   ]
  },
  {
   "cell_type": "code",
   "execution_count": null,
   "metadata": {},
   "outputs": [],
   "source": []
  },
  {
   "cell_type": "code",
   "execution_count": 4,
   "metadata": {},
   "outputs": [],
   "source": [
    "import matplotlib.pyplot as plt\n",
    "\n",
    "def plot(acc_list, fair_list, marker = \"o\"):\n",
    "    plt.scatter(acc_list, fair_list, marker=marker, s = 10)\n",
    "    plt.xlabel('acc')\n",
    "    plt.ylabel('fairness')"
   ]
  },
  {
   "cell_type": "code",
   "execution_count": 25,
   "metadata": {},
   "outputs": [],
   "source": [
    "def display(dataset, epoch, size = 20):\n",
    "    print(\"joint\")\n",
    "    tau_range = [0.0]\n",
    "    # lr_range = [0.01, 0.001]\n",
    "    lr_range = [0.01]\n",
    "    alpha_range = [0.0]\n",
    "    lambda_range = [0.0]\n",
    "    seed_range = [0, 1, 2, 3, 4]\n",
    "\n",
    "    joint_info_list, joint_acc_list, joint_fair_list = get_best(dataset, seed_range, epoch, lr_range, tau_range, alpha_range, lambda_range, joint=True)\n",
    "    plt.scatter(joint_acc_list, joint_fair_list, marker='o', s = size)\n",
    "\n",
    "    print(\"finetune\")\n",
    "    tau_range = [0.0]\n",
    "    alpha_range = [0.0]\n",
    "    lambda_range = [0.0]\n",
    "    seed_range = [0, 1, 2, 3, 4]\n",
    "    finetune_info_list, finetune_acc_list, finetune_fair_list = get_best(dataset, seed_range, epoch, lr_range, tau_range, alpha_range, lambda_range, finetune=True)\n",
    "    # plt.scatter(finetune_acc_list, finetune_fair_list, marker='x', s = size)\n",
    "\n",
    "\n",
    "    print(\"baseline\")\n",
    "    tau_range = [1.0, 5.0, 10.0]\n",
    "    alpha_range = [0.0]\n",
    "    lambda_range = [1.0, 5.0, 10.0]\n",
    "    seed_range = [0, 1, 2, 3, 4]\n",
    "\n",
    "    base_info_list, base_acc_list, base_fair_list = get_best(dataset, seed_range, epoch, lr_range, tau_range, alpha_range, lambda_range)\n",
    "    plt.scatter(base_acc_list, base_fair_list, marker='v', s = size)\n",
    "\n",
    "    print(\"FSS\")\n",
    "    tau_range = [1.0, 5.0, 10.0]\n",
    "    alpha_range = [0.0005, 0.001, 0.002, 0.005, 0.01, 0.02]\n",
    "    lambda_range = [1.0, 5.0, 10.0]\n",
    "    seed_range = [0, 1, 2, 3, 4]\n",
    "\n",
    "    fss_info_list, fss_acc_list, fss_fair_list = get_best(dataset, seed_range, epoch, lr_range, tau_range, alpha_range, lambda_range)\n",
    "    for i, e in enumerate(fss_info_list):\n",
    "        print(e, fss_acc_list[i], fss_fair_list[i])\n",
    "    plt.scatter(fss_acc_list, fss_fair_list, marker='x', s = size)\n",
    "\n",
    "    target_baseline = [e - 2*base_fair_list[i] for i, e in enumerate(base_acc_list)]\n",
    "    idx = target_baseline.index(max(target_baseline))\n",
    "    base_fair_max = base_fair_list[idx]\n",
    "    base_acc_min = base_acc_list[idx]\n",
    "    plt.xlim([base_acc_min-5, 100])\n",
    "    if dataset != \"BiasedMNIST\":\n",
    "        plt.ylim([0, base_fair_max+5])\n",
    "    else:\n",
    "        plt.ylim([0, base_fair_max+0.15])\n",
    "\n",
    "    plt.xlabel('acc')\n",
    "    if dataset in std_datasets:\n",
    "        plt.ylabel('std')\n",
    "    else:\n",
    "        plt.ylabel('eo')"
   ]
  },
  {
   "cell_type": "code",
   "execution_count": 27,
   "metadata": {},
   "outputs": [
    {
     "name": "stdout",
     "output_type": "stream",
     "text": [
      "joint\n",
      "tau=0.0/lr_0.01/alpha_0.0(cnt=5, [0, 1, 2, 3, 4])\n",
      "acc:0.9983304863795738\n",
      "fair:0.14933021666816648\n",
      "finetune\n",
      "tau=0.0/lr_0.01/alpha_0.0(cnt=5, [0, 1, 2, 3, 4])\n",
      "acc:0.4523180688926259\n",
      "fair:35.568904520630575\n",
      "baseline\n",
      "tau=1.0/lr_0.01/alpha_0.0(cnt=5, [0, 1, 2, 3, 4])\n",
      "acc:0.8698767352907629\n",
      "fair:11.228693063690304\n",
      "FSS\n",
      "tau=5.0/lr_0.01/alpha_0.02(cnt=5, [0, 1, 2, 3, 4])\n",
      "acc:0.905857934936087\n",
      "fair:4.273835567191297\n",
      "tau=1.0/lr_0.01/alpha_0.0005(cnt=5, [0, 1, 2, 3, 4]) 89.61659087143985 7.457126979317957\n",
      "tau=1.0/lr_0.01/alpha_0.001(cnt=5, [0, 1, 2, 3, 4]) 89.61659087143985 7.457126979317957\n",
      "tau=1.0/lr_0.01/alpha_0.002(cnt=5, [0, 1, 2, 3, 4]) 89.88545281417899 7.11955603833276\n",
      "tau=1.0/lr_0.01/alpha_0.005(cnt=5, [0, 1, 2, 3, 4]) 90.00558687569323 6.813806383550523\n",
      "tau=1.0/lr_0.01/alpha_0.01(cnt=5, [0, 1, 2, 3, 4]) 90.80027754937946 5.047120819043936\n",
      "tau=1.0/lr_0.01/alpha_0.02(cnt=5, [0, 1, 2, 3, 4]) 89.8982939407789 4.438975915017279\n",
      "tau=5.0/lr_0.01/alpha_0.0005(cnt=5, [0, 1, 2, 3, 4]) 88.90426563866524 7.9756997330284936\n",
      "tau=5.0/lr_0.01/alpha_0.001(cnt=5, [0, 1, 2, 3, 4]) 88.90426563866524 7.9756997330284936\n",
      "tau=5.0/lr_0.01/alpha_0.002(cnt=5, [0, 1, 2, 3, 4]) 88.76381593599857 8.06651082827179\n",
      "tau=5.0/lr_0.01/alpha_0.005(cnt=5, [0, 1, 2, 3, 4]) 89.61039910218706 6.850058464149948\n",
      "tau=5.0/lr_0.01/alpha_0.01(cnt=5, [0, 1, 2, 3, 4]) 90.40697526568205 5.674653908594596\n",
      "tau=5.0/lr_0.01/alpha_0.02(cnt=5, [0, 1, 2, 3, 4]) 90.5857934936087 4.273835567191297\n",
      "tau=10.0/lr_0.01/alpha_0.0005(cnt=5, [0, 1, 2, 3, 4]) 88.81378052125872 8.114807267567864\n",
      "tau=10.0/lr_0.01/alpha_0.001(cnt=5, [0, 1, 2, 3, 4]) 88.81378052125872 8.114807267567864\n",
      "tau=10.0/lr_0.01/alpha_0.002(cnt=5, [0, 1, 2, 3, 4]) 88.83611412463954 8.096159465223577\n",
      "tau=10.0/lr_0.01/alpha_0.005(cnt=5, [0, 1, 2, 3, 4]) 89.07241394069588 7.108413717883721\n",
      "tau=10.0/lr_0.01/alpha_0.01(cnt=5, [0, 1, 2, 3, 4]) 90.12415486614952 5.8844163762592006\n",
      "tau=10.0/lr_0.01/alpha_0.02(cnt=5, [0, 1, 2, 3, 4]) 90.59936076769365 4.613159237103755\n"
     ]
    },
    {
     "data": {
      "image/png": "[encoded data removed]",
      "text/plain": [
       "<Figure size 640x480 with 1 Axes>"
      ]
     },
     "metadata": {},
     "output_type": "display_data"
    }
   ],
   "source": [
    "dataset = \"MNIST\"\n",
    "epoch = 1\n",
    "display(dataset, epoch)"
   ]
  },
  {
   "cell_type": "code",
   "execution_count": 21,
   "metadata": {},
   "outputs": [
    {
     "data": {
      "text/plain": [
       "'MNIST'"
      ]
     },
     "metadata": {},
     "output_type": "display_data"
    },
    {
     "data": {
      "text/plain": [
       "5"
      ]
     },
     "metadata": {},
     "output_type": "display_data"
    }
   ],
   "source": [
    "dataset = \"MNIST\"\n",
    "epoch = 5\n",
    "display(dataset, epoch)"
   ]
  },
  {
   "cell_type": "code",
   "execution_count": 22,
   "metadata": {},
   "outputs": [
    {
     "data": {
      "text/plain": [
       "'MNIST'"
      ]
     },
     "metadata": {},
     "output_type": "display_data"
    },
    {
     "data": {
      "text/plain": [
       "15"
      ]
     },
     "metadata": {},
     "output_type": "display_data"
    }
   ],
   "source": [
    "dataset = \"MNIST\"\n",
    "epoch = 15\n",
    "display(dataset, epoch)"
   ]
  },
  {
   "cell_type": "code",
   "execution_count": null,
   "metadata": {},
   "outputs": [],
   "source": []
  },
  {
   "cell_type": "code",
   "execution_count": 28,
   "metadata": {},
   "outputs": [
    {
     "name": "stdout",
     "output_type": "stream",
     "text": [
      "gss\n",
      "tau=10.0/lr_0.001/alpha_0.0(cnt=3, [0, 1, 2])\n",
      "acc:0.8997930219411\n",
      "fair:8.992843276014758\n"
     ]
    },
    {
     "data": {
      "text/plain": [
       "<matplotlib.collections.PathCollection at 0x7f9f8cec6a90>"
      ]
     },
     "execution_count": 28,
     "metadata": {},
     "output_type": "execute_result"
    },
    {
     "data": {
      "image/png": "[encoded data removed]",
      "text/plain": [
       "<Figure size 640x480 with 1 Axes>"
      ]
     },
     "metadata": {},
     "output_type": "display_data"
    }
   ],
   "source": [
    "print(\"gss\")\n",
    "dataset = \"MNIST\"\n",
    "epoch = 1\n",
    "tau_range = [1.0, 5.0, 10.0]\n",
    "alpha_range = [0.0]\n",
    "lr_range = [0.01, 0.001]\n",
    "lambda_range = [0.0]\n",
    "seed_range = [0, 1, 2]\n",
    "\n",
    "base_info_list, base_acc_list, base_fair_list = get_best(dataset, seed_range, epoch, lr_range, tau_range, alpha_range, lambda_range)\n",
    "plt.scatter(base_acc_list, base_fair_list, marker='v', s = 10)\n"
   ]
  },
  {
   "cell_type": "code",
   "execution_count": null,
   "metadata": {},
   "outputs": [],
   "source": []
  },
  {
   "cell_type": "code",
   "execution_count": 47,
   "metadata": {},
   "outputs": [
    {
     "name": "stdout",
     "output_type": "stream",
     "text": [
      "info='tau=10.0/lr_0.01/alpha_0.0005(cnt=0, [])': check if boom?\n",
      "tau=10.0/lr_0.001/alpha_0.0005(cnt=5, [0, 1, 2, 3, 4])\n",
      "acc:90.88502809963326\n",
      "fair:0.11815474016805165\n"
     ]
    },
    {
     "data": {
      "image/png": "[encoded data removed]",
      "text/plain": [
       "<Figure size 640x480 with 1 Axes>"
      ]
     },
     "metadata": {},
     "output_type": "display_data"
    }
   ],
   "source": [
    "tau_range = [1.0, 5.0, 10.0]\n",
    "lr_range = [0.01, 0.001]\n",
    "alpha_range = [0.0005, 0.001, 0.002, 0.005, 0.01, 0.02]\n",
    "lambda_range = [1.0, 5.0, 10.0]\n",
    "seed_range = [0, 1, 2, 3, 4]\n",
    "\n",
    "\n",
    "info_list, acc_list, fair_list = get_best(dataset, seed_range, epoch, lr_range, tau_range, alpha_range, lambda_range)\n",
    "plot(acc_list, fair_list)"
   ]
  },
  {
   "cell_type": "code",
   "execution_count": 13,
   "metadata": {},
   "outputs": [
    {
     "name": "stdout",
     "output_type": "stream",
     "text": [
      "tau=10.0/lr_0.001/alpha_0.0(cnt=5, [0, 1, 2, 3, 4])\n",
      "acc:92.12401062137107\n",
      "fair:1.8570647306931811\n"
     ]
    },
    {
     "data": {
      "image/png": "[encoded data removed]",
      "text/plain": [
       "<Figure size 640x480 with 1 Axes>"
      ]
     },
     "metadata": {},
     "output_type": "display_data"
    }
   ],
   "source": [
    "tau_range = [1.0, 5.0, 10.0]\n",
    "lr_range = [0.01, 0.001]\n",
    "alpha_range = [0.0]\n",
    "lambda_range = [1.0, 5.0, 10.0]\n",
    "seed_range = [0, 1, 2, 3, 4]\n",
    "\n",
    "info_list, acc_list, fair_list = get_best(dataset, seed_range, epoch, lr_range, tau_range, alpha_range, lambda_range)\n",
    "plot(acc_list, fair_list)"
   ]
  },
  {
   "cell_type": "code",
   "execution_count": 14,
   "metadata": {},
   "outputs": [
    {
     "name": "stdout",
     "output_type": "stream",
     "text": [
      "tau=0.0/lr_0.001/alpha_0.0(cnt=5, [0, 1, 2, 3, 4])\n",
      "acc:99.78665827564505\n",
      "fair:0.07237256135934844\n"
     ]
    },
    {
     "data": {
      "image/png": "[encoded data removed]",
      "text/plain": [
       "<Figure size 640x480 with 1 Axes>"
      ]
     },
     "metadata": {},
     "output_type": "display_data"
    }
   ],
   "source": [
    "tau_range = [0.0]\n",
    "lr_range = [0.01, 0.001]\n",
    "alpha_range = [0.0]\n",
    "seed_range = [0, 1, 2, 3, 4]\n",
    "\n",
    "info_list, acc_list, fair_list = get_best(dataset, seed_range, epoch, lr_range, tau_range, alpha_range, lambda_range, joint=True)\n",
    "plot(acc_list, fair_list)"
   ]
  },
  {
   "cell_type": "code",
   "execution_count": null,
   "metadata": {},
   "outputs": [],
   "source": []
  },
  {
   "cell_type": "code",
   "execution_count": 168,
   "metadata": {},
   "outputs": [
    {
     "name": "stdout",
     "output_type": "stream",
     "text": [
      "tau=5.0/lr_0.001/alpha_0.005(cnt=2, [0, 3])\n",
      "acc:74.39450000000001\n",
      "fair:4.591000000000001\n"
     ]
    }
   ],
   "source": [
    "tau_range = [1.0, 5.0, 10.0]\n",
    "lr_range = [0.01, 0.001]\n",
    "alpha_range = [0.0005, 0.001, 0.002, 0.005, 0.01, 0.02]\n",
    "lambda_range = [1.0, 5.0, 10.0]\n",
    "seed_range = [0, 1, 2, 3, 4]\n",
    "\n",
    "dataset = \"FashionMNIST\"\n",
    "epoch = 1\n",
    "lmbd = 1.0\n",
    "\n",
    "info_list, acc_list, fair_list = get_best(dataset, seed_range, epoch, lr_range, tau_range, alpha_range, lambda_range)"
   ]
  },
  {
   "cell_type": "code",
   "execution_count": 162,
   "metadata": {},
   "outputs": [
    {
     "name": "stdout",
     "output_type": "stream",
     "text": [
      "tau=5.0/lr_0.001/alpha_0.0(cnt=5, [0, 1, 2, 3, 4])\n",
      "acc:83.66379999999998\n",
      "fair:6.8332\n"
     ]
    }
   ],
   "source": [
    "tau_range = [1.0, 5.0, 10.0]\n",
    "lr_range = [0.01, 0.001]\n",
    "alpha_range = [0.0]\n",
    "lambda_range = [1.0, 5.0, 10.0]\n",
    "seed_range = [0, 1, 2, 3, 4]\n",
    "\n",
    "dataset = \"FashionMNIST\"\n",
    "epoch = 1\n",
    "lmbd = 1.0\n",
    "\n",
    "info_list, acc_list, fair_list = get_best(dataset, seed_range, epoch, lr_range, tau_range, alpha_range, lambda_range)"
   ]
  },
  {
   "cell_type": "code",
   "execution_count": null,
   "metadata": {},
   "outputs": [],
   "source": []
  }
 ],
 "metadata": {
  "kernelspec": {
   "display_name": "cil",
   "language": "python",
   "name": "python3"
  },
  "language_info": {
   "codemirror_mode": {
    "name": "ipython",
    "version": 3
   },
   "file_extension": ".py",
   "mimetype": "text/x-python",
   "name": "python",
   "nbconvert_exporter": "python",
   "pygments_lexer": "ipython3",
   "version": "3.9.18"
  }
 },
 "nbformat": 4,
 "nbformat_minor": 2
}
