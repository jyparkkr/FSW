{
 "cells": [
  {
   "cell_type": "code",
   "execution_count": 1,
   "id": "b0c3b92f",
   "metadata": {},
   "outputs": [
    {
     "name": "stdout",
     "output_type": "stream",
     "text": [
      "output_dir=./outputs/demo/dataset=Drug/seed=0_epoch=25_lr=0.1_tau=1.0_alpha=0.0\n"
     ]
    }
   ],
   "source": [
    "from torchvision.datasets import MNIST, FashionMNIST, CIFAR10\n",
    "import torchvision\n",
    "import numpy as np\n",
    "import random\n",
    "\n",
    "import torch\n",
    "import torch.nn.functional as F\n",
    "import cl_gym as cl\n",
    "\n",
    "import sys\n",
    "import os\n",
    "\n",
    "seed = 0\n",
    "\n",
    "np.random.seed(seed)\n",
    "torch.manual_seed(seed)\n",
    "np.random.seed(seed)\n",
    "random.seed(seed)\n",
    "torch.cuda.manual_seed_all(seed)\n",
    "torch.manual_seed(seed)\n",
    "torch.backends.cudnn.deterministic = True\n",
    "torch.backends.cudnn.benchmark = False\n",
    "torch.backends.cudnn.enabled = False\n",
    "torch.set_num_threads(8)\n",
    "\n",
    "def make_params() -> dict:\n",
    "    import os\n",
    "    from pathlib import Path\n",
    "    import uuid\n",
    "\n",
    "    params = {\n",
    "            # dataset\n",
    "            'dataset': \"Drug\",\n",
    "            'fairness_agg': 'mean',\n",
    "            # 'model': 'MLP',\n",
    "\n",
    "            # benchmark\n",
    "            'seed': seed,\n",
    "            'num_tasks': 3,\n",
    "            'epochs_per_task': 25,\n",
    "            'per_task_examples': np.inf,\n",
    "            # 'per_task_examples': 10000,\n",
    "            'per_task_memory_examples': 64,\n",
    "            'batch_size_train': 64,\n",
    "            'batch_size_memory': 64,\n",
    "            'batch_size_validation': 256,\n",
    "            'tau': 1.0,\n",
    "\n",
    "            # algorithm\n",
    "            'optimizer': 'sgd',\n",
    "            'learning_rate': 0.1,\n",
    "            'momentum': 0.9,\n",
    "            'learning_rate_decay': 1.0,\n",
    "            # 'criterion': torch.nn.CrossEntropyLoss(),\n",
    "            'criterion': torch.nn.BCEWithLogitsLoss(),\n",
    "\n",
    "            'device': torch.device('cuda:7' if torch.cuda.is_available() else 'cpu'),\n",
    "             \n",
    "            # sample selection\n",
    "            'alpha': 0.00,\n",
    "            'metric' : \"DP\",\n",
    "            'lambda': 0.0,\n",
    "            'lambda_old': 0.0,\n",
    "\n",
    "            # postprocessing\n",
    "              }\n",
    "    \n",
    "\n",
    "#     trial_id = str(uuid.uuid4())\n",
    "    trial_id = f\"demo/dataset={params['dataset']}/seed={params['seed']}_epoch={params['epochs_per_task']}_lr={params['learning_rate']}_tau={params['tau']}_alpha={params['alpha']}\"\n",
    "    if params['lambda'] != 0:\n",
    "        trial_id+=f\"_lmbd_{params['lambda']}_lmbdold_{params['lambda_old']}\"\n",
    "    params['trial_id'] = trial_id\n",
    "    params['output_dir'] = os.path.join(\"./outputs/{}\".format(trial_id))\n",
    "    print(f\"output_dir={params['output_dir']}\")\n",
    "    Path(params['output_dir']).mkdir(parents=True, exist_ok=True)\n",
    "\n",
    "    return params\n",
    "\n",
    "params = make_params()"
   ]
  },
  {
   "cell_type": "code",
   "execution_count": 2,
   "id": "20c7b886",
   "metadata": {},
   "outputs": [],
   "source": [
    "from datasets import Drug\n",
    "\n",
    "if params['dataset'] in [\"Drug\"]:\n",
    "    benchmark = Drug(num_tasks=params['num_tasks'],\n",
    "                        per_task_memory_examples=params['per_task_memory_examples'],\n",
    "                        per_task_examples = params['per_task_examples'],\n",
    "                        random_class_idx = False)\n",
    "    input_dim = (12)\n",
    "    class_idx = benchmark.class_idx\n",
    "    num_classes = len(class_idx)"
   ]
  },
  {
   "cell_type": "code",
   "execution_count": 3,
   "id": "8e73e1c4",
   "metadata": {},
   "outputs": [
    {
     "name": "stdout",
     "output_type": "stream",
     "text": [
      "iCaRL\n"
     ]
    }
   ],
   "source": [
    "from trainers import FairContinualTrainer\n",
    "from trainers.fair_trainer import FairContinualTrainer2\n",
    "from metrics import FairMetricCollector\n",
    "from metrics import MetricCollector2\n",
    "\n",
    "from algorithms import Heuristic3\n",
    "from algorithms.fairl import FaIRL\n",
    "from algorithms.icarl import iCaRL\n",
    "from backbones import MLP2Layers2\n",
    "\n",
    "backbone = MLP2Layers2(\n",
    "    input_dim=input_dim, \n",
    "    hidden_dim_1=256, \n",
    "    hidden_dim_2=256, \n",
    "    output_dim=num_classes,\n",
    "    class_idx=class_idx,\n",
    "    config=params\n",
    "    ).to(params['device'])\n",
    "# backbone = ResNet18Small2(\n",
    "#         input_dim=input_dim, \n",
    "#         output_dim=num_classes,\n",
    "#         class_idx=class_idx,\n",
    "#         config=params\n",
    "#     ).to(params['device'])\n",
    "algorithm = iCaRL(backbone, benchmark, params, requires_memory=True)\n",
    "# algorithm = Heuristic3(backbone, benchmark, params, requires_memory=True)\n",
    "\n",
    "metric_manager_callback = FairMetricCollector(num_tasks=params['num_tasks'],\n",
    "                                                        eval_interval='epoch',\n",
    "                                                        epochs_per_task=params['epochs_per_task'])\n",
    "# metric_manager_callback = MetricCollector2(num_tasks=params['num_tasks'],\n",
    "#                                                         eval_interval='epoch',\n",
    "#                                                         epochs_per_task=params['epochs_per_task'])\n",
    "# from trainers.baselines import BaseMemoryContinualTrainer as ContinualTrainer\n",
    "from trainers.baselines import BaseContinualTrainer as ContinualTrainer\n",
    "\n",
    "trainer = ContinualTrainer(algorithm, params, callbacks=[metric_manager_callback])\n",
    "# \n",
    "# trainer = FairContinualTrainer2(algorithm, params, callbacks=[metric_manager_callback])\n"
   ]
  },
  {
   "cell_type": "code",
   "execution_count": 5,
   "id": "8b8e3d98",
   "metadata": {},
   "outputs": [],
   "source": [
    "if params['fairness_agg'] == \"mean\":\n",
    "    agg = np.mean\n",
    "elif params['fairness_agg'] == \"max\":\n",
    "    agg = np.max\n",
    "else:\n",
    "    raise NotImplementedError\n",
    "\n",
    "fairness_metrics = [\"std\", \"EER\", \"EO\", \"DP\"]\n",
    "for metric in metric_manager_callback.meters:\n",
    "    if metric in fairness_metrics:\n",
    "        metric_manager_callback.meters[metric].agg = agg\n"
   ]
  },
  {
   "cell_type": "code",
   "execution_count": 6,
   "id": "bbbb73ec",
   "metadata": {},
   "outputs": [
    {
     "name": "stdout",
     "output_type": "stream",
     "text": [
      "---------------------------- Task 1 -----------------------\n",
      "[1] Eval metrics for task 1 >> {'accuracy': 0.618000687049124, 'loss': 0.0, 'std': 0.04053589831672966, 'EER': -1, 'EO': [0.20526315789473681, 0.3593004769475357], 'DP': -1, 'accuracy_s0': 0.6323529411764706, 'accuracy_s1': 0.5553342816500711, 'classwise_accuracy': {0: array([ 81, 123]), 1: array([41, 71])}, 'DP_ingredients': {'class_pred_count_s0': {1: 40, 0: 22}, 'class_pred_count_s1': {1: 43, 0: 89}, 'class_pred_count': {1: 83, 0: 111}, 'count_s0': 62, 'count_s1': 132, 'count': 194}}\n",
      "[2] Eval metrics for task 1 >> {'accuracy': 0.607981220657277, 'loss': 0.0, 'std': 0.05868544600938963, 'EER': -1, 'EO': [0.16954887218045112, 0.41335453100158975], 'DP': -1, 'accuracy_s0': 0.6502100840336134, 'accuracy_s1': 0.5283072546230441, 'classwise_accuracy': {0: array([ 82, 123]), 1: array([39, 71])}, 'DP_ingredients': {'class_pred_count_s0': {1: 39, 0: 23}, 'class_pred_count_s1': {0: 91, 1: 41}, 'class_pred_count': {0: 114, 1: 80}, 'count_s0': 62, 'count_s1': 132, 'count': 194}}\n",
      "[3] Eval metrics for task 1 >> {'accuracy': 0.607981220657277, 'loss': 0.0, 'std': 0.05868544600938963, 'EER': -1, 'EO': [0.21578947368421053, 0.41335453100158975], 'DP': -1, 'accuracy_s0': 0.6323529411764706, 'accuracy_s1': 0.5335704125177809, 'classwise_accuracy': {0: array([ 82, 123]), 1: array([39, 71])}, 'DP_ingredients': {'class_pred_count_s0': {1: 40, 0: 22}, 'class_pred_count_s1': {0: 92, 1: 40}, 'class_pred_count': {1: 80, 0: 114}, 'count_s0': 62, 'count_s1': 132, 'count': 194}}\n",
      "[4] Eval metrics for task 1 >> {'accuracy': 0.6009389671361502, 'loss': 0.0, 'std': 0.06572769953051644, 'EER': -1, 'EO': [0.21578947368421053, 0.3839427662957075], 'DP': -1, 'accuracy_s0': 0.6176470588235294, 'accuracy_s1': 0.5335704125177809, 'classwise_accuracy': {0: array([ 82, 123]), 1: array([38, 71])}, 'DP_ingredients': {'class_pred_count_s0': {0: 23, 1: 39}, 'class_pred_count_s1': {0: 92, 1: 40}, 'class_pred_count': {0: 115, 1: 79}, 'count_s0': 62, 'count_s1': 132, 'count': 194}}\n",
      "[5] Eval metrics for task 1 >> {'accuracy': 0.5968739264857437, 'loss': 0.0, 'std': 0.061662658880109966, 'EER': -1, 'EO': [0.25150375939849623, 0.3839427662957075], 'DP': -1, 'accuracy_s0': 0.5997899159663866, 'accuracy_s1': 0.5335704125177809, 'classwise_accuracy': {0: array([ 81, 123]), 1: array([38, 71])}, 'DP_ingredients': {'class_pred_count_s0': {0: 22, 1: 40}, 'class_pred_count_s1': {0: 92, 1: 40}, 'class_pred_count': {0: 114, 1: 80}, 'count_s0': 62, 'count_s1': 132, 'count': 194}}\n",
      "[6] Eval metrics for task 1 >> {'accuracy': 0.6009389671361502, 'loss': 0.0, 'std': 0.06572769953051644, 'EER': -1, 'EO': [0.26203007518796995, 0.3839427662957075], 'DP': -1, 'accuracy_s0': 0.5997899159663866, 'accuracy_s1': 0.5388335704125178, 'classwise_accuracy': {0: array([ 82, 123]), 1: array([38, 71])}, 'DP_ingredients': {'class_pred_count_s0': {1: 40, 0: 22}, 'class_pred_count_s1': {1: 39, 0: 93}, 'class_pred_count': {1: 79, 0: 115}, 'count_s0': 62, 'count_s1': 132, 'count': 194}}\n",
      "[7] Eval metrics for task 1 >> {'accuracy': 0.5968739264857437, 'loss': 0.0, 'std': 0.061662658880109966, 'EER': -1, 'EO': [0.25150375939849623, 0.3839427662957075], 'DP': -1, 'accuracy_s0': 0.5997899159663866, 'accuracy_s1': 0.5335704125177809, 'classwise_accuracy': {0: array([ 81, 123]), 1: array([38, 71])}, 'DP_ingredients': {'class_pred_count_s0': {1: 40, 0: 22}, 'class_pred_count_s1': {1: 40, 0: 92}, 'class_pred_count': {1: 80, 0: 114}, 'count_s0': 62, 'count_s1': 132, 'count': 194}}\n",
      "[8] Eval metrics for task 1 >> {'accuracy': 0.5928088858353372, 'loss': 0.0, 'std': 0.05759761822970344, 'EER': -1, 'EO': [0.2409774436090225, 0.3839427662957075], 'DP': -1, 'accuracy_s0': 0.5997899159663866, 'accuracy_s1': 0.5283072546230441, 'classwise_accuracy': {0: array([ 80, 123]), 1: array([38, 71])}, 'DP_ingredients': {'class_pred_count_s0': {0: 22, 1: 40}, 'class_pred_count_s1': {0: 91, 1: 41}, 'class_pred_count': {0: 113, 1: 81}, 'count_s0': 62, 'count_s1': 132, 'count': 194}}\n",
      "[9] Eval metrics for task 1 >> {'accuracy': 0.6039161800068705, 'loss': 0.0, 'std': 0.05462040535898316, 'EER': -1, 'EO': [0.3569157392686805, 0.25150375939849623], 'DP': -1, 'accuracy_s0': 0.5997899159663866, 'accuracy_s1': 0.5470839260312945, 'classwise_accuracy': {1: array([39, 71]), 0: array([ 81, 123])}, 'DP_ingredients': {'class_pred_count_s0': {1: 40, 0: 22}, 'class_pred_count_s1': {1: 41, 0: 91}, 'class_pred_count': {1: 81, 0: 113}, 'count_s0': 62, 'count_s1': 132, 'count': 194}}\n",
      "[10] Eval metrics for task 1 >> {'accuracy': 0.6150234741784038, 'loss': 0.0, 'std': 0.05164319248826288, 'EER': -1, 'EO': [0.26203007518796995, 0.3863275039745627], 'DP': -1, 'accuracy_s0': 0.6144957983193278, 'accuracy_s1': 0.5523470839260314, 'classwise_accuracy': {0: array([ 82, 123]), 1: array([40, 71])}, 'DP_ingredients': {'class_pred_count_s0': {0: 21, 1: 41}, 'class_pred_count_s1': {0: 92, 1: 40}, 'class_pred_count': {0: 113, 1: 81}, 'count_s0': 62, 'count_s1': 132, 'count': 194}}\n",
      "[11] Eval metrics for task 1 >> {'accuracy': 0.609870605748311, 'loss': 0.0, 'std': 0.03240581701591666, 'EER': -1, 'EO': [0.2304511278195489, 0.4157392686804451], 'DP': -1, 'accuracy_s0': 0.6292016806722689, 'accuracy_s1': 0.5365576102418208, 'classwise_accuracy': {0: array([ 79, 123]), 1: array([41, 71])}, 'DP_ingredients': {'class_pred_count_s0': {1: 42, 0: 20}, 'class_pred_count_s1': {0: 89, 1: 43}, 'class_pred_count': {0: 109, 1: 85}, 'count_s0': 62, 'count_s1': 132, 'count': 194}}\n",
      "[12] Eval metrics for task 1 >> {'accuracy': 0.6087827779686248, 'loss': 0.0, 'std': 0.017233482193976857, 'EER': -1, 'EO': [0.20939849624060147, 0.33227344992050867], 'DP': -1, 'accuracy_s0': 0.6144957983193278, 'accuracy_s1': 0.5530583214793741, 'classwise_accuracy': {0: array([ 77, 123]), 1: array([42, 71])}, 'DP_ingredients': {'class_pred_count_s0': {0: 21, 1: 41}, 'class_pred_count_s1': {1: 47, 0: 85}, 'class_pred_count': {0: 106, 1: 88}, 'count_s0': 62, 'count_s1': 132, 'count': 194}}\n",
      "[13] Eval metrics for task 1 >> {'accuracy': 0.6158250314897515, 'loss': 0.0, 'std': 0.010191228672850106, 'EER': -1, 'EO': [0.361685214626391, 0.20939849624060147], 'DP': -1, 'accuracy_s0': 0.6292016806722689, 'accuracy_s1': 0.5530583214793741, 'classwise_accuracy': {1: array([43, 71]), 0: array([ 77, 123])}, 'DP_ingredients': {'class_pred_count_s0': {0: 20, 1: 42}, 'class_pred_count_s1': {0: 85, 1: 47}, 'class_pred_count': {0: 105, 1: 89}, 'count_s0': 62, 'count_s1': 132, 'count': 194}}\n",
      "[14] Eval metrics for task 1 >> {'accuracy': 0.6169128592694377, 'loss': 0.0, 'std': 0.02536356349478991, 'EER': -1, 'EO': [0.1842105263157895, 0.33227344992050867], 'DP': -1, 'accuracy_s0': 0.6323529411764706, 'accuracy_s1': 0.5583214793741109, 'classwise_accuracy': {0: array([ 79, 123]), 1: array([42, 71])}, 'DP_ingredients': {'class_pred_count_s0': {1: 40, 0: 22}, 'class_pred_count_s1': {0: 86, 1: 46}, 'class_pred_count': {0: 108, 1: 86}, 'count_s0': 62, 'count_s1': 132, 'count': 194}}\n",
      "[15] Eval metrics for task 1 >> {'accuracy': 0.6169128592694377, 'loss': 0.0, 'std': 0.02536356349478991, 'EER': -1, 'EO': [0.33227344992050867, 0.13796992481203008], 'DP': -1, 'accuracy_s0': 0.6502100840336134, 'accuracy_s1': 0.5530583214793741, 'classwise_accuracy': {1: array([42, 71]), 0: array([ 79, 123])}, 'DP_ingredients': {'class_pred_count_s0': {1: 39, 0: 23}, 'class_pred_count_s1': {1: 47, 0: 85}, 'class_pred_count': {1: 86, 0: 108}, 'count_s0': 62, 'count_s1': 132, 'count': 194}}\n",
      "[16] Eval metrics for task 1 >> {'accuracy': 0.6028283522271842, 'loss': 0.0, 'std': 0.03944807053704341, 'EER': -1, 'EO': [0.13796992481203008, 0.32988871224165345], 'DP': -1, 'accuracy_s0': 0.6355042016806722, 'accuracy_s1': 0.5395448079658606, 'classwise_accuracy': {0: array([ 79, 123]), 1: array([40, 71])}, 'DP_ingredients': {'class_pred_count_s0': {1: 38, 0: 24}, 'class_pred_count_s1': {0: 86, 1: 46}, 'class_pred_count': {0: 110, 1: 84}, 'count_s0': 62, 'count_s1': 132, 'count': 194}}\n",
      "[17] Eval metrics for task 1 >> {'accuracy': 0.6028283522271842, 'loss': 0.0, 'std': 0.03944807053704341, 'EER': -1, 'EO': [0.13796992481203008, 0.32988871224165345], 'DP': -1, 'accuracy_s0': 0.6355042016806722, 'accuracy_s1': 0.5395448079658606, 'classwise_accuracy': {0: array([ 79, 123]), 1: array([40, 71])}, 'DP_ingredients': {'class_pred_count_s0': {1: 38, 0: 24}, 'class_pred_count_s1': {0: 86, 1: 46}, 'class_pred_count': {0: 110, 1: 84}, 'count_s0': 62, 'count_s1': 132, 'count': 194}}\n",
      "[18] Eval metrics for task 1 >> {'accuracy': 0.609870605748311, 'loss': 0.0, 'std': 0.03240581701591666, 'EER': -1, 'EO': [0.13796992481203008, 0.3028616852146264], 'DP': -1, 'accuracy_s0': 0.6355042016806722, 'accuracy_s1': 0.5530583214793741, 'classwise_accuracy': {0: array([ 79, 123]), 1: array([41, 71])}, 'DP_ingredients': {'class_pred_count_s0': {0: 24, 1: 38}, 'class_pred_count_s1': {0: 85, 1: 47}, 'class_pred_count': {0: 109, 1: 85}, 'count_s0': 62, 'count_s1': 132, 'count': 194}}\n",
      "[19] Eval metrics for task 1 >> {'accuracy': 0.6058055650979045, 'loss': 0.0, 'std': 0.028340776365510134, 'EER': -1, 'EO': [0.08120300751879705, 0.3028616852146264], 'DP': -1, 'accuracy_s0': 0.6533613445378151, 'accuracy_s1': 0.5425320056899005, 'classwise_accuracy': {0: array([ 78, 123]), 1: array([41, 71])}, 'DP_ingredients': {'class_pred_count_s0': {1: 37, 0: 25}, 'class_pred_count_s1': {0: 83, 1: 49}, 'class_pred_count': {0: 108, 1: 86}, 'count_s0': 62, 'count_s1': 132, 'count': 194}}\n",
      "[20] Eval metrics for task 1 >> {'accuracy': 0.6169128592694377, 'loss': 0.0, 'std': 0.02536356349478991, 'EER': -1, 'EO': [0.2758346581875994, 0.09172932330827066], 'DP': -1, 'accuracy_s0': 0.6533613445378151, 'accuracy_s1': 0.5613086770981508, 'classwise_accuracy': {1: array([42, 71]), 0: array([ 79, 123])}, 'DP_ingredients': {'class_pred_count_s0': {1: 37, 0: 25}, 'class_pred_count_s1': {1: 49, 0: 83}, 'class_pred_count': {1: 86, 0: 108}, 'count_s0': 62, 'count_s1': 132, 'count': 194}}\n",
      "[21] Eval metrics for task 1 >> {'accuracy': 0.6128478186190313, 'loss': 0.0, 'std': 0.021298522844383383, 'EER': -1, 'EO': [0.33227344992050867, 0.08120300751879705], 'DP': -1, 'accuracy_s0': 0.6680672268907563, 'accuracy_s1': 0.5425320056899005, 'classwise_accuracy': {1: array([42, 71]), 0: array([ 78, 123])}, 'DP_ingredients': {'class_pred_count_s0': {0: 24, 1: 38}, 'class_pred_count_s1': {0: 83, 1: 49}, 'class_pred_count': {0: 107, 1: 87}, 'count_s0': 62, 'count_s1': 132, 'count': 194}}\n",
      "[22] Eval metrics for task 1 >> {'accuracy': 0.609870605748311, 'loss': 0.0, 'std': 0.03240581701591666, 'EER': -1, 'EO': [0.045488721804511356, 0.3593004769475357], 'DP': -1, 'accuracy_s0': 0.6859243697478992, 'accuracy_s1': 0.529018492176387, 'classwise_accuracy': {0: array([ 79, 123]), 1: array([41, 71])}, 'DP_ingredients': {'class_pred_count_s0': {1: 37, 0: 25}, 'class_pred_count_s1': {1: 48, 0: 84}, 'class_pred_count': {1: 85, 0: 109}, 'count_s0': 62, 'count_s1': 132, 'count': 194}}\n",
      "[23] Eval metrics for task 1 >> {'accuracy': 0.6139356463987176, 'loss': 0.0, 'std': 0.03647085766632313, 'EER': -1, 'EO': [0.3028616852146264, 0.009774436090225547], 'DP': -1, 'accuracy_s0': 0.6890756302521008, 'accuracy_s1': 0.5425320056899005, 'classwise_accuracy': {1: array([41, 71]), 0: array([ 80, 123])}, 'DP_ingredients': {'class_pred_count_s0': {0: 27, 1: 35}, 'class_pred_count_s1': {1: 49, 0: 83}, 'class_pred_count': {0: 110, 1: 84}, 'count_s0': 62, 'count_s1': 132, 'count': 194}}\n",
      "[24] Eval metrics for task 1 >> {'accuracy': 0.6068933928775908, 'loss': 0.0, 'std': 0.04351311118744988, 'EER': -1, 'EO': [0.009774436090225547, 0.27344992050874406], 'DP': -1, 'accuracy_s0': 0.6743697478991597, 'accuracy_s1': 0.5425320056899005, 'classwise_accuracy': {0: array([ 80, 123]), 1: array([40, 71])}, 'DP_ingredients': {'class_pred_count_s0': {0: 28, 1: 34}, 'class_pred_count_s1': {0: 83, 1: 49}, 'class_pred_count': {0: 111, 1: 83}, 'count_s0': 62, 'count_s1': 132, 'count': 194}}\n",
      "[25] Eval metrics for task 1 >> {'accuracy': 0.6139356463987176, 'loss': 0.0, 'std': 0.03647085766632313, 'EER': -1, 'EO': [0.009774436090225547, 0.24642289348171703], 'DP': -1, 'accuracy_s0': 0.6743697478991597, 'accuracy_s1': 0.5560455192034139, 'classwise_accuracy': {0: array([ 80, 123]), 1: array([41, 71])}, 'DP_ingredients': {'class_pred_count_s0': {0: 28, 1: 34}, 'class_pred_count_s1': {1: 50, 0: 82}, 'class_pred_count': {1: 84, 0: 110}, 'count_s0': 62, 'count_s1': 132, 'count': 194}}\n",
      "Reduce size of class 0 to 0 examplar\n",
      "Reduce size of class 1 to 0 examplar\n",
      "Reduce size of class 2 to 0 examplar\n",
      "Reduce size of class 3 to 0 examplar\n",
      "Reduce size of class 4 to 0 examplar\n",
      "Reduce size of class 5 to 0 examplar\n",
      "construct class 0 examplar:\n",
      "len(self.exemplar_dict[cls])=96\n",
      "construct class 1 examplar:\n",
      "len(self.exemplar_dict[cls])=96\n",
      "update_memory_after_train\n",
      "---------------------------- Task 2 -----------------------\n",
      "[26] Eval metrics for task 1 >> {'accuracy': 0.5480934386808657, 'loss': 0.0, 'std': 0.01288217107523193, 'EER': -1, 'EO': [0.15818759936406995, 0.013533834586466176], 'DP': -1, 'accuracy_s0': 0.5945378151260504, 'accuracy_s1': 0.5086770981507823, 'classwise_accuracy': {1: array([38, 71]), 0: array([ 69, 123])}, 'DP_ingredients': {'class_pred_count_s0': {1: 29, 0: 25, 2: 3, 3: 5}, 'class_pred_count_s1': {1: 38, 0: 68, 2: 10, 3: 16}, 'class_pred_count': {1: 67, 0: 93, 2: 13, 3: 21}, 'count_s0': 62, 'count_s1': 132, 'count': 194}}\n",
      "[26] Eval metrics for task 2 >> {'accuracy': 0.3582185886402754, 'loss': 0.0, 'std': 0.1774956970740103, 'EER': -1, 'EO': [0.03831417624521072, 0.0018181818181818299], 'DP': -1, 'accuracy_s0': 0.36868686868686873, 'accuracy_s1': 0.34862068965517246, 'classwise_accuracy': {3: array([30, 56]), 2: array([15, 83])}, 'DP_ingredients': {'class_pred_count_s0': {3: 23, 1: 18, 2: 9, 0: 10}, 'class_pred_count_s1': {1: 13, 3: 30, 0: 21, 2: 15}, 'class_pred_count': {3: 53, 1: 31, 0: 31, 2: 24}, 'count_s0': 60, 'count_s1': 79, 'count': 139}}\n",
      "[27] Eval metrics for task 1 >> {'accuracy': 0.46627733882972633, 'loss': 0.0, 'std': 0.029657620519867173, 'EER': -1, 'EO': [0.04097744360902256, 0.178060413354531], 'DP': -1, 'accuracy_s0': 0.49684873949579833, 'accuracy_s1': 0.4283072546230441, 'classwise_accuracy': {0: array([ 61, 123]), 1: array([31, 71])}, 'DP_ingredients': {'class_pred_count_s0': {3: 7, 1: 28, 0: 22, 2: 5}, 'class_pred_count_s1': {1: 32, 0: 63, 3: 25, 2: 12}, 'class_pred_count': {1: 60, 0: 85, 3: 32, 2: 17}, 'count_s0': 62, 'count_s1': 132, 'count': 194}}\n",
      "[27] Eval metrics for task 2 >> {'accuracy': 0.3999569707401033, 'loss': 0.0, 'std': 0.20718588640275384, 'EER': -1, 'EO': [0.09961685823754785, 0.018181818181818188], 'DP': -1, 'accuracy_s0': 0.36868686868686873, 'accuracy_s1': 0.4275862068965517, 'classwise_accuracy': {3: array([34, 56]), 2: array([16, 83])}, 'DP_ingredients': {'class_pred_count_s0': {1: 14, 3: 24, 2: 10, 0: 12}, 'class_pred_count_s1': {2: 15, 0: 17, 3: 38, 1: 9}, 'class_pred_count': {2: 25, 1: 23, 0: 29, 3: 62}, 'count_s0': 60, 'count_s1': 79, 'count': 139}}\n",
      "[28] Eval metrics for task 1 >> {'accuracy': 0.47005610901179434, 'loss': 0.0, 'std': 0.022901637467078906, 'EER': -1, 'EO': [0.07030075187969925, 0.2957074721780604], 'DP': -1, 'accuracy_s0': 0.5199579831932774, 'accuracy_s1': 0.40725462304409676, 'classwise_accuracy': {0: array([ 55, 123]), 1: array([35, 71])}, 'DP_ingredients': {'class_pred_count_s0': {3: 8, 1: 34, 0: 18, 2: 2}, 'class_pred_count_s1': {0: 61, 1: 36, 3: 24, 2: 11}, 'class_pred_count': {3: 32, 0: 79, 1: 70, 2: 13}, 'count_s0': 62, 'count_s1': 132, 'count': 194}}\n",
      "[28] Eval metrics for task 2 >> {'accuracy': 0.4059810671256454, 'loss': 0.0, 'std': 0.20116179001721168, 'EER': -1, 'EO': [0.08848484848484847, 0.028097062579821253], 'DP': -1, 'accuracy_s0': 0.372053872053872, 'accuracy_s1': 0.4303448275862069, 'classwise_accuracy': {2: array([17, 83]), 3: array([34, 56])}, 'DP_ingredients': {'class_pred_count_s0': {1: 15, 2: 8, 3: 26, 0: 11}, 'class_pred_count_s1': {3: 38, 2: 17, 0: 14, 1: 10}, 'class_pred_count': {1: 25, 3: 64, 2: 25, 0: 25}, 'count_s0': 60, 'count_s1': 79, 'count': 139}}\n",
      "[29] Eval metrics for task 1 >> {'accuracy': 0.49553418069391963, 'loss': 0.0, 'std': 0.016660941257299916, 'EER': -1, 'EO': [0.26629570747217807, 0.06203007518796988], 'DP': -1, 'accuracy_s0': 0.5409663865546219, 'accuracy_s1': 0.4388335704125178, 'classwise_accuracy': {1: array([34, 71]), 0: array([ 63, 123])}, 'DP_ingredients': {'class_pred_count_s0': {3: 9, 1: 30, 0: 21, 2: 2}, 'class_pred_count_s1': {3: 20, 1: 35, 0: 68, 2: 9}, 'class_pred_count': {3: 29, 1: 65, 0: 89, 2: 11}, 'count_s0': 62, 'count_s1': 132, 'count': 194}}\n",
      "[29] Eval metrics for task 2 >> {'accuracy': 0.3850043029259897, 'loss': 0.0, 'std': 0.20428141135972464, 'EER': -1, 'EO': [0.0018181818181818299, 0.0063856960408684715], 'DP': -1, 'accuracy_s0': 0.3872053872053872, 'accuracy_s1': 0.38310344827586207, 'classwise_accuracy': {2: array([15, 83]), 3: array([33, 56])}, 'DP_ingredients': {'class_pred_count_s0': {2: 8, 1: 16, 0: 12, 3: 24}, 'class_pred_count_s1': {0: 20, 3: 33, 2: 13, 1: 13}, 'class_pred_count': {2: 21, 1: 29, 0: 32, 3: 57}, 'count_s0': 60, 'count_s1': 79, 'count': 139}}\n",
      "[30] Eval metrics for task 1 >> {'accuracy': 0.5025764342150464, 'loss': 0.0, 'std': 0.009618687736173137, 'EER': -1, 'EO': [0.3521462639109698, 0.015789473684210575], 'DP': -1, 'accuracy_s0': 0.5882352941176471, 'accuracy_s1': 0.42005689900426746, 'classwise_accuracy': {1: array([35, 71]), 0: array([ 63, 123])}, 'DP_ingredients': {'class_pred_count_s0': {1: 32, 0: 20, 3: 9, 2: 1}, 'class_pred_count_s1': {0: 68, 1: 34, 2: 10, 3: 20}, 'class_pred_count': {1: 66, 0: 88, 2: 11, 3: 29}, 'count_s0': 62, 'count_s1': 132, 'count': 194}}\n",
      "[30] Eval metrics for task 2 >> {'accuracy': 0.37005163511187605, 'loss': 0.0, 'std': 0.20137693631669534, 'EER': -1, 'EO': [0.028484848484848474, 0.040868454661558085], 'DP': -1, 'accuracy_s0': 0.372053872053872, 'accuracy_s1': 0.3658620689655172, 'classwise_accuracy': {2: array([14, 83]), 3: array([32, 56])}, 'DP_ingredients': {'class_pred_count_s0': {3: 26, 1: 17, 0: 10, 2: 7}, 'class_pred_count_s1': {3: 32, 0: 20, 2: 14, 1: 13}, 'class_pred_count': {3: 58, 0: 30, 2: 21, 1: 30}, 'count_s0': 60, 'count_s1': 79, 'count': 139}}\n",
      "[31] Eval metrics for task 1 >> {'accuracy': 0.4692545517004466, 'loss': 0.0, 'std': 0.018550326348333895, 'EER': -1, 'EO': [0.07669172932330831, 0.3767885532591415], 'DP': -1, 'accuracy_s0': 0.5378151260504201, 'accuracy_s1': 0.38776671408250357, 'classwise_accuracy': {0: array([ 60, 123]), 1: array([32, 71])}, 'DP_ingredients': {'class_pred_count_s0': {1: 33, 0: 17, 3: 8, 2: 4}, 'class_pred_count_s1': {3: 20, 0: 67, 1: 32, 2: 13}, 'class_pred_count': {3: 28, 0: 84, 1: 65, 2: 17}, 'count_s0': 62, 'count_s1': 132, 'count': 194}}\n",
      "[31] Eval metrics for task 2 >> {'accuracy': 0.36402753872633387, 'loss': 0.0, 'std': 0.2074010327022375, 'EER': -1, 'EO': [0.040868454661558085, 0.05878787878787878], 'DP': -1, 'accuracy_s0': 0.3569023569023569, 'accuracy_s1': 0.3658620689655172, 'classwise_accuracy': {3: array([32, 56]), 2: array([13, 83])}, 'DP_ingredients': {'class_pred_count_s0': {3: 27, 0: 10, 1: 16, 2: 7}, 'class_pred_count_s1': {0: 19, 2: 14, 3: 34, 1: 12}, 'class_pred_count': {3: 61, 0: 29, 2: 21, 1: 28}, 'count_s0': 60, 'count_s1': 79, 'count': 139}}\n",
      "[32] Eval metrics for task 1 >> {'accuracy': 0.47818619031260734, 'loss': 0.0, 'std': 0.014771556166265881, 'EER': -1, 'EO': [0.045112781954887216, 0.3521462639109698], 'DP': -1, 'accuracy_s0': 0.5525210084033614, 'accuracy_s1': 0.39900426742532, 'classwise_accuracy': {0: array([ 57, 123]), 1: array([35, 71])}, 'DP_ingredients': {'class_pred_count_s0': {1: 34, 3: 9, 0: 16, 2: 3}, 'class_pred_count_s1': {1: 36, 3: 20, 0: 62, 2: 14}, 'class_pred_count': {1: 70, 3: 29, 0: 78, 2: 17}, 'count_s0': 62, 'count_s1': 132, 'count': 194}}\n",
      "[32] Eval metrics for task 2 >> {'accuracy': 0.3789802065404475, 'loss': 0.0, 'std': 0.2103055077452668, 'EER': -1, 'EO': [0.028484848484848474, 0.0063856960408684715], 'DP': -1, 'accuracy_s0': 0.372053872053872, 'accuracy_s1': 0.38310344827586207, 'classwise_accuracy': {2: array([14, 83]), 3: array([33, 56])}, 'DP_ingredients': {'class_pred_count_s0': {2: 8, 1: 17, 3: 27, 0: 8}, 'class_pred_count_s1': {1: 13, 3: 34, 0: 19, 2: 13}, 'class_pred_count': {2: 21, 1: 30, 3: 61, 0: 27}, 'count_s0': 60, 'count_s1': 79, 'count': 139}}\n",
      "[33] Eval metrics for task 1 >> {'accuracy': 0.47005610901179434, 'loss': 0.0, 'std': 0.022901637467078906, 'EER': -1, 'EO': [0.3521462639109698, 0.07030075187969925], 'DP': -1, 'accuracy_s0': 0.5346638655462185, 'accuracy_s1': 0.3937411095305832, 'classwise_accuracy': {1: array([35, 71]), 0: array([ 55, 123])}, 'DP_ingredients': {'class_pred_count_s0': {1: 34, 3: 9, 0: 15, 2: 4}, 'class_pred_count_s1': {1: 36, 2: 16, 0: 61, 3: 19}, 'class_pred_count': {1: 70, 2: 20, 0: 76, 3: 28}, 'count_s0': 62, 'count_s1': 132, 'count': 194}}\n",
      "[33] Eval metrics for task 2 >> {'accuracy': 0.39414802065404475, 'loss': 0.0, 'std': 0.17728055077452667, 'EER': -1, 'EO': [0.10848484848484849, 0.040868454661558085], 'DP': -1, 'accuracy_s0': 0.372053872053872, 'accuracy_s1': 0.40586206896551724, 'classwise_accuracy': {2: array([18, 83]), 3: array([32, 56])}, 'DP_ingredients': {'class_pred_count_s0': {3: 27, 1: 16, 2: 8, 0: 9}, 'class_pred_count_s1': {2: 18, 3: 31, 0: 17, 1: 13}, 'class_pred_count': {2: 26, 3: 58, 1: 29, 0: 26}, 'count_s0': 60, 'count_s1': 79, 'count': 139}}\n",
      "[34] Eval metrics for task 1 >> {'accuracy': 0.4649032405817016, 'loss': 0.0, 'std': 0.04213901293942515, 'EER': -1, 'EO': [0.3251192368839428, 0.03872180451127821], 'DP': -1, 'accuracy_s0': 0.5346638655462185, 'accuracy_s1': 0.3914651493598862, 'classwise_accuracy': {1: array([36, 71]), 0: array([ 52, 123])}, 'DP_ingredients': {'class_pred_count_s0': {0: 15, 3: 8, 1: 34, 2: 5}, 'class_pred_count_s1': {1: 39, 0: 57, 2: 17, 3: 19}, 'class_pred_count': {0: 72, 1: 73, 3: 27, 2: 22}, 'count_s0': 62, 'count_s1': 132, 'count': 194}}\n",
      "[34] Eval metrics for task 2 >> {'accuracy': 0.42114888123924266, 'loss': 0.0, 'std': 0.16813683304647162, 'EER': -1, 'EO': [0.11818181818181817, 0.0063856960408684715], 'DP': -1, 'accuracy_s0': 0.3872053872053872, 'accuracy_s1': 0.443103448275862, 'classwise_accuracy': {2: array([21, 83]), 3: array([33, 56])}, 'DP_ingredients': {'class_pred_count_s0': {3: 26, 2: 10, 0: 9, 1: 15}, 'class_pred_count_s1': {3: 33, 1: 13, 0: 14, 2: 19}, 'class_pred_count': {3: 59, 1: 28, 2: 29, 0: 23}, 'count_s0': 60, 'count_s1': 79, 'count': 139}}\n",
      "[35] Eval metrics for task 1 >> {'accuracy': 0.4649032405817016, 'loss': 0.0, 'std': 0.04213901293942515, 'EER': -1, 'EO': [0.3251192368839428, 0.03872180451127821], 'DP': -1, 'accuracy_s0': 0.5346638655462185, 'accuracy_s1': 0.3914651493598862, 'classwise_accuracy': {1: array([36, 71]), 0: array([ 52, 123])}, 'DP_ingredients': {'class_pred_count_s0': {1: 34, 0: 15, 3: 8, 2: 5}, 'class_pred_count_s1': {0: 57, 1: 39, 3: 18, 2: 18}, 'class_pred_count': {1: 73, 0: 72, 3: 26, 2: 23}, 'count_s0': 62, 'count_s1': 132, 'count': 194}}\n",
      "[35] Eval metrics for task 2 >> {'accuracy': 0.40619621342512907, 'loss': 0.0, 'std': 0.16523235800344233, 'EER': -1, 'EO': [0.0981818181818182, 0.040868454661558085], 'DP': -1, 'accuracy_s0': 0.3872053872053872, 'accuracy_s1': 0.41586206896551725, 'classwise_accuracy': {2: array([20, 83]), 3: array([32, 56])}, 'DP_ingredients': {'class_pred_count_s0': {3: 27, 2: 10, 1: 13, 0: 10}, 'class_pred_count_s1': {3: 33, 2: 19, 0: 14, 1: 13}, 'class_pred_count': {3: 60, 2: 29, 0: 24, 1: 26}, 'count_s0': 60, 'count_s1': 79, 'count': 139}}\n",
      "[36] Eval metrics for task 1 >> {'accuracy': 0.44784152066872784, 'loss': 0.0, 'std': 0.016947211725638373, 'EER': -1, 'EO': [0.2933227344992051, 0.049248120300751874], 'DP': -1, 'accuracy_s0': 0.5052521008403361, 'accuracy_s1': 0.38321479374110956, 'classwise_accuracy': {1: array([33, 71]), 0: array([ 53, 123])}, 'DP_ingredients': {'class_pred_count_s0': {1: 32, 0: 16, 3: 8, 2: 6}, 'class_pred_count_s1': {1: 37, 0: 59, 3: 17, 2: 19}, 'class_pred_count': {1: 69, 0: 75, 3: 25, 2: 25}, 'count_s0': 62, 'count_s1': 132, 'count': 194}}\n",
      "[36] Eval metrics for task 2 >> {'accuracy': 0.4271729776247849, 'loss': 0.0, 'std': 0.16211273666092943, 'EER': -1, 'EO': [0.07790549169859518, 0.08787878787878786], 'DP': -1, 'accuracy_s0': 0.4208754208754209, 'accuracy_s1': 0.42586206896551726, 'classwise_accuracy': {3: array([33, 56]), 2: array([22, 83])}, 'DP_ingredients': {'class_pred_count_s0': {3: 27, 2: 10, 1: 13, 0: 10}, 'class_pred_count_s1': {3: 33, 1: 12, 2: 20, 0: 14}, 'class_pred_count': {3: 60, 1: 25, 2: 30, 0: 24}, 'count_s0': 60, 'count_s1': 79, 'count': 139}}\n",
      "[37] Eval metrics for task 1 >> {'accuracy': 0.4519065613191343, 'loss': 0.0, 'std': 0.012882171075231874, 'EER': -1, 'EO': [0.2933227344992051, 0.05977443609022559], 'DP': -1, 'accuracy_s0': 0.5052521008403361, 'accuracy_s1': 0.3884779516358464, 'classwise_accuracy': {1: array([33, 71]), 0: array([ 54, 123])}, 'DP_ingredients': {'class_pred_count_s0': {1: 32, 2: 6, 3: 8, 0: 16}, 'class_pred_count_s1': {0: 60, 1: 37, 2: 18, 3: 17}, 'class_pred_count': {1: 69, 0: 76, 2: 24, 3: 25}, 'count_s0': 62, 'count_s1': 132, 'count': 194}}\n",
      "[37] Eval metrics for task 2 >> {'accuracy': 0.4452452667814114, 'loss': 0.0, 'std': 0.14404044750430292, 'EER': -1, 'EO': [0.0975757575757576, 0.07790549169859518], 'DP': -1, 'accuracy_s0': 0.43602693602693604, 'accuracy_s1': 0.4458620689655173, 'classwise_accuracy': {2: array([25, 83]), 3: array([33, 56])}, 'DP_ingredients': {'class_pred_count_s0': {3: 27, 0: 9, 2: 11, 1: 13}, 'class_pred_count_s1': {1: 12, 3: 31, 2: 22, 0: 14}, 'class_pred_count': {1: 25, 3: 58, 0: 23, 2: 33}, 'count_s0': 60, 'count_s1': 79, 'count': 139}}\n",
      "[38] Eval metrics for task 1 >> {'accuracy': 0.4378220542768808, 'loss': 0.0, 'std': 0.001202335967021656, 'EER': -1, 'EO': [0.05977443609022559, 0.23449920508744038], 'DP': -1, 'accuracy_s0': 0.47584033613445376, 'accuracy_s1': 0.3884779516358464, 'classwise_accuracy': {0: array([ 54, 123]), 1: array([31, 71])}, 'DP_ingredients': {'class_pred_count_s0': {0: 17, 1: 29, 2: 8, 3: 8}, 'class_pred_count_s1': {3: 17, 0: 60, 1: 37, 2: 18}, 'class_pred_count': {0: 77, 3: 25, 1: 66, 2: 26}, 'count_s0': 62, 'count_s1': 132, 'count': 194}}\n",
      "[38] Eval metrics for task 2 >> {'accuracy': 0.43922117039586916, 'loss': 0.0, 'std': 0.1500645438898451, 'EER': -1, 'EO': [0.1278787878787879, 0.07790549169859518], 'DP': -1, 'accuracy_s0': 0.4208754208754209, 'accuracy_s1': 0.4458620689655173, 'classwise_accuracy': {2: array([24, 83]), 3: array([33, 56])}, 'DP_ingredients': {'class_pred_count_s0': {1: 12, 3: 29, 2: 10, 0: 9}, 'class_pred_count_s1': {3: 31, 2: 22, 0: 14, 1: 12}, 'class_pred_count': {1: 24, 3: 60, 2: 32, 0: 23}, 'count_s0': 60, 'count_s1': 79, 'count': 139}}\n",
      "[39] Eval metrics for task 1 >> {'accuracy': 0.4418870949272873, 'loss': 0.0, 'std': 0.0052673766174281544, 'EER': -1, 'EO': [0.07030075187969925, 0.23449920508744038], 'DP': -1, 'accuracy_s0': 0.47584033613445376, 'accuracy_s1': 0.3937411095305832, 'classwise_accuracy': {0: array([ 55, 123]), 1: array([31, 71])}, 'DP_ingredients': {'class_pred_count_s0': {0: 17, 2: 8, 3: 8, 1: 29}, 'class_pred_count_s1': {1: 35, 3: 16, 0: 61, 2: 20}, 'class_pred_count': {1: 64, 3: 24, 0: 78, 2: 28}, 'count_s0': 62, 'count_s1': 132, 'count': 194}}\n",
      "[39] Eval metrics for task 2 >> {'accuracy': 0.41222030981067126, 'loss': 0.0, 'std': 0.15920826161790017, 'EER': -1, 'EO': [0.11818181818181817, 0.11238825031928479], 'DP': -1, 'accuracy_s0': 0.4057239057239057, 'accuracy_s1': 0.4086206896551724, 'classwise_accuracy': {2: array([21, 83]), 3: array([32, 56])}, 'DP_ingredients': {'class_pred_count_s0': {3: 29, 1: 12, 0: 10, 2: 9}, 'class_pred_count_s1': {0: 14, 3: 30, 2: 21, 1: 14}, 'class_pred_count': {0: 24, 3: 59, 2: 30, 1: 26}, 'count_s0': 60, 'count_s1': 79, 'count': 139}}\n",
      "[40] Eval metrics for task 1 >> {'accuracy': 0.45001717622810034, 'loss': 0.0, 'std': 0.013397457918241179, 'EER': -1, 'EO': [0.09135338345864663, 0.23449920508744038], 'DP': -1, 'accuracy_s0': 0.47584033613445376, 'accuracy_s1': 0.4042674253200569, 'classwise_accuracy': {0: array([ 57, 123]), 1: array([31, 71])}, 'DP_ingredients': {'class_pred_count_s0': {2: 9, 3: 7, 1: 29, 0: 17}, 'class_pred_count_s1': {1: 33, 3: 16, 2: 20, 0: 63}, 'class_pred_count': {1: 62, 3: 23, 2: 29, 0: 80}, 'count_s0': 62, 'count_s1': 132, 'count': 194}}\n",
      "[40] Eval metrics for task 2 >> {'accuracy': 0.4361015490533563, 'loss': 0.0, 'std': 0.17104130808950083, 'EER': -1, 'EO': [0.08787878787878786, 0.11494252873563215], 'DP': -1, 'accuracy_s0': 0.4393939393939394, 'accuracy_s1': 0.42586206896551726, 'classwise_accuracy': {2: array([22, 83]), 3: array([34, 56])}, 'DP_ingredients': {'class_pred_count_s0': {0: 10, 1: 11, 3: 30, 2: 9}, 'class_pred_count_s1': {3: 30, 2: 20, 0: 15, 1: 14}, 'class_pred_count': {3: 60, 0: 25, 2: 29, 1: 25}, 'count_s0': 60, 'count_s1': 79, 'count': 139}}\n",
      "[41] Eval metrics for task 1 >> {'accuracy': 0.4418870949272873, 'loss': 0.0, 'std': 0.0052673766174281544, 'EER': -1, 'EO': [0.07030075187969925, 0.23449920508744038], 'DP': -1, 'accuracy_s0': 0.47584033613445376, 'accuracy_s1': 0.3937411095305832, 'classwise_accuracy': {0: array([ 55, 123]), 1: array([31, 71])}, 'DP_ingredients': {'class_pred_count_s0': {0: 17, 1: 29, 3: 8, 2: 8}, 'class_pred_count_s1': {1: 35, 0: 61, 3: 16, 2: 20}, 'class_pred_count': {0: 78, 1: 64, 3: 24, 2: 28}, 'count_s0': 62, 'count_s1': 132, 'count': 194}}\n",
      "[41] Eval metrics for task 2 >> {'accuracy': 0.44212564543889843, 'loss': 0.0, 'std': 0.16501721170395867, 'EER': -1, 'EO': [0.0072727272727273196, 0.11494252873563215], 'DP': -1, 'accuracy_s0': 0.46969696969696967, 'accuracy_s1': 0.41586206896551725, 'classwise_accuracy': {2: array([23, 83]), 3: array([34, 56])}, 'DP_ingredients': {'class_pred_count_s0': {2: 11, 3: 29, 1: 11, 0: 9}, 'class_pred_count_s1': {0: 15, 2: 20, 3: 32, 1: 12}, 'class_pred_count': {2: 31, 3: 61, 0: 24, 1: 23}, 'count_s0': 60, 'count_s1': 79, 'count': 139}}\n",
      "[42] Eval metrics for task 1 >> {'accuracy': 0.46410168327035384, 'loss': 0.0, 'std': 0.0006870491240123511, 'EER': -1, 'EO': [0.09135338345864663, 0.18044515103338632], 'DP': -1, 'accuracy_s0': 0.47584033613445376, 'accuracy_s1': 0.43129445234708397, 'classwise_accuracy': {0: array([ 57, 123]), 1: array([33, 71])}, 'DP_ingredients': {'class_pred_count_s0': {1: 29, 0: 17, 2: 7, 3: 9}, 'class_pred_count_s1': {0: 62, 1: 35, 2: 19, 3: 16}, 'class_pred_count': {1: 64, 0: 79, 2: 26, 3: 25}, 'count_s0': 62, 'count_s1': 132, 'count': 194}}\n",
      "[42] Eval metrics for task 2 >> {'accuracy': 0.43588640275387264, 'loss': 0.0, 'std': 0.20697074010327027, 'EER': -1, 'EO': [0.11749680715197963, 0.027878787878787864], 'DP': -1, 'accuracy_s0': 0.45791245791245794, 'accuracy_s1': 0.41310344827586204, 'classwise_accuracy': {3: array([36, 56]), 2: array([19, 83])}, 'DP_ingredients': {'class_pred_count_s0': {1: 12, 3: 30, 0: 10, 2: 8}, 'class_pred_count_s1': {3: 34, 0: 15, 2: 16, 1: 14}, 'class_pred_count': {1: 26, 3: 64, 0: 25, 2: 24}, 'count_s0': 60, 'count_s1': 79, 'count': 139}}\n",
      "[43] Eval metrics for task 1 >> {'accuracy': 0.4600366426199473, 'loss': 0.0, 'std': 0.004752089774418877, 'EER': -1, 'EO': [0.18044515103338632, 0.08082706766917291], 'DP': -1, 'accuracy_s0': 0.47584033613445376, 'accuracy_s1': 0.4260312944523471, 'classwise_accuracy': {1: array([33, 71]), 0: array([ 56, 123])}, 'DP_ingredients': {'class_pred_count_s0': {0: 17, 3: 9, 1: 29, 2: 7}, 'class_pred_count_s1': {1: 36, 2: 19, 0: 61, 3: 16}, 'class_pred_count': {1: 65, 2: 26, 0: 78, 3: 25}, 'count_s0': 62, 'count_s1': 132, 'count': 194}}\n",
      "[43] Eval metrics for task 2 >> {'accuracy': 0.43588640275387264, 'loss': 0.0, 'std': 0.20697074010327027, 'EER': -1, 'EO': [0.11749680715197963, 0.027878787878787864], 'DP': -1, 'accuracy_s0': 0.45791245791245794, 'accuracy_s1': 0.41310344827586204, 'classwise_accuracy': {3: array([36, 56]), 2: array([19, 83])}, 'DP_ingredients': {'class_pred_count_s0': {3: 30, 1: 12, 0: 10, 2: 8}, 'class_pred_count_s1': {3: 34, 2: 18, 0: 14, 1: 13}, 'class_pred_count': {3: 64, 2: 26, 0: 24, 1: 25}, 'count_s0': 60, 'count_s1': 79, 'count': 139}}\n",
      "[44] Eval metrics for task 1 >> {'accuracy': 0.4681667239207603, 'loss': 0.0, 'std': 0.0033779915263941473, 'EER': -1, 'EO': [0.10187969924812029, 0.18044515103338632], 'DP': -1, 'accuracy_s0': 0.47584033613445376, 'accuracy_s1': 0.43655761024182077, 'classwise_accuracy': {0: array([ 58, 123]), 1: array([33, 71])}, 'DP_ingredients': {'class_pred_count_s0': {3: 9, 1: 27, 0: 17, 2: 9}, 'class_pred_count_s1': {0: 63, 3: 14, 1: 35, 2: 20}, 'class_pred_count': {3: 23, 1: 62, 0: 80, 2: 29}, 'count_s0': 62, 'count_s1': 132, 'count': 194}}\n",
      "[44] Eval metrics for task 2 >> {'accuracy': 0.44793459552495696, 'loss': 0.0, 'std': 0.19492254733218592, 'EER': -1, 'EO': [0.017575757575757578, 0.11749680715197963], 'DP': -1, 'accuracy_s0': 0.4730639730639731, 'accuracy_s1': 0.42310344827586205, 'classwise_accuracy': {2: array([21, 83]), 3: array([36, 56])}, 'DP_ingredients': {'class_pred_count_s0': {3: 30, 2: 9, 1: 12, 0: 9}, 'class_pred_count_s1': {2: 19, 1: 12, 0: 14, 3: 34}, 'class_pred_count': {2: 28, 1: 24, 3: 64, 0: 23}, 'count_s0': 60, 'count_s1': 79, 'count': 139}}\n",
      "[45] Eval metrics for task 1 >> {'accuracy': 0.4581472575289133, 'loss': 0.0, 'std': 0.021527539219054176, 'EER': -1, 'EO': [0.11240601503759401, 0.178060413354531], 'DP': -1, 'accuracy_s0': 0.46113445378151263, 'accuracy_s1': 0.4283072546230441, 'classwise_accuracy': {0: array([ 59, 123]), 1: array([31, 71])}, 'DP_ingredients': {'class_pred_count_s0': {1: 26, 3: 8, 0: 18, 2: 10}, 'class_pred_count_s1': {0: 65, 1: 33, 2: 20, 3: 14}, 'class_pred_count': {1: 59, 0: 83, 3: 22, 2: 30}, 'count_s0': 62, 'count_s1': 132, 'count': 194}}\n",
      "[45] Eval metrics for task 2 >> {'accuracy': 0.4298623063683305, 'loss': 0.0, 'std': 0.21299483648881243, 'EER': -1, 'EO': [0.05818181818181817, 0.11749680715197963], 'DP': -1, 'accuracy_s0': 0.4427609427609428, 'accuracy_s1': 0.41310344827586204, 'classwise_accuracy': {2: array([18, 83]), 3: array([36, 56])}, 'DP_ingredients': {'class_pred_count_s0': {3: 30, 0: 10, 2: 7, 1: 13}, 'class_pred_count_s1': {3: 34, 2: 17, 0: 15, 1: 13}, 'class_pred_count': {3: 64, 2: 24, 0: 25, 1: 26}, 'count_s0': 60, 'count_s1': 79, 'count': 139}}\n",
      "[46] Eval metrics for task 1 >> {'accuracy': 0.4540822168785068, 'loss': 0.0, 'std': 0.017462498568647677, 'EER': -1, 'EO': [0.178060413354531, 0.1481203007518797], 'DP': -1, 'accuracy_s0': 0.4432773109243697, 'accuracy_s1': 0.4283072546230441, 'classwise_accuracy': {1: array([31, 71]), 0: array([ 58, 123])}, 'DP_ingredients': {'class_pred_count_s0': {1: 27, 0: 17, 3: 9, 2: 9}, 'class_pred_count_s1': {1: 33, 0: 65, 2: 20, 3: 14}, 'class_pred_count': {1: 60, 0: 82, 2: 29, 3: 23}, 'count_s0': 62, 'count_s1': 132, 'count': 194}}\n",
      "[46] Eval metrics for task 2 >> {'accuracy': 0.4298623063683305, 'loss': 0.0, 'std': 0.21299483648881243, 'EER': -1, 'EO': [0.05818181818181817, 0.11749680715197963], 'DP': -1, 'accuracy_s0': 0.4427609427609428, 'accuracy_s1': 0.41310344827586204, 'classwise_accuracy': {2: array([18, 83]), 3: array([36, 56])}, 'DP_ingredients': {'class_pred_count_s0': {3: 30, 0: 10, 2: 8, 1: 12}, 'class_pred_count_s1': {3: 34, 1: 13, 0: 15, 2: 17}, 'class_pred_count': {3: 64, 1: 25, 0: 25, 2: 25}, 'count_s0': 60, 'count_s1': 79, 'count': 139}}\n",
      "[47] Eval metrics for task 1 >> {'accuracy': 0.46112447039963356, 'loss': 0.0, 'std': 0.010420245047520899, 'EER': -1, 'EO': [0.15103338632750396, 0.1481203007518797], 'DP': -1, 'accuracy_s0': 0.4432773109243697, 'accuracy_s1': 0.44182076813655763, 'classwise_accuracy': {1: array([32, 71]), 0: array([ 58, 123])}, 'DP_ingredients': {'class_pred_count_s0': {1: 26, 2: 11, 0: 17, 3: 8}, 'class_pred_count_s1': {0: 64, 1: 34, 2: 20, 3: 14}, 'class_pred_count': {1: 60, 2: 31, 0: 81, 3: 22}, 'count_s0': 62, 'count_s1': 132, 'count': 194}}\n",
      "[47] Eval metrics for task 2 >> {'accuracy': 0.4419104991394148, 'loss': 0.0, 'std': 0.20094664371772808, 'EER': -1, 'EO': [0.11749680715197963, 0.04787878787878788], 'DP': -1, 'accuracy_s0': 0.45791245791245794, 'accuracy_s1': 0.42310344827586205, 'classwise_accuracy': {3: array([36, 56]), 2: array([20, 83])}, 'DP_ingredients': {'class_pred_count_s0': {3: 30, 0: 8, 1: 12, 2: 10}, 'class_pred_count_s1': {3: 33, 2: 18, 0: 15, 1: 13}, 'class_pred_count': {3: 63, 2: 28, 0: 23, 1: 25}, 'count_s0': 60, 'count_s1': 79, 'count': 139}}\n",
      "[48] Eval metrics for task 1 >> {'accuracy': 0.4570594297492271, 'loss': 0.0, 'std': 0.0063552043971144, 'EER': -1, 'EO': [0.1838345864661654, 0.15103338632750396], 'DP': -1, 'accuracy_s0': 0.42542016806722693, 'accuracy_s1': 0.44182076813655763, 'classwise_accuracy': {0: array([ 57, 123]), 1: array([32, 71])}, 'DP_ingredients': {'class_pred_count_s0': {3: 7, 1: 27, 0: 16, 2: 12}, 'class_pred_count_s1': {0: 64, 1: 34, 2: 21, 3: 13}, 'class_pred_count': {0: 80, 3: 20, 1: 61, 2: 33}, 'count_s0': 62, 'count_s1': 132, 'count': 194}}\n",
      "[48] Eval metrics for task 2 >> {'accuracy': 0.43588640275387264, 'loss': 0.0, 'std': 0.20697074010327027, 'EER': -1, 'EO': [0.11749680715197963, 0.07818181818181819], 'DP': -1, 'accuracy_s0': 0.4427609427609428, 'accuracy_s1': 0.42310344827586205, 'classwise_accuracy': {3: array([36, 56]), 2: array([19, 83])}, 'DP_ingredients': {'class_pred_count_s0': {3: 30, 2: 9, 1: 12, 0: 9}, 'class_pred_count_s1': {1: 13, 0: 15, 2: 18, 3: 33}, 'class_pred_count': {3: 63, 2: 27, 1: 25, 0: 24}, 'count_s0': 60, 'count_s1': 79, 'count': 139}}\n",
      "[49] Eval metrics for task 1 >> {'accuracy': 0.4570594297492271, 'loss': 0.0, 'std': 0.0063552043971144, 'EER': -1, 'EO': [0.15103338632750396, 0.1838345864661654], 'DP': -1, 'accuracy_s0': 0.42542016806722693, 'accuracy_s1': 0.44182076813655763, 'classwise_accuracy': {1: array([32, 71]), 0: array([ 57, 123])}, 'DP_ingredients': {'class_pred_count_s0': {1: 27, 0: 16, 3: 8, 2: 11}, 'class_pred_count_s1': {3: 13, 0: 64, 1: 34, 2: 21}, 'class_pred_count': {1: 61, 3: 21, 0: 80, 2: 32}, 'count_s0': 62, 'count_s1': 132, 'count': 194}}\n",
      "[49] Eval metrics for task 2 >> {'accuracy': 0.43588640275387264, 'loss': 0.0, 'std': 0.20697074010327027, 'EER': -1, 'EO': [0.07818181818181819, 0.11749680715197963], 'DP': -1, 'accuracy_s0': 0.4427609427609428, 'accuracy_s1': 0.42310344827586205, 'classwise_accuracy': {2: array([19, 83]), 3: array([36, 56])}, 'DP_ingredients': {'class_pred_count_s0': {1: 12, 3: 30, 2: 9, 0: 9}, 'class_pred_count_s1': {2: 18, 0: 15, 3: 33, 1: 13}, 'class_pred_count': {2: 27, 1: 25, 0: 24, 3: 63}, 'count_s0': 60, 'count_s1': 79, 'count': 139}}\n",
      "[50] Eval metrics for task 1 >> {'accuracy': 0.46112447039963356, 'loss': 0.0, 'std': 0.010420245047520899, 'EER': -1, 'EO': [0.1481203007518797, 0.15103338632750396], 'DP': -1, 'accuracy_s0': 0.4432773109243697, 'accuracy_s1': 0.44182076813655763, 'classwise_accuracy': {0: array([ 58, 123]), 1: array([32, 71])}, 'DP_ingredients': {'class_pred_count_s0': {1: 27, 0: 17, 2: 10, 3: 8}, 'class_pred_count_s1': {0: 64, 3: 14, 2: 20, 1: 34}, 'class_pred_count': {0: 81, 3: 22, 2: 30, 1: 61}, 'count_s0': 62, 'count_s1': 132, 'count': 194}}\n",
      "[50] Eval metrics for task 2 >> {'accuracy': 0.4419104991394148, 'loss': 0.0, 'std': 0.20094664371772808, 'EER': -1, 'EO': [0.11749680715197963, 0.04787878787878788], 'DP': -1, 'accuracy_s0': 0.45791245791245794, 'accuracy_s1': 0.42310344827586205, 'classwise_accuracy': {3: array([36, 56]), 2: array([20, 83])}, 'DP_ingredients': {'class_pred_count_s0': {3: 30, 2: 10, 1: 12, 0: 8}, 'class_pred_count_s1': {3: 34, 1: 12, 0: 14, 2: 19}, 'class_pred_count': {3: 64, 1: 24, 0: 22, 2: 29}, 'count_s0': 60, 'count_s1': 79, 'count': 139}}\n",
      "Reduce size of class 0 to 48 examplar\n",
      "Reduce size of class 1 to 48 examplar\n",
      "Reduce size of class 2 to 0 examplar\n",
      "Reduce size of class 3 to 0 examplar\n",
      "Reduce size of class 4 to 0 examplar\n",
      "Reduce size of class 5 to 0 examplar\n",
      "construct class 2 examplar:\n",
      "len(self.exemplar_dict[cls])=48\n",
      "construct class 3 examplar:\n",
      "len(self.exemplar_dict[cls])=48\n",
      "update_memory_after_train\n",
      "---------------------------- Task 3 -----------------------\n",
      "[51] Eval metrics for task 1 >> {'accuracy': 0.4627275850223291, 'loss': 0.0, 'std': 0.07248368258330468, 'EER': -1, 'EO': [0.27106518282988873, 0.13533834586466165], 'DP': -1, 'accuracy_s0': 0.4810924369747899, 'accuracy_s1': 0.4132290184921764, 'classwise_accuracy': {1: array([38, 71]), 0: array([ 48, 123])}, 'DP_ingredients': {'class_pred_count_s0': {0: 11, 1: 33, 5: 4, 2: 8, 4: 3, 3: 3}, 'class_pred_count_s1': {0: 55, 1: 40, 2: 26, 3: 5, 4: 5, 5: 1}, 'class_pred_count': {0: 66, 1: 73, 2: 34, 5: 5, 3: 8, 4: 8}, 'count_s0': 62, 'count_s1': 132, 'count': 194}}\n",
      "[51] Eval metrics for task 2 >> {'accuracy': 0.24236230636833045, 'loss': 0.0, 'std': 0.025494836488812386, 'EER': -1, 'EO': [0.05818181818181817, 0.1596424010217114], 'DP': -1, 'accuracy_s0': 0.1835016835016835, 'accuracy_s1': 0.2924137931034483, 'classwise_accuracy': {2: array([18, 83]), 3: array([15, 56])}, 'DP_ingredients': {'class_pred_count_s0': {2: 6, 4: 9, 1: 13, 5: 15, 3: 9, 0: 8}, 'class_pred_count_s1': {3: 21, 2: 18, 5: 8, 4: 6, 1: 13, 0: 13}, 'class_pred_count': {3: 30, 2: 24, 5: 23, 4: 15, 1: 26, 0: 21}, 'count_s0': 60, 'count_s1': 79, 'count': 139}}\n",
      "[51] Eval metrics for task 3 >> {'accuracy': 0.36804511278195484, 'loss': 0.0, 'std': 0.06804511278195488, 'EER': -1, 'EO': [0.13493253373313346, 0.3296703296703297], 'DP': -1, 'accuracy_s0': 0.4490716180371353, 'accuracy_s1': 0.21677018633540374, 'classwise_accuracy': {5: array([ 58, 133]), 4: array([ 30, 100])}, 'DP_ingredients': {'class_pred_count_s0': {1: 9, 5: 69, 4: 52, 3: 13, 0: 1, 2: 8}, 'class_pred_count_s1': {5: 26, 0: 4, 1: 15, 2: 6, 4: 15, 3: 15}, 'class_pred_count': {1: 24, 5: 95, 0: 5, 4: 67, 2: 14, 3: 28}, 'count_s0': 152, 'count_s1': 81, 'count': 233}}\n",
      "[52] Eval metrics for task 1 >> {'accuracy': 0.4434902095499828, 'loss': 0.0, 'std': 0.07763655101339745, 'EER': -1, 'EO': [0.1962406015037594, 0.24165341812400637], 'DP': -1, 'accuracy_s0': 0.43067226890756305, 'accuracy_s1': 0.40796586059743956, 'classwise_accuracy': {0: array([ 45, 123]), 1: array([37, 71])}, 'DP_ingredients': {'class_pred_count_s0': {1: 34, 2: 8, 0: 10, 3: 3, 4: 3, 5: 4}, 'class_pred_count_s1': {0: 55, 2: 23, 1: 42, 3: 6, 4: 5, 5: 1}, 'class_pred_count': {1: 76, 0: 65, 2: 31, 3: 9, 4: 8, 5: 5}, 'count_s0': 62, 'count_s1': 132, 'count': 194}}\n",
      "[52] Eval metrics for task 2 >> {'accuracy': 0.23945783132530118, 'loss': 0.0, 'std': 0.010542168674698801, 'EER': -1, 'EO': [0.12515964240102173, 0.07818181818181819], 'DP': -1, 'accuracy_s0': 0.1835016835016835, 'accuracy_s1': 0.28517241379310343, 'classwise_accuracy': {3: array([14, 56]), 2: array([19, 83])}, 'DP_ingredients': {'class_pred_count_s0': {4: 8, 3: 8, 0: 9, 5: 19, 1: 9, 2: 7}, 'class_pred_count_s1': {0: 21, 2: 18, 3: 16, 1: 7, 4: 10, 5: 7}, 'class_pred_count': {4: 18, 3: 24, 0: 30, 5: 26, 2: 25, 1: 16}, 'count_s0': 60, 'count_s1': 79, 'count': 139}}\n",
      "[52] Eval metrics for task 3 >> {'accuracy': 0.4118045112781955, 'loss': 0.0, 'std': 0.031804511278195474, 'EER': -1, 'EO': [0.11319340329835087, 0.3648351648351648], 'DP': -1, 'accuracy_s0': 0.49522546419098146, 'accuracy_s1': 0.2562111801242236, 'classwise_accuracy': {5: array([ 59, 133]), 4: array([ 38, 100])}, 'DP_ingredients': {'class_pred_count_s0': {4: 61, 5: 67, 2: 6, 0: 2, 1: 7, 3: 9}, 'class_pred_count_s1': {5: 26, 1: 12, 2: 6, 4: 18, 3: 15, 0: 4}, 'class_pred_count': {4: 79, 5: 93, 1: 19, 2: 12, 0: 6, 3: 24}, 'count_s0': 152, 'count_s1': 81, 'count': 233}}\n",
      "[53] Eval metrics for task 1 >> {'accuracy': 0.4778999198442689, 'loss': 0.0, 'std': 0.07139585480361849, 'EER': -1, 'EO': [0.11015037593984961, 0.2440381558028617], 'DP': -1, 'accuracy_s0': 0.4989495798319328, 'accuracy_s1': 0.43200568990042676, 'classwise_accuracy': {0: array([ 50, 123]), 1: array([39, 71])}, 'DP_ingredients': {'class_pred_count_s0': {1: 34, 0: 13, 3: 1, 2: 10, 5: 3, 4: 1}, 'class_pred_count_s1': {0: 57, 2: 24, 3: 4, 1: 41, 5: 1, 4: 5}, 'class_pred_count': {0: 70, 2: 34, 3: 5, 1: 75, 5: 4, 4: 6}, 'count_s0': 62, 'count_s1': 132, 'count': 194}}\n",
      "[53] Eval metrics for task 2 >> {'accuracy': 0.19212564543889846, 'loss': 0.0, 'std': 0.08498278829604132, 'EER': -1, 'EO': [0.1581818181818182, 0.007662835249042141], 'DP': -1, 'accuracy_s0': 0.14646464646464646, 'accuracy_s1': 0.2217241379310345, 'classwise_accuracy': {2: array([23, 83]), 3: array([ 6, 56])}, 'DP_ingredients': {'class_pred_count_s0': {0: 8, 5: 20, 1: 15, 3: 8, 2: 8, 4: 1}, 'class_pred_count_s1': {0: 16, 1: 9, 4: 9, 2: 29, 3: 9, 5: 7}, 'class_pred_count': {0: 24, 5: 27, 1: 24, 4: 10, 2: 37, 3: 17}, 'count_s0': 60, 'count_s1': 79, 'count': 139}}\n",
      "[53] Eval metrics for task 3 >> {'accuracy': 0.37447368421052635, 'loss': 0.0, 'std': 0.20447368421052634, 'EER': -1, 'EO': [0.08571428571428573, 0.18715642178910546], 'DP': -1, 'accuracy_s0': 0.42183908045977014, 'accuracy_s1': 0.2854037267080745, 'classwise_accuracy': {4: array([ 17, 100]), 5: array([ 77, 133])}, 'DP_ingredients': {'class_pred_count_s0': {5: 97, 0: 3, 3: 11, 4: 23, 2: 7, 1: 11}, 'class_pred_count_s1': {5: 30, 3: 13, 4: 11, 2: 8, 1: 13, 0: 6}, 'class_pred_count': {5: 127, 0: 9, 3: 24, 4: 34, 2: 15, 1: 24}, 'count_s0': 152, 'count_s1': 81, 'count': 233}}\n",
      "[54] Eval metrics for task 1 >> {'accuracy': 0.4797893049353029, 'loss': 0.0, 'std': 0.09767548379709148, 'EER': -1, 'EO': [0.12481203007518799, 0.3028616852146264], 'DP': -1, 'accuracy_s0': 0.5105042016806722, 'accuracy_s1': 0.42147937411095304, 'classwise_accuracy': {0: array([ 47, 123]), 1: array([41, 71])}, 'DP_ingredients': {'class_pred_count_s0': {1: 37, 5: 1, 0: 12, 4: 4, 3: 2, 2: 6}, 'class_pred_count_s1': {5: 2, 0: 56, 4: 4, 1: 43, 2: 21, 3: 6}, 'class_pred_count': {5: 3, 0: 68, 4: 8, 1: 80, 2: 27, 3: 8}, 'count_s0': 62, 'count_s1': 132, 'count': 194}}\n",
      "[54] Eval metrics for task 2 >> {'accuracy': 0.1919104991394148, 'loss': 0.0, 'std': 0.04905335628227195, 'EER': -1, 'EO': [0.1987878787878788, 0.010217113665389521], 'DP': -1, 'accuracy_s0': 0.13468013468013468, 'accuracy_s1': 0.2289655172413793, 'classwise_accuracy': {2: array([20, 83]), 3: array([ 8, 56])}, 'DP_ingredients': {'class_pred_count_s0': {3: 9, 1: 16, 5: 22, 0: 7, 4: 1, 2: 5}, 'class_pred_count_s1': {0: 16, 1: 10, 3: 10, 5: 8, 2: 25, 4: 10}, 'class_pred_count': {0: 23, 1: 26, 3: 19, 5: 30, 2: 30, 4: 11}, 'count_s0': 60, 'count_s1': 79, 'count': 139}}\n",
      "[54] Eval metrics for task 3 >> {'accuracy': 0.3919172932330827, 'loss': 0.0, 'std': 0.14191729323308272, 'EER': -1, 'EO': [0.1208791208791209, 0.11819090454772613], 'DP': -1, 'accuracy_s0': 0.43351016799292663, 'accuracy_s1': 0.3139751552795031, 'classwise_accuracy': {4: array([ 25, 100]), 5: array([ 71, 133])}, 'DP_ingredients': {'class_pred_count_s0': {5: 89, 4: 37, 2: 8, 3: 6, 1: 10, 0: 2}, 'class_pred_count_s1': {1: 14, 3: 13, 0: 5, 5: 30, 4: 14, 2: 5}, 'class_pred_count': {5: 119, 1: 24, 4: 51, 3: 19, 0: 7, 2: 13}, 'count_s0': 152, 'count_s1': 81, 'count': 233}}\n",
      "[55] Eval metrics for task 1 >> {'accuracy': 0.48574373067674337, 'loss': 0.0, 'std': 0.11989007214015801, 'EER': -1, 'EO': [0.1037593984962406, 0.30524642289348164], 'DP': -1, 'accuracy_s0': 0.5252100840336134, 'accuracy_s1': 0.4244665718349929, 'classwise_accuracy': {0: array([ 45, 123]), 1: array([43, 71])}, 'DP_ingredients': {'class_pred_count_s0': {3: 3, 0: 11, 1: 38, 2: 6, 4: 3, 5: 1}, 'class_pred_count_s1': {2: 25, 1: 44, 0: 53, 3: 5, 5: 3, 4: 2}, 'class_pred_count': {2: 31, 1: 82, 0: 64, 3: 8, 4: 5, 5: 4}, 'count_s0': 62, 'count_s1': 132, 'count': 194}}\n",
      "[55] Eval metrics for task 2 >> {'accuracy': 0.22493545611015492, 'loss': 0.0, 'std': 0.06422117039586918, 'EER': -1, 'EO': [0.17818181818181816, 0.09578544061302682], 'DP': -1, 'accuracy_s0': 0.14646464646464646, 'accuracy_s1': 0.28344827586206894, 'classwise_accuracy': {2: array([24, 83]), 3: array([ 9, 56])}, 'DP_ingredients': {'class_pred_count_s0': {0: 9, 5: 21, 2: 7, 3: 7, 1: 14, 4: 2}, 'class_pred_count_s1': {0: 14, 1: 10, 3: 12, 4: 8, 2: 26, 5: 9}, 'class_pred_count': {0: 23, 1: 24, 5: 30, 2: 33, 3: 19, 4: 10}, 'count_s0': 60, 'count_s1': 79, 'count': 139}}\n",
      "[55] Eval metrics for task 3 >> {'accuracy': 0.3881578947368421, 'loss': 0.0, 'std': 0.1381578947368421, 'EER': -1, 'EO': [0.07692307692307693, 0.13993003498250872], 'DP': -1, 'accuracy_s0': 0.4258178603006189, 'accuracy_s1': 0.3173913043478261, 'classwise_accuracy': {4: array([ 25, 100]), 5: array([ 70, 133])}, 'DP_ingredients': {'class_pred_count_s0': {5: 89, 4: 36, 1: 10, 3: 8, 2: 8, 0: 1}, 'class_pred_count_s1': {1: 15, 5: 28, 3: 13, 0: 6, 4: 14, 2: 5}, 'class_pred_count': {5: 117, 1: 25, 3: 21, 4: 50, 0: 7, 2: 13}, 'count_s0': 152, 'count_s1': 81, 'count': 233}}\n",
      "[56] Eval metrics for task 1 >> {'accuracy': 0.47463643650521015, 'loss': 0.0, 'std': 0.11691285926943776, 'EER': -1, 'EO': [0.09323308270676695, 0.21939586645469], 'DP': -1, 'accuracy_s0': 0.4957983193277311, 'accuracy_s1': 0.43271692745376955, 'classwise_accuracy': {0: array([ 44, 123]), 1: array([42, 71])}, 'DP_ingredients': {'class_pred_count_s0': {0: 11, 1: 35, 5: 2, 2: 9, 4: 3, 3: 2}, 'class_pred_count_s1': {1: 46, 0: 50, 2: 25, 3: 6, 5: 2, 4: 3}, 'class_pred_count': {1: 81, 0: 61, 2: 34, 5: 4, 3: 8, 4: 6}, 'count_s0': 62, 'count_s1': 132, 'count': 194}}\n",
      "[56] Eval metrics for task 2 >> {'accuracy': 0.21891135972461273, 'loss': 0.0, 'std': 0.05819707401032702, 'EER': -1, 'EO': [0.20848484848484847, 0.09578544061302682], 'DP': -1, 'accuracy_s0': 0.13131313131313133, 'accuracy_s1': 0.28344827586206894, 'classwise_accuracy': {2: array([23, 83]), 3: array([ 9, 56])}, 'DP_ingredients': {'class_pred_count_s0': {5: 21, 0: 11, 4: 3, 3: 7, 1: 12, 2: 6}, 'class_pred_count_s1': {2: 26, 3: 12, 0: 13, 5: 8, 1: 11, 4: 9}, 'class_pred_count': {2: 32, 3: 19, 5: 29, 0: 24, 4: 12, 1: 23}, 'count_s0': 60, 'count_s1': 79, 'count': 139}}\n",
      "[56] Eval metrics for task 3 >> {'accuracy': 0.3743984962406015, 'loss': 0.0, 'std': 0.1443984962406015, 'EER': -1, 'EO': [0.19490254872563711, 0.1340659340659341], 'DP': -1, 'accuracy_s0': 0.4315649867374005, 'accuracy_s1': 0.2670807453416149, 'classwise_accuracy': {5: array([ 69, 133]), 4: array([ 23, 100])}, 'DP_ingredients': {'class_pred_count_s0': {4: 35, 5: 90, 2: 8, 0: 3, 1: 8, 3: 8}, 'class_pred_count_s1': {5: 25, 2: 5, 0: 6, 4: 14, 3: 16, 1: 15}, 'class_pred_count': {4: 49, 5: 115, 2: 13, 0: 9, 3: 24, 1: 23}, 'count_s0': 152, 'count_s1': 81, 'count': 233}}\n",
      "[57] Eval metrics for task 1 >> {'accuracy': 0.48574373067674337, 'loss': 0.0, 'std': 0.11989007214015801, 'EER': -1, 'EO': [0.1037593984962406, 0.07949125596184425], 'DP': -1, 'accuracy_s0': 0.46638655462184875, 'accuracy_s1': 0.4785206258890469, 'classwise_accuracy': {0: array([ 45, 123]), 1: array([43, 71])}, 'DP_ingredients': {'class_pred_count_s0': {1: 33, 4: 4, 2: 8, 0: 12, 3: 3, 5: 2}, 'class_pred_count_s1': {3: 7, 0: 49, 1: 48, 5: 3, 2: 23, 4: 2}, 'class_pred_count': {3: 10, 0: 61, 1: 81, 5: 5, 2: 31, 4: 6}, 'count_s0': 62, 'count_s1': 132, 'count': 194}}\n",
      "[57] Eval metrics for task 2 >> {'accuracy': 0.2128872633390706, 'loss': 0.0, 'std': 0.05217297762478486, 'EER': -1, 'EO': [0.09578544061302682, 0.23878787878787877], 'DP': -1, 'accuracy_s0': 0.11616161616161616, 'accuracy_s1': 0.28344827586206894, 'classwise_accuracy': {3: array([ 9, 56]), 2: array([22, 83])}, 'DP_ingredients': {'class_pred_count_s0': {4: 6, 1: 13, 2: 5, 5: 18, 0: 10, 3: 8}, 'class_pred_count_s1': {0: 12, 2: 26, 4: 8, 5: 9, 1: 12, 3: 12}, 'class_pred_count': {0: 22, 2: 31, 4: 14, 5: 27, 1: 25, 3: 20}, 'count_s0': 60, 'count_s1': 79, 'count': 139}}\n",
      "[57] Eval metrics for task 3 >> {'accuracy': 0.3718796992481203, 'loss': 0.0, 'std': 0.13187969924812032, 'EER': -1, 'EO': [0.10549450549450551, 0.20514742628685656], 'DP': -1, 'accuracy_s0': 0.4258178603006189, 'accuracy_s1': 0.27049689440993785, 'classwise_accuracy': {4: array([ 24, 100]), 5: array([ 67, 133])}, 'DP_ingredients': {'class_pred_count_s0': {5: 88, 3: 9, 4: 36, 2: 8, 1: 9, 0: 2}, 'class_pred_count_s1': {3: 16, 4: 16, 0: 6, 5: 23, 1: 14, 2: 6}, 'class_pred_count': {5: 111, 3: 25, 4: 52, 0: 8, 2: 14, 1: 23}, 'count_s0': 152, 'count_s1': 81, 'count': 233}}\n",
      "[58] Eval metrics for task 1 >> {'accuracy': 0.4675941829840834, 'loss': 0.0, 'std': 0.109870605748311, 'EER': -1, 'EO': [0.07710651828298887, 0.1394736842105263], 'DP': -1, 'accuracy_s0': 0.4338235294117647, 'accuracy_s1': 0.46500711237553344, 'classwise_accuracy': {1: array([41, 71]), 0: array([ 44, 123])}, 'DP_ingredients': {'class_pred_count_s0': {0: 12, 1: 32, 2: 7, 3: 4, 4: 5, 5: 2}, 'class_pred_count_s1': {0: 49, 5: 3, 1: 47, 2: 24, 3: 7, 4: 2}, 'class_pred_count': {0: 61, 1: 79, 5: 5, 2: 31, 3: 11, 4: 7}, 'count_s0': 62, 'count_s1': 132, 'count': 194}}\n",
      "[58] Eval metrics for task 2 >> {'accuracy': 0.24569707401032703, 'loss': 0.0, 'std': 0.031411359724612745, 'EER': -1, 'EO': [0.1992337164750958, 0.2587878787878788], 'DP': -1, 'accuracy_s0': 0.11616161616161616, 'accuracy_s1': 0.3451724137931035, 'classwise_accuracy': {3: array([12, 56]), 2: array([23, 83])}, 'DP_ingredients': {'class_pred_count_s0': {5: 19, 1: 10, 0: 11, 4: 7, 3: 8, 2: 5}, 'class_pred_count_s1': {0: 11, 1: 12, 2: 26, 3: 15, 4: 7, 5: 8}, 'class_pred_count': {5: 27, 0: 22, 1: 22, 2: 31, 3: 23, 4: 14}, 'count_s0': 60, 'count_s1': 79, 'count': 139}}\n",
      "[58] Eval metrics for task 3 >> {'accuracy': 0.35684210526315785, 'loss': 0.0, 'std': 0.11684210526315789, 'EER': -1, 'EO': [0.14945054945054947, 0.19240379810094954], 'DP': -1, 'accuracy_s0': 0.41626878868258177, 'accuracy_s1': 0.2453416149068323, 'classwise_accuracy': {4: array([ 24, 100]), 5: array([ 63, 133])}, 'DP_ingredients': {'class_pred_count_s0': {3: 10, 5: 84, 1: 9, 4: 40, 2: 7, 0: 2}, 'class_pred_count_s1': {1: 14, 3: 16, 5: 23, 4: 16, 0: 6, 2: 6}, 'class_pred_count': {3: 26, 5: 107, 1: 23, 4: 56, 2: 13, 0: 8}, 'count_s0': 152, 'count_s1': 81, 'count': 233}}\n",
      "[59] Eval metrics for task 1 >> {'accuracy': 0.46352914233367687, 'loss': 0.0, 'std': 0.1139356463987175, 'EER': -1, 'EO': [0.12894736842105264, 0.07710651828298887], 'DP': -1, 'accuracy_s0': 0.4338235294117647, 'accuracy_s1': 0.45974395448079663, 'classwise_accuracy': {0: array([ 43, 123]), 1: array([41, 71])}, 'DP_ingredients': {'class_pred_count_s0': {1: 32, 4: 4, 0: 12, 5: 3, 3: 6, 2: 5}, 'class_pred_count_s1': {5: 3, 2: 24, 3: 7, 0: 47, 1: 49, 4: 2}, 'class_pred_count': {1: 81, 5: 6, 2: 29, 3: 13, 0: 59, 4: 6}, 'count_s0': 62, 'count_s1': 132, 'count': 194}}\n",
      "[59] Eval metrics for task 2 >> {'accuracy': 0.25172117039586916, 'loss': 0.0, 'std': 0.037435456110154905, 'EER': -1, 'EO': [0.1992337164750958, 0.2787878787878788], 'DP': -1, 'accuracy_s0': 0.11616161616161616, 'accuracy_s1': 0.3551724137931035, 'classwise_accuracy': {3: array([12, 56]), 2: array([24, 83])}, 'DP_ingredients': {'class_pred_count_s0': {1: 10, 3: 9, 0: 11, 4: 8, 5: 17, 2: 5}, 'class_pred_count_s1': {3: 15, 2: 27, 1: 12, 5: 8, 4: 7, 0: 10}, 'class_pred_count': {3: 24, 1: 22, 2: 32, 5: 25, 0: 21, 4: 15}, 'count_s0': 60, 'count_s1': 79, 'count': 139}}\n",
      "[59] Eval metrics for task 3 >> {'accuracy': 0.35680451127819546, 'loss': 0.0, 'std': 0.08680451127819547, 'EER': -1, 'EO': [0.21289355322338832, 0.15164835164835166], 'DP': -1, 'accuracy_s0': 0.420159151193634, 'accuracy_s1': 0.23788819875776399, 'classwise_accuracy': {5: array([ 59, 133]), 4: array([ 27, 100])}, 'DP_ingredients': {'class_pred_count_s0': {5: 81, 4: 44, 0: 2, 1: 9, 3: 9, 2: 7}, 'class_pred_count_s1': {0: 6, 4: 19, 5: 20, 3: 17, 1: 14, 2: 5}, 'class_pred_count': {0: 8, 5: 101, 4: 63, 3: 26, 1: 23, 2: 12}, 'count_s0': 152, 'count_s1': 81, 'count': 233}}\n",
      "[60] Eval metrics for task 1 >> {'accuracy': 0.47165922363448987, 'loss': 0.0, 'std': 0.10580556509790451, 'EER': -1, 'EO': [0.1037593984962406, 0.07710651828298887], 'DP': -1, 'accuracy_s0': 0.45168067226890757, 'accuracy_s1': 0.46500711237553344, 'classwise_accuracy': {0: array([ 45, 123]), 1: array([41, 71])}, 'DP_ingredients': {'class_pred_count_s0': {2: 5, 0: 13, 1: 31, 5: 5, 4: 4, 3: 4}, 'class_pred_count_s1': {1: 48, 0: 48, 2: 24, 3: 7, 5: 3, 4: 2}, 'class_pred_count': {1: 79, 0: 61, 2: 29, 5: 8, 4: 6, 3: 11}, 'count_s0': 62, 'count_s1': 132, 'count': 194}}\n",
      "[60] Eval metrics for task 2 >> {'accuracy': 0.24569707401032703, 'loss': 0.0, 'std': 0.031411359724612745, 'EER': -1, 'EO': [0.2587878787878788, 0.1992337164750958], 'DP': -1, 'accuracy_s0': 0.11616161616161616, 'accuracy_s1': 0.3451724137931035, 'classwise_accuracy': {2: array([23, 83]), 3: array([12, 56])}, 'DP_ingredients': {'class_pred_count_s0': {4: 9, 3: 8, 0: 11, 5: 17, 1: 10, 2: 5}, 'class_pred_count_s1': {2: 26, 5: 7, 1: 12, 0: 11, 3: 15, 4: 8}, 'class_pred_count': {2: 31, 5: 24, 1: 22, 0: 22, 3: 23, 4: 17}, 'count_s0': 60, 'count_s1': 79, 'count': 139}}\n",
      "[60] Eval metrics for task 3 >> {'accuracy': 0.35680451127819546, 'loss': 0.0, 'std': 0.08680451127819547, 'EER': -1, 'EO': [0.21289355322338832, 0.19560439560439563], 'DP': -1, 'accuracy_s0': 0.42785145888594167, 'accuracy_s1': 0.2236024844720497, 'classwise_accuracy': {5: array([ 59, 133]), 4: array([ 27, 100])}, 'DP_ingredients': {'class_pred_count_s0': {1: 9, 5: 81, 4: 45, 3: 8, 2: 7, 0: 2}, 'class_pred_count_s1': {1: 14, 5: 21, 3: 16, 4: 18, 0: 6, 2: 6}, 'class_pred_count': {1: 23, 5: 102, 4: 63, 3: 24, 2: 13, 0: 8}, 'count_s0': 152, 'count_s1': 81, 'count': 233}}\n",
      "[61] Eval metrics for task 1 >> {'accuracy': 0.47165922363448987, 'loss': 0.0, 'std': 0.10580556509790451, 'EER': -1, 'EO': [0.1037593984962406, 0.07710651828298887], 'DP': -1, 'accuracy_s0': 0.45168067226890757, 'accuracy_s1': 0.46500711237553344, 'classwise_accuracy': {0: array([ 45, 123]), 1: array([41, 71])}, 'DP_ingredients': {'class_pred_count_s0': {4: 4, 1: 31, 0: 13, 3: 4, 2: 5, 5: 5}, 'class_pred_count_s1': {0: 48, 2: 24, 1: 48, 3: 7, 5: 3, 4: 2}, 'class_pred_count': {0: 61, 2: 29, 4: 6, 1: 79, 3: 11, 5: 8}, 'count_s0': 62, 'count_s1': 132, 'count': 194}}\n",
      "[61] Eval metrics for task 2 >> {'accuracy': 0.24569707401032703, 'loss': 0.0, 'std': 0.031411359724612745, 'EER': -1, 'EO': [0.1992337164750958, 0.2587878787878788], 'DP': -1, 'accuracy_s0': 0.11616161616161616, 'accuracy_s1': 0.3451724137931035, 'classwise_accuracy': {3: array([12, 56]), 2: array([23, 83])}, 'DP_ingredients': {'class_pred_count_s0': {0: 11, 5: 17, 1: 10, 4: 9, 3: 8, 2: 5}, 'class_pred_count_s1': {2: 26, 0: 11, 3: 15, 4: 8, 1: 12, 5: 7}, 'class_pred_count': {2: 31, 0: 22, 5: 24, 3: 23, 1: 22, 4: 17}, 'count_s0': 60, 'count_s1': 79, 'count': 139}}\n",
      "[61] Eval metrics for task 3 >> {'accuracy': 0.3643233082706767, 'loss': 0.0, 'std': 0.09432330827067667, 'EER': -1, 'EO': [0.19560439560439563, 0.16941529235382313], 'DP': -1, 'accuracy_s0': 0.42785145888594167, 'accuracy_s1': 0.2453416149068323, 'classwise_accuracy': {4: array([ 27, 100]), 5: array([ 61, 133])}, 'DP_ingredients': {'class_pred_count_s0': {5: 81, 1: 9, 4: 45, 3: 8, 2: 7, 0: 2}, 'class_pred_count_s1': {5: 23, 1: 12, 2: 7, 3: 16, 4: 17, 0: 6}, 'class_pred_count': {5: 104, 1: 21, 4: 62, 2: 14, 3: 24, 0: 8}, 'count_s0': 152, 'count_s1': 81, 'count': 233}}\n",
      "[62] Eval metrics for task 1 >> {'accuracy': 0.46055192946295664, 'loss': 0.0, 'std': 0.10282835222718426, 'EER': -1, 'EO': [0.09323308270676695, 0.10413354531001595], 'DP': -1, 'accuracy_s0': 0.45168067226890757, 'accuracy_s1': 0.44623044096728304, 'classwise_accuracy': {0: array([ 44, 123]), 1: array([40, 71])}, 'DP_ingredients': {'class_pred_count_s0': {5: 5, 2: 5, 0: 13, 4: 4, 1: 31, 3: 4}, 'class_pred_count_s1': {2: 25, 1: 47, 4: 2, 3: 7, 0: 48, 5: 3}, 'class_pred_count': {2: 30, 1: 78, 4: 6, 5: 8, 3: 11, 0: 61}, 'count_s0': 62, 'count_s1': 132, 'count': 194}}\n",
      "[62] Eval metrics for task 2 >> {'accuracy': 0.23676850258175558, 'loss': 0.0, 'std': 0.04033993115318417, 'EER': -1, 'EO': [0.23627075351213284, 0.2587878787878788], 'DP': -1, 'accuracy_s0': 0.09764309764309764, 'accuracy_s1': 0.3451724137931035, 'classwise_accuracy': {3: array([11, 56]), 2: array([23, 83])}, 'DP_ingredients': {'class_pred_count_s0': {3: 7, 0: 11, 4: 10, 1: 10, 5: 17, 2: 5}, 'class_pred_count_s1': {2: 26, 0: 11, 1: 12, 4: 9, 3: 15, 5: 6}, 'class_pred_count': {3: 22, 2: 31, 0: 22, 1: 22, 4: 19, 5: 23}, 'count_s0': 60, 'count_s1': 79, 'count': 139}}\n",
      "[62] Eval metrics for task 3 >> {'accuracy': 0.3693233082706767, 'loss': 0.0, 'std': 0.08932330827067667, 'EER': -1, 'EO': [0.16703296703296705, 0.16941529235382313], 'DP': -1, 'accuracy_s0': 0.42785145888594167, 'accuracy_s1': 0.2596273291925466, 'classwise_accuracy': {4: array([ 28, 100]), 5: array([ 61, 133])}, 'DP_ingredients': {'class_pred_count_s0': {5: 81, 1: 9, 3: 8, 4: 45, 2: 7, 0: 2}, 'class_pred_count_s1': {4: 18, 3: 16, 5: 23, 1: 12, 0: 6, 2: 6}, 'class_pred_count': {5: 104, 1: 21, 3: 24, 4: 63, 0: 8, 2: 13}, 'count_s0': 152, 'count_s1': 81, 'count': 233}}\n",
      "[63] Eval metrics for task 1 >> {'accuracy': 0.45757471659223636, 'loss': 0.0, 'std': 0.091721058055651, 'EER': -1, 'EO': [0.1037593984962406, 0.13116057233704292], 'DP': -1, 'accuracy_s0': 0.45168067226890757, 'accuracy_s1': 0.4379800853485064, 'classwise_accuracy': {0: array([ 45, 123]), 1: array([39, 71])}, 'DP_ingredients': {'class_pred_count_s0': {0: 13, 1: 31, 5: 6, 3: 5, 2: 4, 4: 3}, 'class_pred_count_s1': {0: 49, 2: 24, 1: 46, 3: 8, 5: 3, 4: 2}, 'class_pred_count': {0: 62, 2: 28, 1: 77, 3: 13, 5: 9, 4: 5}, 'count_s0': 62, 'count_s1': 132, 'count': 194}}\n",
      "[63] Eval metrics for task 2 >> {'accuracy': 0.23074440619621345, 'loss': 0.0, 'std': 0.03431583476764201, 'EER': -1, 'EO': [0.23627075351213284, 0.23878787878787877], 'DP': -1, 'accuracy_s0': 0.09764309764309764, 'accuracy_s1': 0.3351724137931035, 'classwise_accuracy': {3: array([11, 56]), 2: array([22, 83])}, 'DP_ingredients': {'class_pred_count_s0': {5: 17, 1: 10, 0: 11, 3: 7, 2: 5, 4: 10}, 'class_pred_count_s1': {1: 12, 2: 25, 4: 9, 3: 16, 5: 6, 0: 11}, 'class_pred_count': {5: 23, 1: 22, 0: 22, 3: 23, 2: 30, 4: 19}, 'count_s0': 60, 'count_s1': 79, 'count': 139}}\n",
      "[63] Eval metrics for task 3 >> {'accuracy': 0.3730827067669173, 'loss': 0.0, 'std': 0.09308270676691727, 'EER': -1, 'EO': [0.16703296703296705, 0.18090954522738634], 'DP': -1, 'accuracy_s0': 0.4335985853227233, 'accuracy_s1': 0.2596273291925466, 'classwise_accuracy': {4: array([ 28, 100]), 5: array([ 62, 133])}, 'DP_ingredients': {'class_pred_count_s0': {5: 82, 4: 45, 3: 7, 1: 9, 0: 2, 2: 7}, 'class_pred_count_s1': {3: 16, 4: 18, 5: 23, 1: 12, 2: 6, 0: 6}, 'class_pred_count': {5: 105, 3: 23, 4: 63, 1: 21, 0: 8, 2: 13}, 'count_s0': 152, 'count_s1': 81, 'count': 233}}\n",
      "[64] Eval metrics for task 1 >> {'accuracy': 0.46055192946295664, 'loss': 0.0, 'std': 0.10282835222718426, 'EER': -1, 'EO': [0.09323308270676695, 0.16057233704292528], 'DP': -1, 'accuracy_s0': 0.46638655462184875, 'accuracy_s1': 0.43271692745376955, 'classwise_accuracy': {0: array([ 44, 123]), 1: array([40, 71])}, 'DP_ingredients': {'class_pred_count_s0': {1: 32, 4: 4, 0: 13, 2: 4, 3: 4, 5: 5}, 'class_pred_count_s1': {0: 48, 2: 25, 1: 46, 5: 3, 3: 8, 4: 2}, 'class_pred_count': {0: 61, 2: 29, 1: 78, 4: 6, 3: 12, 5: 8}, 'count_s0': 62, 'count_s1': 132, 'count': 194}}\n",
      "[64] Eval metrics for task 2 >> {'accuracy': 0.23074440619621345, 'loss': 0.0, 'std': 0.03431583476764201, 'EER': -1, 'EO': [0.23627075351213284, 0.23878787878787877], 'DP': -1, 'accuracy_s0': 0.09764309764309764, 'accuracy_s1': 0.3351724137931035, 'classwise_accuracy': {3: array([11, 56]), 2: array([22, 83])}, 'DP_ingredients': {'class_pred_count_s0': {3: 7, 1: 10, 5: 17, 4: 10, 0: 11, 2: 5}, 'class_pred_count_s1': {0: 11, 2: 25, 3: 16, 5: 6, 1: 12, 4: 9}, 'class_pred_count': {3: 23, 0: 22, 1: 22, 5: 23, 2: 30, 4: 19}, 'count_s0': 60, 'count_s1': 79, 'count': 139}}\n",
      "[64] Eval metrics for task 3 >> {'accuracy': 0.37184210526315786, 'loss': 0.0, 'std': 0.10184210526315787, 'EER': -1, 'EO': [0.22563718140929534, 0.19560439560439563], 'DP': -1, 'accuracy_s0': 0.4450928381962865, 'accuracy_s1': 0.234472049689441, 'classwise_accuracy': {5: array([ 63, 133]), 4: array([ 27, 100])}, 'DP_ingredients': {'class_pred_count_s0': {5: 84, 4: 43, 1: 9, 3: 7, 2: 7, 0: 2}, 'class_pred_count_s1': {0: 6, 5: 23, 2: 6, 1: 12, 4: 18, 3: 16}, 'class_pred_count': {0: 8, 5: 107, 4: 61, 1: 21, 2: 13, 3: 23}, 'count_s0': 152, 'count_s1': 81, 'count': 233}}\n",
      "[65] Eval metrics for task 1 >> {'accuracy': 0.4535096759418299, 'loss': 0.0, 'std': 0.0957860987060575, 'EER': -1, 'EO': [0.09323308270676695, 0.13116057233704292], 'DP': -1, 'accuracy_s0': 0.45168067226890757, 'accuracy_s1': 0.43271692745376955, 'classwise_accuracy': {0: array([ 44, 123]), 1: array([39, 71])}, 'DP_ingredients': {'class_pred_count_s0': {3: 4, 1: 31, 2: 5, 0: 13, 5: 5, 4: 4}, 'class_pred_count_s1': {2: 25, 0: 48, 1: 46, 3: 8, 4: 2, 5: 3}, 'class_pred_count': {2: 30, 3: 12, 1: 77, 0: 61, 4: 6, 5: 8}, 'count_s0': 62, 'count_s1': 132, 'count': 194}}\n",
      "[65] Eval metrics for task 2 >> {'accuracy': 0.23074440619621345, 'loss': 0.0, 'std': 0.03431583476764201, 'EER': -1, 'EO': [0.23878787878787877, 0.23627075351213284], 'DP': -1, 'accuracy_s0': 0.09764309764309764, 'accuracy_s1': 0.3351724137931035, 'classwise_accuracy': {2: array([22, 83]), 3: array([11, 56])}, 'DP_ingredients': {'class_pred_count_s0': {0: 11, 4: 10, 2: 5, 1: 10, 5: 17, 3: 7}, 'class_pred_count_s1': {3: 16, 2: 25, 5: 6, 1: 12, 0: 11, 4: 9}, 'class_pred_count': {0: 22, 4: 19, 2: 30, 3: 23, 1: 22, 5: 23}, 'count_s0': 60, 'count_s1': 79, 'count': 139}}\n",
      "[65] Eval metrics for task 3 >> {'accuracy': 0.37684210526315787, 'loss': 0.0, 'std': 0.09684210526315787, 'EER': -1, 'EO': [0.22563718140929534, 0.21098901098901102], 'DP': -1, 'accuracy_s0': 0.4527851458885942, 'accuracy_s1': 0.234472049689441, 'classwise_accuracy': {5: array([ 63, 133]), 4: array([ 28, 100])}, 'DP_ingredients': {'class_pred_count_s0': {5: 83, 4: 44, 2: 7, 1: 9, 3: 7, 0: 2}, 'class_pred_count_s1': {5: 23, 1: 12, 4: 18, 0: 6, 2: 6, 3: 16}, 'class_pred_count': {5: 106, 1: 21, 4: 62, 0: 8, 2: 13, 3: 23}, 'count_s0': 152, 'count_s1': 81, 'count': 233}}\n",
      "[66] Eval metrics for task 1 >> {'accuracy': 0.44944463529142337, 'loss': 0.0, 'std': 0.099851139356464, 'EER': -1, 'EO': [0.08270676691729323, 0.13116057233704292], 'DP': -1, 'accuracy_s0': 0.45168067226890757, 'accuracy_s1': 0.4274537695590327, 'classwise_accuracy': {0: array([ 43, 123]), 1: array([39, 71])}, 'DP_ingredients': {'class_pred_count_s0': {5: 5, 1: 31, 4: 4, 0: 13, 2: 4, 3: 5}, 'class_pred_count_s1': {0: 47, 2: 25, 1: 47, 3: 8, 5: 3, 4: 2}, 'class_pred_count': {0: 60, 5: 8, 1: 78, 2: 29, 4: 6, 3: 13}, 'count_s0': 62, 'count_s1': 132, 'count': 194}}\n",
      "[66] Eval metrics for task 2 >> {'accuracy': 0.23074440619621345, 'loss': 0.0, 'std': 0.03431583476764201, 'EER': -1, 'EO': [0.30779054916985954, 0.23878787878787877], 'DP': -1, 'accuracy_s0': 0.07912457912457913, 'accuracy_s1': 0.3524137931034483, 'classwise_accuracy': {3: array([11, 56]), 2: array([22, 83])}, 'DP_ingredients': {'class_pred_count_s0': {1: 10, 5: 17, 3: 6, 2: 5, 0: 11, 4: 11}, 'class_pred_count_s1': {3: 17, 0: 11, 4: 9, 2: 24, 1: 12, 5: 6}, 'class_pred_count': {1: 22, 3: 23, 5: 23, 0: 22, 2: 29, 4: 20}, 'count_s0': 60, 'count_s1': 79, 'count': 139}}\n",
      "[66] Eval metrics for task 3 >> {'accuracy': 0.37184210526315786, 'loss': 0.0, 'std': 0.10184210526315787, 'EER': -1, 'EO': [0.19560439560439563, 0.22563718140929534], 'DP': -1, 'accuracy_s0': 0.4450928381962865, 'accuracy_s1': 0.234472049689441, 'classwise_accuracy': {4: array([ 27, 100]), 5: array([ 63, 133])}, 'DP_ingredients': {'class_pred_count_s0': {5: 84, 2: 8, 4: 43, 0: 2, 3: 7, 1: 8}, 'class_pred_count_s1': {5: 23, 0: 5, 3: 16, 1: 12, 4: 18, 2: 7}, 'class_pred_count': {5: 107, 2: 15, 4: 61, 0: 7, 3: 23, 1: 20}, 'count_s0': 152, 'count_s1': 81, 'count': 233}}\n",
      "[67] Eval metrics for task 1 >> {'accuracy': 0.4535096759418299, 'loss': 0.0, 'std': 0.0957860987060575, 'EER': -1, 'EO': [0.13116057233704292, 0.09323308270676695], 'DP': -1, 'accuracy_s0': 0.45168067226890757, 'accuracy_s1': 0.43271692745376955, 'classwise_accuracy': {1: array([39, 71]), 0: array([ 44, 123])}, 'DP_ingredients': {'class_pred_count_s0': {1: 31, 3: 5, 5: 5, 0: 13, 4: 4, 2: 4}, 'class_pred_count_s1': {1: 46, 2: 25, 3: 8, 0: 48, 4: 2, 5: 3}, 'class_pred_count': {1: 77, 2: 29, 3: 13, 0: 61, 5: 8, 4: 6}, 'count_s0': 62, 'count_s1': 132, 'count': 194}}\n",
      "[67] Eval metrics for task 2 >> {'accuracy': 0.221815834767642, 'loss': 0.0, 'std': 0.043244406196213434, 'EER': -1, 'EO': [0.23878787878787877, 0.27330779054916987], 'DP': -1, 'accuracy_s0': 0.07912457912457913, 'accuracy_s1': 0.3351724137931035, 'classwise_accuracy': {2: array([22, 83]), 3: array([10, 56])}, 'DP_ingredients': {'class_pred_count_s0': {0: 11, 5: 17, 3: 6, 2: 5, 4: 11, 1: 10}, 'class_pred_count_s1': {3: 16, 1: 12, 0: 11, 2: 25, 5: 6, 4: 9}, 'class_pred_count': {3: 22, 0: 22, 5: 23, 1: 22, 2: 30, 4: 20}, 'count_s0': 60, 'count_s1': 79, 'count': 139}}\n",
      "[67] Eval metrics for task 3 >> {'accuracy': 0.3631203007518797, 'loss': 0.0, 'std': 0.13312030075187967, 'EER': -1, 'EO': [0.19365317341329336, 0.17802197802197806], 'DP': -1, 'accuracy_s0': 0.427763041556145, 'accuracy_s1': 0.2419254658385093, 'classwise_accuracy': {5: array([ 66, 133]), 4: array([ 23, 100])}, 'DP_ingredients': {'class_pred_count_s0': {0: 2, 5: 88, 1: 7, 4: 39, 2: 8, 3: 8}, 'class_pred_count_s1': {5: 26, 3: 15, 4: 16, 2: 7, 1: 12, 0: 5}, 'class_pred_count': {0: 7, 5: 114, 3: 23, 1: 19, 4: 55, 2: 15}, 'count_s0': 152, 'count_s1': 81, 'count': 233}}\n",
      "[68] Eval metrics for task 1 >> {'accuracy': 0.45757471659223636, 'loss': 0.0, 'std': 0.091721058055651, 'EER': -1, 'EO': [0.1037593984962406, 0.13116057233704292], 'DP': -1, 'accuracy_s0': 0.45168067226890757, 'accuracy_s1': 0.4379800853485064, 'classwise_accuracy': {0: array([ 45, 123]), 1: array([39, 71])}, 'DP_ingredients': {'class_pred_count_s0': {1: 31, 2: 4, 5: 5, 0: 13, 3: 5, 4: 4}, 'class_pred_count_s1': {0: 49, 1: 45, 3: 8, 2: 25, 4: 2, 5: 3}, 'class_pred_count': {0: 62, 1: 76, 2: 29, 3: 13, 5: 8, 4: 6}, 'count_s0': 62, 'count_s1': 132, 'count': 194}}\n",
      "[68] Eval metrics for task 2 >> {'accuracy': 0.2128872633390706, 'loss': 0.0, 'std': 0.05217297762478486, 'EER': -1, 'EO': [0.23878787878787877, 0.2388250319284802], 'DP': -1, 'accuracy_s0': 0.07912457912457913, 'accuracy_s1': 0.3179310344827586, 'classwise_accuracy': {2: array([22, 83]), 3: array([ 9, 56])}, 'DP_ingredients': {'class_pred_count_s0': {3: 6, 2: 5, 5: 17, 1: 9, 4: 12, 0: 11}, 'class_pred_count_s1': {1: 12, 3: 16, 0: 11, 2: 25, 4: 8, 5: 7}, 'class_pred_count': {3: 22, 1: 21, 0: 22, 2: 30, 5: 24, 4: 20}, 'count_s0': 60, 'count_s1': 79, 'count': 139}}\n",
      "[68] Eval metrics for task 3 >> {'accuracy': 0.3706015037593985, 'loss': 0.0, 'std': 0.11060150375939848, 'EER': -1, 'EO': [0.2241758241758242, 0.17066466766616695], 'DP': -1, 'accuracy_s0': 0.4393457117595049, 'accuracy_s1': 0.2419254658385093, 'classwise_accuracy': {4: array([ 26, 100]), 5: array([ 64, 133])}, 'DP_ingredients': {'class_pred_count_s0': {2: 8, 4: 44, 5: 83, 3: 8, 1: 7, 0: 2}, 'class_pred_count_s1': {3: 15, 4: 16, 5: 26, 1: 11, 2: 8, 0: 5}, 'class_pred_count': {3: 23, 2: 16, 4: 60, 5: 109, 1: 18, 0: 7}, 'count_s0': 152, 'count_s1': 81, 'count': 233}}\n",
      "[69] Eval metrics for task 1 >> {'accuracy': 0.45757471659223636, 'loss': 0.0, 'std': 0.091721058055651, 'EER': -1, 'EO': [0.15000000000000002, 0.13116057233704292], 'DP': -1, 'accuracy_s0': 0.4338235294117647, 'accuracy_s1': 0.44324324324324327, 'classwise_accuracy': {0: array([ 45, 123]), 1: array([39, 71])}, 'DP_ingredients': {'class_pred_count_s0': {1: 32, 3: 4, 4: 4, 0: 12, 5: 5, 2: 5}, 'class_pred_count_s1': {0: 50, 1: 45, 2: 25, 4: 2, 3: 7, 5: 3}, 'class_pred_count': {0: 62, 1: 77, 3: 11, 2: 30, 4: 6, 5: 8}, 'count_s0': 62, 'count_s1': 132, 'count': 194}}\n",
      "[69] Eval metrics for task 2 >> {'accuracy': 0.21891135972461273, 'loss': 0.0, 'std': 0.05819707401032702, 'EER': -1, 'EO': [0.2388250319284802, 0.2587878787878788], 'DP': -1, 'accuracy_s0': 0.07912457912457913, 'accuracy_s1': 0.3279310344827586, 'classwise_accuracy': {3: array([ 9, 56]), 2: array([23, 83])}, 'DP_ingredients': {'class_pred_count_s0': {4: 11, 0: 11, 5: 18, 1: 9, 2: 5, 3: 6}, 'class_pred_count_s1': {4: 8, 1: 12, 2: 26, 3: 15, 0: 11, 5: 7}, 'class_pred_count': {4: 19, 0: 22, 1: 21, 2: 31, 3: 21, 5: 25}, 'count_s0': 60, 'count_s1': 79, 'count': 139}}\n",
      "[69] Eval metrics for task 3 >> {'accuracy': 0.3556015037593985, 'loss': 0.0, 'std': 0.12560150375939846, 'EER': -1, 'EO': [0.17802197802197806, 0.17066466766616695], 'DP': -1, 'accuracy_s0': 0.41626878868258177, 'accuracy_s1': 0.2419254658385093, 'classwise_accuracy': {4: array([ 23, 100]), 5: array([ 64, 133])}, 'DP_ingredients': {'class_pred_count_s0': {5: 86, 4: 41, 2: 7, 0: 2, 1: 8, 3: 8}, 'class_pred_count_s1': {3: 15, 1: 11, 5: 26, 4: 16, 2: 7, 0: 6}, 'class_pred_count': {3: 23, 5: 112, 4: 57, 2: 14, 1: 19, 0: 8}, 'count_s0': 152, 'count_s1': 81, 'count': 233}}\n",
      "[70] Eval metrics for task 1 >> {'accuracy': 0.44646742242070303, 'loss': 0.0, 'std': 0.0887438451849307, 'EER': -1, 'EO': [0.1394736842105263, 0.10174880763116056], 'DP': -1, 'accuracy_s0': 0.41911764705882354, 'accuracy_s1': 0.4379800853485064, 'classwise_accuracy': {0: array([ 44, 123]), 1: array([38, 71])}, 'DP_ingredients': {'class_pred_count_s0': {1: 31, 0: 12, 4: 4, 5: 5, 2: 4, 3: 6}, 'class_pred_count_s1': {0: 48, 1: 46, 2: 25, 3: 8, 4: 2, 5: 3}, 'class_pred_count': {0: 60, 1: 77, 2: 29, 3: 14, 4: 6, 5: 8}, 'count_s0': 62, 'count_s1': 132, 'count': 194}}\n",
      "[70] Eval metrics for task 2 >> {'accuracy': 0.2128872633390706, 'loss': 0.0, 'std': 0.05217297762478486, 'EER': -1, 'EO': [0.2388250319284802, 0.23878787878787877], 'DP': -1, 'accuracy_s0': 0.07912457912457913, 'accuracy_s1': 0.3179310344827586, 'classwise_accuracy': {3: array([ 9, 56]), 2: array([22, 83])}, 'DP_ingredients': {'class_pred_count_s0': {0: 11, 5: 18, 3: 6, 4: 11, 2: 5, 1: 9}, 'class_pred_count_s1': {2: 25, 5: 7, 3: 16, 1: 12, 4: 8, 0: 11}, 'class_pred_count': {2: 30, 5: 25, 3: 22, 0: 22, 1: 21, 4: 19}, 'count_s0': 60, 'count_s1': 79, 'count': 139}}\n",
      "[70] Eval metrics for task 3 >> {'accuracy': 0.3606015037593985, 'loss': 0.0, 'std': 0.12060150375939849, 'EER': -1, 'EO': [0.17066466766616695, 0.19340659340659344], 'DP': -1, 'accuracy_s0': 0.4239610963748895, 'accuracy_s1': 0.2419254658385093, 'classwise_accuracy': {5: array([ 64, 133]), 4: array([ 24, 100])}, 'DP_ingredients': {'class_pred_count_s0': {4: 42, 5: 85, 1: 7, 3: 8, 2: 8, 0: 2}, 'class_pred_count_s1': {5: 27, 3: 14, 4: 16, 1: 12, 2: 7, 0: 5}, 'class_pred_count': {4: 58, 5: 112, 1: 19, 3: 22, 2: 15, 0: 7}, 'count_s0': 152, 'count_s1': 81, 'count': 233}}\n",
      "[71] Eval metrics for task 1 >> {'accuracy': 0.4545975037215161, 'loss': 0.0, 'std': 0.0806137638841177, 'EER': -1, 'EO': [0.10174880763116056, 0.16052631578947368], 'DP': -1, 'accuracy_s0': 0.41911764705882354, 'accuracy_s1': 0.4485064011379801, 'classwise_accuracy': {1: array([38, 71]), 0: array([ 46, 123])}, 'DP_ingredients': {'class_pred_count_s0': {2: 5, 5: 5, 1: 31, 0: 12, 3: 5, 4: 4}, 'class_pred_count_s1': {1: 44, 2: 25, 0: 50, 5: 3, 4: 2, 3: 8}, 'class_pred_count': {1: 75, 2: 30, 0: 62, 5: 8, 4: 6, 3: 13}, 'count_s0': 62, 'count_s1': 132, 'count': 194}}\n",
      "[71] Eval metrics for task 2 >> {'accuracy': 0.2128872633390706, 'loss': 0.0, 'std': 0.05217297762478486, 'EER': -1, 'EO': [0.23878787878787877, 0.2388250319284802], 'DP': -1, 'accuracy_s0': 0.07912457912457913, 'accuracy_s1': 0.3179310344827586, 'classwise_accuracy': {2: array([22, 83]), 3: array([ 9, 56])}, 'DP_ingredients': {'class_pred_count_s0': {2: 5, 5: 19, 4: 11, 3: 5, 0: 11, 1: 9}, 'class_pred_count_s1': {2: 25, 0: 11, 5: 7, 1: 12, 3: 16, 4: 8}, 'class_pred_count': {2: 30, 5: 26, 0: 22, 4: 19, 3: 21, 1: 21}, 'count_s0': 60, 'count_s1': 79, 'count': 139}}\n",
      "[71] Eval metrics for task 3 >> {'accuracy': 0.3656390977443609, 'loss': 0.0, 'std': 0.14563909774436087, 'EER': -1, 'EO': [0.1834082958520739, 0.16263736263736267], 'DP': -1, 'accuracy_s0': 0.4258178603006189, 'accuracy_s1': 0.2527950310559006, 'classwise_accuracy': {5: array([ 68, 133]), 4: array([ 22, 100])}, 'DP_ingredients': {'class_pred_count_s0': {4: 37, 5: 90, 3: 8, 1: 8, 2: 7, 0: 2}, 'class_pred_count_s1': {5: 28, 3: 14, 1: 11, 0: 4, 4: 15, 2: 9}, 'class_pred_count': {5: 118, 4: 52, 3: 22, 1: 19, 0: 6, 2: 16}, 'count_s0': 152, 'count_s1': 81, 'count': 233}}\n",
      "[72] Eval metrics for task 1 >> {'accuracy': 0.44646742242070303, 'loss': 0.0, 'std': 0.0887438451849307, 'EER': -1, 'EO': [0.1394736842105263, 0.10174880763116056], 'DP': -1, 'accuracy_s0': 0.41911764705882354, 'accuracy_s1': 0.4379800853485064, 'classwise_accuracy': {0: array([ 44, 123]), 1: array([38, 71])}, 'DP_ingredients': {'class_pred_count_s0': {4: 3, 1: 31, 0: 12, 5: 6, 2: 6, 3: 4}, 'class_pred_count_s1': {0: 48, 3: 6, 1: 45, 2: 27, 4: 3, 5: 3}, 'class_pred_count': {0: 60, 3: 10, 4: 6, 1: 76, 2: 33, 5: 9}, 'count_s0': 62, 'count_s1': 132, 'count': 194}}\n",
      "[72] Eval metrics for task 2 >> {'accuracy': 0.2128872633390706, 'loss': 0.0, 'std': 0.05217297762478486, 'EER': -1, 'EO': [0.23878787878787877, 0.2388250319284802], 'DP': -1, 'accuracy_s0': 0.07912457912457913, 'accuracy_s1': 0.3179310344827586, 'classwise_accuracy': {2: array([22, 83]), 3: array([ 9, 56])}, 'DP_ingredients': {'class_pred_count_s0': {5: 19, 1: 9, 4: 11, 0: 11, 3: 5, 2: 5}, 'class_pred_count_s1': {2: 25, 4: 8, 3: 16, 1: 12, 0: 11, 5: 7}, 'class_pred_count': {2: 30, 4: 19, 3: 21, 5: 26, 1: 21, 0: 22}, 'count_s0': 60, 'count_s1': 79, 'count': 139}}\n",
      "[72] Eval metrics for task 3 >> {'accuracy': 0.3606015037593985, 'loss': 0.0, 'std': 0.12060150375939849, 'EER': -1, 'EO': [0.19340659340659344, 0.20389805097451275], 'DP': -1, 'accuracy_s0': 0.4297082228116711, 'accuracy_s1': 0.231055900621118, 'classwise_accuracy': {4: array([ 24, 100]), 5: array([ 64, 133])}, 'DP_ingredients': {'class_pred_count_s0': {1: 8, 5: 86, 2: 7, 0: 2, 3: 8, 4: 41}, 'class_pred_count_s1': {4: 17, 2: 8, 5: 26, 1: 12, 3: 14, 0: 4}, 'class_pred_count': {4: 58, 1: 20, 5: 112, 2: 15, 0: 6, 3: 22}, 'count_s0': 152, 'count_s1': 81, 'count': 233}}\n",
      "[73] Eval metrics for task 1 >> {'accuracy': 0.45053246307110956, 'loss': 0.0, 'std': 0.0846788045345242, 'EER': -1, 'EO': [0.15000000000000002, 0.10174880763116056], 'DP': -1, 'accuracy_s0': 0.41911764705882354, 'accuracy_s1': 0.44324324324324327, 'classwise_accuracy': {0: array([ 45, 123]), 1: array([38, 71])}, 'DP_ingredients': {'class_pred_count_s0': {1: 31, 3: 4, 2: 6, 0: 12, 5: 6, 4: 3}, 'class_pred_count_s1': {1: 44, 2: 28, 0: 49, 4: 2, 3: 6, 5: 3}, 'class_pred_count': {1: 75, 3: 10, 2: 34, 0: 61, 5: 9, 4: 5}, 'count_s0': 62, 'count_s1': 132, 'count': 194}}\n",
      "[73] Eval metrics for task 2 >> {'accuracy': 0.21891135972461273, 'loss': 0.0, 'std': 0.05819707401032702, 'EER': -1, 'EO': [0.2388250319284802, 0.2587878787878788], 'DP': -1, 'accuracy_s0': 0.07912457912457913, 'accuracy_s1': 0.3279310344827586, 'classwise_accuracy': {3: array([ 9, 56]), 2: array([23, 83])}, 'DP_ingredients': {'class_pred_count_s0': {1: 9, 4: 11, 5: 19, 2: 5, 0: 11, 3: 5}, 'class_pred_count_s1': {1: 12, 3: 15, 2: 26, 0: 11, 4: 8, 5: 7}, 'class_pred_count': {1: 21, 3: 20, 4: 19, 2: 31, 5: 26, 0: 22}, 'count_s0': 60, 'count_s1': 79, 'count': 139}}\n",
      "[73] Eval metrics for task 3 >> {'accuracy': 0.3668796992481203, 'loss': 0.0, 'std': 0.13687969924812032, 'EER': -1, 'EO': [0.1719140429785107, 0.17802197802197806], 'DP': -1, 'accuracy_s0': 0.427763041556145, 'accuracy_s1': 0.2527950310559006, 'classwise_accuracy': {5: array([ 67, 133]), 4: array([ 23, 100])}, 'DP_ingredients': {'class_pred_count_s0': {5: 88, 1: 8, 4: 39, 3: 8, 0: 2, 2: 7}, 'class_pred_count_s1': {5: 28, 3: 14, 4: 15, 2: 9, 1: 11, 0: 4}, 'class_pred_count': {5: 116, 1: 19, 3: 22, 4: 54, 2: 16, 0: 6}, 'count_s0': 152, 'count_s1': 81, 'count': 233}}\n",
      "[74] Eval metrics for task 1 >> {'accuracy': 0.4545975037215161, 'loss': 0.0, 'std': 0.0806137638841177, 'EER': -1, 'EO': [0.16052631578947368, 0.10174880763116056], 'DP': -1, 'accuracy_s0': 0.41911764705882354, 'accuracy_s1': 0.4485064011379801, 'classwise_accuracy': {0: array([ 46, 123]), 1: array([38, 71])}, 'DP_ingredients': {'class_pred_count_s0': {3: 5, 1: 31, 0: 12, 5: 6, 2: 5, 4: 3}, 'class_pred_count_s1': {2: 28, 0: 50, 1: 43, 5: 3, 3: 6, 4: 2}, 'class_pred_count': {3: 11, 2: 33, 0: 62, 1: 74, 5: 9, 4: 5}, 'count_s0': 62, 'count_s1': 132, 'count': 194}}\n",
      "[74] Eval metrics for task 2 >> {'accuracy': 0.2128872633390706, 'loss': 0.0, 'std': 0.05217297762478486, 'EER': -1, 'EO': [0.23878787878787877, 0.2388250319284802], 'DP': -1, 'accuracy_s0': 0.07912457912457913, 'accuracy_s1': 0.3179310344827586, 'classwise_accuracy': {2: array([22, 83]), 3: array([ 9, 56])}, 'DP_ingredients': {'class_pred_count_s0': {0: 11, 1: 9, 5: 19, 2: 5, 3: 5, 4: 11}, 'class_pred_count_s1': {1: 12, 3: 16, 0: 11, 5: 7, 2: 25, 4: 8}, 'class_pred_count': {0: 22, 1: 21, 3: 21, 5: 26, 2: 30, 4: 19}, 'count_s0': 60, 'count_s1': 79, 'count': 139}}\n",
      "[74] Eval metrics for task 3 >> {'accuracy': 0.3831578947368421, 'loss': 0.0, 'std': 0.1431578947368421, 'EER': -1, 'EO': [0.14945054945054947, 0.13993003498250872], 'DP': -1, 'accuracy_s0': 0.43351016799292663, 'accuracy_s1': 0.2888198757763975, 'classwise_accuracy': {4: array([ 24, 100]), 5: array([ 70, 133])}, 'DP_ingredients': {'class_pred_count_s0': {5: 89, 3: 8, 4: 38, 1: 8, 2: 7, 0: 2}, 'class_pred_count_s1': {5: 30, 2: 9, 4: 14, 0: 4, 1: 11, 3: 13}, 'class_pred_count': {5: 119, 3: 21, 4: 52, 1: 19, 2: 16, 0: 6}, 'count_s0': 152, 'count_s1': 81, 'count': 233}}\n",
      "[75] Eval metrics for task 1 >> {'accuracy': 0.44755525020038933, 'loss': 0.0, 'std': 0.07357151036299095, 'EER': -1, 'EO': [0.16052631578947368, 0.0723370429252782], 'DP': -1, 'accuracy_s0': 0.40441176470588236, 'accuracy_s1': 0.4485064011379801, 'classwise_accuracy': {0: array([ 46, 123]), 1: array([37, 71])}, 'DP_ingredients': {'class_pred_count_s0': {0: 12, 1: 30, 5: 8, 3: 5, 2: 5, 4: 2}, 'class_pred_count_s1': {1: 43, 0: 50, 2: 28, 5: 3, 3: 6, 4: 2}, 'class_pred_count': {1: 73, 0: 62, 5: 11, 2: 33, 3: 11, 4: 4}, 'count_s0': 62, 'count_s1': 132, 'count': 194}}\n",
      "[75] Eval metrics for task 2 >> {'accuracy': 0.2128872633390706, 'loss': 0.0, 'std': 0.05217297762478486, 'EER': -1, 'EO': [0.23878787878787877, 0.2388250319284802], 'DP': -1, 'accuracy_s0': 0.07912457912457913, 'accuracy_s1': 0.3179310344827586, 'classwise_accuracy': {2: array([22, 83]), 3: array([ 9, 56])}, 'DP_ingredients': {'class_pred_count_s0': {0: 11, 4: 11, 3: 5, 2: 5, 5: 19, 1: 9}, 'class_pred_count_s1': {2: 25, 0: 11, 3: 16, 4: 8, 5: 7, 1: 12}, 'class_pred_count': {2: 30, 0: 22, 3: 21, 4: 19, 5: 26, 1: 21}, 'count_s0': 60, 'count_s1': 79, 'count': 139}}\n",
      "[75] Eval metrics for task 3 >> {'accuracy': 0.3668796992481203, 'loss': 0.0, 'std': 0.13687969924812032, 'EER': -1, 'EO': [0.20514742628685656, 0.17802197802197806], 'DP': -1, 'accuracy_s0': 0.43351016799292663, 'accuracy_s1': 0.2419254658385093, 'classwise_accuracy': {5: array([ 67, 133]), 4: array([ 23, 100])}, 'DP_ingredients': {'class_pred_count_s0': {5: 89, 0: 2, 4: 38, 2: 7, 3: 8, 1: 8}, 'class_pred_count_s1': {2: 9, 5: 27, 3: 13, 1: 12, 0: 4, 4: 16}, 'class_pred_count': {2: 16, 5: 116, 0: 6, 3: 21, 4: 54, 1: 20}, 'count_s0': 152, 'count_s1': 81, 'count': 233}}\n",
      "Reduce size of class 0 to 32 examplar\n",
      "Reduce size of class 1 to 32 examplar\n",
      "Reduce size of class 2 to 32 examplar\n",
      "Reduce size of class 3 to 32 examplar\n",
      "Reduce size of class 4 to 0 examplar\n",
      "Reduce size of class 5 to 0 examplar\n",
      "construct class 4 examplar:\n",
      "len(self.exemplar_dict[cls])=32\n",
      "construct class 5 examplar:\n",
      "len(self.exemplar_dict[cls])=32\n",
      "update_memory_after_train\n",
      "final avg-acc 0.3424407375958601\n",
      "final avg-forget 0.19770181599933623\n"
     ]
    }
   ],
   "source": [
    "trainer.run()\n",
    "print(\"final avg-acc\", metric_manager_callback.meters['accuracy'].compute_final())\n",
    "print(\"final avg-forget\", metric_manager_callback.meters['forgetting'].compute_final())"
   ]
  },
  {
   "cell_type": "code",
   "execution_count": 8,
   "id": "5ebde5d0",
   "metadata": {},
   "outputs": [
    {
     "data": {
      "text/plain": [
       "array([[0.614, 0.   , 0.   ],\n",
       "       [0.461, 0.442, 0.   ],\n",
       "       [0.448, 0.213, 0.367]])"
      ]
     },
     "execution_count": 8,
     "metadata": {},
     "output_type": "execute_result"
    }
   ],
   "source": [
    "metric_manager_callback.meters['accuracy'].get_data()"
   ]
  },
  {
   "cell_type": "code",
   "execution_count": 9,
   "id": "4e893eff",
   "metadata": {},
   "outputs": [
    {
     "data": {
      "text/plain": [
       "0.4692979562547006"
      ]
     },
     "execution_count": 9,
     "metadata": {},
     "output_type": "execute_result"
    }
   ],
   "source": [
    "np.mean(metric_manager_callback.meters['accuracy'].compute_overall())"
   ]
  },
  {
   "cell_type": "code",
   "execution_count": 10,
   "id": "b82bd073",
   "metadata": {},
   "outputs": [
    {
     "data": {
      "text/plain": [
       "[0.128, 0.116, 0.182]"
      ]
     },
     "execution_count": 10,
     "metadata": {},
     "output_type": "execute_result"
    }
   ],
   "source": [
    "[np.round(x, 3) for x in metric_manager_callback.meters['EO'].compute_overall()]"
   ]
  },
  {
   "cell_type": "code",
   "execution_count": 11,
   "id": "4a7973e4",
   "metadata": {},
   "outputs": [
    {
     "data": {
      "text/plain": [
       "0.1421684214233889"
      ]
     },
     "execution_count": 11,
     "metadata": {},
     "output_type": "execute_result"
    }
   ],
   "source": [
    "np.mean(metric_manager_callback.meters['EO'].compute_overall())"
   ]
  },
  {
   "cell_type": "code",
   "execution_count": 12,
   "id": "5196d155",
   "metadata": {},
   "outputs": [
    {
     "data": {
      "text/plain": [
       "[0.085, 0.046, 0.066]"
      ]
     },
     "execution_count": 12,
     "metadata": {},
     "output_type": "execute_result"
    }
   ],
   "source": [
    "[np.round(x, 3) for x in metric_manager_callback.meters['DP'].compute_overall()]"
   ]
  },
  {
   "cell_type": "code",
   "execution_count": 13,
   "id": "26e94bfa",
   "metadata": {},
   "outputs": [
    {
     "data": {
      "text/plain": [
       "0.0656115636874489"
      ]
     },
     "execution_count": 13,
     "metadata": {},
     "output_type": "execute_result"
    }
   ],
   "source": [
    "np.mean(metric_manager_callback.meters['DP'].compute_overall())"
   ]
  },
  {
   "cell_type": "code",
   "execution_count": null,
   "id": "21212733",
   "metadata": {},
   "outputs": [],
   "source": []
  },
  {
   "cell_type": "code",
   "execution_count": null,
   "id": "2088139f",
   "metadata": {},
   "outputs": [],
   "source": []
  }
 ],
 "metadata": {
  "kernelspec": {
   "display_name": "cil",
   "language": "python",
   "name": "python3"
  },
  "language_info": {
   "codemirror_mode": {
    "name": "ipython",
    "version": 3
   },
   "file_extension": ".py",
   "mimetype": "text/x-python",
   "name": "python",
   "nbconvert_exporter": "python",
   "pygments_lexer": "ipython3",
   "version": "3.9.18"
  }
 },
 "nbformat": 4,
 "nbformat_minor": 5
}
