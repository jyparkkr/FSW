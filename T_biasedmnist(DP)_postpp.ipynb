{
 "cells": [
  {
   "cell_type": "code",
   "execution_count": 1,
   "id": "b0c3b92f",
   "metadata": {},
   "outputs": [
    {
     "name": "stdout",
     "output_type": "stream",
     "text": [
      "output_dir=./outputs/demo/dataset=BiasedMNIST/seed=0_epoch=15_lr=0.001_tau=10.0_alpha=0.0\n"
     ]
    }
   ],
   "source": [
    "from torchvision.datasets import MNIST, FashionMNIST, CIFAR10\n",
    "import torchvision\n",
    "import numpy as np\n",
    "import random\n",
    "\n",
    "import torch\n",
    "import torch.nn.functional as F\n",
    "import cl_gym as cl\n",
    "\n",
    "import sys\n",
    "import os\n",
    "\n",
    "seed = 0\n",
    "\n",
    "np.random.seed(seed)\n",
    "torch.manual_seed(seed)\n",
    "np.random.seed(seed)\n",
    "random.seed(seed)\n",
    "torch.cuda.manual_seed_all(seed)\n",
    "torch.manual_seed(seed)\n",
    "torch.backends.cudnn.deterministic = True\n",
    "torch.backends.cudnn.benchmark = False\n",
    "torch.backends.cudnn.enabled = False\n",
    "torch.set_num_threads(8)\n",
    "\n",
    "def make_params() -> dict:\n",
    "    import os\n",
    "    from pathlib import Path\n",
    "    import uuid\n",
    "\n",
    "    params = {\n",
    "            # dataset\n",
    "            'dataset': \"BiasedMNIST\",\n",
    "            'fairness_agg': 'mean',\n",
    "            # 'model': 'MLP',\n",
    "\n",
    "            # benchmark\n",
    "            'seed': seed,\n",
    "            'num_tasks': 5,\n",
    "            'epochs_per_task': 15,\n",
    "            'per_task_examples': np.inf,\n",
    "            # 'per_task_examples': 10000,\n",
    "            'per_task_memory_examples': 128,\n",
    "            'batch_size_train': 64,\n",
    "            'batch_size_memory': 64,\n",
    "            'batch_size_validation': 256,\n",
    "            'tau': 10.0,\n",
    "\n",
    "            # algorithm\n",
    "            'optimizer': 'sgd',\n",
    "            'learning_rate': 0.001,\n",
    "            'momentum': 0.9,\n",
    "            'learning_rate_decay': 1.0,\n",
    "            'criterion': torch.nn.CrossEntropyLoss(),\n",
    "            # 'criterion': torch.nn.BCEWithLogitsLoss(),\n",
    "\n",
    "            'device': torch.device('cuda:6' if torch.cuda.is_available() else 'cpu'),\n",
    "             \n",
    "            # sample selection\n",
    "            'alpha': 0.00,\n",
    "            'metric' : \"DP\",\n",
    "            'lambda': 0.0,\n",
    "            'lambda_old': 0.0,\n",
    "\n",
    "            # postprocessing\n",
    "            \"post_processing\": \"eps_fairness\",\n",
    "            \"pp_eps\": 0.0,\n",
    "\n",
    "              }\n",
    "    \n",
    "\n",
    "#     trial_id = str(uuid.uuid4())\n",
    "    trial_id = f\"demo/dataset={params['dataset']}/seed={params['seed']}_epoch={params['epochs_per_task']}_lr={params['learning_rate']}_tau={params['tau']}_alpha={params['alpha']}\"\n",
    "    if params['lambda'] != 0:\n",
    "        trial_id+=f\"_lmbd_{params['lambda']}_lmbdold_{params['lambda_old']}\"\n",
    "    params['trial_id'] = trial_id\n",
    "    params['output_dir'] = os.path.join(\"./outputs/{}\".format(trial_id))\n",
    "    print(f\"output_dir={params['output_dir']}\")\n",
    "    Path(params['output_dir']).mkdir(parents=True, exist_ok=True)\n",
    "\n",
    "    return params\n",
    "\n",
    "params = make_params()"
   ]
  },
  {
   "cell_type": "code",
   "execution_count": 2,
   "id": "99826537",
   "metadata": {},
   "outputs": [
    {
     "data": {
      "text/plain": [
       "True"
      ]
     },
     "execution_count": 2,
     "metadata": {},
     "output_type": "execute_result"
    }
   ],
   "source": [
    "\"MNIST\" in params['dataset']"
   ]
  },
  {
   "cell_type": "code",
   "execution_count": 3,
   "id": "20c7b886",
   "metadata": {},
   "outputs": [
    {
     "name": "stdout",
     "output_type": "stream",
     "text": [
      "[0 1 2 3 4 5 6 7 8 9]\n"
     ]
    }
   ],
   "source": [
    "from datasets import BiasedMNIST\n",
    "\n",
    "if  params['dataset'] in [\"BiasedMNIST\"]:\n",
    "    benchmark = BiasedMNIST(num_tasks=params['num_tasks'],\n",
    "                                per_task_memory_examples=params['per_task_memory_examples'],\n",
    "                                per_task_examples = params['per_task_examples'],\n",
    "                                random_class_idx=False)\n",
    "    input_dim = (3, 28, 28)\n",
    "    class_idx = benchmark.class_idx\n",
    "    num_classes = len(class_idx)"
   ]
  },
  {
   "cell_type": "code",
   "execution_count": 4,
   "id": "a2374d95",
   "metadata": {},
   "outputs": [
    {
     "data": {
      "text/plain": [
       "array([5, 0, 4, ..., 5, 6, 8])"
      ]
     },
     "execution_count": 4,
     "metadata": {},
     "output_type": "execute_result"
    }
   ],
   "source": [
    "benchmark.mnist_train.sensitives"
   ]
  },
  {
   "cell_type": "code",
   "execution_count": null,
   "id": "1246d96a",
   "metadata": {},
   "outputs": [],
   "source": []
  },
  {
   "cell_type": "code",
   "execution_count": 5,
   "id": "87fd9653",
   "metadata": {},
   "outputs": [
    {
     "data": {
      "image/png": "[encoded data removed]",
      "text/plain": [
       "<PIL.Image.Image image mode=RGB size=28x28>"
      ]
     },
     "execution_count": 5,
     "metadata": {},
     "output_type": "execute_result"
    }
   ],
   "source": [
    "from torchvision.transforms.functional import to_pil_image\n",
    "from cl_gym.benchmarks.transforms import MNIST_MEAN, MNIST_STD\n",
    "COLOR_MAP = {\n",
    "    0: (1, 0, 0),\n",
    "    1: (0, 1, 0),\n",
    "    2: (1, 1, 0),\n",
    "    3: (0, 0, 1),\n",
    "    4: (1, 0.65, 0),\n",
    "    5: (0.5, 0, 0.5),\n",
    "    6: (0, 1, 1),\n",
    "    7: (1, 0.75, 0.8),\n",
    "    8: (0.8, 1, 0),\n",
    "    9: (.588, .294, 0.)\n",
    "}\n",
    "\n",
    "r = (1 - 0.1913)\n",
    "color_values = np.array(list(COLOR_MAP.values()))\n",
    "m_rgb = color_values.mean(axis=0)\n",
    "std_rgb = color_values.std(axis=0)\n",
    "\n",
    "bmnist_mean = [r*m + MNIST_MEAN[0] for m in m_rgb]\n",
    "bmnist_std = [(r*s**2+(1-r)*MNIST_STD[0]**2+r*(1-r)*(bmnist_mean[i] - m_rgb[i])**2)**0.5 for i, s in enumerate(std_rgb)]\n",
    "\n",
    "unnormalize = torchvision.transforms.Normalize([-m/s for m, s in zip(bmnist_mean, bmnist_std)], [1/s for s in bmnist_std])\n",
    "sample_idx = 95\n",
    "to_pil_image(unnormalize(benchmark.trains[2][sample_idx][0]), mode=\"RGB\")"
   ]
  },
  {
   "cell_type": "code",
   "execution_count": 6,
   "id": "e8806699",
   "metadata": {},
   "outputs": [
    {
     "data": {
      "image/png": "[encoded data removed]",
      "text/plain": [
       "<PIL.Image.Image image mode=RGB size=280x28>"
      ]
     },
     "execution_count": 6,
     "metadata": {},
     "output_type": "execute_result"
    }
   ],
   "source": [
    "target_label = 0\n",
    "incremental_step = 1\n",
    "# cat_img = torch.cat([img for img in benchmark.trains[incremental_step].inputs[benchmark.trains[incremental_step].targets == target_label][20:30]], dim=2)\n",
    "cat_img = torch.cat([img for img, target, *_ in benchmark.tests[incremental_step]][20:30], dim=2)\n",
    "to_pil_image(unnormalize(cat_img), mode=\"RGB\")"
   ]
  },
  {
   "cell_type": "code",
   "execution_count": 7,
   "id": "8e73e1c4",
   "metadata": {},
   "outputs": [],
   "source": [
    "from trainers import FairContinualTrainer\n",
    "from trainers.fair_trainer import FairContinualTrainer2\n",
    "from metrics import FairMetricCollector\n",
    "from metrics import MetricCollector2\n",
    "\n",
    "from algorithms import Heuristic3\n",
    "from algorithms.fairl import FaIRL\n",
    "from algorithms.icarl import iCaRL\n",
    "from backbones import MLP2Layers2\n",
    "\n",
    "backbone = MLP2Layers2(\n",
    "    input_dim=input_dim, \n",
    "    hidden_dim_1=256, \n",
    "    hidden_dim_2=256, \n",
    "    output_dim=num_classes,\n",
    "    class_idx=class_idx,\n",
    "    config=params\n",
    "    ).to(params['device'])\n",
    "# backbone = ResNet18Small2(\n",
    "#         input_dim=input_dim, \n",
    "#         output_dim=num_classes,\n",
    "#         class_idx=class_idx,\n",
    "#         config=params\n",
    "#     ).to(params['device'])\n",
    "# algorithm = iCaRL(backbone, benchmark, params, requires_memory=True)\n",
    "algorithm = Heuristic3(backbone, benchmark, params, requires_memory=True)\n",
    "\n",
    "metric_manager_callback = FairMetricCollector(num_tasks=params['num_tasks'],\n",
    "                                                        eval_interval='epoch',\n",
    "                                                        epochs_per_task=params['epochs_per_task'])\n",
    "# metric_manager_callback = MetricCollector2(num_tasks=params['num_tasks'],\n",
    "#                                                         eval_interval='epoch',\n",
    "#                                                         epochs_per_task=params['epochs_per_task'])\n",
    "# from trainers.baselines import BaseMemoryContinualTrainer as ContinualTrainer\n",
    "from trainers.baselines import BaseContinualTrainer as ContinualTrainer\n",
    "\n",
    "trainer = ContinualTrainer(algorithm, params, callbacks=[metric_manager_callback])\n",
    "# \n",
    "# trainer = FairContinualTrainer2(algorithm, params, callbacks=[metric_manager_callback])\n"
   ]
  },
  {
   "cell_type": "code",
   "execution_count": 8,
   "id": "b28299a5",
   "metadata": {},
   "outputs": [
    {
     "data": {
      "text/plain": [
       "True"
      ]
     },
     "execution_count": 8,
     "metadata": {},
     "output_type": "execute_result"
    }
   ],
   "source": [
    "algorithm.params['dataset'] == \"BiasedMNIST\""
   ]
  },
  {
   "cell_type": "code",
   "execution_count": 9,
   "id": "8b8e3d98",
   "metadata": {},
   "outputs": [],
   "source": [
    "if params['fairness_agg'] == \"mean\":\n",
    "    agg = np.mean\n",
    "elif params['fairness_agg'] == \"max\":\n",
    "    agg = np.max\n",
    "else:\n",
    "    raise NotImplementedError\n",
    "\n",
    "fairness_metrics = [\"std\", \"EER\", \"EO\", \"DP\"]\n",
    "for metric in metric_manager_callback.meters:\n",
    "    if metric in fairness_metrics:\n",
    "        metric_manager_callback.meters[metric].agg = agg\n"
   ]
  },
  {
   "cell_type": "code",
   "execution_count": 10,
   "id": "bbbb73ec",
   "metadata": {},
   "outputs": [
    {
     "name": "stdout",
     "output_type": "stream",
     "text": [
      "---------------------------- Task 1 -----------------------\n",
      "[1] Eval metrics for task 1 >> {'accuracy': 0.8271127393688753, 'loss': 0.0020199846291372964, 'std': 0.04737705654949209, 'EER': -1, 'EO': [0.4595588235294118, 0.25], 'DP': -1, 'accuracy_s0': 1.0, 'accuracy_s1': 0.6452205882352942, 'classwise_accuracy': {1: array([ 885, 1135]), 0: array([857, 980])}, 'DP_ingredients': {'class_pred_count_s0': {1: 591, 0: 488}, 'class_pred_count_s1': {1: 576, 0: 459, 2: 1}, 'class_pred_count': {1: 1167, 0: 947, 2: 1}, 'count_s0': 1079, 'count_s1': 1036, 'count': 2115}}\n",
      "[2] Eval metrics for task 1 >> {'accuracy': 0.907828373640205, 'loss': 0.0011631695725393633, 'std': 0.01972264676795832, 'EER': -1, 'EO': [0.14430894308943087, 0.23345588235294112], 'DP': -1, 'accuracy_s0': 1.0, 'accuracy_s1': 0.811117587278814, 'classwise_accuracy': {0: array([909, 980]), 1: array([1008, 1135])}, 'DP_ingredients': {'class_pred_count_s0': {0: 488, 1: 591}, 'class_pred_count_s1': {1: 536, 0: 494, 4: 6}, 'class_pred_count': {1: 1127, 0: 982, 4: 6}, 'count_s0': 1079, 'count_s1': 1036, 'count': 2115}}\n",
      "[3] Eval metrics for task 1 >> {'accuracy': 0.9499842668344871, 'loss': 0.0006481559810627155, 'std': 0.01430144745122719, 'EER': -1, 'EO': [0.1341911764705882, 0.07113821138211385], 'DP': -1, 'accuracy_s0': 1.0, 'accuracy_s1': 0.897335306073649, 'classwise_accuracy': {1: array([1062, 1135]), 0: array([945, 980])}, 'DP_ingredients': {'class_pred_count_s0': {0: 488, 1: 591}, 'class_pred_count_s1': {1: 522, 0: 514}, 'class_pred_count': {1: 1113, 0: 1002}, 'count_s0': 1079, 'count_s1': 1036, 'count': 2115}}\n",
      "[4] Eval metrics for task 1 >> {'accuracy': 0.9909332014744223, 'loss': 0.00041670053845038085, 'std': 0.0011372831070754486, 'EER': -1, 'EO': [0.016544117647058876, 0.020325203252032575], 'DP': -1, 'accuracy_s0': 1.0, 'accuracy_s1': 0.9815653395504542, 'classwise_accuracy': {1: array([1126, 1135]), 0: array([970, 980])}, 'DP_ingredients': {'class_pred_count_s0': {0: 488, 1: 591}, 'class_pred_count_s1': {1: 543, 0: 493}, 'class_pred_count': {1: 1134, 0: 981}, 'count_s0': 1079, 'count_s1': 1036, 'count': 2115}}\n",
      "[5] Eval metrics for task 1 >> {'accuracy': 0.9945967814438551, 'loss': 0.0002988592970314883, 'std': 0.0027600467499775405, 'EER': -1, 'EO': [0.005514705882352922, 0.016260162601625994], 'DP': -1, 'accuracy_s0': 1.0, 'accuracy_s1': 0.9891125657580105, 'classwise_accuracy': {1: array([1132, 1135]), 0: array([972, 980])}, 'DP_ingredients': {'class_pred_count_s0': {0: 488, 1: 591}, 'class_pred_count_s1': {1: 540, 0: 496}, 'class_pred_count': {1: 1131, 0: 984}, 'count_s0': 1079, 'count_s1': 1036, 'count': 2115}}\n",
      "[6] Eval metrics for task 1 >> {'accuracy': 0.9961273936887531, 'loss': 0.00025237634003021477, 'std': 0.001229434505079563, 'EER': -1, 'EO': [0.010162601626016232, 0.005514705882352922], 'DP': -1, 'accuracy_s0': 1.0, 'accuracy_s1': 0.9921613462458154, 'classwise_accuracy': {0: array([975, 980]), 1: array([1132, 1135])}, 'DP_ingredients': {'class_pred_count_s0': {0: 488, 1: 591}, 'class_pred_count_s1': {0: 498, 1: 538}, 'class_pred_count': {0: 986, 1: 1129}, 'count_s0': 1079, 'count_s1': 1036, 'count': 2115}}\n",
      "[7] Eval metrics for task 1 >> {'accuracy': 0.9960577182414816, 'loss': 0.00020094947717713972, 'std': 0.002180167221073448, 'EER': -1, 'EO': [0.012195121951219523, 0.003676470588235281], 'DP': -1, 'accuracy_s0': 1.0, 'accuracy_s1': 0.9920642037302726, 'classwise_accuracy': {0: array([974, 980]), 1: array([1133, 1135])}, 'DP_ingredients': {'class_pred_count_s0': {1: 591, 0: 488}, 'class_pred_count_s1': {0: 499, 1: 537}, 'class_pred_count': {0: 987, 1: 1128}, 'count_s0': 1079, 'count_s1': 1036, 'count': 2115}}\n",
      "[8] Eval metrics for task 1 >> {'accuracy': 0.9961273936887531, 'loss': 0.00017071315406625716, 'std': 0.001229434505079563, 'EER': -1, 'EO': [0.010162601626016232, 0.005514705882352922], 'DP': -1, 'accuracy_s0': 1.0, 'accuracy_s1': 0.9921613462458154, 'classwise_accuracy': {0: array([975, 980]), 1: array([1132, 1135])}, 'DP_ingredients': {'class_pred_count_s0': {0: 488, 1: 591}, 'class_pred_count_s1': {0: 499, 1: 537}, 'class_pred_count': {0: 987, 1: 1128}, 'count_s0': 1079, 'count_s1': 1036, 'count': 2115}}\n",
      "[9] Eval metrics for task 1 >> {'accuracy': 0.9965679223231143, 'loss': 0.00015755445117364257, 'std': 0.0016699631394407888, 'EER': -1, 'EO': [0.003676470588235281, 0.010162601626016232], 'DP': -1, 'accuracy_s0': 1.0, 'accuracy_s1': 0.9930804638928743, 'classwise_accuracy': {1: array([1133, 1135]), 0: array([975, 980])}, 'DP_ingredients': {'class_pred_count_s0': {1: 591, 0: 488}, 'class_pred_count_s1': {0: 499, 1: 537}, 'class_pred_count': {1: 1128, 0: 987}, 'count_s0': 1079, 'count_s1': 1036, 'count': 2115}}\n",
      "[10] Eval metrics for task 1 >> {'accuracy': 0.9961273936887531, 'loss': 0.0001430657808944125, 'std': 0.001229434505079563, 'EER': -1, 'EO': [0.005514705882352922, 0.010162601626016232], 'DP': -1, 'accuracy_s0': 1.0, 'accuracy_s1': 0.9921613462458154, 'classwise_accuracy': {1: array([1132, 1135]), 0: array([975, 980])}, 'DP_ingredients': {'class_pred_count_s0': {1: 591, 0: 488}, 'class_pred_count_s1': {0: 499, 1: 537}, 'class_pred_count': {1: 1128, 0: 987}, 'count_s0': 1079, 'count_s1': 1036, 'count': 2115}}\n",
      "[11] Eval metrics for task 1 >> {'accuracy': 0.9961273936887531, 'loss': 0.00013792823568585354, 'std': 0.001229434505079563, 'EER': -1, 'EO': [0.005514705882352922, 0.010162601626016232], 'DP': -1, 'accuracy_s0': 1.0, 'accuracy_s1': 0.9921613462458154, 'classwise_accuracy': {1: array([1132, 1135]), 0: array([975, 980])}, 'DP_ingredients': {'class_pred_count_s0': {1: 591, 0: 488}, 'class_pred_count_s1': {1: 537, 0: 499}, 'class_pred_count': {1: 1128, 0: 987}, 'count_s0': 1079, 'count_s1': 1036, 'count': 2115}}\n",
      "[12] Eval metrics for task 1 >> {'accuracy': 0.9966375977703856, 'loss': 0.00011883572659875767, 'std': 0.0007192304234469593, 'EER': -1, 'EO': [0.008130081300813052, 0.005514705882352922], 'DP': -1, 'accuracy_s0': 1.0, 'accuracy_s1': 0.993177606408417, 'classwise_accuracy': {0: array([976, 980]), 1: array([1132, 1135])}, 'DP_ingredients': {'class_pred_count_s0': {0: 488, 1: 591}, 'class_pred_count_s1': {0: 499, 1: 537}, 'class_pred_count': {0: 987, 1: 1128}, 'count_s0': 1079, 'count_s1': 1036, 'count': 2115}}\n",
      "[13] Eval metrics for task 1 >> {'accuracy': 0.9966375977703856, 'loss': 0.00011448754574531078, 'std': 0.0007192304234469593, 'EER': -1, 'EO': [0.005514705882352922, 0.008130081300813052], 'DP': -1, 'accuracy_s0': 1.0, 'accuracy_s1': 0.993177606408417, 'classwise_accuracy': {1: array([1132, 1135]), 0: array([976, 980])}, 'DP_ingredients': {'class_pred_count_s0': {0: 488, 1: 591}, 'class_pred_count_s1': {1: 537, 0: 499}, 'class_pred_count': {1: 1128, 0: 987}, 'count_s0': 1079, 'count_s1': 1036, 'count': 2115}}\n",
      "[14] Eval metrics for task 1 >> {'accuracy': 0.9966375977703856, 'loss': 0.00012227592870910116, 'std': 0.0007192304234469593, 'EER': -1, 'EO': [0.008130081300813052, 0.005514705882352922], 'DP': -1, 'accuracy_s0': 1.0, 'accuracy_s1': 0.993177606408417, 'classwise_accuracy': {0: array([976, 980]), 1: array([1132, 1135])}, 'DP_ingredients': {'class_pred_count_s0': {1: 591, 0: 488}, 'class_pred_count_s1': {0: 501, 1: 535}, 'class_pred_count': {0: 989, 1: 1126}, 'count_s0': 1079, 'count_s1': 1036, 'count': 2115}}\n",
      "[15] Eval metrics for task 1 >> {'accuracy': 0.9966375977703856, 'loss': 9.981698860759994e-05, 'std': 0.0007192304234469593, 'EER': -1, 'EO': [0.008130081300813052, 0.005514705882352922], 'DP': -1, 'accuracy_s0': 1.0, 'accuracy_s1': 0.993177606408417, 'classwise_accuracy': {0: array([976, 980]), 1: array([1132, 1135])}, 'DP_ingredients': {'class_pred_count_s0': {0: 488, 1: 591}, 'class_pred_count_s1': {0: 500, 1: 536}, 'class_pred_count': {0: 988, 1: 1127}, 'count_s0': 1079, 'count_s1': 1036, 'count': 2115}}\n",
      "training_task_end\n",
      "---------------------------- Task 2 -----------------------\n",
      "[16] Eval metrics for task 1 >> {'accuracy': 0.9772970421648836, 'loss': 0.0003332887787204544, 'std': 0.013011327879169254, 'EER': -1, 'EO': [0.07113821138211385, 0.020220588235294157], 'DP': -1, 'accuracy_s0': 1.0, 'accuracy_s1': 0.954320600191296, 'classwise_accuracy': {0: array([945, 980]), 1: array([1124, 1135])}, 'DP_ingredients': {'class_pred_count_s0': {0: 488, 1: 591}, 'class_pred_count_s1': {0: 489, 1: 543, 2: 4}, 'class_pred_count': {0: 977, 1: 1134, 2: 4}, 'count_s0': 1079, 'count_s1': 1036, 'count': 2115}}\n",
      "[16] Eval metrics for task 2 >> {'accuracy': 0.6225477780336173, 'loss': 0.0050790583118285534, 'std': 0.034428966152429186, 'EER': -1, 'EO': [0.6755862390179956, 0.804642166344294], 'DP': -1, 'accuracy_s0': 0.9990215264187867, 'accuracy_s1': 0.25890732373764186, 'classwise_accuracy': {2: array([ 678, 1032]), 3: array([ 594, 1010])}, 'DP_ingredients': {'class_pred_count_s0': {2: 510, 3: 493, 0: 1}, 'class_pred_count_s1': {2: 527, 3: 504, 1: 7}, 'class_pred_count': {2: 1037, 3: 997, 1: 7, 0: 1}, 'count_s0': 1004, 'count_s1': 1038, 'count': 2042}}\n",
      "[17] Eval metrics for task 1 >> {'accuracy': 0.9748156972039916, 'loss': 0.0003403395784239397, 'std': 0.014611615571338665, 'EER': -1, 'EO': [0.022058823529411797, 0.07518659202985478], 'DP': -1, 'accuracy_s0': 0.9989754098360656, 'accuracy_s1': 0.9503527020564323, 'classwise_accuracy': {1: array([1123, 1135]), 0: array([941, 980])}, 'DP_ingredients': {'class_pred_count_s0': {0: 487, 1: 591, 3: 1}, 'class_pred_count_s1': {1: 542, 0: 486, 3: 5, 2: 3}, 'class_pred_count': {1: 1133, 0: 973, 3: 6, 2: 3}, 'count_s0': 1079, 'count_s1': 1036, 'count': 2115}}\n",
      "[17] Eval metrics for task 2 >> {'accuracy': 0.6861136695064856, 'loss': 0.0036405437606789105, 'std': 0.002005142374702562, 'EER': -1, 'EO': [0.6218434367147326, 0.609284332688588], 'DP': -1, 'accuracy_s0': 0.9990215264187867, 'accuracy_s1': 0.3834576417171264, 'classwise_accuracy': {2: array([ 706, 1032]), 3: array([ 695, 1010])}, 'DP_ingredients': {'class_pred_count_s0': {2: 507, 3: 493, 0: 3, 1: 1}, 'class_pred_count_s1': {2: 557, 3: 473, 1: 7, 0: 1}, 'class_pred_count': {2: 1064, 3: 966, 1: 8, 0: 4}, 'count_s0': 1004, 'count_s1': 1038, 'count': 2042}}\n",
      "[18] Eval metrics for task 1 >> {'accuracy': 0.9689022745662141, 'loss': 0.0004431160611604686, 'std': 0.017881866402948865, 'EER': -1, 'EO': [0.02757352941176472, 0.09347927495668407], 'DP': -1, 'accuracy_s0': 0.9989754098360656, 'accuracy_s1': 0.9384490076518412, 'classwise_accuracy': {1: array([1120, 1135]), 0: array([932, 980])}, 'DP_ingredients': {'class_pred_count_s0': {1: 591, 0: 486, 3: 1, 2: 1}, 'class_pred_count_s1': {1: 541, 0: 489, 2: 5, 3: 1}, 'class_pred_count': {1: 1132, 0: 975, 2: 6, 3: 2}, 'count_s0': 1079, 'count_s1': 1036, 'count': 2115}}\n",
      "[18] Eval metrics for task 2 >> {'accuracy': 0.7411150126640571, 'loss': 0.0026629459437614088, 'std': 0.029233824545245257, 'EER': -1, 'EO': [0.45489443378119, 0.562862669245648], 'DP': -1, 'accuracy_s0': 1.0, 'accuracy_s1': 0.491121448486581, 'classwise_accuracy': {2: array([ 795, 1032]), 3: array([ 719, 1010])}, 'DP_ingredients': {'class_pred_count_s0': {2: 511, 3: 493}, 'class_pred_count_s1': {3: 497, 2: 534, 1: 7}, 'class_pred_count': {2: 1045, 3: 990, 1: 7}, 'count_s0': 1004, 'count_s1': 1038, 'count': 2042}}\n",
      "[19] Eval metrics for task 1 >> {'accuracy': 0.9699226827294795, 'loss': 0.0004635386503616405, 'std': 0.016861458239683547, 'EER': -1, 'EO': [0.02757352941176472, 0.08125083300013325], 'DP': -1, 'accuracy_s0': 0.9969262295081966, 'accuracy_s1': 0.9425140483022477, 'classwise_accuracy': {1: array([1120, 1135]), 0: array([934, 980])}, 'DP_ingredients': {'class_pred_count_s0': {1: 591, 0: 484, 2: 1, 3: 3}, 'class_pred_count_s1': {1: 538, 0: 484, 3: 8, 2: 6}, 'class_pred_count': {1: 1129, 0: 968, 3: 11, 2: 7}, 'count_s0': 1079, 'count_s1': 1036, 'count': 2115}}\n",
      "[19] Eval metrics for task 2 >> {'accuracy': 0.7739667280681557, 'loss': 0.002272051998964136, 'std': 0.025451876583007127, 'EER': -1, 'EO': [0.4912959381044487, 0.3973128598848369], 'DP': -1, 'accuracy_s0': 1.0, 'accuracy_s1': 0.5556956010053572, 'classwise_accuracy': {3: array([ 756, 1010]), 2: array([ 825, 1032])}, 'DP_ingredients': {'class_pred_count_s0': {3: 493, 2: 511}, 'class_pred_count_s1': {3: 497, 2: 538, 1: 3}, 'class_pred_count': {3: 990, 2: 1049, 1: 3}, 'count_s0': 1004, 'count_s1': 1038, 'count': 2042}}\n",
      "[20] Eval metrics for task 1 >> {'accuracy': 0.9622471455542569, 'loss': 0.0006271057235997337, 'std': 0.018369594533848788, 'EER': -1, 'EO': [0.0404411764705882, 0.09546181527389042], 'DP': -1, 'accuracy_s0': 0.9959016393442623, 'accuracy_s1': 0.927950143472023, 'classwise_accuracy': {1: array([1113, 1135]), 0: array([925, 980])}, 'DP_ingredients': {'class_pred_count_s0': {1: 591, 0: 483, 2: 2, 3: 3}, 'class_pred_count_s1': {1: 536, 0: 481, 3: 14, 2: 5}, 'class_pred_count': {1: 1127, 0: 964, 3: 17, 2: 7}, 'count_s0': 1079, 'count_s1': 1036, 'count': 2115}}\n",
      "[20] Eval metrics for task 2 >> {'accuracy': 0.8374587458745875, 'loss': 0.0015626035842325732, 'std': 0.004125412541254092, 'EER': -1, 'EO': [0.30947775628626695, 0.3301343570057581], 'DP': -1, 'accuracy_s0': 1.0, 'accuracy_s1': 0.6801939433539874, 'classwise_accuracy': {3: array([ 850, 1010]), 2: array([ 860, 1032])}, 'DP_ingredients': {'class_pred_count_s0': {3: 493, 2: 511}, 'class_pred_count_s1': {3: 515, 2: 519, 1: 4}, 'class_pred_count': {3: 1008, 2: 1030, 1: 4}, 'count_s0': 1004, 'count_s1': 1038, 'count': 2042}}\n",
      "[21] Eval metrics for task 1 >> {'accuracy': 0.9621774701069855, 'loss': 0.0005592117499974039, 'std': 0.019320327249842673, 'EER': -1, 'EO': [0.03507265850502639, 0.08933093429294958], 'DP': -1, 'accuracy_s0': 0.9930064353277301, 'accuracy_s1': 0.9308046389287422, 'classwise_accuracy': {1: array([1114, 1135]), 0: array([924, 980])}, 'DP_ingredients': {'class_pred_count_s0': {0: 481, 1: 590, 3: 7, 2: 1}, 'class_pred_count_s1': {1: 535, 0: 481, 2: 6, 3: 14}, 'class_pred_count': {1: 1125, 0: 962, 3: 21, 2: 7}, 'count_s0': 1079, 'count_s1': 1036, 'count': 2115}}\n",
      "[21] Eval metrics for task 2 >> {'accuracy': 0.857944777035843, 'loss': 0.0013718308331800604, 'std': 0.003489331491288661, 'EER': -1, 'EO': [0.27059583594697834, 0.28433268858800775], 'DP': -1, 'accuracy_s0': 0.9990215264187867, 'accuracy_s1': 0.7215572641512936, 'classwise_accuracy': {2: array([ 889, 1032]), 3: array([ 863, 1010])}, 'DP_ingredients': {'class_pred_count_s0': {3: 494, 2: 510}, 'class_pred_count_s1': {2: 530, 3: 505, 1: 3}, 'class_pred_count': {2: 1040, 3: 999, 1: 3}, 'count_s0': 1004, 'count_s1': 1038, 'count': 2042}}\n",
      "[22] Eval metrics for task 1 >> {'accuracy': 0.9624786478468039, 'loss': 0.0006007276942191676, 'std': 0.021662321316191724, 'EER': -1, 'EO': [0.029557952622673467, 0.09339597494335605], 'DP': -1, 'accuracy_s0': 0.9930064353277301, 'accuracy_s1': 0.9315294715447154, 'classwise_accuracy': {1: array([1117, 1135]), 0: array([922, 980])}, 'DP_ingredients': {'class_pred_count_s0': {1: 590, 0: 481, 3: 7, 2: 1}, 'class_pred_count_s1': {1: 535, 0: 482, 2: 6, 3: 13}, 'class_pred_count': {1: 1125, 0: 963, 2: 7, 3: 20}, 'count_s0': 1079, 'count_s1': 1036, 'count': 2115}}\n",
      "[22] Eval metrics for task 2 >> {'accuracy': 0.8773572415381072, 'loss': 0.0012664008633863915, 'std': 0.025613055491595704, 'EER': -1, 'EO': [0.1895551257253385, 0.28978969391242937], 'DP': -1, 'accuracy_s0': 0.9990215264187867, 'accuracy_s1': 0.7593491165999027, 'classwise_accuracy': {3: array([ 912, 1010]), 2: array([ 879, 1032])}, 'DP_ingredients': {'class_pred_count_s0': {2: 510, 3: 494}, 'class_pred_count_s1': {3: 510, 2: 523, 1: 5}, 'class_pred_count': {3: 1004, 2: 1033, 1: 5}, 'count_s0': 1004, 'count_s1': 1038, 'count': 2042}}\n",
      "[23] Eval metrics for task 1 >> {'accuracy': 0.9607862087566303, 'loss': 0.0006428601964427506, 'std': 0.01894947406275288, 'EER': -1, 'EO': [0.03874912909326167, 0.08728175396508064], 'DP': -1, 'accuracy_s0': 0.9919818451637957, 'accuracy_s1': 0.9289664036346246, 'classwise_accuracy': {1: array([1112, 1135]), 0: array([923, 980])}, 'DP_ingredients': {'class_pred_count_s0': {1: 590, 0: 481, 3: 7, 2: 1}, 'class_pred_count_s1': {1: 535, 0: 482, 3: 13, 2: 6}, 'class_pred_count': {1: 1125, 0: 963, 3: 20, 2: 7}, 'count_s0': 1079, 'count_s1': 1036, 'count': 2115}}\n",
      "[23] Eval metrics for task 2 >> {'accuracy': 0.8997495970527285, 'loss': 0.0010529678902359832, 'std': 0.013121690075984349, 'EER': -1, 'EO': [0.22069180523680554, 0.17021276595744683], 'DP': -1, 'accuracy_s0': 0.9990215264187867, 'accuracy_s1': 0.8035692408216605, 'classwise_accuracy': {2: array([ 915, 1032]), 3: array([ 922, 1010])}, 'DP_ingredients': {'class_pred_count_s0': {2: 510, 3: 494}, 'class_pred_count_s1': {3: 525, 2: 509, 1: 4}, 'class_pred_count': {2: 1019, 3: 1019, 1: 4}, 'count_s0': 1004, 'count_s1': 1038, 'count': 2042}}\n",
      "[24] Eval metrics for task 1 >> {'accuracy': 0.957563157421559, 'loss': 0.0006862137581157909, 'std': 0.01776723905421196, 'EER': -1, 'EO': [0.087265093962415, 0.04794030556384998], 'DP': -1, 'accuracy_s0': 0.9909572549998613, 'accuracy_s1': 0.9233545552367288, 'classwise_accuracy': {0: array([921, 980]), 1: array([1107, 1135])}, 'DP_ingredients': {'class_pred_count_s0': {0: 479, 1: 590, 3: 6, 2: 4}, 'class_pred_count_s1': {0: 481, 1: 535, 3: 14, 2: 6}, 'class_pred_count': {0: 960, 1: 1125, 3: 20, 2: 10}, 'count_s0': 1079, 'count_s1': 1036, 'count': 2115}}\n",
      "[24] Eval metrics for task 2 >> {'accuracy': 0.8864360273236627, 'loss': 0.0011844652304453202, 'std': 0.004653081587228491, 'EER': -1, 'EO': [0.2302887342195311, 0.21276595744680848], 'DP': -1, 'accuracy_s0': 0.9990215264187867, 'accuracy_s1': 0.7774941805856168, 'classwise_accuracy': {2: array([ 910, 1032]), 3: array([ 900, 1010])}, 'DP_ingredients': {'class_pred_count_s0': {2: 510, 3: 494}, 'class_pred_count_s1': {3: 520, 2: 512, 1: 6}, 'class_pred_count': {3: 1014, 2: 1022, 1: 6}, 'count_s0': 1004, 'count_s1': 1038, 'count': 2042}}\n",
      "[25] Eval metrics for task 1 >> {'accuracy': 0.9549424615661242, 'loss': 0.0007321788205040825, 'std': 0.02126899217836914, 'EER': -1, 'EO': [0.04610207026973234, 0.08721511395441817], 'DP': -1, 'accuracy_s0': 0.987883484508058, 'accuracy_s1': 0.9212248923959827, 'classwise_accuracy': {1: array([1108, 1135]), 0: array([915, 980])}, 'DP_ingredients': {'class_pred_count_s0': {1: 590, 0: 477, 3: 9, 2: 3}, 'class_pred_count_s1': {1: 535, 0: 482, 3: 13, 2: 6}, 'class_pred_count': {1: 1125, 0: 959, 3: 22, 2: 9}, 'count_s0': 1079, 'count_s1': 1036, 'count': 2115}}\n",
      "[25] Eval metrics for task 2 >> {'accuracy': 0.918445391050733, 'loss': 0.0009739295698986931, 'std': 0.021158569345306577, 'EER': -1, 'EO': [0.19957856147480946, 0.11798839458413923], 'DP': -1, 'accuracy_s0': 0.9990215264187867, 'accuracy_s1': 0.8402380483893124, 'classwise_accuracy': {2: array([ 926, 1032]), 3: array([ 949, 1010])}, 'DP_ingredients': {'class_pred_count_s0': {2: 510, 3: 494}, 'class_pred_count_s1': {3: 525, 2: 507, 1: 6}, 'class_pred_count': {2: 1017, 3: 1019, 1: 6}, 'count_s0': 1004, 'count_s1': 1038, 'count': 2042}}\n",
      "[26] Eval metrics for task 1 >> {'accuracy': 0.9552436393059427, 'loss': 0.0007912045287465936, 'std': 0.02361098624471819, 'EER': -1, 'EO': [0.08719845395175263, 0.04058736438737931], 'DP': -1, 'accuracy_s0': 0.9868588943441237, 'accuracy_s1': 0.9229659851745576, 'classwise_accuracy': {0: array([913, 980]), 1: array([1111, 1135])}, 'DP_ingredients': {'class_pred_count_s0': {0: 476, 1: 590, 3: 11, 2: 2}, 'class_pred_count_s1': {2: 4, 0: 477, 1: 536, 3: 19}, 'class_pred_count': {0: 953, 2: 6, 1: 1126, 3: 30}, 'count_s0': 1079, 'count_s1': 1036, 'count': 2115}}\n",
      "[26] Eval metrics for task 2 >> {'accuracy': 0.9155911812111444, 'loss': 0.000993547546991989, 'std': 0.02896327423440015, 'EER': -1, 'EO': [0.1083172147001934, 0.22069180523680554], 'DP': -1, 'accuracy_s0': 0.9990215264187867, 'accuracy_s1': 0.8345170164502872, 'classwise_accuracy': {3: array([ 954, 1010]), 2: array([ 915, 1032])}, 'DP_ingredients': {'class_pred_count_s0': {3: 494, 2: 510}, 'class_pred_count_s1': {3: 522, 2: 510, 1: 6}, 'class_pred_count': {3: 1016, 2: 1020, 1: 6}, 'count_s0': 1004, 'count_s1': 1038, 'count': 2042}}\n",
      "[27] Eval metrics for task 1 >> {'accuracy': 0.9562640474692079, 'loss': 0.0007930242916652779, 'std': 0.022590578081452872, 'EER': -1, 'EO': [0.08721511395441817, 0.04058736438737931], 'DP': -1, 'accuracy_s0': 0.987883484508058, 'accuracy_s1': 0.9239822453371593, 'classwise_accuracy': {0: array([915, 980]), 1: array([1111, 1135])}, 'DP_ingredients': {'class_pred_count_s0': {0: 477, 1: 590, 2: 3, 3: 9}, 'class_pred_count_s1': {0: 482, 1: 534, 3: 15, 2: 5}, 'class_pred_count': {0: 959, 1: 1124, 3: 24, 2: 8}, 'count_s0': 1079, 'count_s1': 1036, 'count': 2115}}\n",
      "[27] Eval metrics for task 2 >> {'accuracy': 0.9239225957479469, 'loss': 0.0008969646928709704, 'std': 0.02954275078670654, 'EER': -1, 'EO': [0.09090909090909094, 0.2053367188644447], 'DP': -1, 'accuracy_s0': 0.9990215264187867, 'accuracy_s1': 0.8508986215320189, 'classwise_accuracy': {3: array([ 963, 1010]), 2: array([ 923, 1032])}, 'DP_ingredients': {'class_pred_count_s0': {2: 510, 3: 494}, 'class_pred_count_s1': {3: 510, 2: 522, 1: 6}, 'class_pred_count': {3: 1004, 2: 1032, 1: 6}, 'count_s0': 1004, 'count_s1': 1038, 'count': 2042}}\n",
      "[28] Eval metrics for task 1 >> {'accuracy': 0.9556841679403039, 'loss': 0.0008320382582662235, 'std': 0.024051514879079416, 'EER': -1, 'EO': [0.09128015460482464, 0.03874912909326167], 'DP': -1, 'accuracy_s0': 0.987883484508058, 'accuracy_s1': 0.9228688426590148, 'classwise_accuracy': {0: array([913, 980]), 1: array([1112, 1135])}, 'DP_ingredients': {'class_pred_count_s0': {1: 590, 0: 477, 3: 9, 2: 3}, 'class_pred_count_s1': {0: 481, 1: 534, 2: 7, 3: 14}, 'class_pred_count': {0: 958, 1: 1124, 2: 10, 3: 23}, 'count_s0': 1079, 'count_s1': 1036, 'count': 2115}}\n",
      "[28] Eval metrics for task 2 >> {'accuracy': 0.9246594136157802, 'loss': 0.0008899899788864913, 'std': 0.007023754701051543, 'EER': -1, 'EO': [0.16314779270633395, 0.1334622823984526], 'DP': -1, 'accuracy_s0': 1.0, 'accuracy_s1': 0.8516949624476067, 'classwise_accuracy': {2: array([ 947, 1032]), 3: array([ 941, 1010])}, 'DP_ingredients': {'class_pred_count_s0': {3: 493, 2: 511}, 'class_pred_count_s1': {2: 515, 3: 516, 1: 7}, 'class_pred_count': {2: 1026, 3: 1009, 1: 7}, 'count_s0': 1004, 'count_s1': 1038, 'count': 2042}}\n",
      "[29] Eval metrics for task 1 >> {'accuracy': 0.9558235188348467, 'loss': 0.0007849680651727862, 'std': 0.022150049447091646, 'EER': -1, 'EO': [0.04242559968149695, 0.08721511395441817], 'DP': -1, 'accuracy_s0': 0.987883484508058, 'accuracy_s1': 0.9230631276901005, 'classwise_accuracy': {1: array([1110, 1135]), 0: array([915, 980])}, 'DP_ingredients': {'class_pred_count_s0': {1: 590, 0: 477, 3: 9, 2: 3}, 'class_pred_count_s1': {1: 534, 0: 482, 2: 5, 3: 15}, 'class_pred_count': {1: 1124, 0: 959, 3: 24, 2: 8}, 'count_s0': 1079, 'count_s1': 1036, 'count': 2115}}\n",
      "[29] Eval metrics for task 2 >> {'accuracy': 0.9253655307391204, 'loss': 0.00088927738667702, 'std': 0.02710971678563201, 'EER': -1, 'EO': [0.1976591756782643, 0.09284332688588004], 'DP': -1, 'accuracy_s0': 0.9990215264187867, 'accuracy_s1': 0.8537702751367144, 'classwise_accuracy': {2: array([ 927, 1032]), 3: array([ 962, 1010])}, 'DP_ingredients': {'class_pred_count_s0': {2: 510, 3: 494}, 'class_pred_count_s1': {2: 518, 3: 511, 1: 9}, 'class_pred_count': {2: 1028, 3: 1005, 1: 9}, 'count_s0': 1004, 'count_s1': 1038, 'count': 2042}}\n",
      "[30] Eval metrics for task 1 >> {'accuracy': 0.9520902634181425, 'loss': 0.000864575687029683, 'std': 0.02147801852018344, 'EER': -1, 'EO': [0.09331267493002793, 0.051616776152085264], 'DP': -1, 'accuracy_s0': 0.987883484508058, 'accuracy_s1': 0.9154187589670014, 'classwise_accuracy': {0: array([912, 980]), 1: array([1105, 1135])}, 'DP_ingredients': {'class_pred_count_s0': {1: 590, 0: 477, 3: 8, 2: 4}, 'class_pred_count_s1': {0: 481, 1: 534, 3: 13, 2: 8}, 'class_pred_count': {0: 958, 1: 1124, 3: 21, 2: 12}, 'count_s0': 1079, 'count_s1': 1036, 'count': 2115}}\n",
      "[30] Eval metrics for task 2 >> {'accuracy': 0.9276508174073221, 'loss': 0.0008637572654197312, 'std': 0.011953142988717469, 'EER': -1, 'EO': [0.11798839458413923, 0.16698656429942416], 'DP': -1, 'accuracy_s0': 1.0, 'accuracy_s1': 0.8575125205582184, 'classwise_accuracy': {3: array([ 949, 1010]), 2: array([ 945, 1032])}, 'DP_ingredients': {'class_pred_count_s0': {3: 493, 2: 511}, 'class_pred_count_s1': {2: 511, 3: 518, 1: 9}, 'class_pred_count': {3: 1011, 2: 1022, 1: 9}, 'count_s0': 1004, 'count_s1': 1038, 'count': 2042}}\n",
      "training_task_end\n",
      "---------------------------- Task 3 -----------------------\n",
      "[31] Eval metrics for task 1 >> {'accuracy': 0.9417940303874854, 'loss': 0.0008411279102307403, 'std': 0.026487907938505806, 'EER': -1, 'EO': [0.05911590524534682, 0.10339197654271626], 'DP': -1, 'accuracy_s0': 0.9819145099997226, 'accuracy_s1': 0.900660569105691, 'classwise_accuracy': {1: array([1099, 1135]), 0: array([897, 980])}, 'DP_ingredients': {'class_pred_count_s0': {1: 589, 0: 472, 5: 14, 2: 1, 3: 2, 4: 1}, 'class_pred_count_s1': {1: 536, 0: 471, 2: 3, 3: 7, 5: 18, 4: 1}, 'class_pred_count': {1: 1125, 0: 943, 2: 4, 3: 9, 5: 32, 4: 2}, 'count_s0': 1079, 'count_s1': 1036, 'count': 2115}}\n",
      "[31] Eval metrics for task 2 >> {'accuracy': 0.9119464272008597, 'loss': 0.0012297138761469947, 'std': 0.008845652007061167, 'EER': -1, 'EO': [0.15077624460042138, 0.14929891710582155], 'DP': -1, 'accuracy_s0': 0.9882225918236922, 'accuracy_s1': 0.8381850109705706, 'classwise_accuracy': {3: array([ 930, 1010]), 2: array([ 932, 1032])}, 'DP_ingredients': {'class_pred_count_s0': {3: 494, 2: 498, 4: 10, 5: 2}, 'class_pred_count_s1': {3: 498, 2: 518, 4: 6, 1: 8, 0: 3, 5: 5}, 'class_pred_count': {3: 992, 2: 1016, 4: 16, 1: 8, 5: 7, 0: 3}, 'count_s0': 1004, 'count_s1': 1038, 'count': 2042}}\n",
      "[31] Eval metrics for task 3 >> {'accuracy': 0.6292011818107094, 'loss': 0.005407920069475693, 'std': 0.06529983651922955, 'EER': -1, 'EO': [0.5695230716038273, 0.8303496383832182], 'DP': -1, 'accuracy_s0': 0.9954303969589898, 'accuracy_s1': 0.295494041965467, 'classwise_accuracy': {4: array([682, 982]), 5: array([503, 892])}, 'DP_ingredients': {'class_pred_count_s0': {5: 427, 4: 458, 0: 2, 2: 1, 1: 2}, 'class_pred_count_s1': {5: 443, 4: 534, 1: 5, 2: 1, 3: 1}, 'class_pred_count': {5: 870, 4: 992, 1: 7, 0: 2, 2: 2, 3: 1}, 'count_s0': 890, 'count_s1': 984, 'count': 1874}}\n",
      "[32] Eval metrics for task 1 >> {'accuracy': 0.9374808954418772, 'loss': 0.0009783519497999907, 'std': 0.027276813809224087, 'EER': -1, 'EO': [0.06646884642181738, 0.10130947620951625], 'DP': -1, 'accuracy_s0': 0.9788407395079193, 'accuracy_s1': 0.8949515781922526, 'classwise_accuracy': {1: array([1095, 1135]), 0: array([892, 980])}, 'DP_ingredients': {'class_pred_count_s0': {1: 589, 0: 467, 5: 20, 2: 1, 3: 1, 4: 1}, 'class_pred_count_s1': {1: 531, 0: 471, 2: 3, 3: 10, 5: 18, 4: 3}, 'class_pred_count': {1: 1120, 0: 938, 2: 4, 3: 11, 5: 38, 4: 4}, 'count_s0': 1079, 'count_s1': 1036, 'count': 2115}}\n",
      "[32] Eval metrics for task 2 >> {'accuracy': 0.904205042597283, 'loss': 0.001438913014913516, 'std': 0.01757713562053881, 'EER': -1, 'EO': [0.15867047789325806, 0.14487937508092008], 'DP': -1, 'accuracy_s0': 0.9813375515534508, 'accuracy_s1': 0.8295626250663617, 'classwise_accuracy': {2: array([ 915, 1032]), 3: array([ 931, 1010])}, 'DP_ingredients': {'class_pred_count_s0': {2: 493, 3: 494, 4: 12, 5: 5}, 'class_pred_count_s1': {3: 504, 2: 513, 5: 6, 4: 6, 1: 7, 0: 2}, 'class_pred_count': {2: 1006, 3: 998, 4: 18, 5: 11, 1: 7, 0: 2}, 'count_s0': 1004, 'count_s1': 1038, 'count': 2042}}\n",
      "[32] Eval metrics for task 3 >> {'accuracy': 0.714866475482451, 'loss': 0.0036484534229005794, 'std': 0.09266916606541059, 'EER': -1, 'EO': [0.361376673040153, 0.7310195227765727], 'DP': -1, 'accuracy_s0': 1.0, 'accuracy_s1': 0.4538019020916372, 'classwise_accuracy': {4: array([793, 982]), 5: array([555, 892])}, 'DP_ingredients': {'class_pred_count_s0': {4: 459, 5: 431}, 'class_pred_count_s1': {5: 501, 4: 477, 1: 4, 3: 1, 2: 1}, 'class_pred_count': {4: 936, 5: 932, 1: 4, 3: 1, 2: 1}, 'count_s0': 890, 'count_s1': 984, 'count': 1874}}\n",
      "[33] Eval metrics for task 1 >> {'accuracy': 0.9346511732446283, 'loss': 0.0010025411421525562, 'std': 0.03363076508136292, 'EER': -1, 'EO': [0.11143875783020118, 0.05911590524534682], 'DP': -1, 'accuracy_s0': 0.9767915591800505, 'accuracy_s1': 0.8915142276422765, 'classwise_accuracy': {0: array([883, 980]), 1: array([1099, 1135])}, 'DP_ingredients': {'class_pred_count_s0': {0: 465, 5: 22, 1: 589, 3: 1, 4: 1, 2: 1}, 'class_pred_count_s1': {0: 467, 1: 530, 5: 24, 4: 5, 2: 5, 3: 5}, 'class_pred_count': {0: 932, 1: 1119, 5: 46, 4: 6, 3: 6, 2: 6}, 'count_s0': 1079, 'count_s1': 1036, 'count': 2115}}\n",
      "[33] Eval metrics for task 2 >> {'accuracy': 0.8873416992862078, 'loss': 0.0017236449576031334, 'std': 0.0021931844347225504, 'EER': -1, 'EO': [0.21248347267940726, 0.1529123205036227], 'DP': -1, 'accuracy_s0': 0.9803233527704893, 'accuracy_s1': 0.7976254561789744, 'classwise_accuracy': {3: array([ 894, 1010]), 2: array([ 918, 1032])}, 'DP_ingredients': {'class_pred_count_s0': {3: 490, 2: 491, 5: 10, 4: 13}, 'class_pred_count_s1': {2: 515, 3: 506, 5: 6, 1: 4, 0: 1, 4: 6}, 'class_pred_count': {3: 996, 2: 1006, 5: 16, 1: 4, 4: 19, 0: 1}, 'count_s0': 1004, 'count_s1': 1038, 'count': 2042}}\n",
      "[33] Eval metrics for task 3 >> {'accuracy': 0.7822623364050669, 'loss': 0.0026322964225024017, 'std': 0.07822646196560507, 'EER': -1, 'EO': [0.26195028680688337, 0.5726681127982647], 'DP': -1, 'accuracy_s0': 1.0, 'accuracy_s1': 0.582690800197426, 'classwise_accuracy': {4: array([845, 982]), 5: array([628, 892])}, 'DP_ingredients': {'class_pred_count_s0': {4: 459, 5: 431}, 'class_pred_count_s1': {5: 481, 4: 496, 1: 5, 3: 1, 2: 1}, 'class_pred_count': {4: 955, 5: 912, 1: 5, 3: 1, 2: 1}, 'count_s0': 890, 'count_s1': 984, 'count': 1874}}\n",
      "[34] Eval metrics for task 1 >> {'accuracy': 0.9408432976714916, 'loss': 0.0010419028377420233, 'std': 0.02655758338577724, 'EER': -1, 'EO': [0.10542449686791944, 0.06095414053946446], 'DP': -1, 'accuracy_s0': 0.9819145099997226, 'accuracy_s1': 0.8987251912960306, 'classwise_accuracy': {0: array([896, 980]), 1: array([1098, 1135])}, 'DP_ingredients': {'class_pred_count_s0': {0: 471, 1: 589, 5: 16, 2: 1, 4: 1, 3: 1}, 'class_pred_count_s1': {0: 473, 1: 530, 3: 5, 4: 5, 5: 19, 2: 4}, 'class_pred_count': {0: 944, 1: 1119, 3: 6, 4: 6, 5: 35, 2: 5}, 'count_s0': 1079, 'count_s1': 1036, 'count': 2115}}\n",
      "[34] Eval metrics for task 2 >> {'accuracy': 0.8929033310307775, 'loss': 0.001757380325460294, 'std': 0.014027362038529445, 'EER': -1, 'EO': [0.1699302811900456, 0.17014923130664728], 'DP': -1, 'accuracy_s0': 0.979344879189276, 'accuracy_s1': 0.8093051229409296, 'classwise_accuracy': {3: array([ 916, 1010]), 2: array([ 907, 1032])}, 'DP_ingredients': {'class_pred_count_s0': {3: 492, 2: 492, 4: 11, 5: 8, 1: 1}, 'class_pred_count_s1': {3: 500, 2: 518, 0: 1, 1: 8, 4: 5, 5: 6}, 'class_pred_count': {3: 992, 2: 1010, 4: 16, 5: 14, 0: 1, 1: 9}, 'count_s0': 1004, 'count_s1': 1038, 'count': 2042}}\n",
      "[34] Eval metrics for task 3 >> {'accuracy': 0.8036518316239394, 'loss': 0.0022880219821614415, 'std': 0.08840519485263898, 'EER': -1, 'EO': [0.20267686424474185, 0.5509761388286334], 'DP': -1, 'accuracy_s0': 1.0, 'accuracy_s1': 0.6231734984633124, 'classwise_accuracy': {4: array([876, 982]), 5: array([638, 892])}, 'DP_ingredients': {'class_pred_count_s0': {5: 431, 4: 459}, 'class_pred_count_s1': {5: 465, 4: 512, 1: 4, 3: 2, 2: 1}, 'class_pred_count': {5: 896, 4: 971, 1: 4, 3: 2, 2: 1}, 'count_s0': 890, 'count_s1': 984, 'count': 1874}}\n",
      "[35] Eval metrics for task 1 >> {'accuracy': 0.939962240402769, 'loss': 0.0009345086507199786, 'std': 0.025676526117054788, 'EER': -1, 'EO': [0.10542449686791944, 0.06463061112769974], 'DP': -1, 'accuracy_s0': 0.9819145099997226, 'accuracy_s1': 0.896886956001913, 'classwise_accuracy': {0: array([896, 980]), 1: array([1096, 1135])}, 'DP_ingredients': {'class_pred_count_s0': {0: 471, 1: 589, 3: 1, 5: 16, 2: 1, 4: 1}, 'class_pred_count_s1': {0: 473, 1: 530, 5: 19, 3: 4, 2: 5, 4: 5}, 'class_pred_count': {0: 944, 1: 1119, 3: 5, 5: 35, 2: 6, 4: 6}, 'count_s0': 1079, 'count_s1': 1036, 'count': 2115}}\n",
      "[35] Eval metrics for task 2 >> {'accuracy': 0.8863516002763068, 'loss': 0.0018702009720153135, 'std': 0.0031832834446235414, 'EER': -1, 'EO': [0.1529123205036227, 0.16880034212044048], 'DP': -1, 'accuracy_s0': 0.9681529673749518, 'accuracy_s1': 0.8072966360629202, 'classwise_accuracy': {2: array([ 918, 1032]), 3: array([ 892, 1010])}, 'DP_ingredients': {'class_pred_count_s0': {2: 495, 3: 479, 5: 16, 4: 13, 1: 1}, 'class_pred_count_s1': {2: 518, 3: 488, 1: 7, 4: 7, 5: 17, 0: 1}, 'class_pred_count': {2: 1013, 3: 967, 1: 8, 5: 33, 4: 20, 0: 1}, 'count_s0': 1004, 'count_s1': 1038, 'count': 2042}}\n",
      "[35] Eval metrics for task 3 >> {'accuracy': 0.8316227978044259, 'loss': 0.0020286425105281165, 'std': 0.072654187938955, 'EER': -1, 'EO': [0.4663774403470716, 0.17973231357552577], 'DP': -1, 'accuracy_s0': 1.0, 'accuracy_s1': 0.6769451230387014, 'classwise_accuracy': {5: array([677, 892]), 4: array([888, 982])}, 'DP_ingredients': {'class_pred_count_s0': {4: 459, 5: 431}, 'class_pred_count_s1': {5: 469, 4: 505, 1: 8, 3: 1, 2: 1}, 'class_pred_count': {5: 900, 4: 964, 1: 8, 3: 1, 2: 1}, 'count_s0': 890, 'count_s1': 984, 'count': 1874}}\n",
      "[36] Eval metrics for task 1 >> {'accuracy': 0.9380607749707812, 'loss': 0.001008684478753002, 'std': 0.0258158770115976, 'EER': -1, 'EO': [0.10948953751832602, 0.06830708171593503], 'DP': -1, 'accuracy_s0': 0.9819145099997226, 'accuracy_s1': 0.8930162003825921, 'classwise_accuracy': {0: array([894, 980]), 1: array([1094, 1135])}, 'DP_ingredients': {'class_pred_count_s0': {0: 471, 1: 589, 5: 16, 3: 1, 4: 1, 2: 1}, 'class_pred_count_s1': {1: 529, 0: 472, 5: 19, 2: 5, 4: 5, 3: 6}, 'class_pred_count': {0: 943, 1: 1118, 5: 35, 2: 6, 4: 6, 3: 7}, 'count_s0': 1079, 'count_s1': 1036, 'count': 2115}}\n",
      "[36] Eval metrics for task 2 >> {'accuracy': 0.8820755622073835, 'loss': 0.0019381146706516665, 'std': 0.009013546703507569, 'EER': -1, 'EO': [0.1622838812910592, 0.18502752264782385], 'DP': -1, 'accuracy_s0': 0.9703957161513637, 'accuracy_s1': 0.7967400141819221, 'classwise_accuracy': {2: array([ 901, 1032]), 3: array([ 900, 1010])}, 'DP_ingredients': {'class_pred_count_s0': {2: 488, 3: 487, 4: 14, 5: 14, 1: 1}, 'class_pred_count_s1': {2: 512, 3: 498, 1: 6, 4: 8, 5: 12, 0: 2}, 'class_pred_count': {2: 1000, 3: 985, 4: 22, 1: 7, 5: 26, 0: 2}, 'count_s0': 1004, 'count_s1': 1038, 'count': 2042}}\n",
      "[36] Eval metrics for task 3 >> {'accuracy': 0.8473555387102372, 'loss': 0.0017788912723260349, 'std': 0.0895080050779502, 'EER': -1, 'EO': [0.11854684512428293, 0.4685466377440347], 'DP': -1, 'accuracy_s0': 1.0, 'accuracy_s1': 0.7064532585658412, 'classwise_accuracy': {4: array([920, 982]), 5: array([676, 892])}, 'DP_ingredients': {'class_pred_count_s0': {5: 431, 4: 459}, 'class_pred_count_s1': {4: 500, 5: 473, 2: 1, 1: 8, 3: 2}, 'class_pred_count': {4: 959, 5: 904, 2: 1, 1: 8, 3: 2}, 'count_s0': 890, 'count_s1': 984, 'count': 1874}}\n",
      "[37] Eval metrics for task 1 >> {'accuracy': 0.9284140969162995, 'loss': 0.0011424302667308924, 'std': 0.028414096916299536, 'EER': -1, 'EO': [0.1175529788084766, 0.08301296406887626], 'DP': -1, 'accuracy_s0': 0.9778161493439849, 'accuracy_s1': 0.8775331779053084, 'classwise_accuracy': {0: array([882, 980]), 1: array([1086, 1135])}, 'DP_ingredients': {'class_pred_count_s0': {0: 468, 1: 589, 5: 19, 2: 1, 3: 1, 4: 1}, 'class_pred_count_s1': {0: 472, 1: 531, 5: 18, 2: 5, 3: 5, 4: 5}, 'class_pred_count': {0: 940, 1: 1120, 5: 37, 2: 6, 3: 6, 4: 6}, 'count_s0': 1079, 'count_s1': 1036, 'count': 2115}}\n",
      "[37] Eval metrics for task 2 >> {'accuracy': 0.8666234937447233, 'loss': 0.002189883362067668, 'std': 0.016128444239772832, 'EER': -1, 'EO': [0.14309002332560816, 0.18507852684193804], 'DP': -1, 'accuracy_s0': 0.9501117404921344, 'accuracy_s1': 0.7860274654083614, 'classwise_accuracy': {2: array([ 911, 1032]), 3: array([ 859, 1010])}, 'DP_ingredients': {'class_pred_count_s0': {2: 493, 3: 466, 5: 28, 1: 2, 4: 15}, 'class_pred_count_s1': {2: 517, 3: 480, 5: 18, 4: 10, 0: 1, 1: 12}, 'class_pred_count': {2: 1010, 3: 946, 5: 46, 4: 25, 1: 14, 0: 1}, 'count_s0': 1004, 'count_s1': 1038, 'count': 2042}}\n",
      "[37] Eval metrics for task 3 >> {'accuracy': 0.8865372672225622, 'loss': 0.001407465485015063, 'std': 0.06254623583242763, 'EER': -1, 'EO': [0.09560229445506696, 0.34056399132321036], 'DP': -1, 'accuracy_s0': 1.0, 'accuracy_s1': 0.7819168571108613, 'classwise_accuracy': {4: array([932, 982]), 5: array([735, 892])}, 'DP_ingredients': {'class_pred_count_s0': {4: 459, 5: 431}, 'class_pred_count_s1': {5: 478, 4: 497, 3: 1, 1: 7, 2: 1}, 'class_pred_count': {4: 956, 5: 909, 3: 1, 1: 7, 2: 1}, 'count_s0': 890, 'count_s1': 984, 'count': 1874}}\n",
      "[38] Eval metrics for task 1 >> {'accuracy': 0.9328193832599119, 'loss': 0.0010852864870788358, 'std': 0.032819383259911905, 'EER': -1, 'EO': [0.1175529788084766, 0.06463061112769974], 'DP': -1, 'accuracy_s0': 0.9778161493439849, 'accuracy_s1': 0.8867243543758967, 'classwise_accuracy': {0: array([882, 980]), 1: array([1096, 1135])}, 'DP_ingredients': {'class_pred_count_s0': {0: 467, 1: 589, 5: 20, 3: 1, 4: 1, 2: 1}, 'class_pred_count_s1': {0: 471, 1: 527, 5: 23, 2: 6, 3: 5, 4: 4}, 'class_pred_count': {0: 938, 1: 1116, 5: 43, 3: 6, 4: 5, 2: 7}, 'count_s0': 1079, 'count_s1': 1036, 'count': 2115}}\n",
      "[38] Eval metrics for task 2 >> {'accuracy': 0.8647066160104382, 'loss': 0.002298296461142709, 'std': 0.01223136848568579, 'EER': -1, 'EO': [0.19706058905920798, 0.14685367218693535], 'DP': -1, 'accuracy_s0': 0.9522115884615536, 'accuracy_s1': 0.780254457838482, 'classwise_accuracy': {3: array([ 861, 1010]), 2: array([ 905, 1032])}, 'DP_ingredients': {'class_pred_count_s0': {3: 471, 2: 488, 4: 26, 5: 18, 1: 1}, 'class_pred_count_s1': {3: 485, 2: 513, 5: 18, 1: 9, 4: 11, 0: 2}, 'class_pred_count': {3: 956, 2: 1001, 4: 37, 5: 36, 1: 10, 0: 2}, 'count_s0': 1004, 'count_s1': 1038, 'count': 2042}}\n",
      "[38] Eval metrics for task 3 >> {'accuracy': 0.8868409396034449, 'loss': 0.001292506429657992, 'std': 0.06733421314604587, 'EER': -1, 'EO': [0.08604206500956024, 0.3492407809110629], 'DP': -1, 'accuracy_s0': 1.0, 'accuracy_s1': 0.7823585770396884, 'classwise_accuracy': {4: array([937, 982]), 5: array([731, 892])}, 'DP_ingredients': {'class_pred_count_s0': {4: 459, 5: 431}, 'class_pred_count_s1': {4: 500, 5: 472, 1: 10, 2: 1, 3: 1}, 'class_pred_count': {4: 959, 5: 903, 1: 10, 2: 1, 3: 1}, 'count_s0': 890, 'count_s1': 984, 'count': 1874}}\n",
      "[39] Eval metrics for task 1 >> {'accuracy': 0.9281353951272139, 'loss': 0.0012183557588157925, 'std': 0.03221702778027513, 'EER': -1, 'EO': [0.0756600228924057, 0.13384646141543388], 'DP': -1, 'accuracy_s0': 0.9798653296718538, 'accuracy_s1': 0.8751120875179339, 'classwise_accuracy': {1: array([1090, 1135]), 0: array([878, 980])}, 'DP_ingredients': {'class_pred_count_s0': {0: 470, 1: 589, 5: 17, 2: 1, 3: 1, 4: 1}, 'class_pred_count_s1': {1: 531, 0: 472, 4: 5, 5: 19, 2: 6, 3: 3}, 'class_pred_count': {1: 1120, 0: 942, 4: 6, 5: 36, 2: 7, 3: 4}, 'count_s0': 1079, 'count_s1': 1036, 'count': 2115}}\n",
      "[39] Eval metrics for task 2 >> {'accuracy': 0.8653071993245836, 'loss': 0.0024497133335800994, 'std': 0.001940862690920253, 'EER': -1, 'EO': [0.15441853127547134, 0.23522349645520846], 'DP': -1, 'accuracy_s0': 0.9644891494623358, 'accuracy_s1': 0.7696681355969959, 'classwise_accuracy': {2: array([ 895, 1032]), 3: array([ 872, 1010])}, 'DP_ingredients': {'class_pred_count_s0': {2: 482, 3: 487, 5: 14, 4: 20, 1: 1}, 'class_pred_count_s1': {2: 518, 3: 484, 5: 16, 1: 6, 0: 2, 4: 12}, 'class_pred_count': {2: 1000, 3: 971, 5: 30, 4: 32, 1: 7, 0: 2}, 'count_s0': 1004, 'count_s1': 1038, 'count': 2042}}\n",
      "[39] Eval metrics for task 3 >> {'accuracy': 0.8944829806471646, 'loss': 0.0012589549226338479, 'std': 0.06376549185792696, 'EER': -1, 'EO': [0.07839388145315485, 0.3275488069414316], 'DP': -1, 'accuracy_s0': 1.0, 'accuracy_s1': 0.7970286558027068, 'classwise_accuracy': {4: array([941, 982]), 5: array([741, 892])}, 'DP_ingredients': {'class_pred_count_s0': {5: 431, 4: 459}, 'class_pred_count_s1': {4: 501, 5: 471, 3: 6, 1: 5, 2: 1}, 'class_pred_count': {4: 960, 5: 902, 3: 6, 1: 5, 2: 1}, 'count_s0': 890, 'count_s1': 984, 'count': 1874}}\n",
      "[40] Eval metrics for task 1 >> {'accuracy': 0.9320080014384609, 'loss': 0.0011851801939889895, 'std': 0.030987593275195513, 'EER': -1, 'EO': [0.07014531701005267, 0.12368385978941754], 'DP': -1, 'accuracy_s0': 0.9798653296718538, 'accuracy_s1': 0.8829507412721187, 'classwise_accuracy': {1: array([1093, 1135]), 0: array([883, 980])}, 'DP_ingredients': {'class_pred_count_s0': {1: 589, 0: 467, 5: 20, 3: 1, 4: 1, 2: 1}, 'class_pred_count_s1': {1: 527, 0: 471, 2: 5, 5: 23, 3: 5, 4: 5}, 'class_pred_count': {1: 1116, 0: 938, 5: 43, 2: 6, 3: 6, 4: 6}, 'count_s0': 1079, 'count_s1': 1036, 'count': 2115}}\n",
      "[40] Eval metrics for task 2 >> {'accuracy': 0.8607567733517538, 'loss': 0.002472327137320329, 'std': 0.01521221889630825, 'EER': -1, 'EO': [0.21852550798215642, 0.16040205686039566], 'DP': -1, 'accuracy_s0': 0.9571754067711166, 'accuracy_s1': 0.7677116243498405, 'classwise_accuracy': {3: array([ 854, 1010]), 2: array([ 904, 1032])}, 'DP_ingredients': {'class_pred_count_s0': {3: 472, 2: 489, 4: 16, 5: 26, 1: 1}, 'class_pred_count_s1': {2: 527, 3: 477, 5: 18, 1: 6, 4: 9, 0: 1}, 'class_pred_count': {3: 949, 2: 1016, 4: 25, 5: 44, 1: 7, 0: 1}, 'count_s0': 1004, 'count_s1': 1038, 'count': 2042}}\n",
      "[40] Eval metrics for task 3 >> {'accuracy': 0.9029424255431854, 'loss': 0.0011533955499736577, 'std': 0.054287717023006055, 'EER': -1, 'EO': [0.08030592734225617, 0.2928416485900217], 'DP': -1, 'accuracy_s0': 1.0, 'accuracy_s1': 0.8134262120338611, 'classwise_accuracy': {4: array([940, 982]), 5: array([757, 892])}, 'DP_ingredients': {'class_pred_count_s0': {4: 459, 5: 431}, 'class_pred_count_s1': {4: 497, 5: 480, 1: 5, 3: 1, 2: 1}, 'class_pred_count': {4: 956, 5: 911, 1: 5, 3: 1, 2: 1}, 'count_s0': 890, 'count_s1': 984, 'count': 1874}}\n",
      "[41] Eval metrics for task 1 >> {'accuracy': 0.9225231502292547, 'loss': 0.0013480211614716982, 'std': 0.03782927267823433, 'EER': -1, 'EO': [0.0756600228924057, 0.1480407836865253], 'DP': -1, 'accuracy_s0': 0.9778161493439849, 'accuracy_s1': 0.8659657460545194, 'classwise_accuracy': {1: array([1090, 1135]), 0: array([867, 980])}, 'DP_ingredients': {'class_pred_count_s0': {0: 467, 1: 589, 5: 20, 3: 1, 4: 1, 2: 1}, 'class_pred_count_s1': {1: 530, 0: 472, 3: 5, 4: 5, 5: 18, 2: 6}, 'class_pred_count': {1: 1119, 0: 939, 3: 6, 4: 6, 5: 38, 2: 7}, 'count_s0': 1079, 'count_s1': 1036, 'count': 2115}}\n",
      "[41] Eval metrics for task 2 >> {'accuracy': 0.8642854401719242, 'loss': 0.002455690873825118, 'std': 0.005869598587765756, 'EER': -1, 'EO': [0.1564130398037794, 0.17752990611304886], 'DP': -1, 'accuracy_s0': 0.9492047173144176, 'accuracy_s1': 0.7822332443560034, 'classwise_accuracy': {2: array([ 898, 1032]), 3: array([ 867, 1010])}, 'DP_ingredients': {'class_pred_count_s0': {2: 486, 3: 469, 4: 20, 5: 27, 1: 2}, 'class_pred_count_s1': {2: 506, 3: 486, 1: 15, 5: 18, 4: 11, 0: 2}, 'class_pred_count': {2: 992, 3: 955, 4: 31, 1: 17, 5: 45, 0: 2}, 'count_s0': 1004, 'count_s1': 1038, 'count': 2042}}\n",
      "[41] Eval metrics for task 3 >> {'accuracy': 0.9182778807777666, 'loss': 0.0011040738355388255, 'std': 0.0460805713607263, 'EER': -1, 'EO': [0.0669216061185468, 0.24728850325379614], 'DP': -1, 'accuracy_s0': 1.0, 'accuracy_s1': 0.8428949453138286, 'classwise_accuracy': {4: array([947, 982]), 5: array([778, 892])}, 'DP_ingredients': {'class_pred_count_s0': {4: 459, 5: 431}, 'class_pred_count_s1': {4: 494, 5: 476, 1: 10, 0: 2, 2: 1, 3: 1}, 'class_pred_count': {4: 953, 5: 907, 1: 10, 0: 2, 2: 1, 3: 1}, 'count_s0': 890, 'count_s1': 984, 'count': 1874}}\n",
      "[42] Eval metrics for task 1 >> {'accuracy': 0.9288771015013935, 'loss': 0.001210976774247262, 'std': 0.03499955048098535, 'EER': -1, 'EO': [0.13382980141276823, 0.06830708171593503], 'DP': -1, 'accuracy_s0': 0.9788407395079193, 'accuracy_s1': 0.8777722979435677, 'classwise_accuracy': {0: array([876, 980]), 1: array([1094, 1135])}, 'DP_ingredients': {'class_pred_count_s0': {0: 467, 1: 589, 5: 20, 2: 1, 3: 1, 4: 1}, 'class_pred_count_s1': {1: 529, 0: 472, 5: 23, 4: 5, 2: 5, 3: 2}, 'class_pred_count': {0: 939, 1: 1118, 5: 43, 4: 6, 2: 6, 3: 3}, 'count_s0': 1079, 'count_s1': 1036, 'count': 2115}}\n",
      "[42] Eval metrics for task 2 >> {'accuracy': 0.8514247064241307, 'loss': 0.0026904867048011356, 'std': 0.017761340087497135, 'EER': -1, 'EO': [0.20607263781921759, 0.1467034267234093], 'DP': -1, 'accuracy_s0': 0.9411983026559703, 'accuracy_s1': 0.7648102703846569, 'classwise_accuracy': {3: array([ 842, 1010]), 2: array([ 897, 1032])}, 'DP_ingredients': {'class_pred_count_s0': {2: 487, 3: 464, 4: 20, 5: 32, 1: 1}, 'class_pred_count_s1': {3: 472, 2: 524, 1: 7, 4: 14, 5: 19, 0: 2}, 'class_pred_count': {3: 936, 2: 1011, 4: 34, 1: 8, 5: 51, 0: 2}, 'count_s0': 1004, 'count_s1': 1038, 'count': 2042}}\n",
      "[42] Eval metrics for task 3 >> {'accuracy': 0.9042644278629685, 'loss': 0.001200359541298613, 'std': 0.06009402427552446, 'EER': -1, 'EO': [0.0669216061185468, 0.30151843817787416], 'DP': -1, 'accuracy_s0': 1.0, 'accuracy_s1': 0.8157799778517896, 'classwise_accuracy': {4: array([947, 982]), 5: array([753, 892])}, 'DP_ingredients': {'class_pred_count_s0': {4: 459, 5: 431}, 'class_pred_count_s1': {4: 494, 5: 478, 3: 1, 1: 10, 2: 1}, 'class_pred_count': {4: 953, 5: 909, 3: 1, 1: 10, 2: 1}, 'count_s0': 890, 'count_s1': 984, 'count': 1874}}\n",
      "[43] Eval metrics for task 1 >> {'accuracy': 0.9269756360694057, 'loss': 0.0014199932627644099, 'std': 0.035138901375528164, 'EER': -1, 'EO': [0.13789484206317482, 0.0719835523041703], 'DP': -1, 'accuracy_s0': 0.9788407395079193, 'accuracy_s1': 0.8739015423242468, 'classwise_accuracy': {0: array([874, 980]), 1: array([1092, 1135])}, 'DP_ingredients': {'class_pred_count_s0': {1: 589, 0: 469, 5: 18, 4: 1, 3: 1, 2: 1}, 'class_pred_count_s1': {0: 472, 1: 527, 5: 22, 2: 5, 4: 5, 3: 5}, 'class_pred_count': {0: 941, 1: 1116, 5: 40, 2: 6, 4: 6, 3: 6}, 'count_s0': 1079, 'count_s1': 1036, 'count': 2115}}\n",
      "[43] Eval metrics for task 2 >> {'accuracy': 0.8498762376237623, 'loss': 0.0026702897497302286, 'std': 0.025123762376237646, 'EER': -1, 'EO': [0.158445109697969, 0.18781705972591123], 'DP': -1, 'accuracy_s0': 0.9379413550965969, 'accuracy_s1': 0.7648102703846569, 'classwise_accuracy': {2: array([ 903, 1032]), 3: array([ 833, 1010])}, 'DP_ingredients': {'class_pred_count_s0': {2: 490, 3: 453, 5: 42, 4: 17, 1: 2}, 'class_pred_count_s1': {2: 520, 3: 467, 5: 28, 1: 8, 4: 13, 0: 2}, 'class_pred_count': {2: 1010, 3: 920, 5: 70, 4: 30, 1: 10, 0: 2}, 'count_s0': 1004, 'count_s1': 1038, 'count': 2042}}\n",
      "[43] Eval metrics for task 3 >> {'accuracy': 0.9186329263057913, 'loss': 0.0010564253449821676, 'std': 0.04979884558830244, 'EER': -1, 'EO': [0.05927342256214152, 0.2537960954446855], 'DP': -1, 'accuracy_s0': 1.0, 'accuracy_s1': 0.8434652409965865, 'classwise_accuracy': {4: array([951, 982]), 5: array([775, 892])}, 'DP_ingredients': {'class_pred_count_s0': {5: 431, 4: 459}, 'class_pred_count_s1': {4: 491, 5: 480, 1: 10, 0: 1, 3: 1, 2: 1}, 'class_pred_count': {4: 950, 5: 911, 1: 10, 0: 1, 3: 1, 2: 1}, 'count_s0': 890, 'count_s1': 984, 'count': 1874}}\n",
      "[44] Eval metrics for task 1 >> {'accuracy': 0.9278566933381283, 'loss': 0.0012109773061799664, 'std': 0.036019958644250616, 'EER': -1, 'EO': [0.14197654271624682, 0.06830708171593503], 'DP': -1, 'accuracy_s0': 0.9798653296718538, 'accuracy_s1': 0.8747235174557628, 'classwise_accuracy': {0: array([874, 980]), 1: array([1094, 1135])}, 'DP_ingredients': {'class_pred_count_s0': {1: 589, 0: 468, 5: 18, 4: 2, 2: 1, 3: 1}, 'class_pred_count_s1': {0: 471, 1: 531, 5: 20, 4: 5, 2: 6, 3: 3}, 'class_pred_count': {0: 939, 1: 1120, 5: 38, 4: 7, 2: 7, 3: 4}, 'count_s0': 1079, 'count_s1': 1036, 'count': 2115}}\n",
      "[44] Eval metrics for task 2 >> {'accuracy': 0.8514352598050503, 'loss': 0.002762289445967679, 'std': 0.01678179445851563, 'EER': -1, 'EO': [0.1922505012142922, 0.16025181139686961], 'DP': -1, 'accuracy_s0': 0.9410911270507258, 'accuracy_s1': 0.764839970745145, 'classwise_accuracy': {3: array([ 843, 1010]), 2: array([ 896, 1032])}, 'DP_ingredients': {'class_pred_count_s0': {3: 458, 2: 487, 5: 38, 4: 20, 1: 1}, 'class_pred_count_s1': {4: 15, 2: 510, 1: 10, 3: 474, 5: 26, 0: 3}, 'class_pred_count': {3: 932, 4: 35, 2: 997, 1: 11, 5: 64, 0: 3}, 'count_s0': 1004, 'count_s1': 1038, 'count': 2042}}\n",
      "[44] Eval metrics for task 3 >> {'accuracy': 0.9159329820171151, 'loss': 0.001092518120208952, 'std': 0.05046212999917804, 'EER': -1, 'EO': [0.06309751434034416, 0.2603036876355749], 'DP': -1, 'accuracy_s0': 1.0, 'accuracy_s1': 0.8382993990120404, 'classwise_accuracy': {4: array([949, 982]), 5: array([772, 892])}, 'DP_ingredients': {'class_pred_count_s0': {4: 459, 5: 431}, 'class_pred_count_s1': {4: 492, 5: 477, 1: 12, 0: 1, 3: 1, 2: 1}, 'class_pred_count': {4: 951, 5: 908, 1: 12, 0: 1, 3: 1, 2: 1}, 'count_s0': 890, 'count_s1': 984, 'count': 1874}}\n",
      "[45] Eval metrics for task 1 >> {'accuracy': 0.9309179178279241, 'loss': 0.001333918434790122, 'std': 0.032958734154454716, 'EER': -1, 'EO': [0.06830708171593503, 0.13386312141809942], 'DP': -1, 'accuracy_s0': 0.9808899198357881, 'accuracy_s1': 0.879804818268771, 'classwise_accuracy': {1: array([1094, 1135]), 0: array([880, 980])}, 'DP_ingredients': {'class_pred_count_s0': {0: 469, 1: 589, 5: 18, 4: 1, 2: 1, 3: 1}, 'class_pred_count_s1': {1: 527, 0: 471, 5: 20, 3: 5, 4: 5, 2: 8}, 'class_pred_count': {1: 1116, 0: 940, 5: 38, 4: 6, 3: 6, 2: 9}, 'count_s0': 1079, 'count_s1': 1036, 'count': 2115}}\n",
      "[45] Eval metrics for task 2 >> {'accuracy': 0.8543633433110753, 'loss': 0.0027726032533094535, 'std': 0.017729679944738674, 'EER': -1, 'EO': [0.14869793525171748, 0.1804567621752896], 'DP': -1, 'accuracy_s0': 0.9380842559035896, 'accuracy_s1': 0.773506907190086, 'classwise_accuracy': {2: array([ 900, 1032]), 3: array([ 845, 1010])}, 'DP_ingredients': {'class_pred_count_s0': {3: 456, 2: 489, 4: 19, 5: 38, 1: 2}, 'class_pred_count_s1': {2: 507, 3: 475, 4: 15, 5: 26, 1: 13, 0: 2}, 'class_pred_count': {2: 996, 3: 931, 4: 34, 5: 64, 1: 15, 0: 2}, 'count_s0': 1004, 'count_s1': 1038, 'count': 2042}}\n",
      "[45] Eval metrics for task 3 >> {'accuracy': 0.9175632232197493, 'loss': 0.0010319298954249191, 'std': 0.04985021873544432, 'EER': -1, 'EO': [0.2559652928416486, 0.06118546845124284], 'DP': -1, 'accuracy_s0': 1.0, 'accuracy_s1': 0.8414246193535543, 'classwise_accuracy': {5: array([774, 892]), 4: array([950, 982])}, 'DP_ingredients': {'class_pred_count_s0': {5: 431, 4: 459}, 'class_pred_count_s1': {4: 487, 5: 485, 2: 1, 1: 10, 3: 1}, 'class_pred_count': {5: 916, 4: 946, 2: 1, 1: 10, 3: 1}, 'count_s0': 890, 'count_s1': 984, 'count': 1874}}\n",
      "training_task_end\n",
      "---------------------------- Task 4 -----------------------\n",
      "[46] Eval metrics for task 1 >> {'accuracy': 0.9042052503820912, 'loss': 0.0019149758714310666, 'std': 0.02971545446372381, 'EER': -1, 'EO': [0.11530387844862056, 0.12727679904449085], 'DP': -1, 'accuracy_s0': 0.9636504535241741, 'accuracy_s1': 0.8423601147776183, 'classwise_accuracy': {0: array([857, 980]), 1: array([1060, 1135])}, 'DP_ingredients': {'class_pred_count_s0': {1: 588, 0: 451, 5: 33, 6: 2, 3: 3, 7: 1, 4: 1}, 'class_pred_count_s1': {0: 459, 1: 529, 2: 5, 4: 2, 6: 1, 5: 25, 7: 3, 3: 12}, 'class_pred_count': {0: 910, 1: 1117, 2: 5, 5: 58, 6: 3, 4: 3, 3: 15, 7: 4}, 'count_s0': 1079, 'count_s1': 1036, 'count': 2115}}\n",
      "[46] Eval metrics for task 2 >> {'accuracy': 0.8147181287896232, 'loss': 0.0034337561581207184, 'std': 0.015708227799524133, 'EER': -1, 'EO': [0.17696286307755293, 0.23018192803700555], 'DP': -1, 'accuracy_s0': 0.9183004330688345, 'accuracy_s1': 0.7147280375115552, 'classwise_accuracy': {2: array([ 857, 1032]), 3: array([ 807, 1010])}, 'DP_ingredients': {'class_pred_count_s0': {2: 472, 3: 450, 4: 14, 5: 42, 6: 17, 7: 9}, 'class_pred_count_s1': {2: 506, 3: 449, 7: 11, 5: 46, 6: 5, 0: 4, 4: 14, 1: 3}, 'class_pred_count': {2: 978, 3: 899, 4: 28, 5: 88, 7: 20, 6: 22, 0: 4, 1: 3}, 'count_s0': 1004, 'count_s1': 1038, 'count': 2042}}\n",
      "[46] Eval metrics for task 3 >> {'accuracy': 0.8759658151662664, 'loss': 0.0016708810085166352, 'std': 0.004889581982409852, 'EER': -1, 'EO': [0.2359895516153223, 0.20325589339198602], 'DP': -1, 'accuracy_s0': 0.9910730984840443, 'accuracy_s1': 0.7714503759803901, 'classwise_accuracy': {5: array([777, 892]), 4: array([865, 982])}, 'DP_ingredients': {'class_pred_count_s0': {5: 427, 4: 455, 7: 4, 6: 3, 3: 1}, 'class_pred_count_s1': {4: 496, 5: 467, 1: 6, 0: 7, 3: 1, 7: 5, 6: 2}, 'class_pred_count': {5: 894, 4: 951, 1: 6, 7: 9, 6: 5, 0: 7, 3: 2}, 'count_s0': 890, 'count_s1': 984, 'count': 1874}}\n",
      "[46] Eval metrics for task 4 >> {'accuracy': 0.6805459655735442, 'loss': 0.004273354466948264, 'std': 0.006224462442020073, 'EER': -1, 'EO': [0.589098365324372, 0.6731566644091496], 'DP': -1, 'accuracy_s0': 0.9959869648090837, 'accuracy_s1': 0.3648594499423229, 'classwise_accuracy': {7: array([ 706, 1028]), 6: array([646, 958])}, 'DP_ingredients': {'class_pred_count_s0': {7: 483, 6: 499, 2: 2, 0: 3, 1: 1}, 'class_pred_count_s1': {6: 467, 7: 510, 3: 4, 2: 4, 0: 7, 5: 4, 1: 2}, 'class_pred_count': {7: 993, 6: 966, 2: 6, 3: 4, 0: 10, 5: 4, 1: 3}, 'count_s0': 988, 'count_s1': 998, 'count': 1986}}\n",
      "[47] Eval metrics for task 1 >> {'accuracy': 0.903856873145734, 'loss': 0.0019759532266756604, 'std': 0.034469118043693237, 'EER': -1, 'EO': [0.1254664800746368, 0.10749477455957002], 'DP': -1, 'accuracy_s0': 0.9611123824581842, 'accuracy_s1': 0.8446317551410808, 'classwise_accuracy': {0: array([852, 980]), 1: array([1065, 1135])}, 'DP_ingredients': {'class_pred_count_s0': {1: 585, 0: 454, 6: 11, 4: 1, 3: 4, 5: 19, 7: 5}, 'class_pred_count_s1': {0: 455, 1: 529, 5: 19, 4: 2, 6: 8, 3: 11, 2: 7, 7: 5}, 'class_pred_count': {0: 909, 1: 1114, 5: 38, 6: 19, 4: 3, 3: 15, 2: 7, 7: 10}, 'count_s0': 1079, 'count_s1': 1036, 'count': 2115}}\n",
      "[47] Eval metrics for task 2 >> {'accuracy': 0.8088830685394122, 'loss': 0.003616996977868673, 'std': 0.011853365569115037, 'EER': -1, 'EO': [0.15351705849431507, 0.23801303353329595], 'DP': -1, 'accuracy_s0': 0.9085514224584497, 'accuracy_s1': 0.712786376444644, 'classwise_accuracy': {2: array([ 847, 1032]), 3: array([ 805, 1010])}, 'DP_ingredients': {'class_pred_count_s0': {2: 466, 3: 457, 4: 15, 5: 25, 7: 22, 6: 19}, 'class_pred_count_s1': {3: 454, 2: 499, 5: 38, 6: 11, 7: 15, 0: 3, 1: 3, 4: 15}, 'class_pred_count': {2: 965, 3: 911, 4: 30, 5: 63, 6: 30, 7: 37, 0: 3, 1: 3}, 'count_s0': 1004, 'count_s1': 1038, 'count': 2042}}\n",
      "[47] Eval metrics for task 3 >> {'accuracy': 0.8744805604011215, 'loss': 0.001927257411126266, 'std': 0.024704775647758304, 'EER': -1, 'EO': [0.17292976251473613, 0.24577862107493542], 'DP': -1, 'accuracy_s0': 0.9840417734508085, 'accuracy_s1': 0.7746875816559727, 'classwise_accuracy': {4: array([883, 982]), 5: array([758, 892])}, 'DP_ingredients': {'class_pred_count_s0': {4: 454, 5: 421, 7: 7, 6: 5, 3: 3}, 'class_pred_count_s1': {5: 449, 4: 497, 6: 5, 7: 7, 2: 1, 0: 14, 1: 8, 3: 3}, 'class_pred_count': {4: 951, 5: 870, 6: 10, 7: 14, 2: 1, 0: 14, 1: 8, 3: 6}, 'count_s0': 890, 'count_s1': 984, 'count': 1874}}\n",
      "[47] Eval metrics for task 4 >> {'accuracy': 0.7833216899669382, 'loss': 0.002942242891286675, 'std': 0.0046160532237232155, 'EER': -1, 'EO': [0.45756231839730843, 0.3975698202046667], 'DP': -1, 'accuracy_s0': 0.9969810005943719, 'accuracy_s1': 0.5694149312933843, 'classwise_accuracy': {6: array([746, 958]), 7: array([ 810, 1028])}, 'DP_ingredients': {'class_pred_count_s0': {6: 500, 7: 484, 0: 2, 1: 1, 2: 1}, 'class_pred_count_s1': {6: 457, 7: 519, 3: 8, 2: 3, 0: 7, 5: 4}, 'class_pred_count': {6: 957, 7: 1003, 3: 8, 0: 9, 2: 4, 5: 4, 1: 1}, 'count_s0': 988, 'count_s1': 998, 'count': 1986}}\n",
      "[48] Eval metrics for task 1 >> {'accuracy': 0.8970376696934281, 'loss': 0.002270633743164387, 'std': 0.05009889418322394, 'EER': -1, 'EO': [0.1416100226576037, 0.0891124216183935], 'DP': -1, 'accuracy_s0': 0.9539402513106432, 'accuracy_s1': 0.8385790291726447, 'classwise_accuracy': {0: array([830, 980]), 1: array([1075, 1135])}, 'DP_ingredients': {'class_pred_count_s0': {0: 447, 1: 585, 6: 17, 7: 8, 5: 15, 3: 7}, 'class_pred_count_s1': {1: 525, 0: 453, 5: 16, 2: 6, 6: 15, 7: 9, 3: 10, 4: 2}, 'class_pred_count': {0: 900, 1: 1110, 6: 32, 5: 31, 7: 17, 2: 6, 3: 17, 4: 2}, 'count_s0': 1079, 'count_s1': 1036, 'count': 2115}}\n",
      "[48] Eval metrics for task 2 >> {'accuracy': 0.7910718397421137, 'loss': 0.004085219104890142, 'std': 0.02869560211835137, 'EER': -1, 'EO': [0.17869444204469054, 0.19475755352497826], 'DP': -1, 'accuracy_s0': 0.8860246980228086, 'accuracy_s1': 0.6992987002379741, 'classwise_accuracy': {2: array([ 846, 1032]), 3: array([ 770, 1010])}, 'DP_ingredients': {'class_pred_count_s0': {2: 471, 3: 427, 5: 41, 7: 34, 6: 24, 4: 7}, 'class_pred_count_s1': {2: 498, 3: 434, 5: 51, 4: 13, 7: 19, 1: 8, 6: 12, 0: 3}, 'class_pred_count': {2: 969, 3: 861, 5: 92, 7: 53, 4: 20, 1: 8, 6: 36, 0: 3}, 'count_s0': 1004, 'count_s1': 1038, 'count': 2042}}\n",
      "[48] Eval metrics for task 3 >> {'accuracy': 0.8631202451298257, 'loss': 0.0023381946848957873, 'std': 0.02791845140785254, 'EER': -1, 'EO': [0.26948880422364374, 0.17595404424782446], 'DP': -1, 'accuracy_s0': 0.9796137067871749, 'accuracy_s1': 0.7568922825514407, 'classwise_accuracy': {5: array([745, 892]), 4: array([875, 982])}, 'DP_ingredients': {'class_pred_count_s0': {4: 453, 5: 418, 7: 9, 6: 7, 2: 1, 3: 2}, 'class_pred_count_s1': {5: 441, 4: 489, 2: 6, 0: 21, 7: 10, 1: 7, 6: 8, 3: 2}, 'class_pred_count': {5: 859, 4: 942, 7: 19, 2: 7, 0: 21, 6: 15, 1: 7, 3: 4}, 'count_s0': 890, 'count_s1': 984, 'count': 1874}}\n",
      "[48] Eval metrics for task 4 >> {'accuracy': 0.8415188906850362, 'loss': 0.002140177610777656, 'std': 0.01062118713597554, 'EER': -1, 'EO': [0.2760228588786998, 0.35185808227557724], 'DP': -1, 'accuracy_s0': 0.9979750363796602, 'accuracy_s1': 0.6840345658025216, 'classwise_accuracy': {7: array([ 876, 1028]), 6: array([796, 958])}, 'DP_ingredients': {'class_pred_count_s0': {7: 483, 6: 502, 1: 2, 0: 1}, 'class_pred_count_s1': {7: 531, 6: 452, 3: 2, 1: 3, 0: 3, 5: 3, 2: 4}, 'class_pred_count': {7: 1014, 6: 954, 1: 5, 3: 2, 0: 4, 5: 3, 2: 4}, 'count_s0': 988, 'count_s1': 998, 'count': 1986}}\n",
      "[49] Eval metrics for task 1 >> {'accuracy': 0.8958104827834217, 'loss': 0.0021578168615381766, 'std': 0.03458599298750337, 'EER': -1, 'EO': [0.1063874788494078, 0.14172664267626278], 'DP': -1, 'accuracy_s0': 0.9568822640148678, 'accuracy_s1': 0.8328252032520325, 'classwise_accuracy': {1: array([1056, 1135]), 0: array([844, 980])}, 'DP_ingredients': {'class_pred_count_s0': {1: 580, 0: 453, 5: 12, 6: 15, 3: 8, 7: 11}, 'class_pred_count_s1': {1: 518, 0: 459, 6: 13, 7: 11, 2: 11, 3: 9, 5: 13, 4: 2}, 'class_pred_count': {1: 1098, 0: 912, 6: 28, 7: 22, 5: 25, 3: 17, 2: 11, 4: 2}, 'count_s0': 1079, 'count_s1': 1036, 'count': 2115}}\n",
      "[49] Eval metrics for task 2 >> {'accuracy': 0.8190785939059022, 'loss': 0.0036233233891785088, 'std': 0.02006869291580321, 'EER': -1, 'EO': [0.15968839090864695, 0.21829402740886916], 'DP': -1, 'accuracy_s0': 0.9152578367199501, 'accuracy_s1': 0.726266627561192, 'classwise_accuracy': {2: array([ 866, 1032]), 3: array([ 807, 1010])}, 'DP_ingredients': {'class_pred_count_s0': {2: 481, 7: 29, 3: 449, 6: 12, 4: 7, 5: 26}, 'class_pred_count_s1': {2: 509, 3: 453, 5: 31, 7: 20, 4: 13, 0: 3, 6: 8, 1: 1}, 'class_pred_count': {2: 990, 3: 902, 7: 49, 6: 20, 5: 57, 4: 20, 0: 3, 1: 1}, 'count_s0': 1004, 'count_s1': 1038, 'count': 2042}}\n",
      "[49] Eval metrics for task 3 >> {'accuracy': 0.8610322121048835, 'loss': 0.002449221757967164, 'std': 0.026951494616094196, 'EER': -1, 'EO': [0.25370046957335757, 0.18578087704170265], 'DP': -1, 'accuracy_s0': 0.9760626601762128, 'accuracy_s1': 0.7563219868686827, 'classwise_accuracy': {5: array([744, 892]), 4: array([872, 982])}, 'DP_ingredients': {'class_pred_count_s0': {5: 416, 4: 453, 6: 8, 7: 8, 3: 3, 2: 2}, 'class_pred_count_s1': {5: 438, 4: 495, 0: 15, 7: 12, 2: 7, 3: 4, 6: 9, 1: 4}, 'class_pred_count': {5: 854, 4: 948, 0: 15, 6: 17, 7: 20, 2: 9, 3: 7, 1: 4}, 'count_s0': 890, 'count_s1': 984, 'count': 1874}}\n",
      "[49] Eval metrics for task 4 >> {'accuracy': 0.8506179784408179, 'loss': 0.0019940384114977097, 'std': 0.023895640236224924, 'EER': -1, 'EO': [0.22976210818097242, 0.3606492910667861], 'DP': -1, 'accuracy_s0': 0.9969441085446087, 'accuracy_s1': 0.7017384089207294, 'classwise_accuracy': {7: array([ 899, 1028]), 6: array([792, 958])}, 'DP_ingredients': {'class_pred_count_s0': {7: 483, 6: 501, 1: 2, 0: 2}, 'class_pred_count_s1': {7: 520, 6: 456, 2: 6, 4: 1, 3: 4, 5: 4, 0: 4, 1: 3}, 'class_pred_count': {7: 1003, 6: 957, 2: 6, 1: 5, 4: 1, 3: 4, 5: 4, 0: 6}, 'count_s0': 988, 'count_s1': 998, 'count': 1986}}\n",
      "[50] Eval metrics for task 1 >> {'accuracy': 0.889919536096377, 'loss': 0.002338469014381968, 'std': 0.0440011687494381, 'EER': -1, 'EO': [0.09550425500149307, 0.15996934559509535], 'DP': -1, 'accuracy_s0': 0.9529624698344012, 'accuracy_s1': 0.8252256695361071, 'classwise_accuracy': {1: array([1060, 1135]), 0: array([829, 980])}, 'DP_ingredients': {'class_pred_count_s0': {1: 579, 0: 451, 6: 18, 5: 9, 7: 13, 3: 8, 4: 1}, 'class_pred_count_s1': {1: 521, 0: 457, 2: 10, 5: 11, 6: 12, 7: 13, 3: 10, 4: 2}, 'class_pred_count': {1: 1100, 0: 908, 6: 30, 2: 10, 5: 20, 7: 26, 3: 18, 4: 3}, 'count_s0': 1079, 'count_s1': 1036, 'count': 2115}}\n",
      "[50] Eval metrics for task 2 >> {'accuracy': 0.8191208074295802, 'loss': 0.003862337576887633, 'std': 0.016150510399877194, 'EER': -1, 'EO': [0.14798426929996877, 0.21451971704442463], 'DP': -1, 'accuracy_s0': 0.9113796675968451, 'accuracy_s1': 0.7301276744246483, 'classwise_accuracy': {2: array([ 862, 1032]), 3: array([ 811, 1010])}, 'DP_ingredients': {'class_pred_count_s0': {2: 475, 3: 448, 7: 28, 5: 24, 6: 23, 4: 6}, 'class_pred_count_s1': {2: 491, 3: 450, 5: 37, 6: 18, 0: 5, 4: 12, 7: 24, 1: 1}, 'class_pred_count': {2: 966, 3: 898, 5: 61, 6: 41, 7: 52, 4: 18, 0: 5, 1: 1}, 'count_s0': 1004, 'count_s1': 1038, 'count': 2042}}\n",
      "[50] Eval metrics for task 3 >> {'accuracy': 0.8533342314120538, 'loss': 0.0027502397653769023, 'std': 0.04279611482012552, 'EER': -1, 'EO': [0.29925361490958313, 0.16639381480231785], 'DP': -1, 'accuracy_s0': 0.9749733355574763, 'accuracy_s1': 0.7421496207015259, 'classwise_accuracy': {5: array([723, 892]), 4: array([880, 982])}, 'DP_ingredients': {'class_pred_count_s0': {4: 452, 5: 412, 6: 12, 3: 4, 7: 9, 2: 1}, 'class_pred_count_s1': {5: 436, 4: 492, 1: 5, 6: 15, 7: 11, 0: 15, 3: 4, 2: 6}, 'class_pred_count': {5: 848, 4: 944, 6: 27, 1: 5, 3: 8, 7: 20, 0: 15, 2: 7}, 'count_s0': 890, 'count_s1': 984, 'count': 1874}}\n",
      "[50] Eval metrics for task 4 >> {'accuracy': 0.884389494975752, 'loss': 0.0015700639254617066, 'std': 0.008606613973664357, 'EER': -1, 'EO': [0.19086783998784917, 0.25735258777008274], 'DP': -1, 'accuracy_s0': 0.9959131807095571, 'accuracy_s1': 0.7718029668305911, 'classwise_accuracy': {7: array([ 918, 1028]), 6: array([839, 958])}, 'DP_ingredients': {'class_pred_count_s0': {7: 482, 6: 502, 1: 2, 0: 1, 2: 1}, 'class_pred_count_s1': {7: 517, 6: 454, 2: 7, 0: 5, 3: 6, 1: 4, 5: 4, 4: 1}, 'class_pred_count': {7: 999, 6: 956, 2: 8, 0: 6, 1: 6, 3: 6, 5: 4, 4: 1}, 'count_s0': 988, 'count_s1': 998, 'count': 1986}}\n",
      "[51] Eval metrics for task 1 >> {'accuracy': 0.888413647397285, 'loss': 0.002382236254130695, 'std': 0.03229119841769307, 'EER': -1, 'EO': [0.11248693639892504, 0.15597094495535124], 'DP': -1, 'accuracy_s0': 0.9545227594241492, 'accuracy_s1': 0.820293818747011, 'classwise_accuracy': {1: array([1045, 1135]), 0: array([839, 980])}, 'DP_ingredients': {'class_pred_count_s0': {0: 455, 1: 575, 6: 18, 5: 7, 7: 16, 3: 7, 4: 1}, 'class_pred_count_s1': {1: 518, 0: 457, 7: 12, 6: 14, 5: 12, 2: 12, 3: 9, 4: 2}, 'class_pred_count': {1: 1093, 0: 912, 7: 28, 6: 32, 5: 19, 2: 12, 3: 16, 4: 3}, 'count_s0': 1079, 'count_s1': 1036, 'count': 2115}}\n",
      "[51] Eval metrics for task 2 >> {'accuracy': 0.81629825773275, 'loss': 0.003942789719690889, 'std': 0.005407168623839109, 'EER': -1, 'EO': [0.17485567045160033, 0.21093372985824754], 'DP': -1, 'accuracy_s0': 0.9144222639457295, 'accuracy_s1': 0.7215275637908055, 'classwise_accuracy': {2: array([ 848, 1032]), 3: array([ 819, 1010])}, 'DP_ingredients': {'class_pred_count_s0': {2: 472, 3: 454, 6: 23, 5: 19, 7: 32, 4: 4}, 'class_pred_count_s1': {3: 465, 2: 488, 0: 3, 5: 25, 7: 25, 4: 6, 6: 25, 1: 1}, 'class_pred_count': {2: 960, 3: 919, 0: 3, 5: 44, 7: 57, 6: 48, 4: 10, 1: 1}, 'count_s0': 1004, 'count_s1': 1038, 'count': 2042}}\n",
      "[51] Eval metrics for task 3 >> {'accuracy': 0.847070132337227, 'loss': 0.0029213139379800574, 'std': 0.039895244444850375, 'EER': -1, 'EO': [0.17951153267765574, 0.283314292041411], 'DP': -1, 'accuracy_s0': 0.968083546901617, 'accuracy_s1': 0.7366706345420837, 'classwise_accuracy': {4: array([871, 982]), 5: array([720, 892])}, 'DP_ingredients': {'class_pred_count_s0': {4: 453, 5: 409, 6: 13, 7: 10, 3: 4, 2: 1}, 'class_pred_count_s1': {4: 487, 5: 437, 0: 14, 3: 3, 1: 4, 6: 17, 7: 17, 2: 5}, 'class_pred_count': {4: 940, 5: 846, 0: 14, 3: 7, 1: 4, 6: 30, 7: 27, 2: 6}, 'count_s0': 890, 'count_s1': 984, 'count': 1874}}\n",
      "[51] Eval metrics for task 4 >> {'accuracy': 0.9076758892959554, 'loss': 0.0013341749722863973, 'std': 0.01936691226046483, 'EER': -1, 'EO': [0.23097896139645635, 0.12641111807256367], 'DP': -1, 'accuracy_s0': 0.9959131807095571, 'accuracy_s1': 0.8172181409750471, 'classwise_accuracy': {6: array([851, 958]), 7: array([ 953, 1028])}, 'DP_ingredients': {'class_pred_count_s0': {6: 502, 7: 482, 1: 2, 0: 1, 2: 1}, 'class_pred_count_s1': {7: 512, 6: 456, 1: 4, 2: 7, 3: 8, 5: 4, 0: 6, 4: 1}, 'class_pred_count': {6: 958, 7: 994, 1: 6, 2: 8, 3: 8, 5: 4, 0: 7, 4: 1}, 'count_s0': 988, 'count_s1': 998, 'count': 1986}}\n",
      "[52] Eval metrics for task 1 >> {'accuracy': 0.8925177560010789, 'loss': 0.002344978095228227, 'std': 0.03435449069495644, 'EER': -1, 'EO': [0.11374042002587836, 0.15190590430494477], 'DP': -1, 'accuracy_s0': 0.9579068541788023, 'accuracy_s1': 0.8250836920133907, 'classwise_accuracy': {1: array([1052, 1135]), 0: array([841, 980])}, 'DP_ingredients': {'class_pred_count_s0': {1: 580, 0: 453, 3: 8, 7: 12, 5: 8, 6: 17, 4: 1}, 'class_pred_count_s1': {0: 462, 1: 522, 7: 15, 5: 7, 3: 9, 6: 16, 2: 3, 4: 2}, 'class_pred_count': {1: 1102, 0: 915, 7: 27, 5: 15, 3: 17, 6: 33, 4: 3, 2: 3}, 'count_s0': 1079, 'count_s1': 1036, 'count': 2115}}\n",
      "[52] Eval metrics for task 2 >> {'accuracy': 0.8059022181287896, 'loss': 0.004287454453784968, 'std': 0.015803208227799515, 'EER': -1, 'EO': [0.1671030045336569, 0.19211318223013873], 'DP': -1, 'accuracy_s0': 0.8972523350388809, 'accuracy_s1': 0.717644241656983, 'classwise_accuracy': {2: array([ 848, 1032]), 3: array([ 798, 1010])}, 'DP_ingredients': {'class_pred_count_s0': {3: 441, 2: 471, 7: 36, 6: 25, 5: 25, 4: 6}, 'class_pred_count_s1': {2: 498, 3: 442, 6: 25, 5: 38, 0: 3, 7: 25, 4: 6, 1: 1}, 'class_pred_count': {2: 969, 3: 883, 6: 50, 5: 63, 7: 61, 0: 3, 4: 12, 1: 1}, 'count_s0': 1004, 'count_s1': 1038, 'count': 2042}}\n",
      "[52] Eval metrics for task 3 >> {'accuracy': 0.8549130994675459, 'loss': 0.0027807035275686258, 'std': 0.04325390664243378, 'EER': -1, 'EO': [0.265658736429934, 0.15847902789754098], 'DP': -1, 'accuracy_s0': 0.9657633612867679, 'accuracy_s1': 0.7536944791230304, 'classwise_accuracy': {5: array([724, 892]), 4: array([882, 982])}, 'DP_ingredients': {'class_pred_count_s0': {5: 409, 4: 453, 7: 9, 6: 14, 3: 4, 2: 1}, 'class_pred_count_s1': {5: 435, 4: 499, 1: 4, 6: 18, 0: 9, 7: 11, 2: 4, 3: 4}, 'class_pred_count': {5: 844, 4: 952, 1: 4, 6: 32, 7: 20, 0: 9, 2: 5, 3: 8}, 'count_s0': 890, 'count_s1': 984, 'count': 1874}}\n",
      "[52] Eval metrics for task 4 >> {'accuracy': 0.9103921106715516, 'loss': 0.0013031123387969633, 'std': 0.013732402947125577, 'EER': -1, 'EO': [0.21339654381403883, 0.13974293254352488], 'DP': -1, 'accuracy_s0': 0.9979750363796602, 'accuracy_s1': 0.8214052982008784, 'classwise_accuracy': {6: array([859, 958]), 7: array([ 950, 1028])}, 'DP_ingredients': {'class_pred_count_s0': {6: 502, 7: 483, 0: 1, 2: 1, 1: 1}, 'class_pred_count_s1': {6: 452, 7: 512, 0: 9, 5: 4, 2: 7, 4: 2, 1: 4, 3: 8}, 'class_pred_count': {6: 954, 7: 995, 0: 10, 5: 4, 2: 8, 4: 2, 1: 5, 3: 8}, 'count_s0': 988, 'count_s1': 998, 'count': 1986}}\n",
      "[53] Eval metrics for task 1 >> {'accuracy': 0.8944192214330666, 'loss': 0.0024845254618507187, 'std': 0.034215139800413574, 'EER': -1, 'EO': [0.11006394943764308, 0.1519225643076103], 'DP': -1, 'accuracy_s0': 0.9589314443427367, 'accuracy_s1': 0.8279381874701099, 'classwise_accuracy': {1: array([1054, 1135]), 0: array([843, 980])}, 'DP_ingredients': {'class_pred_count_s0': {1: 580, 0: 456, 7: 10, 6: 18, 3: 7, 5: 7, 4: 1}, 'class_pred_count_s1': {0: 458, 1: 519, 5: 8, 7: 13, 2: 11, 6: 15, 4: 2, 3: 10}, 'class_pred_count': {1: 1099, 0: 914, 5: 15, 7: 23, 6: 33, 3: 17, 2: 11, 4: 3}, 'count_s0': 1079, 'count_s1': 1036, 'count': 2115}}\n",
      "[53] Eval metrics for task 2 >> {'accuracy': 0.8152976053419296, 'loss': 0.004042500963874242, 'std': 0.007376813262721604, 'EER': -1, 'EO': [0.18844161649094204, 0.18899800298963043], 'DP': -1, 'accuracy_s0': 0.9112367667898524, 'accuracy_s1': 0.7225169570495662, 'classwise_accuracy': {2: array([ 849, 1032]), 3: array([ 816, 1010])}, 'DP_ingredients': {'class_pred_count_s0': {3: 448, 2: 475, 6: 24, 4: 4, 7: 27, 5: 25, 0: 1}, 'class_pred_count_s1': {2: 501, 3: 450, 5: 35, 4: 5, 7: 23, 6: 20, 0: 3, 1: 1}, 'class_pred_count': {2: 976, 3: 898, 5: 60, 6: 44, 4: 9, 7: 50, 0: 4, 1: 1}, 'count_s0': 1004, 'count_s1': 1038, 'count': 2042}}\n",
      "[53] Eval metrics for task 3 >> {'accuracy': 0.841417944526134, 'loss': 0.003246690095934059, 'std': 0.035364132866941234, 'EER': -1, 'EO': [0.19045060131552094, 0.28099410642656186], 'DP': -1, 'accuracy_s0': 0.9647448048567198, 'accuracy_s1': 0.7290224509856783, 'classwise_accuracy': {4: array([861, 982]), 5: array([719, 892])}, 'DP_ingredients': {'class_pred_count_s0': {4: 450, 5: 409, 6: 14, 3: 4, 7: 11, 2: 2}, 'class_pred_count_s1': {4: 482, 5: 442, 7: 15, 0: 14, 6: 18, 2: 5, 1: 5, 3: 3}, 'class_pred_count': {4: 932, 5: 851, 6: 32, 7: 26, 0: 14, 3: 7, 2: 7, 1: 5}, 'count_s0': 890, 'count_s1': 984, 'count': 1874}}\n",
      "[53] Eval metrics for task 4 >> {'accuracy': 0.9152914632462248, 'loss': 0.0012619468305646352, 'std': 0.017587914185681897, 'EER': -1, 'EO': [0.21119874161623664, 0.1231683469081658], 'DP': -1, 'accuracy_s0': 0.9979750363796602, 'accuracy_s1': 0.830791492117459, 'classwise_accuracy': {6: array([860, 958]), 7: array([ 959, 1028])}, 'DP_ingredients': {'class_pred_count_s0': {6: 502, 7: 484, 0: 1, 1: 1}, 'class_pred_count_s1': {6: 448, 7: 507, 0: 14, 4: 2, 3: 9, 2: 9, 5: 5, 1: 4}, 'class_pred_count': {6: 950, 7: 991, 0: 15, 4: 2, 3: 9, 2: 9, 5: 5, 1: 5}, 'count_s0': 988, 'count_s1': 998, 'count': 1986}}\n",
      "[54] Eval metrics for task 1 >> {'accuracy': 0.8925177560010789, 'loss': 0.0023442028403000345, 'std': 0.03435449069495644, 'EER': -1, 'EO': [0.11374042002587836, 0.1600693056110889], 'DP': -1, 'accuracy_s0': 0.9599560345066711, 'accuracy_s1': 0.8230511716881874, 'classwise_accuracy': {1: array([1052, 1135]), 0: array([841, 980])}, 'DP_ingredients': {'class_pred_count_s0': {0: 456, 1: 580, 6: 18, 3: 6, 7: 10, 5: 8, 4: 1}, 'class_pred_count_s1': {1: 519, 0: 459, 7: 13, 6: 13, 3: 9, 2: 11, 4: 2, 5: 10}, 'class_pred_count': {1: 1099, 0: 915, 6: 31, 7: 23, 3: 15, 2: 11, 4: 3, 5: 18}, 'count_s0': 1079, 'count_s1': 1036, 'count': 2115}}\n",
      "[54] Eval metrics for task 2 >> {'accuracy': 0.8118005986645176, 'loss': 0.0042287601371469976, 'std': 0.013780796684319585, 'EER': -1, 'EO': [0.18456456150124956, 0.1826834591013068], 'DP': -1, 'accuracy_s0': 0.9051515740920837, 'accuracy_s1': 0.7215275637908055, 'classwise_accuracy': {3: array([ 806, 1010]), 2: array([ 852, 1032])}, 'DP_ingredients': {'class_pred_count_s0': {3: 442, 2: 475, 7: 32, 6: 25, 5: 28, 4: 2}, 'class_pred_count_s1': {3: 448, 2: 500, 5: 34, 6: 21, 7: 26, 0: 4, 4: 4, 1: 1}, 'class_pred_count': {3: 890, 2: 975, 5: 62, 7: 58, 6: 46, 0: 4, 4: 6, 1: 1}, 'count_s0': 1004, 'count_s1': 1038, 'count': 2042}}\n",
      "[54] Eval metrics for task 3 >> {'accuracy': 0.8433518581096509, 'loss': 0.0030410317594748043, 'std': 0.0395401989168257, 'EER': -1, 'EO': [0.1789783259809129, 0.28533250122048803], 'DP': -1, 'accuracy_s0': 0.9647448048567198, 'accuracy_s1': 0.7325893912560193, 'classwise_accuracy': {4: array([867, 982]), 5: array([717, 892])}, 'DP_ingredients': {'class_pred_count_s0': {4: 448, 5: 410, 3: 4, 7: 13, 6: 13, 2: 2}, 'class_pred_count_s1': {4: 491, 5: 440, 2: 5, 6: 19, 0: 9, 1: 2, 3: 3, 7: 15}, 'class_pred_count': {4: 939, 5: 850, 2: 7, 6: 32, 3: 7, 0: 9, 7: 28, 1: 2}, 'count_s0': 890, 'count_s1': 984, 'count': 1874}}\n",
      "[54] Eval metrics for task 4 >> {'accuracy': 0.9207482758340577, 'loss': 0.0012245843972924493, 'std': 0.019913202765164117, 'EER': -1, 'EO': [0.10843538189895774, 0.20460533502283007], 'DP': -1, 'accuracy_s0': 0.9979750363796602, 'accuracy_s1': 0.8414546779187663, 'classwise_accuracy': {7: array([ 967, 1028]), 6: array([863, 958])}, 'DP_ingredients': {'class_pred_count_s0': {7: 484, 6: 502, 0: 1, 1: 1}, 'class_pred_count_s1': {7: 512, 2: 11, 6: 440, 3: 9, 0: 15, 5: 4, 1: 5, 4: 2}, 'class_pred_count': {7: 996, 2: 11, 6: 942, 3: 9, 0: 16, 5: 4, 1: 6, 4: 2}, 'count_s0': 988, 'count_s1': 998, 'count': 1986}}\n",
      "[55] Eval metrics for task 1 >> {'accuracy': 0.8939786927987055, 'loss': 0.002431547359935499, 'std': 0.03377461116605235, 'EER': -1, 'EO': [0.11190218473176072, 0.1519225643076103], 'DP': -1, 'accuracy_s0': 0.9589314443427367, 'accuracy_s1': 0.8270190698230512, 'classwise_accuracy': {1: array([1053, 1135]), 0: array([843, 980])}, 'DP_ingredients': {'class_pred_count_s0': {1: 579, 0: 456, 6: 18, 3: 6, 7: 11, 5: 8, 4: 1}, 'class_pred_count_s1': {1: 519, 0: 459, 3: 9, 5: 11, 6: 13, 7: 11, 2: 12, 4: 2}, 'class_pred_count': {1: 1098, 0: 915, 3: 15, 6: 31, 5: 19, 7: 22, 2: 12, 4: 3}, 'count_s0': 1079, 'count_s1': 1036, 'count': 2115}}\n",
      "[55] Eval metrics for task 2 >> {'accuracy': 0.8156554608949267, 'loss': 0.004255977217527608, 'std': 0.019615856934530662, 'EER': -1, 'EO': [0.19239566699753996, 0.15961326817688393], 'DP': -1, 'accuracy_s0': 0.9051872992938318, 'accuracy_s1': 0.7291828317066198, 'classwise_accuracy': {3: array([ 804, 1010]), 2: array([ 862, 1032])}, 'DP_ingredients': {'class_pred_count_s0': {3: 442, 2: 475, 5: 27, 7: 29, 6: 27, 0: 2, 4: 2}, 'class_pred_count_s1': {2: 503, 3: 440, 0: 3, 7: 25, 5: 39, 4: 5, 6: 22, 1: 1}, 'class_pred_count': {3: 882, 2: 978, 0: 5, 5: 66, 7: 54, 6: 49, 4: 7, 1: 1}, 'count_s0': 1004, 'count_s1': 1038, 'count': 2042}}\n",
      "[55] Eval metrics for task 3 >> {'accuracy': 0.8477334167481025, 'loss': 0.0031693002712001412, 'std': 0.03719530015617439, 'EER': -1, 'EO': [0.2723173168387093, 0.17515423420271026], 'DP': -1, 'accuracy_s0': 0.9647448048567198, 'accuracy_s1': 0.7410090293360099, 'classwise_accuracy': {5: array([723, 892]), 4: array([869, 982])}, 'DP_ingredients': {'class_pred_count_s0': {5: 410, 4: 449, 6: 13, 3: 4, 7: 12, 2: 2}, 'class_pred_count_s1': {5: 435, 4: 479, 6: 25, 0: 18, 7: 13, 3: 3, 2: 6, 1: 5}, 'class_pred_count': {5: 845, 4: 928, 6: 38, 0: 18, 7: 25, 3: 7, 2: 8, 1: 5}, 'count_s0': 890, 'count_s1': 984, 'count': 1874}}\n",
      "[55] Eval metrics for task 4 >> {'accuracy': 0.9265604818729032, 'loss': 0.0011298697205468606, 'std': 0.012155471434489806, 'EER': -1, 'EO': [0.10821514685500566, 0.1760339064514015], 'DP': -1, 'accuracy_s0': 0.9969441085446087, 'accuracy_s1': 0.8548195818914051, 'classwise_accuracy': {7: array([ 965, 1028]), 6: array([876, 958])}, 'DP_ingredients': {'class_pred_count_s0': {7: 483, 6: 502, 0: 1, 2: 1, 1: 1}, 'class_pred_count_s1': {7: 512, 6: 433, 0: 19, 4: 3, 1: 4, 3: 9, 5: 5, 2: 13}, 'class_pred_count': {7: 995, 6: 935, 0: 20, 4: 3, 1: 5, 3: 9, 5: 5, 2: 14}, 'count_s0': 988, 'count_s1': 998, 'count': 1986}}\n",
      "[56] Eval metrics for task 1 >> {'accuracy': 0.8895037310078215, 'loss': 0.0023825956292749862, 'std': 0.030320057538433864, 'EER': -1, 'EO': [0.1284463023788196, 0.16211848593895772], 'DP': -1, 'accuracy_s0': 0.9609806246706055, 'accuracy_s1': 0.8156982305117169, 'classwise_accuracy': {1: array([1044, 1135]), 0: array([842, 980])}, 'DP_ingredients': {'class_pred_count_s0': {1: 580, 0: 457, 3: 6, 7: 10, 6: 18, 4: 1, 5: 7}, 'class_pred_count_s1': {1: 515, 0: 461, 3: 9, 2: 14, 6: 12, 7: 15, 5: 8, 4: 2}, 'class_pred_count': {1: 1095, 0: 918, 3: 15, 2: 14, 6: 30, 7: 25, 5: 15, 4: 3}, 'count_s0': 1079, 'count_s1': 1036, 'count': 2115}}\n",
      "[56] Eval metrics for task 2 >> {'accuracy': 0.8083774656535421, 'loss': 0.004460851020607495, 'std': 0.013327960703047037, 'EER': -1, 'EO': [0.17485567045160033, 0.20225517005975335], 'DP': -1, 'accuracy_s0': 0.9042802761161148, 'accuracy_s1': 0.715724855860438, 'classwise_accuracy': {2: array([ 848, 1032]), 3: array([ 803, 1010])}, 'DP_ingredients': {'class_pred_count_s0': {2: 471, 7: 37, 3: 443, 6: 24, 5: 24, 4: 4, 0: 1}, 'class_pred_count_s1': {7: 30, 2: 501, 3: 446, 5: 30, 4: 5, 6: 21, 0: 4, 1: 1}, 'class_pred_count': {7: 67, 2: 972, 3: 889, 5: 54, 6: 45, 4: 9, 0: 5, 1: 1}, 'count_s0': 1004, 'count_s1': 1038, 'count': 2042}}\n",
      "[56] Eval metrics for task 3 >> {'accuracy': 0.8432491118153672, 'loss': 0.003320810380078685, 'std': 0.04167960508890978, 'EER': -1, 'EO': [0.17106353907613614, 0.2896708960144143], 'DP': -1, 'accuracy_s0': 0.9636554802379833, 'accuracy_s1': 0.7332882626927081, 'classwise_accuracy': {4: array([869, 982]), 5: array([715, 892])}, 'DP_ingredients': {'class_pred_count_s0': {5: 407, 4: 448, 3: 4, 7: 15, 6: 14, 2: 2}, 'class_pred_count_s1': {4: 490, 5: 439, 6: 18, 0: 10, 7: 17, 3: 3, 1: 2, 2: 5}, 'class_pred_count': {4: 938, 5: 846, 6: 32, 0: 10, 3: 7, 7: 32, 1: 2, 2: 7}, 'count_s0': 890, 'count_s1': 984, 'count': 1874}}\n",
      "[56] Eval metrics for task 4 >> {'accuracy': 0.9267270090899491, 'loss': 0.001144374027653163, 'std': 0.021716570676587887, 'EER': -1, 'EO': [0.09370241688974956, 0.1958141262316212], 'DP': -1, 'accuracy_s0': 0.9979750363796602, 'accuracy_s1': 0.8532167648189748, 'classwise_accuracy': {7: array([ 975, 1028]), 6: array([867, 958])}, 'DP_ingredients': {'class_pred_count_s0': {7: 484, 6: 502, 0: 1, 1: 1}, 'class_pred_count_s1': {7: 512, 0: 19, 6: 436, 5: 4, 3: 9, 2: 12, 4: 2, 1: 4}, 'class_pred_count': {7: 996, 6: 938, 0: 20, 5: 4, 3: 9, 2: 12, 4: 2, 1: 5}, 'count_s0': 988, 'count_s1': 998, 'count': 1986}}\n",
      "[57] Eval metrics for task 1 >> {'accuracy': 0.8960419850759687, 'loss': 0.0024618568995320206, 'std': 0.0378787197698463, 'EER': -1, 'EO': [0.09903453767293724, 0.16415100626416101], 'DP': -1, 'accuracy_s0': 0.9609806246706055, 'accuracy_s1': 0.8293878527020564, 'classwise_accuracy': {1: array([1060, 1135]), 0: array([841, 980])}, 'DP_ingredients': {'class_pred_count_s0': {1: 580, 0: 458, 6: 20, 5: 4, 3: 6, 7: 10, 4: 1}, 'class_pred_count_s1': {1: 519, 0: 460, 3: 9, 2: 12, 6: 17, 5: 8, 7: 10, 4: 1}, 'class_pred_count': {1: 1099, 0: 918, 6: 37, 5: 12, 3: 15, 2: 12, 7: 20, 4: 2}, 'count_s0': 1079, 'count_s1': 1036, 'count': 2115}}\n",
      "[57] Eval metrics for task 2 >> {'accuracy': 0.8171828229334561, 'loss': 0.004253694639850434, 'std': 0.01421252590375316, 'EER': -1, 'EO': [0.16696811453187954, 0.1789198102399796], 'DP': -1, 'accuracy_s0': 0.9050801236885874, 'accuracy_s1': 0.7321361613026578, 'classwise_accuracy': {3: array([ 811, 1010]), 2: array([ 858, 1032])}, 'DP_ingredients': {'class_pred_count_s0': {3: 442, 2: 477, 7: 33, 5: 26, 6: 23, 0: 1, 4: 2}, 'class_pred_count_s1': {2: 503, 3: 443, 5: 33, 7: 28, 6: 21, 1: 1, 4: 4, 0: 5}, 'class_pred_count': {3: 885, 2: 980, 7: 61, 5: 59, 6: 44, 1: 1, 4: 6, 0: 6}, 'count_s0': 1004, 'count_s1': 1038, 'count': 2042}}\n",
      "[57] Eval metrics for task 3 >> {'accuracy': 0.8374428045628488, 'loss': 0.0034986575359723104, 'std': 0.040357602769126755, 'EER': -1, 'EO': [0.17217577492012315, 0.28487953656682985], 'DP': -1, 'accuracy_s0': 0.9569072279595003, 'accuracy_s1': 0.7283795722160239, 'classwise_accuracy': {4: array([862, 982]), 5: array([711, 892])}, 'DP_ingredients': {'class_pred_count_s0': {3: 4, 4: 447, 5: 407, 6: 15, 7: 15, 2: 2}, 'class_pred_count_s1': {4: 478, 5: 436, 6: 31, 0: 10, 7: 16, 1: 3, 2: 7, 3: 3}, 'class_pred_count': {4: 925, 3: 7, 5: 843, 6: 46, 0: 10, 7: 31, 2: 9, 1: 3}, 'count_s0': 890, 'count_s1': 984, 'count': 1874}}\n",
      "[57] Eval metrics for task 4 >> {'accuracy': 0.932918978416448, 'loss': 0.001066133087315228, 'std': 0.017470126641917716, 'EER': -1, 'EO': [0.1738361042535993, 0.08221222304493936], 'DP': -1, 'accuracy_s0': 0.9959131807095571, 'accuracy_s1': 0.8678890170602878, 'classwise_accuracy': {6: array([877, 958]), 7: array([ 977, 1028])}, 'DP_ingredients': {'class_pred_count_s0': {6: 502, 7: 482, 1: 2, 0: 1, 2: 1}, 'class_pred_count_s1': {6: 434, 7: 509, 0: 20, 3: 9, 1: 4, 2: 14, 5: 4, 4: 4}, 'class_pred_count': {6: 936, 7: 991, 0: 21, 3: 9, 1: 6, 2: 15, 5: 4, 4: 4}, 'count_s0': 988, 'count_s1': 998, 'count': 1986}}\n",
      "[58] Eval metrics for task 1 >> {'accuracy': 0.8913827204890767, 'loss': 0.0023301207920620065, 'std': 0.024035781713566517, 'EER': -1, 'EO': [0.1376374788494078, 0.14585832333733173], 'DP': -1, 'accuracy_s0': 0.9609806246706055, 'accuracy_s1': 0.8192327235772358, 'classwise_accuracy': {1: array([1039, 1135]), 0: array([850, 980])}, 'DP_ingredients': {'class_pred_count_s0': {1: 580, 0: 459, 7: 9, 6: 21, 5: 3, 3: 6, 4: 1}, 'class_pred_count_s1': {0: 461, 1: 517, 5: 5, 6: 21, 7: 9, 2: 13, 3: 9, 4: 1}, 'class_pred_count': {1: 1097, 0: 920, 7: 18, 6: 42, 5: 8, 2: 13, 3: 15, 4: 2}, 'count_s0': 1079, 'count_s1': 1036, 'count': 2115}}\n",
      "[58] Eval metrics for task 2 >> {'accuracy': 0.8122956481694681, 'loss': 0.004469922806677225, 'std': 0.01328574717936909, 'EER': -1, 'EO': [0.1826834591013068, 0.17866769198174837], 'DP': -1, 'accuracy_s0': 0.9041373753091222, 'accuracy_s1': 0.7234617997675947, 'classwise_accuracy': {2: array([ 852, 1032]), 3: array([ 807, 1010])}, 'DP_ingredients': {'class_pred_count_s0': {2: 473, 3: 442, 7: 33, 6: 25, 5: 26, 0: 2, 4: 3}, 'class_pred_count_s1': {2: 503, 3: 446, 6: 23, 7: 27, 5: 29, 0: 4, 4: 5, 1: 1}, 'class_pred_count': {2: 976, 3: 888, 6: 48, 7: 60, 5: 55, 0: 6, 4: 8, 1: 1}, 'count_s0': 1004, 'count_s1': 1038, 'count': 2042}}\n",
      "[58] Eval metrics for task 3 >> {'accuracy': 0.8361162357410976, 'loss': 0.0035209199980203473, 'std': 0.045757491346478774, 'EER': -1, 'EO': [0.288915954924984, 0.18089037187001422], 'DP': -1, 'accuracy_s0': 0.9589443408195968, 'accuracy_s1': 0.7240411774220976, 'classwise_accuracy': {5: array([705, 892]), 4: array([866, 982])}, 'DP_ingredients': {'class_pred_count_s0': {5: 403, 4: 449, 3: 4, 7: 14, 6: 18, 2: 2}, 'class_pred_count_s1': {4: 483, 6: 25, 5: 434, 0: 13, 1: 4, 2: 6, 7: 16, 3: 3}, 'class_pred_count': {5: 837, 4: 932, 6: 43, 0: 13, 3: 7, 1: 4, 7: 30, 2: 8}, 'count_s0': 890, 'count_s1': 984, 'count': 1874}}\n",
      "[58] Eval metrics for task 4 >> {'accuracy': 0.9351132791239856, 'loss': 0.0010580735324252648, 'std': 0.01235753799663697, 'EER': -1, 'EO': [0.15845148886898386, 0.09554403751590057], 'DP': -1, 'accuracy_s0': 0.9979750363796602, 'accuracy_s1': 0.870977273187218, 'classwise_accuracy': {6: array([884, 958]), 7: array([ 974, 1028])}, 'DP_ingredients': {'class_pred_count_s0': {6: 502, 7: 484, 1: 1, 0: 1}, 'class_pred_count_s1': {6: 433, 7: 511, 0: 21, 4: 4, 2: 15, 3: 8, 1: 4, 5: 2}, 'class_pred_count': {6: 935, 7: 995, 0: 22, 4: 4, 2: 15, 3: 8, 1: 5, 5: 2}, 'count_s0': 988, 'count_s1': 998, 'count': 1986}}\n",
      "[59] Eval metrics for task 1 >> {'accuracy': 0.8877888159669154, 'loss': 0.0027744500772327397, 'std': 0.02146228535467054, 'EER': -1, 'EO': [0.15050512590823129, 0.1438091430094629], 'DP': -1, 'accuracy_s0': 0.9599560345066711, 'accuracy_s1': 0.812798900047824, 'classwise_accuracy': {1: array([1032, 1135]), 0: array([849, 980])}, 'DP_ingredients': {'class_pred_count_s0': {1: 580, 0: 457, 6: 22, 5: 5, 7: 8, 3: 6, 4: 1}, 'class_pred_count_s1': {0: 458, 1: 521, 3: 11, 7: 5, 5: 7, 6: 21, 2: 12, 4: 1}, 'class_pred_count': {1: 1101, 0: 915, 3: 17, 6: 43, 5: 12, 7: 13, 2: 12, 4: 2}, 'count_s0': 1079, 'count_s1': 1036, 'count': 2115}}\n",
      "[59] Eval metrics for task 2 >> {'accuracy': 0.8156449075140073, 'loss': 0.004504661631280598, 'std': 0.020595402563512166, 'EER': -1, 'EO': [0.1824420023461929, 0.1615702153393106], 'DP': -1, 'accuracy_s0': 0.9031231765261607, 'accuracy_s1': 0.731117067683409, 'classwise_accuracy': {3: array([ 803, 1010]), 2: array([ 863, 1032])}, 'DP_ingredients': {'class_pred_count_s0': {3: 442, 2: 475, 6: 23, 7: 32, 5: 28, 4: 3, 0: 1}, 'class_pred_count_s1': {2: 504, 3: 443, 6: 23, 7: 28, 5: 31, 4: 4, 0: 4, 1: 1}, 'class_pred_count': {3: 885, 2: 979, 6: 46, 7: 60, 5: 59, 4: 7, 0: 5, 1: 1}, 'count_s0': 1004, 'count_s1': 1038, 'count': 2042}}\n",
      "[59] Eval metrics for task 3 >> {'accuracy': 0.8332667385129643, 'loss': 0.0038655513187864417, 'std': 0.03842368918561001, 'EER': -1, 'EO': [0.28921793136075613, 0.1877387453813052], 'DP': -1, 'accuracy_s0': 0.9579965525782368, 'accuracy_s1': 0.7195182142072061, 'classwise_accuracy': {5: array([709, 892]), 4: array([856, 982])}, 'DP_ingredients': {'class_pred_count_s0': {5: 405, 4: 448, 7: 14, 6: 17, 3: 4, 2: 2}, 'class_pred_count_s1': {5: 437, 4: 485, 7: 17, 2: 6, 6: 24, 0: 9, 3: 3, 1: 3}, 'class_pred_count': {5: 842, 4: 933, 7: 31, 2: 8, 6: 41, 0: 9, 3: 7, 1: 3}, 'count_s0': 890, 'count_s1': 984, 'count': 1874}}\n",
      "[59] Eval metrics for task 4 >> {'accuracy': 0.9372365011413206, 'loss': 0.0010152935291465077, 'std': 0.009261553333387462, 'EER': -1, 'EO': [0.1474624778799729, 0.09348218184579749], 'DP': -1, 'accuracy_s0': 0.9969441085446087, 'accuracy_s1': 0.8764717786817234, 'classwise_accuracy': {6: array([889, 958]), 7: array([ 973, 1028])}, 'DP_ingredients': {'class_pred_count_s0': {6: 502, 7: 483, 2: 1, 0: 1, 1: 1}, 'class_pred_count_s1': {6: 426, 0: 23, 7: 511, 2: 17, 5: 4, 3: 9, 4: 4, 1: 4}, 'class_pred_count': {6: 928, 7: 994, 0: 24, 2: 18, 5: 4, 3: 9, 4: 4, 1: 5}, 'count_s0': 988, 'count_s1': 998, 'count': 1986}}\n",
      "[60] Eval metrics for task 1 >> {'accuracy': 0.8907106895621685, 'loss': 0.0026422005173162367, 'std': 0.020302526296862355, 'EER': -1, 'EO': [0.146828655319996, 0.13976076236172197], 'DP': -1, 'accuracy_s0': 0.9609806246706055, 'accuracy_s1': 0.8176859158297465, 'classwise_accuracy': {1: array([1034, 1135]), 0: array([853, 980])}, 'DP_ingredients': {'class_pred_count_s0': {1: 580, 0: 459, 6: 22, 7: 8, 3: 6, 5: 3, 4: 1}, 'class_pred_count_s1': {0: 460, 1: 518, 3: 9, 6: 27, 2: 12, 7: 4, 5: 5, 4: 1}, 'class_pred_count': {1: 1098, 0: 919, 3: 15, 6: 49, 7: 12, 2: 12, 5: 8, 4: 2}, 'count_s0': 1079, 'count_s1': 1036, 'count': 2115}}\n",
      "[60] Eval metrics for task 2 >> {'accuracy': 0.8108316064164556, 'loss': 0.004509398828640974, 'std': 0.012811804436257568, 'EER': -1, 'EO': [0.17267666087311329, 0.1903985636533686], 'DP': -1, 'accuracy_s0': 0.9030874513244126, 'accuracy_s1': 0.7215498390611716, 'classwise_accuracy': {3: array([ 806, 1010]), 2: array([ 850, 1032])}, 'DP_ingredients': {'class_pred_count_s0': {3: 440, 2: 476, 7: 34, 5: 24, 6: 27, 0: 2, 4: 1}, 'class_pred_count_s1': {3: 448, 2: 500, 6: 22, 5: 29, 7: 30, 4: 4, 0: 4, 1: 1}, 'class_pred_count': {3: 888, 2: 976, 7: 64, 6: 49, 5: 53, 4: 5, 0: 6, 1: 1}, 'count_s0': 1004, 'count_s1': 1038, 'count': 2042}}\n",
      "[60] Eval metrics for task 3 >> {'accuracy': 0.8341823221575808, 'loss': 0.0038080626070944707, 'std': 0.04158142529659431, 'EER': -1, 'EO': [0.2800881771192455, 0.1759998666983259], 'DP': -1, 'accuracy_s0': 0.9534269495372266, 'accuracy_s1': 0.7253829276284409, 'classwise_accuracy': {5: array([707, 892]), 4: array([860, 982])}, 'DP_ingredients': {'class_pred_count_s0': {4: 444, 5: 401, 7: 17, 6: 22, 3: 4, 2: 2}, 'class_pred_count_s1': {5: 428, 4: 476, 7: 22, 6: 38, 2: 7, 0: 7, 3: 4, 1: 2}, 'class_pred_count': {5: 829, 4: 920, 7: 39, 6: 60, 2: 9, 3: 8, 0: 7, 1: 2}, 'count_s0': 890, 'count_s1': 984, 'count': 1874}}\n",
      "[60] Eval metrics for task 4 >> {'accuracy': 0.9426933137291537, 'loss': 0.000954435851278622, 'std': 0.011586841912869739, 'EER': -1, 'EO': [0.08265269313284351, 0.14086907128656634], 'DP': -1, 'accuracy_s0': 0.9979750363796602, 'accuracy_s1': 0.8862141541699553, 'classwise_accuracy': {7: array([ 981, 1028]), 6: array([892, 958])}, 'DP_ingredients': {'class_pred_count_s0': {6: 502, 7: 484, 1: 1, 0: 1}, 'class_pred_count_s1': {7: 509, 6: 425, 0: 21, 2: 17, 1: 5, 5: 4, 4: 7, 3: 10}, 'class_pred_count': {7: 993, 6: 927, 0: 22, 2: 17, 1: 6, 5: 4, 4: 7, 3: 10}, 'count_s0': 988, 'count_s1': 998, 'count': 1986}}\n",
      "training_task_end\n",
      "---------------------------- Task 5 -----------------------\n",
      "[61] Eval metrics for task 1 >> {'accuracy': 0.8774678593904522, 'loss': 0.0024497391484307905, 'std': 0.03971275734963586, 'EER': -1, 'EO': [0.14102157360406087, 0.17214780754364922], 'DP': -1, 'accuracy_s0': 0.9544759507364566, 'accuracy_s1': 0.7978912601626016, 'classwise_accuracy': {1: array([1041, 1135]), 0: array([821, 980])}, 'DP_ingredients': {'class_pred_count_s0': {1: 582, 0: 451, 9: 19, 6: 8, 4: 1, 8: 6, 7: 3, 5: 6, 3: 3}, 'class_pred_count_s1': {9: 32, 1: 519, 0: 450, 2: 2, 6: 17, 3: 8, 5: 4, 4: 1, 8: 3}, 'class_pred_count': {1: 1101, 0: 901, 9: 51, 2: 2, 6: 25, 3: 11, 5: 10, 4: 2, 8: 9, 7: 3}, 'count_s0': 1079, 'count_s1': 1036, 'count': 2115}}\n",
      "[61] Eval metrics for task 2 >> {'accuracy': 0.8039220201089876, 'loss': 0.004020476638978889, 'std': 0.017783406247601496, 'EER': -1, 'EO': [0.15935033861571346, 0.310803865333234], 'DP': -1, 'accuracy_s0': 0.9236929537993752, 'accuracy_s1': 0.6886158518249015, 'classwise_accuracy': {2: array([ 848, 1032]), 3: array([ 794, 1010])}, 'DP_ingredients': {'class_pred_count_s0': {2: 467, 3: 464, 6: 13, 7: 9, 5: 13, 8: 31, 9: 1, 4: 6}, 'class_pred_count_s1': {2: 484, 3: 467, 8: 30, 6: 20, 7: 11, 5: 11, 4: 5, 1: 5, 0: 3, 9: 2}, 'class_pred_count': {2: 951, 3: 931, 6: 33, 8: 61, 7: 20, 5: 24, 9: 3, 4: 11, 1: 5, 0: 3}, 'count_s0': 1004, 'count_s1': 1038, 'count': 2042}}\n",
      "[61] Eval metrics for task 3 >> {'accuracy': 0.805300338834446, 'loss': 0.003778790619737183, 'std': 0.042968500269423615, 'EER': -1, 'EO': [0.21535302032433956, 0.35661403888449905], 'DP': -1, 'accuracy_s0': 0.9547993469107158, 'accuracy_s1': 0.6688158173062965, 'classwise_accuracy': {4: array([833, 982]), 5: array([680, 892])}, 'DP_ingredients': {'class_pred_count_s0': {7: 7, 4: 444, 5: 406, 6: 14, 2: 2, 9: 11, 3: 3, 0: 1, 1: 2}, 'class_pred_count_s1': {4: 478, 1: 9, 5: 431, 6: 26, 9: 15, 0: 10, 3: 7, 2: 2, 7: 4, 8: 2}, 'class_pred_count': {4: 922, 1: 11, 5: 837, 7: 11, 6: 40, 9: 26, 0: 11, 2: 4, 3: 10, 8: 2}, 'count_s0': 890, 'count_s1': 984, 'count': 1874}}\n",
      "[61] Eval metrics for task 4 >> {'accuracy': 0.9190982348114993, 'loss': 0.0012424987368473233, 'std': 0.004701347651966281, 'EER': -1, 'EO': [0.1269313284350021, 0.1520678129028029], 'DP': -1, 'accuracy_s0': 0.9887335779139594, 'accuracy_s1': 0.849234007245057, 'classwise_accuracy': {7: array([ 940, 1028]), 6: array([885, 958])}, 'DP_ingredients': {'class_pred_count_s0': {7: 476, 6: 507, 1: 2, 2: 1, 0: 2}, 'class_pred_count_s1': {7: 547, 6: 420, 2: 14, 0: 8, 1: 5, 4: 2, 3: 2}, 'class_pred_count': {7: 1023, 6: 927, 2: 15, 1: 7, 0: 10, 4: 2, 3: 2}, 'count_s0': 988, 'count_s1': 998, 'count': 1986}}\n",
      "[61] Eval metrics for task 5 >> {'accuracy': 0.6298630599756199, 'loss': 0.004351690599429024, 'std': 0.0005270837615464763, 'EER': -1, 'EO': [0.6690560621411685, 0.70949255139342], 'DP': -1, 'accuracy_s0': 0.9766473869035324, 'accuracy_s1': 0.2873730801362381, 'classwise_accuracy': {8: array([614, 974]), 9: array([ 635, 1009])}, 'DP_ingredients': {'class_pred_count_s0': {9: 503, 8: 458, 7: 2, 0: 4, 4: 7, 2: 3, 5: 4, 3: 3, 6: 1}, 'class_pred_count_s1': {8: 446, 9: 523, 7: 2, 3: 7, 4: 5, 6: 3, 5: 6, 2: 3, 0: 3}, 'class_pred_count': {8: 904, 9: 1026, 7: 4, 0: 7, 3: 10, 4: 12, 2: 6, 6: 4, 5: 10}, 'count_s0': 985, 'count_s1': 998, 'count': 1983}}\n",
      "[62] Eval metrics for task 1 >> {'accuracy': 0.8773285084959094, 'loss': 0.002847291067700578, 'std': 0.04161422278162363, 'EER': -1, 'EO': [0.14087538568726987, 0.2047847527655604], 'DP': -1, 'accuracy_s0': 0.962494105572661, 'accuracy_s1': 0.7896640363462458, 'classwise_accuracy': {1: array([1043, 1135]), 0: array([819, 980])}, 'DP_ingredients': {'class_pred_count_s0': {1: 582, 9: 14, 0: 457, 6: 7, 7: 3, 8: 8, 3: 2, 5: 6}, 'class_pred_count_s1': {9: 29, 1: 512, 0: 453, 3: 7, 6: 19, 2: 3, 5: 4, 4: 1, 8: 8}, 'class_pred_count': {9: 43, 1: 1094, 0: 910, 3: 9, 6: 26, 7: 3, 8: 16, 2: 3, 5: 10, 4: 1}, 'count_s0': 1079, 'count_s1': 1036, 'count': 2115}}\n",
      "[62] Eval metrics for task 2 >> {'accuracy': 0.7910612863611943, 'loss': 0.004527981145841952, 'std': 0.029675147747332875, 'EER': -1, 'EO': [0.16902239033020194, 0.3155707957831302], 'DP': -1, 'accuracy_s0': 0.9144937143492258, 'accuracy_s1': 0.6721971212925597, 'classwise_accuracy': {2: array([ 847, 1032]), 3: array([ 769, 1010])}, 'DP_ingredients': {'class_pred_count_s0': {3: 453, 2: 464, 8: 43, 7: 14, 9: 2, 5: 12, 6: 11, 4: 4, 1: 1}, 'class_pred_count_s1': {2: 487, 3: 453, 8: 45, 6: 13, 5: 12, 1: 5, 7: 16, 9: 3, 0: 1, 4: 3}, 'class_pred_count': {2: 951, 3: 906, 8: 88, 7: 30, 9: 5, 6: 24, 5: 24, 1: 6, 4: 7, 0: 1}, 'count_s0': 1004, 'count_s1': 1038, 'count': 2042}}\n",
      "[62] Eval metrics for task 3 >> {'accuracy': 0.7933794854465582, 'loss': 0.004309546858422148, 'std': 0.046742714146109754, 'EER': -1, 'EO': [0.22246799718400212, 0.37351465340654577], 'DP': -1, 'accuracy_s0': 0.9491404192509693, 'accuracy_s1': 0.6511490939556953, 'classwise_accuracy': {4: array([825, 982]), 5: array([666, 892])}, 'DP_ingredients': {'class_pred_count_s0': {4: 441, 5: 405, 6: 12, 0: 1, 9: 10, 8: 6, 7: 8, 3: 3, 1: 2, 2: 2}, 'class_pred_count_s1': {4: 468, 5: 423, 6: 24, 0: 8, 8: 17, 9: 20, 1: 11, 3: 8, 7: 2, 2: 3}, 'class_pred_count': {4: 909, 5: 828, 6: 36, 0: 9, 9: 30, 8: 23, 1: 13, 7: 10, 3: 11, 2: 5}, 'count_s0': 890, 'count_s1': 984, 'count': 1874}}\n",
      "[62] Eval metrics for task 4 >> {'accuracy': 0.9155869475154952, 'loss': 0.001404265682742915, 'std': 0.00508111093961966, 'EER': -1, 'EO': [0.13820128723586034, 0.15866121949620948], 'DP': -1, 'accuracy_s0': 0.989764505749011, 'accuracy_s1': 0.8413332523829762, 'classwise_accuracy': {7: array([ 936, 1028]), 6: array([882, 958])}, 'DP_ingredients': {'class_pred_count_s0': {7: 477, 6: 505, 0: 2, 1: 2, 8: 1, 2: 1}, 'class_pred_count_s1': {7: 547, 6: 422, 2: 16, 4: 2, 0: 7, 3: 1, 1: 3}, 'class_pred_count': {7: 1024, 6: 927, 0: 9, 2: 17, 1: 5, 4: 2, 3: 1, 8: 1}, 'count_s0': 988, 'count_s1': 998, 'count': 1986}}\n",
      "[62] Eval metrics for task 5 >> {'accuracy': 0.7180488539489562, 'loss': 0.003112569428788732, 'std': 0.054025068022296285, 'EER': -1, 'EO': [0.4240290442418102, 0.6465744271058528], 'DP': -1, 'accuracy_s0': 0.9860359429869862, 'accuracy_s1': 0.45073420731315467, 'classwise_accuracy': {8: array([752, 974]), 9: array([ 670, 1009])}, 'DP_ingredients': {'class_pred_count_s0': {4: 6, 9: 504, 8: 464, 7: 2, 5: 2, 3: 2, 6: 1, 0: 3, 2: 1}, 'class_pred_count_s1': {9: 536, 8: 442, 0: 2, 6: 5, 5: 2, 4: 5, 2: 3, 3: 2, 7: 1}, 'class_pred_count': {4: 11, 9: 1040, 8: 906, 0: 5, 6: 6, 5: 4, 7: 3, 3: 4, 2: 4}, 'count_s0': 985, 'count_s1': 998, 'count': 1983}}\n",
      "[63] Eval metrics for task 1 >> {'accuracy': 0.866616470376697, 'loss': 0.0031574348185924774, 'std': 0.03294300098894182, 'EER': -1, 'EO': [0.17072571414352544, 0.1843595894975344], 'DP': -1, 'accuracy_s0': 0.9538084935230646, 'accuracy_s1': 0.7762658417025347, 'classwise_accuracy': {1: array([1021, 1135]), 0: array([817, 980])}, 'DP_ingredients': {'class_pred_count_s0': {1: 579, 0: 450, 8: 11, 6: 5, 9: 21, 5: 8, 7: 2, 3: 2, 4: 1}, 'class_pred_count_s1': {1: 510, 6: 14, 0: 450, 9: 31, 3: 5, 8: 11, 2: 4, 4: 3, 7: 2, 5: 6}, 'class_pred_count': {1: 1089, 0: 900, 6: 19, 9: 52, 8: 22, 3: 7, 5: 14, 7: 4, 2: 4, 4: 4}, 'count_s0': 1079, 'count_s1': 1036, 'count': 2115}}\n",
      "[63] Eval metrics for task 2 >> {'accuracy': 0.7675416378847186, 'loss': 0.0050554729115134004, 'std': 0.030907974518382064, 'EER': -1, 'EO': [0.32430035977573846, 0.20541559773279594], 'DP': -1, 'accuracy_s0': 0.9023947793571845, 'accuracy_s1': 0.6375368006029174, 'classwise_accuracy': {3: array([ 744, 1010]), 2: array([ 824, 1032])}, 'DP_ingredients': {'class_pred_count_s0': {2: 462, 3: 440, 8: 49, 5: 20, 6: 10, 0: 1, 4: 5, 7: 9, 9: 8}, 'class_pred_count_s1': {9: 5, 8: 60, 2: 483, 3: 439, 7: 11, 5: 21, 4: 6, 6: 10, 0: 1, 1: 2}, 'class_pred_count': {9: 13, 8: 109, 2: 945, 3: 879, 7: 20, 5: 41, 4: 11, 6: 20, 0: 2, 1: 2}, 'count_s0': 1004, 'count_s1': 1038, 'count': 2042}}\n",
      "[63] Eval metrics for task 3 >> {'accuracy': 0.78864744778205, 'loss': 0.00446293537237601, 'std': 0.03416314284931454, 'EER': -1, 'EO': [0.37179842066324087, 0.23042860653928032], 'DP': -1, 'accuracy_s0': 0.9460847499608247, 'accuracy_s1': 0.6449712363595641, 'classwise_accuracy': {5: array([673, 892]), 4: array([808, 982])}, 'DP_ingredients': {'class_pred_count_s0': {5: 407, 4: 435, 8: 10, 3: 3, 7: 6, 1: 2, 9: 18, 6: 8, 2: 1}, 'class_pred_count_s1': {4: 461, 5: 426, 9: 31, 8: 22, 7: 2, 3: 5, 6: 16, 0: 8, 1: 11, 2: 2}, 'class_pred_count': {5: 833, 4: 896, 8: 32, 3: 8, 9: 49, 7: 8, 1: 13, 6: 24, 0: 8, 2: 3}, 'count_s0': 890, 'count_s1': 984, 'count': 1874}}\n",
      "[63] Eval metrics for task 4 >> {'accuracy': 0.908255688326036, 'loss': 0.0015767986050545268, 'std': 0.011368528792961963, 'EER': -1, 'EO': [0.16398397600197445, 0.16085902169401167], 'DP': -1, 'accuracy_s0': 0.989764505749011, 'accuracy_s1': 0.8273430069010179, 'classwise_accuracy': {7: array([ 922, 1028]), 6: array([881, 958])}, 'DP_ingredients': {'class_pred_count_s0': {6: 505, 7: 477, 2: 1, 0: 2, 1: 2, 8: 1}, 'class_pred_count_s1': {7: 549, 6: 423, 2: 16, 3: 1, 5: 1, 0: 6, 1: 1, 4: 1}, 'class_pred_count': {7: 1026, 6: 928, 2: 17, 3: 1, 5: 1, 0: 8, 1: 3, 8: 1, 4: 1}, 'count_s0': 988, 'count_s1': 998, 'count': 1986}}\n",
      "[63] Eval metrics for task 5 >> {'accuracy': 0.769694922290759, 'loss': 0.0025082641458246844, 'std': 0.03728659721642791, 'EER': -1, 'EO': [0.3606805133400879, 0.5267285090994851], 'DP': -1, 'accuracy_s0': 0.9919541417062591, 'accuracy_s1': 0.5482496304864726, 'classwise_accuracy': {8: array([786, 974]), 9: array([ 739, 1009])}, 'DP_ingredients': {'class_pred_count_s0': {8: 467, 9: 508, 4: 4, 3: 2, 0: 1, 5: 1, 6: 1, 7: 1}, 'class_pred_count_s1': {9: 515, 8: 464, 3: 4, 0: 2, 6: 4, 5: 1, 4: 4, 2: 2, 7: 2}, 'class_pred_count': {8: 931, 9: 1023, 3: 6, 0: 3, 6: 5, 5: 2, 4: 8, 2: 2, 7: 3}, 'count_s0': 985, 'count_s1': 998, 'count': 1983}}\n",
      "[64] Eval metrics for task 1 >> {'accuracy': 0.8616290569091072, 'loss': 0.0032461520909699425, 'std': 0.049384158949923596, 'EER': -1, 'EO': [0.1984706117552979, 0.15035893799144018], 'DP': -1, 'accuracy_s0': 0.9474823860641868, 'accuracy_s1': 0.7730676111908178, 'classwise_accuracy': {0: array([796, 980]), 1: array([1034, 1135])}, 'DP_ingredients': {'class_pred_count_s0': {0: 445, 1: 581, 9: 22, 8: 9, 6: 9, 5: 8, 3: 2, 7: 2, 4: 1}, 'class_pred_count_s1': {0: 447, 1: 513, 6: 19, 5: 6, 3: 7, 9: 29, 8: 9, 2: 4, 4: 2}, 'class_pred_count': {0: 892, 1: 1094, 9: 51, 6: 28, 5: 14, 3: 9, 8: 18, 2: 4, 4: 3, 7: 2}, 'count_s0': 1079, 'count_s1': 1036, 'count': 2115}}\n",
      "[64] Eval metrics for task 2 >> {'accuracy': 0.7646135543786936, 'loss': 0.005303416207768424, 'std': 0.02996008903215902, 'EER': -1, 'EO': [0.19758780908308948, 0.33609409881474106], 'DP': -1, 'accuracy_s0': 0.9005092825982542, 'accuracy_s1': 0.633668328649339, 'classwise_accuracy': {2: array([ 820, 1032]), 3: array([ 742, 1010])}, 'DP_ingredients': {'class_pred_count_s0': {2: 459, 3: 444, 8: 49, 6: 10, 7: 9, 9: 11, 5: 16, 4: 6}, 'class_pred_count_s1': {3: 443, 8: 58, 2: 476, 0: 1, 6: 8, 5: 19, 7: 15, 9: 5, 4: 8, 1: 5}, 'class_pred_count': {2: 935, 3: 887, 8: 107, 6: 18, 7: 24, 9: 16, 5: 35, 4: 14, 0: 1, 1: 5}, 'count_s0': 1004, 'count_s1': 1038, 'count': 2042}}\n",
      "[64] Eval metrics for task 3 >> {'accuracy': 0.7963362954709433, 'loss': 0.0046555715411297155, 'std': 0.04073091430502407, 'EER': -1, 'EO': [0.3516716912190285, 0.24047622023102844], 'DP': -1, 'accuracy_s0': 0.9512483002997538, 'accuracy_s1': 0.6551743445747253, 'classwise_accuracy': {5: array([674, 892]), 4: array([822, 982])}, 'DP_ingredients': {'class_pred_count_s0': {5: 402, 4: 441, 8: 17, 6: 7, 9: 14, 7: 4, 1: 1, 3: 3, 2: 1}, 'class_pred_count_s1': {5: 423, 4: 464, 6: 13, 8: 27, 3: 6, 9: 24, 7: 3, 1: 15, 0: 6, 2: 3}, 'class_pred_count': {5: 825, 4: 905, 8: 44, 6: 20, 9: 38, 7: 7, 1: 16, 3: 9, 2: 4, 0: 6}, 'count_s0': 890, 'count_s1': 984, 'count': 1874}}\n",
      "[64] Eval metrics for task 4 >> {'accuracy': 0.9092995296621529, 'loss': 0.0016473281194436225, 'std': 0.012412370129078865, 'EER': -1, 'EO': [0.15227354711321217, 0.15227754353002865], 'DP': -1, 'accuracy_s0': 0.9856776864585681, 'accuracy_s1': 0.8334021411369478, 'classwise_accuracy': {7: array([ 922, 1028]), 6: array([883, 958])}, 'DP_ingredients': {'class_pred_count_s0': {7: 474, 6: 506, 0: 2, 2: 2, 8: 1, 1: 2, 9: 1}, 'class_pred_count_s1': {7: 547, 6: 425, 2: 15, 0: 6, 3: 1, 5: 1, 8: 1, 4: 1, 1: 1}, 'class_pred_count': {7: 1021, 6: 931, 2: 17, 0: 8, 3: 1, 5: 1, 8: 2, 1: 3, 9: 1, 4: 1}, 'count_s0': 988, 'count_s1': 998, 'count': 1986}}\n",
      "[64] Eval metrics for task 5 >> {'accuracy': 0.7986885993206929, 'loss': 0.0021714004554113714, 'std': 0.05141407008382465, 'EER': -1, 'EO': [0.4923980975590582, 0.2773471800067545], 'DP': -1, 'accuracy_s0': 0.9909832679198514, 'accuracy_s1': 0.6061106291369449, 'classwise_accuracy': {9: array([ 754, 1009]), 8: array([828, 974])}, 'DP_ingredients': {'class_pred_count_s0': {8: 465, 9: 509, 4: 6, 3: 2, 6: 1, 5: 1, 7: 1}, 'class_pred_count_s1': {9: 514, 8: 469, 6: 4, 4: 4, 5: 1, 3: 2, 0: 2, 7: 1, 2: 1}, 'class_pred_count': {9: 1023, 8: 934, 6: 5, 4: 10, 5: 2, 3: 4, 0: 2, 7: 2, 2: 1}, 'count_s0': 985, 'count_s1': 998, 'count': 1983}}\n",
      "[65] Eval metrics for task 1 >> {'accuracy': 0.8752427402679133, 'loss': 0.003038138193441621, 'std': 0.03136518924750514, 'EER': -1, 'EO': [0.1595501144620285, 0.2089330934292949], 'DP': -1, 'accuracy_s0': 0.9659250090150064, 'accuracy_s1': 0.7816834050693449, 'classwise_accuracy': {1: array([1029, 1135]), 0: array([827, 980])}, 'DP_ingredients': {'class_pred_count_s0': {1: 581, 0: 462, 4: 1, 8: 10, 7: 3, 5: 5, 6: 4, 9: 12, 3: 1}, 'class_pred_count_s1': {0: 456, 1: 510, 9: 26, 6: 17, 8: 10, 3: 5, 2: 3, 5: 5, 7: 2, 4: 2}, 'class_pred_count': {1: 1091, 0: 918, 4: 3, 8: 20, 9: 38, 7: 5, 5: 10, 6: 21, 3: 6, 2: 3}, 'count_s0': 1079, 'count_s1': 1036, 'count': 2115}}\n",
      "[65] Eval metrics for task 2 >> {'accuracy': 0.7552814874510707, 'loss': 0.005524559714534957, 'std': 0.032509210223347906, 'EER': -1, 'EO': [0.21102350965890526, 0.3355291292799384], 'DP': -1, 'accuracy_s0': 0.8944240899004854, 'accuracy_s1': 0.6211477704310636, 'classwise_accuracy': {2: array([ 813, 1032]), 3: array([ 730, 1010])}, 'DP_ingredients': {'class_pred_count_s0': {2: 458, 3: 438, 8: 52, 5: 16, 7: 10, 9: 15, 6: 9, 4: 5, 0: 1}, 'class_pred_count_s1': {2: 474, 8: 56, 3: 451, 7: 11, 4: 8, 1: 5, 5: 18, 6: 9, 9: 5, 0: 1}, 'class_pred_count': {2: 932, 3: 889, 8: 108, 5: 34, 7: 21, 4: 13, 9: 20, 1: 5, 6: 18, 0: 2}, 'count_s0': 1004, 'count_s1': 1038, 'count': 2042}}\n",
      "[65] Eval metrics for task 3 >> {'accuracy': 0.7848823669093001, 'loss': 0.004797892388564672, 'std': 0.023671604577461536, 'EER': -1, 'EO': [0.3273575551987761, 0.21629029772095787], 'DP': -1, 'accuracy_s0': 0.9270708541214887, 'accuracy_s1': 0.6552469276616217, 'classwise_accuracy': {5: array([679, 892]), 4: array([794, 982])}, 'DP_ingredients': {'class_pred_count_s0': {5: 401, 4: 423, 7: 7, 9: 27, 8: 18, 1: 2, 6: 7, 3: 3, 2: 1, 0: 1}, 'class_pred_count_s1': {5: 420, 9: 45, 4: 449, 1: 13, 8: 23, 6: 14, 3: 6, 0: 9, 2: 3, 7: 2}, 'class_pred_count': {5: 821, 9: 72, 4: 872, 7: 9, 1: 15, 8: 41, 6: 21, 3: 9, 0: 10, 2: 4}, 'count_s0': 890, 'count_s1': 984, 'count': 1874}}\n",
      "[65] Eval metrics for task 4 >> {'accuracy': 0.9070696896095141, 'loss': 0.0016966293465574944, 'std': 0.00629147949278247, 'EER': -1, 'EO': [0.16148821357568865, 0.15661749349737042], 'DP': -1, 'accuracy_s0': 0.9867823983931463, 'accuracy_s1': 0.8277295448566167, 'classwise_accuracy': {6: array([875, 958]), 7: array([ 926, 1028])}, 'DP_ingredients': {'class_pred_count_s0': {6: 500, 7: 477, 8: 4, 9: 2, 0: 2, 1: 2, 2: 1}, 'class_pred_count_s1': {5: 1, 2: 14, 6: 421, 7: 550, 3: 3, 8: 1, 4: 1, 0: 6, 1: 1}, 'class_pred_count': {5: 1, 2: 15, 6: 921, 7: 1027, 8: 5, 3: 3, 9: 2, 4: 1, 0: 8, 1: 3}, 'count_s0': 988, 'count_s1': 998, 'count': 1986}}\n",
      "[65] Eval metrics for task 5 >> {'accuracy': 0.8310945840617197, 'loss': 0.0018920976437526824, 'std': 0.03030171983971769, 'EER': -1, 'EO': [0.38705239573916117, 0.25140999662276253], 'DP': -1, 'accuracy_s0': 0.990890311919025, 'accuracy_s1': 0.6716591157380631, 'classwise_accuracy': {9: array([ 808, 1009]), 8: array([839, 974])}, 'DP_ingredients': {'class_pred_count_s0': {9: 510, 8: 466, 4: 3, 7: 1, 5: 1, 0: 2, 3: 2}, 'class_pred_count_s1': {9: 509, 8: 474, 7: 1, 4: 4, 3: 2, 0: 1, 5: 1, 6: 5, 2: 1}, 'class_pred_count': {9: 1019, 8: 940, 4: 7, 7: 2, 3: 4, 0: 3, 5: 2, 6: 5, 2: 1}, 'count_s0': 985, 'count_s1': 998, 'count': 1983}}\n",
      "[66] Eval metrics for task 1 >> {'accuracy': 0.87269171985975, 'loss': 0.0031291550073781474, 'std': 0.03391620965566844, 'EER': -1, 'EO': [0.210932293749167, 0.1595501144620285], 'DP': -1, 'accuracy_s0': 0.9638758286871376, 'accuracy_s1': 0.7786346245815399, 'classwise_accuracy': {0: array([822, 980]), 1: array([1029, 1135])}, 'DP_ingredients': {'class_pred_count_s0': {0: 461, 1: 581, 4: 1, 9: 13, 5: 5, 8: 10, 6: 5, 3: 1, 7: 2}, 'class_pred_count_s1': {5: 6, 1: 513, 0: 453, 2: 3, 4: 2, 9: 23, 3: 5, 6: 15, 8: 15, 7: 1}, 'class_pred_count': {0: 914, 1: 1094, 5: 11, 4: 3, 2: 3, 9: 36, 3: 6, 6: 20, 8: 25, 7: 3}, 'count_s0': 1079, 'count_s1': 1036, 'count': 2115}}\n",
      "[66] Eval metrics for task 2 >> {'accuracy': 0.7482452605725689, 'loss': 0.005817374625005171, 'std': 0.049235359582469884, 'EER': -1, 'EO': [0.19570598465242584, 0.318548656039485], 'DP': -1, 'accuracy_s0': 0.8791753829543154, 'accuracy_s1': 0.62204806260836, 'classwise_accuracy': {2: array([ 823, 1032]), 3: array([ 706, 1010])}, 'DP_ingredients': {'class_pred_count_s0': {2: 456, 3: 421, 4: 6, 8: 68, 5: 25, 7: 8, 9: 10, 6: 9, 0: 1}, 'class_pred_count_s1': {2: 473, 8: 66, 3: 432, 9: 7, 6: 13, 5: 24, 7: 10, 0: 1, 4: 7, 1: 5}, 'class_pred_count': {2: 929, 3: 853, 8: 134, 9: 17, 4: 13, 5: 49, 6: 22, 7: 18, 0: 2, 1: 5}, 'count_s0': 1004, 'count_s1': 1038, 'count': 2042}}\n",
      "[66] Eval metrics for task 3 >> {'accuracy': 0.7887501940763337, 'loss': 0.004915935888870549, 'std': 0.03202373667723052, 'EER': -1, 'EO': [0.3450131108102531, 0.22607130806433473], 'DP': -1, 'accuracy_s0': 0.938105636686229, 'accuracy_s1': 0.6525634272489351, 'classwise_accuracy': {5: array([675, 892]), 4: array([806, 982])}, 'DP_ingredients': {'class_pred_count_s0': {5: 403, 4: 429, 8: 19, 9: 24, 6: 6, 7: 4, 3: 3, 1: 1, 2: 1}, 'class_pred_count_s1': {5: 421, 0: 12, 4: 444, 1: 14, 9: 39, 6: 11, 2: 4, 8: 36, 7: 2, 3: 1}, 'class_pred_count': {5: 824, 0: 12, 4: 873, 1: 15, 9: 63, 6: 17, 8: 55, 2: 5, 7: 6, 3: 4}, 'count_s0': 890, 'count_s1': 984, 'count': 1874}}\n",
      "[66] Eval metrics for task 4 >> {'accuracy': 0.8952899198232375, 'loss': 0.0019183437989917767, 'std': 0.014939725270708304, 'EER': -1, 'EO': [0.18748457405403351, 0.16808162016909534], 'DP': -1, 'accuracy_s0': 0.9847205427230432, 'accuracy_s1': 0.8069374456114787, 'classwise_accuracy': {7: array([ 905, 1028]), 6: array([872, 958])}, 'DP_ingredients': {'class_pred_count_s0': {7: 475, 6: 500, 8: 6, 1: 2, 0: 2, 9: 1, 2: 2}, 'class_pred_count_s1': {7: 550, 6: 423, 2: 13, 0: 6, 4: 1, 3: 1, 8: 1, 5: 1, 1: 2}, 'class_pred_count': {7: 1025, 6: 923, 2: 15, 0: 8, 8: 7, 4: 1, 1: 4, 3: 1, 5: 1, 9: 1}, 'count_s0': 988, 'count_s1': 998, 'count': 1986}}\n",
      "[66] Eval metrics for task 5 >> {'accuracy': 0.8569191445369497, 'loss': 0.0016021613544487197, 'std': 0.03630467476489824, 'EER': -1, 'EO': [0.34656656577964706, 0.19401384667342114], 'DP': -1, 'accuracy_s0': 0.9919541417062591, 'accuracy_s1': 0.721663935479725, 'classwise_accuracy': {9: array([ 828, 1009]), 8: array([870, 974])}, 'DP_ingredients': {'class_pred_count_s0': {9: 510, 8: 467, 7: 1, 4: 3, 3: 2, 0: 2}, 'class_pred_count_s1': {9: 510, 8: 474, 4: 4, 6: 4, 2: 1, 3: 2, 5: 2, 0: 1}, 'class_pred_count': {9: 1020, 8: 941, 4: 7, 7: 1, 3: 4, 6: 4, 2: 1, 5: 2, 0: 3}, 'count_s0': 985, 'count_s1': 998, 'count': 1983}}\n",
      "[67] Eval metrics for task 1 >> {'accuracy': 0.86905061584105, 'loss': 0.003535971573904051, 'std': 0.03843837094309088, 'EER': -1, 'EO': [0.15771187916791085, 0.20678395308543251], 'DP': -1, 'accuracy_s0': 0.9587528778674655, 'accuracy_s1': 0.7765049617407939, 'classwise_accuracy': {1: array([1030, 1135]), 0: array([814, 980])}, 'DP_ingredients': {'class_pred_count_s0': {1: 581, 0: 454, 8: 17, 9: 8, 5: 8, 6: 7, 7: 2, 4: 1, 3: 1}, 'class_pred_count_s1': {1: 512, 0: 446, 9: 25, 4: 2, 6: 16, 8: 20, 3: 5, 5: 5, 7: 1, 2: 4}, 'class_pred_count': {1: 1093, 0: 900, 8: 37, 9: 33, 4: 3, 5: 13, 6: 23, 3: 6, 7: 3, 2: 4}, 'count_s0': 1079, 'count_s1': 1036, 'count': 2115}}\n",
      "[67] Eval metrics for task 2 >> {'accuracy': 0.7508471486683552, 'loss': 0.005822543240901188, 'std': 0.03500556450993936, 'EER': -1, 'EO': [0.3292556134039023, 0.21098594829302364], 'DP': -1, 'accuracy_s0': 0.8883746224044649, 'accuracy_s1': 0.6182538415560019, 'classwise_accuracy': {3: array([ 723, 1010]), 2: array([ 811, 1032])}, 'DP_ingredients': {'class_pred_count_s0': {3: 433, 2: 455, 4: 6, 5: 21, 8: 61, 9: 11, 7: 7, 6: 9, 0: 1}, 'class_pred_count_s1': {3: 447, 2: 474, 4: 10, 5: 20, 8: 60, 6: 10, 1: 5, 7: 8, 9: 3, 0: 1}, 'class_pred_count': {3: 880, 2: 929, 4: 16, 5: 41, 8: 121, 6: 19, 1: 5, 9: 14, 7: 15, 0: 2}, 'count_s0': 1004, 'count_s1': 1038, 'count': 2042}}\n",
      "[67] Eval metrics for task 3 >> {'accuracy': 0.7883951485483089, 'loss': 0.005037026159791325, 'std': 0.028305462449654317, 'EER': -1, 'EO': [0.2255381013675919, 0.33850551861936373], 'DP': -1, 'accuracy_s0': 0.9359269874487562, 'accuracy_s1': 0.6539051774552784, 'classwise_accuracy': {4: array([802, 982]), 5: array([678, 892])}, 'DP_ingredients': {'class_pred_count_s0': {4: 428, 6: 7, 5: 403, 1: 2, 8: 21, 9: 22, 3: 3, 7: 3, 2: 1}, 'class_pred_count_s1': {8: 37, 4: 445, 9: 41, 5: 417, 3: 6, 7: 4, 2: 4, 0: 9, 6: 10, 1: 11}, 'class_pred_count': {4: 873, 6: 17, 8: 58, 9: 63, 5: 820, 3: 9, 1: 13, 7: 7, 2: 5, 0: 9}, 'count_s0': 890, 'count_s1': 984, 'count': 1874}}\n",
      "[67] Eval metrics for task 4 >> {'accuracy': 0.8963693005044556, 'loss': 0.0019459431054969088, 'std': 0.016991868597840853, 'EER': -1, 'EO': [0.16567408734406752, 0.1971331472726927], 'DP': -1, 'accuracy_s0': 0.9877764341784345, 'accuracy_s1': 0.8063728168700544, 'classwise_accuracy': {6: array([875, 958]), 7: array([ 904, 1028])}, 'DP_ingredients': {'class_pred_count_s0': {6: 501, 7: 475, 8: 6, 0: 2, 9: 1, 1: 2, 2: 1}, 'class_pred_count_s1': {7: 548, 6: 423, 3: 4, 2: 13, 1: 1, 0: 6, 5: 1, 4: 1, 8: 1}, 'class_pred_count': {6: 924, 7: 1023, 3: 4, 2: 14, 1: 3, 8: 7, 0: 8, 9: 1, 5: 1, 4: 1}, 'count_s0': 988, 'count_s1': 998, 'count': 1986}}\n",
      "[67] Eval metrics for task 5 >> {'accuracy': 0.8580882936528125, 'loss': 0.0016508901353683126, 'std': 0.04540246610078086, 'EER': -1, 'EO': [0.3548288196218703, 0.1823961499493415], 'DP': -1, 'accuracy_s0': 0.9921400537079117, 'accuracy_s1': 0.7235275689223057, 'classwise_accuracy': {9: array([ 820, 1009]), 8: array([880, 974])}, 'DP_ingredients': {'class_pred_count_s0': {9: 508, 8: 471, 4: 3, 0: 1, 3: 2}, 'class_pred_count_s1': {8: 479, 9: 498, 1: 1, 6: 5, 0: 5, 5: 3, 4: 3, 3: 2, 2: 1, 7: 1}, 'class_pred_count': {9: 1006, 8: 950, 4: 6, 1: 1, 6: 5, 0: 6, 5: 3, 3: 4, 2: 1, 7: 1}, 'count_s0': 985, 'count_s1': 998, 'count': 1983}}\n",
      "[68] Eval metrics for task 1 >> {'accuracy': 0.8670097995145194, 'loss': 0.0034233598562560747, 'std': 0.040479187269621464, 'EER': -1, 'EO': [0.2026689324270292, 0.15771187916791085], 'DP': -1, 'accuracy_s0': 0.9556791073756623, 'accuracy_s1': 0.7754887015781922, 'classwise_accuracy': {0: array([810, 980]), 1: array([1030, 1135])}, 'DP_ingredients': {'class_pred_count_s0': {0: 450, 1: 581, 9: 18, 5: 6, 8: 13, 6: 7, 4: 1, 7: 2, 3: 1}, 'class_pred_count_s1': {0: 447, 1: 511, 9: 30, 6: 17, 8: 16, 5: 4, 2: 3, 4: 2, 3: 5, 7: 1}, 'class_pred_count': {0: 897, 1: 1092, 9: 48, 6: 24, 5: 10, 8: 29, 4: 3, 2: 3, 3: 6, 7: 3}, 'count_s0': 1079, 'count_s1': 1036, 'count': 2115}}\n",
      "[68] Eval metrics for task 2 >> {'accuracy': 0.7541119809655383, 'loss': 0.00582094687556193, 'std': 0.05015158492593447, 'EER': -1, 'EO': [0.20165194887146876, 0.32076537678367556], 'DP': -1, 'accuracy_s0': 0.8871103472092663, 'accuracy_s1': 0.6259016843816942, 'classwise_accuracy': {2: array([ 830, 1032]), 3: array([ 711, 1010])}, 'DP_ingredients': {'class_pred_count_s0': {2: 460, 8: 64, 3: 421, 5: 20, 4: 5, 9: 18, 6: 8, 0: 1, 7: 7}, 'class_pred_count_s1': {3: 434, 2: 479, 9: 11, 8: 62, 4: 7, 6: 9, 5: 20, 7: 10, 0: 1, 1: 5}, 'class_pred_count': {2: 939, 3: 855, 8: 126, 9: 29, 5: 40, 4: 12, 6: 17, 0: 2, 7: 17, 1: 5}, 'count_s0': 1004, 'count_s1': 1038, 'count': 2042}}\n",
      "[68] Eval metrics for task 3 >> {'accuracy': 0.7675148182988867, 'loss': 0.00579655501224188, 'std': 0.01863589453207054, 'EER': -1, 'EO': [0.2706273926609096, 0.35121872656537034], 'DP': -1, 'accuracy_s0': 0.9303388279776978, 'accuracy_s1': 0.6194157683645579, 'classwise_accuracy': {4: array([772, 982]), 5: array([668, 892])}, 'DP_ingredients': {'class_pred_count_s0': {5: 399, 4: 422, 9: 30, 6: 7, 8: 22, 7: 4, 2: 1, 1: 2, 3: 3}, 'class_pred_count_s1': {4: 438, 5: 415, 9: 44, 8: 43, 3: 6, 6: 12, 0: 10, 1: 10, 7: 2, 2: 4}, 'class_pred_count': {4: 860, 5: 814, 9: 74, 8: 65, 6: 19, 7: 6, 2: 5, 3: 9, 0: 10, 1: 12}, 'count_s0': 890, 'count_s1': 984, 'count': 1874}}\n",
      "[68] Eval metrics for task 4 >> {'accuracy': 0.8948035385002803, 'loss': 0.0021150158071085766, 'std': 0.0154261065936655, 'EER': -1, 'EO': [0.1971331472726927, 0.16389574640071658], 'DP': -1, 'accuracy_s0': 0.985788362607858, 'accuracy_s1': 0.8052739157711533, 'classwise_accuracy': {7: array([ 904, 1028]), 6: array([872, 958])}, 'DP_ingredients': {'class_pred_count_s0': {7: 474, 6: 498, 8: 7, 0: 2, 1: 3, 9: 3, 2: 1}, 'class_pred_count_s1': {7: 546, 6: 421, 3: 6, 4: 1, 0: 6, 2: 14, 5: 1, 8: 2, 1: 1}, 'class_pred_count': {7: 1020, 6: 919, 3: 6, 4: 1, 0: 8, 2: 15, 8: 9, 1: 4, 9: 3, 5: 1}, 'count_s0': 988, 'count_s1': 998, 'count': 1986}}\n",
      "[68] Eval metrics for task 5 >> {'accuracy': 0.8840878703577454, 'loss': 0.001372424554055349, 'std': 0.03274991198311705, 'EER': -1, 'EO': [0.15249071259709557, 0.2917456074839825], 'DP': -1, 'accuracy_s0': 0.9949597190663086, 'accuracy_s1': 0.7728415590257696, 'classwise_accuracy': {8: array([893, 974]), 9: array([ 859, 1009])}, 'DP_ingredients': {'class_pred_count_s0': {9: 512, 8: 468, 4: 3, 7: 1, 3: 1}, 'class_pred_count_s1': {8: 490, 9: 490, 4: 4, 6: 4, 5: 2, 2: 1, 0: 3, 7: 1, 1: 1, 3: 2}, 'class_pred_count': {8: 958, 9: 1002, 4: 7, 6: 4, 5: 2, 2: 1, 0: 3, 7: 2, 1: 1, 3: 3}, 'count_s0': 985, 'count_s1': 998, 'count': 1983}}\n",
      "[69] Eval metrics for task 1 >> {'accuracy': 0.8683313854176031, 'loss': 0.003328425410791492, 'std': 0.0418007731727052, 'EER': -1, 'EO': [0.2230774356923897, 0.15219717328555782], 'DP': -1, 'accuracy_s0': 0.9608020581953344, 'accuracy_s1': 0.7731647537063606, 'classwise_accuracy': {0: array([810, 980]), 1: array([1033, 1135])}, 'DP_ingredients': {'class_pred_count_s0': {0: 453, 1: 581, 9: 9, 5: 8, 7: 2, 8: 18, 6: 6, 3: 1, 4: 1}, 'class_pred_count_s1': {0: 451, 1: 512, 9: 26, 3: 5, 6: 12, 8: 17, 7: 1, 5: 7, 2: 3, 4: 2}, 'class_pred_count': {0: 904, 1: 1093, 9: 35, 3: 6, 5: 15, 6: 18, 8: 35, 7: 3, 2: 3, 4: 3}, 'count_s0': 1079, 'count_s1': 1036, 'count': 2115}}\n",
      "[69] Eval metrics for task 2 >> {'accuracy': 0.7611165477012818, 'loss': 0.005820435244703152, 'std': 0.036364072453757, 'EER': -1, 'EO': [0.3158101231555118, 0.20345865057036927], 'DP': -1, 'accuracy_s0': 0.8933027155122795, 'accuracy_s1': 0.633668328649339, 'classwise_accuracy': {3: array([ 732, 1010]), 2: array([ 823, 1032])}, 'DP_ingredients': {'class_pred_count_s0': {3: 433, 2: 457, 7: 7, 8: 53, 5: 17, 6: 9, 9: 21, 4: 6, 0: 1}, 'class_pred_count_s1': {3: 439, 2: 476, 5: 19, 8: 61, 0: 1, 7: 10, 9: 8, 1: 5, 4: 10, 6: 9}, 'class_pred_count': {3: 872, 2: 933, 7: 17, 8: 114, 5: 36, 0: 2, 9: 29, 1: 5, 4: 16, 6: 18}, 'count_s0': 1004, 'count_s1': 1038, 'count': 2042}}\n",
      "[69] Eval metrics for task 3 >> {'accuracy': 0.7740825897545962, 'loss': 0.005702141000468805, 'std': 0.026324742220963926, 'EER': -1, 'EO': [0.362366689985958, 0.23567735996034278], 'DP': -1, 'accuracy_s0': 0.9304803643550743, 'accuracy_s1': 0.631458339381924, 'classwise_accuracy': {5: array([667, 892]), 4: array([786, 982])}, 'DP_ingredients': {'class_pred_count_s0': {5: 403, 4: 423, 9: 28, 6: 7, 8: 19, 1: 2, 7: 4, 3: 3, 2: 1}, 'class_pred_count_s1': {5: 417, 4: 430, 8: 36, 9: 55, 1: 11, 6: 10, 7: 4, 0: 11, 3: 5, 2: 5}, 'class_pred_count': {5: 820, 4: 853, 8: 55, 9: 83, 6: 17, 1: 13, 7: 8, 0: 11, 3: 8, 2: 6}, 'count_s0': 890, 'count_s1': 984, 'count': 1874}}\n",
      "[69] Eval metrics for task 4 >> {'accuracy': 0.891600935801727, 'loss': 0.0021256071563213615, 'std': 0.010277978603283444, 'EER': -1, 'EO': [0.1973533823166449, 0.1814781639831341], 'DP': -1, 'accuracy_s0': 0.9868192904429096, 'accuracy_s1': 0.7974035172930201, 'classwise_accuracy': {7: array([ 906, 1028]), 6: array([864, 958])}, 'DP_ingredients': {'class_pred_count_s0': {7: 477, 6: 497, 0: 2, 9: 3, 8: 5, 1: 3, 2: 1}, 'class_pred_count_s1': {7: 545, 6: 423, 2: 13, 8: 2, 1: 1, 0: 6, 3: 5, 9: 1, 5: 1, 4: 1}, 'class_pred_count': {7: 1022, 6: 920, 0: 8, 2: 14, 9: 4, 8: 7, 1: 4, 3: 5, 5: 1, 4: 1}, 'count_s0': 988, 'count_s1': 998, 'count': 1986}}\n",
      "[69] Eval metrics for task 5 >> {'accuracy': 0.8809543675707137, 'loss': 0.0014276103695654472, 'std': 0.026643168363577885, 'EER': -1, 'EO': [0.28567273299005536, 0.17034785545423847], 'DP': -1, 'accuracy_s0': 0.9949597190663086, 'accuracy_s1': 0.7669494248441617, 'classwise_accuracy': {9: array([ 862, 1009]), 8: array([884, 974])}, 'DP_ingredients': {'class_pred_count_s0': {9: 511, 8: 468, 3: 2, 4: 3, 7: 1}, 'class_pred_count_s1': {8: 481, 0: 4, 9: 497, 2: 1, 5: 3, 4: 3, 1: 1, 3: 2, 6: 5, 7: 1}, 'class_pred_count': {9: 1008, 8: 949, 0: 4, 3: 4, 2: 1, 4: 6, 5: 3, 7: 2, 1: 1, 6: 5}, 'count_s0': 985, 'count_s1': 998, 'count': 1983}}\n",
      "[70] Eval metrics for task 1 >> {'accuracy': 0.859797266924391, 'loss': 0.003622680014752327, 'std': 0.04857277712847258, 'EER': -1, 'EO': [0.1558736438737932, 0.21682993469278955], 'DP': -1, 'accuracy_s0': 0.9515807467199245, 'accuracy_s1': 0.7652289574366331, 'classwise_accuracy': {1: array([1031, 1135]), 0: array([795, 980])}, 'DP_ingredients': {'class_pred_count_s0': {8: 17, 1: 581, 0: 448, 9: 17, 6: 5, 7: 2, 5: 7, 4: 1, 3: 1}, 'class_pred_count_s1': {1: 512, 0: 444, 9: 29, 8: 18, 5: 5, 6: 16, 4: 3, 2: 3, 3: 5, 7: 1}, 'class_pred_count': {8: 35, 1: 1093, 0: 892, 9: 46, 5: 12, 6: 21, 4: 4, 7: 3, 2: 3, 3: 6}, 'count_s0': 1079, 'count_s1': 1036, 'count': 2115}}\n",
      "[70] Eval metrics for task 2 >> {'accuracy': 0.7591363496814798, 'loss': 0.005987232859291129, 'std': 0.03834427047355898, 'EER': -1, 'EO': [0.347322868318941, 0.1879533187344824], 'DP': -1, 'accuracy_s0': 0.8954740138851951, 'accuracy_s1': 0.6278359203584833, 'classwise_accuracy': {3: array([ 728, 1010]), 2: array([ 823, 1032])}, 'DP_ingredients': {'class_pred_count_s0': {3: 439, 2: 453, 8: 61, 4: 6, 7: 7, 5: 14, 9: 16, 6: 8}, 'class_pred_count_s1': {3: 450, 8: 63, 2: 471, 4: 8, 5: 15, 9: 6, 7: 10, 6: 10, 1: 4, 0: 1}, 'class_pred_count': {3: 889, 2: 924, 8: 124, 4: 14, 7: 17, 5: 29, 9: 22, 6: 18, 1: 4, 0: 1}, 'count_s0': 1004, 'count_s1': 1038, 'count': 2042}}\n",
      "[70] Eval metrics for task 3 >> {'accuracy': 0.7700606431461372, 'loss': 0.005817053094108687, 'std': 0.021181719379321007, 'EER': -1, 'EO': [0.2733392485951254, 0.35121872656537034], 'DP': -1, 'accuracy_s0': 0.9336068018339071, 'accuracy_s1': 0.6213278142536592, 'classwise_accuracy': {4: array([777, 982]), 5: array([668, 892])}, 'DP_ingredients': {'class_pred_count_s0': {4: 427, 5: 398, 8: 23, 9: 28, 6: 7, 1: 1, 2: 1, 3: 3, 7: 2}, 'class_pred_count_s1': {5: 412, 4: 436, 8: 47, 9: 45, 1: 11, 0: 9, 3: 5, 2: 6, 7: 2, 6: 11}, 'class_pred_count': {4: 863, 5: 810, 8: 70, 9: 73, 1: 12, 0: 9, 6: 18, 3: 8, 2: 7, 7: 4}, 'count_s0': 890, 'count_s1': 984, 'count': 1874}}\n",
      "[70] Eval metrics for task 4 >> {'accuracy': 0.8896554105098982, 'loss': 0.002266298172937299, 'std': 0.012223503895112231, 'EER': -1, 'EO': [0.19691291222874063, 0.1814781639831341], 'DP': -1, 'accuracy_s0': 0.9847574347728064, 'accuracy_s1': 0.795561896666869, 'classwise_accuracy': {7: array([ 902, 1028]), 6: array([864, 958])}, 'DP_ingredients': {'class_pred_count_s0': {7: 472, 6: 496, 1: 3, 8: 12, 9: 2, 0: 2, 2: 1}, 'class_pred_count_s1': {7: 541, 6: 425, 3: 6, 0: 6, 8: 2, 2: 13, 1: 3, 4: 1, 5: 1}, 'class_pred_count': {7: 1013, 6: 921, 3: 6, 1: 6, 0: 8, 8: 14, 2: 14, 4: 1, 9: 2, 5: 1}, 'count_s0': 988, 'count_s1': 998, 'count': 1986}}\n",
      "[70] Eval metrics for task 5 >> {'accuracy': 0.8877525270512003, 'loss': 0.0013318889771094542, 'std': 0.04037888978658194, 'EER': -1, 'EO': [0.13477710233029383, 0.2998427734758854], 'DP': -1, 'accuracy_s0': 0.9960235488535427, 'accuracy_s1': 0.7787136109504531, 'classwise_accuracy': {8: array([904, 974]), 9: array([ 855, 1009])}, 'DP_ingredients': {'class_pred_count_s0': {8: 469, 9: 512, 4: 3, 3: 1}, 'class_pred_count_s1': {8: 485, 9: 494, 0: 3, 6: 4, 4: 4, 1: 1, 3: 2, 2: 2, 5: 2, 7: 1}, 'class_pred_count': {8: 954, 9: 1006, 0: 3, 4: 7, 6: 4, 3: 3, 1: 1, 2: 2, 5: 2, 7: 1}, 'count_s0': 985, 'count_s1': 998, 'count': 1983}}\n",
      "[71] Eval metrics for task 1 >> {'accuracy': 0.8691899667355929, 'loss': 0.0033312536441406177, 'std': 0.03653690551110311, 'EER': -1, 'EO': [0.16138834975614613, 0.2190457150473144], 'DP': -1, 'accuracy_s0': 0.9628512385232033, 'accuracy_s1': 0.772634206121473, 'classwise_accuracy': {1: array([1028, 1135]), 0: array([816, 980])}, 'DP_ingredients': {'class_pred_count_s0': {0: 458, 1: 581, 5: 6, 3: 1, 9: 7, 8: 18, 6: 5, 7: 2, 4: 1}, 'class_pred_count_s1': {1: 510, 0: 454, 9: 26, 8: 18, 7: 3, 5: 4, 3: 4, 2: 3, 4: 3, 6: 11}, 'class_pred_count': {1: 1091, 0: 912, 5: 10, 9: 33, 8: 36, 7: 5, 3: 5, 2: 3, 4: 4, 6: 16}, 'count_s0': 1079, 'count_s1': 1036, 'count': 2115}}\n",
      "[71] Eval metrics for task 2 >> {'accuracy': 0.7541858546319749, 'loss': 0.006144946807745505, 'std': 0.04329476552306394, 'EER': -1, 'EO': [0.19958231761139766, 0.32703889265971176], 'DP': -1, 'accuracy_s0': 0.8882674467992204, 'accuracy_s1': 0.6249568416636657, 'classwise_accuracy': {2: array([ 823, 1032]), 3: array([ 718, 1010])}, 'DP_ingredients': {'class_pred_count_s0': {2: 457, 3: 430, 6: 8, 8: 60, 9: 20, 7: 9, 5: 14, 4: 5, 0: 1}, 'class_pred_count_s1': {2: 475, 3: 442, 8: 64, 1: 5, 9: 8, 5: 16, 0: 1, 6: 9, 7: 10, 4: 8}, 'class_pred_count': {2: 932, 3: 872, 8: 124, 1: 5, 6: 17, 9: 28, 5: 30, 7: 19, 0: 2, 4: 13}, 'count_s0': 1004, 'count_s1': 1038, 'count': 2042}}\n",
      "[71] Eval metrics for task 3 >> {'accuracy': 0.761503018457801, 'loss': 0.006021305680147739, 'std': 0.021592704556455677, 'EER': -1, 'EO': [0.26000074982191723, 0.35510415670563844], 'DP': -1, 'accuracy_s0': 0.9225012510804786, 'accuracy_s1': 0.6149487978167008, 'classwise_accuracy': {4: array([769, 982]), 5: array([660, 892])}, 'DP_ingredients': {'class_pred_count_s0': {5: 394, 4: 422, 9: 30, 8: 25, 1: 2, 6: 7, 0: 1, 3: 3, 7: 5, 2: 1}, 'class_pred_count_s1': {4: 432, 8: 54, 5: 409, 6: 11, 1: 10, 2: 5, 0: 8, 9: 47, 7: 3, 3: 5}, 'class_pred_count': {4: 854, 5: 803, 8: 79, 9: 77, 1: 12, 6: 18, 2: 6, 0: 9, 3: 8, 7: 8}, 'count_s0': 890, 'count_s1': 984, 'count': 1874}}\n",
      "[71] Eval metrics for task 4 >> {'accuracy': 0.8956341437657895, 'loss': 0.0021608517189160336, 'std': 0.010420135983688461, 'EER': -1, 'EO': [0.17268695519192534, 0.18608342351578666], 'DP': -1, 'accuracy_s0': 0.985788362607858, 'accuracy_s1': 0.806403173254002, 'classwise_accuracy': {6: array([868, 958]), 7: array([ 910, 1028])}, 'DP_ingredients': {'class_pred_count_s0': {6: 497, 7: 476, 1: 3, 0: 2, 8: 7, 2: 1, 9: 2}, 'class_pred_count_s1': {7: 546, 6: 422, 0: 6, 2: 14, 3: 5, 4: 1, 8: 2, 5: 1, 1: 1}, 'class_pred_count': {6: 919, 7: 1022, 0: 8, 2: 15, 3: 5, 1: 4, 8: 9, 4: 1, 9: 2, 5: 1}, 'count_s0': 988, 'count_s1': 998, 'count': 1986}}\n",
      "[71] Eval metrics for task 5 >> {'accuracy': 0.8903014552803008, 'loss': 0.0013434193198030428, 'std': 0.0419367377381798, 'EER': -1, 'EO': [0.2978184819779096, 0.1227288078351908], 'DP': -1, 'accuracy_s0': 0.9949597190663086, 'accuracy_s1': 0.7846860741597583, 'classwise_accuracy': {9: array([ 856, 1009]), 8: array([908, 974])}, 'DP_ingredients': {'class_pred_count_s0': {9: 512, 8: 468, 4: 3, 3: 1, 7: 1}, 'class_pred_count_s1': {9: 490, 8: 488, 2: 2, 6: 4, 4: 4, 7: 1, 0: 4, 3: 2, 5: 2, 1: 1}, 'class_pred_count': {9: 1002, 8: 956, 2: 2, 6: 4, 4: 7, 7: 2, 3: 3, 0: 4, 5: 2, 1: 1}, 'count_s0': 985, 'count_s1': 998, 'count': 1983}}\n",
      "[72] Eval metrics for task 1 >> {'accuracy': 0.8764249752764541, 'loss': 0.0033204705720815816, 'std': 0.034588240582576646, 'EER': -1, 'EO': [0.20483473277355724, 0.15035893799144018], 'DP': -1, 'accuracy_s0': 0.9638758286871376, 'accuracy_s1': 0.786278993304639, 'classwise_accuracy': {0: array([825, 980]), 1: array([1034, 1135])}, 'DP_ingredients': {'class_pred_count_s0': {0: 460, 1: 581, 6: 4, 5: 5, 9: 12, 8: 13, 4: 1, 3: 1, 7: 2}, 'class_pred_count_s1': {3: 4, 0: 456, 1: 512, 8: 16, 9: 27, 6: 9, 5: 4, 4: 3, 7: 3, 2: 2}, 'class_pred_count': {0: 916, 3: 5, 1: 1093, 6: 13, 8: 29, 9: 39, 5: 9, 4: 4, 7: 5, 2: 2}, 'count_s0': 1079, 'count_s1': 1036, 'count': 2115}}\n",
      "[72] Eval metrics for task 2 >> {'accuracy': 0.7414517614552152, 'loss': 0.006428096950579577, 'std': 0.04343195947501727, 'EER': -1, 'EO': [0.31255762493085015, 0.22065800000751223], 'DP': -1, 'accuracy_s0': 0.8771469853883924, 'accuracy_s1': 0.6105391729192113, 'classwise_accuracy': {3: array([ 705, 1010]), 2: array([ 810, 1032])}, 'DP_ingredients': {'class_pred_count_s0': {8: 60, 3: 420, 2: 457, 7: 9, 5: 20, 9: 21, 4: 8, 6: 8, 0: 1}, 'class_pred_count_s1': {2: 481, 3: 427, 9: 12, 8: 63, 5: 21, 7: 11, 4: 9, 1: 5, 6: 8, 0: 1}, 'class_pred_count': {8: 123, 2: 938, 3: 847, 9: 33, 7: 20, 5: 41, 4: 17, 1: 5, 6: 16, 0: 2}, 'count_s0': 1004, 'count_s1': 1038, 'count': 2042}}\n",
      "[72] Eval metrics for task 3 >> {'accuracy': 0.7788705670682143, 'loss': 0.005980305890517912, 'std': 0.026628414601846673, 'EER': -1, 'EO': [0.24657060614770665, 0.3492005173862933], 'DP': -1, 'accuracy_s0': 0.9347668946413317, 'accuracy_s1': 0.6368813328743317, 'classwise_accuracy': {4: array([791, 982]), 5: array([671, 892])}, 'DP_ingredients': {'class_pred_count_s0': {4: 429, 5: 400, 9: 28, 6: 6, 8: 21, 7: 1, 3: 3, 2: 1, 1: 1}, 'class_pred_count_s1': {5: 418, 4: 430, 8: 39, 9: 56, 1: 9, 0: 9, 3: 4, 6: 11, 7: 3, 2: 5}, 'class_pred_count': {4: 859, 5: 818, 8: 60, 9: 84, 6: 17, 1: 10, 0: 9, 3: 7, 7: 4, 2: 6}, 'count_s0': 890, 'count_s1': 984, 'count': 1874}}\n",
      "[72] Eval metrics for task 4 >> {'accuracy': 0.8902484098681591, 'loss': 0.0022700640700254794, 'std': 0.014762028545201977, 'EER': -1, 'EO': [0.17907063115810629, 0.18888572459228037], 'DP': -1, 'accuracy_s0': 0.9826586870529401, 'accuracy_s1': 0.7986805091777467, 'classwise_accuracy': {6: array([867, 958]), 7: array([ 900, 1028])}, 'DP_ingredients': {'class_pred_count_s0': {6: 499, 7: 470, 8: 5, 9: 8, 1: 3, 0: 2, 2: 1}, 'class_pred_count_s1': {6: 423, 7: 540, 9: 5, 5: 1, 2: 14, 0: 6, 4: 1, 3: 4, 1: 3, 8: 1}, 'class_pred_count': {6: 922, 7: 1010, 9: 13, 8: 6, 5: 1, 2: 15, 1: 6, 0: 8, 4: 1, 3: 4}, 'count_s0': 988, 'count_s1': 998, 'count': 1986}}\n",
      "[72] Eval metrics for task 5 >> {'accuracy': 0.8919274781585851, 'loss': 0.0012454069057499227, 'std': 0.01977683395640467, 'EER': -1, 'EO': [0.2452694469557014, 0.16241134751773045], 'DP': -1, 'accuracy_s0': 0.9939888452799008, 'accuracy_s1': 0.7901484480431848, 'classwise_accuracy': {9: array([ 880, 1009]), 8: array([888, 974])}, 'DP_ingredients': {'class_pred_count_s0': {8: 468, 9: 511, 4: 3, 3: 1, 7: 1, 0: 1}, 'class_pred_count_s1': {9: 500, 8: 480, 6: 4, 4: 3, 5: 2, 1: 1, 2: 2, 0: 3, 3: 2, 7: 1}, 'class_pred_count': {9: 1011, 8: 948, 6: 4, 4: 6, 5: 2, 3: 3, 1: 1, 2: 2, 0: 4, 7: 2}, 'count_s0': 985, 'count_s1': 998, 'count': 1983}}\n",
      "[73] Eval metrics for task 1 >> {'accuracy': 0.8652948844736132, 'loss': 0.003452999921555215, 'std': 0.03162141508585814, 'EER': -1, 'EO': [0.1727101373544342, 0.21701319472211122], 'DP': -1, 'accuracy_s0': 0.9611591911458768, 'accuracy_s1': 0.7662975251076041, 'classwise_accuracy': {1: array([1018, 1135]), 0: array([817, 980])}, 'DP_ingredients': {'class_pred_count_s0': {1: 578, 0: 460, 8: 19, 9: 9, 6: 4, 5: 5, 3: 1, 7: 2, 4: 1}, 'class_pred_count_s1': {1: 511, 0: 455, 8: 19, 9: 28, 6: 7, 3: 4, 2: 3, 5: 4, 4: 3, 7: 2}, 'class_pred_count': {1: 1089, 0: 915, 8: 38, 9: 37, 6: 11, 3: 5, 5: 9, 2: 3, 4: 4, 7: 4}, 'count_s0': 1079, 'count_s1': 1036, 'count': 2115}}\n",
      "[73] Eval metrics for task 2 >> {'accuracy': 0.7423785401795993, 'loss': 0.006569447234842149, 'std': 0.0483191342390053, 'EER': -1, 'EO': [0.3519956371797035, 0.21301801818721333], 'DP': -1, 'accuracy_s0': 0.8862390492332974, 'accuracy_s1': 0.6037322215498391, 'classwise_accuracy': {3: array([ 701, 1010]), 2: array([ 816, 1032])}, 'DP_ingredients': {'class_pred_count_s0': {3: 427, 2: 458, 8: 59, 9: 22, 6: 8, 5: 14, 4: 6, 7: 9, 0: 1}, 'class_pred_count_s1': {2: 478, 3: 433, 8: 67, 7: 12, 5: 14, 4: 9, 9: 13, 6: 8, 1: 3, 0: 1}, 'class_pred_count': {3: 860, 2: 936, 8: 126, 9: 35, 6: 16, 7: 21, 5: 28, 4: 15, 1: 3, 0: 2}, 'count_s0': 1004, 'count_s1': 1038, 'count': 2042}}\n",
      "[73] Eval metrics for task 3 >> {'accuracy': 0.7670010868274684, 'loss': 0.006166041406267099, 'std': 0.029332925392490827, 'EER': -1, 'EO': [0.2555976288964704, 0.34148501945231535], 'DP': -1, 'accuracy_s0': 0.9233075029444622, 'accuracy_s1': 0.6247661787700692, 'classwise_accuracy': {4: array([782, 982]), 5: array([658, 892])}, 'DP_ingredients': {'class_pred_count_s0': {5: 391, 4: 425, 9: 32, 8: 26, 6: 7, 2: 1, 3: 4, 7: 2, 0: 1, 1: 1}, 'class_pred_count_s1': {8: 51, 4: 427, 1: 14, 5: 408, 9: 50, 6: 12, 2: 5, 0: 9, 7: 5, 3: 3}, 'class_pred_count': {8: 77, 4: 852, 1: 15, 5: 799, 9: 82, 6: 19, 2: 6, 0: 10, 7: 7, 3: 7}, 'count_s0': 890, 'count_s1': 984, 'count': 1874}}\n",
      "[73] Eval metrics for task 4 >> {'accuracy': 0.8908414092264201, 'loss': 0.0023774966852662545, 'std': 0.017300553195291724, 'EER': -1, 'EO': [0.19256896584458238, 0.16829135079632096], 'DP': -1, 'accuracy_s0': 0.9816646512676518, 'accuracy_s1': 0.8012344929472002, 'classwise_accuracy': {7: array([ 898, 1028]), 6: array([870, 958])}, 'DP_ingredients': {'class_pred_count_s0': {7: 467, 6: 499, 8: 9, 9: 6, 1: 4, 0: 2, 2: 1}, 'class_pred_count_s1': {7: 545, 6: 423, 1: 3, 2: 14, 4: 1, 3: 1, 0: 6, 5: 1, 8: 3, 9: 1}, 'class_pred_count': {7: 1012, 6: 922, 8: 12, 9: 7, 1: 7, 2: 15, 0: 8, 4: 1, 3: 1, 5: 1}, 'count_s0': 988, 'count_s1': 998, 'count': 1986}}\n",
      "[73] Eval metrics for task 5 >> {'accuracy': 0.9011499176813198, 'loss': 0.0011649469173862306, 'std': 0.028008193201637, 'EER': -1, 'EO': [0.24721119452851692, 0.13279297534616685], 'DP': -1, 'accuracy_s0': 0.9960235488535427, 'accuracy_s1': 0.8060214639162008, 'classwise_accuracy': {9: array([ 881, 1009]), 8: array([905, 974])}, 'DP_ingredients': {'class_pred_count_s0': {9: 512, 8: 469, 4: 3, 3: 1}, 'class_pred_count_s1': {8: 494, 9: 489, 0: 3, 6: 2, 1: 1, 2: 2, 3: 2, 4: 2, 5: 2, 7: 1}, 'class_pred_count': {9: 1001, 8: 963, 0: 3, 6: 2, 1: 1, 2: 2, 4: 5, 3: 3, 5: 2, 7: 1}, 'count_s0': 985, 'count_s1': 998, 'count': 1983}}\n",
      "[74] Eval metrics for task 1 >> {'accuracy': 0.8698395217117685, 'loss': 0.003523151361632291, 'std': 0.034125235997482684, 'EER': -1, 'EO': [0.1650648203443814, 0.21294815407170475], 'DP': -1, 'accuracy_s0': 0.9628512385232033, 'accuracy_s1': 0.7738447513151602, 'classwise_accuracy': {1: array([1026, 1135]), 0: array([819, 980])}, 'DP_ingredients': {'class_pred_count_s0': {1: 581, 0: 459, 7: 2, 8: 20, 9: 6, 6: 3, 5: 6, 3: 1, 4: 1}, 'class_pred_count_s1': {1: 513, 0: 453, 8: 21, 3: 4, 9: 23, 6: 10, 2: 3, 7: 2, 5: 4, 4: 3}, 'class_pred_count': {1: 1094, 0: 912, 7: 4, 8: 41, 3: 5, 9: 29, 6: 13, 5: 10, 2: 3, 4: 4}, 'count_s0': 1079, 'count_s1': 1036, 'count': 2115}}\n",
      "[74] Eval metrics for task 2 >> {'accuracy': 0.7362172845191496, 'loss': 0.00680960170435742, 'std': 0.02928659144984269, 'EER': -1, 'EO': [0.20477705451281025, 0.34270110365229256], 'DP': -1, 'accuracy_s0': 0.8756187406469437, 'accuracy_s1': 0.6018796615643922, 'classwise_accuracy': {2: array([ 790, 1032]), 3: array([ 714, 1010])}, 'DP_ingredients': {'class_pred_count_s0': {2: 442, 3: 433, 5: 15, 8: 74, 9: 16, 4: 8, 6: 8, 7: 7, 0: 1}, 'class_pred_count_s1': {2: 452, 9: 9, 3: 449, 8: 76, 1: 3, 6: 14, 4: 9, 5: 16, 7: 9, 0: 1}, 'class_pred_count': {2: 894, 3: 882, 9: 25, 5: 31, 8: 150, 1: 3, 6: 22, 4: 17, 7: 16, 0: 2}, 'count_s0': 1004, 'count_s1': 1038, 'count': 2042}}\n",
      "[74] Eval metrics for task 3 >> {'accuracy': 0.7734706784908625, 'loss': 0.0060978294881965205, 'std': 0.027954983423597868, 'EER': -1, 'EO': [0.3352794036971982, 0.2460373994509637], 'DP': -1, 'accuracy_s0': 0.9256276885593113, 'accuracy_s1': 0.6349692869852304, 'classwise_accuracy': {5: array([665, 892]), 4: array([787, 982])}, 'DP_ingredients': {'class_pred_count_s0': {5: 394, 4: 426, 3: 4, 8: 27, 9: 29, 1: 1, 7: 1, 6: 6, 2: 1, 0: 1}, 'class_pred_count_s1': {5: 411, 4: 431, 8: 60, 0: 8, 9: 44, 1: 8, 3: 5, 6: 11, 2: 3, 7: 3}, 'class_pred_count': {5: 805, 4: 857, 8: 87, 3: 9, 0: 9, 9: 73, 1: 9, 7: 4, 6: 17, 2: 4}, 'count_s0': 890, 'count_s1': 984, 'count': 1874}}\n",
      "[74] Eval metrics for task 4 >> {'accuracy': 0.8818022306523805, 'loss': 0.0025316387685043935, 'std': 0.017989001080396083, 'EER': -1, 'EO': [0.19005964214711724, 0.17975736173605972], 'DP': -1, 'accuracy_s0': 0.9744112643725278, 'accuracy_s1': 0.7895027624309392, 'classwise_accuracy': {6: array([862, 958]), 7: array([ 888, 1028])}, 'DP_ingredients': {'class_pred_count_s0': {6: 497, 7: 461, 9: 10, 8: 14, 1: 3, 2: 1, 0: 2}, 'class_pred_count_s1': {7: 526, 6: 421, 8: 12, 2: 16, 0: 6, 3: 4, 9: 8, 1: 3, 4: 1, 5: 1}, 'class_pred_count': {6: 918, 7: 987, 8: 26, 9: 18, 2: 17, 0: 8, 3: 4, 1: 6, 4: 1, 5: 1}, 'count_s0': 988, 'count_s1': 998, 'count': 1986}}\n",
      "[74] Eval metrics for task 5 >> {'accuracy': 0.9108144766912978, 'loss': 0.0010679234880662841, 'std': 0.0327173508241026, 'EER': -1, 'EO': [0.10501519756838906, 0.23312369796784715], 'DP': -1, 'accuracy_s0': 0.9950526750671349, 'accuracy_s1': 0.8259832272990169, 'classwise_accuracy': {8: array([919, 974]), 9: array([ 886, 1009])}, 'DP_ingredients': {'class_pred_count_s0': {8: 469, 4: 3, 9: 511, 0: 1, 3: 1}, 'class_pred_count_s1': {8: 480, 9: 498, 5: 2, 0: 4, 1: 1, 3: 2, 6: 5, 2: 2, 7: 1, 4: 3}, 'class_pred_count': {8: 949, 9: 1009, 4: 6, 5: 2, 0: 5, 1: 1, 3: 3, 6: 5, 2: 2, 7: 1}, 'count_s0': 985, 'count_s1': 998, 'count': 1983}}\n",
      "[75] Eval metrics for task 1 >> {'accuracy': 0.8710217567203093, 'loss': 0.0033519466999856573, 'std': 0.037348287332554186, 'EER': -1, 'EO': [0.1558736438737932, 0.21701319472211122], 'DP': -1, 'accuracy_s0': 0.9628512385232033, 'accuracy_s1': 0.776407819225251, 'classwise_accuracy': {1: array([1031, 1135]), 0: array([817, 980])}, 'DP_ingredients': {'class_pred_count_s0': {1: 581, 0: 459, 9: 6, 6: 5, 5: 6, 4: 1, 7: 2, 8: 18, 3: 1}, 'class_pred_count_s1': {1: 509, 0: 455, 6: 10, 9: 24, 8: 21, 4: 3, 5: 4, 2: 3, 3: 4, 7: 3}, 'class_pred_count': {1: 1090, 0: 914, 6: 15, 9: 30, 8: 39, 4: 4, 5: 10, 7: 5, 2: 3, 3: 5}, 'count_s0': 1079, 'count_s1': 1036, 'count': 2115}}\n",
      "[75] Eval metrics for task 2 >> {'accuracy': 0.7468656458669123, 'loss': 0.006435075072420216, 'std': 0.04092505180750633, 'EER': -1, 'EO': [0.3327474390009455, 0.21102350965890526], 'DP': -1, 'accuracy_s0': 0.8852963008538324, 'accuracy_s1': 0.6134108265239069, 'classwise_accuracy': {3: array([ 713, 1010]), 2: array([ 813, 1032])}, 'DP_ingredients': {'class_pred_count_s0': {3: 431, 9: 19, 2: 456, 8: 60, 7: 9, 4: 6, 5: 14, 6: 8, 0: 1}, 'class_pred_count_s1': {2: 480, 3: 439, 7: 9, 8: 63, 1: 3, 5: 15, 4: 10, 9: 10, 6: 8, 0: 1}, 'class_pred_count': {3: 870, 2: 936, 9: 29, 8: 123, 7: 18, 1: 3, 4: 16, 5: 29, 6: 16, 0: 2}, 'count_s0': 1004, 'count_s1': 1038, 'count': 2042}}\n",
      "[75] Eval metrics for task 3 >> {'accuracy': 0.7695982848218608, 'loss': 0.006176994729830845, 'std': 0.030809047153699365, 'EER': -1, 'EO': [0.25204014046663914, 0.3572733541026015], 'DP': -1, 'accuracy_s0': 0.9290371987928969, 'accuracy_s1': 0.6243804515082766, 'classwise_accuracy': {4: array([786, 982]), 5: array([659, 892])}, 'DP_ingredients': {'class_pred_count_s0': {4: 426, 3: 3, 5: 395, 9: 29, 8: 26, 6: 6, 7: 2, 0: 1, 1: 1, 2: 1}, 'class_pred_count_s1': {5: 413, 4: 427, 8: 46, 9: 57, 1: 10, 6: 11, 2: 5, 0: 9, 7: 3, 3: 3}, 'class_pred_count': {4: 853, 5: 808, 3: 6, 8: 72, 9: 86, 1: 11, 6: 17, 2: 6, 7: 5, 0: 10}, 'count_s0': 890, 'count_s1': 984, 'count': 1874}}\n",
      "[75] Eval metrics for task 4 >> {'accuracy': 0.8936175397837582, 'loss': 0.0023777235790802035, 'std': 0.010349057293485953, 'EER': -1, 'EO': [0.17708255958752972, 0.18976666476808868], 'DP': -1, 'accuracy_s0': 0.985788362607858, 'accuracy_s1': 0.8023637504300487, 'classwise_accuracy': {6: array([866, 958]), 7: array([ 908, 1028])}, 'DP_ingredients': {'class_pred_count_s0': {6: 497, 7: 476, 1: 3, 2: 1, 8: 6, 0: 2, 9: 3}, 'class_pred_count_s1': {6: 422, 7: 541, 9: 1, 3: 6, 2: 14, 4: 1, 0: 6, 5: 1, 8: 3, 1: 3}, 'class_pred_count': {6: 919, 7: 1017, 9: 4, 3: 6, 1: 6, 2: 15, 4: 1, 0: 8, 5: 1, 8: 9}, 'count_s0': 988, 'count_s1': 998, 'count': 1986}}\n",
      "[75] Eval metrics for task 5 >> {'accuracy': 0.8967790908517389, 'loss': 0.0012662348140686736, 'std': 0.03751249025709069, 'EER': -1, 'EO': [0.2715852364293856, 0.12287234042553197], 'DP': -1, 'accuracy_s0': 0.9950526750671349, 'accuracy_s1': 0.7978238866396761, 'classwise_accuracy': {9: array([ 867, 1009]), 8: array([910, 974])}, 'DP_ingredients': {'class_pred_count_s0': {9: 512, 8: 469, 4: 3, 3: 1}, 'class_pred_count_s1': {9: 493, 8: 483, 6: 6, 0: 3, 4: 3, 5: 2, 3: 2, 2: 2, 1: 2, 7: 2}, 'class_pred_count': {9: 1005, 8: 952, 6: 6, 0: 3, 4: 6, 5: 2, 3: 3, 2: 2, 1: 2, 7: 2}, 'count_s0': 985, 'count_s1': 998, 'count': 1983}}\n",
      "training_task_end\n",
      "final avg-acc 0.8355764636089159\n",
      "final avg-forget 0.1258604312334425\n"
     ]
    }
   ],
   "source": [
    "trainer.run()\n",
    "print(\"final avg-acc\", metric_manager_callback.meters['accuracy'].compute_final())\n",
    "print(\"final avg-forget\", metric_manager_callback.meters['forgetting'].compute_final())"
   ]
  },
  {
   "cell_type": "code",
   "execution_count": 11,
   "id": "4ee4e697",
   "metadata": {},
   "outputs": [
    {
     "name": "stdout",
     "output_type": "stream",
     "text": [
      "task:2\n",
      "task:3\n",
      "task:4\n",
      "task:5\n"
     ]
    }
   ],
   "source": [
    "import copy\n",
    "task_weight = copy.deepcopy(algorithm.weight_all)\n",
    "\n",
    "num_bin = 20\n",
    "np.arange(0+1/num_bin, 1+1/num_bin, 1/num_bin)\n",
    "\n",
    "def bin(w: np.array, num_bin=20):\n",
    "    out = dict()\n",
    "    for r in np.arange(0+1/num_bin, 1+1/num_bin, 1/num_bin):\n",
    "        r = np.round(r, 2)\n",
    "        out[r] = np.sum(np.logical_and(w<=r, r-1/num_bin<w))\n",
    "    out[1/num_bin] += np.sum(w==0)\n",
    "    kk = list(out.keys())\n",
    "    for k in kk:\n",
    "        if out[k] == 0:\n",
    "            del(out[k])\n",
    "    return out\n",
    "\n",
    "\n",
    "binned_weight = dict()\n",
    "for i, wt in enumerate(task_weight):\n",
    "    if i==0:\n",
    "        continue\n",
    "    print(f\"task:{i+1}\")\n",
    "    binned_weight[i+1] = list()\n",
    "    for we in wt:\n",
    "        binned_weight[i+1].append({k: bin(we[k]) for k in we})\n",
    "\n",
    "\n"
   ]
  },
  {
   "cell_type": "code",
   "execution_count": 12,
   "id": "b48ee970",
   "metadata": {},
   "outputs": [
    {
     "data": {
      "text/plain": [
       "{2: [], 3: [], 4: [], 5: []}"
      ]
     },
     "execution_count": 12,
     "metadata": {},
     "output_type": "execute_result"
    }
   ],
   "source": [
    "binned_weight"
   ]
  },
  {
   "cell_type": "code",
   "execution_count": null,
   "id": "e4b41373",
   "metadata": {},
   "outputs": [],
   "source": []
  },
  {
   "cell_type": "code",
   "execution_count": 13,
   "id": "5ebde5d0",
   "metadata": {},
   "outputs": [
    {
     "data": {
      "text/plain": [
       "array([[0.997, 0.   , 0.   , 0.   , 0.   ],\n",
       "       [0.952, 0.928, 0.   , 0.   , 0.   ],\n",
       "       [0.931, 0.854, 0.918, 0.   , 0.   ],\n",
       "       [0.891, 0.811, 0.834, 0.943, 0.   ],\n",
       "       [0.871, 0.747, 0.77 , 0.894, 0.897]])"
      ]
     },
     "execution_count": 13,
     "metadata": {},
     "output_type": "execute_result"
    }
   ],
   "source": [
    "metric_manager_callback.meters['accuracy'].get_data()"
   ]
  },
  {
   "cell_type": "code",
   "execution_count": 14,
   "id": "4e893eff",
   "metadata": {},
   "outputs": [
    {
     "data": {
      "text/plain": [
       "0.9085274492422579"
      ]
     },
     "execution_count": 14,
     "metadata": {},
     "output_type": "execute_result"
    }
   ],
   "source": [
    "np.mean(metric_manager_callback.meters['accuracy'].compute_overall())"
   ]
  },
  {
   "cell_type": "code",
   "execution_count": 15,
   "id": "b82bd073",
   "metadata": {},
   "outputs": [
    {
     "data": {
      "text/plain": [
       "[0.007, 0.107, 0.141, 0.166, 0.229]"
      ]
     },
     "execution_count": 15,
     "metadata": {},
     "output_type": "execute_result"
    }
   ],
   "source": [
    "[np.round(x, 3) for x in metric_manager_callback.meters['EO'].compute_overall()]"
   ]
  },
  {
   "cell_type": "code",
   "execution_count": 16,
   "id": "4a7973e4",
   "metadata": {},
   "outputs": [
    {
     "data": {
      "text/plain": [
       "0.13011964420023836"
      ]
     },
     "execution_count": 16,
     "metadata": {},
     "output_type": "execute_result"
    }
   ],
   "source": [
    "np.mean(metric_manager_callback.meters['EO'].compute_overall())"
   ]
  },
  {
   "cell_type": "code",
   "execution_count": 17,
   "id": "5196d155",
   "metadata": {},
   "outputs": [
    {
     "data": {
      "text/plain": [
       "[0.015, 0.005, 0.004, 0.004, 0.003]"
      ]
     },
     "execution_count": 17,
     "metadata": {},
     "output_type": "execute_result"
    }
   ],
   "source": [
    "[np.round(x, 3) for x in metric_manager_callback.meters['DP'].compute_overall()]"
   ]
  },
  {
   "cell_type": "code",
   "execution_count": 18,
   "id": "26e94bfa",
   "metadata": {},
   "outputs": [
    {
     "data": {
      "text/plain": [
       "0.0062905064140212925"
      ]
     },
     "execution_count": 18,
     "metadata": {},
     "output_type": "execute_result"
    }
   ],
   "source": [
    "np.mean(metric_manager_callback.meters['DP'].compute_overall())"
   ]
  },
  {
   "cell_type": "code",
   "execution_count": 19,
   "id": "61271a48",
   "metadata": {},
   "outputs": [
    {
     "name": "stdout",
     "output_type": "stream",
     "text": [
      "task_id=2\n",
      "sensitive samples / all samples = 568 / 12089\n",
      "sensitive samples / selected samples = 568 / 12089\n"
     ]
    }
   ],
   "source": [
    "task_id = 2\n",
    "\n",
    "print(f\"{task_id=}\")\n",
    "print(f\"sensitive samples / all samples = {(benchmark.trains[task_id].sensitives != benchmark.trains[task_id].targets).sum().item()} / {benchmark.trains[task_id].sensitives.shape[0]}\")\n",
    "\n",
    "updated_seq_indices = benchmark.seq_indices_train[task_id]\n",
    "print(f\"sensitive samples / selected samples = {(benchmark.trains[task_id].sensitives[updated_seq_indices] != benchmark.trains[task_id].targets[updated_seq_indices]).sum().item()} / {len(updated_seq_indices)}\")\n"
   ]
  },
  {
   "cell_type": "code",
   "execution_count": 20,
   "id": "b32febda",
   "metadata": {},
   "outputs": [
    {
     "name": "stdout",
     "output_type": "stream",
     "text": [
      "incremental_step=2\n",
      "2 : 5958 --> 5958\n",
      "3 : 6131 --> 6131\n",
      "incremental_step=3\n",
      "4 : 5842 --> 5842\n",
      "5 : 5421 --> 5421\n",
      "incremental_step=4\n",
      "6 : 5918 --> 5918\n",
      "7 : 6265 --> 6265\n",
      "incremental_step=5\n",
      "8 : 5851 --> 5851\n",
      "9 : 5949 --> 5949\n"
     ]
    }
   ],
   "source": [
    "step_class = 2\n",
    "for i in range(2, 6):\n",
    "    incremental_step = i\n",
    "    print(f\"{incremental_step=}\")\n",
    "    one_idx = benchmark.trains[incremental_step].sample_weight > 0.9\n",
    "\n",
    "    print(f\"{2*i-2} : {(benchmark.trains[incremental_step].targets == (2*i-2)).sum().item()} --> {(benchmark.trains[incremental_step].targets[one_idx] == (2*i-2)).sum().item()}\")\n",
    "    print(f\"{2*i-1} : {(benchmark.trains[incremental_step].targets == (2*i-1)).sum().item()} --> {(benchmark.trains[incremental_step].targets[one_idx] == (2*i-1)).sum().item()}\")\n"
   ]
  },
  {
   "cell_type": "code",
   "execution_count": 21,
   "id": "f6233f9b",
   "metadata": {},
   "outputs": [
    {
     "data": {
      "text/plain": [
       "[{0: array([976, 980]), 1: array([1132, 1135])},\n",
       " {0: array([912, 980]),\n",
       "  1: array([1105, 1135]),\n",
       "  3: array([ 949, 1010]),\n",
       "  2: array([ 945, 1032])},\n",
       " {1: array([1094, 1135]),\n",
       "  0: array([880, 980]),\n",
       "  2: array([ 900, 1032]),\n",
       "  3: array([ 845, 1010]),\n",
       "  5: array([774, 892]),\n",
       "  4: array([950, 982])},\n",
       " {1: array([1034, 1135]),\n",
       "  0: array([853, 980]),\n",
       "  3: array([ 806, 1010]),\n",
       "  2: array([ 850, 1032]),\n",
       "  5: array([707, 892]),\n",
       "  4: array([860, 982]),\n",
       "  7: array([ 981, 1028]),\n",
       "  6: array([892, 958])},\n",
       " {1: array([1031, 1135]),\n",
       "  0: array([817, 980]),\n",
       "  3: array([ 713, 1010]),\n",
       "  2: array([ 813, 1032]),\n",
       "  4: array([786, 982]),\n",
       "  5: array([659, 892]),\n",
       "  6: array([866, 958]),\n",
       "  7: array([ 908, 1028]),\n",
       "  9: array([ 867, 1009]),\n",
       "  8: array([910, 974])}]"
      ]
     },
     "execution_count": 21,
     "metadata": {},
     "output_type": "execute_result"
    }
   ],
   "source": [
    "metric_manager_callback.meters['classwise_accuracy'].get_data()"
   ]
  },
  {
   "cell_type": "code",
   "execution_count": null,
   "id": "21212733",
   "metadata": {},
   "outputs": [],
   "source": []
  },
  {
   "cell_type": "code",
   "execution_count": null,
   "id": "2088139f",
   "metadata": {},
   "outputs": [],
   "source": []
  }
 ],
 "metadata": {
  "kernelspec": {
   "display_name": "cil",
   "language": "python",
   "name": "python3"
  },
  "language_info": {
   "codemirror_mode": {
    "name": "ipython",
    "version": 3
   },
   "file_extension": ".py",
   "mimetype": "text/x-python",
   "name": "python",
   "nbconvert_exporter": "python",
   "pygments_lexer": "ipython3",
   "version": "3.9.18"
  }
 },
 "nbformat": 4,
 "nbformat_minor": 5
}
