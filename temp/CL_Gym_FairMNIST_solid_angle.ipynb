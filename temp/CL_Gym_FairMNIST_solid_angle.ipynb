{
  "cells": [
    {
      "cell_type": "markdown",
      "metadata": {
        "id": "asNHiu3VMV0m"
      },
      "source": [
        "## CL-Gym Example: Stable A-GEM on Rotated MNIST\n",
        "\n",
        "In this example, we use Averaged Gradient Episodic Memory (A-GEM) to train on Rotated MNIST benchmark. We use the stable version of [AGEM](https://arxiv.org/abs/1812.00420.pdf) using [Stable SGD](https://proceedings.neurips.cc/paper/2020/file/518a38cc9a0173d0b2dc088166981cf8-Paper.pdf) parameters."
      ]
    },
    {
      "cell_type": "markdown",
      "metadata": {
        "id": "dkkjxEZcNf9o"
      },
      "source": [
        "## 1. Defining Parameters\n",
        "First, we need to define our parameters/config for our experiment.\n",
        "We define all our parameters inside a python dictionary. The parameters define different aspects of continual learning examples. For example:\n",
        "-  How many tasks should we learn?\n",
        "-  What our batch-size will be?\n",
        "-  What Optimizer will we use?\n",
        "-  Where should we store our outputs?"
      ]
    },
    {
      "cell_type": "code",
      "execution_count": 1,
      "metadata": {
        "id": "sqM1kbU8xfFC"
      },
      "outputs": [],
      "source": [
        "import torch\n",
        "import numpy as np\n",
        "import cl_gym as cl\n",
        "# first let's create params/config for our experiment\n",
        "noise = 0.05\n",
        "\n",
        "def make_params() -> dict:\n",
        "    import os\n",
        "    from pathlib import Path\n",
        "    import uuid\n",
        "\n",
        "    params = {\n",
        "            # benchmark\n",
        "            'seed': 1,\n",
        "            'num_tasks': 5,\n",
        "            'epochs_per_task': 5,\n",
        "            'per_task_memory_examples': 50,\n",
        "            'batch_size_train': 64,\n",
        "            'batch_size_memory': 200,\n",
        "            'batch_size_validation': 256,\n",
        "\n",
        "            # algorithm\n",
        "            'optimizer': 'SGD',\n",
        "            'learning_rate': 0.01,\n",
        "            'momentum': 0.8,\n",
        "            'learning_rate_decay': 1.0,\n",
        "            'criterion': torch.nn.CrossEntropyLoss(),\n",
        "            'device': torch.device('cuda' if torch.cuda.is_available() else 'cpu'), }\n",
        "\n",
        "#     trial_id = str(uuid.uuid4())\n",
        "    trial_id = f\"seed={params['seed']}_epoch={params['epochs_per_task']}_{noise=}__\"\n",
        "    params['trial_id'] = trial_id\n",
        "    params['output_dir'] = os.path.join(\"./outputs/{}\".format(trial_id))\n",
        "    print(f\"output_dir={params['output_dir']}\")\n",
        "    Path(params['output_dir']).mkdir(parents=True, exist_ok=True)\n",
        "\n",
        "    return params"
      ]
    },
    {
      "cell_type": "markdown",
      "metadata": {
        "id": "oHxYEiSkONpn"
      },
      "source": [
        "## 2. Training our continual learning algorithm\n",
        "\n",
        "Before seeing the code, let's explain the components one more time:\n",
        "### 2.1 Benchmark\n",
        "* We use the `RotatedMNIST` benchmark for this example. The benchmark includes gradual rotations of MNIST digits for each task. Something like this.\n",
        "<div>\n",
        "<img src=\"https://user-images.githubusercontent.com/8312051/122752221-845a0300-d245-11eb-8892-7c4119ffe1a5.png\" width=\"300\"/>\n",
        "</div>\n",
        "\n",
        "In CL-Gym we use RotatedMNIST as follows:\n",
        "```python\n",
        "benchmark = cl.benchmarks.RotatedMNIST(num_tasks=5)\n",
        "```\n",
        "---------\n",
        "\n",
        "### 2.2 Backbone\n",
        "\n",
        "* We use a MLP model with two hidden layers like this:\n",
        "<div>\n",
        "<img src=\"https://user-images.githubusercontent.com/8312051/122753641-67beca80-d247-11eb-87d3-dec5cc2e63d6.png\" width=\"300\"/>\n",
        "</div>\n",
        "\n",
        "To import our backbone, we use:\n",
        "```python\n",
        "backbone = cl.backbones.MLP2Layers(input_dim=784, hidden_dim_1=100, hidden_dim_2=100, output_dim=10)\n",
        "```\n",
        "\n",
        "You can also create your own PyTorch models. The backbone in CL-Gym is simply a lightweight wrapper around PyTorch's ``nn.Module``.\n",
        "\n",
        "--------\n",
        "\n",
        "### 2.3 Collecting metrics with Callbacks\n",
        "\n",
        "The `MetricCollector` callback evaluates the model at the end of each epoch, logs the metrics, plots the accuraies to file, and stores the validation accuracies as numpy arrays to file (see outputs folder).\n",
        "```python\n",
        "metric_callback = cl.callbacks.MetricCollecto(num_tasks=5,\n",
        "                                              eval_interval='epoch',\n",
        "                                              epochs_per_task=1)\n",
        "```\n",
        "\n",
        "-------\n",
        "\n",
        "### 2.4  Using off-the-shelf continual learning algorithms\n",
        "\n",
        "CL-Gym includes several continual learning algorithms. Here we use A-GEM algorithm with better parameters than the original paper:\n",
        "\n",
        "```python\n",
        "cl.algorithms.AGEM(backbone, benchmark, params)\n",
        "```\n",
        "\n",
        "You can also use other algorithms. For example, for Experience Replay method, you can use:\n",
        "```python\n",
        "cl.algorithms.ERRingBuffer(backbone, benchmark, params)\n",
        "```\n",
        "\n",
        "\n",
        "-------\n",
        "\n",
        "### 2.5 Gluing everything together with the Trainer\n",
        "\n",
        "The `Trainer` will orchestrate the experiment by handling the non-research part of continual learning experiments.\n",
        "\n",
        "```\n",
        "trainer = cl.trainer.ContinualTrainer(algorithm, params, callbacks=[metric_manager_callback])\n",
        "```\n",
        "\n",
        "\n",
        "The code below implements this note:"
      ]
    },
    {
      "cell_type": "code",
      "execution_count": 2,
      "metadata": {
        "colab": {
          "background_save": true,
          "base_uri": "https://localhost:8080/"
        },
        "id": "NFLqD58bhJRf",
        "outputId": "a34cc040-4c26-4d0e-87e5-36bf4a005aff"
      },
      "outputs": [
        {
          "name": "stdout",
          "output_type": "stream",
          "text": [
            "output_dir=./outputs/seed=1_epoch=5_noise=0.05__\n"
          ]
        }
      ],
      "source": [
        "from datasets.FairMNIST import NoiseMNIST\n",
        "from trainers.FairContinualTrainer import FairContinualTrainer\n",
        "\n",
        "params = make_params()\n",
        "benchmark = NoiseMNIST(num_tasks=params['num_tasks'], noise_size=noise,\n",
        "# benchmark = cl.benchmarks.SplitMNIST(num_tasks=params['num_tasks'],\n",
        "                                        per_task_memory_examples=params['per_task_memory_examples'])\n",
        "# backbone: MLP with 2 hidden layers\n",
        "backbone = cl.backbones.MLP2Layers(input_dim=784, hidden_dim_1=32, hidden_dim_2=32, output_dim=10)"
      ]
    },
    {
      "cell_type": "code",
      "execution_count": 3,
      "metadata": {},
      "outputs": [],
      "source": [
        "from torch.utils.data import DataLoader, Dataset, Subset, ConcatDataset\n",
        "\n",
        "\"\"\"\n",
        "Need to modify self.memory_indices_train/test[task] depends on selection based on certain criteria\n",
        "After every training task ends, load_memory_joint() is called\n",
        "self: benchmark\n",
        "Original selection code:\n",
        "    def load_memory_joint(self,\n",
        "                          task: int,\n",
        "                          batch_size: int,\n",
        "                          shuffle: Optional[bool] = True,\n",
        "                          num_workers: Optional[int] = 0,\n",
        "                          pin_memory: Optional[bool] = True) -> Tuple[DataLoader, DataLoader]:\n",
        "        if task > self.num_tasks:\n",
        "            raise ValueError(f\"Asked to load memory of task={task} but the benchmark has {self.num_tasks} tasks\")\n",
        "        trains, tests = [], []\n",
        "        for t in range(1, task + 1):\n",
        "            train_indices = self.memory_indices_train[t]\n",
        "            test_indices = self.memory_indices_test[t]\n",
        "            train_dataset = Subset(self.trains[t], train_indices)\n",
        "            test_dataset = Subset(self.tests[t], test_indices)\n",
        "            trains.append(train_dataset)\n",
        "            tests.append(test_dataset)\n",
        "    \n",
        "        trains, tests = ConcatDataset(trains), ConcatDataset(tests)\n",
        "        train_loader = DataLoader(trains, batch_size, shuffle, num_workers=num_workers, pin_memory=pin_memory)\n",
        "        test_loader = DataLoader(tests, batch_size, shuffle, num_workers=num_workers, pin_memory=pin_memory)\n",
        "        print(f\"{len(train_loader.dataset)=}\")\n",
        "        return train_loader, test_loader\n",
        "\"\"\"\n"
      ]
    },
    {
      "cell_type": "code",
      "execution_count": 4,
      "metadata": {},
      "outputs": [
        {
          "name": "stdout",
          "output_type": "stream",
          "text": [
            "---------------------------- Task 1 -----------------------\n",
            "[1] Eval metrics for task 1 >> {'accuracy': 99.90543735224587, 'loss': 1.4620482119077698e-05}\n",
            "[2] Eval metrics for task 1 >> {'accuracy': 99.90543735224587, 'loss': 2.6831826818204236e-05}\n",
            "[3] Eval metrics for task 1 >> {'accuracy': 99.90543735224587, 'loss': 9.386498375353239e-06}\n",
            "[4] Eval metrics for task 1 >> {'accuracy': 99.90543735224587, 'loss': 8.340675738006037e-06}\n",
            "[5] Eval metrics for task 1 >> {'accuracy': 99.90543735224587, 'loss': 9.86764429029227e-06}\n",
            "training_task_end\n",
            "### modified_load_memory_joint called ###\n"
          ]
        },
        {
          "ename": "NameError",
          "evalue": "name 'self' is not defined",
          "output_type": "error",
          "traceback": [
            "\u001b[0;31m---------------------------------------------------------------------------\u001b[0m",
            "\u001b[0;31mNameError\u001b[0m                                 Traceback (most recent call last)",
            "\u001b[1;32m/home/jaeyoung/nas/cl_gym/CL_Gym_FairMNIST_solid_angle.ipynb Cell 7\u001b[0m line \u001b[0;36m1\n\u001b[1;32m     <a href='vscode-notebook-cell://ssh-remote%2Bdi5.kaist.ac.kr/home/jaeyoung/nas/cl_gym/CL_Gym_FairMNIST_solid_angle.ipynb#W5sdnNjb2RlLXJlbW90ZQ%3D%3D?line=12'>13</a>\u001b[0m \u001b[39m# Make trainer\u001b[39;00m\n\u001b[1;32m     <a href='vscode-notebook-cell://ssh-remote%2Bdi5.kaist.ac.kr/home/jaeyoung/nas/cl_gym/CL_Gym_FairMNIST_solid_angle.ipynb#W5sdnNjb2RlLXJlbW90ZQ%3D%3D?line=13'>14</a>\u001b[0m trainer \u001b[39m=\u001b[39m FairContinualTrainer(algorithm, params, callbacks\u001b[39m=\u001b[39m[metric_manager_callback])\n\u001b[0;32m---> <a href='vscode-notebook-cell://ssh-remote%2Bdi5.kaist.ac.kr/home/jaeyoung/nas/cl_gym/CL_Gym_FairMNIST_solid_angle.ipynb#W5sdnNjb2RlLXJlbW90ZQ%3D%3D?line=15'>16</a>\u001b[0m trainer\u001b[39m.\u001b[39;49mrun()\n\u001b[1;32m     <a href='vscode-notebook-cell://ssh-remote%2Bdi5.kaist.ac.kr/home/jaeyoung/nas/cl_gym/CL_Gym_FairMNIST_solid_angle.ipynb#W5sdnNjb2RlLXJlbW90ZQ%3D%3D?line=16'>17</a>\u001b[0m \u001b[39mprint\u001b[39m(\u001b[39m\"\u001b[39m\u001b[39mfinal avg-acc\u001b[39m\u001b[39m\"\u001b[39m, metric_manager_callback\u001b[39m.\u001b[39mmeters[\u001b[39m'\u001b[39m\u001b[39maccuracy\u001b[39m\u001b[39m'\u001b[39m]\u001b[39m.\u001b[39mcompute_final())\n\u001b[1;32m     <a href='vscode-notebook-cell://ssh-remote%2Bdi5.kaist.ac.kr/home/jaeyoung/nas/cl_gym/CL_Gym_FairMNIST_solid_angle.ipynb#W5sdnNjb2RlLXJlbW90ZQ%3D%3D?line=17'>18</a>\u001b[0m \u001b[39mprint\u001b[39m(\u001b[39m\"\u001b[39m\u001b[39mfinal avg-forget\u001b[39m\u001b[39m\"\u001b[39m, metric_manager_callback\u001b[39m.\u001b[39mmeters[\u001b[39m'\u001b[39m\u001b[39mforgetting\u001b[39m\u001b[39m'\u001b[39m]\u001b[39m.\u001b[39mcompute_final())\n",
            "File \u001b[0;32m~/anaconda3/envs/cil/lib/python3.9/site-packages/cl_gym/trainer/base.py:105\u001b[0m, in \u001b[0;36mContinualTrainer.run\u001b[0;34m(self)\u001b[0m\n\u001b[1;32m    103\u001b[0m \u001b[39mself\u001b[39m\u001b[39m.\u001b[39m_run_setup()\n\u001b[1;32m    104\u001b[0m \u001b[39m# fit: main training loop\u001b[39;00m\n\u001b[0;32m--> 105\u001b[0m \u001b[39mself\u001b[39;49m\u001b[39m.\u001b[39;49m_run_fit()\n\u001b[1;32m    106\u001b[0m \u001b[39m# teardown\u001b[39;00m\n\u001b[1;32m    107\u001b[0m \u001b[39mself\u001b[39m\u001b[39m.\u001b[39m_run_teardown()\n",
            "File \u001b[0;32m~/anaconda3/envs/cil/lib/python3.9/site-packages/cl_gym/trainer/base.py:93\u001b[0m, in \u001b[0;36mContinualTrainer._run_fit\u001b[0;34m(self)\u001b[0m\n\u001b[1;32m     91\u001b[0m \u001b[39mdef\u001b[39;00m \u001b[39m_run_fit\u001b[39m(\u001b[39mself\u001b[39m):\n\u001b[1;32m     92\u001b[0m     \u001b[39mself\u001b[39m\u001b[39m.\u001b[39mon_before_fit()\n\u001b[0;32m---> 93\u001b[0m     \u001b[39mself\u001b[39;49m\u001b[39m.\u001b[39;49mfit()\n\u001b[1;32m     94\u001b[0m     \u001b[39mself\u001b[39m\u001b[39m.\u001b[39mon_after_fit()\n",
            "File \u001b[0;32m~/anaconda3/envs/cil/lib/python3.9/site-packages/cl_gym/trainer/base.py:83\u001b[0m, in \u001b[0;36mContinualTrainer.fit\u001b[0;34m(self)\u001b[0m\n\u001b[1;32m     81\u001b[0m \u001b[39mself\u001b[39m\u001b[39m.\u001b[39mon_before_training_task()\n\u001b[1;32m     82\u001b[0m \u001b[39mself\u001b[39m\u001b[39m.\u001b[39mtick(\u001b[39m'\u001b[39m\u001b[39mtask\u001b[39m\u001b[39m'\u001b[39m)\n\u001b[0;32m---> 83\u001b[0m \u001b[39mself\u001b[39;49m\u001b[39m.\u001b[39;49mtrain_algorithm_on_task(task)\n\u001b[1;32m     84\u001b[0m \u001b[39mself\u001b[39m\u001b[39m.\u001b[39mon_after_training_task()\n",
            "File \u001b[0;32m/mnt/shared/jaeyoung/cl_gym/trainers/FairContinualTrainer.py:36\u001b[0m, in \u001b[0;36mFairContinualTrainer.train_algorithm_on_task\u001b[0;34m(self, task)\u001b[0m\n\u001b[1;32m     34\u001b[0m     \u001b[39mself\u001b[39m\u001b[39m.\u001b[39malgorithm\u001b[39m.\u001b[39mtraining_epoch_end()\n\u001b[1;32m     35\u001b[0m     \u001b[39mself\u001b[39m\u001b[39m.\u001b[39mon_after_training_epoch()\n\u001b[0;32m---> 36\u001b[0m \u001b[39mself\u001b[39;49m\u001b[39m.\u001b[39;49malgorithm\u001b[39m.\u001b[39;49mtraining_task_end()\n",
            "File \u001b[0;32m/mnt/shared/jaeyoung/cl_gym/algorithms/heuristic.py:73\u001b[0m, in \u001b[0;36mHeuristic1.training_task_end\u001b[0;34m(self)\u001b[0m\n\u001b[1;32m     71\u001b[0m \u001b[39mprint\u001b[39m(\u001b[39m\"\u001b[39m\u001b[39mtraining_task_end\u001b[39m\u001b[39m\"\u001b[39m)\n\u001b[1;32m     72\u001b[0m \u001b[39mif\u001b[39;00m \u001b[39mself\u001b[39m\u001b[39m.\u001b[39mrequires_memory:\n\u001b[0;32m---> 73\u001b[0m     \u001b[39mself\u001b[39;49m\u001b[39m.\u001b[39;49mupdate_episodic_memory()\n\u001b[1;32m     74\u001b[0m \u001b[39mself\u001b[39m\u001b[39m.\u001b[39mcurrent_task \u001b[39m+\u001b[39m\u001b[39m=\u001b[39m \u001b[39m1\u001b[39m\n",
            "File \u001b[0;32m/mnt/shared/jaeyoung/cl_gym/algorithms/heuristic.py:28\u001b[0m, in \u001b[0;36mHeuristic1.update_episodic_memory\u001b[0;34m(self)\u001b[0m\n\u001b[1;32m     27\u001b[0m \u001b[39mdef\u001b[39;00m \u001b[39mupdate_episodic_memory\u001b[39m(\u001b[39mself\u001b[39m):\n\u001b[0;32m---> 28\u001b[0m     \u001b[39mself\u001b[39m\u001b[39m.\u001b[39mepisodic_memory_loader, _ \u001b[39m=\u001b[39m \u001b[39mself\u001b[39;49m\u001b[39m.\u001b[39;49mbenchmark\u001b[39m.\u001b[39;49mload_memory_joint(\u001b[39mself\u001b[39;49m\u001b[39m.\u001b[39;49mcurrent_task,\n\u001b[1;32m     29\u001b[0m                                                                       batch_size\u001b[39m=\u001b[39;49m\u001b[39mself\u001b[39;49m\u001b[39m.\u001b[39;49mparams[\u001b[39m'\u001b[39;49m\u001b[39mbatch_size_memory\u001b[39;49m\u001b[39m'\u001b[39;49m],\n\u001b[1;32m     30\u001b[0m                                                                       shuffle\u001b[39m=\u001b[39;49m\u001b[39mTrue\u001b[39;49;00m,\n\u001b[1;32m     31\u001b[0m                                                                       pin_memory\u001b[39m=\u001b[39;49m\u001b[39mTrue\u001b[39;49;00m)\n\u001b[1;32m     32\u001b[0m     \u001b[39mself\u001b[39m\u001b[39m.\u001b[39mepisodic_memory_iter \u001b[39m=\u001b[39m \u001b[39miter\u001b[39m(\u001b[39mself\u001b[39m\u001b[39m.\u001b[39mepisodic_memory_loader)\n",
            "\u001b[1;32m/home/jaeyoung/nas/cl_gym/CL_Gym_FairMNIST_solid_angle.ipynb Cell 7\u001b[0m line \u001b[0;36m3\n\u001b[1;32m     <a href='vscode-notebook-cell://ssh-remote%2Bdi5.kaist.ac.kr/home/jaeyoung/nas/cl_gym/CL_Gym_FairMNIST_solid_angle.ipynb#W5sdnNjb2RlLXJlbW90ZQ%3D%3D?line=30'>31</a>\u001b[0m \u001b[39mdef\u001b[39;00m \u001b[39mmodified_load_memory_joint\u001b[39m(\n\u001b[1;32m     <a href='vscode-notebook-cell://ssh-remote%2Bdi5.kaist.ac.kr/home/jaeyoung/nas/cl_gym/CL_Gym_FairMNIST_solid_angle.ipynb#W5sdnNjb2RlLXJlbW90ZQ%3D%3D?line=31'>32</a>\u001b[0m                         task: \u001b[39mint\u001b[39m,\n\u001b[1;32m     <a href='vscode-notebook-cell://ssh-remote%2Bdi5.kaist.ac.kr/home/jaeyoung/nas/cl_gym/CL_Gym_FairMNIST_solid_angle.ipynb#W5sdnNjb2RlLXJlbW90ZQ%3D%3D?line=32'>33</a>\u001b[0m                         batch_size: \u001b[39mint\u001b[39m,\n\u001b[1;32m     <a href='vscode-notebook-cell://ssh-remote%2Bdi5.kaist.ac.kr/home/jaeyoung/nas/cl_gym/CL_Gym_FairMNIST_solid_angle.ipynb#W5sdnNjb2RlLXJlbW90ZQ%3D%3D?line=33'>34</a>\u001b[0m                         shuffle \u001b[39m=\u001b[39m \u001b[39mTrue\u001b[39;00m,\n\u001b[1;32m     <a href='vscode-notebook-cell://ssh-remote%2Bdi5.kaist.ac.kr/home/jaeyoung/nas/cl_gym/CL_Gym_FairMNIST_solid_angle.ipynb#W5sdnNjb2RlLXJlbW90ZQ%3D%3D?line=34'>35</a>\u001b[0m                         num_workers \u001b[39m=\u001b[39m \u001b[39m0\u001b[39m,\n\u001b[1;32m     <a href='vscode-notebook-cell://ssh-remote%2Bdi5.kaist.ac.kr/home/jaeyoung/nas/cl_gym/CL_Gym_FairMNIST_solid_angle.ipynb#W5sdnNjb2RlLXJlbW90ZQ%3D%3D?line=35'>36</a>\u001b[0m                         pin_memory \u001b[39m=\u001b[39m \u001b[39mTrue\u001b[39;00m):\n\u001b[1;32m     <a href='vscode-notebook-cell://ssh-remote%2Bdi5.kaist.ac.kr/home/jaeyoung/nas/cl_gym/CL_Gym_FairMNIST_solid_angle.ipynb#W5sdnNjb2RlLXJlbW90ZQ%3D%3D?line=36'>37</a>\u001b[0m     \u001b[39mprint\u001b[39m(\u001b[39m\"\u001b[39m\u001b[39m### modified_load_memory_joint called ###\u001b[39m\u001b[39m\"\u001b[39m)\n\u001b[0;32m---> <a href='vscode-notebook-cell://ssh-remote%2Bdi5.kaist.ac.kr/home/jaeyoung/nas/cl_gym/CL_Gym_FairMNIST_solid_angle.ipynb#W5sdnNjb2RlLXJlbW90ZQ%3D%3D?line=37'>38</a>\u001b[0m     \u001b[39mif\u001b[39;00m task \u001b[39m>\u001b[39m \u001b[39mself\u001b[39;49m\u001b[39m.\u001b[39mnum_tasks:\n\u001b[1;32m     <a href='vscode-notebook-cell://ssh-remote%2Bdi5.kaist.ac.kr/home/jaeyoung/nas/cl_gym/CL_Gym_FairMNIST_solid_angle.ipynb#W5sdnNjb2RlLXJlbW90ZQ%3D%3D?line=38'>39</a>\u001b[0m         \u001b[39mraise\u001b[39;00m \u001b[39mValueError\u001b[39;00m(\u001b[39mf\u001b[39m\u001b[39m\"\u001b[39m\u001b[39mAsked to load memory of task=\u001b[39m\u001b[39m{\u001b[39;00mtask\u001b[39m}\u001b[39;00m\u001b[39m but the benchmark has \u001b[39m\u001b[39m{\u001b[39;00m\u001b[39mself\u001b[39m\u001b[39m.\u001b[39mnum_tasks\u001b[39m}\u001b[39;00m\u001b[39m tasks\u001b[39m\u001b[39m\"\u001b[39m)\n\u001b[1;32m     <a href='vscode-notebook-cell://ssh-remote%2Bdi5.kaist.ac.kr/home/jaeyoung/nas/cl_gym/CL_Gym_FairMNIST_solid_angle.ipynb#W5sdnNjb2RlLXJlbW90ZQ%3D%3D?line=39'>40</a>\u001b[0m     trains, tests \u001b[39m=\u001b[39m [], []\n",
            "\u001b[0;31mNameError\u001b[0m: name 'self' is not defined"
          ]
        }
      ],
      "source": [
        "# Algorithm: A-GEM\n",
        "# algorithm = cl.algorithms.AGEM(backbone, benchmark, params)\n",
        "from algorithms.heuristic import Heuristic1\n",
        "\n",
        "algorithm = Heuristic1(backbone, benchmark, params)\n",
        "# algorithm = cl.algorithms.ERRingBuffer(backbone, benchmark, params)\n",
        "\n",
        "# Callbacks\n",
        "metric_manager_callback = cl.callbacks.MetricCollector(num_tasks=params['num_tasks'],\n",
        "                                                        eval_interval='epoch',\n",
        "                                                        epochs_per_task=params['epochs_per_task'])\n",
        "\n",
        "# Make trainer\n",
        "trainer = FairContinualTrainer(algorithm, params, callbacks=[metric_manager_callback])\n",
        "\n",
        "trainer.run()\n",
        "print(\"final avg-acc\", metric_manager_callback.meters['accuracy'].compute_final())\n",
        "print(\"final avg-forget\", metric_manager_callback.meters['forgetting'].compute_final())\n"
      ]
    },
    {
      "cell_type": "code",
      "execution_count": null,
      "metadata": {},
      "outputs": [],
      "source": []
    },
    {
      "cell_type": "code",
      "execution_count": null,
      "metadata": {},
      "outputs": [],
      "source": []
    },
    {
      "cell_type": "code",
      "execution_count": null,
      "metadata": {},
      "outputs": [],
      "source": []
    },
    {
      "cell_type": "code",
      "execution_count": 5,
      "metadata": {},
      "outputs": [
        {
          "ename": "SyntaxError",
          "evalue": "invalid syntax (3563006957.py, line 1)",
          "output_type": "error",
          "traceback": [
            "\u001b[0;36m  Cell \u001b[0;32mIn[5], line 1\u001b[0;36m\u001b[0m\n\u001b[0;31m    0:\u001b[0m\n\u001b[0m       ^\u001b[0m\n\u001b[0;31mSyntaxError\u001b[0m\u001b[0;31m:\u001b[0m invalid syntax\n"
          ]
        }
      ],
      "source": [
        "0: \n",
        "[100] Eval metrics for task 1 >> {'accuracy': 62.174940898345156, 'loss': 0.0055100416460781235}\n",
        "[100] Eval metrics for task 2 >> {'accuracy': 22.18413320274241, 'loss': 0.014497039016850665}\n",
        "[100] Eval metrics for task 3 >> {'accuracy': 16.542155816435432, 'loss': 0.02120432299000222}\n",
        "[100] Eval metrics for task 4 >> {'accuracy': 32.32628398791541, 'loss': 0.01416884592292532}\n",
        "[100] Eval metrics for task 5 >> {'accuracy': 99.44528492183561, 'loss': 5.864381270724538e-05}\n",
        "final avg-acc 46.53455976545481\n",
        "final avg-forget 66.42999716205054\n",
        "\n",
        "\n",
        "\n",
        "0.2: final avg-acc 76.14613653468083\n",
        "[25] Eval metrics for task 1 >> {'accuracy': 85.34278959810875, 'loss': 0.003105571563080411}\n",
        "[25] Eval metrics for task 2 >> {'accuracy': 57.14985308521058, 'loss': 0.011534252199440114}\n",
        "[25] Eval metrics for task 3 >> {'accuracy': 59.338313767342584, 'loss': 0.00836346536206843}\n",
        "[25] Eval metrics for task 4 >> {'accuracy': 80.61430010070494, 'loss': 0.0030969298498147923}\n",
        "[25] Eval metrics for task 5 >> {'accuracy': 98.28542612203732, 'loss': 0.00018785794726298183}\n",
        "\n",
        "\n",
        "0.5: final avg-acc 75.44106967096454\n",
        "[25] Eval metrics for task 1 >> {'accuracy': 86.80851063829788, 'loss': 0.002922968097894186}\n",
        "[25] Eval metrics for task 2 >> {'accuracy': 55.72967678746327, 'loss': 0.01418125139044034}\n",
        "[25] Eval metrics for task 3 >> {'accuracy': 58.53788687299893, 'loss': 0.010533042753009939}\n",
        "[25] Eval metrics for task 4 >> {'accuracy': 78.54984894259819, 'loss': 0.0037077458243355652}\n",
        "[25] Eval metrics for task 5 >> {'accuracy': 97.57942511346445, 'loss': 0.00022127172912964603}\n",
        "\n",
        "\n",
        "1.0: final avg-acc 76.64854615056723\n",
        "[25] Eval metrics for task 1 >> {'accuracy': 84.86997635933807, 'loss': 0.0036403921479029014}\n",
        "[25] Eval metrics for task 2 >> {'accuracy': 60.72477962781587, 'loss': 0.012811364319602376}\n",
        "[25] Eval metrics for task 3 >> {'accuracy': 58.69797225186766, 'loss': 0.011527608781893963}\n",
        "[25] Eval metrics for task 4 >> {'accuracy': 80.71500503524673, 'loss': 0.0035492324637022145}\n",
        "[25] Eval metrics for task 5 >> {'accuracy': 98.23499747856782, 'loss': 0.00019328417355101696}\n"
      ]
    },
    {
      "cell_type": "code",
      "execution_count": null,
      "metadata": {},
      "outputs": [],
      "source": []
    },
    {
      "cell_type": "code",
      "execution_count": null,
      "metadata": {},
      "outputs": [],
      "source": [
        "0 --> 72\n",
        "\n",
        "\n",
        "0.00 --> 59\n",
        "0.02 --> 57\n",
        "0.05 --> 54\n",
        "0.10 --> 55\n",
        "0.15 --> 43\n",
        "0.20 --> 40\n"
      ]
    },
    {
      "cell_type": "code",
      "execution_count": null,
      "metadata": {},
      "outputs": [],
      "source": [
        "final avg-acc 37.00841712522718\n",
        "final avg-forget 66.60915398117396\n"
      ]
    },
    {
      "cell_type": "code",
      "execution_count": null,
      "metadata": {},
      "outputs": [],
      "source": []
    },
    {
      "cell_type": "code",
      "execution_count": null,
      "metadata": {},
      "outputs": [],
      "source": [
        "import matplotlib.pyplot as plt\n",
        "import torchvision\n",
        "import copy\n",
        "import numpy as np\n",
        "transforms = torchvision.transforms.Compose([\n",
        "    torchvision.transforms.ToTensor(),\n",
        "    torchvision.transforms.Normalize(0.1307, 0.3081),\n",
        "])\n",
        "\n",
        "sensitive_transform = torchvision.transforms.Compose([\n",
        "    torchvision.transforms.RandomRotation([90, 90]),\n",
        "    torchvision.transforms.RandomErasing(p = 1, scale=(0.02, 0.2)),\n",
        "])\n",
        "\n",
        "from datasets.FairMNIST import FairMNIST\n",
        "dir = \"/home/jaeyoung/anaconda3/envs/cl-gym/lib/python3.8/site-packages/cl_gym/data\"\n",
        "train = FairMNIST(dir, train=True, download=True, transform=transforms)\n"
      ]
    },
    {
      "cell_type": "code",
      "execution_count": null,
      "metadata": {},
      "outputs": [
        {
          "name": "stdout",
          "output_type": "stream",
          "text": [
            "[    1     2     4 ... 59996 59998 59999]\n",
            "[0. 1. 1. ... 0. 1. 1.]\n"
          ]
        }
      ],
      "source": [
        "train_len = len(train)\n",
        "train_sensitive_idx = np.sort(np.random.choice(train_len, train_len//2, replace=False))\n",
        "print(train_sensitive_idx)\n",
        "sensitive = np.zeros(train_len)\n",
        "sensitive[train_sensitive_idx] = np.ones_like(train_sensitive_idx)\n",
        "print(sensitive)"
      ]
    },
    {
      "cell_type": "code",
      "execution_count": null,
      "metadata": {},
      "outputs": [
        {
          "data": {
            "text/plain": [
              "torch.Size([30000, 28, 28])"
            ]
          },
          "execution_count": 18,
          "metadata": {},
          "output_type": "execute_result"
        }
      ],
      "source": [
        "def bool2idx(arr):\n",
        "    idx = list()\n",
        "    for i, e in enumerate(arr):\n",
        "        if e == 1:\n",
        "            idx.append(i)\n",
        "    return np.array(idx)\n",
        "train.data[bool2idx(sensitive)].shape"
      ]
    },
    {
      "cell_type": "code",
      "execution_count": null,
      "metadata": {},
      "outputs": [],
      "source": []
    },
    {
      "cell_type": "code",
      "execution_count": null,
      "metadata": {},
      "outputs": [],
      "source": [
        "import matplotlib.pyplot as plt\n",
        "import torchvision\n",
        "import copy\n",
        "\n",
        "transforms = torchvision.transforms.Compose([\n",
        "    torchvision.transforms.ToTensor(),\n",
        "    torchvision.transforms.Normalize(0.1307, 0.3081),\n",
        "])\n",
        "\n",
        "sensitive_transform = torchvision.transforms.Compose([\n",
        "    torchvision.transforms.RandomRotation([90, 90]),\n",
        "    torchvision.transforms.RandomErasing(p = 1, scale=(0.02, 0.1)),\n",
        "])\n"
      ]
    },
    {
      "cell_type": "code",
      "execution_count": null,
      "metadata": {},
      "outputs": [],
      "source": [
        "from cl_gym.benchmarks.utils import DEFAULT_DATASET_DIR\n",
        "from cl_gym.benchmarks.transforms import get_default_mnist_transform\n",
        "mnist_train = torchvision.datasets.MNIST(DEFAULT_DATASET_DIR, train=True, download=True, transform=transforms)\n",
        "original = copy.deepcopy(mnist_train.data)"
      ]
    },
    {
      "cell_type": "code",
      "execution_count": null,
      "metadata": {},
      "outputs": [
        {
          "data": {
            "text/plain": [
              "array([    0,     1,     4, ..., 59996, 59998, 59999])"
            ]
          },
          "execution_count": 14,
          "metadata": {},
          "output_type": "execute_result"
        }
      ],
      "source": [
        "import numpy as np\n",
        "a = np.sort(np.random.choice(len(mnist_train), len(mnist_train)//2, replace=False))\n",
        "a"
      ]
    },
    {
      "cell_type": "code",
      "execution_count": null,
      "metadata": {},
      "outputs": [
        {
          "data": {
            "text/plain": [
              "Text(0.5, 1.0, 'transform')"
            ]
          },
          "execution_count": 20,
          "metadata": {},
          "output_type": "execute_result"
        },
        {
          "data": {
            "image/png": "[encoded data removed]",
            "text/plain": [
              "<Figure size 640x480 with 2 Axes>"
            ]
          },
          "metadata": {},
          "output_type": "display_data"
        }
      ],
      "source": [
        "from torchvision.transforms.functional import to_pil_image\n",
        "from matplotlib import pyplot as plt\n",
        "\n",
        "\n",
        "idx = 12\n",
        "\n",
        "img = original[idx]\n",
        "trans = sensitive_transform(mnist_train.data)[idx]\n",
        "\n",
        "plt.figure()\n",
        "plt.subplot(1,2,1)\n",
        "plt.imshow(to_pil_image(img), cmap='gray')\n",
        "plt.title('original')\n",
        "plt.subplot(1,2,2)\n",
        "plt.imshow(to_pil_image(trans), cmap='gray')\n",
        "plt.title('transform')\n"
      ]
    },
    {
      "cell_type": "code",
      "execution_count": null,
      "metadata": {},
      "outputs": [],
      "source": [
        "def tranform_on_idx(data, idx, transform):\n",
        "    # if len(data) != len(idx):\n",
        "    #     raise ValueError(f\"size of data({len(data)}) and index({len(idx)}) is different\")\n",
        "    transformed = transform(data[idx])\n",
        "    data[idx] = transformed\n",
        "    return data"
      ]
    },
    {
      "cell_type": "code",
      "execution_count": null,
      "metadata": {},
      "outputs": [],
      "source": [
        "data = tranform_on_idx(mnist_train.data, a, sensitive_transform)"
      ]
    },
    {
      "cell_type": "code",
      "execution_count": null,
      "metadata": {},
      "outputs": [
        {
          "data": {
            "text/plain": [
              "Text(0.5, 1.0, 'transform')"
            ]
          },
          "execution_count": 122,
          "metadata": {},
          "output_type": "execute_result"
        },
        {
          "data": {
            "image/png": "[encoded data removed]",
            "text/plain": [
              "<Figure size 640x480 with 2 Axes>"
            ]
          },
          "metadata": {},
          "output_type": "display_data"
        }
      ],
      "source": [
        "from torchvision.transforms.functional import to_pil_image\n",
        "from matplotlib import pyplot as plt\n",
        "\n",
        "\n",
        "idx = 5\n",
        "img = original[idx]\n",
        "trans = data[idx]\n",
        "\n",
        "plt.figure()\n",
        "plt.subplot(1,2,1)\n",
        "plt.imshow(to_pil_image(img), cmap='gray')\n",
        "plt.title('original')\n",
        "plt.subplot(1,2,2)\n",
        "plt.imshow(to_pil_image(trans), cmap='gray')\n",
        "plt.title('transform')\n"
      ]
    },
    {
      "cell_type": "code",
      "execution_count": null,
      "metadata": {},
      "outputs": [],
      "source": []
    }
  ],
  "metadata": {
    "accelerator": "GPU",
    "colab": {
      "provenance": []
    },
    "kernelspec": {
      "display_name": "Python 3",
      "name": "python3"
    },
    "language_info": {
      "codemirror_mode": {
        "name": "ipython",
        "version": 3
      },
      "file_extension": ".py",
      "mimetype": "text/x-python",
      "name": "python",
      "nbconvert_exporter": "python",
      "pygments_lexer": "ipython3",
      "version": "3.9.18"
    }
  },
  "nbformat": 4,
  "nbformat_minor": 0
}
