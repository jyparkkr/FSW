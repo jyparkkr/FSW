{
  "cells": [
    {
      "cell_type": "markdown",
      "metadata": {
        "id": "asNHiu3VMV0m"
      },
      "source": [
        "## CL-Gym Example: Stable A-GEM on Rotated MNIST\n",
        "\n",
        "In this example, we use Averaged Gradient Episodic Memory (A-GEM) to train on Rotated MNIST benchmark. We use the stable version of [AGEM](https://arxiv.org/abs/1812.00420.pdf) using [Stable SGD](https://proceedings.neurips.cc/paper/2020/file/518a38cc9a0173d0b2dc088166981cf8-Paper.pdf) parameters."
      ]
    },
    {
      "cell_type": "markdown",
      "metadata": {
        "id": "dkkjxEZcNf9o"
      },
      "source": [
        "## 1. Defining Parameters\n",
        "First, we need to define our parameters/config for our experiment.\n",
        "We define all our parameters inside a python dictionary. The parameters define different aspects of continual learning examples. For example:\n",
        "-  How many tasks should we learn?\n",
        "-  What our batch-size will be?\n",
        "-  What Optimizer will we use?\n",
        "-  Where should we store our outputs?"
      ]
    },
    {
      "cell_type": "code",
      "execution_count": 1,
      "metadata": {
        "id": "sqM1kbU8xfFC"
      },
      "outputs": [],
      "source": [
        "import torch\n",
        "import cl_gym as cl\n",
        "# first let's create params/config for our experiment\n",
        "\n",
        "def make_params() -> dict:\n",
        "    import os\n",
        "    from pathlib import Path\n",
        "    import uuid\n",
        "\n",
        "    params = {\n",
        "            # benchmark\n",
        "            'num_tasks': 5,\n",
        "            'epochs_per_task': 10,\n",
        "            'per_task_memory_examples': 100,\n",
        "            'batch_size_train': 256,\n",
        "            'batch_size_memory': 32,\n",
        "            'batch_size_validation': 256,\n",
        "\n",
        "            # algorithm\n",
        "            'optimizer': 'SGD',\n",
        "            'learning_rate': 0.01,\n",
        "            'momentum': 0.8,\n",
        "            'learning_rate_decay': 1.0,\n",
        "            'criterion': torch.nn.CrossEntropyLoss(),\n",
        "            'device': torch.device('cuda:3' if torch.cuda.is_available() else 'cpu'), }\n",
        "\n",
        "    trial_id = str(uuid.uuid4())\n",
        "    params['trial_id'] = trial_id\n",
        "    params['output_dir'] = os.path.join(\"./outputs/{}\".format(trial_id))\n",
        "    Path(params['output_dir']).mkdir(parents=True, exist_ok=True)\n",
        "\n",
        "    return params"
      ]
    },
    {
      "cell_type": "markdown",
      "metadata": {
        "id": "oHxYEiSkONpn"
      },
      "source": [
        "## 2. Training our continual learning algorithm\n",
        "\n",
        "Before seeing the code, let's explain the components one more time:\n",
        "### 2.1 Benchmark\n",
        "* We use the `RotatedMNIST` benchmark for this example. The benchmark includes gradual rotations of MNIST digits for each task. Something like this.\n",
        "<div>\n",
        "<img src=\"https://user-images.githubusercontent.com/8312051/122752221-845a0300-d245-11eb-8892-7c4119ffe1a5.png\" width=\"300\"/>\n",
        "</div>\n",
        "\n",
        "In CL-Gym we use RotatedMNIST as follows:\n",
        "```python\n",
        "benchmark = cl.benchmarks.RotatedMNIST(num_tasks=5)\n",
        "```\n",
        "---------\n",
        "\n",
        "### 2.2 Backbone\n",
        "\n",
        "* We use a MLP model with two hidden layers like this:\n",
        "<div>\n",
        "<img src=\"https://user-images.githubusercontent.com/8312051/122753641-67beca80-d247-11eb-87d3-dec5cc2e63d6.png\" width=\"300\"/>\n",
        "</div>\n",
        "\n",
        "To import our backbone, we use:\n",
        "```python\n",
        "backbone = cl.backbones.MLP2Layers(input_dim=784, hidden_dim_1=100, hidden_dim_2=100, output_dim=10)\n",
        "```\n",
        "\n",
        "You can also create your own PyTorch models. The backbone in CL-Gym is simply a lightweight wrapper around PyTorch's ``nn.Module``.\n",
        "\n",
        "--------\n",
        "\n",
        "### 2.3 Collecting metrics with Callbacks\n",
        "\n",
        "The `MetricCollector` callback evaluates the model at the end of each epoch, logs the metrics, plots the accuraies to file, and stores the validation accuracies as numpy arrays to file (see outputs folder).\n",
        "```python\n",
        "metric_callback = cl.callbacks.MetricCollecto(num_tasks=5,\n",
        "                                              eval_interval='epoch',\n",
        "                                              epochs_per_task=1)\n",
        "```\n",
        "\n",
        "-------\n",
        "\n",
        "### 2.4  Using off-the-shelf continual learning algorithms\n",
        "\n",
        "CL-Gym includes several continual learning algorithms. Here we use A-GEM algorithm with better parameters than the original paper:\n",
        "\n",
        "```python\n",
        "cl.algorithms.AGEM(backbone, benchmark, params)\n",
        "```\n",
        "\n",
        "You can also use other algorithms. For example, for Experience Replay method, you can use:\n",
        "```python\n",
        "cl.algorithms.ERRingBuffer(backbone, benchmark, params)\n",
        "```\n",
        "\n",
        "\n",
        "-------\n",
        "\n",
        "### 2.5 Gluing everything together with the Trainer\n",
        "\n",
        "The `Trainer` will orchestrate the experiment by handling the non-research part of continual learning experiments.\n",
        "\n",
        "```\n",
        "trainer = cl.trainer.ContinualTrainer(algorithm, params, callbacks=[metric_manager_callback])\n",
        "```\n",
        "\n",
        "\n",
        "The code below implements this note:"
      ]
    },
    {
      "cell_type": "code",
      "execution_count": 2,
      "metadata": {
        "colab": {
          "background_save": true,
          "base_uri": "https://localhost:8080/"
        },
        "id": "NFLqD58bhJRf",
        "outputId": "a34cc040-4c26-4d0e-87e5-36bf4a005aff"
      },
      "outputs": [
        {
          "name": "stdout",
          "output_type": "stream",
          "text": [
            "Files already downloaded and verified\n",
            "Files already downloaded and verified\n",
            "---------------------------- Task 1 -----------------------\n",
            "[1] Eval metrics for task 1 >> {'accuracy': 87.6, 'loss': 0.001196931228041649}\n",
            "[2] Eval metrics for task 1 >> {'accuracy': 91.6, 'loss': 0.0008618070855736733}\n",
            "[3] Eval metrics for task 1 >> {'accuracy': 92.3, 'loss': 0.0008207528665661812}\n",
            "[4] Eval metrics for task 1 >> {'accuracy': 93.45, 'loss': 0.000662690207362175}\n",
            "[5] Eval metrics for task 1 >> {'accuracy': 92.8, 'loss': 0.000761897012591362}\n",
            "[6] Eval metrics for task 1 >> {'accuracy': 94.0, 'loss': 0.0007129562795162201}\n",
            "[7] Eval metrics for task 1 >> {'accuracy': 93.95, 'loss': 0.0007104967832565307}\n",
            "[8] Eval metrics for task 1 >> {'accuracy': 93.65, 'loss': 0.000730203352868557}\n",
            "[9] Eval metrics for task 1 >> {'accuracy': 94.15, 'loss': 0.0007519370540976524}\n",
            "[10] Eval metrics for task 1 >> {'accuracy': 93.3, 'loss': 0.0008438138812780381}\n",
            "---------------------------- Task 2 -----------------------\n",
            "[11] Eval metrics for task 1 >> {'accuracy': 0.0, 'loss': 1.5608340759277344}\n",
            "[11] Eval metrics for task 2 >> {'accuracy': 0.0, 'loss': 400000020.48}\n",
            "[12] Eval metrics for task 1 >> {'accuracy': 0.0, 'loss': 31.757971435546875}\n",
            "[12] Eval metrics for task 2 >> {'accuracy': 0.0, 'loss': 400000020.48}\n",
            "[13] Eval metrics for task 1 >> {'accuracy': 0.0, 'loss': 975.0232265625}\n",
            "[13] Eval metrics for task 2 >> {'accuracy': 0.0, 'loss': 399999438.848}\n",
            "[14] Eval metrics for task 1 >> {'accuracy': 0.0, 'loss': 36240.144}\n",
            "[14] Eval metrics for task 2 >> {'accuracy': 0.0, 'loss': 399982493.696}\n",
            "[15] Eval metrics for task 1 >> {'accuracy': 0.0, 'loss': 1392556.512}\n",
            "[15] Eval metrics for task 2 >> {'accuracy': 0.0, 'loss': 399324286.976}\n",
            "[16] Eval metrics for task 1 >> {'accuracy': 0.0, 'loss': 53355211.776}\n",
            "[16] Eval metrics for task 2 >> {'accuracy': 0.0, 'loss': 373989167.104}\n",
            "[17] Eval metrics for task 1 >> {'accuracy': 0.0, 'loss': 1676523716.608}\n",
            "[17] Eval metrics for task 2 >> {'accuracy': 0.0, 'loss': 0.006437749147415161}\n",
            "[18] Eval metrics for task 1 >> {'accuracy': 0.0, 'loss': 17235527991.296}\n",
            "[18] Eval metrics for task 2 >> {'accuracy': 0.0, 'loss': 0.006437749147415161}\n",
            "[19] Eval metrics for task 1 >> {'accuracy': 0.0, 'loss': 171157416312.832}\n",
            "[19] Eval metrics for task 2 >> {'accuracy': 0.0, 'loss': 0.006437749147415161}\n",
            "[20] Eval metrics for task 1 >> {'accuracy': 0.0, 'loss': 1697776832348.16}\n",
            "[20] Eval metrics for task 2 >> {'accuracy': 0.0, 'loss': 0.006437749147415161}\n",
            "---------------------------- Task 3 -----------------------\n",
            "[21] Eval metrics for task 1 >> {'accuracy': 0.0, 'loss': 2488153743032.32}\n",
            "[21] Eval metrics for task 2 >> {'accuracy': 0.0, 'loss': 2098737212030.976}\n",
            "[21] Eval metrics for task 3 >> {'accuracy': 0.0, 'loss': 0.009210340142250062}\n",
            "[22] Eval metrics for task 1 >> {'accuracy': 0.0, 'loss': 31878356983087.105}\n",
            "[22] Eval metrics for task 2 >> {'accuracy': 0.0, 'loss': 28613183526666.24}\n",
            "[22] Eval metrics for task 3 >> {'accuracy': 0.0, 'loss': 0.009210340142250062}\n",
            "[23] Eval metrics for task 1 >> {'accuracy': 0.0, 'loss': 466981709510869.0}\n",
            "[23] Eval metrics for task 2 >> {'accuracy': 0.0, 'loss': 418013047907418.1}\n",
            "[23] Eval metrics for task 3 >> {'accuracy': 0.0, 'loss': 0.009210340142250062}\n",
            "[24] Eval metrics for task 1 >> {'accuracy': 0.0, 'loss': 7073034056669069.0}\n",
            "[24] Eval metrics for task 2 >> {'accuracy': 0.0, 'loss': 6228443512598168.0}\n",
            "[24] Eval metrics for task 3 >> {'accuracy': 0.0, 'loss': 0.009210340142250062}\n",
            "[25] Eval metrics for task 1 >> {'accuracy': 0.0, 'loss': 1.0821429724455109e+17}\n",
            "[25] Eval metrics for task 2 >> {'accuracy': 0.0, 'loss': 9.331909337630219e+16}\n",
            "[25] Eval metrics for task 3 >> {'accuracy': 0.0, 'loss': 0.009210340142250062}\n",
            "[26] Eval metrics for task 1 >> {'accuracy': 0.0, 'loss': 1.647923134767416e+18}\n",
            "[26] Eval metrics for task 2 >> {'accuracy': 0.0, 'loss': 1.4087568905045573e+18}\n",
            "[26] Eval metrics for task 3 >> {'accuracy': 0.0, 'loss': 0.009210340142250062}\n",
            "[27] Eval metrics for task 1 >> {'accuracy': 0.0, 'loss': 2.5329581310471045e+19}\n",
            "[27] Eval metrics for task 2 >> {'accuracy': 0.0, 'loss': 2.1065618219272933e+19}\n",
            "[27] Eval metrics for task 3 >> {'accuracy': 0.0, 'loss': 0.009210340142250062}\n",
            "[28] Eval metrics for task 1 >> {'accuracy': 0.0, 'loss': 3.878019329903242e+20}\n",
            "[28] Eval metrics for task 2 >> {'accuracy': 0.0, 'loss': 3.172341882559256e+20}\n",
            "[28] Eval metrics for task 3 >> {'accuracy': 0.0, 'loss': 0.009210340142250062}\n",
            "[29] Eval metrics for task 1 >> {'accuracy': 0.0, 'loss': 5.876259828247281e+21}\n",
            "[29] Eval metrics for task 2 >> {'accuracy': 0.0, 'loss': 4.820113329758034e+21}\n",
            "[29] Eval metrics for task 3 >> {'accuracy': 0.0, 'loss': 0.009210340142250062}\n",
            "[30] Eval metrics for task 1 >> {'accuracy': 50.0, 'loss': nan}\n",
            "[30] Eval metrics for task 2 >> {'accuracy': 0.0, 'loss': nan}\n",
            "[30] Eval metrics for task 3 >> {'accuracy': 0.0, 'loss': 0.009210340142250062}\n",
            "---------------------------- Task 4 -----------------------\n",
            "[31] Eval metrics for task 1 >> {'accuracy': 50.0, 'loss': nan}\n",
            "[31] Eval metrics for task 2 >> {'accuracy': 0.0, 'loss': nan}\n",
            "[31] Eval metrics for task 3 >> {'accuracy': 0.0, 'loss': 0.009210340142250062}\n",
            "[31] Eval metrics for task 4 >> {'accuracy': 0.0, 'loss': 0.009210340142250062}\n",
            "[32] Eval metrics for task 1 >> {'accuracy': 50.0, 'loss': nan}\n",
            "[32] Eval metrics for task 2 >> {'accuracy': 0.0, 'loss': nan}\n",
            "[32] Eval metrics for task 3 >> {'accuracy': 0.0, 'loss': 0.009210340142250062}\n",
            "[32] Eval metrics for task 4 >> {'accuracy': 0.0, 'loss': 0.009210340142250062}\n",
            "[33] Eval metrics for task 1 >> {'accuracy': 50.0, 'loss': nan}\n",
            "[33] Eval metrics for task 2 >> {'accuracy': 0.0, 'loss': nan}\n",
            "[33] Eval metrics for task 3 >> {'accuracy': 0.0, 'loss': 0.009210340142250062}\n",
            "[33] Eval metrics for task 4 >> {'accuracy': 0.0, 'loss': 0.009210340142250062}\n"
          ]
        },
        {
          "ename": "KeyboardInterrupt",
          "evalue": "",
          "output_type": "error",
          "traceback": [
            "\u001b[0;31m---------------------------------------------------------------------------\u001b[0m",
            "\u001b[0;31mKeyboardInterrupt\u001b[0m                         Traceback (most recent call last)",
            "\u001b[1;32m/home/jaeyoung/nas/cl_gym/CL_Gym_SplitCIFAR10.ipynb Cell 5\u001b[0m line \u001b[0;36m3\n\u001b[1;32m     <a href='vscode-notebook-cell://ssh-remote%2Bdi2.kaist.ac.kr/home/jaeyoung/nas/cl_gym/CL_Gym_SplitCIFAR10.ipynb#W4sdnNjb2RlLXJlbW90ZQ%3D%3D?line=30'>31</a>\u001b[0m \u001b[39m# Make trainer\u001b[39;00m\n\u001b[1;32m     <a href='vscode-notebook-cell://ssh-remote%2Bdi2.kaist.ac.kr/home/jaeyoung/nas/cl_gym/CL_Gym_SplitCIFAR10.ipynb#W4sdnNjb2RlLXJlbW90ZQ%3D%3D?line=31'>32</a>\u001b[0m trainer \u001b[39m=\u001b[39m cl\u001b[39m.\u001b[39mtrainer\u001b[39m.\u001b[39mContinualTrainer(algorithm, params, callbacks\u001b[39m=\u001b[39m[metric_manager_callback])\n\u001b[0;32m---> <a href='vscode-notebook-cell://ssh-remote%2Bdi2.kaist.ac.kr/home/jaeyoung/nas/cl_gym/CL_Gym_SplitCIFAR10.ipynb#W4sdnNjb2RlLXJlbW90ZQ%3D%3D?line=33'>34</a>\u001b[0m trainer\u001b[39m.\u001b[39;49mrun()\n\u001b[1;32m     <a href='vscode-notebook-cell://ssh-remote%2Bdi2.kaist.ac.kr/home/jaeyoung/nas/cl_gym/CL_Gym_SplitCIFAR10.ipynb#W4sdnNjb2RlLXJlbW90ZQ%3D%3D?line=34'>35</a>\u001b[0m \u001b[39mprint\u001b[39m(\u001b[39m\"\u001b[39m\u001b[39mfinal avg-acc\u001b[39m\u001b[39m\"\u001b[39m, metric_manager_callback\u001b[39m.\u001b[39mmeters[\u001b[39m'\u001b[39m\u001b[39maccuracy\u001b[39m\u001b[39m'\u001b[39m]\u001b[39m.\u001b[39mcompute_final())\n\u001b[1;32m     <a href='vscode-notebook-cell://ssh-remote%2Bdi2.kaist.ac.kr/home/jaeyoung/nas/cl_gym/CL_Gym_SplitCIFAR10.ipynb#W4sdnNjb2RlLXJlbW90ZQ%3D%3D?line=35'>36</a>\u001b[0m \u001b[39mprint\u001b[39m(\u001b[39m\"\u001b[39m\u001b[39mfinal avg-forget\u001b[39m\u001b[39m\"\u001b[39m, metric_manager_callback\u001b[39m.\u001b[39mmeters[\u001b[39m'\u001b[39m\u001b[39mforgetting\u001b[39m\u001b[39m'\u001b[39m]\u001b[39m.\u001b[39mcompute_final())\n",
            "File \u001b[0;32m~/anaconda3/envs/cl-gym/lib/python3.8/site-packages/cl_gym/trainer/base.py:105\u001b[0m, in \u001b[0;36mContinualTrainer.run\u001b[0;34m(self)\u001b[0m\n\u001b[1;32m    103\u001b[0m \u001b[39mself\u001b[39m\u001b[39m.\u001b[39m_run_setup()\n\u001b[1;32m    104\u001b[0m \u001b[39m# fit: main training loop\u001b[39;00m\n\u001b[0;32m--> 105\u001b[0m \u001b[39mself\u001b[39;49m\u001b[39m.\u001b[39;49m_run_fit()\n\u001b[1;32m    106\u001b[0m \u001b[39m# teardown\u001b[39;00m\n\u001b[1;32m    107\u001b[0m \u001b[39mself\u001b[39m\u001b[39m.\u001b[39m_run_teardown()\n",
            "File \u001b[0;32m~/anaconda3/envs/cl-gym/lib/python3.8/site-packages/cl_gym/trainer/base.py:93\u001b[0m, in \u001b[0;36mContinualTrainer._run_fit\u001b[0;34m(self)\u001b[0m\n\u001b[1;32m     91\u001b[0m \u001b[39mdef\u001b[39;00m \u001b[39m_run_fit\u001b[39m(\u001b[39mself\u001b[39m):\n\u001b[1;32m     92\u001b[0m     \u001b[39mself\u001b[39m\u001b[39m.\u001b[39mon_before_fit()\n\u001b[0;32m---> 93\u001b[0m     \u001b[39mself\u001b[39;49m\u001b[39m.\u001b[39;49mfit()\n\u001b[1;32m     94\u001b[0m     \u001b[39mself\u001b[39m\u001b[39m.\u001b[39mon_after_fit()\n",
            "File \u001b[0;32m~/anaconda3/envs/cl-gym/lib/python3.8/site-packages/cl_gym/trainer/base.py:83\u001b[0m, in \u001b[0;36mContinualTrainer.fit\u001b[0;34m(self)\u001b[0m\n\u001b[1;32m     81\u001b[0m \u001b[39mself\u001b[39m\u001b[39m.\u001b[39mon_before_training_task()\n\u001b[1;32m     82\u001b[0m \u001b[39mself\u001b[39m\u001b[39m.\u001b[39mtick(\u001b[39m'\u001b[39m\u001b[39mtask\u001b[39m\u001b[39m'\u001b[39m)\n\u001b[0;32m---> 83\u001b[0m \u001b[39mself\u001b[39;49m\u001b[39m.\u001b[39;49mtrain_algorithm_on_task(task)\n\u001b[1;32m     84\u001b[0m \u001b[39mself\u001b[39m\u001b[39m.\u001b[39mon_after_training_task()\n",
            "File \u001b[0;32m~/anaconda3/envs/cl-gym/lib/python3.8/site-packages/cl_gym/trainer/base.py:46\u001b[0m, in \u001b[0;36mContinualTrainer.train_algorithm_on_task\u001b[0;34m(self, task)\u001b[0m\n\u001b[1;32m     44\u001b[0m \u001b[39mself\u001b[39m\u001b[39m.\u001b[39mon_before_training_step()\n\u001b[1;32m     45\u001b[0m \u001b[39mself\u001b[39m\u001b[39m.\u001b[39mtick(\u001b[39m'\u001b[39m\u001b[39mstep\u001b[39m\u001b[39m'\u001b[39m)\n\u001b[0;32m---> 46\u001b[0m \u001b[39mself\u001b[39;49m\u001b[39m.\u001b[39;49malgorithm\u001b[39m.\u001b[39;49mtraining_step(task_ids\u001b[39m.\u001b[39;49mto(device), inp\u001b[39m.\u001b[39;49mto(device), targ\u001b[39m.\u001b[39;49mto(device), optimizer, criterion)\n\u001b[1;32m     47\u001b[0m \u001b[39mself\u001b[39m\u001b[39m.\u001b[39malgorithm\u001b[39m.\u001b[39mtraining_step_end()\n\u001b[1;32m     48\u001b[0m \u001b[39mself\u001b[39m\u001b[39m.\u001b[39mon_after_training_step()\n",
            "File \u001b[0;32m/mnt/shared/jaeyoung/cl_gym/algorithms/finetune.py:44\u001b[0m, in \u001b[0;36mFinetune.training_step\u001b[0;34m(self, task_ids, inp, targ, optimizer, criterion, sensitive)\u001b[0m\n\u001b[1;32m     42\u001b[0m loss \u001b[39m=\u001b[39m criterion(pred, targ)\n\u001b[1;32m     43\u001b[0m loss\u001b[39m.\u001b[39mbackward()\n\u001b[0;32m---> 44\u001b[0m \u001b[39mif\u001b[39;00m task_ids[\u001b[39m0\u001b[39m] \u001b[39m>\u001b[39m \u001b[39m1\u001b[39m:\n\u001b[1;32m     45\u001b[0m     grad_batch \u001b[39m=\u001b[39m flatten_grads(\u001b[39mself\u001b[39m\u001b[39m.\u001b[39mbackbone)\u001b[39m.\u001b[39mdetach()\u001b[39m.\u001b[39mclone()\n\u001b[1;32m     46\u001b[0m     optimizer\u001b[39m.\u001b[39mzero_grad()\n",
            "\u001b[0;31mKeyboardInterrupt\u001b[0m: "
          ]
        }
      ],
      "source": [
        "from datasets.FairMNIST import NoiseMNIST\n",
        "from trainers.FairContinualTrainer import FairContinualTrainer\n",
        "from algorithms.agem_sensitive import AGEM_Sensitive\n",
        "from algorithms.finetune import Finetune\n",
        "\n",
        "params = make_params()\n",
        "# # benchmark: Rotated MNIST\n",
        "# benchmark = cl.benchmarks.RotatedMNIST(num_tasks=params['num_tasks'],\n",
        "#                                        per_task_memory_examples=params['per_task_memory_examples'],\n",
        "#                                        per_task_rotation=22.5)\n",
        "benchmark = cl.benchmarks.SplitCIFAR10(num_tasks=params['num_tasks'],\n",
        "                                        per_task_memory_examples=params['per_task_memory_examples'])\n",
        "params['benchmark'] = benchmark\n",
        "\n",
        "# backbone: MLP with 2 hidden layers\n",
        "# backbone = cl.backbones.MLP2Layers(input_dim=784, hidden_dim_1=32, hidden_dim_2=32, output_dim=10)\n",
        "backbone = cl.backbones.ResNet18Small(multi_head=True, num_classes_per_head=5, num_classes=10, config = params)\n",
        "\n",
        "# Algorithm: A-GEM\n",
        "# algorithm = cl.algorithms.AGEM(backbone, benchmark, params)\n",
        "# algorithm = AGEM_Sensitive(backbone, benchmark, params)\n",
        "algorithm = Finetune(backbone, benchmark, params)\n",
        "\n",
        "# algorithm = cl.algorithms.ERRingBuffer(backbone, benchmark, params)\n",
        "\n",
        "# Callbacks\n",
        "metric_manager_callback = cl.callbacks.MetricCollector(num_tasks=params['num_tasks'],\n",
        "                                                        eval_interval='epoch',\n",
        "                                                        epochs_per_task=params['epochs_per_task'])\n",
        "\n",
        "# Make trainer\n",
        "trainer = cl.trainer.ContinualTrainer(algorithm, params, callbacks=[metric_manager_callback])\n",
        "\n",
        "trainer.run()\n",
        "print(\"final avg-acc\", metric_manager_callback.meters['accuracy'].compute_final())\n",
        "print(\"final avg-forget\", metric_manager_callback.meters['forgetting'].compute_final())\n"
      ]
    },
    {
      "cell_type": "code",
      "execution_count": 4,
      "metadata": {},
      "outputs": [
        {
          "data": {
            "text/plain": [
              "torch.Size([60000, 28, 28])"
            ]
          },
          "execution_count": 4,
          "metadata": {},
          "output_type": "execute_result"
        }
      ],
      "source": [
        "backbone.input_shape"
      ]
    },
    {
      "cell_type": "code",
      "execution_count": 3,
      "metadata": {},
      "outputs": [],
      "source": [
        "benchmark = cl.benchmarks.RotatedMNIST(num_tasks=params['num_tasks'],\n",
        "                                       per_task_memory_examples=params['per_task_memory_examples'],\n",
        "                                       per_task_rotation=22.5)\n",
        " "
      ]
    },
    {
      "cell_type": "code",
      "execution_count": 43,
      "metadata": {},
      "outputs": [
        {
          "data": {
            "text/plain": [
              "<cl_gym.benchmarks.base.DynamicTransformDataset at 0x7fb56ae5c130>"
            ]
          },
          "execution_count": 43,
          "metadata": {},
          "output_type": "execute_result"
        }
      ],
      "source": [
        "benchmark.trains[1]"
      ]
    },
    {
      "cell_type": "code",
      "execution_count": null,
      "metadata": {},
      "outputs": [],
      "source": [
        "benchmark,"
      ]
    },
    {
      "cell_type": "code",
      "execution_count": 5,
      "metadata": {},
      "outputs": [
        {
          "name": "stdout",
          "output_type": "stream",
          "text": [
            "Files already downloaded and verified\n",
            "Files already downloaded and verified\n"
          ]
        }
      ],
      "source": [
        "benchmark_cifar = cl.benchmarks.SplitCIFAR10(num_tasks=params['num_tasks'],\n",
        "                                        per_task_memory_examples=params['per_task_memory_examples'])\n"
      ]
    },
    {
      "cell_type": "code",
      "execution_count": 6,
      "metadata": {},
      "outputs": [
        {
          "data": {
            "text/plain": [
              "3"
            ]
          },
          "execution_count": 6,
          "metadata": {},
          "output_type": "execute_result"
        }
      ],
      "source": [
        "benchmark_cifar.trains[1].inputs.shape[-3]"
      ]
    },
    {
      "cell_type": "code",
      "execution_count": 4,
      "metadata": {},
      "outputs": [
        {
          "name": "stdout",
          "output_type": "stream",
          "text": [
            "Files already downloaded and verified\n"
          ]
        }
      ],
      "source": [
        "import torchvision\n",
        "from cl_gym.benchmarks.transforms import get_default_mnist_transform, get_default_cifar_transform\n",
        "DEFAULT_DATASET_DIR= \"/home/jaeyoung/anaconda3/envs/cl-gym/lib/python3.8/site-packages/cl_gym/data\"\n",
        "\n",
        "mnist = torchvision.datasets.MNIST(DEFAULT_DATASET_DIR, train=True, download=True, transform=get_default_mnist_transform(5))\n",
        "cifar10 = torchvision.datasets.CIFAR10(DEFAULT_DATASET_DIR, train=True, download=True, transform=get_default_cifar_transform(5, False))"
      ]
    },
    {
      "cell_type": "code",
      "execution_count": 68,
      "metadata": {},
      "outputs": [
        {
          "data": {
            "text/plain": [
              "Text(0.5, 1.0, 'original')"
            ]
          },
          "execution_count": 68,
          "metadata": {},
          "output_type": "execute_result"
        },
        {
          "data": {
            "image/png": "[encoded data removed]",
            "text/plain": [
              "<Figure size 640x480 with 1 Axes>"
            ]
          },
          "metadata": {},
          "output_type": "display_data"
        }
      ],
      "source": [
        "import torchvision\n",
        "\n",
        "norm = benchmark.task_input_transforms[0].transforms[1]\n",
        "mean = norm.mean\n",
        "std = norm.std\n",
        "\n",
        "denorm = torchvision.transforms.Compose([\n",
        "        torchvision.transforms.Normalize(mean=tuple(-m / s for m, s in zip(mean, std)),\n",
        "                std=tuple(1.0 / s for s in std)),\n",
        "    ])\n",
        "\n",
        "from torchvision.transforms.functional import to_pil_image\n",
        "from matplotlib import pyplot as plt\n",
        "\n",
        "task = 2\n",
        "idx = 9\n",
        "\n",
        "# img = original[idx]\n",
        "img = denorm(benchmark.trains[task].inputs[idx])\n",
        "# trans = sensitive_transform(mnist_train.data)[idx]\n",
        "\n",
        "plt.figure()\n",
        "plt.subplot(1,2,1)\n",
        "# plt.imshow(to_pil_image(img), cmap='gray')\n",
        "plt.imshow(to_pil_image(img))\n",
        "plt.title('original')\n",
        "# plt.subplot(1,2,2)\n",
        "# plt.imshow(to_pil_image(trans), cmap='gray')\n",
        "# plt.title('transform')\n"
      ]
    },
    {
      "cell_type": "code",
      "execution_count": 46,
      "metadata": {
        "id": "ibbA2luc-AZe"
      },
      "outputs": [
        {
          "data": {
            "text/plain": [
              "torch.Size([3, 32, 32])"
            ]
          },
          "execution_count": 46,
          "metadata": {},
          "output_type": "execute_result"
        }
      ],
      "source": [
        "denorm(benchmark.trains[1].inputs[idx]).shape"
      ]
    },
    {
      "cell_type": "code",
      "execution_count": null,
      "metadata": {},
      "outputs": [],
      "source": []
    }
  ],
  "metadata": {
    "accelerator": "GPU",
    "colab": {
      "provenance": []
    },
    "kernelspec": {
      "display_name": "Python 3",
      "name": "python3"
    },
    "language_info": {
      "codemirror_mode": {
        "name": "ipython",
        "version": 3
      },
      "file_extension": ".py",
      "mimetype": "text/x-python",
      "name": "python",
      "nbconvert_exporter": "python",
      "pygments_lexer": "ipython3",
      "version": "3.8.18"
    }
  },
  "nbformat": 4,
  "nbformat_minor": 0
}
