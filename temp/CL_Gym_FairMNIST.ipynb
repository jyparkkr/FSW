{
  "cells": [
    {
      "cell_type": "markdown",
      "metadata": {
        "id": "asNHiu3VMV0m"
      },
      "source": [
        "## CL-Gym Example: Stable A-GEM on Rotated MNIST\n",
        "\n",
        "In this example, we use Averaged Gradient Episodic Memory (A-GEM) to train on Rotated MNIST benchmark. We use the stable version of [AGEM](https://arxiv.org/abs/1812.00420.pdf) using [Stable SGD](https://proceedings.neurips.cc/paper/2020/file/518a38cc9a0173d0b2dc088166981cf8-Paper.pdf) parameters."
      ]
    },
    {
      "cell_type": "markdown",
      "metadata": {
        "id": "dkkjxEZcNf9o"
      },
      "source": [
        "## 1. Defining Parameters\n",
        "First, we need to define our parameters/config for our experiment.\n",
        "We define all our parameters inside a python dictionary. The parameters define different aspects of continual learning examples. For example:\n",
        "-  How many tasks should we learn?\n",
        "-  What our batch-size will be?\n",
        "-  What Optimizer will we use?\n",
        "-  Where should we store our outputs?"
      ]
    },
    {
      "cell_type": "code",
      "execution_count": 1,
      "metadata": {
        "id": "sqM1kbU8xfFC"
      },
      "outputs": [],
      "source": [
        "import torch\n",
        "import cl_gym as cl\n",
        "import numpy as np\n",
        "import random\n",
        "# first let's create params/config for our experiment\n",
        "noise = 0.0\n",
        "\n",
        "def make_params() -> dict:\n",
        "    import os\n",
        "    from pathlib import Path\n",
        "    import uuid\n",
        "\n",
        "    params = {\n",
        "            # benchmark\n",
        "            'seed': 2,\n",
        "            'num_tasks': 5,\n",
        "            'epochs_per_task': 1,\n",
        "            'per_task_memory_examples': 64,\n",
        "            'batch_size_train': 64,\n",
        "            'batch_size_memory': 64,\n",
        "            'batch_size_validation': 256,\n",
        "            'tau': 10,\n",
        "\n",
        "            # algorithm\n",
        "            'optimizer': 'SGD',\n",
        "            'learning_rate': 0.01,\n",
        "            'momentum': 0.8,\n",
        "            'learning_rate_decay': 1.0,\n",
        "            'criterion': torch.nn.CrossEntropyLoss(),\n",
        "            'device': torch.device('cuda' if torch.cuda.is_available() else 'cpu'), }\n",
        "\n",
        "#     trial_id = str(uuid.uuid4())\n",
        "    trial_id = f\"seed={params['seed']}_epoch={params['epochs_per_task']}_{noise=}__\"\n",
        "    params['trial_id'] = trial_id\n",
        "    params['output_dir'] = os.path.join(\"./outputs/{}\".format(trial_id))\n",
        "    print(f\"output_dir={params['output_dir']}\")\n",
        "    Path(params['output_dir']).mkdir(parents=True, exist_ok=True)\n",
        "\n",
        "    return params\n",
        "\n",
        "def get_acc_task(task, meter, r = 3):\n",
        "    return np.round(meter.data[task,1:task+1,-1], r)\n",
        "\n",
        "def get_acc_mat(meter, r = 3):\n",
        "    return np.round(meter.data[1:6,1:6,-1], r)\n",
        "\n",
        "def get_overall_avg(meter, r = 3):\n",
        "    avg_list = list()\n",
        "    for i in range(1, 6):\n",
        "        avg_list.append(np.mean(meter.data[i,1:i+1,-1]))\n",
        "    return np.round(np.mean(avg_list), r)\n"
      ]
    },
    {
      "cell_type": "code",
      "execution_count": null,
      "metadata": {},
      "outputs": [],
      "source": []
    },
    {
      "cell_type": "code",
      "execution_count": 10,
      "metadata": {
        "colab": {
          "background_save": true,
          "base_uri": "https://localhost:8080/"
        },
        "id": "NFLqD58bhJRf",
        "outputId": "a34cc040-4c26-4d0e-87e5-36bf4a005aff"
      },
      "outputs": [
        {
          "name": "stdout",
          "output_type": "stream",
          "text": [
            "output_dir=./outputs/seed=2_epoch=1_noise=0.0__\n",
            "[4 1 5 0 7 2 3 6 9 8]\n",
            "---------------------------- Task 1 -----------------------\n",
            "[1] Eval metrics for task 1 >> {'accuracy': 99.00803023145961, 'accuracy_s0': 99.33333333333333, 'accuracy_s1': 98.6879100281162, 'loss': 0.00015239887657484246}\n",
            "training_task_end\n",
            "len(train_loader.dataset)=64\n",
            "---------------------------- Task 2 -----------------------\n",
            "[2] Eval metrics for task 1 >> {'accuracy': 81.62494095418045, 'accuracy_s0': 87.23809523809524, 'accuracy_s1': 76.10121836925961, 'loss': 0.0037133694821277993}\n",
            "[2] Eval metrics for task 2 >> {'accuracy': 97.0619658119658, 'accuracy_s0': 96.96969696969697, 'accuracy_s1': 97.1584699453552, 'loss': 0.0003795337556805621}\n",
            "training_task_end\n",
            "len(train_loader.dataset)=128\n",
            "---------------------------- Task 3 -----------------------\n",
            "[3] Eval metrics for task 1 >> {'accuracy': 70.71327350023618, 'accuracy_s0': 78.76190476190476, 'accuracy_s1': 62.79287722586692, 'loss': 0.007720074791023063}\n",
            "[3] Eval metrics for task 2 >> {'accuracy': 80.44871794871794, 'accuracy_s0': 82.23615464994775, 'accuracy_s1': 78.5792349726776, 'loss': 0.00358974669351537}\n",
            "[3] Eval metrics for task 3 >> {'accuracy': 96.40776699029126, 'accuracy_s0': 96.28180039138944, 'accuracy_s1': 96.53179190751445, 'loss': 0.00043958331801865287}\n",
            "training_task_end\n",
            "len(train_loader.dataset)=192\n",
            "---------------------------- Task 4 -----------------------\n",
            "[4] Eval metrics for task 1 >> {'accuracy': 72.8389230042513, 'accuracy_s0': 81.04761904761905, 'accuracy_s1': 64.7610121836926, 'loss': 0.006985700350073525}\n",
            "[4] Eval metrics for task 2 >> {'accuracy': 70.72649572649573, 'accuracy_s0': 72.10031347962382, 'accuracy_s1': 69.2896174863388, 'loss': 0.006096498451681219}\n",
            "[4] Eval metrics for task 3 >> {'accuracy': 70.67961165048544, 'accuracy_s0': 72.99412915851272, 'accuracy_s1': 68.40077071290943, 'loss': 0.005951899753033536}\n",
            "[4] Eval metrics for task 4 >> {'accuracy': 98.01829268292683, 'accuracy_s0': 97.67441860465117, 'accuracy_s1': 98.36567926455567, 'loss': 0.0002704374501633087}\n",
            "training_task_end\n",
            "len(train_loader.dataset)=256\n",
            "---------------------------- Task 5 -----------------------\n",
            "[5] Eval metrics for task 1 >> {'accuracy': 63.20264525271611, 'accuracy_s0': 70.38095238095238, 'accuracy_s1': 56.13870665417057, 'loss': 0.009703857638557732}\n",
            "[5] Eval metrics for task 2 >> {'accuracy': 68.32264957264957, 'accuracy_s0': 68.23406478578892, 'accuracy_s1': 68.4153005464481, 'loss': 0.007265046429939759}\n",
            "[5] Eval metrics for task 3 >> {'accuracy': 67.66990291262135, 'accuracy_s0': 73.77690802348337, 'accuracy_s1': 61.65703275529865, 'loss': 0.007676399332805744}\n",
            "[5] Eval metrics for task 4 >> {'accuracy': 81.25, 'accuracy_s0': 83.92315470171891, 'accuracy_s1': 78.54954034729316, 'loss': 0.0032793970975449416}\n",
            "[5] Eval metrics for task 5 >> {'accuracy': 96.97428139183056, 'accuracy_s0': 97.04684317718942, 'accuracy_s1': 96.90309690309691, 'loss': 0.00037065892660191006}\n",
            "training_task_end\n",
            "len(train_loader.dataset)=320\n",
            "final avg-acc 75.48389582596351\n",
            "final avg-forget 27.51271449466412\n"
          ]
        }
      ],
      "source": [
        "from datasets.FairMNIST import NoiseMNIST\n",
        "from trainers.FairContinualTrainer import FairContinualTrainer\n",
        "from metrics.fair_metric_manager import FairMetricCollector\n",
        "from algorithms.heuristic import Heuristic1\n",
        "\n",
        "params = make_params()\n",
        "\n",
        "seed = params['seed']\n",
        "np.random.seed(seed)\n",
        "torch.manual_seed(seed)\n",
        "np.random.seed(seed)\n",
        "random.seed(seed)\n",
        "torch.cuda.manual_seed_all(seed)\n",
        "torch.manual_seed(seed)\n",
        "torch.backends.cudnn.deterministic = True\n",
        "torch.backends.cudnn.benchmark = False\n",
        "torch.backends.cudnn.enabled = False\n",
        "\n",
        "\n",
        "benchmark = NoiseMNIST(num_tasks=params['num_tasks'], noise_size=noise, random_class_idx= False,\n",
        "# benchmark = cl.benchmarks.SplitMNIST(num_tasks=params['num_tasks'],\n",
        "                                        per_task_memory_examples=params['per_task_memory_examples'])\n",
        "# backbone: MLP with 2 hidden layers\n",
        "backbone = cl.backbones.MLP2Layers(input_dim=784, hidden_dim_1=256, hidden_dim_2=256, output_dim=10)\n",
        "\n",
        "algorithm = Heuristic1(backbone, benchmark, params, requires_memory=True)\n",
        "# algorithm = cl.algorithms.ERRingBuffer(backbone, benchmark, params)\n",
        "\n",
        "# Callbacks\n",
        "metric_manager_callback = FairMetricCollector(num_tasks=params['num_tasks'],\n",
        "                                                        eval_interval='epoch',\n",
        "                                                        epochs_per_task=params['epochs_per_task'])\n",
        "\n",
        "# Make trainer\n",
        "trainer = FairContinualTrainer(algorithm, params, callbacks=[metric_manager_callback])\n",
        "\n",
        "trainer.run()\n",
        "print(\"final avg-acc\", metric_manager_callback.meters['accuracy'].compute_final())\n",
        "print(\"final avg-forget\", metric_manager_callback.meters['forgetting'].compute_final())\n"
      ]
    },
    {
      "cell_type": "code",
      "execution_count": 11,
      "metadata": {},
      "outputs": [
        {
          "data": {
            "text/plain": [
              "array([[99.008,  0.   ,  0.   ,  0.   ,  0.   ],\n",
              "       [81.625, 97.062,  0.   ,  0.   ,  0.   ],\n",
              "       [70.713, 80.449, 96.408,  0.   ,  0.   ],\n",
              "       [72.839, 70.726, 70.68 , 98.018,  0.   ],\n",
              "       [63.203, 68.323, 67.67 , 81.25 , 96.974]])"
            ]
          },
          "execution_count": 11,
          "metadata": {},
          "output_type": "execute_result"
        }
      ],
      "source": [
        "get_acc_mat(metric_manager_callback.meters['accuracy'])"
      ]
    },
    {
      "cell_type": "code",
      "execution_count": 12,
      "metadata": {},
      "outputs": [
        {
          "data": {
            "text/plain": [
              "array([[99.333,  0.   ,  0.   ,  0.   ,  0.   ],\n",
              "       [87.238, 96.97 ,  0.   ,  0.   ,  0.   ],\n",
              "       [78.762, 82.236, 96.282,  0.   ,  0.   ],\n",
              "       [81.048, 72.1  , 72.994, 97.674,  0.   ],\n",
              "       [70.381, 68.234, 73.777, 83.923, 97.047]])"
            ]
          },
          "execution_count": 12,
          "metadata": {},
          "output_type": "execute_result"
        }
      ],
      "source": [
        "get_acc_mat(metric_manager_callback.meters['accuracy_s0'])"
      ]
    },
    {
      "cell_type": "code",
      "execution_count": 13,
      "metadata": {},
      "outputs": [
        {
          "data": {
            "text/plain": [
              "array([[98.688,  0.   ,  0.   ,  0.   ,  0.   ],\n",
              "       [76.101, 97.158,  0.   ,  0.   ,  0.   ],\n",
              "       [62.793, 78.579, 96.532,  0.   ,  0.   ],\n",
              "       [64.761, 69.29 , 68.401, 98.366,  0.   ],\n",
              "       [56.139, 68.415, 61.657, 78.55 , 96.903]])"
            ]
          },
          "execution_count": 13,
          "metadata": {},
          "output_type": "execute_result"
        }
      ],
      "source": [
        "get_acc_mat(metric_manager_callback.meters['accuracy_s1'])"
      ]
    },
    {
      "cell_type": "code",
      "execution_count": 14,
      "metadata": {},
      "outputs": [
        {
          "data": {
            "text/plain": [
              "84.885"
            ]
          },
          "execution_count": 14,
          "metadata": {},
          "output_type": "execute_result"
        }
      ],
      "source": [
        "get_overall_avg(metric_manager_callback.meters['accuracy'])"
      ]
    },
    {
      "cell_type": "code",
      "execution_count": 17,
      "metadata": {},
      "outputs": [
        {
          "data": {
            "text/plain": [
              "87.365"
            ]
          },
          "execution_count": 17,
          "metadata": {},
          "output_type": "execute_result"
        }
      ],
      "source": [
        "get_overall_avg(metric_manager_callback.meters['accuracy_s0'])"
      ]
    },
    {
      "cell_type": "code",
      "execution_count": 18,
      "metadata": {},
      "outputs": [
        {
          "data": {
            "text/plain": [
              "82.431"
            ]
          },
          "execution_count": 18,
          "metadata": {},
          "output_type": "execute_result"
        }
      ],
      "source": [
        "get_overall_avg(metric_manager_callback.meters['accuracy_s1'])"
      ]
    },
    {
      "cell_type": "code",
      "execution_count": null,
      "metadata": {},
      "outputs": [],
      "source": []
    },
    {
      "cell_type": "code",
      "execution_count": null,
      "metadata": {},
      "outputs": [],
      "source": []
    },
    {
      "cell_type": "code",
      "execution_count": null,
      "metadata": {},
      "outputs": [],
      "source": [
        "import matplotlib.pyplot as plt\n",
        "import torchvision\n",
        "import copy\n",
        "import numpy as np\n",
        "transforms = torchvision.transforms.Compose([\n",
        "    torchvision.transforms.ToTensor(),\n",
        "    torchvision.transforms.Normalize(0.1307, 0.3081),\n",
        "])\n",
        "\n",
        "sensitive_transform = torchvision.transforms.Compose([\n",
        "    torchvision.transforms.RandomRotation([90, 90]),\n",
        "    torchvision.transforms.RandomErasing(p = 1, scale=(0.02, 0.2)),\n",
        "])\n",
        "\n",
        "from datasets.FairMNIST import FairMNIST\n",
        "dir = \"/home/jaeyoung/anaconda3/envs/cil/lib/python3.9/site-packages/cl_gym/data\"\n",
        "train = FairMNIST(dir, train=True, download=True, transform=transforms)\n"
      ]
    },
    {
      "cell_type": "code",
      "execution_count": null,
      "metadata": {},
      "outputs": [
        {
          "name": "stdout",
          "output_type": "stream",
          "text": [
            "[    1     3     4 ... 59995 59996 59998]\n",
            "[0. 1. 0. ... 0. 1. 0.]\n"
          ]
        }
      ],
      "source": [
        "train_len = len(train)\n",
        "train_sensitive_idx = np.sort(np.random.choice(train_len, train_len//2, replace=False))\n",
        "print(train_sensitive_idx)\n",
        "sensitive = np.zeros(train_len)\n",
        "sensitive[train_sensitive_idx] = np.ones_like(train_sensitive_idx)\n",
        "print(sensitive)"
      ]
    },
    {
      "cell_type": "code",
      "execution_count": null,
      "metadata": {},
      "outputs": [
        {
          "data": {
            "text/plain": [
              "torch.Size([30000, 28, 28])"
            ]
          },
          "execution_count": 16,
          "metadata": {},
          "output_type": "execute_result"
        }
      ],
      "source": [
        "def bool2idx(arr):\n",
        "    idx = list()\n",
        "    for i, e in enumerate(arr):\n",
        "        if e == 1:\n",
        "            idx.append(i)\n",
        "    return np.array(idx)\n",
        "train.data[bool2idx(sensitive)].shape"
      ]
    },
    {
      "cell_type": "code",
      "execution_count": null,
      "metadata": {},
      "outputs": [],
      "source": []
    },
    {
      "cell_type": "code",
      "execution_count": null,
      "metadata": {},
      "outputs": [],
      "source": [
        "import matplotlib.pyplot as plt\n",
        "import torchvision\n",
        "import copy\n",
        "\n",
        "transforms = torchvision.transforms.Compose([\n",
        "    torchvision.transforms.ToTensor(),\n",
        "    torchvision.transforms.Normalize(0.1307, 0.3081),\n",
        "])\n",
        "\n",
        "sensitive_transform = torchvision.transforms.Compose([\n",
        "    torchvision.transforms.RandomRotation([90, 90]),\n",
        "    torchvision.transforms.RandomErasing(p = 1, scale=(0.02, 0.1)),\n",
        "])\n"
      ]
    },
    {
      "cell_type": "code",
      "execution_count": null,
      "metadata": {},
      "outputs": [],
      "source": [
        "from cl_gym.benchmarks.utils import DEFAULT_DATASET_DIR\n",
        "from cl_gym.benchmarks.transforms import get_default_mnist_transform\n",
        "mnist_train = torchvision.datasets.MNIST(DEFAULT_DATASET_DIR, train=True, download=True, transform=transforms)\n",
        "original = copy.deepcopy(mnist_train.data)"
      ]
    },
    {
      "cell_type": "code",
      "execution_count": null,
      "metadata": {},
      "outputs": [
        {
          "data": {
            "text/plain": [
              "array([    0,     1,     4, ..., 59996, 59998, 59999])"
            ]
          },
          "execution_count": 19,
          "metadata": {},
          "output_type": "execute_result"
        }
      ],
      "source": [
        "import numpy as np\n",
        "a = np.sort(np.random.choice(len(mnist_train), len(mnist_train)//2, replace=False))\n",
        "a"
      ]
    },
    {
      "cell_type": "code",
      "execution_count": null,
      "metadata": {},
      "outputs": [
        {
          "data": {
            "text/plain": [
              "Text(0.5, 1.0, 'transform')"
            ]
          },
          "execution_count": 20,
          "metadata": {},
          "output_type": "execute_result"
        },
        {
          "data": {
            "image/png": "[encoded data removed]",
            "text/plain": [
              "<Figure size 640x480 with 2 Axes>"
            ]
          },
          "metadata": {},
          "output_type": "display_data"
        }
      ],
      "source": [
        "from torchvision.transforms.functional import to_pil_image\n",
        "from matplotlib import pyplot as plt\n",
        "\n",
        "\n",
        "idx = 12\n",
        "\n",
        "img = original[idx]\n",
        "trans = sensitive_transform(mnist_train.data)[idx]\n",
        "\n",
        "plt.figure()\n",
        "plt.subplot(1,2,1)\n",
        "plt.imshow(to_pil_image(img), cmap='gray')\n",
        "plt.title('original')\n",
        "plt.subplot(1,2,2)\n",
        "plt.imshow(to_pil_image(trans), cmap='gray')\n",
        "plt.title('transform')\n"
      ]
    },
    {
      "cell_type": "code",
      "execution_count": null,
      "metadata": {},
      "outputs": [],
      "source": [
        "def tranform_on_idx(data, idx, transform):\n",
        "    # if len(data) != len(idx):\n",
        "    #     raise ValueError(f\"size of data({len(data)}) and index({len(idx)}) is different\")\n",
        "    transformed = transform(data[idx])\n",
        "    data[idx] = transformed\n",
        "    return data"
      ]
    },
    {
      "cell_type": "code",
      "execution_count": null,
      "metadata": {},
      "outputs": [],
      "source": [
        "data = tranform_on_idx(mnist_train.data, a, sensitive_transform)"
      ]
    },
    {
      "cell_type": "code",
      "execution_count": null,
      "metadata": {},
      "outputs": [
        {
          "data": {
            "text/plain": [
              "Text(0.5, 1.0, 'transform')"
            ]
          },
          "execution_count": 122,
          "metadata": {},
          "output_type": "execute_result"
        },
        {
          "data": {
            "image/png": "[encoded data removed]",
            "text/plain": [
              "<Figure size 640x480 with 2 Axes>"
            ]
          },
          "metadata": {},
          "output_type": "display_data"
        }
      ],
      "source": [
        "from torchvision.transforms.functional import to_pil_image\n",
        "from matplotlib import pyplot as plt\n",
        "\n",
        "\n",
        "idx = 5\n",
        "img = original[idx]\n",
        "trans = data[idx]\n",
        "\n",
        "plt.figure()\n",
        "plt.subplot(1,2,1)\n",
        "plt.imshow(to_pil_image(img), cmap='gray')\n",
        "plt.title('original')\n",
        "plt.subplot(1,2,2)\n",
        "plt.imshow(to_pil_image(trans), cmap='gray')\n",
        "plt.title('transform')\n"
      ]
    },
    {
      "cell_type": "code",
      "execution_count": null,
      "metadata": {},
      "outputs": [],
      "source": []
    }
  ],
  "metadata": {
    "accelerator": "GPU",
    "colab": {
      "provenance": []
    },
    "kernelspec": {
      "display_name": "Python 3",
      "name": "python3"
    },
    "language_info": {
      "codemirror_mode": {
        "name": "ipython",
        "version": 3
      },
      "file_extension": ".py",
      "mimetype": "text/x-python",
      "name": "python",
      "nbconvert_exporter": "python",
      "pygments_lexer": "ipython3",
      "version": "3.9.18"
    }
  },
  "nbformat": 4,
  "nbformat_minor": 0
}
