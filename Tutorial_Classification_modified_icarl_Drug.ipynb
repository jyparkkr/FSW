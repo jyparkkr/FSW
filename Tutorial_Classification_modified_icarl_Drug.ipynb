{
 "cells": [
  {
   "cell_type": "code",
   "execution_count": 1,
   "id": "b0c3b92f",
   "metadata": {},
   "outputs": [
    {
     "name": "stdout",
     "output_type": "stream",
     "text": [
      "output_dir=./outputs/demo/dataset=Drug/seed=10_epoch=25_lr=0.001_alpha=0.0_tau=1.0\n"
     ]
    }
   ],
   "source": [
    "from torchvision.datasets import MNIST, FashionMNIST, CIFAR10\n",
    "import torchvision\n",
    "import numpy as np\n",
    "import random\n",
    "\n",
    "import torch\n",
    "import torch.nn.functional as F\n",
    "import cl_gym as cl\n",
    "\n",
    "import sys\n",
    "import os\n",
    "\n",
    "seed = 10\n",
    "\n",
    "np.random.seed(seed)\n",
    "torch.manual_seed(seed)\n",
    "np.random.seed(seed)\n",
    "random.seed(seed)\n",
    "torch.cuda.manual_seed_all(seed)\n",
    "torch.manual_seed(seed)\n",
    "torch.backends.cudnn.deterministic = True\n",
    "torch.backends.cudnn.benchmark = True\n",
    "torch.set_num_threads(8)\n",
    "\n",
    "# torch.backends.cudnn.enabled = False\n",
    "\n",
    "def make_params() -> dict:\n",
    "    import os\n",
    "    from pathlib import Path\n",
    "    import uuid\n",
    "\n",
    "    params = {\n",
    "            # dataset\n",
    "            # 'dataset': \"CIFAR100\",\n",
    "            'dataset': \"Drug\",\n",
    "            'fairness_agg': 'mean',\n",
    "            'random_class_idx': False,\n",
    "\n",
    "            # benchmark\n",
    "            'seed': seed,\n",
    "            'num_tasks': 3,\n",
    "            'epochs_per_task': 25,\n",
    "            'per_task_examples': np.inf,\n",
    "            # 'per_task_examples': 10000,\n",
    "            'per_task_memory_examples': 64,\n",
    "            'batch_size_train': 64,\n",
    "            'batch_size_memory': 64,\n",
    "            'batch_size_validation': 256,\n",
    "            'tau': 1.,\n",
    "            # 'tau': 0.0,\n",
    "\n",
    "            # algorithm\n",
    "            'optimizer': 'sgd',\n",
    "            'learning_rate': 0.001,\n",
    "            'momentum': 0.9,\n",
    "            'learning_rate_decay': 1.0,\n",
    "            'criterion': torch.nn.BCEWithLogitsLoss(),\n",
    "            'device': torch.device('cuda:7' if torch.cuda.is_available() else 'cpu'),\n",
    "             \n",
    "            # sample selection\n",
    "            'alpha':0.000,\n",
    "            'lambda': .0,\n",
    "            'lambda_old': 0.0,\n",
    "              }\n",
    "\n",
    "#     trial_id = str(uuid.uuid4())\n",
    "    trial_id = f\"demo/dataset={params['dataset']}/seed={params['seed']}_epoch={params['epochs_per_task']}_lr={params['learning_rate']}_alpha={params['alpha']}_tau={params['tau']}\"\n",
    "    params['trial_id'] = trial_id\n",
    "    params['output_dir'] = os.path.join(\"./outputs/{}\".format(trial_id))\n",
    "    print(f\"output_dir={params['output_dir']}\")\n",
    "    Path(params['output_dir']).mkdir(parents=True, exist_ok=True)\n",
    "\n",
    "    return params\n",
    "\n",
    "params = make_params()"
   ]
  },
  {
   "cell_type": "code",
   "execution_count": 2,
   "id": "93b43ace",
   "metadata": {},
   "outputs": [],
   "source": [
    "from datasets import BiasedMNIST, Drug\n",
    "\n",
    "if  params['dataset'] in [\"BiasedMNIST\"]:\n",
    "    benchmark = BiasedMNIST(num_tasks=params['num_tasks'],\n",
    "                                per_task_memory_examples=params['per_task_memory_examples'],\n",
    "                                per_task_examples = params['per_task_examples'],\n",
    "                                random_class_idx=True)\n",
    "    input_dim = (3, 28, 28)\n",
    "elif params['dataset'] == 'Drug':        \n",
    "    benchmark = Drug(num_tasks=params['num_tasks'],\n",
    "                        per_task_memory_examples=params['per_task_memory_examples'],\n",
    "                        per_task_examples = params['per_task_examples'],\n",
    "                        joint = params['random_class_idx'],\n",
    "                        random_class_idx = params['random_class_idx'])\n",
    "    input_dim = (12)\n",
    "else:\n",
    "    raise NotImplementedError\n",
    "class_idx = benchmark.class_idx\n",
    "num_classes = len(class_idx)\n"
   ]
  },
  {
   "cell_type": "code",
   "execution_count": 3,
   "id": "20c7b886",
   "metadata": {},
   "outputs": [
    {
     "name": "stdout",
     "output_type": "stream",
     "text": [
      "iCaRL\n"
     ]
    }
   ],
   "source": [
    "from algorithms.icarl import iCaRL\n",
    "from metrics import FairMetricCollector\n",
    "from backbones import MLP2Layers2\n",
    "\n",
    "backbone = MLP2Layers2(\n",
    "    input_dim=input_dim, \n",
    "    hidden_dim_1=256, \n",
    "    hidden_dim_2=256, \n",
    "    output_dim=num_classes,\n",
    "    class_idx=class_idx,\n",
    "    config=params\n",
    "    ).to(params['device'])\n",
    "\n",
    "# from backbones import ResNet18\n",
    "# backbone = ResNet18(\n",
    "#     input_dim=input_dim, \n",
    "#     output_dim=num_classes,\n",
    "#     class_idx=class_idx,\n",
    "#     config=params\n",
    "#     ).to(params['device'])\n",
    "\n",
    "algorithm = iCaRL(backbone, benchmark, params, requires_memory=True)\n",
    "metric_manager_callback = FairMetricCollector(num_tasks=params['num_tasks'],\n",
    "                                                        eval_interval='epoch',\n",
    "                                                        epochs_per_task=params['epochs_per_task'])\n"
   ]
  },
  {
   "cell_type": "code",
   "execution_count": 4,
   "id": "dd70a95a",
   "metadata": {},
   "outputs": [
    {
     "data": {
      "text/plain": [
       "12"
      ]
     },
     "execution_count": 4,
     "metadata": {},
     "output_type": "execute_result"
    }
   ],
   "source": [
    "benchmark.drug_train.data.shape[-1]"
   ]
  },
  {
   "cell_type": "code",
   "execution_count": 5,
   "id": "d8efa3ad",
   "metadata": {},
   "outputs": [],
   "source": [
    "from trainers.baselines import BaseContinualTrainer as ContinualTrainer\n",
    "\n",
    "trainer = ContinualTrainer(algorithm, params, callbacks=[metric_manager_callback])\n"
   ]
  },
  {
   "cell_type": "code",
   "execution_count": 6,
   "id": "caecf807",
   "metadata": {},
   "outputs": [],
   "source": [
    "# CIFAR10: self.dataset.data.shape=(50000, 32, 32, 3)\n"
   ]
  },
  {
   "cell_type": "code",
   "execution_count": 7,
   "id": "7c1bb4fe",
   "metadata": {},
   "outputs": [
    {
     "name": "stdout",
     "output_type": "stream",
     "text": [
      "---------------------------- Task 1 -----------------------\n",
      "[1] Eval metrics for task 1 >> {'accuracy': 0.6344866071428572, 'loss': 0.0, 'std': 0.04520089285714285, 'EER': -1, 'EO': [0.23469387755102045, 0.3358974358974359], 'DP': -1, 'accuracy_s0': 0.6346153846153846, 'accuracy_s1': 0.584013605442177, 'classwise_accuracy': {0: array([ 87, 128]), 1: array([33, 56])}, 'DP_ingredients': {'class_pred_count_s0': {1: 35, 0: 21}, 'class_pred_count_s1': {0: 89, 1: 39}, 'class_pred_count': {1: 74, 0: 110}, 'count_s0': 56, 'count_s1': 128, 'count': 184}}\n",
      "[2] Eval metrics for task 1 >> {'accuracy': 0.6305803571428572, 'loss': 0.0, 'std': 0.04129464285714285, 'EER': -1, 'EO': [0.22448979591836737, 0.3358974358974359], 'DP': -1, 'accuracy_s0': 0.6346153846153846, 'accuracy_s1': 0.5789115646258504, 'classwise_accuracy': {0: array([ 86, 128]), 1: array([33, 56])}, 'DP_ingredients': {'class_pred_count_s0': {1: 35, 0: 21}, 'class_pred_count_s1': {0: 88, 1: 40}, 'class_pred_count': {0: 109, 1: 75}, 'count_s0': 56, 'count_s1': 128, 'count': 184}}\n",
      "[3] Eval metrics for task 1 >> {'accuracy': 0.6216517857142857, 'loss': 0.0, 'std': 0.0502232142857143, 'EER': -1, 'EO': [0.2974358974358974, 0.22448979591836737], 'DP': -1, 'accuracy_s0': 0.6153846153846154, 'accuracy_s1': 0.5789115646258504, 'classwise_accuracy': {1: array([32, 56]), 0: array([ 86, 128])}, 'DP_ingredients': {'class_pred_count_s0': {1: 34, 0: 22}, 'class_pred_count_s1': {1: 40, 0: 88}, 'class_pred_count': {1: 74, 0: 110}, 'count_s0': 56, 'count_s1': 128, 'count': 184}}\n",
      "[4] Eval metrics for task 1 >> {'accuracy': 0.6216517857142857, 'loss': 0.0, 'std': 0.0502232142857143, 'EER': -1, 'EO': [0.22448979591836737, 0.2974358974358974], 'DP': -1, 'accuracy_s0': 0.6153846153846154, 'accuracy_s1': 0.5789115646258504, 'classwise_accuracy': {0: array([ 86, 128]), 1: array([32, 56])}, 'DP_ingredients': {'class_pred_count_s0': {1: 34, 0: 22}, 'class_pred_count_s1': {1: 40, 0: 88}, 'class_pred_count': {1: 74, 0: 110}, 'count_s0': 56, 'count_s1': 128, 'count': 184}}\n",
      "[5] Eval metrics for task 1 >> {'accuracy': 0.6216517857142857, 'loss': 0.0, 'std': 0.0502232142857143, 'EER': -1, 'EO': [0.2974358974358974, 0.22448979591836737], 'DP': -1, 'accuracy_s0': 0.6153846153846154, 'accuracy_s1': 0.5789115646258504, 'classwise_accuracy': {1: array([32, 56]), 0: array([ 86, 128])}, 'DP_ingredients': {'class_pred_count_s0': {1: 34, 0: 22}, 'class_pred_count_s1': {1: 40, 0: 88}, 'class_pred_count': {1: 74, 0: 110}, 'count_s0': 56, 'count_s1': 128, 'count': 184}}\n",
      "[6] Eval metrics for task 1 >> {'accuracy': 0.6255580357142857, 'loss': 0.0, 'std': 0.0541294642857143, 'EER': -1, 'EO': [0.2974358974358974, 0.23469387755102045], 'DP': -1, 'accuracy_s0': 0.6153846153846154, 'accuracy_s1': 0.584013605442177, 'classwise_accuracy': {1: array([32, 56]), 0: array([ 87, 128])}, 'DP_ingredients': {'class_pred_count_s0': {0: 22, 1: 34}, 'class_pred_count_s1': {1: 39, 0: 89}, 'class_pred_count': {1: 73, 0: 111}, 'count_s0': 56, 'count_s1': 128, 'count': 184}}\n",
      "[7] Eval metrics for task 1 >> {'accuracy': 0.6294642857142857, 'loss': 0.0, 'std': 0.0580357142857143, 'EER': -1, 'EO': [0.20136054421768712, 0.2974358974358974], 'DP': -1, 'accuracy_s0': 0.632051282051282, 'accuracy_s1': 0.584013605442177, 'classwise_accuracy': {0: array([ 88, 128]), 1: array([32, 56])}, 'DP_ingredients': {'class_pred_count_s0': {0: 23, 1: 33}, 'class_pred_count_s1': {0: 89, 1: 39}, 'class_pred_count': {0: 112, 1: 72}, 'count_s0': 56, 'count_s1': 128, 'count': 184}}\n",
      "[8] Eval metrics for task 1 >> {'accuracy': 0.6205357142857143, 'loss': 0.0, 'std': 0.0669642857142857, 'EER': -1, 'EO': [0.20136054421768712, 0.3307692307692307], 'DP': -1, 'accuracy_s0': 0.632051282051282, 'accuracy_s1': 0.5673469387755102, 'classwise_accuracy': {0: array([ 88, 128]), 1: array([31, 56])}, 'DP_ingredients': {'class_pred_count_s0': {1: 33, 0: 23}, 'class_pred_count_s1': {1: 38, 0: 90}, 'class_pred_count': {1: 71, 0: 113}, 'count_s0': 56, 'count_s1': 128, 'count': 184}}\n",
      "[9] Eval metrics for task 1 >> {'accuracy': 0.6205357142857143, 'loss': 0.0, 'std': 0.0669642857142857, 'EER': -1, 'EO': [0.20136054421768712, 0.3307692307692307], 'DP': -1, 'accuracy_s0': 0.632051282051282, 'accuracy_s1': 0.5673469387755102, 'classwise_accuracy': {0: array([ 88, 128]), 1: array([31, 56])}, 'DP_ingredients': {'class_pred_count_s0': {0: 23, 1: 33}, 'class_pred_count_s1': {1: 38, 0: 90}, 'class_pred_count': {0: 113, 1: 71}, 'count_s0': 56, 'count_s1': 128, 'count': 184}}\n",
      "[10] Eval metrics for task 1 >> {'accuracy': 0.6205357142857143, 'loss': 0.0, 'std': 0.0669642857142857, 'EER': -1, 'EO': [0.20136054421768712, 0.3307692307692307], 'DP': -1, 'accuracy_s0': 0.632051282051282, 'accuracy_s1': 0.5673469387755102, 'classwise_accuracy': {0: array([ 88, 128]), 1: array([31, 56])}, 'DP_ingredients': {'class_pred_count_s0': {0: 23, 1: 33}, 'class_pred_count_s1': {1: 38, 0: 90}, 'class_pred_count': {1: 71, 0: 113}, 'count_s0': 56, 'count_s1': 128, 'count': 184}}\n",
      "[11] Eval metrics for task 1 >> {'accuracy': 0.6205357142857143, 'loss': 0.0, 'std': 0.0669642857142857, 'EER': -1, 'EO': [0.20136054421768712, 0.3307692307692307], 'DP': -1, 'accuracy_s0': 0.632051282051282, 'accuracy_s1': 0.5673469387755102, 'classwise_accuracy': {0: array([ 88, 128]), 1: array([31, 56])}, 'DP_ingredients': {'class_pred_count_s0': {0: 23, 1: 33}, 'class_pred_count_s1': {0: 90, 1: 38}, 'class_pred_count': {0: 113, 1: 71}, 'count_s0': 56, 'count_s1': 128, 'count': 184}}\n",
      "[12] Eval metrics for task 1 >> {'accuracy': 0.6205357142857143, 'loss': 0.0, 'std': 0.0669642857142857, 'EER': -1, 'EO': [0.20136054421768712, 0.3307692307692307], 'DP': -1, 'accuracy_s0': 0.632051282051282, 'accuracy_s1': 0.5673469387755102, 'classwise_accuracy': {0: array([ 88, 128]), 1: array([31, 56])}, 'DP_ingredients': {'class_pred_count_s0': {1: 33, 0: 23}, 'class_pred_count_s1': {0: 90, 1: 38}, 'class_pred_count': {0: 113, 1: 71}, 'count_s0': 56, 'count_s1': 128, 'count': 184}}\n",
      "[13] Eval metrics for task 1 >> {'accuracy': 0.6205357142857143, 'loss': 0.0, 'std': 0.0669642857142857, 'EER': -1, 'EO': [0.20136054421768712, 0.3307692307692307], 'DP': -1, 'accuracy_s0': 0.632051282051282, 'accuracy_s1': 0.5673469387755102, 'classwise_accuracy': {0: array([ 88, 128]), 1: array([31, 56])}, 'DP_ingredients': {'class_pred_count_s0': {1: 33, 0: 23}, 'class_pred_count_s1': {0: 90, 1: 38}, 'class_pred_count': {0: 113, 1: 71}, 'count_s0': 56, 'count_s1': 128, 'count': 184}}\n",
      "[14] Eval metrics for task 1 >> {'accuracy': 0.6205357142857143, 'loss': 0.0, 'std': 0.0669642857142857, 'EER': -1, 'EO': [0.3307692307692307, 0.20136054421768712], 'DP': -1, 'accuracy_s0': 0.632051282051282, 'accuracy_s1': 0.5673469387755102, 'classwise_accuracy': {1: array([31, 56]), 0: array([ 88, 128])}, 'DP_ingredients': {'class_pred_count_s0': {1: 33, 0: 23}, 'class_pred_count_s1': {1: 38, 0: 90}, 'class_pred_count': {1: 71, 0: 113}, 'count_s0': 56, 'count_s1': 128, 'count': 184}}\n",
      "[15] Eval metrics for task 1 >> {'accuracy': 0.6205357142857143, 'loss': 0.0, 'std': 0.0669642857142857, 'EER': -1, 'EO': [0.20136054421768712, 0.3307692307692307], 'DP': -1, 'accuracy_s0': 0.632051282051282, 'accuracy_s1': 0.5673469387755102, 'classwise_accuracy': {0: array([ 88, 128]), 1: array([31, 56])}, 'DP_ingredients': {'class_pred_count_s0': {1: 33, 0: 23}, 'class_pred_count_s1': {0: 90, 1: 38}, 'class_pred_count': {0: 113, 1: 71}, 'count_s0': 56, 'count_s1': 128, 'count': 184}}\n",
      "[16] Eval metrics for task 1 >> {'accuracy': 0.6205357142857143, 'loss': 0.0, 'std': 0.0669642857142857, 'EER': -1, 'EO': [0.3307692307692307, 0.20136054421768712], 'DP': -1, 'accuracy_s0': 0.632051282051282, 'accuracy_s1': 0.5673469387755102, 'classwise_accuracy': {1: array([31, 56]), 0: array([ 88, 128])}, 'DP_ingredients': {'class_pred_count_s0': {1: 33, 0: 23}, 'class_pred_count_s1': {0: 90, 1: 38}, 'class_pred_count': {0: 113, 1: 71}, 'count_s0': 56, 'count_s1': 128, 'count': 184}}\n",
      "[17] Eval metrics for task 1 >> {'accuracy': 0.6205357142857143, 'loss': 0.0, 'std': 0.0669642857142857, 'EER': -1, 'EO': [0.20136054421768712, 0.3307692307692307], 'DP': -1, 'accuracy_s0': 0.632051282051282, 'accuracy_s1': 0.5673469387755102, 'classwise_accuracy': {0: array([ 88, 128]), 1: array([31, 56])}, 'DP_ingredients': {'class_pred_count_s0': {1: 33, 0: 23}, 'class_pred_count_s1': {0: 90, 1: 38}, 'class_pred_count': {0: 113, 1: 71}, 'count_s0': 56, 'count_s1': 128, 'count': 184}}\n",
      "[18] Eval metrics for task 1 >> {'accuracy': 0.6166294642857143, 'loss': 0.0, 'std': 0.0630580357142857, 'EER': -1, 'EO': [0.19115646258503405, 0.3307692307692307], 'DP': -1, 'accuracy_s0': 0.632051282051282, 'accuracy_s1': 0.5622448979591836, 'classwise_accuracy': {0: array([ 87, 128]), 1: array([31, 56])}, 'DP_ingredients': {'class_pred_count_s0': {0: 23, 1: 33}, 'class_pred_count_s1': {0: 89, 1: 39}, 'class_pred_count': {0: 112, 1: 72}, 'count_s0': 56, 'count_s1': 128, 'count': 184}}\n",
      "[19] Eval metrics for task 1 >> {'accuracy': 0.6166294642857143, 'loss': 0.0, 'std': 0.0630580357142857, 'EER': -1, 'EO': [0.19115646258503405, 0.3307692307692307], 'DP': -1, 'accuracy_s0': 0.632051282051282, 'accuracy_s1': 0.5622448979591836, 'classwise_accuracy': {0: array([ 87, 128]), 1: array([31, 56])}, 'DP_ingredients': {'class_pred_count_s0': {1: 33, 0: 23}, 'class_pred_count_s1': {0: 89, 1: 39}, 'class_pred_count': {0: 112, 1: 72}, 'count_s0': 56, 'count_s1': 128, 'count': 184}}\n",
      "[20] Eval metrics for task 1 >> {'accuracy': 0.6166294642857143, 'loss': 0.0, 'std': 0.0630580357142857, 'EER': -1, 'EO': [0.3307692307692307, 0.19115646258503405], 'DP': -1, 'accuracy_s0': 0.632051282051282, 'accuracy_s1': 0.5622448979591836, 'classwise_accuracy': {1: array([31, 56]), 0: array([ 87, 128])}, 'DP_ingredients': {'class_pred_count_s0': {1: 33, 0: 23}, 'class_pred_count_s1': {0: 89, 1: 39}, 'class_pred_count': {0: 112, 1: 72}, 'count_s0': 56, 'count_s1': 128, 'count': 184}}\n",
      "[21] Eval metrics for task 1 >> {'accuracy': 0.6077008928571428, 'loss': 0.0, 'std': 0.07198660714285715, 'EER': -1, 'EO': [0.19115646258503405, 0.3641025641025641], 'DP': -1, 'accuracy_s0': 0.632051282051282, 'accuracy_s1': 0.545578231292517, 'classwise_accuracy': {0: array([ 87, 128]), 1: array([30, 56])}, 'DP_ingredients': {'class_pred_count_s0': {1: 33, 0: 23}, 'class_pred_count_s1': {0: 90, 1: 38}, 'class_pred_count': {0: 113, 1: 71}, 'count_s0': 56, 'count_s1': 128, 'count': 184}}\n",
      "[22] Eval metrics for task 1 >> {'accuracy': 0.6077008928571428, 'loss': 0.0, 'std': 0.07198660714285715, 'EER': -1, 'EO': [0.19115646258503405, 0.3641025641025641], 'DP': -1, 'accuracy_s0': 0.632051282051282, 'accuracy_s1': 0.545578231292517, 'classwise_accuracy': {0: array([ 87, 128]), 1: array([30, 56])}, 'DP_ingredients': {'class_pred_count_s0': {1: 33, 0: 23}, 'class_pred_count_s1': {0: 90, 1: 38}, 'class_pred_count': {0: 113, 1: 71}, 'count_s0': 56, 'count_s1': 128, 'count': 184}}\n",
      "[23] Eval metrics for task 1 >> {'accuracy': 0.6077008928571428, 'loss': 0.0, 'std': 0.07198660714285715, 'EER': -1, 'EO': [0.3641025641025641, 0.19115646258503405], 'DP': -1, 'accuracy_s0': 0.632051282051282, 'accuracy_s1': 0.545578231292517, 'classwise_accuracy': {1: array([30, 56]), 0: array([ 87, 128])}, 'DP_ingredients': {'class_pred_count_s0': {1: 33, 0: 23}, 'class_pred_count_s1': {0: 90, 1: 38}, 'class_pred_count': {1: 71, 0: 113}, 'count_s0': 56, 'count_s1': 128, 'count': 184}}\n",
      "[24] Eval metrics for task 1 >> {'accuracy': 0.6077008928571428, 'loss': 0.0, 'std': 0.07198660714285715, 'EER': -1, 'EO': [0.19115646258503405, 0.3641025641025641], 'DP': -1, 'accuracy_s0': 0.632051282051282, 'accuracy_s1': 0.545578231292517, 'classwise_accuracy': {0: array([ 87, 128]), 1: array([30, 56])}, 'DP_ingredients': {'class_pred_count_s0': {1: 33, 0: 23}, 'class_pred_count_s1': {0: 90, 1: 38}, 'class_pred_count': {1: 71, 0: 113}, 'count_s0': 56, 'count_s1': 128, 'count': 184}}\n",
      "[25] Eval metrics for task 1 >> {'accuracy': 0.6077008928571428, 'loss': 0.0, 'std': 0.07198660714285715, 'EER': -1, 'EO': [0.19115646258503405, 0.3641025641025641], 'DP': -1, 'accuracy_s0': 0.632051282051282, 'accuracy_s1': 0.545578231292517, 'classwise_accuracy': {0: array([ 87, 128]), 1: array([30, 56])}, 'DP_ingredients': {'class_pred_count_s0': {1: 33, 0: 23}, 'class_pred_count_s1': {1: 38, 0: 90}, 'class_pred_count': {1: 71, 0: 113}, 'count_s0': 56, 'count_s1': 128, 'count': 184}}\n",
      "Reduce size of class 0 to 0 examplar\n",
      "Reduce size of class 1 to 0 examplar\n",
      "Reduce size of class 2 to 0 examplar\n",
      "Reduce size of class 3 to 0 examplar\n",
      "Reduce size of class 4 to 0 examplar\n",
      "Reduce size of class 5 to 0 examplar\n",
      "construct class 0 examplar:\n",
      "len(self.exemplar_dict[cls])=96\n",
      "construct class 1 examplar:\n",
      "len(self.exemplar_dict[cls])=96\n",
      "update_memory_after_train\n",
      "---------------------------- Task 2 -----------------------\n",
      "[26] Eval metrics for task 1 >> {'accuracy': 0.4933035714285714, 'loss': 0.0, 'std': 0.10044642857142858, 'EER': -1, 'EO': [0.16598639455782316, 0.34358974358974353], 'DP': -1, 'accuracy_s0': 0.5217948717948717, 'accuracy_s1': 0.4329931972789116, 'classwise_accuracy': {0: array([ 76, 128]), 1: array([22, 56])}, 'DP_ingredients': {'class_pred_count_s0': {0: 21, 1: 21, 2: 8, 3: 6}, 'class_pred_count_s1': {0: 80, 1: 18, 3: 13, 2: 17}, 'class_pred_count': {0: 101, 1: 39, 2: 25, 3: 19}, 'count_s0': 56, 'count_s1': 128, 'count': 184}}\n",
      "[26] Eval metrics for task 2 >> {'accuracy': 0.42964352720450283, 'loss': 0.0, 'std': 0.1857410881801126, 'EER': -1, 'EO': [0.3088235294117647, 0.14972527472527472], 'DP': -1, 'accuracy_s0': 0.5480769230769231, 'accuracy_s1': 0.31880252100840334, 'classwise_accuracy': {3: array([48, 78]), 2: array([20, 82])}, 'DP_ingredients': {'class_pred_count_s0': {3: 42, 0: 5, 1: 10, 2: 13}, 'class_pred_count_s1': {1: 10, 2: 20, 0: 33, 3: 27}, 'class_pred_count': {3: 69, 1: 20, 2: 33, 0: 38}, 'count_s0': 70, 'count_s1': 90, 'count': 160}}\n",
      "[27] Eval metrics for task 1 >> {'accuracy': 0.4933035714285714, 'loss': 0.0, 'std': 0.10044642857142858, 'EER': -1, 'EO': [0.34358974358974353, 0.16598639455782316], 'DP': -1, 'accuracy_s0': 0.5217948717948717, 'accuracy_s1': 0.4329931972789116, 'classwise_accuracy': {1: array([22, 56]), 0: array([ 76, 128])}, 'DP_ingredients': {'class_pred_count_s0': {1: 21, 3: 6, 0: 21, 2: 8}, 'class_pred_count_s1': {2: 17, 0: 80, 1: 18, 3: 13}, 'class_pred_count': {2: 25, 0: 101, 1: 39, 3: 19}, 'count_s0': 56, 'count_s1': 128, 'count': 184}}\n",
      "[27] Eval metrics for task 2 >> {'accuracy': 0.42964352720450283, 'loss': 0.0, 'std': 0.1857410881801126, 'EER': -1, 'EO': [0.14972527472527472, 0.3088235294117647], 'DP': -1, 'accuracy_s0': 0.5480769230769231, 'accuracy_s1': 0.31880252100840334, 'classwise_accuracy': {2: array([20, 82]), 3: array([48, 78])}, 'DP_ingredients': {'class_pred_count_s0': {3: 42, 2: 13, 0: 5, 1: 10}, 'class_pred_count_s1': {3: 27, 0: 33, 2: 20, 1: 10}, 'class_pred_count': {3: 69, 0: 38, 2: 33, 1: 20}, 'count_s0': 70, 'count_s1': 90, 'count': 160}}\n",
      "[28] Eval metrics for task 1 >> {'accuracy': 0.4933035714285714, 'loss': 0.0, 'std': 0.10044642857142858, 'EER': -1, 'EO': [0.16598639455782316, 0.34358974358974353], 'DP': -1, 'accuracy_s0': 0.5217948717948717, 'accuracy_s1': 0.4329931972789116, 'classwise_accuracy': {0: array([ 76, 128]), 1: array([22, 56])}, 'DP_ingredients': {'class_pred_count_s0': {2: 8, 1: 21, 3: 6, 0: 21}, 'class_pred_count_s1': {0: 80, 1: 18, 2: 17, 3: 13}, 'class_pred_count': {0: 101, 1: 39, 2: 25, 3: 19}, 'count_s0': 56, 'count_s1': 128, 'count': 184}}\n",
      "[28] Eval metrics for task 2 >> {'accuracy': 0.42964352720450283, 'loss': 0.0, 'std': 0.1857410881801126, 'EER': -1, 'EO': [0.3088235294117647, 0.14972527472527472], 'DP': -1, 'accuracy_s0': 0.5480769230769231, 'accuracy_s1': 0.31880252100840334, 'classwise_accuracy': {3: array([48, 78]), 2: array([20, 82])}, 'DP_ingredients': {'class_pred_count_s0': {3: 42, 1: 10, 0: 5, 2: 13}, 'class_pred_count_s1': {1: 10, 0: 33, 2: 20, 3: 27}, 'class_pred_count': {3: 69, 1: 20, 0: 38, 2: 33}, 'count_s0': 70, 'count_s1': 90, 'count': 160}}\n",
      "[29] Eval metrics for task 1 >> {'accuracy': 0.4933035714285714, 'loss': 0.0, 'std': 0.10044642857142858, 'EER': -1, 'EO': [0.16598639455782316, 0.34358974358974353], 'DP': -1, 'accuracy_s0': 0.5217948717948717, 'accuracy_s1': 0.4329931972789116, 'classwise_accuracy': {0: array([ 76, 128]), 1: array([22, 56])}, 'DP_ingredients': {'class_pred_count_s0': {1: 21, 2: 8, 0: 21, 3: 6}, 'class_pred_count_s1': {0: 80, 2: 17, 3: 13, 1: 18}, 'class_pred_count': {0: 101, 1: 39, 2: 25, 3: 19}, 'count_s0': 56, 'count_s1': 128, 'count': 184}}\n",
      "[29] Eval metrics for task 2 >> {'accuracy': 0.42964352720450283, 'loss': 0.0, 'std': 0.1857410881801126, 'EER': -1, 'EO': [0.3088235294117647, 0.14972527472527472], 'DP': -1, 'accuracy_s0': 0.5480769230769231, 'accuracy_s1': 0.31880252100840334, 'classwise_accuracy': {3: array([48, 78]), 2: array([20, 82])}, 'DP_ingredients': {'class_pred_count_s0': {3: 42, 1: 10, 2: 13, 0: 5}, 'class_pred_count_s1': {3: 27, 0: 33, 2: 20, 1: 10}, 'class_pred_count': {3: 69, 0: 38, 1: 20, 2: 33}, 'count_s0': 70, 'count_s1': 90, 'count': 160}}\n",
      "[30] Eval metrics for task 1 >> {'accuracy': 0.4933035714285714, 'loss': 0.0, 'std': 0.10044642857142858, 'EER': -1, 'EO': [0.16598639455782316, 0.34358974358974353], 'DP': -1, 'accuracy_s0': 0.5217948717948717, 'accuracy_s1': 0.4329931972789116, 'classwise_accuracy': {0: array([ 76, 128]), 1: array([22, 56])}, 'DP_ingredients': {'class_pred_count_s0': {2: 8, 1: 21, 0: 21, 3: 6}, 'class_pred_count_s1': {0: 80, 2: 17, 3: 13, 1: 18}, 'class_pred_count': {0: 101, 2: 25, 1: 39, 3: 19}, 'count_s0': 56, 'count_s1': 128, 'count': 184}}\n",
      "[30] Eval metrics for task 2 >> {'accuracy': 0.42964352720450283, 'loss': 0.0, 'std': 0.1857410881801126, 'EER': -1, 'EO': [0.14972527472527472, 0.3088235294117647], 'DP': -1, 'accuracy_s0': 0.5480769230769231, 'accuracy_s1': 0.31880252100840334, 'classwise_accuracy': {2: array([20, 82]), 3: array([48, 78])}, 'DP_ingredients': {'class_pred_count_s0': {3: 42, 0: 5, 1: 10, 2: 13}, 'class_pred_count_s1': {0: 33, 1: 10, 3: 27, 2: 20}, 'class_pred_count': {3: 69, 0: 38, 1: 20, 2: 33}, 'count_s0': 70, 'count_s1': 90, 'count': 160}}\n",
      "[31] Eval metrics for task 1 >> {'accuracy': 0.4933035714285714, 'loss': 0.0, 'std': 0.10044642857142858, 'EER': -1, 'EO': [0.16598639455782316, 0.34358974358974353], 'DP': -1, 'accuracy_s0': 0.5217948717948717, 'accuracy_s1': 0.4329931972789116, 'classwise_accuracy': {0: array([ 76, 128]), 1: array([22, 56])}, 'DP_ingredients': {'class_pred_count_s0': {0: 21, 1: 21, 2: 8, 3: 6}, 'class_pred_count_s1': {0: 80, 2: 17, 1: 18, 3: 13}, 'class_pred_count': {0: 101, 2: 25, 1: 39, 3: 19}, 'count_s0': 56, 'count_s1': 128, 'count': 184}}\n",
      "[31] Eval metrics for task 2 >> {'accuracy': 0.42964352720450283, 'loss': 0.0, 'std': 0.1857410881801126, 'EER': -1, 'EO': [0.3088235294117647, 0.14972527472527472], 'DP': -1, 'accuracy_s0': 0.5480769230769231, 'accuracy_s1': 0.31880252100840334, 'classwise_accuracy': {3: array([48, 78]), 2: array([20, 82])}, 'DP_ingredients': {'class_pred_count_s0': {2: 13, 3: 42, 1: 10, 0: 5}, 'class_pred_count_s1': {3: 27, 2: 20, 0: 33, 1: 10}, 'class_pred_count': {3: 69, 2: 33, 0: 38, 1: 20}, 'count_s0': 70, 'count_s1': 90, 'count': 160}}\n",
      "[32] Eval metrics for task 1 >> {'accuracy': 0.4933035714285714, 'loss': 0.0, 'std': 0.10044642857142858, 'EER': -1, 'EO': [0.16598639455782316, 0.34358974358974353], 'DP': -1, 'accuracy_s0': 0.5217948717948717, 'accuracy_s1': 0.4329931972789116, 'classwise_accuracy': {0: array([ 76, 128]), 1: array([22, 56])}, 'DP_ingredients': {'class_pred_count_s0': {0: 21, 2: 8, 3: 6, 1: 21}, 'class_pred_count_s1': {0: 80, 3: 13, 1: 18, 2: 17}, 'class_pred_count': {0: 101, 3: 19, 1: 39, 2: 25}, 'count_s0': 56, 'count_s1': 128, 'count': 184}}\n",
      "[32] Eval metrics for task 2 >> {'accuracy': 0.42964352720450283, 'loss': 0.0, 'std': 0.1857410881801126, 'EER': -1, 'EO': [0.3088235294117647, 0.14972527472527472], 'DP': -1, 'accuracy_s0': 0.5480769230769231, 'accuracy_s1': 0.31880252100840334, 'classwise_accuracy': {3: array([48, 78]), 2: array([20, 82])}, 'DP_ingredients': {'class_pred_count_s0': {3: 42, 1: 10, 2: 13, 0: 5}, 'class_pred_count_s1': {0: 33, 3: 27, 2: 20, 1: 10}, 'class_pred_count': {0: 38, 3: 69, 1: 20, 2: 33}, 'count_s0': 70, 'count_s1': 90, 'count': 160}}\n",
      "[33] Eval metrics for task 1 >> {'accuracy': 0.4933035714285714, 'loss': 0.0, 'std': 0.10044642857142858, 'EER': -1, 'EO': [0.34358974358974353, 0.16598639455782316], 'DP': -1, 'accuracy_s0': 0.5217948717948717, 'accuracy_s1': 0.4329931972789116, 'classwise_accuracy': {1: array([22, 56]), 0: array([ 76, 128])}, 'DP_ingredients': {'class_pred_count_s0': {2: 8, 0: 21, 1: 21, 3: 6}, 'class_pred_count_s1': {0: 80, 1: 18, 2: 17, 3: 13}, 'class_pred_count': {2: 25, 0: 101, 1: 39, 3: 19}, 'count_s0': 56, 'count_s1': 128, 'count': 184}}\n",
      "[33] Eval metrics for task 2 >> {'accuracy': 0.42964352720450283, 'loss': 0.0, 'std': 0.1857410881801126, 'EER': -1, 'EO': [0.3088235294117647, 0.14972527472527472], 'DP': -1, 'accuracy_s0': 0.5480769230769231, 'accuracy_s1': 0.31880252100840334, 'classwise_accuracy': {3: array([48, 78]), 2: array([20, 82])}, 'DP_ingredients': {'class_pred_count_s0': {2: 13, 3: 42, 1: 10, 0: 5}, 'class_pred_count_s1': {0: 33, 2: 20, 3: 27, 1: 10}, 'class_pred_count': {2: 33, 0: 38, 3: 69, 1: 20}, 'count_s0': 70, 'count_s1': 90, 'count': 160}}\n",
      "[34] Eval metrics for task 1 >> {'accuracy': 0.4933035714285714, 'loss': 0.0, 'std': 0.10044642857142858, 'EER': -1, 'EO': [0.34358974358974353, 0.16598639455782316], 'DP': -1, 'accuracy_s0': 0.5217948717948717, 'accuracy_s1': 0.4329931972789116, 'classwise_accuracy': {1: array([22, 56]), 0: array([ 76, 128])}, 'DP_ingredients': {'class_pred_count_s0': {3: 6, 0: 21, 1: 21, 2: 8}, 'class_pred_count_s1': {0: 80, 1: 18, 2: 17, 3: 13}, 'class_pred_count': {0: 101, 1: 39, 3: 19, 2: 25}, 'count_s0': 56, 'count_s1': 128, 'count': 184}}\n",
      "[34] Eval metrics for task 2 >> {'accuracy': 0.42964352720450283, 'loss': 0.0, 'std': 0.1857410881801126, 'EER': -1, 'EO': [0.14972527472527472, 0.3088235294117647], 'DP': -1, 'accuracy_s0': 0.5480769230769231, 'accuracy_s1': 0.31880252100840334, 'classwise_accuracy': {2: array([20, 82]), 3: array([48, 78])}, 'DP_ingredients': {'class_pred_count_s0': {3: 42, 2: 13, 0: 5, 1: 10}, 'class_pred_count_s1': {2: 20, 3: 27, 0: 33, 1: 10}, 'class_pred_count': {2: 33, 3: 69, 0: 38, 1: 20}, 'count_s0': 70, 'count_s1': 90, 'count': 160}}\n",
      "[35] Eval metrics for task 1 >> {'accuracy': 0.4933035714285714, 'loss': 0.0, 'std': 0.10044642857142858, 'EER': -1, 'EO': [0.16598639455782316, 0.34358974358974353], 'DP': -1, 'accuracy_s0': 0.5217948717948717, 'accuracy_s1': 0.4329931972789116, 'classwise_accuracy': {0: array([ 76, 128]), 1: array([22, 56])}, 'DP_ingredients': {'class_pred_count_s0': {2: 8, 1: 21, 0: 21, 3: 6}, 'class_pred_count_s1': {0: 80, 1: 18, 2: 17, 3: 13}, 'class_pred_count': {0: 101, 1: 39, 2: 25, 3: 19}, 'count_s0': 56, 'count_s1': 128, 'count': 184}}\n",
      "[35] Eval metrics for task 2 >> {'accuracy': 0.42964352720450283, 'loss': 0.0, 'std': 0.1857410881801126, 'EER': -1, 'EO': [0.14972527472527472, 0.3088235294117647], 'DP': -1, 'accuracy_s0': 0.5480769230769231, 'accuracy_s1': 0.31880252100840334, 'classwise_accuracy': {2: array([20, 82]), 3: array([48, 78])}, 'DP_ingredients': {'class_pred_count_s0': {3: 42, 2: 13, 0: 5, 1: 10}, 'class_pred_count_s1': {3: 27, 0: 33, 2: 20, 1: 10}, 'class_pred_count': {3: 69, 0: 38, 2: 33, 1: 20}, 'count_s0': 70, 'count_s1': 90, 'count': 160}}\n",
      "[36] Eval metrics for task 1 >> {'accuracy': 0.4933035714285714, 'loss': 0.0, 'std': 0.10044642857142858, 'EER': -1, 'EO': [0.16598639455782316, 0.34358974358974353], 'DP': -1, 'accuracy_s0': 0.5217948717948717, 'accuracy_s1': 0.4329931972789116, 'classwise_accuracy': {0: array([ 76, 128]), 1: array([22, 56])}, 'DP_ingredients': {'class_pred_count_s0': {3: 6, 1: 21, 0: 21, 2: 8}, 'class_pred_count_s1': {2: 17, 0: 80, 3: 13, 1: 18}, 'class_pred_count': {2: 25, 3: 19, 1: 39, 0: 101}, 'count_s0': 56, 'count_s1': 128, 'count': 184}}\n",
      "[36] Eval metrics for task 2 >> {'accuracy': 0.42964352720450283, 'loss': 0.0, 'std': 0.1857410881801126, 'EER': -1, 'EO': [0.14972527472527472, 0.3088235294117647], 'DP': -1, 'accuracy_s0': 0.5480769230769231, 'accuracy_s1': 0.31880252100840334, 'classwise_accuracy': {2: array([20, 82]), 3: array([48, 78])}, 'DP_ingredients': {'class_pred_count_s0': {3: 42, 0: 5, 2: 13, 1: 10}, 'class_pred_count_s1': {0: 33, 2: 20, 3: 27, 1: 10}, 'class_pred_count': {0: 38, 2: 33, 3: 69, 1: 20}, 'count_s0': 70, 'count_s1': 90, 'count': 160}}\n",
      "[37] Eval metrics for task 1 >> {'accuracy': 0.4933035714285714, 'loss': 0.0, 'std': 0.10044642857142858, 'EER': -1, 'EO': [0.16598639455782316, 0.34358974358974353], 'DP': -1, 'accuracy_s0': 0.5217948717948717, 'accuracy_s1': 0.4329931972789116, 'classwise_accuracy': {0: array([ 76, 128]), 1: array([22, 56])}, 'DP_ingredients': {'class_pred_count_s0': {1: 21, 3: 6, 0: 21, 2: 8}, 'class_pred_count_s1': {1: 18, 0: 80, 2: 17, 3: 13}, 'class_pred_count': {1: 39, 0: 101, 3: 19, 2: 25}, 'count_s0': 56, 'count_s1': 128, 'count': 184}}\n",
      "[37] Eval metrics for task 2 >> {'accuracy': 0.42964352720450283, 'loss': 0.0, 'std': 0.1857410881801126, 'EER': -1, 'EO': [0.14972527472527472, 0.3088235294117647], 'DP': -1, 'accuracy_s0': 0.5480769230769231, 'accuracy_s1': 0.31880252100840334, 'classwise_accuracy': {2: array([20, 82]), 3: array([48, 78])}, 'DP_ingredients': {'class_pred_count_s0': {3: 42, 1: 10, 0: 5, 2: 13}, 'class_pred_count_s1': {3: 27, 0: 33, 1: 10, 2: 20}, 'class_pred_count': {3: 69, 0: 38, 1: 20, 2: 33}, 'count_s0': 70, 'count_s1': 90, 'count': 160}}\n",
      "[38] Eval metrics for task 1 >> {'accuracy': 0.4933035714285714, 'loss': 0.0, 'std': 0.10044642857142858, 'EER': -1, 'EO': [0.34358974358974353, 0.16598639455782316], 'DP': -1, 'accuracy_s0': 0.5217948717948717, 'accuracy_s1': 0.4329931972789116, 'classwise_accuracy': {1: array([22, 56]), 0: array([ 76, 128])}, 'DP_ingredients': {'class_pred_count_s0': {2: 8, 1: 21, 0: 21, 3: 6}, 'class_pred_count_s1': {0: 80, 3: 13, 1: 18, 2: 17}, 'class_pred_count': {2: 25, 0: 101, 1: 39, 3: 19}, 'count_s0': 56, 'count_s1': 128, 'count': 184}}\n",
      "[38] Eval metrics for task 2 >> {'accuracy': 0.42964352720450283, 'loss': 0.0, 'std': 0.1857410881801126, 'EER': -1, 'EO': [0.3088235294117647, 0.14972527472527472], 'DP': -1, 'accuracy_s0': 0.5480769230769231, 'accuracy_s1': 0.31880252100840334, 'classwise_accuracy': {3: array([48, 78]), 2: array([20, 82])}, 'DP_ingredients': {'class_pred_count_s0': {3: 42, 1: 10, 2: 13, 0: 5}, 'class_pred_count_s1': {0: 33, 1: 10, 2: 20, 3: 27}, 'class_pred_count': {3: 69, 1: 20, 0: 38, 2: 33}, 'count_s0': 70, 'count_s1': 90, 'count': 160}}\n",
      "[39] Eval metrics for task 1 >> {'accuracy': 0.4933035714285714, 'loss': 0.0, 'std': 0.10044642857142858, 'EER': -1, 'EO': [0.16598639455782316, 0.34358974358974353], 'DP': -1, 'accuracy_s0': 0.5217948717948717, 'accuracy_s1': 0.4329931972789116, 'classwise_accuracy': {0: array([ 76, 128]), 1: array([22, 56])}, 'DP_ingredients': {'class_pred_count_s0': {1: 21, 3: 6, 2: 8, 0: 21}, 'class_pred_count_s1': {1: 18, 0: 80, 2: 17, 3: 13}, 'class_pred_count': {1: 39, 0: 101, 2: 25, 3: 19}, 'count_s0': 56, 'count_s1': 128, 'count': 184}}\n",
      "[39] Eval metrics for task 2 >> {'accuracy': 0.42964352720450283, 'loss': 0.0, 'std': 0.1857410881801126, 'EER': -1, 'EO': [0.14972527472527472, 0.3088235294117647], 'DP': -1, 'accuracy_s0': 0.5480769230769231, 'accuracy_s1': 0.31880252100840334, 'classwise_accuracy': {2: array([20, 82]), 3: array([48, 78])}, 'DP_ingredients': {'class_pred_count_s0': {2: 13, 1: 10, 0: 5, 3: 42}, 'class_pred_count_s1': {2: 20, 1: 10, 0: 33, 3: 27}, 'class_pred_count': {2: 33, 1: 20, 0: 38, 3: 69}, 'count_s0': 70, 'count_s1': 90, 'count': 160}}\n",
      "[40] Eval metrics for task 1 >> {'accuracy': 0.4933035714285714, 'loss': 0.0, 'std': 0.10044642857142858, 'EER': -1, 'EO': [0.16598639455782316, 0.34358974358974353], 'DP': -1, 'accuracy_s0': 0.5217948717948717, 'accuracy_s1': 0.4329931972789116, 'classwise_accuracy': {0: array([ 76, 128]), 1: array([22, 56])}, 'DP_ingredients': {'class_pred_count_s0': {0: 21, 2: 8, 1: 21, 3: 6}, 'class_pred_count_s1': {1: 18, 3: 13, 0: 80, 2: 17}, 'class_pred_count': {1: 39, 0: 101, 3: 19, 2: 25}, 'count_s0': 56, 'count_s1': 128, 'count': 184}}\n",
      "[40] Eval metrics for task 2 >> {'accuracy': 0.42964352720450283, 'loss': 0.0, 'std': 0.1857410881801126, 'EER': -1, 'EO': [0.14972527472527472, 0.3088235294117647], 'DP': -1, 'accuracy_s0': 0.5480769230769231, 'accuracy_s1': 0.31880252100840334, 'classwise_accuracy': {2: array([20, 82]), 3: array([48, 78])}, 'DP_ingredients': {'class_pred_count_s0': {3: 42, 1: 10, 2: 13, 0: 5}, 'class_pred_count_s1': {0: 33, 2: 20, 3: 27, 1: 10}, 'class_pred_count': {0: 38, 3: 69, 2: 33, 1: 20}, 'count_s0': 70, 'count_s1': 90, 'count': 160}}\n",
      "[41] Eval metrics for task 1 >> {'accuracy': 0.4933035714285714, 'loss': 0.0, 'std': 0.10044642857142858, 'EER': -1, 'EO': [0.34358974358974353, 0.16598639455782316], 'DP': -1, 'accuracy_s0': 0.5217948717948717, 'accuracy_s1': 0.4329931972789116, 'classwise_accuracy': {1: array([22, 56]), 0: array([ 76, 128])}, 'DP_ingredients': {'class_pred_count_s0': {0: 21, 1: 21, 3: 6, 2: 8}, 'class_pred_count_s1': {0: 80, 1: 18, 3: 13, 2: 17}, 'class_pred_count': {0: 101, 1: 39, 3: 19, 2: 25}, 'count_s0': 56, 'count_s1': 128, 'count': 184}}\n",
      "[41] Eval metrics for task 2 >> {'accuracy': 0.42964352720450283, 'loss': 0.0, 'std': 0.1857410881801126, 'EER': -1, 'EO': [0.14972527472527472, 0.3088235294117647], 'DP': -1, 'accuracy_s0': 0.5480769230769231, 'accuracy_s1': 0.31880252100840334, 'classwise_accuracy': {2: array([20, 82]), 3: array([48, 78])}, 'DP_ingredients': {'class_pred_count_s0': {1: 10, 3: 42, 0: 5, 2: 13}, 'class_pred_count_s1': {0: 33, 2: 20, 3: 27, 1: 10}, 'class_pred_count': {0: 38, 2: 33, 1: 20, 3: 69}, 'count_s0': 70, 'count_s1': 90, 'count': 160}}\n",
      "[42] Eval metrics for task 1 >> {'accuracy': 0.4933035714285714, 'loss': 0.0, 'std': 0.10044642857142858, 'EER': -1, 'EO': [0.16598639455782316, 0.34358974358974353], 'DP': -1, 'accuracy_s0': 0.5217948717948717, 'accuracy_s1': 0.4329931972789116, 'classwise_accuracy': {0: array([ 76, 128]), 1: array([22, 56])}, 'DP_ingredients': {'class_pred_count_s0': {0: 21, 2: 8, 1: 21, 3: 6}, 'class_pred_count_s1': {0: 80, 1: 18, 3: 13, 2: 17}, 'class_pred_count': {0: 101, 1: 39, 3: 19, 2: 25}, 'count_s0': 56, 'count_s1': 128, 'count': 184}}\n",
      "[42] Eval metrics for task 2 >> {'accuracy': 0.42964352720450283, 'loss': 0.0, 'std': 0.1857410881801126, 'EER': -1, 'EO': [0.3088235294117647, 0.14972527472527472], 'DP': -1, 'accuracy_s0': 0.5480769230769231, 'accuracy_s1': 0.31880252100840334, 'classwise_accuracy': {3: array([48, 78]), 2: array([20, 82])}, 'DP_ingredients': {'class_pred_count_s0': {3: 42, 0: 5, 1: 10, 2: 13}, 'class_pred_count_s1': {0: 33, 2: 20, 3: 27, 1: 10}, 'class_pred_count': {3: 69, 0: 38, 2: 33, 1: 20}, 'count_s0': 70, 'count_s1': 90, 'count': 160}}\n",
      "[43] Eval metrics for task 1 >> {'accuracy': 0.4933035714285714, 'loss': 0.0, 'std': 0.10044642857142858, 'EER': -1, 'EO': [0.16598639455782316, 0.34358974358974353], 'DP': -1, 'accuracy_s0': 0.5217948717948717, 'accuracy_s1': 0.4329931972789116, 'classwise_accuracy': {0: array([ 76, 128]), 1: array([22, 56])}, 'DP_ingredients': {'class_pred_count_s0': {0: 21, 3: 6, 1: 21, 2: 8}, 'class_pred_count_s1': {0: 80, 2: 17, 3: 13, 1: 18}, 'class_pred_count': {0: 101, 3: 19, 1: 39, 2: 25}, 'count_s0': 56, 'count_s1': 128, 'count': 184}}\n",
      "[43] Eval metrics for task 2 >> {'accuracy': 0.42964352720450283, 'loss': 0.0, 'std': 0.1857410881801126, 'EER': -1, 'EO': [0.3088235294117647, 0.14972527472527472], 'DP': -1, 'accuracy_s0': 0.5480769230769231, 'accuracy_s1': 0.31880252100840334, 'classwise_accuracy': {3: array([48, 78]), 2: array([20, 82])}, 'DP_ingredients': {'class_pred_count_s0': {0: 5, 3: 42, 1: 10, 2: 13}, 'class_pred_count_s1': {3: 27, 2: 20, 0: 33, 1: 10}, 'class_pred_count': {3: 69, 2: 33, 0: 38, 1: 20}, 'count_s0': 70, 'count_s1': 90, 'count': 160}}\n",
      "[44] Eval metrics for task 1 >> {'accuracy': 0.4933035714285714, 'loss': 0.0, 'std': 0.10044642857142858, 'EER': -1, 'EO': [0.16598639455782316, 0.34358974358974353], 'DP': -1, 'accuracy_s0': 0.5217948717948717, 'accuracy_s1': 0.4329931972789116, 'classwise_accuracy': {0: array([ 76, 128]), 1: array([22, 56])}, 'DP_ingredients': {'class_pred_count_s0': {2: 8, 1: 21, 0: 21, 3: 6}, 'class_pred_count_s1': {0: 80, 2: 17, 1: 18, 3: 13}, 'class_pred_count': {0: 101, 2: 25, 1: 39, 3: 19}, 'count_s0': 56, 'count_s1': 128, 'count': 184}}\n",
      "[44] Eval metrics for task 2 >> {'accuracy': 0.42964352720450283, 'loss': 0.0, 'std': 0.1857410881801126, 'EER': -1, 'EO': [0.3088235294117647, 0.14972527472527472], 'DP': -1, 'accuracy_s0': 0.5480769230769231, 'accuracy_s1': 0.31880252100840334, 'classwise_accuracy': {3: array([48, 78]), 2: array([20, 82])}, 'DP_ingredients': {'class_pred_count_s0': {3: 42, 2: 13, 1: 10, 0: 5}, 'class_pred_count_s1': {3: 27, 1: 10, 0: 33, 2: 20}, 'class_pred_count': {3: 69, 1: 20, 0: 38, 2: 33}, 'count_s0': 70, 'count_s1': 90, 'count': 160}}\n",
      "[45] Eval metrics for task 1 >> {'accuracy': 0.4933035714285714, 'loss': 0.0, 'std': 0.10044642857142858, 'EER': -1, 'EO': [0.16598639455782316, 0.34358974358974353], 'DP': -1, 'accuracy_s0': 0.5217948717948717, 'accuracy_s1': 0.4329931972789116, 'classwise_accuracy': {0: array([ 76, 128]), 1: array([22, 56])}, 'DP_ingredients': {'class_pred_count_s0': {1: 21, 3: 6, 0: 21, 2: 8}, 'class_pred_count_s1': {1: 18, 0: 80, 2: 17, 3: 13}, 'class_pred_count': {1: 39, 0: 101, 3: 19, 2: 25}, 'count_s0': 56, 'count_s1': 128, 'count': 184}}\n",
      "[45] Eval metrics for task 2 >> {'accuracy': 0.42964352720450283, 'loss': 0.0, 'std': 0.1857410881801126, 'EER': -1, 'EO': [0.3088235294117647, 0.14972527472527472], 'DP': -1, 'accuracy_s0': 0.5480769230769231, 'accuracy_s1': 0.31880252100840334, 'classwise_accuracy': {3: array([48, 78]), 2: array([20, 82])}, 'DP_ingredients': {'class_pred_count_s0': {3: 42, 1: 10, 2: 13, 0: 5}, 'class_pred_count_s1': {3: 27, 0: 33, 1: 10, 2: 20}, 'class_pred_count': {3: 69, 0: 38, 1: 20, 2: 33}, 'count_s0': 70, 'count_s1': 90, 'count': 160}}\n",
      "[46] Eval metrics for task 1 >> {'accuracy': 0.4933035714285714, 'loss': 0.0, 'std': 0.10044642857142858, 'EER': -1, 'EO': [0.16598639455782316, 0.34358974358974353], 'DP': -1, 'accuracy_s0': 0.5217948717948717, 'accuracy_s1': 0.4329931972789116, 'classwise_accuracy': {0: array([ 76, 128]), 1: array([22, 56])}, 'DP_ingredients': {'class_pred_count_s0': {2: 8, 1: 21, 0: 21, 3: 6}, 'class_pred_count_s1': {0: 80, 2: 17, 1: 18, 3: 13}, 'class_pred_count': {2: 25, 0: 101, 1: 39, 3: 19}, 'count_s0': 56, 'count_s1': 128, 'count': 184}}\n",
      "[46] Eval metrics for task 2 >> {'accuracy': 0.42964352720450283, 'loss': 0.0, 'std': 0.1857410881801126, 'EER': -1, 'EO': [0.14972527472527472, 0.3088235294117647], 'DP': -1, 'accuracy_s0': 0.5480769230769231, 'accuracy_s1': 0.31880252100840334, 'classwise_accuracy': {2: array([20, 82]), 3: array([48, 78])}, 'DP_ingredients': {'class_pred_count_s0': {2: 13, 3: 42, 1: 10, 0: 5}, 'class_pred_count_s1': {0: 33, 3: 27, 1: 10, 2: 20}, 'class_pred_count': {0: 38, 2: 33, 3: 69, 1: 20}, 'count_s0': 70, 'count_s1': 90, 'count': 160}}\n",
      "[47] Eval metrics for task 1 >> {'accuracy': 0.4933035714285714, 'loss': 0.0, 'std': 0.10044642857142858, 'EER': -1, 'EO': [0.16598639455782316, 0.34358974358974353], 'DP': -1, 'accuracy_s0': 0.5217948717948717, 'accuracy_s1': 0.4329931972789116, 'classwise_accuracy': {0: array([ 76, 128]), 1: array([22, 56])}, 'DP_ingredients': {'class_pred_count_s0': {1: 21, 0: 21, 2: 8, 3: 6}, 'class_pred_count_s1': {1: 18, 2: 17, 0: 80, 3: 13}, 'class_pred_count': {1: 39, 2: 25, 0: 101, 3: 19}, 'count_s0': 56, 'count_s1': 128, 'count': 184}}\n",
      "[47] Eval metrics for task 2 >> {'accuracy': 0.42964352720450283, 'loss': 0.0, 'std': 0.1857410881801126, 'EER': -1, 'EO': [0.14972527472527472, 0.3088235294117647], 'DP': -1, 'accuracy_s0': 0.5480769230769231, 'accuracy_s1': 0.31880252100840334, 'classwise_accuracy': {2: array([20, 82]), 3: array([48, 78])}, 'DP_ingredients': {'class_pred_count_s0': {1: 10, 3: 42, 2: 13, 0: 5}, 'class_pred_count_s1': {3: 27, 2: 20, 1: 10, 0: 33}, 'class_pred_count': {1: 20, 3: 69, 2: 33, 0: 38}, 'count_s0': 70, 'count_s1': 90, 'count': 160}}\n",
      "[48] Eval metrics for task 1 >> {'accuracy': 0.4933035714285714, 'loss': 0.0, 'std': 0.10044642857142858, 'EER': -1, 'EO': [0.16598639455782316, 0.34358974358974353], 'DP': -1, 'accuracy_s0': 0.5217948717948717, 'accuracy_s1': 0.4329931972789116, 'classwise_accuracy': {0: array([ 76, 128]), 1: array([22, 56])}, 'DP_ingredients': {'class_pred_count_s0': {1: 21, 0: 21, 3: 6, 2: 8}, 'class_pred_count_s1': {0: 80, 2: 17, 3: 13, 1: 18}, 'class_pred_count': {0: 101, 1: 39, 2: 25, 3: 19}, 'count_s0': 56, 'count_s1': 128, 'count': 184}}\n",
      "[48] Eval metrics for task 2 >> {'accuracy': 0.42964352720450283, 'loss': 0.0, 'std': 0.1857410881801126, 'EER': -1, 'EO': [0.3088235294117647, 0.14972527472527472], 'DP': -1, 'accuracy_s0': 0.5480769230769231, 'accuracy_s1': 0.31880252100840334, 'classwise_accuracy': {3: array([48, 78]), 2: array([20, 82])}, 'DP_ingredients': {'class_pred_count_s0': {3: 42, 1: 10, 2: 13, 0: 5}, 'class_pred_count_s1': {0: 33, 3: 27, 2: 20, 1: 10}, 'class_pred_count': {3: 69, 0: 38, 2: 33, 1: 20}, 'count_s0': 70, 'count_s1': 90, 'count': 160}}\n",
      "[49] Eval metrics for task 1 >> {'accuracy': 0.4933035714285714, 'loss': 0.0, 'std': 0.10044642857142858, 'EER': -1, 'EO': [0.16598639455782316, 0.34358974358974353], 'DP': -1, 'accuracy_s0': 0.5217948717948717, 'accuracy_s1': 0.4329931972789116, 'classwise_accuracy': {0: array([ 76, 128]), 1: array([22, 56])}, 'DP_ingredients': {'class_pred_count_s0': {1: 21, 2: 8, 3: 6, 0: 21}, 'class_pred_count_s1': {0: 80, 1: 18, 3: 13, 2: 17}, 'class_pred_count': {0: 101, 1: 39, 3: 19, 2: 25}, 'count_s0': 56, 'count_s1': 128, 'count': 184}}\n",
      "[49] Eval metrics for task 2 >> {'accuracy': 0.42964352720450283, 'loss': 0.0, 'std': 0.1857410881801126, 'EER': -1, 'EO': [0.3088235294117647, 0.14972527472527472], 'DP': -1, 'accuracy_s0': 0.5480769230769231, 'accuracy_s1': 0.31880252100840334, 'classwise_accuracy': {3: array([48, 78]), 2: array([20, 82])}, 'DP_ingredients': {'class_pred_count_s0': {3: 42, 2: 13, 0: 5, 1: 10}, 'class_pred_count_s1': {0: 33, 2: 20, 3: 27, 1: 10}, 'class_pred_count': {3: 69, 2: 33, 0: 38, 1: 20}, 'count_s0': 70, 'count_s1': 90, 'count': 160}}\n",
      "[50] Eval metrics for task 1 >> {'accuracy': 0.4933035714285714, 'loss': 0.0, 'std': 0.10044642857142858, 'EER': -1, 'EO': [0.16598639455782316, 0.34358974358974353], 'DP': -1, 'accuracy_s0': 0.5217948717948717, 'accuracy_s1': 0.4329931972789116, 'classwise_accuracy': {0: array([ 76, 128]), 1: array([22, 56])}, 'DP_ingredients': {'class_pred_count_s0': {0: 21, 1: 21, 3: 6, 2: 8}, 'class_pred_count_s1': {0: 80, 3: 13, 1: 18, 2: 17}, 'class_pred_count': {0: 101, 3: 19, 1: 39, 2: 25}, 'count_s0': 56, 'count_s1': 128, 'count': 184}}\n",
      "[50] Eval metrics for task 2 >> {'accuracy': 0.42964352720450283, 'loss': 0.0, 'std': 0.1857410881801126, 'EER': -1, 'EO': [0.14972527472527472, 0.3088235294117647], 'DP': -1, 'accuracy_s0': 0.5480769230769231, 'accuracy_s1': 0.31880252100840334, 'classwise_accuracy': {2: array([20, 82]), 3: array([48, 78])}, 'DP_ingredients': {'class_pred_count_s0': {3: 42, 1: 10, 2: 13, 0: 5}, 'class_pred_count_s1': {1: 10, 2: 20, 3: 27, 0: 33}, 'class_pred_count': {1: 20, 2: 33, 3: 69, 0: 38}, 'count_s0': 70, 'count_s1': 90, 'count': 160}}\n",
      "Reduce size of class 0 to 48 examplar\n",
      "Reduce size of class 1 to 48 examplar\n",
      "Reduce size of class 2 to 0 examplar\n",
      "Reduce size of class 3 to 0 examplar\n",
      "Reduce size of class 4 to 0 examplar\n",
      "Reduce size of class 5 to 0 examplar\n",
      "construct class 2 examplar:\n",
      "len(self.exemplar_dict[cls])=48\n",
      "construct class 3 examplar:\n",
      "len(self.exemplar_dict[cls])=48\n",
      "update_memory_after_train\n",
      "---------------------------- Task 3 -----------------------\n",
      "[51] Eval metrics for task 1 >> {'accuracy': 0.49832589285714285, 'loss': 0.0, 'std': 0.08761160714285715, 'EER': -1, 'EO': [0.3102564102564102, 0.15578231292517009], 'DP': -1, 'accuracy_s0': 0.5217948717948717, 'accuracy_s1': 0.44455782312925174, 'classwise_accuracy': {1: array([23, 56]), 0: array([ 75, 128])}, 'DP_ingredients': {'class_pred_count_s0': {1: 20, 5: 4, 0: 21, 2: 7, 3: 4}, 'class_pred_count_s1': {0: 78, 3: 9, 5: 3, 1: 20, 2: 14, 4: 4}, 'class_pred_count': {1: 40, 5: 7, 0: 99, 3: 13, 2: 21, 4: 4}, 'count_s0': 56, 'count_s1': 128, 'count': 184}}\n",
      "[51] Eval metrics for task 2 >> {'accuracy': 0.21904315196998125, 'loss': 0.0, 'std': 0.011726078799249542, 'EER': -1, 'EO': [0.021978021978021955, 0.09625668449197858], 'DP': -1, 'accuracy_s0': 0.2325174825174825, 'accuracy_s1': 0.1953781512605042, 'classwise_accuracy': {2: array([17, 82]), 3: array([18, 78])}, 'DP_ingredients': {'class_pred_count_s0': {1: 10, 5: 21, 3: 21, 4: 5, 0: 5, 2: 8}, 'class_pred_count_s1': {2: 20, 3: 12, 0: 33, 1: 11, 5: 9, 4: 5}, 'class_pred_count': {2: 28, 3: 33, 1: 21, 0: 38, 5: 30, 4: 10}, 'count_s0': 70, 'count_s1': 90, 'count': 160}}\n",
      "[51] Eval metrics for task 3 >> {'accuracy': 0.36804088873870067, 'loss': 0.0, 'std': 0.16579369772746474, 'EER': -1, 'EO': [0.07765830346475508, 0.35623084780388153], 'DP': -1, 'accuracy_s0': 0.4387459224356651, 'accuracy_s1': 0.2218013468013468, 'classwise_accuracy': {4: array([18, 89]), 5: array([ 71, 133])}, 'DP_ingredients': {'class_pred_count_s0': {5: 96, 4: 25, 2: 5, 3: 11, 1: 8, 0: 6}, 'class_pred_count_s1': {5: 22, 4: 17, 0: 5, 3: 16, 2: 5, 1: 6}, 'class_pred_count': {5: 118, 4: 42, 2: 10, 3: 27, 0: 11, 1: 14}, 'count_s0': 151, 'count_s1': 71, 'count': 222}}\n",
      "[52] Eval metrics for task 1 >> {'accuracy': 0.5022321428571428, 'loss': 0.0, 'std': 0.09151785714285715, 'EER': -1, 'EO': [0.12244897959183676, 0.3102564102564102], 'DP': -1, 'accuracy_s0': 0.5384615384615384, 'accuracy_s1': 0.44455782312925174, 'classwise_accuracy': {0: array([ 76, 128]), 1: array([23, 56])}, 'DP_ingredients': {'class_pred_count_s0': {0: 22, 1: 20, 3: 4, 5: 4, 2: 6}, 'class_pred_count_s1': {0: 78, 1: 20, 3: 9, 5: 3, 4: 4, 2: 14}, 'class_pred_count': {0: 100, 1: 40, 3: 13, 5: 7, 2: 20, 4: 4}, 'count_s0': 56, 'count_s1': 128, 'count': 184}}\n",
      "[52] Eval metrics for task 2 >> {'accuracy': 0.21904315196998125, 'loss': 0.0, 'std': 0.011726078799249542, 'EER': -1, 'EO': [0.09625668449197858, 0.021978021978021955], 'DP': -1, 'accuracy_s0': 0.2325174825174825, 'accuracy_s1': 0.1953781512605042, 'classwise_accuracy': {3: array([18, 78]), 2: array([17, 82])}, 'DP_ingredients': {'class_pred_count_s0': {5: 21, 3: 21, 2: 8, 1: 10, 0: 5, 4: 5}, 'class_pred_count_s1': {1: 11, 3: 12, 0: 33, 2: 20, 5: 9, 4: 5}, 'class_pred_count': {1: 21, 5: 30, 3: 33, 0: 38, 2: 28, 4: 10}, 'count_s0': 70, 'count_s1': 90, 'count': 160}}\n",
      "[52] Eval metrics for task 3 >> {'accuracy': 0.36804088873870067, 'loss': 0.0, 'std': 0.16579369772746474, 'EER': -1, 'EO': [0.35623084780388153, 0.07765830346475508], 'DP': -1, 'accuracy_s0': 0.4387459224356651, 'accuracy_s1': 0.2218013468013468, 'classwise_accuracy': {5: array([ 71, 133]), 4: array([18, 89])}, 'DP_ingredients': {'class_pred_count_s0': {5: 96, 4: 25, 3: 11, 1: 8, 2: 5, 0: 6}, 'class_pred_count_s1': {5: 22, 2: 5, 4: 17, 3: 16, 0: 5, 1: 6}, 'class_pred_count': {5: 118, 2: 10, 4: 42, 3: 27, 1: 14, 0: 11}, 'count_s0': 151, 'count_s1': 71, 'count': 222}}\n",
      "[53] Eval metrics for task 1 >> {'accuracy': 0.5022321428571428, 'loss': 0.0, 'std': 0.09151785714285715, 'EER': -1, 'EO': [0.12244897959183676, 0.3102564102564102], 'DP': -1, 'accuracy_s0': 0.5384615384615384, 'accuracy_s1': 0.44455782312925174, 'classwise_accuracy': {0: array([ 76, 128]), 1: array([23, 56])}, 'DP_ingredients': {'class_pred_count_s0': {1: 20, 0: 22, 2: 6, 3: 4, 5: 4}, 'class_pred_count_s1': {0: 78, 3: 9, 1: 20, 4: 4, 2: 14, 5: 3}, 'class_pred_count': {0: 100, 3: 13, 1: 40, 4: 4, 2: 20, 5: 7}, 'count_s0': 56, 'count_s1': 128, 'count': 184}}\n",
      "[53] Eval metrics for task 2 >> {'accuracy': 0.21904315196998125, 'loss': 0.0, 'std': 0.011726078799249542, 'EER': -1, 'EO': [0.021978021978021955, 0.09625668449197858], 'DP': -1, 'accuracy_s0': 0.2325174825174825, 'accuracy_s1': 0.1953781512605042, 'classwise_accuracy': {2: array([17, 82]), 3: array([18, 78])}, 'DP_ingredients': {'class_pred_count_s0': {0: 5, 2: 8, 3: 21, 1: 10, 5: 21, 4: 5}, 'class_pred_count_s1': {0: 33, 3: 12, 2: 20, 1: 11, 4: 5, 5: 9}, 'class_pred_count': {0: 38, 2: 28, 3: 33, 1: 21, 5: 30, 4: 10}, 'count_s0': 70, 'count_s1': 90, 'count': 160}}\n",
      "[53] Eval metrics for task 3 >> {'accuracy': 0.3586635127143702, 'loss': 0.0, 'std': 0.167652276759314, 'EER': -1, 'EO': [0.3789581205311543, 0.06152927120669058], 'DP': -1, 'accuracy_s0': 0.4306814063066329, 'accuracy_s1': 0.21043771043771042, 'classwise_accuracy': {5: array([ 70, 133]), 4: array([17, 89])}, 'DP_ingredients': {'class_pred_count_s0': {5: 96, 4: 24, 3: 12, 1: 8, 0: 6, 2: 5}, 'class_pred_count_s1': {5: 21, 4: 17, 2: 5, 1: 6, 3: 17, 0: 5}, 'class_pred_count': {5: 117, 4: 41, 3: 29, 1: 14, 0: 11, 2: 10}, 'count_s0': 151, 'count_s1': 71, 'count': 222}}\n",
      "[54] Eval metrics for task 1 >> {'accuracy': 0.5022321428571428, 'loss': 0.0, 'std': 0.09151785714285715, 'EER': -1, 'EO': [0.12244897959183676, 0.3102564102564102], 'DP': -1, 'accuracy_s0': 0.5384615384615384, 'accuracy_s1': 0.44455782312925174, 'classwise_accuracy': {0: array([ 76, 128]), 1: array([23, 56])}, 'DP_ingredients': {'class_pred_count_s0': {1: 20, 0: 22, 5: 4, 2: 6, 3: 4}, 'class_pred_count_s1': {1: 20, 0: 78, 3: 9, 4: 4, 2: 14, 5: 3}, 'class_pred_count': {1: 40, 0: 100, 3: 13, 4: 4, 5: 7, 2: 20}, 'count_s0': 56, 'count_s1': 128, 'count': 184}}\n",
      "[54] Eval metrics for task 2 >> {'accuracy': 0.2126328955597248, 'loss': 0.0, 'std': 0.005315822388993127, 'EER': -1, 'EO': [0.021978021978021955, 0.07352941176470587], 'DP': -1, 'accuracy_s0': 0.22115384615384615, 'accuracy_s1': 0.1953781512605042, 'classwise_accuracy': {2: array([17, 82]), 3: array([17, 78])}, 'DP_ingredients': {'class_pred_count_s0': {1: 10, 5: 22, 3: 20, 2: 8, 4: 5, 0: 5}, 'class_pred_count_s1': {2: 20, 0: 33, 3: 12, 5: 9, 4: 5, 1: 11}, 'class_pred_count': {1: 21, 2: 28, 0: 38, 5: 31, 3: 32, 4: 10}, 'count_s0': 70, 'count_s1': 90, 'count': 160}}\n",
      "[54] Eval metrics for task 3 >> {'accuracy': 0.3530455351862803, 'loss': 0.0, 'std': 0.1732702542874039, 'EER': -1, 'EO': [0.3789581205311543, 0.09856630824372761], 'DP': -1, 'accuracy_s0': 0.4306814063066329, 'accuracy_s1': 0.1919191919191919, 'classwise_accuracy': {5: array([ 70, 133]), 4: array([16, 89])}, 'DP_ingredients': {'class_pred_count_s0': {4: 24, 1: 8, 5: 96, 2: 5, 3: 12, 0: 6}, 'class_pred_count_s1': {2: 5, 3: 17, 4: 16, 1: 6, 5: 22, 0: 5}, 'class_pred_count': {4: 40, 2: 10, 3: 29, 1: 14, 5: 118, 0: 11}, 'count_s0': 151, 'count_s1': 71, 'count': 222}}\n",
      "[55] Eval metrics for task 1 >> {'accuracy': 0.5022321428571428, 'loss': 0.0, 'std': 0.09151785714285715, 'EER': -1, 'EO': [0.12244897959183676, 0.3102564102564102], 'DP': -1, 'accuracy_s0': 0.5384615384615384, 'accuracy_s1': 0.44455782312925174, 'classwise_accuracy': {0: array([ 76, 128]), 1: array([23, 56])}, 'DP_ingredients': {'class_pred_count_s0': {0: 22, 1: 20, 2: 6, 5: 4, 3: 4}, 'class_pred_count_s1': {0: 78, 3: 9, 4: 4, 1: 20, 5: 3, 2: 14}, 'class_pred_count': {0: 100, 3: 13, 1: 40, 2: 20, 4: 4, 5: 7}, 'count_s0': 56, 'count_s1': 128, 'count': 184}}\n",
      "[55] Eval metrics for task 2 >> {'accuracy': 0.2126328955597248, 'loss': 0.0, 'std': 0.005315822388993127, 'EER': -1, 'EO': [0.021978021978021955, 0.07352941176470587], 'DP': -1, 'accuracy_s0': 0.22115384615384615, 'accuracy_s1': 0.1953781512605042, 'classwise_accuracy': {2: array([17, 82]), 3: array([17, 78])}, 'DP_ingredients': {'class_pred_count_s0': {4: 5, 5: 22, 3: 20, 1: 10, 0: 5, 2: 8}, 'class_pred_count_s1': {0: 34, 1: 11, 3: 12, 2: 19, 5: 9, 4: 5}, 'class_pred_count': {0: 39, 4: 10, 5: 31, 3: 32, 1: 21, 2: 27}, 'count_s0': 70, 'count_s1': 90, 'count': 160}}\n",
      "[55] Eval metrics for task 3 >> {'accuracy': 0.3530455351862803, 'loss': 0.0, 'std': 0.1732702542874039, 'EER': -1, 'EO': [0.3789581205311543, 0.09856630824372761], 'DP': -1, 'accuracy_s0': 0.4306814063066329, 'accuracy_s1': 0.1919191919191919, 'classwise_accuracy': {5: array([ 70, 133]), 4: array([16, 89])}, 'DP_ingredients': {'class_pred_count_s0': {5: 96, 3: 12, 0: 6, 4: 24, 2: 5, 1: 8}, 'class_pred_count_s1': {4: 15, 5: 22, 3: 17, 2: 6, 1: 6, 0: 5}, 'class_pred_count': {5: 118, 4: 39, 3: 29, 2: 11, 0: 11, 1: 14}, 'count_s0': 151, 'count_s1': 71, 'count': 222}}\n",
      "[56] Eval metrics for task 1 >> {'accuracy': 0.5111607142857143, 'loss': 0.0, 'std': 0.08258928571428573, 'EER': -1, 'EO': [0.12244897959183676, 0.2769230769230769], 'DP': -1, 'accuracy_s0': 0.5384615384615384, 'accuracy_s1': 0.46122448979591835, 'classwise_accuracy': {0: array([ 76, 128]), 1: array([24, 56])}, 'DP_ingredients': {'class_pred_count_s0': {0: 22, 2: 6, 1: 20, 3: 4, 5: 4}, 'class_pred_count_s1': {0: 77, 2: 14, 5: 3, 3: 9, 1: 21, 4: 4}, 'class_pred_count': {0: 99, 2: 20, 1: 41, 5: 7, 3: 13, 4: 4}, 'count_s0': 56, 'count_s1': 128, 'count': 184}}\n",
      "[56] Eval metrics for task 2 >> {'accuracy': 0.2126328955597248, 'loss': 0.0, 'std': 0.005315822388993127, 'EER': -1, 'EO': [0.021978021978021955, 0.07352941176470587], 'DP': -1, 'accuracy_s0': 0.22115384615384615, 'accuracy_s1': 0.1953781512605042, 'classwise_accuracy': {2: array([17, 82]), 3: array([17, 78])}, 'DP_ingredients': {'class_pred_count_s0': {3: 20, 0: 5, 5: 22, 1: 10, 4: 5, 2: 8}, 'class_pred_count_s1': {0: 34, 5: 9, 2: 19, 1: 11, 3: 13, 4: 4}, 'class_pred_count': {3: 33, 0: 39, 5: 31, 2: 27, 1: 21, 4: 9}, 'count_s0': 70, 'count_s1': 90, 'count': 160}}\n",
      "[56] Eval metrics for task 3 >> {'accuracy': 0.3530455351862803, 'loss': 0.0, 'std': 0.1732702542874039, 'EER': -1, 'EO': [0.09856630824372761, 0.3789581205311543], 'DP': -1, 'accuracy_s0': 0.4306814063066329, 'accuracy_s1': 0.1919191919191919, 'classwise_accuracy': {4: array([16, 89]), 5: array([ 70, 133])}, 'DP_ingredients': {'class_pred_count_s0': {5: 96, 2: 5, 4: 24, 0: 6, 3: 12, 1: 8}, 'class_pred_count_s1': {5: 22, 4: 15, 3: 17, 2: 6, 0: 5, 1: 6}, 'class_pred_count': {5: 118, 2: 11, 4: 39, 3: 29, 0: 11, 1: 14}, 'count_s0': 151, 'count_s1': 71, 'count': 222}}\n",
      "[57] Eval metrics for task 1 >> {'accuracy': 0.5111607142857143, 'loss': 0.0, 'std': 0.08258928571428573, 'EER': -1, 'EO': [0.12244897959183676, 0.2769230769230769], 'DP': -1, 'accuracy_s0': 0.5384615384615384, 'accuracy_s1': 0.46122448979591835, 'classwise_accuracy': {0: array([ 76, 128]), 1: array([24, 56])}, 'DP_ingredients': {'class_pred_count_s0': {5: 4, 0: 22, 1: 20, 2: 6, 3: 4}, 'class_pred_count_s1': {4: 4, 0: 77, 2: 14, 3: 9, 1: 21, 5: 3}, 'class_pred_count': {4: 4, 0: 99, 5: 7, 2: 20, 3: 13, 1: 41}, 'count_s0': 56, 'count_s1': 128, 'count': 184}}\n",
      "[57] Eval metrics for task 2 >> {'accuracy': 0.2126328955597248, 'loss': 0.0, 'std': 0.005315822388993127, 'EER': -1, 'EO': [0.07352941176470587, 0.021978021978021955], 'DP': -1, 'accuracy_s0': 0.22115384615384615, 'accuracy_s1': 0.1953781512605042, 'classwise_accuracy': {3: array([17, 78]), 2: array([17, 82])}, 'DP_ingredients': {'class_pred_count_s0': {5: 22, 4: 5, 3: 20, 2: 8, 1: 10, 0: 5}, 'class_pred_count_s1': {3: 13, 5: 9, 1: 11, 0: 34, 2: 19, 4: 4}, 'class_pred_count': {5: 31, 3: 33, 1: 21, 4: 9, 0: 39, 2: 27}, 'count_s0': 70, 'count_s1': 90, 'count': 160}}\n",
      "[57] Eval metrics for task 3 >> {'accuracy': 0.3474275576581904, 'loss': 0.0, 'std': 0.1788882318154938, 'EER': -1, 'EO': [0.3789581205311543, 0.08243727598566308], 'DP': -1, 'accuracy_s0': 0.4226168901776006, 'accuracy_s1': 0.1919191919191919, 'classwise_accuracy': {5: array([ 70, 133]), 4: array([15, 89])}, 'DP_ingredients': {'class_pred_count_s0': {4: 23, 5: 96, 3: 13, 2: 5, 1: 8, 0: 6}, 'class_pred_count_s1': {3: 17, 4: 15, 1: 6, 2: 6, 5: 22, 0: 5}, 'class_pred_count': {4: 38, 5: 118, 3: 30, 1: 14, 2: 11, 0: 11}, 'count_s0': 151, 'count_s1': 71, 'count': 222}}\n",
      "[58] Eval metrics for task 1 >> {'accuracy': 0.5111607142857143, 'loss': 0.0, 'std': 0.08258928571428573, 'EER': -1, 'EO': [0.12244897959183676, 0.2769230769230769], 'DP': -1, 'accuracy_s0': 0.5384615384615384, 'accuracy_s1': 0.46122448979591835, 'classwise_accuracy': {0: array([ 76, 128]), 1: array([24, 56])}, 'DP_ingredients': {'class_pred_count_s0': {1: 20, 2: 6, 5: 4, 0: 22, 3: 4}, 'class_pred_count_s1': {1: 21, 0: 77, 4: 4, 3: 9, 2: 14, 5: 3}, 'class_pred_count': {1: 41, 2: 20, 0: 99, 4: 4, 3: 13, 5: 7}, 'count_s0': 56, 'count_s1': 128, 'count': 184}}\n",
      "[58] Eval metrics for task 2 >> {'accuracy': 0.2126328955597248, 'loss': 0.0, 'std': 0.005315822388993127, 'EER': -1, 'EO': [0.07352941176470587, 0.021978021978021955], 'DP': -1, 'accuracy_s0': 0.22115384615384615, 'accuracy_s1': 0.1953781512605042, 'classwise_accuracy': {3: array([17, 78]), 2: array([17, 82])}, 'DP_ingredients': {'class_pred_count_s0': {2: 8, 5: 22, 0: 5, 3: 20, 1: 10, 4: 5}, 'class_pred_count_s1': {3: 13, 0: 34, 5: 9, 2: 19, 1: 11, 4: 4}, 'class_pred_count': {3: 33, 2: 27, 5: 31, 0: 39, 1: 21, 4: 9}, 'count_s0': 70, 'count_s1': 90, 'count': 160}}\n",
      "[58] Eval metrics for task 3 >> {'accuracy': 0.3474275576581904, 'loss': 0.0, 'std': 0.1788882318154938, 'EER': -1, 'EO': [0.08243727598566308, 0.3789581205311543], 'DP': -1, 'accuracy_s0': 0.4226168901776006, 'accuracy_s1': 0.1919191919191919, 'classwise_accuracy': {4: array([15, 89]), 5: array([ 70, 133])}, 'DP_ingredients': {'class_pred_count_s0': {0: 6, 5: 96, 4: 23, 1: 8, 3: 13, 2: 5}, 'class_pred_count_s1': {5: 22, 3: 17, 4: 15, 2: 6, 0: 5, 1: 6}, 'class_pred_count': {0: 11, 5: 118, 4: 38, 3: 30, 2: 11, 1: 14}, 'count_s0': 151, 'count_s1': 71, 'count': 222}}\n",
      "[59] Eval metrics for task 1 >> {'accuracy': 0.5111607142857143, 'loss': 0.0, 'std': 0.08258928571428573, 'EER': -1, 'EO': [0.12244897959183676, 0.2769230769230769], 'DP': -1, 'accuracy_s0': 0.5384615384615384, 'accuracy_s1': 0.46122448979591835, 'classwise_accuracy': {0: array([ 76, 128]), 1: array([24, 56])}, 'DP_ingredients': {'class_pred_count_s0': {0: 22, 1: 20, 2: 6, 5: 4, 3: 4}, 'class_pred_count_s1': {0: 77, 2: 14, 1: 21, 3: 9, 5: 3, 4: 4}, 'class_pred_count': {0: 99, 2: 20, 1: 41, 3: 13, 5: 7, 4: 4}, 'count_s0': 56, 'count_s1': 128, 'count': 184}}\n",
      "[59] Eval metrics for task 2 >> {'accuracy': 0.2126328955597248, 'loss': 0.0, 'std': 0.005315822388993127, 'EER': -1, 'EO': [0.07352941176470587, 0.021978021978021955], 'DP': -1, 'accuracy_s0': 0.22115384615384615, 'accuracy_s1': 0.1953781512605042, 'classwise_accuracy': {3: array([17, 78]), 2: array([17, 82])}, 'DP_ingredients': {'class_pred_count_s0': {3: 20, 2: 8, 1: 10, 5: 22, 4: 5, 0: 5}, 'class_pred_count_s1': {3: 13, 2: 19, 0: 34, 5: 9, 1: 11, 4: 4}, 'class_pred_count': {3: 33, 2: 27, 1: 21, 0: 39, 5: 31, 4: 9}, 'count_s0': 70, 'count_s1': 90, 'count': 160}}\n",
      "[59] Eval metrics for task 3 >> {'accuracy': 0.3474275576581904, 'loss': 0.0, 'std': 0.1788882318154938, 'EER': -1, 'EO': [0.3789581205311543, 0.08243727598566308], 'DP': -1, 'accuracy_s0': 0.4226168901776006, 'accuracy_s1': 0.1919191919191919, 'classwise_accuracy': {5: array([ 70, 133]), 4: array([15, 89])}, 'DP_ingredients': {'class_pred_count_s0': {5: 96, 1: 8, 4: 24, 2: 6, 3: 11, 0: 6}, 'class_pred_count_s1': {4: 15, 5: 22, 3: 17, 2: 6, 0: 5, 1: 6}, 'class_pred_count': {5: 118, 4: 39, 1: 14, 3: 28, 2: 12, 0: 11}, 'count_s0': 151, 'count_s1': 71, 'count': 222}}\n",
      "[60] Eval metrics for task 1 >> {'accuracy': 0.5111607142857143, 'loss': 0.0, 'std': 0.08258928571428573, 'EER': -1, 'EO': [0.2769230769230769, 0.12244897959183676], 'DP': -1, 'accuracy_s0': 0.5384615384615384, 'accuracy_s1': 0.46122448979591835, 'classwise_accuracy': {1: array([24, 56]), 0: array([ 76, 128])}, 'DP_ingredients': {'class_pred_count_s0': {5: 4, 2: 6, 3: 4, 0: 22, 1: 20}, 'class_pred_count_s1': {0: 77, 1: 21, 2: 14, 3: 9, 4: 4, 5: 3}, 'class_pred_count': {0: 99, 1: 41, 5: 7, 2: 20, 3: 13, 4: 4}, 'count_s0': 56, 'count_s1': 128, 'count': 184}}\n",
      "[60] Eval metrics for task 2 >> {'accuracy': 0.2126328955597248, 'loss': 0.0, 'std': 0.005315822388993127, 'EER': -1, 'EO': [0.07352941176470587, 0.021978021978021955], 'DP': -1, 'accuracy_s0': 0.22115384615384615, 'accuracy_s1': 0.1953781512605042, 'classwise_accuracy': {3: array([17, 78]), 2: array([17, 82])}, 'DP_ingredients': {'class_pred_count_s0': {5: 22, 3: 20, 1: 10, 2: 8, 0: 5, 4: 5}, 'class_pred_count_s1': {0: 34, 2: 20, 3: 13, 1: 10, 5: 9, 4: 4}, 'class_pred_count': {5: 31, 0: 39, 3: 33, 2: 28, 1: 20, 4: 9}, 'count_s0': 70, 'count_s1': 90, 'count': 160}}\n",
      "[60] Eval metrics for task 3 >> {'accuracy': 0.351186956154431, 'loss': 0.0, 'std': 0.18264763031173442, 'EER': -1, 'EO': [0.08243727598566308, 0.390194075587334], 'DP': -1, 'accuracy_s0': 0.4282348677056904, 'accuracy_s1': 0.1919191919191919, 'classwise_accuracy': {4: array([15, 89]), 5: array([ 71, 133])}, 'DP_ingredients': {'class_pred_count_s0': {5: 97, 4: 23, 3: 11, 1: 8, 2: 6, 0: 6}, 'class_pred_count_s1': {3: 17, 0: 5, 4: 15, 1: 6, 2: 6, 5: 22}, 'class_pred_count': {5: 119, 3: 28, 4: 38, 0: 11, 1: 14, 2: 12}, 'count_s0': 151, 'count_s1': 71, 'count': 222}}\n",
      "[61] Eval metrics for task 1 >> {'accuracy': 0.5111607142857143, 'loss': 0.0, 'std': 0.08258928571428573, 'EER': -1, 'EO': [0.12244897959183676, 0.2769230769230769], 'DP': -1, 'accuracy_s0': 0.5384615384615384, 'accuracy_s1': 0.46122448979591835, 'classwise_accuracy': {0: array([ 76, 128]), 1: array([24, 56])}, 'DP_ingredients': {'class_pred_count_s0': {1: 20, 3: 4, 0: 22, 2: 6, 5: 4}, 'class_pred_count_s1': {3: 9, 1: 21, 0: 77, 2: 14, 4: 4, 5: 3}, 'class_pred_count': {1: 41, 3: 13, 0: 99, 2: 20, 5: 7, 4: 4}, 'count_s0': 56, 'count_s1': 128, 'count': 184}}\n",
      "[61] Eval metrics for task 2 >> {'accuracy': 0.20622263914946842, 'loss': 0.0, 'std': 0.001094434021263288, 'EER': -1, 'EO': [0.050802139037433136, 0.021978021978021955], 'DP': -1, 'accuracy_s0': 0.2097902097902098, 'accuracy_s1': 0.1953781512605042, 'classwise_accuracy': {3: array([16, 78]), 2: array([17, 82])}, 'DP_ingredients': {'class_pred_count_s0': {5: 22, 2: 9, 0: 5, 4: 5, 3: 19, 1: 10}, 'class_pred_count_s1': {2: 20, 0: 34, 1: 10, 3: 13, 5: 9, 4: 4}, 'class_pred_count': {5: 31, 2: 29, 0: 39, 1: 20, 4: 9, 3: 32}, 'count_s0': 70, 'count_s1': 90, 'count': 160}}\n",
      "[61] Eval metrics for task 3 >> {'accuracy': 0.351186956154431, 'loss': 0.0, 'std': 0.18264763031173442, 'EER': -1, 'EO': [0.08243727598566308, 0.390194075587334], 'DP': -1, 'accuracy_s0': 0.4282348677056904, 'accuracy_s1': 0.1919191919191919, 'classwise_accuracy': {4: array([15, 89]), 5: array([ 71, 133])}, 'DP_ingredients': {'class_pred_count_s0': {1: 8, 5: 97, 4: 23, 2: 6, 3: 11, 0: 6}, 'class_pred_count_s1': {3: 17, 2: 6, 1: 6, 5: 22, 0: 5, 4: 15}, 'class_pred_count': {3: 28, 1: 14, 5: 119, 4: 38, 2: 12, 0: 11}, 'count_s0': 151, 'count_s1': 71, 'count': 222}}\n",
      "[62] Eval metrics for task 1 >> {'accuracy': 0.5111607142857143, 'loss': 0.0, 'std': 0.08258928571428573, 'EER': -1, 'EO': [0.12244897959183676, 0.2769230769230769], 'DP': -1, 'accuracy_s0': 0.5384615384615384, 'accuracy_s1': 0.46122448979591835, 'classwise_accuracy': {0: array([ 76, 128]), 1: array([24, 56])}, 'DP_ingredients': {'class_pred_count_s0': {0: 22, 3: 4, 1: 20, 2: 6, 5: 4}, 'class_pred_count_s1': {2: 14, 0: 77, 3: 9, 1: 21, 5: 3, 4: 4}, 'class_pred_count': {2: 20, 0: 99, 3: 13, 1: 41, 5: 7, 4: 4}, 'count_s0': 56, 'count_s1': 128, 'count': 184}}\n",
      "[62] Eval metrics for task 2 >> {'accuracy': 0.20622263914946842, 'loss': 0.0, 'std': 0.001094434021263288, 'EER': -1, 'EO': [0.021978021978021955, 0.050802139037433136], 'DP': -1, 'accuracy_s0': 0.2097902097902098, 'accuracy_s1': 0.1953781512605042, 'classwise_accuracy': {2: array([17, 82]), 3: array([16, 78])}, 'DP_ingredients': {'class_pred_count_s0': {0: 5, 3: 18, 5: 22, 2: 9, 4: 6, 1: 10}, 'class_pred_count_s1': {2: 20, 0: 34, 3: 13, 1: 10, 5: 9, 4: 4}, 'class_pred_count': {0: 39, 2: 29, 3: 31, 5: 31, 1: 20, 4: 10}, 'count_s0': 70, 'count_s1': 90, 'count': 160}}\n",
      "[62] Eval metrics for task 3 >> {'accuracy': 0.351186956154431, 'loss': 0.0, 'std': 0.18264763031173442, 'EER': -1, 'EO': [0.08243727598566308, 0.390194075587334], 'DP': -1, 'accuracy_s0': 0.4282348677056904, 'accuracy_s1': 0.1919191919191919, 'classwise_accuracy': {4: array([15, 89]), 5: array([ 71, 133])}, 'DP_ingredients': {'class_pred_count_s0': {5: 97, 4: 23, 3: 11, 0: 6, 2: 6, 1: 8}, 'class_pred_count_s1': {5: 22, 3: 17, 4: 15, 2: 6, 0: 5, 1: 6}, 'class_pred_count': {5: 119, 4: 38, 3: 28, 0: 11, 2: 12, 1: 14}, 'count_s0': 151, 'count_s1': 71, 'count': 222}}\n",
      "[63] Eval metrics for task 1 >> {'accuracy': 0.5111607142857143, 'loss': 0.0, 'std': 0.08258928571428573, 'EER': -1, 'EO': [0.12244897959183676, 0.2769230769230769], 'DP': -1, 'accuracy_s0': 0.5384615384615384, 'accuracy_s1': 0.46122448979591835, 'classwise_accuracy': {0: array([ 76, 128]), 1: array([24, 56])}, 'DP_ingredients': {'class_pred_count_s0': {1: 20, 0: 22, 3: 4, 5: 4, 2: 6}, 'class_pred_count_s1': {0: 77, 1: 21, 4: 4, 3: 9, 2: 14, 5: 3}, 'class_pred_count': {0: 99, 1: 41, 4: 4, 3: 13, 2: 20, 5: 7}, 'count_s0': 56, 'count_s1': 128, 'count': 184}}\n",
      "[63] Eval metrics for task 2 >> {'accuracy': 0.20622263914946842, 'loss': 0.0, 'std': 0.001094434021263288, 'EER': -1, 'EO': [0.021978021978021955, 0.050802139037433136], 'DP': -1, 'accuracy_s0': 0.2097902097902098, 'accuracy_s1': 0.1953781512605042, 'classwise_accuracy': {2: array([17, 82]), 3: array([16, 78])}, 'DP_ingredients': {'class_pred_count_s0': {3: 18, 4: 6, 5: 22, 2: 9, 0: 5, 1: 10}, 'class_pred_count_s1': {3: 13, 0: 34, 5: 9, 2: 20, 1: 10, 4: 4}, 'class_pred_count': {3: 31, 4: 10, 5: 31, 0: 39, 2: 29, 1: 20}, 'count_s0': 70, 'count_s1': 90, 'count': 160}}\n",
      "[63] Eval metrics for task 3 >> {'accuracy': 0.351186956154431, 'loss': 0.0, 'std': 0.18264763031173442, 'EER': -1, 'EO': [0.390194075587334, 0.08243727598566308], 'DP': -1, 'accuracy_s0': 0.4282348677056904, 'accuracy_s1': 0.1919191919191919, 'classwise_accuracy': {5: array([ 71, 133]), 4: array([15, 89])}, 'DP_ingredients': {'class_pred_count_s0': {5: 97, 4: 22, 3: 12, 1: 8, 2: 6, 0: 6}, 'class_pred_count_s1': {1: 6, 5: 22, 0: 5, 3: 17, 4: 15, 2: 6}, 'class_pred_count': {5: 119, 4: 37, 1: 14, 0: 11, 3: 29, 2: 12}, 'count_s0': 151, 'count_s1': 71, 'count': 222}}\n",
      "[64] Eval metrics for task 1 >> {'accuracy': 0.5111607142857143, 'loss': 0.0, 'std': 0.08258928571428573, 'EER': -1, 'EO': [0.2769230769230769, 0.12244897959183676], 'DP': -1, 'accuracy_s0': 0.5384615384615384, 'accuracy_s1': 0.46122448979591835, 'classwise_accuracy': {1: array([24, 56]), 0: array([ 76, 128])}, 'DP_ingredients': {'class_pred_count_s0': {0: 22, 3: 4, 1: 20, 2: 6, 5: 4}, 'class_pred_count_s1': {1: 21, 0: 77, 4: 4, 3: 9, 5: 3, 2: 14}, 'class_pred_count': {1: 41, 0: 99, 4: 4, 3: 13, 5: 7, 2: 20}, 'count_s0': 56, 'count_s1': 128, 'count': 184}}\n",
      "[64] Eval metrics for task 2 >> {'accuracy': 0.20622263914946842, 'loss': 0.0, 'std': 0.001094434021263288, 'EER': -1, 'EO': [0.050802139037433136, 0.021978021978021955], 'DP': -1, 'accuracy_s0': 0.2097902097902098, 'accuracy_s1': 0.1953781512605042, 'classwise_accuracy': {3: array([16, 78]), 2: array([17, 82])}, 'DP_ingredients': {'class_pred_count_s0': {2: 9, 1: 10, 3: 18, 5: 22, 4: 6, 0: 5}, 'class_pred_count_s1': {5: 9, 0: 34, 2: 20, 3: 13, 1: 10, 4: 4}, 'class_pred_count': {5: 31, 0: 39, 2: 29, 1: 20, 3: 31, 4: 10}, 'count_s0': 70, 'count_s1': 90, 'count': 160}}\n",
      "[64] Eval metrics for task 3 >> {'accuracy': 0.33995100109825127, 'loss': 0.0, 'std': 0.19388358536791417, 'EER': -1, 'EO': [0.390194075587334, 0.10334528076463562], 'DP': -1, 'accuracy_s0': 0.42017035157665816, 'accuracy_s1': 0.1734006734006734, 'classwise_accuracy': {5: array([ 71, 133]), 4: array([13, 89])}, 'DP_ingredients': {'class_pred_count_s0': {5: 98, 4: 21, 3: 12, 2: 6, 0: 6, 1: 8}, 'class_pred_count_s1': {4: 13, 3: 17, 5: 23, 0: 5, 2: 7, 1: 6}, 'class_pred_count': {4: 34, 5: 121, 3: 29, 2: 13, 0: 11, 1: 14}, 'count_s0': 151, 'count_s1': 71, 'count': 222}}\n",
      "[65] Eval metrics for task 1 >> {'accuracy': 0.5150669642857143, 'loss': 0.0, 'std': 0.08649553571428573, 'EER': -1, 'EO': [0.13265306122448983, 0.2769230769230769], 'DP': -1, 'accuracy_s0': 0.5384615384615384, 'accuracy_s1': 0.46632653061224494, 'classwise_accuracy': {0: array([ 77, 128]), 1: array([24, 56])}, 'DP_ingredients': {'class_pred_count_s0': {1: 20, 0: 22, 3: 4, 2: 6, 5: 3, 4: 1}, 'class_pred_count_s1': {0: 78, 2: 14, 1: 20, 3: 9, 4: 4, 5: 3}, 'class_pred_count': {0: 100, 1: 40, 2: 20, 3: 13, 4: 5, 5: 6}, 'count_s0': 56, 'count_s1': 128, 'count': 184}}\n",
      "[65] Eval metrics for task 2 >> {'accuracy': 0.20622263914946842, 'loss': 0.0, 'std': 0.001094434021263288, 'EER': -1, 'EO': [0.021978021978021955, 0.050802139037433136], 'DP': -1, 'accuracy_s0': 0.2097902097902098, 'accuracy_s1': 0.1953781512605042, 'classwise_accuracy': {2: array([17, 82]), 3: array([16, 78])}, 'DP_ingredients': {'class_pred_count_s0': {5: 22, 3: 18, 2: 9, 1: 10, 4: 6, 0: 5}, 'class_pred_count_s1': {2: 20, 0: 34, 1: 10, 3: 13, 4: 4, 5: 9}, 'class_pred_count': {2: 29, 0: 39, 5: 31, 1: 20, 3: 31, 4: 10}, 'count_s0': 70, 'count_s1': 90, 'count': 160}}\n",
      "[65] Eval metrics for task 3 >> {'accuracy': 0.33995100109825127, 'loss': 0.0, 'std': 0.19388358536791417, 'EER': -1, 'EO': [0.390194075587334, 0.10334528076463562], 'DP': -1, 'accuracy_s0': 0.42017035157665816, 'accuracy_s1': 0.1734006734006734, 'classwise_accuracy': {5: array([ 71, 133]), 4: array([13, 89])}, 'DP_ingredients': {'class_pred_count_s0': {5: 98, 4: 21, 3: 12, 0: 6, 2: 6, 1: 8}, 'class_pred_count_s1': {1: 6, 3: 17, 5: 23, 0: 5, 2: 7, 4: 13}, 'class_pred_count': {5: 121, 4: 34, 1: 14, 3: 29, 0: 11, 2: 13}, 'count_s0': 151, 'count_s1': 71, 'count': 222}}\n",
      "[66] Eval metrics for task 1 >> {'accuracy': 0.5150669642857143, 'loss': 0.0, 'std': 0.08649553571428573, 'EER': -1, 'EO': [0.13265306122448983, 0.2769230769230769], 'DP': -1, 'accuracy_s0': 0.5384615384615384, 'accuracy_s1': 0.46632653061224494, 'classwise_accuracy': {0: array([ 77, 128]), 1: array([24, 56])}, 'DP_ingredients': {'class_pred_count_s0': {0: 22, 1: 20, 5: 3, 3: 4, 2: 6, 4: 1}, 'class_pred_count_s1': {3: 9, 2: 14, 0: 78, 4: 4, 1: 20, 5: 3}, 'class_pred_count': {0: 100, 1: 40, 3: 13, 2: 20, 4: 5, 5: 6}, 'count_s0': 56, 'count_s1': 128, 'count': 184}}\n",
      "[66] Eval metrics for task 2 >> {'accuracy': 0.20012507817385866, 'loss': 0.0, 'std': 0.00500312695434646, 'EER': -1, 'EO': [0.050802139037433136, 0.06043956043956042], 'DP': -1, 'accuracy_s0': 0.19055944055944057, 'accuracy_s1': 0.1953781512605042, 'classwise_accuracy': {3: array([16, 78]), 2: array([16, 82])}, 'DP_ingredients': {'class_pred_count_s0': {5: 22, 0: 5, 1: 11, 3: 18, 2: 8, 4: 6}, 'class_pred_count_s1': {1: 10, 3: 13, 4: 4, 2: 20, 0: 34, 5: 9}, 'class_pred_count': {1: 21, 5: 31, 0: 39, 3: 31, 4: 10, 2: 28}, 'count_s0': 70, 'count_s1': 90, 'count': 160}}\n",
      "[66] Eval metrics for task 3 >> {'accuracy': 0.33995100109825127, 'loss': 0.0, 'std': 0.19388358536791417, 'EER': -1, 'EO': [0.390194075587334, 0.10334528076463562], 'DP': -1, 'accuracy_s0': 0.42017035157665816, 'accuracy_s1': 0.1734006734006734, 'classwise_accuracy': {5: array([ 71, 133]), 4: array([13, 89])}, 'DP_ingredients': {'class_pred_count_s0': {4: 21, 5: 98, 1: 8, 3: 12, 2: 6, 0: 6}, 'class_pred_count_s1': {5: 23, 3: 17, 2: 7, 4: 13, 0: 5, 1: 6}, 'class_pred_count': {4: 34, 5: 121, 3: 29, 1: 14, 2: 13, 0: 11}, 'count_s0': 151, 'count_s1': 71, 'count': 222}}\n",
      "[67] Eval metrics for task 1 >> {'accuracy': 0.5150669642857143, 'loss': 0.0, 'std': 0.08649553571428573, 'EER': -1, 'EO': [0.2769230769230769, 0.13265306122448983], 'DP': -1, 'accuracy_s0': 0.5384615384615384, 'accuracy_s1': 0.46632653061224494, 'classwise_accuracy': {1: array([24, 56]), 0: array([ 77, 128])}, 'DP_ingredients': {'class_pred_count_s0': {3: 4, 0: 22, 1: 20, 5: 3, 2: 6, 4: 1}, 'class_pred_count_s1': {2: 14, 0: 78, 3: 9, 5: 3, 1: 20, 4: 4}, 'class_pred_count': {2: 20, 0: 100, 3: 13, 5: 6, 1: 40, 4: 5}, 'count_s0': 56, 'count_s1': 128, 'count': 184}}\n",
      "[67] Eval metrics for task 2 >> {'accuracy': 0.20012507817385866, 'loss': 0.0, 'std': 0.00500312695434646, 'EER': -1, 'EO': [0.06043956043956042, 0.050802139037433136], 'DP': -1, 'accuracy_s0': 0.19055944055944057, 'accuracy_s1': 0.1953781512605042, 'classwise_accuracy': {2: array([16, 82]), 3: array([16, 78])}, 'DP_ingredients': {'class_pred_count_s0': {1: 11, 5: 22, 3: 18, 0: 5, 2: 8, 4: 6}, 'class_pred_count_s1': {2: 20, 4: 4, 5: 9, 0: 34, 3: 13, 1: 10}, 'class_pred_count': {2: 28, 1: 21, 4: 10, 5: 31, 0: 39, 3: 31}, 'count_s0': 70, 'count_s1': 90, 'count': 160}}\n",
      "[67] Eval metrics for task 3 >> {'accuracy': 0.33995100109825127, 'loss': 0.0, 'std': 0.19388358536791417, 'EER': -1, 'EO': [0.390194075587334, 0.10334528076463562], 'DP': -1, 'accuracy_s0': 0.42017035157665816, 'accuracy_s1': 0.1734006734006734, 'classwise_accuracy': {5: array([ 71, 133]), 4: array([13, 89])}, 'DP_ingredients': {'class_pred_count_s0': {1: 8, 4: 21, 5: 98, 2: 6, 3: 12, 0: 6}, 'class_pred_count_s1': {2: 8, 5: 23, 0: 5, 3: 16, 1: 6, 4: 13}, 'class_pred_count': {1: 14, 2: 14, 4: 34, 5: 121, 0: 11, 3: 28}, 'count_s0': 151, 'count_s1': 71, 'count': 222}}\n",
      "[68] Eval metrics for task 1 >> {'accuracy': 0.5150669642857143, 'loss': 0.0, 'std': 0.08649553571428573, 'EER': -1, 'EO': [0.13265306122448983, 0.2769230769230769], 'DP': -1, 'accuracy_s0': 0.5384615384615384, 'accuracy_s1': 0.46632653061224494, 'classwise_accuracy': {0: array([ 77, 128]), 1: array([24, 56])}, 'DP_ingredients': {'class_pred_count_s0': {0: 22, 1: 20, 5: 3, 3: 4, 4: 1, 2: 6}, 'class_pred_count_s1': {0: 78, 1: 20, 3: 9, 5: 3, 2: 14, 4: 4}, 'class_pred_count': {0: 100, 1: 40, 3: 13, 5: 6, 2: 20, 4: 5}, 'count_s0': 56, 'count_s1': 128, 'count': 184}}\n",
      "[68] Eval metrics for task 2 >> {'accuracy': 0.19371482176360227, 'loss': 0.0, 'std': 0.0014071294559099418, 'EER': -1, 'EO': [0.0802139037433155, 0.06043956043956042], 'DP': -1, 'accuracy_s0': 0.19055944055944057, 'accuracy_s1': 0.18067226890756302, 'classwise_accuracy': {3: array([15, 78]), 2: array([16, 82])}, 'DP_ingredients': {'class_pred_count_s0': {4: 6, 5: 22, 0: 5, 3: 18, 1: 11, 2: 8}, 'class_pred_count_s1': {0: 34, 3: 12, 4: 4, 1: 10, 2: 21, 5: 9}, 'class_pred_count': {0: 39, 3: 30, 4: 10, 5: 31, 1: 21, 2: 29}, 'count_s0': 70, 'count_s1': 90, 'count': 160}}\n",
      "[68] Eval metrics for task 3 >> {'accuracy': 0.33995100109825127, 'loss': 0.0, 'std': 0.19388358536791417, 'EER': -1, 'EO': [0.390194075587334, 0.10334528076463562], 'DP': -1, 'accuracy_s0': 0.42017035157665816, 'accuracy_s1': 0.1734006734006734, 'classwise_accuracy': {5: array([ 71, 133]), 4: array([13, 89])}, 'DP_ingredients': {'class_pred_count_s0': {5: 98, 3: 13, 4: 20, 2: 6, 0: 6, 1: 8}, 'class_pred_count_s1': {1: 6, 5: 23, 3: 16, 4: 13, 2: 8, 0: 5}, 'class_pred_count': {5: 121, 3: 29, 1: 14, 4: 33, 2: 14, 0: 11}, 'count_s0': 151, 'count_s1': 71, 'count': 222}}\n",
      "[69] Eval metrics for task 1 >> {'accuracy': 0.5150669642857143, 'loss': 0.0, 'std': 0.08649553571428573, 'EER': -1, 'EO': [0.13265306122448983, 0.2769230769230769], 'DP': -1, 'accuracy_s0': 0.5384615384615384, 'accuracy_s1': 0.46632653061224494, 'classwise_accuracy': {0: array([ 77, 128]), 1: array([24, 56])}, 'DP_ingredients': {'class_pred_count_s0': {0: 22, 2: 6, 1: 20, 5: 3, 3: 4, 4: 1}, 'class_pred_count_s1': {2: 14, 0: 78, 3: 9, 1: 20, 5: 3, 4: 4}, 'class_pred_count': {2: 20, 0: 100, 3: 13, 1: 40, 5: 6, 4: 5}, 'count_s0': 56, 'count_s1': 128, 'count': 184}}\n",
      "[69] Eval metrics for task 2 >> {'accuracy': 0.19371482176360227, 'loss': 0.0, 'std': 0.0014071294559099418, 'EER': -1, 'EO': [0.0802139037433155, 0.06043956043956042], 'DP': -1, 'accuracy_s0': 0.19055944055944057, 'accuracy_s1': 0.18067226890756302, 'classwise_accuracy': {3: array([15, 78]), 2: array([16, 82])}, 'DP_ingredients': {'class_pred_count_s0': {4: 6, 5: 22, 2: 8, 1: 11, 3: 18, 0: 5}, 'class_pred_count_s1': {2: 21, 4: 4, 0: 34, 3: 12, 1: 10, 5: 9}, 'class_pred_count': {4: 10, 2: 29, 5: 31, 0: 39, 3: 30, 1: 21}, 'count_s0': 70, 'count_s1': 90, 'count': 160}}\n",
      "[69] Eval metrics for task 3 >> {'accuracy': 0.33995100109825127, 'loss': 0.0, 'std': 0.19388358536791417, 'EER': -1, 'EO': [0.10334528076463562, 0.390194075587334], 'DP': -1, 'accuracy_s0': 0.42017035157665816, 'accuracy_s1': 0.1734006734006734, 'classwise_accuracy': {4: array([13, 89]), 5: array([ 71, 133])}, 'DP_ingredients': {'class_pred_count_s0': {3: 13, 5: 98, 2: 6, 4: 20, 1: 8, 0: 6}, 'class_pred_count_s1': {1: 6, 3: 16, 5: 23, 2: 8, 4: 13, 0: 5}, 'class_pred_count': {3: 29, 5: 121, 1: 14, 2: 14, 4: 33, 0: 11}, 'count_s0': 151, 'count_s1': 71, 'count': 222}}\n",
      "[70] Eval metrics for task 1 >> {'accuracy': 0.5189732142857143, 'loss': 0.0, 'std': 0.09040178571428573, 'EER': -1, 'EO': [0.1428571428571429, 0.2769230769230769], 'DP': -1, 'accuracy_s0': 0.5384615384615384, 'accuracy_s1': 0.4714285714285714, 'classwise_accuracy': {0: array([ 78, 128]), 1: array([24, 56])}, 'DP_ingredients': {'class_pred_count_s0': {5: 3, 0: 22, 3: 4, 1: 20, 2: 6, 4: 1}, 'class_pred_count_s1': {1: 20, 0: 79, 5: 3, 2: 13, 3: 9, 4: 4}, 'class_pred_count': {5: 6, 1: 40, 0: 101, 2: 19, 3: 13, 4: 5}, 'count_s0': 56, 'count_s1': 128, 'count': 184}}\n",
      "[70] Eval metrics for task 2 >> {'accuracy': 0.18730456535334583, 'loss': 0.0, 'std': 0.007817385866166357, 'EER': -1, 'EO': [0.06043956043956042, 0.05748663101604279], 'DP': -1, 'accuracy_s0': 0.17919580419580422, 'accuracy_s1': 0.18067226890756302, 'classwise_accuracy': {2: array([16, 82]), 3: array([14, 78])}, 'DP_ingredients': {'class_pred_count_s0': {1: 11, 3: 17, 4: 6, 0: 5, 5: 22, 2: 9}, 'class_pred_count_s1': {2: 21, 3: 12, 5: 9, 0: 34, 1: 10, 4: 4}, 'class_pred_count': {2: 30, 3: 29, 5: 31, 1: 21, 0: 39, 4: 10}, 'count_s0': 70, 'count_s1': 90, 'count': 160}}\n",
      "[70] Eval metrics for task 3 >> {'accuracy': 0.33995100109825127, 'loss': 0.0, 'std': 0.19388358536791417, 'EER': -1, 'EO': [0.390194075587334, 0.10334528076463562], 'DP': -1, 'accuracy_s0': 0.42017035157665816, 'accuracy_s1': 0.1734006734006734, 'classwise_accuracy': {5: array([ 71, 133]), 4: array([13, 89])}, 'DP_ingredients': {'class_pred_count_s0': {5: 98, 1: 8, 3: 13, 0: 6, 4: 20, 2: 6}, 'class_pred_count_s1': {4: 13, 3: 16, 1: 6, 5: 23, 2: 8, 0: 5}, 'class_pred_count': {5: 121, 4: 33, 3: 29, 1: 14, 0: 11, 2: 14}, 'count_s0': 151, 'count_s1': 71, 'count': 222}}\n",
      "[71] Eval metrics for task 1 >> {'accuracy': 0.5189732142857143, 'loss': 0.0, 'std': 0.09040178571428573, 'EER': -1, 'EO': [0.1428571428571429, 0.2769230769230769], 'DP': -1, 'accuracy_s0': 0.5384615384615384, 'accuracy_s1': 0.4714285714285714, 'classwise_accuracy': {0: array([ 78, 128]), 1: array([24, 56])}, 'DP_ingredients': {'class_pred_count_s0': {2: 6, 4: 1, 1: 20, 0: 22, 3: 4, 5: 3}, 'class_pred_count_s1': {0: 79, 1: 20, 2: 13, 5: 3, 4: 4, 3: 9}, 'class_pred_count': {2: 19, 0: 101, 1: 40, 4: 5, 5: 6, 3: 13}, 'count_s0': 56, 'count_s1': 128, 'count': 184}}\n",
      "[71] Eval metrics for task 2 >> {'accuracy': 0.18730456535334583, 'loss': 0.0, 'std': 0.007817385866166357, 'EER': -1, 'EO': [0.05748663101604279, 0.06043956043956042], 'DP': -1, 'accuracy_s0': 0.17919580419580422, 'accuracy_s1': 0.18067226890756302, 'classwise_accuracy': {3: array([14, 78]), 2: array([16, 82])}, 'DP_ingredients': {'class_pred_count_s0': {4: 6, 3: 17, 5: 22, 0: 5, 1: 11, 2: 9}, 'class_pred_count_s1': {0: 34, 5: 9, 2: 21, 3: 12, 4: 4, 1: 10}, 'class_pred_count': {0: 39, 4: 10, 3: 29, 5: 31, 2: 30, 1: 21}, 'count_s0': 70, 'count_s1': 90, 'count': 160}}\n",
      "[71] Eval metrics for task 3 >> {'accuracy': 0.33995100109825127, 'loss': 0.0, 'std': 0.19388358536791417, 'EER': -1, 'EO': [0.390194075587334, 0.10334528076463562], 'DP': -1, 'accuracy_s0': 0.42017035157665816, 'accuracy_s1': 0.1734006734006734, 'classwise_accuracy': {5: array([ 71, 133]), 4: array([13, 89])}, 'DP_ingredients': {'class_pred_count_s0': {5: 98, 4: 20, 1: 8, 2: 6, 3: 13, 0: 6}, 'class_pred_count_s1': {4: 13, 5: 23, 2: 8, 0: 5, 1: 6, 3: 16}, 'class_pred_count': {5: 121, 4: 33, 1: 14, 2: 14, 3: 29, 0: 11}, 'count_s0': 151, 'count_s1': 71, 'count': 222}}\n",
      "[72] Eval metrics for task 1 >> {'accuracy': 0.5228794642857143, 'loss': 0.0, 'std': 0.09430803571428573, 'EER': -1, 'EO': [0.15306122448979587, 0.2769230769230769], 'DP': -1, 'accuracy_s0': 0.5384615384615384, 'accuracy_s1': 0.4765306122448979, 'classwise_accuracy': {0: array([ 79, 128]), 1: array([24, 56])}, 'DP_ingredients': {'class_pred_count_s0': {0: 22, 1: 20, 2: 6, 5: 3, 3: 4, 4: 1}, 'class_pred_count_s1': {0: 80, 1: 20, 2: 12, 3: 9, 4: 4, 5: 3}, 'class_pred_count': {0: 102, 1: 40, 2: 18, 3: 13, 4: 5, 5: 6}, 'count_s0': 56, 'count_s1': 128, 'count': 184}}\n",
      "[72] Eval metrics for task 2 >> {'accuracy': 0.18730456535334583, 'loss': 0.0, 'std': 0.007817385866166357, 'EER': -1, 'EO': [0.06043956043956042, 0.05748663101604279], 'DP': -1, 'accuracy_s0': 0.17919580419580422, 'accuracy_s1': 0.18067226890756302, 'classwise_accuracy': {2: array([16, 82]), 3: array([14, 78])}, 'DP_ingredients': {'class_pred_count_s0': {5: 22, 1: 11, 4: 6, 3: 17, 2: 9, 0: 5}, 'class_pred_count_s1': {2: 21, 4: 4, 0: 34, 3: 12, 1: 10, 5: 9}, 'class_pred_count': {2: 30, 4: 10, 0: 39, 5: 31, 1: 21, 3: 29}, 'count_s0': 70, 'count_s1': 90, 'count': 160}}\n",
      "[72] Eval metrics for task 3 >> {'accuracy': 0.33995100109825127, 'loss': 0.0, 'std': 0.19388358536791417, 'EER': -1, 'EO': [0.390194075587334, 0.10334528076463562], 'DP': -1, 'accuracy_s0': 0.42017035157665816, 'accuracy_s1': 0.1734006734006734, 'classwise_accuracy': {5: array([ 71, 133]), 4: array([13, 89])}, 'DP_ingredients': {'class_pred_count_s0': {3: 13, 4: 20, 5: 98, 2: 6, 0: 6, 1: 8}, 'class_pred_count_s1': {0: 5, 5: 23, 2: 8, 1: 6, 4: 13, 3: 16}, 'class_pred_count': {3: 29, 4: 33, 0: 11, 5: 121, 2: 14, 1: 14}, 'count_s0': 151, 'count_s1': 71, 'count': 222}}\n",
      "[73] Eval metrics for task 1 >> {'accuracy': 0.5228794642857143, 'loss': 0.0, 'std': 0.09430803571428573, 'EER': -1, 'EO': [0.15306122448979587, 0.2769230769230769], 'DP': -1, 'accuracy_s0': 0.5384615384615384, 'accuracy_s1': 0.4765306122448979, 'classwise_accuracy': {0: array([ 79, 128]), 1: array([24, 56])}, 'DP_ingredients': {'class_pred_count_s0': {1: 20, 0: 22, 3: 4, 2: 6, 5: 3, 4: 1}, 'class_pred_count_s1': {4: 4, 0: 80, 2: 12, 3: 9, 1: 20, 5: 3}, 'class_pred_count': {4: 5, 0: 102, 2: 18, 1: 40, 3: 13, 5: 6}, 'count_s0': 56, 'count_s1': 128, 'count': 184}}\n",
      "[73] Eval metrics for task 2 >> {'accuracy': 0.18730456535334583, 'loss': 0.0, 'std': 0.007817385866166357, 'EER': -1, 'EO': [0.05748663101604279, 0.06043956043956042], 'DP': -1, 'accuracy_s0': 0.17919580419580422, 'accuracy_s1': 0.18067226890756302, 'classwise_accuracy': {3: array([14, 78]), 2: array([16, 82])}, 'DP_ingredients': {'class_pred_count_s0': {5: 22, 4: 6, 3: 17, 2: 9, 0: 5, 1: 11}, 'class_pred_count_s1': {0: 34, 5: 9, 2: 21, 1: 10, 4: 4, 3: 12}, 'class_pred_count': {5: 31, 4: 10, 3: 29, 0: 39, 2: 30, 1: 21}, 'count_s0': 70, 'count_s1': 90, 'count': 160}}\n",
      "[73] Eval metrics for task 3 >> {'accuracy': 0.33995100109825127, 'loss': 0.0, 'std': 0.19388358536791417, 'EER': -1, 'EO': [0.390194075587334, 0.10334528076463562], 'DP': -1, 'accuracy_s0': 0.42017035157665816, 'accuracy_s1': 0.1734006734006734, 'classwise_accuracy': {5: array([ 71, 133]), 4: array([13, 89])}, 'DP_ingredients': {'class_pred_count_s0': {5: 98, 1: 8, 3: 13, 0: 6, 4: 20, 2: 6}, 'class_pred_count_s1': {4: 13, 0: 5, 3: 16, 2: 8, 1: 6, 5: 23}, 'class_pred_count': {5: 121, 1: 14, 4: 33, 0: 11, 3: 29, 2: 14}, 'count_s0': 151, 'count_s1': 71, 'count': 222}}\n",
      "[74] Eval metrics for task 1 >> {'accuracy': 0.5228794642857143, 'loss': 0.0, 'std': 0.09430803571428573, 'EER': -1, 'EO': [0.2769230769230769, 0.15306122448979587], 'DP': -1, 'accuracy_s0': 0.5384615384615384, 'accuracy_s1': 0.4765306122448979, 'classwise_accuracy': {1: array([24, 56]), 0: array([ 79, 128])}, 'DP_ingredients': {'class_pred_count_s0': {3: 4, 0: 22, 1: 20, 2: 6, 5: 3, 4: 1}, 'class_pred_count_s1': {0: 80, 2: 12, 1: 20, 3: 9, 4: 4, 5: 3}, 'class_pred_count': {3: 13, 0: 102, 1: 40, 2: 18, 4: 5, 5: 6}, 'count_s0': 56, 'count_s1': 128, 'count': 184}}\n",
      "[74] Eval metrics for task 2 >> {'accuracy': 0.18730456535334583, 'loss': 0.0, 'std': 0.007817385866166357, 'EER': -1, 'EO': [0.06043956043956042, 0.05748663101604279], 'DP': -1, 'accuracy_s0': 0.17919580419580422, 'accuracy_s1': 0.18067226890756302, 'classwise_accuracy': {2: array([16, 82]), 3: array([14, 78])}, 'DP_ingredients': {'class_pred_count_s0': {3: 17, 5: 22, 1: 11, 2: 9, 0: 5, 4: 6}, 'class_pred_count_s1': {0: 34, 4: 4, 2: 21, 5: 9, 1: 10, 3: 12}, 'class_pred_count': {0: 39, 3: 29, 5: 31, 4: 10, 2: 30, 1: 21}, 'count_s0': 70, 'count_s1': 90, 'count': 160}}\n",
      "[74] Eval metrics for task 3 >> {'accuracy': 0.33995100109825127, 'loss': 0.0, 'std': 0.19388358536791417, 'EER': -1, 'EO': [0.390194075587334, 0.10334528076463562], 'DP': -1, 'accuracy_s0': 0.42017035157665816, 'accuracy_s1': 0.1734006734006734, 'classwise_accuracy': {5: array([ 71, 133]), 4: array([13, 89])}, 'DP_ingredients': {'class_pred_count_s0': {5: 98, 3: 13, 2: 7, 4: 20, 0: 6, 1: 7}, 'class_pred_count_s1': {4: 13, 0: 5, 3: 16, 1: 6, 5: 23, 2: 8}, 'class_pred_count': {5: 121, 3: 29, 4: 33, 0: 11, 2: 15, 1: 13}, 'count_s0': 151, 'count_s1': 71, 'count': 222}}\n",
      "[75] Eval metrics for task 1 >> {'accuracy': 0.5228794642857143, 'loss': 0.0, 'std': 0.09430803571428573, 'EER': -1, 'EO': [0.15306122448979587, 0.2769230769230769], 'DP': -1, 'accuracy_s0': 0.5384615384615384, 'accuracy_s1': 0.4765306122448979, 'classwise_accuracy': {0: array([ 79, 128]), 1: array([24, 56])}, 'DP_ingredients': {'class_pred_count_s0': {0: 22, 1: 20, 2: 6, 3: 4, 5: 3, 4: 1}, 'class_pred_count_s1': {0: 80, 5: 3, 2: 12, 3: 9, 1: 20, 4: 4}, 'class_pred_count': {0: 102, 5: 6, 2: 18, 3: 13, 1: 40, 4: 5}, 'count_s0': 56, 'count_s1': 128, 'count': 184}}\n",
      "[75] Eval metrics for task 2 >> {'accuracy': 0.18730456535334583, 'loss': 0.0, 'std': 0.007817385866166357, 'EER': -1, 'EO': [0.05748663101604279, 0.06043956043956042], 'DP': -1, 'accuracy_s0': 0.17919580419580422, 'accuracy_s1': 0.18067226890756302, 'classwise_accuracy': {3: array([14, 78]), 2: array([16, 82])}, 'DP_ingredients': {'class_pred_count_s0': {4: 6, 3: 17, 5: 22, 0: 5, 1: 11, 2: 9}, 'class_pred_count_s1': {1: 10, 0: 34, 3: 12, 4: 4, 5: 9, 2: 21}, 'class_pred_count': {1: 21, 0: 39, 4: 10, 3: 29, 5: 31, 2: 30}, 'count_s0': 70, 'count_s1': 90, 'count': 160}}\n",
      "[75] Eval metrics for task 3 >> {'accuracy': 0.33995100109825127, 'loss': 0.0, 'std': 0.19388358536791417, 'EER': -1, 'EO': [0.390194075587334, 0.10334528076463562], 'DP': -1, 'accuracy_s0': 0.42017035157665816, 'accuracy_s1': 0.1734006734006734, 'classwise_accuracy': {5: array([ 71, 133]), 4: array([13, 89])}, 'DP_ingredients': {'class_pred_count_s0': {2: 7, 5: 98, 4: 20, 3: 13, 1: 7, 0: 6}, 'class_pred_count_s1': {5: 23, 4: 13, 1: 6, 2: 8, 3: 16, 0: 5}, 'class_pred_count': {2: 15, 5: 121, 4: 33, 3: 29, 1: 13, 0: 11}, 'count_s0': 151, 'count_s1': 71, 'count': 222}}\n",
      "Reduce size of class 0 to 32 examplar\n",
      "Reduce size of class 1 to 32 examplar\n",
      "Reduce size of class 2 to 32 examplar\n",
      "Reduce size of class 3 to 32 examplar\n",
      "Reduce size of class 4 to 0 examplar\n",
      "Reduce size of class 5 to 0 examplar\n",
      "construct class 4 examplar:\n",
      "len(self.exemplar_dict[cls])=32\n",
      "construct class 5 examplar:\n",
      "len(self.exemplar_dict[cls])=32\n",
      "update_memory_after_train\n",
      "final avg-acc 0.35004501024577045\n",
      "final avg-forget 0.16358019521129274\n"
     ]
    }
   ],
   "source": [
    "trainer.run()\n",
    "print(\"final avg-acc\", metric_manager_callback.meters['accuracy'].compute_final())\n",
    "print(\"final avg-forget\", metric_manager_callback.meters['forgetting'].compute_final())"
   ]
  },
  {
   "cell_type": "code",
   "execution_count": 8,
   "id": "beaf952b",
   "metadata": {},
   "outputs": [
    {
     "data": {
      "text/plain": [
       "array([[0.608, 0.   , 0.   ],\n",
       "       [0.493, 0.43 , 0.   ],\n",
       "       [0.523, 0.187, 0.34 ]])"
      ]
     },
     "execution_count": 8,
     "metadata": {},
     "output_type": "execute_result"
    }
   ],
   "source": [
    "metric_manager_callback.meters['accuracy'].get_data()"
   ]
  },
  {
   "cell_type": "code",
   "execution_count": 9,
   "id": "26972f73",
   "metadata": {},
   "outputs": [
    {
     "data": {
      "text/plain": [
       "0.47307315080648343"
      ]
     },
     "execution_count": 9,
     "metadata": {},
     "output_type": "execute_result"
    }
   ],
   "source": [
    "np.mean(metric_manager_callback.meters['accuracy'].compute_overall())"
   ]
  },
  {
   "cell_type": "code",
   "execution_count": 10,
   "id": "e950fb61",
   "metadata": {},
   "outputs": [
    {
     "data": {
      "text/plain": [
       "[0.278, 0.242, 0.174]"
      ]
     },
     "execution_count": 10,
     "metadata": {},
     "output_type": "execute_result"
    }
   ],
   "source": [
    "[np.round(x, 3) for x in metric_manager_callback.meters['EO'].compute_overall()]"
   ]
  },
  {
   "cell_type": "code",
   "execution_count": 11,
   "id": "2ebfb58a",
   "metadata": {},
   "outputs": [
    {
     "data": {
      "text/plain": [
       "0.23107857459500827"
      ]
     },
     "execution_count": 11,
     "metadata": {},
     "output_type": "execute_result"
    }
   ],
   "source": [
    "np.mean(metric_manager_callback.meters['EO'].compute_overall())"
   ]
  },
  {
   "cell_type": "code",
   "execution_count": 12,
   "id": "2b848e47",
   "metadata": {},
   "outputs": [
    {
     "data": {
      "text/plain": [
       "[0.146, 0.079, 0.06]"
      ]
     },
     "execution_count": 12,
     "metadata": {},
     "output_type": "execute_result"
    }
   ],
   "source": [
    "[np.round(x, 3) for x in metric_manager_callback.meters['DP'].compute_overall()]"
   ]
  },
  {
   "cell_type": "code",
   "execution_count": 13,
   "id": "db4292ea",
   "metadata": {},
   "outputs": [
    {
     "data": {
      "text/plain": [
       "0.09500998254118125"
      ]
     },
     "execution_count": 13,
     "metadata": {},
     "output_type": "execute_result"
    }
   ],
   "source": [
    "np.mean(metric_manager_callback.meters['DP'].compute_overall())"
   ]
  },
  {
   "cell_type": "code",
   "execution_count": null,
   "id": "91315790",
   "metadata": {},
   "outputs": [],
   "source": []
  },
  {
   "cell_type": "code",
   "execution_count": null,
   "id": "04933062",
   "metadata": {},
   "outputs": [],
   "source": []
  }
 ],
 "metadata": {
  "kernelspec": {
   "display_name": "cil",
   "language": "python",
   "name": "python3"
  },
  "language_info": {
   "codemirror_mode": {
    "name": "ipython",
    "version": 3
   },
   "file_extension": ".py",
   "mimetype": "text/x-python",
   "name": "python",
   "nbconvert_exporter": "python",
   "pygments_lexer": "ipython3",
   "version": "3.9.18"
  }
 },
 "nbformat": 4,
 "nbformat_minor": 5
}
