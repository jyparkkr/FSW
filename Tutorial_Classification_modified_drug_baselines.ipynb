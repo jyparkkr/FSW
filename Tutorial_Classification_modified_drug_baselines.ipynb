{
 "cells": [
  {
   "cell_type": "code",
   "execution_count": 1,
   "id": "b0c3b92f",
   "metadata": {},
   "outputs": [
    {
     "name": "stdout",
     "output_type": "stream",
     "text": [
      "output_dir=./outputs/demo/dataset=Drug/seed=10_epoch=25_lr=0.01_alpha=0.0_tau=5.0\n"
     ]
    }
   ],
   "source": [
    "import numpy as np\n",
    "import random\n",
    "\n",
    "import torch\n",
    "import torch.nn.functional as F\n",
    "import cl_gym as cl\n",
    "\n",
    "import sys\n",
    "import os\n",
    "\n",
    "seed = 10\n",
    "\n",
    "np.random.seed(seed)\n",
    "torch.manual_seed(seed)\n",
    "np.random.seed(seed)\n",
    "random.seed(seed)\n",
    "torch.cuda.manual_seed_all(seed)\n",
    "torch.manual_seed(seed)\n",
    "torch.backends.cudnn.deterministic = True\n",
    "torch.backends.cudnn.benchmark = False\n",
    "torch.backends.cudnn.enabled = False\n",
    "torch.set_num_threads(8)\n",
    "\n",
    "\n",
    "def make_params() -> dict:\n",
    "    import os\n",
    "    from pathlib import Path\n",
    "    import uuid\n",
    "\n",
    "    params = {\n",
    "            # dataset\n",
    "            'dataset': \"Drug\",\n",
    "            'fairness_agg': 'mean',\n",
    "            # 'dataset': \"FashionMNIST\",\n",
    "            'random_class_idx': False,\n",
    "\n",
    "            # benchmark\n",
    "            'seed': seed,\n",
    "            'num_tasks': 3,\n",
    "            'epochs_per_task': 25,\n",
    "            'per_task_examples': np.inf,\n",
    "            # 'per_task_examples': 10000,\n",
    "            'per_task_memory_examples': 64,\n",
    "            'batch_size_train': 64,\n",
    "            'batch_size_memory': 64,\n",
    "            'batch_size_validation': 256,\n",
    "            'tau': 5.,\n",
    "            # 'tau': 0.0,\n",
    "\n",
    "            # algorithm\n",
    "            'optimizer': 'sgd',\n",
    "            'learning_rate': 0.01,\n",
    "            'momentum': 0.9,\n",
    "            'learning_rate_decay': 1.0,\n",
    "            'criterion': torch.nn.CrossEntropyLoss(),\n",
    "            'device': torch.device('cuda:6' if torch.cuda.is_available() else 'cpu'),\n",
    "             \n",
    "            # sample selection\n",
    "            'alpha':0.0,\n",
    "            'lambda': .0,\n",
    "            'lambda_old': 0.0,\n",
    "              }\n",
    "\n",
    "#     trial_id = str(uuid.uuid4())\n",
    "    trial_id = f\"demo/dataset={params['dataset']}/seed={params['seed']}_epoch={params['epochs_per_task']}_lr={params['learning_rate']}_alpha={params['alpha']}_tau={params['tau']}\"\n",
    "    params['trial_id'] = trial_id\n",
    "    params['output_dir'] = os.path.join(\"./outputs/{}\".format(trial_id))\n",
    "    print(f\"output_dir={params['output_dir']}\")\n",
    "    Path(params['output_dir']).mkdir(parents=True, exist_ok=True)\n",
    "\n",
    "    return params\n",
    "\n",
    "params = make_params()"
   ]
  },
  {
   "cell_type": "code",
   "execution_count": 2,
   "id": "93b43ace",
   "metadata": {},
   "outputs": [],
   "source": [
    "from datasets import MNIST\n",
    "from datasets import FashionMNIST\n",
    "from datasets import CIFAR10, CIFAR100\n",
    "from datasets.drug import Drug\n",
    "\n",
    "if params['dataset'] == 'MNIST':\n",
    "    benchmark = MNIST(num_tasks=params['num_tasks'],\n",
    "                    per_task_memory_examples=params['per_task_memory_examples'],\n",
    "                    per_task_examples = params['per_task_examples'],\n",
    "                    random_class_idx = params['random_class_idx'])\n",
    "    input_dim = (28, 28)\n",
    "elif params['dataset'] == 'FashionMNIST':\n",
    "    benchmark = FashionMNIST(num_tasks=params['num_tasks'],\n",
    "                            per_task_memory_examples=params['per_task_memory_examples'],\n",
    "                            per_task_examples = params['per_task_examples'],\n",
    "                            random_class_idx = params['random_class_idx'])\n",
    "    input_dim = (28, 28)\n",
    "elif params['dataset'] == 'CIFAR10':\n",
    "    benchmark = CIFAR10(num_tasks=params['num_tasks'],\n",
    "                        per_task_memory_examples=params['per_task_memory_examples'],\n",
    "                        per_task_examples = params['per_task_examples'],\n",
    "                        random_class_idx = params['random_class_idx'])\n",
    "    input_dim = (3, 32, 32)\n",
    "elif params['dataset'] == 'CIFAR100':        \n",
    "    benchmark = CIFAR100(num_tasks=params['num_tasks'],\n",
    "                        per_task_memory_examples=params['per_task_memory_examples'],\n",
    "                        per_task_examples = params['per_task_examples'],\n",
    "                        random_class_idx = params['random_class_idx'])\n",
    "    input_dim = (3, 32, 32)\n",
    "elif params['dataset'] == 'Drug':        \n",
    "    benchmark = Drug(num_tasks=params['num_tasks'],\n",
    "                        per_task_memory_examples=params['per_task_memory_examples'],\n",
    "                        per_task_examples = params['per_task_examples'],\n",
    "                        joint = params['random_class_idx'],\n",
    "                        random_class_idx = params['random_class_idx'])\n",
    "    input_dim = (12)\n",
    "else:\n",
    "    raise NotImplementedError\n",
    "class_idx = benchmark.class_idx\n",
    "num_classes = len(class_idx)\n",
    "\n"
   ]
  },
  {
   "cell_type": "code",
   "execution_count": 3,
   "id": "20c7b886",
   "metadata": {},
   "outputs": [],
   "source": [
    "from algorithms.imbalance import Heuristic2\n",
    "from metrics import FairMetricCollector\n",
    "from backbones import MLP2Layers2\n",
    "\n",
    "backbone = MLP2Layers2(\n",
    "    input_dim=input_dim, \n",
    "    hidden_dim_1=256, \n",
    "    hidden_dim_2=256, \n",
    "    output_dim=num_classes,\n",
    "    class_idx=class_idx,\n",
    "    config=params\n",
    "    ).to(params['device'])\n",
    "algorithm = Heuristic2(backbone, benchmark, params, requires_memory=True)\n",
    "metric_manager_callback = FairMetricCollector(num_tasks=params['num_tasks'],\n",
    "                                                        eval_interval='epoch',\n",
    "                                                        epochs_per_task=params['epochs_per_task'])\n"
   ]
  },
  {
   "cell_type": "code",
   "execution_count": 4,
   "id": "d8efa3ad",
   "metadata": {},
   "outputs": [],
   "source": [
    "# from trainers import ContinualTrainer\n",
    "from trainers.fair_trainer import FairContinualTrainer2 as ContinualTrainer\n",
    "# from trainers.imbalance_trainer import ImbalanceContinualTrainer1 as ContinualTrainer\n",
    "\n",
    "trainer = ContinualTrainer(algorithm, params, callbacks=[metric_manager_callback])\n"
   ]
  },
  {
   "cell_type": "code",
   "execution_count": 5,
   "id": "77b49d01",
   "metadata": {},
   "outputs": [],
   "source": [
    "if params['fairness_agg'] == \"mean\":\n",
    "    agg = np.mean\n",
    "elif params['fairness_agg'] == \"max\":\n",
    "    agg = np.max\n",
    "else:\n",
    "    raise NotImplementedError\n",
    "\n",
    "fairness_metrics = [\"std\", \"EER\", \"EO\", \"DP\"]\n",
    "for metric in metric_manager_callback.meters:\n",
    "    if metric in fairness_metrics:\n",
    "        metric_manager_callback.meters[metric].agg = agg\n"
   ]
  },
  {
   "cell_type": "code",
   "execution_count": 6,
   "id": "7c1bb4fe",
   "metadata": {},
   "outputs": [
    {
     "name": "stdout",
     "output_type": "stream",
     "text": [
      "---------------------------- Task 1 -----------------------\n",
      "[1] Eval metrics for task 1 >> {'accuracy': 0.5, 'loss': 0.006853951708130215, 'EO': [0.0, 0.0], 'DP': -1, 'accuracy_s0': 0.5, 'accuracy_s1': 0.5, 'classwise_accuracy': {0: array([128, 128]), 1: array([ 0, 56])}, 'DP_ingredients': {'class_pred_count_s0': {0: 56}, 'class_pred_count_s1': {0: 128}, 'class_pred_count': {0: 184}, 'count_s0': 56, 'count_s1': 128, 'count': 184}}\n",
      "[2] Eval metrics for task 1 >> {'accuracy': 0.5, 'loss': 0.004195051996604256, 'EO': [0.0, 0.0], 'DP': -1, 'accuracy_s0': 0.5, 'accuracy_s1': 0.5, 'classwise_accuracy': {0: array([128, 128]), 1: array([ 0, 56])}, 'DP_ingredients': {'class_pred_count_s0': {0: 56}, 'class_pred_count_s1': {0: 128}, 'class_pred_count': {0: 184}, 'count_s0': 56, 'count_s1': 128, 'count': 184}}\n",
      "[3] Eval metrics for task 1 >> {'accuracy': 0.5, 'loss': 0.0034643771207850914, 'EO': [0.0, 0.0], 'DP': -1, 'accuracy_s0': 0.5, 'accuracy_s1': 0.5, 'classwise_accuracy': {1: array([ 0, 56]), 0: array([128, 128])}, 'DP_ingredients': {'class_pred_count_s0': {0: 56}, 'class_pred_count_s1': {0: 128}, 'class_pred_count': {0: 184}, 'count_s0': 56, 'count_s1': 128, 'count': 184}}\n",
      "[4] Eval metrics for task 1 >> {'accuracy': 0.5, 'loss': 0.003440964805043262, 'EO': [0.0, 0.0], 'DP': -1, 'accuracy_s0': 0.5, 'accuracy_s1': 0.5, 'classwise_accuracy': {0: array([128, 128]), 1: array([ 0, 56])}, 'DP_ingredients': {'class_pred_count_s0': {0: 56}, 'class_pred_count_s1': {0: 128}, 'class_pred_count': {0: 184}, 'count_s0': 56, 'count_s1': 128, 'count': 184}}\n",
      "[5] Eval metrics for task 1 >> {'accuracy': 0.5, 'loss': 0.003302409273126851, 'EO': [0.0, 0.0], 'DP': -1, 'accuracy_s0': 0.5, 'accuracy_s1': 0.5, 'classwise_accuracy': {1: array([ 0, 56]), 0: array([128, 128])}, 'DP_ingredients': {'class_pred_count_s0': {0: 56}, 'class_pred_count_s1': {0: 128}, 'class_pred_count': {0: 184}, 'count_s0': 56, 'count_s1': 128, 'count': 184}}\n",
      "[6] Eval metrics for task 1 >> {'accuracy': 0.5111607142857143, 'loss': 0.0032774161385453267, 'EO': [0.04489795918367345, 0.021794871794871797], 'DP': -1, 'accuracy_s0': 0.4884615384615385, 'accuracy_s1': 0.5115646258503401, 'classwise_accuracy': {1: array([ 3, 56]), 0: array([124, 128])}, 'DP_ingredients': {'class_pred_count_s0': {0: 51, 1: 5}, 'class_pred_count_s1': {0: 126, 1: 2}, 'class_pred_count': {0: 177, 1: 7}, 'count_s0': 56, 'count_s1': 128, 'count': 184}}\n",
      "[7] Eval metrics for task 1 >> {'accuracy': 0.5239955357142857, 'loss': 0.0032290864897810893, 'EO': [0.02823129251700679, 0.04102564102564103], 'DP': -1, 'accuracy_s0': 0.5243589743589744, 'accuracy_s1': 0.5115646258503401, 'classwise_accuracy': {0: array([125, 128]), 1: array([ 4, 56])}, 'DP_ingredients': {'class_pred_count_s0': {0: 51, 1: 5}, 'class_pred_count_s1': {0: 126, 1: 2}, 'class_pred_count': {0: 177, 1: 7}, 'count_s0': 56, 'count_s1': 128, 'count': 184}}\n",
      "[8] Eval metrics for task 1 >> {'accuracy': 0.5150669642857143, 'loss': 0.0031932589152584906, 'EO': [0.02823129251700679, 0.021794871794871797], 'DP': -1, 'accuracy_s0': 0.5051282051282051, 'accuracy_s1': 0.5115646258503401, 'classwise_accuracy': {0: array([125, 128]), 1: array([ 3, 56])}, 'DP_ingredients': {'class_pred_count_s0': {0: 52, 1: 4}, 'class_pred_count_s1': {0: 126, 1: 2}, 'class_pred_count': {0: 178, 1: 6}, 'count_s0': 56, 'count_s1': 128, 'count': 184}}\n",
      "[9] Eval metrics for task 1 >> {'accuracy': 0.5234375, 'loss': 0.003196179218914198, 'EO': [0.05782312925170069, 0.09871794871794873], 'DP': -1, 'accuracy_s0': 0.532051282051282, 'accuracy_s1': 0.49115646258503404, 'classwise_accuracy': {0: array([118, 128]), 1: array([ 7, 56])}, 'DP_ingredients': {'class_pred_count_s0': {0: 45, 1: 11}, 'class_pred_count_s1': {1: 6, 0: 122}, 'class_pred_count': {0: 167, 1: 17}, 'count_s0': 56, 'count_s1': 128, 'count': 184}}\n",
      "[10] Eval metrics for task 1 >> {'accuracy': 0.5290178571428571, 'loss': 0.0031482635632805204, 'EO': [0.04489795918367345, 0.060256410256410264], 'DP': -1, 'accuracy_s0': 0.5269230769230769, 'accuracy_s1': 0.5115646258503401, 'classwise_accuracy': {0: array([124, 128]), 1: array([ 5, 56])}, 'DP_ingredients': {'class_pred_count_s0': {0: 49, 1: 7}, 'class_pred_count_s1': {0: 126, 1: 2}, 'class_pred_count': {0: 175, 1: 9}, 'count_s0': 56, 'count_s1': 128, 'count': 184}}\n",
      "[11] Eval metrics for task 1 >> {'accuracy': 0.5424107142857143, 'loss': 0.003137512699417446, 'EO': [0.047619047619047616, 0.0846153846153846], 'DP': -1, 'accuracy_s0': 0.5512820512820513, 'accuracy_s1': 0.5142857142857143, 'classwise_accuracy': {0: array([116, 128]), 1: array([10, 56])}, 'DP_ingredients': {'class_pred_count_s0': {0: 44, 1: 12}, 'class_pred_count_s1': {0: 118, 1: 10}, 'class_pred_count': {0: 162, 1: 22}, 'count_s0': 56, 'count_s1': 128, 'count': 184}}\n",
      "[12] Eval metrics for task 1 >> {'accuracy': 0.5262276785714286, 'loss': 0.003112988951413528, 'EO': [0.029591836734693844, 0.07948717948717948], 'DP': -1, 'accuracy_s0': 0.5461538461538462, 'accuracy_s1': 0.4962585034013605, 'classwise_accuracy': {0: array([121, 128]), 1: array([ 6, 56])}, 'DP_ingredients': {'class_pred_count_s0': {0: 48, 1: 8}, 'class_pred_count_s1': {0: 123, 1: 5}, 'class_pred_count': {0: 171, 1: 13}, 'count_s0': 56, 'count_s1': 128, 'count': 184}}\n",
      "[13] Eval metrics for task 1 >> {'accuracy': 0.5373883928571429, 'loss': 0.0031062085991320405, 'EO': [0.030952380952380953, 0.10128205128205128], 'DP': -1, 'accuracy_s0': 0.5679487179487179, 'accuracy_s1': 0.4976190476190476, 'classwise_accuracy': {0: array([117, 128]), 1: array([ 9, 56])}, 'DP_ingredients': {'class_pred_count_s0': {1: 11, 0: 45}, 'class_pred_count_s1': {0: 119, 1: 9}, 'class_pred_count': {0: 164, 1: 20}, 'count_s0': 56, 'count_s1': 128, 'count': 184}}\n",
      "[14] Eval metrics for task 1 >> {'accuracy': 0.5574776785714286, 'loss': 0.0031142720709676328, 'EO': [0.05408163265306121, 0.07051282051282053], 'DP': -1, 'accuracy_s0': 0.5538461538461539, 'accuracy_s1': 0.5374149659863946, 'classwise_accuracy': {1: array([13, 56]), 0: array([113, 128])}, 'DP_ingredients': {'class_pred_count_s0': {0: 42, 1: 14}, 'class_pred_count_s1': {0: 114, 1: 14}, 'class_pred_count': {0: 156, 1: 28}, 'count_s0': 56, 'count_s1': 128, 'count': 184}}\n",
      "[15] Eval metrics for task 1 >> {'accuracy': 0.5502232142857143, 'loss': 0.0030947489582973976, 'EO': [0.03605442176870749, 0.0846153846153846], 'DP': -1, 'accuracy_s0': 0.5679487179487179, 'accuracy_s1': 0.5193877551020408, 'classwise_accuracy': {0: array([118, 128]), 1: array([10, 56])}, 'DP_ingredients': {'class_pred_count_s0': {0: 45, 1: 11}, 'class_pred_count_s1': {0: 119, 1: 9}, 'class_pred_count': {0: 164, 1: 20}, 'count_s0': 56, 'count_s1': 128, 'count': 184}}\n",
      "[16] Eval metrics for task 1 >> {'accuracy': 0.5613839285714286, 'loss': 0.0031022821431574616, 'EO': [0.037414965986394544, 0.07051282051282053], 'DP': -1, 'accuracy_s0': 0.5705128205128205, 'accuracy_s1': 0.5374149659863946, 'classwise_accuracy': {1: array([13, 56]), 0: array([114, 128])}, 'DP_ingredients': {'class_pred_count_s0': {1: 13, 0: 43}, 'class_pred_count_s1': {0: 114, 1: 14}, 'class_pred_count': {0: 157, 1: 27}, 'count_s0': 56, 'count_s1': 128, 'count': 184}}\n",
      "[17] Eval metrics for task 1 >> {'accuracy': 0.54296875, 'loss': 0.003096336903779403, 'EO': [0.018027210884353717, 0.06282051282051282], 'DP': -1, 'accuracy_s0': 0.5628205128205128, 'accuracy_s1': 0.5180272108843538, 'classwise_accuracy': {0: array([123, 128]), 1: array([ 7, 56])}, 'DP_ingredients': {'class_pred_count_s0': {0: 49, 1: 7}, 'class_pred_count_s1': {0: 123, 1: 5}, 'class_pred_count': {0: 172, 1: 12}, 'count_s0': 56, 'count_s1': 128, 'count': 184}}\n",
      "[18] Eval metrics for task 1 >> {'accuracy': 0.5546875, 'loss': 0.00311955777199372, 'EO': [0.0605442176870748, 0.08974358974358974], 'DP': -1, 'accuracy_s0': 0.5564102564102564, 'accuracy_s1': 0.5272108843537415, 'classwise_accuracy': {0: array([110, 128]), 1: array([14, 56])}, 'DP_ingredients': {'class_pred_count_s0': {0: 40, 1: 16}, 'class_pred_count_s1': {0: 112, 1: 16}, 'class_pred_count': {0: 152, 1: 32}, 'count_s0': 56, 'count_s1': 128, 'count': 184}}\n",
      "[19] Eval metrics for task 1 >> {'accuracy': 0.5619419642857143, 'loss': 0.0030958079125570216, 'EO': [0.0078231292517007, 0.0846153846153846], 'DP': -1, 'accuracy_s0': 0.6012820512820513, 'accuracy_s1': 0.5244897959183674, 'classwise_accuracy': {0: array([121, 128]), 1: array([10, 56])}, 'DP_ingredients': {'class_pred_count_s0': {1: 9, 0: 47}, 'class_pred_count_s1': {0: 120, 1: 8}, 'class_pred_count': {0: 167, 1: 17}, 'count_s0': 56, 'count_s1': 128, 'count': 184}}\n",
      "[20] Eval metrics for task 1 >> {'accuracy': 0.5546875, 'loss': 0.0031169390548830447, 'EO': [0.0605442176870748, 0.08974358974358974], 'DP': -1, 'accuracy_s0': 0.5564102564102564, 'accuracy_s1': 0.5272108843537415, 'classwise_accuracy': {1: array([14, 56]), 0: array([110, 128])}, 'DP_ingredients': {'class_pred_count_s0': {0: 40, 1: 16}, 'class_pred_count_s1': {0: 112, 1: 16}, 'class_pred_count': {0: 152, 1: 32}, 'count_s0': 56, 'count_s1': 128, 'count': 184}}\n",
      "[21] Eval metrics for task 1 >> {'accuracy': 0.5552455357142857, 'loss': 0.0030999569141346474, 'EO': [0.030952380952380953, 0.06794871794871794], 'DP': -1, 'accuracy_s0': 0.5679487179487179, 'accuracy_s1': 0.530952380952381, 'classwise_accuracy': {0: array([117, 128]), 1: array([11, 56])}, 'DP_ingredients': {'class_pred_count_s0': {0: 45, 1: 11}, 'class_pred_count_s1': {0: 117, 1: 11}, 'class_pred_count': {0: 162, 1: 22}, 'count_s0': 56, 'count_s1': 128, 'count': 184}}\n",
      "[22] Eval metrics for task 1 >> {'accuracy': 0.5518973214285714, 'loss': 0.0031438965512358623, 'EO': [0.06700680272108844, 0.10897435897435899], 'DP': -1, 'accuracy_s0': 0.558974358974359, 'accuracy_s1': 0.5170068027210885, 'classwise_accuracy': {0: array([107, 128]), 1: array([15, 56])}, 'DP_ingredients': {'class_pred_count_s0': {0: 38, 1: 18}, 'class_pred_count_s1': {0: 110, 1: 18}, 'class_pred_count': {0: 148, 1: 36}, 'count_s0': 56, 'count_s1': 128, 'count': 184}}\n",
      "[23] Eval metrics for task 1 >> {'accuracy': 0.5591517857142857, 'loss': 0.0031168629293856416, 'EO': [0.03605442176870749, 0.06794871794871794], 'DP': -1, 'accuracy_s0': 0.5679487179487179, 'accuracy_s1': 0.5360544217687075, 'classwise_accuracy': {1: array([11, 56]), 0: array([118, 128])}, 'DP_ingredients': {'class_pred_count_s0': {1: 11, 0: 45}, 'class_pred_count_s1': {0: 118, 1: 10}, 'class_pred_count': {1: 21, 0: 163}, 'count_s0': 56, 'count_s1': 128, 'count': 184}}\n",
      "[24] Eval metrics for task 1 >> {'accuracy': 0.5608258928571428, 'loss': 0.0031585777583329573, 'EO': [0.06700680272108844, 0.09230769230769231], 'DP': -1, 'accuracy_s0': 0.558974358974359, 'accuracy_s1': 0.5336734693877551, 'classwise_accuracy': {0: array([107, 128]), 1: array([16, 56])}, 'DP_ingredients': {'class_pred_count_s0': {1: 18, 0: 38}, 'class_pred_count_s1': {0: 109, 1: 19}, 'class_pred_count': {1: 37, 0: 147}, 'count_s0': 56, 'count_s1': 128, 'count': 184}}\n",
      "[25] Eval metrics for task 1 >> {'accuracy': 0.5440848214285714, 'loss': 0.0031305201675580897, 'EO': [0.0078231292517007, 0.046153846153846156], 'DP': -1, 'accuracy_s0': 0.5628205128205128, 'accuracy_s1': 0.5244897959183674, 'classwise_accuracy': {0: array([121, 128]), 1: array([ 8, 56])}, 'DP_ingredients': {'class_pred_count_s0': {1: 7, 0: 49}, 'class_pred_count_s1': {0: 120, 1: 8}, 'class_pred_count': {0: 169, 1: 15}, 'count_s0': 56, 'count_s1': 128, 'count': 184}}\n",
      "training_task_end\n",
      "---------------------------- Task 2 -----------------------\n",
      "[26] Eval metrics for task 1 >> {'accuracy': 0.5970982142857143, 'loss': 0.0037442248152649922, 'EO': [0.021088435374149672, 0.06666666666666668], 'DP': -1, 'accuracy_s0': 0.6166666666666667, 'accuracy_s1': 0.5710884353741497, 'classwise_accuracy': {0: array([ 98, 128]), 1: array([24, 56])}, 'DP_ingredients': {'class_pred_count_s0': {0: 35, 1: 21}, 'class_pred_count_s1': {1: 33, 0: 95}, 'class_pred_count': {1: 54, 0: 130}, 'count_s0': 56, 'count_s1': 128, 'count': 184}}\n",
      "[26] Eval metrics for task 2 >> {'accuracy': 0.0, 'loss': 0.01910581290721893, 'EO': [0.0, 0.0], 'DP': -1, 'accuracy_s0': 0.0, 'accuracy_s1': 0.0, 'classwise_accuracy': {3: array([ 0, 78]), 2: array([ 0, 82])}, 'DP_ingredients': {'class_pred_count_s0': {1: 43, 0: 27}, 'class_pred_count_s1': {1: 22, 0: 68}, 'class_pred_count': {1: 65, 0: 95}, 'count_s0': 70, 'count_s1': 90, 'count': 160}}\n",
      "[27] Eval metrics for task 1 >> {'accuracy': 0.625, 'loss': 0.005989609205204508, 'EO': [0.0326530612244898, 0.0], 'DP': -1, 'accuracy_s0': 0.6, 'accuracy_s1': 0.6326530612244898, 'classwise_accuracy': {1: array([28, 56]), 0: array([ 96, 128])}, 'DP_ingredients': {'class_pred_count_s0': {0: 34, 1: 21, 2: 1}, 'class_pred_count_s1': {0: 90, 1: 38}, 'class_pred_count': {0: 124, 1: 59, 2: 1}, 'count_s0': 56, 'count_s1': 128, 'count': 184}}\n",
      "[27] Eval metrics for task 2 >> {'accuracy': 0.0, 'loss': 0.011284825950860977, 'EO': [0.0, 0.0], 'DP': -1, 'accuracy_s0': 0.0, 'accuracy_s1': 0.0, 'classwise_accuracy': {2: array([ 0, 82]), 3: array([ 0, 78])}, 'DP_ingredients': {'class_pred_count_s0': {0: 22, 1: 48}, 'class_pred_count_s1': {0: 59, 1: 29, 2: 2}, 'class_pred_count': {0: 81, 1: 77, 2: 2}, 'count_s0': 70, 'count_s1': 90, 'count': 160}}\n",
      "[28] Eval metrics for task 1 >> {'accuracy': 0.6400669642857143, 'loss': 0.005279731815275939, 'EO': [0.004421768707482954, 0.021794871794871773], 'DP': -1, 'accuracy_s0': 0.655128205128205, 'accuracy_s1': 0.6289115646258503, 'classwise_accuracy': {0: array([ 93, 128]), 1: array([31, 56])}, 'DP_ingredients': {'class_pred_count_s0': {0: 33, 1: 23}, 'class_pred_count_s1': {0: 85, 1: 43}, 'class_pred_count': {0: 118, 1: 66}, 'count_s0': 56, 'count_s1': 128, 'count': 184}}\n",
      "[28] Eval metrics for task 2 >> {'accuracy': 0.0, 'loss': 0.013656088709831237, 'EO': [0.0, 0.0], 'DP': -1, 'accuracy_s0': 0.0, 'accuracy_s1': 0.0, 'classwise_accuracy': {2: array([ 0, 82]), 3: array([ 0, 78])}, 'DP_ingredients': {'class_pred_count_s0': {0: 20, 1: 50}, 'class_pred_count_s1': {0: 56, 1: 34}, 'class_pred_count': {0: 76, 1: 84}, 'count_s0': 70, 'count_s1': 90, 'count': 160}}\n",
      "[29] Eval metrics for task 1 >> {'accuracy': 0.6015625, 'loss': 0.00491252055634623, 'EO': [0.0020408163265306367, 0.03589743589743588], 'DP': -1, 'accuracy_s0': 0.6192307692307693, 'accuracy_s1': 0.5853741496598639, 'classwise_accuracy': {0: array([ 90, 128]), 1: array([28, 56])}, 'DP_ingredients': {'class_pred_count_s0': {0: 33, 1: 23}, 'class_pred_count_s1': {1: 43, 0: 85}, 'class_pred_count': {1: 66, 0: 118}, 'count_s0': 56, 'count_s1': 128, 'count': 184}}\n",
      "[29] Eval metrics for task 2 >> {'accuracy': 0.0, 'loss': 0.017162969708442687, 'EO': [0.0, 0.0], 'DP': -1, 'accuracy_s0': 0.0, 'accuracy_s1': 0.0, 'classwise_accuracy': {2: array([ 0, 82]), 3: array([ 0, 78])}, 'DP_ingredients': {'class_pred_count_s0': {0: 22, 1: 48}, 'class_pred_count_s1': {0: 61, 1: 29}, 'class_pred_count': {0: 83, 1: 77}, 'count_s0': 70, 'count_s1': 90, 'count': 160}}\n",
      "[30] Eval metrics for task 1 >> {'accuracy': 0.5446428571428572, 'loss': 0.005108234675034233, 'EO': [0.0326530612244898, 0.042307692307692324], 'DP': -1, 'accuracy_s0': 0.5423076923076923, 'accuracy_s1': 0.5326530612244897, 'classwise_accuracy': {1: array([19, 56]), 0: array([ 96, 128])}, 'DP_ingredients': {'class_pred_count_s0': {1: 17, 0: 36, 2: 3}, 'class_pred_count_s1': {0: 96, 1: 31, 2: 1}, 'class_pred_count': {0: 132, 1: 48, 2: 4}, 'count_s0': 56, 'count_s1': 128, 'count': 184}}\n",
      "[30] Eval metrics for task 2 >> {'accuracy': 0.08270794246404002, 'loss': 0.013724473118782044, 'EO': [0.010302197802197804, 0.07286096256684493], 'DP': -1, 'accuracy_s0': 0.12150349650349651, 'accuracy_s1': 0.038340336134453784, 'classwise_accuracy': {2: array([ 2, 82]), 3: array([11, 78])}, 'DP_ingredients': {'class_pred_count_s0': {1: 30, 2: 4, 3: 9, 0: 27}, 'class_pred_count_s1': {0: 68, 2: 4, 1: 16, 3: 2}, 'class_pred_count': {0: 95, 1: 46, 2: 8, 3: 11}, 'count_s0': 70, 'count_s1': 90, 'count': 160}}\n",
      "[31] Eval metrics for task 1 >> {'accuracy': 0.5306919642857143, 'loss': 0.005852910487548164, 'EO': [0.0003401360544217358, 0.07692307692307693], 'DP': -1, 'accuracy_s0': 0.4897435897435897, 'accuracy_s1': 0.5663265306122449, 'classwise_accuracy': {0: array([ 81, 128]), 1: array([24, 56])}, 'DP_ingredients': {'class_pred_count_s0': {0: 33, 1: 16, 2: 5, 3: 2}, 'class_pred_count_s1': {0: 75, 1: 45, 2: 8}, 'class_pred_count': {0: 108, 1: 61, 2: 13, 3: 2}, 'count_s0': 56, 'count_s1': 128, 'count': 184}}\n",
      "[31] Eval metrics for task 2 >> {'accuracy': 0.20200125078173858, 'loss': 0.011154253780841828, 'EO': [0.0048076923076923045, 0.17179144385026737], 'DP': -1, 'accuracy_s0': 0.2736013986013986, 'accuracy_s1': 0.10661764705882354, 'classwise_accuracy': {3: array([22, 78]), 2: array([10, 82])}, 'DP_ingredients': {'class_pred_count_s0': {1: 24, 3: 22, 0: 17, 2: 7}, 'class_pred_count_s1': {0: 48, 2: 15, 1: 21, 3: 6}, 'class_pred_count': {0: 65, 2: 22, 1: 45, 3: 28}, 'count_s0': 70, 'count_s1': 90, 'count': 160}}\n",
      "[32] Eval metrics for task 1 >> {'accuracy': 0.5691964285714286, 'loss': 0.005947672154592431, 'EO': [0.006802721088435382, 0.019230769230769218], 'DP': -1, 'accuracy_s0': 0.5641025641025641, 'accuracy_s1': 0.5765306122448979, 'classwise_accuracy': {0: array([ 84, 128]), 1: array([27, 56])}, 'DP_ingredients': {'class_pred_count_s0': {0: 33, 3: 4, 1: 19}, 'class_pred_count_s1': {0: 77, 1: 44, 3: 6, 2: 1}, 'class_pred_count': {0: 110, 1: 63, 3: 10, 2: 1}, 'count_s0': 56, 'count_s1': 128, 'count': 184}}\n",
      "[32] Eval metrics for task 2 >> {'accuracy': 0.2429643527204503, 'loss': 0.012526901066303253, 'EO': [0.010302197802197804, 0.12232620320855617], 'DP': -1, 'accuracy_s0': 0.30332167832167833, 'accuracy_s1': 0.17069327731092437, 'classwise_accuracy': {2: array([ 2, 82]), 3: array([36, 78])}, 'DP_ingredients': {'class_pred_count_s0': {3: 28, 1: 26, 0: 14, 2: 2}, 'class_pred_count_s1': {3: 19, 1: 21, 0: 49, 2: 1}, 'class_pred_count': {3: 47, 1: 47, 0: 63, 2: 3}, 'count_s0': 70, 'count_s1': 90, 'count': 160}}\n",
      "[33] Eval metrics for task 1 >> {'accuracy': 0.51953125, 'loss': 0.006777000168095465, 'EO': [0.06360544217687075, 0.02692307692307694], 'DP': -1, 'accuracy_s0': 0.4564102564102564, 'accuracy_s1': 0.5469387755102041, 'classwise_accuracy': {1: array([21, 56]), 0: array([ 85, 128])}, 'DP_ingredients': {'class_pred_count_s0': {0: 31, 3: 3, 2: 6, 1: 16}, 'class_pred_count_s1': {0: 84, 1: 32, 3: 6, 2: 6}, 'class_pred_count': {0: 115, 3: 9, 1: 48, 2: 12}, 'count_s0': 56, 'count_s1': 128, 'count': 184}}\n",
      "[33] Eval metrics for task 2 >> {'accuracy': 0.24749843652282677, 'loss': 0.011360488831996918, 'EO': [0.015109890109890105, 0.14371657754010694], 'DP': -1, 'accuracy_s0': 0.2998251748251748, 'accuracy_s1': 0.17121848739495799, 'classwise_accuracy': {2: array([ 8, 82]), 3: array([31, 78])}, 'DP_ingredients': {'class_pred_count_s0': {3: 27, 0: 15, 2: 6, 1: 22}, 'class_pred_count_s1': {2: 11, 3: 13, 0: 47, 1: 19}, 'class_pred_count': {2: 17, 3: 40, 0: 62, 1: 41}, 'count_s0': 70, 'count_s1': 90, 'count': 160}}\n",
      "[34] Eval metrics for task 1 >> {'accuracy': 0.48604910714285715, 'loss': 0.007513509496398594, 'EO': [0.04319727891156461, 0.006410256410256415], 'DP': -1, 'accuracy_s0': 0.4564102564102564, 'accuracy_s1': 0.4931972789115646, 'classwise_accuracy': {0: array([ 81, 128]), 1: array([19, 56])}, 'DP_ingredients': {'class_pred_count_s0': {1: 13, 3: 3, 0: 31, 2: 9}, 'class_pred_count_s1': {1: 28, 0: 80, 2: 16, 3: 4}, 'class_pred_count': {1: 41, 0: 111, 3: 7, 2: 25}, 'count_s0': 56, 'count_s1': 128, 'count': 184}}\n",
      "[34] Eval metrics for task 2 >> {'accuracy': 0.2596935584740463, 'loss': 0.010806596279144287, 'EO': [0.03296703296703296, 0.16978609625668448], 'DP': -1, 'accuracy_s0': 0.31118881118881114, 'accuracy_s1': 0.17436974789915966, 'classwise_accuracy': {2: array([10, 82]), 3: array([31, 78])}, 'DP_ingredients': {'class_pred_count_s0': {2: 8, 1: 20, 3: 28, 0: 14}, 'class_pred_count_s1': {2: 15, 0: 45, 3: 11, 1: 19}, 'class_pred_count': {2: 23, 0: 59, 1: 39, 3: 39}, 'count_s0': 70, 'count_s1': 90, 'count': 160}}\n",
      "[35] Eval metrics for task 1 >> {'accuracy': 0.48995535714285715, 'loss': 0.007943943790767504, 'EO': [0.026530612244897944, 0.042307692307692324], 'DP': -1, 'accuracy_s0': 0.49230769230769234, 'accuracy_s1': 0.4765306122448979, 'classwise_accuracy': {0: array([ 82, 128]), 1: array([19, 56])}, 'DP_ingredients': {'class_pred_count_s0': {0: 31, 2: 8, 1: 14, 3: 3}, 'class_pred_count_s1': {0: 80, 1: 28, 2: 14, 3: 6}, 'class_pred_count': {0: 111, 1: 42, 2: 22, 3: 9}, 'count_s0': 56, 'count_s1': 128, 'count': 184}}\n",
      "[35] Eval metrics for task 2 >> {'accuracy': 0.25938086303939967, 'loss': 0.01125565990805626, 'EO': [0.014423076923076927, 0.15842245989304812], 'DP': -1, 'accuracy_s0': 0.3382867132867133, 'accuracy_s1': 0.16544117647058823, 'classwise_accuracy': {3: array([30, 78]), 2: array([11, 82])}, 'DP_ingredients': {'class_pred_count_s0': {3: 26, 2: 11, 1: 19, 0: 14}, 'class_pred_count_s1': {0: 45, 3: 11, 2: 14, 1: 20}, 'class_pred_count': {3: 37, 0: 59, 2: 25, 1: 39}, 'count_s0': 70, 'count_s1': 90, 'count': 160}}\n",
      "[36] Eval metrics for task 1 >> {'accuracy': 0.4637276785714286, 'loss': 0.00898657739162445, 'EO': [0.08945578231292517, 0.02564102564102566], 'DP': -1, 'accuracy_s0': 0.40897435897435896, 'accuracy_s1': 0.4727891156462585, 'classwise_accuracy': {0: array([ 73, 128]), 1: array([20, 56])}, 'DP_ingredients': {'class_pred_count_s0': {0: 24, 2: 12, 3: 3, 1: 17}, 'class_pred_count_s1': {3: 5, 2: 20, 0: 73, 1: 30}, 'class_pred_count': {3: 8, 0: 97, 2: 32, 1: 47}, 'count_s0': 56, 'count_s1': 128, 'count': 184}}\n",
      "[36] Eval metrics for task 2 >> {'accuracy': 0.32770481550969355, 'loss': 0.01044226661324501, 'EO': [0.008241758241758254, 0.15173796791443853], 'DP': -1, 'accuracy_s0': 0.3994755244755245, 'accuracy_s1': 0.2394957983193277, 'classwise_accuracy': {3: array([34, 78]), 2: array([18, 82])}, 'DP_ingredients': {'class_pred_count_s0': {3: 29, 1: 17, 2: 14, 0: 10}, 'class_pred_count_s1': {1: 18, 3: 14, 2: 17, 0: 41}, 'class_pred_count': {3: 43, 1: 35, 2: 31, 0: 51}, 'count_s0': 70, 'count_s1': 90, 'count': 160}}\n",
      "[37] Eval metrics for task 1 >> {'accuracy': 0.45145089285714285, 'loss': 0.00920692151007445, 'EO': [0.05476190476190479, 0.020512820512820523], 'DP': -1, 'accuracy_s0': 0.4205128205128205, 'accuracy_s1': 0.4547619047619048, 'classwise_accuracy': {0: array([ 79, 128]), 1: array([16, 56])}, 'DP_ingredients': {'class_pred_count_s0': {0: 28, 1: 13, 2: 12, 3: 3}, 'class_pred_count_s1': {0: 78, 2: 17, 1: 25, 3: 8}, 'class_pred_count': {0: 106, 1: 38, 2: 29, 3: 11}, 'count_s0': 56, 'count_s1': 128, 'count': 184}}\n",
      "[37] Eval metrics for task 2 >> {'accuracy': 0.32864290181363354, 'loss': 0.010435956716537475, 'EO': [0.021291208791208785, 0.13368983957219252], 'DP': -1, 'accuracy_s0': 0.3723776223776224, 'accuracy_s1': 0.2599789915966387, 'classwise_accuracy': {2: array([15, 82]), 3: array([37, 78])}, 'DP_ingredients': {'class_pred_count_s0': {1: 15, 3: 31, 2: 13, 0: 11}, 'class_pred_count_s1': {0: 41, 3: 17, 1: 17, 2: 15}, 'class_pred_count': {0: 52, 1: 32, 3: 48, 2: 28}, 'count_s0': 70, 'count_s1': 90, 'count': 160}}\n",
      "[38] Eval metrics for task 1 >> {'accuracy': 0.42801339285714285, 'loss': 0.009980550278788027, 'EO': [0.06768707482993197, 0.020512820512820523], 'DP': -1, 'accuracy_s0': 0.3871794871794872, 'accuracy_s1': 0.43435374149659867, 'classwise_accuracy': {1: array([16, 56]), 0: array([ 73, 128])}, 'DP_ingredients': {'class_pred_count_s0': {2: 14, 1: 12, 0: 26, 3: 4}, 'class_pred_count_s1': {0: 72, 1: 24, 2: 27, 3: 5}, 'class_pred_count': {2: 41, 0: 98, 1: 36, 3: 9}, 'count_s0': 56, 'count_s1': 128, 'count': 184}}\n",
      "[38] Eval metrics for task 2 >> {'accuracy': 0.3527204502814259, 'loss': 0.009771057963371277, 'EO': [0.009615384615384609, 0.12232620320855617], 'DP': -1, 'accuracy_s0': 0.3994755244755245, 'accuracy_s1': 0.2867647058823529, 'classwise_accuracy': {2: array([20, 82]), 3: array([36, 78])}, 'DP_ingredients': {'class_pred_count_s0': {1: 14, 2: 16, 3: 30, 0: 10}, 'class_pred_count_s1': {1: 14, 0: 39, 2: 20, 3: 17}, 'class_pred_count': {1: 28, 0: 49, 2: 36, 3: 47}, 'count_s0': 70, 'count_s1': 90, 'count': 160}}\n",
      "[39] Eval metrics for task 1 >> {'accuracy': 0.4017857142857143, 'loss': 0.01062971223955569, 'EO': [0.0435374149659864, 0.03974358974358974], 'DP': -1, 'accuracy_s0': 0.38974358974358975, 'accuracy_s1': 0.3935374149659864, 'classwise_accuracy': {0: array([ 64, 128]), 1: array([17, 56])}, 'DP_ingredients': {'class_pred_count_s0': {0: 24, 1: 13, 2: 16, 3: 3}, 'class_pred_count_s1': {0: 63, 2: 32, 1: 28, 3: 5}, 'class_pred_count': {0: 87, 2: 48, 1: 41, 3: 8}, 'count_s0': 56, 'count_s1': 128, 'count': 184}}\n",
      "[39] Eval metrics for task 2 >> {'accuracy': 0.3710131332082552, 'loss': 0.009722252190113068, 'EO': [0.01991758241758243, 0.1483957219251337], 'DP': -1, 'accuracy_s0': 0.4493006993006993, 'accuracy_s1': 0.2809873949579832, 'classwise_accuracy': {3: array([36, 78]), 2: array([23, 82])}, 'DP_ingredients': {'class_pred_count_s0': {3: 31, 1: 14, 2: 18, 0: 7}, 'class_pred_count_s1': {0: 37, 2: 21, 1: 16, 3: 16}, 'class_pred_count': {3: 47, 1: 30, 0: 44, 2: 39}, 'count_s0': 70, 'count_s1': 90, 'count': 160}}\n",
      "[40] Eval metrics for task 1 >> {'accuracy': 0.3956473214285714, 'loss': 0.011014375997626263, 'EO': [0.05884353741496595, 0.037179487179487186], 'DP': -1, 'accuracy_s0': 0.37051282051282053, 'accuracy_s1': 0.3921768707482993, 'classwise_accuracy': {0: array([ 67, 128]), 1: array([15, 56])}, 'DP_ingredients': {'class_pred_count_s0': {0: 25, 2: 15, 1: 12, 3: 4}, 'class_pred_count_s1': {3: 6, 0: 67, 1: 23, 2: 32}, 'class_pred_count': {3: 10, 0: 92, 1: 35, 2: 47}, 'count_s0': 56, 'count_s1': 128, 'count': 184}}\n",
      "[40] Eval metrics for task 2 >> {'accuracy': 0.3774233896185116, 'loss': 0.009425214678049087, 'EO': [0.01991758241758243, 0.13368983957219252], 'DP': -1, 'accuracy_s0': 0.4493006993006993, 'accuracy_s1': 0.2956932773109244, 'classwise_accuracy': {3: array([37, 78]), 2: array([23, 82])}, 'DP_ingredients': {'class_pred_count_s0': {2: 18, 3: 31, 0: 9, 1: 12}, 'class_pred_count_s1': {0: 37, 1: 13, 2: 21, 3: 19}, 'class_pred_count': {0: 46, 1: 25, 2: 39, 3: 50}, 'count_s0': 70, 'count_s1': 90, 'count': 160}}\n",
      "[41] Eval metrics for task 1 >> {'accuracy': 0.39676339285714285, 'loss': 0.011761371208273846, 'EO': [0.048639455782312935, 0.056410256410256404], 'DP': -1, 'accuracy_s0': 0.38974358974358975, 'accuracy_s1': 0.38197278911564625, 'classwise_accuracy': {0: array([ 65, 128]), 1: array([16, 56])}, 'DP_ingredients': {'class_pred_count_s0': {1: 13, 2: 18, 3: 4, 0: 21}, 'class_pred_count_s1': {3: 8, 2: 32, 1: 23, 0: 65}, 'class_pred_count': {3: 12, 1: 36, 2: 50, 0: 86}, 'count_s0': 56, 'count_s1': 128, 'count': 184}}\n",
      "[41] Eval metrics for task 2 >> {'accuracy': 0.408223889931207, 'loss': 0.00903848633170128, 'EO': [0.040521978021978045, 0.11898395721925134], 'DP': -1, 'accuracy_s0': 0.4877622377622378, 'accuracy_s1': 0.3282563025210084, 'classwise_accuracy': {2: array([27, 82]), 3: array([38, 78])}, 'DP_ingredients': {'class_pred_count_s0': {3: 31, 2: 20, 0: 7, 1: 12}, 'class_pred_count_s1': {0: 37, 2: 22, 1: 11, 3: 20}, 'class_pred_count': {0: 44, 3: 51, 2: 42, 1: 23}, 'count_s0': 70, 'count_s1': 90, 'count': 160}}\n",
      "[42] Eval metrics for task 1 >> {'accuracy': 0.38504464285714285, 'loss': 0.012169214694396309, 'EO': [0.033333333333333326, 0.056410256410256404], 'DP': -1, 'accuracy_s0': 0.38974358974358975, 'accuracy_s1': 0.3666666666666667, 'classwise_accuracy': {1: array([16, 56]), 0: array([ 62, 128])}, 'DP_ingredients': {'class_pred_count_s0': {2: 18, 3: 3, 0: 21, 1: 14}, 'class_pred_count_s1': {0: 62, 2: 37, 1: 22, 3: 7}, 'class_pred_count': {2: 55, 0: 83, 1: 36, 3: 10}, 'count_s0': 56, 'count_s1': 128, 'count': 184}}\n",
      "[42] Eval metrics for task 2 >> {'accuracy': 0.4075984990619137, 'loss': 0.009081323444843293, 'EO': [0.07898351648351651, 0.1483957219251337], 'DP': -1, 'accuracy_s0': 0.5262237762237763, 'accuracy_s1': 0.29884453781512604, 'classwise_accuracy': {2: array([29, 82]), 3: array([36, 78])}, 'DP_ingredients': {'class_pred_count_s0': {1: 9, 3: 33, 0: 6, 2: 22}, 'class_pred_count_s1': {2: 24, 0: 36, 3: 18, 1: 12}, 'class_pred_count': {1: 21, 3: 51, 2: 46, 0: 42}, 'count_s0': 70, 'count_s1': 90, 'count': 160}}\n",
      "[43] Eval metrics for task 1 >> {'accuracy': 0.38504464285714285, 'loss': 0.012974730004435, 'EO': [0.033333333333333326, 0.056410256410256404], 'DP': -1, 'accuracy_s0': 0.38974358974358975, 'accuracy_s1': 0.3666666666666667, 'classwise_accuracy': {0: array([ 62, 128]), 1: array([16, 56])}, 'DP_ingredients': {'class_pred_count_s0': {1: 14, 2: 19, 0: 20, 3: 3}, 'class_pred_count_s1': {0: 62, 2: 40, 3: 5, 1: 21}, 'class_pred_count': {0: 82, 1: 35, 2: 59, 3: 8}, 'count_s0': 56, 'count_s1': 128, 'count': 184}}\n",
      "[43] Eval metrics for task 2 >> {'accuracy': 0.43839899937460913, 'loss': 0.008666066080331802, 'EO': [0.04326923076923078, 0.15975935828877005], 'DP': -1, 'accuracy_s0': 0.5375874125874126, 'accuracy_s1': 0.3345588235294118, 'classwise_accuracy': {2: array([33, 82]), 3: array([37, 78])}, 'DP_ingredients': {'class_pred_count_s0': {2: 22, 0: 5, 1: 9, 3: 34}, 'class_pred_count_s1': {2: 31, 0: 30, 3: 19, 1: 10}, 'class_pred_count': {2: 53, 0: 35, 1: 19, 3: 53}, 'count_s0': 70, 'count_s1': 90, 'count': 160}}\n",
      "[44] Eval metrics for task 1 >> {'accuracy': 0.375, 'loss': 0.013079457956811657, 'EO': [0.0435374149659864, 0.01794871794871794], 'DP': -1, 'accuracy_s0': 0.35128205128205126, 'accuracy_s1': 0.37687074829931977, 'classwise_accuracy': {1: array([14, 56]), 0: array([ 64, 128])}, 'DP_ingredients': {'class_pred_count_s0': {2: 19, 3: 3, 0: 22, 1: 12}, 'class_pred_count_s1': {1: 20, 0: 65, 2: 35, 3: 8}, 'class_pred_count': {2: 54, 1: 32, 0: 87, 3: 11}, 'count_s0': 56, 'count_s1': 128, 'count': 184}}\n",
      "[44] Eval metrics for task 2 >> {'accuracy': 0.40150093808630394, 'loss': 0.008825863152742386, 'EO': [0.08791208791208793, 0.17446524064171123], 'DP': -1, 'accuracy_s0': 0.5375874125874126, 'accuracy_s1': 0.27521008403361347, 'classwise_accuracy': {3: array([36, 78]), 2: array([28, 82])}, 'DP_ingredients': {'class_pred_count_s0': {1: 9, 3: 34, 2: 22, 0: 5}, 'class_pred_count_s1': {2: 26, 3: 19, 0: 37, 1: 8}, 'class_pred_count': {2: 48, 3: 53, 1: 17, 0: 42}, 'count_s0': 70, 'count_s1': 90, 'count': 160}}\n",
      "[45] Eval metrics for task 1 >> {'accuracy': 0.36328125, 'loss': 0.01358605726905491, 'EO': [0.02823129251700679, 0.01794871794871794], 'DP': -1, 'accuracy_s0': 0.35128205128205126, 'accuracy_s1': 0.3615646258503401, 'classwise_accuracy': {0: array([ 61, 128]), 1: array([14, 56])}, 'DP_ingredients': {'class_pred_count_s0': {1: 12, 2: 19, 0: 22, 3: 3}, 'class_pred_count_s1': {2: 38, 1: 21, 3: 8, 0: 61}, 'class_pred_count': {2: 57, 1: 33, 3: 11, 0: 83}, 'count_s0': 56, 'count_s1': 128, 'count': 184}}\n",
      "[45] Eval metrics for task 2 >> {'accuracy': 0.4204190118824265, 'loss': 0.008686521649360656, 'EO': [0.07898351648351651, 0.14505347593582887], 'DP': -1, 'accuracy_s0': 0.5375874125874126, 'accuracy_s1': 0.3135504201680672, 'classwise_accuracy': {3: array([38, 78]), 2: array([29, 82])}, 'DP_ingredients': {'class_pred_count_s0': {1: 9, 3: 34, 2: 22, 0: 5}, 'class_pred_count_s1': {2: 26, 0: 33, 3: 21, 1: 10}, 'class_pred_count': {1: 19, 2: 48, 3: 55, 0: 38}, 'count_s0': 70, 'count_s1': 90, 'count': 160}}\n",
      "[46] Eval metrics for task 1 >> {'accuracy': 0.35770089285714285, 'loss': 0.01483714450960574, 'EO': [0.0023809523809524002, 0.020512820512820523], 'DP': -1, 'accuracy_s0': 0.37051282051282053, 'accuracy_s1': 0.3476190476190476, 'classwise_accuracy': {0: array([ 55, 128]), 1: array([16, 56])}, 'DP_ingredients': {'class_pred_count_s0': {2: 20, 0: 21, 1: 12, 3: 3}, 'class_pred_count_s1': {2: 46, 0: 53, 1: 23, 3: 6}, 'class_pred_count': {2: 66, 0: 74, 1: 35, 3: 9}, 'count_s0': 56, 'count_s1': 128, 'count': 184}}\n",
      "[46] Eval metrics for task 2 >> {'accuracy': 0.4438711694809256, 'loss': 0.008157618343830109, 'EO': [0.04464285714285715, 0.16310160427807488], 'DP': -1, 'accuracy_s0': 0.5454545454545454, 'accuracy_s1': 0.33771008403361347, 'classwise_accuracy': {3: array([35, 78]), 2: array([36, 82])}, 'DP_ingredients': {'class_pred_count_s0': {2: 24, 3: 33, 1: 9, 0: 4}, 'class_pred_count_s1': {2: 37, 1: 8, 3: 19, 0: 26}, 'class_pred_count': {2: 61, 1: 17, 3: 52, 0: 30}, 'count_s0': 70, 'count_s1': 90, 'count': 160}}\n",
      "[47] Eval metrics for task 1 >> {'accuracy': 0.3671875, 'loss': 0.014495589162992395, 'EO': [0.033333333333333326, 0.01794871794871794], 'DP': -1, 'accuracy_s0': 0.35128205128205126, 'accuracy_s1': 0.3666666666666667, 'classwise_accuracy': {1: array([14, 56]), 0: array([ 62, 128])}, 'DP_ingredients': {'class_pred_count_s0': {0: 23, 2: 19, 1: 11, 3: 3}, 'class_pred_count_s1': {0: 63, 1: 18, 2: 42, 3: 5}, 'class_pred_count': {0: 86, 1: 29, 2: 61, 3: 8}, 'count_s0': 56, 'count_s1': 128, 'count': 184}}\n",
      "[47] Eval metrics for task 2 >> {'accuracy': 0.4002501563477173, 'loss': 0.00869918093085289, 'EO': [0.05219780219780221, 0.2072192513368984], 'DP': -1, 'accuracy_s0': 0.5262237762237763, 'accuracy_s1': 0.2668067226890756, 'classwise_accuracy': {3: array([32, 78]), 2: array([32, 82])}, 'DP_ingredients': {'class_pred_count_s0': {3: 33, 0: 5, 2: 23, 1: 9}, 'class_pred_count_s1': {2: 34, 3: 16, 0: 33, 1: 7}, 'class_pred_count': {2: 57, 3: 49, 0: 38, 1: 16}, 'count_s0': 70, 'count_s1': 90, 'count': 160}}\n",
      "[48] Eval metrics for task 1 >> {'accuracy': 0.3331473214285714, 'loss': 0.015874280877735302, 'EO': [0.0010204081632653184, 0.0012820512820512775], 'DP': -1, 'accuracy_s0': 0.33461538461538465, 'accuracy_s1': 0.33231292517006805, 'classwise_accuracy': {0: array([ 51, 128]), 1: array([15, 56])}, 'DP_ingredients': {'class_pred_count_s0': {1: 11, 0: 21, 2: 21, 3: 3}, 'class_pred_count_s1': {0: 50, 2: 48, 1: 22, 3: 8}, 'class_pred_count': {0: 71, 2: 69, 1: 33, 3: 11}, 'count_s0': 56, 'count_s1': 128, 'count': 184}}\n",
      "[48] Eval metrics for task 2 >> {'accuracy': 0.46247654784240155, 'loss': 0.007871511578559875, 'EO': [0.026785714285714274, 0.1483957219251337], 'DP': -1, 'accuracy_s0': 0.5454545454545454, 'accuracy_s1': 0.3702731092436975, 'classwise_accuracy': {2: array([38, 82]), 3: array([36, 78])}, 'DP_ingredients': {'class_pred_count_s0': {2: 24, 3: 33, 1: 9, 0: 4}, 'class_pred_count_s1': {3: 20, 0: 25, 2: 38, 1: 7}, 'class_pred_count': {3: 53, 0: 29, 2: 62, 1: 16}, 'count_s0': 70, 'count_s1': 90, 'count': 160}}\n",
      "[49] Eval metrics for task 1 >> {'accuracy': 0.3409598214285714, 'loss': 0.01592633905618087, 'EO': [0.009183673469387754, 0.0012820512820512775], 'DP': -1, 'accuracy_s0': 0.33461538461538465, 'accuracy_s1': 0.3425170068027211, 'classwise_accuracy': {0: array([ 53, 128]), 1: array([15, 56])}, 'DP_ingredients': {'class_pred_count_s0': {0: 21, 2: 21, 1: 11, 3: 3}, 'class_pred_count_s1': {0: 53, 1: 21, 2: 46, 3: 8}, 'class_pred_count': {0: 74, 1: 32, 2: 67, 3: 11}, 'count_s0': 56, 'count_s1': 128, 'count': 184}}\n",
      "[49] Eval metrics for task 2 >> {'accuracy': 0.44996873045653535, 'loss': 0.008148285001516343, 'EO': [0.06387362637362637, 0.16310160427807488], 'DP': -1, 'accuracy_s0': 0.5646853146853147, 'accuracy_s1': 0.33771008403361347, 'classwise_accuracy': {3: array([35, 78]), 2: array([37, 82])}, 'DP_ingredients': {'class_pred_count_s0': {3: 33, 2: 25, 1: 8, 0: 4}, 'class_pred_count_s1': {3: 19, 0: 28, 2: 35, 1: 8}, 'class_pred_count': {3: 52, 2: 60, 0: 32, 1: 16}, 'count_s0': 70, 'count_s1': 90, 'count': 160}}\n",
      "[50] Eval metrics for task 1 >> {'accuracy': 0.3409598214285714, 'loss': 0.01676893622978874, 'EO': [0.009183673469387754, 0.0012820512820512775], 'DP': -1, 'accuracy_s0': 0.33461538461538465, 'accuracy_s1': 0.3425170068027211, 'classwise_accuracy': {0: array([ 53, 128]), 1: array([15, 56])}, 'DP_ingredients': {'class_pred_count_s0': {2: 22, 3: 3, 1: 11, 0: 20}, 'class_pred_count_s1': {0: 52, 2: 49, 3: 6, 1: 21}, 'class_pred_count': {0: 72, 2: 71, 3: 9, 1: 32}, 'count_s0': 56, 'count_s1': 128, 'count': 184}}\n",
      "[50] Eval metrics for task 2 >> {'accuracy': 0.4429330831769856, 'loss': 0.007947110384702683, 'EO': [0.04601648351648349, 0.18114973262032089], 'DP': -1, 'accuracy_s0': 0.5533216783216783, 'accuracy_s1': 0.32615546218487396, 'classwise_accuracy': {2: array([39, 82]), 3: array([32, 78])}, 'DP_ingredients': {'class_pred_count_s0': {2: 26, 3: 32, 0: 4, 1: 8}, 'class_pred_count_s1': {0: 25, 2: 40, 3: 17, 1: 8}, 'class_pred_count': {2: 66, 0: 29, 3: 49, 1: 16}, 'count_s0': 70, 'count_s1': 90, 'count': 160}}\n",
      "training_task_end\n",
      "---------------------------- Task 3 -----------------------\n",
      "[51] Eval metrics for task 1 >> {'accuracy': 0.26395089285714285, 'loss': 0.013040200523708178, 'EO': [0.05952380952380952, 0.020512820512820523], 'DP': -1, 'accuracy_s0': 0.3205128205128205, 'accuracy_s1': 0.24047619047619045, 'classwise_accuracy': {1: array([16, 56]), 0: array([ 31, 128])}, 'DP_ingredients': {'class_pred_count_s0': {1: 16, 2: 22, 0: 15, 3: 3}, 'class_pred_count_s1': {1: 33, 2: 56, 0: 29, 3: 10}, 'class_pred_count': {1: 49, 2: 78, 0: 44, 3: 13}, 'count_s0': 56, 'count_s1': 128, 'count': 184}}\n",
      "[51] Eval metrics for task 2 >> {'accuracy': 0.40087554721701063, 'loss': 0.009607216715812683, 'EO': [0.013736263736263743, 0.17780748663101606], 'DP': -1, 'accuracy_s0': 0.4877622377622378, 'accuracy_s1': 0.296218487394958, 'classwise_accuracy': {2: array([30, 82]), 3: array([34, 78])}, 'DP_ingredients': {'class_pred_count_s0': {2: 14, 3: 32, 1: 16, 0: 8}, 'class_pred_count_s1': {0: 22, 1: 19, 2: 31, 3: 18}, 'class_pred_count': {2: 45, 0: 30, 1: 35, 3: 50}, 'count_s0': 70, 'count_s1': 90, 'count': 160}}\n",
      "[51] Eval metrics for task 3 >> {'accuracy': 0.011278195488721804, 'loss': 0.008976389695932199, 'EO': [0.0, 0.016853932584269662], 'DP': -1, 'accuracy_s0': 0.016853932584269662, 'accuracy_s1': 0.0, 'classwise_accuracy': {5: array([  3, 133]), 4: array([ 0, 89])}, 'DP_ingredients': {'class_pred_count_s0': {3: 86, 1: 27, 0: 9, 2: 23, 5: 6}, 'class_pred_count_s1': {0: 11, 3: 38, 2: 13, 1: 9}, 'class_pred_count': {3: 124, 0: 20, 1: 36, 2: 36, 5: 6}, 'count_s0': 151, 'count_s1': 71, 'count': 222}}\n",
      "[52] Eval metrics for task 1 >> {'accuracy': 0.35770089285714285, 'loss': 0.01243379841680112, 'EO': [0.0023809523809524002, 0.015384615384615385], 'DP': -1, 'accuracy_s0': 0.35128205128205126, 'accuracy_s1': 0.36428571428571427, 'classwise_accuracy': {0: array([ 55, 128]), 1: array([16, 56])}, 'DP_ingredients': {'class_pred_count_s0': {1: 11, 0: 19, 5: 5, 2: 21}, 'class_pred_count_s1': {2: 40, 1: 23, 5: 7, 0: 53, 3: 5}, 'class_pred_count': {2: 61, 1: 34, 5: 12, 0: 72, 3: 5}, 'count_s0': 56, 'count_s1': 128, 'count': 184}}\n",
      "[52] Eval metrics for task 2 >> {'accuracy': 0.23608505315822387, 'loss': 0.011556296050548554, 'EO': [0.010989010989011005, 0.05481283422459893], 'DP': -1, 'accuracy_s0': 0.2674825174825175, 'accuracy_s1': 0.20168067226890757, 'classwise_accuracy': {2: array([24, 82]), 3: array([14, 78])}, 'DP_ingredients': {'class_pred_count_s0': {5: 22, 2: 14, 3: 16, 1: 14, 0: 4}, 'class_pred_count_s1': {5: 8, 2: 28, 0: 30, 3: 10, 1: 14}, 'class_pred_count': {5: 30, 2: 42, 0: 34, 3: 26, 1: 28}, 'count_s0': 70, 'count_s1': 90, 'count': 160}}\n",
      "[52] Eval metrics for task 3 >> {'accuracy': 0.22180451127819548, 'loss': 0.007212785987166671, 'EO': [0.0, 0.12768130745658834], 'DP': -1, 'accuracy_s0': 0.2640449438202247, 'accuracy_s1': 0.13636363636363635, 'classwise_accuracy': {5: array([ 59, 133]), 4: array([ 0, 89])}, 'DP_ingredients': {'class_pred_count_s0': {5: 81, 3: 42, 1: 6, 2: 17, 0: 5}, 'class_pred_count_s1': {3: 28, 5: 24, 2: 9, 1: 6, 0: 4}, 'class_pred_count': {5: 105, 3: 70, 1: 12, 2: 26, 0: 9}, 'count_s0': 151, 'count_s1': 71, 'count': 222}}\n",
      "[53] Eval metrics for task 1 >> {'accuracy': 0.3465401785714286, 'loss': 0.015046604301618494, 'EO': [0.018027210884353745, 0.03717948717948717], 'DP': -1, 'accuracy_s0': 0.3128205128205128, 'accuracy_s1': 0.36802721088435375, 'classwise_accuracy': {0: array([ 59, 128]), 1: array([13, 56])}, 'DP_ingredients': {'class_pred_count_s0': {2: 21, 0: 21, 3: 6, 1: 7, 5: 1}, 'class_pred_count_s1': {0: 56, 1: 19, 2: 32, 3: 21}, 'class_pred_count': {0: 77, 1: 26, 2: 53, 3: 27, 5: 1}, 'count_s0': 56, 'count_s1': 128, 'count': 184}}\n",
      "[53] Eval metrics for task 2 >> {'accuracy': 0.4534083802376485, 'loss': 0.010409356653690338, 'EO': [0.07760989010989011, 0.10561497326203206], 'DP': -1, 'accuracy_s0': 0.5524475524475524, 'accuracy_s1': 0.3692226890756303, 'classwise_accuracy': {2: array([26, 82]), 3: array([46, 78])}, 'DP_ingredients': {'class_pred_count_s0': {3: 41, 2: 20, 0: 3, 1: 5, 5: 1}, 'class_pred_count_s1': {2: 24, 3: 34, 0: 24, 1: 8}, 'class_pred_count': {2: 44, 3: 75, 0: 27, 1: 13, 5: 1}, 'count_s0': 70, 'count_s1': 90, 'count': 160}}\n",
      "[53] Eval metrics for task 3 >> {'accuracy': 0.018796992481203006, 'loss': 0.008933492608972499, 'EO': [0.0, 0.028089887640449437], 'DP': -1, 'accuracy_s0': 0.028089887640449437, 'accuracy_s1': 0.0, 'classwise_accuracy': {5: array([  5, 133]), 4: array([ 0, 89])}, 'DP_ingredients': {'class_pred_count_s0': {3: 116, 2: 23, 5: 9, 0: 1, 1: 2}, 'class_pred_count_s1': {3: 54, 2: 10, 1: 4, 0: 3}, 'class_pred_count': {3: 170, 2: 33, 5: 9, 1: 6, 0: 4}, 'count_s0': 151, 'count_s1': 71, 'count': 222}}\n",
      "[54] Eval metrics for task 1 >> {'accuracy': 0.2896205357142857, 'loss': 0.016857726418453713, 'EO': [0.054081632653061235, 0.0038461538461538464], 'DP': -1, 'accuracy_s0': 0.24615384615384617, 'accuracy_s1': 0.3040816326530612, 'classwise_accuracy': {1: array([11, 56]), 0: array([ 49, 128])}, 'DP_ingredients': {'class_pred_count_s0': {1: 8, 0: 17, 2: 22, 5: 5, 3: 4}, 'class_pred_count_s1': {0: 48, 2: 38, 3: 17, 1: 20, 5: 5}, 'class_pred_count': {1: 28, 0: 65, 2: 60, 3: 21, 5: 10}, 'count_s0': 56, 'count_s1': 128, 'count': 184}}\n",
      "[54] Eval metrics for task 2 >> {'accuracy': 0.3447467166979362, 'loss': 0.011487656831741333, 'EO': [0.1146978021978022, 0.02807486631016043], 'DP': -1, 'accuracy_s0': 0.4353146853146853, 'accuracy_s1': 0.2925420168067227, 'classwise_accuracy': {3: array([30, 78]), 2: array([25, 82])}, 'DP_ingredients': {'class_pred_count_s0': {3: 27, 2: 20, 0: 3, 5: 16, 1: 4}, 'class_pred_count_s1': {2: 23, 0: 21, 3: 31, 1: 8, 5: 7}, 'class_pred_count': {3: 58, 2: 43, 0: 24, 1: 12, 5: 23}, 'count_s0': 70, 'count_s1': 90, 'count': 160}}\n",
      "[54] Eval metrics for task 3 >> {'accuracy': 0.19548872180451127, 'loss': 0.0070158704981073605, 'EO': [0.0, 0.1393003064351379], 'DP': -1, 'accuracy_s0': 0.24157303370786518, 'accuracy_s1': 0.10227272727272728, 'classwise_accuracy': {5: array([ 52, 133]), 4: array([ 0, 89])}, 'DP_ingredients': {'class_pred_count_s0': {5: 70, 3: 58, 2: 20, 1: 2, 0: 1}, 'class_pred_count_s1': {3: 38, 5: 18, 2: 8, 1: 4, 0: 3}, 'class_pred_count': {5: 88, 3: 96, 2: 28, 1: 6, 0: 4}, 'count_s0': 151, 'count_s1': 71, 'count': 222}}\n",
      "[55] Eval metrics for task 1 >> {'accuracy': 0.3191964285714286, 'loss': 0.017129958971686985, 'EO': [0.025850340136054445, 0.03717948717948717], 'DP': -1, 'accuracy_s0': 0.2794871794871795, 'accuracy_s1': 0.3425170068027211, 'classwise_accuracy': {0: array([ 52, 128]), 1: array([13, 56])}, 'DP_ingredients': {'class_pred_count_s0': {0: 18, 5: 5, 3: 3, 2: 22, 1: 8}, 'class_pred_count_s1': {0: 50, 1: 21, 2: 37, 3: 16, 5: 4}, 'class_pred_count': {0: 68, 5: 9, 1: 29, 2: 59, 3: 19}, 'count_s0': 56, 'count_s1': 128, 'count': 184}}\n",
      "[55] Eval metrics for task 2 >> {'accuracy': 0.3444340212632896, 'loss': 0.012660212814807892, 'EO': [0.07760989010989011, 0.016711229946524048], 'DP': -1, 'accuracy_s0': 0.4047202797202797, 'accuracy_s1': 0.31039915966386555, 'classwise_accuracy': {3: array([29, 78]), 2: array([26, 82])}, 'DP_ingredients': {'class_pred_count_s0': {3: 26, 5: 16, 2: 18, 0: 4, 1: 6}, 'class_pred_count_s1': {0: 23, 2: 24, 3: 28, 1: 10, 5: 5}, 'class_pred_count': {0: 27, 2: 42, 3: 54, 5: 21, 1: 16}, 'count_s0': 70, 'count_s1': 90, 'count': 160}}\n",
      "[55] Eval metrics for task 3 >> {'accuracy': 0.16541353383458646, 'loss': 0.0076890899254395085, 'EO': [0.0, 0.14530132788559755], 'DP': -1, 'accuracy_s0': 0.21348314606741572, 'accuracy_s1': 0.06818181818181818, 'classwise_accuracy': {5: array([ 44, 133]), 4: array([ 0, 89])}, 'DP_ingredients': {'class_pred_count_s0': {5: 60, 3: 62, 1: 3, 2: 24, 0: 2}, 'class_pred_count_s1': {3: 43, 5: 12, 2: 9, 1: 4, 0: 3}, 'class_pred_count': {5: 72, 3: 105, 1: 7, 2: 33, 0: 5}, 'count_s0': 151, 'count_s1': 71, 'count': 222}}\n",
      "[56] Eval metrics for task 1 >> {'accuracy': 0.2840401785714286, 'loss': 0.018630013517711475, 'EO': [0.045238095238095244, 0.03717948717948717], 'DP': -1, 'accuracy_s0': 0.2294871794871795, 'accuracy_s1': 0.3119047619047619, 'classwise_accuracy': {0: array([ 43, 128]), 1: array([13, 56])}, 'DP_ingredients': {'class_pred_count_s0': {0: 16, 1: 9, 5: 5, 2: 22, 3: 4}, 'class_pred_count_s1': {2: 40, 1: 22, 0: 43, 3: 17, 5: 6}, 'class_pred_count': {2: 62, 0: 59, 1: 31, 5: 11, 3: 21}, 'count_s0': 56, 'count_s1': 128, 'count': 184}}\n",
      "[56] Eval metrics for task 2 >> {'accuracy': 0.30691056910569103, 'loss': 0.013948872685432434, 'EO': [0.07623626373626374, 0.034759358288770054], 'DP': -1, 'accuracy_s0': 0.37412587412587417, 'accuracy_s1': 0.26313025210084034, 'classwise_accuracy': {2: array([23, 82]), 3: array([26, 78])}, 'DP_ingredients': {'class_pred_count_s0': {5: 18, 1: 6, 3: 26, 2: 17, 0: 3}, 'class_pred_count_s1': {2: 22, 0: 22, 5: 8, 1: 13, 3: 24, 4: 1}, 'class_pred_count': {2: 39, 0: 25, 5: 26, 1: 19, 3: 50, 4: 1}, 'count_s0': 70, 'count_s1': 90, 'count': 160}}\n",
      "[56] Eval metrics for task 3 >> {'accuracy': 0.21428571428571427, 'loss': 0.006940126419067383, 'EO': [0.0, 0.1843718079673136], 'DP': -1, 'accuracy_s0': 0.2752808988764045, 'accuracy_s1': 0.09090909090909091, 'classwise_accuracy': {4: array([ 0, 89]), 5: array([ 57, 133])}, 'DP_ingredients': {'class_pred_count_s0': {3: 48, 5: 78, 2: 20, 0: 2, 1: 3}, 'class_pred_count_s1': {5: 15, 3: 40, 2: 9, 1: 4, 0: 3}, 'class_pred_count': {3: 88, 5: 93, 2: 29, 0: 5, 1: 7}, 'count_s0': 151, 'count_s1': 71, 'count': 222}}\n",
      "[57] Eval metrics for task 1 >> {'accuracy': 0.3046875, 'loss': 0.01979050558546315, 'EO': [0.038775510204081626, 0.053846153846153835], 'DP': -1, 'accuracy_s0': 0.24615384615384617, 'accuracy_s1': 0.3387755102040816, 'classwise_accuracy': {0: array([ 46, 128]), 1: array([14, 56])}, 'DP_ingredients': {'class_pred_count_s0': {1: 8, 0: 17, 2: 20, 5: 5, 4: 1, 3: 5}, 'class_pred_count_s1': {0: 44, 2: 36, 1: 22, 3: 20, 4: 3, 5: 3}, 'class_pred_count': {0: 61, 2: 56, 1: 30, 5: 8, 3: 25, 4: 4}, 'count_s0': 56, 'count_s1': 128, 'count': 184}}\n",
      "[57] Eval metrics for task 2 >> {'accuracy': 0.32551594746716694, 'loss': 0.014728885889053345, 'EO': [0.058379120879120894, 0.006016042780748687], 'DP': -1, 'accuracy_s0': 0.36276223776223776, 'accuracy_s1': 0.31039915966386555, 'classwise_accuracy': {3: array([27, 78]), 2: array([25, 82])}, 'DP_ingredients': {'class_pred_count_s0': {3: 25, 2: 16, 5: 18, 0: 3, 1: 6, 4: 2}, 'class_pred_count_s1': {0: 20, 3: 26, 2: 24, 1: 10, 5: 8, 4: 2}, 'class_pred_count': {3: 51, 2: 40, 5: 26, 0: 23, 1: 16, 4: 4}, 'count_s0': 70, 'count_s1': 90, 'count': 160}}\n",
      "[57] Eval metrics for task 3 >> {'accuracy': 0.21990369181380415, 'loss': 0.006840053979340974, 'EO': [0.018518518518518517, 0.20135342185903984], 'DP': -1, 'accuracy_s0': 0.2808988764044944, 'accuracy_s1': 0.09806397306397306, 'classwise_accuracy': {4: array([ 1, 89]), 5: array([ 57, 133])}, 'DP_ingredients': {'class_pred_count_s0': {2: 18, 3: 49, 5: 78, 4: 1, 1: 3, 0: 2}, 'class_pred_count_s1': {3: 40, 0: 3, 5: 13, 2: 9, 1: 4, 4: 2}, 'class_pred_count': {2: 27, 3: 89, 5: 91, 0: 5, 4: 3, 1: 7}, 'count_s0': 151, 'count_s1': 71, 'count': 222}}\n",
      "[58] Eval metrics for task 1 >> {'accuracy': 0.2918526785714286, 'loss': 0.020490727994752968, 'EO': [0.05544217687074829, 0.03717948717948717], 'DP': -1, 'accuracy_s0': 0.2294871794871795, 'accuracy_s1': 0.322108843537415, 'classwise_accuracy': {0: array([ 45, 128]), 1: array([13, 56])}, 'DP_ingredients': {'class_pred_count_s0': {3: 6, 1: 7, 0: 15, 2: 20, 4: 1, 5: 7}, 'class_pred_count_s1': {2: 36, 1: 21, 0: 45, 3: 19, 5: 4, 4: 3}, 'class_pred_count': {2: 56, 1: 28, 3: 25, 0: 60, 5: 11, 4: 4}, 'count_s0': 56, 'count_s1': 128, 'count': 184}}\n",
      "[58] Eval metrics for task 2 >> {'accuracy': 0.3258286429018136, 'loss': 0.015508139133453369, 'EO': [0.09546703296703296, 0.005347593582887694], 'DP': -1, 'accuracy_s0': 0.39335664335664333, 'accuracy_s1': 0.2925420168067227, 'classwise_accuracy': {3: array([28, 78]), 2: array([24, 82])}, 'DP_ingredients': {'class_pred_count_s0': {3: 26, 5: 20, 4: 1, 2: 16, 1: 4, 0: 3}, 'class_pred_count_s1': {2: 22, 3: 27, 0: 20, 5: 10, 1: 10, 4: 1}, 'class_pred_count': {3: 53, 2: 38, 5: 30, 4: 2, 0: 23, 1: 14}, 'count_s0': 70, 'count_s1': 90, 'count': 160}}\n",
      "[58] Eval metrics for task 3 >> {'accuracy': 0.21990369181380415, 'loss': 0.006855389019390484, 'EO': [0.018518518518518517, 0.1843718079673136], 'DP': -1, 'accuracy_s0': 0.2752808988764045, 'accuracy_s1': 0.10942760942760943, 'classwise_accuracy': {5: array([ 57, 133]), 4: array([ 1, 89])}, 'DP_ingredients': {'class_pred_count_s0': {5: 78, 3: 48, 2: 17, 1: 3, 0: 2, 4: 3}, 'class_pred_count_s1': {3: 39, 5: 15, 4: 2, 2: 8, 1: 4, 0: 3}, 'class_pred_count': {5: 93, 3: 87, 2: 25, 1: 7, 0: 5, 4: 5}, 'count_s0': 151, 'count_s1': 71, 'count': 222}}\n",
      "[59] Eval metrics for task 1 >> {'accuracy': 0.3074776785714286, 'loss': 0.021290591229563175, 'EO': [0.07585034013605443, 0.03717948717948717], 'DP': -1, 'accuracy_s0': 0.2294871794871795, 'accuracy_s1': 0.3425170068027211, 'classwise_accuracy': {0: array([ 49, 128]), 1: array([13, 56])}, 'DP_ingredients': {'class_pred_count_s0': {3: 4, 0: 16, 2: 20, 4: 2, 1: 7, 5: 7}, 'class_pred_count_s1': {4: 7, 2: 33, 1: 19, 0: 50, 3: 14, 5: 5}, 'class_pred_count': {4: 9, 2: 53, 3: 18, 1: 26, 0: 66, 5: 12}, 'count_s0': 56, 'count_s1': 128, 'count': 184}}\n",
      "[59] Eval metrics for task 2 >> {'accuracy': 0.28736710444027513, 'loss': 0.01694319099187851, 'EO': [0.09546703296703296, 0.010695187165775416], 'DP': -1, 'accuracy_s0': 0.3479020979020979, 'accuracy_s1': 0.26313025210084034, 'classwise_accuracy': {2: array([24, 82]), 3: array([22, 78])}, 'DP_ingredients': {'class_pred_count_s0': {2: 17, 5: 22, 3: 21, 4: 3, 1: 4, 0: 3}, 'class_pred_count_s1': {4: 9, 5: 6, 0: 22, 3: 22, 2: 23, 1: 8}, 'class_pred_count': {4: 12, 5: 28, 0: 25, 2: 40, 3: 43, 1: 12}, 'count_s0': 70, 'count_s1': 90, 'count': 160}}\n",
      "[59] Eval metrics for task 3 >> {'accuracy': 0.2574131959111261, 'loss': 0.006192481732583261, 'EO': [0.012843488649940261, 0.1558988764044944], 'DP': -1, 'accuracy_s0': 0.30509242479159115, 'accuracy_s1': 0.16203703703703703, 'classwise_accuracy': {5: array([ 61, 133]), 4: array([ 5, 89])}, 'DP_ingredients': {'class_pred_count_s0': {5: 84, 2: 17, 4: 11, 3: 35, 0: 2, 1: 2}, 'class_pred_count_s1': {1: 3, 3: 33, 0: 3, 5: 17, 4: 5, 2: 10}, 'class_pred_count': {5: 101, 2: 27, 4: 16, 1: 5, 3: 68, 0: 5}, 'count_s0': 151, 'count_s1': 71, 'count': 222}}\n",
      "[60] Eval metrics for task 1 >> {'accuracy': 0.3035714285714286, 'loss': 0.021963277588719906, 'EO': [0.0707482993197279, 0.03717948717948717], 'DP': -1, 'accuracy_s0': 0.2294871794871795, 'accuracy_s1': 0.33741496598639453, 'classwise_accuracy': {1: array([13, 56]), 0: array([ 48, 128])}, 'DP_ingredients': {'class_pred_count_s0': {5: 7, 2: 20, 0: 15, 3: 5, 1: 7, 4: 2}, 'class_pred_count_s1': {0: 48, 3: 14, 1: 19, 2: 36, 4: 5, 5: 6}, 'class_pred_count': {5: 13, 2: 56, 0: 63, 3: 19, 1: 26, 4: 7}, 'count_s0': 56, 'count_s1': 128, 'count': 184}}\n",
      "[60] Eval metrics for task 2 >> {'accuracy': 0.2870544090056285, 'loss': 0.01769121140241623, 'EO': [0.08653846153846154, 0.02205882352941177], 'DP': -1, 'accuracy_s0': 0.33653846153846156, 'accuracy_s1': 0.2720588235294118, 'classwise_accuracy': {2: array([25, 82]), 3: array([21, 78])}, 'DP_ingredients': {'class_pred_count_s0': {5: 25, 3: 20, 0: 3, 1: 4, 2: 17, 4: 1}, 'class_pred_count_s1': {2: 25, 5: 10, 3: 23, 0: 21, 1: 8, 4: 3}, 'class_pred_count': {2: 42, 5: 35, 3: 43, 0: 24, 1: 12, 4: 4}, 'count_s0': 70, 'count_s1': 90, 'count': 160}}\n",
      "[60] Eval metrics for task 3 >> {'accuracy': 0.28187040635296107, 'loss': 0.006236476941151662, 'EO': [0.047491039426523295, 0.1498978549540347], 'DP': -1, 'accuracy_s0': 0.31705328017397605, 'accuracy_s1': 0.21464646464646464, 'classwise_accuracy': {5: array([ 69, 133]), 4: array([ 4, 89])}, 'DP_ingredients': {'class_pred_count_s0': {5: 91, 2: 17, 3: 35, 0: 2, 1: 2, 4: 4}, 'class_pred_count_s1': {3: 32, 2: 10, 5: 20, 1: 2, 0: 3, 4: 4}, 'class_pred_count': {5: 111, 2: 27, 3: 67, 0: 5, 1: 4, 4: 8}, 'count_s0': 151, 'count_s1': 71, 'count': 222}}\n",
      "[61] Eval metrics for task 1 >> {'accuracy': 0.3113839285714286, 'loss': 0.0224364944126295, 'EO': [0.08095238095238094, 0.03717948717948717], 'DP': -1, 'accuracy_s0': 0.2294871794871795, 'accuracy_s1': 0.3476190476190476, 'classwise_accuracy': {1: array([13, 56]), 0: array([ 50, 128])}, 'DP_ingredients': {'class_pred_count_s0': {5: 7, 2: 19, 0: 16, 1: 7, 4: 2, 3: 5}, 'class_pred_count_s1': {0: 51, 2: 29, 3: 16, 1: 19, 4: 7, 5: 6}, 'class_pred_count': {0: 67, 2: 48, 5: 13, 3: 21, 1: 26, 4: 9}, 'count_s0': 56, 'count_s1': 128, 'count': 184}}\n",
      "[61] Eval metrics for task 2 >> {'accuracy': 0.28736710444027513, 'loss': 0.01869366317987442, 'EO': [0.09546703296703296, 0.010695187165775416], 'DP': -1, 'accuracy_s0': 0.3479020979020979, 'accuracy_s1': 0.26313025210084034, 'classwise_accuracy': {3: array([22, 78]), 2: array([24, 82])}, 'DP_ingredients': {'class_pred_count_s0': {5: 26, 3: 20, 2: 16, 4: 2, 1: 3, 0: 3}, 'class_pred_count_s1': {0: 22, 3: 23, 2: 23, 1: 8, 5: 6, 4: 8}, 'class_pred_count': {5: 32, 0: 25, 3: 43, 2: 39, 1: 11, 4: 10}, 'count_s0': 70, 'count_s1': 90, 'count': 160}}\n",
      "[61] Eval metrics for task 3 >> {'accuracy': 0.3081439553941032, 'loss': 0.0059844212489085155, 'EO': [0.03136200716845878, 0.15538815117466806], 'DP': -1, 'accuracy_s0': 0.35003624501631025, 'accuracy_s1': 0.226010101010101, 'classwise_accuracy': {4: array([ 6, 89]), 5: array([ 73, 133])}, 'DP_ingredients': {'class_pred_count_s0': {5: 95, 3: 31, 2: 14, 4: 7, 1: 2, 0: 2}, 'class_pred_count_s1': {5: 23, 4: 4, 3: 32, 2: 7, 0: 3, 1: 2}, 'class_pred_count': {5: 118, 3: 63, 4: 11, 2: 21, 1: 4, 0: 5}, 'count_s0': 151, 'count_s1': 71, 'count': 222}}\n",
      "[62] Eval metrics for task 1 >> {'accuracy': 0.3113839285714286, 'loss': 0.022976719814798107, 'EO': [0.08095238095238094, 0.03717948717948717], 'DP': -1, 'accuracy_s0': 0.2294871794871795, 'accuracy_s1': 0.3476190476190476, 'classwise_accuracy': {0: array([ 50, 128]), 1: array([13, 56])}, 'DP_ingredients': {'class_pred_count_s0': {1: 7, 3: 5, 2: 19, 5: 8, 4: 2, 0: 15}, 'class_pred_count_s1': {1: 19, 0: 51, 3: 13, 2: 30, 4: 8, 5: 7}, 'class_pred_count': {1: 26, 0: 66, 3: 18, 2: 49, 5: 15, 4: 10}, 'count_s0': 56, 'count_s1': 128, 'count': 184}}\n",
      "[62] Eval metrics for task 2 >> {'accuracy': 0.2870544090056285, 'loss': 0.019643858075141907, 'EO': [0.08653846153846154, 0.02205882352941177], 'DP': -1, 'accuracy_s0': 0.33653846153846156, 'accuracy_s1': 0.2720588235294118, 'classwise_accuracy': {3: array([21, 78]), 2: array([25, 82])}, 'DP_ingredients': {'class_pred_count_s0': {5: 27, 3: 18, 1: 3, 2: 16, 4: 3, 0: 3}, 'class_pred_count_s1': {0: 21, 1: 8, 2: 24, 4: 9, 5: 6, 3: 22}, 'class_pred_count': {5: 33, 0: 24, 3: 40, 1: 11, 2: 40, 4: 12}, 'count_s0': 70, 'count_s1': 90, 'count': 160}}\n",
      "[62] Eval metrics for task 3 >> {'accuracy': 0.3137619329221931, 'loss': 0.0058256677679113435, 'EO': [0.02329749103942652, 0.15538815117466806], 'DP': -1, 'accuracy_s0': 0.3581007611453425, 'accuracy_s1': 0.226010101010101, 'classwise_accuracy': {4: array([ 7, 89]), 5: array([ 73, 133])}, 'DP_ingredients': {'class_pred_count_s0': {3: 27, 5: 97, 2: 12, 4: 11, 1: 2, 0: 2}, 'class_pred_count_s1': {3: 31, 5: 24, 0: 3, 2: 7, 4: 4, 1: 2}, 'class_pred_count': {3: 58, 5: 121, 2: 19, 4: 15, 1: 4, 0: 5}, 'count_s0': 151, 'count_s1': 71, 'count': 222}}\n",
      "[63] Eval metrics for task 1 >> {'accuracy': 0.2840401785714286, 'loss': 0.023865671261497166, 'EO': [0.045238095238095244, 0.03717948717948717], 'DP': -1, 'accuracy_s0': 0.2294871794871795, 'accuracy_s1': 0.3119047619047619, 'classwise_accuracy': {0: array([ 43, 128]), 1: array([13, 56])}, 'DP_ingredients': {'class_pred_count_s0': {3: 3, 5: 9, 2: 18, 0: 15, 1: 8, 4: 3}, 'class_pred_count_s1': {0: 43, 2: 36, 3: 13, 4: 7, 5: 9, 1: 20}, 'class_pred_count': {0: 58, 2: 54, 3: 16, 4: 10, 5: 18, 1: 28}, 'count_s0': 56, 'count_s1': 128, 'count': 184}}\n",
      "[63] Eval metrics for task 2 >> {'accuracy': 0.28095684803001875, 'loss': 0.02063334882259369, 'EO': [0.06730769230769232, 0.02205882352941177], 'DP': -1, 'accuracy_s0': 0.3173076923076923, 'accuracy_s1': 0.2720588235294118, 'classwise_accuracy': {3: array([21, 78]), 2: array([24, 82])}, 'DP_ingredients': {'class_pred_count_s0': {3: 18, 5: 25, 4: 6, 2: 14, 0: 3, 1: 4}, 'class_pred_count_s1': {3: 22, 0: 20, 1: 9, 4: 10, 2: 23, 5: 6}, 'class_pred_count': {3: 40, 0: 23, 1: 13, 5: 31, 4: 16, 2: 37}, 'count_s0': 70, 'count_s1': 90, 'count': 160}}\n",
      "[63] Eval metrics for task 3 >> {'accuracy': 0.33813466249894397, 'loss': 0.0055972670649623016, 'EO': [0.025686977299880523, 0.13266087844739533], 'DP': -1, 'accuracy_s0': 0.37422979340340706, 'accuracy_s1': 0.26725589225589225, 'classwise_accuracy': {4: array([10, 89]), 5: array([ 75, 133])}, 'DP_ingredients': {'class_pred_count_s0': {5: 97, 3: 23, 4: 16, 1: 2, 2: 12, 0: 1}, 'class_pred_count_s1': {0: 3, 5: 26, 1: 2, 3: 28, 2: 7, 4: 5}, 'class_pred_count': {5: 123, 0: 4, 1: 4, 3: 51, 4: 21, 2: 19}, 'count_s0': 151, 'count_s1': 71, 'count': 222}}\n",
      "[64] Eval metrics for task 1 >> {'accuracy': 0.27901785714285715, 'loss': 0.02435611123624055, 'EO': [0.07210884353741495, 0.02051282051282051], 'DP': -1, 'accuracy_s0': 0.21282051282051284, 'accuracy_s1': 0.30544217687074826, 'classwise_accuracy': {1: array([12, 56]), 0: array([ 44, 128])}, 'DP_ingredients': {'class_pred_count_s0': {0: 14, 2: 21, 4: 4, 3: 3, 1: 7, 5: 7}, 'class_pred_count_s1': {2: 34, 4: 12, 5: 9, 0: 46, 1: 18, 3: 9}, 'class_pred_count': {2: 55, 0: 60, 4: 16, 5: 16, 1: 25, 3: 12}, 'count_s0': 56, 'count_s1': 128, 'count': 184}}\n",
      "[64] Eval metrics for task 2 >> {'accuracy': 0.26172607879924953, 'loss': 0.021355943381786348, 'EO': [0.09546703296703296, 0.03008021390374331], 'DP': -1, 'accuracy_s0': 0.3138111888111888, 'accuracy_s1': 0.24842436974789917, 'classwise_accuracy': {2: array([24, 82]), 3: array([18, 78])}, 'DP_ingredients': {'class_pred_count_s0': {1: 3, 5: 26, 4: 5, 3: 16, 2: 17, 0: 3}, 'class_pred_count_s1': {0: 21, 2: 25, 1: 7, 3: 21, 4: 12, 5: 4}, 'class_pred_count': {1: 10, 5: 30, 4: 17, 0: 24, 3: 37, 2: 42}, 'count_s0': 70, 'count_s1': 90, 'count': 160}}\n",
      "[64] Eval metrics for task 3 >> {'accuracy': 0.34561121905888315, 'loss': 0.005517344754021447, 'EO': [0.03614097968936678, 0.12704290091930542], 'DP': -1, 'accuracy_s0': 0.3766763320043494, 'accuracy_s1': 0.2857744107744108, 'classwise_accuracy': {5: array([ 74, 133]), 4: array([12, 89])}, 'DP_ingredients': {'class_pred_count_s0': {5: 95, 2: 13, 4: 19, 3: 21, 1: 2, 0: 1}, 'class_pred_count_s1': {3: 22, 5: 29, 4: 7, 0: 3, 1: 2, 2: 8}, 'class_pred_count': {3: 43, 5: 124, 2: 21, 4: 26, 0: 4, 1: 4}, 'count_s0': 151, 'count_s1': 71, 'count': 222}}\n",
      "[65] Eval metrics for task 1 >> {'accuracy': 0.2779017857142857, 'loss': 0.024899568246758503, 'EO': [0.08231292517006802, 0.03974358974358974], 'DP': -1, 'accuracy_s0': 0.1935897435897436, 'accuracy_s1': 0.31564625850340133, 'classwise_accuracy': {0: array([ 46, 128]), 1: array([11, 56])}, 'DP_ingredients': {'class_pred_count_s0': {4: 5, 0: 14, 2: 22, 1: 6, 5: 5, 3: 4}, 'class_pred_count_s1': {0: 48, 1: 18, 2: 33, 4: 14, 3: 9, 5: 6}, 'class_pred_count': {0: 62, 1: 24, 2: 55, 4: 19, 3: 13, 5: 11}, 'count_s0': 56, 'count_s1': 128, 'count': 184}}\n",
      "[65] Eval metrics for task 2 >> {'accuracy': 0.2620387742338962, 'loss': 0.021690049767494203, 'EO': [0.07623626373626374, 0.018716577540106957], 'DP': -1, 'accuracy_s0': 0.30594405594405594, 'accuracy_s1': 0.24842436974789917, 'classwise_accuracy': {3: array([19, 78]), 2: array([23, 82])}, 'DP_ingredients': {'class_pred_count_s0': {2: 16, 5: 23, 1: 3, 4: 8, 0: 3, 3: 17}, 'class_pred_count_s1': {3: 21, 0: 21, 2: 25, 1: 6, 5: 2, 4: 15}, 'class_pred_count': {3: 38, 0: 24, 2: 41, 5: 25, 1: 9, 4: 23}, 'count_s0': 70, 'count_s1': 90, 'count': 160}}\n",
      "[65] Eval metrics for task 3 >> {'accuracy': 0.3211117681845062, 'loss': 0.005648578609432186, 'EO': [0.03853046594982078, 0.1841164453524004], 'DP': -1, 'accuracy_s0': 0.37033345415005436, 'accuracy_s1': 0.22474747474747475, 'classwise_accuracy': {5: array([ 63, 133]), 4: array([15, 89])}, 'DP_ingredients': {'class_pred_count_s0': {5: 89, 2: 13, 4: 22, 3: 24, 1: 2, 0: 1}, 'class_pred_count_s1': {5: 20, 3: 25, 4: 14, 2: 7, 0: 3, 1: 2}, 'class_pred_count': {5: 109, 2: 20, 4: 36, 3: 49, 0: 4, 1: 4}, 'count_s0': 151, 'count_s1': 71, 'count': 222}}\n",
      "[66] Eval metrics for task 1 >> {'accuracy': 0.30245535714285715, 'loss': 0.024931697741798733, 'EO': [0.08095238095238094, 0.02051282051282051], 'DP': -1, 'accuracy_s0': 0.2294871794871795, 'accuracy_s1': 0.33095238095238094, 'classwise_accuracy': {0: array([ 50, 128]), 1: array([12, 56])}, 'DP_ingredients': {'class_pred_count_s0': {2: 17, 0: 15, 4: 5, 1: 7, 5: 8, 3: 4}, 'class_pred_count_s1': {0: 51, 3: 11, 4: 11, 2: 27, 1: 17, 5: 11}, 'class_pred_count': {0: 66, 2: 44, 3: 15, 4: 16, 1: 24, 5: 19}, 'count_s0': 56, 'count_s1': 128, 'count': 184}}\n",
      "[66] Eval metrics for task 2 >> {'accuracy': 0.24953095684803003, 'loss': 0.023391778767108917, 'EO': [0.08516483516483518, 0.03008021390374331], 'DP': -1, 'accuracy_s0': 0.2945804195804196, 'accuracy_s1': 0.2394957983193277, 'classwise_accuracy': {3: array([18, 78]), 2: array([22, 82])}, 'DP_ingredients': {'class_pred_count_s0': {3: 16, 2: 15, 5: 28, 0: 3, 4: 5, 1: 3}, 'class_pred_count_s1': {3: 21, 4: 12, 0: 22, 5: 9, 2: 19, 1: 7}, 'class_pred_count': {3: 37, 4: 17, 2: 34, 5: 37, 0: 25, 1: 10}, 'count_s0': 70, 'count_s1': 90, 'count': 160}}\n",
      "[66] Eval metrics for task 3 >> {'accuracy': 0.34941285798766575, 'loss': 0.005299080599535693, 'EO': [0.025686977299880523, 0.11555158324821244], 'DP': -1, 'accuracy_s0': 0.3798477709314969, 'accuracy_s1': 0.289983164983165, 'classwise_accuracy': {5: array([ 78, 133]), 4: array([10, 89])}, 'DP_ingredients': {'class_pred_count_s0': {5: 100, 4: 16, 3: 22, 2: 10, 0: 1, 1: 2}, 'class_pred_count_s1': {5: 34, 4: 6, 0: 3, 3: 23, 2: 4, 1: 1}, 'class_pred_count': {5: 134, 4: 22, 3: 45, 2: 14, 0: 4, 1: 3}, 'count_s0': 151, 'count_s1': 71, 'count': 222}}\n",
      "[67] Eval metrics for task 1 >> {'accuracy': 0.29073660714285715, 'loss': 0.025467945181805153, 'EO': [0.06564625850340136, 0.02051282051282051], 'DP': -1, 'accuracy_s0': 0.2294871794871795, 'accuracy_s1': 0.31564625850340133, 'classwise_accuracy': {0: array([ 47, 128]), 1: array([12, 56])}, 'DP_ingredients': {'class_pred_count_s0': {0: 15, 3: 4, 2: 18, 1: 7, 5: 8, 4: 4}, 'class_pred_count_s1': {0: 48, 2: 32, 4: 11, 1: 18, 5: 12, 3: 7}, 'class_pred_count': {0: 63, 3: 11, 2: 50, 4: 15, 1: 25, 5: 20}, 'count_s0': 56, 'count_s1': 128, 'count': 184}}\n",
      "[67] Eval metrics for task 2 >> {'accuracy': 0.22967479674796748, 'loss': 0.024198290705680848, 'EO': [0.06730769230769232, 0.060828877005347594], 'DP': -1, 'accuracy_s0': 0.24912587412587414, 'accuracy_s1': 0.2426470588235294, 'classwise_accuracy': {2: array([24, 82]), 3: array([13, 78])}, 'DP_ingredients': {'class_pred_count_s0': {1: 3, 4: 7, 5: 31, 3: 10, 2: 16, 0: 3}, 'class_pred_count_s1': {0: 20, 4: 15, 5: 6, 2: 24, 1: 6, 3: 19}, 'class_pred_count': {0: 23, 1: 9, 4: 22, 5: 37, 2: 40, 3: 29}, 'count_s0': 70, 'count_s1': 90, 'count': 160}}\n",
      "[67] Eval metrics for task 3 >> {'accuracy': 0.36254963250823685, 'loss': 0.005188972026378185, 'EO': [0.017622461170848265, 0.10980592441266598], 'DP': -1, 'accuracy_s0': 0.39353026458861906, 'accuracy_s1': 0.30134680134680136, 'classwise_accuracy': {5: array([ 80, 133]), 4: array([11, 89])}, 'DP_ingredients': {'class_pred_count_s0': {5: 101, 2: 11, 3: 17, 4: 19, 1: 2, 0: 1}, 'class_pred_count_s1': {3: 18, 5: 35, 4: 9, 2: 5, 0: 3, 1: 1}, 'class_pred_count': {3: 35, 5: 136, 2: 16, 4: 28, 1: 3, 0: 4}, 'count_s0': 151, 'count_s1': 71, 'count': 222}}\n",
      "[68] Eval metrics for task 1 >> {'accuracy': 0.27901785714285715, 'loss': 0.026713068070619003, 'EO': [0.07210884353741495, 0.02051282051282051], 'DP': -1, 'accuracy_s0': 0.21282051282051284, 'accuracy_s1': 0.30544217687074826, 'classwise_accuracy': {1: array([12, 56]), 0: array([ 44, 128])}, 'DP_ingredients': {'class_pred_count_s0': {2: 20, 5: 9, 4: 3, 0: 14, 1: 7, 3: 3}, 'class_pred_count_s1': {0: 46, 5: 15, 1: 18, 4: 9, 2: 34, 3: 6}, 'class_pred_count': {0: 60, 5: 24, 2: 54, 1: 25, 4: 12, 3: 9}, 'count_s0': 56, 'count_s1': 128, 'count': 184}}\n",
      "[68] Eval metrics for task 2 >> {'accuracy': 0.2354596622889306, 'loss': 0.024667158722877502, 'EO': [0.04945054945054947, 0.07219251336898395], 'DP': -1, 'accuracy_s0': 0.23776223776223776, 'accuracy_s1': 0.26050420168067223, 'classwise_accuracy': {3: array([12, 78]), 2: array([26, 82])}, 'DP_ingredients': {'class_pred_count_s0': {5: 36, 2: 16, 1: 3, 3: 7, 0: 3, 4: 5}, 'class_pred_count_s1': {2: 27, 3: 19, 0: 18, 4: 10, 5: 10, 1: 6}, 'class_pred_count': {2: 43, 5: 46, 3: 26, 0: 21, 4: 15, 1: 9}, 'count_s0': 70, 'count_s1': 90, 'count': 160}}\n",
      "[68] Eval metrics for task 3 >> {'accuracy': 0.37953028639013264, 'loss': 0.005120747798197978, 'EO': [0.015232974910394263, 0.07545965270684368], 'DP': -1, 'accuracy_s0': 0.3998731424429141, 'accuracy_s1': 0.33964646464646464, 'classwise_accuracy': {5: array([ 89, 133]), 4: array([ 8, 89])}, 'DP_ingredients': {'class_pred_count_s0': {5: 108, 1: 2, 3: 15, 2: 11, 4: 14, 0: 1}, 'class_pred_count_s1': {3: 14, 0: 3, 5: 43, 2: 5, 1: 1, 4: 5}, 'class_pred_count': {5: 151, 3: 29, 1: 3, 2: 16, 0: 4, 4: 19}, 'count_s0': 151, 'count_s1': 71, 'count': 222}}\n",
      "[69] Eval metrics for task 1 >> {'accuracy': 0.29464285714285715, 'loss': 0.026180645693903385, 'EO': [0.0925170068027211, 0.02051282051282051], 'DP': -1, 'accuracy_s0': 0.21282051282051284, 'accuracy_s1': 0.3258503401360544, 'classwise_accuracy': {0: array([ 48, 128]), 1: array([12, 56])}, 'DP_ingredients': {'class_pred_count_s0': {3: 3, 2: 19, 4: 7, 0: 14, 1: 7, 5: 6}, 'class_pred_count_s1': {5: 10, 0: 50, 2: 30, 1: 17, 4: 14, 3: 7}, 'class_pred_count': {5: 16, 3: 10, 0: 64, 2: 49, 1: 24, 4: 21}, 'count_s0': 56, 'count_s1': 128, 'count': 184}}\n",
      "[69] Eval metrics for task 2 >> {'accuracy': 0.20403377110694182, 'loss': 0.025877588987350465, 'EO': [0.06730769230769232, 0.054144385026737976], 'DP': -1, 'accuracy_s0': 0.2263986013986014, 'accuracy_s1': 0.21323529411764708, 'classwise_accuracy': {3: array([ 9, 78]), 2: array([24, 82])}, 'DP_ingredients': {'class_pred_count_s0': {5: 31, 4: 11, 2: 16, 3: 6, 1: 3, 0: 3}, 'class_pred_count_s1': {2: 24, 1: 6, 0: 20, 4: 19, 3: 14, 5: 7}, 'class_pred_count': {5: 38, 2: 40, 4: 30, 1: 9, 0: 23, 3: 20}, 'count_s0': 70, 'count_s1': 90, 'count': 160}}\n",
      "[69] Eval metrics for task 3 >> {'accuracy': 0.375644166596266, 'loss': 0.005061008371748366, 'EO': [0.0065710872162485084, 0.10418794688457608], 'DP': -1, 'accuracy_s0': 0.4121058354476259, 'accuracy_s1': 0.30134680134680136, 'classwise_accuracy': {4: array([14, 89]), 5: array([ 79, 133])}, 'DP_ingredients': {'class_pred_count_s0': {2: 11, 5: 98, 3: 15, 4: 24, 1: 2, 0: 1}, 'class_pred_count_s1': {3: 14, 5: 37, 2: 5, 4: 11, 1: 1, 0: 3}, 'class_pred_count': {2: 16, 5: 135, 3: 29, 4: 35, 1: 3, 0: 4}, 'count_s0': 151, 'count_s1': 71, 'count': 222}}\n",
      "[70] Eval metrics for task 1 >> {'accuracy': 0.29464285714285715, 'loss': 0.02699001975681471, 'EO': [0.0925170068027211, 0.02051282051282051], 'DP': -1, 'accuracy_s0': 0.21282051282051284, 'accuracy_s1': 0.3258503401360544, 'classwise_accuracy': {0: array([ 48, 128]), 1: array([12, 56])}, 'DP_ingredients': {'class_pred_count_s0': {0: 13, 4: 9, 2: 18, 1: 7, 3: 3, 5: 6}, 'class_pred_count_s1': {2: 27, 4: 15, 1: 16, 0: 50, 5: 13, 3: 7}, 'class_pred_count': {2: 45, 0: 63, 4: 24, 1: 23, 5: 19, 3: 10}, 'count_s0': 56, 'count_s1': 128, 'count': 184}}\n",
      "[70] Eval metrics for task 2 >> {'accuracy': 0.17229518449030645, 'loss': 0.02736668586730957, 'EO': [0.04807692307692307, 0.004679144385026736], 'DP': -1, 'accuracy_s0': 0.20716783216783216, 'accuracy_s1': 0.15441176470588236, 'classwise_accuracy': {2: array([23, 82]), 3: array([ 5, 78])}, 'DP_ingredients': {'class_pred_count_s0': {2: 15, 4: 10, 1: 3, 5: 35, 0: 3, 3: 4}, 'class_pred_count_s1': {2: 21, 5: 11, 4: 25, 3: 10, 0: 19, 1: 4}, 'class_pred_count': {2: 36, 4: 35, 5: 46, 1: 7, 3: 14, 0: 22}, 'count_s0': 70, 'count_s1': 90, 'count': 160}}\n",
      "[70] Eval metrics for task 3 >> {'accuracy': 0.3850215426205964, 'loss': 0.004803234929437036, 'EO': [0.011947431302270009, 0.0928243105209397], 'DP': -1, 'accuracy_s0': 0.4121058354476259, 'accuracy_s1': 0.3312289562289562, 'classwise_accuracy': {4: array([15, 89]), 5: array([ 80, 133])}, 'DP_ingredients': {'class_pred_count_s0': {5: 100, 2: 10, 3: 14, 4: 24, 0: 1, 1: 2}, 'class_pred_count_s1': {2: 5, 5: 38, 4: 11, 3: 14, 0: 2, 1: 1}, 'class_pred_count': {5: 138, 2: 15, 3: 28, 4: 35, 0: 3, 1: 3}, 'count_s0': 151, 'count_s1': 71, 'count': 222}}\n",
      "[71] Eval metrics for task 1 >> {'accuracy': 0.29073660714285715, 'loss': 0.027339419592981754, 'EO': [0.08741496598639456, 0.02051282051282051], 'DP': -1, 'accuracy_s0': 0.21282051282051284, 'accuracy_s1': 0.3207482993197279, 'classwise_accuracy': {1: array([12, 56]), 0: array([ 47, 128])}, 'DP_ingredients': {'class_pred_count_s0': {2: 18, 5: 10, 4: 3, 0: 14, 3: 4, 1: 7}, 'class_pred_count_s1': {1: 16, 2: 29, 3: 7, 4: 9, 0: 49, 5: 18}, 'class_pred_count': {1: 23, 2: 47, 3: 11, 5: 28, 4: 12, 0: 63}, 'count_s0': 56, 'count_s1': 128, 'count': 184}}\n",
      "[71] Eval metrics for task 2 >> {'accuracy': 0.20403377110694182, 'loss': 0.02723270058631897, 'EO': [0.03914835164835165, 0.02807486631016043], 'DP': -1, 'accuracy_s0': 0.21853146853146854, 'accuracy_s1': 0.2074579831932773, 'classwise_accuracy': {2: array([24, 82]), 3: array([ 9, 78])}, 'DP_ingredients': {'class_pred_count_s0': {5: 41, 1: 3, 2: 15, 4: 3, 0: 3, 3: 5}, 'class_pred_count_s1': {0: 19, 5: 21, 3: 14, 2: 23, 4: 11, 1: 2}, 'class_pred_count': {0: 22, 5: 62, 3: 19, 1: 5, 2: 38, 4: 14}, 'count_s0': 70, 'count_s1': 90, 'count': 160}}\n",
      "[71] Eval metrics for task 3 >> {'accuracy': 0.3927093013432457, 'loss': 0.005064932075706688, 'EO': [0.02329749103942652, 0.08656792645556688], 'DP': -1, 'accuracy_s0': 0.4142805364262414, 'accuracy_s1': 0.351010101010101, 'classwise_accuracy': {5: array([ 94, 133]), 4: array([ 7, 89])}, 'DP_ingredients': {'class_pred_count_s0': {5: 115, 3: 14, 4: 10, 2: 9, 1: 2, 0: 1}, 'class_pred_count_s1': {5: 44, 2: 5, 3: 14, 4: 4, 0: 3, 1: 1}, 'class_pred_count': {5: 159, 2: 14, 3: 28, 4: 14, 0: 4, 1: 3}, 'count_s0': 151, 'count_s1': 71, 'count': 222}}\n",
      "[72] Eval metrics for task 1 >> {'accuracy': 0.28683035714285715, 'loss': 0.02786586336467577, 'EO': [0.08231292517006802, 0.02051282051282051], 'DP': -1, 'accuracy_s0': 0.21282051282051284, 'accuracy_s1': 0.31564625850340133, 'classwise_accuracy': {0: array([ 46, 128]), 1: array([12, 56])}, 'DP_ingredients': {'class_pred_count_s0': {2: 18, 3: 3, 4: 9, 5: 6, 0: 13, 1: 7}, 'class_pred_count_s1': {0: 48, 5: 14, 2: 29, 3: 6, 4: 14, 1: 17}, 'class_pred_count': {0: 61, 2: 47, 3: 9, 5: 20, 4: 23, 1: 24}, 'count_s0': 56, 'count_s1': 128, 'count': 184}}\n",
      "[72] Eval metrics for task 2 >> {'accuracy': 0.17198248905565977, 'loss': 0.02810567617416382, 'EO': [0.03914835164835165, 0.019385026737967912], 'DP': -1, 'accuracy_s0': 0.20716783216783216, 'accuracy_s1': 0.1486344537815126, 'classwise_accuracy': {3: array([ 4, 78]), 2: array([24, 82])}, 'DP_ingredients': {'class_pred_count_s0': {2: 14, 4: 12, 5: 33, 0: 3, 1: 4, 3: 4}, 'class_pred_count_s1': {2: 22, 4: 23, 0: 18, 5: 15, 1: 3, 3: 9}, 'class_pred_count': {2: 36, 4: 35, 5: 48, 0: 21, 1: 7, 3: 13}, 'count_s0': 70, 'count_s1': 90, 'count': 160}}\n",
      "[72] Eval metrics for task 3 >> {'accuracy': 0.39249809918053563, 'loss': 0.004873114126222627, 'EO': [0.022401433691756262, 0.08720633299284986], 'DP': -1, 'accuracy_s0': 0.4145523740485684, 'accuracy_s1': 0.34974747474747475, 'classwise_accuracy': {5: array([ 79, 133]), 4: array([17, 89])}, 'DP_ingredients': {'class_pred_count_s0': {5: 97, 2: 10, 4: 27, 3: 14, 0: 1, 1: 2}, 'class_pred_count_s1': {3: 14, 5: 37, 4: 12, 2: 5, 0: 2, 1: 1}, 'class_pred_count': {3: 28, 5: 134, 2: 15, 4: 39, 0: 3, 1: 3}, 'count_s0': 151, 'count_s1': 71, 'count': 222}}\n",
      "[73] Eval metrics for task 1 >> {'accuracy': 0.29073660714285715, 'loss': 0.027808010578155518, 'EO': [0.08741496598639456, 0.02051282051282051], 'DP': -1, 'accuracy_s0': 0.21282051282051284, 'accuracy_s1': 0.3207482993197279, 'classwise_accuracy': {0: array([ 47, 128]), 1: array([12, 56])}, 'DP_ingredients': {'class_pred_count_s0': {2: 18, 1: 7, 0: 14, 5: 6, 4: 8, 3: 3}, 'class_pred_count_s1': {5: 13, 2: 29, 0: 49, 1: 16, 3: 7, 4: 14}, 'class_pred_count': {2: 47, 1: 23, 5: 19, 0: 63, 3: 10, 4: 22}, 'count_s0': 56, 'count_s1': 128, 'count': 184}}\n",
      "[73] Eval metrics for task 2 >> {'accuracy': 0.18511569731081928, 'loss': 0.028572678565979004, 'EO': [0.04807692307692307, 0.024732620320855617], 'DP': -1, 'accuracy_s0': 0.20716783216783216, 'accuracy_s1': 0.18382352941176472, 'classwise_accuracy': {3: array([ 7, 78]), 2: array([23, 82])}, 'DP_ingredients': {'class_pred_count_s0': {0: 3, 4: 9, 5: 36, 2: 15, 3: 4, 1: 3}, 'class_pred_count_s1': {5: 15, 3: 13, 1: 2, 2: 22, 0: 19, 4: 19}, 'class_pred_count': {5: 51, 3: 17, 0: 22, 4: 28, 1: 5, 2: 37}, 'count_s0': 70, 'count_s1': 90, 'count': 160}}\n",
      "[73] Eval metrics for task 3 >> {'accuracy': 0.3944411590774689, 'loss': 0.004951917910361075, 'EO': [0.0065710872162485084, 0.11529622063329925], 'DP': -1, 'accuracy_s0': 0.43457774555998546, 'accuracy_s1': 0.3127104377104377, 'classwise_accuracy': {5: array([ 84, 133]), 4: array([14, 89])}, 'DP_ingredients': {'class_pred_count_s0': {5: 104, 3: 14, 2: 9, 4: 21, 1: 2, 0: 1}, 'class_pred_count_s1': {4: 11, 5: 39, 3: 13, 2: 5, 0: 2, 1: 1}, 'class_pred_count': {5: 143, 4: 32, 3: 27, 2: 14, 1: 3, 0: 3}, 'count_s0': 151, 'count_s1': 71, 'count': 222}}\n",
      "[74] Eval metrics for task 1 >> {'accuracy': 0.28683035714285715, 'loss': 0.028271654377812924, 'EO': [0.08231292517006802, 0.02051282051282051], 'DP': -1, 'accuracy_s0': 0.21282051282051284, 'accuracy_s1': 0.31564625850340133, 'classwise_accuracy': {0: array([ 46, 128]), 1: array([12, 56])}, 'DP_ingredients': {'class_pred_count_s0': {0: 13, 1: 7, 5: 9, 3: 2, 2: 18, 4: 7}, 'class_pred_count_s1': {0: 48, 2: 27, 5: 18, 4: 13, 1: 17, 3: 5}, 'class_pred_count': {0: 61, 2: 45, 5: 27, 4: 20, 1: 24, 3: 7}, 'count_s0': 56, 'count_s1': 128, 'count': 184}}\n",
      "[74] Eval metrics for task 2 >> {'accuracy': 0.17229518449030645, 'loss': 0.03008597493171692, 'EO': [0.04807692307692307, 0.004679144385026736], 'DP': -1, 'accuracy_s0': 0.20716783216783216, 'accuracy_s1': 0.15441176470588236, 'classwise_accuracy': {2: array([23, 82]), 3: array([ 5, 78])}, 'DP_ingredients': {'class_pred_count_s0': {5: 37, 2: 14, 1: 4, 0: 3, 3: 4, 4: 8}, 'class_pred_count_s1': {5: 21, 2: 20, 3: 9, 1: 3, 4: 19, 0: 18}, 'class_pred_count': {5: 58, 2: 34, 3: 13, 1: 7, 4: 27, 0: 21}, 'count_s0': 70, 'count_s1': 90, 'count': 160}}\n",
      "[74] Eval metrics for task 3 >> {'accuracy': 0.41518121145560527, 'loss': 0.004745341099060334, 'EO': [0.017622461170848265, 0.06958631256384062], 'DP': -1, 'accuracy_s0': 0.43285610728524826, 'accuracy_s1': 0.3808922558922559, 'classwise_accuracy': {4: array([11, 89]), 5: array([ 94, 133])}, 'DP_ingredients': {'class_pred_count_s0': {5: 111, 2: 9, 4: 17, 3: 11, 1: 2, 0: 1}, 'class_pred_count_s1': {2: 4, 5: 45, 0: 2, 4: 7, 3: 12, 1: 1}, 'class_pred_count': {5: 156, 2: 13, 4: 24, 3: 23, 1: 3, 0: 3}, 'count_s0': 151, 'count_s1': 71, 'count': 222}}\n",
      "[75] Eval metrics for task 1 >> {'accuracy': 0.29073660714285715, 'loss': 0.02868287459663723, 'EO': [0.08741496598639456, 0.02051282051282051], 'DP': -1, 'accuracy_s0': 0.21282051282051284, 'accuracy_s1': 0.3207482993197279, 'classwise_accuracy': {0: array([ 47, 128]), 1: array([12, 56])}, 'DP_ingredients': {'class_pred_count_s0': {2: 18, 4: 8, 1: 7, 5: 7, 0: 13, 3: 3}, 'class_pred_count_s1': {1: 16, 2: 27, 0: 49, 4: 14, 5: 17, 3: 5}, 'class_pred_count': {1: 23, 2: 45, 0: 62, 4: 22, 5: 24, 3: 8}, 'count_s0': 56, 'count_s1': 128, 'count': 184}}\n",
      "[75] Eval metrics for task 2 >> {'accuracy': 0.16588492808005004, 'loss': 0.030745929479598998, 'EO': [0.04807692307692307, 0.019385026737967912], 'DP': -1, 'accuracy_s0': 0.20716783216783216, 'accuracy_s1': 0.13970588235294118, 'classwise_accuracy': {3: array([ 4, 78]), 2: array([23, 82])}, 'DP_ingredients': {'class_pred_count_s0': {5: 36, 3: 4, 2: 14, 4: 9, 1: 4, 0: 3}, 'class_pred_count_s1': {5: 19, 0: 18, 3: 8, 4: 21, 2: 21, 1: 3}, 'class_pred_count': {5: 55, 3: 12, 0: 21, 4: 30, 2: 35, 1: 7}, 'count_s0': 70, 'count_s1': 90, 'count': 160}}\n",
      "[75] Eval metrics for task 3 >> {'accuracy': 0.4039030159668835, 'loss': 0.004803186064367896, 'EO': [0.017622461170848265, 0.08669560776302349], 'DP': -1, 'accuracy_s0': 0.4272381297571584, 'accuracy_s1': 0.3581649831649832, 'classwise_accuracy': {4: array([11, 89]), 5: array([ 91, 133])}, 'DP_ingredients': {'class_pred_count_s0': {3: 12, 2: 9, 5: 110, 0: 1, 4: 17, 1: 2}, 'class_pred_count_s1': {5: 43, 2: 5, 4: 8, 0: 2, 3: 12, 1: 1}, 'class_pred_count': {3: 24, 2: 14, 5: 153, 0: 3, 4: 25, 1: 3}, 'count_s0': 151, 'count_s1': 71, 'count': 222}}\n",
      "training_task_end\n",
      "final avg-acc 0.28684151706326355\n",
      "final avg-forget 0.26519818469132495\n"
     ]
    }
   ],
   "source": [
    "trainer.run()\n",
    "print(\"final avg-acc\", metric_manager_callback.meters['accuracy'].compute_final())\n",
    "print(\"final avg-forget\", metric_manager_callback.meters['forgetting'].compute_final())"
   ]
  },
  {
   "cell_type": "code",
   "execution_count": 7,
   "id": "beaf952b",
   "metadata": {},
   "outputs": [
    {
     "data": {
      "text/plain": [
       "array([[0.544, 0.   , 0.   ],\n",
       "       [0.341, 0.443, 0.   ],\n",
       "       [0.291, 0.166, 0.404]])"
      ]
     },
     "execution_count": 7,
     "metadata": {},
     "output_type": "execute_result"
    }
   ],
   "source": [
    "metric_manager_callback.meters['accuracy'].get_data()"
   ]
  },
  {
   "cell_type": "code",
   "execution_count": 8,
   "id": "26972f73",
   "metadata": {},
   "outputs": [
    {
     "data": {
      "text/plain": [
       "0.40762426359820453"
      ]
     },
     "execution_count": 8,
     "metadata": {},
     "output_type": "execute_result"
    }
   ],
   "source": [
    "np.mean(metric_manager_callback.meters['accuracy'].compute_overall())"
   ]
  },
  {
   "cell_type": "code",
   "execution_count": 9,
   "id": "7cd38c7f",
   "metadata": {},
   "outputs": [
    {
     "data": {
      "text/plain": [
       "[0.027, 0.059, 0.047]"
      ]
     },
     "execution_count": 9,
     "metadata": {},
     "output_type": "execute_result"
    }
   ],
   "source": [
    "[np.round(x, 3) for x in metric_manager_callback.meters['EO'].compute_overall()]"
   ]
  },
  {
   "cell_type": "code",
   "execution_count": 10,
   "id": "2ebfb58a",
   "metadata": {},
   "outputs": [
    {
     "data": {
      "text/plain": [
       "0.044338146822054635"
      ]
     },
     "execution_count": 10,
     "metadata": {},
     "output_type": "execute_result"
    }
   ],
   "source": [
    "np.mean(metric_manager_callback.meters['EO'].compute_overall())"
   ]
  },
  {
   "cell_type": "code",
   "execution_count": 11,
   "id": "d2051df7",
   "metadata": {},
   "outputs": [
    {
     "data": {
      "text/plain": [
       "[0.031, 0.048, 0.046]"
      ]
     },
     "execution_count": 11,
     "metadata": {},
     "output_type": "execute_result"
    }
   ],
   "source": [
    "[np.round(x, 3) for x in metric_manager_callback.meters['DP'].compute_overall()]"
   ]
  },
  {
   "cell_type": "code",
   "execution_count": 12,
   "id": "a452148b",
   "metadata": {},
   "outputs": [
    {
     "data": {
      "text/plain": [
       "0.041752730374030954"
      ]
     },
     "execution_count": 12,
     "metadata": {},
     "output_type": "execute_result"
    }
   ],
   "source": [
    "np.mean(metric_manager_callback.meters['DP'].compute_overall())"
   ]
  },
  {
   "cell_type": "code",
   "execution_count": null,
   "id": "caf6ed78",
   "metadata": {},
   "outputs": [],
   "source": []
  },
  {
   "cell_type": "code",
   "execution_count": null,
   "id": "0591e7f8",
   "metadata": {},
   "outputs": [],
   "source": []
  }
 ],
 "metadata": {
  "kernelspec": {
   "display_name": "cil",
   "language": "python",
   "name": "python3"
  },
  "language_info": {
   "codemirror_mode": {
    "name": "ipython",
    "version": 3
   },
   "file_extension": ".py",
   "mimetype": "text/x-python",
   "name": "python",
   "nbconvert_exporter": "python",
   "pygments_lexer": "ipython3",
   "version": "3.9.18"
  }
 },
 "nbformat": 4,
 "nbformat_minor": 5
}
