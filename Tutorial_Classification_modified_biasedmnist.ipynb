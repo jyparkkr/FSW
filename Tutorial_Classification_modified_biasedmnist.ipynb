{
 "cells": [
  {
   "cell_type": "code",
   "execution_count": 1,
   "id": "b0c3b92f",
   "metadata": {},
   "outputs": [
    {
     "name": "stdout",
     "output_type": "stream",
     "text": [
      "output_dir=./outputs/dataset=BiasedMNIST/seed=1_epoch=5_lr=0.001_alpha=0.002_lambda=5\n"
     ]
    }
   ],
   "source": [
    "from torchvision.datasets import MNIST, FashionMNIST, CIFAR10\n",
    "import torchvision\n",
    "import numpy as np\n",
    "import random\n",
    "\n",
    "import torch\n",
    "import torch.nn.functional as F\n",
    "import cl_gym as cl\n",
    "\n",
    "import sys\n",
    "import os\n",
    "\n",
    "seed = 1\n",
    "\n",
    "np.random.seed(seed)\n",
    "torch.manual_seed(seed)\n",
    "np.random.seed(seed)\n",
    "random.seed(seed)\n",
    "torch.cuda.manual_seed_all(seed)\n",
    "torch.manual_seed(seed)\n",
    "torch.backends.cudnn.deterministic = True\n",
    "torch.backends.cudnn.benchmark = False\n",
    "torch.backends.cudnn.enabled = False\n",
    "\n",
    "def make_params() -> dict:\n",
    "    import os\n",
    "    from pathlib import Path\n",
    "    import uuid\n",
    "\n",
    "    params = {\n",
    "            # dataset\n",
    "            'dataset': \"BiasedMNIST\",\n",
    "            'fairness_agg': 'mean',\n",
    "\n",
    "            # benchmark\n",
    "            'seed': seed,\n",
    "            'num_tasks': 5,\n",
    "            'epochs_per_task': 5,\n",
    "            # 'per_task_examples': np.inf,\n",
    "            'per_task_examples': 10000,\n",
    "            'per_task_memory_examples': 128,\n",
    "            'batch_size_train': 64,\n",
    "            'batch_size_memory': 64,\n",
    "            'batch_size_validation': 256,\n",
    "            'lambda': 5,\n",
    "\n",
    "            # algorithm\n",
    "            'optimizer': 'sgd',\n",
    "            'learning_rate': 0.001,\n",
    "            'momentum': 0.9,\n",
    "            'learning_rate_decay': 1.0,\n",
    "            'criterion': torch.nn.CrossEntropyLoss(),\n",
    "            'device': torch.device('cuda:6' if torch.cuda.is_available() else 'cpu'),\n",
    "             \n",
    "            # sample selection\n",
    "            'alpha':0.002\n",
    "              }\n",
    "    \n",
    "\n",
    "\n",
    "#     trial_id = str(uuid.uuid4())\n",
    "    trial_id = f\"dataset={params['dataset']}/seed={params['seed']}_epoch={params['epochs_per_task']}_lr={params['learning_rate']}_alpha={params['alpha']}_lambda={params['lambda']}\"\n",
    "    params['trial_id'] = trial_id\n",
    "    params['output_dir'] = os.path.join(\"./outputs/{}\".format(trial_id))\n",
    "    print(f\"output_dir={params['output_dir']}\")\n",
    "    Path(params['output_dir']).mkdir(parents=True, exist_ok=True)\n",
    "\n",
    "    return params\n",
    "\n",
    "params = make_params()"
   ]
  },
  {
   "cell_type": "code",
   "execution_count": 2,
   "id": "99826537",
   "metadata": {},
   "outputs": [
    {
     "data": {
      "text/plain": [
       "True"
      ]
     },
     "execution_count": 2,
     "metadata": {},
     "output_type": "execute_result"
    }
   ],
   "source": [
    "\"MNIST\" in params['dataset']"
   ]
  },
  {
   "cell_type": "code",
   "execution_count": 3,
   "id": "20c7b886",
   "metadata": {},
   "outputs": [
    {
     "name": "stdout",
     "output_type": "stream",
     "text": [
      "[0 1 2 3 4 5 6 7 8 9]\n"
     ]
    }
   ],
   "source": [
    "from datasets import BiasedMNIST\n",
    "\n",
    "if  params['dataset'] in [\"BiasedMNIST\"]:\n",
    "    benchmark = BiasedMNIST(num_tasks=params['num_tasks'],\n",
    "                                per_task_memory_examples=params['per_task_memory_examples'],\n",
    "                                per_task_examples = min(params['per_task_examples'], 15000))\n",
    "\n",
    "    n_feature = 3*28*28\n",
    "    \n",
    "\n",
    "noise = 0.0\n"
   ]
  },
  {
   "cell_type": "code",
   "execution_count": 4,
   "id": "87fd9653",
   "metadata": {},
   "outputs": [
    {
     "data": {
      "image/png": "[encoded data removed]",
      "text/plain": [
       "<PIL.Image.Image image mode=RGB size=28x28>"
      ]
     },
     "execution_count": 4,
     "metadata": {},
     "output_type": "execute_result"
    }
   ],
   "source": [
    "from torchvision.transforms.functional import to_pil_image\n",
    "from cl_gym.benchmarks.transforms import MNIST_MEAN, MNIST_STD\n",
    "COLOR_MAP = {\n",
    "    0: (1, 0, 0),\n",
    "    1: (0, 1, 0),\n",
    "    2: (1, 1, 0),\n",
    "    3: (0, 0, 1),\n",
    "    4: (1, 0.65, 0),\n",
    "    5: (0.5, 0, 0.5),\n",
    "    6: (0, 1, 1),\n",
    "    7: (1, 0.75, 0.8),\n",
    "    8: (0.8, 1, 0),\n",
    "    9: (.588, .294, 0.)\n",
    "}\n",
    "\n",
    "r = (1 - 0.1913)\n",
    "color_values = np.array(list(COLOR_MAP.values()))\n",
    "m_rgb = color_values.mean(axis=0)\n",
    "std_rgb = color_values.std(axis=0)\n",
    "\n",
    "bmnist_mean = [r*m + MNIST_MEAN[0] for m in m_rgb]\n",
    "bmnist_std = [(r*s**2+(1-r)*MNIST_STD[0]**2+r*(1-r)*(bmnist_mean[i] - m_rgb[i])**2)**0.5 for i, s in enumerate(std_rgb)]\n",
    "\n",
    "unnormalize = torchvision.transforms.Normalize([-m/s for m, s in zip(bmnist_mean, bmnist_std)], [1/s for s in bmnist_std])\n",
    "sample_idx = 95\n",
    "to_pil_image(unnormalize(benchmark.trains[2].inputs[sample_idx]), mode=\"RGB\")"
   ]
  },
  {
   "cell_type": "code",
   "execution_count": 5,
   "id": "e8806699",
   "metadata": {},
   "outputs": [
    {
     "data": {
      "image/png": "[encoded data removed]",
      "text/plain": [
       "<PIL.Image.Image image mode=RGB size=280x28>"
      ]
     },
     "execution_count": 5,
     "metadata": {},
     "output_type": "execute_result"
    }
   ],
   "source": [
    "target_label = 0\n",
    "incremental_step = 1\n",
    "# cat_img = torch.cat([img for img in benchmark.trains[incremental_step].inputs[benchmark.trains[incremental_step].targets == target_label][20:30]], dim=2)\n",
    "cat_img = torch.cat([img for img in benchmark.tests[incremental_step].inputs[benchmark.tests[incremental_step].targets == target_label][20:30]], dim=2)\n",
    "to_pil_image(unnormalize(cat_img), mode=\"RGB\")"
   ]
  },
  {
   "cell_type": "code",
   "execution_count": 6,
   "id": "8e73e1c4",
   "metadata": {},
   "outputs": [],
   "source": [
    "from trainers.fair_trainer import FairContinualTrainer\n",
    "from metrics import FairMetricCollector\n",
    "from algorithms.sensitive import Heuristic3\n",
    "\n",
    "backbone = cl.backbones.MLP2Layers(input_dim=n_feature, hidden_dim_1=256, hidden_dim_2=256, output_dim=10)\n",
    "algorithm = Heuristic3(backbone, benchmark, params, requires_memory=True)\n",
    "metric_manager_callback = FairMetricCollector(num_tasks=params['num_tasks'],\n",
    "                                                        eval_interval='epoch',\n",
    "                                                        epochs_per_task=params['epochs_per_task'])\n",
    "\n",
    "# from trainers.FairContinualTrainer import FairContinualTrainer\n",
    "# trainer = FairContinualTrainer(algorithm, params, callbacks=[metric_manager_callback])\n",
    "\n",
    "trainer = FairContinualTrainer(algorithm, params, callbacks=[metric_manager_callback])\n"
   ]
  },
  {
   "cell_type": "code",
   "execution_count": 7,
   "id": "8b8e3d98",
   "metadata": {},
   "outputs": [
    {
     "data": {
      "text/plain": [
       "<function mean at 0x7f43d76f72b0>"
      ]
     },
     "execution_count": 7,
     "metadata": {},
     "output_type": "execute_result"
    }
   ],
   "source": [
    "if params['fairness_agg'] == \"mean\":\n",
    "    agg = np.mean\n",
    "elif params['fairness_agg'] == \"max\":\n",
    "    agg = np.max\n",
    "else:\n",
    "    raise NotImplementedError\n",
    "\n",
    "metric_manager_callback.meters['multiclass_eo'].agg = agg\n",
    "metric_manager_callback.meters['multiclass_eo'].agg\n"
   ]
  },
  {
   "cell_type": "code",
   "execution_count": 8,
   "id": "d9c494b9",
   "metadata": {},
   "outputs": [
    {
     "name": "stdout",
     "output_type": "stream",
     "text": [
      "---------------------------- Task 1 -----------------------\n",
      "[1] Eval metrics for task 1 >> {'accuracy': 95.17935808684707, 'loss': 0.0008248412862737128, 'multiclass_eo': [0.056451612903225756, 0.13184931506849318], 'accuracy_s0': 100.0, 'accuracy_s1': 90.58495360141406, 'classwise_accuracy': {0: array([952, 980]), 1: array([1058, 1135])}}\n",
      "[2] Eval metrics for task 1 >> {'accuracy': 97.99671851119302, 'loss': 0.00031524862627329273, 'multiclass_eo': [0.07191780821917804, 0.006048387096774244], 'accuracy_s0': 100.0, 'accuracy_s1': 96.10169023420238, 'classwise_accuracy': {1: array([1093, 1135]), 0: array([977, 980])}}\n",
      "[3] Eval metrics for task 1 >> {'accuracy': 99.75186550391082, 'loss': 0.00018061498096366864, 'multiclass_eo': [0.008064516129032251, 0.001712328767123239], 'accuracy_s0': 100.0, 'accuracy_s1': 99.51115775519223, 'classwise_accuracy': {0: array([976, 980]), 1: array([1134, 1135])}}\n",
      "[4] Eval metrics for task 1 >> {'accuracy': 99.75186550391082, 'loss': 0.0001338218754910408, 'multiclass_eo': [0.001712328767123239, 0.008064516129032251], 'accuracy_s0': 100.0, 'accuracy_s1': 99.51115775519223, 'classwise_accuracy': {1: array([1134, 1135]), 0: array([976, 980])}}\n",
      "[5] Eval metrics for task 1 >> {'accuracy': 99.80288591207407, 'loss': 0.00011518216883459836, 'multiclass_eo': [0.006048387096774244, 0.001712328767123239], 'accuracy_s0': 100.0, 'accuracy_s1': 99.61196420680513, 'classwise_accuracy': {0: array([977, 980]), 1: array([1134, 1135])}}\n",
      "training_task_end\n",
      "---------------------------- Task 2 -----------------------\n",
      "A_np.shape=(4, 10000)\n",
      "b_np.shape=(4,)\n",
      "### Scipy minsum LP solver ###\n",
      "Elapsed time:0.051\n",
      "Loss difference:[7.95507528e-02 3.47715586e-02 0.00000000e+00 1.44328993e-15]\n",
      "len(updated_seq_indices)=1930\n",
      "[6] Eval metrics for task 1 >> {'accuracy': 90.16834487098804, 'loss': 0.001543922697680498, 'multiclass_eo': [0.155241935483871, 0.22945205479452058], 'accuracy_s0': 100.0, 'accuracy_s1': 80.76530048608042, 'classwise_accuracy': {0: array([903, 980]), 1: array([1001, 1135])}}\n",
      "[6] Eval metrics for task 2 >> {'accuracy': 56.82199324583621, 'loss': 0.004051632938375669, 'multiclass_eo': [0.7821969696969697, 0.5945475091816556], 'accuracy_s0': 91.31274131274132, 'accuracy_s1': 22.475517368810053, 'classwise_accuracy': {2: array([ 619, 1032]), 3: array([ 542, 1010])}}\n",
      "[7] Eval metrics for task 1 >> {'accuracy': 94.81052773532322, 'loss': 0.0010592137597695028, 'multiclass_eo': [0.08669354838709675, 0.11291114536459235], 'accuracy_s0': 99.90925589836661, 'accuracy_s1': 89.92902121078214, 'classwise_accuracy': {0: array([937, 980]), 1: array([1067, 1135])}}\n",
      "[7] Eval metrics for task 2 >> {'accuracy': 52.20546473251977, 'loss': 0.004589895893847907, 'multiclass_eo': [0.185139843676429, 0.6313131313131313], 'accuracy_s0': 63.84598884598884, 'accuracy_s1': 41.53732446415373, 'classwise_accuracy': {3: array([ 483, 1010]), 2: array([ 584, 1032])}}\n",
      "[8] Eval metrics for task 1 >> {'accuracy': 94.34909646678055, 'loss': 0.0011792870348508759, 'multiclass_eo': [0.08865969074913349, 0.12137023593466423], 'accuracy_s0': 99.71520601160924, 'accuracy_s1': 89.21370967741935, 'classwise_accuracy': {0: array([934, 980]), 1: array([1060, 1135])}}\n",
      "[8] Eval metrics for task 2 >> {'accuracy': 63.99493437715864, 'loss': 0.003549582490024324, 'multiclass_eo': [0.2210503186112942, 0.4586038961038961], 'accuracy_s0': 70.3426640926641, 'accuracy_s1': 58.464985218033995, 'classwise_accuracy': {3: array([ 682, 1010]), 2: array([ 624, 1032])}}\n",
      "[9] Eval metrics for task 1 >> {'accuracy': 94.15198237885463, 'loss': 0.0010958535944598222, 'multiclass_eo': [0.09062583311117034, 0.12308256470178747], 'accuracy_s0': 99.61190022648528, 'accuracy_s1': 88.92648033583738, 'classwise_accuracy': {0: array([931, 980]), 1: array([1059, 1135])}}\n",
      "[9] Eval metrics for task 2 >> {'accuracy': 67.89191419141915, 'loss': 0.003188342410600384, 'multiclass_eo': [0.22765012399158735, 0.3412698412698413], 'accuracy_s0': 71.07732732732732, 'accuracy_s1': 65.39634146341463, 'classwise_accuracy': {3: array([ 656, 1010]), 2: array([ 731, 1032])}}\n",
      "[10] Eval metrics for task 1 >> {'accuracy': 93.60469297851299, 'loss': 0.0011237905310119015, 'multiclass_eo': [0.12298001143624293, 0.10877099440149296], 'accuracy_s0': 99.52115612485188, 'accuracy_s1': 87.93360583296509, 'classwise_accuracy': {1: array([1057, 1135]), 0: array([922, 980])}}\n",
      "[10] Eval metrics for task 2 >> {'accuracy': 71.67539719088187, 'loss': 0.0029315961329640415, 'multiclass_eo': [0.24443607370436637, 0.32485569985569984], 'accuracy_s0': 74.03206778206778, 'accuracy_s1': 70.0110864745011, 'classwise_accuracy': {3: array([ 752, 1010]), 2: array([ 711, 1032])}}\n",
      "training_task_end\n",
      "---------------------------- Task 3 -----------------------\n",
      "A_np.shape=(6, 10000)\n",
      "b_np.shape=(6,)\n",
      "### Scipy minsum LP solver ###\n",
      "Elapsed time:0.111\n",
      "Loss difference:[-0.1054998  -0.01598364  1.00644252 -0.388903    0.          0.        ]\n",
      "len(updated_seq_indices)=2914\n",
      "[11] Eval metrics for task 1 >> {'accuracy': 88.19720399172886, 'loss': 0.0019270132619438442, 'multiclass_eo': [0.2075613169821381, 0.24304813166596229], 'accuracy_s0': 99.70264432811867, 'accuracy_s1': 77.17217189571366, 'classwise_accuracy': {0: array([873, 980]), 1: array([ 991, 1135])}}\n",
      "[11] Eval metrics for task 2 >> {'accuracy': 84.87806048046664, 'loss': 0.0018510371884449689, 'multiclass_eo': [0.2176226551226551, 0.38414634146341464], 'accuracy_s0': 99.8015873015873, 'accuracy_s1': 69.71313747228382, 'classwise_accuracy': {2: array([ 913, 1032]), 3: array([ 821, 1010])}}\n",
      "[11] Eval metrics for task 3 >> {'accuracy': 51.148246919894426, 'loss': 0.00528161960833864, 'multiclass_eo': [0.6108513406235323, 0.27248713188123597], 'accuracy_s0': 72.74601695411225, 'accuracy_s1': 28.57909332887384, 'classwise_accuracy': {4: array([573, 982]), 5: array([392, 892])}}\n",
      "[12] Eval metrics for task 1 >> {'accuracy': 87.81219095567742, 'loss': 0.0020807781822574337, 'multiclass_eo': [0.22208997339830439, 0.22157424686750204], 'accuracy_s0': 99.13305635133716, 'accuracy_s1': 76.94984533804684, 'classwise_accuracy': {1: array([ 995, 1135]), 0: array([862, 980])}}\n",
      "[12] Eval metrics for task 2 >> {'accuracy': 83.93113439250902, 'loss': 0.0018573915777430595, 'multiclass_eo': [0.4309963273377908, 0.21013708513708518], 'accuracy_s0': 99.80426855426856, 'accuracy_s1': 67.74759793052476, 'classwise_accuracy': {3: array([ 796, 1010]), 2: array([ 919, 1032])}}\n",
      "[12] Eval metrics for task 3 >> {'accuracy': 72.53100654836382, 'loss': 0.003568358297917988, 'multiclass_eo': [0.19027708594343562, 0.4584886760849054], 'accuracy_s0': 88.37522340621891, 'accuracy_s1': 55.936935304801864, 'classwise_accuracy': {5: array([679, 892]), 4: array([677, 982])}}\n",
      "[13] Eval metrics for task 1 >> {'accuracy': 87.01901465431988, 'loss': 0.0022302756072781612, 'multiclass_eo': [0.2598806984804053, 0.2152406583298112], 'accuracy_s0': 99.13305635133716, 'accuracy_s1': 75.37698851082634, 'classwise_accuracy': {0: array([843, 980]), 1: array([ 999, 1135])}}\n",
      "[13] Eval metrics for task 2 >> {'accuracy': 83.9501304781641, 'loss': 0.0019344892954849706, 'multiclass_eo': [0.2364718614718615, 0.3864849169727219], 'accuracy_s0': 99.41280566280565, 'accuracy_s1': 68.2649667405765, 'classwise_accuracy': {2: array([ 901, 1032]), 3: array([ 814, 1010])}}\n",
      "[13] Eval metrics for task 3 >> {'accuracy': 79.64618742750677, 'loss': 0.002712557002854322, 'multiclass_eo': [0.15071422461722694, 0.3116705528331608], 'accuracy_s0': 90.96651045113424, 'accuracy_s1': 67.84727157861485, 'classwise_accuracy': {5: array([726, 892]), 4: array([765, 982])}}\n",
      "[14] Eval metrics for task 1 >> {'accuracy': 87.60114177829723, 'loss': 0.0021405772255385738, 'multiclass_eo': [0.21685043383139002, 0.2316548920287923], 'accuracy_s0': 99.04231224970377, 'accuracy_s1': 76.61704595669465, 'classwise_accuracy': {1: array([ 996, 1135]), 0: array([857, 980])}}\n",
      "[14] Eval metrics for task 2 >> {'accuracy': 82.9158032082278, 'loss': 0.0020799108221762094, 'multiclass_eo': [0.23818542568542567, 0.4110791976645636], 'accuracy_s0': 99.02134277134277, 'accuracy_s1': 66.5581116038433, 'classwise_accuracy': {2: array([ 896, 1032]), 3: array([ 798, 1010])}}\n",
      "[14] Eval metrics for task 3 >> {'accuracy': 83.56721434246938, 'loss': 0.0022288681253425087, 'multiclass_eo': [0.17380891283893596, 0.23624982855147814], 'accuracy_s0': 93.68069905325284, 'accuracy_s1': 73.17776198373214, 'classwise_accuracy': {5: array([736, 892]), 4: array([831, 982])}}\n",
      "[15] Eval metrics for task 1 >> {'accuracy': 86.90798345770025, 'loss': 0.002240904933171915, 'multiclass_eo': [0.2596586530094722, 0.2196081045054652], 'accuracy_s0': 99.14561803482773, 'accuracy_s1': 75.18228015908086, 'classwise_accuracy': {1: array([ 971, 1135]), 0: array([865, 980])}}\n",
      "[15] Eval metrics for task 2 >> {'accuracy': 81.79196408012895, 'loss': 0.0023173049282023536, 'multiclass_eo': [0.26470057720057727, 0.43333490284709797], 'accuracy_s0': 99.11786786786787, 'accuracy_s1': 64.2160938654841, 'classwise_accuracy': {2: array([ 882, 1032]), 3: array([ 789, 1010])}}\n",
      "[15] Eval metrics for task 3 >> {'accuracy': 85.59919355575244, 'loss': 0.0018959080873965709, 'multiclass_eo': [0.17228394369007094, 0.15868918776132468], 'accuracy_s0': 93.79617249436139, 'accuracy_s1': 77.2475159217916, 'classwise_accuracy': {4: array([861, 982]), 5: array([745, 892])}}\n",
      "training_task_end\n",
      "---------------------------- Task 4 -----------------------\n",
      "A_np.shape=(8, 10000)\n",
      "b_np.shape=(8,)\n",
      "### Scipy minsum LP solver ###\n",
      "Elapsed time:0.047\n",
      "Loss difference:[0.01230394 0.02935722 0.         0.01081317 1.73040902 0.\n",
      " 2.7761088  3.37012928]\n",
      "len(updated_seq_indices)=1580\n",
      "[16] Eval metrics for task 1 >> {'accuracy': 74.00184302796009, 'loss': 0.0032990838055351386, 'multiclass_eo': [0.38493068515062645, 0.5881181165005096], 'accuracy_s0': 98.87338572992755, 'accuracy_s1': 50.220945647370755, 'classwise_accuracy': {0: array([783, 980]), 1: array([ 773, 1135])}}\n",
      "[16] Eval metrics for task 2 >> {'accuracy': 71.44245529204083, 'loss': 0.0036653657968317493, 'multiclass_eo': [0.4176587301587301, 0.5781617854788587], 'accuracy_s0': 96.2087087087087, 'accuracy_s1': 46.417682926829265, 'classwise_accuracy': {2: array([ 791, 1032]), 3: array([ 669, 1010])}}\n",
      "[16] Eval metrics for task 3 >> {'accuracy': 67.47497556921446, 'loss': 0.0038851036460575195, 'multiclass_eo': [0.5950656076343428, 0.7035728841190056], 'accuracy_s0': 99.78706067195189, 'accuracy_s1': 34.85513608428446, 'classwise_accuracy': {4: array([701, 982]), 5: array([567, 892])}}\n",
      "[16] Eval metrics for task 4 >> {'accuracy': 45.870734263177994, 'loss': 0.005096915205199673, 'multiclass_eo': [0.43106796116504853, 0.5745280839620462], 'accuracy_s0': 49.37629937629938, 'accuracy_s1': 42.20329323644949, 'classwise_accuracy': {7: array([ 222, 1028]), 6: array([672, 958])}}\n",
      "[17] Eval metrics for task 1 >> {'accuracy': 84.466196170098, 'loss': 0.002432064764888574, 'multiclass_eo': [0.2955150038535167, 0.26789522793921616], 'accuracy_s0': 98.84826236294641, 'accuracy_s1': 70.67775077330977, 'classwise_accuracy': {1: array([ 948, 1135]), 0: array([837, 980])}}\n",
      "[17] Eval metrics for task 2 >> {'accuracy': 72.68852175915266, 'loss': 0.0032587042634797726, 'multiclass_eo': [0.3436147186147186, 0.5348667482813825], 'accuracy_s0': 94.50611325611325, 'accuracy_s1': 50.58203991130821, 'classwise_accuracy': {2: array([ 783, 1032]), 3: array([ 702, 1010])}}\n",
      "[17] Eval metrics for task 3 >> {'accuracy': 75.92745654973378, 'loss': 0.002617615423182159, 'multiclass_eo': [0.5041126863593477, 0.4084086803825969], 'accuracy_s0': 98.47340959532524, 'accuracy_s1': 52.847341258228, 'classwise_accuracy': {4: array([736, 982]), 5: array([686, 892])}}\n",
      "[17] Eval metrics for task 4 >> {'accuracy': 61.111427016400896, 'loss': 0.004593509441656168, 'multiclass_eo': [0.20770407562860393, 0.6873786407766991], 'accuracy_s0': 49.064449064449065, 'accuracy_s1': 73.04817732185383, 'classwise_accuracy': {6: array([841, 958]), 7: array([ 354, 1028])}}\n",
      "[18] Eval metrics for task 1 >> {'accuracy': 83.81439359884924, 'loss': 0.002304738717721709, 'multiclass_eo': [0.308117835243935, 0.2732547298809139], 'accuracy_s0': 98.64165079269847, 'accuracy_s1': 69.57302253645604, 'classwise_accuracy': {0: array([813, 980]), 1: array([ 961, 1135])}}\n",
      "[18] Eval metrics for task 2 >> {'accuracy': 75.25750249443549, 'loss': 0.003165220653858988, 'multiclass_eo': [0.471042471042471, 0.338023088023088], 'accuracy_s0': 95.37752037752037, 'accuracy_s1': 54.92424242424243, 'classwise_accuracy': {3: array([ 749, 1010]), 2: array([ 788, 1032])}}\n",
      "[18] Eval metrics for task 3 >> {'accuracy': 81.76550099093093, 'loss': 0.002264461417462808, 'multiclass_eo': [0.40231590585086263, 0.2601297126497507], 'accuracy_s0': 98.06553849339798, 'accuracy_s1': 64.94325756836732, 'classwise_accuracy': {4: array([778, 982]), 5: array([752, 892])}}\n",
      "[18] Eval metrics for task 4 >> {'accuracy': 65.48753889019764, 'loss': 0.00424718712751959, 'multiclass_eo': [0.8058252427184466, 0.11769679694208002], 'accuracy_s0': 48.232848232848234, 'accuracy_s1': 82.63927052166656, 'classwise_accuracy': {7: array([ 415, 1028]), 6: array([868, 958])}}\n",
      "[19] Eval metrics for task 1 >> {'accuracy': 83.90946687044863, 'loss': 0.0024730711259458647, 'multiclass_eo': [0.2856904825379898, 0.2609607687144171], 'accuracy_s0': 97.85288956217846, 'accuracy_s1': 70.52032699955811, 'classwise_accuracy': {0: array([814, 980]), 1: array([ 962, 1135])}}\n",
      "[19] Eval metrics for task 2 >> {'accuracy': 72.10923708649935, 'loss': 0.0035711025981548135, 'multiclass_eo': [0.5268386853752707, 0.3972763347763347], 'accuracy_s0': 95.1040326040326, 'accuracy_s1': 48.89828159645233, 'classwise_accuracy': {3: array([ 704, 1010]), 2: array([ 769, 1032])}}\n",
      "[19] Eval metrics for task 3 >> {'accuracy': 81.05267003370078, 'loss': 0.002238661480178955, 'multiclass_eo': [0.41992211041700434, 0.24666535847081972], 'accuracy_s0': 97.42672050925363, 'accuracy_s1': 64.09734706486243, 'classwise_accuracy': {4: array([764, 982]), 5: array([752, 892])}}\n",
      "[19] Eval metrics for task 4 >> {'accuracy': 68.23726879117487, 'loss': 0.004162226588824485, 'multiclass_eo': [0.8718446601941747, 0.056969887158566435], 'accuracy_s0': 47.81704781704782, 'accuracy_s1': 88.56078646882824, 'classwise_accuracy': {7: array([ 449, 1028]), 6: array([889, 958])}}\n",
      "[20] Eval metrics for task 1 >> {'accuracy': 85.29623303065719, 'loss': 0.0025240964359707304, 'multiclass_eo': [0.25421400691146856, 0.2535823780325247], 'accuracy_s0': 98.25355101918376, 'accuracy_s1': 72.86373177198409, 'classwise_accuracy': {1: array([ 968, 1135]), 0: array([836, 980])}}\n",
      "[20] Eval metrics for task 2 >> {'accuracy': 73.51331644792386, 'loss': 0.00360605538066524, 'multiclass_eo': [0.47500549329817626, 0.3596681096681097], 'accuracy_s0': 94.28356928356929, 'accuracy_s1': 52.54988913525499, 'classwise_accuracy': {3: array([ 749, 1010]), 2: array([ 752, 1032])}}\n",
      "[20] Eval metrics for task 3 >> {'accuracy': 84.1529823824354, 'loss': 0.002077855829749825, 'multiclass_eo': [0.28467936009177175, 0.27063050008302014], 'accuracy_s0': 97.91404994395148, 'accuracy_s1': 70.14855693521189, 'classwise_accuracy': {4: array([837, 982]), 5: array([741, 892])}}\n",
      "[20] Eval metrics for task 4 >> {'accuracy': 68.0795756399113, 'loss': 0.004020233828975835, 'multiclass_eo': [0.9009708737864077, 0.004925099264721955], 'accuracy_s0': 45.63409563409564, 'accuracy_s1': 90.43638436017993, 'classwise_accuracy': {7: array([ 464, 1028]), 6: array([872, 958])}}\n",
      "training_task_end\n",
      "---------------------------- Task 5 -----------------------\n",
      "A_np.shape=(10, 10000)\n",
      "b_np.shape=(10,)\n",
      "### Scipy minsum LP solver ###\n",
      "Elapsed time:0.096\n",
      "Loss difference:[ 0.          0.07583044  0.0526742   0.          0.16451399  0.20532571\n",
      " -0.40273804 -2.45110764  0.88964288 -1.57664343]\n",
      "len(updated_seq_indices)=1677\n",
      "[21] Eval metrics for task 1 >> {'accuracy': 76.73514339656568, 'loss': 0.0030606414973031264, 'multiclass_eo': [0.4394161556918156, 0.442877831091664], 'accuracy_s0': 99.24892381995171, 'accuracy_s1': 55.134224480777725, 'classwise_accuracy': {0: array([758, 980]), 1: array([ 864, 1135])}}\n",
      "[21] Eval metrics for task 2 >> {'accuracy': 65.75159260112058, 'loss': 0.00481749018772809, 'multiclass_eo': [0.40575396825396826, 0.6231911353862574], 'accuracy_s0': 91.31006006006007, 'accuracy_s1': 39.862804878048784, 'classwise_accuracy': {2: array([ 742, 1032]), 3: array([ 602, 1010])}}\n",
      "[21] Eval metrics for task 3 >> {'accuracy': 72.400747079722, 'loss': 0.0037800810571159598, 'multiclass_eo': [0.48687223863971707, 0.5562951893613488], 'accuracy_s0': 98.33992860004773, 'accuracy_s1': 46.18155719999443, 'classwise_accuracy': {4: array([746, 982]), 5: array([614, 892])}}\n",
      "[21] Eval metrics for task 4 >> {'accuracy': 64.4316141767463, 'loss': 0.004143038034919285, 'multiclass_eo': [0.7844660194174757, 0.6394129979035639], 'accuracy_s0': 100.0, 'accuracy_s1': 28.80604913394802, 'classwise_accuracy': {7: array([ 624, 1028]), 6: array([653, 958])}}\n",
      "[21] Eval metrics for task 5 >> {'accuracy': 58.411005264732395, 'loss': 0.004922855158857306, 'multiclass_eo': [0.5547572204296845, 0.6357394403323422], 'accuracy_s0': 88.44840154118505, 'accuracy_s1': 28.923568503083718, 'classwise_accuracy': {9: array([ 581, 1009]), 8: array([577, 974])}}\n",
      "[22] Eval metrics for task 1 >> {'accuracy': 79.40393778656836, 'loss': 0.0029265134892565137, 'multiclass_eo': [0.40700813116502266, 0.3660281431022052], 'accuracy_s0': 99.12049466784659, 'accuracy_s1': 60.46868095448519, 'classwise_accuracy': {0: array([768, 980]), 1: array([ 913, 1135])}}\n",
      "[22] Eval metrics for task 2 >> {'accuracy': 70.1912080742958, 'loss': 0.003973981250628435, 'multiclass_eo': [0.569827667388643, 0.38510101010101017], 'accuracy_s0': 93.92160017160018, 'accuracy_s1': 46.175166297117514, 'classwise_accuracy': {3: array([ 677, 1010]), 2: array([ 757, 1032])}}\n",
      "[22] Eval metrics for task 3 >> {'accuracy': 73.2252290100737, 'loss': 0.0032345176760898457, 'multiclass_eo': [0.43356733458854435, 0.5602600290822], 'accuracy_s0': 97.99350827672208, 'accuracy_s1': 48.30214009318487, 'classwise_accuracy': {4: array([771, 982]), 5: array([606, 892])}}\n",
      "[22] Eval metrics for task 4 >> {'accuracy': 77.68322055514487, 'loss': 0.0029899749871107025, 'multiclass_eo': [0.4214010817784404, 0.4679611650485437], 'accuracy_s0': 99.8960498960499, 'accuracy_s1': 55.427937554700705, 'classwise_accuracy': {6: array([755, 958]), 7: array([ 787, 1028])}}\n",
      "[22] Eval metrics for task 5 >> {'accuracy': 63.01215141752971, 'loss': 0.004998173728111833, 'multiclass_eo': [0.7714999606516094, 0.3374707408110331], 'accuracy_s0': 91.3433302093096, 'accuracy_s1': 35.894795136177464, 'classwise_accuracy': {9: array([ 534, 1009]), 8: array([712, 974])}}\n",
      "[23] Eval metrics for task 1 >> {'accuracy': 79.93729209745572, 'loss': 0.0030023280187701502, 'multiclass_eo': [0.39697747267395367, 0.3556516172339208], 'accuracy_s0': 99.13305635133716, 'accuracy_s1': 61.50160185594344, 'classwise_accuracy': {0: array([775, 980]), 1: array([ 917, 1135])}}\n",
      "[23] Eval metrics for task 2 >> {'accuracy': 69.29167626064931, 'loss': 0.004243139713915042, 'multiclass_eo': [0.3854617604617605, 0.5870059955425809], 'accuracy_s0': 93.44969969969969, 'accuracy_s1': 44.82631189948263, 'classwise_accuracy': {2: array([ 765, 1032]), 3: array([ 651, 1010])}}\n",
      "[23] Eval metrics for task 3 >> {'accuracy': 71.62626834592164, 'loss': 0.003216512747737107, 'multiclass_eo': [0.5510221537935165, 0.4829736031621342], 'accuracy_s0': 97.33668273840877, 'accuracy_s1': 45.63689489062624, 'classwise_accuracy': {5: array([602, 892]), 4: array([744, 982])}}\n",
      "[23] Eval metrics for task 4 >> {'accuracy': 81.44724336531198, 'loss': 0.0024451815709846856, 'multiclass_eo': [0.377393358525434, 0.3572815533980582], 'accuracy_s0': 99.7920997920998, 'accuracy_s1': 63.05835419592518, 'classwise_accuracy': {6: array([774, 958]), 7: array([ 844, 1028])}}\n",
      "[23] Eval metrics for task 5 >> {'accuracy': 64.49373502949838, 'loss': 0.005006695869770906, 'multiclass_eo': [0.18668944138672738, 0.8035688990320295], 'accuracy_s0': 89.9500156201187, 'accuracy_s1': 40.437098599180864, 'classwise_accuracy': {8: array([737, 974]), 9: array([ 538, 1009])}}\n",
      "[24] Eval metrics for task 1 >> {'accuracy': 80.96219545086758, 'loss': 0.003014904781999881, 'multiclass_eo': [0.37676619568115166, 0.3281518036944038], 'accuracy_s0': 98.9390064645798, 'accuracy_s1': 63.693106495802034, 'classwise_accuracy': {0: array([783, 980]), 1: array([ 931, 1135])}}\n",
      "[24] Eval metrics for task 2 >> {'accuracy': 70.28283060864227, 'loss': 0.004202159740081847, 'multiclass_eo': [0.5601751577361334, 0.37184343434343436], 'accuracy_s0': 93.43897468897468, 'accuracy_s1': 46.8380450849963, 'classwise_accuracy': {3: array([ 672, 1010]), 2: array([ 764, 1032])}}\n",
      "[24] Eval metrics for task 3 >> {'accuracy': 72.57872649393113, 'loss': 0.0030847235066913618, 'multiclass_eo': [0.4717639870821332, 0.522307254952276], 'accuracy_s0': 97.28266007590184, 'accuracy_s1': 47.57909797418138, 'classwise_accuracy': {4: array([755, 982]), 5: array([609, 892])}}\n",
      "[24] Eval metrics for task 4 >> {'accuracy': 80.74853984062128, 'loss': 0.0024806329490915167, 'multiclass_eo': [0.37086621624179106, 0.387875538818935], 'accuracy_s0': 99.69463390516023, 'accuracy_s1': 61.75754615212392, 'classwise_accuracy': {7: array([ 835, 1028]), 6: array([769, 958])}}\n",
      "[24] Eval metrics for task 5 >> {'accuracy': 66.22812551512772, 'loss': 0.004811348244209693, 'multiclass_eo': [0.12917905569262556, 0.7804477846856064], 'accuracy_s0': 89.669894824534, 'accuracy_s1': 44.1885528056224, 'classwise_accuracy': {8: array([737, 974]), 9: array([ 573, 1009])}}\n",
      "[25] Eval metrics for task 1 >> {'accuracy': 79.56621415085858, 'loss': 0.0031343113727885217, 'multiclass_eo': [0.34164532730030084, 0.4151226339642762], 'accuracy_s0': 98.86082404643699, 'accuracy_s1': 61.02242598320813, 'classwise_accuracy': {1: array([ 919, 1135]), 0: array([766, 980])}}\n",
      "[25] Eval metrics for task 2 >> {'accuracy': 70.28071993245837, 'loss': 0.0044219818743389105, 'multiclass_eo': [0.5602771761308347, 0.3952020202020202], 'accuracy_s0': 94.03689403689404, 'accuracy_s1': 46.262934220251296, 'classwise_accuracy': {3: array([ 670, 1010]), 2: array([ 766, 1032])}}\n",
      "[25] Eval metrics for task 3 >> {'accuracy': 72.78844309681898, 'loss': 0.0032068106128159304, 'multiclass_eo': [0.4959496585576711, 0.4855318570846352], 'accuracy_s0': 97.12374341036065, 'accuracy_s1': 48.04966762824533, 'classwise_accuracy': {4: array([736, 982]), 5: array([630, 892])}}\n",
      "[25] Eval metrics for task 4 >> {'accuracy': 80.24195186144935, 'loss': 0.002585873262879832, 'multiclass_eo': [0.3883040935672515, 0.35440229779852417], 'accuracy_s0': 98.79150405466194, 'accuracy_s1': 61.656184486373164, 'classwise_accuracy': {7: array([ 816, 1028]), 6: array([777, 958])}}\n",
      "[25] Eval metrics for task 5 >> {'accuracy': 70.49394260688709, 'loss': 0.00447340397539009, 'multiclass_eo': [0.7467104745415912, 0.04917230762742242], 'accuracy_s0': 91.09236696865563, 'accuracy_s1': 51.298227860204946, 'classwise_accuracy': {9: array([ 599, 1009]), 8: array([795, 974])}}\n",
      "training_task_end\n",
      "final avg-acc 74.67425432969449\n",
      "final avg-forget 11.139666591954882\n"
     ]
    }
   ],
   "source": [
    "trainer.run()\n",
    "print(\"final avg-acc\", metric_manager_callback.meters['accuracy'].compute_final())\n",
    "print(\"final avg-forget\", metric_manager_callback.meters['forgetting'].compute_final())"
   ]
  },
  {
   "cell_type": "code",
   "execution_count": 9,
   "id": "5ebde5d0",
   "metadata": {},
   "outputs": [
    {
     "data": {
      "text/plain": [
       "array([[99.803,  0.   ,  0.   ,  0.   ,  0.   ],\n",
       "       [93.605, 71.675,  0.   ,  0.   ,  0.   ],\n",
       "       [86.908, 81.792, 85.599,  0.   ,  0.   ],\n",
       "       [85.296, 73.513, 84.153, 68.08 ,  0.   ],\n",
       "       [79.566, 70.281, 72.788, 80.242, 70.494]])"
      ]
     },
     "execution_count": 9,
     "metadata": {},
     "output_type": "execute_result"
    }
   ],
   "source": [
    "metric_manager_callback.meters['accuracy'].get_data()"
   ]
  },
  {
   "cell_type": "code",
   "execution_count": 10,
   "id": "fa1b0074",
   "metadata": {},
   "outputs": [
    {
     "data": {
      "text/plain": [
       "[99.803, 82.64, 84.766, 77.761, 74.674]"
      ]
     },
     "execution_count": 10,
     "metadata": {},
     "output_type": "execute_result"
    }
   ],
   "source": [
    "[np.round(x, 3) for x in metric_manager_callback.meters['accuracy'].compute_overall()]"
   ]
  },
  {
   "cell_type": "code",
   "execution_count": 11,
   "id": "4e893eff",
   "metadata": {},
   "outputs": [
    {
     "data": {
      "text/plain": [
       "83.92881851324503"
      ]
     },
     "execution_count": 11,
     "metadata": {},
     "output_type": "execute_result"
    }
   ],
   "source": [
    "np.mean(metric_manager_callback.meters['accuracy'].compute_overall())"
   ]
  },
  {
   "cell_type": "code",
   "execution_count": 12,
   "id": "b82bd073",
   "metadata": {},
   "outputs": [
    {
     "data": {
      "text/plain": [
       "[0.004, 0.2, 0.251, 0.35, 0.423]"
      ]
     },
     "execution_count": 12,
     "metadata": {},
     "output_type": "execute_result"
    }
   ],
   "source": [
    "[np.round(x, 3) for x in metric_manager_callback.meters['multiclass_eo'].compute_overall()]"
   ]
  },
  {
   "cell_type": "code",
   "execution_count": 13,
   "id": "4a7973e4",
   "metadata": {},
   "outputs": [
    {
     "data": {
      "text/plain": [
       "0.24584230865397574"
      ]
     },
     "execution_count": 13,
     "metadata": {},
     "output_type": "execute_result"
    }
   ],
   "source": [
    "np.mean(metric_manager_callback.meters['multiclass_eo'].compute_overall())"
   ]
  },
  {
   "cell_type": "code",
   "execution_count": 14,
   "id": "61271a48",
   "metadata": {},
   "outputs": [
    {
     "name": "stdout",
     "output_type": "stream",
     "text": [
      "incremental_step=2\n",
      "sensitive samples / all samples = 2194 / 12089\n",
      "sensitive samples / selected samples = 1265 / 4017\n"
     ]
    }
   ],
   "source": [
    "incremental_step = 2\n",
    "\n",
    "print(f\"{incremental_step=}\")\n",
    "print(f\"sensitive samples / all samples = {(benchmark.trains[incremental_step].sensitive != benchmark.trains[incremental_step].targets).sum().item()} / {benchmark.trains[incremental_step].sensitive.shape[0]}\")\n",
    "one_idx = benchmark.trains[incremental_step].sample_weight > 0.9\n",
    "print(f\"sensitive samples / selected samples = {(benchmark.trains[incremental_step].sensitive[one_idx] != benchmark.trains[incremental_step].targets[one_idx]).sum().item()} / {one_idx.sum().item()}\")\n"
   ]
  },
  {
   "cell_type": "code",
   "execution_count": 15,
   "id": "b32febda",
   "metadata": {},
   "outputs": [
    {
     "name": "stdout",
     "output_type": "stream",
     "text": [
      "incremental_step=2\n",
      "2 : 5958 --> 2118\n",
      "3 : 6131 --> 1899\n",
      "incremental_step=3\n",
      "4 : 5842 --> 2403\n",
      "5 : 5421 --> 1772\n",
      "incremental_step=4\n",
      "6 : 5918 --> 1908\n",
      "7 : 6265 --> 1854\n",
      "incremental_step=5\n",
      "8 : 5851 --> 2019\n",
      "9 : 5949 --> 1456\n"
     ]
    }
   ],
   "source": [
    "step_class = 2\n",
    "for i in range(2, 6):\n",
    "    incremental_step = i\n",
    "    print(f\"{incremental_step=}\")\n",
    "    one_idx = benchmark.trains[incremental_step].sample_weight > 0.9\n",
    "\n",
    "    print(f\"{2*i-2} : {(benchmark.trains[incremental_step].targets == (2*i-2)).sum().item()} --> {(benchmark.trains[incremental_step].targets[one_idx] == (2*i-2)).sum().item()}\")\n",
    "    print(f\"{2*i-1} : {(benchmark.trains[incremental_step].targets == (2*i-1)).sum().item()} --> {(benchmark.trains[incremental_step].targets[one_idx] == (2*i-1)).sum().item()}\")\n"
   ]
  },
  {
   "cell_type": "code",
   "execution_count": 16,
   "id": "0880e76a",
   "metadata": {},
   "outputs": [
    {
     "name": "stdout",
     "output_type": "stream",
     "text": [
      "0.006 0.002 \n",
      "0.123 0.109 0.244 0.325 \n",
      "0.26 0.22 0.265 0.433 0.172 0.159 \n",
      "0.254 0.254 0.475 0.36 0.285 0.271 0.901 0.005 \n",
      "0.342 0.415 0.56 0.395 0.496 0.486 0.388 0.354 0.747 0.049 \n"
     ]
    }
   ],
   "source": [
    "for eos in metric_manager_callback.meters['multiclass_eo'].get_data():\n",
    "    for eo in eos:\n",
    "        print(round(eo, 3),end=\" \")\n",
    "    print()"
   ]
  },
  {
   "cell_type": "code",
   "execution_count": 17,
   "id": "f6233f9b",
   "metadata": {},
   "outputs": [
    {
     "data": {
      "text/plain": [
       "[{0: array([977, 980]), 1: array([1134, 1135])},\n",
       " {1: array([1057, 1135]),\n",
       "  0: array([922, 980]),\n",
       "  3: array([ 752, 1010]),\n",
       "  2: array([ 711, 1032])},\n",
       " {1: array([ 971, 1135]),\n",
       "  0: array([865, 980]),\n",
       "  2: array([ 882, 1032]),\n",
       "  3: array([ 789, 1010]),\n",
       "  4: array([861, 982]),\n",
       "  5: array([745, 892])},\n",
       " {1: array([ 968, 1135]),\n",
       "  0: array([836, 980]),\n",
       "  3: array([ 749, 1010]),\n",
       "  2: array([ 752, 1032]),\n",
       "  4: array([837, 982]),\n",
       "  5: array([741, 892]),\n",
       "  7: array([ 464, 1028]),\n",
       "  6: array([872, 958])},\n",
       " {1: array([ 919, 1135]),\n",
       "  0: array([766, 980]),\n",
       "  3: array([ 670, 1010]),\n",
       "  2: array([ 766, 1032]),\n",
       "  4: array([736, 982]),\n",
       "  5: array([630, 892]),\n",
       "  7: array([ 816, 1028]),\n",
       "  6: array([777, 958]),\n",
       "  9: array([ 599, 1009]),\n",
       "  8: array([795, 974])}]"
      ]
     },
     "execution_count": 17,
     "metadata": {},
     "output_type": "execute_result"
    }
   ],
   "source": [
    "metric_manager_callback.meters['classwise_accuracy'].get_data()"
   ]
  },
  {
   "cell_type": "code",
   "execution_count": null,
   "id": "cdbf418f",
   "metadata": {},
   "outputs": [],
   "source": []
  }
 ],
 "metadata": {
  "kernelspec": {
   "display_name": "cil",
   "language": "python",
   "name": "python3"
  },
  "language_info": {
   "codemirror_mode": {
    "name": "ipython",
    "version": 3
   },
   "file_extension": ".py",
   "mimetype": "text/x-python",
   "name": "python",
   "nbconvert_exporter": "python",
   "pygments_lexer": "ipython3",
   "version": "3.9.18"
  }
 },
 "nbformat": 4,
 "nbformat_minor": 5
}
