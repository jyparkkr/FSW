{
 "cells": [
  {
   "cell_type": "code",
   "execution_count": 1,
   "id": "b0c3b92f",
   "metadata": {},
   "outputs": [
    {
     "name": "stdout",
     "output_type": "stream",
     "text": [
      "output_dir=./outputs/dataset=BiasedMNIST/seed=1_epoch=5_lr=0.001_tau=5_alpha=0.002_lambda_1.0_sigold_0.0\n"
     ]
    }
   ],
   "source": [
    "from torchvision.datasets import MNIST, FashionMNIST, CIFAR10\n",
    "import torchvision\n",
    "import numpy as np\n",
    "import random\n",
    "\n",
    "import torch\n",
    "import torch.nn.functional as F\n",
    "import cl_gym as cl\n",
    "\n",
    "import sys\n",
    "import os\n",
    "\n",
    "seed = 1\n",
    "\n",
    "np.random.seed(seed)\n",
    "torch.manual_seed(seed)\n",
    "np.random.seed(seed)\n",
    "random.seed(seed)\n",
    "torch.cuda.manual_seed_all(seed)\n",
    "torch.manual_seed(seed)\n",
    "torch.backends.cudnn.deterministic = True\n",
    "torch.backends.cudnn.benchmark = False\n",
    "torch.backends.cudnn.enabled = False\n",
    "\n",
    "def make_params() -> dict:\n",
    "    import os\n",
    "    from pathlib import Path\n",
    "    import uuid\n",
    "\n",
    "    params = {\n",
    "            # dataset\n",
    "            'dataset': \"BiasedMNIST\",\n",
    "            'fairness_agg': 'mean',\n",
    "\n",
    "            # benchmark\n",
    "            'seed': seed,\n",
    "            'num_tasks': 5,\n",
    "            'epochs_per_task': 5,\n",
    "            # 'per_task_examples': np.inf,\n",
    "            'per_task_examples': 10000,\n",
    "            'per_task_memory_examples': 128,\n",
    "            'batch_size_train': 64,\n",
    "            'batch_size_memory': 64,\n",
    "            'batch_size_validation': 256,\n",
    "            'tau': 5,\n",
    "\n",
    "            # algorithm\n",
    "            'optimizer': 'sgd',\n",
    "            'learning_rate': 0.001,\n",
    "            'momentum': 0.9,\n",
    "            'learning_rate_decay': 1.0,\n",
    "            'criterion': torch.nn.CrossEntropyLoss(),\n",
    "            'device': torch.device('cuda:6' if torch.cuda.is_available() else 'cpu'),\n",
    "             \n",
    "            # sample selection\n",
    "            'alpha': 0.002,\n",
    "            'lambda': 1.0,\n",
    "            'lambda_old': 0.0,\n",
    "              }\n",
    "    \n",
    "\n",
    "\n",
    "#     trial_id = str(uuid.uuid4())\n",
    "    trial_id = f\"dataset={params['dataset']}/seed={params['seed']}_epoch={params['epochs_per_task']}_lr={params['learning_rate']}_tau={params['tau']}_alpha={params['alpha']}\"\n",
    "    if params['lambda'] != 0:\n",
    "        trial_id+=f\"_lambda_{params['lambda']}_sigold_{params['lambda_old']}\"\n",
    "    params['trial_id'] = trial_id\n",
    "    params['output_dir'] = os.path.join(\"./outputs/{}\".format(trial_id))\n",
    "    print(f\"output_dir={params['output_dir']}\")\n",
    "    Path(params['output_dir']).mkdir(parents=True, exist_ok=True)\n",
    "\n",
    "    return params\n",
    "\n",
    "params = make_params()"
   ]
  },
  {
   "cell_type": "code",
   "execution_count": 2,
   "id": "99826537",
   "metadata": {},
   "outputs": [
    {
     "data": {
      "text/plain": [
       "True"
      ]
     },
     "execution_count": 2,
     "metadata": {},
     "output_type": "execute_result"
    }
   ],
   "source": [
    "\"MNIST\" in params['dataset']"
   ]
  },
  {
   "cell_type": "code",
   "execution_count": 3,
   "id": "20c7b886",
   "metadata": {},
   "outputs": [
    {
     "name": "stdout",
     "output_type": "stream",
     "text": [
      "[0 1 2 3 4 5 6 7 8 9]\n"
     ]
    }
   ],
   "source": [
    "from datasets import BiasedMNIST\n",
    "\n",
    "if  params['dataset'] in [\"BiasedMNIST\"]:\n",
    "    benchmark = BiasedMNIST(num_tasks=params['num_tasks'],\n",
    "                                per_task_memory_examples=params['per_task_memory_examples'],\n",
    "                                per_task_examples = min(params['per_task_examples'], 15000))\n",
    "\n",
    "    n_feature = 3*28*28\n",
    "    \n",
    "\n",
    "noise = 0.0\n"
   ]
  },
  {
   "cell_type": "code",
   "execution_count": 4,
   "id": "87fd9653",
   "metadata": {},
   "outputs": [
    {
     "data": {
      "image/png": "[encoded data removed]",
      "text/plain": [
       "<PIL.Image.Image image mode=RGB size=28x28>"
      ]
     },
     "execution_count": 4,
     "metadata": {},
     "output_type": "execute_result"
    }
   ],
   "source": [
    "from torchvision.transforms.functional import to_pil_image\n",
    "from cl_gym.benchmarks.transforms import MNIST_MEAN, MNIST_STD\n",
    "COLOR_MAP = {\n",
    "    0: (1, 0, 0),\n",
    "    1: (0, 1, 0),\n",
    "    2: (1, 1, 0),\n",
    "    3: (0, 0, 1),\n",
    "    4: (1, 0.65, 0),\n",
    "    5: (0.5, 0, 0.5),\n",
    "    6: (0, 1, 1),\n",
    "    7: (1, 0.75, 0.8),\n",
    "    8: (0.8, 1, 0),\n",
    "    9: (.588, .294, 0.)\n",
    "}\n",
    "\n",
    "r = (1 - 0.1913)\n",
    "color_values = np.array(list(COLOR_MAP.values()))\n",
    "m_rgb = color_values.mean(axis=0)\n",
    "std_rgb = color_values.std(axis=0)\n",
    "\n",
    "bmnist_mean = [r*m + MNIST_MEAN[0] for m in m_rgb]\n",
    "bmnist_std = [(r*s**2+(1-r)*MNIST_STD[0]**2+r*(1-r)*(bmnist_mean[i] - m_rgb[i])**2)**0.5 for i, s in enumerate(std_rgb)]\n",
    "\n",
    "unnormalize = torchvision.transforms.Normalize([-m/s for m, s in zip(bmnist_mean, bmnist_std)], [1/s for s in bmnist_std])\n",
    "sample_idx = 95\n",
    "to_pil_image(unnormalize(benchmark.trains[2].inputs[sample_idx]), mode=\"RGB\")"
   ]
  },
  {
   "cell_type": "code",
   "execution_count": 5,
   "id": "e8806699",
   "metadata": {},
   "outputs": [
    {
     "data": {
      "image/png": "[encoded data removed]",
      "text/plain": [
       "<PIL.Image.Image image mode=RGB size=280x28>"
      ]
     },
     "execution_count": 5,
     "metadata": {},
     "output_type": "execute_result"
    }
   ],
   "source": [
    "target_label = 0\n",
    "incremental_step = 1\n",
    "# cat_img = torch.cat([img for img in benchmark.trains[incremental_step].inputs[benchmark.trains[incremental_step].targets == target_label][20:30]], dim=2)\n",
    "cat_img = torch.cat([img for img in benchmark.tests[incremental_step].inputs[benchmark.tests[incremental_step].targets == target_label][20:30]], dim=2)\n",
    "to_pil_image(unnormalize(cat_img), mode=\"RGB\")"
   ]
  },
  {
   "cell_type": "code",
   "execution_count": 6,
   "id": "8e73e1c4",
   "metadata": {},
   "outputs": [],
   "source": [
    "from trainers import FairContinualTrainer\n",
    "from trainers.fair_trainer import FairContinualTrainer2\n",
    "from metrics import FairMetricCollector\n",
    "from algorithms.sensitive import Heuristic3\n",
    "\n",
    "backbone = cl.backbones.MLP2Layers(input_dim=n_feature, hidden_dim_1=256, hidden_dim_2=256, output_dim=10)\n",
    "algorithm = Heuristic3(backbone, benchmark, params, requires_memory=True)\n",
    "metric_manager_callback = FairMetricCollector(num_tasks=params['num_tasks'],\n",
    "                                                        eval_interval='epoch',\n",
    "                                                        epochs_per_task=params['epochs_per_task'])\n",
    "\n",
    "trainer = FairContinualTrainer2(algorithm, params, callbacks=[metric_manager_callback])\n"
   ]
  },
  {
   "cell_type": "code",
   "execution_count": 7,
   "id": "8b8e3d98",
   "metadata": {},
   "outputs": [
    {
     "data": {
      "text/plain": [
       "<function mean at 0x7f80ac12f070>"
      ]
     },
     "execution_count": 7,
     "metadata": {},
     "output_type": "execute_result"
    }
   ],
   "source": [
    "if params['fairness_agg'] == \"mean\":\n",
    "    agg = np.mean\n",
    "elif params['fairness_agg'] == \"max\":\n",
    "    agg = np.max\n",
    "else:\n",
    "    raise NotImplementedError\n",
    "\n",
    "metric_manager_callback.meters['multiclass_eo'].agg = agg\n",
    "metric_manager_callback.meters['multiclass_eo'].agg\n"
   ]
  },
  {
   "cell_type": "code",
   "execution_count": 8,
   "id": "d9c494b9",
   "metadata": {},
   "outputs": [
    {
     "name": "stdout",
     "output_type": "stream",
     "text": [
      "---------------------------- Task 1 -----------------------\n",
      "[1] Eval metrics for task 1 >> {'accuracy': 86.33349815697204, 'loss': 0.0015818076776274552, 'multiclass_eo': [0.142570281124498, 0.3917525773195877], 'accuracy_s0': 100.0, 'accuracy_s1': 73.28385707779572, 'classwise_accuracy': {0: array([909, 980]), 1: array([ 907, 1135])}}\n",
      "[2] Eval metrics for task 1 >> {'accuracy': 95.86577362222421, 'loss': 0.0006762866221421154, 'multiclass_eo': [0.1254295532646048, 0.03614457831325302], 'accuracy_s0': 100.0, 'accuracy_s1': 91.92129342110711, 'classwise_accuracy': {1: array([1062, 1135]), 0: array([962, 980])}}\n",
      "[3] Eval metrics for task 1 >> {'accuracy': 96.52207138361952, 'loss': 0.0003872810702233732, 'multiclass_eo': [0.012048192771084376, 0.12371134020618557], 'accuracy_s0': 100.0, 'accuracy_s1': 93.2120233511365, 'classwise_accuracy': {0: array([974, 980]), 1: array([1063, 1135])}}\n",
      "[4] Eval metrics for task 1 >> {'accuracy': 99.66375977703856, 'loss': 0.0002715977512071037, 'multiclass_eo': [0.005154639175257714, 0.008032128514056214], 'accuracy_s0': 100.0, 'accuracy_s1': 99.3406616155343, 'classwise_accuracy': {1: array([1132, 1135]), 0: array([976, 980])}}\n",
      "[5] Eval metrics for task 1 >> {'accuracy': 99.66375977703856, 'loss': 0.00021307351635702957, 'multiclass_eo': [0.008032128514056214, 0.005154639175257714], 'accuracy_s0': 100.0, 'accuracy_s1': 99.3406616155343, 'classwise_accuracy': {0: array([976, 980]), 1: array([1132, 1135])}}\n",
      "training_task_end\n",
      "---------------------------- Task 2 -----------------------\n",
      "losses=tensor([[2.1864e-03, 2.1023e-04, 7.0050e+00, 6.8368e+00, 6.1816e-02, 8.5193e-02,\n",
      "         7.2349e+00, 7.5079e+00]])\n",
      "A_np.shape=(8, 10000)\n",
      "b_np.shape=(8,)\n",
      "### Scipy minsum LP solver ###\n",
      "Elapsed time:0.136\n",
      "Loss difference:[0.09019599 0.05814062 0.01608274 0.15146356 0.         0.\n",
      " 0.         0.        ]\n",
      "len(updated_seq_indices)=6332\n",
      "sensitive samples / selected samples = 890 / 6332\n",
      "[6] Eval metrics for task 1 >> {'accuracy': 97.58585813179897, 'loss': 0.00038005038919741946, 'multiclass_eo': [0.08634538152610438, 0.005064533969662444], 'accuracy_s0': 99.90958408679927, 'accuracy_s1': 95.33908831201093, 'classwise_accuracy': {0: array([937, 980]), 1: array([1130, 1135])}}\n",
      "[6] Eval metrics for task 2 >> {'accuracy': 58.16505487758078, 'loss': 0.003845983807884164, 'multiclass_eo': [0.6497201767304859, 0.6227453102453102], 'accuracy_s0': 90.98204058255604, 'accuracy_s1': 27.358766233766236, 'classwise_accuracy': {3: array([ 621, 1010]), 2: array([ 566, 1032])}}\n",
      "losses=tensor([[7.0870e-03, 9.3591e-04, 3.3029e-01, 1.4200e-01, 3.0728e-02, 2.7721e-02,\n",
      "         1.7820e+00, 1.4818e+00]])\n",
      "A_np.shape=(8, 10000)\n",
      "b_np.shape=(8,)\n",
      "### Scipy minsum LP solver ###\n",
      "Elapsed time:0.082\n",
      "Loss difference:[0.01181453 0.00733607 0.42393067 0.38547681 0.         0.\n",
      " 0.         0.        ]\n",
      "len(updated_seq_indices)=1965\n",
      "sensitive samples / selected samples = 860 / 1965\n",
      "[7] Eval metrics for task 1 >> {'accuracy': 95.98130000899039, 'loss': 0.0005838453100364541, 'multiclass_eo': [0.046211542166129216, 0.10033494975753643], 'accuracy_s0': 99.71543373376453, 'accuracy_s1': 92.38810913758124, 'classwise_accuracy': {1: array([1104, 1135]), 0: array([928, 980])}}\n",
      "[7] Eval metrics for task 2 >> {'accuracy': 75.96620999309233, 'loss': 0.0021997610221997296, 'multiclass_eo': [0.4188119783996073, 0.30474386724386726], 'accuracy_s0': 94.64694812632956, 'accuracy_s1': 58.46915584415584, 'classwise_accuracy': {3: array([ 686, 1010]), 2: array([ 867, 1032])}}\n",
      "losses=tensor([[0.0107, 0.0025, 0.0533, 0.3602, 0.0438, 0.0787, 0.6617, 1.0747]])\n",
      "A_np.shape=(8, 10000)\n",
      "b_np.shape=(8,)\n",
      "### Scipy minsum LP solver ###\n",
      "Elapsed time:0.058\n",
      "Loss difference:[0.00956106 0.03675902 0.12093937 0.35560201 0.         0.\n",
      " 0.         0.        ]\n",
      "len(updated_seq_indices)=1968\n",
      "sensitive samples / selected samples = 807 / 1968\n",
      "[8] Eval metrics for task 1 >> {'accuracy': 95.33893733704936, 'loss': 0.0006758401544663359, 'multiclass_eo': [0.03726005605165206, 0.12041527104267691], 'accuracy_s0': 99.35377008096164, 'accuracy_s1': 91.47000372624518, 'classwise_accuracy': {1: array([1101, 1135]), 0: array([918, 980])}}\n",
      "[8] Eval metrics for task 2 >> {'accuracy': 87.27012817560826, 'loss': 0.0014098422942969522, 'multiclass_eo': [0.24, 0.24990981240981247], 'accuracy_s0': 99.90079365079364, 'accuracy_s1': 75.40530303030303, 'classwise_accuracy': {3: array([ 884, 1010]), 2: array([ 898, 1032])}}\n",
      "losses=tensor([[0.0097, 0.0021, 0.0917, 0.0366, 0.0426, 0.0378, 0.5711, 0.6143]])\n",
      "A_np.shape=(8, 10000)\n",
      "b_np.shape=(8,)\n",
      "### Scipy minsum LP solver ###\n",
      "Elapsed time:0.057\n",
      "Loss difference:[ 0.00694198  0.02182843  0.09443372  0.15344228  0.          0.\n",
      " -0.16534365  0.        ]\n",
      "len(updated_seq_indices)=1214\n",
      "sensitive samples / selected samples = 789 / 1214\n",
      "[9] Eval metrics for task 1 >> {'accuracy': 95.47356828193833, 'loss': 0.0007286764311452284, 'multiclass_eo': [0.05435208143024928, 0.09431085337199419], 'accuracy_s0': 99.26335416776091, 'accuracy_s1': 91.83020742764873, 'classwise_accuracy': {1: array([1089, 1135]), 0: array([931, 980])}}\n",
      "[9] Eval metrics for task 2 >> {'accuracy': 89.96124031007753, 'loss': 0.0011280894016775865, 'multiclass_eo': [0.16982323232323238, 0.18841433480608738], 'accuracy_s0': 99.20246277205041, 'accuracy_s1': 81.2905844155844, 'classwise_accuracy': {2: array([ 928, 1032]), 3: array([ 909, 1010])}}\n",
      "losses=tensor([[0.0042, 0.0021, 0.1075, 0.0617, 0.0283, 0.0407, 0.3967, 0.4756]])\n",
      "A_np.shape=(8, 10000)\n",
      "b_np.shape=(8,)\n",
      "### Scipy minsum LP solver ###\n",
      "Elapsed time:0.065\n",
      "Loss difference:[ 0.00222453  0.02047257  0.05234933  0.08874914  0.          0.\n",
      " -0.12419494  0.        ]\n",
      "len(updated_seq_indices)=1262\n",
      "sensitive samples / selected samples = 823 / 1262\n",
      "[10] Eval metrics for task 1 >> {'accuracy': 94.36505439180077, 'loss': 0.0008198349047496246, 'multiclass_eo': [0.04720891357978663, 0.1303887750170808], 'accuracy_s0': 98.88837198832472, 'accuracy_s1': 90.00848755848135, 'classwise_accuracy': {1: array([1087, 1135]), 0: array([911, 980])}}\n",
      "[10] Eval metrics for task 2 >> {'accuracy': 91.6559214060941, 'loss': 0.0009079297656060199, 'multiclass_eo': [0.10939754689754688, 0.17048600883652432], 'accuracy_s0': 98.88541155293733, 'accuracy_s1': 84.89123376623378, 'classwise_accuracy': {2: array([ 964, 1032]), 3: array([ 908, 1010])}}\n",
      "training_task_end\n",
      "---------------------------- Task 3 -----------------------\n",
      "losses=tensor([[4.1658e-03, 3.0566e-03, 6.9170e-02, 2.0185e-01, 1.0359e+01, 8.8760e+00,\n",
      "         2.7587e-02, 3.8499e-02, 2.6039e-01, 4.7633e-01, 9.7325e+00, 1.0206e+01]])\n",
      "A_np.shape=(12, 10000)\n",
      "b_np.shape=(12,)\n",
      "### Scipy minsum LP solver ###\n",
      "Elapsed time:0.131\n",
      "Loss difference:[ 0.04600987 -0.03724578  0.14241397  0.19538253 -0.03198461  0.27397631\n",
      "  0.          0.          0.          0.          0.          0.        ]\n",
      "len(updated_seq_indices)=9167\n",
      "sensitive samples / selected samples = 866 / 9167\n",
      "[11] Eval metrics for task 1 >> {'accuracy': 93.91059066798526, 'loss': 0.0009783214605446403, 'multiclass_eo': [0.06800768069200802, 0.1262393974237198], 'accuracy_s0': 98.86173493505812, 'accuracy_s1': 89.14938102927172, 'classwise_accuracy': {1: array([1079, 1135]), 0: array([909, 980])}}\n",
      "[11] Eval metrics for task 2 >> {'accuracy': 90.46156650548775, 'loss': 0.0013116718024511645, 'multiclass_eo': [0.14397643593519882, 0.15214646464646464], 'accuracy_s0': 98.09564719358535, 'accuracy_s1': 83.28950216450217, 'classwise_accuracy': {3: array([ 924, 1010]), 2: array([ 923, 1032])}}\n",
      "[11] Eval metrics for task 3 >> {'accuracy': 62.77809996986108, 'loss': 0.0048733811304688835, 'multiclass_eo': [0.6257425742574257, 0.787574584744396], 'accuracy_s0': 99.52830188679245, 'accuracy_s1': 28.862443936701364, 'classwise_accuracy': {4: array([666, 982]), 5: array([515, 892])}}\n",
      "losses=tensor([[6.8483e-03, 5.4163e-04, 7.4360e-03, 1.0539e-02, 3.1852e-02, 6.9581e-02,\n",
      "         1.7866e-02, 3.5156e-02, 4.8241e-02, 1.0699e-01, 2.7133e+00, 1.9488e+00]])\n",
      "A_np.shape=(12, 10000)\n",
      "b_np.shape=(12,)\n",
      "### Scipy minsum LP solver ###\n",
      "Elapsed time:0.083\n",
      "Loss difference:[-0.03037417  0.02318516 -0.05396977  0.0190593   0.49250429  0.36906057\n",
      "  0.          0.          0.          0.          0.          0.        ]\n",
      "len(updated_seq_indices)=1954\n",
      "sensitive samples / selected samples = 837 / 1954\n",
      "[12] Eval metrics for task 1 >> {'accuracy': 93.28665827564507, 'loss': 0.0012085905241346246, 'multiclass_eo': [0.137820993517639, 0.049017231843801023], 'accuracy_s0': 98.04517794301921, 'accuracy_s1': 88.70326667494722, 'classwise_accuracy': {0: array([889, 980]), 1: array([1088, 1135])}}\n",
      "[12] Eval metrics for task 2 >> {'accuracy': 89.8875585232942, 'loss': 0.00158069576852819, 'multiclass_eo': [0.1571067821067822, 0.1028767795778105], 'accuracy_s0': 96.58034691539847, 'accuracy_s1': 83.58116883116882, 'classwise_accuracy': {2: array([ 904, 1032]), 3: array([ 931, 1010])}}\n",
      "[12] Eval metrics for task 3 >> {'accuracy': 79.88033481592431, 'loss': 0.0022327079812388792, 'multiclass_eo': [0.5242299629092082, 0.17018079166407207], 'accuracy_s0': 98.0083857442348, 'accuracy_s1': 63.28784801557079, 'classwise_accuracy': {5: array([613, 892]), 4: array([894, 982])}}\n",
      "losses=tensor([[0.0249, 0.0019, 0.0161, 0.0295, 0.0530, 0.1692, 0.0528, 0.0269, 0.0722,\n",
      "         0.1291, 0.6864, 1.2461]])\n",
      "A_np.shape=(12, 10000)\n",
      "b_np.shape=(12,)\n",
      "### Scipy minsum LP solver ###\n",
      "Elapsed time:0.068\n",
      "Loss difference:[ 7.75751188e-03 -5.68580416e-03  1.74016614e-03  2.13778948e-02\n",
      "  1.24680768e-01  1.90462089e-01  0.00000000e+00  0.00000000e+00\n",
      "  0.00000000e+00  0.00000000e+00  0.00000000e+00 -5.55111512e-17]\n",
      "len(updated_seq_indices)=1142\n",
      "sensitive samples / selected samples = 649 / 1142\n",
      "[13] Eval metrics for task 1 >> {'accuracy': 93.61368335880607, 'loss': 0.001022763610167988, 'multiclass_eo': [0.05769840234149248, 0.11566598343581791], 'accuracy_s0': 98.03185941638591, 'accuracy_s1': 89.3636401275204, 'classwise_accuracy': {1: array([1085, 1135]), 0: array([898, 980])}}\n",
      "[13] Eval metrics for task 2 >> {'accuracy': 85.35209916340472, 'loss': 0.0019167196388692976, 'multiclass_eo': [0.1882965144820815, 0.15629509379509376], 'accuracy_s0': 94.24419080346915, 'accuracy_s1': 77.0146103896104, 'classwise_accuracy': {3: array([ 857, 1010]), 2: array([ 886, 1032])}}\n",
      "[13] Eval metrics for task 3 >> {'accuracy': 83.25475144529787, 'loss': 0.0018544081149259016, 'multiclass_eo': [0.3714925012094824, 0.20955227598231518], 'accuracy_s0': 98.38836477987421, 'accuracy_s1': 69.33612592028433, 'classwise_accuracy': {5: array([695, 892]), 4: array([870, 982])}}\n",
      "losses=tensor([[0.0155, 0.0009, 0.0228, 0.0523, 0.1179, 0.1223, 0.0290, 0.0289, 0.0670,\n",
      "         0.1492, 0.6479, 0.8410]])\n",
      "A_np.shape=(12, 10000)\n",
      "b_np.shape=(12,)\n",
      "### Scipy minsum LP solver ###\n",
      "Elapsed time:0.06\n",
      "Loss difference:[ 0.         -0.01022129  0.01402095  0.0268817   0.07819574  0.09049661\n",
      "  0.          0.          0.          0.          0.          0.        ]\n",
      "len(updated_seq_indices)=1153\n",
      "sensitive samples / selected samples = 730 / 1153\n",
      "[14] Eval metrics for task 1 >> {'accuracy': 92.24309988312505, 'loss': 0.0012072865069617054, 'multiclass_eo': [0.05941661539991172, 0.15562665600159975], 'accuracy_s0': 97.72065609688384, 'accuracy_s1': 86.96849252680828, 'classwise_accuracy': {1: array([1084, 1135]), 0: array([872, 980])}}\n",
      "[14] Eval metrics for task 2 >> {'accuracy': 86.48332565814721, 'loss': 0.001821776226265073, 'multiclass_eo': [0.19351988217967597, 0.1469155844155844], 'accuracy_s0': 95.27123220422189, 'accuracy_s1': 78.24945887445888, 'classwise_accuracy': {3: array([ 873, 1010]), 2: array([ 893, 1032])}}\n",
      "[14] Eval metrics for task 3 >> {'accuracy': 86.38908423369531, 'loss': 0.0017134476305962626, 'multiclass_eo': [0.23709885502338324, 0.16820474500280214], 'accuracy_s0': 96.93396226415094, 'accuracy_s1': 76.66878226284167, 'classwise_accuracy': {5: array([760, 892]), 4: array([860, 982])}}\n",
      "losses=tensor([[1.2547e-02, 4.7422e-04, 1.1418e-02, 2.3837e-02, 2.0828e-01, 1.3284e-01,\n",
      "         5.6189e-02, 3.4376e-02, 5.0304e-02, 1.0725e-01, 6.1829e-01, 6.0864e-01]])\n",
      "A_np.shape=(12, 10000)\n",
      "b_np.shape=(12,)\n",
      "### Scipy minsum LP solver ###\n",
      "Elapsed time:0.074\n",
      "Loss difference:[ 0.00543828 -0.00813293  0.00376222  0.01471922  0.05629888  0.02712562\n",
      "  0.          0.          0.          0.          0.          0.        ]\n",
      "len(updated_seq_indices)=1184\n",
      "sensitive samples / selected samples = 667 / 1184\n",
      "[15] Eval metrics for task 1 >> {'accuracy': 93.57884563517037, 'loss': 0.000956959296766466, 'multiclass_eo': [0.13387158592877735, 0.056160399694263674], 'accuracy_s0': 98.4201601224554, 'accuracy_s1': 88.91856084130336, 'classwise_accuracy': {0: array([893, 980]), 1: array([1090, 1135])}}\n",
      "[15] Eval metrics for task 2 >> {'accuracy': 83.48674111597205, 'loss': 0.0021317949870657852, 'multiclass_eo': [0.17306998556998554, 0.2440058910162003], 'accuracy_s0': 94.25585010636557, 'accuracy_s1': 73.40205627705627, 'classwise_accuracy': {2: array([ 871, 1032]), 3: array([ 834, 1010])}}\n",
      "[15] Eval metrics for task 3 >> {'accuracy': 87.10008859013818, 'loss': 0.0015099374786130646, 'multiclass_eo': [0.2011973875181422, 0.11857940511032239], 'accuracy_s0': 95.42714884696018, 'accuracy_s1': 79.43830921553695, 'classwise_accuracy': {5: array([720, 892]), 4: array([918, 982])}}\n",
      "training_task_end\n",
      "---------------------------- Task 4 -----------------------\n",
      "losses=tensor([[1.0372e-02, 1.5662e-04, 1.7723e-02, 2.9120e-02, 6.2398e-02, 8.1146e-02,\n",
      "         1.0890e+01, 7.4784e+00, 3.2675e-02, 2.5273e-02, 5.4312e-02, 1.1128e-01,\n",
      "         4.3171e-01, 6.2157e-01, 1.1052e+01, 1.0083e+01]])\n",
      "A_np.shape=(16, 10000)\n",
      "b_np.shape=(16,)\n",
      "### Scipy minsum LP solver ###\n",
      "Elapsed time:0.115\n",
      "Loss difference:[-0.01742729  0.01088011  0.03864868  0.03342099  0.1079991   0.12125196\n",
      "  0.1429443   0.47212963  0.          0.          0.          0.\n",
      "  0.          0.         -0.83815962  0.        ]\n",
      "len(updated_seq_indices)=9408\n",
      "sensitive samples / selected samples = 981 / 9408\n",
      "[16] Eval metrics for task 1 >> {'accuracy': 90.36950463004585, 'loss': 0.0014611187697020547, 'multiclass_eo': [0.17958972820743557, 0.07949454086737129], 'accuracy_s0': 96.97069173801145, 'accuracy_s1': 84.0164782842711, 'classwise_accuracy': {0: array([856, 980]), 1: array([1060, 1135])}}\n",
      "[16] Eval metrics for task 2 >> {'accuracy': 81.13065085578326, 'loss': 0.002619265663518728, 'multiclass_eo': [0.30194805194805197, 0.23542464408443786], 'accuracy_s0': 94.97361315660284, 'accuracy_s1': 68.10497835497836, 'classwise_accuracy': {2: array([ 805, 1032]), 3: array([ 851, 1010])}}\n",
      "[16] Eval metrics for task 3 >> {'accuracy': 83.49997260098819, 'loss': 0.0017540461384753917, 'multiclass_eo': [0.2206498951781971, 0.24333188035784714], 'accuracy_s0': 95.54507337526206, 'accuracy_s1': 72.34598459845985, 'classwise_accuracy': {5: array([713, 892]), 4: array([855, 982])}}\n",
      "[16] Eval metrics for task 4 >> {'accuracy': 66.67252219685955, 'loss': 0.0036441674165255114, 'multiclass_eo': [0.6682794966153287, 0.6551724137931034], 'accuracy_s0': 99.50592885375494, 'accuracy_s1': 33.333333333333336, 'classwise_accuracy': {7: array([ 669, 1028]), 6: array([654, 958])}}\n",
      "losses=tensor([[0.0072, 0.0018, 0.0099, 0.0086, 0.0277, 0.0073, 0.0521, 0.2479, 0.0418,\n",
      "         0.0609, 0.0766, 0.0973, 0.2066, 0.2023, 1.5991, 1.5283]])\n",
      "A_np.shape=(16, 10000)\n",
      "b_np.shape=(16,)\n",
      "### Scipy minsum LP solver ###\n",
      "Elapsed time:0.058\n",
      "Loss difference:[4.54044809e-02 2.19460736e-02 1.78255881e-02 1.97178130e-02\n",
      " 2.52946020e-02 5.03256505e-02 1.70133916e-01 1.37952110e-01\n",
      " 0.00000000e+00 0.00000000e+00 0.00000000e+00 0.00000000e+00\n",
      " 0.00000000e+00 0.00000000e+00 0.00000000e+00 3.51762841e-10]\n",
      "len(updated_seq_indices)=1215\n",
      "sensitive samples / selected samples = 969 / 1215\n",
      "[17] Eval metrics for task 1 >> {'accuracy': 87.54719949653871, 'loss': 0.00196857627120142, 'multiclass_eo': [0.20442766918295596, 0.07750601219216635], 'accuracy_s0': 94.7284896415628, 'accuracy_s1': 80.6318055728067, 'classwise_accuracy': {0: array([805, 980]), 1: array([1055, 1135])}}\n",
      "[17] Eval metrics for task 2 >> {'accuracy': 84.19458515619004, 'loss': 0.002487728983368159, 'multiclass_eo': [0.19860579283259705, 0.20346320346320346], 'accuracy_s0': 94.56124202258222, 'accuracy_s1': 74.45779220779221, 'classwise_accuracy': {3: array([ 862, 1010]), 2: array([ 857, 1032])}}\n",
      "[17] Eval metrics for task 3 >> {'accuracy': 84.95554510333993, 'loss': 0.0021505538720076977, 'multiclass_eo': [0.1696500564425093, 0.13989663117255124], 'accuracy_s0': 93.00314465408806, 'accuracy_s1': 77.52581027333503, 'classwise_accuracy': {5: array([699, 892]), 4: array([899, 982])}}\n",
      "[17] Eval metrics for task 4 >> {'accuracy': 84.77331990284557, 'loss': 0.002498906424638608, 'multiclass_eo': [0.12298396256417243, 0.26724137931034486], 'accuracy_s0': 94.36758893280633, 'accuracy_s1': 74.85632183908046, 'classwise_accuracy': {7: array([ 848, 1028]), 6: array([834, 958])}}\n",
      "losses=tensor([[0.0477, 0.0051, 0.0102, 0.0102, 0.0570, 0.0240, 0.1319, 0.8427, 0.0611,\n",
      "         0.0743, 0.0495, 0.1028, 0.1826, 0.2294, 0.6879, 0.6272]])\n",
      "A_np.shape=(16, 10000)\n",
      "b_np.shape=(16,)\n",
      "### Scipy minsum LP solver ###\n",
      "Elapsed time:0.109\n",
      "Loss difference:[ 0.         -0.00478267  0.00504905  0.          0.02186165  0.03493559\n",
      "  0.04538346 -0.00664234  0.          0.          0.          0.\n",
      "  0.          0.          0.          0.        ]\n",
      "len(updated_seq_indices)=828\n",
      "sensitive samples / selected samples = 347 / 828\n",
      "[18] Eval metrics for task 1 >> {'accuracy': 87.45931852917379, 'loss': 0.0018949244743825132, 'multiclass_eo': [0.10111046898205978, 0.20710226799313436], 'accuracy_s0': 95.31375447389944, 'accuracy_s1': 79.90311762513973, 'classwise_accuracy': {1: array([1031, 1135]), 0: array([824, 980])}}\n",
      "[18] Eval metrics for task 2 >> {'accuracy': 77.22925780950189, 'loss': 0.0032047866081981306, 'multiclass_eo': [0.3528915071183113, 0.20265151515151514], 'accuracy_s0': 91.58505154639175, 'accuracy_s1': 63.80790043290043, 'classwise_accuracy': {3: array([ 781, 1010]), 2: array([ 796, 1032])}}\n",
      "[18] Eval metrics for task 3 >> {'accuracy': 84.7434310869188, 'loss': 0.0018839707623932633, 'multiclass_eo': [0.2309857400834423, 0.12891065957103698], 'accuracy_s0': 94.06446540880503, 'accuracy_s1': 76.06964542608107, 'classwise_accuracy': {4: array([853, 982]), 5: array([737, 892])}}\n",
      "[18] Eval metrics for task 4 >> {'accuracy': 79.45622771175357, 'loss': 0.002385951961275314, 'multiclass_eo': [0.18841616641072179, 0.5703966198718822], 'accuracy_s0': 98.5009841417164, 'accuracy_s1': 60.560344827586206, 'classwise_accuracy': {6: array([857, 958]), 7: array([ 714, 1028])}}\n",
      "losses=tensor([[0.0083, 0.0077, 0.0392, 0.0075, 0.0508, 0.0069, 0.1410, 0.2020, 0.0403,\n",
      "         0.0787, 0.0793, 0.1313, 0.2194, 0.1644, 0.4855, 1.3169]])\n",
      "A_np.shape=(16, 10000)\n",
      "b_np.shape=(16,)\n",
      "### Scipy minsum LP solver ###\n",
      "Elapsed time:0.068\n",
      "Loss difference:[0.02219525 0.00941202 0.00852095 0.02396997 0.0454353  0.03952885\n",
      " 0.0272677  0.11047994 0.         0.         0.         0.\n",
      " 0.         0.         0.         0.        ]\n",
      "len(updated_seq_indices)=843\n",
      "sensitive samples / selected samples = 814 / 843\n",
      "[19] Eval metrics for task 1 >> {'accuracy': 89.28189337408973, 'loss': 0.0016692509606093097, 'multiclass_eo': [0.18514722791581262, 0.06339988690243159], 'accuracy_s0': 95.61163926676821, 'accuracy_s1': 83.184283525856, 'classwise_accuracy': {0: array([839, 980]), 1: array([1055, 1135])}}\n",
      "[19] Eval metrics for task 2 >> {'accuracy': 82.5557410392202, 'loss': 0.002856123138011144, 'multiclass_eo': [0.18605699855699853, 0.1516347569955817], 'accuracy_s0': 91.25634102438227, 'accuracy_s1': 74.37175324675324, 'classwise_accuracy': {2: array([ 815, 1032]), 3: array([ 870, 1010])}}\n",
      "[19] Eval metrics for task 3 >> {'accuracy': 80.37169042769857, 'loss': 0.0024376187787620847, 'multiclass_eo': [0.24053801606575753, 0.2292573778422834], 'accuracy_s0': 92.57075471698113, 'accuracy_s1': 69.0809850215791, 'classwise_accuracy': {4: array([842, 982]), 5: array([669, 892])}}\n",
      "[19] Eval metrics for task 4 >> {'accuracy': 87.15212058195169, 'loss': 0.002020329086922207, 'multiclass_eo': [0.019255523753274884, 0.11208641630601701], 'accuracy_s0': 90.3554111792098, 'accuracy_s1': 83.78831417624522, 'classwise_accuracy': {7: array([ 957, 1028]), 6: array([778, 958])}}\n",
      "losses=tensor([[0.0148, 0.0082, 0.0344, 0.0142, 0.0495, 0.0181, 0.5182, 0.5213, 0.0489,\n",
      "         0.0744, 0.0494, 0.0776, 0.2928, 0.1978, 0.6488, 0.1862]])\n",
      "A_np.shape=(16, 10000)\n",
      "b_np.shape=(16,)\n",
      "### Scipy minsum LP solver ###\n",
      "Elapsed time:0.142\n",
      "Loss difference:[ 8.67361738e-19  1.72298716e-04  4.55341889e-03  2.09504980e-03\n",
      "  1.58754773e-02  3.13223793e-02  0.00000000e+00 -1.26079908e-02\n",
      "  0.00000000e+00  0.00000000e+00  0.00000000e+00  0.00000000e+00\n",
      "  0.00000000e+00  0.00000000e+00  0.00000000e+00  0.00000000e+00]\n",
      "len(updated_seq_indices)=919\n",
      "sensitive samples / selected samples = 251 / 919\n",
      "[20] Eval metrics for task 1 >> {'accuracy': 87.42021037489886, 'loss': 0.0017436335413732146, 'multiclass_eo': [0.17200773040522477, 0.1834724791281308], 'accuracy_s0': 96.49197511874124, 'accuracy_s1': 78.71796464207345, 'classwise_accuracy': {1: array([1000, 1135]), 0: array([850, 980])}}\n",
      "[20] Eval metrics for task 2 >> {'accuracy': 78.22991020032237, 'loss': 0.0031980521006402026, 'multiclass_eo': [0.3036818851251841, 0.29915223665223667], 'accuracy_s0': 93.77536409752905, 'accuracy_s1': 63.63365800865801, 'classwise_accuracy': {3: array([ 811, 1010]), 2: array([ 786, 1032])}}\n",
      "[20] Eval metrics for task 3 >> {'accuracy': 82.2822006886285, 'loss': 0.0022587739925119896, 'multiclass_eo': [0.23296593810324429, 0.1623528463151105], 'accuracy_s0': 92.5314465408805, 'accuracy_s1': 72.76550731996277, 'classwise_accuracy': {4: array([852, 982]), 5: array([694, 892])}}\n",
      "[20] Eval metrics for task 4 >> {'accuracy': 82.10644744644728, 'loss': 0.0022198749632993853, 'multiclass_eo': [0.23275862068965514, 0.46719064710069214], 'accuracy_s0': 99.60474308300395, 'accuracy_s1': 64.60727969348659, 'classwise_accuracy': {6: array([850, 958]), 7: array([ 776, 1028])}}\n",
      "training_task_end\n",
      "---------------------------- Task 5 -----------------------\n",
      "losses=tensor([[2.6602e-03, 9.9139e-04, 8.9920e-03, 3.1397e-03, 1.7007e-02, 8.1103e-03,\n",
      "         7.4916e-02, 1.0375e-01, 1.1854e+01, 1.5516e+01, 2.4533e-02, 1.3178e-01,\n",
      "         1.5470e-01, 8.6725e-02, 1.7749e-01, 2.0024e-01, 6.3015e-01, 1.0437e+00,\n",
      "         1.0980e+01, 1.2215e+01]])\n",
      "A_np.shape=(20, 10000)\n",
      "b_np.shape=(20,)\n",
      "### Scipy minsum LP solver ###\n",
      "Elapsed time:0.055\n",
      "Loss difference:[ 0.10610664  0.06093301  0.03385467  0.02935663  0.07423896  0.06227646\n",
      " -0.03925906 -0.103792   -0.07824894 -0.30928626  0.          0.\n",
      "  0.          0.          0.          0.          0.          0.\n",
      " -1.41059921 -2.28801549]\n",
      "len(updated_seq_indices)=10000\n",
      "sensitive samples / selected samples = 1022 / 10000\n",
      "[21] Eval metrics for task 1 >> {'accuracy': 90.39287961880788, 'loss': 0.0016347435490177596, 'multiclass_eo': [0.12704760952523797, 0.1280550325310863], 'accuracy_s0': 96.90409910484495, 'accuracy_s1': 84.14896700202873, 'classwise_accuracy': {0: array([872, 980]), 1: array([1042, 1135])}}\n",
      "[21] Eval metrics for task 2 >> {'accuracy': 77.13446926087958, 'loss': 0.003505907668189367, 'multiclass_eo': [0.24125180375180377, 0.25784977908689244], 'accuracy_s0': 90.007568319424, 'accuracy_s1': 65.05248917748918, 'classwise_accuracy': {2: array([ 792, 1032]), 3: array([ 783, 1010])}}\n",
      "[21] Eval metrics for task 3 >> {'accuracy': 77.05652416136192, 'loss': 0.003131536721165432, 'multiclass_eo': [0.32510534072275155, 0.1763425253991292], 'accuracy_s0': 90.041928721174, 'accuracy_s1': 64.96953541507997, 'classwise_accuracy': {4: array([789, 982]), 5: array([658, 892])}}\n",
      "[21] Eval metrics for task 4 >> {'accuracy': 91.83498777446528, 'loss': 0.0012405216994002266, 'multiclass_eo': [0.11422413793103448, 0.17372374418851178], 'accuracy_s0': 99.01185770750989, 'accuracy_s1': 84.61446360153258, 'classwise_accuracy': {6: array([905, 958]), 7: array([ 917, 1028])}}\n",
      "[21] Eval metrics for task 5 >> {'accuracy': 70.85918723276954, 'loss': 0.0028807449328797185, 'multiclass_eo': [0.5684872793047855, 0.5163619493473355], 'accuracy_s0': 97.78399925985816, 'accuracy_s1': 43.541537827252114, 'classwise_accuracy': {9: array([ 711, 1009]), 8: array([694, 974])}}\n",
      "losses=tensor([[7.8593e-03, 9.9960e-04, 1.9947e-02, 2.0507e-02, 3.2431e-02, 1.0706e-02,\n",
      "         7.0628e-03, 1.0524e-01, 8.0206e-02, 7.0048e-02, 1.8539e-02, 6.6590e-02,\n",
      "         4.2243e-02, 5.4736e-02, 1.5128e-01, 1.2226e-01, 8.2715e-02, 1.4498e-01,\n",
      "         1.3346e+00, 1.4677e+00]])\n",
      "A_np.shape=(20, 10000)\n",
      "b_np.shape=(20,)\n",
      "### Scipy minsum LP solver ###\n",
      "Elapsed time:0.085\n",
      "Loss difference:[-0.01166355 -0.02141678 -0.0205896   0.00107047  0.          0.01732203\n",
      "  0.01158275  0.04051241  0.13278708  0.13343457  0.          0.\n",
      "  0.          0.          0.          0.          0.          0.\n",
      "  0.          0.        ]\n",
      "len(updated_seq_indices)=1435\n",
      "sensitive samples / selected samples = 880 / 1435\n",
      "[22] Eval metrics for task 1 >> {'accuracy': 89.47900746201564, 'loss': 0.0020728616708841166, 'multiclass_eo': [0.10400004971321686, 0.1750404106050759], 'accuracy_s0': 96.59289578534288, 'accuracy_s1': 82.64087276942821, 'classwise_accuracy': {1: array([1056, 1135]), 0: array([842, 980])}}\n",
      "[22] Eval metrics for task 2 >> {'accuracy': 80.4143641108297, 'loss': 0.003036861905388454, 'multiclass_eo': [0.26415945165945165, 0.2643298969072164], 'accuracy_s0': 94.04189167075765, 'accuracy_s1': 67.61742424242425, 'classwise_accuracy': {2: array([ 827, 1032]), 3: array([ 815, 1010])}}\n",
      "[22] Eval metrics for task 3 >> {'accuracy': 71.73369530472267, 'loss': 0.003779790476521153, 'multiclass_eo': [0.18259151749717795, 0.3932498910268385], 'accuracy_s0': 86.63522012578618, 'accuracy_s1': 57.843149699585354, 'classwise_accuracy': {5: array([613, 892]), 4: array([734, 982])}}\n",
      "[22] Eval metrics for task 4 >> {'accuracy': 88.61065530490728, 'loss': 0.0018706034197427956, 'multiclass_eo': [0.11448589976266921, 0.23411778959005336], 'accuracy_s0': 97.32721511897712, 'accuracy_s1': 79.897030651341, 'classwise_accuracy': {6: array([901, 958]), 7: array([ 855, 1028])}}\n",
      "[22] Eval metrics for task 5 >> {'accuracy': 84.77145118980509, 'loss': 0.0018715218378327677, 'multiclass_eo': [0.2901498171522944, 0.16437443326796142], 'accuracy_s0': 95.99358007409464, 'accuracy_s1': 73.26736755308184, 'classwise_accuracy': {9: array([ 826, 1009]), 8: array([854, 974])}}\n",
      "losses=tensor([[8.4261e-03, 3.1026e-04, 3.6378e-03, 3.4254e-03, 6.5123e-02, 2.6055e-02,\n",
      "         1.0082e-02, 2.9058e-01, 1.3930e-01, 1.9352e-01, 2.3806e-02, 4.4181e-02,\n",
      "         3.6540e-02, 3.3678e-02, 2.1019e-01, 1.9868e-01, 9.5730e-02, 2.2526e-01,\n",
      "         6.2782e-01, 8.8750e-01]])\n",
      "A_np.shape=(20, 10000)\n",
      "b_np.shape=(20,)\n",
      "### Scipy minsum LP solver ###\n",
      "Elapsed time:0.098\n",
      "Loss difference:[ 0.00238988 -0.01487957  0.00841386  0.00236317  0.01030262  0.02198995\n",
      "  0.01073459  0.00557437  0.04150426  0.05251358  0.          0.\n",
      "  0.          0.          0.          0.          0.          0.\n",
      "  0.          0.        ]\n",
      "len(updated_seq_indices)=1162\n",
      "sensitive samples / selected samples = 639 / 1162\n",
      "[23] Eval metrics for task 1 >> {'accuracy': 90.50863076508136, 'loss': 0.0016956017372456002, 'multiclass_eo': [0.12450632405139228, 0.10074383400756892], 'accuracy_s0': 96.2550554125742, 'accuracy_s1': 84.99254750962612, 'classwise_accuracy': {0: array([857, 980]), 1: array([1062, 1135])}}\n",
      "[23] Eval metrics for task 2 >> {'accuracy': 79.468493360964, 'loss': 0.0033502362150403357, 'multiclass_eo': [0.2822778595974472, 0.22366522366522357], 'accuracy_s0': 92.52659139257078, 'accuracy_s1': 67.22943722943724, 'classwise_accuracy': {3: array([ 791, 1010]), 2: array([ 832, 1032])}}\n",
      "[23] Eval metrics for task 3 >> {'accuracy': 74.08236142949778, 'loss': 0.0035558327348662287, 'multiclass_eo': [0.32056790584718853, 0.20176181261086923], 'accuracy_s0': 87.61792452830188, 'accuracy_s1': 61.501438605399, 'classwise_accuracy': {4: array([746, 982]), 5: array([644, 892])}}\n",
      "[23] Eval metrics for task 4 >> {'accuracy': 91.07099339577427, 'loss': 0.0015716116053820376, 'multiclass_eo': [0.1575500128723517, 0.09724452045232446], 'accuracy_s0': 97.42602934822615, 'accuracy_s1': 84.68630268199233, 'classwise_accuracy': {7: array([ 897, 1028]), 6: array([909, 958])}}\n",
      "[23] Eval metrics for task 5 >> {'accuracy': 85.74650527185514, 'loss': 0.0018129780986245328, 'multiclass_eo': [0.21112815068223822, 0.15790894329516458], 'accuracy_s0': 94.88557970402371, 'accuracy_s1': 76.43372500515358, 'classwise_accuracy': {9: array([ 855, 1009]), 8: array([845, 974])}}\n",
      "losses=tensor([[7.9841e-03, 1.5227e-04, 5.4243e-03, 5.1050e-03, 7.3337e-02, 1.1545e-02,\n",
      "         8.8701e-03, 2.7836e-01, 2.0850e-01, 1.9964e-01, 1.2924e-02, 4.2647e-02,\n",
      "         2.4301e-02, 5.5283e-02, 1.6007e-01, 1.1787e-01, 6.5373e-02, 1.1676e-01,\n",
      "         5.9548e-01, 7.8639e-01]])\n",
      "A_np.shape=(20, 10000)\n",
      "b_np.shape=(20,)\n",
      "### Scipy minsum LP solver ###\n",
      "Elapsed time:0.103\n",
      "Loss difference:[ 0.00435088 -0.01092297  0.00880492  0.          0.00609633  0.01232458\n",
      "  0.00265105  0.          0.03414438  0.03198205  0.          0.\n",
      "  0.          0.          0.          0.          0.          0.\n",
      "  0.          0.        ]\n",
      "len(updated_seq_indices)=1175\n",
      "sensitive samples / selected samples = 666 / 1175\n",
      "[24] Eval metrics for task 1 >> {'accuracy': 90.81250561898769, 'loss': 0.0015982112915521535, 'multiclass_eo': [0.09866520012676872, 0.12082354313519639], 'accuracy_s0': 96.41206395894142, 'accuracy_s1': 85.43762679584317, 'classwise_accuracy': {1: array([1055, 1135]), 0: array([869, 980])}}\n",
      "[24] Eval metrics for task 2 >> {'accuracy': 78.72275308926243, 'loss': 0.003460810128435215, 'multiclass_eo': [0.2257395382395383, 0.2570643102601866], 'accuracy_s0': 91.17861233840617, 'accuracy_s1': 67.03841991341992, 'classwise_accuracy': {2: array([ 835, 1032]), 3: array([ 773, 1010])}}\n",
      "[24] Eval metrics for task 3 >> {'accuracy': 76.57258911528591, 'loss': 0.0032374717637085482, 'multiclass_eo': [0.14656910175778104, 0.2881831579384353], 'accuracy_s0': 87.82756813417191, 'accuracy_s1': 66.08995514936109, 'classwise_accuracy': {5: array([653, 892]), 4: array([785, 982])}}\n",
      "[24] Eval metrics for task 4 >> {'accuracy': 89.26072069730226, 'loss': 0.0017161464313005753, 'multiclass_eo': [0.10788950160547262, 0.2616040464616177], 'accuracy_s0': 98.51538621561505, 'accuracy_s1': 80.04070881226053, 'classwise_accuracy': {6: array([906, 958]), 7: array([ 863, 1028])}}\n",
      "[24] Eval metrics for task 5 >> {'accuracy': 83.2349714988105, 'loss': 0.001957383981811477, 'multiclass_eo': [0.19218489698656716, 0.2029766820022807], 'accuracy_s0': 93.04709152416926, 'accuracy_s1': 73.28901257472687, 'classwise_accuracy': {8: array([826, 974]), 9: array([ 824, 1009])}}\n",
      "losses=tensor([[4.7900e-03, 4.6690e-04, 4.2955e-03, 1.4333e-02, 3.4797e-02, 1.7973e-02,\n",
      "         8.2382e-03, 1.8126e-01, 2.0520e-01, 3.2315e-01, 1.0702e-02, 3.1244e-02,\n",
      "         2.5613e-02, 5.0953e-02, 9.1294e-02, 1.1642e-01, 7.0409e-02, 1.7779e-01,\n",
      "         5.6721e-01, 7.6411e-01]])\n",
      "A_np.shape=(20, 10000)\n",
      "b_np.shape=(20,)\n",
      "### Scipy minsum LP solver ###\n",
      "Elapsed time:0.093\n",
      "Loss difference:[-0.0004196  -0.01760971  0.00640592  0.          0.00114675  0.00928395\n",
      " -0.00070065  0.01879419  0.04063391  0.01281222  0.          0.\n",
      "  0.          0.          0.          0.          0.          0.\n",
      "  0.          0.        ]\n",
      "len(updated_seq_indices)=1217\n",
      "sensitive samples / selected samples = 588 / 1217\n",
      "[25] Eval metrics for task 1 >> {'accuracy': 88.75303425334891, 'loss': 0.0019098890165910652, 'multiclass_eo': [0.0955891948323111, 0.17430718725524508], 'accuracy_s0': 95.63264877357005, 'accuracy_s1': 82.13782966919223, 'classwise_accuracy': {1: array([1065, 1135]), 0: array([820, 980])}}\n",
      "[25] Eval metrics for task 2 >> {'accuracy': 76.40762913500652, 'loss': 0.003998963273587353, 'multiclass_eo': [0.22330447330447323, 0.3415022091310751], 'accuracy_s0': 90.99574537718867, 'accuracy_s1': 62.75541125541126, 'classwise_accuracy': {2: array([ 824, 1032]), 3: array([ 737, 1010])}}\n",
      "[25] Eval metrics for task 3 >> {'accuracy': 75.96159115194578, 'loss': 0.0034166119332756277, 'multiclass_eo': [0.13757861635220126, 0.30786890009755696], 'accuracy_s0': 87.48689727463312, 'accuracy_s1': 65.21452145214522, 'classwise_accuracy': {5: array([653, 892]), 4: array([773, 982])}}\n",
      "[25] Eval metrics for task 4 >> {'accuracy': 90.06868232293283, 'loss': 0.001592670292532576, 'multiclass_eo': [0.14047884964400392, 0.16347886662729239], 'accuracy_s0': 97.62125746107439, 'accuracy_s1': 82.42337164750958, 'classwise_accuracy': {6: array([887, 958]), 7: array([ 900, 1028])}}\n",
      "[25] Eval metrics for task 5 >> {'accuracy': 86.10940956443345, 'loss': 0.0016533191523886183, 'multiclass_eo': [0.1068640475738597, 0.24695057213636906], 'accuracy_s0': 94.82121954457142, 'accuracy_s1': 77.13048855905998, 'classwise_accuracy': {8: array([854, 974]), 9: array([ 853, 1009])}}\n",
      "training_task_end\n",
      "final avg-acc 83.46006928553349\n",
      "final avg-forget 9.324378808242408\n"
     ]
    }
   ],
   "source": [
    "trainer.run()\n",
    "print(\"final avg-acc\", metric_manager_callback.meters['accuracy'].compute_final())\n",
    "print(\"final avg-forget\", metric_manager_callback.meters['forgetting'].compute_final())"
   ]
  },
  {
   "cell_type": "code",
   "execution_count": 9,
   "id": "5ebde5d0",
   "metadata": {},
   "outputs": [
    {
     "data": {
      "text/plain": [
       "array([[99.664,  0.   ,  0.   ,  0.   ,  0.   ],\n",
       "       [94.365, 91.656,  0.   ,  0.   ,  0.   ],\n",
       "       [93.579, 83.487, 87.1  ,  0.   ,  0.   ],\n",
       "       [87.42 , 78.23 , 82.282, 82.106,  0.   ],\n",
       "       [88.753, 76.408, 75.962, 90.069, 86.109]])"
      ]
     },
     "execution_count": 9,
     "metadata": {},
     "output_type": "execute_result"
    }
   ],
   "source": [
    "metric_manager_callback.meters['accuracy'].get_data()"
   ]
  },
  {
   "cell_type": "code",
   "execution_count": 10,
   "id": "fa1b0074",
   "metadata": {},
   "outputs": [
    {
     "data": {
      "text/plain": [
       "[99.664, 93.01, 88.055, 82.51, 83.46]"
      ]
     },
     "execution_count": 10,
     "metadata": {},
     "output_type": "execute_result"
    }
   ],
   "source": [
    "[np.round(x, 3) for x in metric_manager_callback.meters['accuracy'].compute_overall()]"
   ]
  },
  {
   "cell_type": "code",
   "execution_count": 11,
   "id": "4e893eff",
   "metadata": {},
   "outputs": [
    {
     "data": {
      "text/plain": [
       "89.3398468505708"
      ]
     },
     "execution_count": 11,
     "metadata": {},
     "output_type": "execute_result"
    }
   ],
   "source": [
    "np.mean(metric_manager_callback.meters['accuracy'].compute_overall())"
   ]
  },
  {
   "cell_type": "code",
   "execution_count": 12,
   "id": "b82bd073",
   "metadata": {},
   "outputs": [
    {
     "data": {
      "text/plain": [
       "[0.007, 0.114, 0.154, 0.257, 0.194]"
      ]
     },
     "execution_count": 12,
     "metadata": {},
     "output_type": "execute_result"
    }
   ],
   "source": [
    "[np.round(x, 3) for x in metric_manager_callback.meters['multiclass_eo'].compute_overall()]"
   ]
  },
  {
   "cell_type": "code",
   "execution_count": 13,
   "id": "4a7973e4",
   "metadata": {},
   "outputs": [
    {
     "data": {
      "text/plain": [
       "0.14518691207380943"
      ]
     },
     "execution_count": 13,
     "metadata": {},
     "output_type": "execute_result"
    }
   ],
   "source": [
    "np.mean(metric_manager_callback.meters['multiclass_eo'].compute_overall())"
   ]
  },
  {
   "cell_type": "code",
   "execution_count": 14,
   "id": "61271a48",
   "metadata": {},
   "outputs": [
    {
     "name": "stdout",
     "output_type": "stream",
     "text": [
      "task_id=2\n",
      "sensitive samples / all samples = 1165 / 12089\n",
      "sensitive samples / selected samples = 823 / 1262\n"
     ]
    }
   ],
   "source": [
    "task_id = 2\n",
    "\n",
    "print(f\"{task_id=}\")\n",
    "print(f\"sensitive samples / all samples = {(benchmark.trains[task_id].sensitive != benchmark.trains[task_id].targets).sum().item()} / {benchmark.trains[task_id].sensitive.shape[0]}\")\n",
    "\n",
    "updated_seq_indices = benchmark.seq_indices_train[task_id]\n",
    "print(f\"sensitive samples / selected samples = {(benchmark.trains[task_id].sensitive[updated_seq_indices] != benchmark.trains[task_id].targets[updated_seq_indices]).sum().item()} / {len(updated_seq_indices)}\")\n"
   ]
  },
  {
   "cell_type": "code",
   "execution_count": 15,
   "id": "b32febda",
   "metadata": {},
   "outputs": [
    {
     "name": "stdout",
     "output_type": "stream",
     "text": [
      "incremental_step=2\n",
      "2 : 5958 --> 1653\n",
      "3 : 6131 --> 1697\n",
      "incremental_step=3\n",
      "4 : 5842 --> 1193\n",
      "5 : 5421 --> 1252\n",
      "incremental_step=4\n",
      "6 : 5918 --> 1546\n",
      "7 : 6265 --> 1553\n",
      "incremental_step=5\n",
      "8 : 5851 --> 1451\n",
      "9 : 5949 --> 1563\n"
     ]
    }
   ],
   "source": [
    "step_class = 2\n",
    "for i in range(2, 6):\n",
    "    incremental_step = i\n",
    "    print(f\"{incremental_step=}\")\n",
    "    one_idx = benchmark.trains[incremental_step].sample_weight > 0.9\n",
    "\n",
    "    print(f\"{2*i-2} : {(benchmark.trains[incremental_step].targets == (2*i-2)).sum().item()} --> {(benchmark.trains[incremental_step].targets[one_idx] == (2*i-2)).sum().item()}\")\n",
    "    print(f\"{2*i-1} : {(benchmark.trains[incremental_step].targets == (2*i-1)).sum().item()} --> {(benchmark.trains[incremental_step].targets[one_idx] == (2*i-1)).sum().item()}\")\n"
   ]
  },
  {
   "cell_type": "code",
   "execution_count": 16,
   "id": "0880e76a",
   "metadata": {},
   "outputs": [
    {
     "name": "stdout",
     "output_type": "stream",
     "text": [
      "0.008 0.005 \n",
      "0.047 0.13 0.109 0.17 \n",
      "0.134 0.056 0.173 0.244 0.201 0.119 \n",
      "0.172 0.183 0.304 0.299 0.233 0.162 0.233 0.467 \n",
      "0.096 0.174 0.223 0.342 0.138 0.308 0.14 0.163 0.107 0.247 \n"
     ]
    }
   ],
   "source": [
    "for eos in metric_manager_callback.meters['multiclass_eo'].get_data():\n",
    "    for eo in eos:\n",
    "        print(round(eo, 3),end=\" \")\n",
    "    print()"
   ]
  },
  {
   "cell_type": "code",
   "execution_count": 17,
   "id": "f6233f9b",
   "metadata": {},
   "outputs": [
    {
     "data": {
      "text/plain": [
       "[{0: array([976, 980]), 1: array([1132, 1135])},\n",
       " {1: array([1087, 1135]),\n",
       "  0: array([911, 980]),\n",
       "  2: array([ 964, 1032]),\n",
       "  3: array([ 908, 1010])},\n",
       " {0: array([893, 980]),\n",
       "  1: array([1090, 1135]),\n",
       "  2: array([ 871, 1032]),\n",
       "  3: array([ 834, 1010]),\n",
       "  5: array([720, 892]),\n",
       "  4: array([918, 982])},\n",
       " {1: array([1000, 1135]),\n",
       "  0: array([850, 980]),\n",
       "  3: array([ 811, 1010]),\n",
       "  2: array([ 786, 1032]),\n",
       "  4: array([852, 982]),\n",
       "  5: array([694, 892]),\n",
       "  6: array([850, 958]),\n",
       "  7: array([ 776, 1028])},\n",
       " {1: array([1065, 1135]),\n",
       "  0: array([820, 980]),\n",
       "  2: array([ 824, 1032]),\n",
       "  3: array([ 737, 1010]),\n",
       "  5: array([653, 892]),\n",
       "  4: array([773, 982]),\n",
       "  6: array([887, 958]),\n",
       "  7: array([ 900, 1028]),\n",
       "  8: array([854, 974]),\n",
       "  9: array([ 853, 1009])}]"
      ]
     },
     "execution_count": 17,
     "metadata": {},
     "output_type": "execute_result"
    }
   ],
   "source": [
    "metric_manager_callback.meters['classwise_accuracy'].get_data()"
   ]
  },
  {
   "cell_type": "code",
   "execution_count": null,
   "id": "cdbf418f",
   "metadata": {},
   "outputs": [],
   "source": []
  }
 ],
 "metadata": {
  "kernelspec": {
   "display_name": "cil",
   "language": "python",
   "name": "python3"
  },
  "language_info": {
   "codemirror_mode": {
    "name": "ipython",
    "version": 3
   },
   "file_extension": ".py",
   "mimetype": "text/x-python",
   "name": "python",
   "nbconvert_exporter": "python",
   "pygments_lexer": "ipython3",
   "version": "3.9.18"
  }
 },
 "nbformat": 4,
 "nbformat_minor": 5
}
