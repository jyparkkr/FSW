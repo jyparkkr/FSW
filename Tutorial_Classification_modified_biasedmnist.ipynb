{
 "cells": [
  {
   "cell_type": "code",
   "execution_count": 1,
   "id": "b0c3b92f",
   "metadata": {},
   "outputs": [
    {
     "name": "stdout",
     "output_type": "stream",
     "text": [
      "output_dir=./outputs/demo/dataset=BiasedMNIST/seed=10_epoch=15_lr=0.001_tau=10.0_alpha=0.0_lmbd_1.0_lmbdold_0.0\n"
     ]
    }
   ],
   "source": [
    "from torchvision.datasets import MNIST, FashionMNIST, CIFAR10\n",
    "import torchvision\n",
    "import numpy as np\n",
    "import random\n",
    "\n",
    "import torch\n",
    "import torch.nn.functional as F\n",
    "import cl_gym as cl\n",
    "\n",
    "import sys\n",
    "import os\n",
    "\n",
    "seed = 10\n",
    "\n",
    "np.random.seed(seed)\n",
    "torch.manual_seed(seed)\n",
    "np.random.seed(seed)\n",
    "random.seed(seed)\n",
    "torch.cuda.manual_seed_all(seed)\n",
    "torch.manual_seed(seed)\n",
    "torch.backends.cudnn.deterministic = True\n",
    "torch.backends.cudnn.benchmark = False\n",
    "torch.backends.cudnn.enabled = False\n",
    "torch.set_num_threads(8)\n",
    "\n",
    "def make_params() -> dict:\n",
    "    import os\n",
    "    from pathlib import Path\n",
    "    import uuid\n",
    "\n",
    "    params = {\n",
    "            # dataset\n",
    "            'dataset': \"BiasedMNIST\",\n",
    "            'fairness_agg': 'mean',\n",
    "            # 'model': 'MLP',\n",
    "\n",
    "            # benchmark\n",
    "            'seed': seed,\n",
    "            'num_tasks': 5,\n",
    "            'epochs_per_task': 15,\n",
    "            'per_task_examples': np.inf,\n",
    "            # 'per_task_examples': 10000,\n",
    "            'per_task_memory_examples': 128,\n",
    "            'batch_size_train': 64,\n",
    "            'batch_size_memory': 64,\n",
    "            'batch_size_validation': 256,\n",
    "            'tau': 10.0,\n",
    "\n",
    "            # algorithm\n",
    "            'optimizer': 'sgd',\n",
    "            'learning_rate': 0.001,\n",
    "            'momentum': 0.9,\n",
    "            'learning_rate_decay': 1.0,\n",
    "            'criterion': torch.nn.CrossEntropyLoss(),\n",
    "            # 'criterion': torch.nn.BCEWithLogitsLoss(),\n",
    "\n",
    "            'device': torch.device('cuda:6' if torch.cuda.is_available() else 'cpu'),\n",
    "             \n",
    "            # sample selection\n",
    "            'alpha': 0.00,\n",
    "            'metric' : \"EO\",\n",
    "            'lambda': 1.0,\n",
    "            'lambda_old': 0.0,\n",
    "            'solver': \"absolute_minsum_LP_solver_v3\",\n",
    "            'converter': \"converter_LP_absolute_additional_EO\",\n",
    "            \n",
    "              }\n",
    "    \n",
    "\n",
    "#     trial_id = str(uuid.uuid4())\n",
    "    trial_id = f\"demo/dataset={params['dataset']}/seed={params['seed']}_epoch={params['epochs_per_task']}_lr={params['learning_rate']}_tau={params['tau']}_alpha={params['alpha']}\"\n",
    "    if params['lambda'] != 0:\n",
    "        trial_id+=f\"_lmbd_{params['lambda']}_lmbdold_{params['lambda_old']}\"\n",
    "    params['trial_id'] = trial_id\n",
    "    params['output_dir'] = os.path.join(\"./outputs/{}\".format(trial_id))\n",
    "    print(f\"output_dir={params['output_dir']}\")\n",
    "    Path(params['output_dir']).mkdir(parents=True, exist_ok=True)\n",
    "\n",
    "    return params\n",
    "\n",
    "params = make_params()"
   ]
  },
  {
   "cell_type": "code",
   "execution_count": 2,
   "id": "99826537",
   "metadata": {},
   "outputs": [
    {
     "data": {
      "text/plain": [
       "True"
      ]
     },
     "execution_count": 2,
     "metadata": {},
     "output_type": "execute_result"
    }
   ],
   "source": [
    "\"MNIST\" in params['dataset']"
   ]
  },
  {
   "cell_type": "code",
   "execution_count": 3,
   "id": "20c7b886",
   "metadata": {},
   "outputs": [
    {
     "name": "stdout",
     "output_type": "stream",
     "text": [
      "[0 1 2 3 4 5 6 7 8 9]\n"
     ]
    }
   ],
   "source": [
    "from datasets import BiasedMNIST\n",
    "\n",
    "if  params['dataset'] in [\"BiasedMNIST\"]:\n",
    "    benchmark = BiasedMNIST(num_tasks=params['num_tasks'],\n",
    "                                per_task_memory_examples=params['per_task_memory_examples'],\n",
    "                                per_task_examples = params['per_task_examples'],\n",
    "                                random_class_idx=False)\n",
    "    input_dim = (3, 28, 28)\n",
    "    class_idx = benchmark.class_idx\n",
    "    num_classes = len(class_idx)"
   ]
  },
  {
   "cell_type": "code",
   "execution_count": 4,
   "id": "87fd9653",
   "metadata": {},
   "outputs": [
    {
     "data": {
      "image/png": "[encoded data removed]",
      "text/plain": [
       "<PIL.Image.Image image mode=RGB size=28x28>"
      ]
     },
     "execution_count": 4,
     "metadata": {},
     "output_type": "execute_result"
    }
   ],
   "source": [
    "from torchvision.transforms.functional import to_pil_image\n",
    "from cl_gym.benchmarks.transforms import MNIST_MEAN, MNIST_STD\n",
    "COLOR_MAP = {\n",
    "    0: (1, 0, 0),\n",
    "    1: (0, 1, 0),\n",
    "    2: (1, 1, 0),\n",
    "    3: (0, 0, 1),\n",
    "    4: (1, 0.65, 0),\n",
    "    5: (0.5, 0, 0.5),\n",
    "    6: (0, 1, 1),\n",
    "    7: (1, 0.75, 0.8),\n",
    "    8: (0.8, 1, 0),\n",
    "    9: (.588, .294, 0.)\n",
    "}\n",
    "\n",
    "r = (1 - 0.1913)\n",
    "color_values = np.array(list(COLOR_MAP.values()))\n",
    "m_rgb = color_values.mean(axis=0)\n",
    "std_rgb = color_values.std(axis=0)\n",
    "\n",
    "bmnist_mean = [r*m + MNIST_MEAN[0] for m in m_rgb]\n",
    "bmnist_std = [(r*s**2+(1-r)*MNIST_STD[0]**2+r*(1-r)*(bmnist_mean[i] - m_rgb[i])**2)**0.5 for i, s in enumerate(std_rgb)]\n",
    "\n",
    "unnormalize = torchvision.transforms.Normalize([-m/s for m, s in zip(bmnist_mean, bmnist_std)], [1/s for s in bmnist_std])\n",
    "sample_idx = 95\n",
    "to_pil_image(unnormalize(benchmark.trains[2][sample_idx][0]), mode=\"RGB\")"
   ]
  },
  {
   "cell_type": "code",
   "execution_count": 5,
   "id": "e8806699",
   "metadata": {},
   "outputs": [
    {
     "data": {
      "image/png": "[encoded data removed]",
      "text/plain": [
       "<PIL.Image.Image image mode=RGB size=280x28>"
      ]
     },
     "execution_count": 5,
     "metadata": {},
     "output_type": "execute_result"
    }
   ],
   "source": [
    "target_label = 0\n",
    "incremental_step = 1\n",
    "# cat_img = torch.cat([img for img in benchmark.trains[incremental_step].inputs[benchmark.trains[incremental_step].targets == target_label][20:30]], dim=2)\n",
    "cat_img = torch.cat([img for img, target, *_ in benchmark.tests[incremental_step]][20:30], dim=2)\n",
    "to_pil_image(unnormalize(cat_img), mode=\"RGB\")"
   ]
  },
  {
   "cell_type": "code",
   "execution_count": 6,
   "id": "8e73e1c4",
   "metadata": {},
   "outputs": [],
   "source": [
    "from trainers import FairContinualTrainer\n",
    "from trainers.fair_trainer import FairContinualTrainer2\n",
    "from metrics import FairMetricCollector\n",
    "from metrics import MetricCollector2\n",
    "\n",
    "from algorithms import Heuristic3\n",
    "from algorithms.fairl import FaIRL\n",
    "from algorithms.icarl import iCaRL\n",
    "from backbones import MLP2Layers2\n",
    "\n",
    "backbone = MLP2Layers2(\n",
    "    input_dim=input_dim, \n",
    "    hidden_dim_1=256, \n",
    "    hidden_dim_2=256, \n",
    "    output_dim=num_classes,\n",
    "    class_idx=class_idx,\n",
    "    config=params\n",
    "    ).to(params['device'])\n",
    "# backbone = ResNet18Small2(\n",
    "#         input_dim=input_dim, \n",
    "#         output_dim=num_classes,\n",
    "#         class_idx=class_idx,\n",
    "#         config=params\n",
    "#     ).to(params['device'])\n",
    "# algorithm = iCaRL(backbone, benchmark, params, requires_memory=True)\n",
    "algorithm = Heuristic3(backbone, benchmark, params, requires_memory=True)\n",
    "\n",
    "metric_manager_callback = FairMetricCollector(num_tasks=params['num_tasks'],\n",
    "                                                        eval_interval='epoch',\n",
    "                                                        epochs_per_task=params['epochs_per_task'])\n",
    "# metric_manager_callback = MetricCollector2(num_tasks=params['num_tasks'],\n",
    "#                                                         eval_interval='epoch',\n",
    "#                                                         epochs_per_task=params['epochs_per_task'])\n",
    "from trainers.baselines import BaseMemoryContinualTrainer as ContinualTrainer\n",
    "\n",
    "# trainer = ContinualTrainer(algorithm, params, callbacks=[metric_manager_callback])\n",
    "\n",
    "trainer = FairContinualTrainer2(algorithm, params, callbacks=[metric_manager_callback])\n"
   ]
  },
  {
   "cell_type": "code",
   "execution_count": 7,
   "id": "8b8e3d98",
   "metadata": {},
   "outputs": [],
   "source": [
    "if params['fairness_agg'] == \"mean\":\n",
    "    agg = np.mean\n",
    "elif params['fairness_agg'] == \"max\":\n",
    "    agg = np.max\n",
    "else:\n",
    "    raise NotImplementedError\n",
    "\n",
    "fairness_metrics = [\"std\", \"EER\", \"EO\", \"DP\"]\n",
    "for metric in metric_manager_callback.meters:\n",
    "    if metric in fairness_metrics:\n",
    "        metric_manager_callback.meters[metric].agg = agg\n"
   ]
  },
  {
   "cell_type": "code",
   "execution_count": 8,
   "id": "bbbb73ec",
   "metadata": {},
   "outputs": [
    {
     "name": "stdout",
     "output_type": "stream",
     "text": [
      "---------------------------- Task 1 -----------------------\n",
      "[1] Eval metrics for task 1 >> {'accuracy': 0.850024723545806, 'loss': 0.0019389718700526172, 'EO': [0.09444444444444444, 0.22201834862385322], 'DP': -1, 'accuracy_s0': 1.0, 'accuracy_s1': 0.6835372069317023, 'classwise_accuracy': {0: array([895, 980]), 1: array([ 893, 1135])}, 'DP_ingredients': {'class_pred_count_s0': {0: 530, 1: 590}, 'class_pred_count_s1': {0: 607, 1: 388}, 'class_pred_count': {0: 1137, 1: 978}, 'count_s0': 1120, 'count_s1': 995, 'count': 2115}}\n",
      "[2] Eval metrics for task 1 >> {'accuracy': 0.9226018160568192, 'loss': 0.0010324257626319327, 'EO': [0.03999999999999998, 0.12293577981651377], 'DP': -1, 'accuracy_s0': 1.0, 'accuracy_s1': 0.8370642201834863, 'classwise_accuracy': {1: array([1001, 1135]), 0: array([944, 980])}, 'DP_ingredients': {'class_pred_count_s0': {1: 590, 0: 530}, 'class_pred_count_s1': {1: 447, 0: 548}, 'class_pred_count': {1: 1037, 0: 1078}, 'count_s0': 1120, 'count_s1': 995, 'count': 2115}}\n",
      "[3] Eval metrics for task 1 >> {'accuracy': 0.9607907039467769, 'loss': 0.000600889924006541, 'EO': [0.021111111111111136, 0.061467889908256856], 'DP': -1, 'accuracy_s0': 1.0, 'accuracy_s1': 0.917420998980632, 'classwise_accuracy': {0: array([961, 980]), 1: array([1068, 1135])}, 'DP_ingredients': {'class_pred_count_s0': {0: 530, 1: 590}, 'class_pred_count_s1': {1: 497, 0: 498}, 'class_pred_count': {0: 1028, 1: 1087}, 'count_s0': 1120, 'count_s1': 995, 'count': 2115}}\n",
      "[4] Eval metrics for task 1 >> {'accuracy': 0.9680953879349097, 'loss': 0.00041154052348847084, 'EO': [0.010000000000000009, 0.05688073394495413], 'DP': -1, 'accuracy_s0': 1.0, 'accuracy_s1': 0.9331192660550458, 'classwise_accuracy': {0: array([971, 980]), 1: array([1073, 1135])}, 'DP_ingredients': {'class_pred_count_s0': {0: 530, 1: 590}, 'class_pred_count_s1': {0: 503, 1: 492}, 'class_pred_count': {0: 1033, 1: 1082}, 'count_s0': 1120, 'count_s1': 995, 'count': 2115}}\n",
      "[5] Eval metrics for task 1 >> {'accuracy': 0.9763036051424976, 'loss': 0.0003067583162733849, 'EO': [0.005555555555555536, 0.044036697247706424], 'DP': -1, 'accuracy_s0': 1.0, 'accuracy_s1': 0.950407747196738, 'classwise_accuracy': {0: array([975, 980]), 1: array([1087, 1135])}, 'DP_ingredients': {'class_pred_count_s0': {1: 590, 0: 530}, 'class_pred_count_s1': {0: 493, 1: 502}, 'class_pred_count': {0: 1023, 1: 1092}, 'count_s0': 1120, 'count_s1': 995, 'count': 2115}}\n",
      "[6] Eval metrics for task 1 >> {'accuracy': 0.9949451586802122, 'loss': 0.00022407253548044966, 'EO': [0.003333333333333355, 0.007339449541284404], 'DP': -1, 'accuracy_s0': 1.0, 'accuracy_s1': 0.9893272171253822, 'classwise_accuracy': {1: array([1127, 1135]), 0: array([977, 980])}, 'DP_ingredients': {'class_pred_count_s0': {1: 590, 0: 530}, 'class_pred_count_s1': {0: 455, 1: 540}, 'class_pred_count': {1: 1130, 0: 985}, 'count_s0': 1120, 'count_s1': 995, 'count': 2115}}\n",
      "[7] Eval metrics for task 1 >> {'accuracy': 0.995895891396206, 'loss': 0.00018421062235291123, 'EO': [0.0022222222222222365, 0.006422018348623826], 'DP': -1, 'accuracy_s0': 1.0, 'accuracy_s1': 0.991355759429154, 'classwise_accuracy': {0: array([978, 980]), 1: array([1128, 1135])}, 'DP_ingredients': {'class_pred_count_s0': {0: 530, 1: 590}, 'class_pred_count_s1': {0: 455, 1: 540}, 'class_pred_count': {0: 985, 1: 1130}, 'count_s0': 1120, 'count_s1': 995, 'count': 2115}}\n",
      "[8] Eval metrics for task 1 >> {'accuracy': 0.9977276813809224, 'loss': 0.00015191257563606784, 'EO': [0.0011111111111111183, 0.003669724770642202], 'DP': -1, 'accuracy_s0': 1.0, 'accuracy_s1': 0.9952191641182466, 'classwise_accuracy': {1: array([1131, 1135]), 0: array([979, 980])}, 'DP_ingredients': {'class_pred_count_s0': {1: 590, 0: 530}, 'class_pred_count_s1': {1: 542, 0: 453}, 'class_pred_count': {1: 1132, 0: 983}, 'count_s0': 1120, 'count_s1': 995, 'count': 2115}}\n",
      "[9] Eval metrics for task 1 >> {'accuracy': 0.9972871527465612, 'loss': 0.00013633837513889828, 'EO': [0.0011111111111111183, 0.004587155963302725], 'DP': -1, 'accuracy_s0': 1.0, 'accuracy_s1': 0.9943017329255861, 'classwise_accuracy': {0: array([979, 980]), 1: array([1130, 1135])}, 'DP_ingredients': {'class_pred_count_s0': {0: 530, 1: 590}, 'class_pred_count_s1': {0: 454, 1: 541}, 'class_pred_count': {0: 984, 1: 1131}, 'count_s0': 1120, 'count_s1': 995, 'count': 2115}}\n",
      "[10] Eval metrics for task 1 >> {'accuracy': 0.9977276813809224, 'loss': 0.0001231531839351, 'EO': [0.0011111111111111183, 0.003669724770642202], 'DP': -1, 'accuracy_s0': 1.0, 'accuracy_s1': 0.9952191641182466, 'classwise_accuracy': {1: array([1131, 1135]), 0: array([979, 980])}, 'DP_ingredients': {'class_pred_count_s0': {1: 590, 0: 530}, 'class_pred_count_s1': {1: 542, 0: 453}, 'class_pred_count': {1: 1132, 0: 983}, 'count_s0': 1120, 'count_s1': 995, 'count': 2115}}\n",
      "[11] Eval metrics for task 1 >> {'accuracy': 0.9972871527465612, 'loss': 0.0001133056282644858, 'EO': [0.0011111111111111183, 0.004587155963302725], 'DP': -1, 'accuracy_s0': 1.0, 'accuracy_s1': 0.9943017329255861, 'classwise_accuracy': {0: array([979, 980]), 1: array([1130, 1135])}, 'DP_ingredients': {'class_pred_count_s0': {0: 530, 1: 590}, 'class_pred_count_s1': {0: 454, 1: 541}, 'class_pred_count': {0: 984, 1: 1131}, 'count_s0': 1120, 'count_s1': 995, 'count': 2115}}\n",
      "[12] Eval metrics for task 1 >> {'accuracy': 0.9981682100152837, 'loss': 9.24341237485127e-05, 'EO': [0.0011111111111111183, 0.0027522935779816238], 'DP': -1, 'accuracy_s0': 1.0, 'accuracy_s1': 0.9961365953109073, 'classwise_accuracy': {1: array([1132, 1135]), 0: array([979, 980])}, 'DP_ingredients': {'class_pred_count_s0': {1: 590, 0: 530}, 'class_pred_count_s1': {0: 452, 1: 543}, 'class_pred_count': {1: 1133, 0: 982}, 'count_s0': 1120, 'count_s1': 995, 'count': 2115}}\n",
      "[13] Eval metrics for task 1 >> {'accuracy': 0.9977276813809224, 'loss': 9.609766691993596e-05, 'EO': [0.0011111111111111183, 0.003669724770642202], 'DP': -1, 'accuracy_s0': 1.0, 'accuracy_s1': 0.9952191641182466, 'classwise_accuracy': {1: array([1131, 1135]), 0: array([979, 980])}, 'DP_ingredients': {'class_pred_count_s0': {1: 590, 0: 530}, 'class_pred_count_s1': {0: 453, 1: 542}, 'class_pred_count': {1: 1132, 0: 983}, 'count_s0': 1120, 'count_s1': 995, 'count': 2115}}\n",
      "[14] Eval metrics for task 1 >> {'accuracy': 0.9977276813809224, 'loss': 8.719476913024912e-05, 'EO': [0.0011111111111111183, 0.003669724770642202], 'DP': -1, 'accuracy_s0': 1.0, 'accuracy_s1': 0.9952191641182466, 'classwise_accuracy': {1: array([1131, 1135]), 0: array([979, 980])}, 'DP_ingredients': {'class_pred_count_s0': {1: 590, 0: 530}, 'class_pred_count_s1': {0: 453, 1: 542}, 'class_pred_count': {1: 1132, 0: 983}, 'count_s0': 1120, 'count_s1': 995, 'count': 2115}}\n",
      "[15] Eval metrics for task 1 >> {'accuracy': 0.9972871527465612, 'loss': 8.46357087012442e-05, 'EO': [0.0011111111111111183, 0.004587155963302725], 'DP': -1, 'accuracy_s0': 1.0, 'accuracy_s1': 0.9943017329255861, 'classwise_accuracy': {1: array([1130, 1135]), 0: array([979, 980])}, 'DP_ingredients': {'class_pred_count_s0': {1: 590, 0: 530}, 'class_pred_count_s1': {1: 541, 0: 454}, 'class_pred_count': {1: 1131, 0: 984}, 'count_s0': 1120, 'count_s1': 995, 'count': 2115}}\n",
      "training_task_end\n",
      "---------------------------- Task 2 -----------------------\n",
      "[16] Eval metrics for task 1 >> {'accuracy': 0.9856221343162817, 'loss': 0.00019233876280046243, 'EO': [0.015283018867924547, 0.005504587155963303], 'DP': -1, 'accuracy_s0': 0.9952830188679245, 'accuracy_s1': 0.9744954128440366, 'classwise_accuracy': {0: array([957, 980]), 1: array([1129, 1135])}, 'DP_ingredients': {'class_pred_count_s0': {0: 525, 1: 592, 3: 2, 2: 1}, 'class_pred_count_s1': {1: 540, 0: 432, 3: 12, 2: 11}, 'class_pred_count': {0: 957, 1: 1132, 3: 14, 2: 12}, 'count_s0': 1120, 'count_s1': 995, 'count': 2115}}\n",
      "[16] Eval metrics for task 2 >> {'accuracy': 0.6840394504566736, 'loss': 0.003993478128422019, 'EO': [0.34453538468472866, 0.281437125748503], 'DP': -1, 'accuracy_s0': 0.9942418426103647, 'accuracy_s1': 0.368269332177133, 'classwise_accuracy': {3: array([ 728, 1010]), 2: array([ 668, 1032])}, 'DP_ingredients': {'class_pred_count_s0': {3: 509, 2: 515, 0: 6}, 'class_pred_count_s1': {2: 294, 3: 341, 0: 170, 1: 207}, 'class_pred_count': {3: 850, 2: 809, 0: 176, 1: 207}, 'count_s0': 1030, 'count_s1': 1012, 'count': 2042}}\n",
      "[17] Eval metrics for task 1 >> {'accuracy': 0.9818888788995774, 'loss': 0.0002523564326248834, 'EO': [0.014507337526205477, 0.008326854299486874], 'DP': -1, 'accuracy_s0': 0.9925487687879757, 'accuracy_s1': 0.9697145769622834, 'classwise_accuracy': {0: array([954, 980]), 1: array([1124, 1135])}, 'DP_ingredients': {'class_pred_count_s0': {0: 523, 1: 589, 3: 6, 2: 2}, 'class_pred_count_s1': {0: 432, 1: 536, 2: 14, 3: 13}, 'class_pred_count': {0: 955, 1: 1125, 2: 16, 3: 19}, 'count_s0': 1120, 'count_s1': 995, 'count': 2115}}\n",
      "[17] Eval metrics for task 2 >> {'accuracy': 0.7578210146596055, 'loss': 0.0025953137033950103, 'EO': [0.260330314651562, 0.22255489021956087], 'DP': -1, 'accuracy_s0': 0.9971209213051824, 'accuracy_s1': 0.5142357164340594, 'classwise_accuracy': {2: array([ 760, 1032]), 3: array([ 787, 1010])}, 'DP_ingredients': {'class_pred_count_s0': {2: 518, 3: 509, 0: 3}, 'class_pred_count_s1': {2: 384, 1: 116, 3: 398, 0: 114}, 'class_pred_count': {2: 902, 1: 116, 3: 907, 0: 117}, 'count_s0': 1030, 'count_s1': 1012, 'count': 2042}}\n",
      "[18] Eval metrics for task 1 >> {'accuracy': 0.9827002607210285, 'loss': 0.0002815076473651203, 'EO': [0.013563941299790383, 0.005574560721505195], 'DP': -1, 'accuracy_s0': 0.9916053725615606, 'accuracy_s1': 0.972466870540265, 'classwise_accuracy': {1: array([1127, 1135]), 0: array([953, 980])}, 'DP_ingredients': {'class_pred_count_s0': {0: 522, 1: 589, 3: 7, 2: 2}, 'class_pred_count_s1': {1: 539, 0: 432, 2: 11, 3: 13}, 'class_pred_count': {1: 1128, 0: 954, 2: 13, 3: 20}, 'count_s0': 1120, 'count_s1': 995, 'count': 2115}}\n",
      "[18] Eval metrics for task 2 >> {'accuracy': 0.8112326348913961, 'loss': 0.0018951462893714867, 'EO': [0.21138785490795586, 0.1656686626746507], 'DP': -1, 'accuracy_s0': 0.9980806142034548, 'accuracy_s1': 0.6210240966208483, 'classwise_accuracy': {2: array([ 812, 1032]), 3: array([ 844, 1010])}, 'DP_ingredients': {'class_pred_count_s0': {2: 519, 3: 509, 0: 2}, 'class_pred_count_s1': {2: 395, 1: 92, 0: 79, 3: 446}, 'class_pred_count': {2: 914, 1: 92, 0: 81, 3: 955}, 'count_s0': 1030, 'count_s1': 1012, 'count': 2042}}\n",
      "[19] Eval metrics for task 1 >> {'accuracy': 0.9792681830441428, 'loss': 0.00032685337055377646, 'EO': [0.01911949685534592, 0.005644534287047143], 'DP': -1, 'accuracy_s0': 0.990757914934442, 'accuracy_s1': 0.965993883792049, 'classwise_accuracy': {0: array([948, 980]), 1: array([1125, 1135])}, 'DP_ingredients': {'class_pred_count_s0': {0: 522, 1: 588, 3: 8, 2: 2}, 'class_pred_count_s1': {1: 538, 0: 427, 2: 13, 3: 17}, 'class_pred_count': {0: 949, 1: 1126, 2: 15, 3: 25}, 'count_s0': 1120, 'count_s1': 995, 'count': 2115}}\n",
      "[19] Eval metrics for task 2 >> {'accuracy': 0.8401450610177297, 'loss': 0.0016128295461531367, 'EO': [0.18399059463398326, 0.1347305389221557], 'DP': -1, 'accuracy_s0': 0.9980806142034548, 'accuracy_s1': 0.679359480647316, 'classwise_accuracy': {2: array([ 840, 1032]), 3: array([ 875, 1010])}, 'DP_ingredients': {'class_pred_count_s0': {3: 509, 2: 519, 0: 2}, 'class_pred_count_s1': {2: 393, 1: 85, 3: 461, 0: 73}, 'class_pred_count': {2: 912, 1: 85, 3: 970, 0: 75}, 'count_s0': 1030, 'count_s1': 1012, 'count': 2042}}\n",
      "[20] Eval metrics for task 1 >> {'accuracy': 0.977946597141059, 'loss': 0.00037118990511477134, 'EO': [0.01911949685534592, 0.0048670502254703485], 'DP': -1, 'accuracy_s0': 0.9890629996802047, 'accuracy_s1': 0.9650764525993885, 'classwise_accuracy': {1: array([1122, 1135]), 0: array([948, 980])}, 'DP_ingredients': {'class_pred_count_s0': {0: 522, 1: 586, 2: 2, 3: 10}, 'class_pred_count_s1': {1: 537, 0: 426, 3: 17, 2: 15}, 'class_pred_count': {1: 1123, 0: 948, 3: 27, 2: 17}, 'count_s0': 1120, 'count_s1': 995, 'count': 2115}}\n",
      "[20] Eval metrics for task 2 >> {'accuracy': 0.8694258960779799, 'loss': 0.0012960984179135285, 'EO': [0.14678981786493683, 0.1147704590818363], 'DP': -1, 'accuracy_s0': 0.9990403071017274, 'accuracy_s1': 0.7374800301549542, 'classwise_accuracy': {3: array([ 895, 1010]), 2: array([ 880, 1032])}, 'DP_ingredients': {'class_pred_count_s0': {3: 509, 2: 520, 0: 1}, 'class_pred_count_s1': {3: 471, 0: 44, 2: 420, 1: 77}, 'class_pred_count': {3: 980, 2: 940, 0: 45, 1: 77}, 'count_s0': 1030, 'count_s1': 1012, 'count': 2042}}\n",
      "[21] Eval metrics for task 1 >> {'accuracy': 0.9745145194641733, 'loss': 0.0004241910809320761, 'EO': [0.022620545073375242, 0.008466801430570658], 'DP': -1, 'accuracy_s0': 0.9889670610809083, 'accuracy_s1': 0.9578797145769623, 'classwise_accuracy': {0: array([943, 980]), 1: array([1120, 1135])}, 'DP_ingredients': {'class_pred_count_s0': {1: 587, 0: 521, 3: 9, 2: 3}, 'class_pred_count_s1': {0: 422, 1: 534, 2: 22, 3: 17}, 'class_pred_count': {0: 943, 1: 1121, 2: 25, 3: 26}, 'count_s0': 1120, 'count_s1': 995, 'count': 2115}}\n",
      "[21] Eval metrics for task 2 >> {'accuracy': 0.8897430731445237, 'loss': 0.0011056529961883963, 'EO': [0.10275850671033798, 0.11776447105788423], 'DP': -1, 'accuracy_s0': 0.9990403071017274, 'accuracy_s1': 0.7785173293335053, 'classwise_accuracy': {3: array([ 892, 1010]), 2: array([ 925, 1032])}, 'DP_ingredients': {'class_pred_count_s0': {3: 509, 2: 520, 0: 1}, 'class_pred_count_s1': {3: 433, 2: 478, 1: 56, 0: 45}, 'class_pred_count': {3: 942, 2: 998, 1: 56, 0: 46}, 'count_s0': 1030, 'count_s1': 1012, 'count': 2042}}\n",
      "[22] Eval metrics for task 1 >> {'accuracy': 0.975024723545806, 'loss': 0.0005169244082402393, 'EO': [0.02150943396226418, 0.0067019126107914495], 'DP': -1, 'accuracy_s0': 0.9881196034537896, 'accuracy_s1': 0.959908256880734, 'classwise_accuracy': {1: array([1120, 1135]), 0: array([944, 980])}, 'DP_ingredients': {'class_pred_count_s0': {0: 521, 2: 3, 1: 586, 3: 10}, 'class_pred_count_s1': {1: 535, 0: 423, 3: 19, 2: 18}, 'class_pred_count': {1: 1121, 0: 944, 2: 21, 3: 29}, 'count_s0': 1120, 'count_s1': 995, 'count': 2115}}\n",
      "[22] Eval metrics for task 2 >> {'accuracy': 0.898896691994781, 'loss': 0.0010760351942521935, 'EO': [0.12526339907824408, 0.07684630738522952], 'DP': -1, 'accuracy_s0': 0.9990403071017274, 'accuracy_s1': 0.7969306006382538, 'classwise_accuracy': {3: array([ 933, 1010]), 2: array([ 902, 1032])}, 'DP_ingredients': {'class_pred_count_s0': {2: 520, 3: 509, 0: 1}, 'class_pred_count_s1': {3: 503, 2: 427, 1: 51, 0: 31}, 'class_pred_count': {3: 1012, 2: 947, 1: 51, 0: 32}, 'count_s0': 1030, 'count_s1': 1012, 'count': 2042}}\n",
      "[23] Eval metrics for task 1 >> {'accuracy': 0.9748853726512632, 'loss': 0.0005230009326838996, 'EO': [0.02373165618448636, 0.0048670502254703485], 'DP': -1, 'accuracy_s0': 0.9881196034537896, 'accuracy_s1': 0.9595208970438329, 'classwise_accuracy': {0: array([942, 980]), 1: array([1122, 1135])}, 'DP_ingredients': {'class_pred_count_s0': {0: 521, 1: 586, 2: 3, 3: 10}, 'class_pred_count_s1': {0: 421, 1: 537, 3: 20, 2: 17}, 'class_pred_count': {0: 942, 1: 1123, 3: 30, 2: 20}, 'count_s0': 1120, 'count_s1': 995, 'count': 2115}}\n",
      "[23] Eval metrics for task 2 >> {'accuracy': 0.9115252513623455, 'loss': 0.0009420411360252149, 'EO': [0.10275850671033798, 0.07385229540918165], 'DP': -1, 'accuracy_s0': 0.9990403071017274, 'accuracy_s1': 0.8224295049822078, 'classwise_accuracy': {2: array([ 925, 1032]), 3: array([ 936, 1010])}, 'DP_ingredients': {'class_pred_count_s0': {2: 520, 3: 509, 0: 1}, 'class_pred_count_s1': {1: 62, 2: 443, 3: 486, 0: 21}, 'class_pred_count': {1: 62, 2: 963, 3: 995, 0: 22}, 'count_s0': 1030, 'count_s1': 1012, 'count': 2042}}\n",
      "[24] Eval metrics for task 1 >> {'accuracy': 0.9694124786478469, 'loss': 0.0005096135317539493, 'EO': [0.03167714884696016, 0.0067019126107914495], 'DP': -1, 'accuracy_s0': 0.9871762072273744, 'accuracy_s1': 0.9487971457696229, 'classwise_accuracy': {1: array([1120, 1135]), 0: array([933, 980])}, 'DP_ingredients': {'class_pred_count_s0': {1: 586, 0: 520, 3: 10, 2: 4}, 'class_pred_count_s1': {1: 534, 0: 413, 3: 19, 2: 29}, 'class_pred_count': {1: 1120, 0: 933, 3: 29, 2: 33}, 'count_s0': 1120, 'count_s1': 995, 'count': 2115}}\n",
      "[24] Eval metrics for task 2 >> {'accuracy': 0.9201617545475478, 'loss': 0.0008924884628595731, 'EO': [0.07925636007827791, 0.08183632734530938], 'DP': -1, 'accuracy_s0': 1.0, 'accuracy_s1': 0.8389073125764127, 'classwise_accuracy': {3: array([ 928, 1010]), 2: array([ 951, 1032])}, 'DP_ingredients': {'class_pred_count_s0': {3: 509, 2: 521}, 'class_pred_count_s1': {2: 479, 3: 458, 0: 25, 1: 50}, 'class_pred_count': {3: 967, 2: 1000, 0: 25, 1: 50}, 'count_s0': 1030, 'count_s1': 1012, 'count': 2042}}\n",
      "[25] Eval metrics for task 1 >> {'accuracy': 0.9715229704216488, 'loss': 0.000580713337828927, 'EO': [0.02612159329140462, 0.007619343803452028], 'DP': -1, 'accuracy_s0': 0.9871762072273744, 'accuracy_s1': 0.9534352701325178, 'classwise_accuracy': {0: array([938, 980]), 1: array([1119, 1135])}, 'DP_ingredients': {'class_pred_count_s0': {0: 520, 1: 586, 2: 4, 3: 10}, 'class_pred_count_s1': {0: 418, 1: 534, 3: 21, 2: 22}, 'class_pred_count': {0: 938, 1: 1120, 3: 31, 2: 26}, 'count_s0': 1120, 'count_s1': 995, 'count': 2115}}\n",
      "[25] Eval metrics for task 2 >> {'accuracy': 0.9285459359889477, 'loss': 0.0007936238629577442, 'EO': [0.07632093933463796, 0.06786427145708585], 'DP': -1, 'accuracy_s0': 1.0, 'accuracy_s1': 0.8558147892082761, 'classwise_accuracy': {3: array([ 942, 1010]), 2: array([ 954, 1032])}, 'DP_ingredients': {'class_pred_count_s0': {3: 509, 2: 521}, 'class_pred_count_s1': {3: 469, 1: 47, 2: 473, 0: 23}, 'class_pred_count': {3: 978, 1: 47, 2: 994, 0: 23}, 'count_s0': 1030, 'count_s1': 1012, 'count': 2042}}\n",
      "[26] Eval metrics for task 1 >> {'accuracy': 0.9736334621954509, 'loss': 0.0005705623656299943, 'EO': [0.020566037735849085, 0.006771886176333397], 'DP': -1, 'accuracy_s0': 0.9863287496002558, 'accuracy_s1': 0.9589908256880734, 'classwise_accuracy': {0: array([943, 980]), 1: array([1118, 1135])}, 'DP_ingredients': {'class_pred_count_s0': {0: 520, 1: 585, 3: 11, 2: 4}, 'class_pred_count_s1': {0: 423, 1: 534, 3: 23, 2: 15}, 'class_pred_count': {0: 943, 1: 1119, 3: 34, 2: 19}, 'count_s0': 1120, 'count_s1': 995, 'count': 2115}}\n",
      "[26] Eval metrics for task 2 >> {'accuracy': 0.9204361424514544, 'loss': 0.0008256951899766688, 'EO': [0.10275850671033798, 0.05588822355289419], 'DP': -1, 'accuracy_s0': 0.9990403071017274, 'accuracy_s1': 0.8403935768384952, 'classwise_accuracy': {3: array([ 954, 1010]), 2: array([ 925, 1032])}, 'DP_ingredients': {'class_pred_count_s0': {3: 509, 2: 520, 0: 1}, 'class_pred_count_s1': {2: 432, 3: 513, 1: 41, 0: 26}, 'class_pred_count': {3: 1022, 2: 952, 1: 41, 0: 27}, 'count_s0': 1030, 'count_s1': 1012, 'count': 2042}}\n",
      "[27] Eval metrics for task 1 >> {'accuracy': 0.970340735413108, 'loss': 0.0005831484958071518, 'EO': [0.021844863731656172, 0.010441610946975599], 'DP': -1, 'accuracy_s0': 0.9853853533738408, 'accuracy_s1': 0.953098878695209, 'classwise_accuracy': {1: array([1114, 1135]), 0: array([940, 980])}, 'DP_ingredients': {'class_pred_count_s0': {0: 519, 1: 585, 3: 12, 2: 4}, 'class_pred_count_s1': {1: 529, 0: 421, 2: 24, 3: 21}, 'class_pred_count': {1: 1114, 0: 940, 2: 28, 3: 33}, 'count_s0': 1120, 'count_s1': 995, 'count': 2115}}\n",
      "[27] Eval metrics for task 2 >> {'accuracy': 0.9383202855169237, 'loss': 0.0006915435165779832, 'EO': [0.06457925636007827, 0.059880239520958056], 'DP': -1, 'accuracy_s0': 1.0, 'accuracy_s1': 0.8755405041189637, 'classwise_accuracy': {3: array([ 950, 1010]), 2: array([ 966, 1032])}, 'DP_ingredients': {'class_pred_count_s0': {3: 509, 2: 521}, 'class_pred_count_s1': {3: 476, 2: 481, 0: 23, 1: 32}, 'class_pred_count': {3: 985, 2: 1002, 0: 23, 1: 32}, 'count_s0': 1030, 'count_s1': 1012, 'count': 2042}}\n",
      "[28] Eval metrics for task 1 >> {'accuracy': 0.9679290658994876, 'loss': 0.0006892591468267689, 'EO': [0.025178197064989527, 0.014041362152075854], 'DP': -1, 'accuracy_s0': 0.9862328110009594, 'accuracy_s1': 0.9470132517838941, 'classwise_accuracy': {0: array([937, 980]), 1: array([1112, 1135])}, 'DP_ingredients': {'class_pred_count_s0': {0: 519, 1: 586, 3: 11, 2: 4}, 'class_pred_count_s1': {1: 526, 0: 418, 3: 24, 2: 27}, 'class_pred_count': {0: 937, 1: 1112, 3: 35, 2: 31}, 'count_s0': 1120, 'count_s1': 995, 'count': 2115}}\n",
      "[28] Eval metrics for task 2 >> {'accuracy': 0.9392998311459053, 'loss': 0.0006595881369391805, 'EO': [0.063600782778865, 0.05888223552894212], 'DP': -1, 'accuracy_s0': 1.0, 'accuracy_s1': 0.8775169816921928, 'classwise_accuracy': {2: array([ 967, 1032]), 3: array([ 951, 1010])}, 'DP_ingredients': {'class_pred_count_s0': {2: 521, 3: 509}, 'class_pred_count_s1': {2: 487, 1: 31, 3: 477, 0: 17}, 'class_pred_count': {2: 1008, 3: 986, 1: 31, 0: 17}, 'count_s0': 1030, 'count_s1': 1012, 'count': 2042}}\n",
      "[29] Eval metrics for task 1 >> {'accuracy': 0.9699002067787468, 'loss': 0.0006164347132047017, 'EO': [0.021844863731656172, 0.009594153319856968], 'DP': -1, 'accuracy_s0': 0.9845378957467221, 'accuracy_s1': 0.953098878695209, 'classwise_accuracy': {0: array([940, 980]), 1: array([1113, 1135])}, 'DP_ingredients': {'class_pred_count_s0': {0: 519, 1: 584, 3: 13, 2: 4}, 'class_pred_count_s1': {1: 530, 0: 421, 3: 22, 2: 22}, 'class_pred_count': {0: 940, 1: 1114, 3: 35, 2: 26}, 'count_s0': 1120, 'count_s1': 995, 'count': 2115}}\n",
      "[29] Eval metrics for task 2 >> {'accuracy': 0.9378146826310538, 'loss': 0.0006850269001914985, 'EO': [0.063600782778865, 0.061876247504990045], 'DP': -1, 'accuracy_s0': 1.0, 'accuracy_s1': 0.874522969716145, 'classwise_accuracy': {3: array([ 948, 1010]), 2: array([ 967, 1032])}, 'DP_ingredients': {'class_pred_count_s0': {3: 509, 2: 521}, 'class_pred_count_s1': {3: 478, 1: 25, 2: 489, 0: 20}, 'class_pred_count': {3: 987, 1: 25, 2: 1010, 0: 20}, 'count_s0': 1030, 'count_s1': 1012, 'count': 2042}}\n",
      "[30] Eval metrics for task 1 >> {'accuracy': 0.968578620875663, 'loss': 0.0006331612939459776, 'EO': [0.021844863731656172, 0.010581558078059383], 'DP': -1, 'accuracy_s0': 0.9836904381196034, 'accuracy_s1': 0.9512640163098879, 'classwise_accuracy': {1: array([1110, 1135]), 0: array([940, 980])}, 'DP_ingredients': {'class_pred_count_s0': {1: 583, 0: 519, 3: 14, 2: 4}, 'class_pred_count_s1': {3: 23, 0: 421, 1: 527, 2: 24}, 'class_pred_count': {3: 37, 1: 1110, 0: 940, 2: 28}, 'count_s0': 1120, 'count_s1': 995, 'count': 2115}}\n",
      "[30] Eval metrics for task 2 >> {'accuracy': 0.9388047816409548, 'loss': 0.0006672095262922573, 'EO': [0.063600782778865, 0.059880239520958056], 'DP': -1, 'accuracy_s0': 1.0, 'accuracy_s1': 0.876518977700177, 'classwise_accuracy': {2: array([ 967, 1032]), 3: array([ 950, 1010])}, 'DP_ingredients': {'class_pred_count_s0': {3: 509, 2: 521}, 'class_pred_count_s1': {2: 484, 3: 479, 1: 31, 0: 18}, 'class_pred_count': {2: 1005, 3: 988, 1: 31, 0: 18}, 'count_s0': 1030, 'count_s1': 1012, 'count': 2042}}\n",
      "training_task_end\n",
      "---------------------------- Task 3 -----------------------\n",
      "[31] Eval metrics for task 1 >> {'accuracy': 0.9618762923671671, 'loss': 0.0006764337297167902, 'EO': [0.03534591194968556, 0.013193904524957223], 'DP': -1, 'accuracy_s0': 0.9844419571474257, 'accuracy_s1': 0.9359021406727829, 'classwise_accuracy': {0: array([926, 980]), 1: array([1111, 1135])}, 'DP_ingredients': {'class_pred_count_s0': {0: 518, 1: 585, 3: 7, 4: 7, 5: 3}, 'class_pred_count_s1': {1: 526, 0: 408, 3: 14, 2: 23, 4: 10, 5: 14}, 'class_pred_count': {0: 926, 1: 1111, 3: 21, 2: 23, 4: 17, 5: 17}, 'count_s0': 1120, 'count_s1': 995, 'count': 2115}}\n",
      "[31] Eval metrics for task 2 >> {'accuracy': 0.9169602425358816, 'loss': 0.001196441305372554, 'EO': [0.08239836833426611, 0.06189193322588615], 'DP': -1, 'accuracy_s0': 0.988461059847882, 'accuracy_s1': 0.8441707582877298, 'classwise_accuracy': {2: array([ 926, 1032]), 3: array([ 946, 1010])}, 'DP_ingredients': {'class_pred_count_s0': {2: 510, 3: 508, 4: 11, 1: 1}, 'class_pred_count_s1': {3: 466, 2: 442, 5: 42, 1: 22, 4: 33, 0: 7}, 'class_pred_count': {2: 952, 3: 974, 5: 42, 1: 23, 4: 44, 0: 7}, 'count_s0': 1030, 'count_s1': 1012, 'count': 2042}}\n",
      "[31] Eval metrics for task 3 >> {'accuracy': 0.6551868612605372, 'loss': 0.004622095517949335, 'EO': [0.28374045199101167, 0.40063773197122654], 'DP': -1, 'accuracy_s0': 0.9935939896015752, 'accuracy_s1': 0.309215805639337, 'classwise_accuracy': {5: array([543, 892]), 4: array([689, 982])}, 'DP_ingredients': {'class_pred_count_s0': {5: 462, 4: 471, 3: 1, 0: 3, 1: 1, 2: 1}, 'class_pred_count_s1': {5: 183, 4: 322, 3: 244, 0: 47, 2: 76, 1: 63}, 'class_pred_count': {5: 645, 4: 793, 3: 245, 0: 50, 2: 77, 1: 64}, 'count_s0': 939, 'count_s1': 935, 'count': 1874}}\n",
      "[32] Eval metrics for task 1 >> {'accuracy': 0.9634069046120651, 'loss': 0.0007728399184860519, 'EO': [0.032012578616352205, 0.009664126885398805], 'DP': -1, 'accuracy_s0': 0.9827470418931883, 'accuracy_s1': 0.9410703363914373, 'classwise_accuracy': {1: array([1111, 1135]), 0: array([929, 980])}, 'DP_ingredients': {'class_pred_count_s0': {1: 583, 0: 518, 3: 9, 4: 7, 5: 3}, 'class_pred_count_s1': {1: 528, 0: 411, 3: 10, 5: 14, 2: 21, 4: 11}, 'class_pred_count': {1: 1111, 0: 929, 3: 19, 5: 17, 2: 21, 4: 18}, 'count_s0': 1120, 'count_s1': 995, 'count': 2115}}\n",
      "[32] Eval metrics for task 2 >> {'accuracy': 0.9006236088725152, 'loss': 0.0014905272513248545, 'EO': [0.08239836833426611, 0.07898348685732659], 'DP': -1, 'accuracy_s0': 0.9806025136789234, 'accuracy_s1': 0.8192206584873306, 'classwise_accuracy': {2: array([ 926, 1032]), 3: array([ 913, 1010])}, 'DP_ingredients': {'class_pred_count_s0': {2: 510, 3: 500, 5: 6, 4: 11, 1: 3}, 'class_pred_count_s1': {3: 434, 5: 58, 2: 444, 1: 23, 4: 45, 0: 8}, 'class_pred_count': {2: 954, 3: 934, 5: 64, 1: 26, 4: 56, 0: 8}, 'count_s0': 1030, 'count_s1': 1012, 'count': 2042}}\n",
      "[32] Eval metrics for task 3 >> {'accuracy': 0.7442667567789721, 'loss': 0.0029993546110843265, 'EO': [0.17772484289138007, 0.3358822462673034], 'DP': -1, 'accuracy_s0': 0.9967969948007875, 'accuracy_s1': 0.4831899056421041, 'classwise_accuracy': {5: array([602, 892]), 4: array([799, 982])}, 'DP_ingredients': {'class_pred_count_s0': {5: 464, 4: 472, 2: 1, 0: 2}, 'class_pred_count_s1': {5: 200, 2: 47, 3: 155, 4: 438, 1: 52, 0: 43}, 'class_pred_count': {5: 664, 2: 48, 4: 910, 3: 155, 1: 52, 0: 45}, 'count_s0': 939, 'count_s1': 935, 'count': 1874}}\n",
      "[33] Eval metrics for task 1 >> {'accuracy': 0.9639171086936977, 'loss': 0.0007951687237613308, 'EO': [0.030901467505241087, 0.009664126885398805], 'DP': -1, 'accuracy_s0': 0.9827470418931883, 'accuracy_s1': 0.9421814475025485, 'classwise_accuracy': {1: array([1111, 1135]), 0: array([930, 980])}, 'DP_ingredients': {'class_pred_count_s0': {1: 583, 0: 518, 4: 5, 3: 9, 5: 5}, 'class_pred_count_s1': {1: 528, 0: 412, 5: 19, 2: 18, 4: 8, 3: 10}, 'class_pred_count': {1: 1111, 0: 930, 4: 13, 5: 24, 2: 18, 3: 19}, 'count_s0': 1120, 'count_s1': 995, 'count': 2115}}\n",
      "[33] Eval metrics for task 2 >> {'accuracy': 0.8938617698979201, 'loss': 0.001679826451211905, 'EO': [0.08836311323624974, 0.07104651208388724], 'DP': -1, 'accuracy_s0': 0.972857094374201, 'accuracy_s1': 0.8134474690540641, 'classwise_accuracy': {3: array([ 915, 1010]), 2: array([ 910, 1032])}, 'DP_ingredients': {'class_pred_count_s0': {3: 498, 2: 505, 4: 13, 5: 11, 1: 3}, 'class_pred_count_s1': {4: 40, 2: 428, 3: 441, 1: 24, 5: 71, 0: 8}, 'class_pred_count': {4: 53, 2: 933, 3: 939, 1: 27, 5: 82, 0: 8}, 'count_s0': 1030, 'count_s1': 1012, 'count': 2042}}\n",
      "[33] Eval metrics for task 3 >> {'accuracy': 0.8022544820216817, 'loss': 0.0023247901918793945, 'EO': [0.17183093326466103, 0.22310544238247798], 'DP': -1, 'accuracy_s0': 0.9978699561741782, 'accuracy_s1': 0.602933580527039, 'classwise_accuracy': {5: array([700, 892]), 4: array([805, 982])}, 'DP_ingredients': {'class_pred_count_s0': {5: 465, 4: 472, 0: 1, 2: 1}, 'class_pred_count_s1': {5: 306, 4: 387, 3: 127, 1: 47, 2: 31, 0: 37}, 'class_pred_count': {5: 771, 4: 859, 3: 127, 1: 47, 2: 32, 0: 38}, 'count_s0': 939, 'count_s1': 935, 'count': 1874}}\n",
      "[34] Eval metrics for task 1 >> {'accuracy': 0.9625258473433427, 'loss': 0.000758657176443871, 'EO': [0.02790356394129978, 0.011498989270719906], 'DP': -1, 'accuracy_s0': 0.9808602494403582, 'accuracy_s1': 0.9414576962283385, 'classwise_accuracy': {0: array([929, 980]), 1: array([1109, 1135])}, 'DP_ingredients': {'class_pred_count_s0': {1: 583, 0: 516, 3: 9, 4: 7, 5: 5}, 'class_pred_count_s1': {0: 413, 1: 526, 2: 17, 4: 13, 5: 16, 3: 10}, 'class_pred_count': {0: 929, 1: 1109, 2: 17, 3: 19, 4: 20, 5: 21}, 'count_s0': 1120, 'count_s1': 995, 'count': 2115}}\n",
      "[34] Eval metrics for task 2 >> {'accuracy': 0.882528398188656, 'loss': 0.0019512334719927842, 'EO': [0.09906998058077382, 0.08703026167703881], 'DP': -1, 'accuracy_s0': 0.9747538547978989, 'accuracy_s1': 0.7886536125400863, 'classwise_accuracy': {2: array([ 905, 1032]), 3: array([ 897, 1010])}, 'DP_ingredients': {'class_pred_count_s0': {2: 508, 3: 496, 4: 16, 5: 8, 1: 2}, 'class_pred_count_s1': {5: 81, 3: 426, 2: 421, 1: 22, 4: 54, 0: 8}, 'class_pred_count': {5: 89, 2: 929, 3: 922, 1: 24, 4: 70, 0: 8}, 'count_s0': 1030, 'count_s1': 1012, 'count': 2042}}\n",
      "[34] Eval metrics for task 3 >> {'accuracy': 0.8263347885252939, 'loss': 0.0018672788219492617, 'EO': [0.11780342835306967, 0.23356807511737088], 'DP': -1, 'accuracy_s0': 0.9989429175475687, 'accuracy_s1': 0.6475714140771281, 'classwise_accuracy': {5: array([693, 892]), 4: array([860, 982])}, 'DP_ingredients': {'class_pred_count_s0': {5: 466, 4: 472, 0: 1}, 'class_pred_count_s1': {5: 277, 4: 467, 3: 93, 2: 23, 0: 36, 1: 39}, 'class_pred_count': {5: 743, 4: 939, 3: 93, 2: 23, 0: 37, 1: 39}, 'count_s0': 939, 'count_s1': 935, 'count': 1874}}\n",
      "[35] Eval metrics for task 1 >> {'accuracy': 0.9595342983008182, 'loss': 0.0008112619426233549, 'EO': [0.025241090146750522, 0.012416420463380484], 'DP': -1, 'accuracy_s0': 0.9770866645346978, 'accuracy_s1': 0.9394291539245667, 'classwise_accuracy': {1: array([1108, 1135]), 0: array([924, 980])}, 'DP_ingredients': {'class_pred_count_s0': {1: 583, 0: 512, 4: 6, 5: 11, 3: 8}, 'class_pred_count_s1': {1: 525, 0: 412, 4: 12, 2: 17, 5: 18, 3: 11}, 'class_pred_count': {1: 1108, 0: 924, 4: 18, 5: 29, 2: 17, 3: 19}, 'count_s0': 1120, 'count_s1': 995, 'count': 2115}}\n",
      "[35] Eval metrics for task 2 >> {'accuracy': 0.8757348990713025, 'loss': 0.0021299046996057793, 'EO': [0.09822297178014583, 0.08208729887964739], 'DP': -1, 'accuracy_s0': 0.9650890496966316, 'accuracy_s1': 0.7847787790368383, 'classwise_accuracy': {3: array([ 896, 1010]), 2: array([ 892, 1032])}, 'DP_ingredients': {'class_pred_count_s0': {3: 494, 2: 501, 4: 21, 5: 12, 1: 2}, 'class_pred_count_s1': {3: 429, 4: 55, 2: 412, 5: 84, 1: 24, 0: 8}, 'class_pred_count': {3: 923, 2: 913, 4: 76, 5: 96, 1: 26, 0: 8}, 'count_s0': 1030, 'count_s1': 1012, 'count': 2042}}\n",
      "[35] Eval metrics for task 3 >> {'accuracy': 0.8496113906825093, 'loss': 0.0016471786839984907, 'EO': [0.0912808350328339, 0.21361502347417838], 'DP': -1, 'accuracy_s0': 0.9989429175475687, 'accuracy_s1': 0.6940470590405564, 'classwise_accuracy': {5: array([710, 892]), 4: array([887, 982])}, 'DP_ingredients': {'class_pred_count_s0': {4: 472, 5: 466, 0: 1}, 'class_pred_count_s1': {4: 493, 5: 288, 3: 81, 2: 10, 1: 30, 0: 33}, 'class_pred_count': {4: 965, 5: 754, 3: 81, 2: 10, 1: 30, 0: 34}, 'count_s0': 939, 'count_s1': 935, 'count': 1874}}\n",
      "[36] Eval metrics for task 1 >> {'accuracy': 0.9626651982378854, 'loss': 0.000777166521718316, 'EO': [0.02979035639412997, 0.015098740475820271], 'DP': -1, 'accuracy_s0': 0.983594499520307, 'accuracy_s1': 0.9387054026503567, 'classwise_accuracy': {1: array([1107, 1135]), 0: array([931, 980])}, 'DP_ingredients': {'class_pred_count_s0': {1: 584, 0: 518, 4: 4, 3: 7, 5: 7}, 'class_pred_count_s1': {1: 523, 0: 413, 4: 13, 5: 17, 2: 18, 3: 11}, 'class_pred_count': {1: 1107, 0: 931, 4: 17, 5: 24, 2: 18, 3: 18}, 'count_s0': 1120, 'count_s1': 995, 'count': 2115}}\n",
      "[36] Eval metrics for task 2 >> {'accuracy': 0.8722484457748101, 'loss': 0.002272055924931189, 'EO': [0.10208052405617679, 0.08908901254465529], 'DP': -1, 'accuracy_s0': 0.9669858101203292, 'accuracy_s1': 0.7758162735194971, 'classwise_accuracy': {2: array([ 894, 1032]), 3: array([ 887, 1010])}, 'DP_ingredients': {'class_pred_count_s0': {2: 504, 3: 493, 4: 18, 5: 14, 1: 1}, 'class_pred_count_s1': {2: 413, 3: 420, 5: 91, 1: 21, 4: 58, 0: 9}, 'class_pred_count': {2: 917, 3: 913, 5: 105, 1: 22, 4: 76, 0: 9}, 'count_s0': 1030, 'count_s1': 1012, 'count': 2042}}\n",
      "[36] Eval metrics for task 3 >> {'accuracy': 0.8581690153708457, 'loss': 0.0015578177720785395, 'EO': [0.0834222888638752, 0.20422535211267606], 'DP': -1, 'accuracy_s0': 0.9989429175475687, 'accuracy_s1': 0.7112952765710174, 'classwise_accuracy': {5: array([718, 892]), 4: array([895, 982])}, 'DP_ingredients': {'class_pred_count_s0': {5: 466, 4: 472, 0: 1}, 'class_pred_count_s1': {0: 28, 3: 83, 4: 496, 5: 288, 1: 26, 2: 14}, 'class_pred_count': {5: 754, 0: 29, 3: 83, 4: 968, 1: 26, 2: 14}, 'count_s0': 939, 'count_s1': 935, 'count': 1874}}\n",
      "[37] Eval metrics for task 1 >> {'accuracy': 0.9551514879079386, 'loss': 0.0009142504974178106, 'EO': [0.029853249475890964, 0.016933602861141372], 'DP': -1, 'accuracy_s0': 0.9769907259354014, 'accuracy_s1': 0.9302038735983691, 'classwise_accuracy': {0: array([918, 980]), 1: array([1105, 1135])}, 'DP_ingredients': {'class_pred_count_s0': {0: 511, 1: 584, 3: 7, 4: 5, 5: 13}, 'class_pred_count_s1': {0: 407, 1: 521, 4: 12, 2: 19, 5: 25, 3: 11}, 'class_pred_count': {0: 918, 1: 1105, 4: 17, 2: 19, 5: 38, 3: 18}, 'count_s0': 1120, 'count_s1': 995, 'count': 2115}}\n",
      "[37] Eval metrics for task 2 >> {'accuracy': 0.8668029012203546, 'loss': 0.002441483616361889, 'EO': [0.10208052405617679, 0.09412608966742353], 'DP': -1, 'accuracy_s0': 0.9640388553069698, 'accuracy_s1': 0.7678322415833694, 'classwise_accuracy': {3: array([ 876, 1010]), 2: array([ 894, 1032])}, 'DP_ingredients': {'class_pred_count_s0': {3: 490, 2: 504, 1: 2, 5: 19, 4: 15}, 'class_pred_count_s1': {2: 414, 3: 411, 4: 57, 5: 101, 1: 21, 0: 8}, 'class_pred_count': {3: 901, 2: 918, 4: 72, 5: 120, 1: 23, 0: 8}, 'count_s0': 1030, 'count_s1': 1012, 'count': 2042}}\n",
      "[37] Eval metrics for task 3 >> {'accuracy': 0.8852198314047474, 'loss': 0.001288155195171067, 'EO': [0.06475824171259814, 0.16784037558685444], 'DP': -1, 'accuracy_s0': 0.9989429175475687, 'accuracy_s1': 0.7663443002481161, 'classwise_accuracy': {5: array([749, 892]), 4: array([914, 982])}, 'DP_ingredients': {'class_pred_count_s0': {5: 466, 4: 472, 0: 1}, 'class_pred_count_s1': {3: 63, 4: 504, 1: 23, 5: 315, 2: 8, 0: 22}, 'class_pred_count': {3: 63, 4: 976, 5: 781, 1: 23, 2: 8, 0: 23}, 'count_s0': 939, 'count_s1': 935, 'count': 1874}}\n",
      "[38] Eval metrics for task 1 >> {'accuracy': 0.9571923042344691, 'loss': 0.0008453599668281861, 'EO': [0.023354297693920334, 0.016933602861141372], 'DP': -1, 'accuracy_s0': 0.9760473297089862, 'accuracy_s1': 0.9357594291539246, 'classwise_accuracy': {1: array([1105, 1135]), 0: array([922, 980])}, 'DP_ingredients': {'class_pred_count_s0': {0: 510, 1: 584, 3: 7, 5: 15, 4: 4}, 'class_pred_count_s1': {1: 521, 0: 412, 2: 14, 5: 30, 3: 9, 4: 9}, 'class_pred_count': {1: 1105, 0: 922, 2: 14, 5: 45, 3: 16, 4: 13}, 'count_s0': 1120, 'count_s1': 995, 'count': 2115}}\n",
      "[38] Eval metrics for task 2 >> {'accuracy': 0.8530892624146136, 'loss': 0.002711989153377223, 'EO': [0.09252115643933279, 0.09225556745056057], 'DP': -1, 'accuracy_s0': 0.9446639943587404, 'accuracy_s1': 0.7598872704688471, 'classwise_accuracy': {2: array([ 880, 1032]), 3: array([ 862, 1010])}, 'DP_ingredients': {'class_pred_count_s0': {2: 492, 3: 482, 5: 29, 4: 24, 1: 3}, 'class_pred_count_s1': {2: 409, 3: 403, 1: 22, 5: 119, 0: 9, 4: 50}, 'class_pred_count': {2: 901, 3: 885, 1: 25, 5: 148, 0: 9, 4: 74}, 'count_s0': 1030, 'count_s1': 1012, 'count': 2042}}\n",
      "[38] Eval metrics for task 3 >> {'accuracy': 0.8997424492889956, 'loss': 0.0011676147087152128, 'EO': [0.06377592344147831, 0.13849765258215962], 'DP': -1, 'accuracy_s0': 0.9989429175475687, 'accuracy_s1': 0.7966693415239308, 'classwise_accuracy': {5: array([774, 892]), 4: array([915, 982])}, 'DP_ingredients': {'class_pred_count_s0': {5: 466, 4: 472, 0: 1}, 'class_pred_count_s1': {5: 340, 4: 486, 3: 57, 1: 23, 2: 8, 0: 21}, 'class_pred_count': {5: 806, 4: 958, 3: 57, 1: 23, 2: 8, 0: 22}, 'count_s0': 939, 'count_s1': 935, 'count': 1874}}\n",
      "[39] Eval metrics for task 1 >> {'accuracy': 0.9529713206868651, 'loss': 0.0009047725381017013, 'EO': [0.03446540880503146, 0.016863629295599425], 'DP': -1, 'accuracy_s0': 0.9768947873361049, 'accuracy_s1': 0.9255657492354741, 'classwise_accuracy': {0: array([912, 980]), 1: array([1107, 1135])}, 'DP_ingredients': {'class_pred_count_s0': {1: 585, 0: 510, 5: 14, 3: 6, 4: 5}, 'class_pred_count_s1': {0: 402, 1: 522, 4: 12, 5: 29, 3: 10, 2: 20}, 'class_pred_count': {0: 912, 1: 1107, 4: 17, 5: 43, 3: 16, 2: 20}, 'count_s0': 1120, 'count_s1': 995, 'count': 2115}}\n",
      "[39] Eval metrics for task 2 >> {'accuracy': 0.858577020492747, 'loss': 0.0027179128392786516, 'EO': [0.10612588316161531, 0.09114776341227171], 'DP': -1, 'accuracy_s0': 0.956338686747942, 'accuracy_s1': 0.7590650401740551, 'classwise_accuracy': {3: array([ 877, 1010]), 2: array([ 876, 1032])}, 'DP_ingredients': {'class_pred_count_s0': {3: 489, 2: 497, 4: 21, 5: 21, 1: 2}, 'class_pred_count_s1': {3: 419, 2: 402, 5: 106, 4: 54, 1: 23, 0: 8}, 'class_pred_count': {3: 908, 2: 899, 5: 127, 4: 75, 1: 25, 0: 8}, 'count_s0': 1030, 'count_s1': 1012, 'count': 2042}}\n",
      "[39] Eval metrics for task 3 >> {'accuracy': 0.9018304823139378, 'loss': 0.0012690577986019017, 'EO': [0.06082896862811882, 0.13732394366197181], 'DP': -1, 'accuracy_s0': 0.9989429175475687, 'accuracy_s1': 0.8007900052574781, 'classwise_accuracy': {5: array([775, 892]), 4: array([918, 982])}, 'DP_ingredients': {'class_pred_count_s0': {5: 466, 4: 472, 0: 1}, 'class_pred_count_s1': {5: 336, 3: 61, 4: 488, 0: 14, 2: 12, 1: 24}, 'class_pred_count': {5: 802, 4: 960, 3: 61, 0: 15, 2: 12, 1: 24}, 'count_s0': 939, 'count_s1': 935, 'count': 1874}}\n",
      "[40] Eval metrics for task 1 >> {'accuracy': 0.9576328328688304, 'loss': 0.0008722325166066488, 'EO': [0.023354297693920334, 0.014251282848701585], 'DP': -1, 'accuracy_s0': 0.9751998720818675, 'accuracy_s1': 0.9375942915392457, 'classwise_accuracy': {0: array([922, 980]), 1: array([1106, 1135])}, 'DP_ingredients': {'class_pred_count_s0': {1: 583, 0: 510, 5: 12, 3: 7, 4: 8}, 'class_pred_count_s1': {0: 412, 1: 523, 3: 10, 5: 25, 4: 12, 2: 13}, 'class_pred_count': {0: 922, 1: 1106, 3: 17, 5: 37, 4: 20, 2: 13}, 'count_s0': 1120, 'count_s1': 995, 'count': 2115}}\n",
      "[40] Eval metrics for task 2 >> {'accuracy': 0.8506034615089415, 'loss': 0.0028394269195990045, 'EO': [0.09541901581709117, 0.09428294687638478], 'DP': -1, 'accuracy_s0': 0.9446187436130458, 'accuracy_s1': 0.7549167809195698, 'classwise_accuracy': {2: array([ 881, 1032]), 3: array([ 856, 1010])}, 'DP_ingredients': {'class_pred_count_s0': {2: 494, 4: 24, 3: 480, 5: 29, 1: 3}, 'class_pred_count_s1': {3: 400, 5: 118, 2: 409, 4: 55, 1: 20, 0: 10}, 'class_pred_count': {2: 903, 4: 79, 3: 880, 5: 147, 1: 23, 0: 10}, 'count_s0': 1030, 'count_s1': 1012, 'count': 2042}}\n",
      "[40] Eval metrics for task 3 >> {'accuracy': 0.9131862310832656, 'loss': 0.0010310122574278995, 'EO': [0.04216492147684181, 0.13380281690140844], 'DP': -1, 'accuracy_s0': 0.9989429175475687, 'accuracy_s1': 0.8229751791693185, 'classwise_accuracy': {4: array([937, 982]), 5: array([778, 892])}, 'DP_ingredients': {'class_pred_count_s0': {4: 472, 5: 466, 0: 1}, 'class_pred_count_s1': {4: 507, 5: 330, 0: 26, 3: 45, 1: 21, 2: 6}, 'class_pred_count': {4: 979, 5: 796, 0: 27, 3: 45, 1: 21, 2: 6}, 'count_s0': 939, 'count_s1': 935, 'count': 1874}}\n",
      "[41] Eval metrics for task 1 >> {'accuracy': 0.9548727861188528, 'loss': 0.0009055537570171041, 'EO': [0.032243186582809225, 0.015028766910278324], 'DP': -1, 'accuracy_s0': 0.9768947873361049, 'accuracy_s1': 0.9296228338430174, 'classwise_accuracy': {1: array([1109, 1135]), 0: array([914, 980])}, 'DP_ingredients': {'class_pred_count_s0': {1: 585, 0: 510, 5: 15, 4: 4, 3: 6}, 'class_pred_count_s1': {1: 524, 0: 404, 5: 30, 3: 9, 2: 18, 4: 10}, 'class_pred_count': {1: 1109, 0: 914, 5: 45, 3: 15, 4: 14, 2: 18}, 'count_s0': 1120, 'count_s1': 995, 'count': 2115}}\n",
      "[41] Eval metrics for task 2 >> {'accuracy': 0.847159221736127, 'loss': 0.0029514378536926776, 'EO': [0.09931412945900364, 0.09531232231019299], 'DP': -1, 'accuracy_s0': 0.9436137999690786, 'accuracy_s1': 0.748987348199882, 'classwise_accuracy': {2: array([ 879, 1032]), 3: array([ 851, 1010])}, 'DP_ingredients': {'class_pred_count_s0': {2: 495, 3: 478, 4: 22, 5: 31, 1: 4}, 'class_pred_count_s1': {2: 406, 5: 125, 3: 398, 4: 52, 1: 24, 0: 7}, 'class_pred_count': {2: 901, 3: 876, 5: 156, 4: 74, 1: 28, 0: 7}, 'count_s0': 1030, 'count_s1': 1012, 'count': 2042}}\n",
      "[41] Eval metrics for task 3 >> {'accuracy': 0.9126302594686418, 'loss': 0.0010362197361735422, 'EO': [0.05297042245916006, 0.12323943661971831], 'DP': -1, 'accuracy_s0': 0.9989429175475687, 'accuracy_s1': 0.8227330584686903, 'classwise_accuracy': {4: array([926, 982]), 5: array([787, 892])}, 'DP_ingredients': {'class_pred_count_s0': {4: 472, 5: 466, 0: 1}, 'class_pred_count_s1': {4: 493, 1: 21, 3: 51, 5: 350, 0: 14, 2: 6}, 'class_pred_count': {4: 965, 5: 816, 1: 21, 3: 51, 0: 15, 2: 6}, 'count_s0': 939, 'count_s1': 935, 'count': 1874}}\n",
      "[42] Eval metrics for task 1 >> {'accuracy': 0.9570529533399263, 'loss': 0.0008555696999773066, 'EO': [0.027631027253668783, 0.016863629295599425], 'DP': -1, 'accuracy_s0': 0.9778381835625201, 'accuracy_s1': 0.9333435270132517, 'classwise_accuracy': {0: array([920, 980]), 1: array([1107, 1135])}, 'DP_ingredients': {'class_pred_count_s0': {1: 585, 0: 511, 5: 12, 4: 6, 3: 6}, 'class_pred_count_s1': {0: 409, 1: 522, 4: 10, 3: 10, 2: 19, 5: 25}, 'class_pred_count': {0: 920, 1: 1107, 4: 16, 3: 16, 5: 37, 2: 19}, 'count_s0': 1120, 'count_s1': 995, 'count': 2115}}\n",
      "[42] Eval metrics for task 2 >> {'accuracy': 0.852109716785632, 'loss': 0.0029056944996556384, 'EO': [0.09931412945900364, 0.09127324917944074], 'DP': -1, 'accuracy_s0': 0.9465607547824382, 'accuracy_s1': 0.7559733761439937, 'classwise_accuracy': {2: array([ 879, 1032]), 3: array([ 861, 1010])}, 'DP_ingredients': {'class_pred_count_s0': {2: 495, 3: 481, 5: 26, 4: 23, 1: 5}, 'class_pred_count_s1': {2: 408, 5: 110, 3: 406, 1: 22, 0: 9, 4: 57}, 'class_pred_count': {2: 903, 3: 887, 5: 136, 1: 27, 0: 9, 4: 80}, 'count_s0': 1030, 'count_s1': 1012, 'count': 2042}}\n",
      "[42] Eval metrics for task 3 >> {'accuracy': 0.9142045610221659, 'loss': 0.0010257255337663242, 'EO': [0.04020028493460209, 0.13380281690140844], 'DP': -1, 'accuracy_s0': 0.9989429175475687, 'accuracy_s1': 0.8249398157115582, 'classwise_accuracy': {5: array([778, 892]), 4: array([939, 982])}, 'DP_ingredients': {'class_pred_count_s0': {5: 466, 4: 472, 0: 1}, 'class_pred_count_s1': {4: 510, 5: 330, 3: 53, 1: 20, 0: 16, 2: 6}, 'class_pred_count': {4: 982, 5: 796, 3: 53, 1: 20, 0: 17, 2: 6}, 'count_s0': 939, 'count_s1': 935, 'count': 1874}}\n",
      "[43] Eval metrics for task 1 >> {'accuracy': 0.9566124247055651, 'loss': 0.00103003733194748, 'EO': [0.02557651991614257, 0.017781060488260003], 'DP': -1, 'accuracy_s0': 0.9768947873361049, 'accuracy_s1': 0.9335372069317023, 'classwise_accuracy': {1: array([1106, 1135]), 0: array([920, 980])}, 'DP_ingredients': {'class_pred_count_s0': {0: 510, 1: 585, 3: 6, 5: 15, 4: 4}, 'class_pred_count_s1': {1: 521, 0: 410, 2: 16, 5: 29, 4: 9, 3: 10}, 'class_pred_count': {1: 1106, 0: 920, 2: 16, 5: 44, 4: 13, 3: 16}, 'count_s0': 1120, 'count_s1': 995, 'count': 2115}}\n",
      "[43] Eval metrics for task 2 >> {'accuracy': 0.8432093790774426, 'loss': 0.0031406989468883697, 'EO': [0.0964162700812452, 0.0963573834648973], 'DP': -1, 'accuracy_s0': 0.938747459359174, 'accuracy_s1': 0.7459738058130314, 'classwise_accuracy': {3: array([ 844, 1010]), 2: array([ 878, 1032])}, 'DP_ingredients': {'class_pred_count_s0': {2: 493, 1: 5, 3: 475, 5: 34, 4: 23}, 'class_pred_count_s1': {3: 392, 2: 408, 1: 24, 4: 51, 5: 128, 0: 9}, 'class_pred_count': {3: 867, 2: 901, 1: 29, 4: 74, 5: 162, 0: 9}, 'count_s0': 1030, 'count_s1': 1012, 'count': 2042}}\n",
      "[43] Eval metrics for task 3 >> {'accuracy': 0.9229208716538957, 'loss': 0.0009463690976704706, 'EO': [0.04609419456132113, 0.10915492957746481], 'DP': -1, 'accuracy_s0': 0.9989429175475687, 'accuracy_s1': 0.8436937934087827, 'classwise_accuracy': {4: array([933, 982]), 5: array([799, 892])}, 'DP_ingredients': {'class_pred_count_s0': {4: 472, 5: 466, 0: 1}, 'class_pred_count_s1': {5: 355, 4: 496, 3: 41, 0: 18, 1: 19, 2: 6}, 'class_pred_count': {4: 968, 5: 821, 3: 41, 0: 19, 1: 19, 2: 6}, 'count_s0': 939, 'count_s1': 935, 'count': 1874}}\n",
      "[44] Eval metrics for task 1 >> {'accuracy': 0.9566124247055651, 'loss': 0.0009290897254402756, 'EO': [0.02557651991614257, 0.017781060488260003], 'DP': -1, 'accuracy_s0': 0.9768947873361049, 'accuracy_s1': 0.9335372069317023, 'classwise_accuracy': {0: array([920, 980]), 1: array([1106, 1135])}, 'DP_ingredients': {'class_pred_count_s0': {1: 585, 0: 510, 4: 6, 3: 6, 5: 13}, 'class_pred_count_s1': {0: 410, 1: 521, 5: 28, 4: 10, 2: 16, 3: 10}, 'class_pred_count': {0: 920, 1: 1106, 5: 41, 4: 16, 2: 16, 3: 16}, 'count_s0': 1120, 'count_s1': 995, 'count': 2115}}\n",
      "[44] Eval metrics for task 2 >> {'accuracy': 0.8467063857548545, 'loss': 0.00313911063780864, 'EO': [0.09935169082488515, 0.10221992164982413], 'DP': -1, 'accuracy_s0': 0.9466060055281327, 'accuracy_s1': 0.7450343930534234, 'classwise_accuracy': {3: array([ 854, 1010]), 2: array([ 875, 1032])}, 'DP_ingredients': {'class_pred_count_s0': {2: 493, 3: 483, 5: 26, 4: 24, 1: 4}, 'class_pred_count_s1': {3: 397, 4: 51, 5: 125, 2: 406, 1: 23, 0: 10}, 'class_pred_count': {3: 880, 2: 899, 4: 75, 5: 151, 1: 27, 0: 10}, 'count_s0': 1030, 'count_s1': 1012, 'count': 2042}}\n",
      "[44] Eval metrics for task 3 >> {'accuracy': 0.9297968819924561, 'loss': 0.0008615598941307312, 'EO': [0.03823564839236243, 0.10328638497652581], 'DP': -1, 'accuracy_s0': 0.9989429175475687, 'accuracy_s1': 0.8574208841786805, 'classwise_accuracy': {4: array([941, 982]), 5: array([804, 892])}, 'DP_ingredients': {'class_pred_count_s0': {4: 472, 5: 466, 0: 1}, 'class_pred_count_s1': {4: 504, 5: 356, 3: 38, 2: 6, 0: 16, 1: 15}, 'class_pred_count': {4: 976, 5: 822, 3: 38, 2: 6, 0: 17, 1: 15}, 'count_s0': 939, 'count_s1': 935, 'count': 1874}}\n",
      "[45] Eval metrics for task 1 >> {'accuracy': 0.9547109592735773, 'loss': 0.0010368490120479684, 'EO': [0.029853249475890964, 0.019615922873581104], 'DP': -1, 'accuracy_s0': 0.9778381835625201, 'accuracy_s1': 0.9283690112130479, 'classwise_accuracy': {0: array([918, 980]), 1: array([1104, 1135])}, 'DP_ingredients': {'class_pred_count_s0': {0: 511, 1: 585, 5: 15, 3: 6, 4: 3}, 'class_pred_count_s1': {1: 519, 0: 407, 2: 20, 3: 9, 5: 32, 4: 8}, 'class_pred_count': {0: 918, 1: 1104, 2: 20, 3: 15, 5: 47, 4: 11}, 'count_s0': 1120, 'count_s1': 995, 'count': 2115}}\n",
      "[45] Eval metrics for task 2 >> {'accuracy': 0.8392911965615166, 'loss': 0.0032567582973420444, 'EO': [0.10033016440609843, 0.10629036622236859], 'DP': -1, 'accuracy_s0': 0.9416944141725335, 'accuracy_s1': 0.7350738835440664, 'classwise_accuracy': {3: array([ 840, 1010]), 2: array([ 874, 1032])}, 'DP_ingredients': {'class_pred_count_s0': {2: 493, 3: 478, 5: 33, 4: 23, 1: 3}, 'class_pred_count_s1': {3: 389, 5: 132, 2: 405, 4: 54, 1: 23, 0: 9}, 'class_pred_count': {3: 867, 5: 165, 2: 898, 4: 77, 1: 26, 0: 9}, 'count_s0': 1030, 'count_s1': 1012, 'count': 2042}}\n",
      "[45] Eval metrics for task 3 >> {'accuracy': 0.9281666407898221, 'loss': 0.0009150605732247059, 'EO': [0.03921796666348226, 0.10563380281690143], 'DP': -1, 'accuracy_s0': 0.9989429175475687, 'accuracy_s1': 0.854091148067185, 'classwise_accuracy': {5: array([802, 892]), 4: array([940, 982])}, 'DP_ingredients': {'class_pred_count_s0': {5: 466, 4: 472, 0: 1}, 'class_pred_count_s1': {0: 19, 5: 356, 4: 503, 1: 15, 3: 36, 2: 6}, 'class_pred_count': {5: 822, 4: 975, 0: 20, 1: 15, 3: 36, 2: 6}, 'count_s0': 939, 'count_s1': 935, 'count': 1874}}\n",
      "training_task_end\n",
      "---------------------------- Task 4 -----------------------\n",
      "[46] Eval metrics for task 1 >> {'accuracy': 0.9160096197069136, 'loss': 0.0015753906739800817, 'EO': [0.06480083857442348, 0.03619188306639709], 'DP': -1, 'accuracy_s0': 0.9631435881036137, 'accuracy_s1': 0.862150866462793, 'classwise_accuracy': {1: array([1059, 1135]), 0: array([881, 980])}, 'DP_ingredients': {'class_pred_count_s0': {0: 508, 1: 571, 6: 7, 5: 23, 3: 8, 4: 2, 2: 1}, 'class_pred_count_s1': {1: 488, 0: 373, 7: 36, 3: 7, 2: 10, 6: 30, 5: 48, 4: 3}, 'class_pred_count': {1: 1059, 0: 881, 7: 36, 3: 15, 2: 11, 6: 37, 5: 71, 4: 5}, 'count_s0': 1120, 'count_s1': 995, 'count': 2115}}\n",
      "[46] Eval metrics for task 2 >> {'accuracy': 0.8312130631667818, 'loss': 0.003196638431418304, 'EO': [0.12001232012800911, 0.09924159539467237], 'DP': -1, 'accuracy_s0': 0.9398655298673776, 'accuracy_s1': 0.7206116143446961, 'classwise_accuracy': {2: array([ 842, 1032]), 3: array([ 855, 1010])}, 'DP_ingredients': {'class_pred_count_s0': {2: 487, 4: 18, 3: 483, 7: 9, 5: 24, 6: 9}, 'class_pred_count_s1': {6: 78, 3: 395, 7: 37, 2: 371, 5: 100, 4: 21, 1: 7, 0: 3}, 'class_pred_count': {6: 87, 3: 878, 2: 858, 4: 39, 7: 46, 5: 124, 1: 7, 0: 3}, 'count_s0': 1030, 'count_s1': 1012, 'count': 2042}}\n",
      "[46] Eval metrics for task 3 >> {'accuracy': 0.9023019736421507, 'loss': 0.001202288398811377, 'EO': [0.08924143430928277, 0.0808196820407423], 'DP': -1, 'accuracy_s0': 0.9871562213612318, 'accuracy_s1': 0.8170951050112067, 'classwise_accuracy': {4: array([887, 982]), 5: array([804, 892])}, 'DP_ingredients': {'class_pred_count_s0': {5: 457, 4: 479, 0: 2, 3: 1}, 'class_pred_count_s1': {4: 429, 5: 351, 7: 76, 6: 44, 1: 9, 3: 17, 2: 4, 0: 5}, 'class_pred_count': {4: 908, 5: 808, 7: 76, 6: 44, 1: 9, 3: 18, 2: 4, 0: 7}, 'count_s0': 939, 'count_s1': 935, 'count': 1874}}\n",
      "[46] Eval metrics for task 4 >> {'accuracy': 0.6546499679130484, 'loss': 0.004501331188647529, 'EO': [0.3410518053375196, 0.33100043587848466], 'DP': -1, 'accuracy_s0': 0.9928777571634715, 'accuracy_s1': 0.32082551594746717, 'classwise_accuracy': {7: array([ 671, 1028]), 6: array([629, 958])}, 'DP_ingredients': {'class_pred_count_s0': {7: 493, 6: 485, 5: 4, 4: 2, 2: 1}, 'class_pred_count_s1': {5: 70, 6: 199, 3: 41, 4: 305, 7: 228, 2: 87, 1: 28, 0: 43}, 'class_pred_count': {5: 74, 7: 721, 6: 684, 3: 41, 4: 307, 2: 88, 1: 28, 0: 43}, 'count_s0': 985, 'count_s1': 1001, 'count': 1986}}\n",
      "[47] Eval metrics for task 1 >> {'accuracy': 0.9190933201474423, 'loss': 0.001612598648026198, 'EO': [0.054528301886792474, 0.022710309438656484], 'DP': -1, 'accuracy_s0': 0.9550367764630636, 'accuracy_s1': 0.8777981651376147, 'classwise_accuracy': {1: array([1066, 1135]), 0: array([881, 980])}, 'DP_ingredients': {'class_pred_count_s0': {1: 567, 0: 503, 5: 22, 7: 4, 3: 10, 4: 1, 6: 13}, 'class_pred_count_s1': {1: 499, 5: 37, 0: 378, 2: 9, 7: 34, 6: 31, 3: 5, 4: 2}, 'class_pred_count': {1: 1066, 5: 59, 0: 881, 2: 9, 7: 38, 6: 44, 3: 15, 4: 3}, 'count_s0': 1120, 'count_s1': 995, 'count': 2115}}\n",
      "[47] Eval metrics for task 2 >> {'accuracy': 0.8203430808197099, 'loss': 0.0036879937282155006, 'EO': [0.1161547678519782, 0.1192016752349917], 'DP': -1, 'accuracy_s0': 0.93698645117256, 'accuracy_s1': 0.7016300080855901, 'classwise_accuracy': {3: array([ 835, 1010]), 2: array([ 840, 1032])}, 'DP_ingredients': {'class_pred_count_s0': {3: 481, 2: 487, 7: 13, 5: 16, 6: 17, 4: 15, 1: 1}, 'class_pred_count_s1': {3: 366, 6: 87, 7: 53, 5: 108, 2: 372, 4: 17, 1: 7, 0: 2}, 'class_pred_count': {3: 847, 6: 104, 2: 859, 7: 66, 5: 124, 4: 32, 1: 8, 0: 2}, 'count_s0': 1030, 'count_s1': 1012, 'count': 2042}}\n",
      "[47] Eval metrics for task 3 >> {'accuracy': 0.8960801147105295, 'loss': 0.0013869042998316957, 'EO': [0.0713354128851913, 0.09316125652340362], 'DP': -1, 'accuracy_s0': 0.9775472057635946, 'accuracy_s1': 0.8130505363549997, 'classwise_accuracy': {4: array([899, 982]), 5: array([782, 892])}, 'DP_ingredients': {'class_pred_count_s0': {4: 476, 5: 451, 6: 6, 3: 1, 0: 2, 2: 3}, 'class_pred_count_s1': {5: 334, 7: 66, 4: 442, 0: 4, 6: 62, 3: 18, 2: 2, 1: 7}, 'class_pred_count': {4: 918, 5: 785, 7: 66, 6: 68, 0: 6, 3: 19, 2: 5, 1: 7}, 'count_s0': 939, 'count_s1': 935, 'count': 1874}}\n",
      "[47] Eval metrics for task 4 >> {'accuracy': 0.8191940895022867, 'loss': 0.0022310189460099405, 'EO': [0.19876591662305948, 0.15557829704171167], 'DP': -1, 'accuracy_s0': 0.9969593898165326, 'accuracy_s1': 0.6426151761517616, 'classwise_accuracy': {7: array([ 858, 1028]), 6: array([770, 958])}, 'DP_ingredients': {'class_pred_count_s0': {7: 493, 6: 489, 5: 2, 4: 1}, 'class_pred_count_s1': {7: 404, 6: 302, 4: 134, 5: 38, 2: 48, 0: 24, 3: 25, 1: 26}, 'class_pred_count': {7: 897, 6: 791, 4: 135, 5: 40, 2: 48, 0: 24, 3: 25, 1: 26}, 'count_s0': 985, 'count_s1': 1001, 'count': 1986}}\n",
      "[48] Eval metrics for task 1 >> {'accuracy': 0.9157533938685607, 'loss': 0.0016863636513973804, 'EO': [0.05742138364779875, 0.024335251127351853], 'DP': -1, 'accuracy_s0': 0.9538055644387592, 'accuracy_s1': 0.8720489296636086, 'classwise_accuracy': {1: array([1070, 1135]), 0: array([871, 980])}, 'DP_ingredients': {'class_pred_count_s0': {0: 499, 1: 570, 5: 19, 3: 9, 7: 11, 6: 11, 4: 1}, 'class_pred_count_s1': {1: 500, 0: 372, 5: 29, 6: 34, 7: 42, 3: 4, 4: 3, 2: 11}, 'class_pred_count': {1: 1070, 0: 871, 5: 48, 6: 45, 7: 53, 3: 13, 4: 4, 2: 11}, 'count_s0': 1120, 'count_s1': 995, 'count': 2115}}\n",
      "[48] Eval metrics for task 2 >> {'accuracy': 0.8203747409624683, 'loss': 0.003992321033552508, 'EO': [0.1287810209930474, 0.1023454074169931], 'DP': -1, 'accuracy_s0': 0.9349086877660837, 'accuracy_s1': 0.7037822593560432, 'classwise_accuracy': {2: array([ 837, 1032]), 3: array([ 838, 1010])}, 'DP_ingredients': {'class_pred_count_s0': {2: 491, 3: 475, 5: 19, 4: 13, 6: 16, 7: 15, 1: 1}, 'class_pred_count_s1': {2: 365, 3: 376, 6: 95, 5: 92, 4: 16, 7: 57, 1: 7, 0: 4}, 'class_pred_count': {2: 856, 3: 851, 6: 111, 5: 111, 4: 29, 7: 72, 1: 8, 0: 4}, 'count_s0': 1030, 'count_s1': 1012, 'count': 2042}}\n",
      "[48] Eval metrics for task 3 >> {'accuracy': 0.8913903171892268, 'loss': 0.0017023827153056256, 'EO': [0.06740613980071192, 0.0960124120977654], 'DP': -1, 'accuracy_s0': 0.9721823988966418, 'accuracy_s1': 0.8087638469981645, 'classwise_accuracy': {4: array([903, 982]), 5: array([770, 892])}, 'DP_ingredients': {'class_pred_count_s0': {4: 480, 5: 446, 6: 5, 2: 4, 7: 1, 0: 2, 3: 1}, 'class_pred_count_s1': {4: 450, 6: 61, 7: 68, 5: 328, 3: 14, 0: 5, 1: 7, 2: 2}, 'class_pred_count': {4: 930, 5: 774, 6: 66, 7: 69, 3: 15, 0: 7, 1: 7, 2: 6}, 'count_s0': 939, 'count_s1': 935, 'count': 1874}}\n",
      "[48] Eval metrics for task 4 >> {'accuracy': 0.8653982843635004, 'loss': 0.0016919452948392579, 'EO': [0.15287371358799928, 0.10773589554077356], 'DP': -1, 'accuracy_s0': 0.9959389816532673, 'accuracy_s1': 0.7353293725244945, 'classwise_accuracy': {7: array([ 909, 1028]), 6: array([811, 958])}, 'DP_ingredients': {'class_pred_count_s0': {6: 488, 7: 493, 5: 2, 4: 2}, 'class_pred_count_s1': {7: 448, 6: 338, 5: 25, 4: 99, 0: 18, 3: 15, 2: 36, 1: 22}, 'class_pred_count': {7: 941, 6: 826, 5: 27, 4: 101, 0: 18, 3: 15, 2: 36, 1: 22}, 'count_s0': 985, 'count_s1': 1001, 'count': 1986}}\n",
      "[49] Eval metrics for task 1 >> {'accuracy': 0.9135282747460217, 'loss': 0.0018820913970893157, 'EO': [0.0507547169811321, 0.0318146477997201], 'DP': -1, 'accuracy_s0': 0.9521106491845219, 'accuracy_s1': 0.8695412844036697, 'classwise_accuracy': {0: array([877, 980]), 1: array([1058, 1135])}, 'DP_ingredients': {'class_pred_count_s0': {0: 499, 1: 568, 5: 17, 6: 13, 3: 9, 7: 14}, 'class_pred_count_s1': {1: 490, 0: 378, 7: 41, 4: 2, 6: 40, 5: 33, 2: 7, 3: 4}, 'class_pred_count': {0: 877, 1: 1058, 7: 55, 4: 2, 6: 53, 5: 50, 2: 7, 3: 13}, 'count_s0': 1120, 'count_s1': 995, 'count': 2115}}\n",
      "[49] Eval metrics for task 2 >> {'accuracy': 0.8016895003453834, 'loss': 0.004443417158229578, 'EO': [0.1250173721317202, 0.09462803273609954], 'DP': -1, 'accuracy_s0': 0.9105317339708661, 'accuracy_s1': 0.6908863291030463, 'classwise_accuracy': {3: array([ 812, 1010]), 2: array([ 825, 1032])}, 'DP_ingredients': {'class_pred_count_s0': {3: 458, 2: 485, 5: 32, 7: 24, 4: 13, 6: 17, 1: 1}, 'class_pred_count_s1': {5: 96, 7: 66, 6: 103, 3: 367, 2: 360, 1: 5, 0: 3, 4: 12}, 'class_pred_count': {3: 825, 5: 128, 2: 845, 7: 90, 6: 120, 4: 25, 1: 6, 0: 3}, 'count_s0': 1030, 'count_s1': 1012, 'count': 2042}}\n",
      "[49] Eval metrics for task 3 >> {'accuracy': 0.8854858301443927, 'loss': 0.0019459788356544878, 'EO': [0.08108383141507824, 0.09581091700417094], 'DP': -1, 'accuracy_s0': 0.9732712391909917, 'accuracy_s1': 0.7963764907717424, 'classwise_accuracy': {4: array([887, 982]), 5: array([774, 892])}, 'DP_ingredients': {'class_pred_count_s0': {4: 473, 5: 448, 6: 10, 7: 2, 2: 4, 0: 2}, 'class_pred_count_s1': {4: 433, 6: 73, 7: 74, 5: 331, 0: 5, 1: 4, 3: 13, 2: 2}, 'class_pred_count': {4: 906, 5: 779, 6: 83, 7: 76, 0: 7, 1: 4, 3: 13, 2: 6}, 'count_s0': 939, 'count_s1': 935, 'count': 1874}}\n",
      "[49] Eval metrics for task 4 >> {'accuracy': 0.9139744766577582, 'loss': 0.001190299203868839, 'EO': [0.09833856619570902, 0.0673981844713552], 'DP': -1, 'accuracy_s0': 0.9969593898165326, 'accuracy_s1': 0.8312226391494684, 'classwise_accuracy': {6: array([864, 958]), 7: array([ 952, 1028])}, 'DP_ingredients': {'class_pred_count_s0': {6: 489, 7: 493, 4: 1, 5: 2}, 'class_pred_count_s1': {4: 46, 6: 387, 7: 480, 5: 23, 2: 25, 0: 16, 3: 13, 1: 11}, 'class_pred_count': {6: 876, 7: 973, 4: 47, 5: 25, 2: 25, 0: 16, 3: 13, 1: 11}, 'count_s0': 985, 'count_s1': 1001, 'count': 1986}}\n",
      "[50] Eval metrics for task 1 >> {'accuracy': 0.912901195720579, 'loss': 0.0017398119043232983, 'EO': [0.058700209643605894, 0.028852433525112686], 'DP': -1, 'accuracy_s0': 0.9537096258394627, 'accuracy_s1': 0.8661569826707441, 'classwise_accuracy': {1: array([1067, 1135]), 0: array([868, 980])}, 'DP_ingredients': {'class_pred_count_s0': {1: 571, 0: 498, 5: 15, 7: 11, 6: 17, 3: 8}, 'class_pred_count_s1': {1: 496, 0: 370, 6: 42, 5: 26, 7: 46, 2: 9, 3: 4, 4: 2}, 'class_pred_count': {1: 1067, 0: 868, 6: 59, 5: 41, 7: 57, 2: 9, 3: 12, 4: 2}, 'count_s0': 1120, 'count_s1': 995, 'count': 2115}}\n",
      "[50] Eval metrics for task 2 >> {'accuracy': 0.8160881495126256, 'loss': 0.00434457949279688, 'EO': [0.12311676701811586, 0.09733970173601719], 'DP': -1, 'accuracy_s0': 0.9253343841562056, 'accuracy_s1': 0.7048779154020726, 'classwise_accuracy': {2: array([ 821, 1032]), 3: array([ 845, 1010])}, 'DP_ingredients': {'class_pred_count_s0': {2: 480, 4: 11, 3: 475, 6: 21, 7: 27, 5: 15, 1: 1}, 'class_pred_count_s1': {3: 382, 2: 360, 6: 102, 5: 83, 7: 65, 1: 7, 4: 10, 0: 3}, 'class_pred_count': {2: 840, 3: 857, 4: 21, 6: 123, 5: 98, 7: 92, 1: 8, 0: 3}, 'count_s0': 1030, 'count_s1': 1012, 'count': 2042}}\n",
      "[50] Eval metrics for task 3 >> {'accuracy': 0.8764144739846382, 'loss': 0.0022086785468118804, 'EO': [0.07911919487283858, 0.10345765580608113], 'DP': -1, 'accuracy_s0': 0.9668334709506483, 'accuracy_s1': 0.7842566202717286, 'classwise_accuracy': {4: array([889, 982]), 5: array([756, 892])}, 'DP_ingredients': {'class_pred_count_s0': {4: 474, 5: 442, 0: 2, 6: 13, 2: 4, 7: 3, 3: 1}, 'class_pred_count_s1': {4: 436, 5: 318, 6: 69, 7: 83, 3: 16, 1: 5, 2: 2, 0: 6}, 'class_pred_count': {4: 910, 5: 760, 6: 82, 0: 8, 7: 86, 3: 17, 1: 5, 2: 6}, 'count_s0': 939, 'count_s1': 935, 'count': 1874}}\n",
      "[50] Eval metrics for task 4 >> {'accuracy': 0.9295965573544105, 'loss': 0.0010310371461711742, 'EO': [0.06735566021280304, 0.06646009816741522], 'DP': -1, 'accuracy_s0': 0.9969593898165326, 'accuracy_s1': 0.8631436314363143, 'classwise_accuracy': {7: array([ 953, 1028]), 6: array([893, 958])}, 'DP_ingredients': {'class_pred_count_s0': {6: 489, 7: 493, 5: 2, 4: 1}, 'class_pred_count_s1': {7: 473, 6: 414, 5: 17, 2: 21, 4: 40, 1: 14, 3: 13, 0: 9}, 'class_pred_count': {7: 966, 6: 903, 5: 19, 2: 21, 4: 41, 1: 14, 3: 13, 0: 9}, 'count_s0': 985, 'count_s1': 1001, 'count': 1986}}\n",
      "[51] Eval metrics for task 1 >> {'accuracy': 0.9074755012137014, 'loss': 0.001875294938718737, 'EO': [0.056813417190775706, 0.03096719017260141], 'DP': -1, 'accuracy_s0': 0.948433002878158, 'accuracy_s1': 0.8606523955147809, 'classwise_accuracy': {1: array([1057, 1135]), 0: array([866, 980])}, 'DP_ingredients': {'class_pred_count_s0': {5: 19, 0: 496, 1: 567, 7: 11, 6: 19, 3: 8}, 'class_pred_count_s1': {1: 490, 7: 42, 0: 370, 5: 30, 6: 51, 3: 4, 2: 7, 4: 1}, 'class_pred_count': {1: 1057, 5: 49, 7: 53, 0: 866, 6: 70, 3: 12, 2: 7, 4: 1}, 'count_s0': 1120, 'count_s1': 995, 'count': 2115}}\n",
      "[51] Eval metrics for task 2 >> {'accuracy': 0.8072405787090337, 'loss': 0.004636401644416234, 'EO': [0.12704944202590984, 0.10931574964020879], 'DP': -1, 'accuracy_s0': 0.924374691257933, 'accuracy_s1': 0.6880094995918145, 'classwise_accuracy': {2: array([ 815, 1032]), 3: array([ 833, 1010])}, 'DP_ingredients': {'class_pred_count_s0': {2: 480, 3: 475, 6: 17, 7: 29, 5: 17, 4: 11, 1: 1}, 'class_pred_count_s1': {6: 110, 3: 369, 2: 356, 5: 96, 7: 63, 1: 5, 4: 11, 0: 2}, 'class_pred_count': {2: 836, 6: 127, 3: 844, 5: 113, 7: 92, 1: 6, 4: 22, 0: 2}, 'count_s0': 1030, 'count_s1': 1012, 'count': 2042}}\n",
      "[51] Eval metrics for task 3 >> {'accuracy': 0.8837014695003333, 'loss': 0.0020881245268574394, 'EO': [0.07911919487283858, 0.09493945072437487], 'DP': -1, 'accuracy_s0': 0.97005235507082, 'accuracy_s1': 0.7959937094736065, 'classwise_accuracy': {4: array([889, 982]), 5: array([769, 892])}, 'DP_ingredients': {'class_pred_count_s0': {5: 445, 4: 474, 6: 11, 0: 2, 2: 4, 7: 2, 3: 1}, 'class_pred_count_s1': {6: 78, 0: 5, 4: 435, 5: 328, 7: 68, 1: 6, 3: 13, 2: 2}, 'class_pred_count': {6: 89, 5: 773, 4: 909, 0: 7, 7: 70, 1: 6, 3: 14, 2: 6}, 'count_s0': 939, 'count_s1': 935, 'count': 1874}}\n",
      "[51] Eval metrics for task 4 >> {'accuracy': 0.9360972112783603, 'loss': 0.0009490912039234318, 'EO': [0.062013779870922714, 0.058955407735895526], 'DP': -1, 'accuracy_s0': 0.9969593898165326, 'accuracy_s1': 0.8759902022097144, 'classwise_accuracy': {7: array([ 961, 1028]), 6: array([898, 958])}, 'DP_ingredients': {'class_pred_count_s0': {6: 489, 7: 493, 5: 2, 4: 1}, 'class_pred_count_s1': {0: 9, 6: 420, 7: 478, 5: 16, 2: 23, 3: 12, 4: 34, 1: 9}, 'class_pred_count': {0: 9, 6: 909, 7: 971, 5: 18, 2: 23, 3: 12, 4: 35, 1: 9}, 'count_s0': 985, 'count_s1': 1001, 'count': 1986}}\n",
      "[52] Eval metrics for task 1 >> {'accuracy': 0.9102355479636789, 'loss': 0.002009949715143118, 'EO': [0.04997903563941303, 0.03724926139014151], 'DP': -1, 'accuracy_s0': 0.9510713143588103, 'accuracy_s1': 0.8638430173292558, 'classwise_accuracy': {1: array([1054, 1135]), 0: array([874, 980])}, 'DP_ingredients': {'class_pred_count_s0': {1: 569, 0: 497, 5: 17, 6: 18, 7: 11, 3: 8}, 'class_pred_count_s1': {7: 43, 1: 485, 0: 377, 5: 32, 6: 47, 4: 2, 2: 4, 3: 5}, 'class_pred_count': {7: 54, 1: 1054, 0: 874, 5: 49, 6: 65, 4: 2, 2: 4, 3: 13}, 'count_s0': 1120, 'count_s1': 995, 'count': 2115}}\n",
      "[52] Eval metrics for task 2 >> {'accuracy': 0.8034068232404636, 'loss': 0.0048468415930969354, 'EO': [0.12134762668509674, 0.09938276688273745], 'DP': -1, 'accuracy_s0': 0.9127905003601204, 'accuracy_s1': 0.6920601067922862, 'classwise_accuracy': {3: array([ 837, 1010]), 2: array([ 803, 1032])}, 'DP_ingredients': {'class_pred_count_s0': {3: 473, 2: 473, 5: 16, 7: 38, 6: 17, 4: 12, 1: 1}, 'class_pred_count_s1': {3: 378, 6: 111, 2: 351, 7: 67, 5: 86, 1: 4, 4: 10, 0: 5}, 'class_pred_count': {3: 851, 2: 824, 6: 128, 5: 102, 7: 105, 4: 22, 1: 5, 0: 5}, 'count_s0': 1030, 'count_s1': 1012, 'count': 2042}}\n",
      "[52] Eval metrics for task 3 >> {'accuracy': 0.8776851031572794, 'loss': 0.002308343508327529, 'EO': [0.07126064870387983, 0.09584617864554995], 'DP': -1, 'accuracy_s0': 0.9603957027103049, 'accuracy_s1': 0.7932888753608751, 'classwise_accuracy': {4: array([897, 982]), 5: array([751, 892])}, 'DP_ingredients': {'class_pred_count_s0': {4: 476, 5: 436, 6: 15, 3: 1, 0: 2, 7: 5, 2: 4}, 'class_pred_count_s1': {5: 320, 6: 72, 4: 446, 7: 68, 1: 3, 3: 18, 0: 6, 2: 2}, 'class_pred_count': {4: 922, 5: 756, 6: 87, 7: 73, 3: 19, 1: 3, 0: 8, 2: 6}, 'count_s0': 939, 'count_s1': 935, 'count': 1874}}\n",
      "[52] Eval metrics for task 4 >> {'accuracy': 0.9405457218751777, 'loss': 0.0009058841990920352, 'EO': [0.059877027734170585, 0.05238880360831577], 'DP': -1, 'accuracy_s0': 0.9969593898165326, 'accuracy_s1': 0.8846935584740463, 'classwise_accuracy': {7: array([ 968, 1028]), 6: array([900, 958])}, 'DP_ingredients': {'class_pred_count_s0': {7: 493, 6: 489, 4: 1, 5: 2}, 'class_pred_count_s1': {7: 485, 6: 420, 4: 38, 5: 16, 1: 8, 2: 17, 0: 8, 3: 9}, 'class_pred_count': {7: 978, 6: 909, 4: 39, 5: 18, 1: 8, 2: 17, 0: 8, 3: 9}, 'count_s0': 985, 'count_s1': 1001, 'count': 1986}}\n",
      "[53] Eval metrics for task 1 >> {'accuracy': 0.9148498606491055, 'loss': 0.0021599323191541305, 'EO': [0.04664570230607967, 0.03435702068107599], 'DP': -1, 'accuracy_s0': 0.9527662296130477, 'accuracy_s1': 0.871763506625892, 'classwise_accuracy': {1: array([1061, 1135]), 0: array([877, 980])}, 'DP_ingredients': {'class_pred_count_s0': {0: 497, 1: 571, 6: 16, 5: 17, 7: 10, 3: 9}, 'class_pred_count_s1': {1: 490, 6: 44, 0: 380, 5: 28, 7: 42, 3: 5, 2: 4, 4: 2}, 'class_pred_count': {1: 1061, 6: 60, 0: 877, 5: 45, 7: 52, 3: 14, 2: 4, 4: 2}, 'count_s0': 1120, 'count_s1': 995, 'count': 2115}}\n",
      "[53] Eval metrics for task 2 >> {'accuracy': 0.8112220815104766, 'loss': 0.004691087300583618, 'EO': [0.12513005622936474, 0.10329635424632072], 'DP': -1, 'accuracy_s0': 0.9244199420036276, 'accuracy_s1': 0.6959935315279422, 'classwise_accuracy': {2: array([ 813, 1032]), 3: array([ 843, 1010])}, 'DP_ingredients': {'class_pred_count_s0': {2: 478, 3: 478, 6: 18, 7: 31, 5: 15, 4: 9, 1: 1}, 'class_pred_count_s1': {5: 88, 3: 378, 2: 355, 6: 95, 7: 75, 0: 6, 1: 5, 4: 10}, 'class_pred_count': {2: 833, 5: 103, 3: 856, 6: 113, 7: 106, 0: 6, 1: 6, 4: 19}, 'count_s0': 1030, 'count_s1': 1012, 'count': 2042}}\n",
      "[53] Eval metrics for task 3 >> {'accuracy': 0.8675577434173875, 'loss': 0.0023645174668718173, 'EO': [0.09249782976195914, 0.09641540228495438], 'DP': -1, 'accuracy_s0': 0.9615480586884919, 'accuracy_s1': 0.7726348266415783, 'classwise_accuracy': {4: array([865, 982]), 5: array([762, 892])}, 'DP_ingredients': {'class_pred_count_s0': {4: 470, 5: 442, 2: 4, 6: 17, 0: 2, 7: 3, 3: 1}, 'class_pred_count_s1': {5: 325, 4: 417, 7: 93, 1: 5, 6: 69, 3: 18, 2: 2, 0: 6}, 'class_pred_count': {4: 887, 5: 767, 7: 96, 1: 5, 6: 86, 2: 6, 3: 19, 0: 8}, 'count_s0': 939, 'count_s1': 935, 'count': 1874}}\n",
      "[53] Eval metrics for task 4 >> {'accuracy': 0.9469397577638238, 'loss': 0.0008116060190750633, 'EO': [0.057740275597418456, 0.042069854264976225], 'DP': -1, 'accuracy_s0': 0.9969593898165326, 'accuracy_s1': 0.897149259954138, 'classwise_accuracy': {6: array([902, 958]), 7: array([ 979, 1028])}, 'DP_ingredients': {'class_pred_count_s0': {6: 489, 7: 493, 5: 2, 4: 1}, 'class_pred_count_s1': {6: 417, 7: 498, 2: 17, 5: 16, 3: 9, 1: 9, 4: 27, 0: 8}, 'class_pred_count': {6: 906, 7: 991, 2: 17, 5: 18, 3: 9, 1: 9, 4: 28, 0: 8}, 'count_s0': 985, 'count_s1': 1001, 'count': 1986}}\n",
      "[54] Eval metrics for task 1 >> {'accuracy': 0.9144093320147442, 'loss': 0.0019030124724052195, 'EO': [0.05280922431865831, 0.037039340693515777], 'DP': -1, 'accuracy_s0': 0.9564438759194116, 'accuracy_s1': 0.8665953109072375, 'classwise_accuracy': {1: array([1060, 1135]), 0: array([877, 980])}, 'DP_ingredients': {'class_pred_count_s0': {0: 500, 1: 572, 7: 14, 5: 13, 3: 8, 6: 13}, 'class_pred_count_s1': {1: 488, 6: 46, 0: 377, 7: 47, 3: 5, 2: 4, 5: 26, 4: 2}, 'class_pred_count': {1: 1060, 0: 877, 6: 59, 7: 61, 3: 13, 5: 39, 2: 4, 4: 2}, 'count_s0': 1120, 'count_s1': 995, 'count': 2115}}\n",
      "[54] Eval metrics for task 2 >> {'accuracy': 0.8097685931383836, 'loss': 0.004764000623396631, 'EO': [0.1203128110550612, 0.08943409840437005], 'DP': -1, 'accuracy_s0': 0.9137049425126985, 'accuracy_s1': 0.7039580330532673, 'classwise_accuracy': {3: array([ 843, 1010]), 2: array([ 810, 1032])}, 'DP_ingredients': {'class_pred_count_s0': {3: 471, 2: 475, 7: 40, 4: 10, 5: 15, 6: 18, 1: 1}, 'class_pred_count_s1': {3: 386, 6: 100, 7: 69, 2: 357, 5: 79, 1: 7, 0: 5, 4: 9}, 'class_pred_count': {3: 857, 2: 832, 6: 118, 7: 109, 5: 94, 4: 19, 1: 8, 0: 5}, 'count_s0': 1030, 'count_s1': 1012, 'count': 2042}}\n",
      "[54] Eval metrics for task 3 >> {'accuracy': 0.8673476843268519, 'loss': 0.002473513672293314, 'EO': [0.08184185714226377, 0.09262729452537827], 'DP': -1, 'accuracy_s0': 0.9540055712328395, 'accuracy_s1': 0.7795364195651974, 'classwise_accuracy': {5: array([748, 892]), 4: array([880, 982])}, 'DP_ingredients': {'class_pred_count_s0': {5: 433, 4: 473, 7: 8, 6: 17, 0: 2, 2: 4, 3: 2}, 'class_pred_count_s1': {5: 320, 4: 431, 7: 75, 6: 74, 3: 21, 0: 6, 2: 2, 1: 6}, 'class_pred_count': {5: 753, 4: 904, 7: 83, 6: 91, 3: 23, 0: 8, 2: 6, 1: 6}, 'count_s0': 939, 'count_s1': 935, 'count': 1874}}\n",
      "[54] Eval metrics for task 4 >> {'accuracy': 0.9476038358122872, 'loss': 0.000765936807443248, 'EO': [0.05239839525553808, 0.04582219948073607], 'DP': -1, 'accuracy_s0': 0.9969593898165326, 'accuracy_s1': 0.8987387950802586, 'classwise_accuracy': {7: array([ 975, 1028]), 6: array([907, 958])}, 'DP_ingredients': {'class_pred_count_s0': {6: 489, 7: 493, 5: 2, 4: 1}, 'class_pred_count_s1': {7: 491, 6: 424, 5: 14, 4: 26, 1: 12, 3: 9, 2: 17, 0: 8}, 'class_pred_count': {7: 984, 6: 913, 5: 16, 4: 27, 1: 12, 3: 9, 2: 17, 0: 8}, 'count_s0': 985, 'count_s1': 1001, 'count': 1986}}\n",
      "[55] Eval metrics for task 1 >> {'accuracy': 0.9116268093140341, 'loss': 0.0020875449862604164, 'EO': [0.04886792452830191, 0.03188462136526199], 'DP': -1, 'accuracy_s0': 0.949376399104573, 'accuracy_s1': 0.8686238532110091, 'classwise_accuracy': {0: array([875, 980]), 1: array([1056, 1135])}, 'DP_ingredients': {'class_pred_count_s0': {0: 497, 1: 567, 7: 17, 5: 17, 6: 14, 3: 8}, 'class_pred_count_s1': {0: 378, 1: 489, 6: 44, 5: 31, 7: 46, 4: 2, 2: 1, 3: 4}, 'class_pred_count': {0: 875, 1: 1056, 7: 63, 6: 58, 5: 48, 4: 2, 2: 1, 3: 12}, 'count_s0': 1120, 'count_s1': 995, 'count': 2115}}\n",
      "[55] Eval metrics for task 2 >> {'accuracy': 0.7995519610100545, 'loss': 0.005220168776423411, 'EO': [0.12337969657928638, 0.09342611437243392], 'DP': -1, 'accuracy_s0': 0.9069870922247907, 'accuracy_s1': 0.6901812812730703, 'classwise_accuracy': {2: array([ 793, 1032]), 3: array([ 839, 1010])}, 'DP_ingredients': {'class_pred_count_s0': {2: 469, 3: 470, 6: 18, 4: 11, 7: 44, 5: 15, 0: 1, 1: 2}, 'class_pred_count_s1': {2: 343, 6: 105, 3: 382, 5: 85, 7: 77, 4: 10, 1: 5, 0: 5}, 'class_pred_count': {2: 812, 3: 852, 6: 123, 4: 21, 5: 100, 7: 121, 1: 7, 0: 6}, 'count_s0': 1030, 'count_s1': 1012, 'count': 2042}}\n",
      "[55] Eval metrics for task 3 >> {'accuracy': 0.8720329153461865, 'loss': 0.002649884627239427, 'EO': [0.0749656292444249, 0.09926655785931615], 'DP': -1, 'accuracy_s0': 0.9582974167264017, 'accuracy_s1': 0.7840652296226607, 'classwise_accuracy': {4: array([887, 982]), 5: array([750, 892])}, 'DP_ingredients': {'class_pred_count_s0': {5: 437, 4: 472, 6: 15, 3: 2, 7: 6, 0: 3, 2: 4}, 'class_pred_count_s1': {4: 438, 6: 75, 7: 70, 5: 318, 3: 20, 0: 7, 1: 5, 2: 2}, 'class_pred_count': {4: 910, 5: 755, 6: 90, 7: 76, 3: 22, 0: 10, 1: 5, 2: 6}, 'count_s0': 939, 'count_s1': 935, 'count': 1874}}\n",
      "[55] Eval metrics for task 4 >> {'accuracy': 0.9536536477583812, 'loss': 0.0006798911926009264, 'EO': [0.04598813884528169, 0.0401936816570963], 'DP': -1, 'accuracy_s0': 0.9969593898165326, 'accuracy_s1': 0.9107775693141547, 'classwise_accuracy': {6: array([913, 958]), 7: array([ 981, 1028])}, 'DP_ingredients': {'class_pred_count_s0': {6: 489, 7: 493, 4: 1, 5: 2}, 'class_pred_count_s1': {6: 430, 7: 496, 3: 10, 5: 14, 2: 11, 1: 9, 4: 24, 0: 7}, 'class_pred_count': {6: 919, 7: 989, 3: 10, 5: 16, 2: 11, 1: 9, 4: 25, 0: 7}, 'count_s0': 985, 'count_s1': 1001, 'count': 1986}}\n",
      "[56] Eval metrics for task 1 >> {'accuracy': 0.9099793221253258, 'loss': 0.0021806979855747088, 'EO': [0.06314465408805031, 0.023627740631317007], 'DP': -1, 'accuracy_s0': 0.9503197953309881, 'accuracy_s1': 0.8635474006116208, 'classwise_accuracy': {0: array([864, 980]), 1: array([1065, 1135])}, 'DP_ingredients': {'class_pred_count_s0': {0: 498, 1: 567, 7: 16, 3: 8, 6: 15, 5: 16}, 'class_pred_count_s1': {0: 366, 1: 498, 7: 40, 5: 28, 6: 51, 2: 5, 3: 5, 4: 2}, 'class_pred_count': {0: 864, 1: 1065, 7: 56, 3: 13, 5: 44, 6: 66, 2: 5, 4: 2}, 'count_s0': 1120, 'count_s1': 995, 'count': 2115}}\n",
      "[56] Eval metrics for task 2 >> {'accuracy': 0.805397574641185, 'loss': 0.005051843041187402, 'EO': [0.1262024332252818, 0.09241242465952182], 'DP': -1, 'accuracy_s0': 0.9137275678855458, 'accuracy_s1': 0.6951127100007422, 'classwise_accuracy': {2: array([ 802, 1032]), 3: array([ 842, 1010])}, 'DP_ingredients': {'class_pred_count_s0': {2: 474, 3: 472, 7: 41, 5: 14, 6: 19, 1: 1, 4: 9}, 'class_pred_count_s1': {2: 349, 7: 79, 3: 384, 6: 101, 4: 9, 5: 80, 0: 4, 1: 6}, 'class_pred_count': {2: 823, 3: 856, 7: 120, 6: 120, 4: 18, 5: 94, 1: 7, 0: 4}, 'count_s0': 1030, 'count_s1': 1012, 'count': 2042}}\n",
      "[56] Eval metrics for task 3 >> {'accuracy': 0.8608267195163161, 'loss': 0.002645097951242738, 'EO': [0.08169232877964089, 0.10201696588688064], 'DP': -1, 'accuracy_s0': 0.9518914063279769, 'accuracy_s1': 0.7681821116614553, 'classwise_accuracy': {5: array([740, 892]), 4: array([876, 982])}, 'DP_ingredients': {'class_pred_count_s0': {5: 433, 4: 471, 2: 4, 6: 20, 3: 2, 7: 8, 0: 1}, 'class_pred_count_s1': {4: 428, 7: 84, 3: 22, 5: 311, 6: 76, 0: 6, 1: 6, 2: 2}, 'class_pred_count': {5: 744, 4: 899, 7: 92, 3: 24, 2: 6, 6: 96, 0: 7, 1: 6}, 'count_s0': 939, 'count_s1': 935, 'count': 1874}}\n",
      "[56] Eval metrics for task 4 >> {'accuracy': 0.9566074750412257, 'loss': 0.0006455653961391488, 'EO': [0.044919762776905625, 0.03550325013739647], 'DP': -1, 'accuracy_s0': 0.9969593898165326, 'accuracy_s1': 0.9165363769022306, 'classwise_accuracy': {7: array([ 986, 1028]), 6: array([914, 958])}, 'DP_ingredients': {'class_pred_count_s0': {7: 493, 5: 2, 6: 489, 4: 1}, 'class_pred_count_s1': {7: 502, 6: 429, 3: 9, 2: 12, 4: 22, 5: 13, 0: 7, 1: 7}, 'class_pred_count': {7: 995, 6: 918, 3: 9, 5: 15, 2: 12, 4: 23, 0: 7, 1: 7}, 'count_s0': 985, 'count_s1': 1001, 'count': 1986}}\n",
      "[57] Eval metrics for task 1 >> {'accuracy': 0.9079385057987952, 'loss': 0.0025012997588930966, 'EO': [0.059371069182389935, 0.027157518270875425], 'DP': -1, 'accuracy_s0': 0.9482411256795651, 'accuracy_s1': 0.8617125382262998, 'classwise_accuracy': {1: array([1065, 1135]), 0: array([860, 980])}, 'DP_ingredients': {'class_pred_count_s0': {0: 494, 1: 569, 3: 8, 5: 19, 6: 17, 7: 13}, 'class_pred_count_s1': {1: 496, 0: 366, 6: 51, 7: 42, 3: 5, 5: 27, 2: 5, 4: 3}, 'class_pred_count': {1: 1065, 0: 860, 6: 68, 7: 55, 3: 13, 5: 46, 2: 5, 4: 3}, 'count_s0': 1120, 'count_s1': 995, 'count': 2115}}\n",
      "[57] Eval metrics for task 2 >> {'accuracy': 0.8014266252206617, 'loss': 0.005155233631638425, 'EO': [0.12910029260304023, 0.10139446058766555], 'DP': -1, 'accuracy_s0': 0.9156469536820909, 'accuracy_s1': 0.6851522004913851, 'classwise_accuracy': {3: array([ 833, 1010]), 2: array([ 803, 1032])}, 'DP_ingredients': {'class_pred_count_s0': {3: 471, 2: 476, 5: 14, 7: 37, 4: 9, 6: 22, 1: 1}, 'class_pred_count_s1': {3: 374, 2: 349, 7: 73, 5: 85, 6: 111, 0: 5, 4: 10, 1: 5}, 'class_pred_count': {3: 845, 2: 825, 5: 99, 7: 110, 6: 133, 4: 19, 0: 5, 1: 6}, 'count_s0': 1030, 'count_s1': 1012, 'count': 2042}}\n",
      "[57] Eval metrics for task 3 >> {'accuracy': 0.8679550290886175, 'loss': 0.00262443128110505, 'EO': [0.06793987298396309, 0.10651030647403731], 'DP': -1, 'accuracy_s0': 0.9540373290747579, 'accuracy_s1': 0.7795871496167575, 'classwise_accuracy': {4: array([890, 982]), 5: array([740, 892])}, 'DP_ingredients': {'class_pred_count_s0': {4: 470, 5: 435, 6: 20, 7: 7, 2: 4, 3: 2, 0: 1}, 'class_pred_count_s1': {4: 443, 5: 310, 7: 62, 1: 5, 3: 22, 6: 85, 2: 2, 0: 6}, 'class_pred_count': {4: 913, 5: 745, 7: 69, 1: 5, 6: 105, 3: 24, 2: 6, 0: 7}, 'count_s0': 939, 'count_s1': 935, 'count': 1874}}\n",
      "[57] Eval metrics for task 4 >> {'accuracy': 0.956334329788876, 'loss': 0.0006468322236852463, 'EO': [0.03850950636664924, 0.042069854264976225], 'DP': -1, 'accuracy_s0': 0.9969593898165326, 'accuracy_s1': 0.9163800291849071, 'classwise_accuracy': {7: array([ 979, 1028]), 6: array([920, 958])}, 'DP_ingredients': {'class_pred_count_s0': {7: 493, 6: 489, 5: 2, 4: 1}, 'class_pred_count_s1': {7: 493, 6: 437, 3: 9, 4: 24, 5: 13, 2: 12, 1: 8, 0: 5}, 'class_pred_count': {7: 986, 6: 926, 3: 9, 4: 25, 5: 15, 2: 12, 1: 8, 0: 5}, 'count_s0': 985, 'count_s1': 1001, 'count': 1986}}\n",
      "[58] Eval metrics for task 1 >> {'accuracy': 0.9065944439449789, 'loss': 0.002207642779564463, 'EO': [0.05475890985324949, 0.02927227491836415], 'DP': -1, 'accuracy_s0': 0.9457946913975056, 'accuracy_s1': 0.861763506625892, 'classwise_accuracy': {1: array([1055, 1135]), 0: array([866, 980])}, 'DP_ingredients': {'class_pred_count_s0': {0: 495, 1: 565, 6: 17, 3: 8, 5: 17, 7: 18}, 'class_pred_count_s1': {1: 490, 5: 24, 7: 48, 0: 371, 6: 49, 2: 4, 4: 4, 3: 5}, 'class_pred_count': {1: 1055, 0: 866, 6: 66, 5: 41, 7: 66, 3: 13, 2: 4, 4: 4}, 'count_s0': 1120, 'count_s1': 995, 'count': 2115}}\n",
      "[58] Eval metrics for task 2 >> {'accuracy': 0.805418681403024, 'loss': 0.005176821488241257, 'EO': [0.1281593803877084, 0.0963573834648973], 'DP': -1, 'accuracy_s0': 0.9166745226989053, 'accuracy_s1': 0.6921577588462995, 'classwise_accuracy': {3: array([ 844, 1010]), 2: array([ 800, 1032])}, 'DP_ingredients': {'class_pred_count_s0': {3: 474, 2: 474, 4: 10, 7: 42, 5: 11, 6: 18, 1: 1}, 'class_pred_count_s1': {3: 382, 2: 347, 5: 77, 7: 87, 6: 102, 4: 9, 1: 3, 0: 5}, 'class_pred_count': {3: 856, 2: 821, 5: 88, 7: 129, 4: 19, 6: 120, 1: 4, 0: 5}, 'count_s0': 1030, 'count_s1': 1012, 'count': 2042}}\n",
      "[58] Eval metrics for task 3 >> {'accuracy': 0.8541002621172129, 'loss': 0.002844617836248913, 'EO': [0.08169232877964089, 0.10936146204839908], 'DP': -1, 'accuracy_s0': 0.9486725222078052, 'accuracy_s1': 0.7576187313797651, 'classwise_accuracy': {5: array([728, 892]), 4: array([876, 982])}, 'DP_ingredients': {'class_pred_count_s0': {5: 430, 4: 471, 6: 22, 7: 10, 2: 4, 3: 2}, 'class_pred_count_s1': {5: 302, 3: 25, 4: 429, 6: 74, 7: 93, 0: 6, 1: 4, 2: 2}, 'class_pred_count': {5: 732, 3: 27, 4: 900, 6: 96, 7: 103, 0: 6, 2: 6, 1: 4}, 'count_s0': 939, 'count_s1': 935, 'count': 1874}}\n",
      "[58] Eval metrics for task 4 >> {'accuracy': 0.9570583170190816, 'loss': 0.0006150314537480038, 'EO': [0.04598813884528169, 0.03362707752951655], 'DP': -1, 'accuracy_s0': 0.9969593898165326, 'accuracy_s1': 0.9173441734417345, 'classwise_accuracy': {6: array([913, 958]), 7: array([ 988, 1028])}, 'DP_ingredients': {'class_pred_count_s0': {6: 489, 7: 493, 5: 2, 4: 1}, 'class_pred_count_s1': {6: 428, 7: 504, 4: 21, 2: 15, 0: 6, 3: 9, 5: 12, 1: 6}, 'class_pred_count': {6: 917, 7: 997, 4: 22, 5: 14, 2: 15, 0: 6, 3: 9, 1: 6}, 'count_s0': 985, 'count_s1': 1001, 'count': 1986}}\n",
      "[59] Eval metrics for task 1 >> {'accuracy': 0.914431807965477, 'loss': 0.002204350447260178, 'EO': [0.05536687631027254, 0.027087544705333533], 'DP': -1, 'accuracy_s0': 0.9528621682123442, 'accuracy_s1': 0.870407747196738, 'classwise_accuracy': {1: array([1067, 1135]), 0: array([871, 980])}, 'DP_ingredients': {'class_pred_count_s0': {1: 570, 0: 498, 5: 17, 7: 11, 6: 15, 3: 9}, 'class_pred_count_s1': {1: 497, 0: 373, 6: 47, 5: 26, 7: 41, 4: 2, 3: 6, 2: 3}, 'class_pred_count': {1: 1067, 0: 871, 6: 62, 5: 43, 7: 52, 4: 2, 3: 15, 2: 3}, 'count_s0': 1120, 'count_s1': 995, 'count': 2115}}\n",
      "[59] Eval metrics for task 2 >> {'accuracy': 0.8000153503722465, 'loss': 0.005304658447960565, 'EO': [0.12819694175358992, 0.09740244461960168], 'DP': -1, 'accuracy_s0': 0.9118081820890007, 'accuracy_s1': 0.6862087957158091, 'classwise_accuracy': {2: array([ 796, 1032]), 3: array([ 837, 1010])}, 'DP_ingredients': {'class_pred_count_s0': {2: 473, 3: 471, 7: 43, 5: 14, 4: 10, 6: 16, 1: 2, 0: 1}, 'class_pred_count_s1': {2: 345, 3: 380, 4: 9, 7: 77, 6: 103, 5: 87, 1: 5, 0: 6}, 'class_pred_count': {2: 818, 3: 851, 7: 120, 4: 19, 6: 119, 5: 101, 1: 7, 0: 7}, 'count_s0': 1030, 'count_s1': 1012, 'count': 2042}}\n",
      "[59] Eval metrics for task 3 >> {'accuracy': 0.8616441233686172, 'loss': 0.0027442365852974777, 'EO': [0.08456451941168897, 0.09722138265933228], 'DP': -1, 'accuracy_s0': 0.9519072852489361, 'accuracy_s1': 0.7701213831779149, 'classwise_accuracy': {4: array([871, 982]), 5: array([746, 892])}, 'DP_ingredients': {'class_pred_count_s0': {4: 469, 5: 434, 7: 9, 6: 19, 3: 2, 2: 4, 0: 2}, 'class_pred_count_s1': {4: 423, 6: 81, 5: 317, 7: 76, 3: 23, 1: 6, 2: 2, 0: 7}, 'class_pred_count': {4: 892, 6: 100, 5: 751, 7: 85, 3: 25, 1: 6, 2: 6, 0: 9}, 'count_s0': 939, 'count_s1': 935, 'count': 1874}}\n",
      "[59] Eval metrics for task 4 >> {'accuracy': 0.9567140930765294, 'loss': 0.0006394874293278351, 'EO': [0.04171463457177743, 0.03831750904921638], 'DP': -1, 'accuracy_s0': 0.9969593898165326, 'accuracy_s1': 0.9169272461955389, 'classwise_accuracy': {6: array([917, 958]), 7: array([ 983, 1028])}, 'DP_ingredients': {'class_pred_count_s0': {6: 489, 7: 493, 5: 2, 4: 1}, 'class_pred_count_s1': {7: 498, 6: 436, 2: 11, 3: 9, 1: 8, 4: 19, 5: 14, 0: 6}, 'class_pred_count': {6: 925, 7: 991, 2: 11, 3: 9, 1: 8, 4: 20, 5: 16, 0: 6}, 'count_s0': 985, 'count_s1': 1001, 'count': 1986}}\n",
      "[60] Eval metrics for task 1 >> {'accuracy': 0.915591567023285, 'loss': 0.002250969734034076, 'EO': [0.05092243186582812, 0.03245218473021305], 'DP': -1, 'accuracy_s0': 0.9545570834665814, 'accuracy_s1': 0.8711824668705402, 'classwise_accuracy': {1: array([1065, 1135]), 0: array([875, 980])}, 'DP_ingredients': {'class_pred_count_s0': {1: 572, 0: 498, 3: 8, 5: 16, 6: 14, 7: 12}, 'class_pred_count_s1': {1: 493, 0: 377, 6: 50, 3: 6, 7: 41, 2: 3, 5: 23, 4: 2}, 'class_pred_count': {1: 1065, 0: 875, 6: 64, 3: 14, 7: 53, 5: 39, 2: 3, 4: 2}, 'count_s0': 1120, 'count_s1': 995, 'count': 2115}}\n",
      "[60] Eval metrics for task 2 >> {'accuracy': 0.8014477319825006, 'loss': 0.005413332134923085, 'EO': [0.12718090680649508, 0.10335909712990521], 'DP': -1, 'accuracy_s0': 0.9156922044277854, 'accuracy_s1': 0.6851522004913851, 'classwise_accuracy': {2: array([ 801, 1032]), 3: array([ 835, 1010])}, 'DP_ingredients': {'class_pred_count_s0': {2: 474, 7: 40, 3: 473, 5: 12, 4: 9, 6: 19, 0: 1, 1: 2}, 'class_pred_count_s1': {6: 110, 3: 374, 2: 348, 7: 74, 5: 86, 0: 6, 4: 9, 1: 5}, 'class_pred_count': {6: 129, 2: 822, 3: 847, 7: 114, 5: 98, 4: 18, 0: 7, 1: 7}, 'count_s0': 1030, 'count_s1': 1012, 'count': 2042}}\n",
      "[60] Eval metrics for task 3 >> {'accuracy': 0.8601634351054406, 'loss': 0.0029221476396603416, 'EO': [0.07972769223740117, 0.10553809264744402], 'DP': -1, 'accuracy_s0': 0.9518914063279769, 'accuracy_s1': 0.7666256214431316, 'classwise_accuracy': {4: array([878, 982]), 5: array([737, 892])}, 'DP_ingredients': {'class_pred_count_s0': {5: 433, 4: 470, 6: 19, 7: 9, 2: 4, 0: 2, 3: 2}, 'class_pred_count_s1': {4: 430, 7: 68, 5: 309, 6: 90, 3: 23, 1: 6, 2: 2, 0: 7}, 'class_pred_count': {4: 900, 5: 742, 7: 77, 6: 109, 3: 25, 1: 6, 2: 6, 0: 9}, 'count_s0': 939, 'count_s1': 935, 'count': 1874}}\n",
      "[60] Eval metrics for task 4 >> {'accuracy': 0.9602964590627361, 'loss': 0.0006161727881563634, 'EO': [0.03637275422989705, 0.0364413364413364], 'DP': -1, 'accuracy_s0': 0.9969593898165326, 'accuracy_s1': 0.9241452991452992, 'classwise_accuracy': {6: array([922, 958]), 7: array([ 985, 1028])}, 'DP_ingredients': {'class_pred_count_s0': {6: 489, 7: 493, 5: 2, 4: 1}, 'class_pred_count_s1': {7: 496, 6: 440, 2: 11, 1: 8, 5: 13, 4: 18, 3: 9, 0: 6}, 'class_pred_count': {6: 929, 7: 989, 2: 11, 1: 8, 5: 15, 4: 19, 3: 9, 0: 6}, 'count_s0': 985, 'count_s1': 1001, 'count': 1986}}\n",
      "training_task_end\n",
      "---------------------------- Task 5 -----------------------\n",
      "[61] Eval metrics for task 1 >> {'accuracy': 0.8955340285894093, 'loss': 0.0022588800876698597, 'EO': [0.05226415094339626, 0.03427927227491839], 'DP': -1, 'accuracy_s0': 0.9359929645027183, 'accuracy_s1': 0.8494495412844036, 'classwise_accuracy': {0: array([859, 980]), 1: array([1038, 1135])}, 'DP_ingredients': {'class_pred_count_s0': {1: 559, 0: 490, 9: 17, 8: 28, 5: 18, 6: 5, 7: 2, 3: 1}, 'class_pred_count_s1': {0: 369, 1: 479, 8: 31, 5: 28, 7: 19, 9: 29, 6: 28, 3: 7, 2: 3, 4: 2}, 'class_pred_count': {0: 859, 1: 1038, 9: 46, 8: 59, 5: 46, 7: 21, 6: 33, 3: 8, 2: 3, 4: 2}, 'count_s0': 1120, 'count_s1': 995, 'count': 2115}}\n",
      "[61] Eval metrics for task 2 >> {'accuracy': 0.7672259958553995, 'loss': 0.0052759443043961934, 'EO': [0.0922375681269274, 0.1742487520048312], 'DP': -1, 'accuracy_s0': 0.8993321744114575, 'accuracy_s1': 0.6328458542796989, 'classwise_accuracy': {3: array([ 760, 1010]), 2: array([ 807, 1032])}, 'DP_ingredients': {'class_pred_count_s0': {3: 471, 2: 460, 8: 35, 9: 8, 7: 26, 5: 10, 6: 9, 4: 10, 0: 1}, 'class_pred_count_s1': {3: 298, 2: 361, 6: 69, 8: 88, 7: 39, 9: 61, 1: 8, 5: 79, 0: 5, 4: 4}, 'class_pred_count': {3: 769, 2: 821, 6: 78, 8: 123, 9: 69, 7: 65, 1: 8, 5: 89, 4: 14, 0: 6}, 'count_s0': 1030, 'count_s1': 1012, 'count': 2042}}\n",
      "[61] Eval metrics for task 3 >> {'accuracy': 0.7926876603983817, 'loss': 0.0036953233794697828, 'EO': [0.15024069912816657, 0.1461141671200306], 'DP': -1, 'accuracy_s0': 0.940342893956029, 'accuracy_s1': 0.6439880277078318, 'classwise_accuracy': {4: array([773, 982]), 5: array([712, 892])}, 'DP_ingredients': {'class_pred_count_s0': {4: 448, 5: 438, 9: 28, 2: 3, 0: 5, 6: 10, 7: 2, 3: 3, 8: 2}, 'class_pred_count_s1': {4: 333, 5: 277, 9: 123, 6: 62, 0: 6, 8: 78, 7: 42, 3: 9, 2: 1, 1: 4}, 'class_pred_count': {4: 781, 5: 715, 9: 151, 6: 72, 0: 11, 8: 80, 7: 44, 2: 4, 3: 12, 1: 4}, 'count_s0': 939, 'count_s1': 935, 'count': 1874}}\n",
      "[61] Eval metrics for task 4 >> {'accuracy': 0.9297387147348155, 'loss': 0.0010281081901336124, 'EO': [0.06308215593929878, 0.06826425606913411], 'DP': -1, 'accuracy_s0': 0.9959492888064316, 'accuracy_s1': 0.8646028767979987, 'classwise_accuracy': {6: array([897, 958]), 7: array([ 949, 1028])}, 'DP_ingredients': {'class_pred_count_s0': {6: 490, 7: 492, 4: 1, 5: 1, 8: 1}, 'class_pred_count_s1': {6: 409, 7: 458, 2: 13, 5: 12, 9: 62, 8: 22, 4: 9, 1: 5, 0: 7, 3: 4}, 'class_pred_count': {6: 899, 7: 950, 2: 13, 5: 13, 9: 62, 8: 23, 4: 10, 1: 5, 0: 7, 3: 4}, 'count_s0': 985, 'count_s1': 1001, 'count': 1986}}\n",
      "[61] Eval metrics for task 5 >> {'accuracy': 0.7029806688469076, 'loss': 0.003548458857303067, 'EO': [0.27083148666388085, 0.2810731576961771], 'DP': -1, 'accuracy_s0': 0.985471213694054, 'accuracy_s1': 0.433566569333996, 'classwise_accuracy': {8: array([685, 974]), 9: array([ 709, 1009])}, 'DP_ingredients': {'class_pred_count_s0': {8: 463, 9: 491, 6: 4, 0: 2, 5: 3, 1: 1, 7: 2, 2: 1, 4: 1}, 'class_pred_count_s1': {7: 141, 3: 22, 2: 4, 4: 93, 9: 319, 5: 89, 8: 290, 6: 47, 1: 4, 0: 6}, 'class_pred_count': {8: 753, 9: 810, 7: 143, 3: 22, 2: 5, 4: 94, 5: 92, 6: 51, 0: 8, 1: 5}, 'count_s0': 968, 'count_s1': 1015, 'count': 1983}}\n",
      "[62] Eval metrics for task 1 >> {'accuracy': 0.8909646678054481, 'loss': 0.00230355675620672, 'EO': [0.07303983228511529, 0.038446586844969655], 'DP': -1, 'accuracy_s0': 0.9429645027182603, 'accuracy_s1': 0.8314780835881754, 'classwise_accuracy': {1: array([1045, 1135]), 0: array([844, 980])}, 'DP_ingredients': {'class_pred_count_s0': {1: 565, 0: 492, 5: 14, 8: 23, 9: 19, 6: 4, 7: 2, 3: 1}, 'class_pred_count_s1': {0: 352, 1: 480, 6: 25, 8: 40, 5: 25, 9: 35, 2: 7, 7: 23, 4: 2, 3: 6}, 'class_pred_count': {1: 1045, 0: 844, 5: 39, 8: 63, 6: 29, 9: 54, 2: 7, 7: 25, 4: 2, 3: 7}, 'count_s0': 1120, 'count_s1': 995, 'count': 2115}}\n",
      "[62] Eval metrics for task 2 >> {'accuracy': 0.7778849105840817, 'loss': 0.005205294352670608, 'EO': [0.10172181301200839, 0.16038649616288053], 'DP': -1, 'accuracy_s0': 0.9078110328859794, 'accuracy_s1': 0.6457027237110905, 'classwise_accuracy': {3: array([ 760, 1010]), 2: array([ 829, 1032])}, 'DP_ingredients': {'class_pred_count_s0': {3: 464, 2: 473, 9: 6, 7: 21, 6: 10, 4: 9, 5: 12, 8: 34, 1: 1}, 'class_pred_count_s1': {3: 305, 2: 375, 9: 54, 6: 58, 5: 61, 7: 41, 8: 100, 0: 4, 1: 10, 4: 4}, 'class_pred_count': {3: 769, 2: 848, 9: 60, 6: 68, 5: 73, 7: 62, 8: 134, 4: 13, 0: 4, 1: 11}, 'count_s0': 1030, 'count_s1': 1012, 'count': 2042}}\n",
      "[62] Eval metrics for task 3 >> {'accuracy': 0.77908062615875, 'loss': 0.004013322746995419, 'EO': [0.1554513472090116, 0.15758427532289587], 'DP': -1, 'accuracy_s0': 0.9349145714052391, 'accuracy_s1': 0.6218789488733316, 'classwise_accuracy': {4: array([776, 982]), 5: array([685, 892])}, 'DP_ingredients': {'class_pred_count_s0': {4: 452, 5: 429, 2: 3, 9: 22, 8: 15, 3: 3, 7: 3, 0: 5, 6: 7}, 'class_pred_count_s1': {3: 12, 5: 258, 7: 50, 4: 332, 8: 89, 9: 123, 6: 57, 1: 7, 0: 6, 2: 1}, 'class_pred_count': {4: 784, 3: 15, 5: 687, 7: 53, 8: 104, 9: 145, 6: 64, 1: 7, 2: 4, 0: 11}, 'count_s0': 939, 'count_s1': 935, 'count': 1874}}\n",
      "[62] Eval metrics for task 4 >> {'accuracy': 0.930544950163684, 'loss': 0.0010897365266462828, 'EO': [0.05137798709227276, 0.0757689465006538], 'DP': -1, 'accuracy_s0': 0.9949288806431663, 'accuracy_s1': 0.8677819470502397, 'classwise_accuracy': {7: array([ 941, 1028]), 6: array([906, 958])}, 'DP_ingredients': {'class_pred_count_s0': {6: 489, 7: 493, 2: 1, 4: 1, 8: 1}, 'class_pred_count_s1': {7: 450, 2: 10, 6: 419, 9: 65, 3: 4, 8: 20, 4: 8, 5: 10, 1: 9, 0: 6}, 'class_pred_count': {7: 943, 6: 908, 2: 11, 9: 65, 3: 4, 8: 21, 4: 9, 5: 10, 1: 9, 0: 6}, 'count_s0': 985, 'count_s1': 1001, 'count': 1986}}\n",
      "[62] Eval metrics for task 5 >> {'accuracy': 0.7658521967589436, 'loss': 0.0027623564621083252, 'EO': [0.19541983766192655, 0.2440522038480885], 'DP': -1, 'accuracy_s0': 0.9906124645964962, 'accuracy_s1': 0.5511404230864811, 'classwise_accuracy': {8: array([765, 974]), 9: array([ 753, 1009])}, 'DP_ingredients': {'class_pred_count_s0': {8: 465, 9: 494, 6: 3, 7: 2, 2: 2, 5: 1, 1: 1}, 'class_pred_count_s1': {4: 71, 9: 327, 8: 358, 7: 140, 3: 20, 6: 29, 5: 55, 1: 5, 2: 5, 0: 5}, 'class_pred_count': {8: 823, 4: 71, 9: 821, 7: 142, 6: 32, 3: 20, 5: 56, 1: 6, 2: 7, 0: 5}, 'count_s0': 968, 'count_s1': 1015, 'count': 1983}}\n",
      "[63] Eval metrics for task 1 >> {'accuracy': 0.892171626359795, 'loss': 0.0024035447032739084, 'EO': [0.06287211740041931, 0.031736899393562445], 'DP': -1, 'accuracy_s0': 0.9362807803006077, 'accuracy_s1': 0.8416717635066259, 'classwise_accuracy': {1: array([1035, 1135]), 0: array([855, 980])}, 'DP_ingredients': {'class_pred_count_s0': {1: 556, 5: 15, 6: 4, 0: 493, 8: 37, 9: 12, 7: 2, 3: 1}, 'class_pred_count_s1': {1: 479, 0: 362, 5: 22, 2: 6, 6: 22, 8: 53, 9: 31, 7: 15, 3: 3, 4: 2}, 'class_pred_count': {1: 1035, 0: 855, 5: 37, 6: 26, 2: 6, 8: 90, 9: 43, 7: 17, 3: 4, 4: 2}, 'count_s0': 1120, 'count_s1': 995, 'count': 2115}}\n",
      "[63] Eval metrics for task 2 >> {'accuracy': 0.7554503415457825, 'loss': 0.005946796099189213, 'EO': [0.10396047041854628, 0.16643726299856082], 'DP': -1, 'accuracy_s0': 0.8894863663274117, 'accuracy_s1': 0.6190886329103047, 'classwise_accuracy': {2: array([ 797, 1032]), 3: array([ 746, 1010])}, 'DP_ingredients': {'class_pred_count_s0': {2: 458, 3: 460, 7: 24, 8: 51, 4: 10, 6: 9, 9: 7, 5: 11}, 'class_pred_count_s1': {2: 350, 8: 157, 9: 39, 3: 291, 7: 35, 4: 6, 6: 56, 5: 65, 1: 9, 0: 4}, 'class_pred_count': {2: 808, 3: 751, 8: 208, 9: 46, 7: 59, 4: 16, 6: 65, 5: 76, 1: 9, 0: 4}, 'count_s0': 1030, 'count_s1': 1012, 'count': 2042}}\n",
      "[63] Eval metrics for task 3 >> {'accuracy': 0.7909409733955595, 'loss': 0.004028611783665806, 'EO': [0.13723588514560325, 0.1545668862963187], 'DP': -1, 'accuracy_s0': 0.9358922592528741, 'accuracy_s1': 0.6440894878109522, 'classwise_accuracy': {4: array([807, 982]), 5: array([678, 892])}, 'DP_ingredients': {'class_pred_count_s0': {5: 424, 9: 18, 4: 458, 2: 3, 0: 5, 3: 3, 7: 3, 6: 4, 8: 21}, 'class_pred_count_s1': {4: 358, 9: 107, 5: 257, 6: 50, 8: 109, 3: 10, 7: 32, 1: 5, 0: 6, 2: 1}, 'class_pred_count': {4: 816, 5: 681, 9: 125, 6: 54, 2: 4, 8: 130, 0: 11, 3: 13, 7: 35, 1: 5}, 'count_s0': 939, 'count_s1': 935, 'count': 1874}}\n",
      "[63] Eval metrics for task 4 >> {'accuracy': 0.9237955208240254, 'loss': 0.0012258345116781444, 'EO': [0.06002093144950288, 0.07281065817651183], 'DP': -1, 'accuracy_s0': 0.9908678622964338, 'accuracy_s1': 0.858036272670419, 'classwise_accuracy': {6: array([894, 958]), 7: array([ 940, 1028])}, 'DP_ingredients': {'class_pred_count_s0': {6: 488, 7: 491, 8: 4, 4: 1, 5: 1}, 'class_pred_count_s1': {6: 409, 0: 6, 7: 451, 9: 66, 8: 32, 1: 8, 4: 9, 2: 9, 5: 10, 3: 1}, 'class_pred_count': {6: 897, 7: 942, 0: 6, 9: 66, 8: 36, 1: 8, 4: 10, 2: 9, 5: 11, 3: 1}, 'count_s0': 985, 'count_s1': 1001, 'count': 1986}}\n",
      "[63] Eval metrics for task 5 >> {'accuracy': 0.8032553018724702, 'loss': 0.0023832000750697024, 'EO': [0.1309425822981432, 0.2401459538480885], 'DP': -1, 'accuracy_s0': 0.992735606847027, 'accuracy_s1': 0.6216470707007953, 'classwise_accuracy': {9: array([ 757, 1009]), 8: array([834, 974])}, 'DP_ingredients': {'class_pred_count_s0': {9: 494, 8: 468, 7: 2, 2: 2, 6: 2}, 'class_pred_count_s1': {8: 435, 6: 27, 9: 295, 7: 112, 4: 78, 5: 43, 1: 5, 3: 12, 2: 2, 0: 6}, 'class_pred_count': {9: 789, 8: 903, 6: 29, 7: 114, 4: 78, 5: 43, 1: 5, 3: 12, 2: 4, 0: 6}, 'count_s0': 968, 'count_s1': 1015, 'count': 1983}}\n",
      "[64] Eval metrics for task 1 >> {'accuracy': 0.8887620246336421, 'loss': 0.0027531988231848316, 'EO': [0.07098532494758908, 0.03773907634893481], 'DP': -1, 'accuracy_s0': 0.9394787336104893, 'accuracy_s1': 0.8307543323139654, 'classwise_accuracy': {0: array([844, 980]), 1: array([1040, 1135])}, 'DP_ingredients': {'class_pred_count_s0': {0: 491, 5: 15, 1: 562, 8: 32, 9: 14, 6: 3, 7: 2, 3: 1}, 'class_pred_count_s1': {1: 478, 0: 353, 5: 21, 8: 47, 2: 10, 6: 27, 4: 2, 9: 38, 3: 5, 7: 14}, 'class_pred_count': {0: 844, 5: 36, 1: 1040, 8: 79, 2: 10, 6: 30, 4: 2, 9: 52, 3: 6, 7: 16}, 'count_s0': 1120, 'count_s1': 995, 'count': 2115}}\n",
      "[64] Eval metrics for task 2 >> {'accuracy': 0.7523322971832067, 'loss': 0.0062227399178746865, 'EO': [0.10576717211744685, 0.18639734283888015], 'DP': -1, 'accuracy_s0': 0.8971639095135922, 'accuracy_s1': 0.6049993945572651, 'classwise_accuracy': {3: array([ 726, 1010]), 2: array([ 811, 1032])}, 'DP_ingredients': {'class_pred_count_s0': {3: 460, 2: 465, 4: 9, 5: 14, 8: 39, 7: 23, 9: 10, 6: 10}, 'class_pred_count_s1': {3: 271, 5: 66, 9: 51, 8: 153, 2: 362, 6: 60, 1: 9, 7: 31, 4: 5, 0: 4}, 'class_pred_count': {3: 731, 2: 827, 5: 80, 4: 14, 9: 61, 8: 192, 6: 70, 7: 54, 1: 9, 0: 4}, 'count_s0': 1030, 'count_s1': 1012, 'count': 2042}}\n",
      "[64] Eval metrics for task 3 >> {'accuracy': 0.7817246307983159, 'loss': 0.00433395308389735, 'EO': [0.1416988914133338, 0.16248060609724158], 'DP': -1, 'accuracy_s0': 0.9327686486584581, 'accuracy_s1': 0.6285891511478827, 'classwise_accuracy': {5: array([677, 892]), 4: array([790, 982])}, 'DP_ingredients': {'class_pred_count_s0': {5: 427, 4: 450, 8: 18, 9: 24, 3: 3, 6: 7, 2: 3, 7: 3, 0: 4}, 'class_pred_count_s1': {5: 253, 7: 32, 4: 346, 8: 100, 9: 128, 6: 57, 0: 5, 1: 5, 3: 8, 2: 1}, 'class_pred_count': {5: 680, 7: 35, 4: 796, 8: 118, 9: 152, 6: 64, 0: 9, 3: 11, 2: 4, 1: 5}, 'count_s0': 939, 'count_s1': 935, 'count': 1874}}\n",
      "[64] Eval metrics for task 4 >> {'accuracy': 0.927520044190637, 'loss': 0.00127521908325251, 'EO': [0.05458311529740101, 0.07468683078439176], 'DP': -1, 'accuracy_s0': 0.9929086786229644, 'accuracy_s1': 0.8636387325411716, 'classwise_accuracy': {7: array([ 938, 1028]), 6: array([903, 958])}, 'DP_ingredients': {'class_pred_count_s0': {6: 490, 7: 491, 4: 1, 8: 3}, 'class_pred_count_s1': {7: 449, 6: 416, 8: 24, 9: 67, 5: 11, 2: 9, 1: 8, 3: 3, 4: 8, 0: 6}, 'class_pred_count': {7: 940, 6: 906, 8: 27, 9: 67, 5: 11, 2: 9, 1: 8, 3: 3, 4: 9, 0: 6}, 'count_s0': 985, 'count_s1': 1001, 'count': 1986}}\n",
      "[64] Eval metrics for task 5 >> {'accuracy': 0.817943437196647, 'loss': 0.0022148142183181676, 'EO': [0.14088294015102593, 0.20306605256539234], 'DP': -1, 'accuracy_s0': 0.9937416430643308, 'accuracy_s1': 0.6497926503479126, 'classwise_accuracy': {9: array([ 797, 1009]), 8: array([824, 974])}, 'DP_ingredients': {'class_pred_count_s0': {9: 496, 8: 467, 6: 2, 7: 1, 2: 2}, 'class_pred_count_s1': {9: 341, 8: 411, 7: 105, 6: 31, 4: 61, 5: 43, 3: 12, 1: 4, 0: 5, 2: 2}, 'class_pred_count': {9: 837, 8: 878, 7: 106, 6: 33, 4: 61, 5: 43, 3: 12, 1: 4, 2: 4, 0: 5}, 'count_s0': 968, 'count_s1': 1015, 'count': 1983}}\n",
      "[65] Eval metrics for task 1 >> {'accuracy': 0.8853299469567564, 'loss': 0.002713800195261096, 'EO': [0.07243186582809225, 0.03957393873425591], 'DP': -1, 'accuracy_s0': 0.9375919411576591, 'accuracy_s1': 0.825586136595311, 'classwise_accuracy': {1: array([1038, 1135]), 0: array([839, 980])}, 'DP_ingredients': {'class_pred_count_s0': {1: 562, 8: 32, 0: 489, 9: 16, 5: 15, 6: 3, 3: 1, 7: 2}, 'class_pred_count_s1': {1: 476, 0: 350, 8: 58, 9: 36, 6: 23, 5: 28, 2: 11, 7: 7, 3: 4, 4: 2}, 'class_pred_count': {1: 1038, 8: 90, 0: 839, 9: 52, 6: 26, 5: 43, 2: 11, 7: 9, 3: 5, 4: 2}, 'count_s0': 1120, 'count_s1': 995, 'count': 2115}}\n",
      "[65] Eval metrics for task 2 >> {'accuracy': 0.7592313301097551, 'loss': 0.006082417448867663, 'EO': [0.10283175137380696, 0.14769478724280316], 'DP': -1, 'accuracy_s0': 0.8834114537179143, 'accuracy_s1': 0.6328849151013043, 'classwise_accuracy': {2: array([ 814, 1032]), 3: array([ 737, 1010])}, 'DP_ingredients': {'class_pred_count_s0': {3: 446, 2: 465, 9: 13, 5: 19, 7: 21, 4: 9, 8: 49, 6: 8}, 'class_pred_count_s1': {2: 363, 3: 295, 9: 51, 6: 52, 8: 154, 5: 59, 7: 24, 4: 5, 0: 2, 1: 7}, 'class_pred_count': {2: 828, 3: 741, 9: 64, 5: 78, 6: 60, 8: 203, 7: 45, 4: 14, 0: 2, 1: 7}, 'count_s0': 1030, 'count_s1': 1012, 'count': 2042}}\n",
      "[65] Eval metrics for task 3 >> {'accuracy': 0.7762779355757903, 'loss': 0.0048400973115939345, 'EO': [0.15749074793256274, 0.1567128090430998], 'DP': -1, 'accuracy_s0': 0.9327527697374988, 'accuracy_s1': 0.6185492127618362, 'classwise_accuracy': {5: array([680, 892]), 4: array([776, 982])}, 'DP_ingredients': {'class_pred_count_s0': {4: 451, 5: 426, 8: 21, 9: 24, 6: 4, 7: 3, 2: 3, 0: 4, 3: 3}, 'class_pred_count_s1': {3: 4, 9: 150, 4: 330, 8: 109, 5: 256, 7: 22, 6: 54, 2: 1, 1: 4, 0: 5}, 'class_pred_count': {3: 7, 9: 174, 4: 781, 8: 130, 5: 682, 7: 25, 6: 58, 2: 4, 1: 4, 0: 9}, 'count_s0': 939, 'count_s1': 935, 'count': 1874}}\n",
      "[65] Eval metrics for task 4 >> {'accuracy': 0.917958944948539, 'loss': 0.0014610880421247606, 'EO': [0.06210971568114426, 0.0743267572535865], 'DP': -1, 'accuracy_s0': 0.986837765409194, 'accuracy_s1': 0.8504012924744633, 'classwise_accuracy': {6: array([894, 958]), 7: array([ 928, 1028])}, 'DP_ingredients': {'class_pred_count_s0': {8: 5, 7: 486, 6: 487, 3: 4, 2: 2, 4: 1}, 'class_pred_count_s1': {7: 444, 6: 408, 0: 7, 8: 26, 9: 78, 1: 8, 2: 9, 5: 11, 4: 9, 3: 1}, 'class_pred_count': {8: 31, 7: 930, 6: 895, 3: 5, 0: 7, 9: 78, 2: 11, 1: 8, 5: 11, 4: 10}, 'count_s0': 985, 'count_s1': 1001, 'count': 1986}}\n",
      "[65] Eval metrics for task 5 >> {'accuracy': 0.8453258456234749, 'loss': 0.0017940437499165114, 'EO': [0.10609168766593646, 0.18451136506539234], 'DP': -1, 'accuracy_s0': 0.9937416430643308, 'accuracy_s1': 0.703138590333002, 'classwise_accuracy': {9: array([ 816, 1009]), 8: array([859, 974])}, 'DP_ingredients': {'class_pred_count_s0': {9: 496, 8: 467, 6: 2, 7: 1, 2: 2}, 'class_pred_count_s1': {9: 352, 5: 37, 6: 26, 8: 448, 7: 83, 3: 10, 4: 49, 1: 4, 0: 5, 2: 1}, 'class_pred_count': {9: 848, 5: 37, 8: 915, 6: 28, 7: 84, 3: 10, 4: 49, 1: 4, 0: 5, 2: 3}, 'count_s0': 968, 'count_s1': 1015, 'count': 1983}}\n",
      "[66] Eval metrics for task 1 >> {'accuracy': 0.8827092511013216, 'loss': 0.002642460283658183, 'EO': [0.0790985324947589, 0.035126729902037024], 'DP': -1, 'accuracy_s0': 0.9358970259034218, 'accuracy_s1': 0.821671763506626, 'classwise_accuracy': {1: array([1039, 1135]), 0: array([833, 980])}, 'DP_ingredients': {'class_pred_count_s0': {1: 560, 0: 489, 8: 33, 9: 17, 5: 15, 6: 3, 7: 2, 3: 1}, 'class_pred_count_s1': {9: 42, 6: 26, 1: 479, 0: 344, 8: 56, 7: 11, 5: 24, 2: 10, 3: 2, 4: 1}, 'class_pred_count': {1: 1039, 9: 59, 0: 833, 6: 29, 8: 89, 7: 13, 5: 39, 2: 10, 3: 3, 4: 1}, 'count_s0': 1120, 'count_s1': 995, 'count': 2115}}\n",
      "[66] Eval metrics for task 2 >> {'accuracy': 0.7341104459283138, 'loss': 0.006750426901892981, 'EO': [0.11457343434836664, 0.1569121089843888], 'DP': -1, 'accuracy_s0': 0.8686766796511167, 'accuracy_s1': 0.5971911363183613, 'classwise_accuracy': {2: array([ 802, 1032]), 3: array([ 698, 1010])}, 'DP_ingredients': {'class_pred_count_s0': {2: 465, 3: 431, 8: 56, 4: 7, 7: 24, 5: 23, 9: 15, 6: 8, 1: 1}, 'class_pred_count_s1': {2: 352, 8: 167, 3: 271, 5: 67, 9: 54, 6: 58, 7: 30, 1: 7, 0: 2, 4: 4}, 'class_pred_count': {2: 817, 3: 702, 8: 223, 5: 90, 9: 69, 6: 66, 7: 54, 1: 8, 4: 11, 0: 2}, 'count_s0': 1030, 'count_s1': 1012, 'count': 2042}}\n",
      "[66] Eval metrics for task 3 >> {'accuracy': 0.7608956736960354, 'loss': 0.004967143625943358, 'EO': [0.1415597469647819, 0.16405730520461825], 'DP': -1, 'accuracy_s0': 0.9126205663784264, 'accuracy_s1': 0.6070035142090262, 'classwise_accuracy': {4: array([759, 982]), 5: array([668, 892])}, 'DP_ingredients': {'class_pred_count_s0': {5: 423, 4: 435, 9: 40, 7: 3, 8: 24, 0: 4, 2: 3, 6: 5, 3: 2}, 'class_pred_count_s1': {4: 330, 6: 51, 8: 103, 9: 162, 5: 247, 7: 27, 1: 4, 3: 5, 0: 5, 2: 1}, 'class_pred_count': {4: 765, 5: 670, 6: 56, 8: 127, 9: 202, 7: 30, 1: 4, 0: 9, 2: 4, 3: 7}, 'count_s0': 939, 'count_s1': 935, 'count': 1874}}\n",
      "[66] Eval metrics for task 4 >> {'accuracy': 0.9116359877500955, 'loss': 0.001538676032486999, 'EO': [0.06210971568114426, 0.09431462846096994], 'DP': -1, 'accuracy_s0': 0.9908781694495981, 'accuracy_s1': 0.8344538253074838, 'classwise_accuracy': {6: array([894, 958]), 7: array([ 915, 1028])}, 'DP_ingredients': {'class_pred_count_s0': {6: 489, 7: 490, 4: 1, 8: 5}, 'class_pred_count_s1': {7: 427, 6: 408, 8: 30, 9: 91, 2: 9, 0: 7, 4: 8, 5: 12, 1: 7, 3: 2}, 'class_pred_count': {6: 897, 7: 917, 8: 35, 9: 91, 2: 9, 0: 7, 4: 9, 5: 12, 1: 7, 3: 2}, 'count_s0': 985, 'count_s1': 1001, 'count': 1986}}\n",
      "[66] Eval metrics for task 5 >> {'accuracy': 0.8522634075659923, 'loss': 0.0016455163543295272, 'EO': [0.10609168766593646, 0.17282208878269617], 'DP': -1, 'accuracy_s0': 0.9947476792816345, 'accuracy_s1': 0.715833902833002, 'classwise_accuracy': {8: array([859, 974]), 9: array([ 830, 1009])}, 'DP_ingredients': {'class_pred_count_s0': {9: 497, 8: 467, 2: 2, 6: 2}, 'class_pred_count_s1': {8: 439, 9: 367, 0: 5, 7: 88, 5: 32, 4: 45, 6: 28, 3: 8, 1: 3}, 'class_pred_count': {8: 906, 9: 864, 0: 5, 7: 88, 2: 2, 5: 32, 4: 45, 6: 30, 3: 8, 1: 3}, 'count_s0': 968, 'count_s1': 1015, 'count': 1983}}\n",
      "[67] Eval metrics for task 1 >> {'accuracy': 0.8781870898138991, 'loss': 0.002771578669266216, 'EO': [0.07566037735849057, 0.03604416109469755], 'DP': -1, 'accuracy_s0': 0.9302366485449313, 'accuracy_s1': 0.8185321100917431, 'classwise_accuracy': {0: array([825, 980]), 1: array([1038, 1135])}, 'DP_ingredients': {'class_pred_count_s0': {0: 483, 1: 560, 8: 32, 9: 17, 5: 21, 6: 3, 7: 3, 3: 1}, 'class_pred_count_s1': {1: 478, 0: 342, 8: 50, 6: 21, 5: 28, 7: 13, 9: 46, 2: 13, 3: 3, 4: 1}, 'class_pred_count': {0: 825, 1: 1038, 8: 82, 6: 24, 5: 49, 7: 16, 9: 63, 2: 13, 3: 4, 4: 1}, 'count_s0': 1120, 'count_s1': 995, 'count': 2115}}\n",
      "[67] Eval metrics for task 2 >> {'accuracy': 0.7553448077365876, 'loss': 0.006449740150182651, 'EO': [0.10580473348332836, 0.16651569160304142], 'DP': -1, 'accuracy_s0': 0.8903329323614478, 'accuracy_s1': 0.6180125072750781, 'classwise_accuracy': {2: array([ 807, 1032]), 3: array([ 736, 1010])}, 'DP_ingredients': {'class_pred_count_s0': {3: 455, 2: 464, 8: 47, 7: 21, 4: 10, 5: 14, 6: 5, 9: 13, 1: 1}, 'class_pred_count_s1': {2: 355, 8: 160, 5: 68, 3: 285, 7: 29, 9: 57, 6: 47, 1: 6, 4: 3, 0: 2}, 'class_pred_count': {2: 819, 3: 740, 8: 207, 5: 82, 7: 50, 4: 13, 9: 70, 6: 52, 1: 7, 0: 2}, 'count_s0': 1030, 'count_s1': 1012, 'count': 2042}}\n",
      "[67] Eval metrics for task 3 >> {'accuracy': 0.7718450037901967, 'loss': 0.004933562038293388, 'EO': [0.1543942647565803, 0.1581887606036793], 'DP': -1, 'accuracy_s0': 0.9274197207124645, 'accuracy_s1': 0.6148366953522049, 'classwise_accuracy': {5: array([673, 892]), 4: array([775, 982])}, 'DP_ingredients': {'class_pred_count_s0': {5: 423, 4: 449, 9: 27, 8: 23, 2: 3, 0: 4, 6: 4, 7: 3, 3: 3}, 'class_pred_count_s1': {5: 252, 4: 331, 9: 165, 6: 46, 8: 98, 7: 25, 1: 5, 0: 5, 3: 7, 2: 1}, 'class_pred_count': {5: 675, 4: 780, 9: 192, 6: 50, 8: 121, 7: 28, 1: 5, 0: 9, 2: 4, 3: 10}, 'count_s0': 939, 'count_s1': 935, 'count': 1874}}\n",
      "[67] Eval metrics for task 4 >> {'accuracy': 0.9125376717058074, 'loss': 0.0015989082067274494, 'EO': [0.06215768358625501, 0.0905622832452101], 'DP': -1, 'accuracy_s0': 0.9898577612863327, 'accuracy_s1': 0.8371377944548677, 'classwise_accuracy': {7: array([ 919, 1028]), 6: array([892, 958])}, 'DP_ingredients': {'class_pred_count_s0': {7: 490, 6: 487, 4: 1, 8: 7}, 'class_pred_count_s1': {7: 431, 6: 407, 9: 87, 8: 29, 4: 8, 5: 12, 0: 7, 3: 3, 2: 9, 1: 8}, 'class_pred_count': {7: 921, 6: 894, 9: 87, 8: 36, 4: 9, 5: 12, 0: 7, 3: 3, 2: 9, 1: 8}, 'count_s0': 985, 'count_s1': 1001, 'count': 1986}}\n",
      "[67] Eval metrics for task 5 >> {'accuracy': 0.8588478844404467, 'loss': 0.001681578141297587, 'EO': [0.09813940138363025, 0.16793927628269617], 'DP': -1, 'accuracy_s0': 0.9947476792816345, 'accuracy_s1': 0.7286690016153081, 'classwise_accuracy': {9: array([ 835, 1009]), 8: array([867, 974])}, 'DP_ingredients': {'class_pred_count_s0': {8: 467, 9: 497, 4: 1, 2: 2, 6: 1}, 'class_pred_count_s1': {9: 365, 8: 449, 5: 34, 7: 79, 1: 4, 0: 5, 4: 47, 6: 22, 2: 1, 3: 9}, 'class_pred_count': {9: 862, 8: 916, 5: 34, 7: 79, 1: 4, 0: 5, 4: 48, 6: 23, 2: 3, 3: 9}, 'count_s0': 968, 'count_s1': 1015, 'count': 1983}}\n",
      "[68] Eval metrics for task 1 >> {'accuracy': 0.8834981569720399, 'loss': 0.0028970938343246496, 'EO': [0.07559748427672958, 0.029972010573783237], 'DP': -1, 'accuracy_s0': 0.9326031339942438, 'accuracy_s1': 0.827033639143731, 'classwise_accuracy': {1: array([1035, 1135]), 0: array([838, 980])}, 'DP_ingredients': {'class_pred_count_s0': {1: 555, 0: 490, 9: 15, 8: 37, 5: 16, 6: 3, 7: 3, 3: 1}, 'class_pred_count_s1': {1: 480, 0: 348, 8: 57, 5: 23, 9: 39, 6: 21, 2: 9, 3: 3, 7: 14, 4: 1}, 'class_pred_count': {1: 1035, 0: 838, 8: 94, 9: 54, 5: 39, 6: 24, 2: 9, 3: 4, 7: 17, 4: 1}, 'count_s0': 1120, 'count_s1': 995, 'count': 2115}}\n",
      "[68] Eval metrics for task 2 >> {'accuracy': 0.7480140455906056, 'loss': 0.006661590411310448, 'EO': [0.10879649627579058, 0.17052339329200145], 'DP': -1, 'accuracy_s0': 0.8864715353955104, 'accuracy_s1': 0.6071516458277184, 'classwise_accuracy': {2: array([ 798, 1032]), 3: array([ 730, 1010])}, 'DP_ingredients': {'class_pred_count_s0': {2: 461, 3: 454, 8: 50, 7: 22, 6: 6, 5: 14, 4: 9, 9: 13, 1: 1}, 'class_pred_count_s1': {3: 281, 6: 45, 2: 348, 8: 187, 7: 32, 1: 6, 9: 51, 5: 56, 4: 4, 0: 2}, 'class_pred_count': {2: 809, 3: 735, 6: 51, 8: 237, 7: 54, 1: 7, 9: 64, 5: 70, 4: 13, 0: 2}, 'count_s0': 1030, 'count_s1': 1012, 'count': 2042}}\n",
      "[68] Eval metrics for task 3 >> {'accuracy': 0.7626240946909848, 'loss': 0.005194014202696028, 'EO': [0.16232757510685047, 0.16660621813858834], 'DP': -1, 'accuracy_s0': 0.9263308804181147, 'accuracy_s1': 0.5973970871726759, 'classwise_accuracy': {5: array([662, 892]), 4: array([769, 982])}, 'DP_ingredients': {'class_pred_count_s0': {5: 421, 4: 450, 8: 24, 6: 4, 9: 26, 7: 3, 0: 4, 3: 4, 2: 3}, 'class_pred_count_s1': {9: 151, 4: 324, 8: 118, 5: 243, 6: 48, 0: 5, 7: 33, 1: 5, 3: 7, 2: 1}, 'class_pred_count': {5: 664, 9: 177, 4: 774, 8: 142, 6: 52, 0: 9, 7: 36, 3: 11, 2: 4, 1: 5}, 'count_s0': 939, 'count_s1': 935, 'count': 1874}}\n",
      "[68] Eval metrics for task 4 >> {'accuracy': 0.9144121183074336, 'loss': 0.0015640631618216438, 'EO': [0.06429443572300714, 0.08493376542157033], 'DP': -1, 'accuracy_s0': 0.9898577612863327, 'accuracy_s1': 0.8406295601417553, 'classwise_accuracy': {6: array([890, 958]), 7: array([ 925, 1028])}, 'DP_ingredients': {'class_pred_count_s0': {6: 487, 7: 490, 8: 7, 4: 1}, 'class_pred_count_s1': {6: 405, 7: 437, 9: 80, 0: 7, 4: 8, 8: 33, 2: 9, 5: 11, 1: 8, 3: 3}, 'class_pred_count': {6: 892, 7: 927, 9: 80, 0: 7, 4: 9, 8: 40, 2: 9, 5: 11, 1: 8, 3: 3}, 'count_s0': 985, 'count_s1': 1001, 'count': 1986}}\n",
      "[68] Eval metrics for task 5 >> {'accuracy': 0.861043727601484, 'loss': 0.0017598187508633565, 'EO': [0.09032218578127837, 0.17575177628269617], 'DP': -1, 'accuracy_s0': 0.9968708215321653, 'accuracy_s1': 0.7307968594681908, 'classwise_accuracy': {9: array([ 827, 1009]), 8: array([879, 974])}, 'DP_ingredients': {'class_pred_count_s0': {9: 497, 8: 469, 6: 1, 2: 1}, 'class_pred_count_s1': {4: 46, 3: 9, 9: 356, 7: 85, 8: 461, 2: 1, 5: 30, 6: 17, 0: 5, 1: 5}, 'class_pred_count': {9: 853, 8: 930, 4: 46, 3: 9, 7: 85, 2: 2, 5: 30, 6: 18, 0: 5, 1: 5}, 'count_s0': 968, 'count_s1': 1015, 'count': 1983}}\n",
      "[69] Eval metrics for task 1 >> {'accuracy': 0.8710217567203093, 'loss': 0.0030015152537794542, 'EO': [0.08454926624737946, 0.0371715129839838], 'DP': -1, 'accuracy_s0': 0.9276942756635753, 'accuracy_s1': 0.805973496432212, 'classwise_accuracy': {1: array([1031, 1135]), 0: array([817, 980])}, 'DP_ingredients': {'class_pred_count_s0': {1: 557, 0: 483, 9: 18, 8: 36, 5: 19, 3: 1, 7: 3, 6: 3}, 'class_pred_count_s1': {3: 3, 0: 334, 1: 474, 9: 51, 8: 58, 2: 14, 5: 26, 6: 27, 4: 1, 7: 7}, 'class_pred_count': {1: 1031, 0: 817, 3: 4, 9: 69, 8: 94, 2: 14, 5: 45, 6: 30, 4: 1, 7: 10}, 'count_s0': 1120, 'count_s1': 995, 'count': 2115}}\n",
      "[69] Eval metrics for task 2 >> {'accuracy': 0.7534384833832221, 'loss': 0.006679964871177711, 'EO': [0.10683954911336396, 0.16550200189012937], 'DP': -1, 'accuracy_s0': 0.88843617193775, 'accuracy_s1': 0.6160946209342568, 'classwise_accuracy': {2: array([ 800, 1032]), 3: array([ 739, 1010])}, 'DP_ingredients': {'class_pred_count_s0': {8: 42, 2: 461, 3: 456, 7: 22, 5: 14, 4: 8, 6: 8, 9: 19}, 'class_pred_count_s1': {7: 21, 2: 351, 3: 289, 8: 165, 9: 71, 5: 52, 6: 51, 4: 3, 1: 7, 0: 2}, 'class_pred_count': {7: 43, 8: 207, 2: 812, 3: 745, 9: 90, 5: 66, 6: 59, 4: 11, 1: 7, 0: 2}, 'count_s0': 1030, 'count_s1': 1012, 'count': 2042}}\n",
      "[69] Eval metrics for task 3 >> {'accuracy': 0.7494839852775976, 'loss': 0.005371867020076723, 'EO': [0.16882998209813216, 0.18048923008724738], 'DP': -1, 'accuracy_s0': 0.9231913909027394, 'accuracy_s1': 0.5738721787173597, 'classwise_accuracy': {5: array([654, 892]), 4: array([752, 982])}, 'DP_ingredients': {'class_pred_count_s0': {5: 423, 4: 445, 9: 32, 8: 21, 7: 3, 3: 4, 0: 4, 2: 3, 6: 4}, 'class_pred_count_s1': {4: 312, 5: 233, 6: 54, 8: 109, 9: 190, 7: 19, 3: 7, 0: 5, 2: 1, 1: 5}, 'class_pred_count': {5: 656, 4: 757, 9: 222, 6: 58, 8: 130, 7: 22, 3: 11, 0: 9, 2: 4, 1: 5}, 'count_s0': 939, 'count_s1': 935, 'count': 1874}}\n",
      "[69] Eval metrics for task 4 >> {'accuracy': 0.9030831904990131, 'loss': 0.0017889834872905582, 'EO': [0.06856793999651145, 0.09691284325430666], 'DP': -1, 'accuracy_s0': 0.9868274582560297, 'accuracy_s1': 0.8213466750052116, 'classwise_accuracy': {6: array([886, 958]), 7: array([ 906, 1028])}, 'DP_ingredients': {'class_pred_count_s0': {6: 486, 7: 487, 3: 2, 8: 7, 2: 2, 4: 1}, 'class_pred_count_s1': {7: 421, 9: 100, 6: 401, 4: 10, 1: 8, 5: 12, 8: 30, 3: 3, 2: 9, 0: 7}, 'class_pred_count': {6: 887, 7: 908, 9: 100, 4: 11, 1: 8, 5: 12, 3: 5, 8: 37, 2: 11, 0: 7}, 'count_s0': 985, 'count_s1': 1001, 'count': 1986}}\n",
      "[69] Eval metrics for task 5 >> {'accuracy': 0.8727586220931534, 'loss': 0.0014344765210596527, 'EO': [0.09820693672360742, 0.14254865128269617], 'DP': -1, 'accuracy_s0': 0.9958092504069, 'accuracy_s1': 0.7550536624005963, 'classwise_accuracy': {8: array([869, 974]), 9: array([ 861, 1009])}, 'DP_ingredients': {'class_pred_count_s0': {8: 468, 9: 497, 6: 1, 4: 1, 2: 1}, 'class_pred_count_s1': {9: 396, 8: 438, 4: 38, 5: 30, 3: 9, 7: 70, 6: 25, 1: 4, 0: 5}, 'class_pred_count': {8: 906, 9: 893, 4: 39, 5: 30, 3: 9, 7: 70, 6: 26, 1: 4, 0: 5, 2: 1}, 'count_s0': 968, 'count_s1': 1015, 'count': 1983}}\n",
      "[70] Eval metrics for task 1 >> {'accuracy': 0.8689135125415806, 'loss': 0.0032331484993017028, 'EO': [0.08132075471698114, 0.03349401337272584], 'DP': -1, 'accuracy_s0': 0.9223377038695235, 'accuracy_s1': 0.8075229357798166, 'classwise_accuracy': {0: array([831, 980]), 1: array([1010, 1135])}, 'DP_ingredients': {'class_pred_count_s0': {0: 489, 1: 544, 3: 1, 8: 48, 5: 18, 7: 4, 9: 13, 6: 3}, 'class_pred_count_s1': {2: 13, 0: 342, 1: 466, 8: 69, 9: 46, 3: 3, 6: 18, 5: 33, 7: 4, 4: 1}, 'class_pred_count': {0: 831, 2: 13, 1: 1010, 8: 117, 3: 4, 5: 51, 9: 59, 6: 21, 7: 8, 4: 1}, 'count_s0': 1120, 'count_s1': 995, 'count': 2115}}\n",
      "[70] Eval metrics for task 2 >> {'accuracy': 0.7573038989945506, 'loss': 0.006589696759925417, 'EO': [0.11160045223884518, 0.16650000588214536], 'DP': -1, 'accuracy_s0': 0.895154022225658, 'accuracy_s1': 0.6170535641046674, 'classwise_accuracy': {2: array([ 809, 1032]), 3: array([ 738, 1010])}, 'DP_ingredients': {'class_pred_count_s0': {8: 42, 2: 466, 3: 456, 4: 4, 7: 21, 5: 14, 6: 7, 9: 20}, 'class_pred_count_s1': {2: 355, 3: 287, 8: 177, 6: 46, 7: 19, 9: 61, 5: 57, 1: 6, 4: 3, 0: 1}, 'class_pred_count': {2: 821, 8: 219, 3: 743, 6: 53, 7: 40, 4: 7, 9: 81, 5: 71, 1: 6, 0: 1}, 'count_s0': 1030, 'count_s1': 1012, 'count': 2042}}\n",
      "[70] Eval metrics for task 3 >> {'accuracy': 0.7439391102627565, 'loss': 0.005790880293830863, 'EO': [0.17102929509837717, 0.16308509137802496], 'DP': -1, 'accuracy_s0': 0.9104746436316453, 'accuracy_s1': 0.5763602571552432, 'classwise_accuracy': {5: array([665, 892]), 4: array([729, 982])}, 'DP_ingredients': {'class_pred_count_s0': {5: 421, 4: 435, 8: 25, 7: 3, 9: 39, 6: 5, 0: 4, 2: 3, 3: 4}, 'class_pred_count_s1': {5: 246, 9: 199, 4: 298, 8: 119, 7: 13, 1: 5, 0: 5, 6: 43, 3: 6, 2: 1}, 'class_pred_count': {5: 667, 9: 238, 4: 733, 8: 144, 7: 16, 1: 5, 6: 48, 0: 9, 2: 4, 3: 10}, 'count_s0': 939, 'count_s1': 935, 'count': 1874}}\n",
      "[70] Eval metrics for task 4 >> {'accuracy': 0.9006512838842271, 'loss': 0.0018441019071432998, 'EO': [0.06647915576487007, 0.09186233820380163], 'DP': -1, 'accuracy_s0': 0.9807565450422593, 'accuracy_s1': 0.8224150510735877, 'classwise_accuracy': {7: array([ 901, 1028]), 6: array([886, 958])}, 'DP_ingredients': {'class_pred_count_s0': {7: 482, 6: 485, 8: 8, 3: 3, 5: 1, 1: 3, 9: 1, 2: 1, 4: 1}, 'class_pred_count_s1': {8: 39, 6: 402, 7: 421, 9: 97, 1: 7, 2: 9, 4: 5, 5: 11, 0: 7, 3: 3}, 'class_pred_count': {7: 903, 8: 47, 6: 887, 9: 98, 1: 10, 3: 6, 5: 12, 2: 10, 4: 6, 0: 7}, 'count_s0': 985, 'count_s1': 1001, 'count': 1986}}\n",
      "[70] Eval metrics for task 5 >> {'accuracy': 0.8890076579775857, 'loss': 0.0012782807609858203, 'EO': [0.07633814944726547, 0.13278302628269617], 'DP': -1, 'accuracy_s0': 0.9958092504069, 'accuracy_s1': 0.7866880746769384, 'classwise_accuracy': {9: array([ 871, 1009]), 8: array([891, 974])}, 'DP_ingredients': {'class_pred_count_s0': {9: 497, 8: 468, 2: 2, 6: 1}, 'class_pred_count_s1': {9: 397, 7: 56, 8: 468, 5: 32, 4: 29, 6: 17, 3: 8, 1: 3, 0: 5}, 'class_pred_count': {9: 894, 7: 56, 8: 936, 2: 2, 5: 32, 4: 29, 6: 18, 3: 8, 1: 3, 0: 5}, 'count_s0': 968, 'count_s1': 1015, 'count': 1983}}\n",
      "[71] Eval metrics for task 1 >> {'accuracy': 0.8781870898138991, 'loss': 0.00297122104511757, 'EO': [0.07771488469601678, 0.03427927227491839], 'DP': -1, 'accuracy_s0': 0.9303325871442277, 'accuracy_s1': 0.8183384301732926, 'classwise_accuracy': {0: array([825, 980]), 1: array([1038, 1135])}, 'DP_ingredients': {'class_pred_count_s0': {0: 484, 1: 559, 8: 32, 9: 18, 5: 20, 6: 3, 3: 1, 7: 3}, 'class_pred_count_s1': {9: 46, 1: 479, 8: 62, 0: 341, 6: 20, 5: 25, 2: 12, 3: 3, 7: 6, 4: 1}, 'class_pred_count': {9: 64, 1: 1038, 0: 825, 8: 94, 6: 23, 5: 45, 2: 12, 3: 4, 7: 9, 4: 1}, 'count_s0': 1120, 'count_s1': 995, 'count': 2115}}\n",
      "[71] Eval metrics for task 2 >> {'accuracy': 0.747097820247141, 'loss': 0.006920019746644023, 'EO': [0.11370764486479784, 0.16157272880565], 'DP': -1, 'accuracy_s0': 0.8835472059549981, 'accuracy_s1': 0.6082668322845504, 'classwise_accuracy': {2: array([ 791, 1032]), 3: array([ 735, 1010])}, 'DP_ingredients': {'class_pred_count_s0': {8: 48, 3: 452, 2: 460, 4: 7, 9: 18, 1: 1, 7: 22, 6: 7, 5: 15}, 'class_pred_count_s1': {3: 289, 7: 22, 2: 342, 5: 60, 9: 67, 8: 175, 6: 46, 4: 3, 1: 7, 0: 1}, 'class_pred_count': {8: 223, 3: 741, 2: 802, 7: 44, 5: 75, 9: 85, 6: 53, 4: 10, 1: 8, 0: 1}, 'count_s0': 1030, 'count_s1': 1012, 'count': 2042}}\n",
      "[71] Eval metrics for task 3 >> {'accuracy': 0.7467886074908898, 'loss': 0.005566123391928006, 'EO': [0.16324551311072993, 0.17002659735235448], 'DP': -1, 'accuracy_s0': 0.9126046874574671, 'accuracy_s1': 0.5793325769943828, 'classwise_accuracy': {5: array([661, 892]), 4: array([739, 982])}, 'DP_ingredients': {'class_pred_count_s0': {4: 436, 5: 422, 2: 3, 8: 24, 6: 4, 9: 40, 0: 4, 3: 4, 7: 2}, 'class_pred_count_s1': {8: 106, 9: 196, 4: 307, 5: 241, 7: 19, 3: 7, 6: 48, 0: 5, 1: 5, 2: 1}, 'class_pred_count': {8: 130, 9: 236, 4: 743, 5: 663, 7: 21, 3: 11, 6: 52, 2: 4, 0: 9, 1: 5}, 'count_s0': 939, 'count_s1': 935, 'count': 1874}}\n",
      "[71] Eval metrics for task 4 >> {'accuracy': 0.9041625711802312, 'loss': 0.00189020186812736, 'EO': [0.0653628117913832, 0.09785092955824665], 'DP': -1, 'accuracy_s0': 0.9868274582560297, 'accuracy_s1': 0.8236137169063998, 'classwise_accuracy': {6: array([889, 958]), 7: array([ 905, 1028])}, 'DP_ingredients': {'class_pred_count_s0': {7: 487, 6: 486, 2: 1, 8: 9, 4: 1, 3: 1}, 'class_pred_count_s1': {0: 7, 9: 97, 7: 420, 6: 404, 8: 36, 1: 8, 4: 6, 5: 12, 3: 2, 2: 9}, 'class_pred_count': {0: 7, 9: 97, 7: 907, 6: 890, 8: 45, 1: 8, 4: 7, 5: 12, 3: 3, 2: 10}, 'count_s0': 985, 'count_s1': 1001, 'count': 1986}}\n",
      "[71] Eval metrics for task 5 >> {'accuracy': 0.8874498100259879, 'loss': 0.0012661456926507417, 'EO': [0.08031429258841855, 0.13180646378269617], 'DP': -1, 'accuracy_s0': 0.9958092504069, 'accuracy_s1': 0.7836884940357853, 'classwise_accuracy': {8: array([887, 974]), 9: array([ 872, 1009])}, 'DP_ingredients': {'class_pred_count_s0': {8: 468, 9: 497, 6: 1, 4: 1, 2: 1}, 'class_pred_count_s1': {7: 63, 4: 36, 8: 453, 9: 401, 6: 17, 5: 29, 3: 9, 0: 5, 1: 2}, 'class_pred_count': {8: 921, 9: 898, 7: 63, 4: 37, 6: 18, 5: 29, 3: 9, 0: 5, 1: 2, 2: 1}, 'count_s0': 968, 'count_s1': 1015, 'count': 1983}}\n",
      "[72] Eval metrics for task 1 >> {'accuracy': 0.8753348916659174, 'loss': 0.0031940494305134947, 'EO': [0.08721174004192872, 0.029972010573783237], 'DP': -1, 'accuracy_s0': 0.9297729453149984, 'accuracy_s1': 0.8125891946992865, 'classwise_accuracy': {1: array([1035, 1135]), 0: array([822, 980])}, 'DP_ingredients': {'class_pred_count_s0': {1: 555, 0: 487, 8: 39, 9: 13, 3: 1, 5: 19, 6: 3, 7: 3}, 'class_pred_count_s1': {1: 480, 0: 335, 5: 27, 8: 59, 7: 11, 2: 13, 9: 45, 6: 21, 3: 3, 4: 1}, 'class_pred_count': {1: 1035, 0: 822, 5: 46, 8: 98, 9: 58, 3: 4, 7: 14, 2: 13, 6: 24, 4: 1}, 'count_s0': 1120, 'count_s1': 995, 'count': 2115}}\n",
      "[72] Eval metrics for task 2 >> {'accuracy': 0.7500575638959245, 'loss': 0.006903154784621968, 'EO': [0.11660550424255628, 0.15262206431929853], 'DP': -1, 'accuracy_s0': 0.8835019552093035, 'accuracy_s1': 0.6142743866474487, 'classwise_accuracy': {2: array([ 792, 1032]), 3: array([ 740, 1010])}, 'DP_ingredients': {'class_pred_count_s0': {3: 450, 2: 462, 5: 19, 7: 22, 9: 18, 8: 46, 6: 5, 4: 7, 1: 1}, 'class_pred_count_s1': {2: 341, 3: 296, 8: 174, 5: 56, 9: 65, 6: 42, 7: 25, 4: 3, 1: 8, 0: 2}, 'class_pred_count': {2: 803, 3: 746, 8: 220, 5: 75, 9: 83, 6: 47, 7: 47, 4: 10, 1: 9, 0: 2}, 'count_s0': 1030, 'count_s1': 1012, 'count': 2042}}\n",
      "[72] Eval metrics for task 3 >> {'accuracy': 0.7562618158238426, 'loss': 0.00573864531491584, 'EO': [0.169812300369252, 0.16298434383122773], 'DP': -1, 'accuracy_s0': 0.9221184295293487, 'accuracy_s1': 0.589321785328869, 'classwise_accuracy': {4: array([751, 982]), 5: array([667, 892])}, 'DP_ingredients': {'class_pred_count_s0': {4: 445, 5: 422, 8: 23, 6: 4, 9: 31, 7: 3, 0: 4, 2: 3, 3: 4}, 'class_pred_count_s1': {4: 311, 7: 24, 5: 247, 9: 180, 8: 113, 6: 42, 2: 1, 3: 7, 1: 5, 0: 5}, 'class_pred_count': {4: 756, 5: 669, 7: 27, 9: 211, 8: 136, 6: 46, 2: 4, 3: 11, 1: 5, 0: 9}, 'count_s0': 939, 'count_s1': 935, 'count': 1874}}\n",
      "[72] Eval metrics for task 4 >> {'accuracy': 0.9073895437154254, 'loss': 0.001860674834563533, 'EO': [0.07070469213326358, 0.08659389391096706], 'DP': -1, 'accuracy_s0': 0.9868274582560297, 'accuracy_s1': 0.829528872211799, 'classwise_accuracy': {7: array([ 917, 1028]), 6: array([884, 958])}, 'DP_ingredients': {'class_pred_count_s0': {6: 486, 7: 487, 8: 8, 3: 2, 2: 1, 4: 1}, 'class_pred_count_s1': {7: 432, 6: 399, 9: 85, 4: 7, 2: 9, 8: 40, 5: 11, 0: 8, 3: 2, 1: 8}, 'class_pred_count': {7: 919, 6: 885, 9: 85, 4: 8, 2: 10, 8: 48, 5: 11, 0: 8, 3: 4, 1: 8}, 'count_s0': 985, 'count_s1': 1001, 'count': 1986}}\n",
      "[72] Eval metrics for task 5 >> {'accuracy': 0.8820700960350684, 'loss': 0.0014057980528156743, 'EO': [0.07633814944726547, 0.14645490128269617], 'DP': -1, 'accuracy_s0': 0.9958092504069, 'accuracy_s1': 0.7730161996769384, 'classwise_accuracy': {8: array([891, 974]), 9: array([ 857, 1009])}, 'DP_ingredients': {'class_pred_count_s0': {8: 468, 9: 497, 2: 1, 6: 1, 4: 1}, 'class_pred_count_s1': {8: 467, 6: 14, 7: 71, 9: 384, 5: 27, 3: 9, 4: 34, 0: 5, 1: 4}, 'class_pred_count': {8: 935, 9: 881, 6: 15, 7: 71, 2: 1, 5: 27, 3: 9, 4: 35, 0: 5, 1: 4}, 'count_s0': 968, 'count_s1': 1015, 'count': 1983}}\n",
      "[73] Eval metrics for task 1 >> {'accuracy': 0.8742223321046481, 'loss': 0.003008385414772845, 'EO': [0.08387840670859542, 0.030181931270408968], 'DP': -1, 'accuracy_s0': 0.9272305724336425, 'accuracy_s1': 0.8131702344546381, 'classwise_accuracy': {0: array([825, 980]), 1: array([1029, 1135])}, 'DP_ingredients': {'class_pred_count_s0': {0: 487, 1: 552, 8: 43, 9: 12, 7: 3, 5: 19, 6: 3, 3: 1}, 'class_pred_count_s1': {0: 338, 8: 61, 1: 477, 7: 9, 6: 22, 9: 45, 5: 25, 2: 13, 3: 4, 4: 1}, 'class_pred_count': {0: 825, 1: 1029, 8: 104, 7: 12, 6: 25, 9: 57, 5: 44, 2: 13, 3: 5, 4: 1}, 'count_s0': 1120, 'count_s1': 995, 'count': 2115}}\n",
      "[73] Eval metrics for task 2 >> {'accuracy': 0.7405460894926702, 'loss': 0.0071146861229540665, 'EO': [0.1165116008278525, 0.18750514687716907], 'DP': -1, 'accuracy_s0': 0.8912473745140259, 'accuracy_s1': 0.5872306268090043, 'classwise_accuracy': {3: array([ 711, 1010]), 2: array([ 802, 1032])}, 'DP_ingredients': {'class_pred_count_s0': {3: 453, 2: 466, 9: 18, 8: 41, 5: 15, 7: 22, 4: 7, 6: 8}, 'class_pred_count_s1': {3: 262, 8: 196, 2: 349, 6: 43, 1: 7, 5: 59, 9: 68, 7: 24, 4: 3, 0: 1}, 'class_pred_count': {3: 715, 8: 237, 2: 815, 6: 51, 9: 86, 1: 7, 5: 74, 7: 46, 4: 10, 0: 1}, 'count_s0': 1030, 'count_s1': 1012, 'count': 2042}}\n",
      "[73] Eval metrics for task 3 >> {'accuracy': 0.7446492013188057, 'loss': 0.005993564266278115, 'EO': [0.1774465539942764, 0.1723740151927301], 'DP': -1, 'accuracy_s0': 0.918947182172055, 'accuracy_s1': 0.5691266129850485, 'classwise_accuracy': {4: array([737, 982]), 5: array([659, 892])}, 'DP_ingredients': {'class_pred_count_s0': {4: 442, 5: 422, 9: 33, 8: 24, 2: 3, 0: 4, 7: 2, 3: 4, 6: 5}, 'class_pred_count_s1': {8: 113, 9: 196, 4: 300, 5: 240, 7: 20, 6: 48, 1: 6, 3: 6, 0: 5, 2: 1}, 'class_pred_count': {4: 742, 8: 137, 5: 662, 9: 229, 7: 22, 2: 4, 6: 53, 0: 9, 1: 6, 3: 10}, 'count_s0': 939, 'count_s1': 935, 'count': 1874}}\n",
      "[73] Eval metrics for task 4 >> {'accuracy': 0.9052419518614494, 'loss': 0.00188473285685133, 'EO': [0.05798011512297224, 0.09878901586218658], 'DP': -1, 'accuracy_s0': 0.984786641929499, 'accuracy_s1': 0.8280175109443402, 'classwise_accuracy': {7: array([ 904, 1028]), 6: array([892, 958])}, 'DP_ingredients': {'class_pred_count_s0': {7: 487, 6: 485, 8: 11, 4: 1, 5: 1}, 'class_pred_count_s1': {7: 419, 6: 409, 9: 94, 1: 9, 2: 9, 4: 6, 8: 36, 5: 9, 0: 7, 3: 3}, 'class_pred_count': {7: 906, 6: 894, 9: 94, 8: 47, 1: 9, 2: 9, 4: 7, 5: 10, 0: 7, 3: 3}, 'count_s0': 985, 'count_s1': 1001, 'count': 1986}}\n",
      "[73] Eval metrics for task 5 >> {'accuracy': 0.893592167413199, 'loss': 0.0012576440053339625, 'EO': [0.06732429203969392, 0.13082990128269617], 'DP': -1, 'accuracy_s0': 0.9947476792816345, 'accuracy_s1': 0.7965934859592445, 'classwise_accuracy': {9: array([ 873, 1009]), 8: array([898, 974])}, 'DP_ingredients': {'class_pred_count_s0': {8: 467, 9: 497, 6: 1, 4: 1, 2: 2}, 'class_pred_count_s1': {9: 396, 8: 469, 5: 23, 7: 64, 3: 8, 4: 32, 6: 16, 1: 2, 0: 5}, 'class_pred_count': {9: 893, 8: 936, 5: 23, 7: 64, 3: 8, 4: 33, 6: 17, 1: 2, 0: 5, 2: 2}, 'count_s0': 968, 'count_s1': 1015, 'count': 1983}}\n",
      "[74] Eval metrics for task 1 >> {'accuracy': 0.8734806257304684, 'loss': 0.003617618439045358, 'EO': [0.0837106918238994, 0.03208676722127196], 'DP': -1, 'accuracy_s0': 0.927326511032939, 'accuracy_s1': 0.8115290519877676, 'classwise_accuracy': {0: array([827, 980]), 1: array([1025, 1135])}, 'DP_ingredients': {'class_pred_count_s0': {0: 488, 1: 551, 8: 44, 5: 17, 6: 3, 7: 3, 9: 13, 3: 1}, 'class_pred_count_s1': {1: 474, 0: 339, 8: 74, 5: 26, 2: 14, 9: 43, 6: 20, 7: 2, 3: 2, 4: 1}, 'class_pred_count': {0: 827, 1: 1025, 8: 118, 5: 43, 2: 14, 9: 56, 6: 23, 7: 5, 3: 3, 4: 1}, 'count_s0': 1120, 'count_s1': 995, 'count': 2115}}\n",
      "[74] Eval metrics for task 2 >> {'accuracy': 0.7332680942512856, 'loss': 0.0072570739133350996, 'EO': [0.12245756504689537, 0.16473928371155527], 'DP': -1, 'accuracy_s0': 0.8756207836674975, 'accuracy_s1': 0.5884239349090469, 'classwise_accuracy': {2: array([ 788, 1032]), 3: array([ 710, 1010])}, 'DP_ingredients': {'class_pred_count_s0': {8: 52, 2: 462, 3: 441, 5: 19, 7: 21, 4: 7, 9: 22, 6: 5, 1: 1}, 'class_pred_count_s1': {2: 337, 6: 45, 3: 273, 8: 207, 1: 7, 5: 54, 9: 67, 7: 18, 4: 3, 0: 1}, 'class_pred_count': {8: 259, 2: 799, 3: 714, 6: 50, 5: 73, 7: 39, 1: 8, 9: 89, 4: 10, 0: 1}, 'count_s0': 1030, 'count_s1': 1012, 'count': 2042}}\n",
      "[74] Eval metrics for task 3 >> {'accuracy': 0.7474986985469391, 'loss': 0.005919148407979862, 'EO': [0.17170217273018024, 0.1748221805799029], 'DP': -1, 'accuracy_s0': 0.9199883857035269, 'accuracy_s1': 0.5734640323934438, 'classwise_accuracy': {5: array([655, 892]), 4: array([747, 982])}, 'DP_ingredients': {'class_pred_count_s0': {5: 421, 4: 444, 0: 4, 8: 24, 9: 33, 7: 2, 3: 4, 6: 4, 2: 3}, 'class_pred_count_s1': {9: 192, 4: 308, 5: 236, 8: 123, 6: 47, 1: 4, 7: 14, 3: 5, 0: 5, 2: 1}, 'class_pred_count': {5: 657, 9: 225, 4: 752, 0: 9, 8: 147, 6: 51, 1: 4, 7: 16, 3: 9, 2: 4}, 'count_s0': 939, 'count_s1': 935, 'count': 1874}}\n",
      "[74] Eval metrics for task 4 >> {'accuracy': 0.8931423279692615, 'loss': 0.002059108300991769, 'EO': [0.07497819640676784, 0.0983569276252203], 'DP': -1, 'accuracy_s0': 0.9807668521954236, 'accuracy_s1': 0.8074317281634356, 'classwise_accuracy': {6: array([880, 958]), 7: array([ 892, 1028])}, 'DP_ingredients': {'class_pred_count_s0': {6: 488, 7: 481, 8: 11, 9: 3, 4: 1, 3: 1}, 'class_pred_count_s1': {6: 395, 7: 413, 9: 100, 8: 48, 0: 8, 2: 10, 5: 10, 1: 9, 4: 6, 3: 2}, 'class_pred_count': {6: 883, 7: 894, 9: 103, 8: 59, 0: 8, 2: 10, 5: 10, 1: 9, 4: 7, 3: 3}, 'count_s0': 985, 'count_s1': 1001, 'count': 1986}}\n",
      "[74] Eval metrics for task 5 >> {'accuracy': 0.8966366357810507, 'loss': 0.0011866029785909378, 'EO': [0.06745936271964814, 0.12887677628269617], 'DP': -1, 'accuracy_s0': 0.9968708215321653, 'accuracy_s1': 0.8005346825298211, 'classwise_accuracy': {8: array([902, 974]), 9: array([ 875, 1009])}, 'DP_ingredients': {'class_pred_count_s0': {9: 496, 8: 469, 4: 1, 2: 1, 6: 1}, 'class_pred_count_s1': {8: 480, 9: 398, 4: 40, 6: 16, 7: 39, 5: 27, 3: 8, 0: 5, 1: 2}, 'class_pred_count': {8: 949, 9: 894, 4: 41, 6: 17, 7: 39, 5: 27, 3: 8, 0: 5, 1: 2, 2: 1}, 'count_s0': 968, 'count_s1': 1015, 'count': 1983}}\n",
      "[75] Eval metrics for task 1 >> {'accuracy': 0.870118223500854, 'loss': 0.003133390868527388, 'EO': [0.08199161425576523, 0.03483906079925364], 'DP': -1, 'accuracy_s0': 0.9244963223536937, 'accuracy_s1': 0.8076656472986747, 'classwise_accuracy': {0: array([823, 980]), 1: array([1022, 1135])}, 'DP_ingredients': {'class_pred_count_s0': {0: 485, 1: 551, 5: 20, 8: 45, 9: 12, 3: 1, 6: 3, 7: 3}, 'class_pred_count_s1': {0: 338, 1: 471, 6: 18, 2: 14, 8: 72, 9: 41, 5: 25, 7: 13, 4: 1, 3: 2}, 'class_pred_count': {0: 823, 1: 1022, 6: 21, 2: 14, 8: 117, 5: 45, 9: 53, 7: 16, 3: 3, 4: 1}, 'count_s0': 1120, 'count_s1': 995, 'count': 2115}}\n",
      "[75] Eval metrics for task 2 >> {'accuracy': 0.7445592524368716, 'loss': 0.007139993869826329, 'EO': [0.11558946929546143, 0.15472787234960333], 'DP': -1, 'accuracy_s0': 0.8785451131080098, 'accuracy_s1': 0.6082277714629449, 'classwise_accuracy': {3: array([ 724, 1010]), 2: array([ 797, 1032])}, 'DP_ingredients': {'class_pred_count_s0': {3: 443, 2: 464, 8: 53, 5: 21, 7: 22, 9: 17, 6: 4, 4: 5, 1: 1}, 'class_pred_count_s1': {8: 199, 2: 344, 3: 285, 5: 51, 9: 61, 7: 26, 6: 37, 1: 6, 4: 2, 0: 1}, 'class_pred_count': {3: 728, 8: 252, 2: 808, 5: 72, 9: 78, 7: 48, 6: 41, 1: 7, 4: 7, 0: 1}, 'count_s0': 1030, 'count_s1': 1012, 'count': 2042}}\n",
      "[75] Eval metrics for task 3 >> {'accuracy': 0.7345218415789136, 'loss': 0.006054916084130775, 'EO': [0.18440792998749778, 0.16395655765782102], 'DP': -1, 'accuracy_s0': 0.9084081154896606, 'accuracy_s1': 0.5600436278443417, 'classwise_accuracy': {4: array([705, 982]), 5: array([670, 892])}, 'DP_ingredients': {'class_pred_count_s0': {4: 430, 5: 424, 8: 26, 9: 41, 3: 4, 0: 4, 6: 5, 2: 3, 7: 2}, 'class_pred_count_s1': {5: 249, 7: 32, 9: 191, 4: 279, 6: 41, 8: 126, 1: 5, 3: 6, 2: 1, 0: 5}, 'class_pred_count': {4: 709, 5: 673, 7: 34, 9: 232, 6: 46, 8: 152, 3: 10, 0: 9, 1: 5, 2: 4}, 'count_s0': 939, 'count_s1': 935, 'count': 1874}}\n",
      "[75] Eval metrics for task 4 >> {'accuracy': 0.8969267605176153, 'loss': 0.0019988459042552015, 'EO': [0.07609454038025465, 0.09972710216612657], 'DP': -1, 'accuracy_s0': 0.9858070500927644, 'accuracy_s1': 0.8099854075463832, 'classwise_accuracy': {6: array([877, 958]), 7: array([ 903, 1028])}, 'DP_ingredients': {'class_pred_count_s0': {6: 485, 7: 487, 3: 2, 8: 8, 5: 1, 4: 1, 2: 1}, 'class_pred_count_s1': {9: 95, 7: 419, 6: 393, 1: 8, 2: 10, 8: 49, 5: 11, 4: 6, 3: 2, 0: 8}, 'class_pred_count': {6: 878, 9: 95, 7: 906, 1: 8, 2: 11, 8: 57, 5: 12, 4: 7, 3: 4, 0: 8}, 'count_s0': 985, 'count_s1': 1001, 'count': 1986}}\n",
      "[75] Eval metrics for task 5 >> {'accuracy': 0.8922123882999615, 'loss': 0.0013133265337316423, 'EO': [0.06752689805962525, 0.13961896378269617], 'DP': -1, 'accuracy_s0': 0.9979323926574308, 'accuracy_s1': 0.7907865308151094, 'classwise_accuracy': {9: array([ 864, 1009]), 8: array([904, 974])}, 'DP_ingredients': {'class_pred_count_s0': {9: 496, 8: 470, 6: 1, 2: 1}, 'class_pred_count_s1': {8: 479, 9: 385, 7: 74, 6: 11, 4: 23, 5: 26, 1: 2, 3: 8, 0: 7}, 'class_pred_count': {9: 881, 8: 949, 7: 74, 6: 12, 4: 23, 5: 26, 1: 2, 3: 8, 0: 7, 2: 1}, 'count_s0': 968, 'count_s1': 1015, 'count': 1983}}\n",
      "training_task_end\n",
      "final avg-acc 0.8276676932668432\n",
      "final avg-forget 0.14460723905145492\n"
     ]
    }
   ],
   "source": [
    "trainer.run()\n",
    "print(\"final avg-acc\", metric_manager_callback.meters['accuracy'].compute_final())\n",
    "print(\"final avg-forget\", metric_manager_callback.meters['forgetting'].compute_final())"
   ]
  },
  {
   "cell_type": "code",
   "execution_count": 9,
   "id": "5ebde5d0",
   "metadata": {},
   "outputs": [
    {
     "data": {
      "text/plain": [
       "array([[0.997, 0.   , 0.   , 0.   , 0.   ],\n",
       "       [0.969, 0.939, 0.   , 0.   , 0.   ],\n",
       "       [0.955, 0.839, 0.928, 0.   , 0.   ],\n",
       "       [0.916, 0.801, 0.86 , 0.96 , 0.   ],\n",
       "       [0.87 , 0.745, 0.735, 0.897, 0.892]])"
      ]
     },
     "execution_count": 9,
     "metadata": {},
     "output_type": "execute_result"
    }
   ],
   "source": [
    "metric_manager_callback.meters['accuracy'].get_data()"
   ]
  },
  {
   "cell_type": "code",
   "execution_count": 10,
   "id": "4e893eff",
   "metadata": {},
   "outputs": [
    {
     "data": {
      "text/plain": [
       "0.9140821888880352"
      ]
     },
     "execution_count": 10,
     "metadata": {},
     "output_type": "execute_result"
    }
   ],
   "source": [
    "np.mean(metric_manager_callback.meters['accuracy'].compute_overall())"
   ]
  },
  {
   "cell_type": "code",
   "execution_count": 11,
   "id": "b82bd073",
   "metadata": {},
   "outputs": [
    {
     "data": {
      "text/plain": [
       "[0.003, 0.039, 0.067, 0.071, 0.112]"
      ]
     },
     "execution_count": 11,
     "metadata": {},
     "output_type": "execute_result"
    }
   ],
   "source": [
    "[np.round(x, 3) for x in metric_manager_callback.meters['EO'].compute_overall()]"
   ]
  },
  {
   "cell_type": "code",
   "execution_count": 12,
   "id": "4a7973e4",
   "metadata": {},
   "outputs": [
    {
     "data": {
      "text/plain": [
       "0.05839937723842418"
      ]
     },
     "execution_count": 12,
     "metadata": {},
     "output_type": "execute_result"
    }
   ],
   "source": [
    "np.mean(metric_manager_callback.meters['EO'].compute_overall())"
   ]
  },
  {
   "cell_type": "code",
   "execution_count": 13,
   "id": "5196d155",
   "metadata": {},
   "outputs": [
    {
     "data": {
      "text/plain": [
       "[0.008, 0.006, 0.007, 0.01, 0.012]"
      ]
     },
     "execution_count": 13,
     "metadata": {},
     "output_type": "execute_result"
    }
   ],
   "source": [
    "[np.round(x, 3) for x in metric_manager_callback.meters['DP'].compute_overall()]"
   ]
  },
  {
   "cell_type": "code",
   "execution_count": 14,
   "id": "26e94bfa",
   "metadata": {},
   "outputs": [
    {
     "data": {
      "text/plain": [
       "0.008653813883898914"
      ]
     },
     "execution_count": 14,
     "metadata": {},
     "output_type": "execute_result"
    }
   ],
   "source": [
    "np.mean(metric_manager_callback.meters['DP'].compute_overall())"
   ]
  },
  {
   "cell_type": "code",
   "execution_count": 15,
   "id": "61271a48",
   "metadata": {},
   "outputs": [
    {
     "name": "stdout",
     "output_type": "stream",
     "text": [
      "task_id=2\n",
      "sensitive samples / all samples = 604 / 12089\n",
      "sensitive samples / selected samples = 604 / 12089\n"
     ]
    }
   ],
   "source": [
    "task_id = 2\n",
    "\n",
    "print(f\"{task_id=}\")\n",
    "print(f\"sensitive samples / all samples = {(benchmark.trains[task_id].sensitives != benchmark.trains[task_id].targets).sum().item()} / {benchmark.trains[task_id].sensitives.shape[0]}\")\n",
    "\n",
    "updated_seq_indices = benchmark.seq_indices_train[task_id]\n",
    "print(f\"sensitive samples / selected samples = {(benchmark.trains[task_id].sensitives[updated_seq_indices] != benchmark.trains[task_id].targets[updated_seq_indices]).sum().item()} / {len(updated_seq_indices)}\")\n"
   ]
  },
  {
   "cell_type": "code",
   "execution_count": 16,
   "id": "b32febda",
   "metadata": {},
   "outputs": [
    {
     "name": "stdout",
     "output_type": "stream",
     "text": [
      "incremental_step=2\n",
      "2 : 5958 --> 5958\n",
      "3 : 6131 --> 6131\n",
      "incremental_step=3\n",
      "4 : 5842 --> 5842\n",
      "5 : 5421 --> 5421\n",
      "incremental_step=4\n",
      "6 : 5918 --> 5918\n",
      "7 : 6265 --> 6265\n",
      "incremental_step=5\n",
      "8 : 5851 --> 5851\n",
      "9 : 5949 --> 5949\n"
     ]
    }
   ],
   "source": [
    "step_class = 2\n",
    "for i in range(2, 6):\n",
    "    incremental_step = i\n",
    "    print(f\"{incremental_step=}\")\n",
    "    one_idx = benchmark.trains[incremental_step].sample_weight > 0.9\n",
    "\n",
    "    print(f\"{2*i-2} : {(benchmark.trains[incremental_step].targets == (2*i-2)).sum().item()} --> {(benchmark.trains[incremental_step].targets[one_idx] == (2*i-2)).sum().item()}\")\n",
    "    print(f\"{2*i-1} : {(benchmark.trains[incremental_step].targets == (2*i-1)).sum().item()} --> {(benchmark.trains[incremental_step].targets[one_idx] == (2*i-1)).sum().item()}\")\n"
   ]
  },
  {
   "cell_type": "code",
   "execution_count": 17,
   "id": "f6233f9b",
   "metadata": {},
   "outputs": [
    {
     "data": {
      "text/plain": [
       "[{1: array([1130, 1135]), 0: array([979, 980])},\n",
       " {1: array([1110, 1135]),\n",
       "  0: array([940, 980]),\n",
       "  2: array([ 967, 1032]),\n",
       "  3: array([ 950, 1010])},\n",
       " {0: array([918, 980]),\n",
       "  1: array([1104, 1135]),\n",
       "  3: array([ 840, 1010]),\n",
       "  2: array([ 874, 1032]),\n",
       "  5: array([802, 892]),\n",
       "  4: array([940, 982])},\n",
       " {1: array([1065, 1135]),\n",
       "  0: array([875, 980]),\n",
       "  2: array([ 801, 1032]),\n",
       "  3: array([ 835, 1010]),\n",
       "  4: array([878, 982]),\n",
       "  5: array([737, 892]),\n",
       "  6: array([922, 958]),\n",
       "  7: array([ 985, 1028])},\n",
       " {0: array([823, 980]),\n",
       "  1: array([1022, 1135]),\n",
       "  3: array([ 724, 1010]),\n",
       "  2: array([ 797, 1032]),\n",
       "  4: array([705, 982]),\n",
       "  5: array([670, 892]),\n",
       "  6: array([877, 958]),\n",
       "  7: array([ 903, 1028]),\n",
       "  9: array([ 864, 1009]),\n",
       "  8: array([904, 974])}]"
      ]
     },
     "execution_count": 17,
     "metadata": {},
     "output_type": "execute_result"
    }
   ],
   "source": [
    "metric_manager_callback.meters['classwise_accuracy'].get_data()"
   ]
  },
  {
   "cell_type": "code",
   "execution_count": null,
   "id": "21212733",
   "metadata": {},
   "outputs": [],
   "source": []
  },
  {
   "cell_type": "code",
   "execution_count": null,
   "id": "2088139f",
   "metadata": {},
   "outputs": [],
   "source": []
  }
 ],
 "metadata": {
  "kernelspec": {
   "display_name": "cil",
   "language": "python",
   "name": "python3"
  },
  "language_info": {
   "codemirror_mode": {
    "name": "ipython",
    "version": 3
   },
   "file_extension": ".py",
   "mimetype": "text/x-python",
   "name": "python",
   "nbconvert_exporter": "python",
   "pygments_lexer": "ipython3",
   "version": "3.9.18"
  }
 },
 "nbformat": 4,
 "nbformat_minor": 5
}
