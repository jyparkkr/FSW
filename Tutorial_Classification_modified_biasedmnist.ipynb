{
 "cells": [
  {
   "cell_type": "code",
   "execution_count": 1,
   "id": "b0c3b92f",
   "metadata": {},
   "outputs": [
    {
     "name": "stdout",
     "output_type": "stream",
     "text": [
      "output_dir=./outputs/dataset=BiasedMNIST/seed=1_epoch=5_lr=0.001_tau=5_alpha=0.002_lambda_1.0_sigold_0.0\n"
     ]
    }
   ],
   "source": [
    "from torchvision.datasets import MNIST, FashionMNIST, CIFAR10\n",
    "import torchvision\n",
    "import numpy as np\n",
    "import random\n",
    "\n",
    "import torch\n",
    "import torch.nn.functional as F\n",
    "import cl_gym as cl\n",
    "\n",
    "import sys\n",
    "import os\n",
    "\n",
    "seed = 1\n",
    "\n",
    "np.random.seed(seed)\n",
    "torch.manual_seed(seed)\n",
    "np.random.seed(seed)\n",
    "random.seed(seed)\n",
    "torch.cuda.manual_seed_all(seed)\n",
    "torch.manual_seed(seed)\n",
    "torch.backends.cudnn.deterministic = True\n",
    "torch.backends.cudnn.benchmark = False\n",
    "torch.backends.cudnn.enabled = False\n",
    "\n",
    "def make_params() -> dict:\n",
    "    import os\n",
    "    from pathlib import Path\n",
    "    import uuid\n",
    "\n",
    "    params = {\n",
    "            # dataset\n",
    "            'dataset': \"BiasedMNIST\",\n",
    "            'fairness_agg': 'mean',\n",
    "\n",
    "            # benchmark\n",
    "            'seed': seed,\n",
    "            'num_tasks': 5,\n",
    "            'epochs_per_task': 5,\n",
    "            # 'per_task_examples': np.inf,\n",
    "            'per_task_examples': 10000,\n",
    "            'per_task_memory_examples': 128,\n",
    "            'batch_size_train': 64,\n",
    "            'batch_size_memory': 64,\n",
    "            'batch_size_validation': 256,\n",
    "            'tau': 5,\n",
    "\n",
    "            # algorithm\n",
    "            'optimizer': 'sgd',\n",
    "            'learning_rate': 0.001,\n",
    "            'momentum': 0.9,\n",
    "            'learning_rate_decay': 1.0,\n",
    "            'criterion': torch.nn.CrossEntropyLoss(),\n",
    "            'device': torch.device('cuda:6' if torch.cuda.is_available() else 'cpu'),\n",
    "             \n",
    "            # sample selection\n",
    "            'alpha': 0.002,\n",
    "            'lambda': 1.0,\n",
    "            'lambda_old': 0.0,\n",
    "              }\n",
    "    \n",
    "\n",
    "\n",
    "#     trial_id = str(uuid.uuid4())\n",
    "    trial_id = f\"dataset={params['dataset']}/seed={params['seed']}_epoch={params['epochs_per_task']}_lr={params['learning_rate']}_tau={params['tau']}_alpha={params['alpha']}\"\n",
    "    if params['lambda'] != 0:\n",
    "        trial_id+=f\"_lambda_{params['lambda']}_sigold_{params['lambda_old']}\"\n",
    "    params['trial_id'] = trial_id\n",
    "    params['output_dir'] = os.path.join(\"./outputs/{}\".format(trial_id))\n",
    "    print(f\"output_dir={params['output_dir']}\")\n",
    "    Path(params['output_dir']).mkdir(parents=True, exist_ok=True)\n",
    "\n",
    "    return params\n",
    "\n",
    "params = make_params()"
   ]
  },
  {
   "cell_type": "code",
   "execution_count": 2,
   "id": "99826537",
   "metadata": {},
   "outputs": [
    {
     "data": {
      "text/plain": [
       "True"
      ]
     },
     "execution_count": 2,
     "metadata": {},
     "output_type": "execute_result"
    }
   ],
   "source": [
    "\"MNIST\" in params['dataset']"
   ]
  },
  {
   "cell_type": "code",
   "execution_count": 3,
   "id": "20c7b886",
   "metadata": {},
   "outputs": [
    {
     "name": "stdout",
     "output_type": "stream",
     "text": [
      "[0 1 2 3 4 5 6 7 8 9]\n"
     ]
    }
   ],
   "source": [
    "from datasets import BiasedMNIST\n",
    "\n",
    "if  params['dataset'] in [\"BiasedMNIST\"]:\n",
    "    benchmark = BiasedMNIST(num_tasks=params['num_tasks'],\n",
    "                                per_task_memory_examples=params['per_task_memory_examples'],\n",
    "                                per_task_examples = min(params['per_task_examples'], 15000))\n",
    "\n",
    "    n_feature = 3*28*28\n",
    "    \n",
    "\n",
    "noise = 0.0\n"
   ]
  },
  {
   "cell_type": "code",
   "execution_count": 4,
   "id": "87fd9653",
   "metadata": {},
   "outputs": [
    {
     "data": {
      "image/png": "[encoded data removed]",
      "text/plain": [
       "<PIL.Image.Image image mode=RGB size=28x28>"
      ]
     },
     "execution_count": 4,
     "metadata": {},
     "output_type": "execute_result"
    }
   ],
   "source": [
    "from torchvision.transforms.functional import to_pil_image\n",
    "from cl_gym.benchmarks.transforms import MNIST_MEAN, MNIST_STD\n",
    "COLOR_MAP = {\n",
    "    0: (1, 0, 0),\n",
    "    1: (0, 1, 0),\n",
    "    2: (1, 1, 0),\n",
    "    3: (0, 0, 1),\n",
    "    4: (1, 0.65, 0),\n",
    "    5: (0.5, 0, 0.5),\n",
    "    6: (0, 1, 1),\n",
    "    7: (1, 0.75, 0.8),\n",
    "    8: (0.8, 1, 0),\n",
    "    9: (.588, .294, 0.)\n",
    "}\n",
    "\n",
    "r = (1 - 0.1913)\n",
    "color_values = np.array(list(COLOR_MAP.values()))\n",
    "m_rgb = color_values.mean(axis=0)\n",
    "std_rgb = color_values.std(axis=0)\n",
    "\n",
    "bmnist_mean = [r*m + MNIST_MEAN[0] for m in m_rgb]\n",
    "bmnist_std = [(r*s**2+(1-r)*MNIST_STD[0]**2+r*(1-r)*(bmnist_mean[i] - m_rgb[i])**2)**0.5 for i, s in enumerate(std_rgb)]\n",
    "\n",
    "unnormalize = torchvision.transforms.Normalize([-m/s for m, s in zip(bmnist_mean, bmnist_std)], [1/s for s in bmnist_std])\n",
    "sample_idx = 95\n",
    "to_pil_image(unnormalize(benchmark.trains[2].inputs[sample_idx]), mode=\"RGB\")"
   ]
  },
  {
   "cell_type": "code",
   "execution_count": 5,
   "id": "e8806699",
   "metadata": {},
   "outputs": [
    {
     "data": {
      "image/png": "[encoded data removed]",
      "text/plain": [
       "<PIL.Image.Image image mode=RGB size=280x28>"
      ]
     },
     "execution_count": 5,
     "metadata": {},
     "output_type": "execute_result"
    }
   ],
   "source": [
    "target_label = 0\n",
    "incremental_step = 1\n",
    "# cat_img = torch.cat([img for img in benchmark.trains[incremental_step].inputs[benchmark.trains[incremental_step].targets == target_label][20:30]], dim=2)\n",
    "cat_img = torch.cat([img for img in benchmark.tests[incremental_step].inputs[benchmark.tests[incremental_step].targets == target_label][20:30]], dim=2)\n",
    "to_pil_image(unnormalize(cat_img), mode=\"RGB\")"
   ]
  },
  {
   "cell_type": "code",
   "execution_count": 6,
   "id": "8e73e1c4",
   "metadata": {},
   "outputs": [],
   "source": [
    "from trainers import FairContinualTrainer\n",
    "from trainers.fair_trainer import FairContinualTrainer2\n",
    "from metrics import FairMetricCollector\n",
    "from algorithms.sensitive import Heuristic3\n",
    "\n",
    "backbone = cl.backbones.MLP2Layers(input_dim=n_feature, hidden_dim_1=256, hidden_dim_2=256, output_dim=10)\n",
    "algorithm = Heuristic3(backbone, benchmark, params, requires_memory=True)\n",
    "metric_manager_callback = FairMetricCollector(num_tasks=params['num_tasks'],\n",
    "                                                        eval_interval='epoch',\n",
    "                                                        epochs_per_task=params['epochs_per_task'])\n",
    "\n",
    "trainer = FairContinualTrainer2(algorithm, params, callbacks=[metric_manager_callback])\n"
   ]
  },
  {
   "cell_type": "code",
   "execution_count": 7,
   "id": "8b8e3d98",
   "metadata": {},
   "outputs": [
    {
     "data": {
      "text/plain": [
       "<function mean at 0x7f0282973ab0>"
      ]
     },
     "execution_count": 7,
     "metadata": {},
     "output_type": "execute_result"
    }
   ],
   "source": [
    "if params['fairness_agg'] == \"mean\":\n",
    "    agg = np.mean\n",
    "elif params['fairness_agg'] == \"max\":\n",
    "    agg = np.max\n",
    "else:\n",
    "    raise NotImplementedError\n",
    "\n",
    "metric_manager_callback.meters['multiclass_eo'].agg = agg\n",
    "metric_manager_callback.meters['multiclass_eo'].agg\n"
   ]
  },
  {
   "cell_type": "code",
   "execution_count": 8,
   "id": "d9c494b9",
   "metadata": {},
   "outputs": [
    {
     "name": "stdout",
     "output_type": "stream",
     "text": [
      "---------------------------- Task 1 -----------------------\n",
      "[1] Eval metrics for task 1 >> {'accuracy': 95.17935808684707, 'loss': 0.0008248412862737128, 'multiclass_eo': [0.056451612903225756, 0.13184931506849318], 'accuracy_s0': 100.0, 'accuracy_s1': 90.58495360141406, 'classwise_accuracy': {0: array([952, 980]), 1: array([1058, 1135])}}\n",
      "[2] Eval metrics for task 1 >> {'accuracy': 97.99671851119302, 'loss': 0.00031524862627329273, 'multiclass_eo': [0.07191780821917804, 0.006048387096774244], 'accuracy_s0': 100.0, 'accuracy_s1': 96.10169023420238, 'classwise_accuracy': {1: array([1093, 1135]), 0: array([977, 980])}}\n",
      "[3] Eval metrics for task 1 >> {'accuracy': 99.75186550391082, 'loss': 0.00018061498096366864, 'multiclass_eo': [0.008064516129032251, 0.001712328767123239], 'accuracy_s0': 100.0, 'accuracy_s1': 99.51115775519223, 'classwise_accuracy': {0: array([976, 980]), 1: array([1134, 1135])}}\n",
      "[4] Eval metrics for task 1 >> {'accuracy': 99.75186550391082, 'loss': 0.0001338218754910408, 'multiclass_eo': [0.001712328767123239, 0.008064516129032251], 'accuracy_s0': 100.0, 'accuracy_s1': 99.51115775519223, 'classwise_accuracy': {1: array([1134, 1135]), 0: array([976, 980])}}\n",
      "[5] Eval metrics for task 1 >> {'accuracy': 99.80288591207407, 'loss': 0.00011518216883459836, 'multiclass_eo': [0.006048387096774244, 0.001712328767123239], 'accuracy_s0': 100.0, 'accuracy_s1': 99.61196420680513, 'classwise_accuracy': {0: array([977, 980]), 1: array([1134, 1135])}}\n",
      "training_task_end\n",
      "---------------------------- Task 2 -----------------------\n",
      "losses=tensor([[1.8313e-03, 1.0333e-04, 7.8489e+00, 7.5696e+00, 1.9255e-02, 2.4961e-02,\n",
      "         7.8895e+00, 8.1527e+00]], device='cuda:6')\n",
      "A_np.shape=(8, 10000)\n",
      "b_np.shape=(8,)\n",
      "### Scipy minsum LP solver ###\n",
      "Elapsed time:0.192\n",
      "Loss difference:[6.70902703e-02 1.51319805e-01 0.00000000e+00 7.69783755e-02\n",
      " 0.00000000e+00 0.00000000e+00 4.44089210e-16 0.00000000e+00]\n",
      "len(updated_seq_indices)=7000\n",
      "sensitive samples / selected samples = 1282 / 7000\n",
      "[6] Eval metrics for task 1 >> {'accuracy': 94.61813359705116, 'loss': 0.0010073983993372454, 'multiclass_eo': [0.12832210426870194, 0.0786290322580645], 'accuracy_s0': 99.90925589836661, 'accuracy_s1': 89.56169907202829, 'classwise_accuracy': {1: array([1058, 1135]), 0: array([941, 980])}}\n",
      "[6] Eval metrics for task 2 >> {'accuracy': 67.45289354516846, 'loss': 0.003707166750213892, 'multiclass_eo': [0.45143139655334774, 0.6935425685425686], 'accuracy_s0': 96.18993993993993, 'accuracy_s1': 38.94124168514412, 'classwise_accuracy': {3: array([ 745, 1010]), 2: array([ 631, 1032])}}\n",
      "losses=tensor([[6.2247e-03, 1.1424e-03, 1.4742e-01, 1.1926e-01, 3.5910e-02, 3.8604e-02,\n",
      "         2.5554e+00, 9.7957e-01]], device='cuda:6')\n",
      "A_np.shape=(8, 10000)\n",
      "b_np.shape=(8,)\n",
      "### Scipy minsum LP solver ###\n",
      "Elapsed time:0.105\n",
      "Loss difference:[0.02912183 0.11499904 0.59426481 0.31522775 0.         0.\n",
      " 0.         0.        ]\n",
      "len(updated_seq_indices)=2621\n",
      "sensitive samples / selected samples = 1597 / 2621\n",
      "[7] Eval metrics for task 1 >> {'accuracy': 91.67108693697743, 'loss': 0.0015971941234935825, 'multiclass_eo': [0.21554831812644504, 0.10282258064516125], 'accuracy_s0': 99.8185117967332, 'accuracy_s1': 83.8999668581529, 'classwise_accuracy': {1: array([1005, 1135]), 0: array([929, 980])}}\n",
      "[7] Eval metrics for task 2 >> {'accuracy': 88.91424898303784, 'loss': 0.0014868944620642442, 'multiclass_eo': [0.18371212121212122, 0.012524719841793042], 'accuracy_s0': 93.91891891891892, 'accuracy_s1': 84.10707686622321, 'classwise_accuracy': {2: array([ 935, 1032]), 3: array([ 881, 1010])}}\n",
      "losses=tensor([[0.0078, 0.0034, 0.0972, 0.4462, 0.0599, 0.1072, 0.5824, 0.4804]],\n",
      "       device='cuda:6')\n",
      "A_np.shape=(8, 10000)\n",
      "b_np.shape=(8,)\n",
      "### Scipy minsum LP solver ###\n",
      "Elapsed time:0.097\n",
      "Loss difference:[ 1.47625808e-02  4.75995502e-02  3.64517381e-02  6.99996851e-02\n",
      "  0.00000000e+00  0.00000000e+00  0.00000000e+00 -2.77555756e-17]\n",
      "len(updated_seq_indices)=2295\n",
      "sensitive samples / selected samples = 1496 / 2295\n",
      "[8] Eval metrics for task 1 >> {'accuracy': 91.20268812370763, 'loss': 0.0016332478176617454, 'multiclass_eo': [0.22229507992939357, 0.10272260730471872], 'accuracy_s0': 99.52115612485188, 'accuracy_s1': 83.27027176314627, 'classwise_accuracy': {1: array([ 999, 1135]), 0: array([925, 980])}}\n",
      "[8] Eval metrics for task 2 >> {'accuracy': 93.69195640494281, 'loss': 0.0008573906676776262, 'multiclass_eo': [0.10912698412698407, 0.11178861788617889], 'accuracy_s0': 99.20634920634922, 'accuracy_s1': 88.16056910569105, 'classwise_accuracy': {2: array([ 958, 1032]), 3: array([ 955, 1010])}}\n",
      "losses=tensor([[0.0025, 0.0022, 0.0939, 0.0396, 0.0352, 0.0828, 0.4083, 0.3898]],\n",
      "       device='cuda:6')\n",
      "A_np.shape=(8, 10000)\n",
      "b_np.shape=(8,)\n",
      "### Scipy minsum LP solver ###\n",
      "Elapsed time:0.08\n",
      "Loss difference:[0.01039707 0.0328024  0.04702348 0.0680865  0.         0.\n",
      " 0.         0.        ]\n",
      "len(updated_seq_indices)=2229\n",
      "sensitive samples / selected samples = 1587 / 2229\n",
      "[9] Eval metrics for task 1 >> {'accuracy': 90.29825586622314, 'loss': 0.0018173296823569224, 'multiclass_eo': [0.13498067182084783, 0.21161089426447555], 'accuracy_s0': 99.15817971831831, 'accuracy_s1': 81.82860141405214, 'classwise_accuracy': {0: array([909, 980]), 1: array([ 997, 1135])}}\n",
      "[9] Eval metrics for task 2 >> {'accuracy': 95.59415534576713, 'loss': 0.0006519717097749439, 'multiclass_eo': [0.03191606240386735, 0.038600288600288635], 'accuracy_s0': 97.3589661089661, 'accuracy_s1': 93.83314855875831, 'classwise_accuracy': {3: array([ 967, 1010]), 2: array([ 985, 1032])}}\n",
      "losses=tensor([[0.0034, 0.0039, 0.0880, 0.1150, 0.0314, 0.0569, 0.2653, 0.2469]],\n",
      "       device='cuda:6')\n",
      "A_np.shape=(8, 10000)\n",
      "b_np.shape=(8,)\n",
      "### Scipy minsum LP solver ###\n",
      "Elapsed time:0.096\n",
      "Loss difference:[0.00495331 0.02248399 0.01016018 0.02260326 0.         0.\n",
      " 0.         0.        ]\n",
      "len(updated_seq_indices)=2284\n",
      "sensitive samples / selected samples = 1607 / 2284\n",
      "[10] Eval metrics for task 1 >> {'accuracy': 88.27631933830801, 'loss': 0.002111201632952859, 'multiclass_eo': [0.1510097307384698, 0.2628782040126296], 'accuracy_s0': 98.86082404643699, 'accuracy_s1': 78.16642730888202, 'classwise_accuracy': {0: array([897, 980]), 1: array([ 965, 1135])}}\n",
      "[10] Eval metrics for task 2 >> {'accuracy': 95.98913961163558, 'loss': 0.0005667772249890588, 'multiclass_eo': [0.02957748689456008, 0.02119408369408371], 'accuracy_s0': 97.251716001716, 'accuracy_s1': 94.71313747228382, 'classwise_accuracy': {3: array([ 974, 1010]), 2: array([ 986, 1032])}}\n",
      "training_task_end\n",
      "---------------------------- Task 3 -----------------------\n",
      "losses=tensor([[3.2558e-03, 2.0586e-03, 8.5072e-02, 1.2998e-01, 1.0178e+01, 9.6607e+00,\n",
      "         2.3225e-02, 5.0148e-02, 1.0725e-01, 3.6310e-01, 9.7499e+00, 1.0472e+01]],\n",
      "       device='cuda:6')\n",
      "A_np.shape=(12, 10000)\n",
      "b_np.shape=(12,)\n",
      "### Scipy minsum LP solver ###\n",
      "Elapsed time:0.154\n",
      "Loss difference:[-1.53008293e-02 -2.30775999e-03  1.63198876e-01 -9.56333679e-10\n",
      "  0.00000000e+00  1.64319068e-01  0.00000000e+00  0.00000000e+00\n",
      "  0.00000000e+00  0.00000000e+00  0.00000000e+00  0.00000000e+00]\n",
      "len(updated_seq_indices)=9352\n",
      "sensitive samples / selected samples = 1673 / 9352\n",
      "[11] Eval metrics for task 1 >> {'accuracy': 87.29299649375169, 'loss': 0.002219067228601334, 'multiclass_eo': [0.19334844041588917, 0.2665079680779654], 'accuracy_s0': 99.04231224970377, 'accuracy_s1': 76.04949182501105, 'classwise_accuracy': {0: array([876, 980]), 1: array([ 967, 1135])}}\n",
      "[11] Eval metrics for task 2 >> {'accuracy': 87.05733364034079, 'loss': 0.0017061104941438158, 'multiclass_eo': [0.1884920634920635, 0.27683083780644757], 'accuracy_s0': 98.62183612183613, 'accuracy_s1': 75.35569105691057, 'classwise_accuracy': {2: array([ 912, 1032]), 3: array([ 866, 1010])}}\n",
      "[11] Eval metrics for task 3 >> {'accuracy': 73.61669239129442, 'loss': 0.00288590839731019, 'multiclass_eo': [0.6469280039447136, 0.3989035607260273], 'accuracy_s0': 99.78706067195189, 'accuracy_s1': 47.49548243841484, 'classwise_accuracy': {5: array([593, 892]), 4: array([793, 982])}}\n",
      "losses=tensor([[6.6917e-03, 1.2962e-03, 1.5930e-02, 1.0495e-02, 2.5492e-02, 6.4054e-02,\n",
      "         2.9726e-02, 4.4722e-02, 7.0690e-02, 9.2659e-02, 1.1872e+00, 1.3879e+00]],\n",
      "       device='cuda:6')\n",
      "A_np.shape=(12, 10000)\n",
      "b_np.shape=(12,)\n",
      "### Scipy minsum LP solver ###\n",
      "Elapsed time:0.088\n",
      "Loss difference:[ 0.         -0.02902884  0.00687443  0.02226135  0.21957056  0.22728338\n",
      "  0.          0.          0.          0.          0.          0.        ]\n",
      "len(updated_seq_indices)=1510\n",
      "sensitive samples / selected samples = 1068 / 1510\n",
      "[12] Eval metrics for task 1 >> {'accuracy': 85.71855614492495, 'loss': 0.0024366715980196113, 'multiclass_eo': [0.2114436150359904, 0.3023643189220099], 'accuracy_s0': 98.84826236294641, 'accuracy_s1': 73.1578656650464, 'classwise_accuracy': {0: array([865, 980]), 1: array([ 944, 1135])}}\n",
      "[12] Eval metrics for task 2 >> {'accuracy': 80.40265945199171, 'loss': 0.002263240990512635, 'multiclass_eo': [0.19696969696969702, 0.43689769909282106], 'accuracy_s0': 96.08268983268984, 'accuracy_s1': 64.38932002956392, 'classwise_accuracy': {2: array([ 885, 1032]), 3: array([ 758, 1010])}}\n",
      "[12] Eval metrics for task 3 >> {'accuracy': 85.1936881809796, 'loss': 0.0018940684380628, 'multiclass_eo': [0.15681746139564368, 0.3525438804307618], 'accuracy_s0': 97.64708795339645, 'accuracy_s1': 72.17902086207617, 'classwise_accuracy': {5: array([785, 892]), 4: array([809, 982])}}\n",
      "losses=tensor([[9.6981e-03, 4.7583e-04, 3.9743e-02, 2.5984e-02, 9.2115e-02, 1.9598e-01,\n",
      "         5.5021e-02, 6.6589e-02, 7.7466e-02, 1.5746e-01, 9.9352e-01, 5.8681e-01]],\n",
      "       device='cuda:6')\n",
      "A_np.shape=(12, 10000)\n",
      "b_np.shape=(12,)\n",
      "### Scipy minsum LP solver ###\n",
      "Elapsed time:0.073\n",
      "Loss difference:[ 0.         -0.02254853  0.02107409  0.02166616  0.12303052  0.01327904\n",
      "  0.          0.          0.          0.          0.          0.        ]\n",
      "len(updated_seq_indices)=1614\n",
      "sensitive samples / selected samples = 1292 / 1614\n",
      "[13] Eval metrics for task 1 >> {'accuracy': 84.34594983367796, 'loss': 0.0025172515963831693, 'multiclass_eo': [0.2216242335377232, 0.33609812793675264], 'accuracy_s0': 98.60115342502738, 'accuracy_s1': 70.71503535130358, 'classwise_accuracy': {0: array([864, 980]), 1: array([ 914, 1135])}}\n",
      "[13] Eval metrics for task 2 >> {'accuracy': 80.49533732443011, 'loss': 0.0023076187501808337, 'multiclass_eo': [0.3816194243023512, 0.19724025974025972], 'accuracy_s0': 94.83590733590734, 'accuracy_s1': 65.89292313377679, 'classwise_accuracy': {3: array([ 754, 1010]), 2: array([ 891, 1032])}}\n",
      "[13] Eval metrics for task 3 >> {'accuracy': 89.4067428968062, 'loss': 0.0013780841959705984, 'multiclass_eo': [0.19315511680679465, 0.034663773862516956], 'accuracy_s0': 95.20413813594803, 'accuracy_s1': 83.81319360248244, 'classwise_accuracy': {5: array([723, 892]), 4: array([960, 982])}}\n",
      "losses=tensor([[0.0050, 0.0077, 0.0198, 0.0386, 0.0654, 0.3157, 0.0570, 0.0604, 0.0760,\n",
      "         0.1157, 0.2312, 0.7173]], device='cuda:6')\n",
      "A_np.shape=(12, 10000)\n",
      "b_np.shape=(12,)\n",
      "### Scipy minsum LP solver ###\n",
      "Elapsed time:0.09\n",
      "Loss difference:[ 7.95306490e-03 -6.08555237e-03  9.70169835e-03  2.24551183e-02\n",
      "  3.46944695e-18  2.99642385e-02  0.00000000e+00  0.00000000e+00\n",
      "  0.00000000e+00  0.00000000e+00  0.00000000e+00  0.00000000e+00]\n",
      "len(updated_seq_indices)=1428\n",
      "sensitive samples / selected samples = 953 / 1428\n",
      "[14] Eval metrics for task 1 >> {'accuracy': 84.32931763013576, 'loss': 0.00235619886688025, 'multiclass_eo': [0.2798989384183179, 0.2615969074913356], 'accuracy_s0': 98.15024523405978, 'accuracy_s1': 71.07545293857711, 'classwise_accuracy': {1: array([ 953, 1135]), 0: array([830, 980])}}\n",
      "[14] Eval metrics for task 2 >> {'accuracy': 82.11950264793921, 'loss': 0.0022294714127418227, 'multiclass_eo': [0.32094986973035755, 0.20734126984126977], 'accuracy_s0': 95.2407764907765, 'accuracy_s1': 68.82621951219512, 'classwise_accuracy': {3: array([ 778, 1010]), 2: array([ 900, 1032])}}\n",
      "[14] Eval metrics for task 3 >> {'accuracy': 83.92831048560183, 'loss': 0.0017922580273963089, 'multiclass_eo': [0.1799524017972598, 0.2693882301109324], 'accuracy_s0': 94.9911988078999, 'accuracy_s1': 72.52416721249031, 'classwise_accuracy': {5: array([727, 892]), 4: array([848, 982])}}\n",
      "losses=tensor([[0.0169, 0.0017, 0.0072, 0.0312, 0.0809, 0.3057, 0.0450, 0.0352, 0.0475,\n",
      "         0.0626, 0.7868, 0.4906]], device='cuda:6')\n",
      "A_np.shape=(12, 10000)\n",
      "b_np.shape=(12,)\n",
      "### Scipy minsum LP solver ###\n",
      "Elapsed time:0.086\n",
      "Loss difference:[ 0.00000000e+00 -1.06376699e-02  2.50065574e-02  0.00000000e+00\n",
      "  1.04936654e-01  0.00000000e+00  0.00000000e+00  0.00000000e+00\n",
      "  0.00000000e+00  0.00000000e+00 -2.77555756e-17  0.00000000e+00]\n",
      "len(updated_seq_indices)=1726\n",
      "sensitive samples / selected samples = 993 / 1726\n",
      "[15] Eval metrics for task 1 >> {'accuracy': 85.61179537894454, 'loss': 0.0025578080480544, 'multiclass_eo': [0.29219289958481476, 0.22958877632631292], 'accuracy_s0': 98.9390064645798, 'accuracy_s1': 72.84992266902341, 'classwise_accuracy': {1: array([ 952, 1135]), 0: array([856, 980])}}\n",
      "[15] Eval metrics for task 2 >> {'accuracy': 83.07065008826464, 'loss': 0.002166459320457862, 'multiclass_eo': [0.365045358947798, 0.1875], 'accuracy_s0': 96.75836550836551, 'accuracy_s1': 69.13109756097562, 'classwise_accuracy': {3: array([ 807, 1010]), 2: array([ 890, 1032])}}\n",
      "[15] Eval metrics for task 3 >> {'accuracy': 87.54201181810708, 'loss': 0.001759345990107688, 'multiclass_eo': [0.3485385942932472, 0.05172134315889221], 'accuracy_s0': 97.74455384033602, 'accuracy_s1': 77.73155696772905, 'classwise_accuracy': {5: array([697, 892]), 4: array([952, 982])}}\n",
      "training_task_end\n",
      "---------------------------- Task 4 -----------------------\n",
      "losses=tensor([[8.5852e-03, 3.1222e-03, 1.3455e-02, 5.3823e-03, 6.7288e-02, 1.9973e-01,\n",
      "         1.0056e+01, 6.7899e+00, 3.0784e-02, 3.9715e-02, 3.3118e-02, 5.1062e-02,\n",
      "         2.8626e-01, 7.0677e-01, 1.1321e+01, 1.0358e+01]], device='cuda:6')\n",
      "A_np.shape=(16, 10000)\n",
      "b_np.shape=(16,)\n",
      "### Scipy minsum LP solver ###\n",
      "Elapsed time:0.087\n",
      "Loss difference:[-0.12518314  0.05903532  0.01824913  0.          0.02168169  0.01464813\n",
      "  0.30095378  0.4655263   0.          0.          0.          0.\n",
      "  0.          0.         -0.73136432  0.        ]\n",
      "len(updated_seq_indices)=9180\n",
      "sensitive samples / selected samples = 1765 / 9180\n",
      "[16] Eval metrics for task 1 >> {'accuracy': 82.85017531241571, 'loss': 0.002616088243804643, 'multiclass_eo': [0.3622958257713249, 0.26794521460943754], 'accuracy_s0': 98.95156814807038, 'accuracy_s1': 67.43951612903226, 'classwise_accuracy': {1: array([ 909, 1135]), 0: array([839, 980])}}\n",
      "[16] Eval metrics for task 2 >> {'accuracy': 73.44798142604958, 'loss': 0.0035419578825458373, 'multiclass_eo': [0.4758216404557868, 0.3971861471861472], 'accuracy_s0': 95.19787644787645, 'accuracy_s1': 51.54748706577974, 'classwise_accuracy': {3: array([ 733, 1010]), 2: array([ 767, 1032])}}\n",
      "[16] Eval metrics for task 3 >> {'accuracy': 79.6751847150046, 'loss': 0.0024211026465752847, 'multiclass_eo': [0.3775815991055582, 0.42226549331562235], 'accuracy_s0': 99.5561137897348, 'accuracy_s1': 59.56375916867576, 'classwise_accuracy': {4: array([803, 982]), 5: array([692, 892])}}\n",
      "[16] Eval metrics for task 4 >> {'accuracy': 77.66077999723808, 'loss': 0.0025982671874047285, 'multiclass_eo': [0.4633298029524445, 0.4271844660194175], 'accuracy_s0': 99.8960498960499, 'accuracy_s1': 55.37033644745679, 'classwise_accuracy': {6: array([735, 958]), 7: array([ 808, 1028])}}\n",
      "losses=tensor([[0.0035, 0.0029, 0.0131, 0.0117, 0.0329, 0.0192, 0.0829, 0.1496, 0.0637,\n",
      "         0.0479, 0.1300, 0.1214, 0.5534, 0.2942, 1.2803, 1.0080]],\n",
      "       device='cuda:6')\n",
      "A_np.shape=(16, 10000)\n",
      "b_np.shape=(16,)\n",
      "### Scipy minsum LP solver ###\n",
      "Elapsed time:0.066\n",
      "Loss difference:[ 0.02326853 -0.0076731   0.01818338  0.          0.07339219  0.03101074\n",
      "  0.09639524  0.07055266  0.          0.          0.          0.\n",
      "  0.          0.          0.          0.        ]\n",
      "len(updated_seq_indices)=1298\n",
      "sensitive samples / selected samples = 1298 / 1298\n",
      "[17] Eval metrics for task 1 >> {'accuracy': 78.66695136204261, 'loss': 0.0034117103750260446, 'multiclass_eo': [0.2913389762729939, 0.4200022375257937], 'accuracy_s0': 96.84495507791993, 'accuracy_s1': 61.27789438798056, 'classwise_accuracy': {0: array([795, 980]), 1: array([ 865, 1135])}}\n",
      "[17] Eval metrics for task 2 >> {'accuracy': 73.56378079668431, 'loss': 0.003840971267421846, 'multiclass_eo': [0.31520562770562777, 0.4851759424930157], 'accuracy_s0': 93.44433719433721, 'accuracy_s1': 53.42525868440502, 'classwise_accuracy': {2: array([ 798, 1032]), 3: array([ 705, 1010])}}\n",
      "[17] Eval metrics for task 3 >> {'accuracy': 77.34512708574978, 'loss': 0.002554507303899482, 'multiclass_eo': [0.3083216350435478, 0.5370100209063289], 'accuracy_s0': 98.10155360173593, 'accuracy_s1': 55.834970804242104, 'classwise_accuracy': {5: array([734, 892]), 4: array([711, 982])}}\n",
      "[17] Eval metrics for task 4 >> {'accuracy': 79.88351218085667, 'loss': 0.0028427205717215485, 'multiclass_eo': [0.26946005791176975, 0.05345694024939307], 'accuracy_s0': 74.46474814895868, 'accuracy_s1': 85.26490403207751, 'classwise_accuracy': {7: array([ 770, 1028]), 6: array([813, 958])}}\n",
      "losses=tensor([[0.0128, 0.0099, 0.0234, 0.0470, 0.0731, 0.0281, 0.5533, 1.2605, 0.0518,\n",
      "         0.1085, 0.1209, 0.1481, 0.5421, 0.2020, 0.6192, 0.3859]],\n",
      "       device='cuda:6')\n",
      "A_np.shape=(16, 10000)\n",
      "b_np.shape=(16,)\n",
      "### Scipy minsum LP solver ###\n",
      "Elapsed time:0.202\n",
      "Loss difference:[ 0.00421509  0.02851961  0.01697076 -0.00734233  0.07138859  0.03336868\n",
      "  0.         -0.03098802  0.          0.          0.          0.\n",
      "  0.          0.          0.          0.        ]\n",
      "len(updated_seq_indices)=1693\n",
      "sensitive samples / selected samples = 350 / 1693\n",
      "[18] Eval metrics for task 1 >> {'accuracy': 82.04980670682369, 'loss': 0.0029127503399589663, 'multiclass_eo': [0.31959015985878736, 0.31799853372434017], 'accuracy_s0': 98.319171753836, 'accuracy_s1': 66.43973707467963, 'classwise_accuracy': {1: array([ 936, 1135]), 0: array([800, 980])}}\n",
      "[18] Eval metrics for task 2 >> {'accuracy': 71.03279223271164, 'loss': 0.004380044665089083, 'multiclass_eo': [0.5749050444172394, 0.38510101010101017], 'accuracy_s0': 94.88685113685113, 'accuracy_s1': 46.88654841093866, 'classwise_accuracy': {3: array([ 694, 1010]), 2: array([ 757, 1032])}}\n",
      "[18] Eval metrics for task 3 >> {'accuracy': 80.9434164741125, 'loss': 0.0021125542411427616, 'multiclass_eo': [0.3802170598801492, 0.34559865667485457], 'accuracy_s0': 98.97874658419207, 'accuracy_s1': 62.687960756441875, 'classwise_accuracy': {5: array([701, 892]), 4: array([818, 982])}}\n",
      "[18] Eval metrics for task 4 >> {'accuracy': 75.24491685824066, 'loss': 0.0032371895430911585, 'multiclass_eo': [0.7611650485436894, 0.21180977784751365], 'accuracy_s0': 99.58419958419958, 'accuracy_s1': 50.935458264639436, 'classwise_accuracy': {7: array([ 636, 1028]), 6: array([849, 958])}}\n",
      "losses=tensor([[3.8174e-03, 1.4321e-03, 2.4077e-02, 3.0089e-03, 5.8003e-03, 1.2774e-02,\n",
      "         6.0296e-02, 1.3116e-01, 5.3024e-02, 2.6341e-02, 2.7943e-01, 1.2678e-01,\n",
      "         4.4560e-01, 1.9620e-01, 6.8738e-01, 2.1397e+00]], device='cuda:6')\n",
      "A_np.shape=(16, 10000)\n",
      "b_np.shape=(16,)\n",
      "### Scipy minsum LP solver ###\n",
      "Elapsed time:0.111\n",
      "Loss difference:[ 0.03240242 -0.00773814  0.05645702  0.04079033  0.05891282  0.06633993\n",
      "  0.05885642  0.20592299  0.          0.          0.          0.\n",
      "  0.          0.          0.          0.        ]\n",
      "len(updated_seq_indices)=1362\n",
      "sensitive samples / selected samples = 1361 / 1362\n",
      "[19] Eval metrics for task 1 >> {'accuracy': 77.87399982019238, 'loss': 0.0036055073388643016, 'multiclass_eo': [0.2750099973340443, 0.44729694453422175], 'accuracy_s0': 96.34098783579068, 'accuracy_s1': 60.22564074237737, 'classwise_accuracy': {0: array([795, 980]), 1: array([ 847, 1135])}}\n",
      "[19] Eval metrics for task 2 >> {'accuracy': 70.74526057256888, 'loss': 0.004432436885142536, 'multiclass_eo': [0.34397546897546905, 0.5371033053959884], 'accuracy_s0': 92.62655512655513, 'accuracy_s1': 48.57261640798226, 'classwise_accuracy': {2: array([ 748, 1032]), 3: array([ 697, 1010])}}\n",
      "[19] Eval metrics for task 3 >> {'accuracy': 76.04093412364261, 'loss': 0.0029648959700300445, 'multiclass_eo': [0.5622306180043808, 0.3566443770220431], 'accuracy_s0': 98.64290569894071, 'accuracy_s1': 52.699155947619516, 'classwise_accuracy': {4: array([703, 982]), 5: array([718, 892])}}\n",
      "[19] Eval metrics for task 4 >> {'accuracy': 58.61859581001275, 'loss': 0.0035108325464607844, 'multiclass_eo': [0.2377253886687849, 0.9048467987660629], 'accuracy_s0': 30.035095824569513, 'accuracy_s1': 87.16370519631191, 'classwise_accuracy': {6: array([687, 958]), 7: array([ 468, 1028])}}\n",
      "losses=tensor([[0.0107, 0.0069, 0.0343, 0.0174, 0.0424, 0.0122, 0.9650, 1.7505, 0.0334,\n",
      "         0.0875, 0.0969, 0.1475, 0.5280, 0.1079, 0.5449, 0.2416]],\n",
      "       device='cuda:6')\n",
      "A_np.shape=(16, 10000)\n",
      "b_np.shape=(16,)\n",
      "### Scipy minsum LP solver ###\n",
      "Elapsed time:0.155\n",
      "Loss difference:[-0.00789463  0.03171449  0.00968169 -0.01941895  0.05546853  0.0243106\n",
      " -0.04575747 -0.09208687  0.          0.          0.          0.\n",
      "  0.          0.          0.          0.        ]\n",
      "len(updated_seq_indices)=1757\n",
      "sensitive samples / selected samples = 23 / 1757\n",
      "[20] Eval metrics for task 1 >> {'accuracy': 82.37952890407264, 'loss': 0.0026511522331418157, 'multiclass_eo': [0.2639129565449214, 0.39513773214330106], 'accuracy_s0': 99.22380045297055, 'accuracy_s1': 66.27126601855944, 'classwise_accuracy': {0: array([841, 980]), 1: array([ 896, 1135])}}\n",
      "[20] Eval metrics for task 2 >> {'accuracy': 76.84473098472637, 'loss': 0.0036929099438356254, 'multiclass_eo': [0.35164141414141414, 0.5092522836425276], 'accuracy_s0': 98.2437794937795, 'accuracy_s1': 55.19909460458241, 'classwise_accuracy': {2: array([ 832, 1032]), 3: array([ 738, 1010])}}\n",
      "[20] Eval metrics for task 3 >> {'accuracy': 82.07431068652791, 'loss': 0.0020865809128658495, 'multiclass_eo': [0.32640889121643235, 0.3765138593286943], 'accuracy_s0': 99.5561137897348, 'accuracy_s1': 64.40997626247847, 'classwise_accuracy': {4: array([827, 982]), 5: array([713, 892])}}\n",
      "[20] Eval metrics for task 4 >> {'accuracy': 72.70700145406693, 'loss': 0.0038269306537728055, 'multiclass_eo': [0.5242339938303147, 0.520038180415539], 'accuracy_s0': 98.78501983765142, 'accuracy_s1': 46.571411125358736, 'classwise_accuracy': {7: array([ 748, 1028]), 6: array([696, 958])}}\n",
      "training_task_end\n",
      "---------------------------- Task 5 -----------------------\n",
      "losses=tensor([[2.2760e-04, 1.2066e-04, 1.8974e-04, 6.7007e-04, 2.1235e-03, 2.5549e-03,\n",
      "         5.6257e-02, 2.1007e-01, 1.0143e+01, 1.2489e+01, 3.5483e-02, 3.9394e-02,\n",
      "         6.2876e-02, 5.6225e-02, 3.7158e-01, 1.7289e-01, 1.6468e+00, 1.3540e+00,\n",
      "         1.0241e+01, 1.0091e+01]], device='cuda:6')\n",
      "A_np.shape=(20, 10000)\n",
      "b_np.shape=(20,)\n",
      "### Scipy minsum LP solver ###\n",
      "Elapsed time:0.057\n",
      "Loss difference:[ 0.06784686 -0.05065496  0.00933113 -0.03785979 -0.03824051  0.02981958\n",
      "  0.03290059  0.07219457  0.05746707 -0.21416665  0.          0.\n",
      "  0.          0.          0.          0.          0.          0.\n",
      " -1.04110009 -1.28707689]\n",
      "len(updated_seq_indices)=10000\n",
      "sensitive samples / selected samples = 1806 / 10000\n",
      "[21] Eval metrics for task 1 >> {'accuracy': 80.77699361683, 'loss': 0.003220993012683048, 'multiclass_eo': [0.32429685417222076, 0.36883748104318426], 'accuracy_s0': 98.47272427292226, 'accuracy_s1': 63.81600751215202, 'classwise_accuracy': {0: array([807, 980]), 1: array([ 899, 1135])}}\n",
      "[21] Eval metrics for task 2 >> {'accuracy': 70.33022488295342, 'loss': 0.004849213169090428, 'multiclass_eo': [0.5622076780613365, 0.36417748917748916], 'accuracy_s0': 93.33976833976834, 'accuracy_s1': 47.020509977827054, 'classwise_accuracy': {3: array([ 671, 1010]), 2: array([ 766, 1032])}}\n",
      "[21] Eval metrics for task 3 >> {'accuracy': 72.95751783219018, 'loss': 0.0037821456869485664, 'multiclass_eo': [0.5469394880235414, 0.4668397510402672], 'accuracy_s0': 98.02952338506003, 'accuracy_s1': 47.3405614318696, 'classwise_accuracy': {4: array([714, 982]), 5: array([653, 892])}}\n",
      "[21] Eval metrics for task 4 >> {'accuracy': 81.7615127169931, 'loss': 0.002396971002326151, 'multiclass_eo': [0.3396400754891321, 0.37473457105547037], 'accuracy_s0': 99.60365223523118, 'accuracy_s1': 63.88491990800106, 'classwise_accuracy': {6: array([794, 958]), 7: array([ 829, 1028])}}\n",
      "[21] Eval metrics for task 5 >> {'accuracy': 75.71609111426321, 'loss': 0.0025552428556221995, 'multiclass_eo': [0.46060439128039654, 0.4429936104257608], 'accuracy_s0': 98.56919712589816, 'accuracy_s1': 53.389297040590286, 'classwise_accuracy': {9: array([ 751, 1009]), 8: array([750, 974])}}\n",
      "losses=tensor([[0.0035, 0.0028, 0.0098, 0.0159, 0.0228, 0.0177, 0.0056, 0.1086, 0.0755,\n",
      "         0.0655, 0.0299, 0.0461, 0.0434, 0.0831, 0.1443, 0.1724, 0.1227, 0.0836,\n",
      "         1.0462, 1.1756]], device='cuda:6')\n",
      "A_np.shape=(20, 10000)\n",
      "b_np.shape=(20,)\n",
      "### Scipy minsum LP solver ###\n",
      "Elapsed time:0.104\n",
      "Loss difference:[-7.68771594e-04 -7.22837090e-03 -1.68328208e-02  9.14332452e-03\n",
      " -1.73472348e-18  3.53293168e-03  2.75685854e-02  2.43550881e-02\n",
      "  9.07047365e-02  8.04901611e-02  0.00000000e+00  0.00000000e+00\n",
      "  0.00000000e+00  0.00000000e+00  0.00000000e+00  0.00000000e+00\n",
      "  0.00000000e+00  0.00000000e+00  0.00000000e+00  0.00000000e+00]\n",
      "len(updated_seq_indices)=1586\n",
      "sensitive samples / selected samples = 1403 / 1586\n",
      "[22] Eval metrics for task 1 >> {'accuracy': 80.02809493841589, 'loss': 0.003674694635062071, 'multiclass_eo': [0.40147428088407133, 0.32429685417222076], 'accuracy_s0': 98.56346837455565, 'accuracy_s1': 62.274911621741055, 'classwise_accuracy': {1: array([ 882, 1135]), 0: array([807, 980])}}\n",
      "[22] Eval metrics for task 2 >> {'accuracy': 67.84135390283214, 'loss': 0.00523302265525915, 'multiclass_eo': [0.5967605235897919, 0.4285714285714286], 'accuracy_s0': 93.33976833976834, 'accuracy_s1': 42.07317073170732, 'classwise_accuracy': {3: array([ 654, 1010]), 2: array([ 732, 1032])}}\n",
      "[22] Eval metrics for task 3 >> {'accuracy': 61.78728320531906, 'loss': 0.0049856391953047976, 'multiclass_eo': [0.597644241170936, 0.7474282721729697], 'accuracy_s0': 95.01235768404845, 'accuracy_s1': 27.758732016853177, 'classwise_accuracy': {5: array([560, 892]), 4: array([597, 982])}}\n",
      "[22] Eval metrics for task 4 >> {'accuracy': 77.06270358967694, 'loss': 0.0030370797935689443, 'multiclass_eo': [0.48146255606654176, 0.32730553485270475], 'accuracy_s0': 97.27115779747359, 'accuracy_s1': 56.83275325151127, 'classwise_accuracy': {7: array([ 756, 1028]), 6: array([772, 958])}}\n",
      "[22] Eval metrics for task 5 >> {'accuracy': 88.01204966390779, 'loss': 0.0014737908941173698, 'multiclass_eo': [0.16280790115684274, 0.11664452457771868], 'accuracy_s0': 95.10777881911903, 'accuracy_s1': 81.13515753239096, 'classwise_accuracy': {9: array([ 880, 1009]), 8: array([865, 974])}}\n",
      "losses=tensor([[0.0027, 0.0010, 0.0080, 0.0171, 0.0566, 0.0671, 0.0585, 0.2185, 0.2019,\n",
      "         0.1536, 0.0476, 0.0554, 0.0613, 0.0970, 0.3624, 0.2993, 0.1923, 0.1613,\n",
      "         0.4576, 0.5803]], device='cuda:6')\n",
      "A_np.shape=(20, 10000)\n",
      "b_np.shape=(20,)\n",
      "### Scipy minsum LP solver ###\n",
      "Elapsed time:0.174\n",
      "Loss difference:[0.00237851 0.00054615 0.00661196 0.00678843 0.02416787 0.01962188\n",
      " 0.01543793 0.         0.00949501 0.00617555 0.         0.\n",
      " 0.         0.         0.         0.         0.         0.\n",
      " 0.         0.        ]\n",
      "len(updated_seq_indices)=1531\n",
      "sensitive samples / selected samples = 1283 / 1531\n",
      "[23] Eval metrics for task 1 >> {'accuracy': 80.57740717432347, 'loss': 0.003391052109693523, 'multiclass_eo': [0.3307560351042935, 0.327979205545188], 'accuracy_s0': 97.38660737052092, 'accuracy_s1': 64.44984533804684, 'classwise_accuracy': {1: array([ 913, 1135]), 0: array([791, 980])}}\n",
      "[23] Eval metrics for task 2 >> {'accuracy': 65.38088111136695, 'loss': 0.0055999584226019816, 'multiclass_eo': [0.32711038961038963, 0.5668926766487742], 'accuracy_s0': 87.55630630630631, 'accuracy_s1': 42.85615299334812, 'classwise_accuracy': {2: array([ 718, 1032]), 3: array([ 618, 1010])}}\n",
      "[23] Eval metrics for task 3 >> {'accuracy': 67.79303243129698, 'loss': 0.0041862654011684645, 'multiclass_eo': [0.6344218755844836, 0.4646158181003989], 'accuracy_s0': 94.89688424293992, 'accuracy_s1': 39.944999558695784, 'classwise_accuracy': {4: array([650, 982]), 5: array([619, 892])}}\n",
      "[23] Eval metrics for task 4 >> {'accuracy': 77.82893187006003, 'loss': 0.0030067860780045585, 'multiclass_eo': [0.5164442930411249, 0.31874545082092254], 'accuracy_s0': 98.70052238473292, 'accuracy_s1': 56.94103519163054, 'classwise_accuracy': {7: array([ 746, 1028]), 6: array([796, 958])}}\n",
      "[23] Eval metrics for task 5 >> {'accuracy': 88.79809639324112, 'loss': 0.001426555550705587, 'multiclass_eo': [0.1402809475092469, 0.05421648636679954], 'accuracy_s0': 93.77382068103718, 'accuracy_s1': 84.04894898723485, 'classwise_accuracy': {9: array([ 871, 1009]), 8: array([889, 974])}}\n",
      "losses=tensor([[0.0095, 0.0051, 0.0349, 0.0622, 0.0539, 0.0535, 0.0137, 0.1701, 0.1695,\n",
      "         0.2139, 0.0350, 0.0344, 0.0442, 0.0955, 0.1945, 0.1844, 0.1022, 0.1516,\n",
      "         0.3757, 0.5688]], device='cuda:6')\n",
      "A_np.shape=(20, 10000)\n",
      "b_np.shape=(20,)\n",
      "### Scipy minsum LP solver ###\n",
      "Elapsed time:0.124\n",
      "Loss difference:[-0.00250293 -0.00515484 -0.00417842  0.00187556  0.00810263  0.01004814\n",
      "  0.00795313  0.00313781  0.          0.00011881  0.          0.\n",
      "  0.          0.          0.          0.          0.          0.\n",
      "  0.          0.        ]\n",
      "len(updated_seq_indices)=1664\n",
      "sensitive samples / selected samples = 1204 / 1664\n",
      "[24] Eval metrics for task 1 >> {'accuracy': 80.60078216308551, 'loss': 0.003447264418816172, 'multiclass_eo': [0.3686323745120951, 0.32837909890695816], 'accuracy_s0': 98.39454185477943, 'accuracy_s1': 63.54396818382677, 'classwise_accuracy': {1: array([ 895, 1135]), 0: array([807, 980])}}\n",
      "[24] Eval metrics for task 2 >> {'accuracy': 68.712391587996, 'loss': 0.005240050866017729, 'multiclass_eo': [0.5710518881250589, 0.3925865800865801], 'accuracy_s0': 92.66409266409266, 'accuracy_s1': 44.48216925351072, 'classwise_accuracy': {3: array([ 653, 1010]), 2: array([ 751, 1032])}}\n",
      "[24] Eval metrics for task 3 >> {'accuracy': 68.7272245714338, 'loss': 0.004292419937656936, 'multiclass_eo': [0.7319542637688748, 0.4030048252300663], 'accuracy_s0': 96.57496319706115, 'accuracy_s1': 39.82700874711411, 'classwise_accuracy': {4: array([610, 982]), 5: array([672, 892])}}\n",
      "[24] Eval metrics for task 4 >> {'accuracy': 78.02348439924292, 'loss': 0.003147070471493739, 'multiclass_eo': [0.31457001268322027, 0.49700410681504187], 'accuracy_s0': 98.30417461996409, 'accuracy_s1': 57.72546864505098, 'classwise_accuracy': {6: array([796, 958]), 7: array([ 750, 1028])}}\n",
      "[24] Eval metrics for task 5 >> {'accuracy': 89.84910955405458, 'loss': 0.001281537389851434, 'multiclass_eo': [0.11246915923325107, 0.12380577634374756], 'accuracy_s0': 95.8294283036551, 'accuracy_s1': 84.01568152480517, 'classwise_accuracy': {8: array([867, 974]), 9: array([ 915, 1009])}}\n",
      "losses=tensor([[0.0023, 0.0015, 0.0064, 0.0204, 0.0419, 0.0184, 0.0163, 0.1799, 0.1516,\n",
      "         0.1075, 0.0271, 0.0382, 0.0314, 0.0674, 0.1640, 0.1017, 0.0640, 0.0871,\n",
      "         0.4501, 0.4667]], device='cuda:6')\n",
      "A_np.shape=(20, 10000)\n",
      "b_np.shape=(20,)\n",
      "### Scipy minsum LP solver ###\n",
      "Elapsed time:0.13\n",
      "Loss difference:[-4.22589429e-03  2.17497722e-05  4.90137667e-03  2.02754278e-03\n",
      "  8.66245275e-03  0.00000000e+00  3.92704772e-03  0.00000000e+00\n",
      "  2.10613004e-02  8.69542519e-03  0.00000000e+00  0.00000000e+00\n",
      "  0.00000000e+00  0.00000000e+00  0.00000000e+00  0.00000000e+00\n",
      "  0.00000000e+00  0.00000000e+00  0.00000000e+00  0.00000000e+00]\n",
      "len(updated_seq_indices)=1236\n",
      "sensitive samples / selected samples = 1077 / 1236\n",
      "[25] Eval metrics for task 1 >> {'accuracy': 79.41809763552999, 'loss': 0.003905724577306292, 'multiclass_eo': [0.3612702931158789, 0.3320114636097041], 'accuracy_s0': 97.11437506562073, 'accuracy_s1': 62.45028722934158, 'classwise_accuracy': {1: array([ 889, 1135]), 0: array([789, 980])}}\n",
      "[25] Eval metrics for task 2 >> {'accuracy': 68.55332335559137, 'loss': 0.00518094728555782, 'multiclass_eo': [0.530103274005713, 0.38915945165945165], 'accuracy_s0': 91.41999141999142, 'accuracy_s1': 45.45685513673319, 'classwise_accuracy': {3: array([ 640, 1010]), 2: array([ 761, 1032])}}\n",
      "[25] Eval metrics for task 3 >> {'accuracy': 69.94922049811403, 'loss': 0.004250381296955788, 'multiclass_eo': [0.6685370141772342, 0.4030048252300663], 'accuracy_s0': 96.28256553624246, 'accuracy_s1': 42.705473565877426, 'classwise_accuracy': {4: array([634, 982]), 5: array([672, 892])}}\n",
      "[25] Eval metrics for task 4 >> {'accuracy': 79.41022964509395, 'loss': 0.0029941324561024, 'multiclass_eo': [0.4990291262135922, 0.28736864585921196], 'accuracy_s0': 99.06444906444906, 'accuracy_s1': 59.74456046080886, 'classwise_accuracy': {7: array([ 771, 1028]), 6: array([803, 958])}}\n",
      "[25] Eval metrics for task 5 >> {'accuracy': 85.29843319772968, 'loss': 0.0017228194306249036, 'multiclass_eo': [0.15732270513063829, 0.1307389627764225], 'accuracy_s0': 92.56169946891598, 'accuracy_s1': 78.15861607356292, 'classwise_accuracy': {8: array([816, 974]), 9: array([ 876, 1009])}}\n",
      "training_task_end\n",
      "final avg-acc 76.52586086641179\n",
      "final avg-forget 16.353348963145336\n"
     ]
    }
   ],
   "source": [
    "trainer.run()\n",
    "print(\"final avg-acc\", metric_manager_callback.meters['accuracy'].compute_final())\n",
    "print(\"final avg-forget\", metric_manager_callback.meters['forgetting'].compute_final())"
   ]
  },
  {
   "cell_type": "code",
   "execution_count": 9,
   "id": "5ebde5d0",
   "metadata": {},
   "outputs": [
    {
     "data": {
      "text/plain": [
       "array([[99.803,  0.   ,  0.   ,  0.   ,  0.   ],\n",
       "       [88.276, 95.989,  0.   ,  0.   ,  0.   ],\n",
       "       [85.612, 83.071, 87.542,  0.   ,  0.   ],\n",
       "       [82.38 , 76.845, 82.074, 72.707,  0.   ],\n",
       "       [79.418, 68.553, 69.949, 79.41 , 85.298]])"
      ]
     },
     "execution_count": 9,
     "metadata": {},
     "output_type": "execute_result"
    }
   ],
   "source": [
    "metric_manager_callback.meters['accuracy'].get_data()"
   ]
  },
  {
   "cell_type": "code",
   "execution_count": 10,
   "id": "fa1b0074",
   "metadata": {},
   "outputs": [
    {
     "data": {
      "text/plain": [
       "[99.803, 92.133, 85.408, 78.501, 76.526]"
      ]
     },
     "execution_count": 10,
     "metadata": {},
     "output_type": "execute_result"
    }
   ],
   "source": [
    "[np.round(x, 3) for x in metric_manager_callback.meters['accuracy'].compute_overall()]"
   ]
  },
  {
   "cell_type": "code",
   "execution_count": 11,
   "id": "4e893eff",
   "metadata": {},
   "outputs": [
    {
     "data": {
      "text/plain": [
       "86.47420433784897"
      ]
     },
     "execution_count": 11,
     "metadata": {},
     "output_type": "execute_result"
    }
   ],
   "source": [
    "np.mean(metric_manager_callback.meters['accuracy'].compute_overall())"
   ]
  },
  {
   "cell_type": "code",
   "execution_count": 12,
   "id": "b82bd073",
   "metadata": {},
   "outputs": [
    {
     "data": {
      "text/plain": [
       "[0.004, 0.116, 0.246, 0.408, 0.376]"
      ]
     },
     "execution_count": 12,
     "metadata": {},
     "output_type": "execute_result"
    }
   ],
   "source": [
    "[np.round(x, 3) for x in metric_manager_callback.meters['multiclass_eo'].compute_overall()]"
   ]
  },
  {
   "cell_type": "code",
   "execution_count": 13,
   "id": "4a7973e4",
   "metadata": {},
   "outputs": [
    {
     "data": {
      "text/plain": [
       "0.2300113439475493"
      ]
     },
     "execution_count": 13,
     "metadata": {},
     "output_type": "execute_result"
    }
   ],
   "source": [
    "np.mean(metric_manager_callback.meters['multiclass_eo'].compute_overall())"
   ]
  },
  {
   "cell_type": "code",
   "execution_count": 14,
   "id": "61271a48",
   "metadata": {},
   "outputs": [
    {
     "name": "stdout",
     "output_type": "stream",
     "text": [
      "task_id=2\n",
      "sensitive samples / all samples = 2194 / 12089\n",
      "sensitive samples / selected samples = 1607 / 2284\n"
     ]
    }
   ],
   "source": [
    "task_id = 2\n",
    "\n",
    "print(f\"{task_id=}\")\n",
    "print(f\"sensitive samples / all samples = {(benchmark.trains[task_id].sensitive != benchmark.trains[task_id].targets).sum().item()} / {benchmark.trains[task_id].sensitive.shape[0]}\")\n",
    "\n",
    "updated_seq_indices = benchmark.seq_indices_train[task_id]\n",
    "print(f\"sensitive samples / selected samples = {(benchmark.trains[task_id].sensitive[updated_seq_indices] != benchmark.trains[task_id].targets[updated_seq_indices]).sum().item()} / {len(updated_seq_indices)}\")\n"
   ]
  },
  {
   "cell_type": "code",
   "execution_count": 15,
   "id": "b32febda",
   "metadata": {},
   "outputs": [
    {
     "name": "stdout",
     "output_type": "stream",
     "text": [
      "incremental_step=2\n",
      "2 : 5958 --> 2137\n",
      "3 : 6131 --> 2234\n",
      "incremental_step=3\n",
      "4 : 5842 --> 1531\n",
      "5 : 5421 --> 1456\n",
      "incremental_step=4\n",
      "6 : 5918 --> 1784\n",
      "7 : 6265 --> 2154\n",
      "incremental_step=5\n",
      "8 : 5851 --> 1478\n",
      "9 : 5949 --> 1556\n"
     ]
    }
   ],
   "source": [
    "step_class = 2\n",
    "for i in range(2, 6):\n",
    "    incremental_step = i\n",
    "    print(f\"{incremental_step=}\")\n",
    "    one_idx = benchmark.trains[incremental_step].sample_weight > 0.9\n",
    "\n",
    "    print(f\"{2*i-2} : {(benchmark.trains[incremental_step].targets == (2*i-2)).sum().item()} --> {(benchmark.trains[incremental_step].targets[one_idx] == (2*i-2)).sum().item()}\")\n",
    "    print(f\"{2*i-1} : {(benchmark.trains[incremental_step].targets == (2*i-1)).sum().item()} --> {(benchmark.trains[incremental_step].targets[one_idx] == (2*i-1)).sum().item()}\")\n"
   ]
  },
  {
   "cell_type": "code",
   "execution_count": 16,
   "id": "0880e76a",
   "metadata": {},
   "outputs": [
    {
     "name": "stdout",
     "output_type": "stream",
     "text": [
      "0.006 0.002 \n",
      "0.151 0.263 0.03 0.021 \n",
      "0.292 0.23 0.365 0.188 0.349 0.052 \n",
      "0.264 0.395 0.352 0.509 0.326 0.377 0.524 0.52 \n",
      "0.361 0.332 0.53 0.389 0.669 0.403 0.499 0.287 0.157 0.131 \n"
     ]
    }
   ],
   "source": [
    "for eos in metric_manager_callback.meters['multiclass_eo'].get_data():\n",
    "    for eo in eos:\n",
    "        print(round(eo, 3),end=\" \")\n",
    "    print()"
   ]
  },
  {
   "cell_type": "code",
   "execution_count": 17,
   "id": "f6233f9b",
   "metadata": {},
   "outputs": [
    {
     "data": {
      "text/plain": [
       "[{0: array([977, 980]), 1: array([1134, 1135])},\n",
       " {0: array([897, 980]),\n",
       "  1: array([ 965, 1135]),\n",
       "  3: array([ 974, 1010]),\n",
       "  2: array([ 986, 1032])},\n",
       " {1: array([ 952, 1135]),\n",
       "  0: array([856, 980]),\n",
       "  3: array([ 807, 1010]),\n",
       "  2: array([ 890, 1032]),\n",
       "  5: array([697, 892]),\n",
       "  4: array([952, 982])},\n",
       " {0: array([841, 980]),\n",
       "  1: array([ 896, 1135]),\n",
       "  2: array([ 832, 1032]),\n",
       "  3: array([ 738, 1010]),\n",
       "  4: array([827, 982]),\n",
       "  5: array([713, 892]),\n",
       "  7: array([ 748, 1028]),\n",
       "  6: array([696, 958])},\n",
       " {1: array([ 889, 1135]),\n",
       "  0: array([789, 980]),\n",
       "  3: array([ 640, 1010]),\n",
       "  2: array([ 761, 1032]),\n",
       "  4: array([634, 982]),\n",
       "  5: array([672, 892]),\n",
       "  7: array([ 771, 1028]),\n",
       "  6: array([803, 958]),\n",
       "  8: array([816, 974]),\n",
       "  9: array([ 876, 1009])}]"
      ]
     },
     "execution_count": 17,
     "metadata": {},
     "output_type": "execute_result"
    }
   ],
   "source": [
    "metric_manager_callback.meters['classwise_accuracy'].get_data()"
   ]
  },
  {
   "cell_type": "code",
   "execution_count": null,
   "id": "cdbf418f",
   "metadata": {},
   "outputs": [],
   "source": []
  }
 ],
 "metadata": {
  "kernelspec": {
   "display_name": "cil",
   "language": "python",
   "name": "python3"
  },
  "language_info": {
   "codemirror_mode": {
    "name": "ipython",
    "version": 3
   },
   "file_extension": ".py",
   "mimetype": "text/x-python",
   "name": "python",
   "nbconvert_exporter": "python",
   "pygments_lexer": "ipython3",
   "version": "3.9.18"
  }
 },
 "nbformat": 4,
 "nbformat_minor": 5
}
