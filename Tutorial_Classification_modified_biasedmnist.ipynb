{
 "cells": [
  {
   "cell_type": "code",
   "execution_count": 1,
   "id": "b0c3b92f",
   "metadata": {},
   "outputs": [
    {
     "name": "stdout",
     "output_type": "stream",
     "text": [
      "output_dir=./outputs/dataset=BiasedMNIST/seed=3_epoch=1_lr=0.001_tau=5_alpha=0.002_lmbd_1.0_lmbdold_0.0\n"
     ]
    }
   ],
   "source": [
    "from torchvision.datasets import MNIST, FashionMNIST, CIFAR10\n",
    "import torchvision\n",
    "import numpy as np\n",
    "import random\n",
    "\n",
    "import torch\n",
    "import torch.nn.functional as F\n",
    "import cl_gym as cl\n",
    "\n",
    "import sys\n",
    "import os\n",
    "\n",
    "seed = 3\n",
    "\n",
    "np.random.seed(seed)\n",
    "torch.manual_seed(seed)\n",
    "np.random.seed(seed)\n",
    "random.seed(seed) \n",
    "torch.cuda.manual_seed_all(seed)\n",
    "torch.manual_seed(seed)\n",
    "torch.backends.cudnn.deterministic = True\n",
    "torch.backends.cudnn.benchmark = True\n",
    "# torch.backends.cudnn.enabled = False\n",
    "\n",
    "def make_params() -> dict:\n",
    "    import os\n",
    "    from pathlib import Path\n",
    "    import uuid\n",
    "\n",
    "    params = {\n",
    "            # dataset\n",
    "            'dataset': \"BiasedMNIST\",\n",
    "            'fairness_agg': 'mean',\n",
    "\n",
    "            # benchmark\n",
    "            'seed': seed,\n",
    "            'num_tasks': 5,\n",
    "            'epochs_per_task': 1,\n",
    "            # 'per_task_examples': np.inf,\n",
    "            'per_task_examples': 10000,\n",
    "            'per_task_memory_examples': 128,\n",
    "            'batch_size_train': 64,\n",
    "            'batch_size_memory': 64,\n",
    "            'batch_size_validation': 256,\n",
    "            'tau': 5,\n",
    "\n",
    "            # algorithm\n",
    "            'optimizer': 'sgd',\n",
    "            'learning_rate': 0.001,\n",
    "            'momentum': 0.9,\n",
    "            'learning_rate_decay': 1.0,\n",
    "            'criterion': torch.nn.CrossEntropyLoss(),\n",
    "            'device': torch.device('cuda:6' if torch.cuda.is_available() else 'cpu'),\n",
    "             \n",
    "            # sample selection\n",
    "            'alpha': 0.002,\n",
    "            'lambda': 1.0,\n",
    "            'lambda_old': 0.0,\n",
    "              }\n",
    "    \n",
    "\n",
    "\n",
    "#     trial_id = str(uuid.uuid4())\n",
    "    trial_id = f\"dataset={params['dataset']}/seed={params['seed']}_epoch={params['epochs_per_task']}_lr={params['learning_rate']}_tau={params['tau']}_alpha={params['alpha']}\"\n",
    "    if params['lambda'] != 0:\n",
    "        trial_id+=f\"_lmbd_{params['lambda']}_lmbdold_{params['lambda_old']}\"\n",
    "    params['trial_id'] = trial_id\n",
    "    params['output_dir'] = os.path.join(\"./outputs/{}\".format(trial_id))\n",
    "    print(f\"output_dir={params['output_dir']}\")\n",
    "    Path(params['output_dir']).mkdir(parents=True, exist_ok=True)\n",
    "\n",
    "    return params\n",
    "\n",
    "params = make_params()"
   ]
  },
  {
   "cell_type": "code",
   "execution_count": 2,
   "id": "99826537",
   "metadata": {},
   "outputs": [
    {
     "data": {
      "text/plain": [
       "True"
      ]
     },
     "execution_count": 2,
     "metadata": {},
     "output_type": "execute_result"
    }
   ],
   "source": [
    "\"MNIST\" in params['dataset']"
   ]
  },
  {
   "cell_type": "code",
   "execution_count": 3,
   "id": "20c7b886",
   "metadata": {},
   "outputs": [
    {
     "name": "stdout",
     "output_type": "stream",
     "text": [
      "[0 1 2 3 4 5 6 7 8 9]\n"
     ]
    }
   ],
   "source": [
    "from datasets import BiasedMNIST\n",
    "\n",
    "if  params['dataset'] in [\"BiasedMNIST\"]:\n",
    "    benchmark = BiasedMNIST(num_tasks=params['num_tasks'],\n",
    "                                per_task_memory_examples=params['per_task_memory_examples'],\n",
    "                                per_task_examples = params['per_task_examples'])\n",
    "\n",
    "    n_feature = 3*28*28"
   ]
  },
  {
   "cell_type": "code",
   "execution_count": 4,
   "id": "87fd9653",
   "metadata": {},
   "outputs": [
    {
     "data": {
      "image/png": "[encoded data removed]",
      "text/plain": [
       "<PIL.Image.Image image mode=RGB size=28x28>"
      ]
     },
     "execution_count": 4,
     "metadata": {},
     "output_type": "execute_result"
    }
   ],
   "source": [
    "from torchvision.transforms.functional import to_pil_image\n",
    "from cl_gym.benchmarks.transforms import MNIST_MEAN, MNIST_STD\n",
    "COLOR_MAP = {\n",
    "    0: (1, 0, 0),\n",
    "    1: (0, 1, 0),\n",
    "    2: (1, 1, 0),\n",
    "    3: (0, 0, 1),\n",
    "    4: (1, 0.65, 0),\n",
    "    5: (0.5, 0, 0.5),\n",
    "    6: (0, 1, 1),\n",
    "    7: (1, 0.75, 0.8),\n",
    "    8: (0.8, 1, 0),\n",
    "    9: (.588, .294, 0.)\n",
    "}\n",
    "\n",
    "r = (1 - 0.1913)\n",
    "color_values = np.array(list(COLOR_MAP.values()))\n",
    "m_rgb = color_values.mean(axis=0)\n",
    "std_rgb = color_values.std(axis=0)\n",
    "\n",
    "bmnist_mean = [r*m + MNIST_MEAN[0] for m in m_rgb]\n",
    "bmnist_std = [(r*s**2+(1-r)*MNIST_STD[0]**2+r*(1-r)*(bmnist_mean[i] - m_rgb[i])**2)**0.5 for i, s in enumerate(std_rgb)]\n",
    "\n",
    "unnormalize = torchvision.transforms.Normalize([-m/s for m, s in zip(bmnist_mean, bmnist_std)], [1/s for s in bmnist_std])\n",
    "sample_idx = 95\n",
    "to_pil_image(unnormalize(benchmark.trains[2][sample_idx][0]), mode=\"RGB\")"
   ]
  },
  {
   "cell_type": "code",
   "execution_count": 5,
   "id": "e8806699",
   "metadata": {},
   "outputs": [
    {
     "data": {
      "image/png": "[encoded data removed]",
      "text/plain": [
       "<PIL.Image.Image image mode=RGB size=280x28>"
      ]
     },
     "execution_count": 5,
     "metadata": {},
     "output_type": "execute_result"
    }
   ],
   "source": [
    "target_label = 0\n",
    "incremental_step = 1\n",
    "# cat_img = torch.cat([img for img in benchmark.trains[incremental_step].inputs[benchmark.trains[incremental_step].targets == target_label][20:30]], dim=2)\n",
    "cat_img = torch.cat([img for img, target, *_ in benchmark.tests[incremental_step]][20:30], dim=2)\n",
    "to_pil_image(unnormalize(cat_img), mode=\"RGB\")"
   ]
  },
  {
   "cell_type": "code",
   "execution_count": 6,
   "id": "8e73e1c4",
   "metadata": {},
   "outputs": [],
   "source": [
    "from trainers import FairContinualTrainer\n",
    "from trainers.fair_trainer import FairContinualTrainer2\n",
    "from metrics import FairMetricCollector\n",
    "from algorithms.sensitive import Heuristic3\n",
    "\n",
    "backbone = cl.backbones.MLP2Layers(input_dim=n_feature, hidden_dim_1=256, hidden_dim_2=256, output_dim=10)\n",
    "algorithm = Heuristic3(backbone, benchmark, params, requires_memory=True)\n",
    "metric_manager_callback = FairMetricCollector(num_tasks=params['num_tasks'],\n",
    "                                                        eval_interval='epoch',\n",
    "                                                        epochs_per_task=params['epochs_per_task'])\n",
    "\n",
    "trainer = FairContinualTrainer2(algorithm, params, callbacks=[metric_manager_callback])\n"
   ]
  },
  {
   "cell_type": "code",
   "execution_count": 7,
   "id": "3f782b02",
   "metadata": {},
   "outputs": [
    {
     "data": {
      "text/plain": [
       "torch.Size([3, 28, 28])"
      ]
     },
     "execution_count": 7,
     "metadata": {},
     "output_type": "execute_result"
    }
   ],
   "source": [
    "benchmark.trains[1][0][0].shape"
   ]
  },
  {
   "cell_type": "code",
   "execution_count": 8,
   "id": "8b8e3d98",
   "metadata": {},
   "outputs": [
    {
     "data": {
      "text/plain": [
       "<function mean at 0x7fe86428a0b0>"
      ]
     },
     "execution_count": 8,
     "metadata": {},
     "output_type": "execute_result"
    }
   ],
   "source": [
    "if params['fairness_agg'] == \"mean\":\n",
    "    agg = np.mean\n",
    "elif params['fairness_agg'] == \"max\":\n",
    "    agg = np.max\n",
    "else:\n",
    "    raise NotImplementedError\n",
    "\n",
    "metric_manager_callback.meters['multiclass_eo'].agg = agg\n",
    "metric_manager_callback.meters['multiclass_eo'].agg\n"
   ]
  },
  {
   "cell_type": "code",
   "execution_count": 9,
   "id": "b2eac756",
   "metadata": {},
   "outputs": [
    {
     "name": "stdout",
     "output_type": "stream",
     "text": [
      "---------------------------- Task 1 -----------------------\n"
     ]
    },
    {
     "name": "stdout",
     "output_type": "stream",
     "text": [
      "[1] Eval metrics for task 1 >> {'accuracy': 80.73811022206239, 'loss': 0.0024567958874623544, 'multiclass_eo': [0.2655601659751037, 0.5088028169014085], 'accuracy_s0': 100.0, 'accuracy_s1': 61.281850856174394, 'classwise_accuracy': {0: array([852, 980]), 1: array([ 846, 1135])}}\n",
      "training_task_end\n",
      "---------------------------- Task 2 -----------------------\n",
      "losses=tensor([[6.3783e-03, 9.6620e-04, 4.0494e+00, 2.8714e+00, 1.0421e+00, 1.2290e+00,\n",
      "         4.8000e+00, 5.2367e+00]])\n",
      "A_np.shape=(8, 10000)\n",
      "b_np.shape=(8,)\n",
      "### Scipy minsum LP solver ###\n",
      "Elapsed time:0.118\n",
      "Loss difference:[0.35890835 0.26762537 0.23151184 0.6440317  0.         0.\n",
      " 0.         0.        ]\n",
      "len(updated_seq_indices)=4355\n",
      "[2] Eval metrics for task 1 >> {'accuracy': 98.42308729659266, 'loss': 0.0003449792628028996, 'multiclass_eo': [0.014084507042253502, 0.045709810195137424], 'accuracy_s0': 99.8995983935743, 'accuracy_s1': 96.90988253170475, 'classwise_accuracy': {1: array([1127, 1135]), 0: array([956, 980])}}\n",
      "[2] Eval metrics for task 2 >> {'accuracy': 57.59833832220431, 'loss': 0.005741969670418077, 'multiclass_eo': [0.7655734071605931, 0.8499984288093517], 'accuracy_s0': 97.36361463243368, 'accuracy_s1': 16.585022833936446, 'classwise_accuracy': {2: array([ 587, 1032]), 3: array([ 589, 1010])}}\n",
      "training_task_end\n",
      "---------------------------- Task 3 -----------------------\n",
      "losses=tensor([[6.1165e-04, 2.0756e-03, 1.2668e-01, 1.8564e-01, 7.4703e+00, 7.6233e+00,\n",
      "         8.7229e-02, 6.0842e-02, 3.5003e+00, 2.4298e+00, 7.7289e+00, 8.0882e+00]])\n",
      "A_np.shape=(12, 10000)\n",
      "b_np.shape=(12,)\n",
      "### Scipy minsum LP solver ###\n",
      "Elapsed time:0.23\n",
      "Loss difference:[-0.02462493  0.01164307  0.47697652  0.15523814  0.11066676  0.12995552\n",
      "  0.          0.          0.          0.          0.          0.        ]\n",
      "len(updated_seq_indices)=7689\n",
      "[3] Eval metrics for task 1 >> {'accuracy': 95.39917288501303, 'loss': 0.0006651039770308961, 'multiclass_eo': [0.038723079216036904, 0.1001849722541619], 'accuracy_s0': 98.83183527761841, 'accuracy_s1': 91.88643270410847, 'classwise_accuracy': {1: array([1107, 1135]), 0: array([914, 980])}}\n",
      "[3] Eval metrics for task 2 >> {'accuracy': 90.37195870749866, 'loss': 0.0010638448184430891, 'multiclass_eo': [0.21065738616723761, 0.05434492706803351], 'accuracy_s0': 96.79644722000194, 'accuracy_s1': 83.54633155823838, 'classwise_accuracy': {3: array([ 885, 1010]), 2: array([ 961, 1032])}}\n",
      "[3] Eval metrics for task 3 >> {'accuracy': 61.94802407459837, 'loss': 0.006126327664773263, 'multiclass_eo': [0.6314239115963254, 0.8162641363323226], 'accuracy_s0': 96.95189513070308, 'accuracy_s1': 24.56749273427068, 'classwise_accuracy': {4: array([653, 982]), 5: array([512, 892])}}\n",
      "training_task_end\n",
      "---------------------------- Task 4 -----------------------\n",
      "losses=tensor([[5.3889e-03, 5.7162e-03, 1.3102e-02, 4.4223e-02, 7.2649e-02, 7.1275e-02,\n",
      "         7.3667e+00, 6.7886e+00, 3.1518e-02, 5.4917e-02, 8.3806e-02, 1.2785e-01,\n",
      "         2.3122e+00, 2.9658e+00, 9.7381e+00, 8.8145e+00]])\n",
      "A_np.shape=(16, 10000)\n",
      "b_np.shape=(16,)\n",
      "### Scipy minsum LP solver ###\n",
      "Elapsed time:0.149\n",
      "Loss difference:[-1.23446138e-02  2.19322589e-03  6.60839131e-02  4.10591916e-04\n",
      "  3.02543026e-01  3.26446802e-01  5.88745864e-01  4.31309733e-01\n",
      "  0.00000000e+00  0.00000000e+00  0.00000000e+00  0.00000000e+00\n",
      "  0.00000000e+00  0.00000000e+00 -9.06107780e-03  0.00000000e+00]\n",
      "len(updated_seq_indices)=8805\n",
      "[4] Eval metrics for task 1 >> {'accuracy': 90.31646138631663, 'loss': 0.001171926424858418, 'multiclass_eo': [0.15031078671532605, 0.1725258961174454], 'accuracy_s0': 98.32982724548988, 'accuracy_s1': 82.18799310385133, 'classwise_accuracy': {0: array([880, 980]), 1: array([1031, 1135])}}\n",
      "[4] Eval metrics for task 2 >> {'accuracy': 83.86061862000153, 'loss': 0.0019012791607218788, 'multiclass_eo': [0.2833799453225654, 0.1591393163966387], 'accuracy_s0': 94.68296891691006, 'accuracy_s1': 72.55700583094986, 'classwise_accuracy': {3: array([ 821, 1010]), 2: array([ 892, 1032])}}\n",
      "[4] Eval metrics for task 3 >> {'accuracy': 84.43838875544556, 'loss': 0.0015826717321239133, 'multiclass_eo': [0.25337005724936756, 0.2719857995544761], 'accuracy_s0': 97.11724496492708, 'accuracy_s1': 70.8494521247349, 'classwise_accuracy': {4: array([836, 982]), 5: array([747, 892])}}\n",
      "[4] Eval metrics for task 4 >> {'accuracy': 55.60272698472011, 'loss': 0.006180863245976535, 'multiclass_eo': [0.8368932038834951, 0.8718446601941747], 'accuracy_s0': 100.0, 'accuracy_s1': 14.563106796116504, 'classwise_accuracy': {7: array([ 597, 1028]), 6: array([509, 958])}}\n",
      "training_task_end\n",
      "---------------------------- Task 5 -----------------------\n",
      "losses=tensor([[2.8398e-03, 5.5889e-03, 7.0181e-03, 1.3019e-02, 1.6303e-02, 1.1960e-02,\n",
      "         5.3567e-02, 2.2498e-01, 9.4578e+00, 1.0888e+01, 7.1179e-02, 9.6691e-02,\n",
      "         1.0640e-01, 1.4736e-01, 2.4602e-01, 3.1199e-01, 3.1195e+00, 2.4151e+00,\n",
      "         1.0325e+01, 9.9601e+00]])\n",
      "A_np.shape=(20, 10000)\n",
      "b_np.shape=(20,)\n",
      "### Scipy minsum LP solver ###\n",
      "Elapsed time:0.058\n",
      "Loss difference:[ 0.07423083  0.0802389   0.06818639  0.06341002 -0.04989856  0.042035\n",
      "  0.24066279  0.11128235  0.13494085 -0.04232937  0.          0.\n",
      "  0.          0.          0.          0.          0.          0.\n",
      " -0.41614725 -0.65607732]\n",
      "len(updated_seq_indices)=10000\n",
      "[5] Eval metrics for task 1 >> {'accuracy': 92.51236177290299, 'loss': 0.001125638704773382, 'multiclass_eo': [0.11442109446804272, 0.09663550467429882], 'accuracy_s0': 97.75185397675357, 'accuracy_s1': 87.1990240196365, 'classwise_accuracy': {1: array([1060, 1135]), 0: array([898, 980])}}\n",
      "[5] Eval metrics for task 2 >> {'accuracy': 79.30625911428353, 'loss': 0.0030664906971134705, 'multiclass_eo': [0.34271596015460515, 0.11332158808746573], 'accuracy_s0': 90.38934166000583, 'accuracy_s1': 67.58746424790228, 'classwise_accuracy': {3: array([ 775, 1010]), 2: array([ 845, 1032])}}\n",
      "[5] Eval metrics for task 3 >> {'accuracy': 84.08151662663367, 'loss': 0.0022307839980120338, 'multiclass_eo': [0.23249234456131007, 0.2409399246732742], 'accuracy_s0': 95.50316636409352, 'accuracy_s1': 71.83155290236431, 'classwise_accuracy': {4: array([840, 982]), 5: array([737, 892])}}\n",
      "[5] Eval metrics for task 4 >> {'accuracy': 90.1755034402086, 'loss': 0.0014823937914282654, 'multiclass_eo': [0.13402879747528984, 0.19023070080811522], 'accuracy_s0': 98.5430720015489, 'accuracy_s1': 82.33009708737865, 'classwise_accuracy': {6: array([876, 958]), 7: array([ 914, 1028])}}\n",
      "[5] Eval metrics for task 5 >> {'accuracy': 63.605883801433905, 'loss': 0.004351226536841688, 'multiclass_eo': [0.6817248459958931, 0.7316385513743069], 'accuracy_s0': 98.41426214525643, 'accuracy_s1': 27.746092276746424, 'classwise_accuracy': {8: array([628, 974]), 9: array([ 633, 1009])}}\n",
      "training_task_end\n",
      "final avg-acc 81.93630495109254\n",
      "final avg-forget 4.33332431142917\n"
     ]
    }
   ],
   "source": [
    "trainer.run()\n",
    "print(\"final avg-acc\", metric_manager_callback.meters['accuracy'].compute_final())\n",
    "print(\"final avg-forget\", metric_manager_callback.meters['forgetting'].compute_final())"
   ]
  },
  {
   "cell_type": "code",
   "execution_count": 10,
   "id": "5ebde5d0",
   "metadata": {},
   "outputs": [
    {
     "data": {
      "text/plain": [
       "array([[80.738,  0.   ,  0.   ,  0.   ,  0.   ],\n",
       "       [98.423, 57.598,  0.   ,  0.   ,  0.   ],\n",
       "       [95.399, 90.372, 61.948,  0.   ,  0.   ],\n",
       "       [90.316, 83.861, 84.438, 55.603,  0.   ],\n",
       "       [92.512, 79.306, 84.082, 90.176, 63.606]])"
      ]
     },
     "execution_count": 10,
     "metadata": {},
     "output_type": "execute_result"
    }
   ],
   "source": [
    "metric_manager_callback.meters['accuracy'].get_data()"
   ]
  },
  {
   "cell_type": "code",
   "execution_count": null,
   "id": "fa1b0074",
   "metadata": {},
   "outputs": [
    {
     "data": {
      "text/plain": [
       "[94.781, 90.57, 89.316, 87.204, 84.87]"
      ]
     },
     "execution_count": 11,
     "metadata": {},
     "output_type": "execute_result"
    }
   ],
   "source": [
    "[np.round(x, 3) for x in metric_manager_callback.meters['accuracy'].compute_overall()]"
   ]
  },
  {
   "cell_type": "code",
   "execution_count": null,
   "id": "4e893eff",
   "metadata": {},
   "outputs": [
    {
     "data": {
      "text/plain": [
       "89.3481835003114"
      ]
     },
     "execution_count": 12,
     "metadata": {},
     "output_type": "execute_result"
    }
   ],
   "source": [
    "np.mean(metric_manager_callback.meters['accuracy'].compute_overall())"
   ]
  },
  {
   "cell_type": "code",
   "execution_count": null,
   "id": "b82bd073",
   "metadata": {},
   "outputs": [
    {
     "data": {
      "text/plain": [
       "[0.105, 0.146, 0.177, 0.165, 0.197]"
      ]
     },
     "execution_count": 13,
     "metadata": {},
     "output_type": "execute_result"
    }
   ],
   "source": [
    "[np.round(x, 3) for x in metric_manager_callback.meters['multiclass_eo'].compute_overall()]"
   ]
  },
  {
   "cell_type": "code",
   "execution_count": null,
   "id": "4a7973e4",
   "metadata": {},
   "outputs": [
    {
     "data": {
      "text/plain": [
       "0.15817295661807243"
      ]
     },
     "execution_count": 14,
     "metadata": {},
     "output_type": "execute_result"
    }
   ],
   "source": [
    "np.mean(metric_manager_callback.meters['multiclass_eo'].compute_overall())"
   ]
  },
  {
   "cell_type": "code",
   "execution_count": null,
   "id": "61271a48",
   "metadata": {},
   "outputs": [
    {
     "name": "stdout",
     "output_type": "stream",
     "text": [
      "task_id=2\n",
      "sensitive samples / all samples = 613 / 12089\n",
      "sensitive samples / selected samples = 415 / 704\n"
     ]
    }
   ],
   "source": [
    "task_id = 2\n",
    "\n",
    "print(f\"{task_id=}\")\n",
    "print(f\"sensitive samples / all samples = {(benchmark.trains[task_id].sensitives != benchmark.trains[task_id].targets).sum().item()} / {benchmark.trains[task_id].sensitives.shape[0]}\")\n",
    "\n",
    "updated_seq_indices = benchmark.seq_indices_train[task_id]\n",
    "print(f\"sensitive samples / selected samples = {(benchmark.trains[task_id].sensitives[updated_seq_indices] != benchmark.trains[task_id].targets[updated_seq_indices]).sum().item()} / {len(updated_seq_indices)}\")\n"
   ]
  },
  {
   "cell_type": "code",
   "execution_count": null,
   "id": "b32febda",
   "metadata": {},
   "outputs": [
    {
     "name": "stdout",
     "output_type": "stream",
     "text": [
      "incremental_step=2\n",
      "2 : 5958 --> 1238\n",
      "3 : 6131 --> 1554\n",
      "incremental_step=3\n",
      "4 : 5842 --> 1410\n",
      "5 : 5421 --> 1921\n",
      "incremental_step=4\n",
      "6 : 5918 --> 1653\n",
      "7 : 6265 --> 1590\n",
      "incremental_step=5\n",
      "8 : 5851 --> 1666\n",
      "9 : 5949 --> 2019\n"
     ]
    }
   ],
   "source": [
    "step_class = 2\n",
    "for i in range(2, 6):\n",
    "    incremental_step = i\n",
    "    print(f\"{incremental_step=}\")\n",
    "    one_idx = benchmark.trains[incremental_step].sample_weight > 0.9\n",
    "\n",
    "    print(f\"{2*i-2} : {(benchmark.trains[incremental_step].targets == (2*i-2)).sum().item()} --> {(benchmark.trains[incremental_step].targets[one_idx] == (2*i-2)).sum().item()}\")\n",
    "    print(f\"{2*i-1} : {(benchmark.trains[incremental_step].targets == (2*i-1)).sum().item()} --> {(benchmark.trains[incremental_step].targets[one_idx] == (2*i-1)).sum().item()}\")\n"
   ]
  },
  {
   "cell_type": "code",
   "execution_count": null,
   "id": "0880e76a",
   "metadata": {},
   "outputs": [
    {
     "name": "stdout",
     "output_type": "stream",
     "text": [
      "0.046 0.164 \n",
      "0.108 0.065 0.062 0.35 \n",
      "0.113 0.083 0.212 0.104 0.152 0.402 \n",
      "0.13 0.117 0.208 0.145 0.202 0.214 0.114 0.19 \n",
      "0.186 0.123 0.125 0.268 0.281 0.236 0.212 0.134 0.15 0.259 \n"
     ]
    }
   ],
   "source": [
    "for eos in metric_manager_callback.meters['multiclass_eo'].get_data():\n",
    "    for eo in eos:\n",
    "        print(round(eo, 3),end=\" \")\n",
    "    print()"
   ]
  },
  {
   "cell_type": "code",
   "execution_count": null,
   "id": "f6233f9b",
   "metadata": {},
   "outputs": [
    {
     "data": {
      "text/plain": [
       "[{0: array([958, 980]), 1: array([1042, 1135])},\n",
       " {0: array([914, 980]),\n",
       "  1: array([1092, 1135]),\n",
       "  3: array([ 980, 1010]),\n",
       "  2: array([ 782, 1032])},\n",
       " {0: array([906, 980]),\n",
       "  1: array([1080, 1135]),\n",
       "  3: array([ 873, 1010]),\n",
       "  2: array([ 945, 1032]),\n",
       "  4: array([906, 982]),\n",
       "  5: array([696, 892])},\n",
       " {1: array([1043, 1135]),\n",
       "  0: array([886, 980]),\n",
       "  3: array([ 848, 1010]),\n",
       "  2: array([ 855, 1032]),\n",
       "  5: array([752, 892]),\n",
       "  4: array([843, 982]),\n",
       "  7: array([ 943, 1028]),\n",
       "  6: array([830, 958])},\n",
       " {0: array([865, 980]),\n",
       "  1: array([1037, 1135]),\n",
       "  2: array([ 847, 1032]),\n",
       "  3: array([ 723, 1010]),\n",
       "  4: array([791, 982]),\n",
       "  5: array([743, 892]),\n",
       "  7: array([ 891, 1028]),\n",
       "  6: array([863, 958]),\n",
       "  8: array([885, 974]),\n",
       "  9: array([ 847, 1009])}]"
      ]
     },
     "execution_count": 19,
     "metadata": {},
     "output_type": "execute_result"
    }
   ],
   "source": [
    "metric_manager_callback.meters['classwise_accuracy'].get_data()"
   ]
  }
 ],
 "metadata": {
  "kernelspec": {
   "display_name": "cil",
   "language": "python",
   "name": "python3"
  },
  "language_info": {
   "codemirror_mode": {
    "name": "ipython",
    "version": 3
   },
   "file_extension": ".py",
   "mimetype": "text/x-python",
   "name": "python",
   "nbconvert_exporter": "python",
   "pygments_lexer": "ipython3",
   "version": "3.9.18"
  }
 },
 "nbformat": 4,
 "nbformat_minor": 5
}
