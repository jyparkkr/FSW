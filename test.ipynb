{
 "cells": [
  {
   "cell_type": "code",
   "execution_count": 30,
   "metadata": {},
   "outputs": [
    {
     "ename": "OSError",
     "evalue": "did not find file '/mnt/shared/jaeyoung/cl_gym/solid_angle_code/logging.sage' to load or attach",
     "output_type": "error",
     "traceback": [
      "\u001b[0;31m---------------------------------------------------------------------------\u001b[0m",
      "\u001b[0;31mOSError\u001b[0m                                   Traceback (most recent call last)",
      "Cell \u001b[0;32mIn[30], line 4\u001b[0m\n\u001b[1;32m      1\u001b[0m \u001b[38;5;28;01mfrom\u001b[39;00m \u001b[38;5;21;01msage\u001b[39;00m\u001b[38;5;21;01m.\u001b[39;00m\u001b[38;5;21;01mall_cmdline\u001b[39;00m \u001b[38;5;28;01mimport\u001b[39;00m \u001b[38;5;241m*\u001b[39m   \u001b[38;5;66;03m# import sage library\u001b[39;00m\n\u001b[1;32m      3\u001b[0m \u001b[38;5;66;03m# from solid_angle_code.solid_angle_sage import *\u001b[39;00m\n\u001b[0;32m----> 4\u001b[0m \u001b[38;5;28;01mfrom\u001b[39;00m \u001b[38;5;21;01msolid_angle_code\u001b[39;00m\u001b[38;5;21;01m.\u001b[39;00m\u001b[38;5;21;01msolid_angle_sage\u001b[39;00m \u001b[38;5;28;01mimport\u001b[39;00m solid_angle_general, solid_angle_2d, solid_angle_3d\n\u001b[1;32m      5\u001b[0m \u001b[38;5;28;01mimport\u001b[39;00m \u001b[38;5;21;01mtime\u001b[39;00m\n\u001b[1;32m      6\u001b[0m \u001b[38;5;28;01mimport\u001b[39;00m \u001b[38;5;21;01mnumpy\u001b[39;00m \u001b[38;5;28;01mas\u001b[39;00m \u001b[38;5;21;01mnp\u001b[39;00m\n",
      "File \u001b[0;32m/mnt/shared/jaeyoung/FSSCIL/solid_angle_code/solid_angle_sage.py:8\u001b[0m\n\u001b[1;32m      6\u001b[0m _sage_const_2 \u001b[38;5;241m=\u001b[39m Integer(\u001b[38;5;241m2\u001b[39m); _sage_const_0 \u001b[38;5;241m=\u001b[39m Integer(\u001b[38;5;241m0\u001b[39m); _sage_const_1 \u001b[38;5;241m=\u001b[39m Integer(\u001b[38;5;241m1\u001b[39m); _sage_const_3 \u001b[38;5;241m=\u001b[39m Integer(\u001b[38;5;241m3\u001b[39m); _sage_const_4 \u001b[38;5;241m=\u001b[39m Integer(\u001b[38;5;241m4\u001b[39m); _sage_const_1en6 \u001b[38;5;241m=\u001b[39m RealNumber(\u001b[38;5;124m'\u001b[39m\u001b[38;5;124m1e-6\u001b[39m\u001b[38;5;124m'\u001b[39m); _sage_const_100 \u001b[38;5;241m=\u001b[39m Integer(\u001b[38;5;241m100\u001b[39m); _sage_const_0p5 \u001b[38;5;241m=\u001b[39m RealNumber(\u001b[38;5;124m'\u001b[39m\u001b[38;5;124m0.5\u001b[39m\u001b[38;5;124m'\u001b[39m)\u001b[38;5;66;03m# load(\"~/ma611-code/logging.sage\")\u001b[39;00m\n\u001b[1;32m      7\u001b[0m \u001b[38;5;28;01mimport\u001b[39;00m \u001b[38;5;21;01mos\u001b[39;00m\n\u001b[0;32m----> 8\u001b[0m \u001b[43mload\u001b[49m\u001b[43m(\u001b[49m\u001b[43mos\u001b[49m\u001b[38;5;241;43m.\u001b[39;49m\u001b[43mpath\u001b[49m\u001b[38;5;241;43m.\u001b[39;49m\u001b[43mjoin\u001b[49m\u001b[43m(\u001b[49m\u001b[38;5;124;43m\"\u001b[39;49m\u001b[38;5;124;43m/mnt/shared/jaeyoung/cl_gym\u001b[39;49m\u001b[38;5;124;43m\"\u001b[39;49m\u001b[43m,\u001b[49m\u001b[43m \u001b[49m\u001b[38;5;124;43m\"\u001b[39;49m\u001b[38;5;124;43msolid_angle_code/logging.sage\u001b[39;49m\u001b[38;5;124;43m\"\u001b[39;49m\u001b[43m)\u001b[49m\u001b[43m)\u001b[49m\n\u001b[1;32m      9\u001b[0m logging\u001b[38;5;241m.\u001b[39mgetLogger()\u001b[38;5;241m.\u001b[39msetLevel(logging\u001b[38;5;241m.\u001b[39mWARNING)\n\u001b[1;32m     12\u001b[0m \u001b[38;5;66;03m# **********************************************************\u001b[39;00m\n\u001b[1;32m     13\u001b[0m \u001b[38;5;66;03m#         Formulas for 2d and 3d simplicial cones\u001b[39;00m\n\u001b[1;32m     14\u001b[0m \u001b[38;5;66;03m# **********************************************************\u001b[39;00m\n",
      "File \u001b[0;32m~/anaconda3/envs/cil/lib/python3.9/site-packages/sage/misc/persist.pyx:175\u001b[0m, in \u001b[0;36msage.misc.persist.load (build/cythonized/sage/misc/persist.c:2697)\u001b[0;34m()\u001b[0m\n\u001b[1;32m    173\u001b[0m \n\u001b[1;32m    174\u001b[0m     if sage.repl.load.is_loadable_filename(filename):\n\u001b[0;32m--> 175\u001b[0m         sage.repl.load.load(filename, globals())\n\u001b[1;32m    176\u001b[0m         return\n\u001b[1;32m    177\u001b[0m \n",
      "File \u001b[0;32m~/anaconda3/envs/cil/lib/python3.9/site-packages/sage/repl/load.py:244\u001b[0m, in \u001b[0;36mload\u001b[0;34m(filename, globals, attach)\u001b[0m\n\u001b[1;32m    242\u001b[0m         \u001b[38;5;28;01mbreak\u001b[39;00m\n\u001b[1;32m    243\u001b[0m \u001b[38;5;28;01melse\u001b[39;00m:\n\u001b[0;32m--> 244\u001b[0m     \u001b[38;5;28;01mraise\u001b[39;00m \u001b[38;5;167;01mIOError\u001b[39;00m(\u001b[38;5;124m'\u001b[39m\u001b[38;5;124mdid not find file \u001b[39m\u001b[38;5;132;01m%r\u001b[39;00m\u001b[38;5;124m to load or attach\u001b[39m\u001b[38;5;124m'\u001b[39m \u001b[38;5;241m%\u001b[39m filename)\n\u001b[1;32m    246\u001b[0m ext \u001b[38;5;241m=\u001b[39m os\u001b[38;5;241m.\u001b[39mpath\u001b[38;5;241m.\u001b[39msplitext(fpath)[\u001b[38;5;241m1\u001b[39m]\u001b[38;5;241m.\u001b[39mlower()\n\u001b[1;32m    247\u001b[0m \u001b[38;5;28;01mif\u001b[39;00m ext \u001b[38;5;241m==\u001b[39m \u001b[38;5;124m'\u001b[39m\u001b[38;5;124m.py\u001b[39m\u001b[38;5;124m'\u001b[39m:\n",
      "\u001b[0;31mOSError\u001b[0m: did not find file '/mnt/shared/jaeyoung/cl_gym/solid_angle_code/logging.sage' to load or attach"
     ]
    }
   ],
   "source": [
    "from sage.all_cmdline import *   # import sage library\n",
    "\n",
    "# from solid_angle_code.solid_angle_sage import *\n",
    "from solid_angle_code.solid_angle_sage import solid_angle_general, solid_angle_2d, solid_angle_3d\n",
    "import time\n",
    "import numpy as np\n",
    "import random\n",
    "\n",
    "SEED = 2\n",
    "SF = 1\n",
    "\n",
    "seed = SEED\n",
    "np.random.seed(SEED)\n",
    "np.random.seed(seed)\n",
    "random.seed(seed)\n",
    "# torch.manual_seed(seed)\n",
    "# torch.cuda.manual_seed_all(seed)\n",
    "# torch.manual_seed(seed)\n",
    "# torch.backends.cudnn.deterministic = True\n",
    "# torch.backends.cudnn.benchmark = False\n",
    "# torch.backends.cudnn.enabled = False\n",
    "\n",
    "sf = SF "
   ]
  },
  {
   "cell_type": "code",
   "execution_count": null,
   "metadata": {},
   "outputs": [],
   "source": []
  },
  {
   "cell_type": "code",
   "execution_count": null,
   "metadata": {},
   "outputs": [
    {
     "name": "stderr",
     "output_type": "stream",
     "text": [
      "WARNING: Associated matrix NOT positive definite, series NOT converge\n"
     ]
    },
    {
     "name": "stdout",
     "output_type": "stream",
     "text": [
      "vector dim: 4, number of vector: 4\n",
      "ray=array([[ -4,  -1, -21,  16],\n",
      "       [-18,  -8,   5, -12],\n",
      "       [-11,  -9,   6,  23],\n",
      "       [  0, -11,   5,  -6]])\n"
     ]
    },
    {
     "name": "stderr",
     "output_type": "stream",
     "text": [
      "WARNING: Associated matrix NOT positive definite, series NOT converge\n"
     ]
    },
    {
     "name": "stdout",
     "output_type": "stream",
     "text": [
      " ## solid angle(deg=20): 0.04012700973195804\n",
      "Time to measure solid angle : 4.34\n"
     ]
    },
    {
     "name": "stderr",
     "output_type": "stream",
     "text": [
      "WARNING: Associated matrix NOT positive definite, series NOT converge\n"
     ]
    },
    {
     "name": "stdout",
     "output_type": "stream",
     "text": [
      " ## solid angle(deg=40): 0.04012700973195804\n",
      "Time to measure solid angle : 4.11\n"
     ]
    },
    {
     "name": "stderr",
     "output_type": "stream",
     "text": [
      "WARNING: Associated matrix NOT positive definite, series NOT converge\n"
     ]
    },
    {
     "name": "stdout",
     "output_type": "stream",
     "text": [
      " ## solid angle(deg=80): 0.04012700973195804\n",
      "Time to measure solid angle : 4.11\n",
      " ## solid angle(deg=160): 0.04012700973195804\n",
      "Time to measure solid angle : 8.19\n",
      "\n"
     ]
    }
   ],
   "source": [
    "result1_20, result1_40, result1_80, result1_160, = list(), list(), list(), list(), \n",
    "size_list = [2, 3, 4, 8, 16, 32, 64, 128, 256, 512]\n",
    "size_list = [4]\n",
    "cone_list1 = []\n",
    "for s in size_list:\n",
    "    print(f\"vector dim: {s}, number of vector: {s}\")\n",
    "    start = time.time()\n",
    "    ray = np.round(np.random.normal(size=[s, s]), sf)*10**sf\n",
    "    ray = np.asarray(ray, dtype=int)\n",
    "    cone_list1.append(ray)\n",
    "    print(f\"{ray=}\")\n",
    "    A = matrix(ray)\n",
    "    start = time.time()\n",
    "    a = solid_angle_general(A, deg=20)\n",
    "    print(f\" ## solid angle(deg=20): {a}\")\n",
    "    result1_20.append(a)\n",
    "    solid_angle_time = time.time()\n",
    "    print(f\"Time to measure solid angle : {round(solid_angle_time - start, 2)}\")\n",
    "    start = time.time()\n",
    "    b = solid_angle_general(A, deg=40)\n",
    "    print(f\" ## solid angle(deg=40): {b}\")\n",
    "    result1_40.append(b)\n",
    "    solid_angle_time = time.time()\n",
    "    print(f\"Time to measure solid angle : {round(solid_angle_time - start, 2)}\")\n",
    "    start = time.time()\n",
    "    c = solid_angle_general(A, deg=80)\n",
    "    print(f\" ## solid angle(deg=80): {c}\")\n",
    "    result1_80.append(c)\n",
    "    solid_angle_time = time.time()\n",
    "    print(f\"Time to measure solid angle : {round(solid_angle_time - start, 2)}\")\n",
    "    d = solid_angle_general(A, deg=160)\n",
    "    print(f\" ## solid angle(deg=160): {d}\")\n",
    "    result1_160.append(d)\n",
    "    solid_angle_time = time.time()\n",
    "    print(f\"Time to measure solid angle : {round(solid_angle_time - start, 2)}\")\n",
    "    print()\n",
    "\n"
   ]
  },
  {
   "cell_type": "code",
   "execution_count": null,
   "metadata": {},
   "outputs": [
    {
     "name": "stderr",
     "output_type": "stream",
     "text": [
      "WARNING: Associated matrix NOT positive definite, series NOT converge\n"
     ]
    },
    {
     "name": "stdout",
     "output_type": "stream",
     "text": [
      "vector dim: 2, number of vector: 2\n",
      "ray=array([[ 0, 12],\n",
      "       [-7,  0]])\n",
      " ## solid angle(deg=20): 0.25000000000000006\n",
      "Time to measure solid angle : 0.01\n",
      "\n",
      "vector dim: 3, number of vector: 3\n",
      "ray=array([[ -9,  -2,   3],\n",
      "       [-10,  -3,  -2],\n",
      "       [ -6, -12, -14]])\n",
      " ## solid angle(deg=20): 0.038242452344209435\n",
      "Time to measure solid angle : 0.04\n",
      "\n",
      "vector dim: 4, number of vector: 4\n",
      "ray=array([[ -2,  -3,  22, -24],\n",
      "       [  1,   4,  14,   5],\n",
      "       [ -8,   0,   5,  -3],\n",
      "       [  8, -19,  17,  15]])\n"
     ]
    },
    {
     "name": "stderr",
     "output_type": "stream",
     "text": [
      "WARNING: Associated matrix NOT positive definite, series NOT converge\n"
     ]
    },
    {
     "name": "stdout",
     "output_type": "stream",
     "text": [
      " ## solid angle(deg=20): 0.024470409880112853\n",
      "Time to measure solid angle : 1.21\n",
      "\n",
      "vector dim: 8, number of vector: 8\n",
      "ray=array([[ -3,   6,   0,  -8,   1,  10,  -4,  -4],\n",
      "       [ -1,   4,  13,  -6,   5,   2, -19,  -4],\n",
      "       [ -1,   0,   3, -20,   0,  -7, -14,   5],\n",
      "       [  7,  -7,   8,  -4,   1, -11,  16, -27],\n",
      "       [ -1,   7, -20,  -2,  -1,   8,  12,  -4],\n",
      "       [-14,  14,  12,  -5,   4,   4,   6,   2],\n",
      "       [ 14, -17,  10,   4,  -2,  12, -23,  12],\n",
      "       [  4, -11,   4,  -3,  26,  18,   4,  -7]])\n"
     ]
    },
    {
     "name": "stderr",
     "output_type": "stream",
     "text": [
      "WARNING: Associated matrix NOT positive definite, series NOT converge\n",
      "WARNING: Associated matrix NOT positive definite, series NOT converge\n"
     ]
    },
    {
     "name": "stdout",
     "output_type": "stream",
     "text": [
      " ## solid angle(deg=20): 0.00030109726356532235\n",
      "Time to measure solid angle : 226066.6\n",
      "\n",
      "vector dim: 16, number of vector: 16\n",
      "ray=array([[ -6,  -3,  -6,  -9,  -6,  -3,  -5,  -7,  -9,  26, -15, -10,   4,\n",
      "         -3,   4,   8],\n",
      "       [ 13,   8, -10,  11, -18,  -1,  -5, -11,   6,  -2,  10, -15,   8,\n",
      "          5,   1, -14],\n",
      "       [ -3, -15, -21,  33,  10,  18,  -4,   7,   7,   6,   0,  -2, -21,\n",
      "          6,   4,  11],\n",
      "       [ -3,  17,  -4, -13,   9,  -5, -13,   1,   8,   2,   5,  41,   8,\n",
      "         15, -20,   4],\n",
      "       [  8,  -4,  -9,   4,  -3,  -6,  11,  13,   3,  -5,   5,   8,   6,\n",
      "        -15,  -3,   4],\n",
      "       [  6,  10,   8, -11,  -7, -12,  18,   2,   6,  10,  -3, -12,  -4,\n",
      "         -1,  15,   9],\n",
      "       [-11,   7,   7, -11,  -1, -19,   3,  -3, -14,  -7,   2,  -6,   3,\n",
      "          6,  -8,  -3],\n",
      "       [ 21,   1,  -8,   1, -13,  11,   4,  11,   9,   4,  10,   2,  -7,\n",
      "        -10,  -4, -25],\n",
      "       [ 18, -17,  -1, -13, -20,  -1,  -3,  -2,   5,  -6,   4,   5,  -3,\n",
      "         -3,   5,   1],\n",
      "       [  2, -24,   1,   4,  -1,   3,  19,   1,   7,  -8,  -9,  -5, -10,\n",
      "          0,  -9,  -2],\n",
      "       [-14, -17,  -7, -11,  -7,  -6,  -4,  10,  14,   7,  -4,  15, -15,\n",
      "        -20,   3,   0],\n",
      "       [ -1,   0, -16, -12,  12,  10,  -7,  19, -11,  -6,   3, -12,  -5,\n",
      "         -2,  -4,   9],\n",
      "       [  6, -11,  -7,   2,  -1,  -8,   4,   8,  -6,   8, -16, -16,   5,\n",
      "         -8, -10,  -3],\n",
      "       [ -7,   3, -15,  -4,  32,   1, -19,   6,   5,  14,   1,  -7,  14,\n",
      "          7, -18,   7],\n",
      "       [ -2,  11,  -4,   8,   2,   6,   0,  -4,   1,   6,   4,  16,   4,\n",
      "          6,  21,   1],\n",
      "       [  5,  -6,   0,  16,   3,  15, -11, -14,   3, -14,  27,  12, -12,\n",
      "         -2,  -6,   4]])\n",
      " ## solid angle(deg=20): 2.3104759575650814e-08\n",
      "Time to measure solid angle : 0.04\n",
      "\n",
      "vector dim: 32, number of vector: 32\n",
      "ray=array([[ -1,   9,  15, ...,  16,   7,  -2],\n",
      "       [  1,  -1,   8, ...,  -5,   2,  -3],\n",
      "       [  3,  12,   0, ...,  -2, -12,  -7],\n",
      "       ...,\n",
      "       [-17,  11,   7, ...,   6,   0,  10],\n",
      "       [  1,  -5,  15, ...,  14,  -2,  -2],\n",
      "       [ -4, -21,  -2, ..., -22, -22,   3]])\n",
      " ## solid angle(deg=20): 5.3331563818696894e-18\n",
      "Time to measure solid angle : 0.16\n",
      "\n",
      "vector dim: 64, number of vector: 64\n",
      "ray=array([[-13,   6,  -2, ...,   7, -12,   5],\n",
      "       [ -1,   5,  -1, ...,  -5, -16,  11],\n",
      "       [ -1,   1,  -9, ...,  13,  -4,  19],\n",
      "       ...,\n",
      "       [-17,   9,  -7, ...,  -2,  -7,  11],\n",
      "       [ 19,  -6, -15, ..., -13, -22,  11],\n",
      "       [  7,   4, -13, ..., -16,   2,  -2]])\n"
     ]
    },
    {
     "name": "stderr",
     "output_type": "stream",
     "text": [
      "WARNING: Associated matrix NOT positive definite, series NOT converge\n"
     ]
    },
    {
     "name": "stdout",
     "output_type": "stream",
     "text": [
      " ## solid angle(deg=20): 1.2034325390335816e-34\n",
      "Time to measure solid angle : 0.82\n",
      "\n",
      "vector dim: 128, number of vector: 128\n",
      "ray=array([[ -9,   6,   6, ...,  12,  -4,  -4],\n",
      "       [  8,  -2,  14, ..., -15,  13, -10],\n",
      "       [-10,  -3,   1, ...,  18, -11,  -8],\n",
      "       ...,\n",
      "       [  2,  25,  -2, ...,   4,   7,  -8],\n",
      "       [  4,   2,  -3, ...,  -4,  -2,  20],\n",
      "       [ 11,   0,   8, ...,  13,  28, -16]])\n"
     ]
    },
    {
     "name": "stderr",
     "output_type": "stream",
     "text": [
      "WARNING: Associated matrix NOT positive definite, series NOT converge\n"
     ]
    },
    {
     "name": "stdout",
     "output_type": "stream",
     "text": [
      " ## solid angle(deg=20): 2.943943200718048e-67\n",
      "Time to measure solid angle : 6.96\n",
      "\n",
      "vector dim: 256, number of vector: 256\n",
      "ray=array([[ -1,   5, -10, ...,  -6, -24,  -7],\n",
      "       [ -2,  11,   1, ...,  -4,   1, -14],\n",
      "       [ -9,  -2,  -2, ...,   0, -24,  -3],\n",
      "       ...,\n",
      "       [  3,   0,   5, ...,   8,   5,   2],\n",
      "       [  9,  -4,   1, ...,   4, -20,   7],\n",
      "       [  0, -16,  12, ...,   3,   3,  -3]])\n"
     ]
    },
    {
     "name": "stderr",
     "output_type": "stream",
     "text": [
      "WARNING: Associated matrix NOT positive definite, series NOT converge\n"
     ]
    },
    {
     "name": "stdout",
     "output_type": "stream",
     "text": [
      " ## solid angle(deg=20): 2.2303593571364295e-135\n",
      "Time to measure solid angle : 88.6\n",
      "\n",
      "vector dim: 512, number of vector: 512\n",
      "ray=array([[-19,   7,   2, ...,   6, -17,   6],\n",
      "       [ -6,  -2, -24, ...,   8, -16,  -1],\n",
      "       [-18,  22,  14, ..., -14,  -1,  -8],\n",
      "       ...,\n",
      "       [ -8,  12,  -5, ..., -17,  16, -21],\n",
      "       [ -5,   0,  -8, ...,   1,   7,  -2],\n",
      "       [-18,  13,  21, ...,  -3,   7,  17]])\n"
     ]
    },
    {
     "name": "stderr",
     "output_type": "stream",
     "text": [
      "WARNING: Associated matrix NOT positive definite, series NOT converge\n"
     ]
    },
    {
     "name": "stdout",
     "output_type": "stream",
     "text": [
      " ## solid angle(deg=20): 0.0\n",
      "Time to measure solid angle : 1605.83\n",
      "\n"
     ]
    }
   ],
   "source": [
    "result2_20, result2_40, result2_80, result2_160, = list(), list(), list(), list(), \n",
    "size_list = [2, 3, 4, 8, 16, 32, 64, 128, 256, 512]\n",
    "# size_list = [8]\n",
    "cone_list1 = []\n",
    "for s in size_list:\n",
    "    print(f\"vector dim: {s}, number of vector: {s}\")\n",
    "    start = time.time()\n",
    "    ray = np.round(np.random.normal(size=[s, s]), sf)*10**sf\n",
    "    ray = np.asarray(ray, dtype=int)\n",
    "    cone_list1.append(ray)\n",
    "    print(f\"{ray=}\")\n",
    "    A = matrix(ray)\n",
    "    start = time.time()\n",
    "    a = solid_angle_general(A, deg=10)\n",
    "    print(f\" ## solid angle(deg=10): {a}\")\n",
    "    result2_20.append(a)\n",
    "    solid_angle_time = time.time()\n",
    "    print(f\"Time to measure solid angle : {round(solid_angle_time - start, 2)}\")\n",
    "    # start = time.time()\n",
    "    # b = solid_angle_general(A, deg=40)\n",
    "    # print(f\" ## solid angle(deg=40): {b}\")\n",
    "    # result2_40.append(b)\n",
    "    # solid_angle_time = time.time()\n",
    "    # print(f\"Time to measure solid angle : {round(solid_angle_time - start, 2)}\")\n",
    "    # start = time.time()\n",
    "    # c = solid_angle_general(A, deg=80)\n",
    "    # print(f\" ## solid angle(deg=80): {c}\")\n",
    "    # result2_80.append(bc)\n",
    "    # solid_angle_time = time.time()\n",
    "    # print(f\"Time to measure solid angle : {round(solid_angle_time - start, 2)}\")\n",
    "    # d = solid_angle_general(A, deg=160)\n",
    "    # print(f\" ## solid angle(deg=160): {d}\")\n",
    "    # result2_160.append(d)\n",
    "    # solid_angle_time = time.time()\n",
    "    # print(f\"Time to measure solid angle : {round(solid_angle_time - start, 2)}\")\n",
    "    print()\n",
    "\n"
   ]
  },
  {
   "cell_type": "code",
   "execution_count": null,
   "metadata": {},
   "outputs": [
    {
     "name": "stdout",
     "output_type": "stream",
     "text": [
      "vector dim: 2, number of vector: 2\n",
      "Time to define dual: 0.05\n",
      "\n",
      "vector dim: 4, number of vector: 4\n",
      "Time to define dual: 0.01\n",
      "\n",
      "vector dim: 8, number of vector: 8\n",
      "Time to define dual: 0.03\n",
      "\n",
      "vector dim: 16, number of vector: 16\n",
      "Time to define dual: 0.03\n",
      "\n",
      "vector dim: 32, number of vector: 32\n",
      "Time to define dual: 0.13\n",
      "\n",
      "vector dim: 64, number of vector: 64\n",
      "Time to define dual: 0.75\n",
      "\n",
      "vector dim: 128, number of vector: 128\n",
      "Time to define dual: 5.45\n",
      "\n",
      "vector dim: 256, number of vector: 256\n",
      "Time to define dual: 89.67\n"
     ]
    },
    {
     "name": "stderr",
     "output_type": "stream",
     "text": [
      "/tmp/ipykernel_475133/3542891929.py:18: RuntimeWarning: divide by zero encountered in divide\n",
      "  dc_ray = dc_ray/np.std(dc_ray)\n",
      "/tmp/ipykernel_475133/3542891929.py:18: RuntimeWarning: invalid value encountered in divide\n",
      "  dc_ray = dc_ray/np.std(dc_ray)\n"
     ]
    },
    {
     "ename": "ValueError",
     "evalue": "cannot convert float NaN to integer",
     "output_type": "error",
     "traceback": [
      "\u001b[0;31m---------------------------------------------------------------------------\u001b[0m",
      "\u001b[0;31mValueError\u001b[0m                                Traceback (most recent call last)",
      "\u001b[1;32m/home/jaeyoung/nas/cl_gym/test.ipynb Cell 5\u001b[0m line \u001b[0;36m2\n\u001b[1;32m     <a href='vscode-notebook-cell://ssh-remote%2Bdi5.kaist.ac.kr/home/jaeyoung/nas/cl_gym/test.ipynb#W4sdnNjb2RlLXJlbW90ZQ%3D%3D?line=20'>21</a>\u001b[0m     \u001b[39mfor\u001b[39;00m j, e \u001b[39min\u001b[39;00m \u001b[39menumerate\u001b[39m(ray):\n\u001b[1;32m     <a href='vscode-notebook-cell://ssh-remote%2Bdi5.kaist.ac.kr/home/jaeyoung/nas/cl_gym/test.ipynb#W4sdnNjb2RlLXJlbW90ZQ%3D%3D?line=21'>22</a>\u001b[0m         dc_ray_r[i, j] \u001b[39m=\u001b[39m np\u001b[39m.\u001b[39mround(\u001b[39mfloat\u001b[39m(e), \u001b[39m4\u001b[39m)\u001b[39m*\u001b[39m\u001b[39m1e4\u001b[39m\n\u001b[0;32m---> <a href='vscode-notebook-cell://ssh-remote%2Bdi5.kaist.ac.kr/home/jaeyoung/nas/cl_gym/test.ipynb#W4sdnNjb2RlLXJlbW90ZQ%3D%3D?line=22'>23</a>\u001b[0m dc_ray_r \u001b[39m=\u001b[39m np\u001b[39m.\u001b[39;49masarray(dc_ray_r, dtype\u001b[39m=\u001b[39;49m\u001b[39mint\u001b[39;49m)\n\u001b[1;32m     <a href='vscode-notebook-cell://ssh-remote%2Bdi5.kaist.ac.kr/home/jaeyoung/nas/cl_gym/test.ipynb#W4sdnNjb2RlLXJlbW90ZQ%3D%3D?line=23'>24</a>\u001b[0m dc_ray_list\u001b[39m.\u001b[39mappend(dc_ray_r)\n\u001b[1;32m     <a href='vscode-notebook-cell://ssh-remote%2Bdi5.kaist.ac.kr/home/jaeyoung/nas/cl_gym/test.ipynb#W4sdnNjb2RlLXJlbW90ZQ%3D%3D?line=25'>26</a>\u001b[0m \u001b[39m# A = matrix(dc_ray_r)\u001b[39;00m\n\u001b[1;32m     <a href='vscode-notebook-cell://ssh-remote%2Bdi5.kaist.ac.kr/home/jaeyoung/nas/cl_gym/test.ipynb#W4sdnNjb2RlLXJlbW90ZQ%3D%3D?line=26'>27</a>\u001b[0m \u001b[39m# dual_ray_time = time.time()\u001b[39;00m\n\u001b[1;32m     <a href='vscode-notebook-cell://ssh-remote%2Bdi5.kaist.ac.kr/home/jaeyoung/nas/cl_gym/test.ipynb#W4sdnNjb2RlLXJlbW90ZQ%3D%3D?line=27'>28</a>\u001b[0m \u001b[39m# # print(f\"Time to get dual basis : {round(dual_ray_time - start, 2)}\")\u001b[39;00m\n\u001b[0;32m   (...)\u001b[0m\n\u001b[1;32m     <a href='vscode-notebook-cell://ssh-remote%2Bdi5.kaist.ac.kr/home/jaeyoung/nas/cl_gym/test.ipynb#W4sdnNjb2RlLXJlbW90ZQ%3D%3D?line=32'>33</a>\u001b[0m \u001b[39m# solid_angle_time = time.time()\u001b[39;00m\n\u001b[1;32m     <a href='vscode-notebook-cell://ssh-remote%2Bdi5.kaist.ac.kr/home/jaeyoung/nas/cl_gym/test.ipynb#W4sdnNjb2RlLXJlbW90ZQ%3D%3D?line=33'>34</a>\u001b[0m \u001b[39m# print(f\"Time to measure solid angle : {round(solid_angle_time - start, 2)}\")\u001b[39;00m\n",
      "\u001b[0;31mValueError\u001b[0m: cannot convert float NaN to integer"
     ]
    }
   ],
   "source": [
    "result = list()\n",
    "size_list = [2, 4, 8, 16, 32, 64, 128, 256, 512]\n",
    "cone_list, dual_cone_list, dc_ray_list,  = [], [], []\n",
    "for s in size_list:\n",
    "    print(f\"vector dim: {s}, number of vector: {s}\")\n",
    "    start = time.time()\n",
    "    ray = np.round(np.random.normal(size=[s, s]), sf)*10**sf\n",
    "    ray = np.asarray(ray, dtype=int)\n",
    "    cone = Cone(ray, normalize=True)\n",
    "    cone_list.append(cone)\n",
    "\n",
    "    dual_cone = cone.dual()\n",
    "    dual_cone_list.append(dual_cone)\n",
    "\n",
    "    dual_time = time.time()\n",
    "    print(f\"Time to define dual: {round(dual_time - start, 2)}\")\n",
    "    dc_ray = dual_cone.rays()\n",
    "    dc_ray = dc_ray/np.std(dc_ray)\n",
    "    dc_ray_r = np.zeros_like(dc_ray)\n",
    "    for i, ray in enumerate(dc_ray):\n",
    "        for j, e in enumerate(ray):\n",
    "            dc_ray_r[i, j] = np.round(float(e), 4)*1e4\n",
    "    dc_ray_r = np.asarray(dc_ray_r, dtype=int)\n",
    "    dc_ray_list.append(dc_ray_r)\n",
    "\n",
    "    # A = matrix(dc_ray_r)\n",
    "    # dual_ray_time = time.time()\n",
    "    # # print(f\"Time to get dual basis : {round(dual_ray_time - start, 2)}\")\n",
    "    # a = solid_angle_general(A)\n",
    "    # print(f\" ## solid angle: {a}\")\n",
    "    # result.append(a)\n",
    "    # dc_ray\n",
    "    # solid_angle_time = time.time()\n",
    "    # print(f\"Time to measure solid angle : {round(solid_angle_time - start, 2)}\")\n",
    "    print()\n"
   ]
  },
  {
   "cell_type": "code",
   "execution_count": null,
   "metadata": {},
   "outputs": [
    {
     "data": {
      "text/plain": [
       "array([0, 2])"
      ]
     },
     "execution_count": 3,
     "metadata": {},
     "output_type": "execute_result"
    }
   ],
   "source": [
    "np.where([True, False, True])[0]"
   ]
  },
  {
   "cell_type": "code",
   "execution_count": null,
   "metadata": {},
   "outputs": [],
   "source": [
    "target = (dataset.targets.clone().detach().numpy() == cls)\n",
    "num_candidate = np.where(target == 1)[0]\n"
   ]
  },
  {
   "cell_type": "code",
   "execution_count": null,
   "metadata": {},
   "outputs": [
    {
     "data": {
      "text/plain": [
       "0.5263447341982757"
      ]
     },
     "execution_count": 5,
     "metadata": {},
     "output_type": "execute_result"
    }
   ],
   "source": [
    "np.random.choice()"
   ]
  },
  {
   "cell_type": "code",
   "execution_count": null,
   "metadata": {},
   "outputs": [],
   "source": [
    "from cl_gym.benchmarks.utils import DEFAULT_DATASET_DIR\n",
    "\n",
    "import torchvision\n",
    "mnist_train = torchvision.datasets.MNIST(DEFAULT_DATASET_DIR, train=True, download=True)\n",
    "target_classes = mnist_train.targets"
   ]
  },
  {
   "cell_type": "code",
   "execution_count": null,
   "metadata": {},
   "outputs": [],
   "source": [
    "cls_idx = np.random.choice(mnist_train.targets.unique().cpu().numpy(), size=10,replace=False)"
   ]
  },
  {
   "cell_type": "code",
   "execution_count": null,
   "metadata": {},
   "outputs": [],
   "source": [
    "task_id = 2\n",
    "\n",
    "start_class = (task_id-1) * 2\n",
    "end_class = task_id * 2\n",
    "# For CIFAR-like datasets in torchvision where targets are list\n",
    "# target_classes = dataset.targets.clone().detach().numpy()\n",
    "selected_indices = np.where(np.logical_and(start_class <= target_classes, target_classes < end_class))[0]\n"
   ]
  },
  {
   "cell_type": "code",
   "execution_count": null,
   "metadata": {},
   "outputs": [
    {
     "data": {
      "text/plain": [
       "array([6, 8, 3, 1, 4, 5, 9, 7, 2, 0])"
      ]
     },
     "execution_count": 28,
     "metadata": {},
     "output_type": "execute_result"
    }
   ],
   "source": [
    "cls_idx"
   ]
  },
  {
   "cell_type": "code",
   "execution_count": null,
   "metadata": {},
   "outputs": [],
   "source": [
    "c = cls_idx[start_class:end_class]"
   ]
  },
  {
   "cell_type": "code",
   "execution_count": null,
   "metadata": {},
   "outputs": [
    {
     "data": {
      "text/plain": [
       "array([3, 1])"
      ]
     },
     "execution_count": 51,
     "metadata": {},
     "output_type": "execute_result"
    }
   ],
   "source": [
    "cls_idx[start_class:end_class]"
   ]
  },
  {
   "cell_type": "code",
   "execution_count": null,
   "metadata": {},
   "outputs": [
    {
     "data": {
      "text/plain": [
       "1"
      ]
     },
     "execution_count": 42,
     "metadata": {},
     "output_type": "execute_result"
    }
   ],
   "source": [
    "c"
   ]
  },
  {
   "cell_type": "code",
   "execution_count": null,
   "metadata": {},
   "outputs": [
    {
     "data": {
      "text/plain": [
       "array([    3,     6,     7, ..., 59984, 59994, 59996])"
      ]
     },
     "execution_count": 52,
     "metadata": {},
     "output_type": "execute_result"
    }
   ],
   "source": [
    "indices = np.zeros_like(target_classes)\n",
    "for c in cls_idx[start_class:end_class]:\n",
    "    indices = np.logical_or(indices, target_classes == c)\n",
    "selected_indices = np.where(indices)[0]"
   ]
  },
  {
   "cell_type": "code",
   "execution_count": null,
   "metadata": {},
   "outputs": [
    {
     "data": {
      "text/plain": [
       "array([0, 1], dtype=uint8)"
      ]
     },
     "execution_count": 57,
     "metadata": {},
     "output_type": "execute_result"
    }
   ],
   "source": [
    "np.unique(indices[:20].cpu().numpy())"
   ]
  },
  {
   "cell_type": "code",
   "execution_count": null,
   "metadata": {},
   "outputs": [
    {
     "data": {
      "text/plain": [
       "tensor([1, 1, 3,  ..., 1, 1, 3])"
      ]
     },
     "execution_count": 54,
     "metadata": {},
     "output_type": "execute_result"
    }
   ],
   "source": [
    "target_classes[np.where(indices)[0]]"
   ]
  },
  {
   "cell_type": "code",
   "execution_count": null,
   "metadata": {},
   "outputs": [
    {
     "data": {
      "text/plain": [
       "array([0, 1, 2, 3, 4, 5, 6, 7, 8, 9])"
      ]
     },
     "execution_count": 58,
     "metadata": {},
     "output_type": "execute_result"
    }
   ],
   "source": [
    "np.arange(10)"
   ]
  },
  {
   "cell_type": "code",
   "execution_count": null,
   "metadata": {},
   "outputs": [],
   "source": [
    "a, b, *_ = 1, 2, 3, 4, 5"
   ]
  },
  {
   "cell_type": "code",
   "execution_count": null,
   "metadata": {},
   "outputs": [
    {
     "data": {
      "text/plain": [
       "[3, 4, 5]"
      ]
     },
     "execution_count": 2,
     "metadata": {},
     "output_type": "execute_result"
    }
   ],
   "source": [
    "_"
   ]
  },
  {
   "cell_type": "code",
   "execution_count": null,
   "metadata": {},
   "outputs": [],
   "source": [
    "import torchvision\n",
    "from cl_gym.benchmarks.utils import DEFAULT_DATASET_DIR\n",
    "from cl_gym.benchmarks.transforms import get_default_fashion_mnist_transform\n",
    "import torch\n",
    "\n",
    "transforms = get_default_fashion_mnist_transform(1)[0]\n",
    "fashion_mnist_train = torchvision.datasets.FashionMNIST(DEFAULT_DATASET_DIR, train=True, download=True, transform=transforms,)\n"
   ]
  },
  {
   "cell_type": "code",
   "execution_count": null,
   "metadata": {},
   "outputs": [
    {
     "ename": "AttributeError",
     "evalue": "'DataLoader' object has no attribute 'to'",
     "output_type": "error",
     "traceback": [
      "\u001b[0;31m---------------------------------------------------------------------------\u001b[0m",
      "\u001b[0;31mAttributeError\u001b[0m                            Traceback (most recent call last)",
      "Cell \u001b[0;32mIn[33], line 1\u001b[0m\n\u001b[0;32m----> 1\u001b[0m loader \u001b[38;5;241m=\u001b[39m \u001b[43mtorch\u001b[49m\u001b[38;5;241;43m.\u001b[39;49m\u001b[43mutils\u001b[49m\u001b[38;5;241;43m.\u001b[39;49m\u001b[43mdata\u001b[49m\u001b[38;5;241;43m.\u001b[39;49m\u001b[43mDataLoader\u001b[49m\u001b[43m(\u001b[49m\u001b[43mfashion_mnist_train\u001b[49m\u001b[43m,\u001b[49m\u001b[43m \u001b[49m\u001b[38;5;241;43m32\u001b[39;49m\u001b[43m,\u001b[49m\u001b[43m \u001b[49m\u001b[38;5;28;43;01mTrue\u001b[39;49;00m\u001b[43m)\u001b[49m\u001b[38;5;241;43m.\u001b[39;49m\u001b[43mto\u001b[49m(\u001b[38;5;124m\"\u001b[39m\u001b[38;5;124mcuda\u001b[39m\u001b[38;5;124m\"\u001b[39m)\n",
      "\u001b[0;31mAttributeError\u001b[0m: 'DataLoader' object has no attribute 'to'"
     ]
    }
   ],
   "source": [
    "loader = torch.utils.data.DataLoader(fashion_mnist_train, 32, True)"
   ]
  },
  {
   "cell_type": "code",
   "execution_count": null,
   "metadata": {},
   "outputs": [],
   "source": [
    "y = loader.dataset.targets.cpu().numpy()\n",
    "y_torch = loader.dataset.targets.to(\"cuda\")"
   ]
  },
  {
   "cell_type": "code",
   "execution_count": null,
   "metadata": {},
   "outputs": [],
   "source": [
    "d = dict()\n",
    "for c in y_torch.unique():\n",
    "    c = c.cpu().item()\n",
    "    d[c] = (y_torch==c).nonzero().reshape(-1)"
   ]
  },
  {
   "cell_type": "code",
   "execution_count": null,
   "metadata": {},
   "outputs": [
    {
     "data": {
      "text/plain": [
       "torch.Size([6000])"
      ]
     },
     "execution_count": 56,
     "metadata": {},
     "output_type": "execute_result"
    }
   ],
   "source": [
    "d[0].shape"
   ]
  },
  {
   "cell_type": "code",
   "execution_count": null,
   "metadata": {},
   "outputs": [
    {
     "data": {
      "text/plain": [
       "tensor([0, 1, 2, 3, 4, 5, 6, 7, 8, 9], device='cuda:0')"
      ]
     },
     "execution_count": 38,
     "metadata": {},
     "output_type": "execute_result"
    }
   ],
   "source": [
    "y_torch.unique()"
   ]
  },
  {
   "cell_type": "code",
   "execution_count": null,
   "metadata": {},
   "outputs": [
    {
     "data": {
      "text/plain": [
       "tensor([[9]], device='cuda:0')"
      ]
     },
     "execution_count": 41,
     "metadata": {},
     "output_type": "execute_result"
    }
   ],
   "source": [
    "(y_torch.unique()==c).nonzero()"
   ]
  },
  {
   "cell_type": "code",
   "execution_count": null,
   "metadata": {},
   "outputs": [],
   "source": [
    "class A():\n",
    "    def __init__(self):\n",
    "        self.a = \"a\"\n",
    "    def aa(self):\n",
    "        def bb():\n",
    "            return \"bb\"\n",
    "        print(bb())\n",
    "        return \"aa\""
   ]
  },
  {
   "cell_type": "code",
   "execution_count": null,
   "metadata": {},
   "outputs": [
    {
     "name": "stdout",
     "output_type": "stream",
     "text": [
      "bb\n"
     ]
    },
    {
     "data": {
      "text/plain": [
       "'aa'"
      ]
     },
     "execution_count": 67,
     "metadata": {},
     "output_type": "execute_result"
    }
   ],
   "source": [
    "a = A()\n",
    "a.aa()"
   ]
  },
  {
   "cell_type": "code",
   "execution_count": null,
   "metadata": {},
   "outputs": [],
   "source": [
    "new_l0_grads = torch.empty((0, 10), device=\"cuda\", dtype=torch.float32)"
   ]
  },
  {
   "cell_type": "code",
   "execution_count": null,
   "metadata": {},
   "outputs": [
    {
     "data": {
      "text/plain": [
       "torch.Size([0, 10])"
      ]
     },
     "execution_count": 71,
     "metadata": {},
     "output_type": "execute_result"
    }
   ],
   "source": [
    "new_l0_grads.shape"
   ]
  },
  {
   "cell_type": "code",
   "execution_count": null,
   "metadata": {},
   "outputs": [
    {
     "data": {
      "text/plain": [
       "{0: ['a'], 1: [], 2: [], 3: [], 4: [], 5: [], 6: [], 7: [], 8: [], 9: []}"
      ]
     },
     "execution_count": 73,
     "metadata": {},
     "output_type": "execute_result"
    }
   ],
   "source": [
    "a = {x:[] for x in range(10)}\n",
    "a[0].append('a')\n",
    "a"
   ]
  },
  {
   "cell_type": "code",
   "execution_count": null,
   "metadata": {},
   "outputs": [],
   "source": [
    "import matplotlib.pyplot as plt\n",
    "import numpy as np\n",
    "import copy"
   ]
  },
  {
   "cell_type": "code",
   "execution_count": null,
   "metadata": {},
   "outputs": [],
   "source": [
    "a = np.arange(10)\n",
    "b = copy.deepcopy(a)\n",
    "\n",
    "for i in range(1,4):\n",
    "    b = np.vstack([b, a+10*i])"
   ]
  },
  {
   "cell_type": "code",
   "execution_count": null,
   "metadata": {},
   "outputs": [
    {
     "data": {
      "text/plain": [
       "array([[ 0, 10, 20, 30],\n",
       "       [ 1, 11, 21, 31],\n",
       "       [ 2, 12, 22, 32],\n",
       "       [ 3, 13, 23, 33],\n",
       "       [ 4, 14, 24, 34],\n",
       "       [ 5, 15, 25, 35],\n",
       "       [ 6, 16, 26, 36],\n",
       "       [ 7, 17, 27, 37],\n",
       "       [ 8, 18, 28, 38],\n",
       "       [ 9, 19, 29, 39]])"
      ]
     },
     "execution_count": 23,
     "metadata": {},
     "output_type": "execute_result"
    }
   ],
   "source": [
    "b.T"
   ]
  },
  {
   "cell_type": "code",
   "execution_count": null,
   "metadata": {},
   "outputs": [
    {
     "data": {
      "image/png": "[encoded data removed]",
      "text/plain": [
       "<Figure size 640x480 with 1 Axes>"
      ]
     },
     "metadata": {},
     "output_type": "display_data"
    }
   ],
   "source": [
    "for i, e in enumerate(b):\n",
    "    plt.plot(e, label=i)\n",
    "plt.legend()\n",
    "plt.show()"
   ]
  },
  {
   "cell_type": "code",
   "execution_count": null,
   "metadata": {},
   "outputs": [],
   "source": [
    "import os\n",
    "os.mkdir(\"figs\") if os.path.exists(\"figs\") else 0"
   ]
  },
  {
   "cell_type": "code",
   "execution_count": null,
   "metadata": {},
   "outputs": [],
   "source": [
    "a = {x:2*x for x in range(3)}"
   ]
  },
  {
   "cell_type": "code",
   "execution_count": null,
   "metadata": {},
   "outputs": [
    {
     "data": {
      "text/plain": [
       "[0, 1, 2]"
      ]
     },
     "execution_count": 29,
     "metadata": {},
     "output_type": "execute_result"
    }
   ],
   "source": [
    "list(a.keys())"
   ]
  },
  {
   "cell_type": "code",
   "execution_count": null,
   "metadata": {},
   "outputs": [],
   "source": [
    "import torch\n",
    "a = torch.tensor([0, 0, 1, 2]).to(\"cuda:3\")"
   ]
  },
  {
   "cell_type": "code",
   "execution_count": null,
   "metadata": {},
   "outputs": [],
   "source": [
    "num_dict = {x:0 for x in a.unique().cpu().numpy()}"
   ]
  },
  {
   "cell_type": "code",
   "execution_count": null,
   "metadata": {},
   "outputs": [
    {
     "name": "stdout",
     "output_type": "stream",
     "text": [
      "0 3\n",
      "1 5\n",
      "2 8\n"
     ]
    }
   ],
   "source": [
    "num_dict[0] = 3\n",
    "num_dict[1] = 5\n",
    "num_dict[2] = 8\n",
    "for k, v in num_dict.items():\n",
    "    print(k, v)"
   ]
  },
  {
   "cell_type": "code",
   "execution_count": null,
   "metadata": {},
   "outputs": [
    {
     "name": "stdout",
     "output_type": "stream",
     "text": [
      "0\n",
      "0\n",
      "1\n",
      "2\n"
     ]
    }
   ],
   "source": [
    "num_dict\n",
    "\n",
    "ba = [0, 0, 1, 2, 2]\n",
    "for aa in a:\n",
    "    print(aa.item())"
   ]
  },
  {
   "cell_type": "code",
   "execution_count": null,
   "metadata": {},
   "outputs": [],
   "source": [
    "from torch.nn import functional as F\n",
    "import torch\n",
    "\n",
    "a = torch.tensor([[0.0, 1],\n",
    "                  [2, 3]])\n"
   ]
  },
  {
   "cell_type": "code",
   "execution_count": null,
   "metadata": {},
   "outputs": [
    {
     "data": {
      "text/plain": [
       "array([[0, 1, 2, 3, 4],\n",
       "       [5, 6, 7, 8, 9]])"
      ]
     },
     "execution_count": 25,
     "metadata": {},
     "output_type": "execute_result"
    }
   ],
   "source": [
    "np.reshape(np.arange(10), [2, 5])\n",
    "np.arange(10).reshape([2, 5])"
   ]
  },
  {
   "cell_type": "code",
   "execution_count": null,
   "metadata": {},
   "outputs": [],
   "source": [
    "import numpy as np\n",
    "from torch.nn import functional as F\n",
    "import torch\n",
    "\n",
    "base = np.arange(12).reshape([4, 3])\n",
    "new_grads = torch.tensor(base, dtype=float)\n",
    "selected_idx = [1, 2]"
   ]
  },
  {
   "cell_type": "code",
   "execution_count": null,
   "metadata": {},
   "outputs": [],
   "source": [
    "r_new_grads = new_grads[selected_idx]\n"
   ]
  },
  {
   "cell_type": "code",
   "execution_count": null,
   "metadata": {},
   "outputs": [],
   "source": [
    "n_r_new_grads = F.normalize(r_new_grads, p=2, dim=1)"
   ]
  },
  {
   "cell_type": "code",
   "execution_count": null,
   "metadata": {},
   "outputs": [
    {
     "data": {
      "text/plain": [
       "tensor([[0.4243, 0.5657, 0.7071],\n",
       "        [0.4915, 0.5735, 0.6554]], dtype=torch.float64)"
      ]
     },
     "execution_count": 30,
     "metadata": {},
     "output_type": "execute_result"
    }
   ],
   "source": [
    "n_r_new_grads"
   ]
  },
  {
   "cell_type": "code",
   "execution_count": null,
   "metadata": {},
   "outputs": [
    {
     "data": {
      "text/plain": [
       "tensor([[0.4243, 0.5657, 0.7071],\n",
       "        [0.4915, 0.5735, 0.6554]], dtype=torch.float64)"
      ]
     },
     "execution_count": 31,
     "metadata": {},
     "output_type": "execute_result"
    }
   ],
   "source": [
    "selected_idx = [0, 1]\n",
    "n_r_new_grads"
   ]
  },
  {
   "cell_type": "code",
   "execution_count": null,
   "metadata": {},
   "outputs": [
    {
     "name": "stdout",
     "output_type": "stream",
     "text": [
      "status  = integer optimal solution\n",
      "time    = 19661.6 s.\n",
      "problem = MIQP\n",
      "gap     = 0%\n",
      "\n",
      "solution for: Sample\n",
      "objective: 0.00229369\n",
      "status: OPTIMAL_SOLUTION(2)\n",
      "x_274=1\n",
      "x_971=1\n",
      "\n",
      "Solution status :  JobSolveStatus.OPTIMAL_SOLUTION\n",
      "Objective value :  0.0022936940555138285\n"
     ]
    }
   ],
   "source": [
    "import numpy as np\n",
    "import pandas as pd\n",
    "from docplex.mp.model import Model\n",
    "\n",
    "model = Model('Sample')\n",
    "\n",
    "n = 4 # number of classes\n",
    "m = 1200 # number of training samples\n",
    "\n",
    "# A = np.ones([n, m])\n",
    "A = np.random.random([n, m])\n",
    "x_dict = (i for i in range(m))\n",
    "b = np.random.random([n])\n",
    "# b = np.ones([n])\n",
    "\n",
    "x = model.binary_var_dict(x_dict, name = 'x', lb = 0, ub = 1)\n",
    "obj = sum((sum(A[i,j]*x[j] for j in range(m)) - b[i])**2 for i in range(n))\n",
    "model.set_objective(\"min\", obj)\n",
    "\n",
    "# model.solve(log_output=True)    # model object를 위에서 정의한 제약식과 목적함수를 이용해서 푸는 코드(log_output은 solver가 문제를 풀때, 진행 상태를 보여주는 것을 의미\n",
    "model.solve(log_output=False)    # model object를 위에서 정의한 제약식과 목적함수를 이용해서 푸는 코드(log_output은 solver가 문제를 풀때, 진행 상태를 보여주는 것을 의미\n",
    "print(model.solve_details)   # 문제가 풀렸을때 그 해에 대한 detail한 정보를 출력\n",
    "# print(model.export_as_lp_string()) # 추가한 제약식 및 목적함수를 LP형태로 출력\n",
    "print(model.solution)  # 문제의 solution을 출력\n",
    "print(\"Solution status : \" , model.get_solve_status())   # 찾은 해가 optimal, feasible, infeasible인지 출력\n",
    "print(\"Objective value : \" , model.objective_value )    # 목적함수값 출력\n",
    "soln = model.solution.get_value_dict({f\"x_{i}\":x[i] for i in range(m)})\n",
    "soln"
   ]
  },
  {
   "cell_type": "code",
   "execution_count": null,
   "metadata": {},
   "outputs": [],
   "source": []
  },
  {
   "cell_type": "code",
   "execution_count": null,
   "metadata": {},
   "outputs": [],
   "source": []
  },
  {
   "cell_type": "code",
   "execution_count": 104,
   "metadata": {},
   "outputs": [],
   "source": [
    "def LS_solver(A: np.array, b: np.array, binary = False):\n",
    "    \"\"\"\n",
    "    Solve Least Square problem below\n",
    "    min_x (Ax - b)**2 \n",
    "    where\n",
    "    x: [..., x_i, ...] (1-d array size m)\n",
    "    0 ≤ x_i ≤ 1.\n",
    "    Usually, n is number of class and m is number of training set.\n",
    "    If binary is True, x_i is 0 or 1. \n",
    "\n",
    "    Args:\n",
    "        A: given 2-d array size n ⨯ m\n",
    "        b: given 1-d array size n\n",
    "        binary: indicates the type of problem\n",
    "\n",
    "    Return:\n",
    "        x: np.array of solution\n",
    "    \"\"\"\n",
    "    if A.shape[0] != b.shape[0]:\n",
    "        raise NotImplementedError\n",
    "    \n",
    "    n, m = A.shape\n",
    "    model = Model('Sample')\n",
    "    x_dict = (i for i in range(m))\n",
    "    if binary:\n",
    "        x = model.binary_var_dict(x_dict, name = 'x', lb = 0, ub = 1)\n",
    "    else:\n",
    "        x = model.continuous_var_dict(x_dict, name = 'x', lb = 0, ub = 1)\n",
    "\n",
    "    obj = sum((sum(A[i,j]*x[j] for j in range(m)) - b[i])**2 for i in range(n))\n",
    "    model.set_objective(\"min\", obj)\n",
    "\n",
    "    model.solve(log_output=False)\n",
    "    soln = np.array([x[i].solution_value for i in range(m)])\n",
    "    return soln\n",
    "\n"
   ]
  },
  {
   "cell_type": "code",
   "execution_count": 20,
   "metadata": {},
   "outputs": [
    {
     "data": {
      "text/plain": [
       "120"
      ]
     },
     "execution_count": 20,
     "metadata": {},
     "output_type": "execute_result"
    }
   ],
   "source": [
    "len(soln)"
   ]
  },
  {
   "cell_type": "code",
   "execution_count": 21,
   "metadata": {},
   "outputs": [
    {
     "data": {
      "text/plain": [
       "array([1, 5, 9])"
      ]
     },
     "execution_count": 21,
     "metadata": {},
     "output_type": "execute_result"
    }
   ],
   "source": [
    "a = np.arange(12).reshape(3, 4)\n",
    "a[:,1]"
   ]
  },
  {
   "cell_type": "code",
   "execution_count": null,
   "metadata": {},
   "outputs": [],
   "source": []
  },
  {
   "cell_type": "code",
   "execution_count": 94,
   "metadata": {},
   "outputs": [],
   "source": [
    "def minimax_LP_solver(*args, **kwargs):\n",
    "    return minimax_LP_solver_v2(*args, **kwargs)\n",
    "\n",
    "\n",
    "def minimax_LP_solver_v2(A: np.ndarray, b: np.ndarray, binary = False):\n",
    "    \"\"\"\n",
    "    Solve Least Square problem below\n",
    "    min_x max_i |A_i·x - b_i|\n",
    "    where\n",
    "    A_i : ith row vector of A (1-d array size m)\n",
    "    b_i : ith element of b (scalar)\n",
    "    x : [..., x_i, ...] (1-d array size m)\n",
    "    0 ≤ x_i ≤ 1.\n",
    "    Usually, n is number of class and m is number of training set.\n",
    "    If binary is True, x_i is 0 or 1. \n",
    "\n",
    "    Args:\n",
    "        A: given 2-d array size n ⨯ m\n",
    "        b: given 1-d array size n\n",
    "        binary: indicates the type of problem\n",
    "\n",
    "    Return:\n",
    "        x: np.array of solution\n",
    "    \"\"\"\n",
    "    if A.shape[0] != b.shape[0]:\n",
    "        raise NotImplementedError\n",
    "    \n",
    "    n, m = A.shape\n",
    "    model = Model('minimax_LP')\n",
    "    x_dict = (i for i in range(m))\n",
    "\n",
    "    if binary:\n",
    "        x = model.binary_var_dict(x_dict, name = 'x', lb = 0, ub = 1)\n",
    "    else:\n",
    "        x = model.continuous_var_dict(x_dict, name = 'x', lb = 0, ub = 1)\n",
    "    y = model.continuous_var(name = 'y', lb = 0)\n",
    "\n",
    "    c1 = model.add_constraints([-y + sum(A[i,j]*x[j] for j in range(m)) <=   b[i] for i in range(n)], names = \"ub_\")\n",
    "    c2 = model.add_constraints([-y - sum(A[i,j]*x[j] for j in range(m)) <= - b[i] for i in range(n)], names = \"lb_\")\n",
    "\n",
    "    model.set_objective(\"min\", y)\n",
    "    # model.print_information()\n",
    "    # print(model.export_as_lp_string())\n",
    "    model.solve(log_output=False) \n",
    "    soln = [x[i].solution_value for i in range(m)]\n",
    "    # print(\"Objective value : \" , model.objective_value )    # 목적함수값 출력\n",
    "    return soln"
   ]
  },
  {
   "cell_type": "code",
   "execution_count": null,
   "metadata": {},
   "outputs": [],
   "source": []
  },
  {
   "cell_type": "code",
   "execution_count": 107,
   "metadata": {},
   "outputs": [],
   "source": [
    "import numpy as np\n",
    "\n",
    "n = 4\n",
    "m = 12000\n",
    "A = np.arange(-100, n*m-100).reshape(n, m)\n",
    "b = np.arange(-100, n-100)\n",
    "out = LS_solver(A, b, binary = False)"
   ]
  },
  {
   "cell_type": "code",
   "execution_count": null,
   "metadata": {},
   "outputs": [],
   "source": []
  },
  {
   "cell_type": "code",
   "execution_count": 101,
   "metadata": {},
   "outputs": [],
   "source": [
    "import numpy as np\n",
    "\n",
    "n = 4\n",
    "m = 12000\n",
    "A = np.arange(-100, n*m-100).reshape(n, m)\n",
    "b = np.arange(-100, n-100)\n",
    "out = minimax_LP_solver(A, b, binary = False)"
   ]
  },
  {
   "cell_type": "code",
   "execution_count": null,
   "metadata": {},
   "outputs": [],
   "source": []
  },
  {
   "cell_type": "code",
   "execution_count": null,
   "metadata": {},
   "outputs": [],
   "source": []
  },
  {
   "cell_type": "code",
   "execution_count": null,
   "metadata": {},
   "outputs": [],
   "source": []
  },
  {
   "cell_type": "code",
   "execution_count": 41,
   "metadata": {},
   "outputs": [
    {
     "name": "stdout",
     "output_type": "stream",
     "text": [
      "solution for: Sample\n",
      "objective: 0.00891581\n",
      "status: OPTIMAL_SOLUTION(2)\n",
      "x_0=0.000\n",
      "x_1=0.000\n",
      "x_2=0.000\n",
      "x_3=0.000\n",
      "x_4=0.000\n",
      "x_5=0.000\n",
      "x_6=0.000\n",
      "x_7=0.000\n",
      "x_8=0.000\n",
      "x_9=0.000\n",
      "x_10=0.000\n",
      "x_11=0.000\n",
      "x_12=0.000\n",
      "x_13=0.000\n",
      "x_14=0.000\n",
      "x_15=0.000\n",
      "x_16=0.000\n",
      "x_17=0.000\n",
      "x_18=0.000\n",
      "x_19=0.000\n",
      "x_20=0.000\n",
      "x_21=0.000\n",
      "x_22=0.000\n",
      "x_23=0.000\n",
      "x_24=0.000\n",
      "x_25=0.000\n",
      "x_26=0.000\n",
      "x_27=0.000\n",
      "x_28=0.000\n",
      "x_29=0.000\n",
      "x_30=0.000\n",
      "x_31=0.748\n",
      "x_32=0.000\n",
      "x_33=0.000\n",
      "x_34=0.000\n",
      "x_35=0.000\n",
      "x_36=0.000\n",
      "x_37=0.000\n",
      "x_38=0.000\n",
      "x_39=0.000\n",
      "x_40=0.000\n",
      "x_41=0.000\n",
      "x_42=0.000\n",
      "x_43=0.000\n",
      "x_44=0.000\n",
      "x_45=0.000\n",
      "x_46=0.000\n",
      "x_47=0.000\n",
      "x_48=0.000\n",
      "x_49=0.000\n",
      "x_50=0.000\n",
      "x_51=0.000\n",
      "x_52=0.000\n",
      "x_53=0.000\n",
      "x_54=0.000\n",
      "x_55=0.000\n",
      "x_56=0.000\n",
      "x_57=0.000\n",
      "x_58=0.000\n",
      "x_59=0.000\n",
      "x_60=0.000\n",
      "x_61=0.000\n",
      "x_62=0.000\n",
      "x_63=0.000\n",
      "x_64=0.000\n",
      "x_65=0.000\n",
      "x_66=0.000\n",
      "x_67=0.000\n",
      "x_68=0.000\n",
      "x_69=0.000\n",
      "x_70=0.000\n",
      "x_71=0.000\n",
      "x_72=0.000\n",
      "x_73=0.000\n",
      "x_74=0.000\n",
      "x_75=0.000\n",
      "x_76=0.000\n",
      "x_77=0.000\n",
      "x_78=0.000\n",
      "x_79=0.000\n",
      "x_80=0.000\n",
      "x_81=0.000\n",
      "x_82=0.000\n",
      "x_83=0.000\n",
      "x_84=0.000\n",
      "x_85=0.000\n",
      "x_86=0.000\n",
      "x_87=0.000\n",
      "x_88=0.027\n",
      "x_89=0.000\n",
      "x_90=0.000\n",
      "x_91=0.000\n",
      "x_92=0.000\n",
      "x_93=0.000\n",
      "x_94=0.000\n",
      "x_95=0.000\n",
      "x_96=0.000\n",
      "x_97=0.000\n",
      "x_98=0.000\n",
      "x_99=0.000\n",
      "x_100=0.000\n",
      "x_101=0.000\n",
      "x_102=0.000\n",
      "x_103=0.436\n",
      "x_104=0.000\n",
      "x_105=0.000\n",
      "x_106=0.000\n",
      "x_107=0.000\n",
      "x_108=0.000\n",
      "x_109=0.000\n",
      "x_110=0.000\n",
      "x_111=0.000\n",
      "x_112=0.000\n",
      "x_113=0.000\n",
      "x_114=0.000\n",
      "x_115=0.000\n",
      "x_116=0.000\n",
      "x_117=0.000\n",
      "x_118=0.000\n",
      "x_119=0.000\n",
      "\n"
     ]
    }
   ],
   "source": [
    "print(model.solution)"
   ]
  },
  {
   "cell_type": "code",
   "execution_count": null,
   "metadata": {},
   "outputs": [],
   "source": []
  },
  {
   "cell_type": "code",
   "execution_count": null,
   "metadata": {},
   "outputs": [],
   "source": []
  },
  {
   "cell_type": "code",
   "execution_count": null,
   "metadata": {},
   "outputs": [],
   "source": []
  },
  {
   "cell_type": "code",
   "execution_count": null,
   "metadata": {},
   "outputs": [],
   "source": [
    "import cplex\n",
    "\n",
    "def problem_setup(label, w_sim, edge, ILP):\n",
    "    \"\"\"         \n",
    "        Constructs the label flipping optimization problem.\n",
    "        If ILP is True, it constructs the ILP problem, otherwise constructs the LP problem.\n",
    "\n",
    "        Args: \n",
    "            label: Labels of the data\n",
    "            w_sim: Similarity matrix\n",
    "            edge: Indices of similar pairs\n",
    "            ILP: Indicates the type of problem\n",
    "            \n",
    "        Return:\n",
    "            prob: Optimization problem\n",
    "            x_idx: Index of the solution\n",
    "    \"\"\"\n",
    "\n",
    "    m = 0\n",
    "    prob = cplex.Cplex()\n",
    "    prob.set_log_stream(None)\n",
    "    prob.set_error_stream(None)\n",
    "    prob.set_warning_stream(None)\n",
    "    prob.set_results_stream(None)\n",
    "    prob.objective.set_sense(prob.objective.sense.minimize)\n",
    "\n",
    "    name_z = []\n",
    "    name_x = []\n",
    "    for i in range(label.shape[0]):\n",
    "        name_z.append(f'z_{i}')\n",
    "        name_x.append(f'x_{i}')\n",
    "        \n",
    "    prob.variables.add(names=name_z,obj = [1.0] * label.shape[0],types = [prob.variables.type.continuous] * label.shape[0], lb=[0.0] * label.shape[0], ub=[1.0]* label.shape[0])\n",
    "    \n",
    "    if ILP:\n",
    "        x_idx = prob.variables.add(names=name_x,types = [prob.variables.type.binary] * label.shape[0], lb=[0] * label.shape[0], ub=[1]* label.shape[0])\n",
    "    else:\n",
    "        x_idx = prob.variables.add(names=name_x,types = [prob.variables.type.continuous] * label.shape[0], lb=[0] * label.shape[0], ub=[1]* label.shape[0])\n",
    "\n",
    "    for i in range(label.shape[0]):\n",
    "        prob.linear_constraints.add(\n",
    "            lin_expr = [cplex.SparsePair(ind = [f\"x_{i}\", f\"z_{i}\"], val = [-1.0, 1.0]),\n",
    "                        cplex.SparsePair(ind = [f\"x_{i}\", f\"z_{i}\"], val = [-1.0, 1.0]),\n",
    "                        cplex.SparsePair(ind = [f\"x_{i}\", f\"z_{i}\"], val = [1.0, 1.0]),\n",
    "                        cplex.SparsePair(ind = [f\"x_{i}\", f\"z_{i}\"], val = [1.0, 1.0])],\n",
    "            senses = [\"L\", \"G\", \"G\", \"L\"],\n",
    "            rhs = [label[i], -label[i], label[i], 2-label[i]],\n",
    "            names = [f'c_{i}0',f'c_{i}1',f'c_{i}2',f'c_{i}3'])\n",
    "\n",
    "    prob.linear_constraints.add(names=['violation'], senses=[\"L\"], rhs=[m])\n",
    "    for (i, j) in edge:\n",
    "        prob.variables.add(names=[f'z_{i}{j}'], types = [prob.variables.type.continuous],lb=[0], ub=[1])\n",
    "        prob.linear_constraints.set_linear_components('violation', [[f\"z_{i}{j}\"], [w_sim[i][j]]])\n",
    "        prob.linear_constraints.add(\n",
    "            lin_expr = [cplex.SparsePair(ind = [f\"x_{i}\", f\"x_{j}\",f\"z_{i}{j}\"], val = [-1.0, -1.0, 1.0]),\n",
    "                        cplex.SparsePair(ind = [f\"x_{i}\", f\"x_{j}\",f\"z_{i}{j}\"], val = [-1.0, 1.0, 1.0]),\n",
    "                        cplex.SparsePair(ind = [f\"x_{i}\", f\"x_{j}\",f\"z_{i}{j}\"], val = [1.0, -1.0, 1.0]),\n",
    "                        cplex.SparsePair(ind = [f\"x_{i}\", f\"x_{j}\",f\"z_{i}{j}\"], val = [1.0, 1.0, 1.0])],\n",
    "            senses = [\"L\", \"G\", \"G\", \"L\"],\n",
    "            rhs = [0, 0, 0, 2],\n",
    "            names = [f'c_{i}{j}0',f'c_{i}{j}1',f'c_{i}{j}2',f'c_{i}{j}3'])\n",
    "\n",
    "    return prob, x_idx\n",
    "\n",
    "def CPLEX_Solver(label, m, w_sim, edge, ILP = True):\n",
    "    \"\"\"         \n",
    "        Solves the label flipping optimization problem for a given total error limit m using CPLEX.\n",
    "        If ILP is True, it solves the ILP problem, otherwise solves the LP problem.\n",
    "\n",
    "        Args: \n",
    "            label: Labels of the data\n",
    "            m: The total error limit\n",
    "            w_sim: Similarity matrix\n",
    "            edge: Indices of similar pairs\n",
    "            ILP: Indicates the type of problem\n",
    "            \n",
    "        Return:\n",
    "            flipped_label: Flipped labels for a given m\n",
    "    \"\"\"\n",
    "\n",
    "    prob, x_idx = problem_setup(label, w_sim, edge, ILP)\n",
    "    \n",
    "    # Set the total error limit m \n",
    "    # total_error_limit = get_error(prob)\n",
    "    # prob.linear_constraints.set_rhs(total_error_limit, m)\n",
    "\n",
    "    # Solve the problem\n",
    "    prob.solve()\n",
    "    sol = prob.solution\n",
    "\n",
    "    return np.round(sol.get_values(list(x_idx)), decimals=4)\n",
    "\n",
    "# def get_error(prob):\n",
    "#     \"\"\" Finds the variables for m in the problem \"\"\"\n",
    "\n",
    "#     return get_name(prob, \"violation\")\n",
    "\n",
    "# def get_name(prob, keyword):\n",
    "#     \"\"\" Finds the variables for keyword in the problem \"\"\"\n",
    "\n",
    "#     changed_name = \"\"\n",
    "#     for i in range(prob.linear_constraints.get_num()):\n",
    "#         name = prob.linear_constraints.get_names(i)\n",
    "#         if keyword in name:\n",
    "#             changed_name = name\n",
    "#             return changed_name\n",
    "\n",
    "#     if changed_name == \"\":\n",
    "#         print(f\"Error: no {keyword}\")\n",
    "#         return"
   ]
  }
 ],
 "metadata": {
  "kernelspec": {
   "display_name": "cil",
   "language": "python",
   "name": "python3"
  },
  "language_info": {
   "codemirror_mode": {
    "name": "ipython",
    "version": 3
   },
   "file_extension": ".py",
   "mimetype": "text/x-python",
   "name": "python",
   "nbconvert_exporter": "python",
   "pygments_lexer": "ipython3",
   "version": "3.9.18"
  }
 },
 "nbformat": 4,
 "nbformat_minor": 2
}
