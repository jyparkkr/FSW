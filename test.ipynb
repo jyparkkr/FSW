{
 "cells": [
  {
   "cell_type": "code",
   "execution_count": 30,
   "metadata": {},
   "outputs": [
    {
     "ename": "OSError",
     "evalue": "did not find file '/mnt/shared/jaeyoung/cl_gym/solid_angle_code/logging.sage' to load or attach",
     "output_type": "error",
     "traceback": [
      "\u001b[0;31m---------------------------------------------------------------------------\u001b[0m",
      "\u001b[0;31mOSError\u001b[0m                                   Traceback (most recent call last)",
      "Cell \u001b[0;32mIn[30], line 4\u001b[0m\n\u001b[1;32m      1\u001b[0m \u001b[38;5;28;01mfrom\u001b[39;00m \u001b[38;5;21;01msage\u001b[39;00m\u001b[38;5;21;01m.\u001b[39;00m\u001b[38;5;21;01mall_cmdline\u001b[39;00m \u001b[38;5;28;01mimport\u001b[39;00m \u001b[38;5;241m*\u001b[39m   \u001b[38;5;66;03m# import sage library\u001b[39;00m\n\u001b[1;32m      3\u001b[0m \u001b[38;5;66;03m# from solid_angle_code.solid_angle_sage import *\u001b[39;00m\n\u001b[0;32m----> 4\u001b[0m \u001b[38;5;28;01mfrom\u001b[39;00m \u001b[38;5;21;01msolid_angle_code\u001b[39;00m\u001b[38;5;21;01m.\u001b[39;00m\u001b[38;5;21;01msolid_angle_sage\u001b[39;00m \u001b[38;5;28;01mimport\u001b[39;00m solid_angle_general, solid_angle_2d, solid_angle_3d\n\u001b[1;32m      5\u001b[0m \u001b[38;5;28;01mimport\u001b[39;00m \u001b[38;5;21;01mtime\u001b[39;00m\n\u001b[1;32m      6\u001b[0m \u001b[38;5;28;01mimport\u001b[39;00m \u001b[38;5;21;01mnumpy\u001b[39;00m \u001b[38;5;28;01mas\u001b[39;00m \u001b[38;5;21;01mnp\u001b[39;00m\n",
      "File \u001b[0;32m/mnt/shared/jaeyoung/FSSCIL/solid_angle_code/solid_angle_sage.py:8\u001b[0m\n\u001b[1;32m      6\u001b[0m _sage_const_2 \u001b[38;5;241m=\u001b[39m Integer(\u001b[38;5;241m2\u001b[39m); _sage_const_0 \u001b[38;5;241m=\u001b[39m Integer(\u001b[38;5;241m0\u001b[39m); _sage_const_1 \u001b[38;5;241m=\u001b[39m Integer(\u001b[38;5;241m1\u001b[39m); _sage_const_3 \u001b[38;5;241m=\u001b[39m Integer(\u001b[38;5;241m3\u001b[39m); _sage_const_4 \u001b[38;5;241m=\u001b[39m Integer(\u001b[38;5;241m4\u001b[39m); _sage_const_1en6 \u001b[38;5;241m=\u001b[39m RealNumber(\u001b[38;5;124m'\u001b[39m\u001b[38;5;124m1e-6\u001b[39m\u001b[38;5;124m'\u001b[39m); _sage_const_100 \u001b[38;5;241m=\u001b[39m Integer(\u001b[38;5;241m100\u001b[39m); _sage_const_0p5 \u001b[38;5;241m=\u001b[39m RealNumber(\u001b[38;5;124m'\u001b[39m\u001b[38;5;124m0.5\u001b[39m\u001b[38;5;124m'\u001b[39m)\u001b[38;5;66;03m# load(\"~/ma611-code/logging.sage\")\u001b[39;00m\n\u001b[1;32m      7\u001b[0m \u001b[38;5;28;01mimport\u001b[39;00m \u001b[38;5;21;01mos\u001b[39;00m\n\u001b[0;32m----> 8\u001b[0m \u001b[43mload\u001b[49m\u001b[43m(\u001b[49m\u001b[43mos\u001b[49m\u001b[38;5;241;43m.\u001b[39;49m\u001b[43mpath\u001b[49m\u001b[38;5;241;43m.\u001b[39;49m\u001b[43mjoin\u001b[49m\u001b[43m(\u001b[49m\u001b[38;5;124;43m\"\u001b[39;49m\u001b[38;5;124;43m/mnt/shared/jaeyoung/cl_gym\u001b[39;49m\u001b[38;5;124;43m\"\u001b[39;49m\u001b[43m,\u001b[49m\u001b[43m \u001b[49m\u001b[38;5;124;43m\"\u001b[39;49m\u001b[38;5;124;43msolid_angle_code/logging.sage\u001b[39;49m\u001b[38;5;124;43m\"\u001b[39;49m\u001b[43m)\u001b[49m\u001b[43m)\u001b[49m\n\u001b[1;32m      9\u001b[0m logging\u001b[38;5;241m.\u001b[39mgetLogger()\u001b[38;5;241m.\u001b[39msetLevel(logging\u001b[38;5;241m.\u001b[39mWARNING)\n\u001b[1;32m     12\u001b[0m \u001b[38;5;66;03m# **********************************************************\u001b[39;00m\n\u001b[1;32m     13\u001b[0m \u001b[38;5;66;03m#         Formulas for 2d and 3d simplicial cones\u001b[39;00m\n\u001b[1;32m     14\u001b[0m \u001b[38;5;66;03m# **********************************************************\u001b[39;00m\n",
      "File \u001b[0;32m~/anaconda3/envs/cil/lib/python3.9/site-packages/sage/misc/persist.pyx:175\u001b[0m, in \u001b[0;36msage.misc.persist.load (build/cythonized/sage/misc/persist.c:2697)\u001b[0;34m()\u001b[0m\n\u001b[1;32m    173\u001b[0m \n\u001b[1;32m    174\u001b[0m     if sage.repl.load.is_loadable_filename(filename):\n\u001b[0;32m--> 175\u001b[0m         sage.repl.load.load(filename, globals())\n\u001b[1;32m    176\u001b[0m         return\n\u001b[1;32m    177\u001b[0m \n",
      "File \u001b[0;32m~/anaconda3/envs/cil/lib/python3.9/site-packages/sage/repl/load.py:244\u001b[0m, in \u001b[0;36mload\u001b[0;34m(filename, globals, attach)\u001b[0m\n\u001b[1;32m    242\u001b[0m         \u001b[38;5;28;01mbreak\u001b[39;00m\n\u001b[1;32m    243\u001b[0m \u001b[38;5;28;01melse\u001b[39;00m:\n\u001b[0;32m--> 244\u001b[0m     \u001b[38;5;28;01mraise\u001b[39;00m \u001b[38;5;167;01mIOError\u001b[39;00m(\u001b[38;5;124m'\u001b[39m\u001b[38;5;124mdid not find file \u001b[39m\u001b[38;5;132;01m%r\u001b[39;00m\u001b[38;5;124m to load or attach\u001b[39m\u001b[38;5;124m'\u001b[39m \u001b[38;5;241m%\u001b[39m filename)\n\u001b[1;32m    246\u001b[0m ext \u001b[38;5;241m=\u001b[39m os\u001b[38;5;241m.\u001b[39mpath\u001b[38;5;241m.\u001b[39msplitext(fpath)[\u001b[38;5;241m1\u001b[39m]\u001b[38;5;241m.\u001b[39mlower()\n\u001b[1;32m    247\u001b[0m \u001b[38;5;28;01mif\u001b[39;00m ext \u001b[38;5;241m==\u001b[39m \u001b[38;5;124m'\u001b[39m\u001b[38;5;124m.py\u001b[39m\u001b[38;5;124m'\u001b[39m:\n",
      "\u001b[0;31mOSError\u001b[0m: did not find file '/mnt/shared/jaeyoung/cl_gym/solid_angle_code/logging.sage' to load or attach"
     ]
    }
   ],
   "source": [
    "from sage.all_cmdline import *   # import sage library\n",
    "\n",
    "# from solid_angle_code.solid_angle_sage import *\n",
    "from solid_angle_code.solid_angle_sage import solid_angle_general, solid_angle_2d, solid_angle_3d\n",
    "import time\n",
    "import numpy as np\n",
    "import random\n",
    "\n",
    "SEED = 2\n",
    "SF = 1\n",
    "\n",
    "seed = SEED\n",
    "np.random.seed(SEED)\n",
    "np.random.seed(seed)\n",
    "random.seed(seed)\n",
    "# torch.manual_seed(seed)\n",
    "# torch.cuda.manual_seed_all(seed)\n",
    "# torch.manual_seed(seed)\n",
    "# torch.backends.cudnn.deterministic = True\n",
    "# torch.backends.cudnn.benchmark = False\n",
    "# torch.backends.cudnn.enabled = False\n",
    "\n",
    "sf = SF "
   ]
  },
  {
   "cell_type": "code",
   "execution_count": null,
   "metadata": {},
   "outputs": [
    {
     "name": "stderr",
     "output_type": "stream",
     "text": [
      "WARNING: Associated matrix NOT positive definite, series NOT converge\n"
     ]
    },
    {
     "name": "stdout",
     "output_type": "stream",
     "text": [
      "vector dim: 4, number of vector: 4\n",
      "ray=array([[ -4,  -1, -21,  16],\n",
      "       [-18,  -8,   5, -12],\n",
      "       [-11,  -9,   6,  23],\n",
      "       [  0, -11,   5,  -6]])\n"
     ]
    },
    {
     "name": "stderr",
     "output_type": "stream",
     "text": [
      "WARNING: Associated matrix NOT positive definite, series NOT converge\n"
     ]
    },
    {
     "name": "stdout",
     "output_type": "stream",
     "text": [
      " ## solid angle(deg=20): 0.04012700973195804\n",
      "Time to measure solid angle : 4.34\n"
     ]
    },
    {
     "name": "stderr",
     "output_type": "stream",
     "text": [
      "WARNING: Associated matrix NOT positive definite, series NOT converge\n"
     ]
    },
    {
     "name": "stdout",
     "output_type": "stream",
     "text": [
      " ## solid angle(deg=40): 0.04012700973195804\n",
      "Time to measure solid angle : 4.11\n"
     ]
    },
    {
     "name": "stderr",
     "output_type": "stream",
     "text": [
      "WARNING: Associated matrix NOT positive definite, series NOT converge\n"
     ]
    },
    {
     "name": "stdout",
     "output_type": "stream",
     "text": [
      " ## solid angle(deg=80): 0.04012700973195804\n",
      "Time to measure solid angle : 4.11\n",
      " ## solid angle(deg=160): 0.04012700973195804\n",
      "Time to measure solid angle : 8.19\n",
      "\n"
     ]
    }
   ],
   "source": [
    "result1_20, result1_40, result1_80, result1_160, = list(), list(), list(), list(), \n",
    "size_list = [2, 3, 4, 8, 16, 32, 64, 128, 256, 512]\n",
    "size_list = [4]\n",
    "cone_list1 = []\n",
    "for s in size_list:\n",
    "    print(f\"vector dim: {s}, number of vector: {s}\")\n",
    "    start = time.time()\n",
    "    ray = np.round(np.random.normal(size=[s, s]), sf)*10**sf\n",
    "    ray = np.asarray(ray, dtype=int)\n",
    "    cone_list1.append(ray)\n",
    "    print(f\"{ray=}\")\n",
    "    A = matrix(ray)\n",
    "    start = time.time()\n",
    "    a = solid_angle_general(A, deg=20)\n",
    "    print(f\" ## solid angle(deg=20): {a}\")\n",
    "    result1_20.append(a)\n",
    "    solid_angle_time = time.time()\n",
    "    print(f\"Time to measure solid angle : {round(solid_angle_time - start, 2)}\")\n",
    "    start = time.time()\n",
    "    b = solid_angle_general(A, deg=40)\n",
    "    print(f\" ## solid angle(deg=40): {b}\")\n",
    "    result1_40.append(b)\n",
    "    solid_angle_time = time.time()\n",
    "    print(f\"Time to measure solid angle : {round(solid_angle_time - start, 2)}\")\n",
    "    start = time.time()\n",
    "    c = solid_angle_general(A, deg=80)\n",
    "    print(f\" ## solid angle(deg=80): {c}\")\n",
    "    result1_80.append(c)\n",
    "    solid_angle_time = time.time()\n",
    "    print(f\"Time to measure solid angle : {round(solid_angle_time - start, 2)}\")\n",
    "    d = solid_angle_general(A, deg=160)\n",
    "    print(f\" ## solid angle(deg=160): {d}\")\n",
    "    result1_160.append(d)\n",
    "    solid_angle_time = time.time()\n",
    "    print(f\"Time to measure solid angle : {round(solid_angle_time - start, 2)}\")\n",
    "    print()\n",
    "\n"
   ]
  },
  {
   "cell_type": "code",
   "execution_count": null,
   "metadata": {},
   "outputs": [
    {
     "name": "stderr",
     "output_type": "stream",
     "text": [
      "WARNING: Associated matrix NOT positive definite, series NOT converge\n"
     ]
    },
    {
     "name": "stdout",
     "output_type": "stream",
     "text": [
      "vector dim: 2, number of vector: 2\n",
      "ray=array([[ 0, 12],\n",
      "       [-7,  0]])\n",
      " ## solid angle(deg=20): 0.25000000000000006\n",
      "Time to measure solid angle : 0.01\n",
      "\n",
      "vector dim: 3, number of vector: 3\n",
      "ray=array([[ -9,  -2,   3],\n",
      "       [-10,  -3,  -2],\n",
      "       [ -6, -12, -14]])\n",
      " ## solid angle(deg=20): 0.038242452344209435\n",
      "Time to measure solid angle : 0.04\n",
      "\n",
      "vector dim: 4, number of vector: 4\n",
      "ray=array([[ -2,  -3,  22, -24],\n",
      "       [  1,   4,  14,   5],\n",
      "       [ -8,   0,   5,  -3],\n",
      "       [  8, -19,  17,  15]])\n"
     ]
    },
    {
     "name": "stderr",
     "output_type": "stream",
     "text": [
      "WARNING: Associated matrix NOT positive definite, series NOT converge\n"
     ]
    },
    {
     "name": "stdout",
     "output_type": "stream",
     "text": [
      " ## solid angle(deg=20): 0.024470409880112853\n",
      "Time to measure solid angle : 1.21\n",
      "\n",
      "vector dim: 8, number of vector: 8\n",
      "ray=array([[ -3,   6,   0,  -8,   1,  10,  -4,  -4],\n",
      "       [ -1,   4,  13,  -6,   5,   2, -19,  -4],\n",
      "       [ -1,   0,   3, -20,   0,  -7, -14,   5],\n",
      "       [  7,  -7,   8,  -4,   1, -11,  16, -27],\n",
      "       [ -1,   7, -20,  -2,  -1,   8,  12,  -4],\n",
      "       [-14,  14,  12,  -5,   4,   4,   6,   2],\n",
      "       [ 14, -17,  10,   4,  -2,  12, -23,  12],\n",
      "       [  4, -11,   4,  -3,  26,  18,   4,  -7]])\n"
     ]
    },
    {
     "name": "stderr",
     "output_type": "stream",
     "text": [
      "WARNING: Associated matrix NOT positive definite, series NOT converge\n",
      "WARNING: Associated matrix NOT positive definite, series NOT converge\n"
     ]
    },
    {
     "name": "stdout",
     "output_type": "stream",
     "text": [
      " ## solid angle(deg=20): 0.00030109726356532235\n",
      "Time to measure solid angle : 226066.6\n",
      "\n",
      "vector dim: 16, number of vector: 16\n",
      "ray=array([[ -6,  -3,  -6,  -9,  -6,  -3,  -5,  -7,  -9,  26, -15, -10,   4,\n",
      "         -3,   4,   8],\n",
      "       [ 13,   8, -10,  11, -18,  -1,  -5, -11,   6,  -2,  10, -15,   8,\n",
      "          5,   1, -14],\n",
      "       [ -3, -15, -21,  33,  10,  18,  -4,   7,   7,   6,   0,  -2, -21,\n",
      "          6,   4,  11],\n",
      "       [ -3,  17,  -4, -13,   9,  -5, -13,   1,   8,   2,   5,  41,   8,\n",
      "         15, -20,   4],\n",
      "       [  8,  -4,  -9,   4,  -3,  -6,  11,  13,   3,  -5,   5,   8,   6,\n",
      "        -15,  -3,   4],\n",
      "       [  6,  10,   8, -11,  -7, -12,  18,   2,   6,  10,  -3, -12,  -4,\n",
      "         -1,  15,   9],\n",
      "       [-11,   7,   7, -11,  -1, -19,   3,  -3, -14,  -7,   2,  -6,   3,\n",
      "          6,  -8,  -3],\n",
      "       [ 21,   1,  -8,   1, -13,  11,   4,  11,   9,   4,  10,   2,  -7,\n",
      "        -10,  -4, -25],\n",
      "       [ 18, -17,  -1, -13, -20,  -1,  -3,  -2,   5,  -6,   4,   5,  -3,\n",
      "         -3,   5,   1],\n",
      "       [  2, -24,   1,   4,  -1,   3,  19,   1,   7,  -8,  -9,  -5, -10,\n",
      "          0,  -9,  -2],\n",
      "       [-14, -17,  -7, -11,  -7,  -6,  -4,  10,  14,   7,  -4,  15, -15,\n",
      "        -20,   3,   0],\n",
      "       [ -1,   0, -16, -12,  12,  10,  -7,  19, -11,  -6,   3, -12,  -5,\n",
      "         -2,  -4,   9],\n",
      "       [  6, -11,  -7,   2,  -1,  -8,   4,   8,  -6,   8, -16, -16,   5,\n",
      "         -8, -10,  -3],\n",
      "       [ -7,   3, -15,  -4,  32,   1, -19,   6,   5,  14,   1,  -7,  14,\n",
      "          7, -18,   7],\n",
      "       [ -2,  11,  -4,   8,   2,   6,   0,  -4,   1,   6,   4,  16,   4,\n",
      "          6,  21,   1],\n",
      "       [  5,  -6,   0,  16,   3,  15, -11, -14,   3, -14,  27,  12, -12,\n",
      "         -2,  -6,   4]])\n",
      " ## solid angle(deg=20): 2.3104759575650814e-08\n",
      "Time to measure solid angle : 0.04\n",
      "\n",
      "vector dim: 32, number of vector: 32\n",
      "ray=array([[ -1,   9,  15, ...,  16,   7,  -2],\n",
      "       [  1,  -1,   8, ...,  -5,   2,  -3],\n",
      "       [  3,  12,   0, ...,  -2, -12,  -7],\n",
      "       ...,\n",
      "       [-17,  11,   7, ...,   6,   0,  10],\n",
      "       [  1,  -5,  15, ...,  14,  -2,  -2],\n",
      "       [ -4, -21,  -2, ..., -22, -22,   3]])\n",
      " ## solid angle(deg=20): 5.3331563818696894e-18\n",
      "Time to measure solid angle : 0.16\n",
      "\n",
      "vector dim: 64, number of vector: 64\n",
      "ray=array([[-13,   6,  -2, ...,   7, -12,   5],\n",
      "       [ -1,   5,  -1, ...,  -5, -16,  11],\n",
      "       [ -1,   1,  -9, ...,  13,  -4,  19],\n",
      "       ...,\n",
      "       [-17,   9,  -7, ...,  -2,  -7,  11],\n",
      "       [ 19,  -6, -15, ..., -13, -22,  11],\n",
      "       [  7,   4, -13, ..., -16,   2,  -2]])\n"
     ]
    },
    {
     "name": "stderr",
     "output_type": "stream",
     "text": [
      "WARNING: Associated matrix NOT positive definite, series NOT converge\n"
     ]
    },
    {
     "name": "stdout",
     "output_type": "stream",
     "text": [
      " ## solid angle(deg=20): 1.2034325390335816e-34\n",
      "Time to measure solid angle : 0.82\n",
      "\n",
      "vector dim: 128, number of vector: 128\n",
      "ray=array([[ -9,   6,   6, ...,  12,  -4,  -4],\n",
      "       [  8,  -2,  14, ..., -15,  13, -10],\n",
      "       [-10,  -3,   1, ...,  18, -11,  -8],\n",
      "       ...,\n",
      "       [  2,  25,  -2, ...,   4,   7,  -8],\n",
      "       [  4,   2,  -3, ...,  -4,  -2,  20],\n",
      "       [ 11,   0,   8, ...,  13,  28, -16]])\n"
     ]
    },
    {
     "name": "stderr",
     "output_type": "stream",
     "text": [
      "WARNING: Associated matrix NOT positive definite, series NOT converge\n"
     ]
    },
    {
     "name": "stdout",
     "output_type": "stream",
     "text": [
      " ## solid angle(deg=20): 2.943943200718048e-67\n",
      "Time to measure solid angle : 6.96\n",
      "\n",
      "vector dim: 256, number of vector: 256\n",
      "ray=array([[ -1,   5, -10, ...,  -6, -24,  -7],\n",
      "       [ -2,  11,   1, ...,  -4,   1, -14],\n",
      "       [ -9,  -2,  -2, ...,   0, -24,  -3],\n",
      "       ...,\n",
      "       [  3,   0,   5, ...,   8,   5,   2],\n",
      "       [  9,  -4,   1, ...,   4, -20,   7],\n",
      "       [  0, -16,  12, ...,   3,   3,  -3]])\n"
     ]
    },
    {
     "name": "stderr",
     "output_type": "stream",
     "text": [
      "WARNING: Associated matrix NOT positive definite, series NOT converge\n"
     ]
    },
    {
     "name": "stdout",
     "output_type": "stream",
     "text": [
      " ## solid angle(deg=20): 2.2303593571364295e-135\n",
      "Time to measure solid angle : 88.6\n",
      "\n",
      "vector dim: 512, number of vector: 512\n",
      "ray=array([[-19,   7,   2, ...,   6, -17,   6],\n",
      "       [ -6,  -2, -24, ...,   8, -16,  -1],\n",
      "       [-18,  22,  14, ..., -14,  -1,  -8],\n",
      "       ...,\n",
      "       [ -8,  12,  -5, ..., -17,  16, -21],\n",
      "       [ -5,   0,  -8, ...,   1,   7,  -2],\n",
      "       [-18,  13,  21, ...,  -3,   7,  17]])\n"
     ]
    },
    {
     "name": "stderr",
     "output_type": "stream",
     "text": [
      "WARNING: Associated matrix NOT positive definite, series NOT converge\n"
     ]
    },
    {
     "name": "stdout",
     "output_type": "stream",
     "text": [
      " ## solid angle(deg=20): 0.0\n",
      "Time to measure solid angle : 1605.83\n",
      "\n"
     ]
    }
   ],
   "source": [
    "result2_20, result2_40, result2_80, result2_160, = list(), list(), list(), list(), \n",
    "size_list = [2, 3, 4, 8, 16, 32, 64, 128, 256, 512]\n",
    "# size_list = [8]\n",
    "cone_list1 = []\n",
    "for s in size_list:\n",
    "    print(f\"vector dim: {s}, number of vector: {s}\")\n",
    "    start = time.time()\n",
    "    ray = np.round(np.random.normal(size=[s, s]), sf)*10**sf\n",
    "    ray = np.asarray(ray, dtype=int)\n",
    "    cone_list1.append(ray)\n",
    "    print(f\"{ray=}\")\n",
    "    A = matrix(ray)\n",
    "    start = time.time()\n",
    "    a = solid_angle_general(A, deg=10)\n",
    "    print(f\" ## solid angle(deg=10): {a}\")\n",
    "    result2_20.append(a)\n",
    "    solid_angle_time = time.time()\n",
    "    print(f\"Time to measure solid angle : {round(solid_angle_time - start, 2)}\")\n",
    "    # start = time.time()\n",
    "    # b = solid_angle_general(A, deg=40)\n",
    "    # print(f\" ## solid angle(deg=40): {b}\")\n",
    "    # result2_40.append(b)\n",
    "    # solid_angle_time = time.time()\n",
    "    # print(f\"Time to measure solid angle : {round(solid_angle_time - start, 2)}\")\n",
    "    # start = time.time()\n",
    "    # c = solid_angle_general(A, deg=80)\n",
    "    # print(f\" ## solid angle(deg=80): {c}\")\n",
    "    # result2_80.append(bc)\n",
    "    # solid_angle_time = time.time()\n",
    "    # print(f\"Time to measure solid angle : {round(solid_angle_time - start, 2)}\")\n",
    "    # d = solid_angle_general(A, deg=160)\n",
    "    # print(f\" ## solid angle(deg=160): {d}\")\n",
    "    # result2_160.append(d)\n",
    "    # solid_angle_time = time.time()\n",
    "    # print(f\"Time to measure solid angle : {round(solid_angle_time - start, 2)}\")\n",
    "    print()\n",
    "\n"
   ]
  },
  {
   "cell_type": "code",
   "execution_count": null,
   "metadata": {},
   "outputs": [
    {
     "name": "stdout",
     "output_type": "stream",
     "text": [
      "vector dim: 2, number of vector: 2\n",
      "Time to define dual: 0.05\n",
      "\n",
      "vector dim: 4, number of vector: 4\n",
      "Time to define dual: 0.01\n",
      "\n",
      "vector dim: 8, number of vector: 8\n",
      "Time to define dual: 0.03\n",
      "\n",
      "vector dim: 16, number of vector: 16\n",
      "Time to define dual: 0.03\n",
      "\n",
      "vector dim: 32, number of vector: 32\n",
      "Time to define dual: 0.13\n",
      "\n",
      "vector dim: 64, number of vector: 64\n",
      "Time to define dual: 0.75\n",
      "\n",
      "vector dim: 128, number of vector: 128\n",
      "Time to define dual: 5.45\n",
      "\n",
      "vector dim: 256, number of vector: 256\n",
      "Time to define dual: 89.67\n"
     ]
    },
    {
     "name": "stderr",
     "output_type": "stream",
     "text": [
      "/tmp/ipykernel_475133/3542891929.py:18: RuntimeWarning: divide by zero encountered in divide\n",
      "  dc_ray = dc_ray/np.std(dc_ray)\n",
      "/tmp/ipykernel_475133/3542891929.py:18: RuntimeWarning: invalid value encountered in divide\n",
      "  dc_ray = dc_ray/np.std(dc_ray)\n"
     ]
    },
    {
     "ename": "ValueError",
     "evalue": "cannot convert float NaN to integer",
     "output_type": "error",
     "traceback": [
      "\u001b[0;31m---------------------------------------------------------------------------\u001b[0m",
      "\u001b[0;31mValueError\u001b[0m                                Traceback (most recent call last)",
      "\u001b[1;32m/home/jaeyoung/nas/cl_gym/test.ipynb Cell 5\u001b[0m line \u001b[0;36m2\n\u001b[1;32m     <a href='vscode-notebook-cell://ssh-remote%2Bdi5.kaist.ac.kr/home/jaeyoung/nas/cl_gym/test.ipynb#W4sdnNjb2RlLXJlbW90ZQ%3D%3D?line=20'>21</a>\u001b[0m     \u001b[39mfor\u001b[39;00m j, e \u001b[39min\u001b[39;00m \u001b[39menumerate\u001b[39m(ray):\n\u001b[1;32m     <a href='vscode-notebook-cell://ssh-remote%2Bdi5.kaist.ac.kr/home/jaeyoung/nas/cl_gym/test.ipynb#W4sdnNjb2RlLXJlbW90ZQ%3D%3D?line=21'>22</a>\u001b[0m         dc_ray_r[i, j] \u001b[39m=\u001b[39m np\u001b[39m.\u001b[39mround(\u001b[39mfloat\u001b[39m(e), \u001b[39m4\u001b[39m)\u001b[39m*\u001b[39m\u001b[39m1e4\u001b[39m\n\u001b[0;32m---> <a href='vscode-notebook-cell://ssh-remote%2Bdi5.kaist.ac.kr/home/jaeyoung/nas/cl_gym/test.ipynb#W4sdnNjb2RlLXJlbW90ZQ%3D%3D?line=22'>23</a>\u001b[0m dc_ray_r \u001b[39m=\u001b[39m np\u001b[39m.\u001b[39;49masarray(dc_ray_r, dtype\u001b[39m=\u001b[39;49m\u001b[39mint\u001b[39;49m)\n\u001b[1;32m     <a href='vscode-notebook-cell://ssh-remote%2Bdi5.kaist.ac.kr/home/jaeyoung/nas/cl_gym/test.ipynb#W4sdnNjb2RlLXJlbW90ZQ%3D%3D?line=23'>24</a>\u001b[0m dc_ray_list\u001b[39m.\u001b[39mappend(dc_ray_r)\n\u001b[1;32m     <a href='vscode-notebook-cell://ssh-remote%2Bdi5.kaist.ac.kr/home/jaeyoung/nas/cl_gym/test.ipynb#W4sdnNjb2RlLXJlbW90ZQ%3D%3D?line=25'>26</a>\u001b[0m \u001b[39m# A = matrix(dc_ray_r)\u001b[39;00m\n\u001b[1;32m     <a href='vscode-notebook-cell://ssh-remote%2Bdi5.kaist.ac.kr/home/jaeyoung/nas/cl_gym/test.ipynb#W4sdnNjb2RlLXJlbW90ZQ%3D%3D?line=26'>27</a>\u001b[0m \u001b[39m# dual_ray_time = time.time()\u001b[39;00m\n\u001b[1;32m     <a href='vscode-notebook-cell://ssh-remote%2Bdi5.kaist.ac.kr/home/jaeyoung/nas/cl_gym/test.ipynb#W4sdnNjb2RlLXJlbW90ZQ%3D%3D?line=27'>28</a>\u001b[0m \u001b[39m# # print(f\"Time to get dual basis : {round(dual_ray_time - start, 2)}\")\u001b[39;00m\n\u001b[0;32m   (...)\u001b[0m\n\u001b[1;32m     <a href='vscode-notebook-cell://ssh-remote%2Bdi5.kaist.ac.kr/home/jaeyoung/nas/cl_gym/test.ipynb#W4sdnNjb2RlLXJlbW90ZQ%3D%3D?line=32'>33</a>\u001b[0m \u001b[39m# solid_angle_time = time.time()\u001b[39;00m\n\u001b[1;32m     <a href='vscode-notebook-cell://ssh-remote%2Bdi5.kaist.ac.kr/home/jaeyoung/nas/cl_gym/test.ipynb#W4sdnNjb2RlLXJlbW90ZQ%3D%3D?line=33'>34</a>\u001b[0m \u001b[39m# print(f\"Time to measure solid angle : {round(solid_angle_time - start, 2)}\")\u001b[39;00m\n",
      "\u001b[0;31mValueError\u001b[0m: cannot convert float NaN to integer"
     ]
    }
   ],
   "source": [
    "result = list()\n",
    "size_list = [2, 4, 8, 16, 32, 64, 128, 256, 512]\n",
    "cone_list, dual_cone_list, dc_ray_list,  = [], [], []\n",
    "for s in size_list:\n",
    "    print(f\"vector dim: {s}, number of vector: {s}\")\n",
    "    start = time.time()\n",
    "    ray = np.round(np.random.normal(size=[s, s]), sf)*10**sf\n",
    "    ray = np.asarray(ray, dtype=int)\n",
    "    cone = Cone(ray, normalize=True)\n",
    "    cone_list.append(cone)\n",
    "\n",
    "    dual_cone = cone.dual()\n",
    "    dual_cone_list.append(dual_cone)\n",
    "\n",
    "    dual_time = time.time()\n",
    "    print(f\"Time to define dual: {round(dual_time - start, 2)}\")\n",
    "    dc_ray = dual_cone.rays()\n",
    "    dc_ray = dc_ray/np.std(dc_ray)\n",
    "    dc_ray_r = np.zeros_like(dc_ray)\n",
    "    for i, ray in enumerate(dc_ray):\n",
    "        for j, e in enumerate(ray):\n",
    "            dc_ray_r[i, j] = np.round(float(e), 4)*1e4\n",
    "    dc_ray_r = np.asarray(dc_ray_r, dtype=int)\n",
    "    dc_ray_list.append(dc_ray_r)\n",
    "\n",
    "    # A = matrix(dc_ray_r)\n",
    "    # dual_ray_time = time.time()\n",
    "    # # print(f\"Time to get dual basis : {round(dual_ray_time - start, 2)}\")\n",
    "    # a = solid_angle_general(A)\n",
    "    # print(f\" ## solid angle: {a}\")\n",
    "    # result.append(a)\n",
    "    # dc_ray\n",
    "    # solid_angle_time = time.time()\n",
    "    # print(f\"Time to measure solid angle : {round(solid_angle_time - start, 2)}\")\n",
    "    print()\n"
   ]
  },
  {
   "cell_type": "code",
   "execution_count": null,
   "metadata": {},
   "outputs": [
    {
     "data": {
      "text/plain": [
       "array([0, 2])"
      ]
     },
     "execution_count": 3,
     "metadata": {},
     "output_type": "execute_result"
    }
   ],
   "source": [
    "np.where([True, False, True])[0]"
   ]
  },
  {
   "cell_type": "code",
   "execution_count": null,
   "metadata": {},
   "outputs": [],
   "source": [
    "target = (dataset.targets.clone().detach().numpy() == cls)\n",
    "num_candidate = np.where(target == 1)[0]\n"
   ]
  },
  {
   "cell_type": "code",
   "execution_count": null,
   "metadata": {},
   "outputs": [
    {
     "data": {
      "text/plain": [
       "0.5263447341982757"
      ]
     },
     "execution_count": 5,
     "metadata": {},
     "output_type": "execute_result"
    }
   ],
   "source": [
    "np.random.choice()"
   ]
  },
  {
   "cell_type": "code",
   "execution_count": null,
   "metadata": {},
   "outputs": [],
   "source": [
    "from cl_gym.benchmarks.utils import DEFAULT_DATASET_DIR\n",
    "\n",
    "import torchvision\n",
    "mnist_train = torchvision.datasets.MNIST(DEFAULT_DATASET_DIR, train=True, download=True)\n",
    "target_classes = mnist_train.targets"
   ]
  },
  {
   "cell_type": "code",
   "execution_count": null,
   "metadata": {},
   "outputs": [],
   "source": [
    "cls_idx = np.random.choice(mnist_train.targets.unique().cpu().numpy(), size=10,replace=False)"
   ]
  },
  {
   "cell_type": "code",
   "execution_count": null,
   "metadata": {},
   "outputs": [],
   "source": [
    "task_id = 2\n",
    "\n",
    "start_class = (task_id-1) * 2\n",
    "end_class = task_id * 2\n",
    "# For CIFAR-like datasets in torchvision where targets are list\n",
    "# target_classes = dataset.targets.clone().detach().numpy()\n",
    "selected_indices = np.where(np.logical_and(start_class <= target_classes, target_classes < end_class))[0]\n"
   ]
  },
  {
   "cell_type": "code",
   "execution_count": null,
   "metadata": {},
   "outputs": [
    {
     "data": {
      "text/plain": [
       "array([6, 8, 3, 1, 4, 5, 9, 7, 2, 0])"
      ]
     },
     "execution_count": 28,
     "metadata": {},
     "output_type": "execute_result"
    }
   ],
   "source": [
    "cls_idx"
   ]
  },
  {
   "cell_type": "code",
   "execution_count": null,
   "metadata": {},
   "outputs": [],
   "source": [
    "c = cls_idx[start_class:end_class]"
   ]
  },
  {
   "cell_type": "code",
   "execution_count": null,
   "metadata": {},
   "outputs": [
    {
     "data": {
      "text/plain": [
       "array([3, 1])"
      ]
     },
     "execution_count": 51,
     "metadata": {},
     "output_type": "execute_result"
    }
   ],
   "source": [
    "cls_idx[start_class:end_class]"
   ]
  },
  {
   "cell_type": "code",
   "execution_count": null,
   "metadata": {},
   "outputs": [
    {
     "data": {
      "text/plain": [
       "1"
      ]
     },
     "execution_count": 42,
     "metadata": {},
     "output_type": "execute_result"
    }
   ],
   "source": [
    "c"
   ]
  },
  {
   "cell_type": "code",
   "execution_count": null,
   "metadata": {},
   "outputs": [
    {
     "data": {
      "text/plain": [
       "array([    3,     6,     7, ..., 59984, 59994, 59996])"
      ]
     },
     "execution_count": 52,
     "metadata": {},
     "output_type": "execute_result"
    }
   ],
   "source": [
    "indices = np.zeros_like(target_classes)\n",
    "for c in cls_idx[start_class:end_class]:\n",
    "    indices = np.logical_or(indices, target_classes == c)\n",
    "selected_indices = np.where(indices)[0]"
   ]
  },
  {
   "cell_type": "code",
   "execution_count": null,
   "metadata": {},
   "outputs": [
    {
     "data": {
      "text/plain": [
       "array([0, 1], dtype=uint8)"
      ]
     },
     "execution_count": 57,
     "metadata": {},
     "output_type": "execute_result"
    }
   ],
   "source": [
    "np.unique(indices[:20].cpu().numpy())"
   ]
  },
  {
   "cell_type": "code",
   "execution_count": null,
   "metadata": {},
   "outputs": [
    {
     "data": {
      "text/plain": [
       "tensor([1, 1, 3,  ..., 1, 1, 3])"
      ]
     },
     "execution_count": 54,
     "metadata": {},
     "output_type": "execute_result"
    }
   ],
   "source": [
    "target_classes[np.where(indices)[0]]"
   ]
  },
  {
   "cell_type": "code",
   "execution_count": null,
   "metadata": {},
   "outputs": [
    {
     "data": {
      "text/plain": [
       "array([0, 1, 2, 3, 4, 5, 6, 7, 8, 9])"
      ]
     },
     "execution_count": 58,
     "metadata": {},
     "output_type": "execute_result"
    }
   ],
   "source": [
    "np.arange(10)"
   ]
  },
  {
   "cell_type": "code",
   "execution_count": null,
   "metadata": {},
   "outputs": [],
   "source": [
    "a, b, *_ = 1, 2, 3, 4, 5"
   ]
  },
  {
   "cell_type": "code",
   "execution_count": null,
   "metadata": {},
   "outputs": [
    {
     "data": {
      "text/plain": [
       "[3, 4, 5]"
      ]
     },
     "execution_count": 2,
     "metadata": {},
     "output_type": "execute_result"
    }
   ],
   "source": [
    "_"
   ]
  },
  {
   "cell_type": "code",
   "execution_count": null,
   "metadata": {},
   "outputs": [],
   "source": [
    "import torchvision\n",
    "from cl_gym.benchmarks.utils import DEFAULT_DATASET_DIR\n",
    "from cl_gym.benchmarks.transforms import get_default_fashion_mnist_transform\n",
    "import torch\n",
    "\n",
    "transforms = get_default_fashion_mnist_transform(1)[0]\n",
    "fashion_mnist_train = torchvision.datasets.FashionMNIST(DEFAULT_DATASET_DIR, train=True, download=True, transform=transforms,)\n"
   ]
  },
  {
   "cell_type": "code",
   "execution_count": null,
   "metadata": {},
   "outputs": [
    {
     "ename": "AttributeError",
     "evalue": "'DataLoader' object has no attribute 'to'",
     "output_type": "error",
     "traceback": [
      "\u001b[0;31m---------------------------------------------------------------------------\u001b[0m",
      "\u001b[0;31mAttributeError\u001b[0m                            Traceback (most recent call last)",
      "Cell \u001b[0;32mIn[33], line 1\u001b[0m\n\u001b[0;32m----> 1\u001b[0m loader \u001b[38;5;241m=\u001b[39m \u001b[43mtorch\u001b[49m\u001b[38;5;241;43m.\u001b[39;49m\u001b[43mutils\u001b[49m\u001b[38;5;241;43m.\u001b[39;49m\u001b[43mdata\u001b[49m\u001b[38;5;241;43m.\u001b[39;49m\u001b[43mDataLoader\u001b[49m\u001b[43m(\u001b[49m\u001b[43mfashion_mnist_train\u001b[49m\u001b[43m,\u001b[49m\u001b[43m \u001b[49m\u001b[38;5;241;43m32\u001b[39;49m\u001b[43m,\u001b[49m\u001b[43m \u001b[49m\u001b[38;5;28;43;01mTrue\u001b[39;49;00m\u001b[43m)\u001b[49m\u001b[38;5;241;43m.\u001b[39;49m\u001b[43mto\u001b[49m(\u001b[38;5;124m\"\u001b[39m\u001b[38;5;124mcuda\u001b[39m\u001b[38;5;124m\"\u001b[39m)\n",
      "\u001b[0;31mAttributeError\u001b[0m: 'DataLoader' object has no attribute 'to'"
     ]
    }
   ],
   "source": [
    "loader = torch.utils.data.DataLoader(fashion_mnist_train, 32, True)"
   ]
  },
  {
   "cell_type": "code",
   "execution_count": null,
   "metadata": {},
   "outputs": [],
   "source": [
    "y = loader.dataset.targets.cpu().numpy()\n",
    "y_torch = loader.dataset.targets.to(\"cuda\")"
   ]
  },
  {
   "cell_type": "code",
   "execution_count": null,
   "metadata": {},
   "outputs": [],
   "source": [
    "d = dict()\n",
    "for c in y_torch.unique():\n",
    "    c = c.cpu().item()\n",
    "    d[c] = (y_torch==c).nonzero().reshape(-1)"
   ]
  },
  {
   "cell_type": "code",
   "execution_count": null,
   "metadata": {},
   "outputs": [
    {
     "data": {
      "text/plain": [
       "torch.Size([6000])"
      ]
     },
     "execution_count": 56,
     "metadata": {},
     "output_type": "execute_result"
    }
   ],
   "source": [
    "d[0].shape"
   ]
  },
  {
   "cell_type": "code",
   "execution_count": null,
   "metadata": {},
   "outputs": [
    {
     "data": {
      "text/plain": [
       "tensor([0, 1, 2, 3, 4, 5, 6, 7, 8, 9], device='cuda:0')"
      ]
     },
     "execution_count": 38,
     "metadata": {},
     "output_type": "execute_result"
    }
   ],
   "source": [
    "y_torch.unique()"
   ]
  },
  {
   "cell_type": "code",
   "execution_count": null,
   "metadata": {},
   "outputs": [
    {
     "data": {
      "text/plain": [
       "tensor([[9]], device='cuda:0')"
      ]
     },
     "execution_count": 41,
     "metadata": {},
     "output_type": "execute_result"
    }
   ],
   "source": [
    "(y_torch.unique()==c).nonzero()"
   ]
  },
  {
   "cell_type": "code",
   "execution_count": null,
   "metadata": {},
   "outputs": [],
   "source": [
    "class A():\n",
    "    def __init__(self):\n",
    "        self.a = \"a\"\n",
    "    def aa(self):\n",
    "        def bb():\n",
    "            return \"bb\"\n",
    "        print(bb())\n",
    "        return \"aa\""
   ]
  },
  {
   "cell_type": "code",
   "execution_count": null,
   "metadata": {},
   "outputs": [
    {
     "name": "stdout",
     "output_type": "stream",
     "text": [
      "bb\n"
     ]
    },
    {
     "data": {
      "text/plain": [
       "'aa'"
      ]
     },
     "execution_count": 67,
     "metadata": {},
     "output_type": "execute_result"
    }
   ],
   "source": [
    "a = A()\n",
    "a.aa()"
   ]
  },
  {
   "cell_type": "code",
   "execution_count": null,
   "metadata": {},
   "outputs": [],
   "source": [
    "new_l0_grads = torch.empty((0, 10), device=\"cuda\", dtype=torch.float32)"
   ]
  },
  {
   "cell_type": "code",
   "execution_count": null,
   "metadata": {},
   "outputs": [
    {
     "data": {
      "text/plain": [
       "torch.Size([0, 10])"
      ]
     },
     "execution_count": 71,
     "metadata": {},
     "output_type": "execute_result"
    }
   ],
   "source": [
    "new_l0_grads.shape"
   ]
  },
  {
   "cell_type": "code",
   "execution_count": null,
   "metadata": {},
   "outputs": [
    {
     "data": {
      "text/plain": [
       "{0: ['a'], 1: [], 2: [], 3: [], 4: [], 5: [], 6: [], 7: [], 8: [], 9: []}"
      ]
     },
     "execution_count": 73,
     "metadata": {},
     "output_type": "execute_result"
    }
   ],
   "source": [
    "a = {x:[] for x in range(10)}\n",
    "a[0].append('a')\n",
    "a"
   ]
  },
  {
   "cell_type": "code",
   "execution_count": null,
   "metadata": {},
   "outputs": [],
   "source": [
    "import matplotlib.pyplot as plt\n",
    "import numpy as np\n",
    "import copy"
   ]
  },
  {
   "cell_type": "code",
   "execution_count": null,
   "metadata": {},
   "outputs": [],
   "source": [
    "a = np.arange(10)\n",
    "b = copy.deepcopy(a)\n",
    "\n",
    "for i in range(1,4):\n",
    "    b = np.vstack([b, a+10*i])"
   ]
  },
  {
   "cell_type": "code",
   "execution_count": null,
   "metadata": {},
   "outputs": [
    {
     "data": {
      "text/plain": [
       "array([[ 0, 10, 20, 30],\n",
       "       [ 1, 11, 21, 31],\n",
       "       [ 2, 12, 22, 32],\n",
       "       [ 3, 13, 23, 33],\n",
       "       [ 4, 14, 24, 34],\n",
       "       [ 5, 15, 25, 35],\n",
       "       [ 6, 16, 26, 36],\n",
       "       [ 7, 17, 27, 37],\n",
       "       [ 8, 18, 28, 38],\n",
       "       [ 9, 19, 29, 39]])"
      ]
     },
     "execution_count": 23,
     "metadata": {},
     "output_type": "execute_result"
    }
   ],
   "source": [
    "b.T"
   ]
  },
  {
   "cell_type": "code",
   "execution_count": null,
   "metadata": {},
   "outputs": [
    {
     "data": {
      "image/png": "[encoded data removed]",
      "text/plain": [
       "<Figure size 640x480 with 1 Axes>"
      ]
     },
     "metadata": {},
     "output_type": "display_data"
    }
   ],
   "source": [
    "for i, e in enumerate(b):\n",
    "    plt.plot(e, label=i)\n",
    "plt.legend()\n",
    "plt.show()"
   ]
  },
  {
   "cell_type": "code",
   "execution_count": null,
   "metadata": {},
   "outputs": [],
   "source": [
    "import os\n",
    "os.mkdir(\"figs\") if os.path.exists(\"figs\") else 0"
   ]
  },
  {
   "cell_type": "code",
   "execution_count": null,
   "metadata": {},
   "outputs": [],
   "source": [
    "a = {x:2*x for x in range(3)}"
   ]
  },
  {
   "cell_type": "code",
   "execution_count": null,
   "metadata": {},
   "outputs": [
    {
     "data": {
      "text/plain": [
       "[0, 1, 2]"
      ]
     },
     "execution_count": 29,
     "metadata": {},
     "output_type": "execute_result"
    }
   ],
   "source": [
    "list(a.keys())"
   ]
  },
  {
   "cell_type": "code",
   "execution_count": null,
   "metadata": {},
   "outputs": [],
   "source": [
    "import torch\n",
    "a = torch.tensor([0, 0, 1, 2]).to(\"cuda:3\")"
   ]
  },
  {
   "cell_type": "code",
   "execution_count": null,
   "metadata": {},
   "outputs": [],
   "source": [
    "num_dict = {x:0 for x in a.unique().cpu().numpy()}"
   ]
  },
  {
   "cell_type": "code",
   "execution_count": null,
   "metadata": {},
   "outputs": [
    {
     "name": "stdout",
     "output_type": "stream",
     "text": [
      "0 3\n",
      "1 5\n",
      "2 8\n"
     ]
    }
   ],
   "source": [
    "num_dict[0] = 3\n",
    "num_dict[1] = 5\n",
    "num_dict[2] = 8\n",
    "for k, v in num_dict.items():\n",
    "    print(k, v)"
   ]
  },
  {
   "cell_type": "code",
   "execution_count": null,
   "metadata": {},
   "outputs": [
    {
     "name": "stdout",
     "output_type": "stream",
     "text": [
      "0\n",
      "0\n",
      "1\n",
      "2\n"
     ]
    }
   ],
   "source": [
    "num_dict\n",
    "\n",
    "ba = [0, 0, 1, 2, 2]\n",
    "for aa in a:\n",
    "    print(aa.item())"
   ]
  },
  {
   "cell_type": "code",
   "execution_count": null,
   "metadata": {},
   "outputs": [],
   "source": [
    "from torch.nn import functional as F\n",
    "import torch\n",
    "\n",
    "a = torch.tensor([[0.0, 1],\n",
    "                  [2, 3]])\n"
   ]
  },
  {
   "cell_type": "code",
   "execution_count": null,
   "metadata": {},
   "outputs": [
    {
     "data": {
      "text/plain": [
       "array([[0, 1, 2, 3, 4],\n",
       "       [5, 6, 7, 8, 9]])"
      ]
     },
     "execution_count": 25,
     "metadata": {},
     "output_type": "execute_result"
    }
   ],
   "source": [
    "np.reshape(np.arange(10), [2, 5])\n",
    "np.arange(10).reshape([2, 5])"
   ]
  },
  {
   "cell_type": "code",
   "execution_count": null,
   "metadata": {},
   "outputs": [],
   "source": [
    "import numpy as np\n",
    "from torch.nn import functional as F\n",
    "import torch\n",
    "\n",
    "base = np.arange(12).reshape([4, 3])\n",
    "new_grads = torch.tensor(base, dtype=float)\n",
    "selected_idx = [1, 2]"
   ]
  },
  {
   "cell_type": "code",
   "execution_count": null,
   "metadata": {},
   "outputs": [],
   "source": [
    "r_new_grads = new_grads[selected_idx]\n"
   ]
  },
  {
   "cell_type": "code",
   "execution_count": null,
   "metadata": {},
   "outputs": [],
   "source": [
    "n_r_new_grads = F.normalize(r_new_grads, p=2, dim=1)"
   ]
  },
  {
   "cell_type": "code",
   "execution_count": null,
   "metadata": {},
   "outputs": [
    {
     "data": {
      "text/plain": [
       "tensor([[0.4243, 0.5657, 0.7071],\n",
       "        [0.4915, 0.5735, 0.6554]], dtype=torch.float64)"
      ]
     },
     "execution_count": 30,
     "metadata": {},
     "output_type": "execute_result"
    }
   ],
   "source": [
    "n_r_new_grads"
   ]
  },
  {
   "cell_type": "code",
   "execution_count": null,
   "metadata": {},
   "outputs": [
    {
     "data": {
      "text/plain": [
       "tensor([[0.4243, 0.5657, 0.7071],\n",
       "        [0.4915, 0.5735, 0.6554]], dtype=torch.float64)"
      ]
     },
     "execution_count": 31,
     "metadata": {},
     "output_type": "execute_result"
    }
   ],
   "source": [
    "selected_idx = [0, 1]\n",
    "n_r_new_grads"
   ]
  },
  {
   "cell_type": "code",
   "execution_count": null,
   "metadata": {},
   "outputs": [
    {
     "name": "stdout",
     "output_type": "stream",
     "text": [
      "status  = integer optimal solution\n",
      "time    = 19661.6 s.\n",
      "problem = MIQP\n",
      "gap     = 0%\n",
      "\n",
      "solution for: Sample\n",
      "objective: 0.00229369\n",
      "status: OPTIMAL_SOLUTION(2)\n",
      "x_274=1\n",
      "x_971=1\n",
      "\n",
      "Solution status :  JobSolveStatus.OPTIMAL_SOLUTION\n",
      "Objective value :  0.0022936940555138285\n"
     ]
    }
   ],
   "source": [
    "import numpy as np\n",
    "import pandas as pd\n",
    "from docplex.mp.model import Model\n",
    "\n",
    "model = Model('Sample')\n",
    "\n",
    "n = 4 # number of classes\n",
    "m = 1200 # number of training samples\n",
    "\n",
    "# A = np.ones([n, m])\n",
    "A = np.random.random([n, m])\n",
    "x_dict = (i for i in range(m))\n",
    "b = np.random.random([n])\n",
    "# b = np.ones([n])\n",
    "\n",
    "x = model.binary_var_dict(x_dict, name = 'x', lb = 0, ub = 1)\n",
    "obj = sum((sum(A[i,j]*x[j] for j in range(m)) - b[i])**2 for i in range(n))\n",
    "model.set_objective(\"min\", obj)\n",
    "\n",
    "# model.solve(log_output=True)    # model object를 위에서 정의한 제약식과 목적함수를 이용해서 푸는 코드(log_output은 solver가 문제를 풀때, 진행 상태를 보여주는 것을 의미\n",
    "model.solve(log_output=False)    # model object를 위에서 정의한 제약식과 목적함수를 이용해서 푸는 코드(log_output은 solver가 문제를 풀때, 진행 상태를 보여주는 것을 의미\n",
    "print(model.solve_details)   # 문제가 풀렸을때 그 해에 대한 detail한 정보를 출력\n",
    "# print(model.export_as_lp_string()) # 추가한 제약식 및 목적함수를 LP형태로 출력\n",
    "print(model.solution)  # 문제의 solution을 출력\n",
    "print(\"Solution status : \" , model.get_solve_status())   # 찾은 해가 optimal, feasible, infeasible인지 출력\n",
    "print(\"Objective value : \" , model.objective_value )    # 목적함수값 출력\n",
    "soln = model.solution.get_value_dict({f\"x_{i}\":x[i] for i in range(m)})\n",
    "soln"
   ]
  },
  {
   "cell_type": "code",
   "execution_count": null,
   "metadata": {},
   "outputs": [],
   "source": []
  },
  {
   "cell_type": "code",
   "execution_count": null,
   "metadata": {},
   "outputs": [],
   "source": []
  },
  {
   "cell_type": "code",
   "execution_count": 104,
   "metadata": {},
   "outputs": [],
   "source": [
    "def LS_solver(A: np.array, b: np.array, binary = False):\n",
    "    \"\"\"\n",
    "    Solve Least Square problem below\n",
    "    min_x (Ax - b)**2 \n",
    "    where\n",
    "    x: [..., x_i, ...] (1-d array size m)\n",
    "    0 ≤ x_i ≤ 1.\n",
    "    Usually, n is number of class and m is number of training set.\n",
    "    If binary is True, x_i is 0 or 1. \n",
    "\n",
    "    Args:\n",
    "        A: given 2-d array size n ⨯ m\n",
    "        b: given 1-d array size n\n",
    "        binary: indicates the type of problem\n",
    "\n",
    "    Return:\n",
    "        x: np.array of solution\n",
    "    \"\"\"\n",
    "    if A.shape[0] != b.shape[0]:\n",
    "        raise NotImplementedError\n",
    "    \n",
    "    n, m = A.shape\n",
    "    model = Model('Sample')\n",
    "    x_dict = (i for i in range(m))\n",
    "    if binary:\n",
    "        x = model.binary_var_dict(x_dict, name = 'x', lb = 0, ub = 1)\n",
    "    else:\n",
    "        x = model.continuous_var_dict(x_dict, name = 'x', lb = 0, ub = 1)\n",
    "\n",
    "    obj = sum((sum(A[i,j]*x[j] for j in range(m)) - b[i])**2 for i in range(n))\n",
    "    model.set_objective(\"min\", obj)\n",
    "\n",
    "    model.solve(log_output=False)\n",
    "    soln = np.array([x[i].solution_value for i in range(m)])\n",
    "    return soln\n",
    "\n"
   ]
  },
  {
   "cell_type": "code",
   "execution_count": 20,
   "metadata": {},
   "outputs": [
    {
     "data": {
      "text/plain": [
       "120"
      ]
     },
     "execution_count": 20,
     "metadata": {},
     "output_type": "execute_result"
    }
   ],
   "source": [
    "len(soln)"
   ]
  },
  {
   "cell_type": "code",
   "execution_count": 21,
   "metadata": {},
   "outputs": [
    {
     "data": {
      "text/plain": [
       "array([1, 5, 9])"
      ]
     },
     "execution_count": 21,
     "metadata": {},
     "output_type": "execute_result"
    }
   ],
   "source": [
    "a = np.arange(12).reshape(3, 4)\n",
    "a[:,1]"
   ]
  },
  {
   "cell_type": "code",
   "execution_count": null,
   "metadata": {},
   "outputs": [],
   "source": []
  },
  {
   "cell_type": "code",
   "execution_count": 94,
   "metadata": {},
   "outputs": [],
   "source": [
    "def minimax_LP_solver(*args, **kwargs):\n",
    "    return minimax_LP_solver_v2(*args, **kwargs)\n",
    "\n",
    "\n",
    "def minimax_LP_solver_v2(A: np.ndarray, b: np.ndarray, binary = False):\n",
    "    \"\"\"\n",
    "    Solve Least Square problem below\n",
    "    min_x max_i |A_i·x - b_i|\n",
    "    where\n",
    "    A_i : ith row vector of A (1-d array size m)\n",
    "    b_i : ith element of b (scalar)\n",
    "    x : [..., x_i, ...] (1-d array size m)\n",
    "    0 ≤ x_i ≤ 1.\n",
    "    Usually, n is number of class and m is number of training set.\n",
    "    If binary is True, x_i is 0 or 1. \n",
    "\n",
    "    Args:\n",
    "        A: given 2-d array size n ⨯ m\n",
    "        b: given 1-d array size n\n",
    "        binary: indicates the type of problem\n",
    "\n",
    "    Return:\n",
    "        x: np.array of solution\n",
    "    \"\"\"\n",
    "    if A.shape[0] != b.shape[0]:\n",
    "        raise NotImplementedError\n",
    "    \n",
    "    n, m = A.shape\n",
    "    model = Model('minimax_LP')\n",
    "    x_dict = (i for i in range(m))\n",
    "\n",
    "    if binary:\n",
    "        x = model.binary_var_dict(x_dict, name = 'x', lb = 0, ub = 1)\n",
    "    else:\n",
    "        x = model.continuous_var_dict(x_dict, name = 'x', lb = 0, ub = 1)\n",
    "    y = model.continuous_var(name = 'y', lb = 0)\n",
    "\n",
    "    c1 = model.add_constraints([-y + sum(A[i,j]*x[j] for j in range(m)) <=   b[i] for i in range(n)], names = \"ub_\")\n",
    "    c2 = model.add_constraints([-y - sum(A[i,j]*x[j] for j in range(m)) <= - b[i] for i in range(n)], names = \"lb_\")\n",
    "\n",
    "    model.set_objective(\"min\", y)\n",
    "    # model.print_information()\n",
    "    # print(model.export_as_lp_string())\n",
    "    model.solve(log_output=False) \n",
    "    soln = [x[i].solution_value for i in range(m)]\n",
    "    # print(\"Objective value : \" , model.objective_value )    # 목적함수값 출력\n",
    "    return soln"
   ]
  },
  {
   "cell_type": "code",
   "execution_count": 160,
   "metadata": {},
   "outputs": [],
   "source": [
    "np_weight = np.array(soln)"
   ]
  },
  {
   "cell_type": "code",
   "execution_count": 164,
   "metadata": {},
   "outputs": [
    {
     "data": {
      "text/plain": [
       "8.02818273559389e-05"
      ]
     },
     "execution_count": 164,
     "metadata": {},
     "output_type": "execute_result"
    }
   ],
   "source": [
    "np_weight"
   ]
  },
  {
   "cell_type": "code",
   "execution_count": 178,
   "metadata": {},
   "outputs": [
    {
     "data": {
      "image/png": "[encoded data removed]",
      "text/plain": [
       "<Figure size 640x480 with 1 Axes>"
      ]
     },
     "metadata": {},
     "output_type": "display_data"
    }
   ],
   "source": [
    "import matplotlib.pyplot as plt\n",
    "\n",
    "plt.hist(soln, color = \"green\", alpha = 0.4, bins = 100, edgecolor=\"black\")\n",
    "plt.show()\n"
   ]
  },
  {
   "cell_type": "code",
   "execution_count": 183,
   "metadata": {},
   "outputs": [
    {
     "data": {
      "text/plain": [
       "array([1, 2, 3])"
      ]
     },
     "execution_count": 183,
     "metadata": {},
     "output_type": "execute_result"
    }
   ],
   "source": [
    "np.array(np.array([1, 2, 3]))"
   ]
  },
  {
   "cell_type": "code",
   "execution_count": 188,
   "metadata": {},
   "outputs": [
    {
     "data": {
      "text/plain": [
       "tensor(0.0094, dtype=torch.float64)"
      ]
     },
     "execution_count": 188,
     "metadata": {},
     "output_type": "execute_result"
    }
   ],
   "source": [
    "import torch\n",
    "\n",
    "a = torch.ones([120])\n",
    "(a*np.array(soln)).mean()"
   ]
  },
  {
   "cell_type": "code",
   "execution_count": 107,
   "metadata": {},
   "outputs": [],
   "source": [
    "import numpy as np\n",
    "\n",
    "n = 4\n",
    "m = 12000\n",
    "A = np.arange(-100, n*m-100).reshape(n, m)\n",
    "b = np.arange(-100, n-100)\n",
    "out = LS_solver(A, b, binary = False)"
   ]
  },
  {
   "cell_type": "code",
   "execution_count": 191,
   "metadata": {},
   "outputs": [
    {
     "name": "stderr",
     "output_type": "stream",
     "text": [
      "/tmp/ipykernel_2409975/1100057557.py:3: UserWarning: To copy construct from a tensor, it is recommended to use sourceTensor.clone().detach() or sourceTensor.clone().detach().requires_grad_(True), rather than torch.tensor(sourceTensor).\n",
      "  a = torch.tensor(a)\n"
     ]
    }
   ],
   "source": [
    "a = np.arange(10)\n",
    "a = torch.tensor(a)\n",
    "a = torch.tensor(a)"
   ]
  },
  {
   "cell_type": "code",
   "execution_count": 101,
   "metadata": {},
   "outputs": [],
   "source": [
    "import numpy as np\n",
    "\n",
    "n = 4\n",
    "m = 12000\n",
    "A = np.arange(-100, n*m-100).reshape(n, m)\n",
    "b = np.arange(-100, n-100)\n",
    "out = minimax_LP_solver(A, b, binary = False)"
   ]
  },
  {
   "cell_type": "code",
   "execution_count": 199,
   "metadata": {},
   "outputs": [
    {
     "data": {
      "text/plain": [
       "10"
      ]
     },
     "execution_count": 199,
     "metadata": {},
     "output_type": "execute_result"
    }
   ],
   "source": [
    "a = np.arange(10)\n",
    "a.reshape(2, 5).reshape(-1)\n",
    "a.shape[0]"
   ]
  },
  {
   "cell_type": "code",
   "execution_count": 134,
   "metadata": {},
   "outputs": [
    {
     "data": {
      "text/plain": [
       "array([1., 1., 1., 1.])"
      ]
     },
     "execution_count": 134,
     "metadata": {},
     "output_type": "execute_result"
    }
   ],
   "source": [
    "losses"
   ]
  },
  {
   "cell_type": "code",
   "execution_count": 135,
   "metadata": {},
   "outputs": [],
   "source": [
    "losses = np.ones([4, 1])\n",
    "alpha = 0.001\n",
    "grads_all = np.ones([4, 2700])\n",
    "new_grads = np.ones([12000, 2700])\n",
    "\n",
    "n = len(losses)\n",
    "m, dim = new_grads.shape\n",
    "\n",
    "c = np.ones_like(losses)\n",
    "d = np.ones_like(grads_all)\n",
    "\n",
    "for j in range(n):\n",
    "    c[j] = n*losses[j] - losses.sum()\n",
    "    d[j,:] = n*grads_all[j,:] - grads_all.sum(axis=0)\n",
    "\n",
    "# dg = np.matmul(new_grads, )"
   ]
  },
  {
   "cell_type": "code",
   "execution_count": 121,
   "metadata": {},
   "outputs": [
    {
     "data": {
      "text/plain": [
       "(12000, 4)"
      ]
     },
     "execution_count": 121,
     "metadata": {},
     "output_type": "execute_result"
    }
   ],
   "source": [
    "np.matmul(new_grads, grads_all.T).shape"
   ]
  },
  {
   "cell_type": "code",
   "execution_count": 150,
   "metadata": {},
   "outputs": [],
   "source": [
    "import torch\n",
    "\n",
    "losses = torch.ones([4, 1])\n",
    "alpha = 0.001\n",
    "grads_all = torch.ones([2700, 4])\n",
    "new_grads = torch.ones([12000, 2700])\n",
    "\n",
    "n = len(losses)\n",
    "m, dim = new_grads.shape\n",
    "\n",
    "c = torch.ones_like(losses)\n",
    "d = torch.ones_like(grads_all)\n",
    "\n",
    "for j in range(n):\n",
    "    c[j] = n*losses[j] - losses.sum()\n",
    "    d[:,j] = n*grads_all[:,j] - grads_all.sum(axis=1)\n",
    "\n",
    "d = alpha*d\n",
    "dg = torch.matmul(d.T, new_grads.T)\n",
    "\n",
    "# dg = np.matmul(new_grads, )"
   ]
  },
  {
   "cell_type": "code",
   "execution_count": 151,
   "metadata": {},
   "outputs": [
    {
     "data": {
      "text/plain": [
       "array([[0., 0., 0., ..., 0., 0., 0.],\n",
       "       [0., 0., 0., ..., 0., 0., 0.],\n",
       "       [0., 0., 0., ..., 0., 0., 0.],\n",
       "       [0., 0., 0., ..., 0., 0., 0.]], dtype=float32)"
      ]
     },
     "execution_count": 151,
     "metadata": {},
     "output_type": "execute_result"
    }
   ],
   "source": [
    "dg.cpu().detach().numpy()"
   ]
  },
  {
   "cell_type": "code",
   "execution_count": 1,
   "metadata": {},
   "outputs": [
    {
     "data": {
      "text/plain": [
       "tensor([ 0,  1,  4,  9, 16])"
      ]
     },
     "execution_count": 1,
     "metadata": {},
     "output_type": "execute_result"
    }
   ],
   "source": [
    "import torch\n",
    "a = torch.arange(5)\n",
    "b = torch.arange(5)\n",
    "a*b"
   ]
  },
  {
   "cell_type": "code",
   "execution_count": 153,
   "metadata": {},
   "outputs": [
    {
     "name": "stdout",
     "output_type": "stream",
     "text": [
      "solution for: Sample\n",
      "objective: 6.66134e-16\n",
      "status: OPTIMAL_SOLUTION(2)\n",
      "x_0=0.001\n",
      "x_1=0.001\n",
      "x_2=0.001\n",
      "x_3=0.001\n",
      "x_4=0.001\n",
      "x_5=0.001\n",
      "x_6=0.001\n",
      "x_7=0.003\n",
      "x_8=0.002\n",
      "x_9=0.001\n",
      "x_10=0.002\n",
      "x_11=0.001\n",
      "x_12=0.001\n",
      "x_13=0.001\n",
      "x_14=0.001\n",
      "x_15=0.001\n",
      "x_16=0.001\n",
      "x_17=0.001\n",
      "x_18=0.209\n",
      "x_19=0.001\n",
      "x_20=0.001\n",
      "x_21=0.001\n",
      "x_22=0.001\n",
      "x_23=0.001\n",
      "x_24=0.001\n",
      "x_25=0.001\n",
      "x_26=0.001\n",
      "x_27=0.001\n",
      "x_28=0.002\n",
      "x_29=0.001\n",
      "x_30=0.001\n",
      "x_31=0.001\n",
      "x_32=0.002\n",
      "x_33=0.001\n",
      "x_34=0.002\n",
      "x_35=0.002\n",
      "x_36=0.001\n",
      "x_37=0.002\n",
      "x_38=0.001\n",
      "x_39=0.001\n",
      "x_40=0.002\n",
      "x_41=0.001\n",
      "x_42=0.001\n",
      "x_43=0.001\n",
      "x_44=0.001\n",
      "x_45=0.002\n",
      "x_46=0.001\n",
      "x_47=0.002\n",
      "x_48=0.001\n",
      "x_49=0.001\n",
      "x_50=0.001\n",
      "x_51=0.001\n",
      "x_52=0.001\n",
      "x_53=0.001\n",
      "x_54=0.001\n",
      "x_55=0.004\n",
      "x_56=0.001\n",
      "x_57=0.001\n",
      "x_58=0.001\n",
      "x_59=0.001\n",
      "x_60=0.001\n",
      "x_61=0.001\n",
      "x_62=0.001\n",
      "x_63=0.002\n",
      "x_64=0.172\n",
      "x_65=0.001\n",
      "x_66=0.001\n",
      "x_67=0.002\n",
      "x_68=0.001\n",
      "x_69=0.001\n",
      "x_70=0.000\n",
      "x_71=0.001\n",
      "x_72=0.001\n",
      "x_73=0.001\n",
      "x_74=0.001\n",
      "x_75=0.001\n",
      "x_76=0.001\n",
      "x_77=0.001\n",
      "x_78=0.001\n",
      "x_79=0.001\n",
      "x_80=0.001\n",
      "x_81=0.002\n",
      "x_82=0.001\n",
      "x_83=0.001\n",
      "x_84=0.001\n",
      "x_85=0.001\n",
      "x_86=0.623\n",
      "x_87=0.001\n",
      "x_88=0.001\n",
      "x_89=0.001\n",
      "x_90=0.001\n",
      "x_91=0.001\n",
      "x_92=0.001\n",
      "x_93=0.001\n",
      "x_94=0.001\n",
      "x_95=0.001\n",
      "x_96=0.004\n",
      "x_97=0.001\n",
      "x_98=0.001\n",
      "x_99=0.001\n",
      "x_100=0.001\n",
      "x_101=0.001\n",
      "x_102=0.001\n",
      "x_103=0.001\n",
      "x_104=0.002\n",
      "x_105=0.001\n",
      "x_106=0.001\n",
      "x_107=0.001\n",
      "x_108=0.001\n",
      "x_109=0.002\n",
      "x_110=0.001\n",
      "x_111=0.001\n",
      "x_112=0.002\n",
      "x_113=0.001\n",
      "x_114=0.002\n",
      "x_115=0.001\n",
      "x_116=0.001\n",
      "x_117=0.001\n",
      "x_118=0.001\n",
      "x_119=0.001\n",
      "\n"
     ]
    }
   ],
   "source": [
    "print(model.solution)"
   ]
  },
  {
   "cell_type": "code",
   "execution_count": null,
   "metadata": {},
   "outputs": [],
   "source": []
  },
  {
   "cell_type": "code",
   "execution_count": null,
   "metadata": {},
   "outputs": [],
   "source": []
  },
  {
   "cell_type": "code",
   "execution_count": null,
   "metadata": {},
   "outputs": [],
   "source": []
  },
  {
   "cell_type": "code",
   "execution_count": null,
   "metadata": {},
   "outputs": [],
   "source": [
    "import cplex\n",
    "\n",
    "def problem_setup(label, w_sim, edge, ILP):\n",
    "    \"\"\"         \n",
    "        Constructs the label flipping optimization problem.\n",
    "        If ILP is True, it constructs the ILP problem, otherwise constructs the LP problem.\n",
    "\n",
    "        Args: \n",
    "            label: Labels of the data\n",
    "            w_sim: Similarity matrix\n",
    "            edge: Indices of similar pairs\n",
    "            ILP: Indicates the type of problem\n",
    "            \n",
    "        Return:\n",
    "            prob: Optimization problem\n",
    "            x_idx: Index of the solution\n",
    "    \"\"\"\n",
    "\n",
    "    m = 0\n",
    "    prob = cplex.Cplex()\n",
    "    prob.set_log_stream(None)\n",
    "    prob.set_error_stream(None)\n",
    "    prob.set_warning_stream(None)\n",
    "    prob.set_results_stream(None)\n",
    "    prob.objective.set_sense(prob.objective.sense.minimize)\n",
    "\n",
    "    name_z = []\n",
    "    name_x = []\n",
    "    for i in range(label.shape[0]):\n",
    "        name_z.append(f'z_{i}')\n",
    "        name_x.append(f'x_{i}')\n",
    "        \n",
    "    prob.variables.add(names=name_z,obj = [1.0] * label.shape[0],types = [prob.variables.type.continuous] * label.shape[0], lb=[0.0] * label.shape[0], ub=[1.0]* label.shape[0])\n",
    "    \n",
    "    if ILP:\n",
    "        x_idx = prob.variables.add(names=name_x,types = [prob.variables.type.binary] * label.shape[0], lb=[0] * label.shape[0], ub=[1]* label.shape[0])\n",
    "    else:\n",
    "        x_idx = prob.variables.add(names=name_x,types = [prob.variables.type.continuous] * label.shape[0], lb=[0] * label.shape[0], ub=[1]* label.shape[0])\n",
    "\n",
    "    for i in range(label.shape[0]):\n",
    "        prob.linear_constraints.add(\n",
    "            lin_expr = [cplex.SparsePair(ind = [f\"x_{i}\", f\"z_{i}\"], val = [-1.0, 1.0]),\n",
    "                        cplex.SparsePair(ind = [f\"x_{i}\", f\"z_{i}\"], val = [-1.0, 1.0]),\n",
    "                        cplex.SparsePair(ind = [f\"x_{i}\", f\"z_{i}\"], val = [1.0, 1.0]),\n",
    "                        cplex.SparsePair(ind = [f\"x_{i}\", f\"z_{i}\"], val = [1.0, 1.0])],\n",
    "            senses = [\"L\", \"G\", \"G\", \"L\"],\n",
    "            rhs = [label[i], -label[i], label[i], 2-label[i]],\n",
    "            names = [f'c_{i}0',f'c_{i}1',f'c_{i}2',f'c_{i}3'])\n",
    "\n",
    "    prob.linear_constraints.add(names=['violation'], senses=[\"L\"], rhs=[m])\n",
    "    for (i, j) in edge:\n",
    "        prob.variables.add(names=[f'z_{i}{j}'], types = [prob.variables.type.continuous],lb=[0], ub=[1])\n",
    "        prob.linear_constraints.set_linear_components('violation', [[f\"z_{i}{j}\"], [w_sim[i][j]]])\n",
    "        prob.linear_constraints.add(\n",
    "            lin_expr = [cplex.SparsePair(ind = [f\"x_{i}\", f\"x_{j}\",f\"z_{i}{j}\"], val = [-1.0, -1.0, 1.0]),\n",
    "                        cplex.SparsePair(ind = [f\"x_{i}\", f\"x_{j}\",f\"z_{i}{j}\"], val = [-1.0, 1.0, 1.0]),\n",
    "                        cplex.SparsePair(ind = [f\"x_{i}\", f\"x_{j}\",f\"z_{i}{j}\"], val = [1.0, -1.0, 1.0]),\n",
    "                        cplex.SparsePair(ind = [f\"x_{i}\", f\"x_{j}\",f\"z_{i}{j}\"], val = [1.0, 1.0, 1.0])],\n",
    "            senses = [\"L\", \"G\", \"G\", \"L\"],\n",
    "            rhs = [0, 0, 0, 2],\n",
    "            names = [f'c_{i}{j}0',f'c_{i}{j}1',f'c_{i}{j}2',f'c_{i}{j}3'])\n",
    "\n",
    "    return prob, x_idx\n",
    "\n",
    "def CPLEX_Solver(label, m, w_sim, edge, ILP = True):\n",
    "    \"\"\"         \n",
    "        Solves the label flipping optimization problem for a given total error limit m using CPLEX.\n",
    "        If ILP is True, it solves the ILP problem, otherwise solves the LP problem.\n",
    "\n",
    "        Args: \n",
    "            label: Labels of the data\n",
    "            m: The total error limit\n",
    "            w_sim: Similarity matrix\n",
    "            edge: Indices of similar pairs\n",
    "            ILP: Indicates the type of problem\n",
    "            \n",
    "        Return:\n",
    "            flipped_label: Flipped labels for a given m\n",
    "    \"\"\"\n",
    "\n",
    "    prob, x_idx = problem_setup(label, w_sim, edge, ILP)\n",
    "    \n",
    "    # Set the total error limit m \n",
    "    # total_error_limit = get_error(prob)\n",
    "    # prob.linear_constraints.set_rhs(total_error_limit, m)\n",
    "\n",
    "    # Solve the problem\n",
    "    prob.solve()\n",
    "    sol = prob.solution\n",
    "\n",
    "    return np.round(sol.get_values(list(x_idx)), decimals=4)\n",
    "\n",
    "# def get_error(prob):\n",
    "#     \"\"\" Finds the variables for m in the problem \"\"\"\n",
    "\n",
    "#     return get_name(prob, \"violation\")\n",
    "\n",
    "# def get_name(prob, keyword):\n",
    "#     \"\"\" Finds the variables for keyword in the problem \"\"\"\n",
    "\n",
    "#     changed_name = \"\"\n",
    "#     for i in range(prob.linear_constraints.get_num()):\n",
    "#         name = prob.linear_constraints.get_names(i)\n",
    "#         if keyword in name:\n",
    "#             changed_name = name\n",
    "#             return changed_name\n",
    "\n",
    "#     if changed_name == \"\":\n",
    "#         print(f\"Error: no {keyword}\")\n",
    "#         return"
   ]
  },
  {
   "cell_type": "code",
   "execution_count": 64,
   "metadata": {},
   "outputs": [],
   "source": [
    "import torchvision\n",
    "from cl_gym.benchmarks.utils import DEFAULT_DATASET_DIR\n",
    "from cl_gym.benchmarks.transforms import get_default_mnist_transform\n",
    "import copy\n",
    "import numpy as np\n",
    "\n",
    "COLOR_MAP = {\n",
    "    0: (1, 0, 0),\n",
    "    1: (0, 1, 0),\n",
    "    2: (1, 1, 0),\n",
    "    3: (0, 0, 1),\n",
    "    4: (1, 0.65, 0),\n",
    "    5: (0.5, 0, 0.5),\n",
    "    6: (0, 1, 1),\n",
    "    7: (1, 0.75, 0.8),\n",
    "    8: (0.8, 1, 0),\n",
    "    9: (.588, .294, 0.)\n",
    "}\n",
    "\n",
    "mnist_train = torchvision.datasets.MNIST(DEFAULT_DATASET_DIR, train=True, download=True, transform=get_default_mnist_transform(5)[0])\n"
   ]
  },
  {
   "cell_type": "code",
   "execution_count": 75,
   "metadata": {},
   "outputs": [],
   "source": [
    "sensitive_labels = torch.zeros_like(mnist_train.targets)\n",
    "labels = mnist_train.targets"
   ]
  },
  {
   "cell_type": "code",
   "execution_count": 76,
   "metadata": {},
   "outputs": [
    {
     "data": {
      "text/plain": [
       "torch.Size([60000, 28, 28])"
      ]
     },
     "execution_count": 76,
     "metadata": {},
     "output_type": "execute_result"
    }
   ],
   "source": [
    "old = mnist_train.data\n",
    "old.shape"
   ]
  },
  {
   "cell_type": "code",
   "execution_count": null,
   "metadata": {},
   "outputs": [],
   "source": []
  },
  {
   "cell_type": "code",
   "execution_count": 169,
   "metadata": {},
   "outputs": [],
   "source": [
    "new = list()\n",
    "colors = {k: torch.tensor(v) for k, v in COLOR_MAP.items()}\n",
    "for i, e in enumerate(old):\n",
    "    if np.random.uniform() < 0.9:\n",
    "        sensitive = labels[i].item()\n",
    "    else:\n",
    "        sensitive = np.random.randint(0, 9)\n",
    "    color = colors[sensitive]\n",
    "\n",
    "    mask = (e == 0)\n",
    "    not_mask = (e != 0)\n",
    "    new.append(mask.unsqueeze(2).repeat(1, 1, 3) * color.reshape(1, 1, -1).repeat(*mask.shape, 1) \\\n",
    "        +not_mask.unsqueeze(2).repeat(1, 1, 3))\n",
    "    "
   ]
  },
  {
   "cell_type": "code",
   "execution_count": 170,
   "metadata": {},
   "outputs": [
    {
     "data": {
      "text/plain": [
       "(28, 28, 3)"
      ]
     },
     "execution_count": 170,
     "metadata": {},
     "output_type": "execute_result"
    }
   ],
   "source": [
    "new[0].cpu().numpy().shape"
   ]
  },
  {
   "cell_type": "code",
   "execution_count": 171,
   "metadata": {},
   "outputs": [
    {
     "data": {
      "text/plain": [
       "tensor([0.8000, 1.0000, 0.0000])"
      ]
     },
     "execution_count": 171,
     "metadata": {},
     "output_type": "execute_result"
    }
   ],
   "source": [
    "color"
   ]
  },
  {
   "cell_type": "code",
   "execution_count": 172,
   "metadata": {},
   "outputs": [
    {
     "data": {
      "text/plain": [
       "torch.Size([60000, 28, 28, 3])"
      ]
     },
     "execution_count": 172,
     "metadata": {},
     "output_type": "execute_result"
    }
   ],
   "source": [
    "n = torch.stack(new)\n",
    "n.shape"
   ]
  },
  {
   "cell_type": "code",
   "execution_count": 174,
   "metadata": {},
   "outputs": [
    {
     "data": {
      "text/plain": [
       "<matplotlib.image.AxesImage at 0x7fc86d258e50>"
      ]
     },
     "execution_count": 174,
     "metadata": {},
     "output_type": "execute_result"
    },
    {
     "data": {
      "image/png": "[encoded data removed]",
      "text/plain": [
       "<Figure size 640x480 with 1 Axes>"
      ]
     },
     "metadata": {},
     "output_type": "display_data"
    }
   ],
   "source": [
    "from PIL import Image\n",
    "import matplotlib.pyplot as plt\n",
    "from torchvision.transforms.functional import to_pil_image\n",
    "\n",
    "i = 2\n",
    "img = n[i]\n",
    "# img = old[i]\n",
    "# plt.imshow(to_pil_image(mask.unsqueeze(0).repeat(3, 1, 1) * color.reshape(-1, 1, 1).repeat(1, *mask.shape)*1.0))\n",
    "# plt.imshow(to_pil_image(not_mask.unsqueeze(0).repeat(3, 1, 1)*1.0))\n",
    "# plt.imshow(to_pil_image(mask.unsqueeze(0).repeat(3, 1, 1) * color.reshape(-1, 1, 1).repeat(1, *mask.shape)*1.0 + not_mask.unsqueeze(0).repeat(3, 1, 1)*1.0))\n",
    "plt.imshow((img))\n",
    "\n",
    "# a = mask.unsqueeze(0).repeat(3, 1, 1) * color.reshape(-1, 1, 1).repeat(1, *mask.shape) \\\n",
    "#         +not_mask.unsqueeze(0).repeat(3, 1, 1)\n",
    "# plt.imshow(to_pil_image(a*1.0))"
   ]
  },
  {
   "cell_type": "code",
   "execution_count": null,
   "metadata": {},
   "outputs": [],
   "source": []
  },
  {
   "cell_type": "code",
   "execution_count": null,
   "metadata": {},
   "outputs": [],
   "source": []
  },
  {
   "cell_type": "code",
   "execution_count": null,
   "metadata": {},
   "outputs": [],
   "source": []
  },
  {
   "cell_type": "code",
   "execution_count": null,
   "metadata": {},
   "outputs": [],
   "source": []
  },
  {
   "cell_type": "code",
   "execution_count": null,
   "metadata": {},
   "outputs": [],
   "source": []
  },
  {
   "cell_type": "code",
   "execution_count": 129,
   "metadata": {},
   "outputs": [
    {
     "data": {
      "text/plain": [
       "tensor([[1., 1., 1., 1., 1., 1., 1., 1., 1., 1., 1., 1., 1., 1., 1., 1., 1., 1.,\n",
       "         1., 1., 1., 1., 1., 1., 1., 1., 1., 1.],\n",
       "        [1., 1., 1., 1., 1., 1., 1., 1., 1., 1., 1., 1., 1., 1., 1., 1., 1., 1.,\n",
       "         1., 1., 1., 1., 1., 1., 1., 1., 1., 1.],\n",
       "        [1., 1., 1., 1., 1., 1., 1., 1., 1., 1., 1., 1., 1., 1., 1., 1., 1., 1.,\n",
       "         1., 1., 1., 1., 1., 1., 1., 1., 1., 1.],\n",
       "        [1., 1., 1., 1., 1., 1., 1., 1., 1., 1., 1., 1., 1., 1., 1., 1., 1., 1.,\n",
       "         1., 1., 1., 1., 1., 1., 1., 1., 1., 1.],\n",
       "        [1., 1., 1., 1., 1., 1., 1., 1., 1., 1., 1., 1., 1., 1., 1., 0., 0., 0.,\n",
       "         0., 0., 1., 1., 1., 1., 1., 1., 1., 1.],\n",
       "        [1., 1., 1., 1., 1., 1., 1., 1., 1., 1., 1., 1., 1., 1., 0., 0., 0., 0.,\n",
       "         0., 0., 1., 1., 1., 1., 1., 1., 1., 1.],\n",
       "        [1., 1., 1., 1., 1., 1., 1., 1., 1., 1., 1., 1., 1., 0., 0., 0., 0., 0.,\n",
       "         0., 0., 0., 0., 1., 1., 1., 1., 1., 1.],\n",
       "        [1., 1., 1., 1., 1., 1., 1., 1., 1., 1., 1., 0., 0., 0., 0., 0., 0., 0.,\n",
       "         0., 0., 0., 0., 1., 1., 1., 1., 1., 1.],\n",
       "        [1., 1., 1., 1., 1., 1., 1., 1., 1., 1., 1., 0., 0., 0., 0., 0., 0., 0.,\n",
       "         0., 0., 0., 0., 1., 1., 1., 1., 1., 1.],\n",
       "        [1., 1., 1., 1., 1., 1., 1., 1., 1., 1., 0., 0., 0., 0., 0., 0., 0., 0.,\n",
       "         0., 0., 0., 0., 1., 1., 1., 1., 1., 1.],\n",
       "        [1., 1., 1., 1., 1., 1., 1., 1., 1., 0., 0., 0., 0., 0., 0., 0., 0., 0.,\n",
       "         1., 1., 0., 0., 0., 1., 1., 1., 1., 1.],\n",
       "        [1., 1., 1., 1., 1., 1., 1., 1., 0., 0., 0., 0., 0., 0., 1., 1., 1., 1.,\n",
       "         1., 1., 0., 0., 0., 1., 1., 1., 1., 1.],\n",
       "        [1., 1., 1., 1., 1., 1., 1., 0., 0., 0., 0., 0., 0., 0., 1., 1., 1., 1.,\n",
       "         1., 1., 0., 0., 0., 1., 1., 1., 1., 1.],\n",
       "        [1., 1., 1., 1., 1., 1., 1., 0., 0., 0., 0., 1., 1., 1., 1., 1., 1., 1.,\n",
       "         1., 1., 0., 0., 0., 1., 1., 1., 1., 1.],\n",
       "        [1., 1., 1., 1., 1., 1., 1., 0., 0., 0., 1., 1., 1., 1., 1., 1., 1., 1.,\n",
       "         1., 1., 0., 0., 0., 1., 1., 1., 1., 1.],\n",
       "        [1., 1., 1., 1., 1., 1., 0., 0., 0., 0., 1., 1., 1., 1., 1., 1., 1., 1.,\n",
       "         1., 1., 0., 0., 0., 1., 1., 1., 1., 1.],\n",
       "        [1., 1., 1., 1., 1., 1., 0., 0., 0., 0., 1., 1., 1., 1., 1., 1., 1., 1.,\n",
       "         0., 0., 0., 0., 0., 1., 1., 1., 1., 1.],\n",
       "        [1., 1., 1., 1., 1., 1., 0., 0., 0., 1., 1., 1., 1., 1., 1., 1., 1., 0.,\n",
       "         0., 0., 0., 0., 1., 1., 1., 1., 1., 1.],\n",
       "        [1., 1., 1., 1., 1., 1., 0., 0., 0., 1., 1., 1., 1., 1., 1., 1., 0., 0.,\n",
       "         0., 0., 1., 1., 1., 1., 1., 1., 1., 1.],\n",
       "        [1., 1., 1., 1., 1., 1., 0., 0., 0., 1., 1., 1., 1., 1., 1., 0., 0., 0.,\n",
       "         0., 1., 1., 1., 1., 1., 1., 1., 1., 1.],\n",
       "        [1., 1., 1., 1., 1., 1., 0., 0., 0., 0., 0., 0., 0., 0., 0., 0., 0., 0.,\n",
       "         0., 1., 1., 1., 1., 1., 1., 1., 1., 1.],\n",
       "        [1., 1., 1., 1., 1., 1., 0., 0., 0., 0., 0., 0., 0., 0., 0., 0., 0., 1.,\n",
       "         1., 1., 1., 1., 1., 1., 1., 1., 1., 1.],\n",
       "        [1., 1., 1., 1., 1., 1., 0., 0., 0., 0., 0., 0., 0., 0., 0., 1., 1., 1.,\n",
       "         1., 1., 1., 1., 1., 1., 1., 1., 1., 1.],\n",
       "        [1., 1., 1., 1., 1., 1., 1., 0., 0., 0., 0., 0., 0., 0., 1., 1., 1., 1.,\n",
       "         1., 1., 1., 1., 1., 1., 1., 1., 1., 1.],\n",
       "        [1., 1., 1., 1., 1., 1., 1., 1., 1., 1., 1., 1., 1., 1., 1., 1., 1., 1.,\n",
       "         1., 1., 1., 1., 1., 1., 1., 1., 1., 1.],\n",
       "        [1., 1., 1., 1., 1., 1., 1., 1., 1., 1., 1., 1., 1., 1., 1., 1., 1., 1.,\n",
       "         1., 1., 1., 1., 1., 1., 1., 1., 1., 1.],\n",
       "        [1., 1., 1., 1., 1., 1., 1., 1., 1., 1., 1., 1., 1., 1., 1., 1., 1., 1.,\n",
       "         1., 1., 1., 1., 1., 1., 1., 1., 1., 1.],\n",
       "        [1., 1., 1., 1., 1., 1., 1., 1., 1., 1., 1., 1., 1., 1., 1., 1., 1., 1.,\n",
       "         1., 1., 1., 1., 1., 1., 1., 1., 1., 1.]])"
      ]
     },
     "execution_count": 129,
     "metadata": {},
     "output_type": "execute_result"
    }
   ],
   "source": [
    "mask*1.0"
   ]
  },
  {
   "cell_type": "code",
   "execution_count": 111,
   "metadata": {},
   "outputs": [
    {
     "data": {
      "text/plain": [
       "torch.Size([3, 28, 28])"
      ]
     },
     "execution_count": 111,
     "metadata": {},
     "output_type": "execute_result"
    }
   ],
   "source": [
    "img.shape"
   ]
  },
  {
   "cell_type": "code",
   "execution_count": 96,
   "metadata": {},
   "outputs": [],
   "source": [
    "new[0] = a"
   ]
  },
  {
   "cell_type": "code",
   "execution_count": null,
   "metadata": {},
   "outputs": [],
   "source": []
  },
  {
   "cell_type": "code",
   "execution_count": null,
   "metadata": {},
   "outputs": [],
   "source": []
  },
  {
   "cell_type": "code",
   "execution_count": 83,
   "metadata": {},
   "outputs": [
    {
     "data": {
      "text/plain": [
       "torch.Size([3, 28, 28])"
      ]
     },
     "execution_count": 83,
     "metadata": {},
     "output_type": "execute_result"
    }
   ],
   "source": [
    "mask.unsqueeze(0).repeat(3, 1, 1).shape"
   ]
  },
  {
   "cell_type": "code",
   "execution_count": 92,
   "metadata": {},
   "outputs": [
    {
     "data": {
      "text/plain": [
       "tensor([[[True, True, True,  ..., True, True, True],\n",
       "         [True, True, True,  ..., True, True, True],\n",
       "         [True, True, True,  ..., True, True, True],\n",
       "         ...,\n",
       "         [True, True, True,  ..., True, True, True],\n",
       "         [True, True, True,  ..., True, True, True],\n",
       "         [True, True, True,  ..., True, True, True]],\n",
       "\n",
       "        [[True, True, True,  ..., True, True, True],\n",
       "         [True, True, True,  ..., True, True, True],\n",
       "         [True, True, True,  ..., True, True, True],\n",
       "         ...,\n",
       "         [True, True, True,  ..., True, True, True],\n",
       "         [True, True, True,  ..., True, True, True],\n",
       "         [True, True, True,  ..., True, True, True]],\n",
       "\n",
       "        [[True, True, True,  ..., True, True, True],\n",
       "         [True, True, True,  ..., True, True, True],\n",
       "         [True, True, True,  ..., True, True, True],\n",
       "         ...,\n",
       "         [True, True, True,  ..., True, True, True],\n",
       "         [True, True, True,  ..., True, True, True],\n",
       "         [True, True, True,  ..., True, True, True]]])"
      ]
     },
     "execution_count": 92,
     "metadata": {},
     "output_type": "execute_result"
    }
   ],
   "source": [
    "mask.unsqueeze(0).repeat(3, 1, 1)"
   ]
  },
  {
   "cell_type": "code",
   "execution_count": null,
   "metadata": {},
   "outputs": [],
   "source": []
  },
  {
   "cell_type": "code",
   "execution_count": 72,
   "metadata": {},
   "outputs": [
    {
     "data": {
      "text/plain": [
       "tensor([[ 1,  8, 15],\n",
       "        [ 1,  8, 15]])"
      ]
     },
     "execution_count": 72,
     "metadata": {},
     "output_type": "execute_result"
    }
   ],
   "source": [
    "import torch\n",
    "torch.tensor([[1, 2, 3]]).repeat(2, 1) * torch.tensor((1, 4, 5))"
   ]
  },
  {
   "cell_type": "code",
   "execution_count": null,
   "metadata": {},
   "outputs": [],
   "source": [
    "def add_color_background(background, color):\n",
    "    \"\"\"Adds background color to MNIST digits\"\"\"\n",
    "    h, w = background.shape\n",
    "    r, g, b = color\n",
    "\n",
    "    digit_mask = (background[:, :] == 0)\n",
    "    digit = np.zeros_like(background)\n",
    "    digit[digit_mask] = 255\n",
    "\n",
    "    background = np.reshape(background, [h, w, 1])\n",
    "    digit = np.reshape(digit, [h, w, 1])\n",
    "    arr = np.concatenate([r * background + digit, \n",
    "                            g * background + digit, \n",
    "                            b * background + digit],\n",
    "                         axis=2)\n",
    "    return arr\n"
   ]
  },
  {
   "cell_type": "code",
   "execution_count": null,
   "metadata": {},
   "outputs": [],
   "source": []
  },
  {
   "cell_type": "code",
   "execution_count": 65,
   "metadata": {},
   "outputs": [],
   "source": [
    "mask = (old[0] == 0)"
   ]
  },
  {
   "cell_type": "code",
   "execution_count": 13,
   "metadata": {},
   "outputs": [
    {
     "data": {
      "text/plain": [
       "tensor([[  0,   0,   0,   0,   0,   0,   0,   0,   0,   0,   0,   0,   0,   0,\n",
       "           0,   0,   0,   0,   0,   0,   0,   0,   0,   0,   0,   0,   0,   0],\n",
       "        [  0,   0,   0,   0,   0,   0,   0,   0,   0,   0,   0,   0,   0,   0,\n",
       "           0,   0,   0,   0,   0,   0,   0,   0,   0,   0,   0,   0,   0,   0],\n",
       "        [  0,   0,   0,   0,   0,   0,   0,   0,   0,   0,   0,   0,   0,   0,\n",
       "           0,   0,   0,   0,   0,   0,   0,   0,   0,   0,   0,   0,   0,   0],\n",
       "        [  0,   0,   0,   0,   0,   0,   0,   0,   0,   0,   0,   0,   0,   0,\n",
       "           0,   0,   0,   0,   0,   0,   0,   0,   0,   0,   0,   0,   0,   0],\n",
       "        [  0,   0,   0,   0,   0,   0,   0,   0,   0,   0,   0,   0,   0,   0,\n",
       "           0,   0,   0,   0,   0,   0,   0,   0,   0,   0,   0,   0,   0,   0],\n",
       "        [  0,   0,   0,   0,   0,   0,   0,   0,   0,   0,   0,   0,   3,  18,\n",
       "          18,  18, 126, 136, 175,  26, 166, 255, 247, 127,   0,   0,   0,   0],\n",
       "        [  0,   0,   0,   0,   0,   0,   0,   0,  30,  36,  94, 154, 170, 253,\n",
       "         253, 253, 253, 253, 225, 172, 253, 242, 195,  64,   0,   0,   0,   0],\n",
       "        [  0,   0,   0,   0,   0,   0,   0,  49, 238, 253, 253, 253, 253, 253,\n",
       "         253, 253, 253, 251,  93,  82,  82,  56,  39,   0,   0,   0,   0,   0],\n",
       "        [  0,   0,   0,   0,   0,   0,   0,  18, 219, 253, 253, 253, 253, 253,\n",
       "         198, 182, 247, 241,   0,   0,   0,   0,   0,   0,   0,   0,   0,   0],\n",
       "        [  0,   0,   0,   0,   0,   0,   0,   0,  80, 156, 107, 253, 253, 205,\n",
       "          11,   0,  43, 154,   0,   0,   0,   0,   0,   0,   0,   0,   0,   0],\n",
       "        [  0,   0,   0,   0,   0,   0,   0,   0,   0,  14,   1, 154, 253,  90,\n",
       "           0,   0,   0,   0,   0,   0,   0,   0,   0,   0,   0,   0,   0,   0],\n",
       "        [  0,   0,   0,   0,   0,   0,   0,   0,   0,   0,   0, 139, 253, 190,\n",
       "           2,   0,   0,   0,   0,   0,   0,   0,   0,   0,   0,   0,   0,   0],\n",
       "        [  0,   0,   0,   0,   0,   0,   0,   0,   0,   0,   0,  11, 190, 253,\n",
       "          70,   0,   0,   0,   0,   0,   0,   0,   0,   0,   0,   0,   0,   0],\n",
       "        [  0,   0,   0,   0,   0,   0,   0,   0,   0,   0,   0,   0,  35, 241,\n",
       "         225, 160, 108,   1,   0,   0,   0,   0,   0,   0,   0,   0,   0,   0],\n",
       "        [  0,   0,   0,   0,   0,   0,   0,   0,   0,   0,   0,   0,   0,  81,\n",
       "         240, 253, 253, 119,  25,   0,   0,   0,   0,   0,   0,   0,   0,   0],\n",
       "        [  0,   0,   0,   0,   0,   0,   0,   0,   0,   0,   0,   0,   0,   0,\n",
       "          45, 186, 253, 253, 150,  27,   0,   0,   0,   0,   0,   0,   0,   0],\n",
       "        [  0,   0,   0,   0,   0,   0,   0,   0,   0,   0,   0,   0,   0,   0,\n",
       "           0,  16,  93, 252, 253, 187,   0,   0,   0,   0,   0,   0,   0,   0],\n",
       "        [  0,   0,   0,   0,   0,   0,   0,   0,   0,   0,   0,   0,   0,   0,\n",
       "           0,   0,   0, 249, 253, 249,  64,   0,   0,   0,   0,   0,   0,   0],\n",
       "        [  0,   0,   0,   0,   0,   0,   0,   0,   0,   0,   0,   0,   0,   0,\n",
       "          46, 130, 183, 253, 253, 207,   2,   0,   0,   0,   0,   0,   0,   0],\n",
       "        [  0,   0,   0,   0,   0,   0,   0,   0,   0,   0,   0,   0,  39, 148,\n",
       "         229, 253, 253, 253, 250, 182,   0,   0,   0,   0,   0,   0,   0,   0],\n",
       "        [  0,   0,   0,   0,   0,   0,   0,   0,   0,   0,  24, 114, 221, 253,\n",
       "         253, 253, 253, 201,  78,   0,   0,   0,   0,   0,   0,   0,   0,   0],\n",
       "        [  0,   0,   0,   0,   0,   0,   0,   0,  23,  66, 213, 253, 253, 253,\n",
       "         253, 198,  81,   2,   0,   0,   0,   0,   0,   0,   0,   0,   0,   0],\n",
       "        [  0,   0,   0,   0,   0,   0,  18, 171, 219, 253, 253, 253, 253, 195,\n",
       "          80,   9,   0,   0,   0,   0,   0,   0,   0,   0,   0,   0,   0,   0],\n",
       "        [  0,   0,   0,   0,  55, 172, 226, 253, 253, 253, 253, 244, 133,  11,\n",
       "           0,   0,   0,   0,   0,   0,   0,   0,   0,   0,   0,   0,   0,   0],\n",
       "        [  0,   0,   0,   0, 136, 253, 253, 253, 212, 135, 132,  16,   0,   0,\n",
       "           0,   0,   0,   0,   0,   0,   0,   0,   0,   0,   0,   0,   0,   0],\n",
       "        [  0,   0,   0,   0,   0,   0,   0,   0,   0,   0,   0,   0,   0,   0,\n",
       "           0,   0,   0,   0,   0,   0,   0,   0,   0,   0,   0,   0,   0,   0],\n",
       "        [  0,   0,   0,   0,   0,   0,   0,   0,   0,   0,   0,   0,   0,   0,\n",
       "           0,   0,   0,   0,   0,   0,   0,   0,   0,   0,   0,   0,   0,   0],\n",
       "        [  0,   0,   0,   0,   0,   0,   0,   0,   0,   0,   0,   0,   0,   0,\n",
       "           0,   0,   0,   0,   0,   0,   0,   0,   0,   0,   0,   0,   0,   0]],\n",
       "       dtype=torch.uint8)"
      ]
     },
     "execution_count": 13,
     "metadata": {},
     "output_type": "execute_result"
    }
   ],
   "source": [
    "mnist_train.data[0]"
   ]
  },
  {
   "cell_type": "code",
   "execution_count": 1,
   "metadata": {},
   "outputs": [],
   "source": [
    "def test(*args, **kwargs):\n",
    "    print(f\"{args=}\")\n",
    "    print(f\"{kwargs=}\")"
   ]
  },
  {
   "cell_type": "code",
   "execution_count": 2,
   "metadata": {},
   "outputs": [
    {
     "name": "stdout",
     "output_type": "stream",
     "text": [
      "args=(1, 2)\n",
      "kwargs={'ab': 1, 'cd': 2}\n"
     ]
    }
   ],
   "source": [
    "test(1, 2, ab = 1, cd = 2)"
   ]
  },
  {
   "cell_type": "code",
   "execution_count": 16,
   "metadata": {},
   "outputs": [],
   "source": [
    "import torch\n",
    "\n",
    "out = torch.ones(10, dtype=float)\n",
    "idx = np.array([1, 3, 5])\n",
    "# idx = np.array([1, 3, 5]).tolist()\n",
    "sample_weight = torch.tensor(np.array([0.5, 0.5, 0.5]))\n",
    "weight = torch.ones_like(out)\n",
    "weight[idx] = sample_weight\n"
   ]
  },
  {
   "cell_type": "code",
   "execution_count": 14,
   "metadata": {},
   "outputs": [
    {
     "data": {
      "text/plain": [
       "[1, 3, 5]"
      ]
     },
     "execution_count": 14,
     "metadata": {},
     "output_type": "execute_result"
    }
   ],
   "source": [
    "idx"
   ]
  },
  {
   "cell_type": "code",
   "execution_count": 17,
   "metadata": {},
   "outputs": [
    {
     "data": {
      "text/plain": [
       "tensor([1.0000, 0.5000, 1.0000, 0.5000, 1.0000, 0.5000, 1.0000, 1.0000, 1.0000,\n",
       "        1.0000], dtype=torch.float64)"
      ]
     },
     "execution_count": 17,
     "metadata": {},
     "output_type": "execute_result"
    }
   ],
   "source": [
    "weight"
   ]
  },
  {
   "cell_type": "code",
   "execution_count": 18,
   "metadata": {},
   "outputs": [],
   "source": [
    "a = torch.ones(10)*1.0"
   ]
  },
  {
   "cell_type": "code",
   "execution_count": 19,
   "metadata": {},
   "outputs": [
    {
     "data": {
      "text/plain": [
       "torch.float32"
      ]
     },
     "execution_count": 19,
     "metadata": {},
     "output_type": "execute_result"
    }
   ],
   "source": [
    "a.dtype"
   ]
  },
  {
   "cell_type": "code",
   "execution_count": 22,
   "metadata": {},
   "outputs": [
    {
     "data": {
      "text/plain": [
       "torch.float32"
      ]
     },
     "execution_count": 22,
     "metadata": {},
     "output_type": "execute_result"
    }
   ],
   "source": [
    "torch.ones_like(a).dtype"
   ]
  },
  {
   "cell_type": "code",
   "execution_count": 23,
   "metadata": {},
   "outputs": [
    {
     "data": {
      "text/plain": [
       "torch.float32"
      ]
     },
     "execution_count": 23,
     "metadata": {},
     "output_type": "execute_result"
    }
   ],
   "source": [
    "torch.ones(10).dtype"
   ]
  },
  {
   "cell_type": "code",
   "execution_count": 26,
   "metadata": {},
   "outputs": [
    {
     "data": {
      "text/plain": [
       "torch.float32"
      ]
     },
     "execution_count": 26,
     "metadata": {},
     "output_type": "execute_result"
    }
   ],
   "source": [
    "b = np.array([1.0, 2.0])\n",
    "c = torch.tensor(np.array(b), dtype=torch.float32)\n",
    "c.dtype"
   ]
  },
  {
   "cell_type": "code",
   "execution_count": 27,
   "metadata": {},
   "outputs": [
    {
     "data": {
      "text/plain": [
       "torch.float32"
      ]
     },
     "execution_count": 27,
     "metadata": {},
     "output_type": "execute_result"
    }
   ],
   "source": [
    "d = torch.ones(10)\n",
    "d.dtype"
   ]
  },
  {
   "cell_type": "code",
   "execution_count": 76,
   "metadata": {},
   "outputs": [],
   "source": [
    "import numpy as np\n",
    "from scipy.optimize import least_squares, lsq_linear\n",
    "\n",
    "m = 1000\n",
    "A = np.random.random([4, m]) - 0.8\n",
    "b = np.random.random([4]) + 0.2\n",
    "def fun_example(x):\n",
    "    np.sum((np.matmul(A, x) + b)**2)\n"
   ]
  },
  {
   "cell_type": "code",
   "execution_count": 77,
   "metadata": {},
   "outputs": [
    {
     "name": "stdout",
     "output_type": "stream",
     "text": [
      "elapsed time:0.413\n"
     ]
    },
    {
     "data": {
      "text/plain": [
       "       message: The first-order optimality measure is less than `tol`.\n",
       "       success: True\n",
       "        status: 1\n",
       "           fun: [-6.977e-02 -4.073e-02 -5.188e-02 -3.965e-02]\n",
       "             x: [ 2.968e-14  1.000e+00 ...  1.843e-14  1.140e-15]\n",
       "           nit: 23\n",
       "          cost: 0.005395185373061557\n",
       "    optimality: 4.5090265834556e-11\n",
       "   active_mask: [-1  1 ... -1 -1]\n",
       " unbounded_sol: (array([-9.841e-04,  8.794e-05, ...,  1.133e-03, -9.331e-04]), array([], dtype=float64), 4, array([ 2.039e+01,  9.543e+00,  9.404e+00,  8.713e+00]))"
      ]
     },
     "execution_count": 77,
     "metadata": {},
     "output_type": "execute_result"
    }
   ],
   "source": [
    "# least_squares(fun_example, c, bounds=(0, 1))\n",
    "i = time.time()\n",
    "soln = lsq_linear(A, b, bounds=(0, 1))\n",
    "print(f\"elapsed time:{np.round(time.time()-i, 3)}\")\n",
    "soln"
   ]
  },
  {
   "cell_type": "code",
   "execution_count": 78,
   "metadata": {},
   "outputs": [
    {
     "data": {
      "text/plain": [
       "9.87539983126795"
      ]
     },
     "execution_count": 78,
     "metadata": {},
     "output_type": "execute_result"
    }
   ],
   "source": [
    "np.sum((np.matmul(A, soln.x) + b)**2)"
   ]
  },
  {
   "cell_type": "code",
   "execution_count": 79,
   "metadata": {},
   "outputs": [
    {
     "data": {
      "text/plain": [
       "0.005395185373061557"
      ]
     },
     "execution_count": 79,
     "metadata": {},
     "output_type": "execute_result"
    }
   ],
   "source": [
    "soln.cost"
   ]
  },
  {
   "cell_type": "code",
   "execution_count": 82,
   "metadata": {},
   "outputs": [
    {
     "data": {
      "text/plain": [
       "0.01896058483751839"
      ]
     },
     "execution_count": 82,
     "metadata": {},
     "output_type": "execute_result"
    }
   ],
   "source": [
    "np.mean(soln.x)"
   ]
  },
  {
   "cell_type": "code",
   "execution_count": 47,
   "metadata": {},
   "outputs": [
    {
     "data": {
      "text/plain": [
       "1754.680713595404"
      ]
     },
     "execution_count": 47,
     "metadata": {},
     "output_type": "execute_result"
    }
   ],
   "source": [
    "np.sum(c**2)"
   ]
  },
  {
   "cell_type": "code",
   "execution_count": 87,
   "metadata": {},
   "outputs": [],
   "source": [
    "import torch\n",
    "\n",
    "a = torch.ones(10)\n",
    "b = torch.rand_like(a)"
   ]
  },
  {
   "cell_type": "code",
   "execution_count": 89,
   "metadata": {},
   "outputs": [
    {
     "data": {
      "text/plain": [
       "torch.float32"
      ]
     },
     "execution_count": 89,
     "metadata": {},
     "output_type": "execute_result"
    }
   ],
   "source": [
    "b.dtype"
   ]
  },
  {
   "cell_type": "code",
   "execution_count": 90,
   "metadata": {},
   "outputs": [],
   "source": [
    "c = np.array([1.0])\n"
   ]
  },
  {
   "cell_type": "code",
   "execution_count": 91,
   "metadata": {},
   "outputs": [
    {
     "data": {
      "text/plain": [
       "dtype('float64')"
      ]
     },
     "execution_count": 91,
     "metadata": {},
     "output_type": "execute_result"
    }
   ],
   "source": [
    "c.dtype"
   ]
  },
  {
   "cell_type": "code",
   "execution_count": 94,
   "metadata": {},
   "outputs": [],
   "source": [
    "d = a.numpy().astype('float64')"
   ]
  },
  {
   "cell_type": "code",
   "execution_count": 95,
   "metadata": {},
   "outputs": [
    {
     "data": {
      "text/plain": [
       "dtype('float64')"
      ]
     },
     "execution_count": 95,
     "metadata": {},
     "output_type": "execute_result"
    }
   ],
   "source": [
    "d.dtype"
   ]
  },
  {
   "cell_type": "code",
   "execution_count": 5,
   "metadata": {},
   "outputs": [
    {
     "data": {
      "text/plain": [
       "array([0., 0., 0., 1., 1., 1., 1.])"
      ]
     },
     "execution_count": 5,
     "metadata": {},
     "output_type": "execute_result"
    }
   ],
   "source": [
    "np.concatenate([np.zeros(m), np.ones(2*n)])"
   ]
  },
  {
   "cell_type": "code",
   "execution_count": 4,
   "metadata": {},
   "outputs": [
    {
     "name": "stdout",
     "output_type": "stream",
     "text": [
      "### Scipy LP solver ###\n",
      "### Cplex LP solver ###\n"
     ]
    }
   ],
   "source": [
    "import numpy as np\n",
    "from algorithms.optimization.gradient_solver import minsum_LP_solver_v3\n",
    "from algorithms.optimization.cplex_solver import minsum_LP_solver_v2\n",
    "\n",
    "n = 6\n",
    "m = 89\n",
    "init = 4\n",
    "A = np.arange(init, init+n*m).reshape(n, m)\n",
    "b = np.arange(n+1,1, -1)\n",
    "x3 = minsum_LP_solver_v3(A, b)\n",
    "x2 = minsum_LP_solver_v2(A, b)\n"
   ]
  },
  {
   "cell_type": "code",
   "execution_count": 5,
   "metadata": {},
   "outputs": [
    {
     "data": {
      "text/plain": [
       "array([0.        , 0.        , 0.        , 0.        , 0.        ,\n",
       "       0.        , 0.        , 0.        , 0.        , 0.        ,\n",
       "       0.        , 0.        , 0.        , 0.        , 0.        ,\n",
       "       0.        , 0.        , 0.        , 0.        , 0.        ,\n",
       "       0.        , 0.        , 0.        , 0.        , 0.        ,\n",
       "       0.        , 0.        , 0.        , 0.        , 0.        ,\n",
       "       0.        , 0.        , 0.        , 0.        , 0.        ,\n",
       "       0.        , 0.        , 0.        , 0.        , 0.        ,\n",
       "       0.        , 0.        , 0.        , 0.        , 0.        ,\n",
       "       0.        , 0.        , 0.        , 0.        , 0.        ,\n",
       "       0.        , 0.        , 0.        , 0.        , 0.        ,\n",
       "       0.        , 0.        , 0.        , 0.        , 0.        ,\n",
       "       0.        , 0.        , 0.        , 0.        , 0.        ,\n",
       "       0.        , 0.        , 0.        , 0.        , 0.        ,\n",
       "       0.        , 0.        , 0.        , 0.        , 0.        ,\n",
       "       0.        , 0.        , 0.        , 0.        , 0.        ,\n",
       "       0.        , 0.        , 0.        , 0.        , 0.        ,\n",
       "       0.        , 0.        , 0.        , 0.00669643])"
      ]
     },
     "execution_count": 5,
     "metadata": {},
     "output_type": "execute_result"
    }
   ],
   "source": [
    "x3"
   ]
  },
  {
   "cell_type": "code",
   "execution_count": 6,
   "metadata": {},
   "outputs": [
    {
     "data": {
      "text/plain": [
       "array([0.        , 0.        , 0.        , 0.        , 0.        ,\n",
       "       0.        , 0.        , 0.        , 0.        , 0.        ,\n",
       "       0.        , 0.        , 0.        , 0.        , 0.        ,\n",
       "       0.        , 0.        , 0.        , 0.        , 0.        ,\n",
       "       0.        , 0.        , 0.        , 0.        , 0.        ,\n",
       "       0.        , 0.        , 0.        , 0.        , 0.        ,\n",
       "       0.        , 0.        , 0.        , 0.        , 0.        ,\n",
       "       0.        , 0.        , 0.        , 0.        , 0.        ,\n",
       "       0.        , 0.        , 0.        , 0.        , 0.        ,\n",
       "       0.        , 0.        , 0.        , 0.        , 0.        ,\n",
       "       0.        , 0.        , 0.        , 0.        , 0.        ,\n",
       "       0.        , 0.        , 0.        , 0.        , 0.        ,\n",
       "       0.        , 0.        , 0.        , 0.        , 0.        ,\n",
       "       0.        , 0.        , 0.        , 0.        , 0.        ,\n",
       "       0.        , 0.        , 0.        , 0.        , 0.        ,\n",
       "       0.        , 0.        , 0.        , 0.        , 0.        ,\n",
       "       0.        , 0.        , 0.        , 0.        , 0.        ,\n",
       "       0.        , 0.        , 0.        , 0.00669643])"
      ]
     },
     "execution_count": 6,
     "metadata": {},
     "output_type": "execute_result"
    }
   ],
   "source": [
    "x2"
   ]
  },
  {
   "cell_type": "code",
   "execution_count": 18,
   "metadata": {},
   "outputs": [],
   "source": [
    "import numpy as np\n",
    "from algorithms.optimization.gradient_solver import minimax_LP_solver_v3\n",
    "from algorithms.optimization.cplex_solver import minimax_LP_solver_v2\n",
    "\n",
    "n = 4\n",
    "m = 10000\n",
    "A = np.random.random([n, m]) \n",
    "b = np.random.random(n) \n"
   ]
  },
  {
   "cell_type": "code",
   "execution_count": 22,
   "metadata": {},
   "outputs": [
    {
     "data": {
      "text/plain": [
       "(4, 10008)"
      ]
     },
     "execution_count": 22,
     "metadata": {},
     "output_type": "execute_result"
    }
   ],
   "source": [
    "A_eq = np.concatenate([A, np.eye(n), np.eye(n)], axis=1)\n",
    "A_eq.shape\n"
   ]
  },
  {
   "cell_type": "code",
   "execution_count": 13,
   "metadata": {},
   "outputs": [
    {
     "name": "stdout",
     "output_type": "stream",
     "text": [
      "### Cplex LP solver ###\n"
     ]
    }
   ],
   "source": [
    "weight2 = minimax_LP_solver_v2(A, b)"
   ]
  },
  {
   "cell_type": "code",
   "execution_count": 14,
   "metadata": {},
   "outputs": [
    {
     "name": "stdout",
     "output_type": "stream",
     "text": [
      "### Scipy LP solver ###\n"
     ]
    }
   ],
   "source": [
    "weight3 = minimax_LP_solver_v3(A, b)"
   ]
  },
  {
   "cell_type": "code",
   "execution_count": 9,
   "metadata": {},
   "outputs": [
    {
     "name": "stdout",
     "output_type": "stream",
     "text": [
      "### Scipy LP solver ###\n",
      "soln.message='The problem is infeasible. (HiGHS Status 8: model_status is Infeasible; primal_status is At lower/fixed bound)'\n",
      "### Cplex LP solver ###\n"
     ]
    }
   ],
   "source": [
    "from algorithms.optimization.gradient_solver import minimax_LP_solver\n",
    "weight = minimax_LP_solver(A, b)"
   ]
  },
  {
   "cell_type": "code",
   "execution_count": 15,
   "metadata": {},
   "outputs": [
    {
     "name": "stdout",
     "output_type": "stream",
     "text": [
      "[ 0.00000000e+00 -1.11022302e-16  1.11022302e-16  0.00000000e+00]\n"
     ]
    }
   ],
   "source": [
    "print(f\"{np.matmul(A, weight2)-b}\")\n"
   ]
  },
  {
   "cell_type": "code",
   "execution_count": 16,
   "metadata": {},
   "outputs": [
    {
     "name": "stdout",
     "output_type": "stream",
     "text": [
      "[-5.55111512e-17  0.00000000e+00  0.00000000e+00  2.77555756e-17]\n"
     ]
    }
   ],
   "source": [
    "print(f\"{np.matmul(A, weight3)-b}\")\n"
   ]
  },
  {
   "cell_type": "code",
   "execution_count": 2,
   "metadata": {},
   "outputs": [],
   "source": [
    "import torch\n",
    "import torchvision\n",
    "import os\n",
    "import numpy as np\n",
    "import copy\n",
    "\n",
    "COLOR_MAP = {\n",
    "    0: (1, 0, 0),\n",
    "    1: (0, 1, 0),\n",
    "    2: (1, 1, 0),\n",
    "    3: (0, 0, 1),\n",
    "    4: (1, 0.65, 0),\n",
    "    5: (0.5, 0, 0.5),\n",
    "    6: (0, 1, 1),\n",
    "    7: (1, 0.75, 0.8),\n",
    "    8: (0.8, 1, 0),\n",
    "    9: (.588, .294, 0.)\n",
    "}\n",
    "\n",
    "dirname = \"/home/jaeyoung/anaconda3/envs/cil/lib/python3.9/site-packages/cl_gym\"\n",
    "DEFAULT_DATASET_DIR = os.path.join(dirname, 'data')\n",
    "\n",
    "mnist_train = torchvision.datasets.MNIST(DEFAULT_DATASET_DIR, train=True, download=True)\n"
   ]
  },
  {
   "cell_type": "code",
   "execution_count": 3,
   "metadata": {},
   "outputs": [
    {
     "data": {
      "text/plain": [
       "2"
      ]
     },
     "execution_count": 3,
     "metadata": {},
     "output_type": "execute_result"
    }
   ],
   "source": [
    "int(mnist_train.targets[5])"
   ]
  },
  {
   "cell_type": "code",
   "execution_count": 4,
   "metadata": {},
   "outputs": [],
   "source": [
    "def modify_dataset(dataset):\n",
    "    sensitive = torch.zeros_like(dataset.targets)\n",
    "    labels = dataset.targets\n",
    "\n",
    "    old = dataset.data\n",
    "    new = list()\n",
    "    colors = {k: torch.tensor([round(i*255) for i in v]) for k, v in COLOR_MAP.items()}\n",
    "\n",
    "    for i, e in enumerate(old):\n",
    "        if np.random.uniform() < 0.9:\n",
    "            sensitive_label = labels[i].item()\n",
    "        else:\n",
    "            sensitive_label = np.random.randint(0, 9)\n",
    "        color = colors[sensitive_label]\n",
    "        sensitive[i] = sensitive_label\n",
    "\n",
    "        mask = (e == 0)\n",
    "        not_mask = (e != 0)\n",
    "        new.append(mask.unsqueeze(2).repeat(1, 1, 3) * color.reshape(1, 1, -1).repeat(*mask.shape, 1) \\\n",
    "            +(not_mask * e).unsqueeze(2).repeat(1, 1, 3))\n",
    "    \n",
    "    n = torch.stack(new).type(torch.uint8)\n",
    "    dataset.data = n\n",
    "    dataset.sensitive = sensitive\n",
    "    return dataset\n",
    "\n",
    "m_mnist = modify_dataset(copy.deepcopy(mnist_train))"
   ]
  },
  {
   "cell_type": "code",
   "execution_count": 6,
   "metadata": {},
   "outputs": [
    {
     "data": {
      "text/plain": [
       "['im',\n",
       " 'mode',\n",
       " '_size',\n",
       " 'palette',\n",
       " 'info',\n",
       " '_category',\n",
       " 'readonly',\n",
       " 'pyaccess',\n",
       " '_exif',\n",
       " '__module__',\n",
       " '__doc__',\n",
       " 'format',\n",
       " 'format_description',\n",
       " '_close_exclusive_fp_after_loading',\n",
       " '__init__',\n",
       " '__getattr__',\n",
       " 'width',\n",
       " 'height',\n",
       " 'size',\n",
       " '_new',\n",
       " '__enter__',\n",
       " '__exit__',\n",
       " 'close',\n",
       " '_copy',\n",
       " '_ensure_mutable',\n",
       " '_dump',\n",
       " '__eq__',\n",
       " '__repr__',\n",
       " '_repr_pretty_',\n",
       " '_repr_png_',\n",
       " '__array_interface__',\n",
       " '__getstate__',\n",
       " '__setstate__',\n",
       " 'tobytes',\n",
       " 'tobitmap',\n",
       " 'frombytes',\n",
       " 'load',\n",
       " 'verify',\n",
       " 'convert',\n",
       " 'quantize',\n",
       " 'copy',\n",
       " '__copy__',\n",
       " 'crop',\n",
       " '_crop',\n",
       " 'draft',\n",
       " '_expand',\n",
       " 'filter',\n",
       " 'getbands',\n",
       " 'getbbox',\n",
       " 'getcolors',\n",
       " 'getdata',\n",
       " 'getextrema',\n",
       " '_getxmp',\n",
       " 'getexif',\n",
       " '_reload_exif',\n",
       " 'get_child_images',\n",
       " 'getim',\n",
       " 'getpalette',\n",
       " 'apply_transparency',\n",
       " 'getpixel',\n",
       " 'getprojection',\n",
       " 'histogram',\n",
       " 'entropy',\n",
       " 'paste',\n",
       " 'alpha_composite',\n",
       " 'point',\n",
       " 'putalpha',\n",
       " 'putdata',\n",
       " 'putpalette',\n",
       " 'putpixel',\n",
       " 'remap_palette',\n",
       " '_get_safe_box',\n",
       " 'resize',\n",
       " 'reduce',\n",
       " 'rotate',\n",
       " 'save',\n",
       " 'seek',\n",
       " 'show',\n",
       " 'split',\n",
       " 'getchannel',\n",
       " 'tell',\n",
       " 'thumbnail',\n",
       " 'transform',\n",
       " '_Image__transformer',\n",
       " 'transpose',\n",
       " 'effect_spread',\n",
       " 'toqimage',\n",
       " 'toqpixmap',\n",
       " '__dict__',\n",
       " '__weakref__',\n",
       " '__hash__',\n",
       " '__str__',\n",
       " '__getattribute__',\n",
       " '__setattr__',\n",
       " '__delattr__',\n",
       " '__lt__',\n",
       " '__le__',\n",
       " '__ne__',\n",
       " '__gt__',\n",
       " '__ge__',\n",
       " '__new__',\n",
       " '__reduce_ex__',\n",
       " '__reduce__',\n",
       " '__subclasshook__',\n",
       " '__init_subclass__',\n",
       " '__format__',\n",
       " '__sizeof__',\n",
       " '__dir__',\n",
       " '__class__']"
      ]
     },
     "execution_count": 6,
     "metadata": {},
     "output_type": "execute_result"
    }
   ],
   "source": [
    "from PIL import Image\n",
    "idx = 4\n",
    "Image.fromarray(m_mnist.data[idx].numpy(), mode='RGB').__dir__()\n"
   ]
  },
  {
   "cell_type": "code",
   "execution_count": 7,
   "metadata": {},
   "outputs": [
    {
     "data": {
      "text/plain": [
       "tensor(9)"
      ]
     },
     "execution_count": 7,
     "metadata": {},
     "output_type": "execute_result"
    }
   ],
   "source": [
    "m_mnist.sensitive[4]"
   ]
  },
  {
   "cell_type": "code",
   "execution_count": 8,
   "metadata": {},
   "outputs": [],
   "source": [
    "COLOR_MAP = {\n",
    "    0: (1, 0, 0),\n",
    "    1: (0, 1, 0),\n",
    "    2: (1, 1, 0),\n",
    "    3: (0, 0, 1),\n",
    "    4: (1, 0.65, 0),\n",
    "    5: (0.5, 0, 0.5),\n",
    "    6: (0, 1, 1),\n",
    "    7: (1, 0.75, 0.8),\n",
    "    8: (0.8, 1, 0),\n",
    "    9: (.588, .294, 0.)\n",
    "}"
   ]
  },
  {
   "cell_type": "code",
   "execution_count": 9,
   "metadata": {},
   "outputs": [
    {
     "data": {
      "text/plain": [
       "dict_values([(1, 0, 0), (0, 1, 0), (1, 1, 0), (0, 0, 1), (1, 0.65, 0), (0.5, 0, 0.5), (0, 1, 1), (1, 0.75, 0.8), (0.8, 1, 0), (0.588, 0.294, 0.0)])"
      ]
     },
     "execution_count": 9,
     "metadata": {},
     "output_type": "execute_result"
    }
   ],
   "source": [
    "COLOR_MAP.values()"
   ]
  },
  {
   "cell_type": "code",
   "execution_count": 53,
   "metadata": {},
   "outputs": [
    {
     "data": {
      "text/plain": [
       "(0.3081,)"
      ]
     },
     "execution_count": 53,
     "metadata": {},
     "output_type": "execute_result"
    }
   ],
   "source": [
    "MNIST_STD"
   ]
  },
  {
   "cell_type": "code",
   "execution_count": 11,
   "metadata": {},
   "outputs": [],
   "source": [
    "from cl_gym.benchmarks.transforms import MNIST_MEAN, MNIST_STD\n",
    "def get_default_biased_mnist_transform(num_tasks: int):\n",
    "    crate = (1-0.1913)\n",
    "    cr, cg, cb = np.mean(list(COLOR_MAP.values()), axis=0)\n",
    "\n",
    "\n",
    "    bmnist_mean = MNIST_MEAN * 3 + (cr, cg, cb)\n",
    "    transforms = torchvision.transforms.Compose([\n",
    "        torchvision.transforms.ToTensor(),\n",
    "        torchvision.transforms.Normalize(bmnist_mean, MNIST_STD),\n",
    "    ])\n",
    "    return [transforms]*num_tasks\n"
   ]
  },
  {
   "cell_type": "code",
   "execution_count": 13,
   "metadata": {},
   "outputs": [
    {
     "data": {
      "text/plain": [
       "(0.1307, 0.1307, 0.1307)"
      ]
     },
     "execution_count": 13,
     "metadata": {},
     "output_type": "execute_result"
    }
   ],
   "source": [
    "MNIST_MEAN * 3"
   ]
  },
  {
   "cell_type": "code",
   "execution_count": 47,
   "metadata": {},
   "outputs": [],
   "source": [
    "m_rgb= np.mean(list(COLOR_MAP.values()), axis=0)\n",
    "std_rgb = np.std(list(COLOR_MAP.values()), axis=0)"
   ]
  },
  {
   "cell_type": "code",
   "execution_count": 55,
   "metadata": {},
   "outputs": [
    {
     "data": {
      "text/plain": [
       "0.3081"
      ]
     },
     "execution_count": 55,
     "metadata": {},
     "output_type": "execute_result"
    }
   ],
   "source": [
    "MNIST_STD[0]"
   ]
  },
  {
   "cell_type": "code",
   "execution_count": 54,
   "metadata": {},
   "outputs": [
    {
     "data": {
      "text/plain": [
       "[0.681933099043819, 0.6748103945190654, 0.5624575101125417]"
      ]
     },
     "execution_count": 54,
     "metadata": {},
     "output_type": "execute_result"
    }
   ],
   "source": [
    "r = (1 - 0.1913)\n",
    "bmnist_mean = [r*m + MNIST_MEAN[0] for m in m_rgb]\n",
    "bmnist_std = [(r*s**2+MNIST_STD[0]**2+(bmnist_mean[i] - MNIST_MEAN[0])**2+(bmnist_mean[i] - m_rgb[i])**2)**0.5 for i, s in enumerate(std_rgb)]\n",
    "bmnist_std"
   ]
  },
  {
   "cell_type": "code",
   "execution_count": 52,
   "metadata": {},
   "outputs": [
    {
     "data": {
      "text/plain": [
       "[0.6068625599999999, 0.59117378, 0.397571]"
      ]
     },
     "execution_count": 52,
     "metadata": {},
     "output_type": "execute_result"
    }
   ],
   "source": [
    "bmnist_mean"
   ]
  },
  {
   "cell_type": "code",
   "execution_count": 57,
   "metadata": {},
   "outputs": [
    {
     "data": {
      "text/plain": [
       "[0.4015717175870001, 0.40763448468807484, 0.40560139832859715]"
      ]
     },
     "execution_count": 57,
     "metadata": {},
     "output_type": "execute_result"
    }
   ],
   "source": [
    "bmnist_std = [(r*s**2+(1-r)*MNIST_STD[0]**2+r*(1-r)*(bmnist_mean[i] - m_rgb[i])**2)**0.5 for i, s in enumerate(std_rgb)]\n",
    "bmnist_std"
   ]
  },
  {
   "cell_type": "code",
   "execution_count": 58,
   "metadata": {},
   "outputs": [
    {
     "data": {
      "text/plain": [
       "array([0.42058169, 0.42769994, 0.4243819 ])"
      ]
     },
     "execution_count": 58,
     "metadata": {},
     "output_type": "execute_result"
    }
   ],
   "source": [
    "std_rgb"
   ]
  },
  {
   "cell_type": "code",
   "execution_count": 66,
   "metadata": {},
   "outputs": [
    {
     "data": {
      "text/plain": [
       "(1, 2, 3, 4, [])"
      ]
     },
     "execution_count": 66,
     "metadata": {},
     "output_type": "execute_result"
    }
   ],
   "source": [
    "inp, targ, task_ids, sample_weight, _"
   ]
  },
  {
   "cell_type": "code",
   "execution_count": 25,
   "metadata": {},
   "outputs": [],
   "source": [
    "correct, total = np.arange(10).reshape([5, 2]).sum(axis=0)"
   ]
  },
  {
   "cell_type": "code",
   "execution_count": 24,
   "metadata": {},
   "outputs": [
    {
     "data": {
      "text/plain": [
       "array([[0, 1],\n",
       "       [2, 3],\n",
       "       [4, 5],\n",
       "       [6, 7],\n",
       "       [8, 9]])"
      ]
     },
     "execution_count": 24,
     "metadata": {},
     "output_type": "execute_result"
    }
   ],
   "source": [
    "np.arange(10).reshape([5, 2])"
   ]
  },
  {
   "cell_type": "code",
   "execution_count": 26,
   "metadata": {},
   "outputs": [
    {
     "data": {
      "text/plain": [
       "(20, 25)"
      ]
     },
     "execution_count": 26,
     "metadata": {},
     "output_type": "execute_result"
    }
   ],
   "source": [
    "correct, total"
   ]
  },
  {
   "cell_type": "code",
   "execution_count": 29,
   "metadata": {},
   "outputs": [],
   "source": [
    "class_acc = {0:[9,10], 1:[7, 11], 2:[8,9]}\n",
    "class_acc_s0 = {0:[4,5], 1:[3, 6], 2:[4,4]}\n",
    "class_acc_s1 = {0:[5,5], 1:[4, 5], 2:[4,5]}"
   ]
  },
  {
   "cell_type": "code",
   "execution_count": 30,
   "metadata": {},
   "outputs": [
    {
     "data": {
      "text/plain": [
       "[0, 1, 2, 3, 4, 5, 6, 7, 8, 9]"
      ]
     },
     "execution_count": 30,
     "metadata": {},
     "output_type": "execute_result"
    }
   ],
   "source": [
    "[j for j in a.keys()]"
   ]
  },
  {
   "cell_type": "code",
   "execution_count": 41,
   "metadata": {},
   "outputs": [],
   "source": [
    "avg_ = lambda cor_count: cor_count[0]/cor_count[1]\n",
    "multiclass_eo = max([abs(avg_(class_acc_s0[c]) - avg_(class_acc_s1[c])) for c in class_acc.keys()])\n"
   ]
  },
  {
   "cell_type": "code",
   "execution_count": 42,
   "metadata": {},
   "outputs": [
    {
     "data": {
      "text/plain": [
       "[-0.19999999999999996, -0.30000000000000004, 0.19999999999999996]"
      ]
     },
     "execution_count": 42,
     "metadata": {},
     "output_type": "execute_result"
    }
   ],
   "source": [
    "[avg_(class_acc_s0[c]) - avg_(class_acc_s1[c]) for c in class_acc.keys()]"
   ]
  },
  {
   "cell_type": "code",
   "execution_count": 43,
   "metadata": {},
   "outputs": [
    {
     "data": {
      "text/plain": [
       "0.30000000000000004"
      ]
     },
     "execution_count": 43,
     "metadata": {},
     "output_type": "execute_result"
    }
   ],
   "source": [
    "multiclass_eo"
   ]
  },
  {
   "cell_type": "code",
   "execution_count": 37,
   "metadata": {},
   "outputs": [
    {
     "data": {
      "text/plain": [
       "1"
      ]
     },
     "execution_count": 37,
     "metadata": {},
     "output_type": "execute_result"
    }
   ],
   "source": [
    "abs(-1)"
   ]
  },
  {
   "cell_type": "code",
   "execution_count": 82,
   "metadata": {},
   "outputs": [],
   "source": [
    "num_tasks=3\n",
    "epochs_per_task=6\n",
    "data=np.arange((num_tasks+1)*(num_tasks+1)*epochs_per_task).reshape((num_tasks+1, num_tasks+1, epochs_per_task))\n",
    "data_l = data.tolist()"
   ]
  },
  {
   "cell_type": "code",
   "execution_count": 83,
   "metadata": {},
   "outputs": [],
   "source": [
    "current_task = 3\n"
   ]
  },
  {
   "cell_type": "code",
   "execution_count": 88,
   "metadata": {},
   "outputs": [
    {
     "data": {
      "text/plain": [
       "[83, 89, 95]"
      ]
     },
     "execution_count": 88,
     "metadata": {},
     "output_type": "execute_result"
    }
   ],
   "source": [
    "[data_l[current_task][i][-1] for i in range(1,current_task+1)]"
   ]
  },
  {
   "cell_type": "code",
   "execution_count": 85,
   "metadata": {},
   "outputs": [
    {
     "data": {
      "text/plain": [
       "array([83, 89, 95])"
      ]
     },
     "execution_count": 85,
     "metadata": {},
     "output_type": "execute_result"
    }
   ],
   "source": [
    "data[3,1:4,-1]"
   ]
  },
  {
   "cell_type": "code",
   "execution_count": 86,
   "metadata": {},
   "outputs": [
    {
     "data": {
      "text/plain": [
       "3"
      ]
     },
     "execution_count": 86,
     "metadata": {},
     "output_type": "execute_result"
    }
   ],
   "source": [
    "current_task"
   ]
  },
  {
   "cell_type": "code",
   "execution_count": 87,
   "metadata": {},
   "outputs": [
    {
     "ename": "NameError",
     "evalue": "name 'self' is not defined",
     "output_type": "error",
     "traceback": [
      "\u001b[0;31m---------------------------------------------------------------------------\u001b[0m",
      "\u001b[0;31mNameError\u001b[0m                                 Traceback (most recent call last)",
      "Cell \u001b[0;32mIn[87], line 1\u001b[0m\n\u001b[0;32m----> 1\u001b[0m [\u001b[38;5;28mself\u001b[39m\u001b[38;5;241m.\u001b[39mdata[current_task][i][\u001b[38;5;241m-\u001b[39m\u001b[38;5;241m1\u001b[39m] \u001b[38;5;28;01mfor\u001b[39;00m i \u001b[38;5;129;01min\u001b[39;00m \u001b[38;5;28mrange\u001b[39m(\u001b[38;5;241m1\u001b[39m,current_task\u001b[38;5;241m+\u001b[39m\u001b[38;5;241m1\u001b[39m)]\n",
      "Cell \u001b[0;32mIn[87], line 1\u001b[0m, in \u001b[0;36m<listcomp>\u001b[0;34m(.0)\u001b[0m\n\u001b[0;32m----> 1\u001b[0m [\u001b[38;5;28;43mself\u001b[39;49m\u001b[38;5;241m.\u001b[39mdata[current_task][i][\u001b[38;5;241m-\u001b[39m\u001b[38;5;241m1\u001b[39m] \u001b[38;5;28;01mfor\u001b[39;00m i \u001b[38;5;129;01min\u001b[39;00m \u001b[38;5;28mrange\u001b[39m(\u001b[38;5;241m1\u001b[39m,current_task\u001b[38;5;241m+\u001b[39m\u001b[38;5;241m1\u001b[39m)]\n",
      "\u001b[0;31mNameError\u001b[0m: name 'self' is not defined"
     ]
    }
   ],
   "source": [
    "[self.data[current_task][i][-1] for i in range(1,current_task+1)]"
   ]
  },
  {
   "cell_type": "code",
   "execution_count": 89,
   "metadata": {},
   "outputs": [
    {
     "data": {
      "text/plain": [
       "[1, 2, 3, 4]"
      ]
     },
     "execution_count": 89,
     "metadata": {},
     "output_type": "execute_result"
    }
   ],
   "source": [
    "cd = [[1,2],[3,4]]\n",
    "\n",
    "def merge(*elem):\n",
    "    out = list()\n",
    "    \n",
    "\n"
   ]
  },
  {
   "cell_type": "code",
   "execution_count": 93,
   "metadata": {},
   "outputs": [],
   "source": [
    "a = {\"a\":1}\n",
    "b = type(a)()"
   ]
  },
  {
   "cell_type": "code",
   "execution_count": 101,
   "metadata": {},
   "outputs": [
    {
     "data": {
      "text/plain": [
       "{'a': 1, 'b': 2}"
      ]
     },
     "execution_count": 101,
     "metadata": {},
     "output_type": "execute_result"
    }
   ],
   "source": [
    "a.update({\"b\":2})\n",
    "a"
   ]
  },
  {
   "cell_type": "code",
   "execution_count": 96,
   "metadata": {},
   "outputs": [
    {
     "ename": "AttributeError",
     "evalue": "'list' object has no attribute 'update'",
     "output_type": "error",
     "traceback": [
      "\u001b[0;31m---------------------------------------------------------------------------\u001b[0m",
      "\u001b[0;31mAttributeError\u001b[0m                            Traceback (most recent call last)",
      "Cell \u001b[0;32mIn[96], line 2\u001b[0m\n\u001b[1;32m      1\u001b[0m c  \u001b[38;5;241m=\u001b[39m [\u001b[38;5;241m1\u001b[39m, \u001b[38;5;241m2\u001b[39m]\n\u001b[0;32m----> 2\u001b[0m \u001b[43mc\u001b[49m\u001b[38;5;241;43m.\u001b[39;49m\u001b[43mupdate\u001b[49m([\u001b[38;5;241m3\u001b[39m, \u001b[38;5;241m4\u001b[39m])\n",
      "\u001b[0;31mAttributeError\u001b[0m: 'list' object has no attribute 'update'"
     ]
    }
   ],
   "source": [
    "c  = [1, 2]\n",
    "c.update([3, 4])"
   ]
  },
  {
   "cell_type": "code",
   "execution_count": 98,
   "metadata": {},
   "outputs": [
    {
     "data": {
      "text/plain": [
       "[1, 2, 3, 4]"
      ]
     },
     "execution_count": 98,
     "metadata": {},
     "output_type": "execute_result"
    }
   ],
   "source": [
    "c.__add__([3, 4])"
   ]
  },
  {
   "cell_type": "code",
   "execution_count": 99,
   "metadata": {},
   "outputs": [
    {
     "data": {
      "text/plain": [
       "dict"
      ]
     },
     "execution_count": 99,
     "metadata": {},
     "output_type": "execute_result"
    }
   ],
   "source": [
    "type(a)"
   ]
  },
  {
   "cell_type": "code",
   "execution_count": 102,
   "metadata": {},
   "outputs": [
    {
     "data": {
      "text/plain": [
       "4"
      ]
     },
     "execution_count": 102,
     "metadata": {},
     "output_type": "execute_result"
    }
   ],
   "source": [
    "agg = lambda x:x\n",
    "agg(4)"
   ]
  },
  {
   "cell_type": "code",
   "execution_count": 107,
   "metadata": {},
   "outputs": [],
   "source": [
    "import torch\n",
    "targ = torch.tensor([1, 2., 3, 4], device=\"cuda\")\n",
    "sensitive_label = torch.tensor([1, 2, 4, 3.], device=\"cuda\")\n",
    "\n",
    "\n",
    "sensitive = torch.ne(targ, sensitive_label)\n",
    "sensitive = sensitive.long()\n"
   ]
  },
  {
   "cell_type": "code",
   "execution_count": 108,
   "metadata": {},
   "outputs": [
    {
     "data": {
      "text/plain": [
       "tensor(0, device='cuda:0')"
      ]
     },
     "execution_count": 108,
     "metadata": {},
     "output_type": "execute_result"
    }
   ],
   "source": [
    "sensitive[1]"
   ]
  },
  {
   "cell_type": "code",
   "execution_count": 109,
   "metadata": {},
   "outputs": [
    {
     "data": {
      "text/plain": [
       "0"
      ]
     },
     "execution_count": 109,
     "metadata": {},
     "output_type": "execute_result"
    }
   ],
   "source": [
    "sensitive[1].cpu().item()"
   ]
  },
  {
   "cell_type": "code",
   "execution_count": 111,
   "metadata": {},
   "outputs": [
    {
     "data": {
      "text/plain": [
       "2"
      ]
     },
     "execution_count": 111,
     "metadata": {},
     "output_type": "execute_result"
    }
   ],
   "source": [
    "4/2"
   ]
  },
  {
   "cell_type": "code",
   "execution_count": 25,
   "metadata": {},
   "outputs": [
    {
     "data": {
      "text/plain": [
       "array([0.71917205, 0.19436214, 0.09556857, 0.6688958 , 0.27911933,\n",
       "       0.1872614 , 0.01842729, 0.09400147, 0.37611367, 0.94546583,\n",
       "       0.94031359, 0.71426861, 0.64493367, 0.95181408, 0.70612416,\n",
       "       0.51592544, 0.09080334, 0.25533236, 0.82245675, 0.26597908])"
      ]
     },
     "execution_count": 25,
     "metadata": {},
     "output_type": "execute_result"
    }
   ],
   "source": [
    "import numpy as np\n",
    "\n",
    "seq = np.random.choice(25, 20, replace=False)\n",
    "seq.sort()\n",
    "weight = np.ones(25)\n",
    "weight2 = np.random.random(20)\n",
    "weight2"
   ]
  },
  {
   "cell_type": "code",
   "execution_count": 26,
   "metadata": {},
   "outputs": [
    {
     "data": {
      "text/plain": [
       "array([ True,  True, False,  True,  True,  True, False, False,  True,\n",
       "        True,  True,  True,  True,  True,  True,  True, False,  True,\n",
       "        True,  True])"
      ]
     },
     "execution_count": 26,
     "metadata": {},
     "output_type": "execute_result"
    }
   ],
   "source": [
    "weight2 > 0.1"
   ]
  },
  {
   "cell_type": "code",
   "execution_count": 27,
   "metadata": {},
   "outputs": [
    {
     "data": {
      "text/plain": [
       "array([ 0,  1,  2,  3,  6,  7,  8,  9, 10, 11, 13, 14, 16, 17, 18, 19, 20,\n",
       "       21, 23, 24])"
      ]
     },
     "execution_count": 27,
     "metadata": {},
     "output_type": "execute_result"
    }
   ],
   "source": [
    "seq"
   ]
  },
  {
   "cell_type": "code",
   "execution_count": 28,
   "metadata": {},
   "outputs": [
    {
     "data": {
      "text/plain": [
       "array([0.71917205, 0.19436214, 0.09556857, 0.6688958 , 1.        ,\n",
       "       1.        , 0.27911933, 0.1872614 , 0.01842729, 0.09400147,\n",
       "       0.37611367, 0.94546583, 1.        , 0.94031359, 0.71426861,\n",
       "       1.        , 0.64493367, 0.95181408, 0.70612416, 0.51592544,\n",
       "       0.09080334, 0.25533236, 1.        , 0.82245675, 0.26597908])"
      ]
     },
     "execution_count": 28,
     "metadata": {},
     "output_type": "execute_result"
    }
   ],
   "source": [
    "weight[seq] = weight2\n",
    "weight"
   ]
  },
  {
   "cell_type": "code",
   "execution_count": 34,
   "metadata": {},
   "outputs": [
    {
     "ename": "TypeError",
     "evalue": "only integer scalar arrays can be converted to a scalar index",
     "output_type": "error",
     "traceback": [
      "\u001b[0;31m---------------------------------------------------------------------------\u001b[0m",
      "\u001b[0;31mTypeError\u001b[0m                                 Traceback (most recent call last)",
      "Cell \u001b[0;32mIn[34], line 1\u001b[0m\n\u001b[0;32m----> 1\u001b[0m seq \u001b[38;5;241m=\u001b[39m \u001b[43mseq\u001b[49m\u001b[38;5;241;43m.\u001b[39;49m\u001b[43mtolist\u001b[49m\u001b[43m(\u001b[49m\u001b[43m)\u001b[49m\u001b[43m[\u001b[49m\u001b[43mweight2\u001b[49m\u001b[43m \u001b[49m\u001b[38;5;241;43m>\u001b[39;49m\u001b[43m \u001b[49m\u001b[38;5;241;43m0.1\u001b[39;49m\u001b[43m]\u001b[49m\n\u001b[1;32m      2\u001b[0m seq\n",
      "\u001b[0;31mTypeError\u001b[0m: only integer scalar arrays can be converted to a scalar index"
     ]
    }
   ],
   "source": [
    "seq = seq.tolist()[weight2 > 0.1]\n",
    "seq"
   ]
  },
  {
   "cell_type": "code",
   "execution_count": 32,
   "metadata": {},
   "outputs": [
    {
     "data": {
      "text/plain": [
       "array([ True,  True, False,  True,  True,  True, False, False,  True,\n",
       "        True,  True,  True,  True,  True,  True,  True, False,  True,\n",
       "        True,  True])"
      ]
     },
     "execution_count": 32,
     "metadata": {},
     "output_type": "execute_result"
    }
   ],
   "source": [
    "(weight2 > 0.1)"
   ]
  },
  {
   "cell_type": "code",
   "execution_count": 3,
   "metadata": {},
   "outputs": [
    {
     "data": {
      "text/plain": [
       "4"
      ]
     },
     "execution_count": 3,
     "metadata": {},
     "output_type": "execute_result"
    }
   ],
   "source": [
    "a = [0]*10\n",
    "a[3]+=4\n",
    "sum(a)"
   ]
  },
  {
   "cell_type": "code",
   "execution_count": 13,
   "metadata": {},
   "outputs": [],
   "source": [
    "import numpy as np\n",
    "kwargs={'agg':np.max}\n",
    "# kwargs={}"
   ]
  },
  {
   "cell_type": "code",
   "execution_count": 14,
   "metadata": {},
   "outputs": [
    {
     "data": {
      "text/plain": [
       "<function max at 0x7f2f7024e2b0>"
      ]
     },
     "execution_count": 14,
     "metadata": {},
     "output_type": "execute_result"
    }
   ],
   "source": [
    "kwargs.get('agg', np.mean)"
   ]
  },
  {
   "cell_type": "code",
   "execution_count": 3,
   "metadata": {},
   "outputs": [],
   "source": [
    "a = {a:a*2+1 for a in range(5)}"
   ]
  },
  {
   "cell_type": "code",
   "execution_count": 7,
   "metadata": {},
   "outputs": [
    {
     "data": {
      "text/plain": [
       "True"
      ]
     },
     "execution_count": 7,
     "metadata": {},
     "output_type": "execute_result"
    }
   ],
   "source": [
    "a.get(6) is None"
   ]
  },
  {
   "cell_type": "code",
   "execution_count": null,
   "metadata": {},
   "outputs": [],
   "source": []
  }
 ],
 "metadata": {
  "kernelspec": {
   "display_name": "cil",
   "language": "python",
   "name": "python3"
  },
  "language_info": {
   "codemirror_mode": {
    "name": "ipython",
    "version": 3
   },
   "file_extension": ".py",
   "mimetype": "text/x-python",
   "name": "python",
   "nbconvert_exporter": "python",
   "pygments_lexer": "ipython3",
   "version": "3.9.18"
  }
 },
 "nbformat": 4,
 "nbformat_minor": 2
}
