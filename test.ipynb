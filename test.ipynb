{
 "cells": [
  {
   "cell_type": "code",
   "execution_count": 1,
   "metadata": {},
   "outputs": [],
   "source": [
    "from sage.all_cmdline import *   # import sage library\n",
    "\n",
    "# from solid_angle_code.solid_angle_sage import *\n",
    "from solid_angle_code.solid_angle_sage import solid_angle_general, solid_angle_2d, solid_angle_3d\n",
    "import time\n",
    "import numpy as np\n",
    "import random\n",
    "\n",
    "SEED = 2\n",
    "SF = 1\n",
    "\n",
    "seed = SEED\n",
    "np.random.seed(SEED)\n",
    "np.random.seed(seed)\n",
    "random.seed(seed)\n",
    "# torch.manual_seed(seed)\n",
    "# torch.cuda.manual_seed_all(seed)\n",
    "# torch.manual_seed(seed)\n",
    "# torch.backends.cudnn.deterministic = True\n",
    "# torch.backends.cudnn.benchmark = False\n",
    "# torch.backends.cudnn.enabled = False\n",
    "\n",
    "sf = SF"
   ]
  },
  {
   "cell_type": "code",
   "execution_count": null,
   "metadata": {},
   "outputs": [],
   "source": []
  },
  {
   "cell_type": "code",
   "execution_count": 2,
   "metadata": {},
   "outputs": [
    {
     "name": "stderr",
     "output_type": "stream",
     "text": [
      "WARNING: Associated matrix NOT positive definite, series NOT converge\n"
     ]
    },
    {
     "name": "stdout",
     "output_type": "stream",
     "text": [
      "vector dim: 4, number of vector: 4\n",
      "ray=array([[ -4,  -1, -21,  16],\n",
      "       [-18,  -8,   5, -12],\n",
      "       [-11,  -9,   6,  23],\n",
      "       [  0, -11,   5,  -6]])\n"
     ]
    },
    {
     "name": "stderr",
     "output_type": "stream",
     "text": [
      "WARNING: Associated matrix NOT positive definite, series NOT converge\n"
     ]
    },
    {
     "name": "stdout",
     "output_type": "stream",
     "text": [
      " ## solid angle(deg=20): 0.04012700973195804\n",
      "Time to measure solid angle : 4.34\n"
     ]
    },
    {
     "name": "stderr",
     "output_type": "stream",
     "text": [
      "WARNING: Associated matrix NOT positive definite, series NOT converge\n"
     ]
    },
    {
     "name": "stdout",
     "output_type": "stream",
     "text": [
      " ## solid angle(deg=40): 0.04012700973195804\n",
      "Time to measure solid angle : 4.11\n"
     ]
    },
    {
     "name": "stderr",
     "output_type": "stream",
     "text": [
      "WARNING: Associated matrix NOT positive definite, series NOT converge\n"
     ]
    },
    {
     "name": "stdout",
     "output_type": "stream",
     "text": [
      " ## solid angle(deg=80): 0.04012700973195804\n",
      "Time to measure solid angle : 4.11\n",
      " ## solid angle(deg=160): 0.04012700973195804\n",
      "Time to measure solid angle : 8.19\n",
      "\n"
     ]
    }
   ],
   "source": [
    "result1_20, result1_40, result1_80, result1_160, = list(), list(), list(), list(), \n",
    "size_list = [2, 3, 4, 8, 16, 32, 64, 128, 256, 512]\n",
    "size_list = [4]\n",
    "cone_list1 = []\n",
    "for s in size_list:\n",
    "    print(f\"vector dim: {s}, number of vector: {s}\")\n",
    "    start = time.time()\n",
    "    ray = np.round(np.random.normal(size=[s, s]), sf)*10**sf\n",
    "    ray = np.asarray(ray, dtype=int)\n",
    "    cone_list1.append(ray)\n",
    "    print(f\"{ray=}\")\n",
    "    A = matrix(ray)\n",
    "    start = time.time()\n",
    "    a = solid_angle_general(A, deg=20)\n",
    "    print(f\" ## solid angle(deg=20): {a}\")\n",
    "    result1_20.append(a)\n",
    "    solid_angle_time = time.time()\n",
    "    print(f\"Time to measure solid angle : {round(solid_angle_time - start, 2)}\")\n",
    "    start = time.time()\n",
    "    b = solid_angle_general(A, deg=40)\n",
    "    print(f\" ## solid angle(deg=40): {b}\")\n",
    "    result1_40.append(b)\n",
    "    solid_angle_time = time.time()\n",
    "    print(f\"Time to measure solid angle : {round(solid_angle_time - start, 2)}\")\n",
    "    start = time.time()\n",
    "    c = solid_angle_general(A, deg=80)\n",
    "    print(f\" ## solid angle(deg=80): {c}\")\n",
    "    result1_80.append(c)\n",
    "    solid_angle_time = time.time()\n",
    "    print(f\"Time to measure solid angle : {round(solid_angle_time - start, 2)}\")\n",
    "    d = solid_angle_general(A, deg=160)\n",
    "    print(f\" ## solid angle(deg=160): {d}\")\n",
    "    result1_160.append(d)\n",
    "    solid_angle_time = time.time()\n",
    "    print(f\"Time to measure solid angle : {round(solid_angle_time - start, 2)}\")\n",
    "    print()\n",
    "\n"
   ]
  },
  {
   "cell_type": "code",
   "execution_count": 3,
   "metadata": {},
   "outputs": [
    {
     "name": "stderr",
     "output_type": "stream",
     "text": [
      "WARNING: Associated matrix NOT positive definite, series NOT converge\n"
     ]
    },
    {
     "name": "stdout",
     "output_type": "stream",
     "text": [
      "vector dim: 2, number of vector: 2\n",
      "ray=array([[ 0, 12],\n",
      "       [-7,  0]])\n",
      " ## solid angle(deg=20): 0.25000000000000006\n",
      "Time to measure solid angle : 0.01\n",
      "\n",
      "vector dim: 3, number of vector: 3\n",
      "ray=array([[ -9,  -2,   3],\n",
      "       [-10,  -3,  -2],\n",
      "       [ -6, -12, -14]])\n",
      " ## solid angle(deg=20): 0.038242452344209435\n",
      "Time to measure solid angle : 0.04\n",
      "\n",
      "vector dim: 4, number of vector: 4\n",
      "ray=array([[ -2,  -3,  22, -24],\n",
      "       [  1,   4,  14,   5],\n",
      "       [ -8,   0,   5,  -3],\n",
      "       [  8, -19,  17,  15]])\n"
     ]
    },
    {
     "name": "stderr",
     "output_type": "stream",
     "text": [
      "WARNING: Associated matrix NOT positive definite, series NOT converge\n"
     ]
    },
    {
     "name": "stdout",
     "output_type": "stream",
     "text": [
      " ## solid angle(deg=20): 0.024470409880112853\n",
      "Time to measure solid angle : 1.21\n",
      "\n",
      "vector dim: 8, number of vector: 8\n",
      "ray=array([[ -3,   6,   0,  -8,   1,  10,  -4,  -4],\n",
      "       [ -1,   4,  13,  -6,   5,   2, -19,  -4],\n",
      "       [ -1,   0,   3, -20,   0,  -7, -14,   5],\n",
      "       [  7,  -7,   8,  -4,   1, -11,  16, -27],\n",
      "       [ -1,   7, -20,  -2,  -1,   8,  12,  -4],\n",
      "       [-14,  14,  12,  -5,   4,   4,   6,   2],\n",
      "       [ 14, -17,  10,   4,  -2,  12, -23,  12],\n",
      "       [  4, -11,   4,  -3,  26,  18,   4,  -7]])\n"
     ]
    },
    {
     "name": "stderr",
     "output_type": "stream",
     "text": [
      "WARNING: Associated matrix NOT positive definite, series NOT converge\n",
      "WARNING: Associated matrix NOT positive definite, series NOT converge\n"
     ]
    },
    {
     "name": "stdout",
     "output_type": "stream",
     "text": [
      " ## solid angle(deg=20): 0.00030109726356532235\n",
      "Time to measure solid angle : 226066.6\n",
      "\n",
      "vector dim: 16, number of vector: 16\n",
      "ray=array([[ -6,  -3,  -6,  -9,  -6,  -3,  -5,  -7,  -9,  26, -15, -10,   4,\n",
      "         -3,   4,   8],\n",
      "       [ 13,   8, -10,  11, -18,  -1,  -5, -11,   6,  -2,  10, -15,   8,\n",
      "          5,   1, -14],\n",
      "       [ -3, -15, -21,  33,  10,  18,  -4,   7,   7,   6,   0,  -2, -21,\n",
      "          6,   4,  11],\n",
      "       [ -3,  17,  -4, -13,   9,  -5, -13,   1,   8,   2,   5,  41,   8,\n",
      "         15, -20,   4],\n",
      "       [  8,  -4,  -9,   4,  -3,  -6,  11,  13,   3,  -5,   5,   8,   6,\n",
      "        -15,  -3,   4],\n",
      "       [  6,  10,   8, -11,  -7, -12,  18,   2,   6,  10,  -3, -12,  -4,\n",
      "         -1,  15,   9],\n",
      "       [-11,   7,   7, -11,  -1, -19,   3,  -3, -14,  -7,   2,  -6,   3,\n",
      "          6,  -8,  -3],\n",
      "       [ 21,   1,  -8,   1, -13,  11,   4,  11,   9,   4,  10,   2,  -7,\n",
      "        -10,  -4, -25],\n",
      "       [ 18, -17,  -1, -13, -20,  -1,  -3,  -2,   5,  -6,   4,   5,  -3,\n",
      "         -3,   5,   1],\n",
      "       [  2, -24,   1,   4,  -1,   3,  19,   1,   7,  -8,  -9,  -5, -10,\n",
      "          0,  -9,  -2],\n",
      "       [-14, -17,  -7, -11,  -7,  -6,  -4,  10,  14,   7,  -4,  15, -15,\n",
      "        -20,   3,   0],\n",
      "       [ -1,   0, -16, -12,  12,  10,  -7,  19, -11,  -6,   3, -12,  -5,\n",
      "         -2,  -4,   9],\n",
      "       [  6, -11,  -7,   2,  -1,  -8,   4,   8,  -6,   8, -16, -16,   5,\n",
      "         -8, -10,  -3],\n",
      "       [ -7,   3, -15,  -4,  32,   1, -19,   6,   5,  14,   1,  -7,  14,\n",
      "          7, -18,   7],\n",
      "       [ -2,  11,  -4,   8,   2,   6,   0,  -4,   1,   6,   4,  16,   4,\n",
      "          6,  21,   1],\n",
      "       [  5,  -6,   0,  16,   3,  15, -11, -14,   3, -14,  27,  12, -12,\n",
      "         -2,  -6,   4]])\n",
      " ## solid angle(deg=20): 2.3104759575650814e-08\n",
      "Time to measure solid angle : 0.04\n",
      "\n",
      "vector dim: 32, number of vector: 32\n",
      "ray=array([[ -1,   9,  15, ...,  16,   7,  -2],\n",
      "       [  1,  -1,   8, ...,  -5,   2,  -3],\n",
      "       [  3,  12,   0, ...,  -2, -12,  -7],\n",
      "       ...,\n",
      "       [-17,  11,   7, ...,   6,   0,  10],\n",
      "       [  1,  -5,  15, ...,  14,  -2,  -2],\n",
      "       [ -4, -21,  -2, ..., -22, -22,   3]])\n",
      " ## solid angle(deg=20): 5.3331563818696894e-18\n",
      "Time to measure solid angle : 0.16\n",
      "\n",
      "vector dim: 64, number of vector: 64\n",
      "ray=array([[-13,   6,  -2, ...,   7, -12,   5],\n",
      "       [ -1,   5,  -1, ...,  -5, -16,  11],\n",
      "       [ -1,   1,  -9, ...,  13,  -4,  19],\n",
      "       ...,\n",
      "       [-17,   9,  -7, ...,  -2,  -7,  11],\n",
      "       [ 19,  -6, -15, ..., -13, -22,  11],\n",
      "       [  7,   4, -13, ..., -16,   2,  -2]])\n"
     ]
    },
    {
     "name": "stderr",
     "output_type": "stream",
     "text": [
      "WARNING: Associated matrix NOT positive definite, series NOT converge\n"
     ]
    },
    {
     "name": "stdout",
     "output_type": "stream",
     "text": [
      " ## solid angle(deg=20): 1.2034325390335816e-34\n",
      "Time to measure solid angle : 0.82\n",
      "\n",
      "vector dim: 128, number of vector: 128\n",
      "ray=array([[ -9,   6,   6, ...,  12,  -4,  -4],\n",
      "       [  8,  -2,  14, ..., -15,  13, -10],\n",
      "       [-10,  -3,   1, ...,  18, -11,  -8],\n",
      "       ...,\n",
      "       [  2,  25,  -2, ...,   4,   7,  -8],\n",
      "       [  4,   2,  -3, ...,  -4,  -2,  20],\n",
      "       [ 11,   0,   8, ...,  13,  28, -16]])\n"
     ]
    },
    {
     "name": "stderr",
     "output_type": "stream",
     "text": [
      "WARNING: Associated matrix NOT positive definite, series NOT converge\n"
     ]
    },
    {
     "name": "stdout",
     "output_type": "stream",
     "text": [
      " ## solid angle(deg=20): 2.943943200718048e-67\n",
      "Time to measure solid angle : 6.96\n",
      "\n",
      "vector dim: 256, number of vector: 256\n",
      "ray=array([[ -1,   5, -10, ...,  -6, -24,  -7],\n",
      "       [ -2,  11,   1, ...,  -4,   1, -14],\n",
      "       [ -9,  -2,  -2, ...,   0, -24,  -3],\n",
      "       ...,\n",
      "       [  3,   0,   5, ...,   8,   5,   2],\n",
      "       [  9,  -4,   1, ...,   4, -20,   7],\n",
      "       [  0, -16,  12, ...,   3,   3,  -3]])\n"
     ]
    },
    {
     "name": "stderr",
     "output_type": "stream",
     "text": [
      "WARNING: Associated matrix NOT positive definite, series NOT converge\n"
     ]
    },
    {
     "name": "stdout",
     "output_type": "stream",
     "text": [
      " ## solid angle(deg=20): 2.2303593571364295e-135\n",
      "Time to measure solid angle : 88.6\n",
      "\n",
      "vector dim: 512, number of vector: 512\n",
      "ray=array([[-19,   7,   2, ...,   6, -17,   6],\n",
      "       [ -6,  -2, -24, ...,   8, -16,  -1],\n",
      "       [-18,  22,  14, ..., -14,  -1,  -8],\n",
      "       ...,\n",
      "       [ -8,  12,  -5, ..., -17,  16, -21],\n",
      "       [ -5,   0,  -8, ...,   1,   7,  -2],\n",
      "       [-18,  13,  21, ...,  -3,   7,  17]])\n"
     ]
    },
    {
     "name": "stderr",
     "output_type": "stream",
     "text": [
      "WARNING: Associated matrix NOT positive definite, series NOT converge\n"
     ]
    },
    {
     "name": "stdout",
     "output_type": "stream",
     "text": [
      " ## solid angle(deg=20): 0.0\n",
      "Time to measure solid angle : 1605.83\n",
      "\n"
     ]
    }
   ],
   "source": [
    "result2_20, result2_40, result2_80, result2_160, = list(), list(), list(), list(), \n",
    "size_list = [2, 3, 4, 8, 16, 32, 64, 128, 256, 512]\n",
    "# size_list = [8]\n",
    "cone_list1 = []\n",
    "for s in size_list:\n",
    "    print(f\"vector dim: {s}, number of vector: {s}\")\n",
    "    start = time.time()\n",
    "    ray = np.round(np.random.normal(size=[s, s]), sf)*10**sf\n",
    "    ray = np.asarray(ray, dtype=int)\n",
    "    cone_list1.append(ray)\n",
    "    print(f\"{ray=}\")\n",
    "    A = matrix(ray)\n",
    "    start = time.time()\n",
    "    a = solid_angle_general(A, deg=10)\n",
    "    print(f\" ## solid angle(deg=10): {a}\")\n",
    "    result2_20.append(a)\n",
    "    solid_angle_time = time.time()\n",
    "    print(f\"Time to measure solid angle : {round(solid_angle_time - start, 2)}\")\n",
    "    # start = time.time()\n",
    "    # b = solid_angle_general(A, deg=40)\n",
    "    # print(f\" ## solid angle(deg=40): {b}\")\n",
    "    # result2_40.append(b)\n",
    "    # solid_angle_time = time.time()\n",
    "    # print(f\"Time to measure solid angle : {round(solid_angle_time - start, 2)}\")\n",
    "    # start = time.time()\n",
    "    # c = solid_angle_general(A, deg=80)\n",
    "    # print(f\" ## solid angle(deg=80): {c}\")\n",
    "    # result2_80.append(bc)\n",
    "    # solid_angle_time = time.time()\n",
    "    # print(f\"Time to measure solid angle : {round(solid_angle_time - start, 2)}\")\n",
    "    # d = solid_angle_general(A, deg=160)\n",
    "    # print(f\" ## solid angle(deg=160): {d}\")\n",
    "    # result2_160.append(d)\n",
    "    # solid_angle_time = time.time()\n",
    "    # print(f\"Time to measure solid angle : {round(solid_angle_time - start, 2)}\")\n",
    "    print()\n",
    "\n"
   ]
  },
  {
   "cell_type": "code",
   "execution_count": 3,
   "metadata": {},
   "outputs": [
    {
     "name": "stdout",
     "output_type": "stream",
     "text": [
      "vector dim: 2, number of vector: 2\n",
      "Time to define dual: 0.05\n",
      "\n",
      "vector dim: 4, number of vector: 4\n",
      "Time to define dual: 0.01\n",
      "\n",
      "vector dim: 8, number of vector: 8\n",
      "Time to define dual: 0.03\n",
      "\n",
      "vector dim: 16, number of vector: 16\n",
      "Time to define dual: 0.03\n",
      "\n",
      "vector dim: 32, number of vector: 32\n",
      "Time to define dual: 0.13\n",
      "\n",
      "vector dim: 64, number of vector: 64\n",
      "Time to define dual: 0.75\n",
      "\n",
      "vector dim: 128, number of vector: 128\n",
      "Time to define dual: 5.45\n",
      "\n",
      "vector dim: 256, number of vector: 256\n",
      "Time to define dual: 89.67\n"
     ]
    },
    {
     "name": "stderr",
     "output_type": "stream",
     "text": [
      "/tmp/ipykernel_475133/3542891929.py:18: RuntimeWarning: divide by zero encountered in divide\n",
      "  dc_ray = dc_ray/np.std(dc_ray)\n",
      "/tmp/ipykernel_475133/3542891929.py:18: RuntimeWarning: invalid value encountered in divide\n",
      "  dc_ray = dc_ray/np.std(dc_ray)\n"
     ]
    },
    {
     "ename": "ValueError",
     "evalue": "cannot convert float NaN to integer",
     "output_type": "error",
     "traceback": [
      "\u001b[0;31m---------------------------------------------------------------------------\u001b[0m",
      "\u001b[0;31mValueError\u001b[0m                                Traceback (most recent call last)",
      "\u001b[1;32m/home/jaeyoung/nas/cl_gym/test.ipynb Cell 5\u001b[0m line \u001b[0;36m2\n\u001b[1;32m     <a href='vscode-notebook-cell://ssh-remote%2Bdi5.kaist.ac.kr/home/jaeyoung/nas/cl_gym/test.ipynb#W4sdnNjb2RlLXJlbW90ZQ%3D%3D?line=20'>21</a>\u001b[0m     \u001b[39mfor\u001b[39;00m j, e \u001b[39min\u001b[39;00m \u001b[39menumerate\u001b[39m(ray):\n\u001b[1;32m     <a href='vscode-notebook-cell://ssh-remote%2Bdi5.kaist.ac.kr/home/jaeyoung/nas/cl_gym/test.ipynb#W4sdnNjb2RlLXJlbW90ZQ%3D%3D?line=21'>22</a>\u001b[0m         dc_ray_r[i, j] \u001b[39m=\u001b[39m np\u001b[39m.\u001b[39mround(\u001b[39mfloat\u001b[39m(e), \u001b[39m4\u001b[39m)\u001b[39m*\u001b[39m\u001b[39m1e4\u001b[39m\n\u001b[0;32m---> <a href='vscode-notebook-cell://ssh-remote%2Bdi5.kaist.ac.kr/home/jaeyoung/nas/cl_gym/test.ipynb#W4sdnNjb2RlLXJlbW90ZQ%3D%3D?line=22'>23</a>\u001b[0m dc_ray_r \u001b[39m=\u001b[39m np\u001b[39m.\u001b[39;49masarray(dc_ray_r, dtype\u001b[39m=\u001b[39;49m\u001b[39mint\u001b[39;49m)\n\u001b[1;32m     <a href='vscode-notebook-cell://ssh-remote%2Bdi5.kaist.ac.kr/home/jaeyoung/nas/cl_gym/test.ipynb#W4sdnNjb2RlLXJlbW90ZQ%3D%3D?line=23'>24</a>\u001b[0m dc_ray_list\u001b[39m.\u001b[39mappend(dc_ray_r)\n\u001b[1;32m     <a href='vscode-notebook-cell://ssh-remote%2Bdi5.kaist.ac.kr/home/jaeyoung/nas/cl_gym/test.ipynb#W4sdnNjb2RlLXJlbW90ZQ%3D%3D?line=25'>26</a>\u001b[0m \u001b[39m# A = matrix(dc_ray_r)\u001b[39;00m\n\u001b[1;32m     <a href='vscode-notebook-cell://ssh-remote%2Bdi5.kaist.ac.kr/home/jaeyoung/nas/cl_gym/test.ipynb#W4sdnNjb2RlLXJlbW90ZQ%3D%3D?line=26'>27</a>\u001b[0m \u001b[39m# dual_ray_time = time.time()\u001b[39;00m\n\u001b[1;32m     <a href='vscode-notebook-cell://ssh-remote%2Bdi5.kaist.ac.kr/home/jaeyoung/nas/cl_gym/test.ipynb#W4sdnNjb2RlLXJlbW90ZQ%3D%3D?line=27'>28</a>\u001b[0m \u001b[39m# # print(f\"Time to get dual basis : {round(dual_ray_time - start, 2)}\")\u001b[39;00m\n\u001b[0;32m   (...)\u001b[0m\n\u001b[1;32m     <a href='vscode-notebook-cell://ssh-remote%2Bdi5.kaist.ac.kr/home/jaeyoung/nas/cl_gym/test.ipynb#W4sdnNjb2RlLXJlbW90ZQ%3D%3D?line=32'>33</a>\u001b[0m \u001b[39m# solid_angle_time = time.time()\u001b[39;00m\n\u001b[1;32m     <a href='vscode-notebook-cell://ssh-remote%2Bdi5.kaist.ac.kr/home/jaeyoung/nas/cl_gym/test.ipynb#W4sdnNjb2RlLXJlbW90ZQ%3D%3D?line=33'>34</a>\u001b[0m \u001b[39m# print(f\"Time to measure solid angle : {round(solid_angle_time - start, 2)}\")\u001b[39;00m\n",
      "\u001b[0;31mValueError\u001b[0m: cannot convert float NaN to integer"
     ]
    }
   ],
   "source": [
    "result = list()\n",
    "size_list = [2, 4, 8, 16, 32, 64, 128, 256, 512]\n",
    "cone_list, dual_cone_list, dc_ray_list,  = [], [], []\n",
    "for s in size_list:\n",
    "    print(f\"vector dim: {s}, number of vector: {s}\")\n",
    "    start = time.time()\n",
    "    ray = np.round(np.random.normal(size=[s, s]), sf)*10**sf\n",
    "    ray = np.asarray(ray, dtype=int)\n",
    "    cone = Cone(ray, normalize=True)\n",
    "    cone_list.append(cone)\n",
    "\n",
    "    dual_cone = cone.dual()\n",
    "    dual_cone_list.append(dual_cone)\n",
    "\n",
    "    dual_time = time.time()\n",
    "    print(f\"Time to define dual: {round(dual_time - start, 2)}\")\n",
    "    dc_ray = dual_cone.rays()\n",
    "    dc_ray = dc_ray/np.std(dc_ray)\n",
    "    dc_ray_r = np.zeros_like(dc_ray)\n",
    "    for i, ray in enumerate(dc_ray):\n",
    "        for j, e in enumerate(ray):\n",
    "            dc_ray_r[i, j] = np.round(float(e), 4)*1e4\n",
    "    dc_ray_r = np.asarray(dc_ray_r, dtype=int)\n",
    "    dc_ray_list.append(dc_ray_r)\n",
    "\n",
    "    # A = matrix(dc_ray_r)\n",
    "    # dual_ray_time = time.time()\n",
    "    # # print(f\"Time to get dual basis : {round(dual_ray_time - start, 2)}\")\n",
    "    # a = solid_angle_general(A)\n",
    "    # print(f\" ## solid angle: {a}\")\n",
    "    # result.append(a)\n",
    "    # dc_ray\n",
    "    # solid_angle_time = time.time()\n",
    "    # print(f\"Time to measure solid angle : {round(solid_angle_time - start, 2)}\")\n",
    "    print()\n"
   ]
  },
  {
   "cell_type": "code",
   "execution_count": 3,
   "metadata": {},
   "outputs": [
    {
     "data": {
      "text/plain": [
       "array([0, 2])"
      ]
     },
     "execution_count": 3,
     "metadata": {},
     "output_type": "execute_result"
    }
   ],
   "source": [
    "np.where([True, False, True])[0]"
   ]
  },
  {
   "cell_type": "code",
   "execution_count": null,
   "metadata": {},
   "outputs": [],
   "source": [
    "target = (dataset.targets.clone().detach().numpy() == cls)\n",
    "num_candidate = np.where(target == 1)[0]\n"
   ]
  },
  {
   "cell_type": "code",
   "execution_count": 5,
   "metadata": {},
   "outputs": [
    {
     "data": {
      "text/plain": [
       "0.5263447341982757"
      ]
     },
     "execution_count": 5,
     "metadata": {},
     "output_type": "execute_result"
    }
   ],
   "source": [
    "np.random.choice()"
   ]
  },
  {
   "cell_type": "code",
   "execution_count": 21,
   "metadata": {},
   "outputs": [],
   "source": [
    "from cl_gym.benchmarks.utils import DEFAULT_DATASET_DIR\n",
    "\n",
    "import torchvision\n",
    "mnist_train = torchvision.datasets.MNIST(DEFAULT_DATASET_DIR, train=True, download=True)\n",
    "target_classes = mnist_train.targets"
   ]
  },
  {
   "cell_type": "code",
   "execution_count": 22,
   "metadata": {},
   "outputs": [],
   "source": [
    "cls_idx = np.random.choice(mnist_train.targets.unique().cpu().numpy(), size=10,replace=False)"
   ]
  },
  {
   "cell_type": "code",
   "execution_count": 23,
   "metadata": {},
   "outputs": [],
   "source": [
    "task_id = 2\n",
    "\n",
    "start_class = (task_id-1) * 2\n",
    "end_class = task_id * 2\n",
    "# For CIFAR-like datasets in torchvision where targets are list\n",
    "# target_classes = dataset.targets.clone().detach().numpy()\n",
    "selected_indices = np.where(np.logical_and(start_class <= target_classes, target_classes < end_class))[0]\n"
   ]
  },
  {
   "cell_type": "code",
   "execution_count": 28,
   "metadata": {},
   "outputs": [
    {
     "data": {
      "text/plain": [
       "array([6, 8, 3, 1, 4, 5, 9, 7, 2, 0])"
      ]
     },
     "execution_count": 28,
     "metadata": {},
     "output_type": "execute_result"
    }
   ],
   "source": [
    "cls_idx"
   ]
  },
  {
   "cell_type": "code",
   "execution_count": 37,
   "metadata": {},
   "outputs": [],
   "source": [
    "c = cls_idx[start_class:end_class]"
   ]
  },
  {
   "cell_type": "code",
   "execution_count": 51,
   "metadata": {},
   "outputs": [
    {
     "data": {
      "text/plain": [
       "array([3, 1])"
      ]
     },
     "execution_count": 51,
     "metadata": {},
     "output_type": "execute_result"
    }
   ],
   "source": [
    "cls_idx[start_class:end_class]"
   ]
  },
  {
   "cell_type": "code",
   "execution_count": 42,
   "metadata": {},
   "outputs": [
    {
     "data": {
      "text/plain": [
       "1"
      ]
     },
     "execution_count": 42,
     "metadata": {},
     "output_type": "execute_result"
    }
   ],
   "source": [
    "c"
   ]
  },
  {
   "cell_type": "code",
   "execution_count": 52,
   "metadata": {},
   "outputs": [
    {
     "data": {
      "text/plain": [
       "array([    3,     6,     7, ..., 59984, 59994, 59996])"
      ]
     },
     "execution_count": 52,
     "metadata": {},
     "output_type": "execute_result"
    }
   ],
   "source": [
    "indices = np.zeros_like(target_classes)\n",
    "for c in cls_idx[start_class:end_class]:\n",
    "    indices = np.logical_or(indices, target_classes == c)\n",
    "selected_indices = np.where(indices)[0]"
   ]
  },
  {
   "cell_type": "code",
   "execution_count": 57,
   "metadata": {},
   "outputs": [
    {
     "data": {
      "text/plain": [
       "array([0, 1], dtype=uint8)"
      ]
     },
     "execution_count": 57,
     "metadata": {},
     "output_type": "execute_result"
    }
   ],
   "source": [
    "np.unique(indices[:20].cpu().numpy())"
   ]
  },
  {
   "cell_type": "code",
   "execution_count": 54,
   "metadata": {},
   "outputs": [
    {
     "data": {
      "text/plain": [
       "tensor([1, 1, 3,  ..., 1, 1, 3])"
      ]
     },
     "execution_count": 54,
     "metadata": {},
     "output_type": "execute_result"
    }
   ],
   "source": [
    "target_classes[np.where(indices)[0]]"
   ]
  },
  {
   "cell_type": "code",
   "execution_count": 58,
   "metadata": {},
   "outputs": [
    {
     "data": {
      "text/plain": [
       "array([0, 1, 2, 3, 4, 5, 6, 7, 8, 9])"
      ]
     },
     "execution_count": 58,
     "metadata": {},
     "output_type": "execute_result"
    }
   ],
   "source": [
    "np.arange(10)"
   ]
  },
  {
   "cell_type": "code",
   "execution_count": 1,
   "metadata": {},
   "outputs": [],
   "source": [
    "a, b, *_ = 1, 2, 3, 4, 5"
   ]
  },
  {
   "cell_type": "code",
   "execution_count": 2,
   "metadata": {},
   "outputs": [
    {
     "data": {
      "text/plain": [
       "[3, 4, 5]"
      ]
     },
     "execution_count": 2,
     "metadata": {},
     "output_type": "execute_result"
    }
   ],
   "source": [
    "_"
   ]
  },
  {
   "cell_type": "code",
   "execution_count": 36,
   "metadata": {},
   "outputs": [],
   "source": [
    "import torchvision\n",
    "from cl_gym.benchmarks.utils import DEFAULT_DATASET_DIR\n",
    "from cl_gym.benchmarks.transforms import get_default_fashion_mnist_transform\n",
    "import torch\n",
    "\n",
    "transforms = get_default_fashion_mnist_transform(1)[0]\n",
    "fashion_mnist_train = torchvision.datasets.FashionMNIST(DEFAULT_DATASET_DIR, train=True, download=True, transform=transforms,)\n"
   ]
  },
  {
   "cell_type": "code",
   "execution_count": 33,
   "metadata": {},
   "outputs": [
    {
     "ename": "AttributeError",
     "evalue": "'DataLoader' object has no attribute 'to'",
     "output_type": "error",
     "traceback": [
      "\u001b[0;31m---------------------------------------------------------------------------\u001b[0m",
      "\u001b[0;31mAttributeError\u001b[0m                            Traceback (most recent call last)",
      "Cell \u001b[0;32mIn[33], line 1\u001b[0m\n\u001b[0;32m----> 1\u001b[0m loader \u001b[38;5;241m=\u001b[39m \u001b[43mtorch\u001b[49m\u001b[38;5;241;43m.\u001b[39;49m\u001b[43mutils\u001b[49m\u001b[38;5;241;43m.\u001b[39;49m\u001b[43mdata\u001b[49m\u001b[38;5;241;43m.\u001b[39;49m\u001b[43mDataLoader\u001b[49m\u001b[43m(\u001b[49m\u001b[43mfashion_mnist_train\u001b[49m\u001b[43m,\u001b[49m\u001b[43m \u001b[49m\u001b[38;5;241;43m32\u001b[39;49m\u001b[43m,\u001b[49m\u001b[43m \u001b[49m\u001b[38;5;28;43;01mTrue\u001b[39;49;00m\u001b[43m)\u001b[49m\u001b[38;5;241;43m.\u001b[39;49m\u001b[43mto\u001b[49m(\u001b[38;5;124m\"\u001b[39m\u001b[38;5;124mcuda\u001b[39m\u001b[38;5;124m\"\u001b[39m)\n",
      "\u001b[0;31mAttributeError\u001b[0m: 'DataLoader' object has no attribute 'to'"
     ]
    }
   ],
   "source": [
    "loader = torch.utils.data.DataLoader(fashion_mnist_train, 32, True)"
   ]
  },
  {
   "cell_type": "code",
   "execution_count": 37,
   "metadata": {},
   "outputs": [],
   "source": [
    "y = loader.dataset.targets.cpu().numpy()\n",
    "y_torch = loader.dataset.targets.to(\"cuda\")"
   ]
  },
  {
   "cell_type": "code",
   "execution_count": 53,
   "metadata": {},
   "outputs": [],
   "source": [
    "d = dict()\n",
    "for c in y_torch.unique():\n",
    "    c = c.cpu().item()\n",
    "    d[c] = (y_torch==c).nonzero().reshape(-1)"
   ]
  },
  {
   "cell_type": "code",
   "execution_count": 56,
   "metadata": {},
   "outputs": [
    {
     "data": {
      "text/plain": [
       "torch.Size([6000])"
      ]
     },
     "execution_count": 56,
     "metadata": {},
     "output_type": "execute_result"
    }
   ],
   "source": [
    "d[0].shape"
   ]
  },
  {
   "cell_type": "code",
   "execution_count": 38,
   "metadata": {},
   "outputs": [
    {
     "data": {
      "text/plain": [
       "tensor([0, 1, 2, 3, 4, 5, 6, 7, 8, 9], device='cuda:0')"
      ]
     },
     "execution_count": 38,
     "metadata": {},
     "output_type": "execute_result"
    }
   ],
   "source": [
    "y_torch.unique()"
   ]
  },
  {
   "cell_type": "code",
   "execution_count": 41,
   "metadata": {},
   "outputs": [
    {
     "data": {
      "text/plain": [
       "tensor([[9]], device='cuda:0')"
      ]
     },
     "execution_count": 41,
     "metadata": {},
     "output_type": "execute_result"
    }
   ],
   "source": [
    "(y_torch.unique()==c).nonzero()"
   ]
  },
  {
   "cell_type": "code",
   "execution_count": 66,
   "metadata": {},
   "outputs": [],
   "source": [
    "class A():\n",
    "    def __init__(self):\n",
    "        self.a = \"a\"\n",
    "    def aa(self):\n",
    "        def bb():\n",
    "            return \"bb\"\n",
    "        print(bb())\n",
    "        return \"aa\""
   ]
  },
  {
   "cell_type": "code",
   "execution_count": 67,
   "metadata": {},
   "outputs": [
    {
     "name": "stdout",
     "output_type": "stream",
     "text": [
      "bb\n"
     ]
    },
    {
     "data": {
      "text/plain": [
       "'aa'"
      ]
     },
     "execution_count": 67,
     "metadata": {},
     "output_type": "execute_result"
    }
   ],
   "source": [
    "a = A()\n",
    "a.aa()"
   ]
  },
  {
   "cell_type": "code",
   "execution_count": 69,
   "metadata": {},
   "outputs": [],
   "source": [
    "new_l0_grads = torch.empty((0, 10), device=\"cuda\", dtype=torch.float32)"
   ]
  },
  {
   "cell_type": "code",
   "execution_count": 71,
   "metadata": {},
   "outputs": [
    {
     "data": {
      "text/plain": [
       "torch.Size([0, 10])"
      ]
     },
     "execution_count": 71,
     "metadata": {},
     "output_type": "execute_result"
    }
   ],
   "source": [
    "new_l0_grads.shape"
   ]
  },
  {
   "cell_type": "code",
   "execution_count": 73,
   "metadata": {},
   "outputs": [
    {
     "data": {
      "text/plain": [
       "{0: ['a'], 1: [], 2: [], 3: [], 4: [], 5: [], 6: [], 7: [], 8: [], 9: []}"
      ]
     },
     "execution_count": 73,
     "metadata": {},
     "output_type": "execute_result"
    }
   ],
   "source": [
    "a = {x:[] for x in range(10)}\n",
    "a[0].append('a')\n",
    "a"
   ]
  },
  {
   "cell_type": "code",
   "execution_count": null,
   "metadata": {},
   "outputs": [],
   "source": []
  }
 ],
 "metadata": {
  "kernelspec": {
   "display_name": "cil",
   "language": "python",
   "name": "python3"
  },
  "language_info": {
   "codemirror_mode": {
    "name": "ipython",
    "version": 3
   },
   "file_extension": ".py",
   "mimetype": "text/x-python",
   "name": "python",
   "nbconvert_exporter": "python",
   "pygments_lexer": "ipython3",
   "version": "3.9.17"
  }
 },
 "nbformat": 4,
 "nbformat_minor": 2
}
