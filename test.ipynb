{
 "cells": [
  {
   "cell_type": "code",
   "execution_count": 40,
   "metadata": {},
   "outputs": [
    {
     "data": {
      "text/plain": [
       "tensor(0.9365)"
      ]
     },
     "execution_count": 40,
     "metadata": {},
     "output_type": "execute_result"
    }
   ],
   "source": [
    "import torch\n",
    "import torch.nn.functional as F\n",
    "\n",
    "criterion = torch.nn.BCEWithLogitsLoss()\n",
    "pred = torch.rand([256, 10])\n",
    "num_classes = 10\n",
    "target = torch.randint(0, 9, (256,))\n",
    "target = F.one_hot(target, num_classes).float()\n",
    "criterion(pred, target)"
   ]
  },
  {
   "cell_type": "code",
   "execution_count": 47,
   "metadata": {},
   "outputs": [
    {
     "data": {
      "text/plain": [
       "True"
      ]
     },
     "execution_count": 47,
     "metadata": {},
     "output_type": "execute_result"
    }
   ],
   "source": [
    "criterion._get_name() == \"BCEWithLogitsLoss\""
   ]
  },
  {
   "cell_type": "code",
   "execution_count": 6,
   "metadata": {},
   "outputs": [
    {
     "name": "stdout",
     "output_type": "stream",
     "text": [
      "['seed=10', 'model=MLP', 'epoch=1', 'lr=0.001', 'tau=1.0', 'alpha=0.0005', 'lmbd=1.0', 'lmbdold=0.0']\n"
     ]
    }
   ],
   "source": [
    "import os\n",
    "\n",
    "for d in os.listdir('./outputs/dataset=MNIST/FSW/EER'):\n",
    "    print(d.split(\"_\"))\n",
    "    break"
   ]
  },
  {
   "cell_type": "code",
   "execution_count": 12,
   "metadata": {},
   "outputs": [],
   "source": [
    "import numpy as np\n",
    "\n",
    "def is_number(value):\n",
    "    flag=True\n",
    "    try:\n",
    "        num=float(value)\n",
    "        flag = num == num\n",
    "    except ValueError:\n",
    "        flag=False\n",
    "    return flag"
   ]
  },
  {
   "cell_type": "code",
   "execution_count": 17,
   "metadata": {},
   "outputs": [],
   "source": [
    "runs = list()\n",
    "for d in os.listdir('./outputs/dataset=MNIST/FSW/EER'):\n",
    "    info_dict = dict()\n",
    "    info_dict['path'] = d\n",
    "    for elem in d.split(\"_\"):\n",
    "        k, v = elem.split(\"=\")\n",
    "        info_dict[k] = int(v) if v.isdigit() else float(v) if is_number(v) else v\n",
    "        info_dict['path'] = d\n",
    "    runs.append(info_dict)\n"
   ]
  },
  {
   "cell_type": "code",
   "execution_count": 16,
   "metadata": {},
   "outputs": [
    {
     "data": {
      "text/plain": [
       "False"
      ]
     },
     "execution_count": 16,
     "metadata": {},
     "output_type": "execute_result"
    }
   ],
   "source": [
    "self.class_idx"
   ]
  },
  {
   "cell_type": "code",
   "execution_count": 15,
   "metadata": {},
   "outputs": [],
   "source": [
    "import torch\n",
    "import numpy as np\n",
    "\n",
    "class_idx = [8, 2, 4, 1, 5, 6, 7, 0, 3, 9]\n"
   ]
  },
  {
   "cell_type": "code",
   "execution_count": 18,
   "metadata": {},
   "outputs": [],
   "source": [
    "from cl_gym.benchmarks.base import SplitDataset\n",
    "\n",
    "class SplitDataset1(SplitDataset):\n",
    "    def __init__(self, task_id, num_classes_per_split, dataset, class_idx = None):\n",
    "        self.task_id = task_id\n",
    "        self.num_classes_per_split = num_classes_per_split\n",
    "        self.dataset = dataset\n",
    "        if isinstance(dataset.targets, np.ndarray):\n",
    "            original_target = dataset.targets\n",
    "        elif isinstance(dataset.targets, list):\n",
    "            original_target = np.asarray(dataset.targets)\n",
    "        # for MNIST-like datasets where targets are tensors\n",
    "        else:\n",
    "            original_target = dataset.targets.clone().detach().numpy()\n",
    "        self.original_target = original_target\n",
    "        self.class_idx = np.unique(original_target) if class_idx is None else class_idx\n",
    "        self.build_split(task_id)\n",
    "        self.sample_weight = torch.ones(self.__len__()) #ADDED - for dtype agreement\n",
    "    \n",
    "    def update_weight(self, sample_weight):\n",
    "        self.sample_weight = sample_weight\n",
    "\n",
    "    def build_split(self, task_id):\n",
    "        target_classes = list()\n",
    "        if isinstance(task_id, int):\n",
    "            task_id = [task_id]\n",
    "        for task in task_id:\n",
    "            start_class = (task-1) * self.num_classes_per_split\n",
    "            end_class = min(task * self.num_classes_per_split, len(self.class_idx))\n",
    "            target_classes += self.class_idx[start_class:end_class]\n",
    "        indices = np.zeros_like(self.original_target)\n",
    "        for c in target_classes:\n",
    "            indices = np.logical_or(indices, self.original_target == c)\n",
    "        self.true_index = np.where(indices)[0] \n",
    "        self.targets = self.original_target[self.true_index]\n",
    "\n",
    "    def __getitem__(self, index: int):\n",
    "        idx = self.true_index[index]\n",
    "        img, target, *_ = self.dataset[idx]\n",
    "        if isinstance(self.task_id, int):\n",
    "            task_id = self.task_id\n",
    "        else:\n",
    "            task_id = self.class_idx.index(target) // self.num_classes_per_split + 1\n",
    "        sample_weight = self.sample_weight[index]\n",
    "        return img, target, task_id, index, sample_weight\n",
    "    \n",
    "    def __len__(self):\n",
    "        return len(self.true_index)\n",
    "\n"
   ]
  },
  {
   "cell_type": "code",
   "execution_count": 26,
   "metadata": {},
   "outputs": [],
   "source": [
    "from cl_gym.benchmarks.utils import DEFAULT_DATASET_DIR\n",
    "import torchvision\n",
    "\n",
    "trains = dict()\n",
    "mnist_train = torchvision.datasets.MNIST(DEFAULT_DATASET_DIR, train=True, download=True)\n",
    "trains[2] = SplitDataset1([1, 2], 2, mnist_train, class_idx=class_idx)"
   ]
  },
  {
   "cell_type": "code",
   "execution_count": 37,
   "metadata": {},
   "outputs": [
    {
     "data": {
      "text/plain": [
       "(<PIL.Image.Image image mode=L size=28x28>, 8, 1, 8, tensor(1.))"
      ]
     },
     "execution_count": 37,
     "metadata": {},
     "output_type": "execute_result"
    }
   ],
   "source": [
    "trains[2][8]"
   ]
  },
  {
   "cell_type": "code",
   "execution_count": 38,
   "metadata": {},
   "outputs": [],
   "source": [
    "a = list()\n",
    "b = np.array([1, 2])\n",
    "a.extend(b)"
   ]
  }
 ],
 "metadata": {
  "kernelspec": {
   "display_name": "cil",
   "language": "python",
   "name": "python3"
  },
  "language_info": {
   "codemirror_mode": {
    "name": "ipython",
    "version": 3
   },
   "file_extension": ".py",
   "mimetype": "text/x-python",
   "name": "python",
   "nbconvert_exporter": "python",
   "pygments_lexer": "ipython3",
   "version": "3.9.18"
  }
 },
 "nbformat": 4,
 "nbformat_minor": 2
}
