{
 "cells": [
  {
   "cell_type": "code",
   "execution_count": 40,
   "metadata": {},
   "outputs": [
    {
     "data": {
      "text/plain": [
       "tensor(0.9365)"
      ]
     },
     "execution_count": 40,
     "metadata": {},
     "output_type": "execute_result"
    }
   ],
   "source": [
    "import torch\n",
    "import torch.nn.functional as F\n",
    "\n",
    "criterion = torch.nn.BCEWithLogitsLoss()\n",
    "pred = torch.rand([256, 10])\n",
    "num_classes = 10\n",
    "target = torch.randint(0, 9, (256,))\n",
    "target = F.one_hot(target, num_classes).float()\n",
    "criterion(pred, target)"
   ]
  },
  {
   "cell_type": "code",
   "execution_count": 1,
   "metadata": {},
   "outputs": [
    {
     "data": {
      "text/plain": [
       "'bcewithlogitsloss'"
      ]
     },
     "execution_count": 1,
     "metadata": {},
     "output_type": "execute_result"
    }
   ],
   "source": [
    "\"BCEWithLogitsLoss\".lower()"
   ]
  },
  {
   "cell_type": "code",
   "execution_count": 6,
   "metadata": {},
   "outputs": [
    {
     "name": "stdout",
     "output_type": "stream",
     "text": [
      "['seed=10', 'model=MLP', 'epoch=1', 'lr=0.001', 'tau=1.0', 'alpha=0.0005', 'lmbd=1.0', 'lmbdold=0.0']\n"
     ]
    }
   ],
   "source": [
    "import os\n",
    "\n",
    "for d in os.listdir('./outputs/dataset=MNIST/FSW/EER'):\n",
    "    print(d.split(\"_\"))\n",
    "    break"
   ]
  },
  {
   "cell_type": "code",
   "execution_count": 12,
   "metadata": {},
   "outputs": [],
   "source": [
    "import numpy as np\n",
    "\n",
    "def is_number(value):\n",
    "    flag=True\n",
    "    try:\n",
    "        num=float(value)\n",
    "        flag = num == num\n",
    "    except ValueError:\n",
    "        flag=False\n",
    "    return flag"
   ]
  },
  {
   "cell_type": "code",
   "execution_count": 17,
   "metadata": {},
   "outputs": [],
   "source": [
    "runs = list()\n",
    "for d in os.listdir('./outputs/dataset=MNIST/FSW/EER'):\n",
    "    info_dict = dict()\n",
    "    info_dict['path'] = d\n",
    "    for elem in d.split(\"_\"):\n",
    "        k, v = elem.split(\"=\")\n",
    "        info_dict[k] = int(v) if v.isdigit() else float(v) if is_number(v) else v\n",
    "        info_dict['path'] = d\n",
    "    runs.append(info_dict)\n"
   ]
  },
  {
   "cell_type": "code",
   "execution_count": 15,
   "metadata": {},
   "outputs": [],
   "source": [
    "import torch\n",
    "import numpy as np\n",
    "\n",
    "class_idx = [8, 2, 4, 1, 5, 6, 7, 0, 3, 9]\n"
   ]
  },
  {
   "cell_type": "code",
   "execution_count": 18,
   "metadata": {},
   "outputs": [],
   "source": [
    "from cl_gym.benchmarks.base import SplitDataset\n",
    "\n",
    "class SplitDataset1(SplitDataset):\n",
    "    def __init__(self, task_id, num_classes_per_split, dataset, class_idx = None):\n",
    "        self.task_id = task_id\n",
    "        self.num_classes_per_split = num_classes_per_split\n",
    "        self.dataset = dataset\n",
    "        if isinstance(dataset.targets, np.ndarray):\n",
    "            original_target = dataset.targets\n",
    "        elif isinstance(dataset.targets, list):\n",
    "            original_target = np.asarray(dataset.targets)\n",
    "        # for MNIST-like datasets where targets are tensors\n",
    "        else:\n",
    "            original_target = dataset.targets.clone().detach().numpy()\n",
    "        self.original_target = original_target\n",
    "        self.class_idx = np.unique(original_target) if class_idx is None else class_idx\n",
    "        self.build_split(task_id)\n",
    "        self.sample_weight = torch.ones(self.__len__()) #ADDED - for dtype agreement\n",
    "    \n",
    "    def update_weight(self, sample_weight):\n",
    "        self.sample_weight = sample_weight\n",
    "\n",
    "    def build_split(self, task_id):\n",
    "        target_classes = list()\n",
    "        if isinstance(task_id, int):\n",
    "            task_id = [task_id]\n",
    "        for task in task_id:\n",
    "            start_class = (task-1) * self.num_classes_per_split\n",
    "            end_class = min(task * self.num_classes_per_split, len(self.class_idx))\n",
    "            target_classes += self.class_idx[start_class:end_class]\n",
    "        indices = np.zeros_like(self.original_target)\n",
    "        for c in target_classes:\n",
    "            indices = np.logical_or(indices, self.original_target == c)\n",
    "        self.true_index = np.where(indices)[0] \n",
    "        self.targets = self.original_target[self.true_index]\n",
    "\n",
    "    def __getitem__(self, index: int):\n",
    "        idx = self.true_index[index]\n",
    "        img, target, *_ = self.dataset[idx]\n",
    "        if isinstance(self.task_id, int):\n",
    "            task_id = self.task_id\n",
    "        else:\n",
    "            task_id = self.class_idx.index(target) // self.num_classes_per_split + 1\n",
    "        sample_weight = self.sample_weight[index]\n",
    "        return img, target, task_id, index, sample_weight\n",
    "    \n",
    "    def __len__(self):\n",
    "        return len(self.true_index)\n",
    "\n"
   ]
  },
  {
   "cell_type": "code",
   "execution_count": 26,
   "metadata": {},
   "outputs": [],
   "source": [
    "from cl_gym.benchmarks.utils import DEFAULT_DATASET_DIR\n",
    "import torchvision\n",
    "\n",
    "trains = dict()\n",
    "mnist_train = torchvision.datasets.MNIST(DEFAULT_DATASET_DIR, train=True, download=True)\n",
    "trains[2] = SplitDataset1([1, 2], 2, mnist_train, class_idx=class_idx)"
   ]
  },
  {
   "cell_type": "code",
   "execution_count": 37,
   "metadata": {},
   "outputs": [
    {
     "data": {
      "text/plain": [
       "(<PIL.Image.Image image mode=L size=28x28>, 8, 1, 8, tensor(1.))"
      ]
     },
     "execution_count": 37,
     "metadata": {},
     "output_type": "execute_result"
    }
   ],
   "source": [
    "trains[2][8]"
   ]
  },
  {
   "cell_type": "code",
   "execution_count": 7,
   "metadata": {},
   "outputs": [],
   "source": [
    "import numpy as np\n",
    "from numpy import array\n",
    "class_acc={3: array([ 542, 1000]), 8: array([ 783, 1000]), 0: array([ 687, 1000]), 6: array([ 802, 1000]), 1: array([ 865, 1000]), 9: array([ 825, 1000]), 5: array([ 560, 1000]), 7: array([ 766, 1000]), 4: array([ 400, 1000]), 2: array([ 397, 1000])}\n",
    "\n",
    "class_acc1={0: array([ 281, 1000]), 1: array([ 449, 1000])}\n",
    "class_acc1.update({3: array([ 297, 1000]), 2: array([ 235, 1000])})\n",
    "class_acc1.update({5: array([ 223, 1000]), 4: array([ 175, 1000])})\n",
    "class_acc1.update({6: array([ 470, 1000]), 7: array([ 419, 1000])})\n",
    "class_acc1.update({8: array([ 364, 1000]), 9: array([ 466, 1000])})\n"
   ]
  },
  {
   "cell_type": "code",
   "execution_count": 8,
   "metadata": {},
   "outputs": [
    {
     "data": {
      "text/plain": [
       "{0: array([ 281, 1000]),\n",
       " 1: array([ 449, 1000]),\n",
       " 3: array([ 297, 1000]),\n",
       " 2: array([ 235, 1000]),\n",
       " 5: array([ 223, 1000]),\n",
       " 4: array([ 175, 1000]),\n",
       " 6: array([ 470, 1000]),\n",
       " 7: array([ 419, 1000]),\n",
       " 8: array([ 364, 1000]),\n",
       " 9: array([ 466, 1000])}"
      ]
     },
     "execution_count": 8,
     "metadata": {},
     "output_type": "execute_result"
    }
   ],
   "source": [
    "class_acc1"
   ]
  },
  {
   "cell_type": "code",
   "execution_count": 9,
   "metadata": {},
   "outputs": [
    {
     "data": {
      "text/plain": [
       "{3: array([ 542, 1000]),\n",
       " 8: array([ 783, 1000]),\n",
       " 0: array([ 687, 1000]),\n",
       " 6: array([ 802, 1000]),\n",
       " 1: array([ 865, 1000]),\n",
       " 9: array([ 825, 1000]),\n",
       " 5: array([ 560, 1000]),\n",
       " 7: array([ 766, 1000]),\n",
       " 4: array([ 400, 1000]),\n",
       " 2: array([ 397, 1000])}"
      ]
     },
     "execution_count": 9,
     "metadata": {},
     "output_type": "execute_result"
    }
   ],
   "source": [
    "class_acc"
   ]
  },
  {
   "cell_type": "code",
   "execution_count": null,
   "metadata": {},
   "outputs": [],
   "source": [
    "get_avg = lambda cor_count: np.mean([cor/count for cor, count in cor_count.values()])\n",
    "avg_ = lambda cor_count: cor_count[0]/cor_count[1]\n"
   ]
  },
  {
   "cell_type": "code",
   "execution_count": 1,
   "metadata": {},
   "outputs": [
    {
     "data": {
      "text/plain": [
       "[2, 8]"
      ]
     },
     "execution_count": 1,
     "metadata": {},
     "output_type": "execute_result"
    }
   ],
   "source": [
    "class_acc = {8:30, 2:20}\n",
    "sorted(class_acc.keys())"
   ]
  },
  {
   "cell_type": "code",
   "execution_count": 2,
   "metadata": {},
   "outputs": [
    {
     "data": {
      "text/plain": [
       "tensor([True, True, True])"
      ]
     },
     "execution_count": 2,
     "metadata": {},
     "output_type": "execute_result"
    }
   ],
   "source": [
    "import torch\n",
    "a = torch.Tensor([1,2,3])\n",
    "b = torch.Tensor([1,2,3.0])\n",
    "b.eq(a)"
   ]
  },
  {
   "cell_type": "code",
   "execution_count": 9,
   "metadata": {},
   "outputs": [],
   "source": [
    "import numpy as np\n",
    "a = np.random.rand(10)"
   ]
  },
  {
   "cell_type": "code",
   "execution_count": 35,
   "metadata": {},
   "outputs": [
    {
     "name": "stdout",
     "output_type": "stream",
     "text": [
      "7\n"
     ]
    }
   ],
   "source": [
    "batch_size = 3\n",
    "thres = 0.2\n",
    "seq_len = len(a[a > thres])\n",
    "print(seq_len)"
   ]
  },
  {
   "cell_type": "code",
   "execution_count": 36,
   "metadata": {},
   "outputs": [],
   "source": [
    "new_thres = -np.sort(-a)[:np.ceil(seq_len/batch_size).astype(int)*batch_size][-1]"
   ]
  },
  {
   "cell_type": "code",
   "execution_count": 38,
   "metadata": {},
   "outputs": [
    {
     "name": "stdout",
     "output_type": "stream",
     "text": [
      "9\n"
     ]
    }
   ],
   "source": [
    "seq_len = len(a[a >= new_thres])\n",
    "print(seq_len)"
   ]
  },
  {
   "cell_type": "code",
   "execution_count": null,
   "metadata": {},
   "outputs": [],
   "source": []
  },
  {
   "cell_type": "code",
   "execution_count": 43,
   "metadata": {},
   "outputs": [
    {
     "data": {
      "text/plain": [
       "{2: 787, 1: 1379, 3: 759, 0: 1232}"
      ]
     },
     "execution_count": 43,
     "metadata": {},
     "output_type": "execute_result"
    }
   ],
   "source": [
    "def merge_dict(src, targ):\n",
    "    for key in src:\n",
    "        targ[key] = targ.get(key, 0) + src[key]\n",
    "    # return b\n",
    "\n",
    "a = {1: 1134, 0: 957, 3: 14, 2: 10}\n",
    "b = {2: 777, 1: 245, 3: 745, 0: 275}\n",
    "\n",
    "\n",
    "merge_dict(a, b)\n",
    "b"
   ]
  },
  {
   "cell_type": "code",
   "execution_count": 41,
   "metadata": {},
   "outputs": [
    {
     "data": {
      "text/plain": [
       "{1: 1134, 0: 957, 3: 14, 2: 10}"
      ]
     },
     "execution_count": 41,
     "metadata": {},
     "output_type": "execute_result"
    }
   ],
   "source": [
    "a"
   ]
  },
  {
   "cell_type": "code",
   "execution_count": null,
   "metadata": {},
   "outputs": [],
   "source": []
  },
  {
   "cell_type": "code",
   "execution_count": 53,
   "metadata": {},
   "outputs": [],
   "source": [
    "import numpy as np\n",
    "\n",
    "weight = np.random.random(20)\n",
    "drop_threshold = 0.3\n"
   ]
  },
  {
   "cell_type": "code",
   "execution_count": 57,
   "metadata": {},
   "outputs": [],
   "source": [
    "selected_idx = np.array(weight)>=drop_threshold\n",
    "num_to_add = 2"
   ]
  },
  {
   "cell_type": "code",
   "execution_count": 65,
   "metadata": {},
   "outputs": [
    {
     "data": {
      "text/plain": [
       "7"
      ]
     },
     "execution_count": 65,
     "metadata": {},
     "output_type": "execute_result"
    }
   ],
   "source": [
    "np.sum(np.logical_not(selected_idx))"
   ]
  },
  {
   "cell_type": "code",
   "execution_count": 60,
   "metadata": {},
   "outputs": [
    {
     "data": {
      "text/plain": [
       "array([ True, False, False, False, False, False, False, False, False,\n",
       "       False, False, False, False, False, False, False,  True, False,\n",
       "       False, False])"
      ]
     },
     "execution_count": 60,
     "metadata": {},
     "output_type": "execute_result"
    }
   ],
   "source": [
    "np.isin(np.arange(len(weight)), np.random.choice(np.where(np.logical_not(selected_idx))[0], num_to_add, replace=False))"
   ]
  },
  {
   "cell_type": "code",
   "execution_count": null,
   "metadata": {},
   "outputs": [],
   "source": [
    "updated_seq_indices = 9968\n",
    "\n",
    "if len(updated_seq_indices) % 32 > 0:\n",
    "    selected_idx = np.array(weight)>drop_threshold\n",
    "    num_to_add = self.params['batch_size_train'] - len(updated_seq_indices) % 32\n",
    "    add_idx = np.random.choice(np.where(np.logical_not(selected_idx))[0], num_to_add, replace=False)\n",
    "    selected_idx = np.logical_or(selected_idx, np.isin(np.arange(len(weight)), add_idx))\n",
    "\n",
    "    print(f\"Before modified: {len(updated_seq_indices)=}\")\n",
    "    new_drop_threshold = -np.sort(-np.array(weight))\\\n",
    "        [:np.ceil(len(updated_seq_indices)/32).astype(int)\\\n",
    "            *32][-1]\n",
    "    print(f\"{new_drop_threshold=}\")\n"
   ]
  },
  {
   "cell_type": "code",
   "execution_count": 1,
   "metadata": {},
   "outputs": [
    {
     "data": {
      "text/plain": [
       "'cifar10'"
      ]
     },
     "execution_count": 1,
     "metadata": {},
     "output_type": "execute_result"
    }
   ],
   "source": [
    "\"CIFAR10\".lower()"
   ]
  },
  {
   "cell_type": "code",
   "execution_count": 1,
   "metadata": {},
   "outputs": [],
   "source": [
    "import numpy as np\n",
    "\n",
    "a = np.array([1.0, 2.0, 4.0])\n",
    "b = []\n",
    "b.extend(a)"
   ]
  },
  {
   "cell_type": "code",
   "execution_count": 4,
   "metadata": {},
   "outputs": [
    {
     "data": {
      "text/plain": [
       "True"
      ]
     },
     "execution_count": 4,
     "metadata": {},
     "output_type": "execute_result"
    }
   ],
   "source": [
    "isinstance(a, np.ndarray)"
   ]
  },
  {
   "cell_type": "code",
   "execution_count": 13,
   "metadata": {},
   "outputs": [],
   "source": [
    "import torch\n",
    "import torch.nn.functional as F\n",
    "\n",
    "num_class = 5\n",
    "dims = 7\n",
    "num_datapoints = 11\n",
    "\n",
    "grads_all = torch.arange(num_class*dims).reshape(num_class, dims)*1.0\n",
    "new_grads = torch.arange(num_datapoints*dims).reshape(num_datapoints, dims)*1.0"
   ]
  },
  {
   "cell_type": "code",
   "execution_count": 19,
   "metadata": {},
   "outputs": [
    {
     "data": {
      "text/plain": [
       "tensor([1.0000, 1.0000, 1.0000, 1.0000, 1.0000])"
      ]
     },
     "execution_count": 19,
     "metadata": {},
     "output_type": "execute_result"
    }
   ],
   "source": [
    "torch.norm(F.normalize(grads_all, p=2, dim=1), dim=1)"
   ]
  },
  {
   "cell_type": "code",
   "execution_count": 20,
   "metadata": {},
   "outputs": [
    {
     "data": {
      "text/plain": [
       "tensor([ 9.5394, 26.9815, 45.2880, 63.7181, 82.1888])"
      ]
     },
     "execution_count": 20,
     "metadata": {},
     "output_type": "execute_result"
    }
   ],
   "source": [
    "torch.norm(grads_all, dim=1)"
   ]
  },
  {
   "cell_type": "code",
   "execution_count": 21,
   "metadata": {},
   "outputs": [
    {
     "data": {
      "text/plain": [
       "tensor([[ 0.,  1.,  2.,  3.,  4.,  5.,  6.],\n",
       "        [ 7.,  8.,  9., 10., 11., 12., 13.],\n",
       "        [14., 15., 16., 17., 18., 19., 20.],\n",
       "        [21., 22., 23., 24., 25., 26., 27.],\n",
       "        [28., 29., 30., 31., 32., 33., 34.]])"
      ]
     },
     "execution_count": 21,
     "metadata": {},
     "output_type": "execute_result"
    }
   ],
   "source": [
    "grads_all"
   ]
  },
  {
   "cell_type": "code",
   "execution_count": 22,
   "metadata": {},
   "outputs": [
    {
     "data": {
      "text/plain": [
       "tensor([[0.0000, 0.1048, 0.2097, 0.3145, 0.4193, 0.5241, 0.6290],\n",
       "        [0.2594, 0.2965, 0.3336, 0.3706, 0.4077, 0.4447, 0.4818],\n",
       "        [0.3091, 0.3312, 0.3533, 0.3754, 0.3975, 0.4195, 0.4416],\n",
       "        [0.3296, 0.3453, 0.3610, 0.3767, 0.3924, 0.4080, 0.4237],\n",
       "        [0.3407, 0.3528, 0.3650, 0.3772, 0.3893, 0.4015, 0.4137]])"
      ]
     },
     "execution_count": 22,
     "metadata": {},
     "output_type": "execute_result"
    }
   ],
   "source": [
    "F.normalize(grads_all, p=2, dim=1)"
   ]
  },
  {
   "cell_type": "code",
   "execution_count": 24,
   "metadata": {},
   "outputs": [
    {
     "data": {
      "text/plain": [
       "True"
      ]
     },
     "execution_count": 24,
     "metadata": {},
     "output_type": "execute_result"
    }
   ],
   "source": [
    "a = dict()\n",
    "a.get('a') is None"
   ]
  },
  {
   "cell_type": "code",
   "execution_count": 33,
   "metadata": {},
   "outputs": [
    {
     "data": {
      "text/plain": [
       "tensor([[4, 3, 1, 8],\n",
       "        [6, 5, 9, 3],\n",
       "        [4, 4, 8, 3],\n",
       "        [1, 2, 5, 9],\n",
       "        [7, 8, 7, 6],\n",
       "        [2, 7, 6, 4],\n",
       "        [5, 1, 4, 9],\n",
       "        [5, 2, 4, 1],\n",
       "        [5, 1, 9, 2],\n",
       "        [6, 9, 9, 1]])"
      ]
     },
     "execution_count": 33,
     "metadata": {},
     "output_type": "execute_result"
    }
   ],
   "source": [
    "torch.randint(low=1, high=10, size=(10, 4))"
   ]
  },
  {
   "cell_type": "code",
   "execution_count": 34,
   "metadata": {},
   "outputs": [
    {
     "data": {
      "text/plain": [
       "<matplotlib.legend.Legend at 0x7f3bcedabc10>"
      ]
     },
     "execution_count": 34,
     "metadata": {},
     "output_type": "execute_result"
    },
    {
     "data": {
      "image/png": "[encoded data removed]",
      "text/plain": [
       "<Figure size 640x480 with 1 Axes>"
      ]
     },
     "metadata": {},
     "output_type": "display_data"
    }
   ],
   "source": [
    "classwise_mean_grad = torch.randint(low=1, high=10, size=(10, 4))\n",
    "cidx = [0, 1, 2, 3]\n",
    "import matplotlib.pyplot as plt\n",
    "\n",
    "for i, e in enumerate(cidx):\n",
    "    plt.plot(classwise_mean_grad[i], label = e)\n",
    "plt.legend()\n"
   ]
  },
  {
   "cell_type": "code",
   "execution_count": 28,
   "metadata": {},
   "outputs": [
    {
     "data": {
      "text/plain": [
       "tensor([6, 7, 8])"
      ]
     },
     "execution_count": 28,
     "metadata": {},
     "output_type": "execute_result"
    }
   ],
   "source": [
    "classwise_mean_grad[i]"
   ]
  },
  {
   "cell_type": "code",
   "execution_count": 1,
   "metadata": {},
   "outputs": [],
   "source": [
    "a = [1, 2, 3]\n",
    "b = [4, 5, 6]\n",
    "a.extend(b)"
   ]
  },
  {
   "cell_type": "code",
   "execution_count": 2,
   "metadata": {},
   "outputs": [
    {
     "data": {
      "text/plain": [
       "[1, 2, 3, 4, 5, 6]"
      ]
     },
     "execution_count": 2,
     "metadata": {},
     "output_type": "execute_result"
    }
   ],
   "source": [
    "a"
   ]
  },
  {
   "cell_type": "code",
   "execution_count": 4,
   "metadata": {},
   "outputs": [
    {
     "data": {
      "text/plain": [
       "tensor([ 1,  2,  3,  4, 50, 60])"
      ]
     },
     "execution_count": 4,
     "metadata": {},
     "output_type": "execute_result"
    }
   ],
   "source": [
    "import torch\n",
    "weight = torch.tensor(a)\n",
    "\n",
    "c = weight[4:6]\n",
    "c *= 10\n",
    "\n",
    "weight"
   ]
  },
  {
   "cell_type": "code",
   "execution_count": 5,
   "metadata": {},
   "outputs": [
    {
     "data": {
      "text/plain": [
       "tensor([ 1,  2,  3,  4, 50, 60])"
      ]
     },
     "execution_count": 5,
     "metadata": {},
     "output_type": "execute_result"
    }
   ],
   "source": [
    "weight.data"
   ]
  },
  {
   "cell_type": "code",
   "execution_count": 1,
   "metadata": {},
   "outputs": [
    {
     "data": {
      "text/plain": [
       "array([1, 2, 3])"
      ]
     },
     "execution_count": 1,
     "metadata": {},
     "output_type": "execute_result"
    }
   ],
   "source": [
    "import numpy as np\n",
    "\n",
    "a = np.array([1, 2, 3, 1, 2, 3])\n",
    "np.unique(a)"
   ]
  },
  {
   "cell_type": "code",
   "execution_count": 7,
   "metadata": {},
   "outputs": [],
   "source": [
    "m_dict = {s:[0 for c in [1, 2, 3, 4, 5]] for s in np.unique([1, 2])}\n"
   ]
  },
  {
   "cell_type": "code",
   "execution_count": 9,
   "metadata": {},
   "outputs": [],
   "source": [
    "m_dict[1][a[1]]+=1"
   ]
  },
  {
   "cell_type": "code",
   "execution_count": 10,
   "metadata": {},
   "outputs": [
    {
     "data": {
      "text/plain": [
       "{1: [0, 0, 1, 0, 0], 2: [0, 0, 0, 0, 0]}"
      ]
     },
     "execution_count": 10,
     "metadata": {},
     "output_type": "execute_result"
    }
   ],
   "source": [
    "m_dict"
   ]
  },
  {
   "cell_type": "code",
   "execution_count": 13,
   "metadata": {},
   "outputs": [
    {
     "data": {
      "text/plain": [
       "6"
      ]
     },
     "execution_count": 13,
     "metadata": {},
     "output_type": "execute_result"
    }
   ],
   "source": [
    "np.sum([1, 2, 3])"
   ]
  },
  {
   "cell_type": "code",
   "execution_count": 3,
   "metadata": {},
   "outputs": [
    {
     "name": "stdout",
     "output_type": "stream",
     "text": [
      "\t\"0\" : \"0\", \\\n",
      "\t\"1\" : \"2\", \\\n",
      "\t\"2\" : \"4\", \\\n",
      "\t\"3\" : \"6\", \\\n",
      "\t\"4\" : \"8\", \\\n"
     ]
    }
   ],
   "source": [
    "params= {i:2*i for i in range(5)}\n",
    "for k in params:\n",
    "    print(f\"\\t\\\"{k}\\\" : \\\"{params[k]}\\\", \\\\\")"
   ]
  },
  {
   "cell_type": "code",
   "execution_count": 2,
   "metadata": {},
   "outputs": [
    {
     "data": {
      "text/plain": [
       "True"
      ]
     },
     "execution_count": 2,
     "metadata": {},
     "output_type": "execute_result"
    }
   ],
   "source": [
    "0 // 10 == 0"
   ]
  },
  {
   "cell_type": "code",
   "execution_count": null,
   "metadata": {},
   "outputs": [],
   "source": [
    "os.rename"
   ]
  },
  {
   "cell_type": "code",
   "execution_count": 12,
   "metadata": {},
   "outputs": [
    {
     "name": "stdout",
     "output_type": "stream",
     "text": [
      "seed=0_epoch=5_lr=0.01_tau=0.0\n",
      "seed=0_epoch=5_lr=0.001_tau=0.0\n",
      "seed=1_epoch=5_lr=0.01_tau=0.0\n",
      "seed=1_epoch=5_lr=0.001_tau=0.0\n",
      "seed=2_epoch=5_lr=0.01_tau=0.0\n",
      "seed=2_epoch=5_lr=0.001_tau=0.0\n",
      "seed=3_epoch=5_lr=0.01_tau=0.0\n",
      "seed=3_epoch=5_lr=0.001_tau=0.0\n",
      "seed=4_epoch=5_lr=0.01_tau=0.0\n",
      "seed=4_epoch=5_lr=0.001_tau=0.0\n"
     ]
    }
   ],
   "source": [
    "# import os\n",
    "# d = \"outputs/dataset=MNIST/WA/no_metrics\"\n",
    "# for fol in os.listdir(d):\n",
    "#     new_fol = fol[:-3]+'0.0'\n",
    "#     print(new_fol)\n",
    "#     os.rename(os.path.join(d, fol), os.path.join(d, new_fol))"
   ]
  },
  {
   "cell_type": "code",
   "execution_count": 3,
   "metadata": {},
   "outputs": [],
   "source": [
    "import numpy as np\n",
    "X = np.arange(12).reshape(3, 4)\n",
    "train_index = np.array([0, 2])"
   ]
  },
  {
   "cell_type": "code",
   "execution_count": 4,
   "metadata": {},
   "outputs": [
    {
     "data": {
      "text/plain": [
       "array([[ 0,  1,  2,  3],\n",
       "       [ 8,  9, 10, 11]])"
      ]
     },
     "execution_count": 4,
     "metadata": {},
     "output_type": "execute_result"
    }
   ],
   "source": [
    "X[train_index]"
   ]
  },
  {
   "cell_type": "code",
   "execution_count": 5,
   "metadata": {},
   "outputs": [
    {
     "data": {
      "text/plain": [
       "array([0, 2])"
      ]
     },
     "execution_count": 5,
     "metadata": {},
     "output_type": "execute_result"
    }
   ],
   "source": [
    "train_index"
   ]
  },
  {
   "cell_type": "code",
   "execution_count": 6,
   "metadata": {},
   "outputs": [
    {
     "data": {
      "text/plain": [
       "0.773466550797758"
      ]
     },
     "execution_count": 6,
     "metadata": {},
     "output_type": "execute_result"
    }
   ],
   "source": [
    "np.random.random()"
   ]
  },
  {
   "cell_type": "code",
   "execution_count": 9,
   "metadata": {},
   "outputs": [],
   "source": [
    "import torch\n",
    "import numpy as np\n",
    "import copy\n",
    "\n",
    "a = np.arange(10)\n",
    "# a = torch.arange(10)\n",
    "b = copy.deepcopy(a)"
   ]
  },
  {
   "cell_type": "code",
   "execution_count": 15,
   "metadata": {},
   "outputs": [
    {
     "data": {
      "text/plain": [
       "tensor([[ 1,  2,  3,  4,  5,  6,  7,  8,  9, 10],\n",
       "        [ 0,  1,  2,  3,  4,  5,  6,  7,  8,  9]])"
      ]
     },
     "execution_count": 15,
     "metadata": {},
     "output_type": "execute_result"
    }
   ],
   "source": [
    "torch.stack([torch.from_numpy(a), torch.tensor(b)])"
   ]
  },
  {
   "cell_type": "code",
   "execution_count": 10,
   "metadata": {},
   "outputs": [
    {
     "data": {
      "text/plain": [
       "True"
      ]
     },
     "execution_count": 10,
     "metadata": {},
     "output_type": "execute_result"
    }
   ],
   "source": [
    "isinstance(a, np.ndarray)"
   ]
  },
  {
   "cell_type": "code",
   "execution_count": 12,
   "metadata": {},
   "outputs": [
    {
     "data": {
      "text/plain": [
       "tensor([0, 1, 2, 3, 4, 5, 6, 7, 8, 9])"
      ]
     },
     "execution_count": 12,
     "metadata": {},
     "output_type": "execute_result"
    }
   ],
   "source": [
    "torch.tensor(a)"
   ]
  },
  {
   "cell_type": "code",
   "execution_count": 14,
   "metadata": {},
   "outputs": [],
   "source": [
    "a = np.arange(1, 11)"
   ]
  },
  {
   "cell_type": "code",
   "execution_count": null,
   "metadata": {},
   "outputs": [],
   "source": []
  }
 ],
 "metadata": {
  "kernelspec": {
   "display_name": "cil",
   "language": "python",
   "name": "python3"
  },
  "language_info": {
   "codemirror_mode": {
    "name": "ipython",
    "version": 3
   },
   "file_extension": ".py",
   "mimetype": "text/x-python",
   "name": "python",
   "nbconvert_exporter": "python",
   "pygments_lexer": "ipython3",
   "version": "3.9.18"
  }
 },
 "nbformat": 4,
 "nbformat_minor": 2
}
