{
 "cells": [
  {
   "cell_type": "code",
   "execution_count": 1,
   "id": "b0c3b92f",
   "metadata": {},
   "outputs": [
    {
     "name": "stdout",
     "output_type": "stream",
     "text": [
      "output_dir=./outputs/dataset=BiasedMNIST/seed=1_epoch=5_lr=0.001_tau=5_alpha=0.0\n"
     ]
    }
   ],
   "source": [
    "from torchvision.datasets import MNIST, FashionMNIST, CIFAR10\n",
    "import torchvision\n",
    "import numpy as np\n",
    "import random\n",
    "\n",
    "import torch\n",
    "import torch.nn.functional as F\n",
    "import cl_gym as cl\n",
    "\n",
    "import sys\n",
    "import os\n",
    "\n",
    "seed = 1\n",
    "\n",
    "np.random.seed(seed)\n",
    "torch.manual_seed(seed)\n",
    "np.random.seed(seed)\n",
    "random.seed(seed)\n",
    "torch.cuda.manual_seed_all(seed)\n",
    "torch.manual_seed(seed)\n",
    "torch.backends.cudnn.deterministic = True\n",
    "torch.backends.cudnn.benchmark = False\n",
    "torch.backends.cudnn.enabled = False\n",
    "\n",
    "def make_params() -> dict:\n",
    "    import os\n",
    "    from pathlib import Path\n",
    "    import uuid\n",
    "\n",
    "    params = {\n",
    "            # dataset\n",
    "            'dataset': \"BiasedMNIST\",\n",
    "            'fairness_agg': 'mean',\n",
    "\n",
    "            # benchmark\n",
    "            'seed': seed,\n",
    "            'num_tasks': 5,\n",
    "            'epochs_per_task': 5,\n",
    "            # 'per_task_examples': np.inf,\n",
    "            'per_task_examples': 10000,\n",
    "            'per_task_memory_examples': 128,\n",
    "            'batch_size_train': 64,\n",
    "            'batch_size_memory': 64,\n",
    "            'batch_size_validation': 256,\n",
    "            'tau': 5,\n",
    "\n",
    "            # algorithm\n",
    "            'optimizer': 'sgd',\n",
    "            'learning_rate': 0.001,\n",
    "            'momentum': 0.9,\n",
    "            'learning_rate_decay': 1.0,\n",
    "            'criterion': torch.nn.CrossEntropyLoss(),\n",
    "            'device': torch.device('cuda:5' if torch.cuda.is_available() else 'cpu'),\n",
    "             \n",
    "            # sample selection\n",
    "            'alpha': 0.00,\n",
    "            'lambda': 0.0,\n",
    "            'lambda_old': 1.0,\n",
    "              }\n",
    "    \n",
    "\n",
    "\n",
    "#     trial_id = str(uuid.uuid4())\n",
    "    trial_id = f\"dataset={params['dataset']}/seed={params['seed']}_epoch={params['epochs_per_task']}\"\n",
    "    trial_id += f\"_lr={params['learning_rate']}_tau={params['tau']}_alpha={params['alpha']}\"\n",
    "    if params['lambda'] != 0:\n",
    "        trial_id+=f\"_lambda_{params['lambda']}_lambdaold_{params['lambda_old']}\"\n",
    "    params['trial_id'] = trial_id\n",
    "    params['output_dir'] = os.path.join(\"./outputs/{}\".format(trial_id))\n",
    "    print(f\"output_dir={params['output_dir']}\")\n",
    "    Path(params['output_dir']).mkdir(parents=True, exist_ok=True)\n",
    "\n",
    "    return params\n",
    "\n",
    "params = make_params()"
   ]
  },
  {
   "cell_type": "code",
   "execution_count": 2,
   "id": "99826537",
   "metadata": {},
   "outputs": [
    {
     "data": {
      "text/plain": [
       "True"
      ]
     },
     "execution_count": 2,
     "metadata": {},
     "output_type": "execute_result"
    }
   ],
   "source": [
    "\"MNIST\" in params['dataset']"
   ]
  },
  {
   "cell_type": "code",
   "execution_count": 3,
   "id": "20c7b886",
   "metadata": {},
   "outputs": [
    {
     "name": "stdout",
     "output_type": "stream",
     "text": [
      "[0 1 2 3 4 5 6 7 8 9]\n"
     ]
    }
   ],
   "source": [
    "from datasets import BiasedMNIST\n",
    "\n",
    "if  params['dataset'] in [\"BiasedMNIST\"]:\n",
    "    benchmark = BiasedMNIST(num_tasks=params['num_tasks'],\n",
    "                                per_task_memory_examples=params['per_task_memory_examples'],\n",
    "                                per_task_examples = min(params['per_task_examples'], 15000))\n",
    "\n",
    "    n_feature = 3*28*28\n",
    "    \n",
    "\n",
    "noise = 0.0\n"
   ]
  },
  {
   "cell_type": "code",
   "execution_count": 4,
   "id": "87fd9653",
   "metadata": {},
   "outputs": [
    {
     "data": {
      "image/png": "[encoded data removed]",
      "text/plain": [
       "<PIL.Image.Image image mode=RGB size=28x28>"
      ]
     },
     "execution_count": 4,
     "metadata": {},
     "output_type": "execute_result"
    }
   ],
   "source": [
    "from torchvision.transforms.functional import to_pil_image\n",
    "from cl_gym.benchmarks.transforms import MNIST_MEAN, MNIST_STD\n",
    "COLOR_MAP = {\n",
    "    0: (1, 0, 0),\n",
    "    1: (0, 1, 0),\n",
    "    2: (1, 1, 0),\n",
    "    3: (0, 0, 1),\n",
    "    4: (1, 0.65, 0),\n",
    "    5: (0.5, 0, 0.5),\n",
    "    6: (0, 1, 1),\n",
    "    7: (1, 0.75, 0.8),\n",
    "    8: (0.8, 1, 0),\n",
    "    9: (.588, .294, 0.)\n",
    "}\n",
    "\n",
    "r = (1 - 0.1913)\n",
    "color_values = np.array(list(COLOR_MAP.values()))\n",
    "m_rgb = color_values.mean(axis=0)\n",
    "std_rgb = color_values.std(axis=0)\n",
    "\n",
    "bmnist_mean = [r*m + MNIST_MEAN[0] for m in m_rgb]\n",
    "bmnist_std = [(r*s**2+(1-r)*MNIST_STD[0]**2+r*(1-r)*(bmnist_mean[i] - m_rgb[i])**2)**0.5 for i, s in enumerate(std_rgb)]\n",
    "\n",
    "unnormalize = torchvision.transforms.Normalize([-m/s for m, s in zip(bmnist_mean, bmnist_std)], [1/s for s in bmnist_std])\n",
    "sample_idx = 95\n",
    "to_pil_image(unnormalize(benchmark.trains[2].inputs[sample_idx]), mode=\"RGB\")"
   ]
  },
  {
   "cell_type": "code",
   "execution_count": 5,
   "id": "e8806699",
   "metadata": {},
   "outputs": [
    {
     "data": {
      "image/png": "[encoded data removed]",
      "text/plain": [
       "<PIL.Image.Image image mode=RGB size=280x28>"
      ]
     },
     "execution_count": 5,
     "metadata": {},
     "output_type": "execute_result"
    }
   ],
   "source": [
    "target_label = 0\n",
    "incremental_step = 1\n",
    "# cat_img = torch.cat([img for img in benchmark.trains[incremental_step].inputs[benchmark.trains[incremental_step].targets == target_label][20:30]], dim=2)\n",
    "cat_img = torch.cat([img for img in benchmark.tests[incremental_step].inputs[benchmark.tests[incremental_step].targets == target_label][20:30]], dim=2)\n",
    "to_pil_image(unnormalize(cat_img), mode=\"RGB\")"
   ]
  },
  {
   "cell_type": "code",
   "execution_count": 6,
   "id": "8e73e1c4",
   "metadata": {},
   "outputs": [],
   "source": [
    "from trainers import FairContinualTrainer\n",
    "from trainers.fair_trainer import FairContinualTrainer2\n",
    "from metrics import FairMetricCollector\n",
    "from algorithms.sensitive import Heuristic3\n",
    "\n",
    "backbone = cl.backbones.MLP2Layers(input_dim=n_feature, hidden_dim_1=256, hidden_dim_2=256, output_dim=10)\n",
    "algorithm = Heuristic3(backbone, benchmark, params, requires_memory=True)\n",
    "metric_manager_callback = FairMetricCollector(num_tasks=params['num_tasks'],\n",
    "                                                        eval_interval='epoch',\n",
    "                                                        epochs_per_task=params['epochs_per_task'])\n",
    "\n",
    "trainer = FairContinualTrainer(algorithm, params, callbacks=[metric_manager_callback])\n"
   ]
  },
  {
   "cell_type": "code",
   "execution_count": 7,
   "id": "8b8e3d98",
   "metadata": {},
   "outputs": [
    {
     "data": {
      "text/plain": [
       "<function mean at 0x7fdae0e68130>"
      ]
     },
     "execution_count": 7,
     "metadata": {},
     "output_type": "execute_result"
    }
   ],
   "source": [
    "if params['fairness_agg'] == \"mean\":\n",
    "    agg = np.mean\n",
    "elif params['fairness_agg'] == \"max\":\n",
    "    agg = np.max\n",
    "else:\n",
    "    raise NotImplementedError\n",
    "\n",
    "metric_manager_callback.meters['multiclass_eo'].agg = agg\n",
    "metric_manager_callback.meters['multiclass_eo'].agg\n"
   ]
  },
  {
   "cell_type": "code",
   "execution_count": 8,
   "id": "d9c494b9",
   "metadata": {},
   "outputs": [
    {
     "name": "stdout",
     "output_type": "stream",
     "text": [
      "---------------------------- Task 1 -----------------------\n",
      "[1] Eval metrics for task 1 >> {'accuracy': 86.33349815697204, 'loss': 0.0015818076776274552, 'multiclass_eo': [0.142570281124498, 0.3917525773195877], 'accuracy_s0': 100.0, 'accuracy_s1': 73.28385707779572, 'classwise_accuracy': {0: array([909, 980]), 1: array([ 907, 1135])}}\n",
      "[2] Eval metrics for task 1 >> {'accuracy': 95.86577362222421, 'loss': 0.0006762866221421154, 'multiclass_eo': [0.1254295532646048, 0.03614457831325302], 'accuracy_s0': 100.0, 'accuracy_s1': 91.92129342110711, 'classwise_accuracy': {1: array([1062, 1135]), 0: array([962, 980])}}\n",
      "[3] Eval metrics for task 1 >> {'accuracy': 96.52207138361952, 'loss': 0.0003872810702233732, 'multiclass_eo': [0.012048192771084376, 0.12371134020618557], 'accuracy_s0': 100.0, 'accuracy_s1': 93.2120233511365, 'classwise_accuracy': {0: array([974, 980]), 1: array([1063, 1135])}}\n",
      "[4] Eval metrics for task 1 >> {'accuracy': 99.66375977703856, 'loss': 0.0002715977512071037, 'multiclass_eo': [0.005154639175257714, 0.008032128514056214], 'accuracy_s0': 100.0, 'accuracy_s1': 99.3406616155343, 'classwise_accuracy': {1: array([1132, 1135]), 0: array([976, 980])}}\n",
      "[5] Eval metrics for task 1 >> {'accuracy': 99.66375977703856, 'loss': 0.00021307351635702957, 'multiclass_eo': [0.008032128514056214, 0.005154639175257714], 'accuracy_s0': 100.0, 'accuracy_s1': 99.3406616155343, 'classwise_accuracy': {0: array([976, 980]), 1: array([1132, 1135])}}\n",
      "training_task_end\n",
      "---------------------------- Task 2 -----------------------\n",
      "[6] Eval metrics for task 1 >> {'accuracy': 97.0920614942012, 'loss': 0.0003903188515921293, 'multiclass_eo': [0.030747624640355964, 0.07630522088353409], 'accuracy_s0': 99.81916817359856, 'accuracy_s1': 94.46652589740405, 'classwise_accuracy': {1: array([1113, 1135]), 0: array([942, 980])}}\n",
      "[6] Eval metrics for task 2 >> {'accuracy': 65.22190881878885, 'loss': 0.0036580700365266418, 'multiclass_eo': [0.6838095238095239, 0.6531385281385282], 'accuracy_s0': 99.70238095238095, 'accuracy_s1': 32.85497835497836, 'classwise_accuracy': {3: array([ 651, 1010]), 2: array([ 681, 1032])}}\n",
      "[7] Eval metrics for task 1 >> {'accuracy': 96.45666636698732, 'loss': 0.00048311270121705166, 'multiclass_eo': [0.037620476874032915, 0.09029478911496613], 'accuracy_s0': 99.71543373376453, 'accuracy_s1': 93.31967043431457, 'classwise_accuracy': {1: array([1109, 1135]), 0: array([933, 980])}}\n",
      "[7] Eval metrics for task 2 >> {'accuracy': 76.21603730140455, 'loss': 0.0021753443822804673, 'multiclass_eo': [0.4285714285714286, 0.48656204906204903], 'accuracy_s0': 99.8015873015873, 'accuracy_s1': 54.04491341991342, 'classwise_accuracy': {3: array([ 785, 1010]), 2: array([ 771, 1032])}}\n",
      "[8] Eval metrics for task 1 >> {'accuracy': 95.65899487548324, 'loss': 0.0006618917728146762, 'multiclass_eo': [0.04069648216849053, 0.10435101401456448], 'accuracy_s0': 99.35377008096164, 'accuracy_s1': 92.10139527180888, 'classwise_accuracy': {1: array([1099, 1135]), 0: array([926, 980])}}\n",
      "[8] Eval metrics for task 2 >> {'accuracy': 84.18614245145444, 'loss': 0.0014562839158718545, 'multiclass_eo': [0.30853174603174605, 0.29714285714285715], 'accuracy_s0': 99.8015873015873, 'accuracy_s1': 69.51785714285714, 'classwise_accuracy': {2: array([ 865, 1032]), 3: array([ 854, 1010])}}\n",
      "[9] Eval metrics for task 1 >> {'accuracy': 95.169693428032, 'loss': 0.0007473665472322603, 'multiclass_eo': [0.04232459002131461, 0.11840723891416294], 'accuracy_s0': 99.26335416776091, 'accuracy_s1': 91.22676272098704, 'classwise_accuracy': {1: array([1096, 1135]), 0: array([919, 980])}}\n",
      "[9] Eval metrics for task 2 >> {'accuracy': 87.37652544324199, 'loss': 0.001192560632887363, 'multiclass_eo': [0.26316738816738816, 0.22285714285714286], 'accuracy_s0': 99.90079365079364, 'accuracy_s1': 75.5995670995671, 'classwise_accuracy': {2: array([ 891, 1032]), 3: array([ 893, 1010])}}\n",
      "[10] Eval metrics for task 1 >> {'accuracy': 94.81255057088916, 'loss': 0.0008373214984334671, 'multiclass_eo': [0.038798058698880866, 0.1283807428885667], 'accuracy_s0': 99.06920381472617, 'accuracy_s1': 90.71026373535378, 'classwise_accuracy': {1: array([1096, 1135]), 0: array([912, 980])}}\n",
      "[10] Eval metrics for task 2 >> {'accuracy': 90.6121920331568, 'loss': 0.000998350982276046, 'multiclass_eo': [0.15428571428571425, 0.2063492063492064], 'accuracy_s0': 99.90079365079364, 'accuracy_s1': 81.86904761904762, 'classwise_accuracy': {3: array([ 929, 1010]), 2: array([ 921, 1032])}}\n",
      "training_task_end\n",
      "---------------------------- Task 3 -----------------------\n",
      "[11] Eval metrics for task 1 >> {'accuracy': 93.86653780454914, 'loss': 0.001041457560750046, 'multiclass_eo': [0.11807395557333067, 0.06972589375042726], 'accuracy_s0': 98.65426605539007, 'accuracy_s1': 89.26427358920218, 'classwise_accuracy': {0: array([909, 980]), 1: array([1078, 1135])}}\n",
      "[11] Eval metrics for task 2 >> {'accuracy': 91.3537109524906, 'loss': 0.00126263982343627, 'multiclass_eo': [0.14628427128427124, 0.11968581246931764], 'accuracy_s0': 98.20651284568811, 'accuracy_s1': 84.90800865800865, 'classwise_accuracy': {2: array([ 922, 1032]), 3: array([ 943, 1010])}}\n",
      "[11] Eval metrics for task 3 >> {'accuracy': 64.88485565287279, 'loss': 0.0039015139116167132, 'multiclass_eo': [0.4871287128712871, 0.8341396548943718], 'accuracy_s0': 99.29245283018868, 'accuracy_s1': 33.22903444190573, 'classwise_accuracy': {4: array([736, 982]), 5: array([489, 892])}}\n",
      "[12] Eval metrics for task 1 >> {'accuracy': 93.04796367886361, 'loss': 0.0012334632746716762, 'multiclass_eo': [0.08175338515936192, 0.13815427685847126], 'accuracy_s0': 98.65426605539007, 'accuracy_s1': 87.65888295449841, 'classwise_accuracy': {1: array([1071, 1135]), 0: array([899, 980])}}\n",
      "[12] Eval metrics for task 2 >> {'accuracy': 90.07713562053881, 'loss': 0.0015762300028973764, 'multiclass_eo': [0.1497113997113998, 0.11049582719685813], 'accuracy_s0': 96.77875961381116, 'accuracy_s1': 83.76839826839826, 'classwise_accuracy': {2: array([ 912, 1032]), 3: array([ 927, 1010])}}\n",
      "[12] Eval metrics for task 3 >> {'accuracy': 77.8385376234097, 'loss': 0.0023154572145407076, 'multiclass_eo': [0.5893001128850185, 0.2514851485148515], 'accuracy_s0': 99.76415094339622, 'accuracy_s1': 57.72488787340273, 'classwise_accuracy': {5: array([612, 892]), 4: array([855, 982])}}\n",
      "[13] Eval metrics for task 1 >> {'accuracy': 93.09898408702688, 'loss': 0.0012760513992737935, 'multiclass_eo': [0.07822685383692818, 0.13206352380476272], 'accuracy_s0': 98.46011570235531, 'accuracy_s1': 87.94559682027077, 'classwise_accuracy': {1: array([1071, 1135]), 0: array([900, 980])}}\n",
      "[13] Eval metrics for task 2 >> {'accuracy': 87.17639496507789, 'loss': 0.0020252624553984922, 'multiclass_eo': [0.1663059163059163, 0.14702012763868444], 'accuracy_s0': 95.25180003272786, 'accuracy_s1': 79.58549783549783, 'classwise_accuracy': {2: array([ 893, 1032]), 3: array([ 887, 1010])}}\n",
      "[13] Eval metrics for task 3 >> {'accuracy': 86.84036879069895, 'loss': 0.0014679294989991976, 'multiclass_eo': [0.13465346534653466, 0.3651628769553298], 'accuracy_s0': 99.88207547169812, 'accuracy_s1': 74.89125835660488, 'classwise_accuracy': {4: array([914, 982]), 5: array([719, 892])}}\n",
      "[14] Eval metrics for task 1 >> {'accuracy': 92.08329587341544, 'loss': 0.001430439343125544, 'multiclass_eo': [0.09197255830428208, 0.1459197786998616], 'accuracy_s0': 98.14891238285324, 'accuracy_s1': 86.25429553264605, 'classwise_accuracy': {1: array([1063, 1135]), 0: array([887, 980])}}\n",
      "[14] Eval metrics for task 2 >> {'accuracy': 87.47659068232406, 'loss': 0.0021705084519568433, 'multiclass_eo': [0.16954344624447715, 0.17586580086580084], 'accuracy_s0': 96.38193421698575, 'accuracy_s1': 79.11147186147186, 'classwise_accuracy': {3: array([ 896, 1010]), 2: array([ 890, 1032])}}\n",
      "[14] Eval metrics for task 3 >> {'accuracy': 88.3888696081028, 'loss': 0.0012554242061957987, 'multiclass_eo': [0.10495049504950493, 0.33524834704079987], 'accuracy_s0': 99.88207547169812, 'accuracy_s1': 77.87213336718287, 'classwise_accuracy': {4: array([929, 982]), 5: array([733, 892])}}\n",
      "[15] Eval metrics for task 1 >> {'accuracy': 91.57309179178279, 'loss': 0.001524466910260789, 'multiclass_eo': [0.08139296433698096, 0.16191737905980763], 'accuracy_s0': 97.77393020341705, 'accuracy_s1': 85.60841303357762, 'classwise_accuracy': {1: array([1063, 1135]), 0: array([877, 980])}}\n",
      "[15] Eval metrics for task 2 >> {'accuracy': 86.4412080742958, 'loss': 0.0023574502326832694, 'multiclass_eo': [0.17956349206349198, 0.1900245459008345], 'accuracy_s0': 95.97344951726394, 'accuracy_s1': 77.49404761904762, 'classwise_accuracy': {2: array([ 886, 1032]), 3: array([ 879, 1010])}}\n",
      "[15] Eval metrics for task 3 >> {'accuracy': 91.11541377074333, 'loss': 0.0010466672710700631, 'multiclass_eo': [0.2222222222222222, 0.11473524710961658], 'accuracy_s0': 99.895178197065, 'accuracy_s1': 83.04730473047304, 'classwise_accuracy': {5: array([788, 892]), 4: array([922, 982])}}\n",
      "training_task_end\n",
      "---------------------------- Task 4 -----------------------\n",
      "[16] Eval metrics for task 1 >> {'accuracy': 89.5581228085948, 'loss': 0.0017449672270046623, 'multiclass_eo': [0.15134396507190595, 0.11340827600778014], 'accuracy_s0': 96.31114329233978, 'accuracy_s1': 83.07353123835549, 'classwise_accuracy': {0: array([866, 980]), 1: array([1030, 1135])}}\n",
      "[16] Eval metrics for task 2 >> {'accuracy': 80.45552229641568, 'loss': 0.0031455178452285334, 'multiclass_eo': [0.30699855699855694, 0.1860775650466372], 'accuracy_s0': 93.1451480936017, 'accuracy_s1': 68.491341991342, 'classwise_accuracy': {2: array([ 788, 1032]), 3: array([ 854, 1010])}}\n",
      "[16] Eval metrics for task 3 >> {'accuracy': 86.14900039271917, 'loss': 0.0014977593018634596, 'multiclass_eo': [0.19250927269795193, 0.20570811798160948], 'accuracy_s0': 96.48846960167715, 'accuracy_s1': 76.57760006769908, 'classwise_accuracy': {5: array([743, 892]), 4: array([874, 982])}}\n",
      "[16] Eval metrics for task 4 >> {'accuracy': 70.76391314590221, 'loss': 0.0032981876040033224, 'multiclass_eo': [0.5706389229627611, 0.5801340220577971], 'accuracy_s0': 99.3010993583076, 'accuracy_s1': 41.76245210727969, 'classwise_accuracy': {7: array([ 722, 1028]), 6: array([683, 958])}}\n",
      "[17] Eval metrics for task 1 >> {'accuracy': 90.00539422817586, 'loss': 0.0016824530794265422, 'multiclass_eo': [0.18748854338515897, 0.07777632780895205], 'accuracy_s0': 96.7632228583434, 'accuracy_s1': 83.49997929863785, 'classwise_accuracy': {0: array([848, 980]), 1: array([1061, 1135])}}\n",
      "[17] Eval metrics for task 2 >> {'accuracy': 80.26383452298718, 'loss': 0.0034157403477492227, 'multiclass_eo': [0.283459595959596, 0.19020127638684337], 'accuracy_s0': 92.45847651775487, 'accuracy_s1': 68.7754329004329, 'classwise_accuracy': {2: array([ 782, 1032]), 3: array([ 856, 1010])}}\n",
      "[17] Eval metrics for task 3 >> {'accuracy': 83.84657010037171, 'loss': 0.0019060666717612756, 'multiclass_eo': [0.19906063538139007, 0.2309857400834423], 'accuracy_s0': 95.00786163522012, 'accuracy_s1': 73.5055428619785, 'classwise_accuracy': {5: array([721, 892]), 4: array([853, 982])}}\n",
      "[17] Eval metrics for task 4 >> {'accuracy': 86.24089177355548, 'loss': 0.0017137280013506027, 'multiclass_eo': [0.22395620371632374, 0.3211206896551724], 'accuracy_s0': 99.70355731225297, 'accuracy_s1': 72.44971264367817, 'classwise_accuracy': {7: array([ 905, 1028]), 6: array([809, 958])}}\n",
      "[18] Eval metrics for task 1 >> {'accuracy': 89.76422727681381, 'loss': 0.001892705758412679, 'multiclass_eo': [0.16901631421953367, 0.07415969128092315], 'accuracy_s0': 95.9599843929378, 'accuracy_s1': 83.80118411791496, 'classwise_accuracy': {0: array([845, 980]), 1: array([1059, 1135])}}\n",
      "[18] Eval metrics for task 2 >> {'accuracy': 81.92167472561209, 'loss': 0.003371816657549254, 'multiclass_eo': [0.24188311688311692, 0.18702012763868436], 'accuracy_s0': 92.97005400098183, 'accuracy_s1': 71.52489177489177, 'classwise_accuracy': {2: array([ 806, 1032]), 3: array([ 866, 1010])}}\n",
      "[18] Eval metrics for task 3 >> {'accuracy': 83.29584996301134, 'loss': 0.002193457781950463, 'multiclass_eo': [0.21055071762618938, 0.20908732382672224], 'accuracy_s0': 94.1954926624738, 'accuracy_s1': 73.21359058982821, 'classwise_accuracy': {5: array([703, 892]), 4: array([862, 982])}}\n",
      "[18] Eval metrics for task 4 >> {'accuracy': 90.81379007822717, 'loss': 0.0012086935994128085, 'multiclass_eo': [0.2025862068965517, 0.1491224084927233], 'accuracy_s0': 99.50592885375494, 'accuracy_s1': 81.92049808429118, 'classwise_accuracy': {6: array([864, 958]), 7: array([ 940, 1028])}}\n",
      "[19] Eval metrics for task 1 >> {'accuracy': 89.69477658904972, 'loss': 0.002133307896607311, 'multiclass_eo': [0.0771455913697856, 0.15502674598810173], 'accuracy_s0': 95.61163926676821, 'accuracy_s1': 84.00302239887385, 'classwise_accuracy': {1: array([1047, 1135]), 0: array([854, 980])}}\n",
      "[19] Eval metrics for task 2 >> {'accuracy': 80.55453219740578, 'loss': 0.0037497026329526236, 'multiclass_eo': [0.26821789321789324, 0.17036818851251845], 'accuracy_s0': 91.84380625102276, 'accuracy_s1': 69.91450216450217, 'classwise_accuracy': {2: array([ 788, 1032]), 3: array([ 856, 1010])}}\n",
      "[19] Eval metrics for task 3 >> {'accuracy': 83.50979058021974, 'loss': 0.0022377533681110233, 'multiclass_eo': [0.17481051443315587, 0.20105029370861616], 'accuracy_s0': 93.26519916142557, 'accuracy_s1': 74.47215875433697, 'classwise_accuracy': {5: array([705, 892]), 4: array([864, 982])}}\n",
      "[19] Eval metrics for task 4 >> {'accuracy': 93.34408990845064, 'loss': 0.0009983039094362135, 'multiclass_eo': [0.08602516923356507, 0.1724137931034483], 'accuracy_s0': 99.70355731225297, 'accuracy_s1': 86.7816091954023, 'classwise_accuracy': {7: array([ 977, 1028]), 6: array([878, 958])}}\n",
      "[20] Eval metrics for task 1 >> {'accuracy': 89.65521891576014, 'loss': 0.001957434401726328, 'multiclass_eo': [0.07244147822250391, 0.1627922478294922], 'accuracy_s0': 95.64878107343573, 'accuracy_s1': 83.88709477083593, 'classwise_accuracy': {1: array([1060, 1135]), 0: array([842, 980])}}\n",
      "[20] Eval metrics for task 2 >> {'accuracy': 80.59031775270552, 'loss': 0.0038800785695654173, 'multiclass_eo': [0.2170250368188512, 0.25135281385281383], 'accuracy_s0': 92.66077565046638, 'accuracy_s1': 69.24188311688312, 'classwise_accuracy': {3: array([ 844, 1010]), 2: array([ 801, 1032])}}\n",
      "[20] Eval metrics for task 3 >> {'accuracy': 82.78622834336443, 'loss': 0.00244133842347653, 'multiclass_eo': [0.20303049172841814, 0.19146105466860186], 'accuracy_s0': 93.0293501048218, 'accuracy_s1': 73.30477278497081, 'classwise_accuracy': {4: array([863, 982]), 5: array([693, 892])}}\n",
      "[20] Eval metrics for task 4 >> {'accuracy': 94.09610245079323, 'loss': 0.0009109312433970779, 'multiclass_eo': [0.0897354353126466, 0.1293103448275862], 'accuracy_s0': 99.50592885375494, 'accuracy_s1': 88.5536398467433, 'classwise_accuracy': {7: array([ 971, 1028]), 6: array([898, 958])}}\n",
      "training_task_end\n",
      "---------------------------- Task 5 -----------------------\n",
      "[21] Eval metrics for task 1 >> {'accuracy': 89.7666996313944, 'loss': 0.0018117226325591968, 'multiclass_eo': [0.09993288715721182, 0.1755736639504074], 'accuracy_s0': 96.78985991161, 'accuracy_s1': 83.01453235622904, 'classwise_accuracy': {1: array([1044, 1135]), 0: array([858, 980])}}\n",
      "[21] Eval metrics for task 2 >> {'accuracy': 75.54925550694604, 'loss': 0.004189971144822856, 'multiclass_eo': [0.22947471772214045, 0.21996753246753242], 'accuracy_s0': 87.1404025527737, 'accuracy_s1': 64.66829004329004, 'classwise_accuracy': {3: array([ 750, 1010]), 2: array([ 793, 1032])}}\n",
      "[21] Eval metrics for task 3 >> {'accuracy': 77.49890403952764, 'loss': 0.0033213199457211326, 'multiclass_eo': [0.29179068850281253, 0.21760603128527656], 'accuracy_s0': 90.71016771488469, 'accuracy_s1': 65.24033172548025, 'classwise_accuracy': {4: array([812, 982]), 5: array([645, 892])}}\n",
      "[21] Eval metrics for task 4 >> {'accuracy': 92.56455975890108, 'loss': 0.0010923820304846595, 'multiclass_eo': [0.11422413793103448, 0.13331213181288148], 'accuracy_s0': 98.71541501976284, 'accuracy_s1': 86.33860153256705, 'classwise_accuracy': {6: array([905, 958]), 7: array([ 932, 1028])}}\n",
      "[21] Eval metrics for task 5 >> {'accuracy': 72.7001137605493, 'loss': 0.00266449302960933, 'multiclass_eo': [0.4640391387781785, 0.548421218198262], 'accuracy_s0': 97.80813431965278, 'accuracy_s1': 47.185116470830756, 'classwise_accuracy': {8: array([726, 974]), 9: array([ 715, 1009])}}\n",
      "[22] Eval metrics for task 1 >> {'accuracy': 88.84608468938235, 'loss': 0.0020664162951440114, 'multiclass_eo': [0.11548690988858035, 0.18742188671699245], 'accuracy_s0': 96.56907250530867, 'accuracy_s1': 81.42363267503, 'classwise_accuracy': {1: array([1037, 1135]), 0: array([846, 980])}}\n",
      "[22] Eval metrics for task 2 >> {'accuracy': 75.0552613400875, 'loss': 0.004555522257153831, 'multiclass_eo': [0.2451298701298702, 0.29025036818851246], 'accuracy_s0': 88.86966126656847, 'accuracy_s1': 62.10064935064935, 'classwise_accuracy': {2: array([ 792, 1032]), 3: array([ 741, 1010])}}\n",
      "[22] Eval metrics for task 3 >> {'accuracy': 77.06120482587929, 'loss': 0.0037293403291142483, 'multiclass_eo': [0.31345662868173607, 0.20905902273826804], 'accuracy_s0': 90.60534591194968, 'accuracy_s1': 64.47956334094948, 'classwise_accuracy': {4: array([799, 982]), 5: array([649, 892])}}\n",
      "[22] Eval metrics for task 4 >> {'accuracy': 91.66064190149712, 'loss': 0.0012889656220438017, 'multiclass_eo': [0.12728605332961052, 0.16025320672996834], 'accuracy_s0': 98.81182890336208, 'accuracy_s1': 84.43486590038314, 'classwise_accuracy': {6: array([897, 958]), 7: array([ 922, 1028])}}\n",
      "[22] Eval metrics for task 5 >> {'accuracy': 81.18723073447799, 'loss': 0.0020985884222789537, 'multiclass_eo': [0.415083952656207, 0.3048480630944097], 'accuracy_s0': 99.01247380340385, 'accuracy_s1': 63.01587301587301, 'classwise_accuracy': {9: array([ 792, 1009]), 8: array([817, 974])}}\n",
      "[23] Eval metrics for task 1 >> {'accuracy': 88.94115796098176, 'loss': 0.002086041793755606, 'multiclass_eo': [0.1813311336632839, 0.12082175947502849], 'accuracy_s0': 96.64616989187607, 'accuracy_s1': 81.53852523496046, 'classwise_accuracy': {0: array([847, 980]), 1: array([1038, 1135])}}\n",
      "[23] Eval metrics for task 2 >> {'accuracy': 74.67399646941438, 'loss': 0.0048096823879133594, 'multiclass_eo': [0.2946882670594011, 0.26388888888888884], 'accuracy_s0': 89.08361970217639, 'accuracy_s1': 61.1547619047619, 'classwise_accuracy': {3: array([ 747, 1010]), 2: array([ 778, 1032])}}\n",
      "[23] Eval metrics for task 3 >> {'accuracy': 76.43011425387924, 'loss': 0.003842599077692917, 'multiclass_eo': [0.21421948072891472, 0.33885048882246716], 'accuracy_s0': 90.7625786163522, 'accuracy_s1': 63.10908013878311, 'classwise_accuracy': {5: array([655, 892]), 4: array([780, 982])}}\n",
      "[23] Eval metrics for task 4 >> {'accuracy': 91.7163879028131, 'loss': 0.0013190344771349658, 'multiclass_eo': [0.18552087592567346, 0.12297570850202433], 'accuracy_s0': 99.40471427885615, 'accuracy_s1': 83.97988505747126, 'classwise_accuracy': {7: array([ 921, 1028]), 6: array([899, 958])}}\n",
      "[23] Eval metrics for task 5 >> {'accuracy': 85.0755927657245, 'loss': 0.0018035563716849953, 'multiclass_eo': [0.2703696674469117, 0.29036608863198465], 'accuracy_s0': 98.99638376354078, 'accuracy_s1': 70.95959595959596, 'classwise_accuracy': {8: array([830, 974]), 9: array([ 857, 1009])}}\n",
      "[24] Eval metrics for task 1 >> {'accuracy': 89.18007731727052, 'loss': 0.0023154212087040534, 'multiclass_eo': [0.12941282476712468, 0.175507007282241], 'accuracy_s0': 96.95737321137815, 'accuracy_s1': 81.71138160890987, 'classwise_accuracy': {1: array([1033, 1135]), 0: array([856, 980])}}\n",
      "[24] Eval metrics for task 2 >> {'accuracy': 74.55176913040141, 'loss': 0.005062749815500915, 'multiclass_eo': [0.22997835497835506, 0.3205694648993618], 'accuracy_s0': 88.76656848306332, 'accuracy_s1': 61.239177489177486, 'classwise_accuracy': {2: array([ 800, 1032]), 3: array([ 723, 1010])}}\n",
      "[24] Eval metrics for task 3 >> {'accuracy': 75.92094928442914, 'loss': 0.004011864755044243, 'multiclass_eo': [0.35457583494198475, 0.2277052088372843], 'accuracy_s0': 91.01153039832285, 'accuracy_s1': 61.897478209359406, 'classwise_accuracy': {4: array([770, 982]), 5: array([655, 892])}}\n",
      "[24] Eval metrics for task 4 >> {'accuracy': 90.90020145731623, 'loss': 0.001497316854177765, 'multiclass_eo': [0.19659109839019884, 0.11651019126064499], 'accuracy_s0': 98.71301467411307, 'accuracy_s1': 83.05795019157088, 'classwise_accuracy': {7: array([ 901, 1028]), 6: array([902, 958])}}\n",
      "[24] Eval metrics for task 5 >> {'accuracy': 88.61025920717648, 'loss': 0.0014009303627023778, 'multiclass_eo': [0.23095434705674167, 0.19562219269943693], 'accuracy_s0': 99.18906199090107, 'accuracy_s1': 77.86023500309214, 'classwise_accuracy': {9: array([ 890, 1009]), 8: array([867, 974])}}\n",
      "[25] Eval metrics for task 1 >> {'accuracy': 88.24080733615031, 'loss': 0.002541733393996038, 'multiclass_eo': [0.18093119365428512, 0.1277847169143006], 'accuracy_s0': 96.11417916607265, 'accuracy_s1': 80.67838363764336, 'classwise_accuracy': {0: array([835, 980]), 1: array([1036, 1135])}}\n",
      "[25] Eval metrics for task 2 >> {'accuracy': 76.18015580627831, 'loss': 0.004848753670403819, 'multiclass_eo': [0.3188021600392734, 0.22438672438672447], 'accuracy_s0': 90.20598101783669, 'accuracy_s1': 63.0465367965368, 'classwise_accuracy': {3: array([ 751, 1010]), 2: array([ 805, 1032])}}\n",
      "[25] Eval metrics for task 3 >> {'accuracy': 75.35527385312302, 'loss': 0.004332551388755807, 'multiclass_eo': [0.2107522980164489, 0.34851900284368065], 'accuracy_s0': 89.84538784067087, 'accuracy_s1': 61.881822797664384, 'classwise_accuracy': {5: array([644, 892]), 4: array([771, 982])}}\n",
      "[25] Eval metrics for task 4 >> {'accuracy': 90.19439006360528, 'loss': 0.0016963046423017919, 'multiclass_eo': [0.1315963981571967, 0.20221707328154115], 'accuracy_s0': 98.51538621561505, 'accuracy_s1': 81.82471264367817, 'classwise_accuracy': {6: array([895, 958]), 7: array([ 894, 1028])}}\n",
      "[25] Eval metrics for task 5 >> {'accuracy': 90.25475036783934, 'loss': 0.0012387262710825218, 'multiclass_eo': [0.13717129541764206, 0.2329951633832723], 'accuracy_s0': 99.39783025812446, 'accuracy_s1': 80.88950731807874, 'classwise_accuracy': {8: array([900, 974]), 9: array([ 889, 1009])}}\n",
      "training_task_end\n",
      "final avg-acc 84.04507548539925\n",
      "final avg-forget 11.37921024314375\n"
     ]
    }
   ],
   "source": [
    "trainer.run()\n",
    "print(\"final avg-acc\", metric_manager_callback.meters['accuracy'].compute_final())\n",
    "print(\"final avg-forget\", metric_manager_callback.meters['forgetting'].compute_final())"
   ]
  },
  {
   "cell_type": "code",
   "execution_count": 9,
   "id": "5ebde5d0",
   "metadata": {},
   "outputs": [
    {
     "data": {
      "text/plain": [
       "array([[99.664,  0.   ,  0.   ,  0.   ,  0.   ],\n",
       "       [94.813, 90.612,  0.   ,  0.   ,  0.   ],\n",
       "       [91.573, 86.441, 91.115,  0.   ,  0.   ],\n",
       "       [89.655, 80.59 , 82.786, 94.096,  0.   ],\n",
       "       [88.241, 76.18 , 75.355, 90.194, 90.255]])"
      ]
     },
     "execution_count": 9,
     "metadata": {},
     "output_type": "execute_result"
    }
   ],
   "source": [
    "metric_manager_callback.meters['accuracy'].get_data()"
   ]
  },
  {
   "cell_type": "code",
   "execution_count": 10,
   "id": "fa1b0074",
   "metadata": {},
   "outputs": [
    {
     "data": {
      "text/plain": [
       "[99.664, 92.712, 89.71, 86.782, 84.045]"
      ]
     },
     "execution_count": 10,
     "metadata": {},
     "output_type": "execute_result"
    }
   ],
   "source": [
    "[np.round(x, 3) for x in metric_manager_callback.meters['accuracy'].compute_overall()]"
   ]
  },
  {
   "cell_type": "code",
   "execution_count": 11,
   "id": "4e893eff",
   "metadata": {},
   "outputs": [
    {
     "data": {
      "text/plain": [
       "90.58261559514479"
      ]
     },
     "execution_count": 11,
     "metadata": {},
     "output_type": "execute_result"
    }
   ],
   "source": [
    "np.mean(metric_manager_callback.meters['accuracy'].compute_overall())"
   ]
  },
  {
   "cell_type": "code",
   "execution_count": 12,
   "id": "b82bd073",
   "metadata": {},
   "outputs": [
    {
     "data": {
      "text/plain": [
       "[0.007, 0.132, 0.158, 0.165, 0.212]"
      ]
     },
     "execution_count": 12,
     "metadata": {},
     "output_type": "execute_result"
    }
   ],
   "source": [
    "[np.round(x, 3) for x in metric_manager_callback.meters['multiclass_eo'].compute_overall()]"
   ]
  },
  {
   "cell_type": "code",
   "execution_count": 13,
   "id": "4a7973e4",
   "metadata": {},
   "outputs": [
    {
     "data": {
      "text/plain": [
       "0.1346030676732251"
      ]
     },
     "execution_count": 13,
     "metadata": {},
     "output_type": "execute_result"
    }
   ],
   "source": [
    "np.mean(metric_manager_callback.meters['multiclass_eo'].compute_overall())"
   ]
  },
  {
   "cell_type": "code",
   "execution_count": 14,
   "id": "61271a48",
   "metadata": {},
   "outputs": [
    {
     "name": "stdout",
     "output_type": "stream",
     "text": [
      "incremental_step=2\n",
      "sensitive samples / all samples = 1165 / 12089\n",
      "sensitive samples / selected samples = 1165 / 12089\n"
     ]
    }
   ],
   "source": [
    "incremental_step = 2\n",
    "\n",
    "print(f\"{incremental_step=}\")\n",
    "print(f\"sensitive samples / all samples = {(benchmark.trains[incremental_step].sensitive != benchmark.trains[incremental_step].targets).sum().item()} / {benchmark.trains[incremental_step].sensitive.shape[0]}\")\n",
    "one_idx = benchmark.trains[incremental_step].sample_weight > 0.9\n",
    "print(f\"sensitive samples / selected samples = {(benchmark.trains[incremental_step].sensitive[one_idx] != benchmark.trains[incremental_step].targets[one_idx]).sum().item()} / {one_idx.sum().item()}\")\n"
   ]
  },
  {
   "cell_type": "code",
   "execution_count": 15,
   "id": "b32febda",
   "metadata": {},
   "outputs": [
    {
     "name": "stdout",
     "output_type": "stream",
     "text": [
      "incremental_step=2\n",
      "2 : 5958 --> 5958\n",
      "3 : 6131 --> 6131\n",
      "incremental_step=3\n",
      "4 : 5842 --> 5842\n",
      "5 : 5421 --> 5421\n",
      "incremental_step=4\n",
      "6 : 5918 --> 5918\n",
      "7 : 6265 --> 6265\n",
      "incremental_step=5\n",
      "8 : 5851 --> 5851\n",
      "9 : 5949 --> 5949\n"
     ]
    }
   ],
   "source": [
    "step_class = 2\n",
    "for i in range(2, 6):\n",
    "    incremental_step = i\n",
    "    print(f\"{incremental_step=}\")\n",
    "    one_idx = benchmark.trains[incremental_step].sample_weight > 0.9\n",
    "\n",
    "    print(f\"{2*i-2} : {(benchmark.trains[incremental_step].targets == (2*i-2)).sum().item()} --> {(benchmark.trains[incremental_step].targets[one_idx] == (2*i-2)).sum().item()}\")\n",
    "    print(f\"{2*i-1} : {(benchmark.trains[incremental_step].targets == (2*i-1)).sum().item()} --> {(benchmark.trains[incremental_step].targets[one_idx] == (2*i-1)).sum().item()}\")\n"
   ]
  },
  {
   "cell_type": "code",
   "execution_count": 16,
   "id": "0880e76a",
   "metadata": {},
   "outputs": [
    {
     "name": "stdout",
     "output_type": "stream",
     "text": [
      "0.008 0.005 \n",
      "0.039 0.128 0.154 0.206 \n",
      "0.081 0.162 0.18 0.19 0.222 0.115 \n",
      "0.072 0.163 0.217 0.251 0.203 0.191 0.09 0.129 \n",
      "0.181 0.128 0.319 0.224 0.211 0.349 0.132 0.202 0.137 0.233 \n"
     ]
    }
   ],
   "source": [
    "for eos in metric_manager_callback.meters['multiclass_eo'].get_data():\n",
    "    for eo in eos:\n",
    "        print(round(eo, 3),end=\" \")\n",
    "    print()"
   ]
  },
  {
   "cell_type": "code",
   "execution_count": 17,
   "id": "f6233f9b",
   "metadata": {},
   "outputs": [
    {
     "data": {
      "text/plain": [
       "[{0: array([976, 980]), 1: array([1132, 1135])},\n",
       " {1: array([1096, 1135]),\n",
       "  0: array([912, 980]),\n",
       "  3: array([ 929, 1010]),\n",
       "  2: array([ 921, 1032])},\n",
       " {1: array([1063, 1135]),\n",
       "  0: array([877, 980]),\n",
       "  2: array([ 886, 1032]),\n",
       "  3: array([ 879, 1010]),\n",
       "  5: array([788, 892]),\n",
       "  4: array([922, 982])},\n",
       " {1: array([1060, 1135]),\n",
       "  0: array([842, 980]),\n",
       "  3: array([ 844, 1010]),\n",
       "  2: array([ 801, 1032]),\n",
       "  4: array([863, 982]),\n",
       "  5: array([693, 892]),\n",
       "  7: array([ 971, 1028]),\n",
       "  6: array([898, 958])},\n",
       " {0: array([835, 980]),\n",
       "  1: array([1036, 1135]),\n",
       "  3: array([ 751, 1010]),\n",
       "  2: array([ 805, 1032]),\n",
       "  5: array([644, 892]),\n",
       "  4: array([771, 982]),\n",
       "  6: array([895, 958]),\n",
       "  7: array([ 894, 1028]),\n",
       "  8: array([900, 974]),\n",
       "  9: array([ 889, 1009])}]"
      ]
     },
     "execution_count": 17,
     "metadata": {},
     "output_type": "execute_result"
    }
   ],
   "source": [
    "metric_manager_callback.meters['classwise_accuracy'].get_data()"
   ]
  },
  {
   "cell_type": "code",
   "execution_count": null,
   "id": "cdbf418f",
   "metadata": {},
   "outputs": [],
   "source": []
  }
 ],
 "metadata": {
  "kernelspec": {
   "display_name": "cil",
   "language": "python",
   "name": "python3"
  },
  "language_info": {
   "codemirror_mode": {
    "name": "ipython",
    "version": 3
   },
   "file_extension": ".py",
   "mimetype": "text/x-python",
   "name": "python",
   "nbconvert_exporter": "python",
   "pygments_lexer": "ipython3",
   "version": "3.9.18"
  }
 },
 "nbformat": 4,
 "nbformat_minor": 5
}
