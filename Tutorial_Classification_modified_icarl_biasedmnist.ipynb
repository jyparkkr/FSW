{
 "cells": [
  {
   "cell_type": "code",
   "execution_count": 1,
   "id": "b0c3b92f",
   "metadata": {},
   "outputs": [
    {
     "name": "stdout",
     "output_type": "stream",
     "text": [
      "output_dir=./outputs/demo/dataset=BiasedMNIST/seed=10_epoch=5_lr=0.001_alpha=0.0_tau=1\n"
     ]
    }
   ],
   "source": [
    "from torchvision.datasets import MNIST, FashionMNIST, CIFAR10\n",
    "import torchvision\n",
    "import numpy as np\n",
    "import random\n",
    "\n",
    "import torch\n",
    "import torch.nn.functional as F\n",
    "import cl_gym as cl\n",
    "\n",
    "import sys\n",
    "import os\n",
    "\n",
    "seed = 10\n",
    "\n",
    "np.random.seed(seed)\n",
    "torch.manual_seed(seed)\n",
    "np.random.seed(seed)\n",
    "random.seed(seed)\n",
    "torch.cuda.manual_seed_all(seed)\n",
    "torch.manual_seed(seed)\n",
    "torch.backends.cudnn.deterministic = True\n",
    "torch.backends.cudnn.benchmark = True\n",
    "torch.set_num_threads(8)\n",
    "\n",
    "# torch.backends.cudnn.enabled = False\n",
    "\n",
    "def make_params() -> dict:\n",
    "    import os\n",
    "    from pathlib import Path\n",
    "    import uuid\n",
    "\n",
    "    params = {\n",
    "            # dataset\n",
    "            # 'dataset': \"CIFAR100\",\n",
    "            'dataset': \"BiasedMNIST\",\n",
    "\n",
    "            # benchmark\n",
    "            'seed': seed,\n",
    "            'num_tasks': 5,\n",
    "            'epochs_per_task': 5,\n",
    "            # 'per_task_examples': np.inf,\n",
    "            'per_task_examples': 10000,\n",
    "            'per_task_memory_examples': 20,\n",
    "            'batch_size_train': 64,\n",
    "            'batch_size_memory': 64,\n",
    "            'batch_size_validation': 256,\n",
    "            'tau': 1,\n",
    "            # 'tau': 0.0,\n",
    "\n",
    "            # algorithm\n",
    "            'optimizer': 'sgd',\n",
    "            'learning_rate': 0.001,\n",
    "            'momentum': 0.9,\n",
    "            'learning_rate_decay': 1.0,\n",
    "            'criterion': torch.nn.BCEWithLogitsLoss(),\n",
    "            'device': torch.device('cuda:7' if torch.cuda.is_available() else 'cpu'),\n",
    "             \n",
    "            # sample selection\n",
    "            'alpha':0.000,\n",
    "            'lambda': .0,\n",
    "            'lambda_old': 0.0,\n",
    "              }\n",
    "\n",
    "#     trial_id = str(uuid.uuid4())\n",
    "    trial_id = f\"demo/dataset={params['dataset']}/seed={params['seed']}_epoch={params['epochs_per_task']}_lr={params['learning_rate']}_alpha={params['alpha']}_tau={params['tau']}\"\n",
    "    params['trial_id'] = trial_id\n",
    "    params['output_dir'] = os.path.join(\"./outputs/{}\".format(trial_id))\n",
    "    print(f\"output_dir={params['output_dir']}\")\n",
    "    Path(params['output_dir']).mkdir(parents=True, exist_ok=True)\n",
    "\n",
    "    return params\n",
    "\n",
    "params = make_params()"
   ]
  },
  {
   "cell_type": "code",
   "execution_count": 2,
   "id": "93b43ace",
   "metadata": {},
   "outputs": [
    {
     "name": "stdout",
     "output_type": "stream",
     "text": [
      "[8 2 5 6 3 1 0 7 4 9]\n"
     ]
    }
   ],
   "source": [
    "from datasets import BiasedMNIST\n",
    "\n",
    "if  params['dataset'] in [\"BiasedMNIST\"]:\n",
    "    benchmark = BiasedMNIST(num_tasks=params['num_tasks'],\n",
    "                                per_task_memory_examples=params['per_task_memory_examples'],\n",
    "                                per_task_examples = params['per_task_examples'],\n",
    "                                random_class_idx=True)\n",
    "    input_dim = (3, 28, 28)\n",
    "    class_idx = benchmark.class_idx\n",
    "    num_classes = len(class_idx)"
   ]
  },
  {
   "cell_type": "code",
   "execution_count": 3,
   "id": "20c7b886",
   "metadata": {},
   "outputs": [
    {
     "name": "stdout",
     "output_type": "stream",
     "text": [
      "iCaRL\n"
     ]
    }
   ],
   "source": [
    "from algorithms.icarl import iCaRL\n",
    "from metrics import FairMetricCollector\n",
    "from backbones import MLP2Layers2\n",
    "\n",
    "backbone = MLP2Layers2(\n",
    "    input_dim=input_dim, \n",
    "    hidden_dim_1=256, \n",
    "    hidden_dim_2=256, \n",
    "    output_dim=num_classes,\n",
    "    class_idx=class_idx,\n",
    "    config=params\n",
    "    ).to(params['device'])\n",
    "\n",
    "# from backbones import ResNet18\n",
    "# backbone = ResNet18(\n",
    "#     input_dim=input_dim, \n",
    "#     output_dim=num_classes,\n",
    "#     class_idx=class_idx,\n",
    "#     config=params\n",
    "#     ).to(params['device'])\n",
    "\n",
    "algorithm = iCaRL(backbone, benchmark, params, requires_memory=True)\n",
    "metric_manager_callback = FairMetricCollector(num_tasks=params['num_tasks'],\n",
    "                                                        eval_interval='epoch',\n",
    "                                                        epochs_per_task=params['epochs_per_task'])\n"
   ]
  },
  {
   "cell_type": "code",
   "execution_count": 4,
   "id": "0323bffd",
   "metadata": {},
   "outputs": [
    {
     "data": {
      "text/plain": [
       "(6, 6, 5)"
      ]
     },
     "execution_count": 4,
     "metadata": {},
     "output_type": "execute_result"
    }
   ],
   "source": [
    "metric_manager_callback.meters['accuracy'].data.shape"
   ]
  },
  {
   "cell_type": "code",
   "execution_count": 5,
   "id": "d8efa3ad",
   "metadata": {},
   "outputs": [],
   "source": [
    "from trainers.baselines import BaseContinualTrainer as ContinualTrainer\n",
    "\n",
    "trainer = ContinualTrainer(algorithm, params, callbacks=[metric_manager_callback])\n"
   ]
  },
  {
   "cell_type": "code",
   "execution_count": 6,
   "id": "caecf807",
   "metadata": {},
   "outputs": [],
   "source": [
    "# CIFAR10: self.dataset.data.shape=(50000, 32, 32, 3)\n"
   ]
  },
  {
   "cell_type": "code",
   "execution_count": 7,
   "id": "7c1bb4fe",
   "metadata": {},
   "outputs": [
    {
     "name": "stdout",
     "output_type": "stream",
     "text": [
      "---------------------------- Task 1 -----------------------\n",
      "[1] Eval metrics for task 1 >> {'accuracy': 0.8008870159018193, 'loss': 0.0, 'std': 0.007252518981901546, 'EER': -1, 'EO': [0.37594035691394256, 0.34714210014017977], 'DP': -1, 'accuracy_s0': 0.9828791478769658, 'accuracy_s1': 0.6213379193499047, 'classwise_accuracy': {8: array([773, 974]), 2: array([ 834, 1032])}, 'DP_ingredients': {'class_pred_count_s0': {8: 489, 2: 506}, 'class_pred_count_s1': {8: 482, 2: 529}, 'class_pred_count': {8: 971, 2: 1035}, 'count_s0': 995, 'count_s1': 1011, 'count': 2006}}\n",
      "[2] Eval metrics for task 1 >> {'accuracy': 0.7882373891727552, 'loss': 0.0, 'std': 0.06544478136988041, 'EER': -1, 'EO': [0.5478443477380832, 0.2738089421880814], 'DP': -1, 'accuracy_s0': 0.9939691121563303, 'accuracy_s1': 0.583142467193248, 'classwise_accuracy': {8: array([704, 974]), 2: array([ 881, 1032])}, 'DP_ingredients': {'class_pred_count_s0': {8: 492, 2: 503}, 'class_pred_count_s1': {8: 363, 2: 648}, 'class_pred_count': {8: 855, 2: 1151}, 'count_s0': 995, 'count_s1': 1011, 'count': 2006}}\n",
      "[3] Eval metrics for task 1 >> {'accuracy': 0.800701972207631, 'loss': 0.0, 'std': 0.04813523709469458, 'EER': -1, 'EO': [0.49178558175623255, 0.28713916876810963], 'DP': -1, 'accuracy_s0': 0.9959794081042201, 'accuracy_s1': 0.606517032842049, 'classwise_accuracy': {8: array([733, 974]), 2: array([ 876, 1032])}, 'DP_ingredients': {'class_pred_count_s0': {8: 492, 2: 503}, 'class_pred_count_s1': {2: 614, 8: 397}, 'class_pred_count': {8: 889, 2: 1117}, 'count_s0': 995, 'count_s1': 1011, 'count': 2006}}\n",
      "[4] Eval metrics for task 1 >> {'accuracy': 0.8069775400729032, 'loss': 0.0, 'std': 0.037983700237174234, 'EER': -1, 'EO': [0.29470060544107746, 0.4585905610093446], 'DP': -1, 'accuracy_s0': 0.9959794081042201, 'accuracy_s1': 0.6193338248790092, 'classwise_accuracy': {2: array([ 872, 1032]), 8: array([749, 974])}, 'DP_ingredients': {'class_pred_count_s0': {2: 503, 8: 492}, 'class_pred_count_s1': {2: 594, 8: 417}, 'class_pred_count': {2: 1097, 8: 909}, 'count_s0': 995, 'count_s1': 1011, 'count': 2006}}\n",
      "[5] Eval metrics for task 1 >> {'accuracy': 0.8153353469270809, 'loss': 0.0, 'std': 0.024780932142686618, 'EER': -1, 'EO': [0.41912930540093774, 0.3080308320211058], 'DP': -1, 'accuracy_s0': 0.9979897040521101, 'accuracy_s1': 0.6344096353410883, 'classwise_accuracy': {8: array([770, 974]), 2: array([ 867, 1032])}, 'DP_ingredients': {'class_pred_count_s0': {8: 492, 2: 503}, 'class_pred_count_s1': {8: 443, 2: 568}, 'class_pred_count': {8: 935, 2: 1071}, 'count_s0': 995, 'count_s1': 1011, 'count': 2006}}\n",
      "Reduce size of class 8 to 0 examplar\n",
      "Reduce size of class 2 to 0 examplar\n",
      "Reduce size of class 5 to 0 examplar\n",
      "Reduce size of class 6 to 0 examplar\n",
      "Reduce size of class 3 to 0 examplar\n",
      "Reduce size of class 1 to 0 examplar\n",
      "Reduce size of class 0 to 0 examplar\n",
      "Reduce size of class 7 to 0 examplar\n",
      "Reduce size of class 4 to 0 examplar\n",
      "Reduce size of class 9 to 0 examplar\n",
      "construct class 8 examplar:\n",
      "len(self.exemplar_dict[cls])=50\n",
      "construct class 2 examplar:\n",
      "len(self.exemplar_dict[cls])=50\n",
      "update_memory_after_train\n",
      "---------------------------- Task 2 -----------------------\n",
      "[6] Eval metrics for task 1 >> {'accuracy': 0.6915391257978766, 'loss': 0.0, 'std': 0.047801959473441236, 'EER': -1, 'EO': [0.5085066162570888, 0.715809803326249], 'DP': -1, 'accuracy_s0': 0.9989837398373984, 'accuracy_s1': 0.3868255300457294, 'classwise_accuracy': {2: array([ 763, 1032]), 8: array([627, 974])}, 'DP_ingredients': {'class_pred_count_s0': {2: 504, 8: 491}, 'class_pred_count_s1': {5: 272, 2: 405, 6: 114, 8: 220}, 'class_pred_count': {2: 909, 5: 272, 8: 711, 6: 114}, 'count_s0': 995, 'count_s1': 1011, 'count': 2006}}\n",
      "[6] Eval metrics for task 2 >> {'accuracy': 0.5784566127114598, 'loss': 0.0, 'std': 0.06279899266970612, 'EER': -1, 'EO': [0.9830508474576272, 0.7529411764705882], 'DP': -1, 'accuracy_s0': 1.0, 'accuracy_s1': 0.13200398803589233, 'classwise_accuracy': {6: array([494, 958]), 5: array([572, 892])}, 'DP_ingredients': {'class_pred_count_s0': {6: 486, 5: 467}, 'class_pred_count_s1': {8: 234, 5: 226, 2: 381, 6: 56}, 'class_pred_count': {6: 542, 8: 234, 5: 693, 2: 381}, 'count_s0': 953, 'count_s1': 897, 'count': 1850}}\n",
      "[7] Eval metrics for task 1 >> {'accuracy': 0.6763754914601341, 'loss': 0.0, 'std': 0.037771795361571436, 'EER': -1, 'EO': [0.55765595463138, 0.7261832473096514], 'DP': -1, 'accuracy_s0': 0.9989837398373984, 'accuracy_s1': 0.3570641388668826, 'classwise_accuracy': {2: array([ 737, 1032]), 8: array([622, 974])}, 'DP_ingredients': {'class_pred_count_s0': {2: 504, 8: 491}, 'class_pred_count_s1': {2: 366, 5: 318, 8: 210, 6: 117}, 'class_pred_count': {2: 870, 5: 318, 8: 701, 6: 117}, 'count_s0': 995, 'count_s1': 1011, 'count': 2006}}\n",
      "[7] Eval metrics for task 2 >> {'accuracy': 0.6033332709212953, 'loss': 0.0, 'std': 0.07828107885448943, 'EER': -1, 'EO': [0.9639830508474576, 0.668235294117647], 'DP': -1, 'accuracy_s0': 1.0, 'accuracy_s1': 0.18389082751744767, 'classwise_accuracy': {6: array([503, 958]), 5: array([608, 892])}, 'DP_ingredients': {'class_pred_count_s0': {6: 486, 5: 467}, 'class_pred_count_s1': {8: 192, 6: 70, 5: 293, 2: 342}, 'class_pred_count': {6: 556, 5: 760, 8: 192, 2: 342}, 'count_s0': 953, 'count_s1': 897, 'count': 1850}}\n",
      "[8] Eval metrics for task 1 >> {'accuracy': 0.6739241599414227, 'loss': 0.0, 'std': 0.036347157888034665, 'EER': -1, 'EO': [0.7282579361063319, 0.5652173913043479], 'DP': -1, 'accuracy_s0': 0.9989837398373984, 'accuracy_s1': 0.35224607613205844, 'classwise_accuracy': {8: array([621, 974]), 2: array([ 733, 1032])}, 'DP_ingredients': {'class_pred_count_s0': {8: 491, 2: 504}, 'class_pred_count_s1': {8: 209, 6: 117, 2: 363, 5: 322}, 'class_pred_count': {8: 700, 2: 867, 6: 117, 5: 322}, 'count_s0': 995, 'count_s1': 1011, 'count': 2006}}\n",
      "[8] Eval metrics for task 2 >> {'accuracy': 0.6049376503740042, 'loss': 0.0, 'std': 0.07779777563496448, 'EER': -1, 'EO': [0.9597457627118644, 0.6658823529411765], 'DP': -1, 'accuracy_s0': 1.0, 'accuracy_s1': 0.18718594217347956, 'classwise_accuracy': {6: array([505, 958]), 5: array([609, 892])}, 'DP_ingredients': {'class_pred_count_s0': {6: 486, 5: 467}, 'class_pred_count_s1': {8: 193, 5: 295, 2: 340, 6: 69}, 'class_pred_count': {6: 555, 8: 193, 5: 762, 2: 340}, 'count_s0': 953, 'count_s1': 897, 'count': 1850}}\n",
      "[9] Eval metrics for task 1 >> {'accuracy': 0.6749508539865973, 'loss': 0.0, 'std': 0.03532046384286014, 'EER': -1, 'EO': [0.5652173913043479, 0.724108558512971], 'DP': -1, 'accuracy_s0': 0.9989837398373984, 'accuracy_s1': 0.354320764928739, 'classwise_accuracy': {2: array([ 733, 1032]), 8: array([623, 974])}, 'DP_ingredients': {'class_pred_count_s0': {8: 491, 2: 504}, 'class_pred_count_s1': {2: 363, 5: 320, 8: 212, 6: 116}, 'class_pred_count': {2: 867, 5: 320, 8: 703, 6: 116}, 'count_s0': 995, 'count_s1': 1011, 'count': 2006}}\n",
      "[9] Eval metrics for task 2 >> {'accuracy': 0.6060201091586546, 'loss': 0.0, 'std': 0.07783639308349793, 'EER': -1, 'EO': [0.9576271186440678, 0.6635294117647059], 'DP': -1, 'accuracy_s0': 1.0, 'accuracy_s1': 0.18942173479561317, 'classwise_accuracy': {6: array([506, 958]), 5: array([610, 892])}, 'DP_ingredients': {'class_pred_count_s0': {6: 486, 5: 467}, 'class_pred_count_s1': {2: 339, 5: 295, 8: 194, 6: 69}, 'class_pred_count': {6: 555, 2: 339, 5: 762, 8: 194}, 'count_s0': 953, 'count_s1': 897, 'count': 1850}}\n",
      "[10] Eval metrics for task 1 >> {'accuracy': 0.6759198462346593, 'loss': 0.0, 'std': 0.036289456090922156, 'EER': -1, 'EO': [0.5614366729678639, 0.724108558512971], 'DP': -1, 'accuracy_s0': 0.9989837398373984, 'accuracy_s1': 0.35621112409698097, 'classwise_accuracy': {2: array([ 735, 1032]), 8: array([623, 974])}, 'DP_ingredients': {'class_pred_count_s0': {2: 504, 8: 491}, 'class_pred_count_s1': {5: 316, 8: 215, 2: 365, 6: 115}, 'class_pred_count': {2: 869, 5: 316, 8: 706, 6: 115}, 'count_s0': 995, 'count_s1': 1011, 'count': 2006}}\n",
      "[10] Eval metrics for task 2 >> {'accuracy': 0.6044157297059457, 'loss': 0.0, 'std': 0.07831969630302293, 'EER': -1, 'EO': [0.961864406779661, 0.6658823529411765], 'DP': -1, 'accuracy_s0': 1.0, 'accuracy_s1': 0.18612662013958126, 'classwise_accuracy': {6: array([504, 958]), 5: array([609, 892])}, 'DP_ingredients': {'class_pred_count_s0': {6: 486, 5: 467}, 'class_pred_count_s1': {2: 340, 5: 293, 8: 199, 6: 65}, 'class_pred_count': {6: 551, 2: 340, 5: 760, 8: 199}, 'count_s0': 953, 'count_s1': 897, 'count': 1850}}\n",
      "Reduce size of class 8 to 25 examplar\n",
      "Reduce size of class 2 to 25 examplar\n",
      "Reduce size of class 5 to 0 examplar\n",
      "Reduce size of class 6 to 0 examplar\n",
      "Reduce size of class 3 to 0 examplar\n",
      "Reduce size of class 1 to 0 examplar\n",
      "Reduce size of class 0 to 0 examplar\n",
      "Reduce size of class 7 to 0 examplar\n",
      "Reduce size of class 4 to 0 examplar\n",
      "Reduce size of class 9 to 0 examplar\n",
      "construct class 5 examplar:\n",
      "len(self.exemplar_dict[cls])=25\n",
      "construct class 6 examplar:\n",
      "len(self.exemplar_dict[cls])=25\n",
      "update_memory_after_train\n",
      "---------------------------- Task 3 -----------------------\n",
      "[11] Eval metrics for task 1 >> {'accuracy': 0.6491103974658963, 'loss': 0.0, 'std': 0.06697487385193324, 'EER': -1, 'EO': [0.553875236294896, 0.8402911311270789], 'DP': -1, 'accuracy_s0': 0.9989837398373984, 'accuracy_s1': 0.30190055612641087, 'classwise_accuracy': {2: array([ 739, 1032]), 8: array([567, 974])}, 'DP_ingredients': {'class_pred_count_s0': {2: 504, 8: 491}, 'class_pred_count_s1': {2: 373, 1: 103, 6: 114, 3: 106, 8: 102, 5: 213}, 'class_pred_count': {2: 877, 1: 103, 8: 593, 6: 114, 3: 106, 5: 213}, 'count_s0': 995, 'count_s1': 1011, 'count': 2006}}\n",
      "[11] Eval metrics for task 2 >> {'accuracy': 0.5697969424342568, 'loss': 0.0, 'std': 0.062490053081438346, 'EER': -1, 'EO': [1.0, 0.7717647058823529], 'DP': -1, 'accuracy_s0': 1.0, 'accuracy_s1': 0.11411764705882353, 'classwise_accuracy': {6: array([486, 958]), 5: array([564, 892])}, 'DP_ingredients': {'class_pred_count_s0': {6: 486, 5: 467}, 'class_pred_count_s1': {5: 194, 2: 347, 3: 98, 8: 118, 1: 97, 6: 43}, 'class_pred_count': {6: 529, 5: 661, 2: 347, 3: 98, 8: 118, 1: 97}, 'count_s0': 953, 'count_s1': 897, 'count': 1850}}\n",
      "[11] Eval metrics for task 3 >> {'accuracy': 0.48640031404021455, 'loss': 0.0, 'std': 0.010629388930082445, 'EER': -1, 'EO': [1.0, 1.0], 'DP': -1, 'accuracy_s0': 1.0, 'accuracy_s1': 0.0, 'classwise_accuracy': {1: array([ 540, 1135]), 3: array([ 502, 1010])}, 'DP_ingredients': {'class_pred_count_s0': {1: 540, 3: 502}, 'class_pred_count_s1': {6: 137, 1: 60, 2: 343, 8: 132, 5: 373, 3: 58}, 'class_pred_count': {6: 137, 1: 600, 3: 560, 2: 343, 8: 132, 5: 373}, 'count_s0': 1042, 'count_s1': 1103, 'count': 2145}}\n",
      "[12] Eval metrics for task 1 >> {'accuracy': 0.6352559970074654, 'loss': 0.0, 'std': 0.06338741384524776, 'EER': -1, 'EO': [0.8610380190938838, 0.5879017013232515], 'DP': -1, 'accuracy_s0': 0.9989837398373984, 'accuracy_s1': 0.2745138796288307, 'classwise_accuracy': {8: array([557, 974]), 2: array([ 721, 1032])}, 'DP_ingredients': {'class_pred_count_s0': {8: 491, 2: 504}, 'class_pred_count_s1': {5: 242, 2: 355, 1: 103, 8: 91, 3: 106, 6: 114}, 'class_pred_count': {8: 582, 5: 242, 2: 859, 1: 103, 3: 106, 6: 114}, 'count_s0': 995, 'count_s1': 1011, 'count': 2006}}\n",
      "[12] Eval metrics for task 2 >> {'accuracy': 0.5737207092504002, 'loss': 0.0, 'std': 0.06641381989758183, 'EER': -1, 'EO': [1.0, 0.7552941176470588], 'DP': -1, 'accuracy_s0': 1.0, 'accuracy_s1': 0.1223529411764706, 'classwise_accuracy': {6: array([486, 958]), 5: array([571, 892])}, 'DP_ingredients': {'class_pred_count_s0': {5: 467, 6: 486}, 'class_pred_count_s1': {5: 220, 2: 333, 3: 98, 1: 97, 8: 106, 6: 43}, 'class_pred_count': {5: 687, 2: 333, 6: 529, 3: 98, 1: 97, 8: 106}, 'count_s0': 953, 'count_s1': 897, 'count': 1850}}\n",
      "[12] Eval metrics for task 3 >> {'accuracy': 0.48640031404021455, 'loss': 0.0, 'std': 0.010629388930082445, 'EER': -1, 'EO': [1.0, 1.0], 'DP': -1, 'accuracy_s0': 1.0, 'accuracy_s1': 0.0, 'classwise_accuracy': {1: array([ 540, 1135]), 3: array([ 502, 1010])}, 'DP_ingredients': {'class_pred_count_s0': {1: 540, 3: 502}, 'class_pred_count_s1': {2: 335, 5: 389, 6: 137, 1: 60, 8: 124, 3: 58}, 'class_pred_count': {1: 600, 2: 335, 5: 389, 6: 137, 3: 560, 8: 124}, 'count_s0': 1042, 'count_s1': 1103, 'count': 2145}}\n",
      "[13] Eval metrics for task 1 >> {'accuracy': 0.6223128869999841, 'loss': 0.0, 'std': 0.06276463237986085, 'EER': -1, 'EO': [0.8859342846540498, 0.6143667296786389], 'DP': -1, 'accuracy_s0': 0.9989837398373984, 'accuracy_s1': 0.24883323267105398, 'classwise_accuracy': {8: array([545, 974]), 2: array([ 707, 1032])}, 'DP_ingredients': {'class_pred_count_s0': {2: 504, 8: 491}, 'class_pred_count_s1': {2: 341, 6: 114, 5: 269, 1: 103, 8: 78, 3: 106}, 'class_pred_count': {2: 845, 6: 114, 5: 269, 8: 569, 1: 103, 3: 106}, 'count_s0': 995, 'count_s1': 1011, 'count': 2006}}\n",
      "[13] Eval metrics for task 2 >> {'accuracy': 0.5737207092504002, 'loss': 0.0, 'std': 0.06641381989758183, 'EER': -1, 'EO': [1.0, 0.7552941176470588], 'DP': -1, 'accuracy_s0': 1.0, 'accuracy_s1': 0.1223529411764706, 'classwise_accuracy': {6: array([486, 958]), 5: array([571, 892])}, 'DP_ingredients': {'class_pred_count_s0': {5: 467, 6: 486}, 'class_pred_count_s1': {2: 325, 1: 97, 3: 98, 5: 233, 6: 43, 8: 101}, 'class_pred_count': {2: 325, 1: 97, 3: 98, 5: 700, 6: 529, 8: 101}, 'count_s0': 953, 'count_s1': 897, 'count': 1850}}\n",
      "[13] Eval metrics for task 3 >> {'accuracy': 0.48640031404021455, 'loss': 0.0, 'std': 0.010629388930082445, 'EER': -1, 'EO': [1.0, 1.0], 'DP': -1, 'accuracy_s0': 1.0, 'accuracy_s1': 0.0, 'classwise_accuracy': {3: array([ 502, 1010]), 1: array([ 540, 1135])}, 'DP_ingredients': {'class_pred_count_s0': {1: 540, 3: 502}, 'class_pred_count_s1': {2: 333, 5: 399, 8: 116, 6: 137, 1: 60, 3: 58}, 'class_pred_count': {2: 333, 5: 399, 1: 600, 3: 560, 8: 116, 6: 137}, 'count_s0': 1042, 'count_s1': 1103, 'count': 2145}}\n",
      "[14] Eval metrics for task 1 >> {'accuracy': 0.6153856867707687, 'loss': 0.0, 'std': 0.060970902376518143, 'EER': -1, 'EO': [0.6313799621928167, 0.8963077286374523], 'DP': -1, 'accuracy_s0': 0.9989837398373984, 'accuracy_s1': 0.2351398944222639, 'classwise_accuracy': {2: array([ 698, 1032]), 8: array([540, 974])}, 'DP_ingredients': {'class_pred_count_s0': {2: 504, 8: 491}, 'class_pred_count_s1': {2: 331, 3: 106, 6: 114, 8: 72, 5: 285, 1: 103}, 'class_pred_count': {2: 835, 8: 563, 3: 106, 6: 114, 5: 285, 1: 103}, 'count_s0': 995, 'count_s1': 1011, 'count': 2006}}\n",
      "[14] Eval metrics for task 2 >> {'accuracy': 0.5737207092504002, 'loss': 0.0, 'std': 0.06641381989758183, 'EER': -1, 'EO': [0.7552941176470588, 1.0], 'DP': -1, 'accuracy_s0': 1.0, 'accuracy_s1': 0.1223529411764706, 'classwise_accuracy': {5: array([571, 892]), 6: array([486, 958])}, 'DP_ingredients': {'class_pred_count_s0': {5: 467, 6: 486}, 'class_pred_count_s1': {2: 321, 1: 97, 3: 98, 5: 241, 6: 43, 8: 97}, 'class_pred_count': {5: 708, 6: 529, 2: 321, 1: 97, 3: 98, 8: 97}, 'count_s0': 953, 'count_s1': 897, 'count': 1850}}\n",
      "[14] Eval metrics for task 3 >> {'accuracy': 0.48640031404021455, 'loss': 0.0, 'std': 0.010629388930082445, 'EER': -1, 'EO': [1.0, 1.0], 'DP': -1, 'accuracy_s0': 1.0, 'accuracy_s1': 0.0, 'classwise_accuracy': {1: array([ 540, 1135]), 3: array([ 502, 1010])}, 'DP_ingredients': {'class_pred_count_s0': {3: 502, 1: 540}, 'class_pred_count_s1': {8: 110, 2: 333, 5: 405, 6: 137, 1: 60, 3: 58}, 'class_pred_count': {8: 110, 2: 333, 3: 560, 5: 405, 6: 137, 1: 600}, 'count_s0': 1042, 'count_s1': 1103, 'count': 2145}}\n",
      "[15] Eval metrics for task 1 >> {'accuracy': 0.6104253219362336, 'loss': 0.0, 'std': 0.06011731372268114, 'EER': -1, 'EO': [0.9046064838241743, 0.6427221172022684], 'DP': -1, 'accuracy_s0': 0.9989837398373984, 'accuracy_s1': 0.225319439324177, 'classwise_accuracy': {8: array([536, 974]), 2: array([ 692, 1032])}, 'DP_ingredients': {'class_pred_count_s0': {8: 491, 2: 504}, 'class_pred_count_s1': {2: 325, 5: 297, 6: 114, 1: 103, 3: 106, 8: 66}, 'class_pred_count': {8: 557, 2: 829, 5: 297, 6: 114, 1: 103, 3: 106}, 'count_s0': 995, 'count_s1': 1011, 'count': 2006}}\n",
      "[15] Eval metrics for task 2 >> {'accuracy': 0.5737207092504002, 'loss': 0.0, 'std': 0.06641381989758183, 'EER': -1, 'EO': [1.0, 0.7552941176470588], 'DP': -1, 'accuracy_s0': 1.0, 'accuracy_s1': 0.1223529411764706, 'classwise_accuracy': {6: array([486, 958]), 5: array([571, 892])}, 'DP_ingredients': {'class_pred_count_s0': {6: 486, 5: 467}, 'class_pred_count_s1': {2: 321, 3: 98, 8: 97, 5: 241, 6: 43, 1: 97}, 'class_pred_count': {6: 529, 5: 708, 2: 321, 3: 98, 8: 97, 1: 97}, 'count_s0': 953, 'count_s1': 897, 'count': 1850}}\n",
      "[15] Eval metrics for task 3 >> {'accuracy': 0.48640031404021455, 'loss': 0.0, 'std': 0.010629388930082445, 'EER': -1, 'EO': [1.0, 1.0], 'DP': -1, 'accuracy_s0': 1.0, 'accuracy_s1': 0.0, 'classwise_accuracy': {3: array([ 502, 1010]), 1: array([ 540, 1135])}, 'DP_ingredients': {'class_pred_count_s0': {3: 502, 1: 540}, 'class_pred_count_s1': {6: 137, 2: 333, 3: 58, 1: 60, 5: 407, 8: 108}, 'class_pred_count': {3: 560, 6: 137, 2: 333, 1: 600, 5: 407, 8: 108}, 'count_s0': 1042, 'count_s1': 1103, 'count': 2145}}\n",
      "Reduce size of class 8 to 16 examplar\n",
      "Reduce size of class 2 to 16 examplar\n",
      "Reduce size of class 5 to 16 examplar\n",
      "Reduce size of class 6 to 16 examplar\n",
      "Reduce size of class 3 to 0 examplar\n",
      "Reduce size of class 1 to 0 examplar\n",
      "Reduce size of class 0 to 0 examplar\n",
      "Reduce size of class 7 to 0 examplar\n",
      "Reduce size of class 4 to 0 examplar\n",
      "Reduce size of class 9 to 0 examplar\n",
      "construct class 3 examplar:\n",
      "len(self.exemplar_dict[cls])=16\n",
      "construct class 1 examplar:\n",
      "len(self.exemplar_dict[cls])=16\n",
      "update_memory_after_train\n",
      "---------------------------- Task 4 -----------------------\n",
      "[16] Eval metrics for task 1 >> {'accuracy': 0.5609141954379766, 'loss': 0.0, 'std': 0.031140068127914977, 'EER': -1, 'EO': [0.7958412098298677, 0.950207468879668], 'DP': -1, 'accuracy_s0': 1.0, 'accuracy_s1': 0.12697566064523214, 'classwise_accuracy': {2: array([ 611, 1032]), 8: array([516, 974])}, 'DP_ingredients': {'class_pred_count_s0': {2: 503, 8: 492}, 'class_pred_count_s1': {0: 188, 1: 103, 8: 46, 2: 184, 5: 156, 3: 106, 6: 114, 7: 114}, 'class_pred_count': {0: 188, 1: 103, 2: 687, 8: 538, 5: 156, 3: 106, 6: 114, 7: 114}, 'count_s0': 995, 'count_s1': 1011, 'count': 2006}}\n",
      "[16] Eval metrics for task 2 >> {'accuracy': 0.5227117406405348, 'loss': 0.0, 'std': 0.015404851287716348, 'EER': -1, 'EO': [1.0, 0.9694117647058823], 'DP': -1, 'accuracy_s0': 1.0, 'accuracy_s1': 0.015294117647058824, 'classwise_accuracy': {6: array([486, 958]), 5: array([480, 892])}, 'DP_ingredients': {'class_pred_count_s0': {6: 486, 5: 467}, 'class_pred_count_s1': {2: 210, 0: 196, 3: 98, 8: 91, 6: 43, 5: 66, 7: 96, 1: 97}, 'class_pred_count': {6: 529, 5: 533, 2: 210, 0: 196, 3: 98, 8: 91, 7: 96, 1: 97}, 'count_s0': 953, 'count_s1': 897, 'count': 1850}}\n",
      "[16] Eval metrics for task 3 >> {'accuracy': 0.48640031404021455, 'loss': 0.0, 'std': 0.010629388930082445, 'EER': -1, 'EO': [1.0, 1.0], 'DP': -1, 'accuracy_s0': 1.0, 'accuracy_s1': 0.0, 'classwise_accuracy': {1: array([ 540, 1135]), 3: array([ 502, 1010])}, 'DP_ingredients': {'class_pred_count_s0': {1: 540, 3: 502}, 'class_pred_count_s1': {7: 112, 5: 159, 0: 252, 6: 137, 8: 104, 1: 60, 3: 58, 2: 221}, 'class_pred_count': {1: 600, 7: 112, 5: 159, 0: 252, 6: 137, 8: 104, 3: 560, 2: 221}, 'count_s0': 1042, 'count_s1': 1103, 'count': 2145}}\n",
      "[16] Eval metrics for task 4 >> {'accuracy': 0.53679226554435, 'loss': 0.0, 'std': 0.01830977527197647, 'EER': -1, 'EO': [0.8952772073921971, 1.0], 'DP': -1, 'accuracy_s0': 1.0, 'accuracy_s1': 0.052361396303901436, 'classwise_accuracy': {0: array([544, 980]), 7: array([ 533, 1028])}, 'DP_ingredients': {'class_pred_count_s0': {0: 493, 7: 533}, 'class_pred_count_s1': {0: 168, 8: 98, 2: 240, 3: 108, 5: 118, 6: 94, 7: 55, 1: 101}, 'class_pred_count': {0: 661, 8: 98, 2: 240, 3: 108, 7: 588, 5: 118, 6: 94, 1: 101}, 'count_s0': 1026, 'count_s1': 982, 'count': 2008}}\n",
      "[17] Eval metrics for task 1 >> {'accuracy': 0.5604008484153893, 'loss': 0.0, 'std': 0.03165341515050224, 'EER': -1, 'EO': [0.7958412098298677, 0.9522821576763485], 'DP': -1, 'accuracy_s0': 1.0, 'accuracy_s1': 0.1259383162468919, 'classwise_accuracy': {2: array([ 611, 1032]), 8: array([515, 974])}, 'DP_ingredients': {'class_pred_count_s0': {2: 503, 8: 492}, 'class_pred_count_s1': {2: 185, 0: 204, 6: 114, 7: 114, 8: 45, 5: 140, 1: 103, 3: 106}, 'class_pred_count': {2: 688, 8: 537, 0: 204, 6: 114, 7: 114, 5: 140, 1: 103, 3: 106}, 'count_s0': 995, 'count_s1': 1011, 'count': 2006}}\n",
      "[17] Eval metrics for task 2 >> {'accuracy': 0.5193485119409832, 'loss': 0.0, 'std': 0.012041622588164769, 'EER': -1, 'EO': [1.0, 0.9835294117647059], 'DP': -1, 'accuracy_s0': 1.0, 'accuracy_s1': 0.00823529411764706, 'classwise_accuracy': {6: array([486, 958]), 5: array([474, 892])}, 'DP_ingredients': {'class_pred_count_s0': {5: 467, 6: 486}, 'class_pred_count_s1': {0: 202, 5: 60, 2: 211, 6: 43, 1: 97, 7: 96, 3: 98, 8: 90}, 'class_pred_count': {0: 202, 5: 527, 2: 211, 6: 529, 1: 97, 7: 96, 3: 98, 8: 90}, 'count_s0': 953, 'count_s1': 897, 'count': 1850}}\n",
      "[17] Eval metrics for task 3 >> {'accuracy': 0.48640031404021455, 'loss': 0.0, 'std': 0.010629388930082445, 'EER': -1, 'EO': [1.0, 1.0], 'DP': -1, 'accuracy_s0': 1.0, 'accuracy_s1': 0.0, 'classwise_accuracy': {3: array([ 502, 1010]), 1: array([ 540, 1135])}, 'DP_ingredients': {'class_pred_count_s0': {1: 540, 3: 502}, 'class_pred_count_s1': {6: 137, 1: 60, 2: 222, 3: 58, 7: 112, 8: 103, 0: 262, 5: 149}, 'class_pred_count': {6: 137, 1: 600, 2: 222, 3: 560, 7: 112, 8: 103, 0: 262, 5: 149}, 'count_s0': 1042, 'count_s1': 1103, 'count': 2145}}\n",
      "[17] Eval metrics for task 4 >> {'accuracy': 0.5373024696259827, 'loss': 0.0, 'std': 0.01881997935360913, 'EER': -1, 'EO': [1.0, 0.893223819301848], 'DP': -1, 'accuracy_s0': 1.0, 'accuracy_s1': 0.053388090349075976, 'classwise_accuracy': {7: array([ 533, 1028]), 0: array([545, 980])}, 'DP_ingredients': {'class_pred_count_s0': {7: 533, 0: 493}, 'class_pred_count_s1': {2: 240, 7: 55, 3: 108, 0: 171, 5: 115, 6: 94, 8: 98, 1: 101}, 'class_pred_count': {7: 588, 2: 240, 0: 664, 3: 108, 5: 115, 6: 94, 8: 98, 1: 101}, 'count_s0': 1026, 'count_s1': 982, 'count': 2008}}\n",
      "[18] Eval metrics for task 1 >> {'accuracy': 0.559887501392802, 'loss': 0.0, 'std': 0.0321667621730895, 'EER': -1, 'EO': [0.9543568464730291, 0.7958412098298677], 'DP': -1, 'accuracy_s0': 1.0, 'accuracy_s1': 0.12490097184855165, 'classwise_accuracy': {8: array([514, 974]), 2: array([ 611, 1032])}, 'DP_ingredients': {'class_pred_count_s0': {8: 492, 2: 503}, 'class_pred_count_s1': {0: 209, 3: 106, 2: 186, 5: 135, 8: 44, 6: 114, 7: 114, 1: 103}, 'class_pred_count': {8: 536, 0: 209, 2: 689, 3: 106, 5: 135, 6: 114, 7: 114, 1: 103}, 'count_s0': 995, 'count_s1': 1011, 'count': 2006}}\n",
      "[18] Eval metrics for task 2 >> {'accuracy': 0.5182274357077994, 'loss': 0.0, 'std': 0.010920546354980909, 'EER': -1, 'EO': [1.0, 0.9882352941176471], 'DP': -1, 'accuracy_s0': 1.0, 'accuracy_s1': 0.0058823529411764705, 'classwise_accuracy': {6: array([486, 958]), 5: array([472, 892])}, 'DP_ingredients': {'class_pred_count_s0': {5: 467, 6: 486}, 'class_pred_count_s1': {0: 204, 7: 96, 2: 211, 1: 97, 6: 43, 8: 90, 5: 58, 3: 98}, 'class_pred_count': {0: 204, 5: 525, 6: 529, 7: 96, 2: 211, 1: 97, 8: 90, 3: 98}, 'count_s0': 953, 'count_s1': 897, 'count': 1850}}\n",
      "[18] Eval metrics for task 3 >> {'accuracy': 0.48640031404021455, 'loss': 0.0, 'std': 0.010629388930082445, 'EER': -1, 'EO': [1.0, 1.0], 'DP': -1, 'accuracy_s0': 1.0, 'accuracy_s1': 0.0, 'classwise_accuracy': {1: array([ 540, 1135]), 3: array([ 502, 1010])}, 'DP_ingredients': {'class_pred_count_s0': {1: 540, 3: 502}, 'class_pred_count_s1': {6: 137, 1: 60, 5: 143, 0: 268, 7: 112, 8: 103, 2: 222, 3: 58}, 'class_pred_count': {1: 600, 6: 137, 5: 143, 0: 268, 7: 112, 3: 560, 8: 103, 2: 222}, 'count_s0': 1042, 'count_s1': 1103, 'count': 2145}}\n",
      "[18] Eval metrics for task 4 >> {'accuracy': 0.5373024696259827, 'loss': 0.0, 'std': 0.01881997935360913, 'EER': -1, 'EO': [1.0, 0.893223819301848], 'DP': -1, 'accuracy_s0': 1.0, 'accuracy_s1': 0.053388090349075976, 'classwise_accuracy': {7: array([ 533, 1028]), 0: array([545, 980])}, 'DP_ingredients': {'class_pred_count_s0': {7: 533, 0: 493}, 'class_pred_count_s1': {0: 171, 8: 96, 2: 242, 3: 108, 1: 101, 5: 115, 6: 94, 7: 55}, 'class_pred_count': {0: 664, 7: 588, 8: 96, 2: 242, 3: 108, 1: 101, 5: 115, 6: 94}, 'count_s0': 1026, 'count_s1': 982, 'count': 2008}}\n",
      "[19] Eval metrics for task 1 >> {'accuracy': 0.559887501392802, 'loss': 0.0, 'std': 0.0321667621730895, 'EER': -1, 'EO': [0.9543568464730291, 0.7958412098298677], 'DP': -1, 'accuracy_s0': 1.0, 'accuracy_s1': 0.12490097184855165, 'classwise_accuracy': {8: array([514, 974]), 2: array([ 611, 1032])}, 'DP_ingredients': {'class_pred_count_s0': {8: 492, 2: 503}, 'class_pred_count_s1': {0: 211, 6: 114, 3: 106, 1: 103, 2: 186, 8: 44, 5: 133, 7: 114}, 'class_pred_count': {0: 211, 8: 536, 6: 114, 3: 106, 1: 103, 2: 689, 5: 133, 7: 114}, 'count_s0': 995, 'count_s1': 1011, 'count': 2006}}\n",
      "[19] Eval metrics for task 2 >> {'accuracy': 0.5182274357077994, 'loss': 0.0, 'std': 0.010920546354980909, 'EER': -1, 'EO': [0.9882352941176471, 1.0], 'DP': -1, 'accuracy_s0': 1.0, 'accuracy_s1': 0.0058823529411764705, 'classwise_accuracy': {5: array([472, 892]), 6: array([486, 958])}, 'DP_ingredients': {'class_pred_count_s0': {5: 467, 6: 486}, 'class_pred_count_s1': {8: 90, 2: 211, 7: 96, 3: 98, 1: 97, 0: 204, 6: 43, 5: 58}, 'class_pred_count': {5: 525, 8: 90, 2: 211, 6: 529, 7: 96, 3: 98, 1: 97, 0: 204}, 'count_s0': 953, 'count_s1': 897, 'count': 1850}}\n",
      "[19] Eval metrics for task 3 >> {'accuracy': 0.48640031404021455, 'loss': 0.0, 'std': 0.010629388930082445, 'EER': -1, 'EO': [1.0, 1.0], 'DP': -1, 'accuracy_s0': 1.0, 'accuracy_s1': 0.0, 'classwise_accuracy': {3: array([ 502, 1010]), 1: array([ 540, 1135])}, 'DP_ingredients': {'class_pred_count_s0': {3: 502, 1: 540}, 'class_pred_count_s1': {2: 222, 6: 137, 7: 112, 8: 103, 5: 143, 0: 268, 1: 60, 3: 58}, 'class_pred_count': {3: 560, 2: 222, 1: 600, 6: 137, 7: 112, 8: 103, 5: 143, 0: 268}, 'count_s0': 1042, 'count_s1': 1103, 'count': 2145}}\n",
      "[19] Eval metrics for task 4 >> {'accuracy': 0.5373024696259827, 'loss': 0.0, 'std': 0.01881997935360913, 'EER': -1, 'EO': [1.0, 0.893223819301848], 'DP': -1, 'accuracy_s0': 1.0, 'accuracy_s1': 0.053388090349075976, 'classwise_accuracy': {7: array([ 533, 1028]), 0: array([545, 980])}, 'DP_ingredients': {'class_pred_count_s0': {7: 533, 0: 493}, 'class_pred_count_s1': {2: 242, 7: 55, 1: 101, 3: 108, 0: 171, 6: 94, 5: 115, 8: 96}, 'class_pred_count': {2: 242, 7: 588, 0: 664, 1: 101, 3: 108, 6: 94, 5: 115, 8: 96}, 'count_s0': 1026, 'count_s1': 982, 'count': 2008}}\n",
      "[20] Eval metrics for task 1 >> {'accuracy': 0.559887501392802, 'loss': 0.0, 'std': 0.0321667621730895, 'EER': -1, 'EO': [0.7958412098298677, 0.9543568464730291], 'DP': -1, 'accuracy_s0': 1.0, 'accuracy_s1': 0.12490097184855165, 'classwise_accuracy': {2: array([ 611, 1032]), 8: array([514, 974])}, 'DP_ingredients': {'class_pred_count_s0': {2: 503, 8: 492}, 'class_pred_count_s1': {3: 106, 5: 134, 1: 103, 0: 210, 7: 114, 6: 114, 2: 186, 8: 44}, 'class_pred_count': {3: 106, 2: 689, 5: 134, 1: 103, 0: 210, 8: 536, 7: 114, 6: 114}, 'count_s0': 995, 'count_s1': 1011, 'count': 2006}}\n",
      "[20] Eval metrics for task 2 >> {'accuracy': 0.5187879738243912, 'loss': 0.0, 'std': 0.011481084471572867, 'EER': -1, 'EO': [0.9858823529411764, 1.0], 'DP': -1, 'accuracy_s0': 1.0, 'accuracy_s1': 0.007058823529411765, 'classwise_accuracy': {5: array([473, 892]), 6: array([486, 958])}, 'DP_ingredients': {'class_pred_count_s0': {6: 486, 5: 467}, 'class_pred_count_s1': {8: 90, 2: 211, 6: 43, 0: 203, 7: 96, 5: 59, 3: 98, 1: 97}, 'class_pred_count': {8: 90, 6: 529, 5: 526, 2: 211, 0: 203, 7: 96, 3: 98, 1: 97}, 'count_s0': 953, 'count_s1': 897, 'count': 1850}}\n",
      "[20] Eval metrics for task 3 >> {'accuracy': 0.48640031404021455, 'loss': 0.0, 'std': 0.010629388930082445, 'EER': -1, 'EO': [1.0, 1.0], 'DP': -1, 'accuracy_s0': 1.0, 'accuracy_s1': 0.0, 'classwise_accuracy': {1: array([ 540, 1135]), 3: array([ 502, 1010])}, 'DP_ingredients': {'class_pred_count_s0': {1: 540, 3: 502}, 'class_pred_count_s1': {0: 266, 8: 103, 2: 222, 3: 58, 6: 137, 5: 145, 7: 112, 1: 60}, 'class_pred_count': {1: 600, 0: 266, 3: 560, 8: 103, 2: 222, 6: 137, 5: 145, 7: 112}, 'count_s0': 1042, 'count_s1': 1103, 'count': 2145}}\n",
      "[20] Eval metrics for task 4 >> {'accuracy': 0.5373024696259827, 'loss': 0.0, 'std': 0.01881997935360913, 'EER': -1, 'EO': [0.893223819301848, 1.0], 'DP': -1, 'accuracy_s0': 1.0, 'accuracy_s1': 0.053388090349075976, 'classwise_accuracy': {0: array([545, 980]), 7: array([ 533, 1028])}, 'DP_ingredients': {'class_pred_count_s0': {7: 533, 0: 493}, 'class_pred_count_s1': {5: 115, 7: 55, 0: 171, 2: 244, 3: 108, 1: 101, 6: 94, 8: 94}, 'class_pred_count': {5: 115, 7: 588, 0: 664, 2: 244, 3: 108, 1: 101, 6: 94, 8: 94}, 'count_s0': 1026, 'count_s1': 982, 'count': 2008}}\n",
      "Reduce size of class 8 to 12 examplar\n",
      "Reduce size of class 2 to 12 examplar\n",
      "Reduce size of class 5 to 12 examplar\n",
      "Reduce size of class 6 to 12 examplar\n",
      "Reduce size of class 3 to 12 examplar\n",
      "Reduce size of class 1 to 12 examplar\n",
      "Reduce size of class 0 to 0 examplar\n",
      "Reduce size of class 7 to 0 examplar\n",
      "Reduce size of class 4 to 0 examplar\n",
      "Reduce size of class 9 to 0 examplar\n",
      "construct class 0 examplar:\n",
      "len(self.exemplar_dict[cls])=12\n",
      "construct class 7 examplar:\n",
      "len(self.exemplar_dict[cls])=12\n",
      "update_memory_after_train\n",
      "---------------------------- Task 5 -----------------------\n",
      "[21] Eval metrics for task 1 >> {'accuracy': 0.5243750298457571, 'loss': 0.0, 'std': 0.0017877608519173416, 'EER': -1, 'EO': [0.9647302904564315, 0.9243856332703213], 'DP': -1, 'accuracy_s0': 1.0, 'accuracy_s1': 0.05544203813662355, 'classwise_accuracy': {8: array([509, 974]), 2: array([ 543, 1032])}, 'DP_ingredients': {'class_pred_count_s0': {2: 503, 8: 492}, 'class_pred_count_s1': {9: 82, 6: 114, 2: 75, 3: 106, 4: 114, 1: 103, 0: 137, 8: 40, 5: 126, 7: 114}, 'class_pred_count': {9: 82, 2: 578, 6: 114, 8: 532, 3: 106, 4: 114, 1: 103, 0: 137, 5: 126, 7: 114}, 'count_s0': 995, 'count_s1': 1011, 'count': 2006}}\n",
      "[21] Eval metrics for task 2 >> {'accuracy': 0.5154247451248397, 'loss': 0.0, 'std': 0.008117855772021287, 'EER': -1, 'EO': [1.0, 1.0], 'DP': -1, 'accuracy_s0': 1.0, 'accuracy_s1': 0.0, 'classwise_accuracy': {5: array([467, 892]), 6: array([486, 958])}, 'DP_ingredients': {'class_pred_count_s0': {5: 467, 6: 486}, 'class_pred_count_s1': {3: 98, 0: 124, 4: 126, 5: 53, 2: 86, 1: 97, 9: 85, 8: 89, 7: 96, 6: 43}, 'class_pred_count': {5: 520, 3: 98, 0: 124, 4: 126, 6: 529, 2: 86, 1: 97, 9: 85, 8: 89, 7: 96}, 'count_s0': 953, 'count_s1': 897, 'count': 1850}}\n",
      "[21] Eval metrics for task 3 >> {'accuracy': 0.48640031404021455, 'loss': 0.0, 'std': 0.010629388930082445, 'EER': -1, 'EO': [1.0, 1.0], 'DP': -1, 'accuracy_s0': 1.0, 'accuracy_s1': 0.0, 'classwise_accuracy': {1: array([ 540, 1135]), 3: array([ 502, 1010])}, 'DP_ingredients': {'class_pred_count_s0': {1: 540, 3: 502}, 'class_pred_count_s1': {6: 137, 4: 108, 8: 102, 0: 141, 7: 112, 2: 115, 1: 60, 9: 128, 5: 142, 3: 58}, 'class_pred_count': {1: 600, 3: 560, 6: 137, 4: 108, 8: 102, 0: 141, 7: 112, 2: 115, 9: 128, 5: 142}, 'count_s0': 1042, 'count_s1': 1103, 'count': 2145}}\n",
      "[21] Eval metrics for task 4 >> {'accuracy': 0.528118796156595, 'loss': 0.0, 'std': 0.009636305884221374, 'EER': -1, 'EO': [0.9301848049281314, 1.0], 'DP': -1, 'accuracy_s0': 1.0, 'accuracy_s1': 0.03490759753593429, 'classwise_accuracy': {0: array([527, 980]), 7: array([ 533, 1028])}, 'DP_ingredients': {'class_pred_count_s0': {0: 493, 7: 533}, 'class_pred_count_s1': {2: 130, 1: 101, 6: 94, 8: 95, 5: 115, 3: 108, 7: 55, 4: 113, 0: 89, 9: 82}, 'class_pred_count': {0: 582, 7: 588, 2: 130, 1: 101, 6: 94, 8: 95, 5: 115, 3: 108, 4: 113, 9: 82}, 'count_s0': 1026, 'count_s1': 982, 'count': 2008}}\n",
      "[21] Eval metrics for task 5 >> {'accuracy': 0.5051486721340925, 'loss': 0.0, 'std': 0.009221991889693387, 'EER': -1, 'EO': [1.0, 0.9829545454545454], 'DP': -1, 'accuracy_s0': 0.9914772727272727, 'accuracy_s1': 0.0, 'classwise_accuracy': {4: array([487, 982]), 9: array([ 519, 1009])}, 'DP_ingredients': {'class_pred_count_s0': {4: 487, 9: 519, 0: 9}, 'class_pred_count_s1': {1: 108, 3: 115, 8: 100, 9: 58, 7: 106, 2: 115, 6: 124, 0: 94, 5: 117, 4: 39}, 'class_pred_count': {1: 108, 3: 115, 8: 100, 9: 577, 4: 526, 7: 106, 2: 115, 6: 124, 0: 103, 5: 117}, 'count_s0': 1015, 'count_s1': 976, 'count': 1991}}\n",
      "[22] Eval metrics for task 1 >> {'accuracy': 0.5223793435525206, 'loss': 0.0, 'std': 0.0018454626490298498, 'EER': -1, 'EO': [0.9281663516068053, 0.9688796680497925], 'DP': -1, 'accuracy_s0': 1.0, 'accuracy_s1': 0.05147699017170109, 'classwise_accuracy': {2: array([ 541, 1032]), 8: array([507, 974])}, 'DP_ingredients': {'class_pred_count_s0': {2: 503, 8: 492}, 'class_pred_count_s1': {5: 126, 6: 114, 3: 106, 2: 76, 7: 114, 0: 131, 8: 40, 9: 88, 4: 113, 1: 103}, 'class_pred_count': {2: 579, 5: 126, 6: 114, 3: 106, 8: 532, 7: 114, 0: 131, 9: 88, 4: 113, 1: 103}, 'count_s0': 995, 'count_s1': 1011, 'count': 2006}}\n",
      "[22] Eval metrics for task 2 >> {'accuracy': 0.5154247451248397, 'loss': 0.0, 'std': 0.008117855772021287, 'EER': -1, 'EO': [1.0, 1.0], 'DP': -1, 'accuracy_s0': 1.0, 'accuracy_s1': 0.0, 'classwise_accuracy': {6: array([486, 958]), 5: array([467, 892])}, 'DP_ingredients': {'class_pred_count_s0': {6: 486, 5: 467}, 'class_pred_count_s1': {2: 89, 3: 98, 9: 87, 8: 86, 1: 97, 4: 126, 5: 53, 7: 96, 0: 122, 6: 43}, 'class_pred_count': {2: 89, 3: 98, 6: 529, 5: 520, 9: 87, 8: 86, 1: 97, 4: 126, 7: 96, 0: 122}, 'count_s0': 953, 'count_s1': 897, 'count': 1850}}\n",
      "[22] Eval metrics for task 3 >> {'accuracy': 0.48640031404021455, 'loss': 0.0, 'std': 0.010629388930082445, 'EER': -1, 'EO': [1.0, 1.0], 'DP': -1, 'accuracy_s0': 1.0, 'accuracy_s1': 0.0, 'classwise_accuracy': {1: array([ 540, 1135]), 3: array([ 502, 1010])}, 'DP_ingredients': {'class_pred_count_s0': {1: 540, 3: 502}, 'class_pred_count_s1': {3: 58, 4: 108, 6: 137, 9: 128, 8: 101, 7: 112, 5: 142, 2: 116, 0: 141, 1: 60}, 'class_pred_count': {3: 560, 4: 108, 6: 137, 9: 128, 1: 600, 8: 101, 7: 112, 5: 142, 2: 116, 0: 141}, 'count_s0': 1042, 'count_s1': 1103, 'count': 2145}}\n",
      "[22] Eval metrics for task 4 >> {'accuracy': 0.5291392043198603, 'loss': 0.0, 'std': 0.010656714047486693, 'EER': -1, 'EO': [0.9260780287474333, 1.0], 'DP': -1, 'accuracy_s0': 1.0, 'accuracy_s1': 0.03696098562628337, 'classwise_accuracy': {0: array([529, 980]), 7: array([ 533, 1028])}, 'DP_ingredients': {'class_pred_count_s0': {0: 493, 7: 533}, 'class_pred_count_s1': {1: 101, 8: 94, 3: 108, 6: 94, 5: 115, 4: 113, 7: 55, 2: 131, 9: 80, 0: 91}, 'class_pred_count': {1: 101, 8: 94, 3: 108, 6: 94, 0: 584, 5: 115, 7: 588, 4: 113, 2: 131, 9: 80}, 'count_s0': 1026, 'count_s1': 982, 'count': 2008}}\n",
      "[22] Eval metrics for task 5 >> {'accuracy': 0.5066352925503462, 'loss': 0.0, 'std': 0.01070861230594708, 'EER': -1, 'EO': [1.0, 0.9886363636363636], 'DP': -1, 'accuracy_s0': 0.9943181818181819, 'accuracy_s1': 0.0, 'classwise_accuracy': {4: array([487, 982]), 9: array([ 522, 1009])}, 'DP_ingredients': {'class_pred_count_s0': {9: 522, 4: 487, 0: 6}, 'class_pred_count_s1': {2: 116, 8: 99, 5: 117, 6: 124, 3: 115, 0: 94, 9: 58, 4: 39, 7: 106, 1: 108}, 'class_pred_count': {2: 116, 8: 99, 9: 580, 4: 526, 5: 117, 6: 124, 3: 115, 0: 100, 7: 106, 1: 108}, 'count_s0': 1015, 'count_s1': 976, 'count': 1991}}\n",
      "[23] Eval metrics for task 1 >> {'accuracy': 0.5193858141126657, 'loss': 0.0, 'std': 0.0019320153446986121, 'EER': -1, 'EO': [0.975103734439834, 0.9338374291115312], 'DP': -1, 'accuracy_s0': 1.0, 'accuracy_s1': 0.045529418224317386, 'classwise_accuracy': {8: array([504, 974]), 2: array([ 538, 1032])}, 'DP_ingredients': {'class_pred_count_s0': {8: 492, 2: 503}, 'class_pred_count_s1': {8: 40, 0: 129, 5: 126, 1: 103, 7: 114, 3: 106, 2: 75, 4: 114, 6: 114, 9: 90}, 'class_pred_count': {8: 532, 0: 129, 2: 578, 5: 126, 1: 103, 7: 114, 3: 106, 4: 114, 6: 114, 9: 90}, 'count_s0': 995, 'count_s1': 1011, 'count': 2006}}\n",
      "[23] Eval metrics for task 2 >> {'accuracy': 0.5154247451248397, 'loss': 0.0, 'std': 0.008117855772021287, 'EER': -1, 'EO': [1.0, 1.0], 'DP': -1, 'accuracy_s0': 1.0, 'accuracy_s1': 0.0, 'classwise_accuracy': {6: array([486, 958]), 5: array([467, 892])}, 'DP_ingredients': {'class_pred_count_s0': {6: 486, 5: 467}, 'class_pred_count_s1': {1: 97, 4: 126, 7: 96, 0: 121, 2: 90, 9: 88, 6: 43, 3: 98, 8: 85, 5: 53}, 'class_pred_count': {6: 529, 5: 520, 1: 97, 4: 126, 7: 96, 0: 121, 2: 90, 9: 88, 3: 98, 8: 85}, 'count_s0': 953, 'count_s1': 897, 'count': 1850}}\n",
      "[23] Eval metrics for task 3 >> {'accuracy': 0.48640031404021455, 'loss': 0.0, 'std': 0.010629388930082445, 'EER': -1, 'EO': [1.0, 1.0], 'DP': -1, 'accuracy_s0': 1.0, 'accuracy_s1': 0.0, 'classwise_accuracy': {3: array([ 502, 1010]), 1: array([ 540, 1135])}, 'DP_ingredients': {'class_pred_count_s0': {3: 502, 1: 540}, 'class_pred_count_s1': {5: 142, 9: 128, 3: 58, 1: 60, 7: 112, 0: 141, 4: 108, 2: 118, 8: 99, 6: 137}, 'class_pred_count': {5: 142, 9: 128, 3: 560, 1: 600, 7: 112, 0: 141, 4: 108, 2: 118, 8: 99, 6: 137}, 'count_s0': 1042, 'count_s1': 1103, 'count': 2145}}\n",
      "[23] Eval metrics for task 4 >> {'accuracy': 0.5286290002382277, 'loss': 0.0, 'std': 0.010146509965854034, 'EER': -1, 'EO': [0.9281314168377823, 1.0], 'DP': -1, 'accuracy_s0': 1.0, 'accuracy_s1': 0.03593429158110883, 'classwise_accuracy': {0: array([528, 980]), 7: array([ 533, 1028])}, 'DP_ingredients': {'class_pred_count_s0': {7: 533, 0: 493}, 'class_pred_count_s1': {4: 113, 5: 115, 0: 90, 8: 94, 2: 131, 6: 94, 9: 81, 7: 55, 1: 101, 3: 108}, 'class_pred_count': {4: 113, 7: 588, 5: 115, 0: 583, 8: 94, 2: 131, 6: 94, 9: 81, 1: 101, 3: 108}, 'count_s0': 1026, 'count_s1': 982, 'count': 2008}}\n",
      "[23] Eval metrics for task 5 >> {'accuracy': 0.5081219129666, 'loss': 0.0, 'std': 0.012195232722200827, 'EER': -1, 'EO': [0.9943181818181818, 1.0], 'DP': -1, 'accuracy_s0': 0.9971590909090908, 'accuracy_s1': 0.0, 'classwise_accuracy': {9: array([ 525, 1009]), 4: array([487, 982])}, 'DP_ingredients': {'class_pred_count_s0': {9: 525, 4: 487, 0: 3}, 'class_pred_count_s1': {1: 108, 9: 58, 6: 124, 7: 106, 0: 94, 8: 99, 4: 39, 5: 117, 3: 115, 2: 116}, 'class_pred_count': {9: 583, 1: 108, 6: 124, 7: 106, 4: 526, 0: 97, 8: 99, 5: 117, 3: 115, 2: 116}, 'count_s0': 1015, 'count_s1': 976, 'count': 1991}}\n",
      "[24] Eval metrics for task 1 >> {'accuracy': 0.5189013179886348, 'loss': 0.0, 'std': 0.0014475192206676035, 'EER': -1, 'EO': [0.975103734439834, 0.9357277882797732], 'DP': -1, 'accuracy_s0': 1.0, 'accuracy_s1': 0.04458423864019641, 'classwise_accuracy': {8: array([504, 974]), 2: array([ 537, 1032])}, 'DP_ingredients': {'class_pred_count_s0': {8: 492, 2: 503}, 'class_pred_count_s1': {3: 106, 9: 90, 7: 114, 1: 103, 4: 116, 6: 114, 5: 126, 0: 129, 2: 72, 8: 41}, 'class_pred_count': {8: 533, 3: 106, 9: 90, 2: 575, 7: 114, 1: 103, 4: 116, 6: 114, 5: 126, 0: 129}, 'count_s0': 995, 'count_s1': 1011, 'count': 2006}}\n",
      "[24] Eval metrics for task 2 >> {'accuracy': 0.5154247451248397, 'loss': 0.0, 'std': 0.008117855772021287, 'EER': -1, 'EO': [1.0, 1.0], 'DP': -1, 'accuracy_s0': 1.0, 'accuracy_s1': 0.0, 'classwise_accuracy': {6: array([486, 958]), 5: array([467, 892])}, 'DP_ingredients': {'class_pred_count_s0': {6: 486, 5: 467}, 'class_pred_count_s1': {1: 97, 5: 53, 9: 88, 7: 96, 4: 126, 3: 98, 2: 90, 8: 85, 0: 121, 6: 43}, 'class_pred_count': {6: 529, 5: 520, 1: 97, 9: 88, 7: 96, 4: 126, 3: 98, 2: 90, 8: 85, 0: 121}, 'count_s0': 953, 'count_s1': 897, 'count': 1850}}\n",
      "[24] Eval metrics for task 3 >> {'accuracy': 0.48640031404021455, 'loss': 0.0, 'std': 0.010629388930082445, 'EER': -1, 'EO': [1.0, 1.0], 'DP': -1, 'accuracy_s0': 1.0, 'accuracy_s1': 0.0, 'classwise_accuracy': {1: array([ 540, 1135]), 3: array([ 502, 1010])}, 'DP_ingredients': {'class_pred_count_s0': {1: 540, 3: 502}, 'class_pred_count_s1': {9: 128, 3: 58, 8: 99, 4: 108, 6: 137, 2: 118, 7: 112, 1: 60, 5: 142, 0: 141}, 'class_pred_count': {9: 128, 1: 600, 3: 560, 8: 99, 4: 108, 6: 137, 2: 118, 7: 112, 5: 142, 0: 141}, 'count_s0': 1042, 'count_s1': 1103, 'count': 2145}}\n",
      "[24] Eval metrics for task 4 >> {'accuracy': 0.528118796156595, 'loss': 0.0, 'std': 0.009636305884221374, 'EER': -1, 'EO': [1.0, 0.9301848049281314], 'DP': -1, 'accuracy_s0': 1.0, 'accuracy_s1': 0.03490759753593429, 'classwise_accuracy': {7: array([ 533, 1028]), 0: array([527, 980])}, 'DP_ingredients': {'class_pred_count_s0': {7: 533, 0: 493}, 'class_pred_count_s1': {3: 108, 9: 82, 8: 94, 5: 115, 2: 131, 0: 89, 4: 113, 1: 101, 7: 55, 6: 94}, 'class_pred_count': {7: 588, 3: 108, 9: 82, 8: 94, 0: 582, 5: 115, 2: 131, 4: 113, 1: 101, 6: 94}, 'count_s0': 1026, 'count_s1': 982, 'count': 2008}}\n",
      "[24] Eval metrics for task 5 >> {'accuracy': 0.5081219129666, 'loss': 0.0, 'std': 0.012195232722200827, 'EER': -1, 'EO': [1.0, 0.9943181818181818], 'DP': -1, 'accuracy_s0': 0.9971590909090908, 'accuracy_s1': 0.0, 'classwise_accuracy': {4: array([487, 982]), 9: array([ 525, 1009])}, 'DP_ingredients': {'class_pred_count_s0': {4: 487, 9: 525, 0: 3}, 'class_pred_count_s1': {1: 108, 6: 124, 8: 99, 3: 115, 5: 117, 4: 39, 0: 94, 2: 116, 7: 106, 9: 58}, 'class_pred_count': {4: 526, 9: 583, 1: 108, 6: 124, 8: 99, 3: 115, 5: 117, 0: 97, 2: 116, 7: 106}, 'count_s0': 1015, 'count_s1': 976, 'count': 1991}}\n",
      "[25] Eval metrics for task 1 >> {'accuracy': 0.5189013179886348, 'loss': 0.0, 'std': 0.0014475192206676035, 'EER': -1, 'EO': [0.9357277882797732, 0.975103734439834], 'DP': -1, 'accuracy_s0': 1.0, 'accuracy_s1': 0.04458423864019641, 'classwise_accuracy': {2: array([ 537, 1032]), 8: array([504, 974])}, 'DP_ingredients': {'class_pred_count_s0': {2: 503, 8: 492}, 'class_pred_count_s1': {9: 90, 0: 129, 1: 103, 6: 114, 2: 72, 3: 106, 4: 116, 5: 126, 7: 114, 8: 41}, 'class_pred_count': {2: 575, 8: 533, 9: 90, 0: 129, 1: 103, 6: 114, 3: 106, 4: 116, 5: 126, 7: 114}, 'count_s0': 995, 'count_s1': 1011, 'count': 2006}}\n",
      "[25] Eval metrics for task 2 >> {'accuracy': 0.5154247451248397, 'loss': 0.0, 'std': 0.008117855772021287, 'EER': -1, 'EO': [1.0, 1.0], 'DP': -1, 'accuracy_s0': 1.0, 'accuracy_s1': 0.0, 'classwise_accuracy': {5: array([467, 892]), 6: array([486, 958])}, 'DP_ingredients': {'class_pred_count_s0': {5: 467, 6: 486}, 'class_pred_count_s1': {0: 120, 4: 125, 3: 98, 1: 97, 7: 96, 9: 89, 8: 86, 2: 90, 5: 53, 6: 43}, 'class_pred_count': {5: 520, 6: 529, 0: 120, 4: 125, 3: 98, 1: 97, 7: 96, 9: 89, 8: 86, 2: 90}, 'count_s0': 953, 'count_s1': 897, 'count': 1850}}\n",
      "[25] Eval metrics for task 3 >> {'accuracy': 0.48640031404021455, 'loss': 0.0, 'std': 0.010629388930082445, 'EER': -1, 'EO': [1.0, 1.0], 'DP': -1, 'accuracy_s0': 1.0, 'accuracy_s1': 0.0, 'classwise_accuracy': {3: array([ 502, 1010]), 1: array([ 540, 1135])}, 'DP_ingredients': {'class_pred_count_s0': {1: 540, 3: 502}, 'class_pred_count_s1': {6: 137, 3: 58, 0: 141, 8: 99, 2: 118, 9: 128, 7: 112, 4: 108, 5: 142, 1: 60}, 'class_pred_count': {6: 137, 1: 600, 3: 560, 0: 141, 8: 99, 2: 118, 9: 128, 7: 112, 4: 108, 5: 142}, 'count_s0': 1042, 'count_s1': 1103, 'count': 2145}}\n",
      "[25] Eval metrics for task 4 >> {'accuracy': 0.5276085920749622, 'loss': 0.0, 'std': 0.009126101802588715, 'EER': -1, 'EO': [0.9322381930184804, 1.0], 'DP': -1, 'accuracy_s0': 1.0, 'accuracy_s1': 0.033880903490759756, 'classwise_accuracy': {0: array([526, 980]), 7: array([ 533, 1028])}, 'DP_ingredients': {'class_pred_count_s0': {0: 493, 7: 533}, 'class_pred_count_s1': {6: 94, 1: 101, 4: 113, 5: 115, 2: 131, 3: 108, 0: 88, 9: 83, 8: 94, 7: 55}, 'class_pred_count': {0: 581, 6: 94, 1: 101, 4: 113, 5: 115, 2: 131, 3: 108, 7: 588, 9: 83, 8: 94}, 'count_s0': 1026, 'count_s1': 982, 'count': 2008}}\n",
      "[25] Eval metrics for task 5 >> {'accuracy': 0.5081219129666, 'loss': 0.0, 'std': 0.012195232722200827, 'EER': -1, 'EO': [1.0, 0.9943181818181818], 'DP': -1, 'accuracy_s0': 0.9971590909090908, 'accuracy_s1': 0.0, 'classwise_accuracy': {4: array([487, 982]), 9: array([ 525, 1009])}, 'DP_ingredients': {'class_pred_count_s0': {4: 487, 9: 525, 0: 3}, 'class_pred_count_s1': {1: 108, 0: 94, 7: 106, 6: 124, 3: 115, 2: 117, 5: 117, 8: 98, 9: 58, 4: 39}, 'class_pred_count': {1: 108, 4: 526, 0: 97, 9: 583, 7: 106, 6: 124, 3: 115, 2: 117, 5: 117, 8: 98}, 'count_s0': 1015, 'count_s1': 976, 'count': 1991}}\n",
      "Reduce size of class 8 to 10 examplar\n",
      "Reduce size of class 2 to 10 examplar\n",
      "Reduce size of class 5 to 10 examplar\n",
      "Reduce size of class 6 to 10 examplar\n",
      "Reduce size of class 3 to 10 examplar\n",
      "Reduce size of class 1 to 10 examplar\n",
      "Reduce size of class 0 to 10 examplar\n",
      "Reduce size of class 7 to 10 examplar\n",
      "Reduce size of class 4 to 0 examplar\n",
      "Reduce size of class 9 to 0 examplar\n",
      "construct class 4 examplar:\n",
      "len(self.exemplar_dict[cls])=10\n",
      "construct class 9 examplar:\n",
      "len(self.exemplar_dict[cls])=10\n",
      "update_memory_after_train\n",
      "final avg-acc 0.5112913764390503\n",
      "final avg-forget 0.09877972276764313\n"
     ]
    }
   ],
   "source": [
    "trainer.run()\n",
    "print(\"final avg-acc\", metric_manager_callback.meters['accuracy'].compute_final())\n",
    "print(\"final avg-forget\", metric_manager_callback.meters['forgetting'].compute_final())"
   ]
  },
  {
   "cell_type": "code",
   "execution_count": 8,
   "id": "beaf952b",
   "metadata": {},
   "outputs": [
    {
     "data": {
      "text/plain": [
       "array([[0.815, 0.   , 0.   , 0.   , 0.   ],\n",
       "       [0.676, 0.604, 0.   , 0.   , 0.   ],\n",
       "       [0.61 , 0.574, 0.486, 0.   , 0.   ],\n",
       "       [0.56 , 0.519, 0.486, 0.537, 0.   ],\n",
       "       [0.519, 0.515, 0.486, 0.528, 0.508]])"
      ]
     },
     "execution_count": 8,
     "metadata": {},
     "output_type": "execute_result"
    }
   ],
   "source": [
    "metric_manager_callback.meters['accuracy'].get_data()"
   ]
  },
  {
   "cell_type": "code",
   "execution_count": null,
   "id": "26972f73",
   "metadata": {},
   "outputs": [
    {
     "data": {
      "text/plain": [
       "[0.03727138150040593,\n",
       " 0.03517587226968666,\n",
       " 0.07032850022082138,\n",
       " 0.08288781294947618,\n",
       " 0.09570917188363709]"
      ]
     },
     "execution_count": 9,
     "metadata": {},
     "output_type": "execute_result"
    }
   ],
   "source": [
    "np.mean(metric_manager_callback.meters['accuracy'].compute_overall())"
   ]
  },
  {
   "cell_type": "code",
   "execution_count": null,
   "id": "e950fb61",
   "metadata": {},
   "outputs": [],
   "source": [
    "[np.round(x, 3) for x in metric_manager_callback.meters['EO'].compute_overall()]"
   ]
  },
  {
   "cell_type": "code",
   "execution_count": null,
   "id": "2ebfb58a",
   "metadata": {},
   "outputs": [
    {
     "data": {
      "text/plain": [
       "[0.0,\n",
       " 0.0029377586790896304,\n",
       " 0.02922144834681062,\n",
       " 0.04689474638930541,\n",
       " 0.056992683670983445]"
      ]
     },
     "execution_count": 10,
     "metadata": {},
     "output_type": "execute_result"
    }
   ],
   "source": [
    "np.mean(metric_manager_callback.meters['EO'].compute_overall())"
   ]
  },
  {
   "cell_type": "code",
   "execution_count": null,
   "id": "2b848e47",
   "metadata": {},
   "outputs": [],
   "source": [
    "[np.round(x, 3) for x in metric_manager_callback.meters['DP'].compute_overall()]"
   ]
  },
  {
   "cell_type": "code",
   "execution_count": null,
   "id": "db4292ea",
   "metadata": {},
   "outputs": [],
   "source": [
    "np.mean(metric_manager_callback.meters['DP'].compute_overall())"
   ]
  },
  {
   "cell_type": "code",
   "execution_count": null,
   "id": "91315790",
   "metadata": {},
   "outputs": [],
   "source": []
  },
  {
   "cell_type": "code",
   "execution_count": null,
   "id": "04933062",
   "metadata": {},
   "outputs": [],
   "source": []
  }
 ],
 "metadata": {
  "kernelspec": {
   "display_name": "cil",
   "language": "python",
   "name": "python3"
  },
  "language_info": {
   "codemirror_mode": {
    "name": "ipython",
    "version": 3
   },
   "file_extension": ".py",
   "mimetype": "text/x-python",
   "name": "python",
   "nbconvert_exporter": "python",
   "pygments_lexer": "ipython3",
   "version": "3.9.18"
  }
 },
 "nbformat": 4,
 "nbformat_minor": 5
}
