{
 "cells": [
  {
   "cell_type": "code",
   "execution_count": 1,
   "id": "b0c3b92f",
   "metadata": {},
   "outputs": [
    {
     "name": "stdout",
     "output_type": "stream",
     "text": [
      "output_dir=./outputs/demo/dataset=MNIST/seed=10_epoch=1_lr=0.001_alpha=0.001_tau=10\n"
     ]
    }
   ],
   "source": [
    "from torchvision.datasets import MNIST, FashionMNIST, CIFAR10\n",
    "import torchvision\n",
    "import numpy as np\n",
    "import random\n",
    "\n",
    "import torch\n",
    "import torch.nn.functional as F\n",
    "import cl_gym as cl\n",
    "\n",
    "import sys\n",
    "import os\n",
    "\n",
    "seed = 10\n",
    "\n",
    "np.random.seed(seed)\n",
    "torch.manual_seed(seed)\n",
    "np.random.seed(seed)\n",
    "random.seed(seed)\n",
    "torch.cuda.manual_seed_all(seed)\n",
    "torch.manual_seed(seed)\n",
    "torch.backends.cudnn.deterministic = True\n",
    "torch.backends.cudnn.benchmark = True\n",
    "# torch.backends.cudnn.enabled = False\n",
    "\n",
    "def make_params() -> dict:\n",
    "    import os\n",
    "    from pathlib import Path\n",
    "    import uuid\n",
    "\n",
    "    params = {\n",
    "            # dataset\n",
    "            'dataset': \"MNIST\",\n",
    "            # 'dataset': \"FMNIST\",\n",
    "            'random_class_idx': True,\n",
    "\n",
    "\n",
    "            # benchmark\n",
    "            'seed': seed,\n",
    "            'num_tasks': 5,\n",
    "            'epochs_per_task': 1,\n",
    "            # 'per_task_examples': np.inf,\n",
    "            'per_task_examples': 10000,\n",
    "            'per_task_memory_examples': 20,\n",
    "            'batch_size_train': 64,\n",
    "            'batch_size_memory': 64,\n",
    "            'batch_size_validation': 256,\n",
    "            'tau': 10,\n",
    "            # 'tau': 0.0,\n",
    "\n",
    "            # algorithm\n",
    "            'optimizer': 'sgd',\n",
    "            'learning_rate': 0.001,\n",
    "            'momentum': 0.9,\n",
    "            'learning_rate_decay': 1.0,\n",
    "            'criterion': torch.nn.CrossEntropyLoss(),\n",
    "            'device': torch.device('cuda:5' if torch.cuda.is_available() else 'cpu'),\n",
    "             \n",
    "            # sample selection\n",
    "            'alpha':0.001\n",
    "              }\n",
    "\n",
    "#     trial_id = str(uuid.uuid4())\n",
    "    trial_id = f\"demo/dataset={params['dataset']}/seed={params['seed']}_epoch={params['epochs_per_task']}_lr={params['learning_rate']}_alpha={params['alpha']}_tau={params['tau']}\"\n",
    "    params['trial_id'] = trial_id\n",
    "    params['output_dir'] = os.path.join(\"./outputs/{}\".format(trial_id))\n",
    "    print(f\"output_dir={params['output_dir']}\")\n",
    "    Path(params['output_dir']).mkdir(parents=True, exist_ok=True)\n",
    "\n",
    "    return params\n",
    "\n",
    "params = make_params()"
   ]
  },
  {
   "cell_type": "code",
   "execution_count": 2,
   "id": "93b43ace",
   "metadata": {},
   "outputs": [
    {
     "name": "stdout",
     "output_type": "stream",
     "text": [
      "[8 2 5 6 3 1 0 7 4 9]\n"
     ]
    }
   ],
   "source": [
    "from datasets import MNIST\n",
    "from datasets import FashionMNIST\n",
    "from datasets import CIFAR10, CIFAR100\n",
    "\n",
    "if params['dataset'] == 'MNIST':\n",
    "    benchmark = MNIST(num_tasks=params['num_tasks'],\n",
    "                    per_task_memory_examples=params['per_task_memory_examples'],\n",
    "                    per_task_examples = params['per_task_examples'],\n",
    "                    random_class_idx = params['random_class_idx'])\n",
    "    input_dim = (28, 28)\n",
    "elif params['dataset'] == 'FashionMNIST':\n",
    "    benchmark = FashionMNIST(num_tasks=params['num_tasks'],\n",
    "                            per_task_memory_examples=params['per_task_memory_examples'],\n",
    "                            per_task_examples = params['per_task_examples'],\n",
    "                            random_class_idx = params['random_class_idx'])\n",
    "    input_dim = (28, 28)\n",
    "elif params['dataset'] == 'CIFAR10':\n",
    "    benchmark = CIFAR10(num_tasks=params['num_tasks'],\n",
    "                        per_task_memory_examples=params['per_task_memory_examples'],\n",
    "                        per_task_examples = params['per_task_examples'],\n",
    "                        random_class_idx = params['random_class_idx'])\n",
    "    input_dim = (3, 32, 32)\n",
    "elif params['dataset'] == 'CIFAR100':        \n",
    "    benchmark = CIFAR100(num_tasks=params['num_tasks'],\n",
    "                        per_task_memory_examples=params['per_task_memory_examples'],\n",
    "                        per_task_examples = params['per_task_examples'],\n",
    "                        random_class_idx = params['random_class_idx'])\n",
    "    input_dim = (3, 32, 32)\n",
    "else:\n",
    "    raise NotImplementedError\n",
    "class_idx = benchmark.class_idx\n",
    "num_classes = len(class_idx)\n",
    "\n"
   ]
  },
  {
   "cell_type": "code",
   "execution_count": 3,
   "id": "20c7b886",
   "metadata": {},
   "outputs": [],
   "source": [
    "from algorithms.imbalance import Heuristic2\n",
    "from metrics import MetricCollector2\n",
    "from backbones import MLP2Layers2\n",
    "\n",
    "backbone = MLP2Layers2(\n",
    "    input_dim=input_dim, \n",
    "    hidden_dim_1=256, \n",
    "    hidden_dim_2=256, \n",
    "    output_dim=num_classes,\n",
    "    class_idx=class_idx,\n",
    "    config=params\n",
    "    ).to(params['device'])\n",
    "algorithm = Heuristic2(backbone, benchmark, params, requires_memory=True)\n",
    "metric_manager_callback = MetricCollector2(num_tasks=params['num_tasks'],\n",
    "                                                        eval_interval='epoch',\n",
    "                                                        epochs_per_task=params['epochs_per_task'])"
   ]
  },
  {
   "cell_type": "code",
   "execution_count": 4,
   "id": "7c1bb4fe",
   "metadata": {},
   "outputs": [
    {
     "name": "stdout",
     "output_type": "stream",
     "text": [
      "---------------------------- Task 1 -----------------------\n",
      "solver=<function LS_solver at 0x7f3fe1134c10>\n",
      "[1] Eval metrics for task 1 >> {'accuracy': 95.8125407892014, 'loss': 0.0005002836970721974, 'std': 1.7233935023796998}\n",
      "training_task_end\n",
      "---------------------------- Task 2 -----------------------\n",
      "solver=<function LS_solver at 0x7f3fe1134c10>\n",
      "losses=tensor([[0.0475, 0.0174, 7.5142, 7.8053]])\n",
      "Elapsed time:16.756\n",
      "Loss difference:[ 1.61688836  5.0103373  -3.45102568 -3.17619718]\n",
      "len(updated_seq_indices)=10000\n",
      "[2] Eval metrics for task 1 >> {'accuracy': 75.33019355968355, 'loss': 0.0036637909331564177, 'std': 1.5108917116342768}\n",
      "[2] Eval metrics for task 2 >> {'accuracy': 95.51557804469326, 'loss': 0.0006347872437657537, 'std': 1.4572820805677011}\n",
      "training_task_end\n",
      "---------------------------- Task 3 -----------------------\n",
      "solver=<function LS_solver at 0x7f3fe1134c10>\n",
      "losses=tensor([[2.7578e-03, 1.7131e-03, 1.2940e-01, 8.6148e-02, 9.8699e+00, 8.1102e+00]])\n",
      "Elapsed time:36.837\n",
      "Loss difference:[ 14.32003305   9.25566417  -8.96352848  14.84901999 -20.66276857\n",
      "  -8.79842396]\n",
      "len(updated_seq_indices)=9994\n",
      "[3] Eval metrics for task 1 >> {'accuracy': 60.433479776514964, 'loss': 0.007408428287220857, 'std': 2.9386132467408457}\n",
      "[3] Eval metrics for task 2 >> {'accuracy': 77.29785521031296, 'loss': 0.003348055079176619, 'std': 13.620725165469915}\n",
      "[3] Eval metrics for task 3 >> {'accuracy': 97.5461246565185, 'loss': 0.000392415074062792, 'std': 1.3085008941422782}\n",
      "training_task_end\n",
      "---------------------------- Task 4 -----------------------\n",
      "solver=<function LS_solver at 0x7f3fe1134c10>\n",
      "losses=tensor([[1.4437e-03, 2.4947e-03, 5.9670e-03, 1.7271e-03, 7.0920e-02, 2.3963e-02,\n",
      "         1.2139e+01, 9.5673e+00]])\n",
      "Elapsed time:15.93\n",
      "Loss difference:[ 16.99036979  19.9053043    4.1997941   14.09601943  -0.6010952\n",
      "  15.76061594 -45.36699691 -24.98401692]\n",
      "len(updated_seq_indices)=10000\n",
      "[4] Eval metrics for task 1 >> {'accuracy': 57.20804880378205, 'loss': 0.008411797426514706, 'std': 5.873346545055158}\n",
      "[4] Eval metrics for task 2 >> {'accuracy': 64.56544838368424, 'loss': 0.005622311733864449, 'std': 14.453340760365862}\n",
      "[4] Eval metrics for task 3 >> {'accuracy': 92.29227548305492, 'loss': 0.0010297513543031155, 'std': 5.064552710777686}\n",
      "[4] Eval metrics for task 4 >> {'accuracy': 97.32827761454776, 'loss': 0.0003635027794634916, 'std': 0.7329468752481527}\n",
      "training_task_end\n",
      "---------------------------- Task 5 -----------------------\n",
      "solver=<function LS_solver at 0x7f3fe1134c10>\n",
      "losses=tensor([[1.7828e-03, 1.6615e-03, 4.1816e-03, 3.1099e-03, 5.9380e-03, 4.8840e-03,\n",
      "         9.1854e-02, 2.7183e-02, 9.5897e+00, 1.0805e+01]])\n",
      "Elapsed time:21.031\n",
      "Loss difference:[ 24.15956571   4.39858015  17.75590031  16.48700467  18.88127766\n",
      "  22.18798189   9.87630599 -30.20830259 -36.60932228 -46.92901902]\n",
      "len(updated_seq_indices)=10000\n",
      "[5] Eval metrics for task 1 >> {'accuracy': 54.09911576970218, 'loss': 0.00900876426982024, 'std': 9.951271827197047}\n",
      "[5] Eval metrics for task 2 >> {'accuracy': 61.10942078508103, 'loss': 0.0068711738328675965, 'std': 17.387447690910626}\n",
      "[5] Eval metrics for task 3 >> {'accuracy': 90.5650543027871, 'loss': 0.0013923555820971936, 'std': 6.703668164173249}\n",
      "[5] Eval metrics for task 4 >> {'accuracy': 86.11728738187882, 'loss': 0.001971776044344997, 'std': 6.739855475264039}\n",
      "[5] Eval metrics for task 5 >> {'accuracy': 91.44638174958975, 'loss': 0.0010106411038901205, 'std': 1.1205161691416776}\n",
      "training_task_end\n",
      "final avg-acc 76.66745199780777\n",
      "final avg-forget 23.577910716377946\n"
     ]
    }
   ],
   "source": [
    "from trainers import ContinualTrainer\n",
    "\n",
    "trainer = ContinualTrainer(algorithm, params, callbacks=[metric_manager_callback])\n",
    "trainer.run()\n",
    "print(\"final avg-acc\", metric_manager_callback.meters['accuracy'].compute_final())\n",
    "print(\"final avg-forget\", metric_manager_callback.meters['forgetting'].compute_final())"
   ]
  },
  {
   "cell_type": "code",
   "execution_count": 5,
   "id": "c076b062",
   "metadata": {},
   "outputs": [
    {
     "data": {
      "text/plain": [
       "[1.7233935023796998,\n",
       " 10.201258212359496,\n",
       " 17.189671684664326,\n",
       " 19.10585143350992,\n",
       " 18.682682686881673]"
      ]
     },
     "execution_count": 5,
     "metadata": {},
     "output_type": "execute_result"
    }
   ],
   "source": [
    "metric_manager_callback.meters['std'].get_std()"
   ]
  },
  {
   "cell_type": "code",
   "execution_count": 6,
   "id": "076dc8ca",
   "metadata": {},
   "outputs": [
    {
     "data": {
      "text/plain": [
       "array([ 1.723, 10.201, 17.19 , 19.106, 18.683])"
      ]
     },
     "execution_count": 6,
     "metadata": {},
     "output_type": "execute_result"
    }
   ],
   "source": [
    "metric_manager_callback.meters['std'].get_data()"
   ]
  },
  {
   "cell_type": "code",
   "execution_count": 7,
   "id": "7039ed8b",
   "metadata": {},
   "outputs": [
    {
     "data": {
      "text/plain": [
       "array([[95.813,  0.   ,  0.   ,  0.   ,  0.   ],\n",
       "       [75.33 , 95.516,  0.   ,  0.   ,  0.   ],\n",
       "       [60.433, 77.298, 97.546,  0.   ,  0.   ],\n",
       "       [57.208, 64.565, 92.292, 97.328,  0.   ],\n",
       "       [54.099, 61.109, 90.565, 86.117, 91.446]])"
      ]
     },
     "execution_count": 7,
     "metadata": {},
     "output_type": "execute_result"
    }
   ],
   "source": [
    "metric_manager_callback.meters['accuracy'].get_data()"
   ]
  },
  {
   "cell_type": "code",
   "execution_count": 8,
   "id": "173c4765",
   "metadata": {},
   "outputs": [
    {
     "data": {
      "text/plain": [
       "82.83544220831607"
      ]
     },
     "execution_count": 8,
     "metadata": {},
     "output_type": "execute_result"
    }
   ],
   "source": [
    "metric_manager_callback.meters['accuracy'].compute_overall()"
   ]
  },
  {
   "cell_type": "code",
   "execution_count": 9,
   "id": "706ad34c",
   "metadata": {},
   "outputs": [
    {
     "name": "stdout",
     "output_type": "stream",
     "text": [
      "accuracy:82.83544220831607\n",
      "fairness:13.380571503959024\n"
     ]
    }
   ],
   "source": [
    "print(f\"accuracy:{np.mean(metric_manager_callback.meters['accuracy'].compute_overall())}\")\n",
    "print(f\"fairness:{np.mean(metric_manager_callback.meters['std'].compute_overall())}\")\n"
   ]
  },
  {
   "cell_type": "code",
   "execution_count": 10,
   "id": "354dc9b2",
   "metadata": {},
   "outputs": [
    {
     "data": {
      "text/plain": [
       "13.380571503959024"
      ]
     },
     "execution_count": 10,
     "metadata": {},
     "output_type": "execute_result"
    }
   ],
   "source": [
    "metric_manager_callback.meters['std'].compute_overall()"
   ]
  },
  {
   "cell_type": "code",
   "execution_count": null,
   "id": "2b848e47",
   "metadata": {},
   "outputs": [],
   "source": []
  }
 ],
 "metadata": {
  "kernelspec": {
   "display_name": "cil",
   "language": "python",
   "name": "python3"
  },
  "language_info": {
   "codemirror_mode": {
    "name": "ipython",
    "version": 3
   },
   "file_extension": ".py",
   "mimetype": "text/x-python",
   "name": "python",
   "nbconvert_exporter": "python",
   "pygments_lexer": "ipython3",
   "version": "3.9.18"
  }
 },
 "nbformat": 4,
 "nbformat_minor": 5
}
