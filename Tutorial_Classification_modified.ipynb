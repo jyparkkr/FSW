{
 "cells": [
  {
   "cell_type": "code",
   "execution_count": 1,
   "id": "b0c3b92f",
   "metadata": {},
   "outputs": [
    {
     "name": "stdout",
     "output_type": "stream",
     "text": [
      "output_dir=./outputs/dataset=MNIST/seed=1_epoch=1_lr=0.001_alpha=0.001_tau=10\n"
     ]
    }
   ],
   "source": [
    "from torchvision.datasets import MNIST, FashionMNIST, CIFAR10\n",
    "import torchvision\n",
    "import numpy as np\n",
    "import random\n",
    "\n",
    "import torch\n",
    "import torch.nn.functional as F\n",
    "import cl_gym as cl\n",
    "\n",
    "import sys\n",
    "import os\n",
    "\n",
    "seed = 1\n",
    "\n",
    "np.random.seed(seed)\n",
    "torch.manual_seed(seed)\n",
    "np.random.seed(seed)\n",
    "random.seed(seed)\n",
    "torch.cuda.manual_seed_all(seed)\n",
    "torch.manual_seed(seed)\n",
    "torch.backends.cudnn.deterministic = True\n",
    "torch.backends.cudnn.benchmark = True\n",
    "# torch.backends.cudnn.enabled = False\n",
    "\n",
    "def make_params() -> dict:\n",
    "    import os\n",
    "    from pathlib import Path\n",
    "    import uuid\n",
    "\n",
    "    params = {\n",
    "            # dataset\n",
    "            'dataset': \"MNIST\",\n",
    "            # 'dataset': \"FMNIST\",\n",
    "\n",
    "            # benchmark\n",
    "            'seed': seed,\n",
    "            'num_tasks': 5,\n",
    "            'epochs_per_task': 1,\n",
    "            # 'per_task_examples': np.inf,\n",
    "            'per_task_examples': 10000,\n",
    "            'per_task_memory_examples': 20,\n",
    "            'batch_size_train': 64,\n",
    "            'batch_size_memory': 64,\n",
    "            'batch_size_validation': 256,\n",
    "            'tau': 10,\n",
    "            # 'tau': 0.0,\n",
    "\n",
    "            # algorithm\n",
    "            'optimizer': 'sgd',\n",
    "            'learning_rate': 0.001,\n",
    "            'momentum': 0.9,\n",
    "            'learning_rate_decay': 1.0,\n",
    "            'criterion': torch.nn.CrossEntropyLoss(),\n",
    "            'device': torch.device('cuda:7' if torch.cuda.is_available() else 'cpu'),\n",
    "             \n",
    "            # sample selection\n",
    "            'alpha':0.001\n",
    "              }\n",
    "\n",
    "#     trial_id = str(uuid.uuid4())\n",
    "    trial_id = f\"demo/dataset={params['dataset']}/seed={params['seed']}_epoch={params['epochs_per_task']}_lr={params['learning_rate']}_alpha={params['alpha']}_tau={params['tau']}\"\n",
    "    params['trial_id'] = trial_id\n",
    "    params['output_dir'] = os.path.join(\"./outputs/{}\".format(trial_id))\n",
    "    print(f\"output_dir={params['output_dir']}\")\n",
    "    Path(params['output_dir']).mkdir(parents=True, exist_ok=True)\n",
    "\n",
    "    return params\n",
    "\n",
    "params = make_params()"
   ]
  },
  {
   "cell_type": "code",
   "execution_count": 2,
   "id": "93b43ace",
   "metadata": {},
   "outputs": [
    {
     "name": "stdout",
     "output_type": "stream",
     "text": [
      "[0 1 2 3 4 5 6 7 8 9]\n"
     ]
    }
   ],
   "source": [
    "from datasets import MNIST\n",
    "from datasets import FashionMNIST\n",
    "from datasets import CIFAR10, CIFAR100\n",
    "\n",
    "if params['dataset'] == 'MNIST':\n",
    "    benchmark = MNIST(num_tasks=params['num_tasks'],\n",
    "                      per_task_memory_examples=params['per_task_memory_examples'],\n",
    "                      per_task_examples = params['per_task_examples'],\n",
    "                      random_class_idx = False)\n",
    "    label_li = ['0', '1', '2', '3', '4', '5', '6', '7', '8', '9']\n",
    "    n_feature = 28*28\n",
    "\n",
    "elif params['dataset'] == 'FMNIST':\n",
    "    benchmark = FashionMNIST(num_tasks=params['num_tasks'],\n",
    "                             per_task_memory_examples=params['per_task_memory_examples'],\n",
    "                             per_task_examples = params['per_task_examples'],\n",
    "                             random_class_idx = False)\n",
    "\n",
    "    label_li = ['T-shirt/top', 'Trouser', 'Pullover', 'Dress', 'Coat', 'Sandal', 'Shirt', 'Sneaker', 'Bag', \n",
    "                  'Ankel boot']\n",
    "    n_feature = 28*28\n",
    "    \n",
    "elif params['dataset'] == 'CIFAR10':\n",
    "    label_li = ['airplane', 'automobile', 'bird', 'cat', 'deer', 'dog', 'frog', 'horse', 'ship', 'truck']\n",
    "    benchmark = CIFAR10(num_tasks=params['num_tasks'],\n",
    "                        per_task_memory_examples=params['per_task_memory_examples'],\n",
    "                        per_task_examples = params['per_task_examples'],\n",
    "                        random_class_idx = False)\n",
    "    n_feature = 32*32*3\n",
    "\n",
    "elif params['dataset'] == 'CIFAR100':\n",
    "    label_li = ['airplane', 'automobile', 'bird', 'cat', 'deer', 'dog', 'frog', 'horse', 'ship', 'truck']\n",
    "    benchmark = CIFAR100(num_tasks=params['num_tasks'],\n",
    "                        per_task_memory_examples=params['per_task_memory_examples'],\n",
    "                        per_task_examples = params['per_task_examples'],\n",
    "                        random_class_idx = False)\n",
    "    n_feature = 32*32*3"
   ]
  },
  {
   "cell_type": "code",
   "execution_count": 3,
   "id": "20c7b886",
   "metadata": {},
   "outputs": [],
   "source": [
    "from algorithms.imbalance import Heuristic2\n",
    "from metrics import MetricCollector2\n",
    "\n",
    "backbone = cl.backbones.MLP2Layers(input_dim=784, hidden_dim_1=256, hidden_dim_2=256, output_dim=10)\n",
    "algorithm = Heuristic2(backbone, benchmark, params, requires_memory=True)\n",
    "metric_manager_callback = MetricCollector2(num_tasks=params['num_tasks'],\n",
    "                                                        eval_interval='epoch',\n",
    "                                                        epochs_per_task=params['epochs_per_task'])"
   ]
  },
  {
   "cell_type": "code",
   "execution_count": 4,
   "id": "7c1bb4fe",
   "metadata": {},
   "outputs": [
    {
     "name": "stdout",
     "output_type": "stream",
     "text": [
      "---------------------------- Task 1 -----------------------\n"
     ]
    },
    {
     "name": "stdout",
     "output_type": "stream",
     "text": [
      "solver=<function LS_solver at 0x7ff0422c30d0>\n",
      "[1] Eval metrics for task 1 >> {'accuracy': 99.71478018520183, 'loss': 5.772249579394399e-05, 'std': 0.020902634181430013}\n",
      "training_task_end\n",
      "---------------------------- Task 2 -----------------------\n",
      "solver=<function LS_solver at 0x7ff0422c30d0>\n",
      "losses=tensor([[0.0135, 0.0136, 6.6504, 7.1469]])\n",
      "A_np.shape=(4, 10000)\n",
      "b_np.shape=(4,)\n",
      "Elapsed time:141.114\n",
      "Loss difference:[ 0.06164763  0.09104488  0.09769388 -0.25038531]\n",
      "len(updated_seq_indices)=9927\n",
      "[2] Eval metrics for task 1 >> {'accuracy': 93.17809943360604, 'loss': 0.0010321579080946903, 'std': 1.1076148521082407}\n",
      "[2] Eval metrics for task 2 >> {'accuracy': 95.30767902371633, 'loss': 0.0005400012576556696, 'std': 0.8309348376698111}\n",
      "training_task_end\n",
      "---------------------------- Task 3 -----------------------\n",
      "solver=<function LS_solver at 0x7ff0422c30d0>\n",
      "losses=tensor([[1.0509e-03, 1.8407e-03, 1.4212e-01, 2.9839e-01, 8.7840e+00, 9.7417e+00]])\n",
      "A_np.shape=(6, 10000)\n",
      "b_np.shape=(6,)\n",
      "Elapsed time:7.558\n",
      "Loss difference:[ 15.08596363  12.9589371    9.12571188  -1.74351592 -14.24353061\n",
      " -21.1835814 ]\n",
      "len(updated_seq_indices)=10000\n",
      "[3] Eval metrics for task 1 >> {'accuracy': 88.77213881147172, 'loss': 0.0016590643013622744, 'std': 0.3027510563696878}\n",
      "[3] Eval metrics for task 2 >> {'accuracy': 71.89423593522143, 'loss': 0.003818741186825699, 'std': 8.72591910353826}\n",
      "[3] Eval metrics for task 3 >> {'accuracy': 96.46906651566766, 'loss': 0.0005627721826383881, 'std': 2.4107705515421074}\n",
      "training_task_end\n",
      "---------------------------- Task 4 -----------------------\n",
      "solver=<function LS_solver at 0x7ff0422c30d0>\n",
      "losses=tensor([[3.4102e-03, 1.5141e-03, 2.6909e-03, 6.4045e-03, 8.0683e-02, 3.9620e-01,\n",
      "         1.0811e+01, 9.7193e+00]])\n",
      "A_np.shape=(8, 10000)\n",
      "b_np.shape=(8,)\n",
      "Elapsed time:8.359\n",
      "Loss difference:[ 16.69617195  16.49027118  16.88561991  16.49408498  -3.22432822\n",
      "   0.58177021 -37.37166165 -26.55194113]\n",
      "len(updated_seq_indices)=10000\n",
      "[4] Eval metrics for task 1 >> {'accuracy': 80.39355389732985, 'loss': 0.002926563934795118, 'std': 5.597635529982919}\n",
      "[4] Eval metrics for task 2 >> {'accuracy': 67.9992708573183, 'loss': 0.005107730889764052, 'std': 6.613132243456904}\n",
      "[4] Eval metrics for task 3 >> {'accuracy': 79.20860237640763, 'loss': 0.003214891017946388, 'std': 9.589768295690138}\n",
      "[4] Eval metrics for task 4 >> {'accuracy': 96.49226663850597, 'loss': 0.00045489857474122523, 'std': 0.48059348675499325}\n",
      "training_task_end\n",
      "---------------------------- Task 5 -----------------------\n",
      "solver=<function LS_solver at 0x7ff0422c30d0>\n",
      "losses=tensor([[2.3913e-03, 2.8825e-03, 4.0452e-03, 3.2392e-03, 7.3586e-03, 4.4995e-03,\n",
      "         2.8275e-01, 8.1453e-03, 1.1323e+01, 1.2130e+01]])\n",
      "A_np.shape=(10, 10000)\n",
      "b_np.shape=(10,)\n",
      "Elapsed time:8.209\n",
      "Loss difference:[ 18.62456864  24.99082857  17.63400353  22.54404582  12.59447708\n",
      "  19.85396071   3.20462304  -4.27267629 -55.16080705 -60.01304962]\n",
      "len(updated_seq_indices)=10000\n",
      "[5] Eval metrics for task 1 >> {'accuracy': 77.5786658275645, 'loss': 0.003935196072779085, 'std': 4.007237256135932}\n",
      "[5] Eval metrics for task 2 >> {'accuracy': 54.42148284595901, 'loss': 0.00770380389561966, 'std': 7.787819479622379}\n",
      "[5] Eval metrics for task 3 >> {'accuracy': 57.831322550300015, 'loss': 0.007581602420216564, 'std': 6.93446156375293}\n",
      "[5] Eval metrics for task 4 >> {'accuracy': 78.40862935915453, 'loss': 0.003024786260552997, 'std': 13.136255818298498}\n",
      "[5] Eval metrics for task 5 >> {'accuracy': 93.18377925162247, 'loss': 0.0008429933303663722, 'std': 0.4733069723616812}\n",
      "training_task_end\n",
      "final avg-acc 72.28477596692011\n",
      "final avg-forget 29.935922945028434\n"
     ]
    }
   ],
   "source": [
    "from trainers import ContinualTrainer\n",
    "\n",
    "trainer = ContinualTrainer(algorithm, params, callbacks=[metric_manager_callback])\n",
    "trainer.run()\n",
    "print(\"final avg-acc\", metric_manager_callback.meters['accuracy'].compute_final())\n",
    "print(\"final avg-forget\", metric_manager_callback.meters['forgetting'].compute_final())"
   ]
  },
  {
   "cell_type": "code",
   "execution_count": 5,
   "id": "c076b062",
   "metadata": {},
   "outputs": [
    {
     "data": {
      "text/plain": [
       "[0.020902634181430013,\n",
       " 1.4465161562131417,\n",
       " 11.518892745827133,\n",
       " 12.040199740775613,\n",
       " 16.296470915993936]"
      ]
     },
     "execution_count": 5,
     "metadata": {},
     "output_type": "execute_result"
    }
   ],
   "source": [
    "metric_manager_callback.meters['std'].get_std()"
   ]
  },
  {
   "cell_type": "code",
   "execution_count": 6,
   "id": "076dc8ca",
   "metadata": {},
   "outputs": [
    {
     "data": {
      "text/plain": [
       "array([ 0.021,  1.447, 11.519, 12.04 , 16.296])"
      ]
     },
     "execution_count": 6,
     "metadata": {},
     "output_type": "execute_result"
    }
   ],
   "source": [
    "metric_manager_callback.meters['std'].get_data()"
   ]
  },
  {
   "cell_type": "code",
   "execution_count": 7,
   "id": "7039ed8b",
   "metadata": {},
   "outputs": [
    {
     "data": {
      "text/plain": [
       "array([[99.715,  0.   ,  0.   ,  0.   ,  0.   ],\n",
       "       [93.178, 95.308,  0.   ,  0.   ,  0.   ],\n",
       "       [88.772, 71.894, 96.469,  0.   ,  0.   ],\n",
       "       [80.394, 67.999, 79.209, 96.492,  0.   ],\n",
       "       [77.579, 54.421, 57.831, 78.409, 93.184]])"
      ]
     },
     "execution_count": 7,
     "metadata": {},
     "output_type": "execute_result"
    }
   ],
   "source": [
    "metric_manager_callback.meters['accuracy'].get_data()"
   ]
  },
  {
   "cell_type": "code",
   "execution_count": 8,
   "id": "173c4765",
   "metadata": {},
   "outputs": [
    {
     "data": {
      "text/plain": [
       "86.59553651545876"
      ]
     },
     "execution_count": 8,
     "metadata": {},
     "output_type": "execute_result"
    }
   ],
   "source": [
    "metric_manager_callback.meters['accuracy'].compute_overall()"
   ]
  },
  {
   "cell_type": "code",
   "execution_count": 9,
   "id": "706ad34c",
   "metadata": {},
   "outputs": [
    {
     "name": "stdout",
     "output_type": "stream",
     "text": [
      "accuracy:86.59553651545876\n",
      "fairness:8.26459643859825\n"
     ]
    }
   ],
   "source": [
    "print(f\"accuracy:{np.mean(metric_manager_callback.meters['accuracy'].compute_overall())}\")\n",
    "print(f\"fairness:{np.mean(metric_manager_callback.meters['std'].compute_overall())}\")\n"
   ]
  },
  {
   "cell_type": "code",
   "execution_count": 10,
   "id": "354dc9b2",
   "metadata": {},
   "outputs": [
    {
     "data": {
      "text/plain": [
       "8.26459643859825"
      ]
     },
     "execution_count": 10,
     "metadata": {},
     "output_type": "execute_result"
    }
   ],
   "source": [
    "metric_manager_callback.meters['std'].compute_overall()"
   ]
  },
  {
   "cell_type": "code",
   "execution_count": null,
   "id": "2b848e47",
   "metadata": {},
   "outputs": [],
   "source": []
  }
 ],
 "metadata": {
  "kernelspec": {
   "display_name": "cil",
   "language": "python",
   "name": "python3"
  },
  "language_info": {
   "codemirror_mode": {
    "name": "ipython",
    "version": 3
   },
   "file_extension": ".py",
   "mimetype": "text/x-python",
   "name": "python",
   "nbconvert_exporter": "python",
   "pygments_lexer": "ipython3",
   "version": "3.9.18"
  }
 },
 "nbformat": 4,
 "nbformat_minor": 5
}
