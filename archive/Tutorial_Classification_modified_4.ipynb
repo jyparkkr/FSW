{
 "cells": [
  {
   "cell_type": "code",
   "execution_count": 1,
   "id": "b0c3b92f",
   "metadata": {},
   "outputs": [
    {
     "name": "stdout",
     "output_type": "stream",
     "text": [
      "output_dir=./outputs/seed=1_epoch=1q__\n"
     ]
    }
   ],
   "source": [
    "from torchvision.datasets import MNIST, FashionMNIST, CIFAR10\n",
    "import torchvision\n",
    "import numpy as np\n",
    "import random\n",
    "\n",
    "import torch\n",
    "import torch.nn.functional as F\n",
    "import cl_gym as cl\n",
    "\n",
    "import sys\n",
    "import os\n",
    "\n",
    "seed = 1\n",
    "\n",
    "np.random.seed(seed)\n",
    "torch.manual_seed(seed)\n",
    "np.random.seed(seed)\n",
    "random.seed(seed)\n",
    "torch.cuda.manual_seed_all(seed)\n",
    "torch.manual_seed(seed)\n",
    "torch.backends.cudnn.deterministic = True\n",
    "torch.backends.cudnn.benchmark = False\n",
    "torch.backends.cudnn.enabled = False\n",
    "\n",
    "def make_params() -> dict:\n",
    "    import os\n",
    "    from pathlib import Path\n",
    "    import uuid\n",
    "\n",
    "    params = {\n",
    "            # dataset\n",
    "            'dataset': \"MNIST\",\n",
    "            # 'dataset': \"FMNIST\",\n",
    "\n",
    "            # benchmark\n",
    "            'seed': seed,\n",
    "            'num_tasks': 5,\n",
    "            'epochs_per_task': 1,\n",
    "            'per_task_examples': np.inf,\n",
    "            'per_task_memory_examples': 20,\n",
    "            'batch_size_train': 64,\n",
    "            'batch_size_memory': 64,\n",
    "            'batch_size_validation': 256,\n",
    "            'lambda': 10,\n",
    "\n",
    "            # algorithm\n",
    "            'optimizer': 'sgd',\n",
    "            'learning_rate': 0.001,\n",
    "            'momentum': 0.9,\n",
    "            'learning_rate_decay': 1.0,\n",
    "            'criterion': torch.nn.CrossEntropyLoss(),\n",
    "            'device': torch.device('cuda:4' if torch.cuda.is_available() else 'cpu'), }\n",
    "\n",
    "#     trial_id = str(uuid.uuid4())\n",
    "    trial_id = f\"seed={params['seed']}_epoch={params['epochs_per_task']}q__\"\n",
    "    params['trial_id'] = trial_id\n",
    "    params['output_dir'] = os.path.join(\"./outputs/{}\".format(trial_id))\n",
    "    print(f\"output_dir={params['output_dir']}\")\n",
    "    Path(params['output_dir']).mkdir(parents=True, exist_ok=True)\n",
    "\n",
    "    return params\n",
    "\n",
    "params = make_params()"
   ]
  },
  {
   "cell_type": "code",
   "execution_count": 2,
   "id": "93b43ace",
   "metadata": {},
   "outputs": [
    {
     "name": "stdout",
     "output_type": "stream",
     "text": [
      "[2 9 6 4 0 3 1 7 8 5]\n"
     ]
    }
   ],
   "source": [
    "from datasets import MNIST\n",
    "from datasets import FashionMNIST\n",
    "\n",
    "if params['dataset'] == 'MNIST':\n",
    "    benchmark = MNIST(num_tasks=params['num_tasks'],\n",
    "                      per_task_memory_examples=params['per_task_memory_examples'],\n",
    "                      per_task_examples = min(params['per_task_examples'], 10000),\n",
    "                      random_class_idx = True)\n",
    "    label_li = ['0', '1', '2', '3', '4', '5', '6', '7', '8', '9']\n",
    "    n_feature = 28*28\n",
    "\n",
    "elif params['dataset'] == 'FMNIST':\n",
    "    benchmark = FashionMNIST(num_tasks=params['num_tasks'],\n",
    "                             per_task_memory_examples=params['per_task_memory_examples'],\n",
    "                             per_task_examples = min(params['per_task_examples'], 15000),\n",
    "                             random_class_idx = False)\n",
    "\n",
    "    label_li = ['T-shirt/top', 'Trouser', 'Pullover', 'Dress', 'Coat', 'Sandal', 'Shirt', 'Sneaker', 'Bag', \n",
    "                  'Ankel boot']\n",
    "    n_feature = 28*28\n",
    "    \n",
    "elif params['dataset'] == 'CIFAR10':\n",
    "    label_li = ['airplane', 'automobile', 'bird', 'cat', 'deer', 'dog', 'frog', 'horse', 'ship', 'truck']\n",
    "    benchmark = cl.benchmarks.SplitCIFAR10(num_tasks=params['num_tasks'],\n",
    "                                        per_task_memory_examples=params['per_task_memory_examples'])\n",
    "    n_feature = 32*32*3\n",
    "\n",
    "params['alpha'] = 0.003\n",
    "params['lambda'] = 10"
   ]
  },
  {
   "cell_type": "code",
   "execution_count": 3,
   "id": "a330b0c0",
   "metadata": {},
   "outputs": [
    {
     "data": {
      "text/plain": [
       "torch.Size([11907, 1, 28, 28])"
      ]
     },
     "execution_count": 3,
     "metadata": {},
     "output_type": "execute_result"
    }
   ],
   "source": [
    "benchmark.trains[1].inputs.shape"
   ]
  },
  {
   "cell_type": "code",
   "execution_count": 4,
   "id": "d1f11bf5",
   "metadata": {},
   "outputs": [],
   "source": [
    "# import os\n",
    "# os.environ['CUDA_LAUNCH_BLOCKING'] = \"1\"\n",
    "# os.environ[\"CUDA_VISIBLE_DEVICES\"] = \"0\"\n"
   ]
  },
  {
   "cell_type": "code",
   "execution_count": 5,
   "id": "20c7b886",
   "metadata": {},
   "outputs": [],
   "source": [
    "from algorithms import Weighting\n",
    "from metrics import MetricCollector2\n",
    "\n",
    "backbone = cl.backbones.MLP2Layers(input_dim=784, hidden_dim_1=256, hidden_dim_2=256, output_dim=10)\n",
    "algorithm = Weighting(backbone, benchmark, params, requires_memory=True)\n",
    "metric_manager_callback = MetricCollector2(num_tasks=params['num_tasks'],\n",
    "                                                        eval_interval='epoch',\n",
    "                                                        epochs_per_task=params['epochs_per_task'])"
   ]
  },
  {
   "cell_type": "code",
   "execution_count": 6,
   "id": "7c1bb4fe",
   "metadata": {},
   "outputs": [
    {
     "name": "stdout",
     "output_type": "stream",
     "text": [
      "---------------------------- Task 1 -----------------------\n",
      "sample_weight.to(device)=tensor([1., 1., 1., 1., 1., 1., 1., 1., 1., 1., 1., 1., 1., 1., 1., 1., 1., 1.,\n",
      "        1., 1., 1., 1., 1., 1., 1., 1., 1., 1., 1., 1., 1., 1., 1., 1., 1., 1.,\n",
      "        1., 1., 1., 1., 1., 1., 1., 1., 1., 1., 1., 1., 1., 1., 1., 1., 1., 1.,\n",
      "        1., 1., 1., 1., 1., 1., 1., 1., 1., 1.], device='cuda:4')\n",
      "[1] Eval metrics for task 1 >> {'accuracy': 97.64821166095051, 'loss': 0.00030053448386486694, 'std': 0.07149799094967046}\n",
      "training_task_end\n",
      "load_memory_joint: len(train_loader.dataset)=20\n",
      "---------------------------- Task 2 -----------------------\n",
      "### Cplex LS solver ###\n",
      "A.shape=(4, 10000)\n",
      "b.shape=(4,)\n",
      "elapsed time:1422.928\n",
      "[-34.85635304 -33.6125176   33.03582454  35.43305659]\n",
      "np_weight=tensor([0.5337, 0.5334, 0.4942,  ..., 0.4897, 0.4962, 0.4882])\n",
      "np_weight.shape=torch.Size([10000])\n",
      "np_weight.sum()=tensor(5051.1567)\n",
      "np_weight.max()=tensor(0.5421)\n",
      "np_weight.min()=tensor(0.3371)\n",
      "elapsed time:0.011\n",
      "[-34.85635376 -33.61251831  33.03582382  35.43305588]\n",
      "np_weight2.sum()=tensor(5053.1860)\n",
      "np_weight2.max()=tensor(0.8217)\n",
      "np_weight2.min()=tensor(0.0267)\n",
      "sample_weight.to(device)=tensor([0.5295, 0.4932, 0.4951, 0.5370, 0.4896, 0.4963, 0.4962, 0.5280, 0.5277,\n",
      "        0.5300, 0.5336, 0.4959, 0.5297, 0.4964, 0.4931, 0.5287, 0.4931, 0.5292,\n",
      "        0.3416, 0.4965, 0.4947, 0.4890, 0.3436, 0.5281, 0.5278, 0.5290, 0.3425,\n",
      "        0.5320, 0.4950, 0.4957, 0.4916, 0.4929, 0.4768, 0.4957, 0.5310, 0.4944,\n",
      "        0.4958, 0.5289, 0.5272, 0.4913, 0.4963, 0.4856, 0.4958, 0.4957, 0.4812,\n",
      "        0.4914, 0.4963, 0.5279, 0.4411, 0.5372, 0.4950, 0.4973, 0.4857, 0.5293,\n",
      "        0.4929, 0.5400, 0.4964, 0.4830, 0.4786, 0.4951, 0.4920, 0.5397, 0.5281,\n",
      "        0.4931], device='cuda:4')\n",
      "[2] Eval metrics for task 1 >> {'accuracy': 80.6467417932386, 'loss': 0.0029073909823068623, 'std': 5.2210819677169065}\n",
      "[2] Eval metrics for task 2 >> {'accuracy': 92.68041237113403, 'loss': 0.00101744465760349, 'std': 1.9716058148978033}\n",
      "training_task_end\n",
      "load_memory_joint: len(train_loader.dataset)=40\n",
      "---------------------------- Task 3 -----------------------\n",
      "### Cplex LS solver ###\n",
      "A.shape=(6, 10000)\n",
      "b.shape=(6,)\n",
      "elapsed time:2114.021\n",
      "[-39.00321752 -37.00854499 -37.04339235 -31.56787371  63.37351787\n",
      "  81.24952144]\n",
      "np_weight=tensor([3.6150e-07, 1.0000e+00, 1.0000e+00,  ..., 5.6060e-08, 2.5408e-06,\n",
      "        6.8520e-07])\n",
      "np_weight.shape=torch.Size([10000])\n",
      "np_weight.sum()=tensor(5933.7744)\n",
      "np_weight.max()=tensor(1.0000)\n",
      "np_weight.min()=tensor(4.2470e-09)\n",
      "elapsed time:147.07\n",
      "[-39.1320678  -36.82705735 -37.11292915 -31.53780448  63.33094547\n",
      "  81.27892305]\n",
      "np_weight2.sum()=tensor(5973.7290)\n",
      "np_weight2.max()=tensor(1.)\n",
      "np_weight2.min()=tensor(6.6916e-05)\n",
      "sample_weight.to(device)=tensor([4.4511e-06, 1.0000e+00, 1.0000e+00, 1.0000e+00, 1.0000e+00, 6.3753e-06,\n",
      "        1.0000e+00, 1.0000e+00, 1.0000e+00, 9.9999e-01, 1.0000e+00, 1.0000e+00,\n",
      "        3.3472e-06, 1.0000e+00, 1.0000e+00, 3.5668e-06, 1.0000e+00, 5.6379e-07,\n",
      "        2.3912e-07, 1.0000e+00, 7.6970e-07, 1.0000e+00, 1.0000e+00, 1.0000e+00,\n",
      "        9.0732e-07, 1.0833e-06, 4.0789e-07, 1.0000e+00, 9.9995e-01, 1.0000e+00,\n",
      "        4.4299e-07, 6.6774e-07, 4.2939e-07, 2.2898e-07, 1.8684e-07, 1.0000e+00,\n",
      "        1.0000e+00, 1.0000e+00, 6.5001e-07, 1.3113e-06, 1.0000e+00, 1.0000e+00,\n",
      "        1.0000e+00, 1.0000e+00, 3.9686e-07, 1.0000e+00, 1.0000e+00, 7.9701e-07,\n",
      "        2.6145e-07, 1.0000e+00, 1.0000e+00, 1.0000e+00, 1.0000e+00, 3.2148e-07,\n",
      "        6.8279e-07, 3.0829e-07, 1.0000e+00, 1.0000e+00, 1.0000e+00, 4.0681e-07,\n",
      "        1.0000e+00, 7.8088e-07, 1.0000e+00, 1.0000e+00], device='cuda:4')\n",
      "[3] Eval metrics for task 1 >> {'accuracy': 57.86379225869672, 'loss': 0.006894930970838174, 'std': 2.532968784812656}\n",
      "[3] Eval metrics for task 2 >> {'accuracy': 92.16494845360825, 'loss': 0.0010667246103901224, 'std': 0.818703255679476}\n",
      "[3] Eval metrics for task 3 >> {'accuracy': 93.66834170854271, 'loss': 0.0008224022148841589, 'std': 2.5181854920185875}\n",
      "training_task_end\n",
      "load_memory_joint: len(train_loader.dataset)=60\n",
      "---------------------------- Task 4 -----------------------\n",
      "### Cplex LS solver ###\n",
      "A.shape=(8, 10000)\n",
      "b.shape=(8,)\n",
      "elapsed time:2865.199\n",
      "[-28.14559037 -43.56816864 -28.9519571  -39.5306084  -19.09826848\n",
      " -46.46397935  86.90063885 118.85791264]\n",
      "np_weight=tensor([1.0000e+00, 6.9689e-10, 1.0000e+00,  ..., 1.0000e+00, 1.0000e+00,\n",
      "        1.0000e+00])\n",
      "np_weight.shape=torch.Size([10000])\n",
      "np_weight.sum()=tensor(5800.8164)\n",
      "np_weight.max()=tensor(1.)\n",
      "np_weight.min()=tensor(1.0703e-11)\n",
      "elapsed time:146.359\n",
      "[-28.14672772 -43.56045453 -28.95033397 -39.53095981 -19.09910687\n",
      " -46.46439192  86.88847631 118.86347767]\n",
      "np_weight2.sum()=tensor(5800.2041)\n",
      "np_weight2.max()=tensor(1.)\n",
      "np_weight2.min()=tensor(3.6989e-30)\n",
      "sample_weight.to(device)=tensor([1.0000e+00, 1.0000e+00, 1.0000e+00, 1.0000e+00, 1.0000e+00, 7.3798e-09,\n",
      "        1.4297e-09, 5.9291e-11, 1.0000e+00, 7.5867e-10, 6.4426e-08, 7.1212e-10,\n",
      "        1.0000e+00, 8.2752e-11, 9.5137e-10, 1.4592e-09, 1.0000e+00, 5.9267e-09,\n",
      "        1.0000e+00, 8.3064e-11, 1.0000e+00, 1.0000e+00, 1.0000e+00, 9.2242e-10,\n",
      "        7.3194e-10, 1.0000e+00, 1.0000e+00, 1.0000e+00, 1.5534e-09, 8.8790e-10,\n",
      "        1.0000e+00, 6.5119e-09, 1.0000e+00, 3.0271e-09, 9.7205e-10, 1.0000e+00,\n",
      "        1.0000e+00, 1.0000e+00, 8.1316e-09, 1.0000e+00, 1.0000e+00, 1.0197e-09,\n",
      "        9.0709e-11, 1.0000e+00, 2.3468e-08, 1.0000e+00, 1.0000e+00, 7.0732e-11,\n",
      "        1.0000e+00, 1.0000e+00, 3.9158e-10, 7.1329e-10, 1.0000e+00, 8.3541e-11,\n",
      "        1.0000e+00, 7.1511e-11, 1.0000e+00, 4.0938e-09, 1.2762e-09, 7.5603e-10,\n",
      "        1.3028e-09, 2.3343e-09, 6.7265e-10, 7.2223e-10], device='cuda:4')\n",
      "[4] Eval metrics for task 1 >> {'accuracy': 46.20284174424302, 'loss': 0.008924345710825418, 'std': 9.91666090457203}\n",
      "[4] Eval metrics for task 2 >> {'accuracy': 85.20618556701031, 'loss': 0.002071496752119556, 'std': 2.0905527044207006}\n",
      "[4] Eval metrics for task 3 >> {'accuracy': 91.65829145728644, 'loss': 0.001040856427882784, 'std': 0.8794706001212349}\n",
      "[4] Eval metrics for task 4 >> {'accuracy': 92.74156264447527, 'loss': 0.0010160757293317586, 'std': 4.670074907009036}\n",
      "training_task_end\n",
      "load_memory_joint: len(train_loader.dataset)=80\n",
      "---------------------------- Task 5 -----------------------\n",
      "### Cplex LS solver ###\n",
      "A.shape=(10, 10000)\n",
      "b.shape=(10,)\n",
      "elapsed time:3394.312\n",
      "[-25.640927   -29.82273862 -27.05692092 -31.87599448 -44.47539557\n",
      " -52.52316272 -44.6395272  -38.44080088 158.09531507 136.38010607]\n",
      "np_weight=tensor([2.5228e-08, 1.0000e+00, 5.4814e-08,  ..., 1.0000e+00, 1.0000e+00,\n",
      "        1.0000e+00])\n",
      "np_weight.shape=torch.Size([10000])\n",
      "np_weight.sum()=tensor(6489.0854)\n",
      "np_weight.max()=tensor(1.)\n",
      "np_weight.min()=tensor(5.6030e-10)\n",
      "elapsed time:157.506\n",
      "[-25.63756296 -29.82008369 -27.05225891 -31.87286935 -44.47702661\n",
      " -52.53210215 -44.64388886 -38.4436101  158.09282019 136.38653613]\n",
      "np_weight2.sum()=tensor(6490.5908)\n",
      "np_weight2.max()=tensor(1.)\n",
      "np_weight2.min()=tensor(5.8340e-09)\n",
      "sample_weight.to(device)=tensor([1.0000e+00, 1.0366e-06, 3.4622e-08, 1.0000e+00, 1.0000e+00, 1.5148e-07,\n",
      "        2.0586e-07, 1.0000e+00, 1.0000e+00, 1.0000e+00, 2.9076e-08, 1.0000e+00,\n",
      "        1.0000e+00, 1.0000e+00, 1.0000e+00, 1.0000e+00, 1.0000e+00, 2.1312e-07,\n",
      "        1.0000e+00, 1.0000e+00, 1.0000e+00, 1.0000e+00, 2.3343e-08, 2.1405e-08,\n",
      "        2.1635e-08, 1.0000e+00, 3.0931e-08, 1.0000e+00, 1.9079e-08, 1.0000e+00,\n",
      "        1.0000e+00, 1.0000e+00, 4.2947e-08, 1.0000e+00, 1.0000e+00, 1.0000e+00,\n",
      "        4.0327e-08, 1.0000e+00, 1.0000e+00, 1.0000e+00, 2.3763e-08, 1.0000e+00,\n",
      "        1.0000e+00, 1.0000e+00, 1.0000e+00, 1.5833e-07, 3.1959e-08, 1.0000e+00,\n",
      "        1.0000e+00, 1.0000e+00, 3.5751e-08, 2.3712e-08, 1.0000e+00, 1.0000e+00,\n",
      "        1.0000e+00, 1.0000e+00, 1.0000e+00, 6.8232e-08, 1.0000e+00, 1.0000e+00,\n",
      "        1.0000e+00, 3.4571e-08, 2.5416e-08, 1.0000e+00], device='cuda:4')\n",
      "[5] Eval metrics for task 1 >> {'accuracy': 39.83341499265066, 'loss': 0.0117525653708279, 'std': 6.166305575402769}\n",
      "[5] Eval metrics for task 2 >> {'accuracy': 77.62886597938144, 'loss': 0.0038387025447235894, 'std': 2.7514041898218045}\n",
      "[5] Eval metrics for task 3 >> {'accuracy': 76.18090452261306, 'loss': 0.0033370414870468215, 'std': 4.868155182865225}\n",
      "[5] Eval metrics for task 4 >> {'accuracy': 89.32038834951456, 'loss': 0.002034002771214429, 'std': 6.693549769450968}\n",
      "[5] Eval metrics for task 5 >> {'accuracy': 87.08467309753483, 'loss': 0.0015969881897698389, 'std': 1.1592895093047006}\n",
      "training_task_end\n",
      "load_memory_joint: len(train_loader.dataset)=100\n",
      "final avg-acc 74.00964938833891\n",
      "final avg-forget 23.443738635235697\n"
     ]
    }
   ],
   "source": [
    "from trainers import ContinualTrainer2\n",
    "\n",
    "trainer = ContinualTrainer2(algorithm, params, callbacks=[metric_manager_callback])\n",
    "trainer.run()\n",
    "print(\"final avg-acc\", metric_manager_callback.meters['accuracy'].compute_final())\n",
    "print(\"final avg-forget\", metric_manager_callback.meters['forgetting'].compute_final())\n",
    "\n"
   ]
  },
  {
   "cell_type": "code",
   "execution_count": 7,
   "id": "c076b062",
   "metadata": {},
   "outputs": [
    {
     "data": {
      "text/plain": [
       "[0.07149799094967046,\n",
       " 7.195538207514794,\n",
       " 16.670258483188597,\n",
       " 19.92810657197638,\n",
       " 18.475081015385467]"
      ]
     },
     "execution_count": 7,
     "metadata": {},
     "output_type": "execute_result"
    }
   ],
   "source": [
    "metric_manager_callback.meters['std'].get_std()"
   ]
  },
  {
   "cell_type": "code",
   "execution_count": 8,
   "id": "7039ed8b",
   "metadata": {},
   "outputs": [
    {
     "data": {
      "text/plain": [
       "array([[97.648,  0.   ,  0.   ,  0.   ,  0.   ],\n",
       "       [80.647, 92.68 ,  0.   ,  0.   ,  0.   ],\n",
       "       [57.864, 92.165, 93.668,  0.   ,  0.   ],\n",
       "       [46.203, 85.206, 91.658, 92.742,  0.   ],\n",
       "       [39.833, 77.629, 76.181, 89.32 , 87.085]])"
      ]
     },
     "execution_count": 8,
     "metadata": {},
     "output_type": "execute_result"
    }
   ],
   "source": [
    "metric_manager_callback.meters['accuracy'].get_data()"
   ]
  },
  {
   "cell_type": "code",
   "execution_count": 9,
   "id": "173c4765",
   "metadata": {},
   "outputs": [
    {
     "data": {
      "text/plain": [
       "83.70120385833575"
      ]
     },
     "execution_count": 9,
     "metadata": {},
     "output_type": "execute_result"
    }
   ],
   "source": [
    "metric_manager_callback.meters['accuracy'].compute_overall()"
   ]
  },
  {
   "cell_type": "code",
   "execution_count": null,
   "id": "706ad34c",
   "metadata": {},
   "outputs": [],
   "source": []
  }
 ],
 "metadata": {
  "kernelspec": {
   "display_name": "cil",
   "language": "python",
   "name": "python3"
  },
  "language_info": {
   "codemirror_mode": {
    "name": "ipython",
    "version": 3
   },
   "file_extension": ".py",
   "mimetype": "text/x-python",
   "name": "python",
   "nbconvert_exporter": "python",
   "pygments_lexer": "ipython3",
   "version": "3.9.18"
  }
 },
 "nbformat": 4,
 "nbformat_minor": 5
}
