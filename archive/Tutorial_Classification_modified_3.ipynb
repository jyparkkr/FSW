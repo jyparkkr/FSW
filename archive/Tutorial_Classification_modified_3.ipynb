{
 "cells": [
  {
   "cell_type": "code",
   "execution_count": 1,
   "id": "b0c3b92f",
   "metadata": {},
   "outputs": [
    {
     "name": "stdout",
     "output_type": "stream",
     "text": [
      "output_dir=./outputs/seed=1_epoch=1q__\n"
     ]
    }
   ],
   "source": [
    "from torchvision.datasets import MNIST, FashionMNIST, CIFAR10\n",
    "import torchvision\n",
    "import numpy as np\n",
    "import random\n",
    "\n",
    "import torch\n",
    "import torch.nn.functional as F\n",
    "import cl_gym as cl\n",
    "\n",
    "import sys\n",
    "import os\n",
    "\n",
    "seed = 1\n",
    "\n",
    "np.random.seed(seed)\n",
    "torch.manual_seed(seed)\n",
    "np.random.seed(seed)\n",
    "random.seed(seed)\n",
    "torch.cuda.manual_seed_all(seed)\n",
    "torch.manual_seed(seed)\n",
    "torch.backends.cudnn.deterministic = True\n",
    "torch.backends.cudnn.benchmark = False\n",
    "torch.backends.cudnn.enabled = False\n",
    "\n",
    "def make_params() -> dict:\n",
    "    import os\n",
    "    from pathlib import Path\n",
    "    import uuid\n",
    "\n",
    "    params = {\n",
    "            # dataset\n",
    "            'dataset': \"MNIST\",\n",
    "            # 'dataset': \"FMNIST\",\n",
    "\n",
    "            # benchmark\n",
    "            'seed': seed,\n",
    "            'num_tasks': 5,\n",
    "            'epochs_per_task': 1,\n",
    "            'per_task_examples': np.inf,\n",
    "            'per_task_memory_examples': 20,\n",
    "            'batch_size_train': 64,\n",
    "            'batch_size_memory': 64,\n",
    "            'batch_size_validation': 256,\n",
    "            'lambda': 10,\n",
    "\n",
    "            # algorithm\n",
    "            'optimizer': 'sgd',\n",
    "            'learning_rate': 0.001,\n",
    "            'momentum': 0.9,\n",
    "            'learning_rate_decay': 1.0,\n",
    "            'criterion': torch.nn.CrossEntropyLoss(),\n",
    "            'device': torch.device('cuda:3' if torch.cuda.is_available() else 'cpu'), }\n",
    "\n",
    "#     trial_id = str(uuid.uuid4())\n",
    "    trial_id = f\"seed={params['seed']}_epoch={params['epochs_per_task']}q__\"\n",
    "    params['trial_id'] = trial_id\n",
    "    params['output_dir'] = os.path.join(\"./outputs/{}\".format(trial_id))\n",
    "    print(f\"output_dir={params['output_dir']}\")\n",
    "    Path(params['output_dir']).mkdir(parents=True, exist_ok=True)\n",
    "\n",
    "    return params\n",
    "\n",
    "params = make_params()"
   ]
  },
  {
   "cell_type": "code",
   "execution_count": 2,
   "id": "93b43ace",
   "metadata": {},
   "outputs": [
    {
     "name": "stdout",
     "output_type": "stream",
     "text": [
      "[2 9 6 4 0 3 1 7 8 5]\n"
     ]
    }
   ],
   "source": [
    "from datasets import MNIST\n",
    "from datasets import FashionMNIST\n",
    "\n",
    "if params['dataset'] == 'MNIST':\n",
    "    benchmark = MNIST(num_tasks=params['num_tasks'],\n",
    "                      per_task_memory_examples=params['per_task_memory_examples'],\n",
    "                      per_task_examples = min(params['per_task_examples'], 10000),\n",
    "                      random_class_idx = True)\n",
    "    label_li = ['0', '1', '2', '3', '4', '5', '6', '7', '8', '9']\n",
    "    n_feature = 28*28\n",
    "\n",
    "elif params['dataset'] == 'FMNIST':\n",
    "    benchmark = FashionMNIST(num_tasks=params['num_tasks'],\n",
    "                             per_task_memory_examples=params['per_task_memory_examples'],\n",
    "                             per_task_examples = min(params['per_task_examples'], 15000),\n",
    "                             random_class_idx = False)\n",
    "\n",
    "    label_li = ['T-shirt/top', 'Trouser', 'Pullover', 'Dress', 'Coat', 'Sandal', 'Shirt', 'Sneaker', 'Bag', \n",
    "                  'Ankel boot']\n",
    "    n_feature = 28*28\n",
    "    \n",
    "elif params['dataset'] == 'CIFAR10':\n",
    "    label_li = ['airplane', 'automobile', 'bird', 'cat', 'deer', 'dog', 'frog', 'horse', 'ship', 'truck']\n",
    "    benchmark = cl.benchmarks.SplitCIFAR10(num_tasks=params['num_tasks'],\n",
    "                                        per_task_memory_examples=params['per_task_memory_examples'])\n",
    "    n_feature = 32*32*3\n",
    "\n",
    "params['alpha'] = 0.005\n",
    "params['lambda'] = 10"
   ]
  },
  {
   "cell_type": "code",
   "execution_count": 3,
   "id": "a330b0c0",
   "metadata": {},
   "outputs": [
    {
     "data": {
      "text/plain": [
       "torch.Size([11907, 1, 28, 28])"
      ]
     },
     "execution_count": 3,
     "metadata": {},
     "output_type": "execute_result"
    }
   ],
   "source": [
    "benchmark.trains[1].inputs.shape"
   ]
  },
  {
   "cell_type": "code",
   "execution_count": 4,
   "id": "d1f11bf5",
   "metadata": {},
   "outputs": [],
   "source": [
    "# import os\n",
    "# os.environ['CUDA_LAUNCH_BLOCKING'] = \"1\"\n",
    "# os.environ[\"CUDA_VISIBLE_DEVICES\"] = \"0\"\n"
   ]
  },
  {
   "cell_type": "code",
   "execution_count": 5,
   "id": "20c7b886",
   "metadata": {},
   "outputs": [],
   "source": [
    "from algorithms import Weighting\n",
    "from metrics import MetricCollector2\n",
    "\n",
    "backbone = cl.backbones.MLP2Layers(input_dim=784, hidden_dim_1=256, hidden_dim_2=256, output_dim=10)\n",
    "algorithm = Weighting(backbone, benchmark, params, requires_memory=True)\n",
    "metric_manager_callback = MetricCollector2(num_tasks=params['num_tasks'],\n",
    "                                                        eval_interval='epoch',\n",
    "                                                        epochs_per_task=params['epochs_per_task'])"
   ]
  },
  {
   "cell_type": "code",
   "execution_count": 6,
   "id": "7c1bb4fe",
   "metadata": {},
   "outputs": [
    {
     "name": "stdout",
     "output_type": "stream",
     "text": [
      "---------------------------- Task 1 -----------------------\n",
      "sample_weight.to(device)=tensor([1., 1., 1., 1., 1., 1., 1., 1., 1., 1., 1., 1., 1., 1., 1., 1., 1., 1.,\n",
      "        1., 1., 1., 1., 1., 1., 1., 1., 1., 1., 1., 1., 1., 1., 1., 1., 1., 1.,\n",
      "        1., 1., 1., 1., 1., 1., 1., 1., 1., 1., 1., 1., 1., 1., 1., 1., 1., 1.,\n",
      "        1., 1., 1., 1., 1., 1., 1., 1., 1., 1.], device='cuda:3')\n",
      "[1] Eval metrics for task 1 >> {'accuracy': 97.64821166095051, 'loss': 0.00030053448386486694, 'std': 0.07149799094967046}\n",
      "training_task_end\n",
      "load_memory_joint: len(train_loader.dataset)=20\n",
      "---------------------------- Task 2 -----------------------\n",
      "### Cplex LS solver ###\n",
      "A.shape=(4, 10000)\n",
      "b.shape=(4,)\n",
      "elapsed time:1429.2\n",
      "[-34.8563534  -33.61251796  33.03582419  35.43305624]\n",
      "np_weight=tensor([0.3412, 0.3267, 0.3032,  ..., 0.3009, 0.3064, 0.2964])\n",
      "np_weight.shape=torch.Size([10000])\n",
      "np_weight.sum()=tensor(3034.4104)\n",
      "np_weight.max()=tensor(0.3412)\n",
      "np_weight.min()=tensor(0.1446)\n",
      "elapsed time:0.018\n",
      "[-34.85635376 -33.61251831  33.03582382  35.43305588]\n",
      "np_weight2.sum()=tensor(3030.2109)\n",
      "np_weight2.max()=tensor(0.4419)\n",
      "np_weight2.min()=tensor(0.1017)\n",
      "sample_weight.to(device)=tensor([0.3255, 0.3041, 0.3062, 0.3308, 0.2960, 0.3079, 0.3069, 0.3251, 0.3229,\n",
      "        0.3271, 0.3266, 0.3061, 0.3244, 0.3067, 0.3019, 0.3249, 0.3033, 0.3244,\n",
      "        0.2077, 0.3073, 0.3040, 0.2953, 0.2096, 0.3262, 0.3254, 0.3242, 0.2053,\n",
      "        0.3270, 0.3042, 0.3061, 0.3000, 0.3017, 0.2088, 0.3059, 0.3256, 0.3036,\n",
      "        0.3102, 0.3251, 0.3230, 0.2993, 0.3065, 0.2922, 0.3058, 0.3061, 0.2065,\n",
      "        0.2988, 0.3064, 0.3240, 0.2823, 0.3300, 0.3047, 0.3088, 0.2913, 0.3244,\n",
      "        0.3007, 0.2415, 0.3079, 0.2919, 0.2069, 0.3052, 0.3009, 0.2487, 0.3239,\n",
      "        0.3034], device='cuda:3')\n",
      "[2] Eval metrics for task 1 >> {'accuracy': 86.23223909848113, 'loss': 0.0019982817241924757, 'std': 5.578043730456894}\n",
      "[2] Eval metrics for task 2 >> {'accuracy': 83.96907216494846, 'loss': 0.002188247150367068, 'std': 5.936608429816021}\n",
      "training_task_end\n",
      "load_memory_joint: len(train_loader.dataset)=40\n",
      "---------------------------- Task 3 -----------------------\n",
      "### Cplex LS solver ###\n",
      "A.shape=(6, 10000)\n",
      "b.shape=(6,)\n",
      "elapsed time:2106.347\n",
      "[-34.76610474 -34.7182608  -29.36538987 -23.36282066  51.70327087\n",
      "  70.50930877]\n",
      "np_weight=tensor([0.2431, 0.2919, 0.2726,  ..., 0.2378, 0.0851, 0.2358])\n",
      "np_weight.shape=torch.Size([10000])\n",
      "np_weight.sum()=tensor(3045.3142)\n",
      "np_weight.max()=tensor(0.6518)\n",
      "np_weight.min()=tensor(0.0730)\n",
      "elapsed time:6.383\n",
      "[-34.76610555 -34.71826161 -29.36539067 -23.36282147  51.70327006\n",
      "  70.50930797]\n",
      "np_weight2.sum()=tensor(3045.8049)\n",
      "np_weight2.max()=tensor(0.7908)\n",
      "np_weight2.min()=tensor(0.0015)\n",
      "sample_weight.to(device)=tensor([0.2430, 0.2503, 0.2415, 0.2329, 0.2057, 0.2206, 0.2211, 0.4746, 0.2142,\n",
      "        0.2384, 0.3543, 0.2113, 0.3191, 0.2406, 0.2423, 0.2100, 0.4730, 0.2385,\n",
      "        0.2305, 0.3427, 0.2365, 0.5593, 0.3151, 0.2196, 0.2380, 0.3258, 0.2117,\n",
      "        0.5643, 0.2373, 0.3024, 0.2416, 0.2388, 0.2169, 0.2198, 0.5358, 0.2101,\n",
      "        0.2161, 0.2141, 0.2387, 0.2378, 0.3242, 0.2472, 0.3480, 0.3318, 0.2368,\n",
      "        0.5940, 0.4616, 0.2386, 0.2687, 0.2423, 0.2095, 0.2503, 0.2734, 0.2420,\n",
      "        0.2827, 0.2361, 0.4667, 0.6234, 0.2408, 0.2408, 0.3719, 0.2837, 0.4841,\n",
      "        0.5528], device='cuda:3')\n",
      "[3] Eval metrics for task 1 >> {'accuracy': 63.05732484076433, 'loss': 0.005433304294659074, 'std': 0.5143629812309369}\n",
      "[3] Eval metrics for task 2 >> {'accuracy': 92.47422680412372, 'loss': 0.00107139252203027, 'std': 0.711767982346112}\n",
      "[3] Eval metrics for task 3 >> {'accuracy': 90.30150753768844, 'loss': 0.0013025797940977855, 'std': 0.7082238836128518}\n",
      "training_task_end\n",
      "load_memory_joint: len(train_loader.dataset)=60\n",
      "---------------------------- Task 4 -----------------------\n",
      "### Cplex LS solver ###\n",
      "A.shape=(8, 10000)\n",
      "b.shape=(8,)\n",
      "elapsed time:2887.909\n",
      "[-31.6990314  -38.75947146 -29.59583678 -38.68685816 -18.82384759\n",
      " -33.07777171  79.90173409 110.74109859]\n",
      "np_weight=tensor([1.0000e+00, 1.1213e-08, 4.1531e-08,  ..., 5.4336e-08, 3.0855e-08,\n",
      "        1.0000e+00])\n",
      "np_weight.shape=torch.Size([10000])\n",
      "np_weight.sum()=tensor(3287.0093)\n",
      "np_weight.max()=tensor(1.)\n",
      "np_weight.min()=tensor(4.4667e-09)\n",
      "elapsed time:156.748\n",
      "[-31.63777311 -38.84611426 -29.54401167 -38.71028308 -18.75400805\n",
      " -33.11286267  79.87197132 110.73309685]\n",
      "np_weight2.sum()=tensor(3297.5737)\n",
      "np_weight2.max()=tensor(1.)\n",
      "np_weight2.min()=tensor(6.4412e-19)\n",
      "sample_weight.to(device)=tensor([2.6374e-08, 1.0000e+00, 6.4846e-08, 1.0000e+00, 7.3304e-08, 7.6241e-08,\n",
      "        1.5195e-08, 1.8959e-08, 8.2782e-08, 1.0783e-08, 1.0000e+00, 1.2565e-08,\n",
      "        2.1528e-07, 7.0491e-09, 4.5166e-08, 1.0000e+00, 9.7484e-08, 4.3990e-08,\n",
      "        5.9164e-08, 6.0127e-09, 4.6781e-08, 7.0232e-07, 1.0000e+00, 1.2738e-08,\n",
      "        3.7617e-08, 1.0000e+00, 1.0000e+00, 1.0000e+00, 4.2813e-08, 1.2979e-08,\n",
      "        5.2015e-08, 4.7240e-08, 4.3832e-08, 3.1542e-08, 1.7916e-08, 5.8471e-07,\n",
      "        1.0000e+00, 3.4295e-08, 1.0000e+00, 1.0000e+00, 6.3209e-08, 1.2903e-08,\n",
      "        8.1168e-09, 1.0000e+00, 1.1002e-07, 3.4291e-08, 1.0000e+00, 2.5335e-08,\n",
      "        1.0000e+00, 1.0000e+00, 4.8577e-08, 1.1734e-08, 7.1967e-07, 8.3809e-09,\n",
      "        2.3813e-08, 1.4324e-08, 2.6601e-08, 1.7022e-08, 1.0000e+00, 1.1230e-08,\n",
      "        1.4791e-08, 4.7720e-08, 9.8486e-09, 1.0402e-08], device='cuda:3')\n",
      "[4] Eval metrics for task 1 >> {'accuracy': 53.699167074963256, 'loss': 0.0077057068164532, 'std': 2.7269112867909726}\n",
      "[4] Eval metrics for task 2 >> {'accuracy': 85.56701030927834, 'loss': 0.002077075163113702, 'std': 4.096705203049461}\n",
      "[4] Eval metrics for task 3 >> {'accuracy': 91.4572864321608, 'loss': 0.0010706684472572864, 'std': 1.5801171953930049}\n",
      "[4] Eval metrics for task 4 >> {'accuracy': 85.11326860841424, 'loss': 0.0019799676059408977, 'std': 8.802344915065397}\n",
      "training_task_end\n",
      "load_memory_joint: len(train_loader.dataset)=80\n",
      "---------------------------- Task 5 -----------------------\n",
      "### Cplex LS solver ###\n",
      "A.shape=(10, 10000)\n",
      "b.shape=(10,)\n",
      "elapsed time:3482.651\n",
      "[-29.58971766 -31.21537034 -27.84712445 -37.32392796 -39.92395874\n",
      " -46.43316391 -36.85168063 -34.29972802 153.36732083 130.11731114]\n",
      "np_weight=tensor([2.4171e-09, 1.0000e+00, 1.6462e-09,  ..., 1.0000e+00, 1.1017e-08,\n",
      "        1.0000e+00])\n",
      "np_weight.shape=torch.Size([10000])\n",
      "np_weight.sum()=tensor(3898.9744)\n",
      "np_weight.max()=tensor(1.)\n",
      "np_weight.min()=tensor(2.2978e-10)\n",
      "elapsed time:167.994\n",
      "[-29.48054103 -31.18044871 -27.73740943 -37.23240574 -39.90499882\n",
      " -46.4686369  -36.91570012 -34.29624322 153.18764519 130.02869913]\n",
      "np_weight2.sum()=tensor(3893.4329)\n",
      "np_weight2.max()=tensor(1.)\n",
      "np_weight2.min()=tensor(2.2416e-07)\n",
      "sample_weight.to(device)=tensor([6.5149e-09, 1.5020e-08, 3.9704e-09, 1.6877e-08, 1.0000e+00, 3.9558e-09,\n",
      "        6.9489e-09, 1.0000e+00, 1.0000e+00, 1.0000e+00, 1.5664e-09, 1.4406e-08,\n",
      "        1.0000e+00, 7.9553e-09, 2.4877e-09, 2.5183e-09, 1.0000e+00, 3.6479e-09,\n",
      "        1.0000e+00, 1.0000e+00, 5.2990e-09, 5.2664e-09, 1.0568e-09, 1.2403e-09,\n",
      "        1.4832e-09, 3.3306e-09, 2.3234e-09, 5.6503e-09, 1.1778e-09, 3.0114e-09,\n",
      "        4.1871e-09, 1.3000e-08, 3.1294e-09, 2.1303e-09, 1.0000e+00, 1.0000e+00,\n",
      "        1.7825e-09, 6.4580e-09, 1.0000e+00, 4.9268e-09, 9.5480e-10, 1.0000e+00,\n",
      "        1.0000e+00, 1.0000e+00, 1.0000e+00, 2.2279e-09, 1.5969e-09, 4.5801e-09,\n",
      "        1.0000e+00, 1.0000e+00, 1.6829e-09, 2.2518e-09, 7.4381e-08, 1.0000e+00,\n",
      "        1.0000e+00, 1.0000e+00, 1.0000e+00, 1.4861e-09, 1.0000e+00, 1.0000e+00,\n",
      "        2.5070e-09, 1.5480e-09, 4.9057e-09, 1.0000e+00], device='cuda:3')\n",
      "[5] Eval metrics for task 1 >> {'accuracy': 43.900048995590396, 'loss': 0.011221046601949166, 'std': 3.6213804442190827}\n",
      "[5] Eval metrics for task 2 >> {'accuracy': 77.57731958762886, 'loss': 0.003909636465544553, 'std': 3.525356202883639}\n",
      "[5] Eval metrics for task 3 >> {'accuracy': 80.25125628140704, 'loss': 0.0027991339489443216, 'std': 3.7734895938573434}\n",
      "[5] Eval metrics for task 4 >> {'accuracy': 89.69024503005086, 'loss': 0.0019353668115450946, 'std': 7.787500642794698}\n",
      "[5] Eval metrics for task 5 >> {'accuracy': 81.29689174705251, 'loss': 0.002470539697113528, 'std': 6.139216029318328}\n",
      "training_task_end\n",
      "load_memory_joint: len(train_loader.dataset)=100\n",
      "final avg-acc 74.54315232834593\n",
      "final avg-forget 19.96277500815218\n"
     ]
    }
   ],
   "source": [
    "from trainers import ContinualTrainer2\n",
    "\n",
    "trainer = ContinualTrainer2(algorithm, params, callbacks=[metric_manager_callback])\n",
    "trainer.run()\n",
    "print(\"final avg-acc\", metric_manager_callback.meters['accuracy'].compute_final())\n",
    "print(\"final avg-forget\", metric_manager_callback.meters['forgetting'].compute_final())\n",
    "\n"
   ]
  },
  {
   "cell_type": "code",
   "execution_count": 7,
   "id": "c076b062",
   "metadata": {},
   "outputs": [
    {
     "data": {
      "text/plain": [
       "[0.07149799094967046,\n",
       " 5.8702152342299145,\n",
       " 13.400408836944887,\n",
       " 15.652509626260498,\n",
       " 16.697021968711205]"
      ]
     },
     "execution_count": 7,
     "metadata": {},
     "output_type": "execute_result"
    }
   ],
   "source": [
    "metric_manager_callback.meters['std'].get_std()"
   ]
  },
  {
   "cell_type": "code",
   "execution_count": 8,
   "id": "7039ed8b",
   "metadata": {},
   "outputs": [
    {
     "data": {
      "text/plain": [
       "array([[97.648,  0.   ,  0.   ,  0.   ,  0.   ],\n",
       "       [86.232, 83.969,  0.   ,  0.   ,  0.   ],\n",
       "       [63.057, 92.474, 90.302,  0.   ,  0.   ],\n",
       "       [53.699, 85.567, 91.457, 85.113,  0.   ],\n",
       "       [43.9  , 77.577, 80.251, 89.69 , 81.297]])"
      ]
     },
     "execution_count": 8,
     "metadata": {},
     "output_type": "execute_result"
    }
   ],
   "source": [
    "metric_manager_callback.meters['accuracy'].get_data()"
   ]
  },
  {
   "cell_type": "code",
   "execution_count": 9,
   "id": "173c4765",
   "metadata": {},
   "outputs": [
    {
     "data": {
      "text/plain": [
       "83.63911115761483"
      ]
     },
     "execution_count": 9,
     "metadata": {},
     "output_type": "execute_result"
    }
   ],
   "source": [
    "metric_manager_callback.meters['accuracy'].compute_overall()"
   ]
  },
  {
   "cell_type": "code",
   "execution_count": null,
   "id": "706ad34c",
   "metadata": {},
   "outputs": [],
   "source": []
  }
 ],
 "metadata": {
  "kernelspec": {
   "display_name": "cil",
   "language": "python",
   "name": "python3"
  },
  "language_info": {
   "codemirror_mode": {
    "name": "ipython",
    "version": 3
   },
   "file_extension": ".py",
   "mimetype": "text/x-python",
   "name": "python",
   "nbconvert_exporter": "python",
   "pygments_lexer": "ipython3",
   "version": "3.9.18"
  }
 },
 "nbformat": 4,
 "nbformat_minor": 5
}
