{
 "cells": [
  {
   "cell_type": "code",
   "execution_count": 1,
   "id": "b0c3b92f",
   "metadata": {},
   "outputs": [
    {
     "name": "stdout",
     "output_type": "stream",
     "text": [
      "output_dir=./outputs/seed=1_epoch=1q__\n"
     ]
    }
   ],
   "source": [
    "from torchvision.datasets import MNIST, FashionMNIST, CIFAR10\n",
    "import torchvision\n",
    "import numpy as np\n",
    "import random\n",
    "\n",
    "import torch\n",
    "import torch.nn.functional as F\n",
    "import cl_gym as cl\n",
    "\n",
    "import sys\n",
    "import os\n",
    "\n",
    "seed = 1\n",
    "\n",
    "np.random.seed(seed)\n",
    "torch.manual_seed(seed)\n",
    "np.random.seed(seed)\n",
    "random.seed(seed)\n",
    "torch.cuda.manual_seed_all(seed)\n",
    "torch.manual_seed(seed)\n",
    "torch.backends.cudnn.deterministic = True\n",
    "torch.backends.cudnn.benchmark = False\n",
    "torch.backends.cudnn.enabled = False\n",
    "\n",
    "def make_params() -> dict:\n",
    "    import os\n",
    "    from pathlib import Path\n",
    "    import uuid\n",
    "\n",
    "    params = {\n",
    "            # dataset\n",
    "            'dataset': \"MNIST\",\n",
    "            # 'dataset': \"FMNIST\",\n",
    "\n",
    "            # benchmark\n",
    "            'seed': seed,\n",
    "            'num_tasks': 5,\n",
    "            'epochs_per_task': 1,\n",
    "            'per_task_examples': np.inf,\n",
    "            'per_task_memory_examples': 20,\n",
    "            'batch_size_train': 64,\n",
    "            'batch_size_memory': 64,\n",
    "            'batch_size_validation': 256,\n",
    "            'tau': 10,\n",
    "\n",
    "            # algorithm\n",
    "            'optimizer': 'sgd',\n",
    "            'learning_rate': 0.001,\n",
    "            'momentum': 0.9,\n",
    "            'learning_rate_decay': 1.0,\n",
    "            'criterion': torch.nn.CrossEntropyLoss(),\n",
    "            'device': torch.device('cuda:2' if torch.cuda.is_available() else 'cpu'), }\n",
    "\n",
    "#     trial_id = str(uuid.uuid4())\n",
    "    trial_id = f\"seed={params['seed']}_epoch={params['epochs_per_task']}q__\"\n",
    "    params['trial_id'] = trial_id\n",
    "    params['output_dir'] = os.path.join(\"./outputs/{}\".format(trial_id))\n",
    "    print(f\"output_dir={params['output_dir']}\")\n",
    "    Path(params['output_dir']).mkdir(parents=True, exist_ok=True)\n",
    "\n",
    "    return params\n",
    "\n",
    "params = make_params()"
   ]
  },
  {
   "cell_type": "code",
   "execution_count": 2,
   "id": "93b43ace",
   "metadata": {},
   "outputs": [
    {
     "name": "stdout",
     "output_type": "stream",
     "text": [
      "[2 9 6 4 0 3 1 7 8 5]\n"
     ]
    }
   ],
   "source": [
    "from datasets import MNIST\n",
    "from datasets import FashionMNIST\n",
    "\n",
    "if params['dataset'] == 'MNIST':\n",
    "    benchmark = MNIST(num_tasks=params['num_tasks'],\n",
    "                      per_task_memory_examples=params['per_task_memory_examples'],\n",
    "                      per_task_examples = min(params['per_task_examples'], 10000),\n",
    "                      random_class_idx = True)\n",
    "    label_li = ['0', '1', '2', '3', '4', '5', '6', '7', '8', '9']\n",
    "    n_feature = 28*28\n",
    "\n",
    "elif params['dataset'] == 'FMNIST':\n",
    "    benchmark = FashionMNIST(num_tasks=params['num_tasks'],\n",
    "                             per_task_memory_examples=params['per_task_memory_examples'],\n",
    "                             per_task_examples = min(params['per_task_examples'], 15000),\n",
    "                             random_class_idx = False)\n",
    "\n",
    "    label_li = ['T-shirt/top', 'Trouser', 'Pullover', 'Dress', 'Coat', 'Sandal', 'Shirt', 'Sneaker', 'Bag', \n",
    "                  'Ankel boot']\n",
    "    n_feature = 28*28\n",
    "    \n",
    "elif params['dataset'] == 'CIFAR10':\n",
    "    label_li = ['airplane', 'automobile', 'bird', 'cat', 'deer', 'dog', 'frog', 'horse', 'ship', 'truck']\n",
    "    benchmark = cl.benchmarks.SplitCIFAR10(num_tasks=params['num_tasks'],\n",
    "                                        per_task_memory_examples=params['per_task_memory_examples'])\n",
    "    n_feature = 32*32*3\n",
    "\n",
    "params['alpha'] = 0.008\n",
    "params['tau'] = 10"
   ]
  },
  {
   "cell_type": "code",
   "execution_count": 3,
   "id": "a330b0c0",
   "metadata": {},
   "outputs": [
    {
     "data": {
      "text/plain": [
       "torch.Size([11907, 1, 28, 28])"
      ]
     },
     "execution_count": 3,
     "metadata": {},
     "output_type": "execute_result"
    }
   ],
   "source": [
    "benchmark.trains[1].inputs.shape"
   ]
  },
  {
   "cell_type": "code",
   "execution_count": 4,
   "id": "d1f11bf5",
   "metadata": {},
   "outputs": [],
   "source": [
    "# import os\n",
    "# os.environ['CUDA_LAUNCH_BLOCKING'] = \"1\"\n",
    "# os.environ[\"CUDA_VISIBLE_DEVICES\"] = \"0\"\n"
   ]
  },
  {
   "cell_type": "code",
   "execution_count": 5,
   "id": "20c7b886",
   "metadata": {},
   "outputs": [],
   "source": [
    "from algorithms import Weighting\n",
    "from metrics import MetricCollector2\n",
    "\n",
    "backbone = cl.backbones.MLP2Layers(input_dim=784, hidden_dim_1=256, hidden_dim_2=256, output_dim=10)\n",
    "algorithm = Weighting(backbone, benchmark, params, requires_memory=True)\n",
    "metric_manager_callback = MetricCollector2(num_tasks=params['num_tasks'],\n",
    "                                                        eval_interval='epoch',\n",
    "                                                        epochs_per_task=params['epochs_per_task'])"
   ]
  },
  {
   "cell_type": "code",
   "execution_count": 6,
   "id": "7c1bb4fe",
   "metadata": {},
   "outputs": [
    {
     "name": "stdout",
     "output_type": "stream",
     "text": [
      "---------------------------- Task 1 -----------------------\n",
      "sample_weight.to(device)=tensor([1., 1., 1., 1., 1., 1., 1., 1., 1., 1., 1., 1., 1., 1., 1., 1., 1., 1.,\n",
      "        1., 1., 1., 1., 1., 1., 1., 1., 1., 1., 1., 1., 1., 1., 1., 1., 1., 1.,\n",
      "        1., 1., 1., 1., 1., 1., 1., 1., 1., 1., 1., 1., 1., 1., 1., 1., 1., 1.,\n",
      "        1., 1., 1., 1., 1., 1., 1., 1., 1., 1.], device='cuda:2')\n",
      "[1] Eval metrics for task 1 >> {'accuracy': 97.64821166095051, 'loss': 0.00030053448386486694, 'std': 0.07149799094967046}\n",
      "training_task_end\n",
      "load_memory_joint: len(train_loader.dataset)=20\n",
      "---------------------------- Task 2 -----------------------\n",
      "### Cplex LS solver ###\n",
      "A.shape=(4, 10000)\n",
      "b.shape=(4,)\n",
      "elapsed time:1337.1\n",
      "[-34.85635375 -33.61251832  33.03582385  35.43305589]\n",
      "np_weight=tensor([0.2084, 0.1957, 0.1772,  ..., 0.1782, 0.1795, 0.1743])\n",
      "np_weight.shape=torch.Size([10000])\n",
      "np_weight.sum()=tensor(1895.2158)\n",
      "np_weight.max()=tensor(0.2959)\n",
      "np_weight.min()=tensor(0.0616)\n",
      "elapsed time:0.007\n",
      "[-34.85635376 -33.61251831  33.03582382  35.43305588]\n",
      "np_weight2.sum()=tensor(1892.7435)\n",
      "np_weight2.max()=tensor(0.2161)\n",
      "np_weight2.min()=tensor(0.1329)\n",
      "sample_weight.to(device)=tensor([0.1994, 0.1791, 0.1799, 0.1945, 0.1729, 0.1809, 0.2204, 0.2009, 0.1995,\n",
      "        0.2003, 0.1951, 0.2198, 0.1983, 0.2202, 0.1766, 0.2000, 0.1782, 0.1990,\n",
      "        0.0665, 0.2206, 0.1777, 0.1725, 0.1733, 0.2021, 0.2017, 0.1986, 0.1703,\n",
      "        0.1979, 0.1777, 0.2199, 0.1755, 0.1765, 0.1720, 0.1791, 0.1978, 0.1775,\n",
      "        0.1843, 0.2001, 0.2001, 0.1751, 0.2200, 0.1714, 0.1789, 0.2198, 0.1695,\n",
      "        0.1744, 0.2200, 0.2004, 0.0913, 0.1934, 0.1782, 0.2217, 0.1704, 0.1989,\n",
      "        0.1754, 0.1959, 0.1809, 0.1728, 0.1704, 0.1789, 0.1763, 0.2015, 0.2000,\n",
      "        0.1783], device='cuda:2')\n",
      "[2] Eval metrics for task 1 >> {'accuracy': 91.81773640372367, 'loss': 0.0013699594416027266, 'std': 5.346983735527538}\n",
      "[2] Eval metrics for task 2 >> {'accuracy': 61.90721649484536, 'loss': 0.00432095487707669, 'std': 17.211795619693095}\n",
      "training_task_end\n",
      "load_memory_joint: len(train_loader.dataset)=40\n",
      "---------------------------- Task 3 -----------------------\n",
      "### Cplex LS solver ###\n",
      "A.shape=(6, 10000)\n",
      "b.shape=(6,)\n",
      "elapsed time:2065.941\n",
      "[-33.01860316 -32.95740779 -22.27745514 -13.57115444  41.5243122\n",
      "  60.3003208 ]\n",
      "np_weight=tensor([0.1625, 0.2446, 0.2549,  ..., 0.1289, 0.0348, 0.1257])\n",
      "np_weight.shape=torch.Size([10000])\n",
      "np_weight.sum()=tensor(1526.6991)\n",
      "np_weight.max()=tensor(0.9985)\n",
      "np_weight.min()=tensor(0.0256)\n",
      "elapsed time:26.835\n",
      "[-33.01860382 -32.95740845 -22.27745582 -13.5711551   41.52431152\n",
      "  60.30032013]\n",
      "np_weight2.sum()=tensor(1525.3452)\n",
      "np_weight2.max()=tensor(0.9787)\n",
      "np_weight2.min()=tensor(2.8136e-05)\n",
      "sample_weight.to(device)=tensor([0.1341, 0.1402, 0.1311, 0.1146, 0.0290, 0.1234, 0.1256, 0.2147, 0.1092,\n",
      "        0.1250, 0.0881, 0.1140, 0.2057, 0.1275, 0.1301, 0.1100, 0.1476, 0.1273,\n",
      "        0.2085, 0.1685, 0.1259, 0.2200, 0.1644, 0.1230, 0.1376, 0.1539, 0.1200,\n",
      "        0.1917, 0.1243, 0.0930, 0.1481, 0.1275, 0.1326, 0.2203, 0.1786, 0.0348,\n",
      "        0.1302, 0.1184, 0.1272, 0.1267, 0.1882, 0.1480, 0.1481, 0.1639, 0.1261,\n",
      "        0.2187, 0.1431, 0.1264, 0.1681, 0.1357, 0.0303, 0.1481, 0.2393, 0.1501,\n",
      "        0.1599, 0.1264, 0.1941, 0.2526, 0.1288, 0.1523, 0.1384, 0.1547, 0.1878,\n",
      "        0.1512], device='cuda:2')\n",
      "[3] Eval metrics for task 1 >> {'accuracy': 70.45565899069084, 'loss': 0.004256653557917115, 'std': 0.0879679781194076}\n",
      "[3] Eval metrics for task 2 >> {'accuracy': 93.09278350515464, 'loss': 0.0010297392139729765, 'std': 0.12075394682574125}\n",
      "[3] Eval metrics for task 3 >> {'accuracy': 67.28643216080403, 'loss': 0.003721641326070431, 'std': 1.7498484542331771}\n",
      "training_task_end\n",
      "load_memory_joint: len(train_loader.dataset)=60\n",
      "---------------------------- Task 4 -----------------------\n",
      "### Cplex LS solver ###\n",
      "A.shape=(8, 10000)\n",
      "b.shape=(8,)\n",
      "elapsed time:2917.659\n",
      "[-33.58263708 -35.49354067 -31.52023958 -35.79674368 -13.47305653\n",
      " -20.35125538  66.48357252 103.73391675]\n",
      "np_weight=tensor([5.6292e-10, 3.5545e-10, 5.2735e-10,  ..., 1.7781e-09, 2.9345e-10,\n",
      "        2.6399e-09])\n",
      "np_weight.shape=torch.Size([10000])\n",
      "np_weight.sum()=tensor(1866.4645)\n",
      "np_weight.max()=tensor(1.)\n",
      "np_weight.min()=tensor(2.1468e-10)\n",
      "elapsed time:149.19\n",
      "[-33.55028624 -35.72494334 -31.26234807 -36.07927008 -13.32788236\n",
      " -20.415838    66.49943928 103.86114451]\n",
      "np_weight2.sum()=tensor(1880.3407)\n",
      "np_weight2.max()=tensor(1.)\n",
      "np_weight2.min()=tensor(4.8196e-07)\n",
      "sample_weight.to(device)=tensor([3.4843e-10, 1.0000e+00, 3.6502e-10, 1.0000e+00, 1.5301e-09, 2.1036e-09,\n",
      "        3.4663e-10, 3.0646e-09, 6.0697e-10, 2.8209e-10, 1.0000e+00, 4.5551e-10,\n",
      "        2.4948e-09, 5.4648e-09, 1.0000e+00, 8.4334e-09, 4.7724e-10, 1.7537e-09,\n",
      "        1.8517e-09, 1.1012e-09, 1.5211e-09, 2.3799e-09, 6.7104e-09, 3.3448e-10,\n",
      "        1.0000e+00, 1.0000e+00, 1.0000e+00, 2.1163e-09, 3.5706e-09, 3.4884e-10,\n",
      "        1.6043e-09, 8.4222e-10, 8.0265e-10, 6.6757e-10, 7.2052e-10, 1.6433e-09,\n",
      "        3.8106e-08, 5.5227e-10, 1.0000e+00, 1.0000e+00, 1.6128e-09, 2.8438e-10,\n",
      "        6.5518e-09, 3.3015e-08, 2.6942e-09, 4.5998e-10, 1.0000e+00, 5.7482e-09,\n",
      "        3.4520e-09, 1.6720e-09, 3.7605e-08, 4.1922e-10, 3.2562e-10, 1.4454e-09,\n",
      "        5.5226e-10, 1.1870e-08, 3.9948e-10, 3.1108e-10, 1.0000e+00, 2.8247e-10,\n",
      "        2.9516e-10, 2.3101e-09, 2.5905e-10, 2.7410e-10], device='cuda:2')\n",
      "[4] Eval metrics for task 1 >> {'accuracy': 60.41156295933366, 'loss': 0.006680098717730166, 'std': 1.1218798257542573}\n",
      "[4] Eval metrics for task 2 >> {'accuracy': 86.5979381443299, 'loss': 0.0019699044295192992, 'std': 4.599492323195387}\n",
      "[4] Eval metrics for task 3 >> {'accuracy': 89.54773869346734, 'loss': 0.0013409495653219558, 'std': 3.360779955546578}\n",
      "[4] Eval metrics for task 4 >> {'accuracy': 64.95607951918632, 'loss': 0.0038772091179934574, 'std': 0.3474519618094196}\n",
      "training_task_end\n",
      "load_memory_joint: len(train_loader.dataset)=80\n",
      "---------------------------- Task 5 -----------------------\n",
      "### Cplex LS solver ###\n",
      "A.shape=(10, 10000)\n",
      "b.shape=(10,)\n",
      "elapsed time:3672.886\n",
      "[-36.87205561 -33.20230752 -31.7678182  -37.23296849 -35.93545804\n",
      " -39.13672813 -18.60841157 -27.48597672 140.5857656  119.65592641]\n",
      "np_weight=tensor([4.1112e-08, 1.0000e+00, 9.9906e-09,  ..., 3.7979e-08, 6.6332e-08,\n",
      "        1.0000e+00])\n",
      "np_weight.shape=torch.Size([10000])\n",
      "np_weight.sum()=tensor(2376.7400)\n",
      "np_weight.max()=tensor(1.)\n",
      "np_weight.min()=tensor(7.2915e-09)\n",
      "elapsed time:157.655\n",
      "[-36.84948999 -33.02645684 -31.48849411 -37.33024898 -35.960145\n",
      " -39.45149183 -18.7729744  -27.62036144 140.7635588  119.73607269]\n",
      "np_weight2.sum()=tensor(2374.9048)\n",
      "np_weight2.max()=tensor(1.)\n",
      "np_weight2.min()=tensor(3.5799e-05)\n",
      "sample_weight.to(device)=tensor([1.5042e-08, 9.9623e-08, 8.5497e-08, 3.5349e-08, 1.4820e-07, 1.4617e-08,\n",
      "        2.3482e-08, 1.0000e+00, 2.7019e-07, 1.0000e+00, 1.1419e-08, 2.5420e-08,\n",
      "        4.1887e-08, 5.1228e-08, 1.3825e-08, 1.1728e-08, 1.0000e+00, 4.1318e-08,\n",
      "        1.0000e+00, 1.0000e+00, 5.6228e-07, 3.3485e-08, 9.9427e-09, 8.2573e-09,\n",
      "        1.2126e-08, 2.5696e-08, 3.8228e-08, 4.0859e-08, 9.2740e-09, 1.6166e-08,\n",
      "        1.4111e-08, 2.3901e-08, 4.5699e-08, 1.8923e-08, 2.9490e-08, 1.0000e+00,\n",
      "        1.2842e-08, 1.6843e-08, 1.0000e+00, 1.8812e-08, 1.1405e-08, 5.4894e-07,\n",
      "        1.0000e+00, 1.0000e+00, 2.8897e-08, 1.5302e-08, 1.1034e-08, 3.1952e-08,\n",
      "        1.0000e+00, 1.0000e+00, 1.4841e-08, 1.9367e-08, 1.7339e-08, 1.0000e+00,\n",
      "        1.0000e+00, 6.4842e-08, 1.0000e+00, 1.1901e-08, 1.0000e+00, 1.0000e+00,\n",
      "        1.4007e-08, 9.9527e-09, 2.2201e-08, 1.0000e+00], device='cuda:2')\n",
      "[5] Eval metrics for task 1 >> {'accuracy': 47.1827535521803, 'loss': 0.010260251852182241, 'std': 1.8693195350373752}\n",
      "[5] Eval metrics for task 2 >> {'accuracy': 77.78350515463917, 'loss': 0.003770349289953094, 'std': 2.594827989404269}\n",
      "[5] Eval metrics for task 3 >> {'accuracy': 80.40201005025126, 'loss': 0.0027573719096543204, 'std': 2.2176197211557893}\n",
      "[5] Eval metrics for task 4 >> {'accuracy': 90.93851132686085, 'loss': 0.0015879861194118548, 'std': 7.308490032396852}\n",
      "[5] Eval metrics for task 5 >> {'accuracy': 74.06216505894963, 'loss': 0.003366432932284356, 'std': 7.263169768234179}\n",
      "training_task_end\n",
      "load_memory_joint: len(train_loader.dataset)=100\n",
      "final avg-acc 74.07378902857624\n",
      "final avg-forget 18.730116275625438\n"
     ]
    }
   ],
   "source": [
    "from trainers import ContinualTrainer2\n",
    "\n",
    "trainer = ContinualTrainer2(algorithm, params, callbacks=[metric_manager_callback])\n",
    "trainer.run()\n",
    "print(\"final avg-acc\", metric_manager_callback.meters['accuracy'].compute_final())\n",
    "print(\"final avg-forget\", metric_manager_callback.meters['forgetting'].compute_final())\n",
    "\n"
   ]
  },
  {
   "cell_type": "code",
   "execution_count": 7,
   "id": "c076b062",
   "metadata": {},
   "outputs": [
    {
     "data": {
      "text/plain": [
       "[0.07149799094967046,\n",
       " 19.648864396343434,\n",
       " 11.535953667515464,\n",
       " 13.163478635216029,\n",
       " 15.37964982712556]"
      ]
     },
     "execution_count": 7,
     "metadata": {},
     "output_type": "execute_result"
    }
   ],
   "source": [
    "metric_manager_callback.meters['std'].get_std()"
   ]
  },
  {
   "cell_type": "code",
   "execution_count": 8,
   "id": "7039ed8b",
   "metadata": {},
   "outputs": [
    {
     "data": {
      "text/plain": [
       "array([[97.648,  0.   ,  0.   ,  0.   ,  0.   ],\n",
       "       [91.818, 61.907,  0.   ,  0.   ,  0.   ],\n",
       "       [70.456, 93.093, 67.286,  0.   ,  0.   ],\n",
       "       [60.412, 86.598, 89.548, 64.956,  0.   ],\n",
       "       [47.183, 77.784, 80.402, 90.939, 74.062]])"
      ]
     },
     "execution_count": 8,
     "metadata": {},
     "output_type": "execute_result"
    }
   ],
   "source": [
    "metric_manager_callback.meters['accuracy'].get_data()"
   ]
  },
  {
   "cell_type": "code",
   "execution_count": 9,
   "id": "173c4765",
   "metadata": {},
   "outputs": [
    {
     "data": {
      "text/plain": [
       "80.18155303735475"
      ]
     },
     "execution_count": 9,
     "metadata": {},
     "output_type": "execute_result"
    }
   ],
   "source": [
    "metric_manager_callback.meters['accuracy'].compute_overall()"
   ]
  },
  {
   "cell_type": "code",
   "execution_count": null,
   "id": "706ad34c",
   "metadata": {},
   "outputs": [],
   "source": []
  }
 ],
 "metadata": {
  "kernelspec": {
   "display_name": "cil",
   "language": "python",
   "name": "python3"
  },
  "language_info": {
   "codemirror_mode": {
    "name": "ipython",
    "version": 3
   },
   "file_extension": ".py",
   "mimetype": "text/x-python",
   "name": "python",
   "nbconvert_exporter": "python",
   "pygments_lexer": "ipython3",
   "version": "3.9.18"
  }
 },
 "nbformat": 4,
 "nbformat_minor": 5
}
