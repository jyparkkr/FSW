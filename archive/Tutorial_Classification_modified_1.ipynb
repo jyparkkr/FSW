{
 "cells": [
  {
   "cell_type": "code",
   "execution_count": 1,
   "id": "b0c3b92f",
   "metadata": {},
   "outputs": [
    {
     "name": "stdout",
     "output_type": "stream",
     "text": [
      "output_dir=./outputs/seed=1_epoch=1q__\n"
     ]
    }
   ],
   "source": [
    "from torchvision.datasets import MNIST, FashionMNIST, CIFAR10\n",
    "import torchvision\n",
    "import numpy as np\n",
    "import random\n",
    "\n",
    "import torch\n",
    "import torch.nn.functional as F\n",
    "import cl_gym as cl\n",
    "\n",
    "import sys\n",
    "import os\n",
    "\n",
    "seed = 1\n",
    "\n",
    "np.random.seed(seed)\n",
    "torch.manual_seed(seed)\n",
    "np.random.seed(seed)\n",
    "random.seed(seed)\n",
    "torch.cuda.manual_seed_all(seed)\n",
    "torch.manual_seed(seed)\n",
    "torch.backends.cudnn.deterministic = True\n",
    "torch.backends.cudnn.benchmark = False\n",
    "torch.backends.cudnn.enabled = False\n",
    "\n",
    "def make_params() -> dict:\n",
    "    import os\n",
    "    from pathlib import Path\n",
    "    import uuid\n",
    "\n",
    "    params = {\n",
    "            # dataset\n",
    "            'dataset': \"MNIST\",\n",
    "            # 'dataset': \"FMNIST\",\n",
    "\n",
    "            # benchmark\n",
    "            'seed': seed,\n",
    "            'num_tasks': 5,\n",
    "            'epochs_per_task': 1,\n",
    "            'per_task_examples': np.inf,\n",
    "            'per_task_memory_examples': 20,\n",
    "            'batch_size_train': 64,\n",
    "            'batch_size_memory': 64,\n",
    "            'batch_size_validation': 256,\n",
    "            'lambda': 10,\n",
    "\n",
    "            # algorithm\n",
    "            'optimizer': 'sgd',\n",
    "            'learning_rate': 0.001,\n",
    "            'momentum': 0.9,\n",
    "            'learning_rate_decay': 1.0,\n",
    "            'criterion': torch.nn.CrossEntropyLoss(),\n",
    "            'device': torch.device('cuda:1' if torch.cuda.is_available() else 'cpu'), }\n",
    "\n",
    "#     trial_id = str(uuid.uuid4())\n",
    "    trial_id = f\"seed={params['seed']}_epoch={params['epochs_per_task']}q__\"\n",
    "    params['trial_id'] = trial_id\n",
    "    params['output_dir'] = os.path.join(\"./outputs/{}\".format(trial_id))\n",
    "    print(f\"output_dir={params['output_dir']}\")\n",
    "    Path(params['output_dir']).mkdir(parents=True, exist_ok=True)\n",
    "\n",
    "    return params\n",
    "\n",
    "params = make_params()"
   ]
  },
  {
   "cell_type": "code",
   "execution_count": 2,
   "id": "93b43ace",
   "metadata": {},
   "outputs": [
    {
     "name": "stdout",
     "output_type": "stream",
     "text": [
      "[2 9 6 4 0 3 1 7 8 5]\n"
     ]
    }
   ],
   "source": [
    "from datasets import MNIST\n",
    "from datasets import FashionMNIST\n",
    "\n",
    "if params['dataset'] == 'MNIST':\n",
    "    benchmark = MNIST(num_tasks=params['num_tasks'],\n",
    "                      per_task_memory_examples=params['per_task_memory_examples'],\n",
    "                      per_task_examples = min(params['per_task_examples'], 10000),\n",
    "                      random_class_idx = True)\n",
    "    label_li = ['0', '1', '2', '3', '4', '5', '6', '7', '8', '9']\n",
    "    n_feature = 28*28\n",
    "\n",
    "elif params['dataset'] == 'FMNIST':\n",
    "    benchmark = FashionMNIST(num_tasks=params['num_tasks'],\n",
    "                             per_task_memory_examples=params['per_task_memory_examples'],\n",
    "                             per_task_examples = min(params['per_task_examples'], 15000),\n",
    "                             random_class_idx = False)\n",
    "\n",
    "    label_li = ['T-shirt/top', 'Trouser', 'Pullover', 'Dress', 'Coat', 'Sandal', 'Shirt', 'Sneaker', 'Bag', \n",
    "                  'Ankel boot']\n",
    "    n_feature = 28*28\n",
    "    \n",
    "elif params['dataset'] == 'CIFAR10':\n",
    "    label_li = ['airplane', 'automobile', 'bird', 'cat', 'deer', 'dog', 'frog', 'horse', 'ship', 'truck']\n",
    "    benchmark = cl.benchmarks.SplitCIFAR10(num_tasks=params['num_tasks'],\n",
    "                                        per_task_memory_examples=params['per_task_memory_examples'])\n",
    "    n_feature = 32*32*3\n",
    "\n",
    "params['alpha'] = 0.01\n",
    "params['lambda'] = 10"
   ]
  },
  {
   "cell_type": "code",
   "execution_count": 3,
   "id": "a330b0c0",
   "metadata": {},
   "outputs": [
    {
     "data": {
      "text/plain": [
       "torch.Size([11907, 1, 28, 28])"
      ]
     },
     "execution_count": 3,
     "metadata": {},
     "output_type": "execute_result"
    }
   ],
   "source": [
    "benchmark.trains[1].inputs.shape"
   ]
  },
  {
   "cell_type": "code",
   "execution_count": 4,
   "id": "d1f11bf5",
   "metadata": {},
   "outputs": [],
   "source": [
    "# import os\n",
    "# os.environ['CUDA_LAUNCH_BLOCKING'] = \"1\"\n",
    "# os.environ[\"CUDA_VISIBLE_DEVICES\"] = \"0\"\n"
   ]
  },
  {
   "cell_type": "code",
   "execution_count": 5,
   "id": "20c7b886",
   "metadata": {},
   "outputs": [],
   "source": [
    "from algorithms import Weighting\n",
    "from metrics import MetricCollector2\n",
    "\n",
    "backbone = cl.backbones.MLP2Layers(input_dim=784, hidden_dim_1=256, hidden_dim_2=256, output_dim=10)\n",
    "algorithm = Weighting(backbone, benchmark, params, requires_memory=True)\n",
    "metric_manager_callback = MetricCollector2(num_tasks=params['num_tasks'],\n",
    "                                                        eval_interval='epoch',\n",
    "                                                        epochs_per_task=params['epochs_per_task'])"
   ]
  },
  {
   "cell_type": "code",
   "execution_count": 6,
   "id": "7c1bb4fe",
   "metadata": {},
   "outputs": [
    {
     "name": "stdout",
     "output_type": "stream",
     "text": [
      "---------------------------- Task 1 -----------------------\n",
      "sample_weight.to(device)=tensor([1., 1., 1., 1., 1., 1., 1., 1., 1., 1., 1., 1., 1., 1., 1., 1., 1., 1.,\n",
      "        1., 1., 1., 1., 1., 1., 1., 1., 1., 1., 1., 1., 1., 1., 1., 1., 1., 1.,\n",
      "        1., 1., 1., 1., 1., 1., 1., 1., 1., 1., 1., 1., 1., 1., 1., 1., 1., 1.,\n",
      "        1., 1., 1., 1., 1., 1., 1., 1., 1., 1.], device='cuda:1')\n",
      "[1] Eval metrics for task 1 >> {'accuracy': 97.64821166095051, 'loss': 0.00030053448386486694, 'std': 0.07149799094967046}\n",
      "training_task_end\n",
      "load_memory_joint: len(train_loader.dataset)=20\n",
      "---------------------------- Task 2 -----------------------\n",
      "### Cplex LS solver ###\n",
      "A.shape=(4, 10000)\n",
      "b.shape=(4,)\n",
      "elapsed time:1338.568\n",
      "[-34.85635341 -33.61251797  33.03582417  35.43305622]\n",
      "np_weight=tensor([0.1742, 0.1637, 0.1527,  ..., 0.1513, 0.1550, 0.1480])\n",
      "np_weight.shape=torch.Size([10000])\n",
      "np_weight.sum()=tensor(1517.7588)\n",
      "np_weight.max()=tensor(0.1842)\n",
      "np_weight.min()=tensor(0.0525)\n",
      "elapsed time:0.011\n",
      "[-34.85635376 -33.61251831  33.03582382  35.43305588]\n",
      "np_weight2.sum()=tensor(1515.1055)\n",
      "np_weight2.max()=tensor(0.2210)\n",
      "np_weight2.min()=tensor(0.0508)\n",
      "sample_weight.to(device)=tensor([0.1638, 0.1535, 0.1550, 0.1660, 0.1475, 0.1561, 0.1554, 0.1639, 0.1624,\n",
      "        0.1648, 0.1637, 0.1548, 0.1629, 0.1552, 0.1517, 0.1636, 0.1528, 0.1631,\n",
      "        0.0967, 0.1556, 0.1532, 0.1471, 0.0974, 0.1646, 0.1642, 0.1629, 0.0946,\n",
      "        0.1643, 0.1534, 0.1548, 0.1504, 0.1516, 0.0965, 0.1547, 0.1635, 0.1530,\n",
      "        0.1580, 0.1636, 0.1626, 0.1499, 0.1551, 0.1451, 0.1546, 0.1548, 0.0946,\n",
      "        0.1495, 0.1550, 0.1632, 0.1404, 0.1654, 0.1537, 0.1568, 0.1444, 0.1630,\n",
      "        0.1508, 0.1138, 0.1562, 0.1451, 0.0951, 0.1542, 0.1510, 0.1188, 0.1630,\n",
      "        0.1529], device='cuda:1')\n",
      "[2] Eval metrics for task 1 >> {'accuracy': 93.58157765801077, 'loss': 0.0011528601750388325, 'std': 4.484830325519934}\n",
      "[2] Eval metrics for task 2 >> {'accuracy': 44.02061855670103, 'loss': 0.005721444751798492, 'std': 21.991249590754673}\n",
      "training_task_end\n",
      "load_memory_joint: len(train_loader.dataset)=40\n",
      "---------------------------- Task 3 -----------------------\n",
      "### Cplex LS solver ###\n",
      "A.shape=(6, 10000)\n",
      "b.shape=(6,)\n",
      "elapsed time:2055.301\n",
      "[-32.98465711 -32.92255777 -18.95065092  -8.78569414  37.76905838\n",
      "  55.87451948]\n",
      "np_weight=tensor([0.0604, 0.1447, 0.2538,  ..., 0.0903, 0.0526, 0.0795])\n",
      "np_weight.shape=torch.Size([10000])\n",
      "np_weight.sum()=tensor(1104.8778)\n",
      "np_weight.max()=tensor(0.9998)\n",
      "np_weight.min()=tensor(0.0182)\n",
      "elapsed time:141.763\n",
      "[-32.93658958 -32.97785617 -18.8584159   -8.89196919  37.77239926\n",
      "  55.89244961]\n",
      "np_weight2.sum()=tensor(1101.8058)\n",
      "np_weight2.max()=tensor(0.9999)\n",
      "np_weight2.min()=tensor(5.2414e-06)\n",
      "sample_weight.to(device)=tensor([0.0879, 0.0882, 0.0770, 0.0476, 0.0463, 0.0582, 0.0619, 0.1264, 0.0493,\n",
      "        0.0738, 0.0567, 0.0561, 0.0745, 0.0711, 0.0790, 0.0499, 0.0465, 0.0846,\n",
      "        0.2225, 0.0914, 0.0779, 0.1226, 0.1052, 0.0566, 0.0641, 0.0556, 0.0593,\n",
      "        0.0882, 0.0710, 0.0599, 0.0612, 0.0825, 0.0725, 0.7295, 0.0619, 0.0514,\n",
      "        0.0709, 0.0582, 0.0835, 0.0797, 0.0631, 0.0554, 0.0474, 0.0527, 0.0790,\n",
      "        0.1141, 0.0530, 0.0812, 0.0612, 0.0809, 0.0477, 0.0928, 0.1966, 0.0631,\n",
      "        0.0560, 0.0826, 0.0928, 0.3588, 0.0827, 0.0605, 0.0675, 0.0456, 0.0650,\n",
      "        0.0589], device='cuda:1')\n",
      "[3] Eval metrics for task 1 >> {'accuracy': 73.78735913767761, 'loss': 0.003747378418925695, 'std': 0.8344473382964179}\n",
      "[3] Eval metrics for task 2 >> {'accuracy': 92.88659793814433, 'loss': 0.0010587973923412795, 'std': 0.11820280710407305}\n",
      "[3] Eval metrics for task 3 >> {'accuracy': 44.62311557788945, 'loss': 0.005806680720056121, 'std': 2.9460497070115164}\n",
      "training_task_end\n",
      "load_memory_joint: len(train_loader.dataset)=60\n",
      "---------------------------- Task 4 -----------------------\n",
      "### Cplex LS solver ###\n",
      "A.shape=(8, 10000)\n",
      "b.shape=(8,)\n",
      "elapsed time:2873.604\n",
      "[-34.13300458 -35.53903343 -32.2081142  -35.74664433  -8.52378981\n",
      " -13.45636961  61.27884233  98.32811399]\n",
      "np_weight=tensor([1.1909e-08, 6.3856e-09, 7.3803e-09,  ..., 5.4040e-08, 5.7725e-09,\n",
      "        4.9879e-08])\n",
      "np_weight.shape=torch.Size([10000])\n",
      "np_weight.sum()=tensor(1397.9972)\n",
      "np_weight.max()=tensor(1.)\n",
      "np_weight.min()=tensor(4.8355e-09)\n",
      "elapsed time:146.845\n",
      "[-34.03983267 -35.82456389 -31.73000036 -36.06035255  -8.41995253\n",
      " -13.53990991  61.31790457  98.29670723]\n",
      "np_weight2.sum()=tensor(1415.8490)\n",
      "np_weight2.max()=tensor(1.)\n",
      "np_weight2.min()=tensor(8.7106e-06)\n",
      "sample_weight.to(device)=tensor([5.6537e-09, 2.2438e-06, 5.8558e-09, 8.4425e-08, 4.3797e-08, 6.2000e-08,\n",
      "        6.1318e-09, 7.2421e-08, 1.3972e-08, 5.7221e-09, 2.7075e-08, 9.9475e-09,\n",
      "        7.4940e-08, 1.0000e+00, 1.0000e+00, 1.5040e-07, 7.0289e-09, 5.2563e-08,\n",
      "        6.1515e-08, 2.1784e-07, 4.5696e-08, 6.5763e-08, 4.0148e-07, 6.4571e-09,\n",
      "        1.0000e+00, 1.0000e+00, 1.0000e+00, 5.0486e-08, 2.0810e-08, 6.2420e-09,\n",
      "        4.6899e-08, 9.5954e-09, 3.0671e-08, 2.2334e-08, 9.6230e-09, 4.9362e-08,\n",
      "        8.0455e-08, 7.9202e-09, 1.0000e+00, 1.0000e+00, 4.7084e-08, 5.2402e-09,\n",
      "        4.6511e-07, 1.1201e-06, 8.4387e-08, 1.4078e-08, 1.0000e+00, 1.6396e-07,\n",
      "        9.8072e-08, 4.0902e-08, 2.0544e-07, 8.0432e-09, 5.5293e-09, 4.5729e-08,\n",
      "        1.8533e-08, 1.6669e-07, 6.3364e-09, 5.2548e-09, 1.0000e+00, 5.6244e-09,\n",
      "        5.8700e-09, 2.5307e-08, 5.5814e-09, 5.2969e-09], device='cuda:1')\n",
      "[4] Eval metrics for task 1 >> {'accuracy': 63.449289563939246, 'loss': 0.006265486998046396, 'std': 2.430163413003894}\n",
      "[4] Eval metrics for task 2 >> {'accuracy': 87.11340206185567, 'loss': 0.0019329891530508847, 'std': 3.871354527635218}\n",
      "[4] Eval metrics for task 3 >> {'accuracy': 89.04522613065326, 'loss': 0.0014220419091794958, 'std': 4.25793089513033}\n",
      "[4] Eval metrics for task 4 >> {'accuracy': 45.815996301433195, 'loss': 0.005195407860818088, 'std': 8.06518795317026}\n",
      "training_task_end\n",
      "load_memory_joint: len(train_loader.dataset)=80\n",
      "---------------------------- Task 5 -----------------------\n",
      "### Cplex LS solver ###\n",
      "A.shape=(10, 10000)\n",
      "b.shape=(10,)\n",
      "elapsed time:3645.964\n",
      "[-35.94513054 -36.15684068 -33.6871344  -36.26240551 -35.26993787\n",
      " -36.58747117  -8.75733802 -20.87611481 131.54734095 111.99500165]\n",
      "np_weight=tensor([7.1034e-08, 2.6249e-08, 1.7571e-08,  ..., 1.3273e-08, 2.4062e-07,\n",
      "        1.0000e+00])\n",
      "np_weight.shape=torch.Size([10000])\n",
      "np_weight.sum()=tensor(1836.1702)\n",
      "np_weight.max()=tensor(1.)\n",
      "np_weight.min()=tensor(4.3796e-09)\n",
      "elapsed time:158.402\n",
      "[-35.90636574 -36.02601509 -33.01426881 -36.27780889 -35.08202134\n",
      " -36.9519084   -9.24261135 -21.06300926 131.55625987 112.0077198 ]\n",
      "np_weight2.sum()=tensor(1824.3202)\n",
      "np_weight2.max()=tensor(1.)\n",
      "np_weight2.min()=tensor(2.2730e-05)\n",
      "sample_weight.to(device)=tensor([1.3957e-08, 2.2535e-08, 5.6744e-08, 4.4235e-08, 7.8127e-08, 7.6648e-09,\n",
      "        1.7677e-08, 1.0000e+00, 1.3423e-08, 1.0000e+00, 8.3015e-09, 2.1428e-08,\n",
      "        3.2350e-07, 5.7309e-08, 9.1396e-09, 1.5995e-08, 1.0000e+00, 4.4983e-08,\n",
      "        1.0000e+00, 1.0000e+00, 1.0000e+00, 1.1505e-08, 1.2020e-08, 6.5623e-09,\n",
      "        8.8225e-09, 2.7820e-08, 1.0449e-07, 3.3790e-08, 6.4215e-09, 1.2046e-08,\n",
      "        8.0231e-09, 4.0389e-08, 1.0499e-07, 8.6784e-07, 2.0655e-08, 1.0000e+00,\n",
      "        7.3608e-09, 1.5369e-08, 1.0000e+00, 1.9342e-07, 7.2674e-09, 1.0000e+00,\n",
      "        1.0000e+00, 1.0000e+00, 3.3106e-08, 9.4849e-09, 1.3293e-08, 1.1052e-07,\n",
      "        1.0000e+00, 1.0000e+00, 1.0795e-08, 1.1171e-07, 1.8106e-08, 1.0000e+00,\n",
      "        1.0000e+00, 2.8010e-08, 5.4382e-08, 6.6086e-09, 1.0000e+00, 1.0000e+00,\n",
      "        2.3365e-08, 6.8862e-09, 2.3634e-07, 7.2115e-08], device='cuda:1')\n",
      "[5] Eval metrics for task 1 >> {'accuracy': 49.87751102400784, 'loss': 0.009651467123783902, 'std': 0.9079140449136075}\n",
      "[5] Eval metrics for task 2 >> {'accuracy': 78.24742268041237, 'loss': 0.0037142755137276402, 'std': 2.021990824400799}\n",
      "[5] Eval metrics for task 3 >> {'accuracy': 82.1105527638191, 'loss': 0.0025462161955521934, 'std': 1.640230349565569}\n",
      "[5] Eval metrics for task 4 >> {'accuracy': 91.4008321775312, 'loss': 0.0014900009057833758, 'std': 7.5636366752944}\n",
      "[5] Eval metrics for task 5 >> {'accuracy': 64.20150053590568, 'loss': 0.004174208430231959, 'std': 9.093378514009999}\n",
      "training_task_end\n",
      "load_memory_joint: len(train_loader.dataset)=100\n",
      "final avg-acc 73.16756383633523\n",
      "final avg-forget 17.3361373153772\n"
     ]
    }
   ],
   "source": [
    "from trainers import ContinualTrainer2\n",
    "\n",
    "trainer = ContinualTrainer2(algorithm, params, callbacks=[metric_manager_callback])\n",
    "trainer.run()\n",
    "print(\"final avg-acc\", metric_manager_callback.meters['accuracy'].compute_final())\n",
    "print(\"final avg-forget\", metric_manager_callback.meters['forgetting'].compute_final())\n",
    "\n"
   ]
  },
  {
   "cell_type": "code",
   "execution_count": 7,
   "id": "c076b062",
   "metadata": {},
   "outputs": [
    {
     "data": {
      "text/plain": [
       "[0.07149799094967046,\n",
       " 29.426799818638276,\n",
       " 19.92448578489145,\n",
       " 18.57473157276602,\n",
       " 15.547039495059382]"
      ]
     },
     "execution_count": 7,
     "metadata": {},
     "output_type": "execute_result"
    }
   ],
   "source": [
    "metric_manager_callback.meters['std'].get_std()"
   ]
  },
  {
   "cell_type": "code",
   "execution_count": 8,
   "id": "7039ed8b",
   "metadata": {},
   "outputs": [
    {
     "data": {
      "text/plain": [
       "array([[97.648,  0.   ,  0.   ,  0.   ,  0.   ],\n",
       "       [93.582, 44.021,  0.   ,  0.   ,  0.   ],\n",
       "       [73.787, 92.887, 44.623,  0.   ,  0.   ],\n",
       "       [63.449, 87.113, 89.045, 45.816,  0.   ],\n",
       "       [49.878, 78.247, 82.111, 91.401, 64.202]])"
      ]
     },
     "execution_count": 8,
     "metadata": {},
     "output_type": "execute_result"
    }
   ],
   "source": [
    "metric_manager_callback.meters['accuracy'].get_data()"
   ]
  },
  {
   "cell_type": "code",
   "execution_count": 9,
   "id": "173c4765",
   "metadata": {},
   "outputs": [
    {
     "data": {
      "text/plain": [
       "76.28104193406982"
      ]
     },
     "execution_count": 9,
     "metadata": {},
     "output_type": "execute_result"
    }
   ],
   "source": [
    "metric_manager_callback.meters['accuracy'].compute_overall()"
   ]
  },
  {
   "cell_type": "code",
   "execution_count": null,
   "id": "706ad34c",
   "metadata": {},
   "outputs": [],
   "source": []
  }
 ],
 "metadata": {
  "kernelspec": {
   "display_name": "cil",
   "language": "python",
   "name": "python3"
  },
  "language_info": {
   "codemirror_mode": {
    "name": "ipython",
    "version": 3
   },
   "file_extension": ".py",
   "mimetype": "text/x-python",
   "name": "python",
   "nbconvert_exporter": "python",
   "pygments_lexer": "ipython3",
   "version": "3.9.18"
  }
 },
 "nbformat": 4,
 "nbformat_minor": 5
}
