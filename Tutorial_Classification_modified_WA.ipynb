{
 "cells": [
  {
   "cell_type": "code",
   "execution_count": 1,
   "id": "b0c3b92f",
   "metadata": {},
   "outputs": [
    {
     "name": "stdout",
     "output_type": "stream",
     "text": [
      "output_dir=./outputs/demo/dataset=BiasedMNIST/methods=WA/seed=10_epoch=5_lr=0.01_alpha=0.0_tau=1.0\n"
     ]
    }
   ],
   "source": [
    "import numpy as np\n",
    "import random\n",
    "\n",
    "import torch\n",
    "import torch.nn.functional as F\n",
    "import cl_gym as cl\n",
    "\n",
    "import sys\n",
    "import os\n",
    "\n",
    "seed = 10\n",
    "\n",
    "np.random.seed(seed)\n",
    "torch.manual_seed(seed)\n",
    "np.random.seed(seed)\n",
    "random.seed(seed)\n",
    "torch.cuda.manual_seed_all(seed)\n",
    "torch.manual_seed(seed)\n",
    "torch.backends.cudnn.deterministic = True\n",
    "torch.backends.cudnn.benchmark = False\n",
    "torch.backends.cudnn.enabled = False\n",
    "torch.set_num_threads(8)\n",
    "\n",
    "\n",
    "def make_params() -> dict:\n",
    "    import os\n",
    "    from pathlib import Path\n",
    "    import uuid\n",
    "\n",
    "    params = {\n",
    "            # dataset\n",
    "            'dataset': \"MNIST\",\n",
    "            'dataset': \"BiasedMNIST\",\n",
    "            # 'dataset': \"FashionMNIST\",\n",
    "            'random_class_idx': False,\n",
    "            'method': \"WA\",\n",
    "\n",
    "            # benchmark\n",
    "            'seed': seed,\n",
    "            'num_tasks': 5,\n",
    "            'epochs_per_task': 5,\n",
    "            # 'per_task_examples': np.inf,\n",
    "            'per_task_examples': 10000,\n",
    "            'per_task_memory_examples': 64,\n",
    "            'batch_size_train': 64,\n",
    "            'batch_size_memory': 64,\n",
    "            'batch_size_validation': 256,\n",
    "            'tau': 1.0,\n",
    "\n",
    "            # 'tau': 0.0,\n",
    "\n",
    "            # algorithm\n",
    "            'optimizer': 'sgd',\n",
    "            'learning_rate': 0.01,\n",
    "            'momentum': 0.9,\n",
    "            'learning_rate_decay': 1.0,\n",
    "            'criterion': torch.nn.CrossEntropyLoss(),\n",
    "            'device': torch.device('cuda:7' if torch.cuda.is_available() else 'cpu'),\n",
    "             \n",
    "            # sample selection\n",
    "            'alpha':0.00,\n",
    "            'lambda': .0,\n",
    "            'lambda_old': 0.0,\n",
    "              }\n",
    "\n",
    "#     trial_id = str(uuid.uuid4())\n",
    "    trial_id = f\"demo/dataset={params['dataset']}/methods={params['method']}/seed={params['seed']}_epoch={params['epochs_per_task']}_lr={params['learning_rate']}_alpha={params['alpha']}_tau={params['tau']}\"\n",
    "    params['trial_id'] = trial_id\n",
    "    params['output_dir'] = os.path.join(\"./outputs/{}\".format(trial_id))\n",
    "    print(f\"output_dir={params['output_dir']}\")\n",
    "    Path(params['output_dir']).mkdir(parents=True, exist_ok=True)\n",
    "\n",
    "    return params\n",
    "\n",
    "params = make_params()"
   ]
  },
  {
   "cell_type": "code",
   "execution_count": 2,
   "id": "93b43ace",
   "metadata": {},
   "outputs": [
    {
     "name": "stdout",
     "output_type": "stream",
     "text": [
      "[0 1 2 3 4 5 6 7 8 9]\n"
     ]
    }
   ],
   "source": [
    "from datasets import MNIST\n",
    "from datasets import FashionMNIST\n",
    "from datasets import BiasedMNIST\n",
    "from datasets import CIFAR10, CIFAR100\n",
    "\n",
    "if params['dataset'] == 'MNIST':\n",
    "    benchmark = MNIST(num_tasks=params['num_tasks'],\n",
    "                    per_task_memory_examples=params['per_task_memory_examples'],\n",
    "                    per_task_examples = params['per_task_examples'],\n",
    "                    random_class_idx = params['random_class_idx'])\n",
    "    input_dim = (28, 28)\n",
    "elif params['dataset'] == 'FashionMNIST':\n",
    "    benchmark = FashionMNIST(num_tasks=params['num_tasks'],\n",
    "                            per_task_memory_examples=params['per_task_memory_examples'],\n",
    "                            per_task_examples = params['per_task_examples'],\n",
    "                            random_class_idx = params['random_class_idx'])\n",
    "    input_dim = (28, 28)\n",
    "elif params['dataset'] == 'CIFAR10':\n",
    "    benchmark = CIFAR10(num_tasks=params['num_tasks'],\n",
    "                        per_task_memory_examples=params['per_task_memory_examples'],\n",
    "                        per_task_examples = params['per_task_examples'],\n",
    "                        random_class_idx = params['random_class_idx'])\n",
    "    input_dim = (3, 32, 32)\n",
    "elif params['dataset'] == 'CIFAR100':        \n",
    "    benchmark = CIFAR100(num_tasks=params['num_tasks'],\n",
    "                        per_task_memory_examples=params['per_task_memory_examples'],\n",
    "                        per_task_examples = params['per_task_examples'],\n",
    "                        random_class_idx = params['random_class_idx'])\n",
    "    input_dim = (3, 32, 32)\n",
    "elif params['dataset'] in [\"BiasedMNIST\"]:\n",
    "    benchmark = BiasedMNIST(num_tasks=params['num_tasks'],\n",
    "                            per_task_memory_examples=params['per_task_memory_examples'],\n",
    "                            per_task_examples = params['per_task_examples'],\n",
    "                            joint = (params['method'] == \"joint\"),\n",
    "                            random_class_idx = params['random_class_idx'])\n",
    "    input_dim = (3, 28, 28)\n",
    "else:\n",
    "    raise NotImplementedError\n",
    "class_idx = benchmark.class_idx\n",
    "num_classes = len(class_idx)\n",
    "\n"
   ]
  },
  {
   "cell_type": "code",
   "execution_count": 3,
   "id": "20c7b886",
   "metadata": {},
   "outputs": [],
   "source": [
    "from algorithms.wa import WA\n",
    "from metrics import MetricCollector2\n",
    "from metrics import FairMetricCollector as MetricCollector\n",
    "from backbones import MLP2Layers2\n",
    "\n",
    "backbone = MLP2Layers2(\n",
    "    input_dim=input_dim, \n",
    "    hidden_dim_1=256, \n",
    "    hidden_dim_2=256, \n",
    "    output_dim=num_classes,\n",
    "    class_idx=class_idx,\n",
    "    config=params\n",
    "    ).to(params['device'])\n",
    "algorithm = WA(backbone, benchmark, params, requires_memory=True)\n",
    "metric_manager_callback = MetricCollector(num_tasks=params['num_tasks'],\n",
    "                                                        eval_interval='epoch',\n",
    "                                                        epochs_per_task=params['epochs_per_task'])"
   ]
  },
  {
   "cell_type": "code",
   "execution_count": 4,
   "id": "d8efa3ad",
   "metadata": {},
   "outputs": [],
   "source": [
    "# from trainers import ContinualTrainer\n",
    "# from trainers.fair_trainer import FairContinualTrainer2 as ContinualTrainer\n",
    "from trainers.baselines import BaseContinualTrainer as ContinualTrainer\n",
    "trainer = ContinualTrainer(algorithm, params, callbacks=[metric_manager_callback])\n"
   ]
  },
  {
   "cell_type": "code",
   "execution_count": 5,
   "id": "7c1bb4fe",
   "metadata": {},
   "outputs": [
    {
     "name": "stdout",
     "output_type": "stream",
     "text": [
      "---------------------------- Task 1 -----------------------\n",
      "[1] Eval metrics for task 1 >> {'accuracy': 0.9751393508945428, 'loss': 0.00020905635352675797, 'std': 0.023098534568012252, 'EER': -1, 'EO': [0.10444444444444445, 0.003669724770642202], 'DP': -1, 'accuracy_s0': 1.0, 'accuracy_s1': 0.9459429153924567, 'classwise_accuracy': {0: array([933, 980]), 1: array([1133, 1135])}, 'DP_ingredients': {'class_pred_count_s0': {0: 530, 1: 590}, 'class_pred_count_s1': {1: 590, 0: 405}, 'class_pred_count': {0: 935, 1: 1180}, 'count_s0': 1120, 'count_s1': 995, 'count': 2115}}\n",
      "[2] Eval metrics for task 1 >> {'accuracy': 0.9920704845814978, 'loss': 0.00014037136120576384, 'std': 0.007929515418502175, 'EER': -1, 'EO': [0.03302752293577982, 0.0], 'DP': -1, 'accuracy_s0': 1.0, 'accuracy_s1': 0.9834862385321101, 'classwise_accuracy': {1: array([1117, 1135]), 0: array([980, 980])}, 'DP_ingredients': {'class_pred_count_s0': {1: 590, 0: 530}, 'class_pred_count_s1': {1: 527, 0: 468}, 'class_pred_count': {1: 1117, 0: 998}, 'count_s0': 1120, 'count_s1': 995, 'count': 2115}}\n",
      "[3] Eval metrics for task 1 >> {'accuracy': 0.998608738649645, 'loss': 5.0619832211422866e-05, 'std': 0.0003708531870897924, 'EER': -1, 'EO': [0.0022222222222222365, 0.003669724770642202], 'DP': -1, 'accuracy_s0': 1.0, 'accuracy_s1': 0.9970540265035678, 'classwise_accuracy': {0: array([979, 980]), 1: array([1133, 1135])}, 'DP_ingredients': {'class_pred_count_s0': {0: 530, 1: 590}, 'class_pred_count_s1': {1: 544, 0: 451}, 'class_pred_count': {0: 981, 1: 1134}, 'count_s0': 1120, 'count_s1': 995, 'count': 2115}}\n",
      "[4] Eval metrics for task 1 >> {'accuracy': 0.9972871527465612, 'loss': 4.5737390126812826e-05, 'std': 0.0016924390901735253, 'EER': -1, 'EO': [0.0022222222222222365, 0.00917431192660545], 'DP': -1, 'accuracy_s0': 1.0, 'accuracy_s1': 0.9943017329255861, 'classwise_accuracy': {0: array([979, 980]), 1: array([1130, 1135])}, 'DP_ingredients': {'class_pred_count_s0': {0: 530, 1: 590}, 'class_pred_count_s1': {0: 454, 1: 541}, 'class_pred_count': {0: 984, 1: 1131}, 'count_s0': 1120, 'count_s1': 995, 'count': 2115}}\n",
      "[5] Eval metrics for task 1 >> {'accuracy': 0.9964060954778386, 'loss': 7.054589107526954e-05, 'std': 0.002573496358895977, 'EER': -1, 'EO': [0.0022222222222222365, 0.012844036697247652], 'DP': -1, 'accuracy_s0': 1.0, 'accuracy_s1': 0.9924668705402651, 'classwise_accuracy': {0: array([979, 980]), 1: array([1128, 1135])}, 'DP_ingredients': {'class_pred_count_s0': {1: 590, 0: 530}, 'class_pred_count_s1': {0: 456, 1: 539}, 'class_pred_count': {0: 986, 1: 1129}, 'count_s0': 1120, 'count_s1': 995, 'count': 2115}}\n",
      "training_task_end\n",
      "---------------------------- Task 2 -----------------------\n",
      "[6] Eval metrics for task 1 >> {'accuracy': 0.9501191225388834, 'loss': 0.0006695802435807303, 'std': 0.022568102130720136, 'EER': -1, 'EO': [0.056880733944954076, 0.14545073375262052], 'DP': -1, 'accuracy_s0': 0.9971698113207548, 'accuracy_s1': 0.8960040774719674, 'classwise_accuracy': {1: array([1104, 1135]), 0: array([909, 980])}, 'DP_ingredients': {'class_pred_count_s0': {1: 590, 0: 527, 3: 3}, 'class_pred_count_s1': {1: 515, 0: 383, 3: 66, 2: 31}, 'class_pred_count': {1: 1105, 0: 910, 3: 69, 2: 31}, 'count_s0': 1120, 'count_s1': 995, 'count': 2115}}\n",
      "[6] Eval metrics for task 2 >> {'accuracy': 0.6990070227953028, 'loss': 0.002844095755510769, 'std': 0.062379115818558595, 'EER': -1, 'EO': [0.7299788529510087, 0.48103792415169666], 'DP': -1, 'accuracy_s0': 0.9990403071017274, 'accuracy_s1': 0.3935319185503747, 'classwise_accuracy': {2: array([ 657, 1032]), 3: array([ 769, 1010])}, 'DP_ingredients': {'class_pred_count_s0': {3: 509, 2: 520, 0: 1}, 'class_pred_count_s1': {2: 248, 0: 212, 1: 126, 3: 426}, 'class_pred_count': {2: 768, 3: 935, 0: 213, 1: 126}, 'count_s0': 1030, 'count_s1': 1012, 'count': 2042}}\n",
      "[7] Eval metrics for task 1 >> {'accuracy': 0.9542007551919447, 'loss': 0.0006682060923136718, 'std': 0.018486469477658918, 'EER': -1, 'EO': [0.04982117866583735, 0.12356394129979031], 'DP': -1, 'accuracy_s0': 0.9945314998401024, 'accuracy_s1': 0.9078389398572886, 'classwise_accuracy': {1: array([1104, 1135]), 0: array([917, 980])}, 'DP_ingredients': {'class_pred_count_s0': {1: 588, 0: 526, 2: 2, 3: 4}, 'class_pred_count_s1': {1: 516, 0: 392, 3: 53, 2: 34}, 'class_pred_count': {1: 1104, 0: 918, 3: 57, 2: 36}, 'count_s0': 1120, 'count_s1': 995, 'count': 2115}}\n",
      "[7] Eval metrics for task 2 >> {'accuracy': 0.804428582393123, 'loss': 0.0018932747414716895, 'std': 0.02923478394351059, 'EER': -1, 'EO': [0.33532934131736525, 0.4501354087240028], 'DP': -1, 'accuracy_s0': 0.9990403071017274, 'accuracy_s1': 0.6063079320810434, 'classwise_accuracy': {3: array([ 842, 1010]), 2: array([ 800, 1032])}, 'DP_ingredients': {'class_pred_count_s0': {3: 509, 2: 520, 0: 1}, 'class_pred_count_s1': {0: 157, 2: 354, 3: 414, 1: 87}, 'class_pred_count': {3: 923, 2: 874, 0: 158, 1: 87}, 'count_s0': 1030, 'count_s1': 1012, 'count': 2042}}\n",
      "[8] Eval metrics for task 1 >> {'accuracy': 0.9413535017531242, 'loss': 0.0007670562811213464, 'std': 0.02604737930414458, 'EER': -1, 'EO': [0.15568134171907755, 0.06083035297776396], 'DP': -1, 'accuracy_s0': 0.991701311160857, 'accuracy_s1': 0.8834454638124363, 'classwise_accuracy': {0: array([897, 980]), 1: array([1098, 1135])}, 'DP_ingredients': {'class_pred_count_s0': {1: 588, 0: 523, 3: 6, 2: 3}, 'class_pred_count_s1': {0: 375, 3: 45, 1: 510, 2: 65}, 'class_pred_count': {0: 898, 1: 1098, 3: 51, 2: 68}, 'count_s0': 1120, 'count_s1': 995, 'count': 2115}}\n",
      "[8] Eval metrics for task 2 >> {'accuracy': 0.8667606876966767, 'loss': 0.0013431115960747908, 'std': 0.003394351063013279, 'EER': -1, 'EO': [0.2583545868061946, 0.27544910179640714], 'DP': -1, 'accuracy_s0': 0.9990403071017274, 'accuracy_s1': 0.7321384628004266, 'classwise_accuracy': {2: array([ 898, 1032]), 3: array([ 872, 1010])}, 'DP_ingredients': {'class_pred_count_s0': {2: 520, 3: 509, 0: 1}, 'class_pred_count_s1': {2: 449, 0: 84, 3: 418, 1: 61}, 'class_pred_count': {2: 969, 3: 927, 0: 85, 1: 61}, 'count_s0': 1030, 'count_s1': 1012, 'count': 2042}}\n"
     ]
    }
   ],
   "source": [
    "trainer.run()\n",
    "print(\"final avg-acc\", metric_manager_callback.meters['accuracy'].compute_final())\n",
    "print(\"final avg-forget\", metric_manager_callback.meters['forgetting'].compute_final())"
   ]
  },
  {
   "cell_type": "code",
   "execution_count": null,
   "id": "beaf952b",
   "metadata": {},
   "outputs": [
    {
     "data": {
      "text/plain": [
       "array([[0.999, 0.   , 0.   , 0.   , 0.   ],\n",
       "       [0.933, 0.984, 0.   , 0.   , 0.   ],\n",
       "       [0.894, 0.826, 0.993, 0.   , 0.   ],\n",
       "       [0.884, 0.776, 0.901, 0.988, 0.   ],\n",
       "       [0.84 , 0.682, 0.689, 0.905, 0.964]])"
      ]
     },
     "execution_count": 6,
     "metadata": {},
     "output_type": "execute_result"
    }
   ],
   "source": [
    "metric_manager_callback.meters['accuracy'].get_data()"
   ]
  },
  {
   "cell_type": "code",
   "execution_count": null,
   "id": "26972f73",
   "metadata": {},
   "outputs": [
    {
     "data": {
      "text/plain": [
       "0.9131171979468625"
      ]
     },
     "execution_count": 7,
     "metadata": {},
     "output_type": "execute_result"
    }
   ],
   "source": [
    "np.mean(metric_manager_callback.meters['accuracy'].compute_overall())"
   ]
  },
  {
   "cell_type": "code",
   "execution_count": null,
   "id": "e950fb61",
   "metadata": {},
   "outputs": [
    {
     "data": {
      "text/plain": [
       "[0.0, 0.025, 0.059, 0.057, 0.104]"
      ]
     },
     "execution_count": 8,
     "metadata": {},
     "output_type": "execute_result"
    }
   ],
   "source": [
    "[np.round(x, 3) for x in metric_manager_callback.meters['EER'].compute_overall()]"
   ]
  },
  {
   "cell_type": "code",
   "execution_count": null,
   "id": "2ebfb58a",
   "metadata": {},
   "outputs": [
    {
     "data": {
      "text/plain": [
       "0.04924443475828506"
      ]
     },
     "execution_count": 9,
     "metadata": {},
     "output_type": "execute_result"
    }
   ],
   "source": [
    "np.mean(metric_manager_callback.meters['EER'].compute_overall())"
   ]
  },
  {
   "cell_type": "code",
   "execution_count": null,
   "id": "06af72df",
   "metadata": {},
   "outputs": [
    {
     "data": {
      "text/plain": [
       "[0.001, 0.027, 0.074, 0.077, 0.122]"
      ]
     },
     "execution_count": 10,
     "metadata": {},
     "output_type": "execute_result"
    }
   ],
   "source": [
    "[np.round(x, 3) for x in metric_manager_callback.meters['std'].compute_overall()]"
   ]
  },
  {
   "cell_type": "code",
   "execution_count": null,
   "id": "7039ed8b",
   "metadata": {},
   "outputs": [
    {
     "data": {
      "text/plain": [
       "0.06027322136485429"
      ]
     },
     "execution_count": 11,
     "metadata": {},
     "output_type": "execute_result"
    }
   ],
   "source": [
    "np.mean(metric_manager_callback.meters['std'].compute_overall())"
   ]
  },
  {
   "cell_type": "code",
   "execution_count": null,
   "id": "706ad34c",
   "metadata": {},
   "outputs": [
    {
     "name": "stdout",
     "output_type": "stream",
     "text": [
      "accuracy:0.9131171979468625\n",
      "EER:0.04924443475828506\n",
      "std:0.06027322136485429\n"
     ]
    }
   ],
   "source": [
    "print(f\"accuracy:{np.mean(metric_manager_callback.meters['accuracy'].compute_overall())}\")\n",
    "print(f\"EER:{np.mean(metric_manager_callback.meters['EER'].compute_overall())}\")\n",
    "print(f\"std:{np.mean(metric_manager_callback.meters['std'].compute_overall())}\")\n"
   ]
  },
  {
   "cell_type": "code",
   "execution_count": null,
   "id": "2b848e47",
   "metadata": {},
   "outputs": [],
   "source": []
  }
 ],
 "metadata": {
  "kernelspec": {
   "display_name": "cil",
   "language": "python",
   "name": "python3"
  },
  "language_info": {
   "codemirror_mode": {
    "name": "ipython",
    "version": 3
   },
   "file_extension": ".py",
   "mimetype": "text/x-python",
   "name": "python",
   "nbconvert_exporter": "python",
   "pygments_lexer": "ipython3",
   "version": "3.9.18"
  }
 },
 "nbformat": 4,
 "nbformat_minor": 5
}
