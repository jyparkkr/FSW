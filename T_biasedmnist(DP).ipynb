{
 "cells": [
  {
   "cell_type": "code",
   "execution_count": 1,
   "id": "b0c3b92f",
   "metadata": {},
   "outputs": [
    {
     "name": "stdout",
     "output_type": "stream",
     "text": [
      "output_dir=./outputs/demo/dataset=BiasedMNIST/seed=0_epoch=15_lr=0.001_tau=10.0_alpha=0.0\n"
     ]
    }
   ],
   "source": [
    "from torchvision.datasets import MNIST, FashionMNIST, CIFAR10\n",
    "import torchvision\n",
    "import numpy as np\n",
    "import random\n",
    "\n",
    "import torch\n",
    "import torch.nn.functional as F\n",
    "import cl_gym as cl\n",
    "\n",
    "import sys\n",
    "import os\n",
    "\n",
    "seed = 0\n",
    "\n",
    "np.random.seed(seed)\n",
    "torch.manual_seed(seed)\n",
    "np.random.seed(seed)\n",
    "random.seed(seed)\n",
    "torch.cuda.manual_seed_all(seed)\n",
    "torch.manual_seed(seed)\n",
    "torch.backends.cudnn.deterministic = True\n",
    "torch.backends.cudnn.benchmark = False\n",
    "torch.backends.cudnn.enabled = False\n",
    "torch.set_num_threads(8)\n",
    "\n",
    "def make_params() -> dict:\n",
    "    import os\n",
    "    from pathlib import Path\n",
    "    import uuid\n",
    "\n",
    "    params = {\n",
    "            # dataset\n",
    "            'dataset': \"BiasedMNIST\",\n",
    "            'fairness_agg': 'mean',\n",
    "            # 'model': 'MLP',\n",
    "\n",
    "            # benchmark\n",
    "            'seed': seed,\n",
    "            'num_tasks': 5,\n",
    "            'epochs_per_task': 15,\n",
    "            'per_task_examples': np.inf,\n",
    "            # 'per_task_examples': 10000,\n",
    "            'per_task_memory_examples': 128,\n",
    "            'batch_size_train': 64,\n",
    "            'batch_size_memory': 64,\n",
    "            'batch_size_validation': 256,\n",
    "            'tau': 10.0,\n",
    "\n",
    "            # algorithm\n",
    "            'optimizer': 'sgd',\n",
    "            'learning_rate': 0.001,\n",
    "            'momentum': 0.9,\n",
    "            'learning_rate_decay': 1.0,\n",
    "            'criterion': torch.nn.CrossEntropyLoss(),\n",
    "            # 'criterion': torch.nn.BCEWithLogitsLoss(),\n",
    "\n",
    "            'device': torch.device('cuda:5' if torch.cuda.is_available() else 'cpu'),\n",
    "             \n",
    "            # sample selection\n",
    "            'alpha': 0.00,\n",
    "            'metric' : \"DP\",\n",
    "            'lambda': 0.0,\n",
    "            'lambda_old': 0.0,\n",
    "\n",
    "            # postprocessing\n",
    "            # \"post_processing\": \"eps_fairness\"\n",
    "\n",
    "              }\n",
    "    \n",
    "\n",
    "#     trial_id = str(uuid.uuid4())\n",
    "    trial_id = f\"demo/dataset={params['dataset']}/seed={params['seed']}_epoch={params['epochs_per_task']}_lr={params['learning_rate']}_tau={params['tau']}_alpha={params['alpha']}\"\n",
    "    if params['lambda'] != 0:\n",
    "        trial_id+=f\"_lmbd_{params['lambda']}_lmbdold_{params['lambda_old']}\"\n",
    "    params['trial_id'] = trial_id\n",
    "    params['output_dir'] = os.path.join(\"./outputs/{}\".format(trial_id))\n",
    "    print(f\"output_dir={params['output_dir']}\")\n",
    "    Path(params['output_dir']).mkdir(parents=True, exist_ok=True)\n",
    "\n",
    "    return params\n",
    "\n",
    "params = make_params()"
   ]
  },
  {
   "cell_type": "code",
   "execution_count": 2,
   "id": "99826537",
   "metadata": {},
   "outputs": [
    {
     "data": {
      "text/plain": [
       "True"
      ]
     },
     "execution_count": 2,
     "metadata": {},
     "output_type": "execute_result"
    }
   ],
   "source": [
    "\"MNIST\" in params['dataset']"
   ]
  },
  {
   "cell_type": "code",
   "execution_count": 3,
   "id": "20c7b886",
   "metadata": {},
   "outputs": [
    {
     "name": "stdout",
     "output_type": "stream",
     "text": [
      "[0 1 2 3 4 5 6 7 8 9]\n"
     ]
    }
   ],
   "source": [
    "from datasets import BiasedMNIST\n",
    "\n",
    "if  params['dataset'] in [\"BiasedMNIST\"]:\n",
    "    benchmark = BiasedMNIST(num_tasks=params['num_tasks'],\n",
    "                                per_task_memory_examples=params['per_task_memory_examples'],\n",
    "                                per_task_examples = params['per_task_examples'],\n",
    "                                random_class_idx=False)\n",
    "    input_dim = (3, 28, 28)\n",
    "    class_idx = benchmark.class_idx\n",
    "    num_classes = len(class_idx)"
   ]
  },
  {
   "cell_type": "code",
   "execution_count": 4,
   "id": "a2374d95",
   "metadata": {},
   "outputs": [
    {
     "data": {
      "text/plain": [
       "array([5, 0, 4, ..., 5, 6, 8])"
      ]
     },
     "execution_count": 4,
     "metadata": {},
     "output_type": "execute_result"
    }
   ],
   "source": [
    "benchmark.mnist_train.sensitives"
   ]
  },
  {
   "cell_type": "code",
   "execution_count": null,
   "id": "1246d96a",
   "metadata": {},
   "outputs": [],
   "source": []
  },
  {
   "cell_type": "code",
   "execution_count": 5,
   "id": "87fd9653",
   "metadata": {},
   "outputs": [
    {
     "data": {
      "image/png": "[encoded data removed]",
      "text/plain": [
       "<PIL.Image.Image image mode=RGB size=28x28>"
      ]
     },
     "execution_count": 5,
     "metadata": {},
     "output_type": "execute_result"
    }
   ],
   "source": [
    "from torchvision.transforms.functional import to_pil_image\n",
    "from cl_gym.benchmarks.transforms import MNIST_MEAN, MNIST_STD\n",
    "COLOR_MAP = {\n",
    "    0: (1, 0, 0),\n",
    "    1: (0, 1, 0),\n",
    "    2: (1, 1, 0),\n",
    "    3: (0, 0, 1),\n",
    "    4: (1, 0.65, 0),\n",
    "    5: (0.5, 0, 0.5),\n",
    "    6: (0, 1, 1),\n",
    "    7: (1, 0.75, 0.8),\n",
    "    8: (0.8, 1, 0),\n",
    "    9: (.588, .294, 0.)\n",
    "}\n",
    "\n",
    "r = (1 - 0.1913)\n",
    "color_values = np.array(list(COLOR_MAP.values()))\n",
    "m_rgb = color_values.mean(axis=0)\n",
    "std_rgb = color_values.std(axis=0)\n",
    "\n",
    "bmnist_mean = [r*m + MNIST_MEAN[0] for m in m_rgb]\n",
    "bmnist_std = [(r*s**2+(1-r)*MNIST_STD[0]**2+r*(1-r)*(bmnist_mean[i] - m_rgb[i])**2)**0.5 for i, s in enumerate(std_rgb)]\n",
    "\n",
    "unnormalize = torchvision.transforms.Normalize([-m/s for m, s in zip(bmnist_mean, bmnist_std)], [1/s for s in bmnist_std])\n",
    "sample_idx = 95\n",
    "to_pil_image(unnormalize(benchmark.trains[2][sample_idx][0]), mode=\"RGB\")"
   ]
  },
  {
   "cell_type": "code",
   "execution_count": 6,
   "id": "e8806699",
   "metadata": {},
   "outputs": [
    {
     "data": {
      "image/png": "[encoded data removed]",
      "text/plain": [
       "<PIL.Image.Image image mode=RGB size=280x28>"
      ]
     },
     "execution_count": 6,
     "metadata": {},
     "output_type": "execute_result"
    }
   ],
   "source": [
    "target_label = 0\n",
    "incremental_step = 1\n",
    "# cat_img = torch.cat([img for img in benchmark.trains[incremental_step].inputs[benchmark.trains[incremental_step].targets == target_label][20:30]], dim=2)\n",
    "cat_img = torch.cat([img for img, target, *_ in benchmark.tests[incremental_step]][20:30], dim=2)\n",
    "to_pil_image(unnormalize(cat_img), mode=\"RGB\")"
   ]
  },
  {
   "cell_type": "code",
   "execution_count": 7,
   "id": "8e73e1c4",
   "metadata": {},
   "outputs": [],
   "source": [
    "from trainers import FairContinualTrainer\n",
    "from trainers.fair_trainer import FairContinualTrainer2\n",
    "from metrics import FairMetricCollector\n",
    "from metrics import MetricCollector2\n",
    "\n",
    "from algorithms import Heuristic3\n",
    "from algorithms.fairl import FaIRL\n",
    "from algorithms.icarl import iCaRL\n",
    "from backbones import MLP2Layers2\n",
    "\n",
    "backbone = MLP2Layers2(\n",
    "    input_dim=input_dim, \n",
    "    hidden_dim_1=256, \n",
    "    hidden_dim_2=256, \n",
    "    output_dim=num_classes,\n",
    "    class_idx=class_idx,\n",
    "    config=params\n",
    "    ).to(params['device'])\n",
    "# backbone = ResNet18Small2(\n",
    "#         input_dim=input_dim, \n",
    "#         output_dim=num_classes,\n",
    "#         class_idx=class_idx,\n",
    "#         config=params\n",
    "#     ).to(params['device'])\n",
    "# algorithm = iCaRL(backbone, benchmark, params, requires_memory=True)\n",
    "algorithm = Heuristic3(backbone, benchmark, params, requires_memory=True)\n",
    "\n",
    "metric_manager_callback = FairMetricCollector(num_tasks=params['num_tasks'],\n",
    "                                                        eval_interval='epoch',\n",
    "                                                        epochs_per_task=params['epochs_per_task'])\n",
    "# metric_manager_callback = MetricCollector2(num_tasks=params['num_tasks'],\n",
    "#                                                         eval_interval='epoch',\n",
    "#                                                         epochs_per_task=params['epochs_per_task'])\n",
    "# from trainers.baselines import BaseMemoryContinualTrainer as ContinualTrainer\n",
    "from trainers.baselines import BaseContinualTrainer as ContinualTrainer\n",
    "\n",
    "trainer = ContinualTrainer(algorithm, params, callbacks=[metric_manager_callback])\n",
    "# \n",
    "# trainer = FairContinualTrainer2(algorithm, params, callbacks=[metric_manager_callback])\n"
   ]
  },
  {
   "cell_type": "code",
   "execution_count": 8,
   "id": "b28299a5",
   "metadata": {},
   "outputs": [
    {
     "data": {
      "text/plain": [
       "True"
      ]
     },
     "execution_count": 8,
     "metadata": {},
     "output_type": "execute_result"
    }
   ],
   "source": [
    "algorithm.params['dataset'] == \"BiasedMNIST\""
   ]
  },
  {
   "cell_type": "code",
   "execution_count": 9,
   "id": "8b8e3d98",
   "metadata": {},
   "outputs": [],
   "source": [
    "if params['fairness_agg'] == \"mean\":\n",
    "    agg = np.mean\n",
    "elif params['fairness_agg'] == \"max\":\n",
    "    agg = np.max\n",
    "else:\n",
    "    raise NotImplementedError\n",
    "\n",
    "fairness_metrics = [\"std\", \"EER\", \"EO\", \"DP\"]\n",
    "for metric in metric_manager_callback.meters:\n",
    "    if metric in fairness_metrics:\n",
    "        metric_manager_callback.meters[metric].agg = agg\n"
   ]
  },
  {
   "cell_type": "code",
   "execution_count": 10,
   "id": "bbbb73ec",
   "metadata": {},
   "outputs": [
    {
     "name": "stdout",
     "output_type": "stream",
     "text": [
      "---------------------------- Task 1 -----------------------\n",
      "[1] Eval metrics for task 1 >> {'accuracy': 0.8271127393688753, 'loss': 0.002176862856456856, 'std': 0.04737705654949209, 'EER': -1, 'EO': [0.4595588235294118, 0.25], 'DP': -1, 'accuracy_s0': 1.0, 'accuracy_s1': 0.6452205882352942, 'classwise_accuracy': {1: array([ 885, 1135]), 0: array([857, 980])}, 'DP_ingredients': {'class_pred_count_s0': {1: 591, 0: 488}, 'class_pred_count_s1': {1: 417, 0: 619}, 'class_pred_count': {1: 1008, 0: 1107}, 'count_s0': 1079, 'count_s1': 1036, 'count': 2115}}\n",
      "[2] Eval metrics for task 1 >> {'accuracy': 0.9061584105007642, 'loss': 0.0011422632222479962, 'std': 0.016290569091072515, 'EER': -1, 'EO': [0.1544715447154471, 0.22977941176470584], 'DP': -1, 'accuracy_s0': 1.0, 'accuracy_s1': 0.8078745217599235, 'classwise_accuracy': {0: array([904, 980]), 1: array([1010, 1135])}, 'DP_ingredients': {'class_pred_count_s0': {0: 488, 1: 591}, 'class_pred_count_s1': {1: 495, 0: 541}, 'class_pred_count': {0: 1029, 1: 1086}, 'count_s0': 1079, 'count_s1': 1036, 'count': 2115}}\n",
      "[3] Eval metrics for task 1 >> {'accuracy': 0.9484536545895892, 'loss': 0.0006369704966285831, 'std': 0.012770835206329212, 'EER': -1, 'EO': [0.07723577235772361, 0.1341911764705882], 'DP': -1, 'accuracy_s0': 1.0, 'accuracy_s1': 0.8942865255858441, 'classwise_accuracy': {0: array([942, 980]), 1: array([1062, 1135])}, 'DP_ingredients': {'class_pred_count_s0': {1: 591, 0: 488}, 'class_pred_count_s1': {0: 527, 1: 509}, 'class_pred_count': {0: 1015, 1: 1100}, 'count_s0': 1079, 'count_s1': 1036, 'count': 2115}}\n",
      "[4] Eval metrics for task 1 >> {'accuracy': 0.9912343792142407, 'loss': 0.0003997108051399249, 'std': 0.0034792771734244443, 'EER': -1, 'EO': [0.024390243902439046, 0.011029411764705843], 'DP': -1, 'accuracy_s0': 1.0, 'accuracy_s1': 0.9822901721664276, 'classwise_accuracy': {0: array([968, 980]), 1: array([1129, 1135])}, 'DP_ingredients': {'class_pred_count_s0': {1: 591, 0: 488}, 'class_pred_count_s1': {0: 486, 1: 550}, 'class_pred_count': {0: 974, 1: 1141}, 'count_s0': 1079, 'count_s1': 1036, 'count': 2115}}\n",
      "[5] Eval metrics for task 1 >> {'accuracy': 0.9941562528094938, 'loss': 0.0003041234492691978, 'std': 0.002319518115616259, 'EER': -1, 'EO': [0.007352941176470562, 0.016260162601625994], 'DP': -1, 'accuracy_s0': 1.0, 'accuracy_s1': 0.9881934481109518, 'classwise_accuracy': {1: array([1131, 1135]), 0: array([972, 980])}, 'DP_ingredients': {'class_pred_count_s0': {0: 488, 1: 591}, 'class_pred_count_s1': {1: 548, 0: 488}, 'class_pred_count': {1: 1139, 0: 976}, 'count_s0': 1079, 'count_s1': 1036, 'count': 2115}}\n",
      "[6] Eval metrics for task 1 >> {'accuracy': 0.9960577182414816, 'loss': 0.00023850060946552465, 'std': 0.002180167221073448, 'EER': -1, 'EO': [0.003676470588235281, 0.012195121951219523], 'DP': -1, 'accuracy_s0': 1.0, 'accuracy_s1': 0.9920642037302726, 'classwise_accuracy': {1: array([1133, 1135]), 0: array([974, 980])}, 'DP_ingredients': {'class_pred_count_s0': {0: 488, 1: 591}, 'class_pred_count_s1': {1: 548, 0: 488}, 'class_pred_count': {1: 1139, 0: 976}, 'count_s0': 1079, 'count_s1': 1036, 'count': 2115}}\n",
      "[7] Eval metrics for task 1 >> {'accuracy': 0.9965679223231143, 'loss': 0.00019385666095477752, 'std': 0.0016699631394407888, 'EER': -1, 'EO': [0.010162601626016232, 0.003676470588235281], 'DP': -1, 'accuracy_s0': 1.0, 'accuracy_s1': 0.9930804638928743, 'classwise_accuracy': {0: array([975, 980]), 1: array([1133, 1135])}, 'DP_ingredients': {'class_pred_count_s0': {0: 488, 1: 591}, 'class_pred_count_s1': {1: 547, 0: 489}, 'class_pred_count': {0: 977, 1: 1138}, 'count_s0': 1079, 'count_s1': 1036, 'count': 2115}}\n",
      "[8] Eval metrics for task 1 >> {'accuracy': 0.9961273936887531, 'loss': 0.00017365370447754015, 'std': 0.001229434505079563, 'EER': -1, 'EO': [0.005514705882352922, 0.010162601626016232], 'DP': -1, 'accuracy_s0': 1.0, 'accuracy_s1': 0.9921613462458154, 'classwise_accuracy': {1: array([1132, 1135]), 0: array([975, 980])}, 'DP_ingredients': {'class_pred_count_s0': {0: 488, 1: 591}, 'class_pred_count_s1': {1: 546, 0: 490}, 'class_pred_count': {1: 1137, 0: 978}, 'count_s0': 1079, 'count_s1': 1036, 'count': 2115}}\n",
      "[9] Eval metrics for task 1 >> {'accuracy': 0.9961273936887531, 'loss': 0.00015564769347931477, 'std': 0.001229434505079563, 'EER': -1, 'EO': [0.005514705882352922, 0.010162601626016232], 'DP': -1, 'accuracy_s0': 1.0, 'accuracy_s1': 0.9921613462458154, 'classwise_accuracy': {1: array([1132, 1135]), 0: array([975, 980])}, 'DP_ingredients': {'class_pred_count_s0': {0: 488, 1: 591}, 'class_pred_count_s1': {1: 546, 0: 490}, 'class_pred_count': {1: 1137, 0: 978}, 'count_s0': 1079, 'count_s1': 1036, 'count': 2115}}\n",
      "[10] Eval metrics for task 1 >> {'accuracy': 0.9965679223231143, 'loss': 0.0001368687367044724, 'std': 0.0016699631394407888, 'EER': -1, 'EO': [0.010162601626016232, 0.003676470588235281], 'DP': -1, 'accuracy_s0': 1.0, 'accuracy_s1': 0.9930804638928743, 'classwise_accuracy': {0: array([975, 980]), 1: array([1133, 1135])}, 'DP_ingredients': {'class_pred_count_s0': {0: 488, 1: 591}, 'class_pred_count_s1': {0: 489, 1: 547}, 'class_pred_count': {0: 977, 1: 1138}, 'count_s0': 1079, 'count_s1': 1036, 'count': 2115}}\n",
      "[11] Eval metrics for task 1 >> {'accuracy': 0.9970781264047469, 'loss': 0.00013461035211740092, 'std': 0.0011597590578081851, 'EER': -1, 'EO': [0.008130081300813052, 0.003676470588235281], 'DP': -1, 'accuracy_s0': 1.0, 'accuracy_s1': 0.9940967240554759, 'classwise_accuracy': {0: array([976, 980]), 1: array([1133, 1135])}, 'DP_ingredients': {'class_pred_count_s0': {1: 591, 0: 488}, 'class_pred_count_s1': {0: 490, 1: 546}, 'class_pred_count': {0: 978, 1: 1137}, 'count_s0': 1079, 'count_s1': 1036, 'count': 2115}}\n",
      "[12] Eval metrics for task 1 >> {'accuracy': 0.9970781264047469, 'loss': 0.00011887995671507314, 'std': 0.0011597590578081851, 'EER': -1, 'EO': [0.008130081300813052, 0.003676470588235281], 'DP': -1, 'accuracy_s0': 1.0, 'accuracy_s1': 0.9940967240554759, 'classwise_accuracy': {0: array([976, 980]), 1: array([1133, 1135])}, 'DP_ingredients': {'class_pred_count_s0': {0: 488, 1: 591}, 'class_pred_count_s1': {1: 546, 0: 490}, 'class_pred_count': {0: 978, 1: 1137}, 'count_s0': 1079, 'count_s1': 1036, 'count': 2115}}\n",
      "[13] Eval metrics for task 1 >> {'accuracy': 0.9966375977703856, 'loss': 0.00011433224297232098, 'std': 0.0007192304234469593, 'EER': -1, 'EO': [0.005514705882352922, 0.008130081300813052], 'DP': -1, 'accuracy_s0': 1.0, 'accuracy_s1': 0.993177606408417, 'classwise_accuracy': {1: array([1132, 1135]), 0: array([976, 980])}, 'DP_ingredients': {'class_pred_count_s0': {1: 591, 0: 488}, 'class_pred_count_s1': {0: 491, 1: 545}, 'class_pred_count': {1: 1136, 0: 979}, 'count_s0': 1079, 'count_s1': 1036, 'count': 2115}}\n",
      "[14] Eval metrics for task 1 >> {'accuracy': 0.9966375977703856, 'loss': 0.0001100876793511934, 'std': 0.0007192304234469593, 'EER': -1, 'EO': [0.005514705882352922, 0.008130081300813052], 'DP': -1, 'accuracy_s0': 1.0, 'accuracy_s1': 0.993177606408417, 'classwise_accuracy': {1: array([1132, 1135]), 0: array([976, 980])}, 'DP_ingredients': {'class_pred_count_s0': {1: 591, 0: 488}, 'class_pred_count_s1': {0: 491, 1: 545}, 'class_pred_count': {1: 1136, 0: 979}, 'count_s0': 1079, 'count_s1': 1036, 'count': 2115}}\n",
      "[15] Eval metrics for task 1 >> {'accuracy': 0.9966375977703856, 'loss': 0.00010437952226851286, 'std': 0.0007192304234469593, 'EER': -1, 'EO': [0.008130081300813052, 0.005514705882352922], 'DP': -1, 'accuracy_s0': 1.0, 'accuracy_s1': 0.993177606408417, 'classwise_accuracy': {0: array([976, 980]), 1: array([1132, 1135])}, 'DP_ingredients': {'class_pred_count_s0': {0: 488, 1: 591}, 'class_pred_count_s1': {0: 491, 1: 545}, 'class_pred_count': {0: 979, 1: 1136}, 'count_s0': 1079, 'count_s1': 1036, 'count': 2115}}\n",
      "training_task_end\n",
      "---------------------------- Task 2 -----------------------\n",
      "[16] Eval metrics for task 1 >> {'accuracy': 0.9783174503281489, 'loss': 0.00030275904540474533, 'std': 0.011990919715903936, 'EER': -1, 'EO': [0.020220588235294157, 0.06707317073170727], 'DP': -1, 'accuracy_s0': 1.0, 'accuracy_s1': 0.9563531205164992, 'classwise_accuracy': {1: array([1124, 1135]), 0: array([947, 980])}, 'DP_ingredients': {'class_pred_count_s0': {0: 488, 1: 591}, 'class_pred_count_s1': {1: 535, 0: 459, 3: 16, 2: 26}, 'class_pred_count': {1: 1126, 0: 947, 3: 16, 2: 26}, 'count_s0': 1079, 'count_s1': 1036, 'count': 2115}}\n",
      "[16] Eval metrics for task 2 >> {'accuracy': 0.6211048430424437, 'loss': 0.004908026724207296, 'std': 0.03199593215135471, 'EER': -1, 'EO': [0.6755111162862326, 0.8027079303675049], 'DP': -1, 'accuracy_s0': 0.99706457925636, 'accuracy_s1': 0.25795505592949136, 'classwise_accuracy': {2: array([ 674, 1032]), 3: array([ 595, 1010])}, 'DP_ingredients': {'class_pred_count_s0': {2: 508, 3: 493, 0: 3}, 'class_pred_count_s1': {0: 263, 2: 353, 3: 211, 1: 211}, 'class_pred_count': {0: 266, 2: 861, 3: 704, 1: 211}, 'count_s0': 1004, 'count_s1': 1038, 'count': 2042}}\n",
      "[17] Eval metrics for task 1 >> {'accuracy': 0.9699923581767509, 'loss': 0.00039280202970718944, 'std': 0.01591072552368966, 'EER': -1, 'EO': [0.0873817139810743, 0.02941176470588236], 'DP': -1, 'accuracy_s0': 0.9989754098360656, 'accuracy_s1': 0.9405786704925873, 'classwise_accuracy': {0: array([935, 980]), 1: array([1119, 1135])}, 'DP_ingredients': {'class_pred_count_s0': {0: 487, 1: 591, 3: 1}, 'class_pred_count_s1': {2: 35, 1: 529, 0: 448, 3: 24}, 'class_pred_count': {2: 35, 0: 935, 1: 1120, 3: 25}, 'count_s0': 1079, 'count_s1': 1036, 'count': 2115}}\n",
      "[17] Eval metrics for task 2 >> {'accuracy': 0.6879461201934147, 'loss': 0.003441247545423517, 'std': 0.009728298411236458, 'EER': -1, 'EO': [0.6286266924564796, 0.5988483685220729], 'DP': -1, 'accuracy_s0': 1.0, 'accuracy_s1': 0.3862624695107237, 'classwise_accuracy': {3: array([ 685, 1010]), 2: array([ 720, 1032])}, 'DP_ingredients': {'class_pred_count_s0': {3: 493, 2: 511}, 'class_pred_count_s1': {2: 406, 3: 325, 1: 158, 0: 149}, 'class_pred_count': {3: 818, 2: 917, 1: 158, 0: 149}, 'count_s0': 1004, 'count_s1': 1038, 'count': 2042}}\n",
      "[18] Eval metrics for task 1 >> {'accuracy': 0.9680212172974917, 'loss': 0.000451192669306241, 'std': 0.017000809134226413, 'EER': -1, 'EO': [0.08531587365053972, 0.03125], 'DP': -1, 'accuracy_s0': 0.9969262295081966, 'accuracy_s1': 0.9386432926829269, 'classwise_accuracy': {0: array([932, 980]), 1: array([1118, 1135])}, 'DP_ingredients': {'class_pred_count_s0': {0: 485, 1: 591, 3: 3}, 'class_pred_count_s1': {3: 25, 0: 449, 1: 528, 2: 34}, 'class_pred_count': {0: 934, 1: 1119, 3: 28, 2: 34}, 'count_s0': 1079, 'count_s1': 1036, 'count': 2115}}\n",
      "[18] Eval metrics for task 2 >> {'accuracy': 0.742716248369023, 'loss': 0.002643637395628986, 'std': 0.016973674111597226, 'EER': -1, 'EO': [0.4760076775431862, 0.5357833655705997], 'DP': -1, 'accuracy_s0': 1.0, 'accuracy_s1': 0.4941044784431071, 'classwise_accuracy': {2: array([ 784, 1032]), 3: array([ 733, 1010])}, 'DP_ingredients': {'class_pred_count_s0': {2: 511, 3: 493}, 'class_pred_count_s1': {3: 350, 0: 127, 1: 112, 2: 449}, 'class_pred_count': {2: 960, 3: 843, 0: 127, 1: 112}, 'count_s0': 1004, 'count_s1': 1038, 'count': 2042}}\n",
      "[19] Eval metrics for task 1 >> {'accuracy': 0.965400521442057, 'loss': 0.000545699755280294, 'std': 0.02050256225838354, 'EER': -1, 'EO': [0.09342929494868724, 0.025881482034438186], 'DP': -1, 'accuracy_s0': 0.995055615655599, 'accuracy_s1': 0.9354002271640363, 'classwise_accuracy': {0: array([926, 980]), 1: array([1119, 1135])}, 'DP_ingredients': {'class_pred_count_s0': {0: 484, 1: 590, 3: 5}, 'class_pred_count_s1': {0: 442, 1: 530, 3: 32, 2: 32}, 'class_pred_count': {0: 926, 1: 1120, 3: 37, 2: 32}, 'count_s0': 1079, 'count_s1': 1036, 'count': 2115}}\n",
      "[19] Eval metrics for task 2 >> {'accuracy': 0.7889554071686238, 'loss': 0.002050188814274361, 'std': 0.002133701742267291, 'EER': -1, 'EO': [0.4081237911025145, 0.4222648752399232], 'DP': -1, 'accuracy_s0': 1.0, 'accuracy_s1': 0.5848056668287811, 'classwise_accuracy': {3: array([ 799, 1010]), 2: array([ 812, 1032])}, 'DP_ingredients': {'class_pred_count_s0': {2: 511, 3: 493}, 'class_pred_count_s1': {3: 415, 1: 118, 2: 430, 0: 75}, 'class_pred_count': {3: 908, 1: 118, 2: 941, 0: 75}, 'count_s0': 1004, 'count_s1': 1038, 'count': 2042}}\n",
      "[20] Eval metrics for task 1 >> {'accuracy': 0.9679515418502203, 'loss': 0.0005388008540685577, 'std': 0.0179515418502203, 'EER': -1, 'EO': [0.02941176470588236, 0.08326669332267089], 'DP': -1, 'accuracy_s0': 0.9959016393442623, 'accuracy_s1': 0.9395624103299857, 'classwise_accuracy': {1: array([1119, 1135]), 0: array([931, 980])}, 'DP_ingredients': {'class_pred_count_s0': {1: 591, 0: 484, 3: 4}, 'class_pred_count_s1': {1: 529, 0: 447, 3: 29, 2: 31}, 'class_pred_count': {1: 1120, 0: 931, 3: 33, 2: 31}, 'count_s0': 1079, 'count_s1': 1036, 'count': 2115}}\n",
      "[20] Eval metrics for task 2 >> {'accuracy': 0.8291378847187044, 'loss': 0.0016615295766266272, 'std': 0.004525481617929206, 'EER': -1, 'EO': [0.3249516441005803, 0.3474088291746641], 'DP': -1, 'accuracy_s0': 1.0, 'accuracy_s1': 0.6638197633623778, 'classwise_accuracy': {3: array([ 842, 1010]), 2: array([ 851, 1032])}, 'DP_ingredients': {'class_pred_count_s0': {2: 511, 3: 493}, 'class_pred_count_s1': {3: 440, 2: 430, 0: 80, 1: 88}, 'class_pred_count': {3: 933, 2: 941, 0: 80, 1: 88}, 'count_s0': 1004, 'count_s1': 1038, 'count': 2042}}\n",
      "[21] Eval metrics for task 1 >> {'accuracy': 0.9582823878450059, 'loss': 0.0007836922087286099, 'std': 0.0144048368245977, 'EER': -1, 'EO': [0.05698529411764708, 0.09546181527389042], 'DP': -1, 'accuracy_s0': 0.9959016393442623, 'accuracy_s1': 0.9196780846484935, 'classwise_accuracy': {1: array([1104, 1135]), 0: array([925, 980])}, 'DP_ingredients': {'class_pred_count_s0': {1: 591, 0: 484, 2: 1, 3: 3}, 'class_pred_count_s1': {0: 441, 1: 514, 2: 49, 3: 32}, 'class_pred_count': {1: 1105, 0: 925, 2: 50, 3: 35}, 'count_s0': 1079, 'count_s1': 1036, 'count': 2115}}\n",
      "[21] Eval metrics for task 2 >> {'accuracy': 0.8327183590452069, 'loss': 0.0016195410233169766, 'std': 0.026777764985800867, 'EER': -1, 'EO': [0.27831094049904026, 0.379110251450677], 'DP': -1, 'accuracy_s0': 1.0, 'accuracy_s1': 0.6712894040251414, 'classwise_accuracy': {2: array([ 887, 1032]), 3: array([ 814, 1010])}, 'DP_ingredients': {'class_pred_count_s0': {2: 511, 3: 493}, 'class_pred_count_s1': {2: 513, 3: 393, 0: 57, 1: 75}, 'class_pred_count': {2: 1024, 3: 886, 0: 57, 1: 75}, 'count_s0': 1004, 'count_s1': 1038, 'count': 2042}}\n",
      "[22] Eval metrics for task 1 >> {'accuracy': 0.9592555965117324, 'loss': 0.0007037243416123356, 'std': 0.020480086307650802, 'EER': -1, 'EO': [0.08521591363454617, 0.03874912909326167], 'DP': -1, 'accuracy_s0': 0.9899326648359269, 'accuracy_s1': 0.927950143472023, 'classwise_accuracy': {0: array([920, 980]), 1: array([1112, 1135])}, 'DP_ingredients': {'class_pred_count_s0': {1: 590, 0: 479, 3: 6, 2: 4}, 'class_pred_count_s1': {0: 441, 2: 45, 1: 523, 3: 27}, 'class_pred_count': {0: 920, 1: 1113, 2: 49, 3: 33}, 'count_s0': 1079, 'count_s1': 1036, 'count': 2115}}\n",
      "[22] Eval metrics for task 2 >> {'accuracy': 0.8755027246910738, 'loss': 0.001263398717246023, 'std': 0.010156190037608426, 'EER': -1, 'EO': [0.22648752399232241, 0.26305609284332687], 'DP': -1, 'accuracy_s0': 1.0, 'accuracy_s1': 0.7552281915821754, 'classwise_accuracy': {2: array([ 914, 1032]), 3: array([ 874, 1010])}, 'DP_ingredients': {'class_pred_count_s0': {2: 511, 3: 493}, 'class_pred_count_s1': {2: 491, 3: 443, 0: 55, 1: 49}, 'class_pred_count': {2: 1002, 3: 936, 0: 55, 1: 49}, 'count_s0': 1004, 'count_s1': 1038, 'count': 2042}}\n",
      "[23] Eval metrics for task 1 >> {'accuracy': 0.9641486109862447, 'loss': 0.0006219175655227463, 'std': 0.01823024363930592, 'EER': -1, 'EO': [0.03323442321090875, 0.08731507397041183], 'DP': -1, 'accuracy_s0': 0.9940310254916647, 'accuracy_s1': 0.9337562769010044, 'classwise_accuracy': {1: array([1115, 1135]), 0: array([927, 980])}, 'DP_ingredients': {'class_pred_count_s0': {0: 483, 1: 590, 3: 6}, 'class_pred_count_s1': {1: 526, 0: 444, 2: 32, 3: 34}, 'class_pred_count': {1: 1116, 0: 927, 3: 40, 2: 32}, 'count_s0': 1079, 'count_s1': 1036, 'count': 2115}}\n",
      "[23] Eval metrics for task 2 >> {'accuracy': 0.885056412618006, 'loss': 0.0011481578068681842, 'std': 0.012963389362192046, 'EER': -1, 'EO': [0.24948259218498214, 0.19922630560928434], 'DP': -1, 'accuracy_s0': 0.9990215264187867, 'accuracy_s1': 0.7746670775216534, 'classwise_accuracy': {2: array([ 900, 1032]), 3: array([ 907, 1010])}, 'DP_ingredients': {'class_pred_count_s0': {3: 494, 2: 510}, 'class_pred_count_s1': {2: 437, 0: 71, 3: 467, 1: 63}, 'class_pred_count': {2: 947, 0: 71, 3: 961, 1: 63}, 'count_s0': 1004, 'count_s1': 1038, 'count': 2042}}\n",
      "[24] Eval metrics for task 1 >> {'accuracy': 0.9621077946597141, 'loss': 0.0006136459238985752, 'std': 0.020271059965836558, 'EER': -1, 'EO': [0.03323442321090875, 0.07911835265893641], 'DP': -1, 'accuracy_s0': 0.9899326648359269, 'accuracy_s1': 0.9337562769010044, 'classwise_accuracy': {1: array([1115, 1135]), 0: array([923, 980])}, 'DP_ingredients': {'class_pred_count_s0': {0: 479, 1: 590, 2: 3, 3: 7}, 'class_pred_count_s1': {1: 526, 0: 444, 2: 36, 3: 30}, 'class_pred_count': {1: 1116, 0: 923, 2: 39, 3: 37}, 'count_s0': 1079, 'count_s1': 1036, 'count': 2115}}\n",
      "[24] Eval metrics for task 2 >> {'accuracy': 0.9011397651393047, 'loss': 0.0010394033675796255, 'std': 0.005790927930002299, 'EER': -1, 'EO': [0.20341733306789966, 0.18181818181818177], 'DP': -1, 'accuracy_s0': 0.9990215264187867, 'accuracy_s1': 0.806403768975746, 'classwise_accuracy': {2: array([ 924, 1032]), 3: array([ 916, 1010])}, 'DP_ingredients': {'class_pred_count_s0': {3: 494, 2: 510}, 'class_pred_count_s1': {1: 64, 3: 470, 2: 464, 0: 40}, 'class_pred_count': {1: 64, 3: 964, 2: 974, 0: 40}, 'count_s0': 1004, 'count_s1': 1038, 'count': 2042}}\n",
      "[25] Eval metrics for task 1 >> {'accuracy': 0.9598354760406365, 'loss': 0.0007685230309517953, 'std': 0.019019149510024314, 'EER': -1, 'EO': [0.08931427429028382, 0.04058736438737931], 'DP': -1, 'accuracy_s0': 0.9919818451637957, 'accuracy_s1': 0.9270310258249641, 'classwise_accuracy': {0: array([922, 980]), 1: array([1111, 1135])}, 'DP_ingredients': {'class_pred_count_s0': {0: 481, 1: 590, 3: 7, 2: 1}, 'class_pred_count_s1': {1: 522, 0: 441, 2: 40, 3: 33}, 'class_pred_count': {0: 922, 1: 1112, 2: 41, 3: 40}, 'count_s0': 1079, 'count_s1': 1036, 'count': 2115}}\n",
      "[25] Eval metrics for task 2 >> {'accuracy': 0.8974959705272854, 'loss': 0.001141500869997568, 'std': 0.031216900759843458, 'EER': -1, 'EO': [0.13926499032882012, 0.26099890696425276], 'DP': -1, 'accuracy_s0': 0.9990215264187867, 'accuracy_s1': 0.7988895777722502, 'classwise_accuracy': {3: array([ 938, 1010]), 2: array([ 894, 1032])}, 'DP_ingredients': {'class_pred_count_s0': {3: 494, 2: 510}, 'class_pred_count_s1': {2: 432, 3: 520, 0: 28, 1: 58}, 'class_pred_count': {3: 1014, 2: 942, 0: 28, 1: 58}, 'count_s0': 1004, 'count_s1': 1038, 'count': 2042}}\n",
      "[26] Eval metrics for task 1 >> {'accuracy': 0.9592555965117324, 'loss': 0.0007158170742627858, 'std': 0.020480086307650802, 'EER': -1, 'EO': [0.03874912909326167, 0.08929761428761829], 'DP': -1, 'accuracy_s0': 0.9909572549998613, 'accuracy_s1': 0.9269338833094214, 'classwise_accuracy': {1: array([1112, 1135]), 0: array([920, 980])}, 'DP_ingredients': {'class_pred_count_s0': {1: 590, 0: 480, 2: 4, 3: 5}, 'class_pred_count_s1': {0: 440, 3: 30, 1: 523, 2: 43}, 'class_pred_count': {1: 1113, 0: 920, 3: 35, 2: 47}, 'count_s0': 1079, 'count_s1': 1036, 'count': 2115}}\n",
      "[26] Eval metrics for task 2 >> {'accuracy': 0.9016664747870136, 'loss': 0.0010734648534063028, 'std': 0.009224614321897306, 'EER': -1, 'EO': [0.21305182341650675, 0.17408123791102514], 'DP': -1, 'accuracy_s0': 1.0, 'accuracy_s1': 0.806433469336234, 'classwise_accuracy': {2: array([ 921, 1032]), 3: array([ 920, 1010])}, 'DP_ingredients': {'class_pred_count_s0': {2: 511, 3: 493}, 'class_pred_count_s1': {2: 469, 3: 487, 1: 49, 0: 33}, 'class_pred_count': {2: 980, 3: 980, 1: 49, 0: 33}, 'count_s0': 1004, 'count_s1': 1038, 'count': 2042}}\n",
      "[27] Eval metrics for task 1 >> {'accuracy': 0.9563337229164794, 'loss': 0.0009245981314785374, 'std': 0.021639845365458987, 'EER': -1, 'EO': [0.08518259362921488, 0.04242559968149695], 'DP': -1, 'accuracy_s0': 0.987883484508058, 'accuracy_s1': 0.924079387852702, 'classwise_accuracy': {0: array([916, 980]), 1: array([1110, 1135])}, 'DP_ingredients': {'class_pred_count_s0': {1: 590, 0: 477, 2: 3, 3: 9}, 'class_pred_count_s1': {0: 439, 1: 521, 3: 37, 2: 39}, 'class_pred_count': {0: 916, 1: 1111, 3: 46, 2: 42}, 'count_s0': 1079, 'count_s1': 1036, 'count': 2115}}\n",
      "[27] Eval metrics for task 2 >> {'accuracy': 0.9149800445160796, 'loss': 0.0009440211296431815, 'std': 0.017693222810653164, 'EER': -1, 'EO': [0.19957856147480946, 0.1315280464216635], 'DP': -1, 'accuracy_s0': 0.9990215264187867, 'accuracy_s1': 0.8334682224705502, 'classwise_accuracy': {2: array([ 926, 1032]), 3: array([ 942, 1010])}, 'DP_ingredients': {'class_pred_count_s0': {2: 510, 3: 494}, 'class_pred_count_s1': {3: 503, 2: 460, 0: 22, 1: 53}, 'class_pred_count': {2: 970, 3: 997, 0: 22, 1: 53}, 'count_s0': 1004, 'count_s1': 1038, 'count': 2042}}\n",
      "[28] Eval metrics for task 1 >> {'accuracy': 0.9542007551919447, 'loss': 0.0008317663842904652, 'std': 0.018486469477658918, 'EER': -1, 'EO': [0.09131347461015593, 0.053455011446202905], 'DP': -1, 'accuracy_s0': 0.9899326648359269, 'accuracy_s1': 0.9175484218077474, 'classwise_accuracy': {0: array([917, 980]), 1: array([1104, 1135])}, 'DP_ingredients': {'class_pred_count_s0': {1: 590, 0: 479, 3: 7, 2: 3}, 'class_pred_count_s1': {0: 438, 1: 515, 2: 44, 3: 39}, 'class_pred_count': {0: 917, 1: 1105, 2: 47, 3: 46}, 'count_s0': 1079, 'count_s1': 1036, 'count': 2115}}\n",
      "[28] Eval metrics for task 2 >> {'accuracy': 0.9183187504796991, 'loss': 0.0009272551122071344, 'std': 0.009404021797528639, 'EER': -1, 'EO': [0.1765459319162681, 0.14119922630560933], 'DP': -1, 'accuracy_s0': 0.9990215264187867, 'accuracy_s1': 0.840148947307848, 'classwise_accuracy': {2: array([ 938, 1032]), 3: array([ 937, 1010])}, 'DP_ingredients': {'class_pred_count_s0': {2: 510, 3: 494}, 'class_pred_count_s1': {0: 20, 3: 496, 2: 481, 1: 41}, 'class_pred_count': {0: 20, 2: 991, 3: 990, 1: 41}, 'count_s0': 1004, 'count_s1': 1038, 'count': 2042}}\n",
      "[29] Eval metrics for task 1 >> {'accuracy': 0.9591859210644611, 'loss': 0.0008592944195929994, 'std': 0.021430819023644687, 'EER': -1, 'EO': [0.07908503265360523, 0.03691089379914403], 'DP': -1, 'accuracy_s0': 0.987883484508058, 'accuracy_s1': 0.9298855212816834, 'classwise_accuracy': {0: array([919, 980]), 1: array([1113, 1135])}, 'DP_ingredients': {'class_pred_count_s0': {1: 590, 0: 477, 3: 9, 2: 3}, 'class_pred_count_s1': {0: 442, 1: 524, 2: 38, 3: 32}, 'class_pred_count': {0: 919, 1: 1114, 2: 41, 3: 41}, 'count_s0': 1079, 'count_s1': 1036, 'count': 2115}}\n",
      "[29] Eval metrics for task 2 >> {'accuracy': 0.93304359505718, 'loss': 0.0007968675655319221, 'std': 0.012500959398265399, 'EER': -1, 'EO': [0.1063829787234043, 0.15351330235772687], 'DP': -1, 'accuracy_s0': 0.9990215264187867, 'accuracy_s1': 0.8690733858782211, 'classwise_accuracy': {3: array([ 955, 1010]), 2: array([ 950, 1032])}, 'DP_ingredients': {'class_pred_count_s0': {3: 494, 2: 510}, 'class_pred_count_s1': {2: 474, 3: 495, 1: 51, 0: 18}, 'class_pred_count': {2: 984, 3: 989, 1: 51, 0: 18}, 'count_s0': 1004, 'count_s1': 1038, 'count': 2042}}\n",
      "[30] Eval metrics for task 1 >> {'accuracy': 0.9541310797446731, 'loss': 0.0007940066938704632, 'std': 0.019437202193652803, 'EER': -1, 'EO': [0.0892642942822871, 0.051616776152085264], 'DP': -1, 'accuracy_s0': 0.9889080746719925, 'accuracy_s1': 0.9184675394548063, 'classwise_accuracy': {0: array([916, 980]), 1: array([1105, 1135])}, 'DP_ingredients': {'class_pred_count_s0': {0: 478, 1: 590, 3: 8, 2: 3}, 'class_pred_count_s1': {1: 516, 0: 438, 3: 43, 2: 39}, 'class_pred_count': {0: 916, 1: 1106, 3: 51, 2: 42}, 'count_s0': 1079, 'count_s1': 1036, 'count': 2115}}\n",
      "[30] Eval metrics for task 2 >> {'accuracy': 0.9224163404712564, 'loss': 0.0008835192481521061, 'std': 0.026098511013892045, 'EER': -1, 'EO': [0.2014979472713545, 0.10058027079303677], 'DP': -1, 'accuracy_s0': 0.9990215264187867, 'accuracy_s1': 0.8479824173865911, 'classwise_accuracy': {2: array([ 925, 1032]), 3: array([ 958, 1010])}, 'DP_ingredients': {'class_pred_count_s0': {3: 494, 2: 510}, 'class_pred_count_s1': {2: 447, 3: 523, 1: 50, 0: 18}, 'class_pred_count': {2: 957, 3: 1017, 1: 50, 0: 18}, 'count_s0': 1004, 'count_s1': 1038, 'count': 2042}}\n",
      "training_task_end\n",
      "---------------------------- Task 3 -----------------------\n",
      "[31] Eval metrics for task 1 >> {'accuracy': 0.944554077137463, 'loss': 0.0008482696105402412, 'std': 0.02108468938236091, 'EER': -1, 'EO': [0.09121351459416238, 0.06463061112769974], 'DP': -1, 'accuracy_s0': 0.982939100163657, 'accuracy_s1': 0.905017037302726, 'classwise_accuracy': {0: array([905, 980]), 1: array([1096, 1135])}, 'DP_ingredients': {'class_pred_count_s0': {0: 473, 1: 589, 5: 13, 3: 2, 2: 1, 4: 1}, 'class_pred_count_s1': {0: 432, 1: 508, 2: 28, 3: 28, 5: 23, 4: 17}, 'class_pred_count': {0: 905, 1: 1097, 5: 36, 2: 29, 3: 30, 4: 18}, 'count_s0': 1079, 'count_s1': 1036, 'count': 2115}}\n",
      "[31] Eval metrics for task 2 >> {'accuracy': 0.9094606262951876, 'loss': 0.001300625021438991, 'std': 0.005390858853327185, 'EER': -1, 'EO': [0.16238166046115643, 0.15125586426824822], 'DP': -1, 'accuracy_s0': 0.9892010654049055, 'accuracy_s1': 0.8323823030402031, 'classwise_accuracy': {3: array([ 924, 1010]), 2: array([ 933, 1032])}, 'DP_ingredients': {'class_pred_count_s0': {3: 495, 2: 501, 4: 7, 5: 1}, 'class_pred_count_s1': {2: 467, 3: 454, 1: 21, 5: 61, 4: 30, 0: 5}, 'class_pred_count': {3: 949, 2: 968, 1: 21, 5: 62, 4: 37, 0: 5}, 'count_s0': 1004, 'count_s1': 1038, 'count': 2042}}\n",
      "[31] Eval metrics for task 3 >> {'accuracy': 0.6516558136136557, 'loss': 0.0051820676380185966, 'std': 0.08663339208899201, 'EER': -1, 'EO': [0.49139579349904394, 0.828180440986255], 'DP': -1, 'accuracy_s0': 0.9965197215777262, 'accuracy_s1': 0.33673160433507676, 'classwise_accuracy': {4: array([725, 982]), 5: array([504, 892])}, 'DP_ingredients': {'class_pred_count_s0': {4: 459, 5: 428, 0: 1, 1: 1, 2: 1}, 'class_pred_count_s1': {4: 361, 2: 98, 1: 60, 3: 253, 5: 144, 0: 68}, 'class_pred_count': {4: 820, 5: 572, 2: 99, 1: 61, 3: 253, 0: 69}, 'count_s0': 890, 'count_s1': 984, 'count': 1874}}\n",
      "[32] Eval metrics for task 1 >> {'accuracy': 0.9367391890676975, 'loss': 0.0009615711955877624, 'std': 0.02449429110851392, 'EER': -1, 'EO': [0.07382178759828795, 0.10132613621218178], 'DP': -1, 'accuracy_s0': 0.9798653296718538, 'accuracy_s1': 0.8922913677666189, 'classwise_accuracy': {1: array([1091, 1135]), 0: array([894, 980])}, 'DP_ingredients': {'class_pred_count_s0': {1: 589, 0: 470, 5: 16, 4: 1, 2: 1, 3: 2}, 'class_pred_count_s1': {1: 502, 0: 424, 3: 28, 5: 36, 2: 31, 4: 15}, 'class_pred_count': {1: 1091, 0: 894, 3: 30, 5: 52, 2: 32, 4: 16}, 'count_s0': 1079, 'count_s1': 1036, 'count': 2115}}\n",
      "[32] Eval metrics for task 2 >> {'accuracy': 0.9065114360273236, 'loss': 0.0014156888327565879, 'std': 0.00437965308158722, 'EER': -1, 'EO': [0.14346563698442327, 0.1463428031120405], 'DP': -1, 'accuracy_s0': 0.9801804519634967, 'accuracy_s1': 0.8352762319152649, 'classwise_accuracy': {2: array([ 931, 1032]), 3: array([ 920, 1010])}, 'DP_ingredients': {'class_pred_count_s0': {2: 500, 3: 492, 5: 6, 4: 6}, 'class_pred_count_s1': {2: 465, 1: 17, 0: 6, 3: 454, 5: 69, 4: 27}, 'class_pred_count': {2: 965, 3: 946, 1: 17, 0: 6, 5: 75, 4: 33}, 'count_s0': 1004, 'count_s1': 1038, 'count': 2042}}\n",
      "[32] Eval metrics for task 3 >> {'accuracy': 0.7111995744020165, 'loss': 0.003795422160383731, 'std': 0.09124441745134393, 'EER': -1, 'EO': [0.735357917570499, 0.3709369024856597], 'DP': -1, 'accuracy_s0': 1.0, 'accuracy_s1': 0.4468525899719207, 'classwise_accuracy': {5: array([553, 892]), 4: array([788, 982])}, 'DP_ingredients': {'class_pred_count_s0': {5: 431, 4: 459}, 'class_pred_count_s1': {5: 194, 0: 45, 3: 209, 2: 75, 4: 406, 1: 55}, 'class_pred_count': {5: 625, 4: 865, 0: 45, 3: 209, 2: 75, 1: 55}, 'count_s0': 890, 'count_s1': 984, 'count': 1874}}\n",
      "[33] Eval metrics for task 1 >> {'accuracy': 0.9354400791153465, 'loss': 0.0011078240037246236, 'std': 0.029317630135754724, 'EER': -1, 'EO': [0.06646884642181738, 0.12168465946954543], 'DP': -1, 'accuracy_s0': 0.9819145099997226, 'accuracy_s1': 0.8878377570540412, 'classwise_accuracy': {1: array([1095, 1135]), 0: array([888, 980])}, 'DP_ingredients': {'class_pred_count_s0': {1: 589, 0: 472, 5: 15, 3: 1, 2: 1, 4: 1}, 'class_pred_count_s1': {1: 506, 3: 27, 0: 416, 2: 29, 4: 18, 5: 40}, 'class_pred_count': {1: 1095, 3: 28, 0: 888, 2: 30, 4: 19, 5: 55}, 'count_s0': 1079, 'count_s1': 1036, 'count': 2115}}\n",
      "[33] Eval metrics for task 2 >> {'accuracy': 0.9025721467495587, 'loss': 0.0016198043112189717, 'std': 0.0023783482999462646, 'EER': -1, 'EO': [0.15505707449545691, 0.17379875314362392], 'DP': -1, 'accuracy_s0': 0.9861941942577692, 'accuracy_s1': 0.8217662804382289, 'classwise_accuracy': {2: array([ 929, 1032]), 3: array([ 914, 1010])}, 'DP_ingredients': {'class_pred_count_s0': {3: 491, 2: 500, 5: 6, 4: 6, 1: 1}, 'class_pred_count_s1': {2: 464, 3: 447, 5: 74, 1: 18, 4: 32, 0: 3}, 'class_pred_count': {2: 964, 3: 938, 5: 80, 1: 19, 4: 38, 0: 3}, 'count_s0': 1004, 'count_s1': 1038, 'count': 2042}}\n",
      "[33] Eval metrics for task 3 >> {'accuracy': 0.7611628140611728, 'loss': 0.0029079767784924745, 'std': 0.10645429388180067, 'EER': -1, 'EO': [0.6681127982646421, 0.248565965583174], 'DP': -1, 'accuracy_s0': 1.0, 'accuracy_s1': 0.5416606180760919, 'classwise_accuracy': {5: array([584, 892]), 4: array([852, 982])}, 'DP_ingredients': {'class_pred_count_s0': {5: 431, 4: 459}, 'class_pred_count_s1': {0: 25, 4: 490, 5: 202, 2: 57, 3: 169, 1: 41}, 'class_pred_count': {0: 25, 5: 633, 4: 949, 2: 57, 3: 169, 1: 41}, 'count_s0': 890, 'count_s1': 984, 'count': 1874}}\n",
      "[34] Eval metrics for task 1 >> {'accuracy': 0.945945338487818, 'loss': 0.0008836500152910291, 'std': 0.021455542569450703, 'EER': -1, 'EO': [0.06095414053946446, 0.09734439557510333], 'DP': -1, 'accuracy_s0': 0.9849882804915259, 'accuracy_s1': 0.9058390124342419, 'classwise_accuracy': {1: array([1098, 1135]), 0: array([906, 980])}, 'DP_ingredients': {'class_pred_count_s0': {1: 589, 0: 475, 5: 12, 2: 1, 3: 1, 4: 1}, 'class_pred_count_s1': {0: 431, 1: 509, 2: 23, 5: 36, 3: 23, 4: 14}, 'class_pred_count': {1: 1098, 0: 906, 2: 24, 5: 48, 3: 24, 4: 15}, 'count_s0': 1079, 'count_s1': 1036, 'count': 2115}}\n",
      "[34] Eval metrics for task 2 >> {'accuracy': 0.8873522526671271, 'loss': 0.0018478637811135826, 'std': 0.0012136388057410463, 'EER': -1, 'EO': [0.17092290127549714, 0.15095537334119613], 'DP': -1, 'accuracy_s0': 0.9692028913596615, 'accuracy_s1': 0.8082637540513149, 'classwise_accuracy': {3: array([ 895, 1010]), 2: array([ 917, 1032])}, 'DP_ingredients': {'class_pred_count_s0': {3: 483, 2: 496, 4: 15, 5: 9, 1: 1}, 'class_pred_count_s1': {2: 454, 3: 434, 5: 82, 4: 45, 1: 18, 0: 5}, 'class_pred_count': {3: 917, 2: 950, 5: 91, 4: 60, 1: 19, 0: 5}, 'count_s0': 1004, 'count_s1': 1038, 'count': 2042}}\n",
      "[34] Eval metrics for task 3 >> {'accuracy': 0.8021665768587947, 'loss': 0.002331637076659798, 'std': 0.10822038851798749, 'EER': -1, 'EO': [0.5921908893709328, 0.16826003824091773], 'DP': -1, 'accuracy_s0': 1.0, 'accuracy_s1': 0.6197745361940747, 'classwise_accuracy': {5: array([619, 892]), 4: array([894, 982])}, 'DP_ingredients': {'class_pred_count_s0': {5: 431, 4: 459}, 'class_pred_count_s1': {4: 542, 0: 21, 3: 122, 5: 230, 1: 32, 2: 37}, 'class_pred_count': {5: 661, 4: 1001, 0: 21, 3: 122, 1: 32, 2: 37}, 'count_s0': 890, 'count_s1': 984, 'count': 1874}}\n",
      "[35] Eval metrics for task 1 >> {'accuracy': 0.9365301627258833, 'loss': 0.0010189258988867415, 'std': 0.02734648925649552, 'EER': -1, 'EO': [0.06830708171593503, 0.11558709849393567], 'DP': -1, 'accuracy_s0': 0.9819145099997226, 'accuracy_s1': 0.8899674198947872, 'classwise_accuracy': {1: array([1094, 1135]), 0: array([891, 980])}, 'DP_ingredients': {'class_pred_count_s0': {1: 589, 0: 472, 5: 15, 4: 1, 2: 1, 3: 1}, 'class_pred_count_s1': {1: 505, 5: 45, 0: 419, 4: 14, 3: 27, 2: 26}, 'class_pred_count': {1: 1094, 5: 60, 0: 891, 4: 15, 3: 28, 2: 27}, 'count_s0': 1079, 'count_s1': 1036, 'count': 2115}}\n",
      "[35] Eval metrics for task 2 >> {'accuracy': 0.8889218282293345, 'loss': 0.0018664435296521014, 'std': 0.008107874740962473, 'EER': -1, 'EO': [0.16243412675458524, 0.16549683970166473], 'DP': -1, 'accuracy_s0': 0.972281212910294, 'accuracy_s1': 0.808315729682169, 'classwise_accuracy': {2: array([ 909, 1032]), 3: array([ 906, 1010])}, 'DP_ingredients': {'class_pred_count_s0': {2: 493, 3: 487, 5: 11, 4: 12, 1: 1}, 'class_pred_count_s1': {3: 448, 2: 447, 1: 20, 5: 83, 0: 4, 4: 36}, 'class_pred_count': {2: 940, 3: 935, 1: 21, 5: 94, 0: 4, 4: 48}, 'count_s0': 1004, 'count_s1': 1038, 'count': 2042}}\n",
      "[35] Eval metrics for task 3 >> {'accuracy': 0.8185249285342442, 'loss': 0.0022512087031896747, 'std': 0.08982537696473747, 'EER': -1, 'EO': [0.17208413001912048, 0.5249457700650759], 'DP': -1, 'accuracy_s0': 1.0, 'accuracy_s1': 0.6514850499579018, 'classwise_accuracy': {4: array([892, 982]), 5: array([650, 892])}, 'DP_ingredients': {'class_pred_count_s0': {4: 459, 5: 431}, 'class_pred_count_s1': {4: 508, 2: 34, 0: 18, 3: 127, 5: 261, 1: 36}, 'class_pred_count': {4: 967, 5: 692, 2: 34, 0: 18, 3: 127, 1: 36}, 'count_s0': 890, 'count_s1': 984, 'count': 1874}}\n",
      "[36] Eval metrics for task 1 >> {'accuracy': 0.9417940303874854, 'loss': 0.0010689834119580316, 'std': 0.026487907938505806, 'EER': -1, 'EO': [0.05911590524534682, 0.11155537784886049], 'DP': -1, 'accuracy_s0': 0.9839636903275915, 'accuracy_s1': 0.8986280487804879, 'classwise_accuracy': {1: array([1099, 1135]), 0: array([897, 980])}, 'DP_ingredients': {'class_pred_count_s0': {0: 474, 1: 589, 3: 1, 4: 1, 5: 13, 2: 1}, 'class_pred_count_s1': {1: 510, 0: 423, 5: 47, 3: 23, 2: 21, 4: 12}, 'class_pred_count': {1: 1099, 0: 897, 3: 24, 5: 60, 4: 13, 2: 22}, 'count_s0': 1079, 'count_s1': 1036, 'count': 2115}}\n",
      "[36] Eval metrics for task 2 >> {'accuracy': 0.8829812341699286, 'loss': 0.0020123135652411347, 'std': 0.002167280681556527, 'EER': -1, 'EO': [0.14305246195972665, 0.18870767142313472], 'DP': -1, 'accuracy_s0': 0.9673888450042275, 'accuracy_s1': 0.8015087783127968, 'classwise_accuracy': {2: array([ 909, 1032]), 3: array([ 894, 1010])}, 'DP_ingredients': {'class_pred_count_s0': {2: 489, 3: 486, 4: 15, 5: 13, 1: 1}, 'class_pred_count_s1': {5: 90, 2: 453, 3: 431, 0: 7, 4: 39, 1: 18}, 'class_pred_count': {2: 942, 3: 917, 5: 103, 4: 54, 0: 7, 1: 19}, 'count_s0': 1004, 'count_s1': 1038, 'count': 2042}}\n",
      "[36] Eval metrics for task 3 >> {'accuracy': 0.8470518663293544, 'loss': 0.0018015457128384325, 'std': 0.08472002776433196, 'EER': -1, 'EO': [0.12810707456978965, 0.45986984815618226], 'DP': -1, 'accuracy_s0': 1.0, 'accuracy_s1': 0.706011538637014, 'classwise_accuracy': {4: array([915, 982]), 5: array([680, 892])}, 'DP_ingredients': {'class_pred_count_s0': {4: 459, 5: 431}, 'class_pred_count_s1': {4: 528, 1: 31, 5: 276, 2: 29, 3: 100, 0: 20}, 'class_pred_count': {4: 987, 5: 707, 1: 31, 2: 29, 3: 100, 0: 20}, 'count_s0': 890, 'count_s1': 984, 'count': 1874}}\n",
      "[37] Eval metrics for task 1 >> {'accuracy': 0.9298278342173874, 'loss': 0.0012783634465355117, 'std': 0.03492987503371392, 'EER': -1, 'EO': [0.06646884642181738, 0.13587898174063706], 'DP': -1, 'accuracy_s0': 0.9798653296718538, 'accuracy_s1': 0.8786914155906265, 'classwise_accuracy': {1: array([1095, 1135]), 0: array([877, 980])}, 'DP_ingredients': {'class_pred_count_s0': {1: 589, 0: 470, 3: 1, 5: 17, 2: 1, 4: 1}, 'class_pred_count_s1': {2: 29, 0: 407, 1: 506, 5: 66, 3: 17, 4: 11}, 'class_pred_count': {2: 30, 0: 877, 1: 1095, 5: 83, 3: 18, 4: 12}, 'count_s0': 1079, 'count_s1': 1036, 'count': 2115}}\n",
      "[37] Eval metrics for task 2 >> {'accuracy': 0.8784730217207768, 'loss': 0.0021174458547857434, 'std': 0.007185893007905453, 'EER': -1, 'EO': [0.14508453185391623, 0.19201117384191047], 'DP': -1, 'accuracy_s0': 0.9642390730500986, 'accuracy_s1': 0.7956912202021853, 'classwise_accuracy': {2: array([ 914, 1032]), 3: array([ 880, 1010])}, 'DP_ingredients': {'class_pred_count_s0': {2: 494, 3: 480, 5: 16, 4: 13, 1: 1}, 'class_pred_count_s1': {5: 101, 3: 420, 1: 21, 2: 455, 4: 38, 0: 3}, 'class_pred_count': {2: 949, 5: 117, 3: 900, 1: 22, 4: 51, 0: 3}, 'count_s0': 1004, 'count_s1': 1038, 'count': 2042}}\n",
      "[37] Eval metrics for task 3 >> {'accuracy': 0.8705899007242472, 'loss': 0.001553778038653391, 'std': 0.07238362269734139, 'EER': -1, 'EO': [0.107074569789675, 0.3904555314533622], 'DP': -1, 'accuracy_s0': 1.0, 'accuracy_s1': 0.7512349493784813, 'classwise_accuracy': {4: array([926, 982]), 5: array([712, 892])}, 'DP_ingredients': {'class_pred_count_s0': {5: 431, 4: 459}, 'class_pred_count_s1': {4: 529, 3: 79, 5: 309, 1: 26, 0: 12, 2: 29}, 'class_pred_count': {4: 988, 5: 740, 3: 79, 1: 26, 0: 12, 2: 29}, 'count_s0': 890, 'count_s1': 984, 'count': 1874}}\n",
      "[38] Eval metrics for task 1 >> {'accuracy': 0.9333767868380832, 'loss': 0.0011688403556251075, 'std': 0.02521352153196077, 'EER': -1, 'EO': [0.07933649348064098, 0.11353791816606684], 'DP': -1, 'accuracy_s0': 0.9808899198357881, 'accuracy_s1': 0.8844527140124343, 'classwise_accuracy': {1: array([1088, 1135]), 0: array([890, 980])}, 'DP_ingredients': {'class_pred_count_s0': {1: 589, 0: 471, 5: 16, 2: 1, 4: 1, 3: 1}, 'class_pred_count_s1': {5: 53, 1: 499, 0: 419, 2: 33, 3: 20, 4: 12}, 'class_pred_count': {1: 1088, 5: 69, 0: 890, 2: 34, 3: 21, 4: 13}, 'count_s0': 1079, 'count_s1': 1036, 'count': 2115}}\n",
      "[38] Eval metrics for task 2 >> {'accuracy': 0.8785152352444547, 'loss': 0.0021852914400829274, 'std': 0.0032677104919794364, 'EER': -1, 'EO': [0.21201266473373848, 0.1605147409580402], 'DP': -1, 'accuracy_s0': 0.9732954116932555, 'accuracy_s1': 0.7870317088473662, 'classwise_accuracy': {3: array([ 884, 1010]), 2: array([ 910, 1032])}, 'DP_ingredients': {'class_pred_count_s0': {2: 492, 3: 487, 5: 11, 4: 13, 1: 1}, 'class_pred_count_s1': {3: 422, 2: 450, 4: 43, 5: 102, 1: 16, 0: 5}, 'class_pred_count': {3: 909, 2: 942, 4: 56, 5: 113, 1: 17, 0: 5}, 'count_s0': 1004, 'count_s1': 1038, 'count': 2042}}\n",
      "[38] Eval metrics for task 3 >> {'accuracy': 0.8756301772716064, 'loss': 0.0015608218907037692, 'std': 0.07854497547788442, 'EER': -1, 'EO': [0.3926247288503254, 0.08604206500956024], 'DP': -1, 'accuracy_s0': 1.0, 'accuracy_s1': 0.7606666030700572, 'classwise_accuracy': {5: array([711, 892]), 4: array([937, 982])}, 'DP_ingredients': {'class_pred_count_s0': {5: 431, 4: 459}, 'class_pred_count_s1': {4: 546, 5: 306, 3: 69, 1: 19, 2: 26, 0: 18}, 'class_pred_count': {5: 737, 4: 1005, 3: 69, 1: 19, 2: 26, 0: 18}, 'count_s0': 890, 'count_s1': 984, 'count': 1874}}\n",
      "[39] Eval metrics for task 1 >> {'accuracy': 0.932936258203722, 'loss': 0.0010896207205510872, 'std': 0.024772992897599544, 'EER': -1, 'EO': [0.08117472877475862, 0.11353791816606684], 'DP': -1, 'accuracy_s0': 0.9808899198357881, 'accuracy_s1': 0.8835335963653754, 'classwise_accuracy': {1: array([1087, 1135]), 0: array([890, 980])}, 'DP_ingredients': {'class_pred_count_s0': {0: 471, 1: 589, 5: 16, 4: 1, 2: 1, 3: 1}, 'class_pred_count_s1': {1: 498, 0: 419, 5: 71, 4: 10, 3: 14, 2: 24}, 'class_pred_count': {1: 1087, 0: 890, 5: 87, 4: 11, 3: 15, 2: 25}, 'count_s0': 1079, 'count_s1': 1036, 'count': 2115}}\n",
      "[39] Eval metrics for task 2 >> {'accuracy': 0.8489389055184589, 'loss': 0.0025565728734919654, 'std': 0.021216133241231117, 'EER': -1, 'EO': [0.1564130398037794, 0.17805171825283173], 'DP': -1, 'accuracy_s0': 0.9339917355699956, 'accuracy_s1': 0.76675935654169, 'classwise_accuracy': {2: array([ 898, 1032]), 3: array([ 836, 1010])}, 'DP_ingredients': {'class_pred_count_s0': {2: 492, 4: 14, 3: 456, 5: 41, 1: 1}, 'class_pred_count_s1': {2: 443, 5: 137, 3: 400, 1: 17, 4: 34, 0: 7}, 'class_pred_count': {2: 935, 4: 48, 3: 856, 5: 178, 1: 18, 0: 7}, 'count_s0': 1004, 'count_s1': 1038, 'count': 2042}}\n",
      "[39] Eval metrics for task 3 >> {'accuracy': 0.9038625756897701, 'loss': 0.0012754022741139634, 'std': 0.04623925730411993, 'EER': -1, 'EO': [0.09369024856596553, 0.2754880694143167], 'DP': -1, 'accuracy_s0': 1.0, 'accuracy_s1': 0.8154108410098588, 'classwise_accuracy': {4: array([933, 982]), 5: array([765, 892])}, 'DP_ingredients': {'class_pred_count_s0': {4: 459, 5: 431}, 'class_pred_count_s1': {5: 365, 4: 514, 0: 16, 3: 53, 1: 16, 2: 20}, 'class_pred_count': {4: 973, 5: 796, 0: 16, 3: 53, 1: 16, 2: 20}, 'count_s0': 890, 'count_s1': 984, 'count': 1874}}\n",
      "[40] Eval metrics for task 1 >> {'accuracy': 0.9360896340915221, 'loss': 0.0012752323426817045, 'std': 0.026905960622134295, 'EER': -1, 'EO': [0.11558709849393567, 0.07014531701005267], 'DP': -1, 'accuracy_s0': 0.9819145099997226, 'accuracy_s1': 0.8890483022477285, 'classwise_accuracy': {0: array([891, 980]), 1: array([1093, 1135])}, 'DP_ingredients': {'class_pred_count_s0': {0: 472, 3: 1, 1: 589, 5: 15, 2: 1, 4: 1}, 'class_pred_count_s1': {1: 504, 0: 419, 2: 25, 5: 62, 3: 15, 4: 11}, 'class_pred_count': {0: 891, 1: 1093, 3: 16, 2: 26, 5: 77, 4: 12}, 'count_s0': 1079, 'count_s1': 1036, 'count': 2115}}\n",
      "[40] Eval metrics for task 2 >> {'accuracy': 0.8613045897613016, 'loss': 0.0024792455669481535, 'std': 0.009819441246450233, 'EER': -1, 'EO': [0.23069589337769392, 0.15836998696620597], 'DP': -1, 'accuracy_s0': 0.9603251787252454, 'accuracy_s1': 0.7657922385532954, 'classwise_accuracy': {3: array([ 860, 1010]), 2: array([ 899, 1032])}, 'DP_ingredients': {'class_pred_count_s0': {3: 480, 2: 490, 5: 17, 4: 16, 1: 1}, 'class_pred_count_s1': {3: 403, 2: 444, 4: 36, 5: 129, 0: 9, 1: 17}, 'class_pred_count': {3: 883, 2: 934, 4: 52, 5: 146, 0: 9, 1: 18}, 'count_s0': 1004, 'count_s1': 1038, 'count': 2042}}\n",
      "[40] Eval metrics for task 3 >> {'accuracy': 0.9090569716785548, 'loss': 0.0011700762867164205, 'std': 0.04919150082653684, 'EER': -1, 'EO': [0.2711496746203904, 0.07839388145315485], 'DP': -1, 'accuracy_s0': 1.0, 'accuracy_s1': 0.8252282219632274, 'classwise_accuracy': {5: array([767, 892]), 4: array([941, 982])}, 'DP_ingredients': {'class_pred_count_s0': {4: 459, 5: 431}, 'class_pred_count_s1': {2: 20, 4: 522, 5: 357, 3: 52, 1: 19, 0: 14}, 'class_pred_count': {2: 20, 4: 981, 5: 788, 3: 52, 1: 19, 0: 14}, 'count_s0': 890, 'count_s1': 984, 'count': 1874}}\n",
      "[41] Eval metrics for task 1 >> {'accuracy': 0.9371100422547873, 'loss': 0.00108485898932103, 'std': 0.025885552458868977, 'EER': -1, 'EO': [0.07014531701005267, 0.10744035719045719], 'DP': -1, 'accuracy_s0': 0.9808899198357881, 'accuracy_s1': 0.8920970827355332, 'classwise_accuracy': {1: array([1093, 1135]), 0: array([893, 980])}, 'DP_ingredients': {'class_pred_count_s0': {5: 16, 1: 589, 0: 471, 2: 1, 3: 1, 4: 1}, 'class_pred_count_s1': {1: 504, 0: 422, 5: 61, 2: 24, 4: 12, 3: 13}, 'class_pred_count': {1: 1093, 5: 77, 0: 893, 2: 25, 4: 13, 3: 14}, 'count_s0': 1079, 'count_s1': 1036, 'count': 2115}}\n",
      "[41] Eval metrics for task 2 >> {'accuracy': 0.8622630286284443, 'loss': 0.002491565689400758, 'std': 0.011767979123493755, 'EER': -1, 'EO': [0.15648816253554243, 0.17715325975651386], 'DP': -1, 'accuracy_s0': 0.9471048693449983, 'accuracy_s1': 0.7802841581989701, 'classwise_accuracy': {2: array([ 902, 1032]), 3: array([ 859, 1010])}, 'DP_ingredients': {'class_pred_count_s0': {3: 466, 2: 494, 5: 21, 4: 21, 1: 2}, 'class_pred_count_s1': {2: 444, 3: 410, 5: 109, 4: 45, 1: 20, 0: 10}, 'class_pred_count': {2: 938, 3: 876, 5: 130, 4: 66, 1: 22, 0: 10}, 'count_s0': 1004, 'count_s1': 1038, 'count': 2042}}\n",
      "[41] Eval metrics for task 3 >> {'accuracy': 0.9059460422127442, 'loss': 0.0012015800052416871, 'std': 0.0584124099257487, 'EER': -1, 'EO': [0.2950108459869848, 0.0669216061185468], 'DP': -1, 'accuracy_s0': 1.0, 'accuracy_s1': 0.8190337739472342, 'classwise_accuracy': {5: array([756, 892]), 4: array([947, 982])}, 'DP_ingredients': {'class_pred_count_s0': {5: 431, 4: 459}, 'class_pred_count_s1': {4: 538, 5: 344, 2: 21, 3: 48, 0: 18, 1: 15}, 'class_pred_count': {5: 775, 4: 997, 2: 21, 3: 48, 0: 18, 1: 15}, 'count_s0': 890, 'count_s1': 984, 'count': 1874}}\n",
      "[42] Eval metrics for task 1 >> {'accuracy': 0.9342578441068057, 'loss': 0.0011422596220147243, 'std': 0.026094578800683277, 'EER': -1, 'EO': [0.11353791816606684, 0.0756600228924057], 'DP': -1, 'accuracy_s0': 0.9808899198357881, 'accuracy_s1': 0.8862909493065518, 'classwise_accuracy': {0: array([890, 980]), 1: array([1090, 1135])}, 'DP_ingredients': {'class_pred_count_s0': {1: 589, 0: 471, 3: 1, 2: 1, 5: 16, 4: 1}, 'class_pred_count_s1': {0: 419, 1: 501, 3: 14, 5: 65, 4: 11, 2: 26}, 'class_pred_count': {0: 890, 1: 1090, 3: 15, 5: 81, 4: 12, 2: 27}, 'count_s0': 1079, 'count_s1': 1036, 'count': 2115}}\n",
      "[42] Eval metrics for task 2 >> {'accuracy': 0.8593560518842582, 'loss': 0.0026820941256262528, 'std': 0.008861002379307703, 'EER': -1, 'EO': [0.23659276289719522, 0.16025181139686961], 'DP': -1, 'accuracy_s0': 0.9603609039269936, 'accuracy_s1': 0.7619386167799611, 'classwise_accuracy': {3: array([ 859, 1010]), 2: array([ 896, 1032])}, 'DP_ingredients': {'class_pred_count_s0': {3: 481, 2: 489, 5: 14, 4: 19, 1: 1}, 'class_pred_count_s1': {3: 399, 2: 438, 5: 134, 4: 42, 0: 9, 1: 16}, 'class_pred_count': {3: 880, 2: 927, 5: 148, 4: 61, 0: 9, 1: 17}, 'count_s0': 1004, 'count_s1': 1038, 'count': 2042}}\n",
      "[42] Eval metrics for task 3 >> {'accuracy': 0.9185301800115075, 'loss': 0.0010415885036884785, 'std': 0.05193825176038652, 'EER': -1, 'EO': [0.2581344902386117, 0.055449330783938766], 'DP': -1, 'accuracy_s0': 1.0, 'accuracy_s1': 0.8432080894887248, 'classwise_accuracy': {5: array([773, 892]), 4: array([953, 982])}, 'DP_ingredients': {'class_pred_count_s0': {5: 431, 4: 459}, 'class_pred_count_s1': {5: 357, 4: 540, 2: 17, 3: 40, 1: 15, 0: 15}, 'class_pred_count': {5: 788, 4: 999, 2: 17, 3: 40, 1: 15, 0: 15}, 'count_s0': 890, 'count_s1': 984, 'count': 1874}}\n",
      "[43] Eval metrics for task 1 >> {'accuracy': 0.9292254787377506, 'loss': 0.0012611515414912087, 'std': 0.030245886901015928, 'EER': -1, 'EO': [0.07749825818652334, 0.13183060109289613], 'DP': -1, 'accuracy_s0': 0.9808899198357881, 'accuracy_s1': 0.8762254901960784, 'classwise_accuracy': {1: array([1089, 1135]), 0: array([881, 980])}, 'DP_ingredients': {'class_pred_count_s0': {0: 471, 1: 589, 5: 16, 3: 1, 4: 1, 2: 1}, 'class_pred_count_s1': {1: 500, 0: 410, 2: 22, 5: 76, 3: 13, 4: 15}, 'class_pred_count': {1: 1089, 0: 881, 2: 23, 5: 92, 3: 14, 4: 16}, 'count_s0': 1079, 'count_s1': 1036, 'count': 2115}}\n",
      "[43] Eval metrics for task 2 >> {'accuracy': 0.8489811190421368, 'loss': 0.0027420241732321804, 'std': 0.0172979507253051, 'EER': -1, 'EO': [0.213903743315508, 0.1602142500309881], 'DP': -1, 'accuracy_s0': 0.9441694486013583, 'accuracy_s1': 0.7571104519281102, 'classwise_accuracy': {3: array([ 840, 1010]), 2: array([ 894, 1032])}, 'DP_ingredients': {'class_pred_count_s0': {3: 466, 2: 488, 5: 33, 4: 16, 1: 1}, 'class_pred_count_s1': {4: 40, 5: 137, 3: 396, 2: 439, 0: 9, 1: 17}, 'class_pred_count': {4: 56, 3: 862, 5: 170, 2: 927, 0: 9, 1: 18}, 'count_s0': 1004, 'count_s1': 1038, 'count': 2042}}\n",
      "[43] Eval metrics for task 3 >> {'accuracy': 0.92169248262446, 'loss': 0.0010275623921141934, 'std': 0.04164763957513262, 'EER': -1, 'EO': [0.23210412147505421, 0.06883365200764824], 'DP': -1, 'accuracy_s0': 1.0, 'accuracy_s1': 0.8495311132586487, 'classwise_accuracy': {5: array([785, 892]), 4: array([946, 982])}, 'DP_ingredients': {'class_pred_count_s0': {4: 459, 5: 431}, 'class_pred_count_s1': {5: 374, 4: 527, 3: 38, 1: 16, 2: 16, 0: 13}, 'class_pred_count': {5: 805, 4: 986, 3: 38, 1: 16, 2: 16, 0: 13}, 'count_s0': 890, 'count_s1': 984, 'count': 1874}}\n",
      "[44] Eval metrics for task 1 >> {'accuracy': 0.9303380382990201, 'loss': 0.0012266904467950195, 'std': 0.03441967095208126, 'EER': -1, 'EO': [0.06646884642181738, 0.1379281620685059], 'DP': -1, 'accuracy_s0': 0.9808899198357881, 'accuracy_s1': 0.8786914155906265, 'classwise_accuracy': {1: array([1095, 1135]), 0: array([878, 980])}, 'DP_ingredients': {'class_pred_count_s0': {0: 471, 1: 589, 5: 16, 2: 1, 3: 1, 4: 1}, 'class_pred_count_s1': {1: 506, 5: 80, 0: 407, 3: 11, 2: 22, 4: 10}, 'class_pred_count': {1: 1095, 5: 96, 0: 878, 3: 12, 2: 23, 4: 11}, 'count_s0': 1079, 'count_s1': 1036, 'count': 2115}}\n",
      "[44] Eval metrics for task 2 >> {'accuracy': 0.8528887481771432, 'loss': 0.0027664852831202555, 'std': 0.018235282830608657, 'EER': -1, 'EO': [0.15061732104826253, 0.1922505012142922], 'DP': -1, 'accuracy_s0': 0.9401126534695126, 'accuracy_s1': 0.7686787423382351, 'classwise_accuracy': {2: array([ 899, 1032]), 3: array([ 843, 1010])}, 'DP_ingredients': {'class_pred_count_s0': {1: 2, 2: 491, 3: 462, 4: 19, 5: 30}, 'class_pred_count_s1': {2: 443, 5: 133, 3: 397, 1: 19, 4: 40, 0: 6}, 'class_pred_count': {2: 934, 5: 163, 1: 21, 3: 859, 4: 59, 0: 6}, 'count_s0': 1004, 'count_s1': 1038, 'count': 2042}}\n",
      "[44] Eval metrics for task 3 >> {'accuracy': 0.9247988455883025, 'loss': 0.0009913827464572901, 'std': 0.04363292630579124, 'EER': -1, 'EO': [0.22993492407809113, 0.05927342256214152], 'DP': -1, 'accuracy_s0': 1.0, 'accuracy_s1': 0.8553958266798837, 'classwise_accuracy': {5: array([786, 892]), 4: array([951, 982])}, 'DP_ingredients': {'class_pred_count_s0': {5: 431, 4: 459}, 'class_pred_count_s1': {5: 370, 4: 526, 1: 18, 2: 17, 3: 41, 0: 12}, 'class_pred_count': {5: 801, 4: 985, 1: 18, 2: 17, 3: 41, 0: 12}, 'count_s0': 890, 'count_s1': 984, 'count': 1874}}\n",
      "[45] Eval metrics for task 1 >> {'accuracy': 0.931057268722467, 'loss': 0.0012097660742752942, 'std': 0.031057268722466946, 'EER': -1, 'EO': [0.0719835523041703, 0.12979808076769295], 'DP': -1, 'accuracy_s0': 0.9808899198357881, 'accuracy_s1': 0.8799991032998565, 'classwise_accuracy': {1: array([1092, 1135]), 0: array([882, 980])}, 'DP_ingredients': {'class_pred_count_s0': {1: 589, 0: 471, 5: 16, 3: 1, 4: 1, 2: 1}, 'class_pred_count_s1': {1: 503, 0: 411, 5: 78, 2: 22, 3: 11, 4: 11}, 'class_pred_count': {1: 1092, 0: 882, 5: 94, 2: 23, 3: 12, 4: 12}, 'count_s0': 1079, 'count_s1': 1036, 'count': 2115}}\n",
      "[45] Eval metrics for task 2 >> {'accuracy': 0.8445256734975823, 'loss': 0.002887227246857063, 'std': 0.02175339626985956, 'EER': -1, 'EO': [0.2154613329357622, 0.1602142500309881], 'DP': -1, 'accuracy_s0': 0.9401126534695126, 'accuracy_s1': 0.7522748619861374, 'classwise_accuracy': {3: array([ 831, 1010]), 2: array([ 894, 1032])}, 'DP_ingredients': {'class_pred_count_s0': {3: 462, 2: 491, 4: 18, 5: 32, 1: 1}, 'class_pred_count_s1': {2: 438, 3: 386, 5: 145, 4: 45, 1: 17, 0: 7}, 'class_pred_count': {3: 848, 2: 929, 4: 63, 5: 177, 1: 18, 0: 7}, 'count_s0': 1004, 'count_s1': 1038, 'count': 2042}}\n",
      "[45] Eval metrics for task 3 >> {'accuracy': 0.928162074287854, 'loss': 0.0008821376304171001, 'std': 0.04026969760623966, 'EER': -1, 'EO': [0.05927342256214152, 0.2169197396963124], 'DP': -1, 'accuracy_s0': 1.0, 'accuracy_s1': 0.861903418870773, 'classwise_accuracy': {4: array([951, 982]), 5: array([792, 892])}, 'DP_ingredients': {'class_pred_count_s0': {4: 459, 5: 431}, 'class_pred_count_s1': {5: 377, 4: 526, 3: 38, 2: 14, 0: 13, 1: 16}, 'class_pred_count': {4: 985, 5: 808, 3: 38, 2: 14, 0: 13, 1: 16}, 'count_s0': 890, 'count_s1': 984, 'count': 1874}}\n",
      "training_task_end\n",
      "---------------------------- Task 4 -----------------------\n",
      "[46] Eval metrics for task 1 >> {'accuracy': 0.914986963948575, 'loss': 0.0017042430650539714, 'std': 0.0374359435404118, 'EER': -1, 'EO': [0.08867385786802029, 0.14185992269758763], 'DP': -1, 'accuracy_s0': 0.9718471748356494, 'accuracy_s1': 0.8565802845528455, 'classwise_accuracy': {1: array([1081, 1135]), 0: array([860, 980])}, 'DP_ingredients': {'class_pred_count_s0': {0: 463, 1: 588, 3: 3, 5: 19, 7: 4, 4: 1, 6: 1}, 'class_pred_count_s1': {1: 493, 0: 397, 5: 56, 2: 14, 7: 31, 4: 5, 6: 28, 3: 12}, 'class_pred_count': {1: 1081, 0: 860, 5: 75, 2: 14, 7: 35, 3: 15, 4: 6, 6: 29}, 'count_s0': 1079, 'count_s1': 1036, 'count': 2115}}\n",
      "[46] Eval metrics for task 2 >> {'accuracy': 0.8225228336787167, 'loss': 0.003197980674310249, 'std': 0.01856243763911275, 'EER': -1, 'EO': [0.17523128411041544, 0.23239864878119598], 'DP': -1, 'accuracy_s0': 0.9262353973237855, 'accuracy_s1': 0.7224204308779798, 'classwise_accuracy': {2: array([ 868, 1032]), 3: array([ 812, 1010])}, 'DP_ingredients': {'class_pred_count_s0': {2: 484, 3: 461, 4: 13, 7: 14, 5: 24, 6: 7, 1: 1}, 'class_pred_count_s1': {2: 407, 3: 370, 7: 58, 4: 17, 5: 106, 1: 9, 6: 66, 0: 5}, 'class_pred_count': {2: 891, 3: 831, 7: 72, 4: 30, 5: 130, 1: 10, 6: 73, 0: 5}, 'count_s0': 1004, 'count_s1': 1038, 'count': 2042}}\n",
      "[46] Eval metrics for task 3 >> {'accuracy': 0.8630220653375102, 'loss': 0.0018231688562299552, 'std': 0.018851661750066195, 'EER': -1, 'EO': [0.2925396721542496, 0.20952523775603293], 'DP': -1, 'accuracy_s0': 0.9944118405289417, 'accuracy_s1': 0.7433793855738005, 'classwise_accuracy': {5: array([753, 892]), 4: array([866, 982])}, 'DP_ingredients': {'class_pred_count_s0': {5: 429, 4: 457, 7: 3, 6: 1}, 'class_pred_count_s1': {4: 424, 7: 96, 5: 330, 6: 76, 3: 31, 2: 11, 1: 10, 0: 6}, 'class_pred_count': {5: 759, 4: 881, 7: 99, 6: 77, 3: 31, 2: 11, 1: 10, 0: 6}, 'count_s0': 890, 'count_s1': 984, 'count': 1874}}\n",
      "[46] Eval metrics for task 4 >> {'accuracy': 0.6686839475886046, 'loss': 0.004671798731985409, 'std': 0.014195429843301965, 'EER': -1, 'EO': [0.7149149061673913, 0.592561371532722], 'DP': -1, 'accuracy_s0': 0.9949560369740321, 'accuracy_s1': 0.3412178981239755, 'classwise_accuracy': {6: array([627, 958]), 7: array([ 702, 1028])}, 'DP_ingredients': {'class_pred_count_s0': {7: 483, 6: 500, 0: 2, 1: 2, 2: 1}, 'class_pred_count_s1': {6: 203, 5: 85, 2: 115, 3: 30, 4: 232, 7: 276, 1: 22, 0: 35}, 'class_pred_count': {6: 703, 5: 85, 2: 116, 7: 759, 3: 30, 4: 232, 1: 24, 0: 37}, 'count_s0': 988, 'count_s1': 998, 'count': 1986}}\n",
      "[47] Eval metrics for task 1 >> {'accuracy': 0.9130854985165873, 'loss': 0.002008236948198179, 'std': 0.03757529443495461, 'EER': -1, 'EO': [0.08528976311336722, 0.15000666400106621], 'DP': -1, 'accuracy_s0': 0.9711797176222574, 'accuracy_s1': 0.8535315040650406, 'classwise_accuracy': {1: array([1079, 1135]), 0: array([858, 980])}, 'DP_ingredients': {'class_pred_count_s0': {1: 586, 0: 464, 3: 3, 6: 5, 7: 6, 5: 15}, 'class_pred_count_s1': {1: 493, 5: 57, 0: 394, 6: 34, 2: 13, 7: 29, 3: 12, 4: 4}, 'class_pred_count': {1: 1079, 5: 72, 0: 858, 6: 39, 2: 13, 3: 15, 7: 35, 4: 4}, 'count_s0': 1079, 'count_s1': 1036, 'count': 2115}}\n",
      "[47] Eval metrics for task 2 >> {'accuracy': 0.8151604113899762, 'loss': 0.0035262759063433013, 'std': 0.020110906439481158, 'EER': -1, 'EO': [0.17899493297174263, 0.24584413902958635], 'DP': -1, 'accuracy_s0': 0.9232642513783973, 'accuracy_s1': 0.7108447153777329, 'classwise_accuracy': {2: array([ 862, 1032]), 3: array([ 803, 1010])}, 'DP_ingredients': {'class_pred_count_s0': {3: 458, 2: 482, 5: 21, 7: 18, 6: 15, 4: 9, 1: 1}, 'class_pred_count_s1': {2: 409, 4: 13, 3: 359, 7: 55, 5: 104, 6: 84, 0: 5, 1: 9}, 'class_pred_count': {2: 891, 3: 817, 4: 22, 7: 73, 5: 125, 6: 99, 0: 5, 1: 10}, 'count_s0': 1004, 'count_s1': 1038, 'count': 2042}}\n",
      "[47] Eval metrics for task 3 >> {'accuracy': 0.8792685377147398, 'loss': 0.0019886453925227407, 'std': 0.025008448028641106, 'EER': -1, 'EO': [0.1592788379426553, 0.25505936353433223], 'DP': -1, 'accuracy_s0': 0.9875928200617705, 'accuracy_s1': 0.7804237193232768, 'classwise_accuracy': {4: array([888, 982]), 5: array([762, 892])}, 'DP_ingredients': {'class_pred_count_s0': {4: 455, 5: 425, 7: 4, 3: 1, 6: 4, 2: 1}, 'class_pred_count_s1': {5: 342, 4: 447, 3: 25, 6: 80, 7: 66, 2: 11, 1: 8, 0: 5}, 'class_pred_count': {4: 902, 5: 767, 3: 26, 6: 84, 7: 70, 2: 12, 1: 8, 0: 5}, 'count_s0': 890, 'count_s1': 984, 'count': 1874}}\n",
      "[47] Eval metrics for task 4 >> {'accuracy': 0.7788376400250197, 'loss': 0.0029408297870094323, 'std': 0.003263527290155388, 'EER': -1, 'EO': [0.40471606766531865, 0.46834159875909376], 'DP': -1, 'accuracy_s0': 0.9969441085446087, 'accuracy_s1': 0.5604152753324024, 'classwise_accuracy': {7: array([ 804, 1028]), 6: array([743, 958])}, 'DP_ingredients': {'class_pred_count_s0': {6: 502, 7: 483, 2: 1, 1: 1, 0: 1}, 'class_pred_count_s1': {7: 362, 6: 300, 4: 138, 0: 25, 2: 72, 5: 57, 3: 28, 1: 16}, 'class_pred_count': {7: 845, 6: 802, 4: 138, 0: 26, 2: 73, 5: 57, 3: 28, 1: 17}, 'count_s0': 988, 'count_s1': 998, 'count': 1986}}\n",
      "[48] Eval metrics for task 1 >> {'accuracy': 0.8982446282477748, 'loss': 0.0023211370686830922, 'std': 0.04008136294165243, 'EER': -1, 'EO': [0.16823270691723313, 0.10043420921668167], 'DP': -1, 'accuracy_s0': 0.9645432859005298, 'accuracy_s1': 0.8302098278335724, 'classwise_accuracy': {0: array([841, 980]), 1: array([1065, 1135])}, 'DP_ingredients': {'class_pred_count_s0': {0: 460, 1: 583, 3: 6, 7: 9, 5: 8, 6: 13}, 'class_pred_count_s1': {1: 482, 0: 381, 7: 45, 3: 15, 2: 15, 5: 56, 6: 38, 4: 4}, 'class_pred_count': {0: 841, 1: 1065, 7: 54, 3: 21, 2: 15, 5: 64, 6: 51, 4: 4}, 'count_s0': 1079, 'count_s1': 1036, 'count': 2115}}\n",
      "[48] Eval metrics for task 2 >> {'accuracy': 0.8131802133701742, 'loss': 0.0036210930604308874, 'std': 0.02209110445928314, 'EER': -1, 'EO': [0.18287126593071423, 0.21791738105233427], 'DP': -1, 'accuracy_s0': 0.9151149359129576, 'accuracy_s1': 0.7147206124214333, 'classwise_accuracy': {2: array([ 862, 1032]), 3: array([ 799, 1010])}, 'DP_ingredients': {'class_pred_count_s0': {6: 16, 2: 482, 3: 450, 5: 22, 7: 30, 4: 4}, 'class_pred_count_s1': {3: 364, 2: 409, 6: 83, 1: 8, 4: 10, 7: 73, 5: 86, 0: 5}, 'class_pred_count': {6: 99, 3: 814, 2: 891, 1: 8, 4: 14, 7: 103, 5: 108, 0: 5}, 'count_s0': 1004, 'count_s1': 1038, 'count': 2042}}\n",
      "[48] Eval metrics for task 3 >> {'accuracy': 0.8658669960636753, 'loss': 0.0022670321460721843, 'std': 0.03739165974080533, 'EER': -1, 'EO': [0.14891879845203426, 0.29148275462904716], 'DP': -1, 'accuracy_s0': 0.9808445677832875, 'accuracy_s1': 0.7606437912427468, 'classwise_accuracy': {4: array([887, 982]), 5: array([739, 892])}, 'DP_ingredients': {'class_pred_count_s0': {4: 451, 5: 422, 6: 8, 3: 2, 7: 6, 2: 1}, 'class_pred_count_s1': {4: 450, 5: 322, 6: 77, 7: 87, 3: 25, 2: 13, 1: 7, 0: 3}, 'class_pred_count': {4: 901, 5: 744, 6: 85, 3: 27, 7: 93, 2: 14, 1: 7, 0: 3}, 'count_s0': 890, 'count_s1': 984, 'count': 1874}}\n",
      "[48] Eval metrics for task 4 >> {'accuracy': 0.8370703800882189, 'loss': 0.0021015730089051247, 'std': 0.008260359211392065, 'EER': -1, 'EO': [0.288914203261757, 0.3562536866711816], 'DP': -1, 'accuracy_s0': 0.9979750363796602, 'accuracy_s1': 0.6753910914131909, 'classwise_accuracy': {7: array([ 869, 1028]), 6: array([794, 958])}, 'DP_ingredients': {'class_pred_count_s0': {7: 484, 6: 502, 1: 1, 0: 1}, 'class_pred_count_s1': {4: 75, 7: 427, 6: 338, 5: 43, 2: 58, 0: 21, 3: 25, 1: 11}, 'class_pred_count': {7: 911, 6: 840, 4: 75, 5: 43, 2: 58, 0: 22, 3: 25, 1: 12}, 'count_s0': 988, 'count_s1': 998, 'count': 1986}}\n",
      "[49] Eval metrics for task 1 >> {'accuracy': 0.8956711318888788, 'loss': 0.0021689894210644082, 'std': 0.03648745841949114, 'EER': -1, 'EO': [0.1062412909326167, 0.16620018659202995], 'DP': -1, 'accuracy_s0': 0.9628512385232033, 'accuracy_s1': 0.82663049976088, 'classwise_accuracy': {1: array([1058, 1135]), 0: array([842, 980])}, 'DP_ingredients': {'class_pred_count_s0': {1: 581, 0: 460, 6: 11, 5: 8, 7: 12, 4: 1, 3: 6}, 'class_pred_count_s1': {0: 382, 1: 477, 5: 52, 6: 44, 7: 48, 3: 15, 2: 14, 4: 4}, 'class_pred_count': {1: 1058, 0: 842, 5: 60, 6: 55, 7: 60, 3: 21, 2: 14, 4: 5}, 'count_s0': 1079, 'count_s1': 1036, 'count': 2115}}\n",
      "[49] Eval metrics for task 2 >> {'accuracy': 0.8069028705196102, 'loss': 0.003905761195209888, 'std': 0.01383356358891702, 'EER': -1, 'EO': [0.2417873438977406, 0.17289872328917366], 'DP': -1, 'accuracy_s0': 0.9124295915815547, 'accuracy_s1': 0.7050865579880976, 'classwise_accuracy': {3: array([ 801, 1010]), 2: array([ 847, 1032])}, 'DP_ingredients': {'class_pred_count_s0': {2: 475, 3: 457, 7: 28, 5: 18, 6: 18, 4: 8}, 'class_pred_count_s1': {3: 360, 5: 91, 2: 400, 6: 92, 7: 75, 0: 6, 1: 5, 4: 9}, 'class_pred_count': {3: 817, 2: 875, 5: 109, 6: 110, 7: 103, 0: 6, 1: 5, 4: 17}, 'count_s0': 1004, 'count_s1': 1038, 'count': 2042}}\n",
      "[49] Eval metrics for task 3 >> {'accuracy': 0.8636762167444494, 'loss': 0.0024516104443223397, 'std': 0.03856410912113101, 'EER': -1, 'EO': [0.2979903468199365, 0.15083084434113558], 'DP': -1, 'accuracy_s0': 0.9808445677832875, 'accuracy_s1': 0.7564339722027515, 'classwise_accuracy': {5: array([736, 892]), 4: array([886, 982])}, 'DP_ingredients': {'class_pred_count_s0': {4: 451, 5: 422, 7: 6, 6: 8, 2: 1, 3: 2}, 'class_pred_count_s1': {5: 319, 4: 449, 6: 88, 2: 8, 7: 84, 3: 29, 0: 3, 1: 4}, 'class_pred_count': {5: 741, 4: 900, 6: 96, 2: 9, 7: 90, 3: 31, 0: 3, 1: 4}, 'count_s0': 890, 'count_s1': 984, 'count': 1874}}\n",
      "[49] Eval metrics for task 4 >> {'accuracy': 0.8601191685011738, 'loss': 0.001902890799629004, 'std': 0.011476162238125809, 'EER': -1, 'EO': [0.3144954449129399, 0.23919044635567965], 'DP': -1, 'accuracy_s0': 0.9979750363796602, 'accuracy_s1': 0.7211320907453505, 'classwise_accuracy': {6: array([813, 958]), 7: array([ 896, 1028])}, 'DP_ingredients': {'class_pred_count_s0': {6: 502, 7: 484, 0: 1, 1: 1}, 'class_pred_count_s1': {6: 354, 7: 449, 0: 17, 4: 70, 5: 38, 3: 20, 1: 8, 2: 42}, 'class_pred_count': {6: 856, 7: 933, 0: 18, 4: 70, 5: 38, 3: 20, 1: 9, 2: 42}, 'count_s0': 988, 'count_s1': 998, 'count': 1986}}\n",
      "[50] Eval metrics for task 1 >> {'accuracy': 0.8925177560010789, 'loss': 0.0023017140849544084, 'std': 0.03435449069495644, 'EER': -1, 'EO': [0.11727070269732254, 0.14782420365187254], 'DP': -1, 'accuracy_s0': 0.9577282877035311, 'accuracy_s1': 0.8251808345289335, 'classwise_accuracy': {1: array([1052, 1135]), 0: array([841, 980])}, 'DP_ingredients': {'class_pred_count_s0': {1: 581, 0: 455, 3: 5, 6: 16, 5: 8, 7: 13, 4: 1}, 'class_pred_count_s1': {1: 471, 0: 386, 3: 16, 5: 54, 6: 40, 2: 16, 7: 50, 4: 3}, 'class_pred_count': {1: 1052, 0: 841, 3: 21, 5: 62, 6: 56, 2: 16, 7: 63, 4: 4}, 'count_s0': 1079, 'count_s1': 1036, 'count': 2115}}\n",
      "[50] Eval metrics for task 2 >> {'accuracy': 0.8073345997390438, 'loss': 0.00410276029649374, 'std': 0.01921578785785555, 'EER': -1, 'EO': [0.21183218835456552, 0.16525874146887476], 'DP': -1, 'accuracy_s0': 0.9032660773331533, 'accuracy_s1': 0.7147206124214333, 'classwise_accuracy': {3: array([ 796, 1010]), 2: array([ 853, 1032])}, 'DP_ingredients': {'class_pred_count_s0': {3: 447, 2: 471, 5: 28, 6: 22, 7: 29, 4: 6, 0: 1}, 'class_pred_count_s1': {3: 363, 7: 73, 2: 409, 5: 85, 1: 7, 6: 87, 0: 6, 4: 8}, 'class_pred_count': {3: 810, 2: 880, 7: 102, 5: 113, 6: 109, 1: 7, 0: 7, 4: 14}, 'count_s0': 1004, 'count_s1': 1038, 'count': 2042}}\n",
      "[50] Eval metrics for task 3 >> {'accuracy': 0.8610276456029153, 'loss': 0.0026561416041507536, 'std': 0.038157690445964565, 'EER': -1, 'EO': [0.3023287416138628, 0.16065767713501378], 'DP': -1, 'accuracy_s0': 0.981933892402024, 'accuracy_s1': 0.7504406830275857, 'classwise_accuracy': {5: array([734, 892]), 4: array([883, 982])}, 'DP_ingredients': {'class_pred_count_s0': {5: 422, 4: 452, 7: 5, 6: 9, 2: 1, 3: 1}, 'class_pred_count_s1': {5: 317, 4: 443, 6: 83, 2: 9, 3: 27, 7: 97, 1: 3, 0: 5}, 'class_pred_count': {5: 739, 4: 895, 6: 92, 7: 102, 2: 10, 3: 28, 1: 3, 0: 5}, 'count_s0': 890, 'count_s1': 984, 'count': 1874}}\n",
      "[50] Eval metrics for task 4 >> {'accuracy': 0.8956828834390713, 'loss': 0.0015338837410147938, 'std': 0.016768478428632938, 'EER': -1, 'EO': [0.157938903761083, 0.25075918117667617], 'DP': -1, 'accuracy_s0': 0.9969441085446087, 'accuracy_s1': 0.792595066075729, 'classwise_accuracy': {7: array([ 938, 1028]), 6: array([842, 958])}, 'DP_ingredients': {'class_pred_count_s0': {7: 483, 6: 502, 1: 1, 2: 1, 0: 1}, 'class_pred_count_s1': {7: 487, 6: 354, 0: 16, 5: 31, 2: 32, 4: 53, 1: 7, 3: 18}, 'class_pred_count': {7: 970, 6: 856, 0: 17, 5: 31, 2: 33, 4: 53, 1: 8, 3: 18}, 'count_s0': 988, 'count_s1': 998, 'count': 1986}}\n",
      "[51] Eval metrics for task 1 >> {'accuracy': 0.8899914591387215, 'loss': 0.002424940953017972, 'std': 0.02366492852647667, 'EER': -1, 'EO': [0.15197254431560714, 0.14131394943764308], 'DP': -1, 'accuracy_s0': 0.9620052148345399, 'accuracy_s1': 0.8153619679579149, 'classwise_accuracy': {0: array([849, 980]), 1: array([1037, 1135])}, 'DP_ingredients': {'class_pred_count_s0': {0: 460, 1: 580, 3: 5, 6: 15, 7: 11, 5: 7, 4: 1}, 'class_pred_count_s1': {0: 389, 6: 56, 1: 457, 7: 53, 2: 12, 5: 51, 3: 15, 4: 3}, 'class_pred_count': {0: 849, 1: 1037, 6: 71, 7: 64, 2: 12, 3: 20, 5: 58, 4: 4}, 'count_s0': 1079, 'count_s1': 1036, 'count': 2115}}\n",
      "[51] Eval metrics for task 2 >> {'accuracy': 0.7990137385831606, 'loss': 0.004342708630846717, 'std': 0.018815718781180435, 'EER': -1, 'EO': [0.20353027491260633, 0.16702788180189387], 'DP': -1, 'accuracy_s0': 0.8932669903105315, 'accuracy_s1': 0.7079879119532813, 'classwise_accuracy': {3: array([ 788, 1010]), 2: array([ 844, 1032])}, 'DP_ingredients': {'class_pred_count_s0': {3: 441, 2: 470, 4: 6, 7: 35, 6: 29, 5: 22, 0: 1}, 'class_pred_count_s1': {2: 399, 3: 360, 5: 83, 6: 103, 7: 76, 1: 4, 4: 7, 0: 6}, 'class_pred_count': {3: 801, 2: 869, 5: 105, 6: 132, 4: 13, 7: 111, 1: 4, 0: 7}, 'count_s0': 1004, 'count_s1': 1038, 'count': 2042}}\n",
      "[51] Eval metrics for task 3 >> {'accuracy': 0.8510920789456861, 'loss': 0.002925789852406961, 'std': 0.04503826728649318, 'EER': -1, 'EO': [0.16230311967574362, 0.31241978750924804], 'DP': -1, 'accuracy_s0': 0.9750441037461646, 'accuracy_s1': 0.7376826501536689, 'classwise_accuracy': {4: array([880, 982]), 5: array([719, 892])}, 'DP_ingredients': {'class_pred_count_s0': {5: 417, 4: 452, 6: 13, 3: 1, 7: 7}, 'class_pred_count_s1': {7: 98, 5: 306, 4: 440, 6: 97, 2: 6, 3: 31, 0: 4, 1: 2}, 'class_pred_count': {7: 105, 5: 723, 4: 892, 6: 110, 2: 6, 3: 32, 0: 4, 1: 2}, 'count_s0': 890, 'count_s1': 984, 'count': 1874}}\n",
      "[51] Eval metrics for task 4 >> {'accuracy': 0.9051840734994273, 'loss': 0.0013681480441568841, 'std': 0.004349000430533767, 'EER': -1, 'EO': [0.20460533502283007, 0.16346376563953602], 'DP': -1, 'accuracy_s0': 0.9969441085446087, 'accuracy_s1': 0.8129095582134256, 'classwise_accuracy': {6: array([863, 958]), 7: array([ 935, 1028])}, 'DP_ingredients': {'class_pred_count_s0': {6: 502, 7: 483, 0: 1, 2: 1, 1: 1}, 'class_pred_count_s1': {6: 384, 7: 476, 2: 26, 5: 31, 4: 44, 0: 16, 1: 5, 3: 16}, 'class_pred_count': {6: 886, 7: 959, 2: 27, 5: 31, 4: 44, 0: 17, 1: 6, 3: 16}, 'count_s0': 988, 'count_s1': 998, 'count': 1986}}\n",
      "[52] Eval metrics for task 1 >> {'accuracy': 0.8862806796727501, 'loss': 0.0024620624157835687, 'std': 0.029137822529893054, 'EER': -1, 'EO': [0.1376374788494078, 0.15393842463014795], 'DP': -1, 'accuracy_s0': 0.9579068541788023, 'accuracy_s1': 0.8121189024390244, 'classwise_accuracy': {1: array([1039, 1135]), 0: array([840, 980])}, 'DP_ingredients': {'class_pred_count_s0': {1: 580, 0: 456, 7: 12, 6: 17, 5: 7, 4: 1, 3: 6}, 'class_pred_count_s1': {1: 459, 0: 384, 7: 49, 3: 16, 5: 54, 2: 18, 4: 3, 6: 53}, 'class_pred_count': {1: 1039, 0: 840, 7: 61, 3: 22, 5: 61, 2: 18, 6: 70, 4: 4}, 'count_s0': 1079, 'count_s1': 1036, 'count': 2115}}\n",
      "[52] Eval metrics for task 2 >> {'accuracy': 0.8121373474556759, 'loss': 0.0040600583847542815, 'std': 0.02797893161409165, 'EER': -1, 'EO': [0.2393822999752826, 0.17327433694798877], 'DP': -1, 'accuracy_s0': 0.9171433334788804, 'accuracy_s1': 0.7108150150172448, 'classwise_accuracy': {3: array([ 792, 1010]), 2: array([ 867, 1032])}, 'DP_ingredients': {'class_pred_count_s0': {2: 481, 3: 450, 5: 27, 7: 25, 6: 19, 4: 2}, 'class_pred_count_s1': {3: 352, 5: 92, 2: 419, 7: 63, 6: 95, 0: 6, 4: 7, 1: 4}, 'class_pred_count': {3: 802, 5: 119, 2: 900, 7: 88, 6: 114, 0: 6, 4: 9, 1: 4}, 'count_s0': 1004, 'count_s1': 1038, 'count': 2042}}\n",
      "[52] Eval metrics for task 3 >> {'accuracy': 0.8514516909756789, 'loss': 0.00285296895906027, 'std': 0.03755034568419896, 'EER': -1, 'EO': [0.17568744089945298, 0.28825663970688153], 'DP': -1, 'accuracy_s0': 0.9727239181313154, 'accuracy_s1': 0.7407518778281481, 'classwise_accuracy': {4: array([873, 982]), 5: array([726, 892])}, 'DP_ingredients': {'class_pred_count_s0': {5: 415, 4: 451, 6: 12, 7: 9, 2: 1, 3: 2}, 'class_pred_count_s1': {6: 97, 5: 316, 4: 430, 7: 95, 3: 28, 2: 12, 0: 4, 1: 2}, 'class_pred_count': {6: 109, 5: 731, 4: 881, 7: 104, 3: 30, 2: 13, 0: 4, 1: 2}, 'count_s0': 890, 'count_s1': 984, 'count': 1874}}\n",
      "[52] Eval metrics for task 4 >> {'accuracy': 0.913488095334801, 'loss': 0.0012952946914286771, 'std': 0.011609180929790519, 'EER': -1, 'EO': [0.198221659056649, 0.13399783562111978], 'DP': -1, 'accuracy_s0': 0.9959500727593203, 'accuracy_s1': 0.829840325420436, 'classwise_accuracy': {6: array([864, 958]), 7: array([ 951, 1028])}, 'DP_ingredients': {'class_pred_count_s0': {6: 501, 7: 483, 0: 2, 1: 1, 2: 1}, 'class_pred_count_s1': {6: 376, 7: 489, 0: 16, 4: 32, 3: 17, 2: 34, 5: 29, 1: 5}, 'class_pred_count': {6: 877, 7: 972, 0: 18, 4: 32, 3: 17, 2: 35, 5: 29, 1: 6}, 'count_s0': 988, 'count_s1': 998, 'count': 1986}}\n",
      "[53] Eval metrics for task 1 >> {'accuracy': 0.8949991009619707, 'loss': 0.0023477941540116115, 'std': 0.03275420300278703, 'EER': -1, 'EO': [0.11190218473176072, 0.15602092496334796], 'DP': -1, 'accuracy_s0': 0.9609806246706055, 'accuracy_s1': 0.8270190698230512, 'classwise_accuracy': {1: array([1053, 1135]), 0: array([845, 980])}, 'DP_ingredients': {'class_pred_count_s0': {1: 580, 0: 459, 6: 14, 7: 12, 5: 7, 3: 6, 4: 1}, 'class_pred_count_s1': {1: 473, 0: 386, 6: 46, 2: 16, 5: 50, 7: 48, 3: 17}, 'class_pred_count': {1: 1053, 0: 845, 6: 60, 2: 16, 5: 57, 7: 60, 3: 23, 4: 1}, 'count_s0': 1079, 'count_s1': 1036, 'count': 2115}}\n",
      "[53] Eval metrics for task 2 >> {'accuracy': 0.8106838590835828, 'loss': 0.004149336977173136, 'std': 0.026525443241998625, 'EER': -1, 'EO': [0.21560649871900994, 0.16740349546070898], 'DP': -1, 'accuracy_s0': 0.9081227200374717, 'accuracy_s1': 0.7166177229476123, 'classwise_accuracy': {3: array([ 792, 1010]), 2: array([ 864, 1032])}, 'DP_ingredients': {'class_pred_count_s0': {7: 37, 3: 446, 2: 479, 6: 19, 5: 21, 4: 2}, 'class_pred_count_s1': {2: 416, 3: 360, 7: 66, 5: 88, 6: 90, 4: 7, 0: 6, 1: 5}, 'class_pred_count': {7: 103, 2: 895, 3: 806, 5: 109, 6: 109, 4: 9, 0: 6, 1: 5}, 'count_s0': 1004, 'count_s1': 1038, 'count': 2042}}\n",
      "[53] Eval metrics for task 3 >> {'accuracy': 0.8493636579507365, 'loss': 0.0031764074730644106, 'std': 0.036583388892440616, 'EER': -1, 'EO': [0.2769576880684077, 0.16097010293388647], 'DP': -1, 'accuracy_s0': 0.9637970166153598, 'accuracy_s1': 0.7448331211142126, 'classwise_accuracy': {5: array([725, 892]), 4: array([870, 982])}, 'DP_ingredients': {'class_pred_count_s0': {5: 412, 4: 447, 6: 11, 7: 14, 3: 3, 2: 3}, 'class_pred_count_s1': {5: 317, 4: 431, 7: 104, 6: 87, 3: 27, 2: 11, 0: 4, 1: 3}, 'class_pred_count': {5: 729, 4: 878, 7: 118, 6: 98, 3: 30, 2: 14, 0: 4, 1: 3}, 'count_s0': 890, 'count_s1': 984, 'count': 1874}}\n",
      "[53] Eval metrics for task 4 >> {'accuracy': 0.9212346571570149, 'loss': 0.0011960676114364693, 'std': 0.020399584088121314, 'EER': -1, 'EO': [0.10269028497655253, 0.20460533502283007], 'DP': -1, 'accuracy_s0': 0.9969441085446087, 'accuracy_s1': 0.8432962985449173, 'classwise_accuracy': {7: array([ 968, 1028]), 6: array([863, 958])}, 'DP_ingredients': {'class_pred_count_s0': {7: 483, 6: 502, 0: 1, 2: 1, 1: 1}, 'class_pred_count_s1': {7: 507, 4: 25, 6: 367, 2: 33, 5: 30, 0: 15, 1: 5, 3: 16}, 'class_pred_count': {7: 990, 4: 25, 6: 869, 2: 34, 5: 30, 0: 16, 1: 6, 3: 16}, 'count_s0': 988, 'count_s1': 998, 'count': 1986}}\n",
      "[54] Eval metrics for task 1 >> {'accuracy': 0.8891104018699991, 'loss': 0.0025318334429540253, 'std': 0.022783871257754218, 'EER': -1, 'EO': [0.16013594562175126, 0.14499042002587836], 'DP': -1, 'accuracy_s0': 0.9640543951624088, 'accuracy_s1': 0.811491212338594, 'classwise_accuracy': {0: array([849, 980]), 1: array([1035, 1135])}, 'DP_ingredients': {'class_pred_count_s0': {3: 5, 1: 580, 0: 462, 6: 13, 7: 12, 5: 6, 4: 1}, 'class_pred_count_s1': {1: 455, 0: 387, 7: 58, 5: 52, 6: 48, 3: 18, 2: 16, 4: 2}, 'class_pred_count': {3: 23, 1: 1035, 0: 849, 7: 70, 6: 61, 5: 58, 2: 16, 4: 3}, 'count_s0': 1079, 'count_s1': 1036, 'count': 2115}}\n",
      "[54] Eval metrics for task 2 >> {'accuracy': 0.8078085424821553, 'loss': 0.004363249903444446, 'std': 0.02067982961086806, 'EER': -1, 'EO': [0.15366730395784112, 0.1899906230750822], 'DP': -1, 'accuracy_s0': 0.895223937472958, 'accuracy_s1': 0.7233949739564964, 'classwise_accuracy': {2: array([ 855, 1032]), 3: array([ 795, 1010])}, 'DP_ingredients': {'class_pred_count_s0': {2: 471, 3: 441, 7: 37, 5: 26, 6: 25, 4: 2, 0: 2}, 'class_pred_count_s1': {2: 411, 3: 367, 5: 88, 1: 4, 7: 67, 4: 7, 6: 87, 0: 7}, 'class_pred_count': {2: 882, 3: 808, 5: 114, 7: 104, 1: 4, 4: 9, 6: 112, 0: 9}, 'count_s0': 1004, 'count_s1': 1038, 'count': 2042}}\n",
      "[54] Eval metrics for task 3 >> {'accuracy': 0.8441178888148101, 'loss': 0.0031518827698401226, 'std': 0.03470084845606569, 'EER': -1, 'EO': [0.19480789979046642, 0.296933429294734], 'DP': -1, 'accuracy_s0': 0.9727239181313154, 'accuracy_s1': 0.7268532535887152, 'classwise_accuracy': {4: array([863, 982]), 5: array([722, 892])}, 'DP_ingredients': {'class_pred_count_s0': {4: 452, 5: 415, 7: 8, 6: 12, 3: 1, 2: 2}, 'class_pred_count_s1': {4: 420, 6: 101, 5: 312, 7: 108, 2: 7, 3: 30, 0: 4, 1: 2}, 'class_pred_count': {4: 872, 6: 113, 5: 727, 7: 116, 2: 9, 3: 31, 0: 4, 1: 2}, 'count_s0': 890, 'count_s1': 984, 'count': 1874}}\n",
      "[54] Eval metrics for task 4 >> {'accuracy': 0.9295498485008489, 'loss': 0.0011029826310225963, 'std': 0.013057155390201691, 'EER': -1, 'EO': [0.10084866435040152, 0.1716383020557971], 'DP': -1, 'accuracy_s0': 0.9969441085446087, 'accuracy_s1': 0.8607006253415093, 'classwise_accuracy': {7: array([ 969, 1028]), 6: array([878, 958])}, 'DP_ingredients': {'class_pred_count_s0': {7: 483, 6: 502, 0: 1, 1: 1, 2: 1}, 'class_pred_count_s1': {7: 506, 6: 381, 1: 4, 3: 14, 5: 28, 2: 22, 0: 14, 4: 29}, 'class_pred_count': {7: 989, 6: 883, 1: 5, 3: 14, 5: 28, 2: 23, 0: 15, 4: 29}, 'count_s0': 988, 'count_s1': 998, 'count': 1986}}\n",
      "[55] Eval metrics for task 1 >> {'accuracy': 0.8903623123258114, 'loss': 0.002589670436602112, 'std': 0.02505618987683178, 'EER': -1, 'EO': [0.1376374788494078, 0.15400506464081043], 'DP': -1, 'accuracy_s0': 0.9620052148345399, 'accuracy_s1': 0.8161839430894309, 'classwise_accuracy': {1: array([1039, 1135]), 0: array([848, 980])}, 'DP_ingredients': {'class_pred_count_s0': {1: 580, 6: 18, 0: 460, 7: 11, 3: 5, 5: 4, 4: 1}, 'class_pred_count_s1': {1: 459, 6: 53, 0: 388, 7: 57, 5: 41, 3: 20, 2: 18}, 'class_pred_count': {1: 1039, 6: 71, 0: 848, 7: 68, 5: 45, 3: 25, 2: 18, 4: 1}, 'count_s0': 1079, 'count_s1': 1036, 'count': 2115}}\n",
      "[55] Eval metrics for task 2 >> {'accuracy': 0.8088725151584926, 'loss': 0.004313318374458186, 'std': 0.012832911198096542, 'EER': -1, 'EO': [0.18260833636954377, 0.19635830054025216], 'DP': -1, 'accuracy_s0': 0.90522302449558, 'accuracy_s1': 0.715739706040682, 'classwise_accuracy': {2: array([ 848, 1032]), 3: array([ 804, 1010])}, 'DP_ingredients': {'class_pred_count_s0': {2: 474, 3: 447, 5: 23, 7: 30, 6: 27, 0: 2, 4: 1}, 'class_pred_count_s1': {2: 399, 3: 371, 5: 80, 6: 97, 7: 73, 4: 6, 0: 7, 1: 5}, 'class_pred_count': {2: 873, 3: 818, 5: 103, 7: 103, 6: 124, 4: 7, 0: 9, 1: 5}, 'count_s0': 1004, 'count_s1': 1038, 'count': 2042}}\n",
      "[55] Eval metrics for task 3 >> {'accuracy': 0.8372373119742815, 'loss': 0.00342865792384397, 'std': 0.044636415113294914, 'EER': -1, 'EO': [0.30702447519011933, 0.18089037187001422], 'DP': -1, 'accuracy_s0': 0.9647448048567198, 'accuracy_s1': 0.720787381326653, 'classwise_accuracy': {5: array([707, 892]), 4: array([866, 982])}, 'DP_ingredients': {'class_pred_count_s0': {5: 410, 4: 450, 6: 16, 7: 11, 2: 1, 3: 2}, 'class_pred_count_s1': {5: 300, 6: 102, 4: 425, 7: 109, 2: 8, 3: 33, 0: 5, 1: 2}, 'class_pred_count': {5: 710, 6: 118, 4: 875, 7: 120, 2: 9, 3: 35, 0: 5, 1: 2}, 'count_s0': 890, 'count_s1': 984, 'count': 1874}}\n",
      "[55] Eval metrics for task 4 >> {'accuracy': 0.9340694377878687, 'loss': 0.0010424644985467886, 'std': 0.013401379332753871, 'EER': -1, 'EO': [0.09554403751590057, 0.16284709326458824], 'DP': -1, 'accuracy_s0': 0.9979750363796602, 'accuracy_s1': 0.8687794709894158, 'classwise_accuracy': {7: array([ 974, 1028]), 6: array([882, 958])}, 'DP_ingredients': {'class_pred_count_s0': {7: 484, 6: 502, 1: 1, 0: 1}, 'class_pred_count_s1': {7: 510, 6: 384, 4: 25, 3: 15, 5: 25, 0: 13, 2: 22, 1: 4}, 'class_pred_count': {7: 994, 6: 886, 4: 25, 3: 15, 5: 25, 1: 5, 0: 14, 2: 22}, 'count_s0': 988, 'count_s1': 998, 'count': 1986}}\n",
      "[56] Eval metrics for task 1 >> {'accuracy': 0.8899689831879889, 'loss': 0.0024372419144244903, 'std': 0.01752000359615208, 'EER': -1, 'EO': [0.15418159649646668, 0.14385912301745973], 'DP': -1, 'accuracy_s0': 0.9630298049984745, 'accuracy_s1': 0.8140094452415112, 'classwise_accuracy': {1: array([1030, 1135]), 0: array([855, 980])}, 'DP_ingredients': {'class_pred_count_s0': {0: 461, 1: 580, 6: 14, 3: 5, 5: 6, 7: 12, 4: 1}, 'class_pred_count_s1': {1: 450, 0: 394, 7: 56, 6: 48, 3: 19, 2: 16, 5: 52, 4: 1}, 'class_pred_count': {1: 1030, 0: 855, 7: 68, 6: 62, 3: 24, 2: 16, 5: 58, 4: 2}, 'count_s0': 1079, 'count_s1': 1036, 'count': 2115}}\n",
      "[56] Eval metrics for task 2 >> {'accuracy': 0.8092303707114898, 'loss': 0.004378982406405114, 'std': 0.0250719548699056, 'EER': -1, 'EO': [0.1997559645481617, 0.16928531989137252], 'DP': -1, 'accuracy_s0': 0.9030874513244126, 'accuracy_s1': 0.7185668091046455, 'classwise_accuracy': {3: array([ 792, 1010]), 2: array([ 861, 1032])}, 'DP_ingredients': {'class_pred_count_s0': {6: 23, 2: 478, 3: 442, 7: 33, 5: 26, 4: 1, 0: 1}, 'class_pred_count_s1': {2: 411, 7: 67, 5: 91, 3: 364, 0: 8, 6: 88, 1: 3, 4: 6}, 'class_pred_count': {6: 111, 2: 889, 7: 100, 5: 117, 3: 806, 0: 9, 1: 3, 4: 7}, 'count_s0': 1004, 'count_s1': 1038, 'count': 2042}}\n",
      "[56] Eval metrics for task 3 >> {'accuracy': 0.848139835423269, 'loss': 0.0031742663495441382, 'std': 0.039843871297708555, 'EER': -1, 'EO': [0.16941809653540618, 0.2766557116326356], 'DP': -1, 'accuracy_s0': 0.9647448048567198, 'accuracy_s1': 0.7417079007726988, 'classwise_accuracy': {4: array([872, 982]), 5: array([721, 892])}, 'DP_ingredients': {'class_pred_count_s0': {4: 451, 5: 410, 7: 11, 6: 14, 3: 2, 2: 2}, 'class_pred_count_s1': {4: 431, 5: 316, 3: 29, 7: 98, 6: 94, 0: 4, 2: 10, 1: 2}, 'class_pred_count': {4: 882, 5: 726, 7: 109, 3: 31, 6: 108, 0: 4, 2: 12, 1: 2}, 'count_s0': 890, 'count_s1': 984, 'count': 1874}}\n",
      "[56] Eval metrics for task 4 >> {'accuracy': 0.9294076911204439, 'loss': 0.0010929243397136469, 'std': 0.017090363354264282, 'EER': -1, 'EO': [0.09348218184579749, 0.1762436370786271], 'DP': -1, 'accuracy_s0': 0.9959500727593203, 'accuracy_s1': 0.861087163297108, 'classwise_accuracy': {7: array([ 973, 1028]), 6: array([874, 958])}, 'DP_ingredients': {'class_pred_count_s0': {6: 501, 7: 483, 0: 2, 2: 1, 1: 1}, 'class_pred_count_s1': {7: 509, 3: 14, 6: 377, 5: 29, 4: 25, 2: 26, 1: 4, 0: 14}, 'class_pred_count': {7: 992, 3: 14, 6: 878, 5: 29, 4: 25, 2: 27, 0: 16, 1: 5}, 'count_s0': 988, 'count_s1': 998, 'count': 1986}}\n",
      "[57] Eval metrics for task 1 >> {'accuracy': 0.8918929245707093, 'loss': 0.0026314856312799114, 'std': 0.02352557763193386, 'EER': -1, 'EO': [0.1376374788494078, 0.14382580301212844], 'DP': -1, 'accuracy_s0': 0.9609806246706055, 'accuracy_s1': 0.8202489837398375, 'classwise_accuracy': {1: array([1039, 1135]), 0: array([851, 980])}, 'DP_ingredients': {'class_pred_count_s0': {0: 459, 1: 580, 3: 5, 6: 20, 7: 11, 4: 1, 5: 3}, 'class_pred_count_s1': {7: 57, 1: 459, 6: 50, 0: 392, 3: 20, 2: 18, 5: 39, 4: 1}, 'class_pred_count': {7: 68, 0: 851, 1: 1039, 6: 70, 3: 25, 2: 18, 5: 42, 4: 2}, 'count_s0': 1079, 'count_s1': 1036, 'count': 2115}}\n",
      "[57] Eval metrics for task 2 >> {'accuracy': 0.8093253511397651, 'loss': 0.004404598509529779, 'std': 0.016256044209072062, 'EER': -1, 'EO': [0.1865597920602784, 0.1902731078424834], 'DP': -1, 'accuracy_s0': 0.9051158488903355, 'accuracy_s1': 0.7166993989389546, 'classwise_accuracy': {2: array([ 852, 1032]), 3: array([ 801, 1010])}, 'DP_ingredients': {'class_pred_count_s0': {2: 478, 7: 34, 3: 444, 6: 22, 5: 23, 4: 1, 0: 2}, 'class_pred_count_s1': {2: 400, 6: 94, 3: 374, 0: 8, 7: 72, 5: 81, 4: 6, 1: 3}, 'class_pred_count': {2: 878, 7: 106, 3: 818, 6: 116, 0: 10, 5: 104, 4: 7, 1: 3}, 'count_s0': 1004, 'count_s1': 1038, 'count': 2042}}\n",
      "[57] Eval metrics for task 3 >> {'accuracy': 0.8345373676856054, 'loss': 0.003553564005244122, 'std': 0.04529969952417051, 'EER': -1, 'EO': [0.18471446364821698, 0.3000639183455718], 'DP': -1, 'accuracy_s0': 0.9612645264344459, 'accuracy_s1': 0.7188753354375516, 'classwise_accuracy': {4: array([864, 982]), 5: array([704, 892])}, 'DP_ingredients': {'class_pred_count_s0': {4: 451, 5: 407, 3: 3, 7: 11, 6: 16, 2: 2}, 'class_pred_count_s1': {5: 300, 4: 423, 6: 103, 3: 34, 7: 108, 2: 9, 0: 5, 1: 2}, 'class_pred_count': {4: 874, 5: 707, 3: 37, 6: 119, 7: 119, 2: 11, 0: 5, 1: 2}, 'count_s0': 890, 'count_s1': 984, 'count': 1874}}\n",
      "[57] Eval metrics for task 4 >> {'accuracy': 0.9360505024247987, 'loss': 0.001056104328216983, 'std': 0.01433860263356701, 'EER': -1, 'EO': [0.16064929106678605, 0.09001917563744755], 'DP': -1, 'accuracy_s0': 0.9979750363796602, 'accuracy_s1': 0.8726408030275434, 'classwise_accuracy': {6: array([883, 958]), 7: array([ 977, 1028])}, 'DP_ingredients': {'class_pred_count_s0': {6: 502, 7: 484, 0: 1, 1: 1}, 'class_pred_count_s1': {6: 385, 4: 24, 7: 513, 3: 14, 5: 24, 0: 12, 2: 22, 1: 4}, 'class_pred_count': {6: 887, 4: 24, 7: 997, 3: 14, 5: 24, 0: 13, 2: 22, 1: 5}, 'count_s0': 988, 'count_s1': 998, 'count': 1986}}\n",
      "[58] Eval metrics for task 1 >> {'accuracy': 0.898617729029938, 'loss': 0.0024671706183864153, 'std': 0.02208711678504005, 'EER': -1, 'EO': [0.12660806708470196, 0.1398107423697188], 'DP': -1, 'accuracy_s0': 0.9640543951624088, 'accuracy_s1': 0.8308449904351984, 'classwise_accuracy': {1: array([1045, 1135]), 0: array([859, 980])}, 'DP_ingredients': {'class_pred_count_s0': {1: 580, 0: 462, 7: 11, 6: 17, 3: 5, 4: 1, 5: 3}, 'class_pred_count_s1': {1: 465, 0: 397, 5: 40, 7: 57, 6: 40, 2: 16, 3: 19, 4: 2}, 'class_pred_count': {1: 1045, 0: 859, 5: 43, 7: 68, 6: 57, 3: 24, 2: 16, 4: 3}, 'count_s0': 1079, 'count_s1': 1036, 'count': 2115}}\n",
      "[58] Eval metrics for task 2 >> {'accuracy': 0.7996459820400645, 'loss': 0.0047204063057782715, 'std': 0.005586576099470385, 'EER': -1, 'EO': [0.19626413895111827, 0.17259823236212157], 'DP': -1, 'accuracy_s0': 0.8934456163192721, 'accuracy_s1': 0.7090144306626522, 'classwise_accuracy': {3: array([ 802, 1010]), 2: array([ 831, 1032])}, 'DP_ingredients': {'class_pred_count_s0': {3: 447, 2: 464, 5: 23, 6: 27, 7: 38, 4: 3, 0: 2}, 'class_pred_count_s1': {3: 374, 2: 393, 7: 80, 6: 92, 5: 80, 4: 6, 0: 8, 1: 5}, 'class_pred_count': {3: 821, 2: 857, 7: 118, 5: 103, 6: 119, 4: 9, 0: 10, 1: 5}, 'count_s0': 1004, 'count_s1': 1038, 'count': 2042}}\n",
      "[58] Eval metrics for task 3 >> {'accuracy': 0.8387648068826318, 'loss': 0.003441083170433818, 'std': 0.046163910021645216, 'EER': -1, 'EO': [0.17924492932928426, 0.29804570916649464], 'DP': -1, 'accuracy_s0': 0.9635139438606068, 'accuracy_s1': 0.7248686246127174, 'classwise_accuracy': {4: array([869, 982]), 5: array([707, 892])}, 'DP_ingredients': {'class_pred_count_s0': {5: 408, 4: 452, 6: 15, 7: 10, 3: 3, 2: 2}, 'class_pred_count_s1': {4: 428, 5: 302, 6: 98, 7: 110, 3: 33, 2: 6, 0: 5, 1: 2}, 'class_pred_count': {4: 880, 5: 710, 6: 113, 7: 120, 3: 36, 2: 8, 0: 5, 1: 2}, 'count_s0': 890, 'count_s1': 984, 'count': 1874}}\n",
      "[58] Eval metrics for task 4 >> {'accuracy': 0.932918978416448, 'loss': 0.0010437348638056268, 'std': 0.017470126641917716, 'EER': -1, 'EO': [0.1738361042535993, 0.09001917563744755], 'DP': -1, 'accuracy_s0': 0.9979750363796602, 'accuracy_s1': 0.8660473964341368, 'classwise_accuracy': {6: array([877, 958]), 7: array([ 977, 1028])}, 'DP_ingredients': {'class_pred_count_s0': {6: 502, 7: 484, 0: 1, 1: 1}, 'class_pred_count_s1': {6: 377, 2: 19, 7: 514, 5: 26, 0: 13, 4: 31, 1: 4, 3: 14}, 'class_pred_count': {6: 879, 7: 998, 2: 19, 5: 26, 0: 14, 4: 31, 1: 5, 3: 14}, 'count_s0': 988, 'count_s1': 998, 'count': 1986}}\n",
      "[59] Eval metrics for task 1 >> {'accuracy': 0.890061134585993, 'loss': 0.0027443765043930523, 'std': 0.022714195810482785, 'EER': -1, 'EO': [0.1466824674032049, 0.14994002399040385], 'DP': -1, 'accuracy_s0': 0.9628512385232033, 'accuracy_s1': 0.8145399928263989, 'classwise_accuracy': {1: array([1036, 1135]), 0: array([850, 980])}, 'DP_ingredients': {'class_pred_count_s0': {1: 581, 0: 460, 7: 10, 6: 19, 3: 5, 5: 3, 4: 1}, 'class_pred_count_s1': {1: 455, 5: 38, 7: 63, 2: 18, 0: 390, 3: 20, 6: 52}, 'class_pred_count': {1: 1036, 5: 41, 0: 850, 7: 73, 2: 18, 6: 71, 3: 25, 4: 1}, 'count_s0': 1079, 'count_s1': 1036, 'count': 2115}}\n",
      "[59] Eval metrics for task 2 >> {'accuracy': 0.8093781180443627, 'loss': 0.004465072909251483, 'std': 0.011358316064164542, 'EER': -1, 'EO': [0.18840405512506053, 0.17663929441582538], 'DP': -1, 'accuracy_s0': 0.9021447029449474, 'accuracy_s1': 0.7196230281745044, 'classwise_accuracy': {2: array([ 847, 1032]), 3: array([ 806, 1010])}, 'DP_ingredients': {'class_pred_count_s0': {2: 476, 3: 443, 7: 35, 4: 1, 5: 24, 6: 23, 0: 2}, 'class_pred_count_s1': {2: 397, 5: 75, 3: 380, 6: 97, 7: 69, 0: 9, 1: 5, 4: 6}, 'class_pred_count': {2: 873, 3: 823, 5: 99, 7: 104, 4: 7, 6: 120, 0: 11, 1: 5}, 'count_s0': 1004, 'count_s1': 1038, 'count': 2042}}\n",
      "[59] Eval metrics for task 3 >> {'accuracy': 0.8236862173837597, 'loss': 0.0038929754985434777, 'std': 0.049022540253714886, 'EER': -1, 'EO': [0.1940080897453521, 0.32826348450609233], 'DP': -1, 'accuracy_s0': 0.9601752018157095, 'accuracy_s1': 0.6990394146899873, 'classwise_accuracy': {4: array([857, 982]), 5: array([691, 892])}, 'DP_ingredients': {'class_pred_count_s0': {4: 449, 5: 407, 3: 3, 7: 12, 6: 17, 2: 2}, 'class_pred_count_s1': {5: 287, 4: 416, 7: 122, 3: 37, 6: 107, 1: 2, 2: 8, 0: 5}, 'class_pred_count': {4: 865, 5: 694, 7: 134, 3: 40, 6: 124, 1: 2, 2: 10, 0: 5}, 'count_s0': 890, 'count_s1': 984, 'count': 1874}}\n",
      "[59] Eval metrics for task 4 >> {'accuracy': 0.942135853715994, 'loss': 0.000946974196102684, 'std': 0.013117064571943837, 'EER': -1, 'EO': [0.14526467568217072, 0.0808110725066925], 'DP': -1, 'accuracy_s0': 0.9979750363796602, 'accuracy_s1': 0.8849371622852286, 'classwise_accuracy': {6: array([890, 958]), 7: array([ 982, 1028])}, 'DP_ingredients': {'class_pred_count_s0': {6: 502, 7: 484, 0: 1, 1: 1}, 'class_pred_count_s1': {6: 392, 7: 518, 5: 21, 4: 19, 3: 11, 0: 12, 2: 21, 1: 4}, 'class_pred_count': {6: 894, 7: 1002, 5: 21, 0: 13, 4: 19, 3: 11, 2: 21, 1: 5}, 'count_s0': 988, 'count_s1': 998, 'count': 1986}}\n",
      "[60] Eval metrics for task 1 >> {'accuracy': 0.8942573945877911, 'loss': 0.0024960591015240827, 'std': 0.029971680302076753, 'EER': -1, 'EO': [0.12278540857967546, 0.17236438757830197], 'DP': -1, 'accuracy_s0': 0.966949599178941, 'accuracy_s1': 0.8193747010999521, 'classwise_accuracy': {1: array([1049, 1135]), 0: array([847, 980])}, 'DP_ingredients': {'class_pred_count_s0': {1: 581, 0: 464, 3: 5, 4: 1, 5: 4, 6: 14, 7: 9, 2: 1}, 'class_pred_count_s1': {0: 383, 1: 468, 6: 50, 7: 50, 3: 20, 5: 47, 2: 18}, 'class_pred_count': {1: 1049, 0: 847, 6: 64, 7: 59, 3: 25, 5: 51, 4: 1, 2: 19}, 'count_s0': 1079, 'count_s1': 1036, 'count': 2115}}\n",
      "[60] Eval metrics for task 2 >> {'accuracy': 0.8141492056182362, 'loss': 0.0044251190285024165, 'std': 0.023060096707345157, 'EER': -1, 'EO': [0.19810421333877382, 0.16740349546070898], 'DP': -1, 'accuracy_s0': 0.9071085212545102, 'accuracy_s1': 0.7243546668547689, 'classwise_accuracy': {3: array([ 799, 1010]), 2: array([ 864, 1032])}, 'DP_ingredients': {'class_pred_count_s0': {2: 479, 3: 445, 5: 26, 6: 21, 7: 30, 0: 2, 4: 1}, 'class_pred_count_s1': {3: 369, 2: 414, 7: 68, 4: 6, 5: 83, 6: 85, 1: 5, 0: 8}, 'class_pred_count': {3: 814, 2: 893, 7: 98, 4: 7, 5: 109, 6: 106, 0: 10, 1: 5}, 'count_s0': 1004, 'count_s1': 1038, 'count': 2042}}\n",
      "[60] Eval metrics for task 3 >> {'accuracy': 0.8401427488515247, 'loss': 0.003422509167212178, 'std': 0.03969431835825121, 'EER': -1, 'EO': [0.1724423782684945, 0.2918400934113774], 'DP': -1, 'accuracy_s0': 0.9614768310005105, 'accuracy_s1': 0.7293355951605746, 'classwise_accuracy': {4: array([864, 982]), 5: array([714, 892])}, 'DP_ingredients': {'class_pred_count_s0': {4: 448, 5: 410, 6: 14, 7: 13, 3: 3, 2: 2}, 'class_pred_count_s1': {4: 425, 5: 308, 7: 108, 6: 95, 3: 32, 0: 5, 2: 9, 1: 2}, 'class_pred_count': {4: 873, 5: 718, 6: 109, 7: 121, 3: 35, 0: 5, 2: 11, 1: 2}, 'count_s0': 890, 'count_s1': 984, 'count': 1874}}\n",
      "[60] Eval metrics for task 4 >> {'accuracy': 0.9338562017172611, 'loss': 0.0010591077525450023, 'std': 0.019451191278847813, 'EER': -1, 'EO': [0.1760339064514015, 0.08449431375899452], 'DP': -1, 'accuracy_s0': 0.9979750363796602, 'accuracy_s1': 0.8677109262744622, 'classwise_accuracy': {6: array([876, 958]), 7: array([ 980, 1028])}, 'DP_ingredients': {'class_pred_count_s0': {7: 484, 6: 502, 1: 1, 0: 1}, 'class_pred_count_s1': {6: 377, 4: 24, 7: 516, 5: 24, 0: 13, 2: 28, 3: 12, 1: 4}, 'class_pred_count': {6: 879, 7: 1000, 4: 24, 5: 24, 0: 14, 2: 28, 3: 12, 1: 5}, 'count_s0': 988, 'count_s1': 998, 'count': 1986}}\n",
      "training_task_end\n",
      "---------------------------- Task 5 -----------------------\n",
      "[61] Eval metrics for task 1 >> {'accuracy': 0.8828935538973298, 'loss': 0.0023631777182820278, 'std': 0.043097635529982914, 'EER': -1, 'EO': [0.115578655319996, 0.15991936558709852], 'DP': -1, 'accuracy_s0': 0.9507347230312613, 'accuracy_s1': 0.812985712577714, 'classwise_accuracy': {1: array([1051, 1135]), 0: array([823, 980])}, 'DP_ingredients': {'class_pred_count_s0': {1: 580, 0: 449, 3: 2, 9: 23, 6: 6, 7: 3, 8: 8, 5: 7, 4: 1}, 'class_pred_count_s1': {1: 471, 6: 29, 0: 374, 8: 64, 3: 12, 2: 15, 5: 38, 9: 20, 4: 2, 7: 11}, 'class_pred_count': {1: 1051, 0: 823, 6: 35, 8: 72, 3: 14, 2: 15, 5: 45, 9: 43, 7: 14, 4: 3}, 'count_s0': 1079, 'count_s1': 1036, 'count': 2115}}\n",
      "[61] Eval metrics for task 2 >> {'accuracy': 0.7965807045820861, 'loss': 0.004168349282631795, 'std': 0.017372783790006896, 'EER': -1, 'EO': [0.3124556165426219, 0.16695275907013085], 'DP': -1, 'accuracy_s0': 0.9186934102880642, 'accuracy_s1': 0.6789892224816878, 'classwise_accuracy': {3: array([ 787, 1010]), 2: array([ 840, 1032])}, 'DP_ingredients': {'class_pred_count_s0': {3: 463, 8: 36, 2: 463, 7: 13, 6: 12, 5: 9, 9: 2, 0: 2, 1: 1, 4: 3}, 'class_pred_count_s1': {3: 335, 6: 71, 5: 56, 2: 396, 7: 44, 8: 90, 1: 7, 9: 27, 4: 6, 0: 6}, 'class_pred_count': {3: 798, 6: 83, 5: 65, 8: 126, 2: 859, 7: 57, 1: 8, 9: 29, 4: 9, 0: 8}, 'count_s0': 1004, 'count_s1': 1038, 'count': 2042}}\n",
      "[61] Eval metrics for task 3 >> {'accuracy': 0.8102424355894897, 'loss': 0.0035353449581781347, 'std': 0.040063063392180354, 'EER': -1, 'EO': [0.36836595517663107, 0.2033475382929888], 'DP': -1, 'accuracy_s0': 0.9595812545177906, 'accuracy_s1': 0.6737245077829808, 'classwise_accuracy': {5: array([687, 892]), 4: array([835, 982])}, 'DP_ingredients': {'class_pred_count_s0': {5: 414, 4: 442, 6: 11, 7: 8, 9: 10, 1: 3, 2: 2}, 'class_pred_count_s1': {6: 61, 4: 401, 5: 276, 7: 65, 3: 25, 2: 5, 1: 9, 8: 89, 0: 6, 9: 47}, 'class_pred_count': {5: 690, 4: 843, 6: 72, 7: 73, 3: 25, 2: 7, 1: 12, 8: 89, 0: 6, 9: 57}, 'count_s0': 890, 'count_s1': 984, 'count': 1874}}\n",
      "[61] Eval metrics for task 4 >> {'accuracy': 0.9193358407187477, 'loss': 0.0012394469400186913, 'std': 0.0028431476081005602, 'EER': -1, 'EO': [0.1632665545190396, 0.1317157449070646], 'DP': -1, 'accuracy_s0': 0.992894181303929, 'accuracy_s1': 0.8454030315908769, 'classwise_accuracy': {6: array([878, 958]), 7: array([ 948, 1028])}, 'DP_ingredients': {'class_pred_count_s0': {6: 500, 7: 481, 0: 2, 1: 3, 2: 2}, 'class_pred_count_s1': {7: 473, 6: 379, 9: 40, 3: 7, 4: 13, 5: 19, 2: 21, 0: 7, 8: 32, 1: 7}, 'class_pred_count': {6: 879, 7: 954, 9: 40, 3: 7, 4: 13, 5: 19, 2: 23, 0: 9, 8: 32, 1: 10}, 'count_s0': 988, 'count_s1': 998, 'count': 1986}}\n",
      "[61] Eval metrics for task 5 >> {'accuracy': 0.6294565542560487, 'loss': 0.0043946000523358, 'std': 0.006067059706990285, 'EER': -1, 'EO': [0.6591354272205336, 0.7256043394520656], 'DP': -1, 'accuracy_s0': 0.9776182606899402, 'accuracy_s1': 0.2852483773536405, 'classwise_accuracy': {8: array([619, 974]), 9: array([ 629, 1009])}, 'DP_ingredients': {'class_pred_count_s0': {8: 459, 9: 504, 4: 6, 3: 3, 0: 2, 5: 4, 2: 4, 6: 1, 7: 2}, 'class_pred_count_s1': {5: 109, 8: 232, 9: 231, 3: 29, 4: 80, 6: 80, 7: 219, 0: 4, 1: 10, 2: 4}, 'class_pred_count': {5: 113, 8: 691, 9: 735, 4: 86, 3: 32, 6: 81, 7: 221, 0: 6, 1: 10, 2: 8}, 'count_s0': 985, 'count_s1': 998, 'count': 1983}}\n",
      "[62] Eval metrics for task 1 >> {'accuracy': 0.8759372471455542, 'loss': 0.0026062075832493196, 'std': 0.04124336959453384, 'EER': -1, 'EO': [0.19865387178461957, 0.13396100826117252], 'DP': -1, 'accuracy_s0': 0.9579068541788023, 'accuracy_s1': 0.7915994141559062, 'classwise_accuracy': {0: array([818, 980]), 1: array([1041, 1135])}, 'DP_ingredients': {'class_pred_count_s0': {1: 580, 0: 456, 6: 5, 4: 1, 9: 20, 5: 6, 8: 8, 7: 2, 3: 1}, 'class_pred_count_s1': {0: 362, 8: 76, 1: 461, 5: 46, 6: 29, 9: 23, 4: 1, 7: 12, 2: 15, 3: 11}, 'class_pred_count': {0: 818, 1: 1041, 8: 84, 5: 52, 6: 34, 9: 43, 4: 2, 7: 14, 2: 15, 3: 12}, 'count_s0': 1079, 'count_s1': 1036, 'count': 2115}}\n",
      "[62] Eval metrics for task 2 >> {'accuracy': 0.789776652083813, 'loss': 0.004500143616720231, 'std': 0.012548929311535784, 'EER': -1, 'EO': [0.18610905566970037, 0.30047355432535183], 'DP': -1, 'accuracy_s0': 0.913658141575005, 'accuracy_s1': 0.6703668365774789, 'classwise_accuracy': {2: array([ 828, 1032]), 3: array([ 785, 1010])}, 'DP_ingredients': {'class_pred_count_s0': {2: 462, 7: 10, 3: 460, 6: 9, 8: 46, 5: 10, 4: 3, 0: 2, 9: 2}, 'class_pred_count_s1': {2: 383, 8: 103, 9: 34, 3: 336, 5: 52, 4: 5, 6: 66, 7: 45, 1: 8, 0: 6}, 'class_pred_count': {2: 845, 8: 149, 7: 55, 9: 36, 3: 796, 6: 75, 5: 62, 4: 8, 1: 8, 0: 8}, 'count_s0': 1004, 'count_s1': 1038, 'count': 2042}}\n",
      "[62] Eval metrics for task 3 >> {'accuracy': 0.8004187482304805, 'loss': 0.00395822881252814, 'std': 0.022391842400884043, 'EER': -1, 'EO': [0.34420280737426456, 0.22224721628613198], 'DP': -1, 'accuracy_s0': 0.9485464719530503, 'accuracy_s1': 0.6653214601228521, 'classwise_accuracy': {5: array([694, 892]), 4: array([808, 982])}, 'DP_ingredients': {'class_pred_count_s0': {5: 412, 4: 434, 7: 9, 8: 4, 9: 16, 6: 10, 1: 2, 2: 3}, 'class_pred_count_s1': {5: 284, 4: 379, 7: 58, 6: 55, 9: 73, 3: 28, 8: 91, 1: 8, 2: 3, 0: 5}, 'class_pred_count': {5: 696, 4: 813, 7: 67, 6: 65, 9: 89, 3: 28, 8: 95, 1: 10, 2: 6, 0: 5}, 'count_s0': 890, 'count_s1': 984, 'count': 1874}}\n",
      "[62] Eval metrics for task 4 >> {'accuracy': 0.916346474090802, 'loss': 0.0013242826571037163, 'std': 0.0019414636523886197, 'EER': -1, 'EO': [0.15929041137788646, 0.14298570370792274], 'DP': -1, 'accuracy_s0': 0.991937037568404, 'accuracy_s1': 0.8407989800254994, 'classwise_accuracy': {6: array([876, 958]), 7: array([ 944, 1028])}, 'DP_ingredients': {'class_pred_count_s0': {6: 498, 7: 483, 0: 2, 1: 2, 8: 1, 2: 2}, 'class_pred_count_s1': {6: 379, 7: 467, 9: 50, 8: 29, 5: 17, 2: 25, 1: 7, 4: 10, 3: 6, 0: 8}, 'class_pred_count': {6: 877, 7: 950, 9: 50, 8: 30, 5: 17, 2: 27, 0: 10, 1: 9, 4: 10, 3: 6}, 'count_s0': 988, 'count_s1': 998, 'count': 1986}}\n",
      "[62] Eval metrics for task 5 >> {'accuracy': 0.7134434850208493, 'loss': 0.0031049656735726576, 'std': 0.021669451324119904, 'EER': -1, 'EO': [0.48723404255319147, 0.6017923823749067], 'DP': -1, 'accuracy_s0': 0.9868209047717413, 'accuracy_s1': 0.4423076923076923, 'classwise_accuracy': {8: array([716, 974]), 9: array([ 698, 1009])}, 'DP_ingredients': {'class_pred_count_s0': {9: 508, 8: 464, 3: 3, 2: 1, 4: 4, 5: 2, 0: 1, 7: 1, 6: 1}, 'class_pred_count_s1': {8: 313, 9: 280, 7: 195, 5: 75, 3: 24, 6: 52, 4: 47, 0: 3, 1: 6, 2: 3}, 'class_pred_count': {8: 777, 9: 788, 7: 196, 5: 77, 3: 27, 6: 53, 4: 51, 0: 4, 1: 6, 2: 4}, 'count_s0': 985, 'count_s1': 998, 'count': 1983}}\n",
      "[63] Eval metrics for task 1 >> {'accuracy': 0.8689112649465073, 'loss': 0.002665941850513431, 'std': 0.04033983637507865, 'EER': -1, 'EO': [0.15050512590823129, 0.1904404904704785], 'DP': -1, 'accuracy_s0': 0.9527839033591301, 'accuracy_s1': 0.7823110951697753, 'classwise_accuracy': {1: array([1032, 1135]), 0: array([812, 980])}, 'DP_ingredients': {'class_pred_count_s0': {1: 580, 0: 451, 9: 24, 6: 4, 8: 10, 4: 1, 3: 1, 5: 7, 7: 1}, 'class_pred_count_s1': {1: 452, 0: 361, 2: 22, 9: 28, 8: 87, 5: 38, 6: 30, 3: 8, 7: 9, 4: 1}, 'class_pred_count': {1: 1032, 0: 812, 2: 22, 9: 52, 8: 97, 5: 45, 6: 34, 3: 9, 7: 10, 4: 2}, 'count_s0': 1079, 'count_s1': 1036, 'count': 2115}}\n",
      "[63] Eval metrics for task 2 >> {'accuracy': 0.767857279914038, 'loss': 0.005074412827393684, 'std': 0.04706520070611714, 'EER': -1, 'EO': [0.18053870510947256, 0.3076965328918201], 'DP': -1, 'accuracy_s0': 0.8921813411240735, 'accuracy_s1': 0.6480637221234273, 'classwise_accuracy': {2: array([ 841, 1032]), 3: array([ 728, 1010])}, 'DP_ingredients': {'class_pred_count_s0': {2: 466, 8: 53, 3: 433, 5: 20, 4: 3, 6: 8, 7: 11, 9: 8, 0: 2}, 'class_pred_count_s1': {2: 391, 6: 63, 3: 302, 0: 4, 5: 55, 9: 32, 8: 140, 7: 41, 4: 4, 1: 6}, 'class_pred_count': {2: 857, 6: 71, 3: 735, 0: 6, 8: 193, 5: 75, 9: 40, 4: 7, 7: 52, 1: 6}, 'count_s0': 1004, 'count_s1': 1038, 'count': 2042}}\n",
      "[63] Eval metrics for task 3 >> {'accuracy': 0.792417095156768, 'loss': 0.004292801642748691, 'std': 0.033448485291297125, 'EER': -1, 'EO': [0.372100397099013, 0.22878316399855025], 'DP': -1, 'accuracy_s0': 0.9494942601944103, 'accuracy_s1': 0.6490524796456287, 'classwise_accuracy': {5: array([677, 892]), 4: array([811, 982])}, 'DP_ingredients': {'class_pred_count_s0': {4: 436, 5: 410, 8: 11, 6: 9, 9: 16, 7: 3, 2: 3, 1: 2}, 'class_pred_count_s1': {8: 110, 4: 380, 5: 269, 3: 18, 9: 87, 7: 49, 6: 54, 0: 6, 1: 6, 2: 5}, 'class_pred_count': {8: 121, 4: 816, 5: 679, 3: 18, 9: 103, 7: 52, 6: 63, 0: 6, 1: 8, 2: 8}, 'count_s0': 890, 'count_s1': 984, 'count': 1874}}\n",
      "[63] Eval metrics for task 4 >> {'accuracy': 0.9135348041883626, 'loss': 0.0015030721013039382, 'std': 0.0040017302584015035, 'EER': -1, 'EO': [0.1526970047844799, 0.15175333675077374], 'DP': -1, 'accuracy_s0': 0.9898751818983009, 'accuracy_s1': 0.8376500111306742, 'classwise_accuracy': {6: array([879, 958]), 7: array([ 935, 1028])}, 'DP_ingredients': {'class_pred_count_s0': {6: 499, 7: 481, 1: 3, 2: 2, 8: 1, 0: 2}, 'class_pred_count_s1': {6: 381, 7: 459, 4: 10, 9: 58, 2: 25, 5: 12, 8: 34, 0: 7, 1: 7, 3: 5}, 'class_pred_count': {6: 880, 7: 940, 4: 10, 9: 58, 2: 27, 5: 12, 8: 35, 0: 9, 1: 10, 3: 5}, 'count_s0': 988, 'count_s1': 998, 'count': 1986}}\n",
      "[63] Eval metrics for task 5 >> {'accuracy': 0.7745109212162407, 'loss': 0.002419952996379489, 'std': 0.053004479194436904, 'EER': -1, 'EO': [0.312774400540358, 0.5489957155772178], 'DP': -1, 'accuracy_s0': 0.989826482131791, 'accuracy_s1': 0.5589414240730031, 'classwise_accuracy': {8: array([806, 974]), 9: array([ 728, 1009])}, 'DP_ingredients': {'class_pred_count_s0': {8: 465, 9: 510, 7: 1, 4: 4, 0: 1, 6: 1, 3: 2, 2: 1}, 'class_pred_count_s1': {9: 277, 8: 405, 7: 172, 5: 42, 6: 35, 4: 39, 3: 18, 2: 3, 1: 4, 0: 3}, 'class_pred_count': {8: 870, 9: 787, 7: 173, 5: 42, 6: 36, 4: 43, 3: 20, 2: 4, 1: 4, 0: 4}, 'count_s0': 985, 'count_s1': 998, 'count': 1983}}\n",
      "[64] Eval metrics for task 1 >> {'accuracy': 0.8694911444754113, 'loss': 0.0029594513259599115, 'std': 0.038878899577452164, 'EER': -1, 'EO': [0.19453885112621616, 0.14881307853090475], 'DP': -1, 'accuracy_s0': 0.9539870599983358, 'accuracy_s1': 0.7823110951697753, 'classwise_accuracy': {0: array([814, 980]), 1: array([1031, 1135])}, 'DP_ingredients': {'class_pred_count_s0': {1: 579, 0: 453, 9: 23, 8: 10, 5: 7, 6: 4, 4: 1, 3: 1, 7: 1}, 'class_pred_count_s1': {6: 38, 1: 452, 0: 361, 8: 78, 5: 41, 2: 15, 9: 40, 3: 8, 7: 2, 4: 1}, 'class_pred_count': {6: 42, 1: 1031, 0: 814, 8: 88, 9: 63, 5: 48, 2: 15, 3: 9, 7: 3, 4: 2}, 'count_s0': 1079, 'count_s1': 1036, 'count': 2115}}\n",
      "[64] Eval metrics for task 2 >> {'accuracy': 0.7571878118044362, 'loss': 0.0054413847311470115, 'std': 0.03738583160641645, 'EER': -1, 'EO': [0.3413318372103059, 0.20921680796000464], 'DP': -1, 'accuracy_s0': 0.8973595106441253, 'accuracy_s1': 0.6220851880589701, 'classwise_accuracy': {3: array([ 727, 1010]), 2: array([ 820, 1032])}, 'DP_ingredients': {'class_pred_count_s0': {2: 463, 6: 9, 3: 441, 5: 15, 0: 2, 7: 11, 8: 47, 4: 5, 9: 11}, 'class_pred_count_s1': {3: 296, 9: 51, 2: 373, 6: 77, 7: 30, 8: 133, 5: 63, 0: 5, 1: 6, 4: 4}, 'class_pred_count': {3: 737, 9: 62, 2: 836, 6: 86, 5: 78, 7: 41, 0: 7, 8: 180, 4: 9, 1: 6}, 'count_s0': 1004, 'count_s1': 1038, 'count': 2042}}\n",
      "[64] Eval metrics for task 3 >> {'accuracy': 0.7933886184504946, 'loss': 0.004364907487097774, 'std': 0.024330322486369016, 'EER': -1, 'EO': [0.34808823751453266, 0.2318074457316387], 'DP': -1, 'accuracy_s0': 0.9450661935307766, 'accuracy_s1': 0.6551183519076909, 'classwise_accuracy': {5: array([686, 892]), 4: array([803, 982])}, 'DP_ingredients': {'class_pred_count_s0': {4: 433, 5: 409, 8: 13, 7: 4, 9: 22, 6: 7, 1: 1, 2: 1}, 'class_pred_count_s1': {8: 81, 4: 375, 9: 124, 5: 279, 6: 60, 3: 18, 2: 5, 7: 31, 0: 5, 1: 6}, 'class_pred_count': {8: 94, 4: 808, 5: 688, 9: 146, 7: 35, 6: 67, 3: 18, 2: 6, 0: 5, 1: 7}, 'count_s0': 890, 'count_s1': 984, 'count': 1874}}\n",
      "[64] Eval metrics for task 4 >> {'accuracy': 0.9074961617507291, 'loss': 0.0016821217230799696, 'std': 0.018391103384970353, 'EER': -1, 'EO': [0.14767220850719853, 0.17871694101118252], 'DP': -1, 'accuracy_s0': 0.989764505749011, 'accuracy_s1': 0.8265699309898205, 'classwise_accuracy': {6: array([887, 958]), 7: array([ 914, 1028])}, 'DP_ingredients': {'class_pred_count_s0': {7: 477, 6: 505, 2: 1, 1: 3, 0: 2}, 'class_pred_count_s1': {6: 387, 1: 8, 2: 20, 9: 79, 7: 441, 5: 13, 4: 12, 8: 26, 3: 5, 0: 7}, 'class_pred_count': {6: 892, 1: 11, 7: 918, 2: 21, 9: 79, 5: 13, 4: 12, 8: 26, 3: 5, 0: 9}, 'count_s0': 988, 'count_s1': 998, 'count': 1986}}\n",
      "[64] Eval metrics for task 5 >> {'accuracy': 0.8103114067845245, 'loss': 0.002061535268495976, 'std': 0.004356581322512154, 'EER': -1, 'EO': [0.35855285376561974, 0.3587123147675013], 'DP': -1, 'accuracy_s0': 0.990890311919025, 'accuracy_s1': 0.6322577276524645, 'classwise_accuracy': {8: array([785, 974]), 9: array([ 822, 1009])}, 'DP_ingredients': {'class_pred_count_s0': {9: 510, 8: 466, 4: 4, 6: 1, 0: 1, 3: 2, 7: 1}, 'class_pred_count_s1': {8: 349, 9: 389, 7: 115, 4: 34, 6: 45, 2: 3, 5: 41, 3: 16, 0: 2, 1: 4}, 'class_pred_count': {8: 815, 9: 899, 7: 116, 4: 38, 6: 46, 2: 3, 5: 41, 3: 18, 0: 3, 1: 4}, 'count_s0': 985, 'count_s1': 998, 'count': 1983}}\n",
      "[65] Eval metrics for task 1 >> {'accuracy': 0.8788366447900746, 'loss': 0.002840901153871072, 'std': 0.03393868560640112, 'EER': -1, 'EO': [0.14315218473176072, 0.19465547114487547], 'DP': -1, 'accuracy_s0': 0.9620052148345399, 'accuracy_s1': 0.7931013868962219, 'classwise_accuracy': {1: array([1036, 1135]), 0: array([828, 980])}, 'DP_ingredients': {'class_pred_count_s0': {1: 580, 0: 460, 8: 15, 6: 4, 7: 2, 9: 8, 5: 8, 4: 1, 3: 1}, 'class_pred_count_s1': {9: 25, 1: 456, 6: 30, 0: 368, 5: 36, 8: 90, 2: 16, 3: 8, 4: 2, 7: 5}, 'class_pred_count': {1: 1036, 9: 33, 6: 34, 0: 828, 5: 44, 8: 105, 2: 16, 3: 9, 7: 7, 4: 3}, 'count_s0': 1079, 'count_s1': 1036, 'count': 2115}}\n",
      "[65] Eval metrics for task 2 >> {'accuracy': 0.7498042827538567, 'loss': 0.0055905246010723355, 'std': 0.04089339166474787, 'EER': -1, 'EO': [0.21689435114618505, 0.322982097527866], 'DP': -1, 'accuracy_s0': 0.8872175228145107, 'accuracy_s1': 0.6172792984774853, 'classwise_accuracy': {2: array([ 816, 1032]), 3: array([ 716, 1010])}, 'DP_ingredients': {'class_pred_count_s0': {2: 463, 3: 432, 6: 7, 4: 5, 8: 59, 5: 19, 7: 10, 9: 7, 0: 2}, 'class_pred_count_s1': {3: 290, 2: 366, 9: 29, 5: 64, 8: 157, 6: 76, 1: 9, 7: 38, 0: 5, 4: 4}, 'class_pred_count': {2: 829, 3: 722, 9: 36, 5: 83, 8: 216, 6: 83, 1: 9, 7: 48, 4: 9, 0: 7}, 'count_s0': 1004, 'count_s1': 1038, 'count': 2042}}\n",
      "[65] Eval metrics for task 3 >> {'accuracy': 0.7983261487035701, 'loss': 0.004185117741404628, 'std': 0.03263108143899607, 'EER': -1, 'EO': [0.21513223942646964, 0.34561706368179734], 'DP': -1, 'accuracy_s0': 0.9449246571534002, 'accuracy_s1': 0.6645500055992667, 'classwise_accuracy': {4: array([816, 982]), 5: array([683, 892])}, 'DP_ingredients': {'class_pred_count_s0': {4: 434, 2: 1, 5: 407, 8: 18, 9: 15, 7: 5, 6: 7, 0: 1, 1: 2}, 'class_pred_count_s1': {4: 386, 6: 52, 9: 94, 5: 278, 7: 39, 8: 99, 1: 6, 2: 4, 0: 8, 3: 18}, 'class_pred_count': {4: 820, 6: 59, 9: 109, 2: 5, 5: 685, 7: 44, 8: 117, 1: 8, 0: 9, 3: 18}, 'count_s0': 890, 'count_s1': 984, 'count': 1874}}\n",
      "[65] Eval metrics for task 4 >> {'accuracy': 0.9069275322291089, 'loss': 0.0016313646765273864, 'std': 0.002258271528719824, 'EER': -1, 'EO': [0.17027942236689753, 0.15705796358527468], 'DP': -1, 'accuracy_s0': 0.9888442540632494, 'accuracy_s1': 0.8251755610871633, 'classwise_accuracy': {6: array([871, 958]), 7: array([ 930, 1028])}, 'DP_ingredients': {'class_pred_count_s0': {6: 500, 7: 479, 1: 3, 0: 2, 9: 1, 8: 2, 2: 1}, 'class_pred_count_s1': {6: 373, 7: 455, 2: 24, 8: 43, 9: 55, 5: 11, 4: 14, 3: 5, 1: 7, 0: 11}, 'class_pred_count': {6: 873, 7: 934, 2: 25, 8: 45, 9: 56, 1: 10, 5: 11, 4: 14, 3: 5, 0: 13}, 'count_s0': 988, 'count_s1': 998, 'count': 1986}}\n",
      "[65] Eval metrics for task 5 >> {'accuracy': 0.8189553769666431, 'loss': 0.0020903185408222393, 'std': 0.056814643567237755, 'EER': -1, 'EO': [0.22363221884498474, 0.46203372508942264], 'DP': -1, 'accuracy_s0': 0.9899194381326173, 'accuracy_s1': 0.6470864661654135, 'classwise_accuracy': {8: array([853, 974]), 9: array([ 769, 1009])}, 'DP_ingredients': {'class_pred_count_s0': {8: 467, 9: 509, 6: 1, 0: 1, 3: 2, 4: 4, 7: 1}, 'class_pred_count_s1': {8: 439, 9: 285, 7: 139, 4: 42, 6: 40, 5: 30, 0: 2, 3: 14, 2: 3, 1: 4}, 'class_pred_count': {8: 906, 9: 794, 7: 140, 4: 46, 6: 41, 5: 30, 0: 3, 3: 16, 2: 3, 1: 4}, 'count_s0': 985, 'count_s1': 998, 'count': 1983}}\n",
      "[66] Eval metrics for task 1 >> {'accuracy': 0.8670097995145194, 'loss': 0.003107138841146555, 'std': 0.040479187269621464, 'EER': -1, 'EO': [0.1506513138250224, 0.20675063308010122], 'DP': -1, 'accuracy_s0': 0.9550116501622701, 'accuracy_s1': 0.7763106767097083, 'classwise_accuracy': {1: array([1030, 1135]), 0: array([810, 980])}, 'DP_ingredients': {'class_pred_count_s0': {1: 579, 0: 454, 6: 6, 8: 21, 9: 9, 5: 8, 7: 1, 4: 1}, 'class_pred_count_s1': {1: 451, 6: 32, 5: 36, 9: 34, 0: 356, 8: 96, 3: 8, 2: 16, 7: 6, 4: 1}, 'class_pred_count': {1: 1030, 0: 810, 6: 38, 5: 44, 9: 43, 8: 117, 3: 8, 2: 16, 7: 7, 4: 2}, 'count_s0': 1079, 'count_s1': 1036, 'count': 2115}}\n",
      "[66] Eval metrics for task 2 >> {'accuracy': 0.757956289815028, 'loss': 0.005800777329287029, 'std': 0.05696619080512705, 'EER': -1, 'EO': [0.34241861888489133, 0.19992036990433115], 'DP': -1, 'accuracy_s0': 0.8960595102471787, 'accuracy_s1': 0.6248900158525674, 'classwise_accuracy': {3: array([ 708, 1010]), 2: array([ 841, 1032])}, 'DP_ingredients': {'class_pred_count_s0': {3: 432, 2: 471, 8: 48, 5: 16, 0: 2, 7: 13, 4: 5, 9: 11, 6: 6}, 'class_pred_count_s1': {2: 385, 9: 38, 3: 284, 8: 171, 5: 54, 1: 9, 6: 56, 7: 33, 4: 5, 0: 3}, 'class_pred_count': {3: 716, 2: 856, 9: 49, 8: 219, 5: 70, 1: 9, 6: 62, 7: 46, 0: 5, 4: 10}, 'count_s0': 1004, 'count_s1': 1038, 'count': 2042}}\n",
      "[66] Eval metrics for task 3 >> {'accuracy': 0.7774971916012896, 'loss': 0.00490141105753635, 'std': 0.021891810435370307, 'EER': -1, 'EO': [0.3606504572426532, 0.2621335766088887], 'DP': -1, 'accuracy_s0': 0.9404965904897664, 'accuracy_s1': 0.6291045735639955, 'classwise_accuracy': {5: array([674, 892]), 4: array([785, 982])}, 'DP_ingredients': {'class_pred_count_s0': {5: 406, 4: 431, 9: 21, 7: 3, 6: 8, 2: 2, 1: 2, 8: 17}, 'class_pred_count_s1': {8: 110, 4: 358, 5: 269, 2: 5, 7: 37, 9: 128, 6: 51, 1: 7, 3: 15, 0: 4}, 'class_pred_count': {8: 127, 4: 789, 5: 675, 2: 7, 7: 40, 9: 149, 6: 59, 1: 9, 3: 15, 0: 4}, 'count_s0': 890, 'count_s1': 984, 'count': 1874}}\n",
      "[66] Eval metrics for task 4 >> {'accuracy': 0.9075916102775725, 'loss': 0.001782931529983413, 'std': 0.006813400160840921, 'EER': -1, 'EO': [0.1551045376095077, 0.15271401720111633], 'DP': -1, 'accuracy_s0': 0.9847574347728064, 'accuracy_s1': 0.8308481573674944, 'classwise_accuracy': {6: array([876, 958]), 7: array([ 926, 1028])}, 'DP_ingredients': {'class_pred_count_s0': {7: 477, 6: 500, 8: 3, 1: 4, 9: 1, 0: 2, 2: 1}, 'class_pred_count_s1': {6: 379, 7: 454, 8: 39, 0: 9, 9: 63, 2: 25, 1: 6, 3: 4, 5: 9, 4: 10}, 'class_pred_count': {6: 879, 7: 931, 8: 42, 0: 11, 9: 64, 2: 26, 1: 10, 3: 4, 5: 9, 4: 10}, 'count_s0': 988, 'count_s1': 998, 'count': 1986}}\n",
      "[66] Eval metrics for task 5 >> {'accuracy': 0.848619610365031, 'loss': 0.0017189895992500278, 'std': 0.05179106725303889, 'EER': -1, 'EO': [0.1842367443431273, 0.3951495617310641], 'DP': -1, 'accuracy_s0': 0.993017971493493, 'accuracy_s1': 0.7033248184563974, 'classwise_accuracy': {8: array([877, 974]), 9: array([ 804, 1009])}, 'DP_ingredients': {'class_pred_count_s0': {8: 468, 9: 510, 4: 3, 7: 1, 3: 2, 6: 1}, 'class_pred_count_s1': {7: 123, 8: 460, 9: 321, 4: 23, 6: 30, 5: 20, 1: 4, 3: 13, 0: 2, 2: 2}, 'class_pred_count': {8: 928, 7: 124, 9: 831, 4: 26, 6: 31, 5: 20, 1: 4, 3: 15, 0: 2, 2: 2}, 'count_s0': 985, 'count_s1': 998, 'count': 1983}}\n",
      "[67] Eval metrics for task 1 >> {'accuracy': 0.8647374808954419, 'loss': 0.003088945911285725, 'std': 0.03922727681380922, 'EER': -1, 'EO': [0.2047014527522324, 0.15800425500149307], 'DP': -1, 'accuracy_s0': 0.9539870599983358, 'accuracy_s1': 0.772634206121473, 'classwise_accuracy': {0: array([809, 980]), 1: array([1026, 1135])}, 'DP_ingredients': {'class_pred_count_s0': {0: 453, 1: 579, 5: 8, 9: 18, 8: 14, 3: 1, 6: 4, 7: 1, 4: 1}, 'class_pred_count_s1': {0: 356, 1: 447, 8: 90, 2: 18, 3: 8, 9: 43, 5: 37, 6: 32, 7: 4, 4: 1}, 'class_pred_count': {0: 809, 1: 1026, 8: 104, 2: 18, 3: 9, 9: 61, 5: 45, 6: 36, 7: 5, 4: 2}, 'count_s0': 1079, 'count_s1': 1036, 'count': 2115}}\n",
      "[67] Eval metrics for task 2 >> {'accuracy': 0.7635284749405173, 'loss': 0.005652666617327175, 'std': 0.03976609870289355, 'EER': -1, 'EO': [0.21132400058595735, 0.3375575268458614], 'DP': -1, 'accuracy_s0': 0.9032660773331533, 'accuracy_s1': 0.628825313617244, 'classwise_accuracy': {2: array([ 829, 1032]), 3: array([ 731, 1010])}, 'DP_ingredients': {'class_pred_count_s0': {2: 468, 3: 442, 8: 46, 9: 15, 5: 14, 7: 8, 4: 3, 0: 2, 6: 6}, 'class_pred_count_s1': {6: 67, 8: 157, 3: 297, 2: 374, 9: 42, 1: 8, 7: 30, 5: 53, 4: 4, 0: 6}, 'class_pred_count': {2: 842, 6: 73, 8: 203, 3: 739, 9: 57, 1: 8, 5: 67, 7: 38, 4: 7, 0: 8}, 'count_s0': 1004, 'count_s1': 1038, 'count': 2042}}\n",
      "[67] Eval metrics for task 3 >> {'accuracy': 0.7751054861954645, 'loss': 0.005065617401037552, 'std': 0.016136876329993666, 'EER': -1, 'EO': [0.3586322480635761, 0.24061368758253254], 'DP': -1, 'accuracy_s0': 0.9318527617285636, 'accuracy_s1': 0.6322297939055093, 'classwise_accuracy': {5: array([677, 892]), 4: array([777, 982])}, 'DP_ingredients': {'class_pred_count_s0': {5: 407, 4: 422, 8: 16, 6: 6, 9: 32, 0: 1, 1: 2, 7: 3, 2: 1}, 'class_pred_count_s1': {5: 271, 4: 358, 8: 98, 7: 24, 9: 144, 3: 18, 6: 54, 2: 5, 1: 7, 0: 5}, 'class_pred_count': {5: 678, 4: 780, 8: 114, 7: 27, 9: 176, 3: 18, 6: 60, 2: 6, 1: 9, 0: 6}, 'count_s0': 890, 'count_s1': 984, 'count': 1874}}\n",
      "[67] Eval metrics for task 4 >> {'accuracy': 0.8981726684158793, 'loss': 0.0019463926313626923, 'std': 0.01101313534194942, 'EER': -1, 'EO': [0.17849670596723055, 0.17865116990365504], 'DP': -1, 'accuracy_s0': 0.9877395421286712, 'accuracy_s1': 0.8091656041932285, 'classwise_accuracy': {7: array([ 912, 1028]), 6: array([871, 958])}, 'DP_ingredients': {'class_pred_count_s0': {7: 476, 6: 503, 1: 4, 2: 1, 0: 2, 9: 1, 4: 1}, 'class_pred_count_s1': {6: 371, 7: 439, 8: 36, 9: 79, 2: 27, 0: 10, 4: 12, 1: 8, 5: 10, 3: 6}, 'class_pred_count': {7: 915, 6: 874, 8: 36, 1: 12, 9: 80, 2: 28, 0: 12, 4: 13, 5: 10, 3: 6}, 'count_s0': 988, 'count_s1': 998, 'count': 1986}}\n",
      "[67] Eval metrics for task 5 >> {'accuracy': 0.8567232688147535, 'loss': 0.0015935733711485063, 'std': 0.02520691599017466, 'EER': -1, 'EO': [0.219951030057413, 0.3282653983727054], 'DP': -1, 'accuracy_s0': 0.9939888452799008, 'accuracy_s1': 0.7198806310648416, 'classwise_accuracy': {8: array([859, 974]), 9: array([ 839, 1009])}, 'DP_ingredients': {'class_pred_count_s0': {8: 468, 9: 511, 3: 2, 7: 1, 4: 3}, 'class_pred_count_s1': {9: 363, 8: 432, 5: 23, 7: 96, 6: 35, 1: 4, 3: 15, 4: 26, 2: 2, 0: 2}, 'class_pred_count': {8: 900, 9: 874, 5: 23, 7: 97, 6: 35, 1: 4, 3: 17, 4: 29, 2: 2, 0: 2}, 'count_s0': 985, 'count_s1': 998, 'count': 1983}}\n",
      "[68] Eval metrics for task 1 >> {'accuracy': 0.8682617099703318, 'loss': 0.003053602583301265, 'std': 0.04275150588869908, 'EER': -1, 'EO': [0.14329837264855183, 0.2087831534053045], 'DP': -1, 'accuracy_s0': 0.9550116501622701, 'accuracy_s1': 0.778970887135342, 'classwise_accuracy': {1: array([1034, 1135]), 0: array([809, 980])}, 'DP_ingredients': {'class_pred_count_s0': {1: 579, 0: 454, 8: 19, 6: 6, 5: 8, 9: 11, 4: 1, 7: 1}, 'class_pred_count_s1': {0: 355, 1: 455, 8: 95, 5: 36, 9: 38, 6: 25, 2: 14, 7: 8, 3: 8, 4: 2}, 'class_pred_count': {1: 1034, 0: 809, 8: 114, 5: 44, 9: 49, 6: 31, 2: 14, 7: 9, 3: 8, 4: 3}, 'count_s0': 1079, 'count_s1': 1036, 'count': 2115}}\n",
      "[68] Eval metrics for task 2 >> {'accuracy': 0.7518372476782562, 'loss': 0.006193016523478897, 'std': 0.03401546550003837, 'EER': -1, 'EO': [0.2226149471699389, 0.33727504207846015], 'DP': -1, 'accuracy_s0': 0.8943526394969892, 'accuracy_s1': 0.6144076448727896, 'classwise_accuracy': {2: array([ 811, 1032]), 3: array([ 725, 1010])}, 'DP_ingredients': {'class_pred_count_s0': {2: 461, 3: 439, 4: 5, 8: 52, 5: 16, 9: 15, 6: 7, 7: 7, 0: 2}, 'class_pred_count_s1': {2: 362, 5: 53, 3: 297, 8: 167, 0: 6, 9: 42, 4: 5, 6: 62, 7: 37, 1: 7}, 'class_pred_count': {2: 823, 3: 736, 5: 69, 8: 219, 0: 8, 4: 10, 9: 57, 6: 69, 7: 44, 1: 7}, 'count_s0': 1004, 'count_s1': 1038, 'count': 2042}}\n",
      "[68] Eval metrics for task 3 >> {'accuracy': 0.7795338514790899, 'loss': 0.0051702418093238596, 'std': 0.023928470313170743, 'EER': -1, 'EO': [0.2585760881790574, 0.35616107423084087], 'DP': -1, 'accuracy_s0': 0.9404258223010782, 'accuracy_s1': 0.633057241096129, 'classwise_accuracy': {4: array([789, 982]), 5: array([674, 892])}, 'DP_ingredients': {'class_pred_count_s0': {4: 432, 5: 405, 8: 19, 0: 1, 6: 5, 1: 2, 7: 3, 9: 22, 2: 1}, 'class_pred_count_s1': {4: 361, 5: 270, 8: 97, 9: 131, 6: 44, 7: 46, 1: 7, 3: 18, 0: 6, 2: 4}, 'class_pred_count': {4: 793, 5: 675, 8: 116, 9: 153, 0: 7, 6: 49, 7: 49, 1: 9, 3: 18, 2: 5}, 'count_s0': 890, 'count_s1': 984, 'count': 1874}}\n",
      "[68] Eval metrics for task 4 >> {'accuracy': 0.9030720209905527, 'loss': 0.0019304221580395886, 'std': 0.007157624103393101, 'EER': -1, 'EO': [0.16389574640071658, 0.18143950181314195], 'DP': -1, 'accuracy_s0': 0.9899120739480642, 'accuracy_s1': 0.8172444498411349, 'classwise_accuracy': {6: array([872, 958]), 7: array([ 921, 1028])}, 'DP_ingredients': {'class_pred_count_s0': {6: 497, 7: 482, 8: 2, 1: 4, 0: 2, 9: 1}, 'class_pred_count_s1': {5: 10, 2: 22, 6: 375, 7: 443, 8: 42, 9: 71, 0: 10, 3: 6, 4: 13, 1: 6}, 'class_pred_count': {5: 10, 2: 22, 6: 872, 7: 925, 8: 44, 9: 72, 1: 10, 0: 12, 3: 6, 4: 13}, 'count_s0': 988, 'count_s1': 998, 'count': 1986}}\n",
      "[68] Eval metrics for task 5 >> {'accuracy': 0.8539280968206063, 'loss': 0.0017557586465769203, 'std': 0.038269028436067165, 'EER': -1, 'EO': [0.20010976021614324, 0.3606540623403168], 'DP': -1, 'accuracy_s0': 0.9939888452799008, 'accuracy_s1': 0.7136069340016709, 'classwise_accuracy': {8: array([869, 974]), 9: array([ 823, 1009])}, 'DP_ingredients': {'class_pred_count_s0': {8: 468, 9: 511, 7: 1, 3: 2, 4: 3}, 'class_pred_count_s1': {4: 24, 9: 341, 8: 447, 6: 29, 7: 114, 5: 22, 3: 13, 1: 4, 2: 2, 0: 2}, 'class_pred_count': {4: 27, 9: 852, 8: 915, 6: 29, 7: 115, 5: 22, 3: 15, 1: 4, 2: 2, 0: 2}, 'count_s0': 985, 'count_s1': 998, 'count': 1983}}\n",
      "[69] Eval metrics for task 1 >> {'accuracy': 0.8670345230603254, 'loss': 0.003216735564225109, 'std': 0.027238604692978508, 'EER': -1, 'EO': [0.21298147407703583, 0.17469456056534283], 'DP': -1, 'accuracy_s0': 0.9623623477850822, 'accuracy_s1': 0.7685243304638929, 'classwise_accuracy': {0: array([823, 980]), 1: array([1015, 1135])}, 'DP_ingredients': {'class_pred_count_s0': {0: 462, 1: 578, 8: 20, 4: 1, 9: 7, 5: 7, 6: 4}, 'class_pred_count_s1': {5: 34, 1: 437, 0: 361, 9: 30, 2: 15, 6: 30, 8: 118, 3: 7, 4: 2, 7: 2}, 'class_pred_count': {0: 823, 1: 1015, 5: 41, 9: 37, 8: 138, 2: 15, 6: 34, 4: 3, 3: 7, 7: 2}, 'count_s0': 1079, 'count_s1': 1036, 'count': 2115}}\n",
      "[69] Eval metrics for task 2 >> {'accuracy': 0.7359956635198404, 'loss': 0.006587880190159034, 'std': 0.04985704965845417, 'EER': -1, 'EO': [0.3555816243658806, 0.20710961533405203], 'DP': -1, 'accuracy_s0': 0.8792825585595598, 'accuracy_s1': 0.5979369387095936, 'classwise_accuracy': {3: array([ 693, 1010]), 2: array([ 811, 1032])}, 'DP_ingredients': {'class_pred_count_s0': {3: 428, 9: 11, 2: 457, 5: 20, 8: 65, 7: 9, 6: 7, 4: 5, 0: 2}, 'class_pred_count_s1': {3: 270, 2: 366, 1: 6, 0: 6, 5: 64, 6: 64, 8: 190, 9: 45, 7: 23, 4: 4}, 'class_pred_count': {3: 698, 2: 823, 9: 56, 5: 84, 1: 6, 0: 8, 8: 255, 6: 71, 7: 32, 4: 9}, 'count_s0': 1004, 'count_s1': 1038, 'count': 2042}}\n",
      "[69] Eval metrics for task 3 >> {'accuracy': 0.7888061337254436, 'loss': 0.005054386632801247, 'std': 0.019747837761318054, 'EER': -1, 'EO': [0.2531065538601249, 0.3301307054672833], 'DP': -1, 'accuracy_s0': 0.9415151469198146, 'accuracy_s1': 0.6498965172561104, 'classwise_accuracy': {4: array([794, 982]), 5: array([686, 892])}, 'DP_ingredients': {'class_pred_count_s0': {4: 433, 5: 405, 9: 20, 1: 1, 8: 21, 6: 5, 7: 2, 0: 2, 2: 1}, 'class_pred_count_s1': {4: 366, 9: 131, 5: 282, 6: 45, 7: 15, 8: 117, 1: 6, 2: 3, 3: 12, 0: 7}, 'class_pred_count': {4: 799, 5: 687, 9: 151, 6: 50, 7: 17, 8: 138, 1: 7, 2: 4, 3: 12, 0: 9}, 'count_s0': 890, 'count_s1': 984, 'count': 1874}}\n",
      "[69] Eval metrics for task 4 >> {'accuracy': 0.8898686465805057, 'loss': 0.002162375568983418, 'std': 0.018273315841206117, 'EER': -1, 'EO': [0.16502439672685165, 0.16829135079632096], 'DP': -1, 'accuracy_s0': 0.9734172285872394, 'accuracy_s1': 0.8067593548256531, 'classwise_accuracy': {7: array([ 896, 1028]), 6: array([870, 958])}, 'DP_ingredients': {'class_pred_count_s0': {7: 465, 6: 498, 8: 17, 0: 2, 1: 4, 2: 1, 9: 1}, 'class_pred_count_s1': {7: 434, 8: 49, 6: 373, 5: 10, 9: 77, 4: 14, 2: 21, 0: 11, 3: 4, 1: 5}, 'class_pred_count': {7: 899, 6: 871, 8: 66, 5: 10, 9: 78, 4: 14, 2: 22, 0: 13, 1: 9, 3: 4}, 'count_s0': 988, 'count_s1': 998, 'count': 1986}}\n",
      "[69] Eval metrics for task 5 >> {'accuracy': 0.884779286218693, 'loss': 0.0013186476083939206, 'std': 0.04335213061908938, 'EER': -1, 'EO': [0.31595456153453094, 0.13477710233029383], 'DP': -1, 'accuracy_s0': 0.9969944226399505, 'accuracy_s1': 0.7716285907075381, 'classwise_accuracy': {9: array([ 849, 1009]), 8: array([904, 974])}, 'DP_ingredients': {'class_pred_count_s0': {9: 513, 8: 469, 4: 3}, 'class_pred_count_s1': {9: 360, 8: 488, 4: 26, 0: 2, 7: 68, 6: 20, 3: 10, 5: 18, 1: 4, 2: 2}, 'class_pred_count': {9: 873, 8: 957, 4: 29, 0: 2, 7: 68, 6: 20, 3: 10, 5: 18, 1: 4, 2: 2}, 'count_s0': 985, 'count_s1': 998, 'count': 1983}}\n",
      "[70] Eval metrics for task 1 >> {'accuracy': 0.8769351793580868, 'loss': 0.0030149734189324345, 'std': 0.03407803650094399, 'EER': -1, 'EO': [0.19872051179528194, 0.146828655319996], 'DP': -1, 'accuracy_s0': 0.9620052148345399, 'accuracy_s1': 0.7892306312769011, 'classwise_accuracy': {0: array([826, 980]), 1: array([1034, 1135])}, 'DP_ingredients': {'class_pred_count_s0': {0: 460, 1: 580, 8: 13, 6: 3, 9: 13, 5: 7, 4: 1, 3: 1, 7: 1}, 'class_pred_count_s1': {6: 28, 1: 454, 0: 366, 2: 15, 8: 87, 5: 32, 9: 39, 3: 8, 4: 2, 7: 5}, 'class_pred_count': {0: 826, 6: 31, 1: 1034, 8: 100, 2: 15, 5: 39, 9: 52, 3: 9, 4: 3, 7: 6}, 'count_s0': 1079, 'count_s1': 1036, 'count': 2115}}\n",
      "[70] Eval metrics for task 2 >> {'accuracy': 0.7493092332489062, 'loss': 0.006272696316183839, 'std': 0.041388441169698365, 'EER': -1, 'EO': [0.20138901931029818, 0.3328416005900793], 'DP': -1, 'accuracy_s0': 0.8853320260555804, 'accuracy_s1': 0.6182167161053918, 'classwise_accuracy': {2: array([ 816, 1032]), 3: array([ 715, 1010])}, 'DP_ingredients': {'class_pred_count_s0': {8: 54, 2: 458, 7: 10, 3: 434, 9: 19, 6: 7, 5: 15, 4: 5, 0: 2}, 'class_pred_count_s1': {3: 289, 2: 370, 5: 55, 8: 160, 6: 62, 1: 8, 0: 6, 4: 5, 7: 33, 9: 50}, 'class_pred_count': {8: 214, 2: 828, 3: 723, 7: 43, 5: 70, 9: 69, 6: 69, 1: 8, 0: 8, 4: 10}, 'count_s0': 1004, 'count_s1': 1038, 'count': 2042}}\n",
      "[70] Eval metrics for task 3 >> {'accuracy': 0.7766843542509567, 'loss': 0.005353319256893471, 'std': 0.016594668152301983, 'EER': -1, 'EO': [0.35197366765480076, 0.2408802909309039], 'DP': -1, 'accuracy_s0': 0.9317819935398753, 'accuracy_s1': 0.635355014247023, 'classwise_accuracy': {5: array([678, 892]), 4: array([779, 982])}, 'DP_ingredients': {'class_pred_count_s0': {4: 423, 5: 406, 9: 32, 8: 18, 6: 5, 0: 1, 7: 2, 1: 2, 2: 1}, 'class_pred_count_s1': {9: 160, 4: 359, 8: 95, 5: 272, 0: 6, 6: 40, 7: 26, 3: 15, 2: 4, 1: 7}, 'class_pred_count': {9: 192, 4: 782, 8: 113, 5: 678, 0: 7, 6: 45, 7: 28, 3: 15, 2: 5, 1: 9}, 'count_s0': 890, 'count_s1': 984, 'count': 1874}}\n",
      "[70] Eval metrics for task 4 >> {'accuracy': 0.893439843058252, 'loss': 0.0021137140113541486, 'std': 0.005307547338407714, 'EER': -1, 'EO': [0.18388569680816202, 0.18446203793358784], 'DP': -1, 'accuracy_s0': 0.9858252546576214, 'accuracy_s1': 0.8016513872867463, 'classwise_accuracy': {6: array([861, 958]), 7: array([ 913, 1028])}, 'DP_ingredients': {'class_pred_count_s0': {7: 478, 6: 498, 8: 2, 9: 4, 1: 3, 0: 2, 2: 1}, 'class_pred_count_s1': {6: 365, 7: 438, 9: 83, 3: 5, 4: 15, 8: 40, 2: 25, 5: 9, 1: 7, 0: 11}, 'class_pred_count': {6: 863, 7: 916, 9: 87, 3: 5, 4: 15, 8: 42, 2: 26, 5: 9, 1: 10, 0: 13}, 'count_s0': 988, 'count_s1': 998, 'count': 1986}}\n",
      "[70] Eval metrics for task 5 >> {'accuracy': 0.875820897344841, 'loss': 0.0014264440211874635, 'std': 0.021509698137705202, 'EER': -1, 'EO': [0.19018912529550824, 0.29360481113163794], 'DP': -1, 'accuracy_s0': 0.9969014666391242, 'accuracy_s1': 0.7550044984255511, 'classwise_accuracy': {8: array([874, 974]), 9: array([ 862, 1009])}, 'DP_ingredients': {'class_pred_count_s0': {9: 514, 8: 468, 7: 1, 4: 2}, 'class_pred_count_s1': {2: 2, 8: 439, 7: 89, 9: 383, 1: 4, 6: 26, 3: 12, 4: 21, 5: 20, 0: 2}, 'class_pred_count': {2: 2, 8: 907, 9: 897, 7: 90, 1: 4, 6: 26, 3: 12, 4: 23, 5: 20, 0: 2}, 'count_s0': 985, 'count_s1': 998, 'count': 1983}}\n",
      "[71] Eval metrics for task 1 >> {'accuracy': 0.8595904881776499, 'loss': 0.0036601061516619744, 'std': 0.03203946776948663, 'EER': -1, 'EO': [0.20879981340797005, 0.17667898377625157], 'DP': -1, 'accuracy_s0': 0.954344192948878, 'accuracy_s1': 0.7616047943567672, 'classwise_accuracy': {0: array([811, 980]), 1: array([1012, 1135])}, 'DP_ingredients': {'class_pred_count_s0': {1: 577, 0: 455, 8: 22, 9: 14, 5: 7, 6: 2, 4: 1, 7: 1}, 'class_pred_count_s1': {0: 356, 1: 435, 6: 29, 8: 117, 9: 43, 4: 2, 7: 4, 5: 29, 2: 13, 3: 8}, 'class_pred_count': {0: 811, 1: 1012, 6: 31, 8: 139, 9: 57, 4: 3, 7: 5, 5: 36, 2: 13, 3: 8}, 'count_s0': 1079, 'count_s1': 1036, 'count': 2115}}\n",
      "[71] Eval metrics for task 2 >> {'accuracy': 0.7462545091718473, 'loss': 0.0065259968498895034, 'std': 0.05219510323125337, 'EER': -1, 'EO': [0.3599209042651276, 0.2170445966097111], 'DP': -1, 'accuracy_s0': 0.8931598147052868, 'accuracy_s1': 0.6046770642678676, 'classwise_accuracy': {3: array([ 701, 1010]), 2: array([ 824, 1032])}, 'DP_ingredients': {'class_pred_count_s0': {3: 433, 2: 466, 8: 54, 5: 12, 6: 5, 7: 9, 4: 5, 9: 19, 0: 1}, 'class_pred_count_s1': {9: 54, 2: 370, 5: 51, 3: 275, 8: 188, 6: 56, 7: 28, 4: 5, 1: 5, 0: 6}, 'class_pred_count': {9: 73, 2: 836, 3: 708, 5: 63, 8: 242, 6: 61, 7: 37, 4: 10, 1: 5, 0: 7}, 'count_s0': 1004, 'count_s1': 1038, 'count': 2042}}\n",
      "[71] Eval metrics for task 3 >> {'accuracy': 0.7673606988574613, 'loss': 0.005407879930168486, 'std': 0.02184500379019666, 'EER': -1, 'EO': [0.3442581697208228, 0.26080055986703166], 'DP': -1, 'accuracy_s0': 0.9257692249366878, 'accuracy_s1': 0.6232398601427606, 'classwise_accuracy': {5: array([665, 892]), 4: array([775, 982])}, 'DP_ingredients': {'class_pred_count_s0': {4: 426, 8: 24, 5: 398, 6: 6, 9: 29, 1: 2, 7: 3, 2: 1, 0: 1}, 'class_pred_count_s1': {9: 158, 5: 267, 4: 353, 7: 26, 8: 111, 6: 37, 3: 15, 0: 6, 1: 6, 2: 5}, 'class_pred_count': {9: 187, 5: 665, 4: 779, 8: 135, 7: 29, 6: 43, 3: 15, 0: 7, 1: 8, 2: 6}, 'count_s0': 890, 'count_s1': 984, 'count': 1874}}\n",
      "[71] Eval metrics for task 4 >> {'accuracy': 0.8874966491474618, 'loss': 0.002286647201664858, 'std': 0.008119217240847076, 'EER': -1, 'EO': [0.1971331472726927, 0.1904791034015687], 'DP': -1, 'accuracy_s0': 0.9847943268225697, 'accuracy_s1': 0.790988201485439, 'classwise_accuracy': {7: array([ 904, 1028]), 6: array([858, 958])}, 'DP_ingredients': {'class_pred_count_s0': {7: 477, 6: 496, 0: 2, 9: 4, 8: 5, 1: 3, 2: 1}, 'class_pred_count_s1': {6: 362, 7: 429, 8: 47, 4: 16, 9: 90, 0: 10, 2: 25, 3: 5, 5: 10, 1: 4}, 'class_pred_count': {7: 906, 6: 858, 8: 52, 4: 16, 0: 12, 9: 94, 2: 26, 3: 5, 5: 10, 1: 7}, 'count_s0': 988, 'count_s1': 998, 'count': 1986}}\n",
      "[71] Eval metrics for task 5 >> {'accuracy': 0.8916990412773742, 'loss': 0.0012310640383896897, 'std': 0.035405681515233545, 'EER': -1, 'EO': [0.2855901890648953, 0.1367612293144208], 'DP': -1, 'accuracy_s0': 0.9969944226399505, 'accuracy_s1': 0.7858187134502924, 'classwise_accuracy': {9: array([ 864, 1009]), 8: array([903, 974])}, 'DP_ingredients': {'class_pred_count_s0': {9: 513, 8: 469, 4: 3}, 'class_pred_count_s1': {9: 379, 5: 13, 8: 475, 3: 10, 6: 16, 7: 77, 4: 20, 1: 4, 2: 2, 0: 2}, 'class_pred_count': {9: 892, 8: 944, 5: 13, 3: 10, 6: 16, 4: 23, 7: 77, 1: 4, 2: 2, 0: 2}, 'count_s0': 985, 'count_s1': 998, 'count': 1983}}\n",
      "[72] Eval metrics for task 1 >> {'accuracy': 0.8747550121370133, 'loss': 0.0031982243201975, 'std': 0.03802031825946234, 'EER': -1, 'EO': [0.13609161938887226, 0.21499733439957358], 'DP': -1, 'accuracy_s0': 0.9613377576211478, 'accuracy_s1': 0.7857932807269249, 'classwise_accuracy': {1: array([1036, 1135]), 0: array([820, 980])}, 'DP_ingredients': {'class_pred_count_s0': {0: 461, 1: 578, 6: 4, 8: 17, 5: 7, 9: 11, 4: 1}, 'class_pred_count_s1': {8: 88, 1: 458, 0: 359, 5: 33, 2: 13, 6: 28, 9: 42, 7: 5, 3: 8, 4: 2}, 'class_pred_count': {8: 105, 0: 820, 1: 1036, 5: 40, 2: 13, 6: 32, 9: 53, 7: 5, 3: 8, 4: 3}, 'count_s0': 1079, 'count_s1': 1036, 'count': 2115}}\n",
      "[72] Eval metrics for task 2 >> {'accuracy': 0.7453066236856243, 'loss': 0.006600421859748683, 'std': 0.049267019725228345, 'EER': -1, 'EO': [0.35605243231154926, 0.2208458068369198], 'DP': -1, 'accuracy_s0': 0.8921813411240735, 'accuracy_s1': 0.6037322215498391, 'classwise_accuracy': {3: array([ 703, 1010]), 2: array([ 820, 1032])}, 'DP_ingredients': {'class_pred_count_s0': {8: 48, 3: 434, 2: 465, 9: 20, 7: 9, 5: 15, 4: 5, 6: 6, 0: 2}, 'class_pred_count_s1': {3: 277, 7: 30, 6: 65, 9: 67, 8: 159, 2: 367, 5: 57, 1: 7, 0: 5, 4: 4}, 'class_pred_count': {3: 711, 8: 207, 7: 39, 6: 71, 2: 832, 9: 87, 5: 72, 1: 7, 4: 9, 0: 7}, 'count_s0': 1004, 'count_s1': 1038, 'count': 2042}}\n",
      "[72] Eval metrics for task 3 >> {'accuracy': 0.7761238161343648, 'loss': 0.00536590560141597, 'std': 0.017155206268893886, 'EER': -1, 'EO': [0.3496534820399515, 0.25315237631062626], 'DP': -1, 'accuracy_s0': 0.9338898745886599, 'accuracy_s1': 0.632486945413371, 'classwise_accuracy': {5: array([677, 892]), 4: array([779, 982])}, 'DP_ingredients': {'class_pred_count_s0': {5: 405, 4: 426, 9: 29, 2: 1, 7: 2, 8: 19, 6: 5, 1: 2, 0: 1}, 'class_pred_count_s1': {4: 357, 6: 48, 9: 163, 8: 86, 5: 272, 2: 5, 7: 27, 3: 13, 1: 7, 0: 6}, 'class_pred_count': {5: 677, 4: 783, 6: 53, 9: 192, 8: 105, 2: 6, 7: 29, 3: 13, 1: 9, 0: 7}, 'count_s0': 890, 'count_s1': 984, 'count': 1874}}\n",
      "[72] Eval metrics for task 4 >> {'accuracy': 0.8928224738633501, 'loss': 0.0022532719919928852, 'std': 0.016363329894478584, 'EER': -1, 'EO': [0.19875453285489164, 0.17027942236689753], 'DP': -1, 'accuracy_s0': 0.9857514705580948, 'accuracy_s1': 0.8012344929472002, 'classwise_accuracy': {7: array([ 901, 1028]), 6: array([871, 958])}, 'DP_ingredients': {'class_pred_count_s0': {7: 476, 6: 500, 0: 2, 2: 1, 1: 4, 9: 4, 8: 1}, 'class_pred_count_s1': {6: 373, 7: 427, 8: 34, 2: 24, 5: 9, 9: 95, 4: 13, 0: 11, 1: 6, 3: 6}, 'class_pred_count': {7: 903, 6: 873, 8: 35, 2: 25, 5: 9, 9: 99, 0: 13, 4: 13, 1: 10, 3: 6}, 'count_s0': 988, 'count_s1': 998, 'count': 1986}}\n",
      "[72] Eval metrics for task 5 >> {'accuracy': 0.8862984677939612, 'loss': 0.0013030460475372415, 'std': 0.015138903869283238, 'EER': -1, 'EO': [0.25522581659525967, 0.18225261735900034], 'DP': -1, 'accuracy_s0': 0.9959305928527165, 'accuracy_s1': 0.7771913758755864, 'classwise_accuracy': {9: array([ 879, 1009]), 8: array([878, 974])}, 'DP_ingredients': {'class_pred_count_s0': {9: 513, 8: 468, 4: 3, 7: 1}, 'class_pred_count_s1': {9: 404, 7: 74, 8: 437, 4: 22, 0: 2, 1: 4, 6: 26, 3: 9, 5: 18, 2: 2}, 'class_pred_count': {9: 917, 8: 905, 7: 75, 4: 25, 0: 2, 1: 4, 6: 26, 3: 9, 5: 18, 2: 2}, 'count_s0': 985, 'count_s1': 998, 'count': 1983}}\n",
      "[73] Eval metrics for task 1 >> {'accuracy': 0.8702103748988582, 'loss': 0.003251901994642073, 'std': 0.035516497347837794, 'EER': -1, 'EO': [0.1507975017418135, 0.21906237504998005], 'DP': -1, 'accuracy_s0': 0.9613377576211478, 'accuracy_s1': 0.776407819225251, 'classwise_accuracy': {1: array([1028, 1135]), 0: array([818, 980])}, 'DP_ingredients': {'class_pred_count_s0': {1: 578, 0: 461, 5: 7, 8: 22, 6: 3, 9: 7, 4: 1}, 'class_pred_count_s1': {1: 450, 0: 357, 6: 22, 8: 109, 7: 7, 5: 32, 4: 2, 3: 8, 9: 37, 2: 12}, 'class_pred_count': {1: 1028, 0: 818, 6: 25, 5: 39, 8: 131, 7: 7, 9: 44, 4: 3, 3: 8, 2: 12}, 'count_s0': 1079, 'count_s1': 1036, 'count': 2115}}\n",
      "[73] Eval metrics for task 2 >> {'accuracy': 0.7506677411927238, 'loss': 0.00686145435934786, 'std': 0.05165784020262493, 'EER': -1, 'EO': [0.35421235792389394, 0.20549072046455896], 'DP': -1, 'accuracy_s0': 0.893195539907035, 'accuracy_s1': 0.6133440007128086, 'classwise_accuracy': {3: array([ 706, 1010]), 2: array([ 828, 1032])}, 'DP_ingredients': {'class_pred_count_s0': {4: 5, 3: 434, 2: 465, 5: 14, 9: 19, 8: 53, 7: 8, 6: 5, 0: 1}, 'class_pred_count_s1': {3: 281, 8: 184, 2: 375, 7: 32, 6: 50, 9: 53, 0: 6, 5: 47, 1: 5, 4: 5}, 'class_pred_count': {3: 715, 4: 10, 2: 840, 8: 237, 7: 40, 6: 55, 9: 72, 0: 7, 5: 61, 1: 5}, 'count_s0': 1004, 'count_s1': 1038, 'count': 2042}}\n",
      "[73] Eval metrics for task 3 >> {'accuracy': 0.7648662471573526, 'loss': 0.00559558341699069, 'std': 0.018229475856904098, 'EER': -1, 'EO': [0.28454492058136194, 0.36004650437110886], 'DP': -1, 'accuracy_s0': 0.9336775700225952, 'accuracy_s1': 0.6113818575463599, 'classwise_accuracy': {4: array([769, 982]), 5: array([666, 892])}, 'DP_ingredients': {'class_pred_count_s0': {5: 402, 4: 429, 1: 1, 6: 5, 9: 26, 8: 23, 7: 2, 2: 1, 0: 1}, 'class_pred_count_s1': {9: 158, 4: 345, 5: 264, 2: 5, 7: 32, 8: 119, 6: 35, 3: 13, 1: 7, 0: 6}, 'class_pred_count': {9: 184, 4: 774, 5: 666, 2: 6, 7: 34, 8: 142, 1: 8, 6: 40, 3: 13, 0: 7}, 'count_s0': 890, 'count_s1': 984, 'count': 1874}}\n",
      "[73] Eval metrics for task 4 >> {'accuracy': 0.8860375051785903, 'loss': 0.002415145872102643, 'std': 0.009578361209718667, 'EER': -1, 'EO': [0.18629322963318984, 0.20265800915114573], 'DP': -1, 'accuracy_s0': 0.9838002910372814, 'accuracy_s1': 0.7893246716451137, 'classwise_accuracy': {6: array([858, 958]), 7: array([ 901, 1028])}, 'DP_ingredients': {'class_pred_count_s0': {6: 495, 7: 477, 1: 3, 8: 6, 0: 2, 9: 4, 2: 1}, 'class_pred_count_s1': {6: 363, 7: 426, 8: 49, 9: 88, 2: 24, 0: 12, 4: 14, 3: 6, 5: 10, 1: 6}, 'class_pred_count': {6: 858, 7: 903, 8: 55, 9: 92, 2: 25, 0: 14, 4: 14, 3: 6, 5: 10, 1: 9}, 'count_s0': 988, 'count_s1': 998, 'count': 1986}}\n",
      "[73] Eval metrics for task 5 >> {'accuracy': 0.8902658415126286, 'loss': 0.0012832320193359482, 'std': 0.03991896341550277, 'EER': -1, 'EO': [0.13080884836203988, 0.29773593805274956], 'DP': -1, 'accuracy_s0': 0.9969944226399505, 'accuracy_s1': 0.7827220294325558, 'classwise_accuracy': {8: array([906, 974]), 9: array([ 858, 1009])}, 'DP_ingredients': {'class_pred_count_s0': {8: 469, 9: 513, 4: 3}, 'class_pred_count_s1': {8: 480, 9: 373, 4: 19, 3: 9, 0: 2, 5: 14, 7: 82, 6: 14, 1: 3, 2: 2}, 'class_pred_count': {8: 949, 9: 886, 4: 22, 3: 9, 0: 2, 5: 14, 7: 82, 6: 14, 1: 3, 2: 2}, 'count_s0': 985, 'count_s1': 998, 'count': 1983}}\n",
      "[74] Eval metrics for task 1 >> {'accuracy': 0.8679380562797807, 'loss': 0.0033572773279591374, 'std': 0.03426458689202555, 'EER': -1, 'EO': [0.22109489537518323, 0.1546201602468399], 'DP': -1, 'accuracy_s0': 0.9604917339324845, 'accuracy_s1': 0.772634206121473, 'classwise_accuracy': {0: array([817, 980]), 1: array([1024, 1135])}, 'DP_ingredients': {'class_pred_count_s0': {0: 461, 1: 577, 6: 3, 5: 7, 8: 22, 9: 8, 4: 1}, 'class_pred_count_s1': {1: 447, 0: 356, 8: 113, 6: 27, 9: 33, 4: 2, 5: 37, 2: 12, 3: 8, 7: 1}, 'class_pred_count': {0: 817, 1: 1024, 8: 135, 6: 30, 9: 41, 4: 3, 5: 44, 2: 12, 3: 8, 7: 1}, 'count_s0': 1079, 'count_s1': 1036, 'count': 2115}}\n",
      "[74] Eval metrics for task 2 >> {'accuracy': 0.7311718090413692, 'loss': 0.007068404429806552, 'std': 0.04305299716018118, 'EER': -1, 'EO': [0.2146369130567064, 0.3754889536685747], 'DP': -1, 'accuracy_s0': 0.8814538569324755, 'accuracy_s1': 0.5863909235698348, 'classwise_accuracy': {2: array([ 799, 1032]), 3: array([ 695, 1010])}, 'DP_ingredients': {'class_pred_count_s0': {2: 453, 3: 434, 5: 15, 9: 19, 8: 65, 6: 6, 7: 7, 4: 5}, 'class_pred_count_s1': {5: 59, 8: 188, 9: 56, 2: 358, 3: 268, 6: 68, 7: 25, 0: 6, 1: 6, 4: 4}, 'class_pred_count': {2: 811, 5: 74, 8: 253, 3: 702, 9: 75, 6: 74, 7: 32, 0: 6, 1: 6, 4: 9}, 'count_s0': 1004, 'count_s1': 1038, 'count': 2042}}\n",
      "[74] Eval metrics for task 3 >> {'accuracy': 0.7767357273980986, 'loss': 0.005544190663792662, 'std': 0.015524965066259944, 'EER': -1, 'EO': [0.3318469382105883, 0.2550644221997276], 'DP': -1, 'accuracy_s0': 0.9304095961663861, 'accuracy_s1': 0.6369539159612282, 'classwise_accuracy': {5: array([679, 892]), 4: array([778, 982])}, 'DP_ingredients': {'class_pred_count_s0': {4: 426, 5: 402, 9: 28, 8: 23, 0: 2, 7: 2, 6: 5, 1: 1, 2: 1}, 'class_pred_count_s1': {5: 277, 4: 356, 9: 149, 6: 44, 7: 20, 8: 109, 2: 4, 0: 6, 3: 12, 1: 7}, 'class_pred_count': {5: 679, 4: 782, 9: 177, 6: 49, 7: 22, 8: 132, 2: 5, 0: 8, 3: 12, 1: 8}, 'count_s0': 890, 'count_s1': 984, 'count': 1874}}\n",
      "[74] Eval metrics for task 4 >> {'accuracy': 0.8787773246793336, 'loss': 0.002576848351343161, 'std': 0.01788238304509232, 'EER': -1, 'EO': [0.19246717497214516, 0.2087030813920373], 'DP': -1, 'accuracy_s0': 0.9796027955975487, 'accuracy_s1': 0.7790176674154574, 'classwise_accuracy': {6: array([859, 958]), 7: array([ 885, 1028])}, 'DP_ingredients': {'class_pred_count_s0': {6: 498, 7: 471, 8: 7, 1: 4, 9: 5, 0: 2, 2: 1}, 'class_pred_count_s1': {6: 362, 7: 416, 9: 97, 2: 24, 4: 15, 8: 51, 5: 10, 3: 6, 0: 11, 1: 6}, 'class_pred_count': {6: 860, 7: 887, 9: 102, 8: 58, 2: 25, 4: 15, 5: 10, 3: 6, 0: 13, 1: 10}, 'count_s0': 988, 'count_s1': 998, 'count': 1986}}\n",
      "[74] Eval metrics for task 5 >> {'accuracy': 0.8996454903812301, 'loss': 0.0011567273827676394, 'std': 0.028485926456552235, 'EER': -1, 'EO': [0.13477710233029383, 0.25919185566605085], 'DP': -1, 'accuracy_s0': 0.9979652964263582, 'accuracy_s1': 0.8009808174281858, 'classwise_accuracy': {8: array([904, 974]), 9: array([ 879, 1009])}, 'DP_ingredients': {'class_pred_count_s0': {8: 469, 9: 514, 4: 2}, 'class_pred_count_s1': {4: 20, 8: 474, 9: 392, 7: 63, 5: 16, 3: 9, 6: 17, 2: 2, 0: 2, 1: 3}, 'class_pred_count': {8: 943, 4: 22, 9: 906, 7: 63, 5: 16, 3: 9, 6: 17, 2: 2, 0: 2, 1: 3}, 'count_s0': 985, 'count_s1': 998, 'count': 1983}}\n",
      "[75] Eval metrics for task 1 >> {'accuracy': 0.8740133057628338, 'loss': 0.003256815545102383, 'std': 0.03523779555875217, 'EER': -1, 'EO': [0.1469748432367871, 0.21501399440223912], 'DP': -1, 'accuracy_s0': 0.9632083714737456, 'accuracy_s1': 0.7822139526542324, 'classwise_accuracy': {1: array([1032, 1135]), 0: array([822, 980])}, 'DP_ingredients': {'class_pred_count_s0': {1: 579, 0: 462, 6: 4, 8: 20, 5: 7, 9: 6, 4: 1}, 'class_pred_count_s1': {1: 453, 0: 360, 4: 2, 8: 100, 5: 32, 2: 16, 6: 23, 9: 35, 3: 8, 7: 7}, 'class_pred_count': {1: 1032, 0: 822, 4: 3, 8: 120, 5: 39, 6: 27, 2: 16, 9: 41, 3: 8, 7: 7}, 'count_s0': 1079, 'count_s1': 1036, 'count': 2115}}\n",
      "[75] Eval metrics for task 2 >> {'accuracy': 0.7575878808811114, 'loss': 0.006473672962095315, 'std': 0.045706692762299495, 'EER': -1, 'EO': [0.32114202314021056, 0.21132400058595735], 'DP': -1, 'accuracy_s0': 0.8931240895035388, 'accuracy_s1': 0.6268910776404548, 'classwise_accuracy': {3: array([ 719, 1010]), 2: array([ 829, 1032])}, 'DP_ingredients': {'class_pred_count_s0': {2: 467, 3: 433, 5: 14, 8: 49, 9: 22, 6: 6, 7: 9, 4: 3, 0: 1}, 'class_pred_count_s1': {3: 295, 8: 172, 9: 50, 2: 374, 6: 56, 5: 47, 7: 29, 1: 5, 0: 5, 4: 5}, 'class_pred_count': {3: 728, 2: 841, 8: 221, 9: 72, 5: 61, 6: 62, 7: 38, 1: 5, 0: 6, 4: 8}, 'count_s0': 1004, 'count_s1': 1038, 'count': 2042}}\n",
      "[75] Eval metrics for task 3 >> {'accuracy': 0.7623717954572438, 'loss': 0.005702114410563238, 'std': 0.014613947923611537, 'EER': -1, 'EO': [0.26738233002995127, 0.35338792396233354], 'DP': -1, 'accuracy_s0': 0.924892204884016, 'accuracy_s1': 0.6145070778878736, 'classwise_accuracy': {4: array([763, 982]), 5: array([667, 892])}, 'DP_ingredients': {'class_pred_count_s0': {4: 422, 5: 401, 8: 24, 9: 31, 6: 5, 2: 1, 7: 2, 1: 2, 0: 2}, 'class_pred_count_s1': {4: 345, 9: 169, 8: 106, 5: 266, 6: 35, 1: 7, 7: 29, 2: 5, 3: 16, 0: 6}, 'class_pred_count': {4: 767, 9: 200, 5: 667, 8: 130, 6: 40, 1: 9, 7: 31, 2: 6, 3: 16, 0: 8}, 'count_s0': 890, 'count_s1': 984, 'count': 1874}}\n",
      "[75] Eval metrics for task 4 >> {'accuracy': 0.8909368577532635, 'loss': 0.0023933486695976295, 'std': 0.005722849971162403, 'EER': -1, 'EO': [0.1882813012037664, 0.18608342351578666], 'DP': -1, 'accuracy_s0': 0.9847943268225697, 'accuracy_s1': 0.7976119644627933, 'classwise_accuracy': {6: array([859, 958]), 7: array([ 910, 1028])}, 'DP_ingredients': {'class_pred_count_s0': {6: 496, 7: 477, 8: 5, 1: 3, 0: 2, 9: 4, 2: 1}, 'class_pred_count_s1': {6: 363, 9: 78, 8: 43, 7: 435, 2: 30, 1: 6, 5: 10, 0: 11, 4: 16, 3: 6}, 'class_pred_count': {6: 859, 9: 82, 8: 48, 7: 912, 2: 31, 1: 9, 5: 10, 0: 13, 4: 16, 3: 6}, 'count_s0': 988, 'count_s1': 998, 'count': 1986}}\n",
      "[75] Eval metrics for task 5 >> {'accuracy': 0.8961767094099715, 'loss': 0.0011893030043749633, 'std': 0.03195470742781087, 'EER': -1, 'EO': [0.2733618961518809, 0.13477710233029383], 'DP': -1, 'accuracy_s0': 0.9979652964263582, 'accuracy_s1': 0.7938957971852709, 'classwise_accuracy': {9: array([ 872, 1009]), 8: array([904, 974])}, 'DP_ingredients': {'class_pred_count_s0': {8: 469, 9: 514, 4: 2}, 'class_pred_count_s1': {4: 17, 7: 76, 9: 385, 8: 473, 6: 17, 5: 14, 3: 10, 0: 1, 1: 3, 2: 2}, 'class_pred_count': {4: 19, 7: 76, 9: 899, 8: 942, 6: 17, 5: 14, 3: 10, 0: 1, 1: 3, 2: 2}, 'count_s0': 985, 'count_s1': 998, 'count': 1983}}\n",
      "training_task_end\n",
      "final avg-acc 0.8362173098528848\n",
      "final avg-forget 0.1240405935980762\n"
     ]
    }
   ],
   "source": [
    "trainer.run()\n",
    "print(\"final avg-acc\", metric_manager_callback.meters['accuracy'].compute_final())\n",
    "print(\"final avg-forget\", metric_manager_callback.meters['forgetting'].compute_final())"
   ]
  },
  {
   "cell_type": "code",
   "execution_count": 11,
   "id": "4ee4e697",
   "metadata": {},
   "outputs": [
    {
     "name": "stdout",
     "output_type": "stream",
     "text": [
      "task:2\n",
      "task:3\n",
      "task:4\n",
      "task:5\n"
     ]
    }
   ],
   "source": [
    "import copy\n",
    "task_weight = copy.deepcopy(algorithm.weight_all)\n",
    "\n",
    "num_bin = 20\n",
    "np.arange(0+1/num_bin, 1+1/num_bin, 1/num_bin)\n",
    "\n",
    "def bin(w: np.array, num_bin=20):\n",
    "    out = dict()\n",
    "    for r in np.arange(0+1/num_bin, 1+1/num_bin, 1/num_bin):\n",
    "        r = np.round(r, 2)\n",
    "        out[r] = np.sum(np.logical_and(w<=r, r-1/num_bin<w))\n",
    "    out[1/num_bin] += np.sum(w==0)\n",
    "    kk = list(out.keys())\n",
    "    for k in kk:\n",
    "        if out[k] == 0:\n",
    "            del(out[k])\n",
    "    return out\n",
    "\n",
    "\n",
    "binned_weight = dict()\n",
    "for i, wt in enumerate(task_weight):\n",
    "    if i==0:\n",
    "        continue\n",
    "    print(f\"task:{i+1}\")\n",
    "    binned_weight[i+1] = list()\n",
    "    for we in wt:\n",
    "        binned_weight[i+1].append({k: bin(we[k]) for k in we})\n",
    "\n",
    "\n"
   ]
  },
  {
   "cell_type": "code",
   "execution_count": 12,
   "id": "b48ee970",
   "metadata": {},
   "outputs": [
    {
     "data": {
      "text/plain": [
       "{2: [], 3: [], 4: [], 5: []}"
      ]
     },
     "execution_count": 12,
     "metadata": {},
     "output_type": "execute_result"
    }
   ],
   "source": [
    "binned_weight"
   ]
  },
  {
   "cell_type": "code",
   "execution_count": null,
   "id": "e4b41373",
   "metadata": {},
   "outputs": [],
   "source": []
  },
  {
   "cell_type": "code",
   "execution_count": 13,
   "id": "5ebde5d0",
   "metadata": {},
   "outputs": [
    {
     "data": {
      "text/plain": [
       "array([[0.997, 0.   , 0.   , 0.   , 0.   ],\n",
       "       [0.954, 0.922, 0.   , 0.   , 0.   ],\n",
       "       [0.931, 0.845, 0.928, 0.   , 0.   ],\n",
       "       [0.894, 0.814, 0.84 , 0.934, 0.   ],\n",
       "       [0.874, 0.758, 0.762, 0.891, 0.896]])"
      ]
     },
     "execution_count": 13,
     "metadata": {},
     "output_type": "execute_result"
    }
   ],
   "source": [
    "metric_manager_callback.meters['accuracy'].get_data()"
   ]
  },
  {
   "cell_type": "code",
   "execution_count": 14,
   "id": "4e893eff",
   "metadata": {},
   "outputs": [
    {
     "data": {
      "text/plain": [
       "0.9085956688521813"
      ]
     },
     "execution_count": 14,
     "metadata": {},
     "output_type": "execute_result"
    }
   ],
   "source": [
    "np.mean(metric_manager_callback.meters['accuracy'].compute_overall())"
   ]
  },
  {
   "cell_type": "code",
   "execution_count": 15,
   "id": "b82bd073",
   "metadata": {},
   "outputs": [
    {
     "data": {
      "text/plain": [
       "[0.007, 0.111, 0.142, 0.173, 0.23]"
      ]
     },
     "execution_count": 15,
     "metadata": {},
     "output_type": "execute_result"
    }
   ],
   "source": [
    "[np.round(x, 3) for x in metric_manager_callback.meters['EO'].compute_overall()]"
   ]
  },
  {
   "cell_type": "code",
   "execution_count": 16,
   "id": "4a7973e4",
   "metadata": {},
   "outputs": [
    {
     "data": {
      "text/plain": [
       "0.13255873744553437"
      ]
     },
     "execution_count": 16,
     "metadata": {},
     "output_type": "execute_result"
    }
   ],
   "source": [
    "np.mean(metric_manager_callback.meters['EO'].compute_overall())"
   ]
  },
  {
   "cell_type": "code",
   "execution_count": 17,
   "id": "5196d155",
   "metadata": {},
   "outputs": [
    {
     "data": {
      "text/plain": [
       "[0.011, 0.008, 0.011, 0.008, 0.01]"
      ]
     },
     "execution_count": 17,
     "metadata": {},
     "output_type": "execute_result"
    }
   ],
   "source": [
    "[np.round(x, 3) for x in metric_manager_callback.meters['DP'].compute_overall()]"
   ]
  },
  {
   "cell_type": "code",
   "execution_count": 18,
   "id": "26e94bfa",
   "metadata": {},
   "outputs": [
    {
     "data": {
      "text/plain": [
       "0.009496314625220334"
      ]
     },
     "execution_count": 18,
     "metadata": {},
     "output_type": "execute_result"
    }
   ],
   "source": [
    "np.mean(metric_manager_callback.meters['DP'].compute_overall())"
   ]
  },
  {
   "cell_type": "code",
   "execution_count": 19,
   "id": "61271a48",
   "metadata": {},
   "outputs": [
    {
     "name": "stdout",
     "output_type": "stream",
     "text": [
      "task_id=2\n",
      "sensitive samples / all samples = 568 / 12089\n",
      "sensitive samples / selected samples = 568 / 12089\n"
     ]
    }
   ],
   "source": [
    "task_id = 2\n",
    "\n",
    "print(f\"{task_id=}\")\n",
    "print(f\"sensitive samples / all samples = {(benchmark.trains[task_id].sensitives != benchmark.trains[task_id].targets).sum().item()} / {benchmark.trains[task_id].sensitives.shape[0]}\")\n",
    "\n",
    "updated_seq_indices = benchmark.seq_indices_train[task_id]\n",
    "print(f\"sensitive samples / selected samples = {(benchmark.trains[task_id].sensitives[updated_seq_indices] != benchmark.trains[task_id].targets[updated_seq_indices]).sum().item()} / {len(updated_seq_indices)}\")\n"
   ]
  },
  {
   "cell_type": "code",
   "execution_count": 20,
   "id": "b32febda",
   "metadata": {},
   "outputs": [
    {
     "name": "stdout",
     "output_type": "stream",
     "text": [
      "incremental_step=2\n",
      "2 : 5958 --> 5958\n",
      "3 : 6131 --> 6131\n",
      "incremental_step=3\n",
      "4 : 5842 --> 5842\n",
      "5 : 5421 --> 5421\n",
      "incremental_step=4\n",
      "6 : 5918 --> 5918\n",
      "7 : 6265 --> 6265\n",
      "incremental_step=5\n",
      "8 : 5851 --> 5851\n",
      "9 : 5949 --> 5949\n"
     ]
    }
   ],
   "source": [
    "step_class = 2\n",
    "for i in range(2, 6):\n",
    "    incremental_step = i\n",
    "    print(f\"{incremental_step=}\")\n",
    "    one_idx = benchmark.trains[incremental_step].sample_weight > 0.9\n",
    "\n",
    "    print(f\"{2*i-2} : {(benchmark.trains[incremental_step].targets == (2*i-2)).sum().item()} --> {(benchmark.trains[incremental_step].targets[one_idx] == (2*i-2)).sum().item()}\")\n",
    "    print(f\"{2*i-1} : {(benchmark.trains[incremental_step].targets == (2*i-1)).sum().item()} --> {(benchmark.trains[incremental_step].targets[one_idx] == (2*i-1)).sum().item()}\")\n"
   ]
  },
  {
   "cell_type": "code",
   "execution_count": 21,
   "id": "f6233f9b",
   "metadata": {},
   "outputs": [
    {
     "data": {
      "text/plain": [
       "[{0: array([976, 980]), 1: array([1132, 1135])},\n",
       " {0: array([916, 980]),\n",
       "  1: array([1105, 1135]),\n",
       "  2: array([ 925, 1032]),\n",
       "  3: array([ 958, 1010])},\n",
       " {1: array([1092, 1135]),\n",
       "  0: array([882, 980]),\n",
       "  3: array([ 831, 1010]),\n",
       "  2: array([ 894, 1032]),\n",
       "  4: array([951, 982]),\n",
       "  5: array([792, 892])},\n",
       " {1: array([1049, 1135]),\n",
       "  0: array([847, 980]),\n",
       "  3: array([ 799, 1010]),\n",
       "  2: array([ 864, 1032]),\n",
       "  4: array([864, 982]),\n",
       "  5: array([714, 892]),\n",
       "  6: array([876, 958]),\n",
       "  7: array([ 980, 1028])},\n",
       " {1: array([1032, 1135]),\n",
       "  0: array([822, 980]),\n",
       "  3: array([ 719, 1010]),\n",
       "  2: array([ 829, 1032]),\n",
       "  4: array([763, 982]),\n",
       "  5: array([667, 892]),\n",
       "  6: array([859, 958]),\n",
       "  7: array([ 910, 1028]),\n",
       "  9: array([ 872, 1009]),\n",
       "  8: array([904, 974])}]"
      ]
     },
     "execution_count": 21,
     "metadata": {},
     "output_type": "execute_result"
    }
   ],
   "source": [
    "metric_manager_callback.meters['classwise_accuracy'].get_data()"
   ]
  },
  {
   "cell_type": "code",
   "execution_count": null,
   "id": "21212733",
   "metadata": {},
   "outputs": [],
   "source": []
  },
  {
   "cell_type": "code",
   "execution_count": null,
   "id": "2088139f",
   "metadata": {},
   "outputs": [],
   "source": []
  }
 ],
 "metadata": {
  "kernelspec": {
   "display_name": "cil",
   "language": "python",
   "name": "python3"
  },
  "language_info": {
   "codemirror_mode": {
    "name": "ipython",
    "version": 3
   },
   "file_extension": ".py",
   "mimetype": "text/x-python",
   "name": "python",
   "nbconvert_exporter": "python",
   "pygments_lexer": "ipython3",
   "version": "3.9.18"
  }
 },
 "nbformat": 4,
 "nbformat_minor": 5
}
