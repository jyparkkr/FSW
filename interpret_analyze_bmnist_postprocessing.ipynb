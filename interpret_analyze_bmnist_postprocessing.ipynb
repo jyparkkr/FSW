{
 "cells": [
  {
   "cell_type": "code",
   "execution_count": 1,
   "metadata": {},
   "outputs": [],
   "source": [
    "import torch\n",
    "import numpy as np\n",
    "import matplotlib.pyplot as plt\n",
    "\n",
    "import random\n",
    "import copy\n",
    "import os\n",
    "import pickle\n",
    "\n",
    "import cl_gym as cl\n",
    "from metrics import MetricCollector2, FairMetricCollector\n",
    "from configs import make_params\n",
    "\n",
    "EER_dataset = [\"MNIST\", \"FashionMNIST\", \"CIFAR10\", \"CIFAR100\"]\n",
    "color_list = ['#1f77b4', '#ff7f0e', '#2ca02c', '#d62728', '#9467bd', '#8c564b', '#e377c2', '#7f7f7f', '#bcbd22', '#17becf']"
   ]
  },
  {
   "cell_type": "code",
   "execution_count": 2,
   "metadata": {},
   "outputs": [],
   "source": [
    "LOG_PATH = f\"scripts_output_rebuttal\"\n",
    "OUT_PATH = f\"outputs_rebuttal\"\n",
    "\n",
    "def is_number(value):\n",
    "    flag=True\n",
    "    try:\n",
    "        num=float(value)\n",
    "        flag = num == num\n",
    "    except ValueError:\n",
    "        flag=False\n",
    "    return flag\n",
    "\n",
    "\n",
    "def load(dataset, seed, epoch, lr, tau, alpha, lmbd, method, fair_metric, eps=None, randinx = False, verbose=2):\n",
    "    # if dataset == \"CIFAR10\":\n",
    "    #     dataset+=\"(prev)\"\n",
    "    path = f\"dataset={dataset}\"\n",
    "    if randinx:\n",
    "        path+=\"_randidx\"\n",
    "    if eps is None:\n",
    "        eps = 0\n",
    "    # if method != \"FSW\":\n",
    "    #     fair_metric = \"no_metrics\"\n",
    "    path = os.path.join(path, method)\n",
    "    path = os.path.join(path, fair_metric)\n",
    "\n",
    "    # Get log_path\n",
    "    runs = list()\n",
    "    for d in os.listdir(os.path.join(LOG_PATH, path)):\n",
    "        info_dict = dict()\n",
    "        info_dict['path'] = d\n",
    "        # print(f\"{d=}\")\n",
    "        for elem in d.split(\"_\"):\n",
    "            k, v = elem.split(\"=\")\n",
    "            info_dict[k] = int(v) if v.isdigit() else float(v) if is_number(v) else v\n",
    "            info_dict['path'] = d\n",
    "        runs.append(info_dict)\n",
    "    avails = list()\n",
    "    for run in runs:\n",
    "        seed_flag = seed == run.get(\"seed\", None)\n",
    "        epoch_flag = epoch == run.get(\"epoch\", None)\n",
    "        lr_flag = lr == run.get(\"lr\", None)\n",
    "        tau_flag = tau == run.get(\"tau\", 0)\n",
    "        alpha_flag = alpha == run.get(\"alpha\", 0)\n",
    "        lmbd_flag = lmbd == run.get(\"lmbd\", 0)\n",
    "        eps_flag = eps == run.get(\"eps\", 0)\n",
    "        flag = seed_flag & epoch_flag & lr_flag & tau_flag & alpha_flag & lmbd_flag & eps_flag\n",
    "        if flag:\n",
    "            avails.append(run)\n",
    "    \n",
    "    if len(avails) == 0:\n",
    "        if verbose > 2:\n",
    "            print(runs)\n",
    "        print(f\"11111111\")\n",
    "        return False\n",
    "    target = avails[0]\n",
    "    \n",
    "    log_path = os.path.join(path, target['path'])\n",
    "\n",
    "    out = os.path.join(os.path.join(LOG_PATH, log_path), \"log.out\")\n",
    "    err = os.path.join(os.path.join(LOG_PATH, log_path), \"log.err\")\n",
    "    if os.path.exists(err):\n",
    "        with open(err, \"r\") as f:\n",
    "            lines = f.readlines()\n",
    "        if len(lines):\n",
    "            if verbose:\n",
    "                print(f\"Error in {err} - error during running\")\n",
    "                for line in lines:\n",
    "                    print(line)\n",
    "            print(f\"2222222\")\n",
    "            return False\n",
    "    else:\n",
    "        if verbose:\n",
    "            print(f\"error in {os.path.join(LOG_PATH, path)} - not exists\")\n",
    "        print(f\"333333\")\n",
    "        return False\n",
    "    if os.path.exists(out):\n",
    "        with open(out, \"r\") as f:\n",
    "            lines = f.readlines()\n",
    "        if len(lines) == 0:\n",
    "            if verbose:\n",
    "                print(f\"{os.path.join(LOG_PATH, path)} - currently running\")\n",
    "            print(f\"444444\")\n",
    "            return False\n",
    "        \n",
    "    # Get out_path\n",
    "    runs = list()\n",
    "    for d in os.listdir(os.path.join(OUT_PATH, path)):\n",
    "        info_dict = dict()\n",
    "        info_dict['path'] = d\n",
    "        # print(f\"{d=}\")\n",
    "        for elem in d.split(\"_\"):\n",
    "            k, v = elem.split(\"=\")\n",
    "            info_dict[k] = int(v) if v.isdigit() else float(v) if is_number(v) else v\n",
    "            info_dict['path'] = d\n",
    "        runs.append(info_dict)\n",
    "\n",
    "    avails = list()\n",
    "    for run in runs:\n",
    "        seed_flag = seed == run.get(\"seed\", None)\n",
    "        epoch_flag = epoch == run.get(\"epoch\", None)\n",
    "        lr_flag = lr == run.get(\"lr\", None)\n",
    "        tau_flag = tau == run.get(\"tau\", 0)\n",
    "        alpha_flag = alpha == run.get(\"alpha\", 0)\n",
    "        lmbd_flag = lmbd == run.get(\"lmbd\", 0)\n",
    "        eps_flag = eps == run.get(\"eps\", 0)\n",
    "        flag = seed_flag & epoch_flag & lr_flag & tau_flag & alpha_flag & lmbd_flag & eps_flag\n",
    "        if flag:\n",
    "            avails.append(run)\n",
    "    if len(avails) == 0:\n",
    "        if verbose > 2:\n",
    "            print(runs)\n",
    "        print(f\"5555555\")\n",
    "        return False\n",
    "    target = avails[0]\n",
    "    out_path = os.path.join(path, target['path'])\n",
    "    return out_path\n",
    "\n",
    "def print_log(path, option='err'):\n",
    "    out = os.path.join(os.path.join(LOG_PATH, path), \"log.out\")\n",
    "    err = os.path.join(os.path.join(LOG_PATH, path), \"log.err\")    \n",
    "    if option == \"err\":\n",
    "        if os.path.exists(err):\n",
    "            with open(out, \"r\") as f:\n",
    "                lines = f.readlines()\n",
    "                print(lines)\n",
    "    elif option == \"out\":\n",
    "        if os.path.exists(out):\n",
    "            with open(out, \"r\") as f:\n",
    "                lines = f.readlines()\n",
    "                print(lines)\n",
    "\n",
    "def load_metrics(path, verbose=0):\n",
    "    metrics_dir = os.path.join(os.path.join(OUT_PATH, path), \"metrics/metrics.pickle\")\n",
    "    try:\n",
    "        with open(metrics_dir, \"rb\") as f:\n",
    "            metric_manager_callback = pickle.load(f)\n",
    "    except:\n",
    "        print(f\"{path} still running\")\n",
    "        return -1\n",
    "\n",
    "    if verbose>0:\n",
    "        print(f\"{metric_manager_callback.meters.keys()}\")\n",
    "    return metric_manager_callback"
   ]
  },
  {
   "cell_type": "code",
   "execution_count": 3,
   "metadata": {},
   "outputs": [],
   "source": [
    "# runs = list()\n",
    "# home_path = \"/home/jaeyoung/nas/FSSCIL/scripts_output_rebuttal/dataset=BiasedMNIST/iCaRL_eps_fairness/DP\"\n",
    "# for d in os.listdir(home_path):\n",
    "#     with open(os.path.join(os.path.join(home_path, d), \"log.err\"), \"w\") as f:\n",
    "#         f.write(\"\")\n",
    "\n"
   ]
  },
  {
   "cell_type": "code",
   "execution_count": null,
   "metadata": {},
   "outputs": [],
   "source": []
  },
  {
   "cell_type": "code",
   "execution_count": 4,
   "metadata": {},
   "outputs": [],
   "source": [
    "def get_best(dataset, seed_range, epoch, lr_range, tau_range, alpha_range, lambda_range, \\\n",
    "             method, eps_range = None, randinx = False, verbose=2, metric=None):\n",
    "    randinx = False\n",
    "    acc_list = list()\n",
    "    fair_list = list()\n",
    "    info_list = list()\n",
    "\n",
    "    acc_data_list = list()\n",
    "    fair_data_list = list()\n",
    "\n",
    "    if eps_range is None:\n",
    "        eps_range = [0.0]\n",
    "\n",
    "\n",
    "    if dataset in EER_dataset:\n",
    "        disp_metric = \"EER\"\n",
    "        disp_metric2 = \"EER\"\n",
    "        metric = \"EER\"\n",
    "    else:\n",
    "        if metric is None or metric == \"no_metrics\":\n",
    "            disp_metric = \"EO\"\n",
    "        else:\n",
    "            if metric == \"EO\":\n",
    "                disp_metric = \"EO\"\n",
    "            elif metric == \"DP\":\n",
    "                disp_metric = \"DP\"\n",
    "\n",
    "    # MNIST\n",
    "    # if method in ['joint', 'vanilla', 'finetune']:\n",
    "    # if method in ['joint', 'vanilla', 'finetune', 'AGEM', \"GSS\", \"iCaRL\", \"WA\", \"OCS\", \"FaIRL\"]:\n",
    "    #     metric = \"no_metrics\"\n",
    "    for tau in tau_range:\n",
    "        for lr in lr_range:\n",
    "            for alpha in alpha_range:\n",
    "                for lmbd in lambda_range:\n",
    "                    for eps in eps_range:\n",
    "                        cnt = 0\n",
    "                        acc_temp = list()\n",
    "                        acc_std_temp = list()\n",
    "                        fair_temp = list()\n",
    "                        fair_2_temp = list()\n",
    "\n",
    "                        acc_data_temp = list()\n",
    "                        fair_data_temp = list()\n",
    "                        fair_2_data_temp = list()\n",
    "                        \n",
    "                        fair_std_temp = list()\n",
    "                        # print(f\"{info=}\")\n",
    "                        avail_seed = copy.deepcopy(seed_range)\n",
    "                        for seed in seed_range:\n",
    "                            path = load(dataset, seed, epoch, lr, tau, alpha, lmbd, method, metric, eps=eps, randinx=randinx)\n",
    "                            if not path:\n",
    "                                if verbose>1:\n",
    "                                    print(\"Remove\")\n",
    "                                    print(f\"{dataset=}, {randinx=}, {method=}, {metric=}\")\n",
    "                                    print(f\"{seed=}, {epoch=}, {lr=}, {tau=}, {alpha=}, {lmbd=}, {eps=}\")\n",
    "                                avail_seed.remove(seed)\n",
    "                                # print(seed)\n",
    "                                # print(target_dir)\n",
    "                                continue\n",
    "                            mmc = load_metrics(path, verbose=verbose-1)\n",
    "                            if mmc == -1:\n",
    "                                continue\n",
    "                            acc_temp.append(np.mean(mmc.meters['accuracy'].compute_overall()))\n",
    "                            fair_temp.append(np.mean(mmc.meters[disp_metric].compute_overall()))\n",
    "                            acc_data_temp.append(mmc.meters['accuracy'].get_data())\n",
    "                            fair_data_temp.append(mmc.meters[disp_metric].get_data())\n",
    "                            cnt+=1\n",
    "                        info = f\"lr={lr}_tau={tau}_alpha={alpha}_lmbd={lmbd}_eps={eps}({cnt=}, {avail_seed})\"\n",
    "                        if cnt == 0:\n",
    "                            print(f\"{info=}: check if boom?\")\n",
    "                            continue\n",
    "                        else:\n",
    "                            acc_mean = np.mean(acc_temp)\n",
    "                            acc_std = np.std(acc_temp)\n",
    "                            fair_mean = np.mean(fair_temp)\n",
    "                            fair_std = np.std(fair_temp)\n",
    "\n",
    "                            acc_data_mean = np.round(np.mean(acc_data_temp, axis=0), 3)\n",
    "                            fair_data_mean = np.round(np.mean(fair_data_temp, axis=0), 3)\n",
    "\n",
    "                            acc_data_list.append(acc_data_mean)\n",
    "                            fair_data_list.append(fair_data_mean)\n",
    "\n",
    "                            info_list.append(info)\n",
    "                            acc_list.append(acc_mean)\n",
    "                            fair_list.append(fair_mean)\n",
    "                            out = f\"{info}\\nacc:{acc_mean}±{acc_std}\\nfair:{fair_mean}±{fair_std}\"\n",
    "                            if verbose:\n",
    "                                print(out)\n",
    "    if verbose:\n",
    "        print()\n",
    "\n",
    "    # 대충 정한 measure\n",
    "    # integrated_score = [e - 2*fair_list[i] for i, e in enumerate(acc_list)]\n",
    "    # print(f\"{acc_list=}\")\n",
    "    # idx = integrated_score.index(max(integrated_score))\n",
    "    # print(f\"{info_list[idx]}\")\n",
    "    # accuracy = acc_list[idx]\n",
    "    # fairness = fair_list[idx]\n",
    "\n",
    "    # if accuracy > 1:\n",
    "    #     accuracy /= 100\n",
    "    # print(f\"acc:{accuracy}\")\n",
    "    # print(f\"fair:{fairness}\")\n",
    "    return info_list, acc_list, fair_list\n",
    "    return info_list, acc_list, fair_list, acc_data_list, fair_data_list\n"
   ]
  },
  {
   "cell_type": "code",
   "execution_count": null,
   "metadata": {},
   "outputs": [],
   "source": []
  },
  {
   "cell_type": "markdown",
   "metadata": {},
   "source": [
    "# BiasedMNIST"
   ]
  },
  {
   "cell_type": "markdown",
   "metadata": {},
   "source": [
    "## BiasedMNIST OCS"
   ]
  },
  {
   "cell_type": "code",
   "execution_count": 5,
   "metadata": {},
   "outputs": [
    {
     "name": "stdout",
     "output_type": "stream",
     "text": [
      "dict_keys(['accuracy', 'accuracy_s0', 'accuracy_s1', 'classwise_accuracy', 'EO', 'DP', 'forgetting', 'loss'])\n",
      "dict_keys(['accuracy', 'accuracy_s0', 'accuracy_s1', 'classwise_accuracy', 'EO', 'DP', 'forgetting', 'loss'])\n",
      "dict_keys(['accuracy', 'accuracy_s0', 'accuracy_s1', 'classwise_accuracy', 'EO', 'DP', 'forgetting', 'loss'])\n",
      "dict_keys(['accuracy', 'accuracy_s0', 'accuracy_s1', 'classwise_accuracy', 'EO', 'DP', 'forgetting', 'loss'])\n",
      "dict_keys(['accuracy', 'accuracy_s0', 'accuracy_s1', 'classwise_accuracy', 'EO', 'DP', 'forgetting', 'loss'])\n",
      "lr=0.01_tau=10.0_alpha=0.0_lmbd=0.0_eps=0.0(cnt=5, [0, 1, 2, 3, 4])\n",
      "acc:0.8241001894391937±0.0088263922006483\n",
      "fair:0.02834691259919553±0.0008449688198830703\n",
      "\n"
     ]
    },
    {
     "data": {
      "text/plain": [
       "<matplotlib.legend.Legend at 0x7fd8aa86ef40>"
      ]
     },
     "execution_count": 5,
     "metadata": {},
     "output_type": "execute_result"
    },
    {
     "data": {
      "image/png": "[encoded data removed]",
      "text/plain": [
       "<Figure size 640x480 with 1 Axes>"
      ]
     },
     "metadata": {},
     "output_type": "display_data"
    }
   ],
   "source": [
    "size = 20\n",
    "\n",
    "dataset = \"BiasedMNIST\"\n",
    "metric = \"DP\"\n",
    "method = \"OCS\"\n",
    "seed_range = [0, 1, 2, 3, 4]\n",
    "epoch = 15\n",
    "tau_range = [10.0]\n",
    "lr_range = [0.01]\n",
    "alpha_range = [0.0]\n",
    "lambda_range = [0.0]\n",
    "\n",
    "for i, lmbd in enumerate(lambda_range):\n",
    "    fsw_info_list, fsw_acc_list, fsw_fair_list = get_best(dataset, seed_range, epoch, lr_range, tau_range, alpha_range, [lmbd], method, metric=metric)\n",
    "    plt.scatter(fsw_acc_list, fsw_fair_list, marker='x', s = size, c = color_list[i], label=lmbd)\n",
    "\n",
    "\n",
    "plt.xlabel('acc')\n",
    "if dataset in EER_dataset:\n",
    "    plt.ylabel('eer')\n",
    "else:\n",
    "    if metric is None:\n",
    "        plt.ylabel('eo')\n",
    "    else:\n",
    "        plt.ylabel(metric)\n",
    "plt.legend()\n"
   ]
  },
  {
   "cell_type": "code",
   "execution_count": 6,
   "metadata": {},
   "outputs": [
    {
     "name": "stdout",
     "output_type": "stream",
     "text": [
      "dict_keys(['accuracy', 'accuracy_s0', 'accuracy_s1', 'classwise_accuracy', 'EO', 'DP', 'forgetting', 'loss'])\n",
      "dict_keys(['accuracy', 'accuracy_s0', 'accuracy_s1', 'classwise_accuracy', 'EO', 'DP', 'forgetting', 'loss'])\n",
      "dict_keys(['accuracy', 'accuracy_s0', 'accuracy_s1', 'classwise_accuracy', 'EO', 'DP', 'forgetting', 'loss'])\n",
      "dict_keys(['accuracy', 'accuracy_s0', 'accuracy_s1', 'classwise_accuracy', 'EO', 'DP', 'forgetting', 'loss'])\n",
      "dict_keys(['accuracy', 'accuracy_s0', 'accuracy_s1', 'classwise_accuracy', 'EO', 'DP', 'forgetting', 'loss'])\n",
      "lr=0.01_tau=10.0_alpha=0.0_lmbd=0.0_eps=0.0(cnt=5, [0, 1, 2, 3, 4])\n",
      "acc:0.8246155641333954±0.015569907551755965\n",
      "fair:0.00682430411027435±0.002236715737273572\n",
      "\n",
      "dict_keys(['accuracy', 'accuracy_s0', 'accuracy_s1', 'classwise_accuracy', 'EO', 'DP', 'forgetting', 'loss'])\n",
      "dict_keys(['accuracy', 'accuracy_s0', 'accuracy_s1', 'classwise_accuracy', 'EO', 'DP', 'forgetting', 'loss'])\n",
      "dict_keys(['accuracy', 'accuracy_s0', 'accuracy_s1', 'classwise_accuracy', 'EO', 'DP', 'forgetting', 'loss'])\n",
      "dict_keys(['accuracy', 'accuracy_s0', 'accuracy_s1', 'classwise_accuracy', 'EO', 'DP', 'forgetting', 'loss'])\n",
      "dict_keys(['accuracy', 'accuracy_s0', 'accuracy_s1', 'classwise_accuracy', 'EO', 'DP', 'forgetting', 'loss'])\n",
      "lr=0.01_tau=10.0_alpha=0.0_lmbd=0.0_eps=0.01(cnt=5, [0, 1, 2, 3, 4])\n",
      "acc:0.8246155641333954±0.015569907551755965\n",
      "fair:0.005140534786915317±0.001360499460146876\n",
      "\n",
      "dict_keys(['accuracy', 'accuracy_s0', 'accuracy_s1', 'classwise_accuracy', 'EO', 'DP', 'forgetting', 'loss'])\n",
      "dict_keys(['accuracy', 'accuracy_s0', 'accuracy_s1', 'classwise_accuracy', 'EO', 'DP', 'forgetting', 'loss'])\n",
      "dict_keys(['accuracy', 'accuracy_s0', 'accuracy_s1', 'classwise_accuracy', 'EO', 'DP', 'forgetting', 'loss'])\n",
      "dict_keys(['accuracy', 'accuracy_s0', 'accuracy_s1', 'classwise_accuracy', 'EO', 'DP', 'forgetting', 'loss'])\n",
      "dict_keys(['accuracy', 'accuracy_s0', 'accuracy_s1', 'classwise_accuracy', 'EO', 'DP', 'forgetting', 'loss'])\n",
      "lr=0.01_tau=10.0_alpha=0.0_lmbd=0.0_eps=0.02(cnt=5, [0, 1, 2, 3, 4])\n",
      "acc:0.8246155641333954±0.015569907551755965\n",
      "fair:0.004741333286032176±0.0008180483182001426\n",
      "\n",
      "dict_keys(['accuracy', 'accuracy_s0', 'accuracy_s1', 'classwise_accuracy', 'EO', 'DP', 'forgetting', 'loss'])\n",
      "dict_keys(['accuracy', 'accuracy_s0', 'accuracy_s1', 'classwise_accuracy', 'EO', 'DP', 'forgetting', 'loss'])\n",
      "dict_keys(['accuracy', 'accuracy_s0', 'accuracy_s1', 'classwise_accuracy', 'EO', 'DP', 'forgetting', 'loss'])\n",
      "dict_keys(['accuracy', 'accuracy_s0', 'accuracy_s1', 'classwise_accuracy', 'EO', 'DP', 'forgetting', 'loss'])\n",
      "dict_keys(['accuracy', 'accuracy_s0', 'accuracy_s1', 'classwise_accuracy', 'EO', 'DP', 'forgetting', 'loss'])\n",
      "lr=0.01_tau=10.0_alpha=0.0_lmbd=0.0_eps=0.03(cnt=5, [0, 1, 2, 3, 4])\n",
      "acc:0.8246155641333954±0.015569907551755965\n",
      "fair:0.004985134176404886±0.0009161874973930872\n",
      "\n",
      "dict_keys(['accuracy', 'accuracy_s0', 'accuracy_s1', 'classwise_accuracy', 'EO', 'DP', 'forgetting', 'loss'])\n",
      "dict_keys(['accuracy', 'accuracy_s0', 'accuracy_s1', 'classwise_accuracy', 'EO', 'DP', 'forgetting', 'loss'])\n",
      "dict_keys(['accuracy', 'accuracy_s0', 'accuracy_s1', 'classwise_accuracy', 'EO', 'DP', 'forgetting', 'loss'])\n",
      "dict_keys(['accuracy', 'accuracy_s0', 'accuracy_s1', 'classwise_accuracy', 'EO', 'DP', 'forgetting', 'loss'])\n",
      "dict_keys(['accuracy', 'accuracy_s0', 'accuracy_s1', 'classwise_accuracy', 'EO', 'DP', 'forgetting', 'loss'])\n",
      "lr=0.01_tau=10.0_alpha=0.0_lmbd=0.0_eps=0.04(cnt=5, [0, 1, 2, 3, 4])\n",
      "acc:0.8246155641333954±0.015569907551755965\n",
      "fair:0.005516974608628672±0.0008907134163225975\n",
      "\n",
      "dict_keys(['accuracy', 'accuracy_s0', 'accuracy_s1', 'classwise_accuracy', 'EO', 'DP', 'forgetting', 'loss'])\n",
      "dict_keys(['accuracy', 'accuracy_s0', 'accuracy_s1', 'classwise_accuracy', 'EO', 'DP', 'forgetting', 'loss'])\n",
      "dict_keys(['accuracy', 'accuracy_s0', 'accuracy_s1', 'classwise_accuracy', 'EO', 'DP', 'forgetting', 'loss'])\n",
      "dict_keys(['accuracy', 'accuracy_s0', 'accuracy_s1', 'classwise_accuracy', 'EO', 'DP', 'forgetting', 'loss'])\n",
      "dict_keys(['accuracy', 'accuracy_s0', 'accuracy_s1', 'classwise_accuracy', 'EO', 'DP', 'forgetting', 'loss'])\n",
      "lr=0.01_tau=10.0_alpha=0.0_lmbd=0.0_eps=0.05(cnt=5, [0, 1, 2, 3, 4])\n",
      "acc:0.8246155641333954±0.015569907551755965\n",
      "fair:0.006314171656135714±0.0010013516823260218\n",
      "\n"
     ]
    },
    {
     "data": {
      "text/plain": [
       "<matplotlib.legend.Legend at 0x7fd8aa6f1be0>"
      ]
     },
     "execution_count": 6,
     "metadata": {},
     "output_type": "execute_result"
    },
    {
     "data": {
      "image/png": "[encoded data removed]",
      "text/plain": [
       "<Figure size 640x480 with 1 Axes>"
      ]
     },
     "metadata": {},
     "output_type": "display_data"
    }
   ],
   "source": [
    "size = 20\n",
    "\n",
    "dataset = \"BiasedMNIST\"\n",
    "metric = \"DP\"\n",
    "method = \"OCS_eps_fairness\"\n",
    "seed_range = [0, 1, 2, 3, 4]\n",
    "epoch = 15\n",
    "tau_range = [10.0]\n",
    "lr_range = [0.01]\n",
    "alpha_range = [0.0]\n",
    "lambda_range = [0.0]\n",
    "# eps_range = [0.0, 0.05, 0.1, 0.15, 0.2]\n",
    "eps_range = [0.0, 0.01, 0.02, 0.03, 0.04, 0.05]\n",
    "\n",
    "for i, eps in enumerate(eps_range):\n",
    "    fsw_info_list, fsw_acc_list, fsw_fair_list = get_best(dataset, seed_range, epoch, lr_range, tau_range, alpha_range, lambda_range, method, eps_range=[eps], metric=metric)\n",
    "    plt.scatter(fsw_acc_list, fsw_fair_list, marker='x', s = size, c = color_list[i], label=eps)\n",
    "\n",
    "\n",
    "plt.xlabel('acc')\n",
    "if dataset in EER_dataset:\n",
    "    plt.ylabel('eer')\n",
    "else:\n",
    "    if metric is None:\n",
    "        plt.ylabel('eo')\n",
    "    else:\n",
    "        plt.ylabel(metric)\n",
    "plt.legend()\n"
   ]
  },
  {
   "cell_type": "markdown",
   "metadata": {},
   "source": [
    "## BiasedMNIST iCaRL"
   ]
  },
  {
   "cell_type": "code",
   "execution_count": 7,
   "metadata": {},
   "outputs": [],
   "source": [
    "# di = \"scripts_output_rebuttal/dataset=BiasedMNIST/iCaRL/DP\"\n",
    "# for d in os.listdir(di):\n",
    "#     print(d)\n",
    "#     p = os.path.join(os.path.join(di, d), \"log.err\")\n",
    "#     with open(p, \"w\") as f:\n",
    "#         f.write(\"\")\n"
   ]
  },
  {
   "cell_type": "code",
   "execution_count": 8,
   "metadata": {},
   "outputs": [
    {
     "name": "stdout",
     "output_type": "stream",
     "text": [
      "dict_keys(['accuracy', 'accuracy_s0', 'accuracy_s1', 'classwise_accuracy', 'EO', 'DP', 'forgetting', 'loss'])\n",
      "dict_keys(['accuracy', 'accuracy_s0', 'accuracy_s1', 'classwise_accuracy', 'EO', 'DP', 'forgetting', 'loss'])\n",
      "dict_keys(['accuracy', 'accuracy_s0', 'accuracy_s1', 'classwise_accuracy', 'EO', 'DP', 'forgetting', 'loss'])\n",
      "dict_keys(['accuracy', 'accuracy_s0', 'accuracy_s1', 'classwise_accuracy', 'EO', 'DP', 'forgetting', 'loss'])\n",
      "dict_keys(['accuracy', 'accuracy_s0', 'accuracy_s1', 'classwise_accuracy', 'EO', 'DP', 'forgetting', 'loss'])\n",
      "lr=0.1_tau=1.0_alpha=0.0_lmbd=0.0_eps=0.0(cnt=5, [0, 1, 2, 3, 4])\n",
      "acc:0.8174547710357818±0.008089707773557664\n",
      "fair:0.012499904267386433±0.0034933828614096924\n",
      "\n"
     ]
    },
    {
     "data": {
      "text/plain": [
       "<matplotlib.legend.Legend at 0x7fd8aa683430>"
      ]
     },
     "execution_count": 8,
     "metadata": {},
     "output_type": "execute_result"
    },
    {
     "data": {
      "image/png": "[encoded data removed]",
      "text/plain": [
       "<Figure size 640x480 with 1 Axes>"
      ]
     },
     "metadata": {},
     "output_type": "display_data"
    }
   ],
   "source": [
    "size = 20\n",
    "\n",
    "dataset = \"BiasedMNIST\"\n",
    "metric = \"DP\"\n",
    "method = \"iCaRL\"\n",
    "seed_range = [0, 1, 2, 3, 4]\n",
    "epoch = 15\n",
    "tau_range = [1.0, 5.0, 10.0]\n",
    "tau_range = [1.0]\n",
    "lr_range = [0.1]\n",
    "alpha_range = [0.0]\n",
    "lambda_range = [0.0]\n",
    "\n",
    "for i, lmbd in enumerate(lambda_range):\n",
    "    fsw_info_list, fsw_acc_list, fsw_fair_list = get_best(dataset, seed_range, epoch, lr_range, tau_range, alpha_range, [lmbd], method, metric=metric)\n",
    "    plt.scatter(fsw_acc_list, fsw_fair_list, marker='x', s = size, c = color_list[i], label=lmbd)\n",
    "\n",
    "\n",
    "plt.xlabel('acc')\n",
    "if dataset in EER_dataset:\n",
    "    plt.ylabel('eer')\n",
    "else:\n",
    "    if metric is None:\n",
    "        plt.ylabel('eo')\n",
    "    else:\n",
    "        plt.ylabel(metric)\n",
    "plt.legend()\n"
   ]
  },
  {
   "cell_type": "code",
   "execution_count": 9,
   "metadata": {},
   "outputs": [
    {
     "name": "stdout",
     "output_type": "stream",
     "text": [
      "dict_keys(['accuracy', 'accuracy_s0', 'accuracy_s1', 'classwise_accuracy', 'EO', 'DP', 'forgetting', 'loss'])\n",
      "dict_keys(['accuracy', 'accuracy_s0', 'accuracy_s1', 'classwise_accuracy', 'EO', 'DP', 'forgetting', 'loss'])\n",
      "dict_keys(['accuracy', 'accuracy_s0', 'accuracy_s1', 'classwise_accuracy', 'EO', 'DP', 'forgetting', 'loss'])\n",
      "dict_keys(['accuracy', 'accuracy_s0', 'accuracy_s1', 'classwise_accuracy', 'EO', 'DP', 'forgetting', 'loss'])\n",
      "dict_keys(['accuracy', 'accuracy_s0', 'accuracy_s1', 'classwise_accuracy', 'EO', 'DP', 'forgetting', 'loss'])\n",
      "lr=0.1_tau=1.0_alpha=0.0_lmbd=0.0_eps=0.0(cnt=5, [0, 1, 2, 3, 4])\n",
      "acc:0.8054309034290824±0.014452167802764862\n",
      "fair:0.007756371487892109±0.0015162799670533644\n",
      "\n",
      "dict_keys(['accuracy', 'accuracy_s0', 'accuracy_s1', 'classwise_accuracy', 'EO', 'DP', 'forgetting', 'loss'])\n",
      "dict_keys(['accuracy', 'accuracy_s0', 'accuracy_s1', 'classwise_accuracy', 'EO', 'DP', 'forgetting', 'loss'])\n",
      "dict_keys(['accuracy', 'accuracy_s0', 'accuracy_s1', 'classwise_accuracy', 'EO', 'DP', 'forgetting', 'loss'])\n",
      "dict_keys(['accuracy', 'accuracy_s0', 'accuracy_s1', 'classwise_accuracy', 'EO', 'DP', 'forgetting', 'loss'])\n",
      "dict_keys(['accuracy', 'accuracy_s0', 'accuracy_s1', 'classwise_accuracy', 'EO', 'DP', 'forgetting', 'loss'])\n",
      "lr=0.1_tau=1.0_alpha=0.0_lmbd=0.0_eps=0.01(cnt=5, [0, 1, 2, 3, 4])\n",
      "acc:0.8054309034290824±0.014452167802764862\n",
      "fair:0.0076436945936802034±0.0015745110136573981\n",
      "\n",
      "dict_keys(['accuracy', 'accuracy_s0', 'accuracy_s1', 'classwise_accuracy', 'EO', 'DP', 'forgetting', 'loss'])\n",
      "dict_keys(['accuracy', 'accuracy_s0', 'accuracy_s1', 'classwise_accuracy', 'EO', 'DP', 'forgetting', 'loss'])\n",
      "dict_keys(['accuracy', 'accuracy_s0', 'accuracy_s1', 'classwise_accuracy', 'EO', 'DP', 'forgetting', 'loss'])\n",
      "dict_keys(['accuracy', 'accuracy_s0', 'accuracy_s1', 'classwise_accuracy', 'EO', 'DP', 'forgetting', 'loss'])\n",
      "dict_keys(['accuracy', 'accuracy_s0', 'accuracy_s1', 'classwise_accuracy', 'EO', 'DP', 'forgetting', 'loss'])\n",
      "lr=0.1_tau=1.0_alpha=0.0_lmbd=0.0_eps=0.02(cnt=5, [0, 1, 2, 3, 4])\n",
      "acc:0.8054309034290824±0.014452167802764862\n",
      "fair:0.007521728582534805±0.0016522214722326412\n",
      "\n",
      "dict_keys(['accuracy', 'accuracy_s0', 'accuracy_s1', 'classwise_accuracy', 'EO', 'DP', 'forgetting', 'loss'])\n",
      "dict_keys(['accuracy', 'accuracy_s0', 'accuracy_s1', 'classwise_accuracy', 'EO', 'DP', 'forgetting', 'loss'])\n",
      "dict_keys(['accuracy', 'accuracy_s0', 'accuracy_s1', 'classwise_accuracy', 'EO', 'DP', 'forgetting', 'loss'])\n",
      "dict_keys(['accuracy', 'accuracy_s0', 'accuracy_s1', 'classwise_accuracy', 'EO', 'DP', 'forgetting', 'loss'])\n",
      "dict_keys(['accuracy', 'accuracy_s0', 'accuracy_s1', 'classwise_accuracy', 'EO', 'DP', 'forgetting', 'loss'])\n",
      "lr=0.1_tau=1.0_alpha=0.0_lmbd=0.0_eps=0.03(cnt=5, [0, 1, 2, 3, 4])\n",
      "acc:0.8054309034290824±0.014452167802764862\n",
      "fair:0.007514557906194834±0.0016917467821824653\n",
      "\n",
      "dict_keys(['accuracy', 'accuracy_s0', 'accuracy_s1', 'classwise_accuracy', 'EO', 'DP', 'forgetting', 'loss'])\n",
      "dict_keys(['accuracy', 'accuracy_s0', 'accuracy_s1', 'classwise_accuracy', 'EO', 'DP', 'forgetting', 'loss'])\n",
      "dict_keys(['accuracy', 'accuracy_s0', 'accuracy_s1', 'classwise_accuracy', 'EO', 'DP', 'forgetting', 'loss'])\n",
      "dict_keys(['accuracy', 'accuracy_s0', 'accuracy_s1', 'classwise_accuracy', 'EO', 'DP', 'forgetting', 'loss'])\n",
      "dict_keys(['accuracy', 'accuracy_s0', 'accuracy_s1', 'classwise_accuracy', 'EO', 'DP', 'forgetting', 'loss'])\n",
      "lr=0.1_tau=1.0_alpha=0.0_lmbd=0.0_eps=0.04(cnt=5, [0, 1, 2, 3, 4])\n",
      "acc:0.8054309034290824±0.014452167802764862\n",
      "fair:0.007424239906978889±0.0018444267616461569\n",
      "\n",
      "dict_keys(['accuracy', 'accuracy_s0', 'accuracy_s1', 'classwise_accuracy', 'EO', 'DP', 'forgetting', 'loss'])\n",
      "dict_keys(['accuracy', 'accuracy_s0', 'accuracy_s1', 'classwise_accuracy', 'EO', 'DP', 'forgetting', 'loss'])\n",
      "dict_keys(['accuracy', 'accuracy_s0', 'accuracy_s1', 'classwise_accuracy', 'EO', 'DP', 'forgetting', 'loss'])\n",
      "dict_keys(['accuracy', 'accuracy_s0', 'accuracy_s1', 'classwise_accuracy', 'EO', 'DP', 'forgetting', 'loss'])\n",
      "dict_keys(['accuracy', 'accuracy_s0', 'accuracy_s1', 'classwise_accuracy', 'EO', 'DP', 'forgetting', 'loss'])\n",
      "lr=0.1_tau=1.0_alpha=0.0_lmbd=0.0_eps=0.05(cnt=5, [0, 1, 2, 3, 4])\n",
      "acc:0.8054309034290824±0.014452167802764862\n",
      "fair:0.007361466335659023±0.0020276875780083996\n",
      "\n"
     ]
    },
    {
     "data": {
      "text/plain": [
       "<matplotlib.legend.Legend at 0x7fd89a49e460>"
      ]
     },
     "execution_count": 9,
     "metadata": {},
     "output_type": "execute_result"
    },
    {
     "data": {
      "image/png": "[encoded data removed]",
      "text/plain": [
       "<Figure size 640x480 with 1 Axes>"
      ]
     },
     "metadata": {},
     "output_type": "display_data"
    }
   ],
   "source": [
    "size = 20\n",
    "\n",
    "dataset = \"BiasedMNIST\"\n",
    "metric = \"DP\"\n",
    "method = \"iCaRL_eps_fairness\"\n",
    "seed_range = [0, 1, 2, 3, 4]\n",
    "epoch = 15\n",
    "tau_range = [1.0, 5.0, 10.0]\n",
    "tau_range = [1.0]\n",
    "lr_range = [0.1]\n",
    "alpha_range = [0.0]\n",
    "lambda_range = [0.0]\n",
    "# eps_range = [0.0, 0.05, 0.1, 0.15, 0.2]\n",
    "eps_range = [0.0, 0.01, 0.02, 0.03, 0.04, 0.05]\n",
    "\n",
    "for i, eps in enumerate(eps_range):\n",
    "    fsw_info_list, fsw_acc_list, fsw_fair_list = get_best(dataset, seed_range, epoch, lr_range, tau_range, alpha_range, lambda_range, method, eps_range=[eps], metric=metric)\n",
    "    plt.scatter(fsw_acc_list, fsw_fair_list, marker='x', s = size, c = color_list[i], label=eps)\n",
    "\n",
    "\n",
    "plt.xlabel('acc')\n",
    "if dataset in EER_dataset:\n",
    "    plt.ylabel('eer')\n",
    "else:\n",
    "    if metric is None:\n",
    "        plt.ylabel('eo')\n",
    "    else:\n",
    "        plt.ylabel(metric)\n",
    "plt.legend()\n"
   ]
  },
  {
   "cell_type": "markdown",
   "metadata": {},
   "source": [
    "## BiasedMNIST FSW"
   ]
  },
  {
   "cell_type": "code",
   "execution_count": 11,
   "metadata": {},
   "outputs": [
    {
     "name": "stdout",
     "output_type": "stream",
     "text": [
      "dict_keys(['accuracy', 'accuracy_s0', 'accuracy_s1', 'classwise_accuracy', 'EO', 'DP', 'forgetting', 'loss'])\n",
      "dict_keys(['accuracy', 'accuracy_s0', 'accuracy_s1', 'classwise_accuracy', 'EO', 'DP', 'forgetting', 'loss'])\n",
      "dict_keys(['accuracy', 'accuracy_s0', 'accuracy_s1', 'classwise_accuracy', 'EO', 'DP', 'forgetting', 'loss'])\n",
      "dict_keys(['accuracy', 'accuracy_s0', 'accuracy_s1', 'classwise_accuracy', 'EO', 'DP', 'forgetting', 'loss'])\n",
      "dict_keys(['accuracy', 'accuracy_s0', 'accuracy_s1', 'classwise_accuracy', 'EO', 'DP', 'forgetting', 'loss'])\n",
      "lr=0.001_tau=10.0_alpha=0.01_lmbd=0.5_eps=0.0(cnt=5, [0, 1, 2, 3, 4])\n",
      "acc:0.8919103513160442±0.008707365567390307\n",
      "fair:0.007692300464589181±0.001176791454147323\n",
      "\n"
     ]
    },
    {
     "data": {
      "text/plain": [
       "<matplotlib.legend.Legend at 0x7fd89a41adf0>"
      ]
     },
     "execution_count": 11,
     "metadata": {},
     "output_type": "execute_result"
    },
    {
     "data": {
      "image/png": "[encoded data removed]",
      "text/plain": [
       "<Figure size 640x480 with 1 Axes>"
      ]
     },
     "metadata": {},
     "output_type": "display_data"
    }
   ],
   "source": [
    "size = 20\n",
    "\n",
    "dataset = \"BiasedMNIST\"\n",
    "metric = \"DP\"\n",
    "method = \"FSW\"\n",
    "seed_range = [0, 1, 2, 3, 4]\n",
    "epoch = 15\n",
    "tau_range = [10.0]\n",
    "lr_range = [0.001]\n",
    "alpha_range = [0.01]\n",
    "lambda_range = [0.5]\n",
    "\n",
    "for i, lmbd in enumerate(lambda_range):\n",
    "    fsw_info_list, fsw_acc_list, fsw_fair_list = get_best(dataset, seed_range, epoch, lr_range, tau_range, alpha_range, [lmbd], method, metric=metric)\n",
    "    plt.scatter(fsw_acc_list, fsw_fair_list, marker='x', s = size, c = color_list[i], label=method)\n",
    "\n",
    "\n",
    "plt.xlabel('acc')\n",
    "if dataset in EER_dataset:\n",
    "    plt.ylabel('eer')\n",
    "else:\n",
    "    if metric is None:\n",
    "        plt.ylabel('eo')\n",
    "    else:\n",
    "        plt.ylabel(metric)\n",
    "plt.legend()\n"
   ]
  },
  {
   "cell_type": "code",
   "execution_count": 28,
   "metadata": {},
   "outputs": [
    {
     "name": "stdout",
     "output_type": "stream",
     "text": [
      "dict_keys(['accuracy', 'accuracy_s0', 'accuracy_s1', 'classwise_accuracy', 'EO', 'DP', 'forgetting', 'loss'])\n",
      "dict_keys(['accuracy', 'accuracy_s0', 'accuracy_s1', 'classwise_accuracy', 'EO', 'DP', 'forgetting', 'loss'])\n",
      "dict_keys(['accuracy', 'accuracy_s0', 'accuracy_s1', 'classwise_accuracy', 'EO', 'DP', 'forgetting', 'loss'])\n",
      "dict_keys(['accuracy', 'accuracy_s0', 'accuracy_s1', 'classwise_accuracy', 'EO', 'DP', 'forgetting', 'loss'])\n",
      "Error in scripts_output_rebuttal/dataset=BiasedMNIST/FSW_eps_fairness/DP/seed=4_epoch=15_lr=0.001_tau=10.0_eps=0.0_alpha=0.01_lmbd=0.5_lmbdold=0.0/log.err - error during running\n",
      "Traceback (most recent call last):\n",
      "\n",
      "  File \"/mnt/shared/jaeyoung/FSSCIL/run.py\", line 190, in <module>\n",
      "\n",
      "    main()\n",
      "\n",
      "  File \"/mnt/shared/jaeyoung/FSSCIL/run.py\", line 172, in main\n",
      "\n",
      "    trainer.run()\n",
      "\n",
      "  File \"/home/jaeyoung/anaconda3/envs/cil/lib/python3.9/site-packages/cl_gym/trainer/base.py\", line 105, in run\n",
      "\n",
      "    self._run_fit()\n",
      "\n",
      "  File \"/home/jaeyoung/anaconda3/envs/cil/lib/python3.9/site-packages/cl_gym/trainer/base.py\", line 93, in _run_fit\n",
      "\n",
      "    self.fit()\n",
      "\n",
      "  File \"/home/jaeyoung/anaconda3/envs/cil/lib/python3.9/site-packages/cl_gym/trainer/base.py\", line 83, in fit\n",
      "\n",
      "    self.train_algorithm_on_task(task)\n",
      "\n",
      "  File \"/mnt/shared/jaeyoung/FSSCIL/trainers/fair_trainer.py\", line 213, in train_algorithm_on_task\n",
      "\n",
      "    self.on_after_training_epoch()\n",
      "\n",
      "  File \"/home/jaeyoung/anaconda3/envs/cil/lib/python3.9/site-packages/cl_gym/trainer/callback_hooks.py\", line 48, in on_after_training_epoch\n",
      "\n",
      "    cb.on_after_training_epoch(self)\n",
      "\n",
      "  File \"/home/jaeyoung/anaconda3/envs/cil/lib/python3.9/site-packages/cl_gym/utils/callbacks/metric_manager.py\", line 170, in on_after_training_epoch\n",
      "\n",
      "    self._collect_eval_metrics(trainer, 1, trainer.current_task)\n",
      "\n",
      "  File \"/home/jaeyoung/anaconda3/envs/cil/lib/python3.9/site-packages/cl_gym/utils/callbacks/metric_manager.py\", line 105, in _collect_eval_metrics\n",
      "\n",
      "    task_metrics = trainer.validate_algorithm_on_task(eval_task)\n",
      "\n",
      "  File \"/mnt/shared/jaeyoung/FSSCIL/trainers/fair_trainer.py\", line 124, in validate_algorithm_on_task\n",
      "\n",
      "    pred_pp = run_fairness_experimentation(None, X_test, epsilon_fair=eps, Xtrain=X_train, prob_train=probs_train, \\\n",
      "\n",
      "  File \"/mnt/shared/jaeyoung/FSSCIL/algorithms/postprocessing/epsilon_fairness/multiclass_fairness.py\", line 308, in run_fairness_experimentation\n",
      "\n",
      "    fair_soft_max(X_test, X_train, clf_multi, c = c, opt = soft_opt, sigma=sigma, \\\n",
      "\n",
      "  File \"/mnt/shared/jaeyoung/FSSCIL/algorithms/postprocessing/epsilon_fairness/multiclass_fairness.py\", line 170, in fair_soft_max\n",
      "\n",
      "    lam_soft, beta_soft = optSCIPY_bivar_bis(fun = bivar_fairness_soft, n_classes = n_classes)\n",
      "\n",
      "  File \"/mnt/shared/jaeyoung/FSSCIL/algorithms/postprocessing/epsilon_fairness/utils_optimization.py\", line 28, in optSCIPY_bivar_bis\n",
      "\n",
      "    res = minimize(\n",
      "\n",
      "  File \"/home/jaeyoung/anaconda3/envs/cil/lib/python3.9/site-packages/scipy/optimize/_minimize.py\", line 719, in minimize\n",
      "\n",
      "    res = _minimize_slsqp(fun, x0, args, jac, bounds,\n",
      "\n",
      "  File \"/home/jaeyoung/anaconda3/envs/cil/lib/python3.9/site-packages/scipy/optimize/_slsqp_py.py\", line 432, in _minimize_slsqp\n",
      "\n",
      "    g = append(wrapped_grad(x), 0.0)\n",
      "\n",
      "  File \"/home/jaeyoung/anaconda3/envs/cil/lib/python3.9/site-packages/scipy/optimize/_optimize.py\", line 397, in eval\n",
      "\n",
      "    return func(x)\n",
      "\n",
      "  File \"/home/jaeyoung/anaconda3/envs/cil/lib/python3.9/site-packages/scipy/optimize/_differentiable_functions.py\", line 273, in grad\n",
      "\n",
      "    self._update_grad()\n",
      "\n",
      "  File \"/home/jaeyoung/anaconda3/envs/cil/lib/python3.9/site-packages/scipy/optimize/_differentiable_functions.py\", line 256, in _update_grad\n",
      "\n",
      "    self._update_grad_impl()\n",
      "\n",
      "  File \"/home/jaeyoung/anaconda3/envs/cil/lib/python3.9/site-packages/scipy/optimize/_differentiable_functions.py\", line 173, in update_grad\n",
      "\n",
      "    self.g = approx_derivative(fun_wrapped, self.x, f0=self.f,\n",
      "\n",
      "  File \"/home/jaeyoung/anaconda3/envs/cil/lib/python3.9/site-packages/scipy/optimize/_numdiff.py\", line 505, in approx_derivative\n",
      "\n",
      "    return _dense_difference(fun_wrapped, x0, f0, h,\n",
      "\n",
      "  File \"/home/jaeyoung/anaconda3/envs/cil/lib/python3.9/site-packages/scipy/optimize/_numdiff.py\", line 576, in _dense_difference\n",
      "\n",
      "    df = fun(x) - f0\n",
      "\n",
      "  File \"/home/jaeyoung/anaconda3/envs/cil/lib/python3.9/site-packages/scipy/optimize/_numdiff.py\", line 456, in fun_wrapped\n",
      "\n",
      "    f = np.atleast_1d(fun(x, *args, **kwargs))\n",
      "\n",
      "  File \"/home/jaeyoung/anaconda3/envs/cil/lib/python3.9/site-packages/scipy/optimize/_differentiable_functions.py\", line 137, in fun_wrapped\n",
      "\n",
      "    fx = fun(np.copy(x), *args)\n",
      "\n",
      "  File \"/mnt/shared/jaeyoung/FSSCIL/algorithms/postprocessing/epsilon_fairness/multiclass_fairness.py\", line 125, in bivar_fairness_soft\n",
      "\n",
      "    res += np.mean(np.sum(softmax(val/c, axis=1)*val, axis=1)) # Smooth arg max\n",
      "\n",
      "  File \"/home/jaeyoung/anaconda3/envs/cil/lib/python3.9/site-packages/scipy/special/_logsumexp.py\", line 224, in softmax\n",
      "\n",
      "    exp_x_shifted = np.exp(x - x_max)\n",
      "\n",
      "KeyboardInterrupt\n",
      "\n",
      "2222222\n",
      "Remove\n",
      "dataset='BiasedMNIST', randinx=False, method='FSW_eps_fairness', metric='DP'\n",
      "seed=4, epoch=15, lr=0.001, tau=10.0, alpha=0.01, lmbd=0.5, eps=0.0\n",
      "lr=0.001_tau=10.0_alpha=0.01_lmbd=0.5_eps=0.0(cnt=4, [0, 1, 2, 3])\n",
      "acc:0.8825270882818611±0.007296756226800167\n",
      "fair:0.0063188824395957795±0.0015639889140557984\n",
      "\n",
      "dict_keys(['accuracy', 'accuracy_s0', 'accuracy_s1', 'classwise_accuracy', 'EO', 'DP', 'forgetting', 'loss'])\n",
      "dict_keys(['accuracy', 'accuracy_s0', 'accuracy_s1', 'classwise_accuracy', 'EO', 'DP', 'forgetting', 'loss'])\n",
      "dict_keys(['accuracy', 'accuracy_s0', 'accuracy_s1', 'classwise_accuracy', 'EO', 'DP', 'forgetting', 'loss'])\n",
      "dict_keys(['accuracy', 'accuracy_s0', 'accuracy_s1', 'classwise_accuracy', 'EO', 'DP', 'forgetting', 'loss'])\n",
      "dict_keys(['accuracy', 'accuracy_s0', 'accuracy_s1', 'classwise_accuracy', 'EO', 'DP', 'forgetting', 'loss'])\n",
      "lr=0.001_tau=10.0_alpha=0.01_lmbd=0.5_eps=0.01(cnt=5, [0, 1, 2, 3, 4])\n",
      "acc:0.8834943827756803±0.006807110671773251\n",
      "fair:0.005390035929705448±0.0014389269141553563\n",
      "\n",
      "dict_keys(['accuracy', 'accuracy_s0', 'accuracy_s1', 'classwise_accuracy', 'EO', 'DP', 'forgetting', 'loss'])\n",
      "dict_keys(['accuracy', 'accuracy_s0', 'accuracy_s1', 'classwise_accuracy', 'EO', 'DP', 'forgetting', 'loss'])\n",
      "dict_keys(['accuracy', 'accuracy_s0', 'accuracy_s1', 'classwise_accuracy', 'EO', 'DP', 'forgetting', 'loss'])\n",
      "dict_keys(['accuracy', 'accuracy_s0', 'accuracy_s1', 'classwise_accuracy', 'EO', 'DP', 'forgetting', 'loss'])\n",
      "dict_keys(['accuracy', 'accuracy_s0', 'accuracy_s1', 'classwise_accuracy', 'EO', 'DP', 'forgetting', 'loss'])\n",
      "lr=0.001_tau=10.0_alpha=0.01_lmbd=0.5_eps=0.02(cnt=5, [0, 1, 2, 3, 4])\n",
      "acc:0.8834943827756803±0.006807110671773251\n",
      "fair:0.0059313013098024545±0.0008148088715744787\n",
      "\n",
      "dict_keys(['accuracy', 'accuracy_s0', 'accuracy_s1', 'classwise_accuracy', 'EO', 'DP', 'forgetting', 'loss'])\n",
      "dict_keys(['accuracy', 'accuracy_s0', 'accuracy_s1', 'classwise_accuracy', 'EO', 'DP', 'forgetting', 'loss'])\n",
      "dict_keys(['accuracy', 'accuracy_s0', 'accuracy_s1', 'classwise_accuracy', 'EO', 'DP', 'forgetting', 'loss'])\n",
      "dict_keys(['accuracy', 'accuracy_s0', 'accuracy_s1', 'classwise_accuracy', 'EO', 'DP', 'forgetting', 'loss'])\n",
      "dict_keys(['accuracy', 'accuracy_s0', 'accuracy_s1', 'classwise_accuracy', 'EO', 'DP', 'forgetting', 'loss'])\n",
      "lr=0.001_tau=10.0_alpha=0.01_lmbd=0.5_eps=0.03(cnt=5, [0, 1, 2, 3, 4])\n",
      "acc:0.8834943827756803±0.006807110671773251\n",
      "fair:0.005923565466461162±0.0008498267281739686\n",
      "\n",
      "dict_keys(['accuracy', 'accuracy_s0', 'accuracy_s1', 'classwise_accuracy', 'EO', 'DP', 'forgetting', 'loss'])\n",
      "dict_keys(['accuracy', 'accuracy_s0', 'accuracy_s1', 'classwise_accuracy', 'EO', 'DP', 'forgetting', 'loss'])\n",
      "dict_keys(['accuracy', 'accuracy_s0', 'accuracy_s1', 'classwise_accuracy', 'EO', 'DP', 'forgetting', 'loss'])\n",
      "dict_keys(['accuracy', 'accuracy_s0', 'accuracy_s1', 'classwise_accuracy', 'EO', 'DP', 'forgetting', 'loss'])\n",
      "dict_keys(['accuracy', 'accuracy_s0', 'accuracy_s1', 'classwise_accuracy', 'EO', 'DP', 'forgetting', 'loss'])\n",
      "lr=0.001_tau=10.0_alpha=0.01_lmbd=0.5_eps=0.04(cnt=5, [0, 1, 2, 3, 4])\n",
      "acc:0.8834943827756803±0.006807110671773251\n",
      "fair:0.006010843167381605±0.0009251847235257616\n",
      "\n",
      "dict_keys(['accuracy', 'accuracy_s0', 'accuracy_s1', 'classwise_accuracy', 'EO', 'DP', 'forgetting', 'loss'])\n",
      "dict_keys(['accuracy', 'accuracy_s0', 'accuracy_s1', 'classwise_accuracy', 'EO', 'DP', 'forgetting', 'loss'])\n",
      "dict_keys(['accuracy', 'accuracy_s0', 'accuracy_s1', 'classwise_accuracy', 'EO', 'DP', 'forgetting', 'loss'])\n",
      "dict_keys(['accuracy', 'accuracy_s0', 'accuracy_s1', 'classwise_accuracy', 'EO', 'DP', 'forgetting', 'loss'])\n",
      "dict_keys(['accuracy', 'accuracy_s0', 'accuracy_s1', 'classwise_accuracy', 'EO', 'DP', 'forgetting', 'loss'])\n",
      "lr=0.001_tau=10.0_alpha=0.01_lmbd=0.5_eps=0.05(cnt=5, [0, 1, 2, 3, 4])\n",
      "acc:0.8834943827756803±0.006807110671773251\n",
      "fair:0.0061872607825615945±0.000981877103228951\n",
      "\n",
      "dict_keys(['accuracy', 'accuracy_s0', 'accuracy_s1', 'classwise_accuracy', 'EO', 'DP', 'forgetting', 'loss'])\n",
      "dict_keys(['accuracy', 'accuracy_s0', 'accuracy_s1', 'classwise_accuracy', 'EO', 'DP', 'forgetting', 'loss'])\n",
      "dict_keys(['accuracy', 'accuracy_s0', 'accuracy_s1', 'classwise_accuracy', 'EO', 'DP', 'forgetting', 'loss'])\n",
      "dict_keys(['accuracy', 'accuracy_s0', 'accuracy_s1', 'classwise_accuracy', 'EO', 'DP', 'forgetting', 'loss'])\n",
      "dict_keys(['accuracy', 'accuracy_s0', 'accuracy_s1', 'classwise_accuracy', 'EO', 'DP', 'forgetting', 'loss'])\n",
      "lr=0.001_tau=10.0_alpha=0.01_lmbd=0.5_eps=0.06(cnt=5, [0, 1, 2, 3, 4])\n",
      "acc:0.8834943827756803±0.006807110671773251\n",
      "fair:0.006399295152662456±0.0007609467030279454\n",
      "\n",
      "dict_keys(['accuracy', 'accuracy_s0', 'accuracy_s1', 'classwise_accuracy', 'EO', 'DP', 'forgetting', 'loss'])\n",
      "dict_keys(['accuracy', 'accuracy_s0', 'accuracy_s1', 'classwise_accuracy', 'EO', 'DP', 'forgetting', 'loss'])\n",
      "dict_keys(['accuracy', 'accuracy_s0', 'accuracy_s1', 'classwise_accuracy', 'EO', 'DP', 'forgetting', 'loss'])\n",
      "dict_keys(['accuracy', 'accuracy_s0', 'accuracy_s1', 'classwise_accuracy', 'EO', 'DP', 'forgetting', 'loss'])\n",
      "dict_keys(['accuracy', 'accuracy_s0', 'accuracy_s1', 'classwise_accuracy', 'EO', 'DP', 'forgetting', 'loss'])\n",
      "lr=0.001_tau=10.0_alpha=0.01_lmbd=0.5_eps=0.07(cnt=5, [0, 1, 2, 3, 4])\n",
      "acc:0.8834943827756803±0.006807110671773251\n",
      "fair:0.0066157705943571555±0.000727581790505732\n",
      "\n",
      "dict_keys(['accuracy', 'accuracy_s0', 'accuracy_s1', 'classwise_accuracy', 'EO', 'DP', 'forgetting', 'loss'])\n",
      "dict_keys(['accuracy', 'accuracy_s0', 'accuracy_s1', 'classwise_accuracy', 'EO', 'DP', 'forgetting', 'loss'])\n",
      "dict_keys(['accuracy', 'accuracy_s0', 'accuracy_s1', 'classwise_accuracy', 'EO', 'DP', 'forgetting', 'loss'])\n",
      "dict_keys(['accuracy', 'accuracy_s0', 'accuracy_s1', 'classwise_accuracy', 'EO', 'DP', 'forgetting', 'loss'])\n",
      "dict_keys(['accuracy', 'accuracy_s0', 'accuracy_s1', 'classwise_accuracy', 'EO', 'DP', 'forgetting', 'loss'])\n",
      "lr=0.001_tau=10.0_alpha=0.01_lmbd=0.5_eps=0.08(cnt=5, [0, 1, 2, 3, 4])\n",
      "acc:0.8834943827756803±0.006807110671773251\n",
      "fair:0.006949502610947326±0.0007309450842883089\n",
      "\n",
      "dict_keys(['accuracy', 'accuracy_s0', 'accuracy_s1', 'classwise_accuracy', 'EO', 'DP', 'forgetting', 'loss'])\n",
      "dict_keys(['accuracy', 'accuracy_s0', 'accuracy_s1', 'classwise_accuracy', 'EO', 'DP', 'forgetting', 'loss'])\n",
      "dict_keys(['accuracy', 'accuracy_s0', 'accuracy_s1', 'classwise_accuracy', 'EO', 'DP', 'forgetting', 'loss'])\n",
      "dict_keys(['accuracy', 'accuracy_s0', 'accuracy_s1', 'classwise_accuracy', 'EO', 'DP', 'forgetting', 'loss'])\n",
      "dict_keys(['accuracy', 'accuracy_s0', 'accuracy_s1', 'classwise_accuracy', 'EO', 'DP', 'forgetting', 'loss'])\n",
      "lr=0.001_tau=10.0_alpha=0.01_lmbd=0.5_eps=0.09(cnt=5, [0, 1, 2, 3, 4])\n",
      "acc:0.8834943827756803±0.006807110671773251\n",
      "fair:0.007222178593496641±0.0008967073504150696\n",
      "\n"
     ]
    },
    {
     "data": {
      "text/plain": [
       "<matplotlib.legend.Legend at 0x7fd8906d11c0>"
      ]
     },
     "execution_count": 28,
     "metadata": {},
     "output_type": "execute_result"
    },
    {
     "data": {
      "image/png": "[encoded data removed]",
      "text/plain": [
       "<Figure size 640x480 with 1 Axes>"
      ]
     },
     "metadata": {},
     "output_type": "display_data"
    }
   ],
   "source": [
    "size = 20\n",
    "\n",
    "dataset = \"BiasedMNIST\"\n",
    "metric = \"DP\"\n",
    "method = \"FSW_eps_fairness\"\n",
    "seed_range = [0, 1, 2, 3, 4]\n",
    "epoch = 15\n",
    "tau_range = [10.0]\n",
    "lr_range = [0.001]\n",
    "alpha_range = [0.01]\n",
    "lambda_range = [0.5]\n",
    "# eps_range = [0.0, 0.05, 0.1, 0.15, 0.2]\n",
    "eps_range = [0.0, 0.01, 0.02, 0.03, 0.04, 0.05]\n",
    "eps_range = [0.0, 0.01, 0.02, 0.03, 0.04, 0.05, 0.06, 0.07, 0.08, 0.09]\n",
    "\n",
    "for i, eps in enumerate(eps_range):\n",
    "    fsw_info_list, fsw_acc_list, fsw_fair_list = get_best(dataset, seed_range, epoch, lr_range, tau_range, alpha_range, lambda_range, method, eps_range=[eps], metric=metric)\n",
    "    plt.scatter(fsw_acc_list, fsw_fair_list, marker='x', s = size, c = color_list[i%10], label=eps)\n",
    "\n",
    "\n",
    "plt.xlabel('acc')\n",
    "if dataset in EER_dataset:\n",
    "    plt.ylabel('eer')\n",
    "else:\n",
    "    if metric is None:\n",
    "        plt.ylabel('eo')\n",
    "    else:\n",
    "        plt.ylabel(metric)\n",
    "plt.legend()\n"
   ]
  },
  {
   "cell_type": "code",
   "execution_count": null,
   "metadata": {},
   "outputs": [],
   "source": []
  },
  {
   "cell_type": "code",
   "execution_count": null,
   "metadata": {},
   "outputs": [],
   "source": []
  },
  {
   "cell_type": "code",
   "execution_count": null,
   "metadata": {},
   "outputs": [],
   "source": []
  },
  {
   "cell_type": "markdown",
   "metadata": {},
   "source": [
    "# Drug"
   ]
  },
  {
   "cell_type": "markdown",
   "metadata": {},
   "source": [
    "## Drug OCS"
   ]
  },
  {
   "cell_type": "code",
   "execution_count": 17,
   "metadata": {},
   "outputs": [
    {
     "name": "stdout",
     "output_type": "stream",
     "text": [
      "dict_keys(['accuracy', 'accuracy_s0', 'accuracy_s1', 'classwise_accuracy', 'EO', 'DP', 'forgetting', 'loss'])\n",
      "dict_keys(['accuracy', 'accuracy_s0', 'accuracy_s1', 'classwise_accuracy', 'EO', 'DP', 'forgetting', 'loss'])\n",
      "dict_keys(['accuracy', 'accuracy_s0', 'accuracy_s1', 'classwise_accuracy', 'EO', 'DP', 'forgetting', 'loss'])\n",
      "dict_keys(['accuracy', 'accuracy_s0', 'accuracy_s1', 'classwise_accuracy', 'EO', 'DP', 'forgetting', 'loss'])\n",
      "dict_keys(['accuracy', 'accuracy_s0', 'accuracy_s1', 'classwise_accuracy', 'EO', 'DP', 'forgetting', 'loss'])\n",
      "lr=0.01_tau=10.0_alpha=0.0_lmbd=0.0_eps=0.0(cnt=5, [0, 1, 2, 3, 4])\n",
      "acc:0.4295747964055224±0.006799928629064288\n",
      "fair:0.07948353295485958±0.019314230626567216\n",
      "\n"
     ]
    },
    {
     "data": {
      "text/plain": [
       "<matplotlib.legend.Legend at 0x7fd89a48ed90>"
      ]
     },
     "execution_count": 17,
     "metadata": {},
     "output_type": "execute_result"
    },
    {
     "data": {
      "image/png": "[encoded data removed]",
      "text/plain": [
       "<Figure size 640x480 with 1 Axes>"
      ]
     },
     "metadata": {},
     "output_type": "display_data"
    }
   ],
   "source": [
    "size = 20\n",
    "\n",
    "dataset = \"Drug\"\n",
    "metric = \"DP\"\n",
    "method = \"OCS\"\n",
    "seed_range = [0, 1, 2, 3, 4]\n",
    "epoch = 25\n",
    "tau_range = [10.0]\n",
    "lr_range = [0.01]\n",
    "alpha_range = [0.0]\n",
    "lambda_range = [0.0]\n",
    "# eps_range = [0.0, 0.05, 0.1, 0.15, 0.2]\n",
    "eps_range = [0.0, 0.01, 0.02, 0.03, 0.04, 0.05]\n",
    "\n",
    "fsw_info_list, fsw_acc_list, fsw_fair_list = get_best(dataset, seed_range, epoch, lr_range, tau_range, alpha_range, lambda_range, method, metric=metric)\n",
    "plt.scatter(fsw_acc_list, fsw_fair_list, marker='x', s = size, c = color_list[i], label=method)\n",
    "\n",
    "\n",
    "plt.xlabel('acc')\n",
    "if dataset in EER_dataset:\n",
    "    plt.ylabel('eer')\n",
    "else:\n",
    "    if metric is None:\n",
    "        plt.ylabel('eo')\n",
    "    else:\n",
    "        plt.ylabel(metric)\n",
    "plt.legend()\n"
   ]
  },
  {
   "cell_type": "code",
   "execution_count": 20,
   "metadata": {},
   "outputs": [
    {
     "name": "stdout",
     "output_type": "stream",
     "text": [
      "dict_keys(['accuracy', 'accuracy_s0', 'accuracy_s1', 'classwise_accuracy', 'EO', 'DP', 'forgetting', 'loss'])\n",
      "dict_keys(['accuracy', 'accuracy_s0', 'accuracy_s1', 'classwise_accuracy', 'EO', 'DP', 'forgetting', 'loss'])\n",
      "dict_keys(['accuracy', 'accuracy_s0', 'accuracy_s1', 'classwise_accuracy', 'EO', 'DP', 'forgetting', 'loss'])\n",
      "dict_keys(['accuracy', 'accuracy_s0', 'accuracy_s1', 'classwise_accuracy', 'EO', 'DP', 'forgetting', 'loss'])\n",
      "dict_keys(['accuracy', 'accuracy_s0', 'accuracy_s1', 'classwise_accuracy', 'EO', 'DP', 'forgetting', 'loss'])\n",
      "lr=0.01_tau=10.0_alpha=0.0_lmbd=0.0_eps=0.0(cnt=5, [0, 1, 2, 3, 4])\n",
      "acc:0.4309395518553109±0.020818753804186\n",
      "fair:0.03259088630251134±0.0072319427456892125\n",
      "\n",
      "dict_keys(['accuracy', 'accuracy_s0', 'accuracy_s1', 'classwise_accuracy', 'EO', 'DP', 'forgetting', 'loss'])\n",
      "dict_keys(['accuracy', 'accuracy_s0', 'accuracy_s1', 'classwise_accuracy', 'EO', 'DP', 'forgetting', 'loss'])\n",
      "dict_keys(['accuracy', 'accuracy_s0', 'accuracy_s1', 'classwise_accuracy', 'EO', 'DP', 'forgetting', 'loss'])\n",
      "dict_keys(['accuracy', 'accuracy_s0', 'accuracy_s1', 'classwise_accuracy', 'EO', 'DP', 'forgetting', 'loss'])\n",
      "dict_keys(['accuracy', 'accuracy_s0', 'accuracy_s1', 'classwise_accuracy', 'EO', 'DP', 'forgetting', 'loss'])\n",
      "lr=0.01_tau=10.0_alpha=0.0_lmbd=0.0_eps=0.01(cnt=5, [0, 1, 2, 3, 4])\n",
      "acc:0.4309395518553109±0.020818753804186\n",
      "fair:0.03532287815726299±0.008753465309164675\n",
      "\n",
      "dict_keys(['accuracy', 'accuracy_s0', 'accuracy_s1', 'classwise_accuracy', 'EO', 'DP', 'forgetting', 'loss'])\n",
      "dict_keys(['accuracy', 'accuracy_s0', 'accuracy_s1', 'classwise_accuracy', 'EO', 'DP', 'forgetting', 'loss'])\n",
      "dict_keys(['accuracy', 'accuracy_s0', 'accuracy_s1', 'classwise_accuracy', 'EO', 'DP', 'forgetting', 'loss'])\n",
      "dict_keys(['accuracy', 'accuracy_s0', 'accuracy_s1', 'classwise_accuracy', 'EO', 'DP', 'forgetting', 'loss'])\n",
      "dict_keys(['accuracy', 'accuracy_s0', 'accuracy_s1', 'classwise_accuracy', 'EO', 'DP', 'forgetting', 'loss'])\n",
      "lr=0.01_tau=10.0_alpha=0.0_lmbd=0.0_eps=0.02(cnt=5, [0, 1, 2, 3, 4])\n",
      "acc:0.4309395518553109±0.020818753804186\n",
      "fair:0.03696225839860965±0.011754396463501331\n",
      "\n",
      "dict_keys(['accuracy', 'accuracy_s0', 'accuracy_s1', 'classwise_accuracy', 'EO', 'DP', 'forgetting', 'loss'])\n",
      "dict_keys(['accuracy', 'accuracy_s0', 'accuracy_s1', 'classwise_accuracy', 'EO', 'DP', 'forgetting', 'loss'])\n",
      "dict_keys(['accuracy', 'accuracy_s0', 'accuracy_s1', 'classwise_accuracy', 'EO', 'DP', 'forgetting', 'loss'])\n",
      "dict_keys(['accuracy', 'accuracy_s0', 'accuracy_s1', 'classwise_accuracy', 'EO', 'DP', 'forgetting', 'loss'])\n",
      "dict_keys(['accuracy', 'accuracy_s0', 'accuracy_s1', 'classwise_accuracy', 'EO', 'DP', 'forgetting', 'loss'])\n",
      "lr=0.01_tau=10.0_alpha=0.0_lmbd=0.0_eps=0.03(cnt=5, [0, 1, 2, 3, 4])\n",
      "acc:0.4309395518553109±0.020818753804186\n",
      "fair:0.038384979172087996±0.012925802166533069\n",
      "\n",
      "dict_keys(['accuracy', 'accuracy_s0', 'accuracy_s1', 'classwise_accuracy', 'EO', 'DP', 'forgetting', 'loss'])\n",
      "dict_keys(['accuracy', 'accuracy_s0', 'accuracy_s1', 'classwise_accuracy', 'EO', 'DP', 'forgetting', 'loss'])\n",
      "dict_keys(['accuracy', 'accuracy_s0', 'accuracy_s1', 'classwise_accuracy', 'EO', 'DP', 'forgetting', 'loss'])\n",
      "dict_keys(['accuracy', 'accuracy_s0', 'accuracy_s1', 'classwise_accuracy', 'EO', 'DP', 'forgetting', 'loss'])\n",
      "dict_keys(['accuracy', 'accuracy_s0', 'accuracy_s1', 'classwise_accuracy', 'EO', 'DP', 'forgetting', 'loss'])\n",
      "lr=0.01_tau=10.0_alpha=0.0_lmbd=0.0_eps=0.04(cnt=5, [0, 1, 2, 3, 4])\n",
      "acc:0.4309395518553109±0.020818753804186\n",
      "fair:0.04087211307356766±0.013107577600782967\n",
      "\n",
      "dict_keys(['accuracy', 'accuracy_s0', 'accuracy_s1', 'classwise_accuracy', 'EO', 'DP', 'forgetting', 'loss'])\n",
      "dict_keys(['accuracy', 'accuracy_s0', 'accuracy_s1', 'classwise_accuracy', 'EO', 'DP', 'forgetting', 'loss'])\n",
      "dict_keys(['accuracy', 'accuracy_s0', 'accuracy_s1', 'classwise_accuracy', 'EO', 'DP', 'forgetting', 'loss'])\n",
      "dict_keys(['accuracy', 'accuracy_s0', 'accuracy_s1', 'classwise_accuracy', 'EO', 'DP', 'forgetting', 'loss'])\n",
      "dict_keys(['accuracy', 'accuracy_s0', 'accuracy_s1', 'classwise_accuracy', 'EO', 'DP', 'forgetting', 'loss'])\n",
      "lr=0.01_tau=10.0_alpha=0.0_lmbd=0.0_eps=0.05(cnt=5, [0, 1, 2, 3, 4])\n",
      "acc:0.4309395518553109±0.020818753804186\n",
      "fair:0.043576768311293486±0.014521622524814043\n",
      "\n"
     ]
    },
    {
     "data": {
      "text/plain": [
       "<matplotlib.legend.Legend at 0x7fd8996ca0d0>"
      ]
     },
     "execution_count": 20,
     "metadata": {},
     "output_type": "execute_result"
    },
    {
     "data": {
      "image/png": "[encoded data removed]",
      "text/plain": [
       "<Figure size 640x480 with 1 Axes>"
      ]
     },
     "metadata": {},
     "output_type": "display_data"
    }
   ],
   "source": [
    "size = 20\n",
    "\n",
    "dataset = \"Drug\"\n",
    "metric = \"DP\"\n",
    "method = \"OCS_eps_fairness\"\n",
    "seed_range = [0, 1, 2, 3, 4]\n",
    "epoch = 25\n",
    "tau_range = [10.0]\n",
    "lr_range = [0.01]\n",
    "alpha_range = [0.0]\n",
    "lambda_range = [0.0]\n",
    "# eps_range = [0.0, 0.05, 0.1, 0.15, 0.2]\n",
    "eps_range = [0.0, 0.01, 0.02, 0.03, 0.04, 0.05]\n",
    "\n",
    "for i, eps in enumerate(eps_range):\n",
    "    fsw_info_list, fsw_acc_list, fsw_fair_list = get_best(dataset, seed_range, epoch, lr_range, tau_range, alpha_range, lambda_range, method, eps_range=[eps], metric=metric)\n",
    "    plt.scatter(fsw_acc_list, fsw_fair_list, marker='x', s = size, c = color_list[i], label=eps)\n",
    "\n",
    "\n",
    "plt.xlabel('acc')\n",
    "if dataset in EER_dataset:\n",
    "    plt.ylabel('eer')\n",
    "else:\n",
    "    if metric is None:\n",
    "        plt.ylabel('eo')\n",
    "    else:\n",
    "        plt.ylabel(metric)\n",
    "plt.legend()\n"
   ]
  },
  {
   "cell_type": "code",
   "execution_count": null,
   "metadata": {},
   "outputs": [],
   "source": []
  },
  {
   "cell_type": "markdown",
   "metadata": {},
   "source": [
    "## Drug iCaRL"
   ]
  },
  {
   "cell_type": "code",
   "execution_count": 21,
   "metadata": {},
   "outputs": [
    {
     "name": "stdout",
     "output_type": "stream",
     "text": [
      "dict_keys(['accuracy', 'accuracy_s0', 'accuracy_s1', 'classwise_accuracy', 'EO', 'DP', 'forgetting', 'loss'])\n",
      "dict_keys(['accuracy', 'accuracy_s0', 'accuracy_s1', 'classwise_accuracy', 'EO', 'DP', 'forgetting', 'loss'])\n",
      "dict_keys(['accuracy', 'accuracy_s0', 'accuracy_s1', 'classwise_accuracy', 'EO', 'DP', 'forgetting', 'loss'])\n",
      "dict_keys(['accuracy', 'accuracy_s0', 'accuracy_s1', 'classwise_accuracy', 'EO', 'DP', 'forgetting', 'loss'])\n",
      "dict_keys(['accuracy', 'accuracy_s0', 'accuracy_s1', 'classwise_accuracy', 'EO', 'DP', 'forgetting', 'loss'])\n",
      "lr=0.1_tau=1.0_alpha=0.0_lmbd=0.0_eps=0.0(cnt=5, [0, 1, 2, 3, 4])\n",
      "acc:0.4579937351660158±0.014099486734600946\n",
      "fair:0.09826862436993855±0.019841093854672417\n",
      "\n"
     ]
    },
    {
     "data": {
      "text/plain": [
       "<matplotlib.legend.Legend at 0x7fd8996eee80>"
      ]
     },
     "execution_count": 21,
     "metadata": {},
     "output_type": "execute_result"
    },
    {
     "data": {
      "image/png": "[encoded data removed]",
      "text/plain": [
       "<Figure size 640x480 with 1 Axes>"
      ]
     },
     "metadata": {},
     "output_type": "display_data"
    }
   ],
   "source": [
    "size = 20\n",
    "\n",
    "dataset = \"Drug\"\n",
    "metric = \"DP\"\n",
    "method = \"iCaRL\"\n",
    "seed_range = [0, 1, 2, 3, 4]\n",
    "epoch = 25\n",
    "tau_range = [1.0]\n",
    "lr_range = [0.1]\n",
    "alpha_range = [0.0]\n",
    "lambda_range = [0.0]\n",
    "\n",
    "fsw_info_list, fsw_acc_list, fsw_fair_list = get_best(dataset, seed_range, epoch, lr_range, tau_range, alpha_range, lambda_range, method, metric=metric)\n",
    "plt.scatter(fsw_acc_list, fsw_fair_list, marker='x', s = size, c = color_list[i], label=method)\n",
    "\n",
    "\n",
    "plt.xlabel('acc')\n",
    "if dataset in EER_dataset:\n",
    "    plt.ylabel('eer')\n",
    "else:\n",
    "    if metric is None:\n",
    "        plt.ylabel('eo')\n",
    "    else:\n",
    "        plt.ylabel(metric)\n",
    "plt.legend()\n"
   ]
  },
  {
   "cell_type": "code",
   "execution_count": 22,
   "metadata": {},
   "outputs": [
    {
     "name": "stdout",
     "output_type": "stream",
     "text": [
      "dict_keys(['accuracy', 'accuracy_s0', 'accuracy_s1', 'classwise_accuracy', 'EO', 'DP', 'forgetting', 'loss'])\n",
      "dict_keys(['accuracy', 'accuracy_s0', 'accuracy_s1', 'classwise_accuracy', 'EO', 'DP', 'forgetting', 'loss'])\n",
      "dict_keys(['accuracy', 'accuracy_s0', 'accuracy_s1', 'classwise_accuracy', 'EO', 'DP', 'forgetting', 'loss'])\n",
      "dict_keys(['accuracy', 'accuracy_s0', 'accuracy_s1', 'classwise_accuracy', 'EO', 'DP', 'forgetting', 'loss'])\n",
      "dict_keys(['accuracy', 'accuracy_s0', 'accuracy_s1', 'classwise_accuracy', 'EO', 'DP', 'forgetting', 'loss'])\n",
      "lr=0.1_tau=1.0_alpha=0.0_lmbd=0.0_eps=0.0(cnt=5, [0, 1, 2, 3, 4])\n",
      "acc:0.46006099854320864±0.014542665850548064\n",
      "fair:0.03516089852387884±0.01294679583411777\n",
      "\n",
      "dict_keys(['accuracy', 'accuracy_s0', 'accuracy_s1', 'classwise_accuracy', 'EO', 'DP', 'forgetting', 'loss'])\n",
      "dict_keys(['accuracy', 'accuracy_s0', 'accuracy_s1', 'classwise_accuracy', 'EO', 'DP', 'forgetting', 'loss'])\n",
      "dict_keys(['accuracy', 'accuracy_s0', 'accuracy_s1', 'classwise_accuracy', 'EO', 'DP', 'forgetting', 'loss'])\n",
      "dict_keys(['accuracy', 'accuracy_s0', 'accuracy_s1', 'classwise_accuracy', 'EO', 'DP', 'forgetting', 'loss'])\n",
      "dict_keys(['accuracy', 'accuracy_s0', 'accuracy_s1', 'classwise_accuracy', 'EO', 'DP', 'forgetting', 'loss'])\n",
      "lr=0.1_tau=1.0_alpha=0.0_lmbd=0.0_eps=0.01(cnt=5, [0, 1, 2, 3, 4])\n",
      "acc:0.46006099854320864±0.014542665850548064\n",
      "fair:0.036495539313185534±0.012737984343950456\n",
      "\n",
      "dict_keys(['accuracy', 'accuracy_s0', 'accuracy_s1', 'classwise_accuracy', 'EO', 'DP', 'forgetting', 'loss'])\n",
      "dict_keys(['accuracy', 'accuracy_s0', 'accuracy_s1', 'classwise_accuracy', 'EO', 'DP', 'forgetting', 'loss'])\n",
      "dict_keys(['accuracy', 'accuracy_s0', 'accuracy_s1', 'classwise_accuracy', 'EO', 'DP', 'forgetting', 'loss'])\n",
      "dict_keys(['accuracy', 'accuracy_s0', 'accuracy_s1', 'classwise_accuracy', 'EO', 'DP', 'forgetting', 'loss'])\n",
      "dict_keys(['accuracy', 'accuracy_s0', 'accuracy_s1', 'classwise_accuracy', 'EO', 'DP', 'forgetting', 'loss'])\n",
      "lr=0.1_tau=1.0_alpha=0.0_lmbd=0.0_eps=0.02(cnt=5, [0, 1, 2, 3, 4])\n",
      "acc:0.46006099854320864±0.014542665850548064\n",
      "fair:0.03800322992031734±0.013581576881355207\n",
      "\n",
      "dict_keys(['accuracy', 'accuracy_s0', 'accuracy_s1', 'classwise_accuracy', 'EO', 'DP', 'forgetting', 'loss'])\n",
      "dict_keys(['accuracy', 'accuracy_s0', 'accuracy_s1', 'classwise_accuracy', 'EO', 'DP', 'forgetting', 'loss'])\n",
      "dict_keys(['accuracy', 'accuracy_s0', 'accuracy_s1', 'classwise_accuracy', 'EO', 'DP', 'forgetting', 'loss'])\n",
      "dict_keys(['accuracy', 'accuracy_s0', 'accuracy_s1', 'classwise_accuracy', 'EO', 'DP', 'forgetting', 'loss'])\n",
      "dict_keys(['accuracy', 'accuracy_s0', 'accuracy_s1', 'classwise_accuracy', 'EO', 'DP', 'forgetting', 'loss'])\n",
      "lr=0.1_tau=1.0_alpha=0.0_lmbd=0.0_eps=0.03(cnt=5, [0, 1, 2, 3, 4])\n",
      "acc:0.46006099854320864±0.014542665850548064\n",
      "fair:0.039725624007534474±0.013257866845456323\n",
      "\n",
      "dict_keys(['accuracy', 'accuracy_s0', 'accuracy_s1', 'classwise_accuracy', 'EO', 'DP', 'forgetting', 'loss'])\n",
      "dict_keys(['accuracy', 'accuracy_s0', 'accuracy_s1', 'classwise_accuracy', 'EO', 'DP', 'forgetting', 'loss'])\n",
      "dict_keys(['accuracy', 'accuracy_s0', 'accuracy_s1', 'classwise_accuracy', 'EO', 'DP', 'forgetting', 'loss'])\n",
      "dict_keys(['accuracy', 'accuracy_s0', 'accuracy_s1', 'classwise_accuracy', 'EO', 'DP', 'forgetting', 'loss'])\n",
      "dict_keys(['accuracy', 'accuracy_s0', 'accuracy_s1', 'classwise_accuracy', 'EO', 'DP', 'forgetting', 'loss'])\n",
      "lr=0.1_tau=1.0_alpha=0.0_lmbd=0.0_eps=0.04(cnt=5, [0, 1, 2, 3, 4])\n",
      "acc:0.46006099854320864±0.014542665850548064\n",
      "fair:0.041314223078472975±0.012499495570638583\n",
      "\n",
      "dict_keys(['accuracy', 'accuracy_s0', 'accuracy_s1', 'classwise_accuracy', 'EO', 'DP', 'forgetting', 'loss'])\n",
      "dict_keys(['accuracy', 'accuracy_s0', 'accuracy_s1', 'classwise_accuracy', 'EO', 'DP', 'forgetting', 'loss'])\n",
      "dict_keys(['accuracy', 'accuracy_s0', 'accuracy_s1', 'classwise_accuracy', 'EO', 'DP', 'forgetting', 'loss'])\n",
      "dict_keys(['accuracy', 'accuracy_s0', 'accuracy_s1', 'classwise_accuracy', 'EO', 'DP', 'forgetting', 'loss'])\n",
      "dict_keys(['accuracy', 'accuracy_s0', 'accuracy_s1', 'classwise_accuracy', 'EO', 'DP', 'forgetting', 'loss'])\n",
      "lr=0.1_tau=1.0_alpha=0.0_lmbd=0.0_eps=0.05(cnt=5, [0, 1, 2, 3, 4])\n",
      "acc:0.46006099854320864±0.014542665850548064\n",
      "fair:0.04332360692583775±0.01408885358688856\n",
      "\n"
     ]
    },
    {
     "data": {
      "text/plain": [
       "<matplotlib.legend.Legend at 0x7fd89960a0d0>"
      ]
     },
     "execution_count": 22,
     "metadata": {},
     "output_type": "execute_result"
    },
    {
     "data": {
      "image/png": "[encoded data removed]",
      "text/plain": [
       "<Figure size 640x480 with 1 Axes>"
      ]
     },
     "metadata": {},
     "output_type": "display_data"
    }
   ],
   "source": [
    "size = 20\n",
    "\n",
    "dataset = \"Drug\"\n",
    "metric = \"DP\"\n",
    "method = \"iCaRL_eps_fairness\"\n",
    "seed_range = [0, 1, 2, 3, 4]\n",
    "epoch = 25\n",
    "tau_range = [1.0]\n",
    "lr_range = [0.1]\n",
    "alpha_range = [0.0]\n",
    "lambda_range = [0.0]\n",
    "# eps_range = [0.0, 0.05, 0.1, 0.15, 0.2]\n",
    "eps_range = [0.0, 0.01, 0.02, 0.03, 0.04, 0.05]\n",
    "\n",
    "for i, eps in enumerate(eps_range):\n",
    "    fsw_info_list, fsw_acc_list, fsw_fair_list = get_best(dataset, seed_range, epoch, lr_range, tau_range, alpha_range, lambda_range, method, eps_range=[eps], metric=metric)\n",
    "    plt.scatter(fsw_acc_list, fsw_fair_list, marker='x', s = size, c = color_list[i], label=eps)\n",
    "\n",
    "\n",
    "plt.xlabel('acc')\n",
    "if dataset in EER_dataset:\n",
    "    plt.ylabel('eer')\n",
    "else:\n",
    "    if metric is None:\n",
    "        plt.ylabel('eo')\n",
    "    else:\n",
    "        plt.ylabel(metric)\n",
    "plt.legend()\n"
   ]
  },
  {
   "cell_type": "code",
   "execution_count": null,
   "metadata": {},
   "outputs": [],
   "source": []
  },
  {
   "cell_type": "markdown",
   "metadata": {},
   "source": [
    "## Drug FSW"
   ]
  },
  {
   "cell_type": "code",
   "execution_count": 23,
   "metadata": {},
   "outputs": [
    {
     "name": "stdout",
     "output_type": "stream",
     "text": [
      "dict_keys(['accuracy', 'accuracy_s0', 'accuracy_s1', 'classwise_accuracy', 'EO', 'DP', 'forgetting', 'loss'])\n",
      "dict_keys(['accuracy', 'accuracy_s0', 'accuracy_s1', 'classwise_accuracy', 'EO', 'DP', 'forgetting', 'loss'])\n",
      "dict_keys(['accuracy', 'accuracy_s0', 'accuracy_s1', 'classwise_accuracy', 'EO', 'DP', 'forgetting', 'loss'])\n",
      "dict_keys(['accuracy', 'accuracy_s0', 'accuracy_s1', 'classwise_accuracy', 'EO', 'DP', 'forgetting', 'loss'])\n",
      "dict_keys(['accuracy', 'accuracy_s0', 'accuracy_s1', 'classwise_accuracy', 'EO', 'DP', 'forgetting', 'loss'])\n",
      "lr=0.001_tau=1.0_alpha=0.002_lmbd=0.1_eps=0.0(cnt=5, [0, 1, 2, 3, 4])\n",
      "acc:0.40503464504054626±0.013145151812402308\n",
      "fair:0.04292038961584509±0.0040576032351567\n",
      "\n"
     ]
    },
    {
     "data": {
      "text/plain": [
       "<matplotlib.legend.Legend at 0x7fd8995aaf10>"
      ]
     },
     "execution_count": 23,
     "metadata": {},
     "output_type": "execute_result"
    },
    {
     "data": {
      "image/png": "[encoded data removed]",
      "text/plain": [
       "<Figure size 640x480 with 1 Axes>"
      ]
     },
     "metadata": {},
     "output_type": "display_data"
    }
   ],
   "source": [
    "size = 20\n",
    "\n",
    "dataset = \"Drug\"\n",
    "metric = \"DP\"\n",
    "method = \"FSW\"\n",
    "seed_range = [0, 1, 2, 3, 4]\n",
    "epoch = 25\n",
    "tau_range = [1.0]\n",
    "lr_range = [0.001]\n",
    "alpha_range = [0.002]\n",
    "lambda_range = [0.1]\n",
    "\n",
    "fsw_info_list, fsw_acc_list, fsw_fair_list = get_best(dataset, seed_range, epoch, lr_range, tau_range, alpha_range, lambda_range, method, metric=metric)\n",
    "plt.scatter(fsw_acc_list, fsw_fair_list, marker='x', s = size, c = color_list[i], label=method)\n",
    "\n",
    "\n",
    "plt.xlabel('acc')\n",
    "if dataset in EER_dataset:\n",
    "    plt.ylabel('eer')\n",
    "else:\n",
    "    if metric is None:\n",
    "        plt.ylabel('eo')\n",
    "    else:\n",
    "        plt.ylabel(metric)\n",
    "plt.legend()\n"
   ]
  },
  {
   "cell_type": "code",
   "execution_count": 27,
   "metadata": {},
   "outputs": [
    {
     "name": "stdout",
     "output_type": "stream",
     "text": [
      "dict_keys(['accuracy', 'accuracy_s0', 'accuracy_s1', 'classwise_accuracy', 'EO', 'DP', 'forgetting', 'loss'])\n",
      "dict_keys(['accuracy', 'accuracy_s0', 'accuracy_s1', 'classwise_accuracy', 'EO', 'DP', 'forgetting', 'loss'])\n",
      "dict_keys(['accuracy', 'accuracy_s0', 'accuracy_s1', 'classwise_accuracy', 'EO', 'DP', 'forgetting', 'loss'])\n",
      "dict_keys(['accuracy', 'accuracy_s0', 'accuracy_s1', 'classwise_accuracy', 'EO', 'DP', 'forgetting', 'loss'])\n",
      "dict_keys(['accuracy', 'accuracy_s0', 'accuracy_s1', 'classwise_accuracy', 'EO', 'DP', 'forgetting', 'loss'])\n",
      "lr=0.001_tau=1.0_alpha=0.002_lmbd=0.1_eps=0.0(cnt=5, [0, 1, 2, 3, 4])\n",
      "acc:0.4033686561382054±0.010095625067811455\n",
      "fair:0.019879402064495462±0.0036464993284389346\n",
      "\n",
      "dict_keys(['accuracy', 'accuracy_s0', 'accuracy_s1', 'classwise_accuracy', 'EO', 'DP', 'forgetting', 'loss'])\n",
      "dict_keys(['accuracy', 'accuracy_s0', 'accuracy_s1', 'classwise_accuracy', 'EO', 'DP', 'forgetting', 'loss'])\n",
      "dict_keys(['accuracy', 'accuracy_s0', 'accuracy_s1', 'classwise_accuracy', 'EO', 'DP', 'forgetting', 'loss'])\n",
      "dict_keys(['accuracy', 'accuracy_s0', 'accuracy_s1', 'classwise_accuracy', 'EO', 'DP', 'forgetting', 'loss'])\n",
      "dict_keys(['accuracy', 'accuracy_s0', 'accuracy_s1', 'classwise_accuracy', 'EO', 'DP', 'forgetting', 'loss'])\n",
      "lr=0.001_tau=1.0_alpha=0.002_lmbd=0.1_eps=0.01(cnt=5, [0, 1, 2, 3, 4])\n",
      "acc:0.4033686561382054±0.010095625067811455\n",
      "fair:0.020253479550947064±0.0038276946849977907\n",
      "\n",
      "dict_keys(['accuracy', 'accuracy_s0', 'accuracy_s1', 'classwise_accuracy', 'EO', 'DP', 'forgetting', 'loss'])\n",
      "dict_keys(['accuracy', 'accuracy_s0', 'accuracy_s1', 'classwise_accuracy', 'EO', 'DP', 'forgetting', 'loss'])\n",
      "dict_keys(['accuracy', 'accuracy_s0', 'accuracy_s1', 'classwise_accuracy', 'EO', 'DP', 'forgetting', 'loss'])\n",
      "dict_keys(['accuracy', 'accuracy_s0', 'accuracy_s1', 'classwise_accuracy', 'EO', 'DP', 'forgetting', 'loss'])\n",
      "dict_keys(['accuracy', 'accuracy_s0', 'accuracy_s1', 'classwise_accuracy', 'EO', 'DP', 'forgetting', 'loss'])\n",
      "lr=0.001_tau=1.0_alpha=0.002_lmbd=0.1_eps=0.02(cnt=5, [0, 1, 2, 3, 4])\n",
      "acc:0.4033686561382054±0.010095625067811455\n",
      "fair:0.020555987278345816±0.0042637254287659085\n",
      "\n",
      "dict_keys(['accuracy', 'accuracy_s0', 'accuracy_s1', 'classwise_accuracy', 'EO', 'DP', 'forgetting', 'loss'])\n",
      "dict_keys(['accuracy', 'accuracy_s0', 'accuracy_s1', 'classwise_accuracy', 'EO', 'DP', 'forgetting', 'loss'])\n",
      "dict_keys(['accuracy', 'accuracy_s0', 'accuracy_s1', 'classwise_accuracy', 'EO', 'DP', 'forgetting', 'loss'])\n",
      "dict_keys(['accuracy', 'accuracy_s0', 'accuracy_s1', 'classwise_accuracy', 'EO', 'DP', 'forgetting', 'loss'])\n",
      "dict_keys(['accuracy', 'accuracy_s0', 'accuracy_s1', 'classwise_accuracy', 'EO', 'DP', 'forgetting', 'loss'])\n",
      "lr=0.001_tau=1.0_alpha=0.002_lmbd=0.1_eps=0.03(cnt=5, [0, 1, 2, 3, 4])\n",
      "acc:0.4033686561382054±0.010095625067811455\n",
      "fair:0.02240404939148734±0.004771987530303755\n",
      "\n",
      "dict_keys(['accuracy', 'accuracy_s0', 'accuracy_s1', 'classwise_accuracy', 'EO', 'DP', 'forgetting', 'loss'])\n",
      "dict_keys(['accuracy', 'accuracy_s0', 'accuracy_s1', 'classwise_accuracy', 'EO', 'DP', 'forgetting', 'loss'])\n",
      "dict_keys(['accuracy', 'accuracy_s0', 'accuracy_s1', 'classwise_accuracy', 'EO', 'DP', 'forgetting', 'loss'])\n",
      "dict_keys(['accuracy', 'accuracy_s0', 'accuracy_s1', 'classwise_accuracy', 'EO', 'DP', 'forgetting', 'loss'])\n",
      "dict_keys(['accuracy', 'accuracy_s0', 'accuracy_s1', 'classwise_accuracy', 'EO', 'DP', 'forgetting', 'loss'])\n",
      "lr=0.001_tau=1.0_alpha=0.002_lmbd=0.1_eps=0.04(cnt=5, [0, 1, 2, 3, 4])\n",
      "acc:0.4033686561382054±0.010095625067811455\n",
      "fair:0.02324912101380202±0.005098440725531642\n",
      "\n",
      "dict_keys(['accuracy', 'accuracy_s0', 'accuracy_s1', 'classwise_accuracy', 'EO', 'DP', 'forgetting', 'loss'])\n",
      "dict_keys(['accuracy', 'accuracy_s0', 'accuracy_s1', 'classwise_accuracy', 'EO', 'DP', 'forgetting', 'loss'])\n",
      "dict_keys(['accuracy', 'accuracy_s0', 'accuracy_s1', 'classwise_accuracy', 'EO', 'DP', 'forgetting', 'loss'])\n",
      "dict_keys(['accuracy', 'accuracy_s0', 'accuracy_s1', 'classwise_accuracy', 'EO', 'DP', 'forgetting', 'loss'])\n",
      "dict_keys(['accuracy', 'accuracy_s0', 'accuracy_s1', 'classwise_accuracy', 'EO', 'DP', 'forgetting', 'loss'])\n",
      "lr=0.001_tau=1.0_alpha=0.002_lmbd=0.1_eps=0.05(cnt=5, [0, 1, 2, 3, 4])\n",
      "acc:0.4033686561382054±0.010095625067811455\n",
      "fair:0.02415279574334911±0.006010362932876857\n",
      "\n"
     ]
    },
    {
     "data": {
      "text/plain": [
       "<matplotlib.legend.Legend at 0x7fd89953df10>"
      ]
     },
     "execution_count": 27,
     "metadata": {},
     "output_type": "execute_result"
    },
    {
     "data": {
      "image/png": "[encoded data removed]",
      "text/plain": [
       "<Figure size 640x480 with 1 Axes>"
      ]
     },
     "metadata": {},
     "output_type": "display_data"
    }
   ],
   "source": [
    "size = 20\n",
    "\n",
    "dataset = \"Drug\"\n",
    "metric = \"DP\"\n",
    "method = \"FSW_eps_fairness\"\n",
    "seed_range = [0, 1, 2, 3, 4]\n",
    "epoch = 25\n",
    "tau_range = [1.0]\n",
    "lr_range = [0.001]\n",
    "alpha_range = [0.002]\n",
    "lambda_range = [0.1]\n",
    "# eps_range = [0.0, 0.05, 0.1, 0.15, 0.2]\n",
    "# eps_range = [0.0, 0.01, 0.02, 0.03, 0.04, 0.05, 0.06, 0.07, 0.08, 0.09, 0.1, 0.13, 0.15, 0.2]\n",
    "eps_range = [0.0, 0.01, 0.02, 0.03, 0.04, 0.05]\n",
    "\n",
    "for i, eps in enumerate(eps_range):\n",
    "    fsw_info_list, fsw_acc_list, fsw_fair_list = get_best(dataset, seed_range, epoch, lr_range, tau_range, alpha_range, lambda_range, method, eps_range=[eps], metric=metric)\n",
    "    plt.scatter(fsw_acc_list, fsw_fair_list, marker='x', s = size, c = color_list[i%10], label=eps)\n",
    "\n",
    "\n",
    "plt.xlabel('acc')\n",
    "if dataset in EER_dataset:\n",
    "    plt.ylabel('eer')\n",
    "else:\n",
    "    if metric is None:\n",
    "        plt.ylabel('eo')\n",
    "    else:\n",
    "        plt.ylabel(metric)\n",
    "plt.legend()\n"
   ]
  },
  {
   "cell_type": "code",
   "execution_count": null,
   "metadata": {},
   "outputs": [],
   "source": []
  }
 ],
 "metadata": {
  "kernelspec": {
   "display_name": "cil",
   "language": "python",
   "name": "python3"
  },
  "language_info": {
   "codemirror_mode": {
    "name": "ipython",
    "version": 3
   },
   "file_extension": ".py",
   "mimetype": "text/x-python",
   "name": "python",
   "nbconvert_exporter": "python",
   "pygments_lexer": "ipython3",
   "version": "3.9.18"
  }
 },
 "nbformat": 4,
 "nbformat_minor": 2
}
